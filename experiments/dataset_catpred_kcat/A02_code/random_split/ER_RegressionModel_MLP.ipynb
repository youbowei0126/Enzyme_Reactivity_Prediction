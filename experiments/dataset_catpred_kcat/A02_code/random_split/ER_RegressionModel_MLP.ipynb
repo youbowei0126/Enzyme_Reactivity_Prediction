{
 "cells": [
  {
   "cell_type": "code",
   "execution_count": 1,
   "metadata": {},
   "outputs": [],
   "source": [
    "import pandas as pd\n",
    "import numpy as np\n",
    "from tqdm import tqdm\n",
    "import torch\n",
    "import torch.nn as nn\n",
    "import torch.optim as optim\n",
    "from torch.utils.data import DataLoader, Dataset\n",
    "from sklearn.metrics import roc_auc_score\n",
    "from sklearn.model_selection import train_test_split\n",
    "import os\n"
   ]
  },
  {
   "cell_type": "code",
   "execution_count": 2,
   "metadata": {},
   "outputs": [
    {
     "data": {
      "text/html": [
       "<div>\n",
       "<style scoped>\n",
       "    .dataframe tbody tr th:only-of-type {\n",
       "        vertical-align: middle;\n",
       "    }\n",
       "\n",
       "    .dataframe tbody tr th {\n",
       "        vertical-align: top;\n",
       "    }\n",
       "\n",
       "    .dataframe thead th {\n",
       "        text-align: right;\n",
       "    }\n",
       "</style>\n",
       "<table border=\"1\" class=\"dataframe\">\n",
       "  <thead>\n",
       "    <tr style=\"text-align: right;\">\n",
       "      <th></th>\n",
       "      <th>Sequence</th>\n",
       "      <th>sequence_source</th>\n",
       "      <th>uniprot</th>\n",
       "      <th>Smiles</th>\n",
       "      <th>value</th>\n",
       "      <th>ec</th>\n",
       "      <th>log10_value</th>\n",
       "      <th>reactant_smiles</th>\n",
       "      <th>product_smiles</th>\n",
       "      <th>log10kcat_max</th>\n",
       "      <th>metabolite_features</th>\n",
       "      <th>protein_features</th>\n",
       "    </tr>\n",
       "  </thead>\n",
       "  <tbody>\n",
       "    <tr>\n",
       "      <th>0</th>\n",
       "      <td>MEPGSKSVSRSDWQPEPHQRPITPLEPGPEKTPIAQPESKTLQGSN...</td>\n",
       "      <td>sabio</td>\n",
       "      <td>Q05469</td>\n",
       "      <td>CCC(=O)OCC(COC(=O)CC)OC(=O)CC.O&gt;&gt;CCC(=O)O.CCC(...</td>\n",
       "      <td>7.00</td>\n",
       "      <td>3.1.1.1</td>\n",
       "      <td>0.845098</td>\n",
       "      <td>CCC(=O)OCC(COC(=O)CC)OC(=O)CC.O</td>\n",
       "      <td>CCC(=O)O.CCC(=O)OCC(CO)OC(=O)CC</td>\n",
       "      <td>0.845098</td>\n",
       "      <td>[0.25240317, -0.45278314, -0.76844007, 0.04716...</td>\n",
       "      <td>[-0.06076221, -0.21264695, -0.05684641, 0.0163...</td>\n",
       "    </tr>\n",
       "    <tr>\n",
       "      <th>1</th>\n",
       "      <td>MLLAQRRLISLGCRSKPIKTIYSSSKVLGLCTSAKMALKFKNAKRI...</td>\n",
       "      <td>brenda</td>\n",
       "      <td>Q71RI9</td>\n",
       "      <td>Nc1ccccc1C(=O)C[C@H](N)C(=O)O.O=C(O)C(=O)Cc1cc...</td>\n",
       "      <td>1.48</td>\n",
       "      <td>2.6.1.7</td>\n",
       "      <td>0.170262</td>\n",
       "      <td>Nc1ccccc1C(=O)C[C@H](N)C(=O)O.O=C(O)C(=O)Cc1cc...</td>\n",
       "      <td>N[C@@H](Cc1ccc(O)cc1)C(=O)O.O=C(O)c1cc(=O)c2cc...</td>\n",
       "      <td>0.170262</td>\n",
       "      <td>[0.066915624, -0.15937805, -0.7076091, 0.12864...</td>\n",
       "      <td>[-0.051194582, -0.07116077, 0.16383636, 0.2113...</td>\n",
       "    </tr>\n",
       "    <tr>\n",
       "      <th>2</th>\n",
       "      <td>MPIIQMNLLEGRTVEQKRNAVAAITEAVVRTLDVRPDQVRILINEL...</td>\n",
       "      <td>brenda</td>\n",
       "      <td>A2SL37</td>\n",
       "      <td>C/C(=C\\C=C(/O)C(=O)O)C(=O)O&gt;&gt;CC(/C=C/C(=O)C(=O...</td>\n",
       "      <td>3.40</td>\n",
       "      <td>5.3.2.6</td>\n",
       "      <td>0.531479</td>\n",
       "      <td>C/C(=C\\C=C(/O)C(=O)O)C(=O)O</td>\n",
       "      <td>CC(/C=C/C(=O)C(=O)O)C(=O)O</td>\n",
       "      <td>2.029384</td>\n",
       "      <td>[0.23911352, 0.011175589, -0.35101113, 0.15938...</td>\n",
       "      <td>[-0.1772431, -0.06500952, 0.18246448, -0.05431...</td>\n",
       "    </tr>\n",
       "    <tr>\n",
       "      <th>3</th>\n",
       "      <td>MKEAGILFEELVSIMEKLRSPEGCEWDRKQTHESLKPYLIEECYEL...</td>\n",
       "      <td>brenda</td>\n",
       "      <td>Q9X015</td>\n",
       "      <td>N=c1nc(O)c2ncn([C@@H]3O[C@H](COP(=O)(O)OP(=O)(...</td>\n",
       "      <td>0.69</td>\n",
       "      <td>3.6.1.9</td>\n",
       "      <td>-0.161151</td>\n",
       "      <td>N=c1nc(O)c2ncn([C@@H]3O[C@H](COP(=O)(O)OP(=O)(...</td>\n",
       "      <td>N=c1nc(O)c2ncn([C@@H]3O[C@H](COP(=O)(O)OP(=O)(...</td>\n",
       "      <td>-0.161151</td>\n",
       "      <td>[0.078591675, -0.15656142, -0.55292135, -0.245...</td>\n",
       "      <td>[-0.09246727, -0.033019878, 0.10869139, 0.2953...</td>\n",
       "    </tr>\n",
       "    <tr>\n",
       "      <th>4</th>\n",
       "      <td>MGQEKLYIEKELSWLSFNERVLQEAADKSNPLIERMRFLGIYSNNL...</td>\n",
       "      <td>sabio</td>\n",
       "      <td>P0A7B1</td>\n",
       "      <td>O=c1ccn(C2OC(COP(=O)(O)OP(=O)(O)O)C(O)C2O)c(=O...</td>\n",
       "      <td>420.00</td>\n",
       "      <td>2.7.4.1</td>\n",
       "      <td>2.623249</td>\n",
       "      <td>O=c1ccn(C2OC(COP(=O)(O)OP(=O)(O)O)C(O)C2O)c(=O...</td>\n",
       "      <td>O=c1ccn(C2OC(COP(=O)(O)OP(=O)(O)OP(=O)(O)O)C(O...</td>\n",
       "      <td>2.623249</td>\n",
       "      <td>[0.00051207165, -0.7151457, -0.95394605, -0.15...</td>\n",
       "      <td>[-0.06592023, -0.062496405, -0.012068139, 0.06...</td>\n",
       "    </tr>\n",
       "  </tbody>\n",
       "</table>\n",
       "</div>"
      ],
      "text/plain": [
       "                                            Sequence sequence_source uniprot  \\\n",
       "0  MEPGSKSVSRSDWQPEPHQRPITPLEPGPEKTPIAQPESKTLQGSN...           sabio  Q05469   \n",
       "1  MLLAQRRLISLGCRSKPIKTIYSSSKVLGLCTSAKMALKFKNAKRI...          brenda  Q71RI9   \n",
       "2  MPIIQMNLLEGRTVEQKRNAVAAITEAVVRTLDVRPDQVRILINEL...          brenda  A2SL37   \n",
       "3  MKEAGILFEELVSIMEKLRSPEGCEWDRKQTHESLKPYLIEECYEL...          brenda  Q9X015   \n",
       "4  MGQEKLYIEKELSWLSFNERVLQEAADKSNPLIERMRFLGIYSNNL...           sabio  P0A7B1   \n",
       "\n",
       "                                              Smiles   value       ec  \\\n",
       "0  CCC(=O)OCC(COC(=O)CC)OC(=O)CC.O>>CCC(=O)O.CCC(...    7.00  3.1.1.1   \n",
       "1  Nc1ccccc1C(=O)C[C@H](N)C(=O)O.O=C(O)C(=O)Cc1cc...    1.48  2.6.1.7   \n",
       "2  C/C(=C\\C=C(/O)C(=O)O)C(=O)O>>CC(/C=C/C(=O)C(=O...    3.40  5.3.2.6   \n",
       "3  N=c1nc(O)c2ncn([C@@H]3O[C@H](COP(=O)(O)OP(=O)(...    0.69  3.6.1.9   \n",
       "4  O=c1ccn(C2OC(COP(=O)(O)OP(=O)(O)O)C(O)C2O)c(=O...  420.00  2.7.4.1   \n",
       "\n",
       "   log10_value                                    reactant_smiles  \\\n",
       "0     0.845098                    CCC(=O)OCC(COC(=O)CC)OC(=O)CC.O   \n",
       "1     0.170262  Nc1ccccc1C(=O)C[C@H](N)C(=O)O.O=C(O)C(=O)Cc1cc...   \n",
       "2     0.531479                        C/C(=C\\C=C(/O)C(=O)O)C(=O)O   \n",
       "3    -0.161151  N=c1nc(O)c2ncn([C@@H]3O[C@H](COP(=O)(O)OP(=O)(...   \n",
       "4     2.623249  O=c1ccn(C2OC(COP(=O)(O)OP(=O)(O)O)C(O)C2O)c(=O...   \n",
       "\n",
       "                                      product_smiles  log10kcat_max  \\\n",
       "0                    CCC(=O)O.CCC(=O)OCC(CO)OC(=O)CC       0.845098   \n",
       "1  N[C@@H](Cc1ccc(O)cc1)C(=O)O.O=C(O)c1cc(=O)c2cc...       0.170262   \n",
       "2                         CC(/C=C/C(=O)C(=O)O)C(=O)O       2.029384   \n",
       "3  N=c1nc(O)c2ncn([C@@H]3O[C@H](COP(=O)(O)OP(=O)(...      -0.161151   \n",
       "4  O=c1ccn(C2OC(COP(=O)(O)OP(=O)(O)OP(=O)(O)O)C(O...       2.623249   \n",
       "\n",
       "                                 metabolite_features  \\\n",
       "0  [0.25240317, -0.45278314, -0.76844007, 0.04716...   \n",
       "1  [0.066915624, -0.15937805, -0.7076091, 0.12864...   \n",
       "2  [0.23911352, 0.011175589, -0.35101113, 0.15938...   \n",
       "3  [0.078591675, -0.15656142, -0.55292135, -0.245...   \n",
       "4  [0.00051207165, -0.7151457, -0.95394605, -0.15...   \n",
       "\n",
       "                                    protein_features  \n",
       "0  [-0.06076221, -0.21264695, -0.05684641, 0.0163...  \n",
       "1  [-0.051194582, -0.07116077, 0.16383636, 0.2113...  \n",
       "2  [-0.1772431, -0.06500952, 0.18246448, -0.05431...  \n",
       "3  [-0.09246727, -0.033019878, 0.10869139, 0.2953...  \n",
       "4  [-0.06592023, -0.062496405, -0.012068139, 0.06...  "
      ]
     },
     "execution_count": 2,
     "metadata": {},
     "output_type": "execute_result"
    }
   ],
   "source": [
    "import joblib\n",
    "import pandas as pd\n",
    "\n",
    "data_kcat = joblib.load('/Users/pinchichen/2025S lab/AI drug project/Catpred/dataset/kcat_with_features.joblib')\n",
    "data_kcat.head()"
   ]
  },
  {
   "cell_type": "code",
   "execution_count": 3,
   "metadata": {},
   "outputs": [
    {
     "data": {
      "text/html": [
       "<div>\n",
       "<style scoped>\n",
       "    .dataframe tbody tr th:only-of-type {\n",
       "        vertical-align: middle;\n",
       "    }\n",
       "\n",
       "    .dataframe tbody tr th {\n",
       "        vertical-align: top;\n",
       "    }\n",
       "\n",
       "    .dataframe thead th {\n",
       "        text-align: right;\n",
       "    }\n",
       "</style>\n",
       "<table border=\"1\" class=\"dataframe\">\n",
       "  <thead>\n",
       "    <tr style=\"text-align: right;\">\n",
       "      <th></th>\n",
       "      <th>Sequence</th>\n",
       "      <th>sequence_source</th>\n",
       "      <th>uniprot</th>\n",
       "      <th>Smiles</th>\n",
       "      <th>value</th>\n",
       "      <th>ec</th>\n",
       "      <th>log10_value</th>\n",
       "      <th>reactant_smiles</th>\n",
       "      <th>product_smiles</th>\n",
       "      <th>label</th>\n",
       "      <th>metabolite_features</th>\n",
       "      <th>protein_features</th>\n",
       "    </tr>\n",
       "  </thead>\n",
       "  <tbody>\n",
       "    <tr>\n",
       "      <th>0</th>\n",
       "      <td>MEPGSKSVSRSDWQPEPHQRPITPLEPGPEKTPIAQPESKTLQGSN...</td>\n",
       "      <td>sabio</td>\n",
       "      <td>Q05469</td>\n",
       "      <td>CCC(=O)OCC(COC(=O)CC)OC(=O)CC.O&gt;&gt;CCC(=O)O.CCC(...</td>\n",
       "      <td>7.00</td>\n",
       "      <td>3.1.1.1</td>\n",
       "      <td>0.845098</td>\n",
       "      <td>CCC(=O)OCC(COC(=O)CC)OC(=O)CC.O</td>\n",
       "      <td>CCC(=O)O.CCC(=O)OCC(CO)OC(=O)CC</td>\n",
       "      <td>0.845098</td>\n",
       "      <td>[0.25240317, -0.45278314, -0.76844007, 0.04716...</td>\n",
       "      <td>[-0.06076221, -0.21264695, -0.05684641, 0.0163...</td>\n",
       "    </tr>\n",
       "    <tr>\n",
       "      <th>1</th>\n",
       "      <td>MLLAQRRLISLGCRSKPIKTIYSSSKVLGLCTSAKMALKFKNAKRI...</td>\n",
       "      <td>brenda</td>\n",
       "      <td>Q71RI9</td>\n",
       "      <td>Nc1ccccc1C(=O)C[C@H](N)C(=O)O.O=C(O)C(=O)Cc1cc...</td>\n",
       "      <td>1.48</td>\n",
       "      <td>2.6.1.7</td>\n",
       "      <td>0.170262</td>\n",
       "      <td>Nc1ccccc1C(=O)C[C@H](N)C(=O)O.O=C(O)C(=O)Cc1cc...</td>\n",
       "      <td>N[C@@H](Cc1ccc(O)cc1)C(=O)O.O=C(O)c1cc(=O)c2cc...</td>\n",
       "      <td>0.170262</td>\n",
       "      <td>[0.066915624, -0.15937805, -0.7076091, 0.12864...</td>\n",
       "      <td>[-0.051194582, -0.07116077, 0.16383636, 0.2113...</td>\n",
       "    </tr>\n",
       "    <tr>\n",
       "      <th>2</th>\n",
       "      <td>MPIIQMNLLEGRTVEQKRNAVAAITEAVVRTLDVRPDQVRILINEL...</td>\n",
       "      <td>brenda</td>\n",
       "      <td>A2SL37</td>\n",
       "      <td>C/C(=C\\C=C(/O)C(=O)O)C(=O)O&gt;&gt;CC(/C=C/C(=O)C(=O...</td>\n",
       "      <td>3.40</td>\n",
       "      <td>5.3.2.6</td>\n",
       "      <td>0.531479</td>\n",
       "      <td>C/C(=C\\C=C(/O)C(=O)O)C(=O)O</td>\n",
       "      <td>CC(/C=C/C(=O)C(=O)O)C(=O)O</td>\n",
       "      <td>2.029384</td>\n",
       "      <td>[0.23911352, 0.011175589, -0.35101113, 0.15938...</td>\n",
       "      <td>[-0.1772431, -0.06500952, 0.18246448, -0.05431...</td>\n",
       "    </tr>\n",
       "    <tr>\n",
       "      <th>3</th>\n",
       "      <td>MKEAGILFEELVSIMEKLRSPEGCEWDRKQTHESLKPYLIEECYEL...</td>\n",
       "      <td>brenda</td>\n",
       "      <td>Q9X015</td>\n",
       "      <td>N=c1nc(O)c2ncn([C@@H]3O[C@H](COP(=O)(O)OP(=O)(...</td>\n",
       "      <td>0.69</td>\n",
       "      <td>3.6.1.9</td>\n",
       "      <td>-0.161151</td>\n",
       "      <td>N=c1nc(O)c2ncn([C@@H]3O[C@H](COP(=O)(O)OP(=O)(...</td>\n",
       "      <td>N=c1nc(O)c2ncn([C@@H]3O[C@H](COP(=O)(O)OP(=O)(...</td>\n",
       "      <td>-0.161151</td>\n",
       "      <td>[0.078591675, -0.15656142, -0.55292135, -0.245...</td>\n",
       "      <td>[-0.09246727, -0.033019878, 0.10869139, 0.2953...</td>\n",
       "    </tr>\n",
       "    <tr>\n",
       "      <th>4</th>\n",
       "      <td>MGQEKLYIEKELSWLSFNERVLQEAADKSNPLIERMRFLGIYSNNL...</td>\n",
       "      <td>sabio</td>\n",
       "      <td>P0A7B1</td>\n",
       "      <td>O=c1ccn(C2OC(COP(=O)(O)OP(=O)(O)O)C(O)C2O)c(=O...</td>\n",
       "      <td>420.00</td>\n",
       "      <td>2.7.4.1</td>\n",
       "      <td>2.623249</td>\n",
       "      <td>O=c1ccn(C2OC(COP(=O)(O)OP(=O)(O)O)C(O)C2O)c(=O...</td>\n",
       "      <td>O=c1ccn(C2OC(COP(=O)(O)OP(=O)(O)OP(=O)(O)O)C(O...</td>\n",
       "      <td>2.623249</td>\n",
       "      <td>[0.00051207165, -0.7151457, -0.95394605, -0.15...</td>\n",
       "      <td>[-0.06592023, -0.062496405, -0.012068139, 0.06...</td>\n",
       "    </tr>\n",
       "  </tbody>\n",
       "</table>\n",
       "</div>"
      ],
      "text/plain": [
       "                                            Sequence sequence_source uniprot  \\\n",
       "0  MEPGSKSVSRSDWQPEPHQRPITPLEPGPEKTPIAQPESKTLQGSN...           sabio  Q05469   \n",
       "1  MLLAQRRLISLGCRSKPIKTIYSSSKVLGLCTSAKMALKFKNAKRI...          brenda  Q71RI9   \n",
       "2  MPIIQMNLLEGRTVEQKRNAVAAITEAVVRTLDVRPDQVRILINEL...          brenda  A2SL37   \n",
       "3  MKEAGILFEELVSIMEKLRSPEGCEWDRKQTHESLKPYLIEECYEL...          brenda  Q9X015   \n",
       "4  MGQEKLYIEKELSWLSFNERVLQEAADKSNPLIERMRFLGIYSNNL...           sabio  P0A7B1   \n",
       "\n",
       "                                              Smiles   value       ec  \\\n",
       "0  CCC(=O)OCC(COC(=O)CC)OC(=O)CC.O>>CCC(=O)O.CCC(...    7.00  3.1.1.1   \n",
       "1  Nc1ccccc1C(=O)C[C@H](N)C(=O)O.O=C(O)C(=O)Cc1cc...    1.48  2.6.1.7   \n",
       "2  C/C(=C\\C=C(/O)C(=O)O)C(=O)O>>CC(/C=C/C(=O)C(=O...    3.40  5.3.2.6   \n",
       "3  N=c1nc(O)c2ncn([C@@H]3O[C@H](COP(=O)(O)OP(=O)(...    0.69  3.6.1.9   \n",
       "4  O=c1ccn(C2OC(COP(=O)(O)OP(=O)(O)O)C(O)C2O)c(=O...  420.00  2.7.4.1   \n",
       "\n",
       "   log10_value                                    reactant_smiles  \\\n",
       "0     0.845098                    CCC(=O)OCC(COC(=O)CC)OC(=O)CC.O   \n",
       "1     0.170262  Nc1ccccc1C(=O)C[C@H](N)C(=O)O.O=C(O)C(=O)Cc1cc...   \n",
       "2     0.531479                        C/C(=C\\C=C(/O)C(=O)O)C(=O)O   \n",
       "3    -0.161151  N=c1nc(O)c2ncn([C@@H]3O[C@H](COP(=O)(O)OP(=O)(...   \n",
       "4     2.623249  O=c1ccn(C2OC(COP(=O)(O)OP(=O)(O)O)C(O)C2O)c(=O...   \n",
       "\n",
       "                                      product_smiles     label  \\\n",
       "0                    CCC(=O)O.CCC(=O)OCC(CO)OC(=O)CC  0.845098   \n",
       "1  N[C@@H](Cc1ccc(O)cc1)C(=O)O.O=C(O)c1cc(=O)c2cc...  0.170262   \n",
       "2                         CC(/C=C/C(=O)C(=O)O)C(=O)O  2.029384   \n",
       "3  N=c1nc(O)c2ncn([C@@H]3O[C@H](COP(=O)(O)OP(=O)(... -0.161151   \n",
       "4  O=c1ccn(C2OC(COP(=O)(O)OP(=O)(O)OP(=O)(O)O)C(O...  2.623249   \n",
       "\n",
       "                                 metabolite_features  \\\n",
       "0  [0.25240317, -0.45278314, -0.76844007, 0.04716...   \n",
       "1  [0.066915624, -0.15937805, -0.7076091, 0.12864...   \n",
       "2  [0.23911352, 0.011175589, -0.35101113, 0.15938...   \n",
       "3  [0.078591675, -0.15656142, -0.55292135, -0.245...   \n",
       "4  [0.00051207165, -0.7151457, -0.95394605, -0.15...   \n",
       "\n",
       "                                    protein_features  \n",
       "0  [-0.06076221, -0.21264695, -0.05684641, 0.0163...  \n",
       "1  [-0.051194582, -0.07116077, 0.16383636, 0.2113...  \n",
       "2  [-0.1772431, -0.06500952, 0.18246448, -0.05431...  \n",
       "3  [-0.09246727, -0.033019878, 0.10869139, 0.2953...  \n",
       "4  [-0.06592023, -0.062496405, -0.012068139, 0.06...  "
      ]
     },
     "execution_count": 3,
     "metadata": {},
     "output_type": "execute_result"
    }
   ],
   "source": [
    "data_kcat.rename(columns={'log10kcat_max':'label'},inplace=True)\n",
    "data_kcat.head()"
   ]
  },
  {
   "cell_type": "code",
   "execution_count": 4,
   "metadata": {},
   "outputs": [],
   "source": [
    "# Define dataset\n",
    "class MPI_Dataset(Dataset):\n",
    "    def __init__(self, dataframe):\n",
    "        self.dataframe = dataframe\n",
    "\n",
    "    def __len__(self):\n",
    "        return len(self.dataframe)\n",
    "\n",
    "    def __getitem__(self, idx):\n",
    "        row = self.dataframe.iloc[idx]\n",
    "        return {\n",
    "            'metabolite_features': torch.tensor(np.asarray(row['metabolite_features'], dtype=np.float32)),\n",
    "            'protein_features': torch.tensor(np.asarray(row['protein_features'], dtype=np.float32)),\n",
    "            'label': torch.tensor(float(row['label']), dtype=torch.float32),\n",
    "        }"
   ]
  },
  {
   "cell_type": "code",
   "execution_count": 5,
   "metadata": {},
   "outputs": [],
   "source": [
    "# Load data\n",
    "# Assuming `combined_df` is a pandas DataFrame containing all necessary columns\n",
    "train_df, temp_df = train_test_split(data_kcat, test_size=0.3, shuffle=True, random_state=42)\n",
    "val_df, test_df = train_test_split(temp_df, test_size=0.5, shuffle=True, random_state=42)\n",
    "\n",
    "train_dataset = MPI_Dataset(train_df)\n",
    "val_dataset = MPI_Dataset(val_df)\n",
    "test_dataset = MPI_Dataset(test_df)\n",
    "\n",
    "train_loader = DataLoader(train_dataset, batch_size=32, shuffle=True)\n",
    "val_loader = DataLoader(val_dataset, batch_size=32)\n",
    "test_loader = DataLoader(test_dataset, batch_size=32)"
   ]
  },
  {
   "cell_type": "code",
   "execution_count": 6,
   "metadata": {},
   "outputs": [],
   "source": [
    "import torch.nn as nn\n",
    "import torch\n",
    "import torch.nn.functional as F\n",
    "\n",
    "# Define MLP Model for Regression\n",
    "class MLPRegressor(nn.Module):\n",
    "    def __init__(self, mol_input_dim, protein_input_dim, hidden_dim=1):\n",
    "        super(MLPRegressor, self).__init__()\n",
    "\n",
    "        self.mol_encoder = nn.Linear(mol_input_dim, hidden_dim)\n",
    "        self.protein_encoder = nn.Linear(protein_input_dim, hidden_dim)\n",
    "        \n",
    "        # norm layer + Dropout\n",
    "        self.layer_norm = nn.LayerNorm(hidden_dim * 2)\n",
    "        self.dropout = nn.Dropout(0.3)\n",
    "\n",
    "        # hidden layer + output layer\n",
    "        self.hidden = nn.Linear(hidden_dim * 2, hidden_dim)\n",
    "        self.regressor = nn.Linear(hidden_dim, 1)\n",
    "\n",
    "        self.activation = nn.ReLU()\n",
    "\n",
    "    def forward(self, mol_input, protein_input):\n",
    "        # Reshape to (B, 1, L) for Conv1d\n",
    "        mol_embedding = self.activation(self.mol_encoder(mol_input))\n",
    "        protein_embedding = self.activation(self.protein_encoder(protein_input))\n",
    "\n",
    "        # Concatenate + Normalize + Dropout\n",
    "        combined = torch.cat((mol_embedding, protein_embedding), dim=-1)\n",
    "        combined = self.layer_norm(combined)\n",
    "        combined = self.dropout(combined)\n",
    "\n",
    "        # Hidden → Regress\n",
    "        hidden_out = self.activation(self.hidden(combined))\n",
    "        output = self.regressor(hidden_out)\n",
    "\n",
    "        return output.squeeze(1)\n"
   ]
  },
  {
   "cell_type": "code",
   "execution_count": 7,
   "metadata": {},
   "outputs": [],
   "source": [
    "# Check CUDA availability\n",
    "device = torch.device(\"cuda\" if torch.cuda.is_available() else \"cpu\")"
   ]
  },
  {
   "cell_type": "code",
   "execution_count": 8,
   "metadata": {},
   "outputs": [
    {
     "name": "stderr",
     "output_type": "stream",
     "text": [
      "Training Epoch 1: 100%|██████████| 507/507 [00:04<00:00, 106.95it/s]\n"
     ]
    },
    {
     "name": "stdout",
     "output_type": "stream",
     "text": [
      "Epoch 0 - Train Loss: 2.5499, Train MSE: 2.5515, Train MAE: 1.2198\n"
     ]
    },
    {
     "name": "stderr",
     "output_type": "stream",
     "text": [
      "/var/folders/yz/c1z6m9_d5d3f80sywjc3rqsc0000gn/T/ipykernel_16830/3008050676.py:91: FutureWarning: The behavior of DataFrame concatenation with empty or all-NA entries is deprecated. In a future version, this will no longer exclude empty or all-NA columns when determining the result dtypes. To retain the old behavior, exclude the relevant entries before the concat operation.\n",
      "  train_history = pd.concat([train_history, pd.DataFrame([new_row])], ignore_index=True)\n"
     ]
    },
    {
     "name": "stdout",
     "output_type": "stream",
     "text": [
      "Epoch 0 - Validation Loss: 2.2669, Validation MSE: 2.2672, Validation MAE: 1.1604\n"
     ]
    },
    {
     "name": "stderr",
     "output_type": "stream",
     "text": [
      "Training Epoch 2: 100%|██████████| 507/507 [00:04<00:00, 103.37it/s]\n",
      "Training Epoch 3: 100%|██████████| 507/507 [00:05<00:00, 91.96it/s] \n",
      "Training Epoch 4: 100%|██████████| 507/507 [00:05<00:00, 91.52it/s] \n",
      "Training Epoch 5: 100%|██████████| 507/507 [00:05<00:00, 86.77it/s] \n",
      "Training Epoch 6: 100%|██████████| 507/507 [00:05<00:00, 92.16it/s] \n",
      "Training Epoch 7: 100%|██████████| 507/507 [00:05<00:00, 92.00it/s] \n",
      "Training Epoch 8: 100%|██████████| 507/507 [00:05<00:00, 90.83it/s] \n",
      "Training Epoch 9: 100%|██████████| 507/507 [00:06<00:00, 80.12it/s]\n",
      "Training Epoch 10: 100%|██████████| 507/507 [00:05<00:00, 94.09it/s] \n",
      "Training Epoch 11: 100%|██████████| 507/507 [00:04<00:00, 118.55it/s]\n"
     ]
    },
    {
     "name": "stdout",
     "output_type": "stream",
     "text": [
      "Epoch 10 - Train Loss: 1.5940, Train MSE: 1.5934, Train MAE: 0.9529\n",
      "Epoch 10 - Validation Loss: 1.6677, Validation MSE: 1.6702, Validation MAE: 0.9756\n"
     ]
    },
    {
     "name": "stderr",
     "output_type": "stream",
     "text": [
      "Training Epoch 12: 100%|██████████| 507/507 [00:04<00:00, 118.41it/s]\n",
      "Training Epoch 13: 100%|██████████| 507/507 [00:04<00:00, 113.74it/s]\n",
      "Training Epoch 14: 100%|██████████| 507/507 [00:05<00:00, 95.88it/s] \n",
      "Training Epoch 15: 100%|██████████| 507/507 [00:04<00:00, 121.82it/s]\n",
      "Training Epoch 16: 100%|██████████| 507/507 [00:04<00:00, 118.97it/s]\n",
      "Training Epoch 17: 100%|██████████| 507/507 [00:03<00:00, 130.46it/s]\n",
      "Training Epoch 18: 100%|██████████| 507/507 [00:04<00:00, 125.51it/s]\n",
      "Training Epoch 19: 100%|██████████| 507/507 [00:04<00:00, 125.83it/s]\n",
      "Training Epoch 20: 100%|██████████| 507/507 [00:04<00:00, 110.90it/s]\n",
      "Training Epoch 21: 100%|██████████| 507/507 [00:04<00:00, 115.78it/s]\n"
     ]
    },
    {
     "name": "stdout",
     "output_type": "stream",
     "text": [
      "Epoch 20 - Train Loss: 1.2255, Train MSE: 1.2268, Train MAE: 0.8305\n",
      "Epoch 20 - Validation Loss: 1.5206, Validation MSE: 1.5238, Validation MAE: 0.9266\n"
     ]
    },
    {
     "name": "stderr",
     "output_type": "stream",
     "text": [
      "Training Epoch 22: 100%|██████████| 507/507 [00:04<00:00, 116.29it/s]\n",
      "Training Epoch 23: 100%|██████████| 507/507 [00:04<00:00, 107.47it/s]\n",
      "Training Epoch 24: 100%|██████████| 507/507 [00:04<00:00, 102.44it/s]\n",
      "Training Epoch 25: 100%|██████████| 507/507 [00:04<00:00, 103.27it/s]\n",
      "Training Epoch 26: 100%|██████████| 507/507 [00:05<00:00, 101.17it/s]\n",
      "Training Epoch 27: 100%|██████████| 507/507 [00:04<00:00, 109.42it/s]\n",
      "Training Epoch 28: 100%|██████████| 507/507 [00:04<00:00, 110.12it/s]\n",
      "Training Epoch 29: 100%|██████████| 507/507 [00:04<00:00, 108.65it/s]\n",
      "Training Epoch 30: 100%|██████████| 507/507 [00:05<00:00, 98.41it/s] \n",
      "Training Epoch 31: 100%|██████████| 507/507 [00:06<00:00, 76.67it/s] \n"
     ]
    },
    {
     "name": "stdout",
     "output_type": "stream",
     "text": [
      "Epoch 30 - Train Loss: 0.9921, Train MSE: 0.9927, Train MAE: 0.7459\n",
      "Epoch 30 - Validation Loss: 1.4560, Validation MSE: 1.4587, Validation MAE: 0.8979\n"
     ]
    },
    {
     "name": "stderr",
     "output_type": "stream",
     "text": [
      "Training Epoch 32: 100%|██████████| 507/507 [00:04<00:00, 102.89it/s]\n",
      "Training Epoch 33: 100%|██████████| 507/507 [00:04<00:00, 104.71it/s]\n",
      "Training Epoch 34: 100%|██████████| 507/507 [00:04<00:00, 105.00it/s]\n",
      "Training Epoch 35: 100%|██████████| 507/507 [00:04<00:00, 101.41it/s]\n",
      "Training Epoch 36: 100%|██████████| 507/507 [00:05<00:00, 101.10it/s]\n",
      "Training Epoch 37: 100%|██████████| 507/507 [00:04<00:00, 105.70it/s]\n",
      "Training Epoch 38: 100%|██████████| 507/507 [00:04<00:00, 108.84it/s]\n",
      "Training Epoch 39: 100%|██████████| 507/507 [00:05<00:00, 96.49it/s] \n",
      "Training Epoch 40: 100%|██████████| 507/507 [00:04<00:00, 107.64it/s]\n",
      "Training Epoch 41: 100%|██████████| 507/507 [00:04<00:00, 103.61it/s]\n"
     ]
    },
    {
     "name": "stdout",
     "output_type": "stream",
     "text": [
      "Epoch 40 - Train Loss: 0.8502, Train MSE: 0.8505, Train MAE: 0.6926\n",
      "Epoch 40 - Validation Loss: 1.3828, Validation MSE: 1.3856, Validation MAE: 0.8758\n"
     ]
    },
    {
     "name": "stderr",
     "output_type": "stream",
     "text": [
      "Training Epoch 42: 100%|██████████| 507/507 [00:04<00:00, 105.00it/s]\n",
      "Training Epoch 43: 100%|██████████| 507/507 [00:04<00:00, 102.50it/s]\n",
      "Training Epoch 44: 100%|██████████| 507/507 [00:05<00:00, 96.44it/s] \n",
      "Training Epoch 45: 100%|██████████| 507/507 [00:04<00:00, 101.41it/s]\n",
      "Training Epoch 46: 100%|██████████| 507/507 [00:04<00:00, 107.78it/s]\n",
      "Training Epoch 47: 100%|██████████| 507/507 [00:05<00:00, 100.38it/s]\n",
      "Training Epoch 48: 100%|██████████| 507/507 [00:05<00:00, 94.85it/s] \n",
      "Training Epoch 49: 100%|██████████| 507/507 [00:04<00:00, 106.73it/s]\n",
      "Training Epoch 50: 100%|██████████| 507/507 [00:04<00:00, 104.14it/s]\n",
      "Training Epoch 51: 100%|██████████| 507/507 [00:05<00:00, 98.50it/s] \n"
     ]
    },
    {
     "name": "stdout",
     "output_type": "stream",
     "text": [
      "Epoch 50 - Train Loss: 0.7449, Train MSE: 0.7441, Train MAE: 0.6449\n",
      "Epoch 50 - Validation Loss: 1.3772, Validation MSE: 1.3806, Validation MAE: 0.8618\n"
     ]
    },
    {
     "name": "stderr",
     "output_type": "stream",
     "text": [
      "Training Epoch 52: 100%|██████████| 507/507 [00:04<00:00, 107.28it/s]\n",
      "Training Epoch 53: 100%|██████████| 507/507 [00:04<00:00, 106.03it/s]\n",
      "Training Epoch 54: 100%|██████████| 507/507 [00:05<00:00, 100.79it/s]\n",
      "Training Epoch 55: 100%|██████████| 507/507 [00:04<00:00, 106.14it/s]\n",
      "Training Epoch 56: 100%|██████████| 507/507 [00:04<00:00, 108.69it/s]\n",
      "Training Epoch 57: 100%|██████████| 507/507 [00:04<00:00, 102.61it/s]\n",
      "Training Epoch 58: 100%|██████████| 507/507 [00:04<00:00, 102.45it/s]\n",
      "Training Epoch 59: 100%|██████████| 507/507 [00:04<00:00, 104.35it/s]\n",
      "Training Epoch 60: 100%|██████████| 507/507 [00:04<00:00, 103.82it/s]\n",
      "Training Epoch 61: 100%|██████████| 507/507 [00:04<00:00, 109.61it/s]\n"
     ]
    },
    {
     "name": "stdout",
     "output_type": "stream",
     "text": [
      "Epoch 60 - Train Loss: 0.6645, Train MSE: 0.6646, Train MAE: 0.6121\n",
      "Epoch 60 - Validation Loss: 1.3697, Validation MSE: 1.3732, Validation MAE: 0.8512\n"
     ]
    },
    {
     "name": "stderr",
     "output_type": "stream",
     "text": [
      "Training Epoch 62: 100%|██████████| 507/507 [00:05<00:00, 99.85it/s] \n",
      "Training Epoch 63: 100%|██████████| 507/507 [00:06<00:00, 83.39it/s] \n",
      "Training Epoch 64: 100%|██████████| 507/507 [00:04<00:00, 105.34it/s]\n",
      "Training Epoch 65: 100%|██████████| 507/507 [00:04<00:00, 105.16it/s]\n",
      "Training Epoch 66: 100%|██████████| 507/507 [00:05<00:00, 101.14it/s]\n",
      "Training Epoch 67: 100%|██████████| 507/507 [00:04<00:00, 107.96it/s]\n",
      "Training Epoch 68: 100%|██████████| 507/507 [00:04<00:00, 110.06it/s]\n",
      "Training Epoch 69: 100%|██████████| 507/507 [00:04<00:00, 107.46it/s]\n",
      "Training Epoch 70: 100%|██████████| 507/507 [00:04<00:00, 104.74it/s]\n",
      "Training Epoch 71: 100%|██████████| 507/507 [00:05<00:00, 94.74it/s] \n"
     ]
    },
    {
     "name": "stdout",
     "output_type": "stream",
     "text": [
      "Epoch 70 - Train Loss: 0.5949, Train MSE: 0.5942, Train MAE: 0.5778\n",
      "Epoch 70 - Validation Loss: 1.3469, Validation MSE: 1.3499, Validation MAE: 0.8408\n"
     ]
    },
    {
     "name": "stderr",
     "output_type": "stream",
     "text": [
      "Training Epoch 72: 100%|██████████| 507/507 [00:05<00:00, 94.03it/s] \n",
      "Training Epoch 73: 100%|██████████| 507/507 [00:05<00:00, 94.60it/s] \n",
      "Training Epoch 74: 100%|██████████| 507/507 [00:05<00:00, 100.08it/s]\n",
      "Training Epoch 75: 100%|██████████| 507/507 [00:05<00:00, 99.54it/s] \n",
      "Training Epoch 76: 100%|██████████| 507/507 [00:04<00:00, 108.31it/s]\n",
      "Training Epoch 77: 100%|██████████| 507/507 [00:04<00:00, 109.04it/s]\n",
      "Training Epoch 78: 100%|██████████| 507/507 [00:04<00:00, 107.03it/s]\n",
      "Training Epoch 79: 100%|██████████| 507/507 [00:04<00:00, 108.68it/s]\n",
      "Training Epoch 80: 100%|██████████| 507/507 [00:06<00:00, 82.36it/s] \n",
      "Training Epoch 81: 100%|██████████| 507/507 [00:04<00:00, 101.90it/s]\n"
     ]
    },
    {
     "name": "stdout",
     "output_type": "stream",
     "text": [
      "Epoch 80 - Train Loss: 0.5393, Train MSE: 0.5395, Train MAE: 0.5493\n",
      "Epoch 80 - Validation Loss: 1.3363, Validation MSE: 1.3397, Validation MAE: 0.8433\n"
     ]
    },
    {
     "name": "stderr",
     "output_type": "stream",
     "text": [
      "Training Epoch 82: 100%|██████████| 507/507 [00:05<00:00, 95.91it/s] \n",
      "Training Epoch 83: 100%|██████████| 507/507 [00:05<00:00, 91.00it/s]\n",
      "Training Epoch 84: 100%|██████████| 507/507 [00:05<00:00, 85.65it/s]\n",
      "Training Epoch 85: 100%|██████████| 507/507 [00:05<00:00, 91.28it/s]\n",
      "Training Epoch 86: 100%|██████████| 507/507 [00:05<00:00, 96.71it/s] \n",
      "Training Epoch 87: 100%|██████████| 507/507 [00:05<00:00, 96.79it/s] \n",
      "Training Epoch 88: 100%|██████████| 507/507 [00:05<00:00, 92.20it/s] \n",
      "Training Epoch 89: 100%|██████████| 507/507 [00:05<00:00, 88.84it/s] \n",
      "Training Epoch 90: 100%|██████████| 507/507 [00:05<00:00, 89.51it/s]\n",
      "Training Epoch 91: 100%|██████████| 507/507 [00:05<00:00, 90.77it/s]\n"
     ]
    },
    {
     "name": "stdout",
     "output_type": "stream",
     "text": [
      "Epoch 90 - Train Loss: 0.5161, Train MSE: 0.5164, Train MAE: 0.5377\n",
      "Epoch 90 - Validation Loss: 1.3567, Validation MSE: 1.3601, Validation MAE: 0.8423\n"
     ]
    },
    {
     "name": "stderr",
     "output_type": "stream",
     "text": [
      "Training Epoch 92: 100%|██████████| 507/507 [00:05<00:00, 88.79it/s]\n",
      "Training Epoch 93: 100%|██████████| 507/507 [00:05<00:00, 96.41it/s] \n",
      "Training Epoch 94: 100%|██████████| 507/507 [00:05<00:00, 97.31it/s] \n",
      "Training Epoch 95: 100%|██████████| 507/507 [00:05<00:00, 95.18it/s] \n",
      "Training Epoch 96: 100%|██████████| 507/507 [00:07<00:00, 68.25it/s]\n",
      "Training Epoch 97: 100%|██████████| 507/507 [00:06<00:00, 78.67it/s]\n",
      "Training Epoch 98: 100%|██████████| 507/507 [00:06<00:00, 78.78it/s]\n",
      "Training Epoch 99: 100%|██████████| 507/507 [00:06<00:00, 80.43it/s]\n",
      "Training Epoch 100: 100%|██████████| 507/507 [00:06<00:00, 81.89it/s]\n",
      "Training Epoch 101: 100%|██████████| 507/507 [00:06<00:00, 80.18it/s]\n"
     ]
    },
    {
     "name": "stdout",
     "output_type": "stream",
     "text": [
      "Epoch 100 - Train Loss: 0.4894, Train MSE: 0.4893, Train MAE: 0.5216\n",
      "Epoch 100 - Validation Loss: 1.3293, Validation MSE: 1.3312, Validation MAE: 0.8355\n"
     ]
    },
    {
     "name": "stderr",
     "output_type": "stream",
     "text": [
      "Training Epoch 102: 100%|██████████| 507/507 [00:06<00:00, 77.11it/s]\n",
      "Training Epoch 103: 100%|██████████| 507/507 [00:06<00:00, 79.95it/s]\n",
      "Training Epoch 104: 100%|██████████| 507/507 [00:06<00:00, 78.12it/s]\n",
      "Training Epoch 105: 100%|██████████| 507/507 [00:06<00:00, 81.42it/s]\n",
      "Training Epoch 106: 100%|██████████| 507/507 [00:06<00:00, 81.99it/s]\n",
      "Training Epoch 107: 100%|██████████| 507/507 [00:06<00:00, 78.84it/s]\n",
      "Training Epoch 108: 100%|██████████| 507/507 [00:06<00:00, 81.12it/s]\n",
      "Training Epoch 109: 100%|██████████| 507/507 [00:06<00:00, 78.41it/s]\n",
      "Training Epoch 110: 100%|██████████| 507/507 [00:06<00:00, 79.24it/s]\n",
      "Training Epoch 111: 100%|██████████| 507/507 [00:06<00:00, 77.47it/s]\n"
     ]
    },
    {
     "name": "stdout",
     "output_type": "stream",
     "text": [
      "Epoch 110 - Train Loss: 0.4601, Train MSE: 0.4601, Train MAE: 0.5050\n",
      "Epoch 110 - Validation Loss: 1.3331, Validation MSE: 1.3354, Validation MAE: 0.8348\n"
     ]
    },
    {
     "name": "stderr",
     "output_type": "stream",
     "text": [
      "Training Epoch 112: 100%|██████████| 507/507 [00:06<00:00, 80.45it/s]\n",
      "Training Epoch 113: 100%|██████████| 507/507 [00:06<00:00, 81.05it/s]\n",
      "Training Epoch 114: 100%|██████████| 507/507 [00:06<00:00, 81.91it/s]\n",
      "Training Epoch 115: 100%|██████████| 507/507 [00:06<00:00, 82.97it/s]\n",
      "Training Epoch 116: 100%|██████████| 507/507 [00:06<00:00, 79.89it/s]\n",
      "Training Epoch 117: 100%|██████████| 507/507 [00:06<00:00, 83.66it/s]\n",
      "Training Epoch 118: 100%|██████████| 507/507 [00:06<00:00, 82.42it/s]\n",
      "Training Epoch 119: 100%|██████████| 507/507 [00:06<00:00, 81.83it/s]\n",
      "Training Epoch 120: 100%|██████████| 507/507 [00:06<00:00, 80.29it/s]\n",
      "Training Epoch 121: 100%|██████████| 507/507 [00:06<00:00, 80.95it/s]\n"
     ]
    },
    {
     "name": "stdout",
     "output_type": "stream",
     "text": [
      "Epoch 120 - Train Loss: 0.4211, Train MSE: 0.4214, Train MAE: 0.4841\n",
      "Epoch 120 - Validation Loss: 1.3192, Validation MSE: 1.3224, Validation MAE: 0.8291\n"
     ]
    },
    {
     "name": "stderr",
     "output_type": "stream",
     "text": [
      "Training Epoch 122: 100%|██████████| 507/507 [00:06<00:00, 82.13it/s]\n",
      "Training Epoch 123: 100%|██████████| 507/507 [00:06<00:00, 82.11it/s]\n",
      "Training Epoch 124: 100%|██████████| 507/507 [00:06<00:00, 82.74it/s]\n",
      "Training Epoch 125: 100%|██████████| 507/507 [00:06<00:00, 80.43it/s]\n",
      "Training Epoch 126: 100%|██████████| 507/507 [00:06<00:00, 81.58it/s]\n",
      "Training Epoch 127: 100%|██████████| 507/507 [00:06<00:00, 82.04it/s]\n",
      "Training Epoch 128: 100%|██████████| 507/507 [00:06<00:00, 81.37it/s]\n",
      "Training Epoch 129: 100%|██████████| 507/507 [00:06<00:00, 78.40it/s]\n",
      "Training Epoch 130: 100%|██████████| 507/507 [00:06<00:00, 83.75it/s]\n",
      "Training Epoch 131: 100%|██████████| 507/507 [00:06<00:00, 79.90it/s]\n"
     ]
    },
    {
     "name": "stdout",
     "output_type": "stream",
     "text": [
      "Epoch 130 - Train Loss: 0.4080, Train MSE: 0.4070, Train MAE: 0.4742\n",
      "Epoch 130 - Validation Loss: 1.3059, Validation MSE: 1.3091, Validation MAE: 0.8229\n"
     ]
    },
    {
     "name": "stderr",
     "output_type": "stream",
     "text": [
      "Training Epoch 132: 100%|██████████| 507/507 [00:06<00:00, 83.30it/s]\n",
      "Training Epoch 133: 100%|██████████| 507/507 [00:06<00:00, 81.93it/s]\n",
      "Training Epoch 134: 100%|██████████| 507/507 [00:06<00:00, 82.99it/s]\n",
      "Training Epoch 135: 100%|██████████| 507/507 [00:06<00:00, 81.79it/s]\n",
      "Training Epoch 136: 100%|██████████| 507/507 [00:06<00:00, 82.81it/s]\n",
      "Training Epoch 137: 100%|██████████| 507/507 [00:06<00:00, 82.63it/s]\n",
      "Training Epoch 138: 100%|██████████| 507/507 [00:06<00:00, 79.31it/s]\n",
      "Training Epoch 139: 100%|██████████| 507/507 [00:05<00:00, 97.44it/s] \n",
      "Training Epoch 140: 100%|██████████| 507/507 [00:05<00:00, 98.37it/s] \n",
      "Training Epoch 141: 100%|██████████| 507/507 [00:05<00:00, 96.92it/s] \n"
     ]
    },
    {
     "name": "stdout",
     "output_type": "stream",
     "text": [
      "Epoch 140 - Train Loss: 0.3939, Train MSE: 0.3939, Train MAE: 0.4654\n",
      "Epoch 140 - Validation Loss: 1.3161, Validation MSE: 1.3192, Validation MAE: 0.8193\n"
     ]
    },
    {
     "name": "stderr",
     "output_type": "stream",
     "text": [
      "Training Epoch 142: 100%|██████████| 507/507 [00:05<00:00, 95.69it/s] \n",
      "Training Epoch 143: 100%|██████████| 507/507 [00:05<00:00, 96.72it/s] \n",
      "Training Epoch 144: 100%|██████████| 507/507 [00:05<00:00, 91.30it/s] \n",
      "Training Epoch 145: 100%|██████████| 507/507 [00:05<00:00, 96.27it/s] \n",
      "Training Epoch 146: 100%|██████████| 507/507 [00:05<00:00, 99.38it/s] \n",
      "Training Epoch 147: 100%|██████████| 507/507 [00:05<00:00, 94.50it/s] \n",
      "Training Epoch 148: 100%|██████████| 507/507 [00:07<00:00, 71.16it/s]\n",
      "Training Epoch 149: 100%|██████████| 507/507 [00:05<00:00, 84.97it/s]\n",
      "Training Epoch 150: 100%|██████████| 507/507 [00:05<00:00, 91.46it/s]\n",
      "Training Epoch 151: 100%|██████████| 507/507 [00:05<00:00, 93.03it/s]\n"
     ]
    },
    {
     "name": "stdout",
     "output_type": "stream",
     "text": [
      "Epoch 150 - Train Loss: 0.3710, Train MSE: 0.3712, Train MAE: 0.4546\n",
      "Epoch 150 - Validation Loss: 1.3246, Validation MSE: 1.3273, Validation MAE: 0.8205\n"
     ]
    },
    {
     "name": "stderr",
     "output_type": "stream",
     "text": [
      "Training Epoch 152: 100%|██████████| 507/507 [00:05<00:00, 93.51it/s] \n",
      "Training Epoch 153: 100%|██████████| 507/507 [00:05<00:00, 96.79it/s] \n",
      "Training Epoch 154: 100%|██████████| 507/507 [00:05<00:00, 92.50it/s]\n",
      "Training Epoch 155: 100%|██████████| 507/507 [00:05<00:00, 99.99it/s] \n",
      "Training Epoch 156: 100%|██████████| 507/507 [00:04<00:00, 116.31it/s]\n",
      "Training Epoch 157: 100%|██████████| 507/507 [00:04<00:00, 114.38it/s]\n",
      "Training Epoch 158: 100%|██████████| 507/507 [00:04<00:00, 114.41it/s]\n",
      "Training Epoch 159: 100%|██████████| 507/507 [00:04<00:00, 112.42it/s]\n",
      "Training Epoch 160: 100%|██████████| 507/507 [00:04<00:00, 116.02it/s]\n",
      "Training Epoch 161: 100%|██████████| 507/507 [00:04<00:00, 116.14it/s]\n"
     ]
    },
    {
     "name": "stdout",
     "output_type": "stream",
     "text": [
      "Epoch 160 - Train Loss: 0.3652, Train MSE: 0.3651, Train MAE: 0.4478\n",
      "Epoch 160 - Validation Loss: 1.2975, Validation MSE: 1.3007, Validation MAE: 0.8174\n"
     ]
    },
    {
     "name": "stderr",
     "output_type": "stream",
     "text": [
      "Training Epoch 162: 100%|██████████| 507/507 [00:04<00:00, 113.56it/s]\n",
      "Training Epoch 163: 100%|██████████| 507/507 [00:04<00:00, 117.51it/s]\n",
      "Training Epoch 164: 100%|██████████| 507/507 [00:04<00:00, 117.41it/s]\n",
      "Training Epoch 165: 100%|██████████| 507/507 [00:04<00:00, 113.18it/s]\n",
      "Training Epoch 166: 100%|██████████| 507/507 [00:04<00:00, 113.75it/s]\n",
      "Training Epoch 167: 100%|██████████| 507/507 [00:04<00:00, 115.04it/s]\n",
      "Training Epoch 168: 100%|██████████| 507/507 [00:04<00:00, 113.43it/s]\n",
      "Training Epoch 169: 100%|██████████| 507/507 [00:04<00:00, 116.38it/s]\n",
      "Training Epoch 170: 100%|██████████| 507/507 [00:04<00:00, 115.29it/s]\n",
      "Training Epoch 171: 100%|██████████| 507/507 [00:04<00:00, 118.19it/s]\n"
     ]
    },
    {
     "name": "stdout",
     "output_type": "stream",
     "text": [
      "Epoch 170 - Train Loss: 0.3448, Train MSE: 0.3448, Train MAE: 0.4366\n",
      "Epoch 170 - Validation Loss: 1.3043, Validation MSE: 1.3073, Validation MAE: 0.8175\n"
     ]
    },
    {
     "name": "stderr",
     "output_type": "stream",
     "text": [
      "Training Epoch 172: 100%|██████████| 507/507 [00:04<00:00, 111.87it/s]\n",
      "Training Epoch 173: 100%|██████████| 507/507 [00:04<00:00, 114.42it/s]\n",
      "Training Epoch 174: 100%|██████████| 507/507 [00:04<00:00, 115.67it/s]\n",
      "Training Epoch 175: 100%|██████████| 507/507 [00:04<00:00, 113.78it/s]\n",
      "Training Epoch 176: 100%|██████████| 507/507 [00:04<00:00, 115.88it/s]\n",
      "Training Epoch 177: 100%|██████████| 507/507 [00:04<00:00, 116.29it/s]\n",
      "Training Epoch 178: 100%|██████████| 507/507 [00:04<00:00, 117.11it/s]\n",
      "Training Epoch 179: 100%|██████████| 507/507 [00:04<00:00, 114.66it/s]\n",
      "Training Epoch 180: 100%|██████████| 507/507 [00:04<00:00, 114.88it/s]\n",
      "Training Epoch 181: 100%|██████████| 507/507 [00:04<00:00, 117.99it/s]\n"
     ]
    },
    {
     "name": "stdout",
     "output_type": "stream",
     "text": [
      "Epoch 180 - Train Loss: 0.3385, Train MSE: 0.3385, Train MAE: 0.4318\n",
      "Epoch 180 - Validation Loss: 1.2982, Validation MSE: 1.3015, Validation MAE: 0.8203\n"
     ]
    },
    {
     "name": "stderr",
     "output_type": "stream",
     "text": [
      "Training Epoch 182: 100%|██████████| 507/507 [00:04<00:00, 111.96it/s]\n",
      "Training Epoch 183: 100%|██████████| 507/507 [00:04<00:00, 114.38it/s]\n",
      "Training Epoch 184: 100%|██████████| 507/507 [00:04<00:00, 112.42it/s]\n",
      "Training Epoch 185: 100%|██████████| 507/507 [00:04<00:00, 111.82it/s]\n",
      "Training Epoch 186: 100%|██████████| 507/507 [00:04<00:00, 117.02it/s]\n",
      "Training Epoch 187: 100%|██████████| 507/507 [00:04<00:00, 117.47it/s]\n",
      "Training Epoch 188: 100%|██████████| 507/507 [00:04<00:00, 112.20it/s]\n",
      "Training Epoch 189: 100%|██████████| 507/507 [00:04<00:00, 116.20it/s]\n",
      "Training Epoch 190: 100%|██████████| 507/507 [00:04<00:00, 114.27it/s]\n",
      "Training Epoch 191: 100%|██████████| 507/507 [00:04<00:00, 117.12it/s]\n"
     ]
    },
    {
     "name": "stdout",
     "output_type": "stream",
     "text": [
      "Epoch 190 - Train Loss: 0.3319, Train MSE: 0.3320, Train MAE: 0.4276\n",
      "Epoch 190 - Validation Loss: 1.2949, Validation MSE: 1.2972, Validation MAE: 0.8130\n"
     ]
    },
    {
     "name": "stderr",
     "output_type": "stream",
     "text": [
      "Training Epoch 192: 100%|██████████| 507/507 [00:04<00:00, 114.95it/s]\n",
      "Training Epoch 193: 100%|██████████| 507/507 [00:04<00:00, 115.95it/s]\n",
      "Training Epoch 194: 100%|██████████| 507/507 [00:04<00:00, 116.37it/s]\n",
      "Training Epoch 195: 100%|██████████| 507/507 [00:04<00:00, 116.09it/s]\n",
      "Training Epoch 196: 100%|██████████| 507/507 [00:04<00:00, 113.89it/s]\n",
      "Training Epoch 197: 100%|██████████| 507/507 [00:04<00:00, 116.05it/s]\n",
      "Training Epoch 198: 100%|██████████| 507/507 [00:04<00:00, 115.73it/s]\n",
      "Training Epoch 199: 100%|██████████| 507/507 [00:04<00:00, 114.27it/s]\n",
      "Training Epoch 200: 100%|██████████| 507/507 [00:04<00:00, 117.68it/s]\n",
      "Training Epoch 201: 100%|██████████| 507/507 [00:04<00:00, 116.97it/s]\n"
     ]
    },
    {
     "name": "stdout",
     "output_type": "stream",
     "text": [
      "Epoch 200 - Train Loss: 0.3080, Train MSE: 0.3081, Train MAE: 0.4128\n",
      "Epoch 200 - Validation Loss: 1.3014, Validation MSE: 1.3044, Validation MAE: 0.8123\n"
     ]
    },
    {
     "name": "stderr",
     "output_type": "stream",
     "text": [
      "Training Epoch 202: 100%|██████████| 507/507 [00:04<00:00, 114.46it/s]\n",
      "Training Epoch 203: 100%|██████████| 507/507 [00:04<00:00, 113.08it/s]\n",
      "Training Epoch 204: 100%|██████████| 507/507 [00:04<00:00, 115.90it/s]\n",
      "Training Epoch 205: 100%|██████████| 507/507 [00:04<00:00, 117.95it/s]\n",
      "Training Epoch 206: 100%|██████████| 507/507 [00:04<00:00, 112.07it/s]\n",
      "Training Epoch 207: 100%|██████████| 507/507 [00:04<00:00, 112.94it/s]\n",
      "Training Epoch 208: 100%|██████████| 507/507 [00:04<00:00, 116.73it/s]\n",
      "Training Epoch 209: 100%|██████████| 507/507 [00:04<00:00, 115.86it/s]\n",
      "Training Epoch 210: 100%|██████████| 507/507 [00:04<00:00, 111.46it/s]\n",
      "Training Epoch 211: 100%|██████████| 507/507 [00:04<00:00, 114.61it/s]\n"
     ]
    },
    {
     "name": "stdout",
     "output_type": "stream",
     "text": [
      "Epoch 210 - Train Loss: 0.3006, Train MSE: 0.3008, Train MAE: 0.4057\n",
      "Epoch 210 - Validation Loss: 1.3009, Validation MSE: 1.3037, Validation MAE: 0.8161\n"
     ]
    },
    {
     "name": "stderr",
     "output_type": "stream",
     "text": [
      "Training Epoch 212: 100%|██████████| 507/507 [00:04<00:00, 114.46it/s]\n",
      "Training Epoch 213: 100%|██████████| 507/507 [00:04<00:00, 114.02it/s]\n",
      "Training Epoch 214: 100%|██████████| 507/507 [00:04<00:00, 117.44it/s]\n",
      "Training Epoch 215: 100%|██████████| 507/507 [00:04<00:00, 116.41it/s]\n",
      "Training Epoch 216: 100%|██████████| 507/507 [00:04<00:00, 115.68it/s]\n",
      "Training Epoch 217: 100%|██████████| 507/507 [00:04<00:00, 115.63it/s]\n",
      "Training Epoch 218: 100%|██████████| 507/507 [00:04<00:00, 117.51it/s]\n",
      "Training Epoch 219: 100%|██████████| 507/507 [00:04<00:00, 116.67it/s]\n",
      "Training Epoch 220: 100%|██████████| 507/507 [00:04<00:00, 114.00it/s]\n",
      "Training Epoch 221: 100%|██████████| 507/507 [00:04<00:00, 114.84it/s]\n"
     ]
    },
    {
     "name": "stdout",
     "output_type": "stream",
     "text": [
      "Epoch 220 - Train Loss: 0.3002, Train MSE: 0.3004, Train MAE: 0.4067\n",
      "Epoch 220 - Validation Loss: 1.3170, Validation MSE: 1.3201, Validation MAE: 0.8167\n"
     ]
    },
    {
     "name": "stderr",
     "output_type": "stream",
     "text": [
      "Training Epoch 222: 100%|██████████| 507/507 [00:04<00:00, 115.12it/s]\n",
      "Training Epoch 223: 100%|██████████| 507/507 [00:04<00:00, 113.89it/s]\n",
      "Training Epoch 224: 100%|██████████| 507/507 [00:04<00:00, 115.59it/s]\n",
      "Training Epoch 225: 100%|██████████| 507/507 [00:04<00:00, 116.04it/s]\n",
      "Training Epoch 226: 100%|██████████| 507/507 [00:04<00:00, 116.82it/s]\n",
      "Training Epoch 227: 100%|██████████| 507/507 [00:04<00:00, 112.54it/s]\n",
      "Training Epoch 228: 100%|██████████| 507/507 [00:04<00:00, 114.98it/s]\n",
      "Training Epoch 229: 100%|██████████| 507/507 [00:04<00:00, 116.91it/s]\n",
      "Training Epoch 230: 100%|██████████| 507/507 [00:04<00:00, 114.44it/s]\n",
      "Training Epoch 231: 100%|██████████| 507/507 [00:04<00:00, 115.13it/s]\n"
     ]
    },
    {
     "name": "stdout",
     "output_type": "stream",
     "text": [
      "Epoch 230 - Train Loss: 0.2879, Train MSE: 0.2880, Train MAE: 0.3979\n",
      "Epoch 230 - Validation Loss: 1.2988, Validation MSE: 1.3010, Validation MAE: 0.8163\n"
     ]
    },
    {
     "name": "stderr",
     "output_type": "stream",
     "text": [
      "Training Epoch 232: 100%|██████████| 507/507 [00:04<00:00, 113.92it/s]\n",
      "Training Epoch 233: 100%|██████████| 507/507 [00:04<00:00, 116.55it/s]\n",
      "Training Epoch 234: 100%|██████████| 507/507 [00:04<00:00, 111.60it/s]\n",
      "Training Epoch 235: 100%|██████████| 507/507 [00:04<00:00, 115.60it/s]\n",
      "Training Epoch 236: 100%|██████████| 507/507 [00:04<00:00, 116.33it/s]\n",
      "Training Epoch 237: 100%|██████████| 507/507 [00:04<00:00, 115.00it/s]\n",
      "Training Epoch 238: 100%|██████████| 507/507 [00:04<00:00, 116.48it/s]\n",
      "Training Epoch 239: 100%|██████████| 507/507 [00:04<00:00, 117.56it/s]\n",
      "Training Epoch 240: 100%|██████████| 507/507 [00:04<00:00, 114.60it/s]\n",
      "Training Epoch 241: 100%|██████████| 507/507 [00:04<00:00, 116.32it/s]\n"
     ]
    },
    {
     "name": "stdout",
     "output_type": "stream",
     "text": [
      "Epoch 240 - Train Loss: 0.2861, Train MSE: 0.2863, Train MAE: 0.3968\n",
      "Epoch 240 - Validation Loss: 1.2860, Validation MSE: 1.2895, Validation MAE: 0.8097\n"
     ]
    },
    {
     "name": "stderr",
     "output_type": "stream",
     "text": [
      "Training Epoch 242: 100%|██████████| 507/507 [00:04<00:00, 115.54it/s]\n",
      "Training Epoch 243: 100%|██████████| 507/507 [00:04<00:00, 115.70it/s]\n",
      "Training Epoch 244: 100%|██████████| 507/507 [00:04<00:00, 110.50it/s]\n",
      "Training Epoch 245: 100%|██████████| 507/507 [00:04<00:00, 116.73it/s]\n",
      "Training Epoch 246: 100%|██████████| 507/507 [00:04<00:00, 112.94it/s]\n",
      "Training Epoch 247: 100%|██████████| 507/507 [00:04<00:00, 110.92it/s]\n",
      "Training Epoch 248: 100%|██████████| 507/507 [00:04<00:00, 116.50it/s]\n",
      "Training Epoch 249: 100%|██████████| 507/507 [00:04<00:00, 114.04it/s]\n",
      "Training Epoch 250: 100%|██████████| 507/507 [00:04<00:00, 117.13it/s]\n",
      "Training Epoch 251: 100%|██████████| 507/507 [00:04<00:00, 113.82it/s]\n"
     ]
    },
    {
     "name": "stdout",
     "output_type": "stream",
     "text": [
      "Epoch 250 - Train Loss: 0.2726, Train MSE: 0.2726, Train MAE: 0.3872\n",
      "Epoch 250 - Validation Loss: 1.2959, Validation MSE: 1.2991, Validation MAE: 0.8080\n"
     ]
    },
    {
     "name": "stderr",
     "output_type": "stream",
     "text": [
      "Training Epoch 252: 100%|██████████| 507/507 [00:04<00:00, 116.41it/s]\n",
      "Training Epoch 253: 100%|██████████| 507/507 [00:04<00:00, 115.15it/s]\n",
      "Training Epoch 254: 100%|██████████| 507/507 [00:04<00:00, 114.48it/s]\n",
      "Training Epoch 255: 100%|██████████| 507/507 [00:04<00:00, 117.66it/s]\n",
      "Training Epoch 256: 100%|██████████| 507/507 [00:04<00:00, 116.45it/s]\n",
      "Training Epoch 257: 100%|██████████| 507/507 [00:04<00:00, 111.05it/s]\n",
      "Training Epoch 258: 100%|██████████| 507/507 [00:04<00:00, 102.91it/s]\n",
      "Training Epoch 259: 100%|██████████| 507/507 [00:04<00:00, 103.22it/s]\n",
      "Training Epoch 260: 100%|██████████| 507/507 [00:04<00:00, 102.33it/s]\n",
      "Training Epoch 261: 100%|██████████| 507/507 [00:04<00:00, 103.33it/s]\n"
     ]
    },
    {
     "name": "stdout",
     "output_type": "stream",
     "text": [
      "Epoch 260 - Train Loss: 0.2588, Train MSE: 0.2588, Train MAE: 0.3783\n",
      "Epoch 260 - Validation Loss: 1.3089, Validation MSE: 1.3115, Validation MAE: 0.8201\n"
     ]
    },
    {
     "name": "stderr",
     "output_type": "stream",
     "text": [
      "Training Epoch 262: 100%|██████████| 507/507 [00:05<00:00, 95.51it/s] \n",
      "Training Epoch 263: 100%|██████████| 507/507 [00:04<00:00, 102.68it/s]\n",
      "Training Epoch 264: 100%|██████████| 507/507 [00:04<00:00, 105.03it/s]\n",
      "Training Epoch 265: 100%|██████████| 507/507 [00:04<00:00, 112.98it/s]\n",
      "Training Epoch 266: 100%|██████████| 507/507 [00:04<00:00, 102.19it/s]\n",
      "Training Epoch 267: 100%|██████████| 507/507 [00:04<00:00, 101.86it/s]\n",
      "Training Epoch 268: 100%|██████████| 507/507 [00:05<00:00, 98.09it/s] \n",
      "Training Epoch 269: 100%|██████████| 507/507 [00:05<00:00, 97.45it/s] \n",
      "Training Epoch 270: 100%|██████████| 507/507 [00:05<00:00, 101.40it/s]\n",
      "Training Epoch 271: 100%|██████████| 507/507 [00:05<00:00, 99.50it/s] \n"
     ]
    },
    {
     "name": "stdout",
     "output_type": "stream",
     "text": [
      "Epoch 270 - Train Loss: 0.2661, Train MSE: 0.2660, Train MAE: 0.3810\n",
      "Epoch 270 - Validation Loss: 1.3086, Validation MSE: 1.3113, Validation MAE: 0.8169\n"
     ]
    },
    {
     "name": "stderr",
     "output_type": "stream",
     "text": [
      "Training Epoch 272: 100%|██████████| 507/507 [00:04<00:00, 105.55it/s]\n",
      "Training Epoch 273: 100%|██████████| 507/507 [00:04<00:00, 104.12it/s]\n",
      "Training Epoch 274: 100%|██████████| 507/507 [00:04<00:00, 109.34it/s]\n",
      "Training Epoch 275: 100%|██████████| 507/507 [00:05<00:00, 99.27it/s] \n",
      "Training Epoch 276: 100%|██████████| 507/507 [00:04<00:00, 104.03it/s]\n",
      "Training Epoch 277: 100%|██████████| 507/507 [00:04<00:00, 104.96it/s]\n",
      "Training Epoch 278: 100%|██████████| 507/507 [00:04<00:00, 105.70it/s]\n",
      "Training Epoch 279: 100%|██████████| 507/507 [00:05<00:00, 98.73it/s] \n",
      "Training Epoch 280: 100%|██████████| 507/507 [00:04<00:00, 107.79it/s]\n",
      "Training Epoch 281: 100%|██████████| 507/507 [00:04<00:00, 111.30it/s]\n"
     ]
    },
    {
     "name": "stdout",
     "output_type": "stream",
     "text": [
      "Epoch 280 - Train Loss: 0.2488, Train MSE: 0.2485, Train MAE: 0.3702\n",
      "Epoch 280 - Validation Loss: 1.2951, Validation MSE: 1.2978, Validation MAE: 0.8084\n"
     ]
    },
    {
     "name": "stderr",
     "output_type": "stream",
     "text": [
      "Training Epoch 282: 100%|██████████| 507/507 [00:04<00:00, 109.28it/s]\n",
      "Training Epoch 283: 100%|██████████| 507/507 [00:04<00:00, 109.77it/s]\n",
      "Training Epoch 284: 100%|██████████| 507/507 [00:04<00:00, 103.11it/s]\n",
      "Training Epoch 285: 100%|██████████| 507/507 [00:04<00:00, 103.60it/s]\n",
      "Training Epoch 286: 100%|██████████| 507/507 [00:04<00:00, 116.12it/s]\n",
      "Training Epoch 287: 100%|██████████| 507/507 [00:04<00:00, 114.96it/s]\n",
      "Training Epoch 288: 100%|██████████| 507/507 [00:06<00:00, 78.94it/s] \n",
      "Training Epoch 289: 100%|██████████| 507/507 [00:06<00:00, 84.35it/s]\n",
      "Training Epoch 290: 100%|██████████| 507/507 [00:05<00:00, 90.38it/s] \n",
      "Training Epoch 291: 100%|██████████| 507/507 [00:05<00:00, 88.82it/s]\n"
     ]
    },
    {
     "name": "stdout",
     "output_type": "stream",
     "text": [
      "Epoch 290 - Train Loss: 0.2509, Train MSE: 0.2510, Train MAE: 0.3710\n",
      "Epoch 290 - Validation Loss: 1.2982, Validation MSE: 1.3011, Validation MAE: 0.8153\n"
     ]
    },
    {
     "name": "stderr",
     "output_type": "stream",
     "text": [
      "Training Epoch 292: 100%|██████████| 507/507 [00:05<00:00, 91.90it/s]\n",
      "Training Epoch 293: 100%|██████████| 507/507 [00:05<00:00, 94.96it/s] \n",
      "Training Epoch 294: 100%|██████████| 507/507 [00:05<00:00, 88.98it/s]\n",
      "Training Epoch 295: 100%|██████████| 507/507 [00:05<00:00, 89.13it/s]\n",
      "Training Epoch 296: 100%|██████████| 507/507 [00:05<00:00, 87.10it/s]\n",
      "Training Epoch 297: 100%|██████████| 507/507 [00:05<00:00, 88.24it/s]\n",
      "Training Epoch 298: 100%|██████████| 507/507 [00:05<00:00, 86.52it/s]\n",
      "Training Epoch 299: 100%|██████████| 507/507 [00:05<00:00, 89.09it/s]\n",
      "Training Epoch 300: 100%|██████████| 507/507 [00:05<00:00, 92.15it/s] \n",
      "Training Epoch 301: 100%|██████████| 507/507 [00:05<00:00, 94.76it/s] \n"
     ]
    },
    {
     "name": "stdout",
     "output_type": "stream",
     "text": [
      "Epoch 300 - Train Loss: 0.2484, Train MSE: 0.2485, Train MAE: 0.3704\n",
      "Epoch 300 - Validation Loss: 1.2754, Validation MSE: 1.2785, Validation MAE: 0.8032\n"
     ]
    },
    {
     "name": "stderr",
     "output_type": "stream",
     "text": [
      "Training Epoch 302: 100%|██████████| 507/507 [00:05<00:00, 91.72it/s]\n",
      "Training Epoch 303: 100%|██████████| 507/507 [00:05<00:00, 92.52it/s] \n",
      "Training Epoch 304: 100%|██████████| 507/507 [00:06<00:00, 77.10it/s]\n",
      "Training Epoch 305: 100%|██████████| 507/507 [00:05<00:00, 96.86it/s] \n",
      "Training Epoch 306: 100%|██████████| 507/507 [00:05<00:00, 96.31it/s] \n",
      "Training Epoch 307: 100%|██████████| 507/507 [00:05<00:00, 98.86it/s] \n",
      "Training Epoch 308: 100%|██████████| 507/507 [00:05<00:00, 97.10it/s] \n",
      "Training Epoch 309: 100%|██████████| 507/507 [00:05<00:00, 99.20it/s] \n",
      "Training Epoch 310: 100%|██████████| 507/507 [00:05<00:00, 97.31it/s] \n",
      "Training Epoch 311: 100%|██████████| 507/507 [00:05<00:00, 98.30it/s] \n"
     ]
    },
    {
     "name": "stdout",
     "output_type": "stream",
     "text": [
      "Epoch 310 - Train Loss: 0.2450, Train MSE: 0.2449, Train MAE: 0.3662\n",
      "Epoch 310 - Validation Loss: 1.2715, Validation MSE: 1.2742, Validation MAE: 0.8012\n"
     ]
    },
    {
     "name": "stderr",
     "output_type": "stream",
     "text": [
      "Training Epoch 312: 100%|██████████| 507/507 [00:05<00:00, 97.94it/s] \n",
      "Training Epoch 313: 100%|██████████| 507/507 [00:05<00:00, 96.80it/s] \n",
      "Training Epoch 314: 100%|██████████| 507/507 [00:05<00:00, 98.96it/s] \n",
      "Training Epoch 315: 100%|██████████| 507/507 [00:05<00:00, 99.72it/s] \n",
      "Training Epoch 316: 100%|██████████| 507/507 [00:05<00:00, 93.80it/s] \n",
      "Training Epoch 317: 100%|██████████| 507/507 [00:05<00:00, 100.84it/s]\n",
      "Training Epoch 318: 100%|██████████| 507/507 [00:05<00:00, 99.15it/s] \n",
      "Training Epoch 319: 100%|██████████| 507/507 [00:05<00:00, 92.68it/s] \n",
      "Training Epoch 320: 100%|██████████| 507/507 [00:05<00:00, 95.94it/s] \n",
      "Training Epoch 321: 100%|██████████| 507/507 [00:05<00:00, 98.51it/s] \n"
     ]
    },
    {
     "name": "stdout",
     "output_type": "stream",
     "text": [
      "Epoch 320 - Train Loss: 0.2394, Train MSE: 0.2395, Train MAE: 0.3634\n",
      "Epoch 320 - Validation Loss: 1.3081, Validation MSE: 1.3119, Validation MAE: 0.8133\n"
     ]
    },
    {
     "name": "stderr",
     "output_type": "stream",
     "text": [
      "Training Epoch 322: 100%|██████████| 507/507 [00:05<00:00, 95.56it/s] \n",
      "Training Epoch 323: 100%|██████████| 507/507 [00:05<00:00, 98.23it/s] \n",
      "Training Epoch 324: 100%|██████████| 507/507 [00:05<00:00, 97.77it/s] \n",
      "Training Epoch 325: 100%|██████████| 507/507 [00:05<00:00, 96.78it/s] \n",
      "Training Epoch 326: 100%|██████████| 507/507 [00:05<00:00, 101.21it/s]\n",
      "Training Epoch 327: 100%|██████████| 507/507 [00:05<00:00, 94.98it/s] \n",
      "Training Epoch 328: 100%|██████████| 507/507 [00:05<00:00, 97.41it/s] \n",
      "Training Epoch 329: 100%|██████████| 507/507 [00:05<00:00, 95.83it/s] \n",
      "Training Epoch 330: 100%|██████████| 507/507 [00:05<00:00, 96.13it/s] \n",
      "Training Epoch 331: 100%|██████████| 507/507 [00:05<00:00, 100.52it/s]\n"
     ]
    },
    {
     "name": "stdout",
     "output_type": "stream",
     "text": [
      "Epoch 330 - Train Loss: 0.2420, Train MSE: 0.2420, Train MAE: 0.3635\n",
      "Epoch 330 - Validation Loss: 1.2825, Validation MSE: 1.2857, Validation MAE: 0.8051\n"
     ]
    },
    {
     "name": "stderr",
     "output_type": "stream",
     "text": [
      "Training Epoch 332: 100%|██████████| 507/507 [00:05<00:00, 98.28it/s] \n",
      "Training Epoch 333: 100%|██████████| 507/507 [00:05<00:00, 97.04it/s] \n",
      "Training Epoch 334: 100%|██████████| 507/507 [00:05<00:00, 99.29it/s] \n",
      "Training Epoch 335: 100%|██████████| 507/507 [00:05<00:00, 100.49it/s]\n",
      "Training Epoch 336: 100%|██████████| 507/507 [00:05<00:00, 93.76it/s] \n",
      "Training Epoch 337: 100%|██████████| 507/507 [00:05<00:00, 100.82it/s]\n",
      "Training Epoch 338: 100%|██████████| 507/507 [00:05<00:00, 98.66it/s] \n",
      "Training Epoch 339: 100%|██████████| 507/507 [00:05<00:00, 95.84it/s] \n",
      "Training Epoch 340: 100%|██████████| 507/507 [00:05<00:00, 98.77it/s] \n",
      "Training Epoch 341: 100%|██████████| 507/507 [00:05<00:00, 93.06it/s] \n"
     ]
    },
    {
     "name": "stdout",
     "output_type": "stream",
     "text": [
      "Epoch 340 - Train Loss: 0.2243, Train MSE: 0.2224, Train MAE: 0.3513\n",
      "Epoch 340 - Validation Loss: 1.2728, Validation MSE: 1.2753, Validation MAE: 0.7993\n"
     ]
    },
    {
     "name": "stderr",
     "output_type": "stream",
     "text": [
      "Training Epoch 342: 100%|██████████| 507/507 [00:05<00:00, 92.77it/s] \n",
      "Training Epoch 343: 100%|██████████| 507/507 [00:05<00:00, 97.76it/s] \n",
      "Training Epoch 344: 100%|██████████| 507/507 [00:05<00:00, 97.06it/s] \n",
      "Training Epoch 345: 100%|██████████| 507/507 [00:05<00:00, 95.83it/s] \n",
      "Training Epoch 346: 100%|██████████| 507/507 [00:05<00:00, 98.28it/s] \n",
      "Training Epoch 347: 100%|██████████| 507/507 [00:05<00:00, 98.32it/s] \n",
      "Training Epoch 348: 100%|██████████| 507/507 [00:05<00:00, 97.78it/s] \n",
      "Training Epoch 349: 100%|██████████| 507/507 [00:05<00:00, 98.47it/s] \n",
      "Training Epoch 350: 100%|██████████| 507/507 [00:05<00:00, 98.36it/s] \n",
      "Training Epoch 351: 100%|██████████| 507/507 [00:05<00:00, 95.43it/s] \n"
     ]
    },
    {
     "name": "stdout",
     "output_type": "stream",
     "text": [
      "Epoch 350 - Train Loss: 0.2205, Train MSE: 0.2206, Train MAE: 0.3497\n",
      "Epoch 350 - Validation Loss: 1.2799, Validation MSE: 1.2829, Validation MAE: 0.8022\n"
     ]
    },
    {
     "name": "stderr",
     "output_type": "stream",
     "text": [
      "Training Epoch 352: 100%|██████████| 507/507 [00:05<00:00, 97.64it/s] \n",
      "Training Epoch 353: 100%|██████████| 507/507 [00:05<00:00, 99.38it/s] \n",
      "Training Epoch 354: 100%|██████████| 507/507 [00:05<00:00, 96.56it/s] \n",
      "Training Epoch 355: 100%|██████████| 507/507 [00:05<00:00, 98.81it/s] \n",
      "Training Epoch 356: 100%|██████████| 507/507 [00:05<00:00, 99.85it/s] \n",
      "Training Epoch 357: 100%|██████████| 507/507 [00:05<00:00, 96.34it/s] \n",
      "Training Epoch 358: 100%|██████████| 507/507 [00:05<00:00, 96.05it/s] \n",
      "Training Epoch 359: 100%|██████████| 507/507 [00:05<00:00, 93.79it/s] \n",
      "Training Epoch 360: 100%|██████████| 507/507 [00:05<00:00, 98.59it/s] \n",
      "Training Epoch 361: 100%|██████████| 507/507 [00:05<00:00, 97.67it/s] \n"
     ]
    },
    {
     "name": "stdout",
     "output_type": "stream",
     "text": [
      "Epoch 360 - Train Loss: 0.2247, Train MSE: 0.2246, Train MAE: 0.3500\n",
      "Epoch 360 - Validation Loss: 1.2816, Validation MSE: 1.2847, Validation MAE: 0.8040\n"
     ]
    },
    {
     "name": "stderr",
     "output_type": "stream",
     "text": [
      "Training Epoch 362: 100%|██████████| 507/507 [00:05<00:00, 93.81it/s] \n",
      "Training Epoch 363: 100%|██████████| 507/507 [00:05<00:00, 97.46it/s] \n",
      "Training Epoch 364: 100%|██████████| 507/507 [00:05<00:00, 97.80it/s] \n",
      "Training Epoch 365: 100%|██████████| 507/507 [00:05<00:00, 95.00it/s] \n",
      "Training Epoch 366: 100%|██████████| 507/507 [00:05<00:00, 93.41it/s] \n",
      "Training Epoch 367: 100%|██████████| 507/507 [00:05<00:00, 94.91it/s] \n",
      "Training Epoch 368: 100%|██████████| 507/507 [00:05<00:00, 95.01it/s] \n",
      "Training Epoch 369: 100%|██████████| 507/507 [00:05<00:00, 97.51it/s] \n",
      "Training Epoch 370: 100%|██████████| 507/507 [00:05<00:00, 97.26it/s] \n",
      "Training Epoch 371: 100%|██████████| 507/507 [00:05<00:00, 93.83it/s] \n"
     ]
    },
    {
     "name": "stdout",
     "output_type": "stream",
     "text": [
      "Epoch 370 - Train Loss: 0.2222, Train MSE: 0.2223, Train MAE: 0.3469\n",
      "Epoch 370 - Validation Loss: 1.2782, Validation MSE: 1.2811, Validation MAE: 0.8023\n"
     ]
    },
    {
     "name": "stderr",
     "output_type": "stream",
     "text": [
      "Training Epoch 372: 100%|██████████| 507/507 [00:05<00:00, 97.53it/s] \n",
      "Training Epoch 373: 100%|██████████| 507/507 [00:05<00:00, 97.07it/s] \n",
      "Training Epoch 374: 100%|██████████| 507/507 [00:05<00:00, 94.12it/s] \n",
      "Training Epoch 375: 100%|██████████| 507/507 [00:05<00:00, 96.54it/s] \n",
      "Training Epoch 376: 100%|██████████| 507/507 [00:05<00:00, 96.26it/s] \n",
      "Training Epoch 377: 100%|██████████| 507/507 [00:05<00:00, 96.12it/s] \n",
      "Training Epoch 378: 100%|██████████| 507/507 [00:05<00:00, 95.69it/s] \n",
      "Training Epoch 379: 100%|██████████| 507/507 [00:05<00:00, 96.84it/s] \n",
      "Training Epoch 380: 100%|██████████| 507/507 [00:05<00:00, 94.07it/s] \n",
      "Training Epoch 381: 100%|██████████| 507/507 [00:05<00:00, 95.91it/s] \n"
     ]
    },
    {
     "name": "stdout",
     "output_type": "stream",
     "text": [
      "Epoch 380 - Train Loss: 0.2095, Train MSE: 0.2095, Train MAE: 0.3416\n",
      "Epoch 380 - Validation Loss: 1.2598, Validation MSE: 1.2631, Validation MAE: 0.8001\n"
     ]
    },
    {
     "name": "stderr",
     "output_type": "stream",
     "text": [
      "Training Epoch 382: 100%|██████████| 507/507 [00:05<00:00, 94.99it/s] \n",
      "Training Epoch 383: 100%|██████████| 507/507 [00:05<00:00, 99.13it/s] \n",
      "Training Epoch 384: 100%|██████████| 507/507 [00:05<00:00, 96.83it/s] \n",
      "Training Epoch 385: 100%|██████████| 507/507 [00:05<00:00, 95.66it/s] \n",
      "Training Epoch 386: 100%|██████████| 507/507 [00:05<00:00, 98.09it/s] \n",
      "Training Epoch 387: 100%|██████████| 507/507 [00:05<00:00, 94.84it/s] \n",
      "Training Epoch 388: 100%|██████████| 507/507 [00:05<00:00, 96.27it/s] \n",
      "Training Epoch 389: 100%|██████████| 507/507 [00:05<00:00, 97.53it/s] \n",
      "Training Epoch 390: 100%|██████████| 507/507 [00:05<00:00, 96.72it/s] \n",
      "Training Epoch 391: 100%|██████████| 507/507 [00:05<00:00, 96.58it/s] \n"
     ]
    },
    {
     "name": "stdout",
     "output_type": "stream",
     "text": [
      "Epoch 390 - Train Loss: 0.2137, Train MSE: 0.2139, Train MAE: 0.3442\n",
      "Epoch 390 - Validation Loss: 1.2854, Validation MSE: 1.2887, Validation MAE: 0.8033\n"
     ]
    },
    {
     "name": "stderr",
     "output_type": "stream",
     "text": [
      "Training Epoch 392: 100%|██████████| 507/507 [00:05<00:00, 95.24it/s] \n",
      "Training Epoch 393: 100%|██████████| 507/507 [00:05<00:00, 97.78it/s] \n",
      "Training Epoch 394: 100%|██████████| 507/507 [00:05<00:00, 97.13it/s] \n",
      "Training Epoch 395: 100%|██████████| 507/507 [00:05<00:00, 98.27it/s] \n",
      "Training Epoch 396: 100%|██████████| 507/507 [00:05<00:00, 96.40it/s] \n",
      "Training Epoch 397: 100%|██████████| 507/507 [00:05<00:00, 95.03it/s] \n",
      "Training Epoch 398: 100%|██████████| 507/507 [00:05<00:00, 99.39it/s] \n",
      "Training Epoch 399: 100%|██████████| 507/507 [00:05<00:00, 96.88it/s] \n",
      "Training Epoch 400: 100%|██████████| 507/507 [00:05<00:00, 96.29it/s] \n",
      "Training Epoch 401: 100%|██████████| 507/507 [00:05<00:00, 96.42it/s] \n"
     ]
    },
    {
     "name": "stdout",
     "output_type": "stream",
     "text": [
      "Epoch 400 - Train Loss: 0.2117, Train MSE: 0.2117, Train MAE: 0.3398\n",
      "Epoch 400 - Validation Loss: 1.2651, Validation MSE: 1.2684, Validation MAE: 0.8017\n"
     ]
    },
    {
     "name": "stderr",
     "output_type": "stream",
     "text": [
      "Training Epoch 402: 100%|██████████| 507/507 [00:05<00:00, 99.01it/s] \n",
      "Training Epoch 403: 100%|██████████| 507/507 [00:05<00:00, 94.52it/s] \n",
      "Training Epoch 404: 100%|██████████| 507/507 [00:05<00:00, 97.64it/s] \n",
      "Training Epoch 405: 100%|██████████| 507/507 [00:05<00:00, 95.43it/s] \n",
      "Training Epoch 406: 100%|██████████| 507/507 [00:05<00:00, 94.54it/s] \n",
      "Training Epoch 407: 100%|██████████| 507/507 [00:05<00:00, 97.04it/s] \n",
      "Training Epoch 408: 100%|██████████| 507/507 [00:05<00:00, 95.89it/s] \n",
      "Training Epoch 409: 100%|██████████| 507/507 [00:05<00:00, 99.20it/s] \n",
      "Training Epoch 410: 100%|██████████| 507/507 [00:05<00:00, 98.03it/s] \n",
      "Training Epoch 411: 100%|██████████| 507/507 [00:05<00:00, 94.60it/s] \n"
     ]
    },
    {
     "name": "stdout",
     "output_type": "stream",
     "text": [
      "Epoch 410 - Train Loss: 0.2052, Train MSE: 0.2053, Train MAE: 0.3384\n",
      "Epoch 410 - Validation Loss: 1.2754, Validation MSE: 1.2786, Validation MAE: 0.8001\n"
     ]
    },
    {
     "name": "stderr",
     "output_type": "stream",
     "text": [
      "Training Epoch 412: 100%|██████████| 507/507 [00:05<00:00, 98.60it/s] \n",
      "Training Epoch 413: 100%|██████████| 507/507 [00:05<00:00, 96.41it/s] \n",
      "Training Epoch 414: 100%|██████████| 507/507 [00:05<00:00, 93.62it/s] \n",
      "Training Epoch 415: 100%|██████████| 507/507 [00:05<00:00, 98.04it/s] \n",
      "Training Epoch 416: 100%|██████████| 507/507 [00:05<00:00, 95.20it/s] \n",
      "Training Epoch 417: 100%|██████████| 507/507 [00:05<00:00, 95.76it/s] \n",
      "Training Epoch 418: 100%|██████████| 507/507 [00:05<00:00, 97.32it/s] \n",
      "Training Epoch 419: 100%|██████████| 507/507 [00:05<00:00, 98.60it/s] \n",
      "Training Epoch 420: 100%|██████████| 507/507 [00:05<00:00, 94.07it/s] \n",
      "Training Epoch 421: 100%|██████████| 507/507 [00:05<00:00, 98.83it/s] \n"
     ]
    },
    {
     "name": "stdout",
     "output_type": "stream",
     "text": [
      "Epoch 420 - Train Loss: 0.2018, Train MSE: 0.2019, Train MAE: 0.3344\n",
      "Epoch 420 - Validation Loss: 1.2879, Validation MSE: 1.2912, Validation MAE: 0.8041\n"
     ]
    },
    {
     "name": "stderr",
     "output_type": "stream",
     "text": [
      "Training Epoch 422: 100%|██████████| 507/507 [00:05<00:00, 98.61it/s] \n",
      "Training Epoch 423: 100%|██████████| 507/507 [00:05<00:00, 97.07it/s] \n",
      "Training Epoch 424: 100%|██████████| 507/507 [00:05<00:00, 96.71it/s] \n",
      "Training Epoch 425: 100%|██████████| 507/507 [00:05<00:00, 95.67it/s] \n",
      "Training Epoch 426: 100%|██████████| 507/507 [00:05<00:00, 95.08it/s] \n",
      "Training Epoch 427: 100%|██████████| 507/507 [00:05<00:00, 96.97it/s] \n",
      "Training Epoch 428: 100%|██████████| 507/507 [00:05<00:00, 97.37it/s] \n",
      "Training Epoch 429: 100%|██████████| 507/507 [00:05<00:00, 95.24it/s] \n",
      "Training Epoch 430: 100%|██████████| 507/507 [00:05<00:00, 96.94it/s] \n",
      "Training Epoch 431: 100%|██████████| 507/507 [00:05<00:00, 98.66it/s] \n"
     ]
    },
    {
     "name": "stdout",
     "output_type": "stream",
     "text": [
      "Epoch 430 - Train Loss: 0.2024, Train MSE: 0.2024, Train MAE: 0.3312\n",
      "Epoch 430 - Validation Loss: 1.2704, Validation MSE: 1.2735, Validation MAE: 0.7974\n"
     ]
    },
    {
     "name": "stderr",
     "output_type": "stream",
     "text": [
      "Training Epoch 432: 100%|██████████| 507/507 [00:05<00:00, 94.36it/s] \n",
      "Training Epoch 433: 100%|██████████| 507/507 [00:05<00:00, 95.75it/s] \n",
      "Training Epoch 434: 100%|██████████| 507/507 [00:05<00:00, 93.25it/s] \n",
      "Training Epoch 435: 100%|██████████| 507/507 [00:05<00:00, 94.15it/s] \n",
      "Training Epoch 436: 100%|██████████| 507/507 [00:05<00:00, 95.85it/s] \n",
      "Training Epoch 437: 100%|██████████| 507/507 [00:05<00:00, 93.39it/s] \n",
      "Training Epoch 438: 100%|██████████| 507/507 [00:05<00:00, 96.62it/s] \n",
      "Training Epoch 439: 100%|██████████| 507/507 [00:05<00:00, 97.18it/s] \n",
      "Training Epoch 440: 100%|██████████| 507/507 [00:05<00:00, 94.63it/s] \n",
      "Training Epoch 441: 100%|██████████| 507/507 [00:05<00:00, 95.68it/s] \n"
     ]
    },
    {
     "name": "stdout",
     "output_type": "stream",
     "text": [
      "Epoch 440 - Train Loss: 0.2007, Train MSE: 0.2008, Train MAE: 0.3338\n",
      "Epoch 440 - Validation Loss: 1.2629, Validation MSE: 1.2653, Validation MAE: 0.7958\n"
     ]
    },
    {
     "name": "stderr",
     "output_type": "stream",
     "text": [
      "Training Epoch 442: 100%|██████████| 507/507 [00:05<00:00, 99.02it/s] \n",
      "Training Epoch 443: 100%|██████████| 507/507 [00:05<00:00, 97.10it/s] \n",
      "Training Epoch 444: 100%|██████████| 507/507 [00:05<00:00, 98.35it/s] \n",
      "Training Epoch 445: 100%|██████████| 507/507 [00:05<00:00, 95.13it/s] \n",
      "Training Epoch 446: 100%|██████████| 507/507 [00:05<00:00, 93.99it/s] \n",
      "Training Epoch 447: 100%|██████████| 507/507 [00:05<00:00, 98.18it/s] \n",
      "Training Epoch 448: 100%|██████████| 507/507 [00:05<00:00, 95.11it/s] \n",
      "Training Epoch 449: 100%|██████████| 507/507 [00:05<00:00, 95.08it/s] \n",
      "Training Epoch 450: 100%|██████████| 507/507 [00:05<00:00, 98.48it/s] \n",
      "Training Epoch 451: 100%|██████████| 507/507 [00:05<00:00, 97.49it/s] \n"
     ]
    },
    {
     "name": "stdout",
     "output_type": "stream",
     "text": [
      "Epoch 450 - Train Loss: 0.2008, Train MSE: 0.2006, Train MAE: 0.3287\n",
      "Epoch 450 - Validation Loss: 1.2661, Validation MSE: 1.2690, Validation MAE: 0.7980\n"
     ]
    },
    {
     "name": "stderr",
     "output_type": "stream",
     "text": [
      "Training Epoch 452: 100%|██████████| 507/507 [00:05<00:00, 95.20it/s] \n",
      "Training Epoch 453: 100%|██████████| 507/507 [00:05<00:00, 96.18it/s] \n",
      "Training Epoch 454: 100%|██████████| 507/507 [00:05<00:00, 97.67it/s] \n",
      "Training Epoch 455: 100%|██████████| 507/507 [00:05<00:00, 98.59it/s] \n",
      "Training Epoch 456: 100%|██████████| 507/507 [00:05<00:00, 98.23it/s] \n",
      "Training Epoch 457: 100%|██████████| 507/507 [00:05<00:00, 95.65it/s] \n",
      "Training Epoch 458: 100%|██████████| 507/507 [00:05<00:00, 96.09it/s] \n",
      "Training Epoch 459: 100%|██████████| 507/507 [00:05<00:00, 99.39it/s] \n",
      "Training Epoch 460: 100%|██████████| 507/507 [00:05<00:00, 95.05it/s] \n",
      "Training Epoch 461: 100%|██████████| 507/507 [00:05<00:00, 98.12it/s] \n"
     ]
    },
    {
     "name": "stdout",
     "output_type": "stream",
     "text": [
      "Epoch 460 - Train Loss: 0.1938, Train MSE: 0.1940, Train MAE: 0.3274\n",
      "Epoch 460 - Validation Loss: 1.2718, Validation MSE: 1.2748, Validation MAE: 0.8014\n"
     ]
    },
    {
     "name": "stderr",
     "output_type": "stream",
     "text": [
      "Training Epoch 462: 100%|██████████| 507/507 [00:05<00:00, 97.98it/s] \n",
      "Training Epoch 463: 100%|██████████| 507/507 [00:05<00:00, 94.10it/s] \n",
      "Training Epoch 464: 100%|██████████| 507/507 [00:05<00:00, 98.59it/s] \n",
      "Training Epoch 465: 100%|██████████| 507/507 [00:05<00:00, 97.45it/s] \n",
      "Training Epoch 466: 100%|██████████| 507/507 [00:05<00:00, 96.58it/s] \n",
      "Training Epoch 467: 100%|██████████| 507/507 [00:05<00:00, 97.81it/s] \n",
      "Training Epoch 468: 100%|██████████| 507/507 [00:05<00:00, 95.62it/s] \n",
      "Training Epoch 469: 100%|██████████| 507/507 [00:05<00:00, 95.74it/s] \n",
      "Training Epoch 470: 100%|██████████| 507/507 [00:05<00:00, 97.53it/s] \n",
      "Training Epoch 471: 100%|██████████| 507/507 [00:05<00:00, 97.81it/s] \n"
     ]
    },
    {
     "name": "stdout",
     "output_type": "stream",
     "text": [
      "Epoch 470 - Train Loss: 0.1954, Train MSE: 0.1952, Train MAE: 0.3243\n",
      "Epoch 470 - Validation Loss: 1.2747, Validation MSE: 1.2781, Validation MAE: 0.7968\n"
     ]
    },
    {
     "name": "stderr",
     "output_type": "stream",
     "text": [
      "Training Epoch 472: 100%|██████████| 507/507 [00:05<00:00, 96.33it/s] \n",
      "Training Epoch 473: 100%|██████████| 507/507 [00:05<00:00, 98.55it/s] \n",
      "Training Epoch 474: 100%|██████████| 507/507 [00:05<00:00, 92.59it/s]\n",
      "Training Epoch 475: 100%|██████████| 507/507 [00:05<00:00, 94.42it/s] \n",
      "Training Epoch 476: 100%|██████████| 507/507 [00:05<00:00, 96.53it/s] \n",
      "Training Epoch 477: 100%|██████████| 507/507 [00:05<00:00, 97.24it/s] \n",
      "Training Epoch 478: 100%|██████████| 507/507 [00:05<00:00, 97.04it/s] \n",
      "Training Epoch 479: 100%|██████████| 507/507 [00:05<00:00, 97.96it/s] \n",
      "Training Epoch 480: 100%|██████████| 507/507 [00:05<00:00, 95.41it/s] \n",
      "Training Epoch 481: 100%|██████████| 507/507 [00:05<00:00, 98.24it/s] \n"
     ]
    },
    {
     "name": "stdout",
     "output_type": "stream",
     "text": [
      "Epoch 480 - Train Loss: 0.1857, Train MSE: 0.1857, Train MAE: 0.3207\n",
      "Epoch 480 - Validation Loss: 1.2714, Validation MSE: 1.2741, Validation MAE: 0.8016\n"
     ]
    },
    {
     "name": "stderr",
     "output_type": "stream",
     "text": [
      "Training Epoch 482: 100%|██████████| 507/507 [00:05<00:00, 97.02it/s] \n",
      "Training Epoch 483: 100%|██████████| 507/507 [00:05<00:00, 96.28it/s] \n",
      "Training Epoch 484: 100%|██████████| 507/507 [00:05<00:00, 97.13it/s] \n",
      "Training Epoch 485: 100%|██████████| 507/507 [00:05<00:00, 99.37it/s] \n",
      "Training Epoch 486: 100%|██████████| 507/507 [00:05<00:00, 94.77it/s] \n",
      "Training Epoch 487: 100%|██████████| 507/507 [00:05<00:00, 98.62it/s] \n",
      "Training Epoch 488: 100%|██████████| 507/507 [00:05<00:00, 95.87it/s] \n",
      "Training Epoch 489: 100%|██████████| 507/507 [00:05<00:00, 95.36it/s] \n",
      "Training Epoch 490: 100%|██████████| 507/507 [00:05<00:00, 98.07it/s] \n",
      "Training Epoch 491: 100%|██████████| 507/507 [00:05<00:00, 96.79it/s] \n"
     ]
    },
    {
     "name": "stdout",
     "output_type": "stream",
     "text": [
      "Epoch 490 - Train Loss: 0.1845, Train MSE: 0.1846, Train MAE: 0.3205\n",
      "Epoch 490 - Validation Loss: 1.2827, Validation MSE: 1.2860, Validation MAE: 0.8046\n"
     ]
    },
    {
     "name": "stderr",
     "output_type": "stream",
     "text": [
      "Training Epoch 492: 100%|██████████| 507/507 [00:05<00:00, 95.73it/s] \n",
      "Training Epoch 493: 100%|██████████| 507/507 [00:05<00:00, 95.16it/s]\n",
      "Training Epoch 494: 100%|██████████| 507/507 [00:05<00:00, 95.51it/s] \n",
      "Training Epoch 495: 100%|██████████| 507/507 [00:05<00:00, 93.77it/s]\n",
      "Training Epoch 496: 100%|██████████| 507/507 [00:05<00:00, 95.92it/s] \n",
      "Training Epoch 497: 100%|██████████| 507/507 [00:05<00:00, 100.37it/s]\n",
      "Training Epoch 498: 100%|██████████| 507/507 [00:05<00:00, 94.36it/s] \n",
      "Training Epoch 499: 100%|██████████| 507/507 [00:05<00:00, 98.08it/s] \n",
      "Training Epoch 500: 100%|██████████| 507/507 [00:05<00:00, 96.49it/s] \n",
      "Training Epoch 501: 100%|██████████| 507/507 [00:05<00:00, 95.53it/s] \n"
     ]
    },
    {
     "name": "stdout",
     "output_type": "stream",
     "text": [
      "Epoch 500 - Train Loss: 0.1890, Train MSE: 0.1889, Train MAE: 0.3197\n",
      "Epoch 500 - Validation Loss: 1.2611, Validation MSE: 1.2639, Validation MAE: 0.7956\n"
     ]
    },
    {
     "name": "stderr",
     "output_type": "stream",
     "text": [
      "Training Epoch 502: 100%|██████████| 507/507 [00:05<00:00, 97.31it/s] \n",
      "Training Epoch 503: 100%|██████████| 507/507 [00:05<00:00, 99.05it/s] \n",
      "Training Epoch 504: 100%|██████████| 507/507 [00:05<00:00, 93.18it/s] \n",
      "Training Epoch 505: 100%|██████████| 507/507 [00:05<00:00, 96.21it/s] \n",
      "Training Epoch 506: 100%|██████████| 507/507 [00:05<00:00, 94.06it/s] \n",
      "Training Epoch 507: 100%|██████████| 507/507 [00:05<00:00, 96.42it/s] \n",
      "Training Epoch 508: 100%|██████████| 507/507 [00:05<00:00, 96.05it/s] \n",
      "Training Epoch 509: 100%|██████████| 507/507 [00:05<00:00, 95.07it/s] \n",
      "Training Epoch 510: 100%|██████████| 507/507 [00:05<00:00, 96.06it/s] \n",
      "Training Epoch 511: 100%|██████████| 507/507 [00:05<00:00, 99.34it/s] \n"
     ]
    },
    {
     "name": "stdout",
     "output_type": "stream",
     "text": [
      "Epoch 510 - Train Loss: 0.1821, Train MSE: 0.1823, Train MAE: 0.3157\n",
      "Epoch 510 - Validation Loss: 1.2908, Validation MSE: 1.2935, Validation MAE: 0.8028\n"
     ]
    },
    {
     "name": "stderr",
     "output_type": "stream",
     "text": [
      "Training Epoch 512: 100%|██████████| 507/507 [00:05<00:00, 95.04it/s] \n",
      "Training Epoch 513: 100%|██████████| 507/507 [00:05<00:00, 98.99it/s] \n",
      "Training Epoch 514: 100%|██████████| 507/507 [00:05<00:00, 97.21it/s] \n",
      "Training Epoch 515: 100%|██████████| 507/507 [00:05<00:00, 92.63it/s] \n",
      "Training Epoch 516: 100%|██████████| 507/507 [00:04<00:00, 104.07it/s]\n",
      "Training Epoch 517: 100%|██████████| 507/507 [00:04<00:00, 107.96it/s]\n",
      "Training Epoch 518: 100%|██████████| 507/507 [00:04<00:00, 105.29it/s]\n",
      "Training Epoch 519: 100%|██████████| 507/507 [00:04<00:00, 105.60it/s]\n",
      "Training Epoch 520: 100%|██████████| 507/507 [00:05<00:00, 100.83it/s]\n",
      "Training Epoch 521: 100%|██████████| 507/507 [00:05<00:00, 92.87it/s] \n"
     ]
    },
    {
     "name": "stdout",
     "output_type": "stream",
     "text": [
      "Epoch 520 - Train Loss: 0.1839, Train MSE: 0.1839, Train MAE: 0.3170\n",
      "Epoch 520 - Validation Loss: 1.2778, Validation MSE: 1.2805, Validation MAE: 0.7958\n"
     ]
    },
    {
     "name": "stderr",
     "output_type": "stream",
     "text": [
      "Training Epoch 522: 100%|██████████| 507/507 [00:09<00:00, 56.27it/s]\n",
      "Training Epoch 523: 100%|██████████| 507/507 [00:07<00:00, 69.29it/s]\n",
      "Training Epoch 524: 100%|██████████| 507/507 [00:05<00:00, 85.79it/s] \n",
      "Training Epoch 525: 100%|██████████| 507/507 [00:06<00:00, 83.48it/s]\n",
      "Training Epoch 526: 100%|██████████| 507/507 [00:05<00:00, 88.11it/s]\n",
      "Training Epoch 527: 100%|██████████| 507/507 [00:05<00:00, 91.01it/s]\n",
      "Training Epoch 528: 100%|██████████| 507/507 [00:05<00:00, 88.74it/s]\n",
      "Training Epoch 529: 100%|██████████| 507/507 [00:05<00:00, 89.49it/s]\n",
      "Training Epoch 530: 100%|██████████| 507/507 [00:05<00:00, 90.29it/s]\n",
      "Training Epoch 531: 100%|██████████| 507/507 [00:05<00:00, 87.27it/s]\n"
     ]
    },
    {
     "name": "stdout",
     "output_type": "stream",
     "text": [
      "Epoch 530 - Train Loss: 0.1840, Train MSE: 0.1839, Train MAE: 0.3156\n",
      "Epoch 530 - Validation Loss: 1.2657, Validation MSE: 1.2687, Validation MAE: 0.7965\n"
     ]
    },
    {
     "name": "stderr",
     "output_type": "stream",
     "text": [
      "Training Epoch 532: 100%|██████████| 507/507 [00:05<00:00, 88.58it/s]\n",
      "Training Epoch 533: 100%|██████████| 507/507 [00:05<00:00, 89.97it/s]\n",
      "Training Epoch 534: 100%|██████████| 507/507 [00:05<00:00, 89.43it/s]\n",
      "Training Epoch 535: 100%|██████████| 507/507 [00:05<00:00, 90.72it/s]\n",
      "Training Epoch 536: 100%|██████████| 507/507 [00:05<00:00, 88.02it/s]\n",
      "Training Epoch 537: 100%|██████████| 507/507 [00:05<00:00, 91.32it/s]\n",
      "Training Epoch 538: 100%|██████████| 507/507 [00:05<00:00, 89.86it/s]\n",
      "Training Epoch 539: 100%|██████████| 507/507 [00:05<00:00, 90.39it/s]\n",
      "Training Epoch 540: 100%|██████████| 507/507 [00:05<00:00, 90.61it/s]\n",
      "Training Epoch 541: 100%|██████████| 507/507 [00:05<00:00, 91.09it/s] \n"
     ]
    },
    {
     "name": "stdout",
     "output_type": "stream",
     "text": [
      "Epoch 540 - Train Loss: 0.1781, Train MSE: 0.1782, Train MAE: 0.3102\n",
      "Epoch 540 - Validation Loss: 1.2748, Validation MSE: 1.2774, Validation MAE: 0.8036\n"
     ]
    },
    {
     "name": "stderr",
     "output_type": "stream",
     "text": [
      "Training Epoch 542: 100%|██████████| 507/507 [00:05<00:00, 89.95it/s]\n",
      "Training Epoch 543: 100%|██████████| 507/507 [00:05<00:00, 91.22it/s] \n",
      "Training Epoch 544: 100%|██████████| 507/507 [00:05<00:00, 88.78it/s]\n",
      "Training Epoch 545: 100%|██████████| 507/507 [00:05<00:00, 92.17it/s]\n",
      "Training Epoch 546: 100%|██████████| 507/507 [00:05<00:00, 90.96it/s]\n",
      "Training Epoch 547: 100%|██████████| 507/507 [00:05<00:00, 88.03it/s]\n",
      "Training Epoch 548: 100%|██████████| 507/507 [00:05<00:00, 90.48it/s] \n",
      "Training Epoch 549: 100%|██████████| 507/507 [00:05<00:00, 90.64it/s]\n",
      "Training Epoch 550: 100%|██████████| 507/507 [00:05<00:00, 90.66it/s]\n",
      "Training Epoch 551: 100%|██████████| 507/507 [00:05<00:00, 88.52it/s]\n"
     ]
    },
    {
     "name": "stdout",
     "output_type": "stream",
     "text": [
      "Epoch 550 - Train Loss: 0.1763, Train MSE: 0.1764, Train MAE: 0.3112\n",
      "Epoch 550 - Validation Loss: 1.2537, Validation MSE: 1.2568, Validation MAE: 0.7906\n"
     ]
    },
    {
     "name": "stderr",
     "output_type": "stream",
     "text": [
      "Training Epoch 552: 100%|██████████| 507/507 [00:05<00:00, 87.30it/s]\n",
      "Training Epoch 553: 100%|██████████| 507/507 [00:05<00:00, 91.09it/s] \n",
      "Training Epoch 554: 100%|██████████| 507/507 [00:05<00:00, 91.29it/s]\n",
      "Training Epoch 555: 100%|██████████| 507/507 [00:05<00:00, 88.32it/s]\n",
      "Training Epoch 556: 100%|██████████| 507/507 [00:05<00:00, 89.80it/s]\n",
      "Training Epoch 557: 100%|██████████| 507/507 [00:05<00:00, 88.52it/s]\n",
      "Training Epoch 558: 100%|██████████| 507/507 [00:05<00:00, 89.65it/s]\n",
      "Training Epoch 559: 100%|██████████| 507/507 [00:05<00:00, 91.22it/s]\n",
      "Training Epoch 560: 100%|██████████| 507/507 [00:05<00:00, 87.95it/s]\n",
      "Training Epoch 561: 100%|██████████| 507/507 [00:05<00:00, 88.68it/s]\n"
     ]
    },
    {
     "name": "stdout",
     "output_type": "stream",
     "text": [
      "Epoch 560 - Train Loss: 0.1715, Train MSE: 0.1716, Train MAE: 0.3060\n",
      "Epoch 560 - Validation Loss: 1.2673, Validation MSE: 1.2699, Validation MAE: 0.7953\n"
     ]
    },
    {
     "name": "stderr",
     "output_type": "stream",
     "text": [
      "Training Epoch 562: 100%|██████████| 507/507 [00:05<00:00, 87.17it/s]\n",
      "Training Epoch 563: 100%|██████████| 507/507 [00:05<00:00, 88.49it/s]\n",
      "Training Epoch 564: 100%|██████████| 507/507 [00:05<00:00, 90.82it/s]\n",
      "Training Epoch 565: 100%|██████████| 507/507 [00:05<00:00, 90.40it/s]\n",
      "Training Epoch 566: 100%|██████████| 507/507 [00:05<00:00, 89.69it/s]\n",
      "Training Epoch 567: 100%|██████████| 507/507 [00:05<00:00, 90.63it/s]\n",
      "Training Epoch 568: 100%|██████████| 507/507 [00:05<00:00, 88.16it/s]\n",
      "Training Epoch 569: 100%|██████████| 507/507 [00:05<00:00, 89.43it/s]\n",
      "Training Epoch 570: 100%|██████████| 507/507 [00:05<00:00, 91.05it/s]\n",
      "Training Epoch 571: 100%|██████████| 507/507 [00:05<00:00, 87.52it/s]\n"
     ]
    },
    {
     "name": "stdout",
     "output_type": "stream",
     "text": [
      "Epoch 570 - Train Loss: 0.1694, Train MSE: 0.1696, Train MAE: 0.3046\n",
      "Epoch 570 - Validation Loss: 1.2794, Validation MSE: 1.2821, Validation MAE: 0.7988\n"
     ]
    },
    {
     "name": "stderr",
     "output_type": "stream",
     "text": [
      "Training Epoch 572: 100%|██████████| 507/507 [00:05<00:00, 91.20it/s]\n",
      "Training Epoch 573: 100%|██████████| 507/507 [00:05<00:00, 92.10it/s] \n",
      "Training Epoch 574: 100%|██████████| 507/507 [00:05<00:00, 90.30it/s] \n",
      "Training Epoch 575: 100%|██████████| 507/507 [00:05<00:00, 89.26it/s]\n",
      "Training Epoch 576: 100%|██████████| 507/507 [00:05<00:00, 88.77it/s]\n",
      "Training Epoch 577: 100%|██████████| 507/507 [00:05<00:00, 91.19it/s]\n",
      "Training Epoch 578: 100%|██████████| 507/507 [00:05<00:00, 91.09it/s]\n",
      "Training Epoch 579: 100%|██████████| 507/507 [00:05<00:00, 89.01it/s]\n",
      "Training Epoch 580: 100%|██████████| 507/507 [00:05<00:00, 91.38it/s]\n",
      "Training Epoch 581: 100%|██████████| 507/507 [00:05<00:00, 91.82it/s]\n"
     ]
    },
    {
     "name": "stdout",
     "output_type": "stream",
     "text": [
      "Epoch 580 - Train Loss: 0.1692, Train MSE: 0.1692, Train MAE: 0.3048\n",
      "Epoch 580 - Validation Loss: 1.2630, Validation MSE: 1.2656, Validation MAE: 0.7949\n"
     ]
    },
    {
     "name": "stderr",
     "output_type": "stream",
     "text": [
      "Training Epoch 582: 100%|██████████| 507/507 [00:05<00:00, 89.66it/s]\n",
      "Training Epoch 583: 100%|██████████| 507/507 [00:05<00:00, 92.70it/s]\n",
      "Training Epoch 584: 100%|██████████| 507/507 [00:05<00:00, 90.76it/s]\n",
      "Training Epoch 585: 100%|██████████| 507/507 [00:05<00:00, 89.75it/s]\n",
      "Training Epoch 586: 100%|██████████| 507/507 [00:05<00:00, 91.78it/s]\n",
      "Training Epoch 587: 100%|██████████| 507/507 [00:05<00:00, 90.33it/s]\n",
      "Training Epoch 588: 100%|██████████| 507/507 [00:05<00:00, 92.77it/s]\n",
      "Training Epoch 589: 100%|██████████| 507/507 [00:05<00:00, 91.89it/s]\n",
      "Training Epoch 590: 100%|██████████| 507/507 [00:05<00:00, 89.55it/s]\n",
      "Training Epoch 591: 100%|██████████| 507/507 [00:05<00:00, 90.43it/s]\n"
     ]
    },
    {
     "name": "stdout",
     "output_type": "stream",
     "text": [
      "Epoch 590 - Train Loss: 0.1692, Train MSE: 0.1691, Train MAE: 0.3045\n",
      "Epoch 590 - Validation Loss: 1.2669, Validation MSE: 1.2698, Validation MAE: 0.7970\n"
     ]
    },
    {
     "name": "stderr",
     "output_type": "stream",
     "text": [
      "Training Epoch 592: 100%|██████████| 507/507 [00:05<00:00, 88.67it/s]\n",
      "Training Epoch 593: 100%|██████████| 507/507 [00:05<00:00, 88.09it/s]\n",
      "Training Epoch 594: 100%|██████████| 507/507 [00:05<00:00, 88.89it/s]\n",
      "Training Epoch 595: 100%|██████████| 507/507 [00:05<00:00, 89.13it/s] \n",
      "Training Epoch 596: 100%|██████████| 507/507 [00:05<00:00, 92.79it/s]\n",
      "Training Epoch 597: 100%|██████████| 507/507 [00:05<00:00, 87.40it/s]\n",
      "Training Epoch 598: 100%|██████████| 507/507 [00:05<00:00, 89.99it/s]\n",
      "Training Epoch 599: 100%|██████████| 507/507 [00:05<00:00, 91.38it/s] \n",
      "Training Epoch 600: 100%|██████████| 507/507 [00:05<00:00, 91.00it/s]\n",
      "Training Epoch 601: 100%|██████████| 507/507 [00:05<00:00, 88.18it/s]\n"
     ]
    },
    {
     "name": "stdout",
     "output_type": "stream",
     "text": [
      "Epoch 600 - Train Loss: 0.1700, Train MSE: 0.1699, Train MAE: 0.3029\n",
      "Epoch 600 - Validation Loss: 1.2561, Validation MSE: 1.2592, Validation MAE: 0.7937\n"
     ]
    },
    {
     "name": "stderr",
     "output_type": "stream",
     "text": [
      "Training Epoch 602: 100%|██████████| 507/507 [00:05<00:00, 88.94it/s]\n",
      "Training Epoch 603: 100%|██████████| 507/507 [00:05<00:00, 88.77it/s]\n",
      "Training Epoch 604: 100%|██████████| 507/507 [00:05<00:00, 91.32it/s] \n",
      "Training Epoch 605: 100%|██████████| 507/507 [00:05<00:00, 89.75it/s]\n",
      "Training Epoch 606: 100%|██████████| 507/507 [00:05<00:00, 87.57it/s]\n",
      "Training Epoch 607: 100%|██████████| 507/507 [00:05<00:00, 90.50it/s]\n",
      "Training Epoch 608: 100%|██████████| 507/507 [00:05<00:00, 89.04it/s]\n",
      "Training Epoch 609: 100%|██████████| 507/507 [00:05<00:00, 88.71it/s]\n",
      "Training Epoch 610: 100%|██████████| 507/507 [00:05<00:00, 91.97it/s]\n",
      "Training Epoch 611: 100%|██████████| 507/507 [00:05<00:00, 88.90it/s]\n"
     ]
    },
    {
     "name": "stdout",
     "output_type": "stream",
     "text": [
      "Epoch 610 - Train Loss: 0.1727, Train MSE: 0.1728, Train MAE: 0.3060\n",
      "Epoch 610 - Validation Loss: 1.2694, Validation MSE: 1.2723, Validation MAE: 0.7987\n"
     ]
    },
    {
     "name": "stderr",
     "output_type": "stream",
     "text": [
      "Training Epoch 612: 100%|██████████| 507/507 [00:05<00:00, 89.14it/s]\n",
      "Training Epoch 613: 100%|██████████| 507/507 [00:05<00:00, 91.65it/s]\n",
      "Training Epoch 614: 100%|██████████| 507/507 [00:05<00:00, 88.99it/s]\n",
      "Training Epoch 615: 100%|██████████| 507/507 [00:05<00:00, 92.98it/s] \n",
      "Training Epoch 616: 100%|██████████| 507/507 [00:05<00:00, 92.82it/s] \n",
      "Training Epoch 617: 100%|██████████| 507/507 [00:05<00:00, 88.58it/s]\n",
      "Training Epoch 618: 100%|██████████| 507/507 [00:05<00:00, 90.85it/s]\n",
      "Training Epoch 619: 100%|██████████| 507/507 [00:05<00:00, 88.41it/s]\n",
      "Training Epoch 620: 100%|██████████| 507/507 [00:05<00:00, 92.15it/s]\n",
      "Training Epoch 621: 100%|██████████| 507/507 [00:05<00:00, 90.83it/s]\n"
     ]
    },
    {
     "name": "stdout",
     "output_type": "stream",
     "text": [
      "Epoch 620 - Train Loss: 0.1627, Train MSE: 0.1627, Train MAE: 0.2979\n",
      "Epoch 620 - Validation Loss: 1.2490, Validation MSE: 1.2521, Validation MAE: 0.7905\n"
     ]
    },
    {
     "name": "stderr",
     "output_type": "stream",
     "text": [
      "Training Epoch 622: 100%|██████████| 507/507 [00:05<00:00, 88.45it/s]\n",
      "Training Epoch 623: 100%|██████████| 507/507 [00:05<00:00, 91.23it/s]\n",
      "Training Epoch 624: 100%|██████████| 507/507 [00:05<00:00, 92.26it/s]\n",
      "Training Epoch 625: 100%|██████████| 507/507 [00:05<00:00, 88.51it/s]\n",
      "Training Epoch 626: 100%|██████████| 507/507 [00:05<00:00, 92.11it/s]\n",
      "Training Epoch 627: 100%|██████████| 507/507 [00:05<00:00, 91.94it/s]\n",
      "Training Epoch 628: 100%|██████████| 507/507 [00:05<00:00, 88.00it/s]\n",
      "Training Epoch 629: 100%|██████████| 507/507 [00:05<00:00, 91.25it/s]\n",
      "Training Epoch 630: 100%|██████████| 507/507 [00:05<00:00, 87.08it/s]\n",
      "Training Epoch 631: 100%|██████████| 507/507 [00:05<00:00, 90.68it/s]\n"
     ]
    },
    {
     "name": "stdout",
     "output_type": "stream",
     "text": [
      "Epoch 630 - Train Loss: 0.1686, Train MSE: 0.1687, Train MAE: 0.3039\n",
      "Epoch 630 - Validation Loss: 1.2551, Validation MSE: 1.2581, Validation MAE: 0.7901\n"
     ]
    },
    {
     "name": "stderr",
     "output_type": "stream",
     "text": [
      "Training Epoch 632: 100%|██████████| 507/507 [00:05<00:00, 90.49it/s]\n",
      "Training Epoch 633: 100%|██████████| 507/507 [00:05<00:00, 89.36it/s]\n",
      "Training Epoch 634: 100%|██████████| 507/507 [00:05<00:00, 90.21it/s]\n",
      "Training Epoch 635: 100%|██████████| 507/507 [00:05<00:00, 90.11it/s]\n",
      "Training Epoch 636: 100%|██████████| 507/507 [00:05<00:00, 88.73it/s]\n",
      "Training Epoch 637: 100%|██████████| 507/507 [00:05<00:00, 90.62it/s]\n",
      "Training Epoch 638: 100%|██████████| 507/507 [00:05<00:00, 90.12it/s]\n",
      "Training Epoch 639: 100%|██████████| 507/507 [00:05<00:00, 88.56it/s]\n",
      "Training Epoch 640: 100%|██████████| 507/507 [00:05<00:00, 88.97it/s]\n",
      "Training Epoch 641: 100%|██████████| 507/507 [00:05<00:00, 86.25it/s]\n"
     ]
    },
    {
     "name": "stdout",
     "output_type": "stream",
     "text": [
      "Epoch 640 - Train Loss: 0.1621, Train MSE: 0.1620, Train MAE: 0.2981\n",
      "Epoch 640 - Validation Loss: 1.2551, Validation MSE: 1.2579, Validation MAE: 0.7904\n"
     ]
    },
    {
     "name": "stderr",
     "output_type": "stream",
     "text": [
      "Training Epoch 642: 100%|██████████| 507/507 [00:05<00:00, 88.49it/s]\n",
      "Training Epoch 643: 100%|██████████| 507/507 [00:05<00:00, 90.22it/s]\n",
      "Training Epoch 644: 100%|██████████| 507/507 [00:05<00:00, 88.29it/s]\n",
      "Training Epoch 645: 100%|██████████| 507/507 [00:05<00:00, 90.58it/s]\n",
      "Training Epoch 646: 100%|██████████| 507/507 [00:05<00:00, 89.20it/s]\n",
      "Training Epoch 647: 100%|██████████| 507/507 [00:05<00:00, 90.70it/s]\n",
      "Training Epoch 648: 100%|██████████| 507/507 [00:05<00:00, 87.73it/s]\n",
      "Training Epoch 649: 100%|██████████| 507/507 [00:05<00:00, 88.71it/s] \n",
      "Training Epoch 650: 100%|██████████| 507/507 [00:05<00:00, 90.57it/s]\n",
      "Training Epoch 651: 100%|██████████| 507/507 [00:05<00:00, 91.54it/s]\n"
     ]
    },
    {
     "name": "stdout",
     "output_type": "stream",
     "text": [
      "Epoch 650 - Train Loss: 0.1604, Train MSE: 0.1604, Train MAE: 0.2955\n",
      "Epoch 650 - Validation Loss: 1.2497, Validation MSE: 1.2524, Validation MAE: 0.7938\n"
     ]
    },
    {
     "name": "stderr",
     "output_type": "stream",
     "text": [
      "Training Epoch 652: 100%|██████████| 507/507 [00:05<00:00, 88.13it/s]\n",
      "Training Epoch 653: 100%|██████████| 507/507 [00:05<00:00, 89.05it/s]\n",
      "Training Epoch 654: 100%|██████████| 507/507 [00:05<00:00, 89.91it/s]\n",
      "Training Epoch 655: 100%|██████████| 507/507 [00:05<00:00, 90.21it/s]\n",
      "Training Epoch 656: 100%|██████████| 507/507 [00:05<00:00, 90.12it/s]\n",
      "Training Epoch 657: 100%|██████████| 507/507 [00:05<00:00, 89.11it/s]\n",
      "Training Epoch 658: 100%|██████████| 507/507 [00:05<00:00, 90.64it/s]\n",
      "Training Epoch 659: 100%|██████████| 507/507 [00:05<00:00, 91.12it/s]\n",
      "Training Epoch 660: 100%|██████████| 507/507 [00:05<00:00, 88.85it/s]\n",
      "Training Epoch 661: 100%|██████████| 507/507 [00:05<00:00, 90.83it/s]\n"
     ]
    },
    {
     "name": "stdout",
     "output_type": "stream",
     "text": [
      "Epoch 660 - Train Loss: 0.1651, Train MSE: 0.1651, Train MAE: 0.2995\n",
      "Epoch 660 - Validation Loss: 1.2645, Validation MSE: 1.2674, Validation MAE: 0.7936\n"
     ]
    },
    {
     "name": "stderr",
     "output_type": "stream",
     "text": [
      "Training Epoch 662: 100%|██████████| 507/507 [00:05<00:00, 87.94it/s]\n",
      "Training Epoch 663: 100%|██████████| 507/507 [00:05<00:00, 91.67it/s]\n",
      "Training Epoch 664: 100%|██████████| 507/507 [00:05<00:00, 90.76it/s]\n",
      "Training Epoch 665: 100%|██████████| 507/507 [00:05<00:00, 89.66it/s]\n",
      "Training Epoch 666: 100%|██████████| 507/507 [00:05<00:00, 91.07it/s]\n",
      "Training Epoch 667: 100%|██████████| 507/507 [00:05<00:00, 90.95it/s] \n",
      "Training Epoch 668: 100%|██████████| 507/507 [00:05<00:00, 88.21it/s]\n",
      "Training Epoch 669: 100%|██████████| 507/507 [00:05<00:00, 89.74it/s]\n",
      "Training Epoch 670: 100%|██████████| 507/507 [00:05<00:00, 89.99it/s] \n",
      "Training Epoch 671: 100%|██████████| 507/507 [00:05<00:00, 89.53it/s] \n"
     ]
    },
    {
     "name": "stdout",
     "output_type": "stream",
     "text": [
      "Epoch 670 - Train Loss: 0.1561, Train MSE: 0.1562, Train MAE: 0.2930\n",
      "Epoch 670 - Validation Loss: 1.2549, Validation MSE: 1.2578, Validation MAE: 0.7885\n"
     ]
    },
    {
     "name": "stderr",
     "output_type": "stream",
     "text": [
      "Training Epoch 672: 100%|██████████| 507/507 [00:05<00:00, 92.10it/s] \n",
      "Training Epoch 673: 100%|██████████| 507/507 [00:05<00:00, 89.18it/s]\n",
      "Training Epoch 674: 100%|██████████| 507/507 [00:05<00:00, 93.13it/s]\n",
      "Training Epoch 675: 100%|██████████| 507/507 [00:05<00:00, 91.21it/s]\n",
      "Training Epoch 676: 100%|██████████| 507/507 [00:05<00:00, 89.38it/s]\n",
      "Training Epoch 677: 100%|██████████| 507/507 [00:05<00:00, 93.04it/s] \n",
      "Training Epoch 678: 100%|██████████| 507/507 [00:05<00:00, 93.52it/s]\n",
      "Training Epoch 679: 100%|██████████| 507/507 [00:05<00:00, 89.42it/s]\n",
      "Training Epoch 680: 100%|██████████| 507/507 [00:05<00:00, 91.25it/s]\n",
      "Training Epoch 681: 100%|██████████| 507/507 [00:05<00:00, 88.56it/s]\n"
     ]
    },
    {
     "name": "stdout",
     "output_type": "stream",
     "text": [
      "Epoch 680 - Train Loss: 0.1538, Train MSE: 0.1539, Train MAE: 0.2914\n",
      "Epoch 680 - Validation Loss: 1.2553, Validation MSE: 1.2579, Validation MAE: 0.7944\n"
     ]
    },
    {
     "name": "stderr",
     "output_type": "stream",
     "text": [
      "Training Epoch 682: 100%|██████████| 507/507 [00:05<00:00, 90.09it/s]\n",
      "Training Epoch 683: 100%|██████████| 507/507 [00:05<00:00, 92.05it/s]\n",
      "Training Epoch 684: 100%|██████████| 507/507 [00:05<00:00, 90.68it/s] \n",
      "Training Epoch 685: 100%|██████████| 507/507 [00:05<00:00, 90.65it/s]\n",
      "Training Epoch 686: 100%|██████████| 507/507 [00:05<00:00, 93.77it/s] \n",
      "Training Epoch 687: 100%|██████████| 507/507 [00:05<00:00, 89.15it/s]\n",
      "Training Epoch 688: 100%|██████████| 507/507 [00:05<00:00, 89.51it/s]\n",
      "Training Epoch 689: 100%|██████████| 507/507 [00:05<00:00, 85.63it/s]\n",
      "Training Epoch 690: 100%|██████████| 507/507 [00:05<00:00, 90.18it/s]\n",
      "Training Epoch 691: 100%|██████████| 507/507 [00:05<00:00, 92.02it/s]\n"
     ]
    },
    {
     "name": "stdout",
     "output_type": "stream",
     "text": [
      "Epoch 690 - Train Loss: 0.1538, Train MSE: 0.1538, Train MAE: 0.2914\n",
      "Epoch 690 - Validation Loss: 1.2618, Validation MSE: 1.2647, Validation MAE: 0.7910\n"
     ]
    },
    {
     "name": "stderr",
     "output_type": "stream",
     "text": [
      "Training Epoch 692: 100%|██████████| 507/507 [00:05<00:00, 90.11it/s]\n",
      "Training Epoch 693: 100%|██████████| 507/507 [00:05<00:00, 91.44it/s] \n",
      "Training Epoch 694: 100%|██████████| 507/507 [00:05<00:00, 92.68it/s]\n",
      "Training Epoch 695: 100%|██████████| 507/507 [00:05<00:00, 92.21it/s]\n",
      "Training Epoch 696: 100%|██████████| 507/507 [00:05<00:00, 92.56it/s]\n",
      "Training Epoch 697: 100%|██████████| 507/507 [00:05<00:00, 91.51it/s]\n",
      "Training Epoch 698: 100%|██████████| 507/507 [00:05<00:00, 91.39it/s]\n",
      "Training Epoch 699: 100%|██████████| 507/507 [00:05<00:00, 90.99it/s]\n",
      "Training Epoch 700: 100%|██████████| 507/507 [00:05<00:00, 89.68it/s]\n",
      "Training Epoch 701: 100%|██████████| 507/507 [00:05<00:00, 92.62it/s] \n"
     ]
    },
    {
     "name": "stdout",
     "output_type": "stream",
     "text": [
      "Epoch 700 - Train Loss: 0.1496, Train MSE: 0.1497, Train MAE: 0.2881\n",
      "Epoch 700 - Validation Loss: 1.2527, Validation MSE: 1.2553, Validation MAE: 0.7905\n"
     ]
    },
    {
     "name": "stderr",
     "output_type": "stream",
     "text": [
      "Training Epoch 702: 100%|██████████| 507/507 [00:05<00:00, 92.08it/s]\n",
      "Training Epoch 703: 100%|██████████| 507/507 [00:05<00:00, 89.19it/s]\n",
      "Training Epoch 704: 100%|██████████| 507/507 [00:05<00:00, 92.11it/s] \n",
      "Training Epoch 705: 100%|██████████| 507/507 [00:05<00:00, 91.65it/s] \n",
      "Training Epoch 706: 100%|██████████| 507/507 [00:05<00:00, 91.94it/s] \n",
      "Training Epoch 707: 100%|██████████| 507/507 [00:05<00:00, 91.02it/s] \n",
      "Training Epoch 708: 100%|██████████| 507/507 [00:05<00:00, 90.46it/s]\n",
      "Training Epoch 709: 100%|██████████| 507/507 [00:05<00:00, 91.87it/s]\n",
      "Training Epoch 710: 100%|██████████| 507/507 [00:05<00:00, 91.46it/s]\n",
      "Training Epoch 711: 100%|██████████| 507/507 [00:05<00:00, 92.09it/s]\n"
     ]
    },
    {
     "name": "stdout",
     "output_type": "stream",
     "text": [
      "Epoch 710 - Train Loss: 0.1534, Train MSE: 0.1534, Train MAE: 0.2899\n",
      "Epoch 710 - Validation Loss: 1.2685, Validation MSE: 1.2711, Validation MAE: 0.7954\n"
     ]
    },
    {
     "name": "stderr",
     "output_type": "stream",
     "text": [
      "Training Epoch 712: 100%|██████████| 507/507 [00:05<00:00, 94.27it/s] \n",
      "Training Epoch 713: 100%|██████████| 507/507 [00:05<00:00, 88.41it/s]\n",
      "Training Epoch 714: 100%|██████████| 507/507 [00:05<00:00, 88.86it/s]\n",
      "Training Epoch 715: 100%|██████████| 507/507 [00:05<00:00, 90.55it/s]\n",
      "Training Epoch 716: 100%|██████████| 507/507 [00:05<00:00, 91.12it/s]\n",
      "Training Epoch 717: 100%|██████████| 507/507 [00:05<00:00, 89.08it/s]\n",
      "Training Epoch 718: 100%|██████████| 507/507 [00:05<00:00, 90.85it/s]\n",
      "Training Epoch 719: 100%|██████████| 507/507 [00:05<00:00, 89.37it/s]\n",
      "Training Epoch 720: 100%|██████████| 507/507 [00:05<00:00, 91.97it/s]\n",
      "Training Epoch 721: 100%|██████████| 507/507 [00:05<00:00, 93.01it/s]\n"
     ]
    },
    {
     "name": "stdout",
     "output_type": "stream",
     "text": [
      "Epoch 720 - Train Loss: 0.1540, Train MSE: 0.1541, Train MAE: 0.2895\n",
      "Epoch 720 - Validation Loss: 1.2626, Validation MSE: 1.2653, Validation MAE: 0.7909\n"
     ]
    },
    {
     "name": "stderr",
     "output_type": "stream",
     "text": [
      "Training Epoch 722: 100%|██████████| 507/507 [00:05<00:00, 89.89it/s]\n",
      "Training Epoch 723: 100%|██████████| 507/507 [00:05<00:00, 93.00it/s] \n",
      "Training Epoch 724: 100%|██████████| 507/507 [00:05<00:00, 94.03it/s]\n",
      "Training Epoch 725: 100%|██████████| 507/507 [00:05<00:00, 89.62it/s]\n",
      "Training Epoch 726: 100%|██████████| 507/507 [00:05<00:00, 91.56it/s]\n",
      "Training Epoch 727: 100%|██████████| 507/507 [00:05<00:00, 91.97it/s]\n",
      "Training Epoch 728: 100%|██████████| 507/507 [00:05<00:00, 90.92it/s]\n",
      "Training Epoch 729: 100%|██████████| 507/507 [00:05<00:00, 92.49it/s]\n",
      "Training Epoch 730: 100%|██████████| 507/507 [00:05<00:00, 89.65it/s]\n",
      "Training Epoch 731: 100%|██████████| 507/507 [00:05<00:00, 93.84it/s] \n"
     ]
    },
    {
     "name": "stdout",
     "output_type": "stream",
     "text": [
      "Epoch 730 - Train Loss: 0.1473, Train MSE: 0.1473, Train MAE: 0.2851\n",
      "Epoch 730 - Validation Loss: 1.2682, Validation MSE: 1.2706, Validation MAE: 0.7957\n"
     ]
    },
    {
     "name": "stderr",
     "output_type": "stream",
     "text": [
      "Training Epoch 732: 100%|██████████| 507/507 [00:05<00:00, 90.46it/s]\n",
      "Training Epoch 733: 100%|██████████| 507/507 [00:05<00:00, 88.93it/s]\n",
      "Training Epoch 734: 100%|██████████| 507/507 [00:05<00:00, 90.85it/s]\n",
      "Training Epoch 735: 100%|██████████| 507/507 [00:05<00:00, 91.19it/s]\n",
      "Training Epoch 736: 100%|██████████| 507/507 [00:05<00:00, 89.11it/s]\n",
      "Training Epoch 737: 100%|██████████| 507/507 [00:05<00:00, 91.16it/s]\n",
      "Training Epoch 738: 100%|██████████| 507/507 [00:05<00:00, 89.67it/s]\n",
      "Training Epoch 739: 100%|██████████| 507/507 [00:05<00:00, 91.13it/s] \n",
      "Training Epoch 740: 100%|██████████| 507/507 [00:05<00:00, 92.49it/s] \n",
      "Training Epoch 741: 100%|██████████| 507/507 [00:05<00:00, 90.03it/s] \n"
     ]
    },
    {
     "name": "stdout",
     "output_type": "stream",
     "text": [
      "Epoch 740 - Train Loss: 0.1493, Train MSE: 0.1492, Train MAE: 0.2856\n",
      "Epoch 740 - Validation Loss: 1.2642, Validation MSE: 1.2668, Validation MAE: 0.7938\n"
     ]
    },
    {
     "name": "stderr",
     "output_type": "stream",
     "text": [
      "Training Epoch 742: 100%|██████████| 507/507 [00:05<00:00, 90.40it/s]\n",
      "Training Epoch 743: 100%|██████████| 507/507 [00:05<00:00, 92.23it/s]\n",
      "Training Epoch 744: 100%|██████████| 507/507 [00:05<00:00, 88.47it/s]\n",
      "Training Epoch 745: 100%|██████████| 507/507 [00:05<00:00, 92.57it/s]\n",
      "Training Epoch 746: 100%|██████████| 507/507 [00:05<00:00, 90.77it/s]\n",
      "Training Epoch 747: 100%|██████████| 507/507 [00:05<00:00, 88.96it/s]\n",
      "Training Epoch 748: 100%|██████████| 507/507 [00:05<00:00, 91.11it/s]\n",
      "Training Epoch 749: 100%|██████████| 507/507 [00:05<00:00, 90.01it/s]\n",
      "Training Epoch 750: 100%|██████████| 507/507 [00:05<00:00, 91.73it/s]\n",
      "Training Epoch 751: 100%|██████████| 507/507 [00:05<00:00, 90.81it/s]\n"
     ]
    },
    {
     "name": "stdout",
     "output_type": "stream",
     "text": [
      "Epoch 750 - Train Loss: 0.1462, Train MSE: 0.1462, Train MAE: 0.2839\n",
      "Epoch 750 - Validation Loss: 1.2748, Validation MSE: 1.2771, Validation MAE: 0.7951\n"
     ]
    },
    {
     "name": "stderr",
     "output_type": "stream",
     "text": [
      "Training Epoch 752: 100%|██████████| 507/507 [00:05<00:00, 91.46it/s]\n",
      "Training Epoch 753: 100%|██████████| 507/507 [00:05<00:00, 92.09it/s]\n",
      "Training Epoch 754: 100%|██████████| 507/507 [00:05<00:00, 93.36it/s] \n",
      "Training Epoch 755: 100%|██████████| 507/507 [00:05<00:00, 91.09it/s]\n",
      "Training Epoch 756: 100%|██████████| 507/507 [00:05<00:00, 93.80it/s]\n",
      "Training Epoch 757: 100%|██████████| 507/507 [00:05<00:00, 90.27it/s] \n",
      "Training Epoch 758: 100%|██████████| 507/507 [00:05<00:00, 90.71it/s]\n",
      "Training Epoch 759: 100%|██████████| 507/507 [00:05<00:00, 91.36it/s] \n",
      "Training Epoch 760: 100%|██████████| 507/507 [00:05<00:00, 87.89it/s]\n",
      "Training Epoch 761: 100%|██████████| 507/507 [00:05<00:00, 90.07it/s]\n"
     ]
    },
    {
     "name": "stdout",
     "output_type": "stream",
     "text": [
      "Epoch 760 - Train Loss: 0.1479, Train MSE: 0.1479, Train MAE: 0.2846\n",
      "Epoch 760 - Validation Loss: 1.2518, Validation MSE: 1.2547, Validation MAE: 0.7920\n"
     ]
    },
    {
     "name": "stderr",
     "output_type": "stream",
     "text": [
      "Training Epoch 762: 100%|██████████| 507/507 [00:05<00:00, 90.31it/s]\n",
      "Training Epoch 763: 100%|██████████| 507/507 [00:05<00:00, 90.29it/s] \n",
      "Training Epoch 764: 100%|██████████| 507/507 [00:05<00:00, 92.30it/s] \n",
      "Training Epoch 765: 100%|██████████| 507/507 [00:05<00:00, 93.56it/s]\n",
      "Training Epoch 766: 100%|██████████| 507/507 [00:05<00:00, 89.61it/s]\n",
      "Training Epoch 767: 100%|██████████| 507/507 [00:05<00:00, 92.51it/s] \n",
      "Training Epoch 768: 100%|██████████| 507/507 [00:05<00:00, 89.93it/s]\n",
      "Training Epoch 769: 100%|██████████| 507/507 [00:05<00:00, 91.23it/s]\n",
      "Training Epoch 770: 100%|██████████| 507/507 [00:05<00:00, 91.72it/s]\n",
      "Training Epoch 771: 100%|██████████| 507/507 [00:05<00:00, 89.74it/s] \n"
     ]
    },
    {
     "name": "stdout",
     "output_type": "stream",
     "text": [
      "Epoch 770 - Train Loss: 0.1492, Train MSE: 0.1494, Train MAE: 0.2866\n",
      "Epoch 770 - Validation Loss: 1.2642, Validation MSE: 1.2667, Validation MAE: 0.7890\n"
     ]
    },
    {
     "name": "stderr",
     "output_type": "stream",
     "text": [
      "Training Epoch 772: 100%|██████████| 507/507 [00:05<00:00, 90.83it/s]\n",
      "Training Epoch 773: 100%|██████████| 507/507 [00:05<00:00, 92.21it/s] \n",
      "Training Epoch 774: 100%|██████████| 507/507 [00:05<00:00, 89.01it/s]\n",
      "Training Epoch 775: 100%|██████████| 507/507 [00:05<00:00, 91.40it/s] \n",
      "Training Epoch 776: 100%|██████████| 507/507 [00:05<00:00, 90.81it/s] \n",
      "Training Epoch 777: 100%|██████████| 507/507 [00:05<00:00, 91.28it/s]\n",
      "Training Epoch 778: 100%|██████████| 507/507 [00:05<00:00, 92.20it/s]\n",
      "Training Epoch 779: 100%|██████████| 507/507 [00:05<00:00, 87.32it/s]\n",
      "Training Epoch 780: 100%|██████████| 507/507 [00:05<00:00, 88.93it/s]\n",
      "Training Epoch 781: 100%|██████████| 507/507 [00:05<00:00, 91.01it/s]\n"
     ]
    },
    {
     "name": "stdout",
     "output_type": "stream",
     "text": [
      "Epoch 780 - Train Loss: 0.1449, Train MSE: 0.1449, Train MAE: 0.2809\n",
      "Epoch 780 - Validation Loss: 1.2552, Validation MSE: 1.2579, Validation MAE: 0.7890\n"
     ]
    },
    {
     "name": "stderr",
     "output_type": "stream",
     "text": [
      "Training Epoch 782: 100%|██████████| 507/507 [00:05<00:00, 90.15it/s]\n",
      "Training Epoch 783: 100%|██████████| 507/507 [00:05<00:00, 90.22it/s]\n",
      "Training Epoch 784: 100%|██████████| 507/507 [00:05<00:00, 89.70it/s]\n",
      "Training Epoch 785: 100%|██████████| 507/507 [00:05<00:00, 90.20it/s]\n",
      "Training Epoch 786: 100%|██████████| 507/507 [00:05<00:00, 90.21it/s]\n",
      "Training Epoch 787: 100%|██████████| 507/507 [00:05<00:00, 89.73it/s]\n",
      "Training Epoch 788: 100%|██████████| 507/507 [00:05<00:00, 94.03it/s] \n",
      "Training Epoch 789: 100%|██████████| 507/507 [00:05<00:00, 90.66it/s]\n",
      "Training Epoch 790: 100%|██████████| 507/507 [00:05<00:00, 89.92it/s]\n",
      "Training Epoch 791: 100%|██████████| 507/507 [00:05<00:00, 89.66it/s]\n"
     ]
    },
    {
     "name": "stdout",
     "output_type": "stream",
     "text": [
      "Epoch 790 - Train Loss: 0.1469, Train MSE: 0.1471, Train MAE: 0.2821\n",
      "Epoch 790 - Validation Loss: 1.2740, Validation MSE: 1.2765, Validation MAE: 0.7977\n"
     ]
    },
    {
     "name": "stderr",
     "output_type": "stream",
     "text": [
      "Training Epoch 792: 100%|██████████| 507/507 [00:05<00:00, 89.58it/s] \n",
      "Training Epoch 793: 100%|██████████| 507/507 [00:05<00:00, 90.54it/s]\n",
      "Training Epoch 794: 100%|██████████| 507/507 [00:05<00:00, 89.54it/s]\n",
      "Training Epoch 795: 100%|██████████| 507/507 [00:05<00:00, 88.42it/s]\n",
      "Training Epoch 796: 100%|██████████| 507/507 [00:05<00:00, 92.66it/s]\n",
      "Training Epoch 797: 100%|██████████| 507/507 [00:05<00:00, 94.43it/s] \n",
      "Training Epoch 798: 100%|██████████| 507/507 [00:05<00:00, 89.27it/s]\n",
      "Training Epoch 799: 100%|██████████| 507/507 [00:05<00:00, 92.69it/s]\n",
      "Training Epoch 800: 100%|██████████| 507/507 [00:05<00:00, 91.88it/s]\n",
      "Training Epoch 801: 100%|██████████| 507/507 [00:05<00:00, 90.66it/s]\n"
     ]
    },
    {
     "name": "stdout",
     "output_type": "stream",
     "text": [
      "Epoch 800 - Train Loss: 0.1460, Train MSE: 0.1461, Train MAE: 0.2816\n",
      "Epoch 800 - Validation Loss: 1.2668, Validation MSE: 1.2697, Validation MAE: 0.7961\n"
     ]
    },
    {
     "name": "stderr",
     "output_type": "stream",
     "text": [
      "Training Epoch 802: 100%|██████████| 507/507 [00:05<00:00, 91.95it/s]\n",
      "Training Epoch 803: 100%|██████████| 507/507 [00:05<00:00, 92.33it/s]\n",
      "Training Epoch 804: 100%|██████████| 507/507 [00:05<00:00, 87.89it/s]\n",
      "Training Epoch 805: 100%|██████████| 507/507 [00:05<00:00, 90.48it/s]\n",
      "Training Epoch 806: 100%|██████████| 507/507 [00:05<00:00, 89.88it/s]\n",
      "Training Epoch 807: 100%|██████████| 507/507 [00:05<00:00, 90.45it/s]\n",
      "Training Epoch 808: 100%|██████████| 507/507 [00:05<00:00, 91.17it/s]\n",
      "Training Epoch 809: 100%|██████████| 507/507 [00:05<00:00, 90.39it/s]\n",
      "Training Epoch 810: 100%|██████████| 507/507 [00:05<00:00, 92.48it/s]\n",
      "Training Epoch 811: 100%|██████████| 507/507 [00:05<00:00, 91.99it/s] \n"
     ]
    },
    {
     "name": "stdout",
     "output_type": "stream",
     "text": [
      "Epoch 810 - Train Loss: 0.1381, Train MSE: 0.1382, Train MAE: 0.2766\n",
      "Epoch 810 - Validation Loss: 1.2678, Validation MSE: 1.2704, Validation MAE: 0.7925\n"
     ]
    },
    {
     "name": "stderr",
     "output_type": "stream",
     "text": [
      "Training Epoch 812: 100%|██████████| 507/507 [00:05<00:00, 91.17it/s]\n",
      "Training Epoch 813: 100%|██████████| 507/507 [00:05<00:00, 94.60it/s] \n",
      "Training Epoch 814: 100%|██████████| 507/507 [00:05<00:00, 90.73it/s]\n",
      "Training Epoch 815: 100%|██████████| 507/507 [00:05<00:00, 89.00it/s]\n",
      "Training Epoch 816: 100%|██████████| 507/507 [00:05<00:00, 93.34it/s] \n",
      "Training Epoch 817: 100%|██████████| 507/507 [00:05<00:00, 91.03it/s]\n",
      "Training Epoch 818: 100%|██████████| 507/507 [00:05<00:00, 91.09it/s]\n",
      "Training Epoch 819: 100%|██████████| 507/507 [00:05<00:00, 93.04it/s]\n",
      "Training Epoch 820: 100%|██████████| 507/507 [00:05<00:00, 91.43it/s]\n",
      "Training Epoch 821: 100%|██████████| 507/507 [00:05<00:00, 93.24it/s] \n"
     ]
    },
    {
     "name": "stdout",
     "output_type": "stream",
     "text": [
      "Epoch 820 - Train Loss: 0.1406, Train MSE: 0.1407, Train MAE: 0.2774\n",
      "Epoch 820 - Validation Loss: 1.2642, Validation MSE: 1.2669, Validation MAE: 0.7902\n"
     ]
    },
    {
     "name": "stderr",
     "output_type": "stream",
     "text": [
      "Training Epoch 822: 100%|██████████| 507/507 [00:05<00:00, 91.58it/s]\n",
      "Training Epoch 823: 100%|██████████| 507/507 [00:05<00:00, 88.87it/s]\n",
      "Training Epoch 824: 100%|██████████| 507/507 [00:05<00:00, 92.94it/s]\n",
      "Training Epoch 825: 100%|██████████| 507/507 [00:05<00:00, 89.68it/s]\n",
      "Training Epoch 826: 100%|██████████| 507/507 [00:05<00:00, 93.08it/s]\n",
      "Training Epoch 827: 100%|██████████| 507/507 [00:05<00:00, 92.69it/s] \n",
      "Training Epoch 828: 100%|██████████| 507/507 [00:05<00:00, 90.01it/s]\n",
      "Training Epoch 829: 100%|██████████| 507/507 [00:05<00:00, 91.03it/s]\n",
      "Training Epoch 830: 100%|██████████| 507/507 [00:05<00:00, 90.89it/s] \n",
      "Training Epoch 831: 100%|██████████| 507/507 [00:05<00:00, 92.04it/s]\n"
     ]
    },
    {
     "name": "stdout",
     "output_type": "stream",
     "text": [
      "Epoch 830 - Train Loss: 0.1340, Train MSE: 0.1341, Train MAE: 0.2723\n",
      "Epoch 830 - Validation Loss: 1.2648, Validation MSE: 1.2675, Validation MAE: 0.7954\n"
     ]
    },
    {
     "name": "stderr",
     "output_type": "stream",
     "text": [
      "Training Epoch 832: 100%|██████████| 507/507 [00:05<00:00, 89.90it/s]\n",
      "Training Epoch 833: 100%|██████████| 507/507 [00:05<00:00, 92.11it/s]\n",
      "Training Epoch 834: 100%|██████████| 507/507 [00:05<00:00, 91.52it/s]\n",
      "Training Epoch 835: 100%|██████████| 507/507 [00:05<00:00, 90.85it/s] \n",
      "Training Epoch 836: 100%|██████████| 507/507 [00:05<00:00, 89.61it/s]\n",
      "Training Epoch 837: 100%|██████████| 507/507 [00:05<00:00, 91.54it/s]\n",
      "Training Epoch 838: 100%|██████████| 507/507 [00:05<00:00, 92.24it/s] \n",
      "Training Epoch 839: 100%|██████████| 507/507 [00:05<00:00, 91.61it/s]\n",
      "Training Epoch 840: 100%|██████████| 507/507 [00:05<00:00, 91.19it/s] \n",
      "Training Epoch 841: 100%|██████████| 507/507 [00:05<00:00, 91.58it/s] \n"
     ]
    },
    {
     "name": "stdout",
     "output_type": "stream",
     "text": [
      "Epoch 840 - Train Loss: 0.1460, Train MSE: 0.1460, Train MAE: 0.2808\n",
      "Epoch 840 - Validation Loss: 1.2661, Validation MSE: 1.2682, Validation MAE: 0.7949\n"
     ]
    },
    {
     "name": "stderr",
     "output_type": "stream",
     "text": [
      "Training Epoch 842: 100%|██████████| 507/507 [00:05<00:00, 89.37it/s]\n",
      "Training Epoch 843: 100%|██████████| 507/507 [00:05<00:00, 90.81it/s] \n",
      "Training Epoch 844: 100%|██████████| 507/507 [00:05<00:00, 89.81it/s]\n",
      "Training Epoch 845: 100%|██████████| 507/507 [00:05<00:00, 89.96it/s]\n",
      "Training Epoch 846: 100%|██████████| 507/507 [00:05<00:00, 92.01it/s]\n",
      "Training Epoch 847: 100%|██████████| 507/507 [00:05<00:00, 92.79it/s] \n",
      "Training Epoch 848: 100%|██████████| 507/507 [00:05<00:00, 90.74it/s]\n",
      "Training Epoch 849: 100%|██████████| 507/507 [00:05<00:00, 92.08it/s] \n",
      "Training Epoch 850: 100%|██████████| 507/507 [00:05<00:00, 88.61it/s]\n",
      "Training Epoch 851: 100%|██████████| 507/507 [00:05<00:00, 90.74it/s]\n"
     ]
    },
    {
     "name": "stdout",
     "output_type": "stream",
     "text": [
      "Epoch 850 - Train Loss: 0.1388, Train MSE: 0.1387, Train MAE: 0.2760\n",
      "Epoch 850 - Validation Loss: 1.2652, Validation MSE: 1.2680, Validation MAE: 0.7906\n"
     ]
    },
    {
     "name": "stderr",
     "output_type": "stream",
     "text": [
      "Training Epoch 852: 100%|██████████| 507/507 [00:05<00:00, 92.37it/s]\n",
      "Training Epoch 853: 100%|██████████| 507/507 [00:05<00:00, 90.49it/s]\n",
      "Training Epoch 854: 100%|██████████| 507/507 [00:05<00:00, 92.57it/s]\n",
      "Training Epoch 855: 100%|██████████| 507/507 [00:05<00:00, 89.40it/s]\n",
      "Training Epoch 856: 100%|██████████| 507/507 [00:05<00:00, 90.82it/s]\n",
      "Training Epoch 857: 100%|██████████| 507/507 [00:05<00:00, 90.16it/s]\n",
      "Training Epoch 858: 100%|██████████| 507/507 [00:05<00:00, 90.58it/s] \n",
      "Training Epoch 859: 100%|██████████| 507/507 [00:05<00:00, 91.68it/s] \n",
      "Training Epoch 860: 100%|██████████| 507/507 [00:05<00:00, 91.53it/s]\n",
      "Training Epoch 861: 100%|██████████| 507/507 [00:05<00:00, 89.69it/s]\n"
     ]
    },
    {
     "name": "stdout",
     "output_type": "stream",
     "text": [
      "Epoch 860 - Train Loss: 0.1361, Train MSE: 0.1362, Train MAE: 0.2741\n",
      "Epoch 860 - Validation Loss: 1.2643, Validation MSE: 1.2665, Validation MAE: 0.7922\n"
     ]
    },
    {
     "name": "stderr",
     "output_type": "stream",
     "text": [
      "Training Epoch 862: 100%|██████████| 507/507 [00:05<00:00, 92.03it/s] \n",
      "Training Epoch 863: 100%|██████████| 507/507 [00:05<00:00, 90.12it/s]\n",
      "Training Epoch 864: 100%|██████████| 507/507 [00:05<00:00, 89.20it/s]\n",
      "Training Epoch 865: 100%|██████████| 507/507 [00:05<00:00, 93.53it/s] \n",
      "Training Epoch 866: 100%|██████████| 507/507 [00:05<00:00, 90.06it/s]\n",
      "Training Epoch 867: 100%|██████████| 507/507 [00:05<00:00, 89.84it/s]\n",
      "Training Epoch 868: 100%|██████████| 507/507 [00:05<00:00, 92.19it/s]\n",
      "Training Epoch 869: 100%|██████████| 507/507 [00:05<00:00, 89.64it/s] \n",
      "Training Epoch 870: 100%|██████████| 507/507 [00:05<00:00, 89.95it/s]\n",
      "Training Epoch 871: 100%|██████████| 507/507 [00:05<00:00, 92.18it/s] \n"
     ]
    },
    {
     "name": "stdout",
     "output_type": "stream",
     "text": [
      "Epoch 870 - Train Loss: 0.1421, Train MSE: 0.1422, Train MAE: 0.2779\n",
      "Epoch 870 - Validation Loss: 1.2616, Validation MSE: 1.2640, Validation MAE: 0.7877\n"
     ]
    },
    {
     "name": "stderr",
     "output_type": "stream",
     "text": [
      "Training Epoch 872: 100%|██████████| 507/507 [00:05<00:00, 88.57it/s]\n",
      "Training Epoch 873: 100%|██████████| 507/507 [00:05<00:00, 91.05it/s]\n",
      "Training Epoch 874: 100%|██████████| 507/507 [00:05<00:00, 89.42it/s]\n",
      "Training Epoch 875: 100%|██████████| 507/507 [00:05<00:00, 92.43it/s] \n",
      "Training Epoch 876: 100%|██████████| 507/507 [00:05<00:00, 89.23it/s]\n",
      "Training Epoch 877: 100%|██████████| 507/507 [00:05<00:00, 91.61it/s] \n",
      "Training Epoch 878: 100%|██████████| 507/507 [00:05<00:00, 91.07it/s]\n",
      "Training Epoch 879: 100%|██████████| 507/507 [00:05<00:00, 91.60it/s]\n",
      "Training Epoch 880: 100%|██████████| 507/507 [00:05<00:00, 91.39it/s]\n",
      "Training Epoch 881: 100%|██████████| 507/507 [00:05<00:00, 91.09it/s]\n"
     ]
    },
    {
     "name": "stdout",
     "output_type": "stream",
     "text": [
      "Epoch 880 - Train Loss: 0.1360, Train MSE: 0.1360, Train MAE: 0.2729\n",
      "Epoch 880 - Validation Loss: 1.2542, Validation MSE: 1.2570, Validation MAE: 0.7878\n"
     ]
    },
    {
     "name": "stderr",
     "output_type": "stream",
     "text": [
      "Training Epoch 882: 100%|██████████| 507/507 [00:05<00:00, 89.92it/s]\n",
      "Training Epoch 883: 100%|██████████| 507/507 [00:05<00:00, 91.22it/s] \n",
      "Training Epoch 884: 100%|██████████| 507/507 [00:05<00:00, 91.64it/s]\n",
      "Training Epoch 885: 100%|██████████| 507/507 [00:05<00:00, 89.32it/s]\n",
      "Training Epoch 886: 100%|██████████| 507/507 [00:05<00:00, 90.91it/s] \n",
      "Training Epoch 887: 100%|██████████| 507/507 [00:05<00:00, 87.01it/s]\n",
      "Training Epoch 888: 100%|██████████| 507/507 [00:05<00:00, 91.57it/s]\n",
      "Training Epoch 889: 100%|██████████| 507/507 [00:05<00:00, 91.43it/s]\n",
      "Training Epoch 890: 100%|██████████| 507/507 [00:05<00:00, 91.49it/s] \n",
      "Training Epoch 891: 100%|██████████| 507/507 [00:05<00:00, 92.09it/s]\n"
     ]
    },
    {
     "name": "stdout",
     "output_type": "stream",
     "text": [
      "Epoch 890 - Train Loss: 0.1366, Train MSE: 0.1366, Train MAE: 0.2725\n",
      "Epoch 890 - Validation Loss: 1.2576, Validation MSE: 1.2601, Validation MAE: 0.7940\n"
     ]
    },
    {
     "name": "stderr",
     "output_type": "stream",
     "text": [
      "Training Epoch 892: 100%|██████████| 507/507 [00:05<00:00, 94.39it/s] \n",
      "Training Epoch 893: 100%|██████████| 507/507 [00:05<00:00, 86.89it/s]\n",
      "Training Epoch 894: 100%|██████████| 507/507 [00:05<00:00, 91.31it/s]\n",
      "Training Epoch 895: 100%|██████████| 507/507 [00:05<00:00, 92.45it/s]\n",
      "Training Epoch 896: 100%|██████████| 507/507 [00:05<00:00, 88.99it/s]\n",
      "Training Epoch 897: 100%|██████████| 507/507 [00:05<00:00, 92.09it/s]\n",
      "Training Epoch 898: 100%|██████████| 507/507 [00:05<00:00, 90.62it/s]\n",
      "Training Epoch 899: 100%|██████████| 507/507 [00:05<00:00, 90.10it/s] \n",
      "Training Epoch 900: 100%|██████████| 507/507 [00:05<00:00, 91.31it/s]\n",
      "Training Epoch 901: 100%|██████████| 507/507 [00:05<00:00, 91.12it/s]\n"
     ]
    },
    {
     "name": "stdout",
     "output_type": "stream",
     "text": [
      "Epoch 900 - Train Loss: 0.1343, Train MSE: 0.1343, Train MAE: 0.2707\n",
      "Epoch 900 - Validation Loss: 1.2636, Validation MSE: 1.2664, Validation MAE: 0.7918\n"
     ]
    },
    {
     "name": "stderr",
     "output_type": "stream",
     "text": [
      "Training Epoch 902: 100%|██████████| 507/507 [00:05<00:00, 91.55it/s] \n",
      "Training Epoch 903: 100%|██████████| 507/507 [00:05<00:00, 93.85it/s] \n",
      "Training Epoch 904: 100%|██████████| 507/507 [00:05<00:00, 90.15it/s]\n",
      "Training Epoch 905: 100%|██████████| 507/507 [00:05<00:00, 91.91it/s]\n",
      "Training Epoch 906: 100%|██████████| 507/507 [00:05<00:00, 92.65it/s]\n",
      "Training Epoch 907: 100%|██████████| 507/507 [00:05<00:00, 88.74it/s]\n",
      "Training Epoch 908: 100%|██████████| 507/507 [00:05<00:00, 91.46it/s]\n",
      "Training Epoch 909: 100%|██████████| 507/507 [00:05<00:00, 91.69it/s]\n",
      "Training Epoch 910: 100%|██████████| 507/507 [00:05<00:00, 89.73it/s]\n",
      "Training Epoch 911: 100%|██████████| 507/507 [00:05<00:00, 90.35it/s] \n"
     ]
    },
    {
     "name": "stdout",
     "output_type": "stream",
     "text": [
      "Epoch 910 - Train Loss: 0.1346, Train MSE: 0.1345, Train MAE: 0.2713\n",
      "Epoch 910 - Validation Loss: 1.2618, Validation MSE: 1.2641, Validation MAE: 0.7919\n"
     ]
    },
    {
     "name": "stderr",
     "output_type": "stream",
     "text": [
      "Training Epoch 912: 100%|██████████| 507/507 [00:05<00:00, 90.02it/s]\n",
      "Training Epoch 913: 100%|██████████| 507/507 [00:05<00:00, 92.06it/s] \n",
      "Training Epoch 914: 100%|██████████| 507/507 [00:05<00:00, 94.45it/s]\n",
      "Training Epoch 915: 100%|██████████| 507/507 [00:05<00:00, 92.60it/s] \n",
      "Training Epoch 916: 100%|██████████| 507/507 [00:05<00:00, 91.78it/s]\n",
      "Training Epoch 917: 100%|██████████| 507/507 [00:05<00:00, 90.42it/s]\n",
      "Training Epoch 918: 100%|██████████| 507/507 [00:05<00:00, 87.51it/s]\n",
      "Training Epoch 919: 100%|██████████| 507/507 [00:05<00:00, 91.62it/s]\n",
      "Training Epoch 920: 100%|██████████| 507/507 [00:05<00:00, 93.06it/s]\n",
      "Training Epoch 921: 100%|██████████| 507/507 [00:05<00:00, 90.66it/s]\n"
     ]
    },
    {
     "name": "stdout",
     "output_type": "stream",
     "text": [
      "Epoch 920 - Train Loss: 0.1328, Train MSE: 0.1328, Train MAE: 0.2687\n",
      "Epoch 920 - Validation Loss: 1.2672, Validation MSE: 1.2699, Validation MAE: 0.7917\n"
     ]
    },
    {
     "name": "stderr",
     "output_type": "stream",
     "text": [
      "Training Epoch 922: 100%|██████████| 507/507 [00:05<00:00, 91.27it/s] \n",
      "Training Epoch 923: 100%|██████████| 507/507 [00:05<00:00, 89.29it/s]\n",
      "Training Epoch 924: 100%|██████████| 507/507 [00:05<00:00, 91.36it/s]\n",
      "Training Epoch 925: 100%|██████████| 507/507 [00:05<00:00, 91.70it/s] \n",
      "Training Epoch 926: 100%|██████████| 507/507 [00:05<00:00, 90.10it/s] \n",
      "Training Epoch 927: 100%|██████████| 507/507 [00:05<00:00, 88.80it/s]\n",
      "Training Epoch 928: 100%|██████████| 507/507 [00:05<00:00, 93.50it/s]\n",
      "Training Epoch 929: 100%|██████████| 507/507 [00:05<00:00, 89.92it/s]\n",
      "Training Epoch 930: 100%|██████████| 507/507 [00:05<00:00, 92.62it/s] \n",
      "Training Epoch 931: 100%|██████████| 507/507 [00:05<00:00, 90.22it/s]\n"
     ]
    },
    {
     "name": "stdout",
     "output_type": "stream",
     "text": [
      "Epoch 930 - Train Loss: 0.1302, Train MSE: 0.1304, Train MAE: 0.2686\n",
      "Epoch 930 - Validation Loss: 1.2674, Validation MSE: 1.2699, Validation MAE: 0.7927\n"
     ]
    },
    {
     "name": "stderr",
     "output_type": "stream",
     "text": [
      "Training Epoch 932: 100%|██████████| 507/507 [00:05<00:00, 90.49it/s]\n",
      "Training Epoch 933: 100%|██████████| 507/507 [00:05<00:00, 90.34it/s]\n",
      "Training Epoch 934: 100%|██████████| 507/507 [00:05<00:00, 90.46it/s] \n",
      "Training Epoch 935: 100%|██████████| 507/507 [00:05<00:00, 91.68it/s] \n",
      "Training Epoch 936: 100%|██████████| 507/507 [00:05<00:00, 92.16it/s]\n",
      "Training Epoch 937: 100%|██████████| 507/507 [00:05<00:00, 91.21it/s]\n",
      "Training Epoch 938: 100%|██████████| 507/507 [00:05<00:00, 93.15it/s]\n",
      "Training Epoch 939: 100%|██████████| 507/507 [00:05<00:00, 91.31it/s] \n",
      "Training Epoch 940: 100%|██████████| 507/507 [00:05<00:00, 92.03it/s]\n",
      "Training Epoch 941: 100%|██████████| 507/507 [00:05<00:00, 93.59it/s] \n"
     ]
    },
    {
     "name": "stdout",
     "output_type": "stream",
     "text": [
      "Epoch 940 - Train Loss: 0.1317, Train MSE: 0.1318, Train MAE: 0.2680\n",
      "Epoch 940 - Validation Loss: 1.2644, Validation MSE: 1.2672, Validation MAE: 0.7942\n"
     ]
    },
    {
     "name": "stderr",
     "output_type": "stream",
     "text": [
      "Training Epoch 942: 100%|██████████| 507/507 [00:05<00:00, 90.53it/s]\n",
      "Training Epoch 943: 100%|██████████| 507/507 [00:05<00:00, 92.74it/s] \n",
      "Training Epoch 944: 100%|██████████| 507/507 [00:05<00:00, 93.01it/s] \n",
      "Training Epoch 945: 100%|██████████| 507/507 [00:05<00:00, 90.53it/s]\n",
      "Training Epoch 946: 100%|██████████| 507/507 [00:05<00:00, 92.67it/s] \n",
      "Training Epoch 947: 100%|██████████| 507/507 [00:05<00:00, 90.66it/s] \n",
      "Training Epoch 948: 100%|██████████| 507/507 [00:05<00:00, 90.91it/s] \n",
      "Training Epoch 949: 100%|██████████| 507/507 [00:05<00:00, 91.64it/s] \n",
      "Training Epoch 950: 100%|██████████| 507/507 [00:05<00:00, 88.99it/s]\n",
      "Training Epoch 951: 100%|██████████| 507/507 [00:05<00:00, 90.10it/s]\n"
     ]
    },
    {
     "name": "stdout",
     "output_type": "stream",
     "text": [
      "Epoch 950 - Train Loss: 0.1307, Train MSE: 0.1307, Train MAE: 0.2672\n",
      "Epoch 950 - Validation Loss: 1.2624, Validation MSE: 1.2649, Validation MAE: 0.7892\n"
     ]
    },
    {
     "name": "stderr",
     "output_type": "stream",
     "text": [
      "Training Epoch 952: 100%|██████████| 507/507 [00:05<00:00, 91.92it/s] \n",
      "Training Epoch 953: 100%|██████████| 507/507 [00:05<00:00, 90.59it/s]\n",
      "Training Epoch 954: 100%|██████████| 507/507 [00:05<00:00, 92.30it/s]\n",
      "Training Epoch 955: 100%|██████████| 507/507 [00:05<00:00, 93.57it/s]\n",
      "Training Epoch 956: 100%|██████████| 507/507 [00:05<00:00, 88.65it/s]\n",
      "Training Epoch 957: 100%|██████████| 507/507 [00:05<00:00, 93.28it/s] \n",
      "Training Epoch 958: 100%|██████████| 507/507 [00:05<00:00, 92.38it/s] \n",
      "Training Epoch 959: 100%|██████████| 507/507 [00:05<00:00, 90.78it/s]\n",
      "Training Epoch 960: 100%|██████████| 507/507 [00:05<00:00, 91.51it/s]\n",
      "Training Epoch 961: 100%|██████████| 507/507 [00:05<00:00, 90.42it/s]\n"
     ]
    },
    {
     "name": "stdout",
     "output_type": "stream",
     "text": [
      "Epoch 960 - Train Loss: 0.1291, Train MSE: 0.1292, Train MAE: 0.2660\n",
      "Epoch 960 - Validation Loss: 1.2595, Validation MSE: 1.2620, Validation MAE: 0.7914\n"
     ]
    },
    {
     "name": "stderr",
     "output_type": "stream",
     "text": [
      "Training Epoch 962: 100%|██████████| 507/507 [00:05<00:00, 91.83it/s] \n",
      "Training Epoch 963: 100%|██████████| 507/507 [00:05<00:00, 90.83it/s] \n",
      "Training Epoch 964: 100%|██████████| 507/507 [00:05<00:00, 89.23it/s]\n",
      "Training Epoch 965: 100%|██████████| 507/507 [00:05<00:00, 91.00it/s]\n",
      "Training Epoch 966: 100%|██████████| 507/507 [00:05<00:00, 91.22it/s]\n",
      "Training Epoch 967: 100%|██████████| 507/507 [00:05<00:00, 89.72it/s]\n",
      "Training Epoch 968: 100%|██████████| 507/507 [00:05<00:00, 91.22it/s]\n",
      "Training Epoch 969: 100%|██████████| 507/507 [00:05<00:00, 92.61it/s] \n",
      "Training Epoch 970: 100%|██████████| 507/507 [00:05<00:00, 90.73it/s]\n",
      "Training Epoch 971: 100%|██████████| 507/507 [00:05<00:00, 91.87it/s]\n"
     ]
    },
    {
     "name": "stdout",
     "output_type": "stream",
     "text": [
      "Epoch 970 - Train Loss: 0.1292, Train MSE: 0.1291, Train MAE: 0.2649\n",
      "Epoch 970 - Validation Loss: 1.2593, Validation MSE: 1.2621, Validation MAE: 0.7894\n"
     ]
    },
    {
     "name": "stderr",
     "output_type": "stream",
     "text": [
      "Training Epoch 972: 100%|██████████| 507/507 [00:07<00:00, 66.96it/s]\n",
      "Training Epoch 973: 100%|██████████| 507/507 [00:05<00:00, 86.44it/s]\n",
      "Training Epoch 974: 100%|██████████| 507/507 [00:05<00:00, 86.50it/s]\n",
      "Training Epoch 975: 100%|██████████| 507/507 [00:05<00:00, 88.93it/s]\n",
      "Training Epoch 976: 100%|██████████| 507/507 [00:05<00:00, 90.56it/s]\n",
      "Training Epoch 977: 100%|██████████| 507/507 [00:05<00:00, 86.04it/s]\n",
      "Training Epoch 978: 100%|██████████| 507/507 [00:05<00:00, 89.15it/s]\n",
      "Training Epoch 979: 100%|██████████| 507/507 [00:05<00:00, 87.73it/s]\n",
      "Training Epoch 980: 100%|██████████| 507/507 [00:05<00:00, 90.85it/s]\n",
      "Training Epoch 981: 100%|██████████| 507/507 [00:05<00:00, 89.60it/s]\n"
     ]
    },
    {
     "name": "stdout",
     "output_type": "stream",
     "text": [
      "Epoch 980 - Train Loss: 0.1249, Train MSE: 0.1250, Train MAE: 0.2620\n",
      "Epoch 980 - Validation Loss: 1.2680, Validation MSE: 1.2705, Validation MAE: 0.7939\n"
     ]
    },
    {
     "name": "stderr",
     "output_type": "stream",
     "text": [
      "Training Epoch 982: 100%|██████████| 507/507 [00:05<00:00, 89.41it/s]\n",
      "Training Epoch 983: 100%|██████████| 507/507 [00:05<00:00, 90.75it/s]\n",
      "Training Epoch 984: 100%|██████████| 507/507 [00:05<00:00, 93.01it/s] \n",
      "Training Epoch 985: 100%|██████████| 507/507 [00:05<00:00, 86.94it/s]\n",
      "Training Epoch 986: 100%|██████████| 507/507 [00:05<00:00, 88.68it/s]\n",
      "Training Epoch 987: 100%|██████████| 507/507 [00:05<00:00, 89.47it/s]\n",
      "Training Epoch 988: 100%|██████████| 507/507 [00:05<00:00, 90.23it/s]\n",
      "Training Epoch 989: 100%|██████████| 507/507 [00:05<00:00, 90.29it/s]\n",
      "Training Epoch 990: 100%|██████████| 507/507 [00:05<00:00, 90.59it/s]\n",
      "Training Epoch 991: 100%|██████████| 507/507 [00:05<00:00, 90.03it/s]\n"
     ]
    },
    {
     "name": "stdout",
     "output_type": "stream",
     "text": [
      "Epoch 990 - Train Loss: 0.1277, Train MSE: 0.1277, Train MAE: 0.2643\n",
      "Epoch 990 - Validation Loss: 1.2430, Validation MSE: 1.2456, Validation MAE: 0.7883\n"
     ]
    },
    {
     "name": "stderr",
     "output_type": "stream",
     "text": [
      "Training Epoch 992: 100%|██████████| 507/507 [00:05<00:00, 93.37it/s]\n",
      "Training Epoch 993: 100%|██████████| 507/507 [00:05<00:00, 89.27it/s]\n",
      "Training Epoch 994: 100%|██████████| 507/507 [00:05<00:00, 89.20it/s]\n",
      "Training Epoch 995: 100%|██████████| 507/507 [00:05<00:00, 93.53it/s]\n",
      "Training Epoch 996: 100%|██████████| 507/507 [00:05<00:00, 89.21it/s]\n",
      "Training Epoch 997: 100%|██████████| 507/507 [00:05<00:00, 93.00it/s] \n",
      "Training Epoch 998: 100%|██████████| 507/507 [00:05<00:00, 90.01it/s]\n",
      "Training Epoch 999: 100%|██████████| 507/507 [00:05<00:00, 89.85it/s]\n",
      "Training Epoch 1000: 100%|██████████| 507/507 [00:05<00:00, 89.64it/s] \n",
      "Training Epoch 1001: 100%|██████████| 507/507 [00:05<00:00, 88.77it/s] \n"
     ]
    },
    {
     "name": "stdout",
     "output_type": "stream",
     "text": [
      "Epoch 1000 - Train Loss: 0.1220, Train MSE: 0.1220, Train MAE: 0.2587\n",
      "Epoch 1000 - Validation Loss: 1.2601, Validation MSE: 1.2623, Validation MAE: 0.7936\n"
     ]
    },
    {
     "name": "stderr",
     "output_type": "stream",
     "text": [
      "Training Epoch 1002: 100%|██████████| 507/507 [00:05<00:00, 91.53it/s]\n",
      "Training Epoch 1003: 100%|██████████| 507/507 [00:05<00:00, 90.74it/s]\n",
      "Training Epoch 1004: 100%|██████████| 507/507 [00:05<00:00, 89.50it/s]\n",
      "Training Epoch 1005: 100%|██████████| 507/507 [00:05<00:00, 89.86it/s]\n",
      "Training Epoch 1006: 100%|██████████| 507/507 [00:05<00:00, 91.36it/s]\n",
      "Training Epoch 1007: 100%|██████████| 507/507 [00:05<00:00, 89.62it/s]\n",
      "Training Epoch 1008: 100%|██████████| 507/507 [00:05<00:00, 88.44it/s]\n",
      "Training Epoch 1009: 100%|██████████| 507/507 [00:05<00:00, 93.61it/s] \n",
      "Training Epoch 1010: 100%|██████████| 507/507 [00:05<00:00, 90.56it/s]\n",
      "Training Epoch 1011: 100%|██████████| 507/507 [00:05<00:00, 90.00it/s]\n"
     ]
    },
    {
     "name": "stdout",
     "output_type": "stream",
     "text": [
      "Epoch 1010 - Train Loss: 0.1238, Train MSE: 0.1237, Train MAE: 0.2617\n",
      "Epoch 1010 - Validation Loss: 1.2682, Validation MSE: 1.2703, Validation MAE: 0.7947\n"
     ]
    },
    {
     "name": "stderr",
     "output_type": "stream",
     "text": [
      "Training Epoch 1012: 100%|██████████| 507/507 [00:05<00:00, 87.48it/s]\n",
      "Training Epoch 1013: 100%|██████████| 507/507 [00:05<00:00, 92.16it/s] \n",
      "Training Epoch 1014: 100%|██████████| 507/507 [00:05<00:00, 92.75it/s]\n",
      "Training Epoch 1015: 100%|██████████| 507/507 [00:05<00:00, 90.79it/s]\n",
      "Training Epoch 1016: 100%|██████████| 507/507 [00:05<00:00, 92.39it/s]\n",
      "Training Epoch 1017: 100%|██████████| 507/507 [00:05<00:00, 91.66it/s]\n",
      "Training Epoch 1018: 100%|██████████| 507/507 [00:05<00:00, 91.18it/s]\n",
      "Training Epoch 1019: 100%|██████████| 507/507 [00:05<00:00, 91.82it/s]\n",
      "Training Epoch 1020: 100%|██████████| 507/507 [00:05<00:00, 89.50it/s]\n",
      "Training Epoch 1021: 100%|██████████| 507/507 [00:05<00:00, 91.46it/s]\n"
     ]
    },
    {
     "name": "stdout",
     "output_type": "stream",
     "text": [
      "Epoch 1020 - Train Loss: 0.1253, Train MSE: 0.1254, Train MAE: 0.2611\n",
      "Epoch 1020 - Validation Loss: 1.2617, Validation MSE: 1.2639, Validation MAE: 0.7901\n"
     ]
    },
    {
     "name": "stderr",
     "output_type": "stream",
     "text": [
      "Training Epoch 1022: 100%|██████████| 507/507 [00:05<00:00, 93.17it/s] \n",
      "Training Epoch 1023: 100%|██████████| 507/507 [00:05<00:00, 91.31it/s]\n",
      "Training Epoch 1024: 100%|██████████| 507/507 [00:05<00:00, 90.13it/s]\n",
      "Training Epoch 1025: 100%|██████████| 507/507 [00:05<00:00, 92.10it/s]\n",
      "Training Epoch 1026: 100%|██████████| 507/507 [00:05<00:00, 87.89it/s]\n",
      "Training Epoch 1027: 100%|██████████| 507/507 [00:05<00:00, 92.21it/s]\n",
      "Training Epoch 1028: 100%|██████████| 507/507 [00:05<00:00, 88.18it/s]\n",
      "Training Epoch 1029: 100%|██████████| 507/507 [00:05<00:00, 91.72it/s] \n",
      "Training Epoch 1030: 100%|██████████| 507/507 [00:05<00:00, 93.31it/s] \n",
      "Training Epoch 1031: 100%|██████████| 507/507 [00:05<00:00, 89.81it/s]\n"
     ]
    },
    {
     "name": "stdout",
     "output_type": "stream",
     "text": [
      "Epoch 1030 - Train Loss: 0.1233, Train MSE: 0.1232, Train MAE: 0.2591\n",
      "Epoch 1030 - Validation Loss: 1.2543, Validation MSE: 1.2567, Validation MAE: 0.7919\n"
     ]
    },
    {
     "name": "stderr",
     "output_type": "stream",
     "text": [
      "Training Epoch 1032: 100%|██████████| 507/507 [00:05<00:00, 92.28it/s]\n",
      "Training Epoch 1033: 100%|██████████| 507/507 [00:05<00:00, 90.61it/s]\n",
      "Training Epoch 1034: 100%|██████████| 507/507 [00:05<00:00, 88.64it/s]\n",
      "Training Epoch 1035: 100%|██████████| 507/507 [00:05<00:00, 90.70it/s]\n",
      "Training Epoch 1036: 100%|██████████| 507/507 [00:05<00:00, 91.23it/s]\n",
      "Training Epoch 1037: 100%|██████████| 507/507 [00:05<00:00, 88.04it/s]\n",
      "Training Epoch 1038: 100%|██████████| 507/507 [00:05<00:00, 89.77it/s]\n",
      "Training Epoch 1039: 100%|██████████| 507/507 [00:05<00:00, 90.15it/s]\n",
      "Training Epoch 1040: 100%|██████████| 507/507 [00:05<00:00, 91.55it/s]\n",
      "Training Epoch 1041: 100%|██████████| 507/507 [00:05<00:00, 91.14it/s]\n"
     ]
    },
    {
     "name": "stdout",
     "output_type": "stream",
     "text": [
      "Epoch 1040 - Train Loss: 0.1220, Train MSE: 0.1221, Train MAE: 0.2582\n",
      "Epoch 1040 - Validation Loss: 1.2516, Validation MSE: 1.2544, Validation MAE: 0.7904\n"
     ]
    },
    {
     "name": "stderr",
     "output_type": "stream",
     "text": [
      "Training Epoch 1042: 100%|██████████| 507/507 [00:05<00:00, 89.19it/s]\n",
      "Training Epoch 1043: 100%|██████████| 507/507 [00:05<00:00, 91.51it/s]\n",
      "Training Epoch 1044: 100%|██████████| 507/507 [00:05<00:00, 91.72it/s]\n",
      "Training Epoch 1045: 100%|██████████| 507/507 [00:05<00:00, 91.08it/s]\n",
      "Training Epoch 1046: 100%|██████████| 507/507 [00:05<00:00, 90.66it/s]\n",
      "Training Epoch 1047: 100%|██████████| 507/507 [00:05<00:00, 90.58it/s]\n",
      "Training Epoch 1048: 100%|██████████| 507/507 [00:05<00:00, 90.90it/s]\n",
      "Training Epoch 1049: 100%|██████████| 507/507 [00:05<00:00, 91.99it/s]\n",
      "Training Epoch 1050: 100%|██████████| 507/507 [00:05<00:00, 89.55it/s]\n",
      "Training Epoch 1051: 100%|██████████| 507/507 [00:05<00:00, 95.53it/s] \n"
     ]
    },
    {
     "name": "stdout",
     "output_type": "stream",
     "text": [
      "Epoch 1050 - Train Loss: 0.1239, Train MSE: 0.1237, Train MAE: 0.2599\n",
      "Epoch 1050 - Validation Loss: 1.2616, Validation MSE: 1.2641, Validation MAE: 0.7923\n"
     ]
    },
    {
     "name": "stderr",
     "output_type": "stream",
     "text": [
      "Training Epoch 1052: 100%|██████████| 507/507 [00:05<00:00, 91.60it/s]\n",
      "Training Epoch 1053: 100%|██████████| 507/507 [00:05<00:00, 88.79it/s]\n",
      "Training Epoch 1054: 100%|██████████| 507/507 [00:05<00:00, 91.49it/s] \n",
      "Training Epoch 1055: 100%|██████████| 507/507 [00:05<00:00, 90.54it/s]\n",
      "Training Epoch 1056: 100%|██████████| 507/507 [00:05<00:00, 90.93it/s]\n",
      "Training Epoch 1057: 100%|██████████| 507/507 [00:05<00:00, 92.20it/s]\n",
      "Training Epoch 1058: 100%|██████████| 507/507 [00:05<00:00, 88.72it/s]\n",
      "Training Epoch 1059: 100%|██████████| 507/507 [00:05<00:00, 91.19it/s]\n",
      "Training Epoch 1060: 100%|██████████| 507/507 [00:05<00:00, 92.60it/s] \n",
      "Training Epoch 1061: 100%|██████████| 507/507 [00:05<00:00, 88.98it/s]\n"
     ]
    },
    {
     "name": "stdout",
     "output_type": "stream",
     "text": [
      "Epoch 1060 - Train Loss: 0.1233, Train MSE: 0.1233, Train MAE: 0.2590\n",
      "Epoch 1060 - Validation Loss: 1.2592, Validation MSE: 1.2613, Validation MAE: 0.7908\n"
     ]
    },
    {
     "name": "stderr",
     "output_type": "stream",
     "text": [
      "Training Epoch 1062: 100%|██████████| 507/507 [00:05<00:00, 92.61it/s]\n",
      "Training Epoch 1063: 100%|██████████| 507/507 [00:05<00:00, 92.07it/s] \n",
      "Training Epoch 1064: 100%|██████████| 507/507 [00:05<00:00, 90.97it/s]\n",
      "Training Epoch 1065: 100%|██████████| 507/507 [00:05<00:00, 92.72it/s] \n",
      "Training Epoch 1066: 100%|██████████| 507/507 [00:05<00:00, 93.04it/s] \n",
      "Training Epoch 1067: 100%|██████████| 507/507 [00:05<00:00, 88.85it/s]\n",
      "Training Epoch 1068: 100%|██████████| 507/507 [00:05<00:00, 92.22it/s]\n",
      "Training Epoch 1069: 100%|██████████| 507/507 [00:05<00:00, 90.94it/s]\n",
      "Training Epoch 1070: 100%|██████████| 507/507 [00:05<00:00, 90.31it/s]\n",
      "Training Epoch 1071: 100%|██████████| 507/507 [00:05<00:00, 91.03it/s]\n"
     ]
    },
    {
     "name": "stdout",
     "output_type": "stream",
     "text": [
      "Epoch 1070 - Train Loss: 0.1245, Train MSE: 0.1244, Train MAE: 0.2601\n",
      "Epoch 1070 - Validation Loss: 1.2605, Validation MSE: 1.2625, Validation MAE: 0.7919\n"
     ]
    },
    {
     "name": "stderr",
     "output_type": "stream",
     "text": [
      "Training Epoch 1072: 100%|██████████| 507/507 [00:05<00:00, 90.45it/s] \n",
      "Training Epoch 1073: 100%|██████████| 507/507 [00:05<00:00, 92.60it/s] \n",
      "Training Epoch 1074: 100%|██████████| 507/507 [00:05<00:00, 90.52it/s]\n",
      "Training Epoch 1075: 100%|██████████| 507/507 [00:05<00:00, 91.98it/s]\n",
      "Training Epoch 1076: 100%|██████████| 507/507 [00:05<00:00, 91.68it/s]\n",
      "Training Epoch 1077: 100%|██████████| 507/507 [00:05<00:00, 88.46it/s]\n",
      "Training Epoch 1078: 100%|██████████| 507/507 [00:05<00:00, 89.75it/s]\n",
      "Training Epoch 1079: 100%|██████████| 507/507 [00:05<00:00, 91.61it/s]\n",
      "Training Epoch 1080: 100%|██████████| 507/507 [00:05<00:00, 88.74it/s]\n",
      "Training Epoch 1081: 100%|██████████| 507/507 [00:05<00:00, 91.64it/s]\n"
     ]
    },
    {
     "name": "stdout",
     "output_type": "stream",
     "text": [
      "Epoch 1080 - Train Loss: 0.1176, Train MSE: 0.1175, Train MAE: 0.2550\n",
      "Epoch 1080 - Validation Loss: 1.2581, Validation MSE: 1.2603, Validation MAE: 0.7918\n"
     ]
    },
    {
     "name": "stderr",
     "output_type": "stream",
     "text": [
      "Training Epoch 1082: 100%|██████████| 507/507 [00:05<00:00, 91.07it/s]\n",
      "Training Epoch 1083: 100%|██████████| 507/507 [00:05<00:00, 90.79it/s] \n",
      "Training Epoch 1084: 100%|██████████| 507/507 [00:05<00:00, 92.52it/s] \n",
      "Training Epoch 1085: 100%|██████████| 507/507 [00:05<00:00, 91.94it/s] \n",
      "Training Epoch 1086: 100%|██████████| 507/507 [00:05<00:00, 90.12it/s]\n",
      "Training Epoch 1087: 100%|██████████| 507/507 [00:05<00:00, 92.03it/s]\n",
      "Training Epoch 1088: 100%|██████████| 507/507 [00:05<00:00, 88.64it/s]\n",
      "Training Epoch 1089: 100%|██████████| 507/507 [00:05<00:00, 92.31it/s] \n",
      "Training Epoch 1090: 100%|██████████| 507/507 [00:05<00:00, 91.67it/s]\n",
      "Training Epoch 1091: 100%|██████████| 507/507 [00:05<00:00, 89.83it/s] \n"
     ]
    },
    {
     "name": "stdout",
     "output_type": "stream",
     "text": [
      "Epoch 1090 - Train Loss: 0.1194, Train MSE: 0.1194, Train MAE: 0.2551\n",
      "Epoch 1090 - Validation Loss: 1.2528, Validation MSE: 1.2550, Validation MAE: 0.7907\n"
     ]
    },
    {
     "name": "stderr",
     "output_type": "stream",
     "text": [
      "Training Epoch 1092: 100%|██████████| 507/507 [00:05<00:00, 94.02it/s]\n",
      "Training Epoch 1093: 100%|██████████| 507/507 [00:05<00:00, 89.70it/s]\n",
      "Training Epoch 1094: 100%|██████████| 507/507 [00:05<00:00, 88.92it/s]\n",
      "Training Epoch 1095: 100%|██████████| 507/507 [00:05<00:00, 91.28it/s]\n",
      "Training Epoch 1096: 100%|██████████| 507/507 [00:05<00:00, 89.55it/s] \n",
      "Training Epoch 1097: 100%|██████████| 507/507 [00:05<00:00, 90.87it/s]\n",
      "Training Epoch 1098: 100%|██████████| 507/507 [00:05<00:00, 90.38it/s]\n",
      "Training Epoch 1099: 100%|██████████| 507/507 [00:05<00:00, 88.69it/s]\n",
      "Training Epoch 1100: 100%|██████████| 507/507 [00:05<00:00, 91.29it/s]\n",
      "Training Epoch 1101: 100%|██████████| 507/507 [00:05<00:00, 90.92it/s]\n"
     ]
    },
    {
     "name": "stdout",
     "output_type": "stream",
     "text": [
      "Epoch 1100 - Train Loss: 0.1216, Train MSE: 0.1216, Train MAE: 0.2574\n",
      "Epoch 1100 - Validation Loss: 1.2578, Validation MSE: 1.2599, Validation MAE: 0.7898\n"
     ]
    },
    {
     "name": "stderr",
     "output_type": "stream",
     "text": [
      "Training Epoch 1102: 100%|██████████| 507/507 [00:05<00:00, 91.79it/s]\n",
      "Training Epoch 1103: 100%|██████████| 507/507 [00:05<00:00, 90.46it/s]\n",
      "Training Epoch 1104: 100%|██████████| 507/507 [00:05<00:00, 92.36it/s] \n",
      "Training Epoch 1105: 100%|██████████| 507/507 [00:05<00:00, 89.72it/s]\n",
      "Training Epoch 1106: 100%|██████████| 507/507 [00:05<00:00, 90.84it/s]\n",
      "Training Epoch 1107: 100%|██████████| 507/507 [00:05<00:00, 88.89it/s]\n",
      "Training Epoch 1108: 100%|██████████| 507/507 [00:05<00:00, 91.60it/s]\n",
      "Training Epoch 1109: 100%|██████████| 507/507 [00:05<00:00, 89.35it/s]\n",
      "Training Epoch 1110: 100%|██████████| 507/507 [00:05<00:00, 88.80it/s]\n",
      "Training Epoch 1111: 100%|██████████| 507/507 [00:05<00:00, 90.25it/s]\n"
     ]
    },
    {
     "name": "stdout",
     "output_type": "stream",
     "text": [
      "Epoch 1110 - Train Loss: 0.1189, Train MSE: 0.1189, Train MAE: 0.2544\n",
      "Epoch 1110 - Validation Loss: 1.2572, Validation MSE: 1.2598, Validation MAE: 0.7921\n"
     ]
    },
    {
     "name": "stderr",
     "output_type": "stream",
     "text": [
      "Training Epoch 1112: 100%|██████████| 507/507 [00:05<00:00, 90.44it/s]\n",
      "Training Epoch 1113: 100%|██████████| 507/507 [00:05<00:00, 88.24it/s]\n",
      "Training Epoch 1114: 100%|██████████| 507/507 [00:05<00:00, 89.70it/s]\n",
      "Training Epoch 1115: 100%|██████████| 507/507 [00:05<00:00, 90.79it/s] \n",
      "Training Epoch 1116: 100%|██████████| 507/507 [00:05<00:00, 93.26it/s] \n",
      "Training Epoch 1117: 100%|██████████| 507/507 [00:05<00:00, 92.06it/s] \n",
      "Training Epoch 1118: 100%|██████████| 507/507 [00:05<00:00, 89.50it/s]\n",
      "Training Epoch 1119: 100%|██████████| 507/507 [00:05<00:00, 93.36it/s] \n",
      "Training Epoch 1120: 100%|██████████| 507/507 [00:05<00:00, 92.66it/s]\n",
      "Training Epoch 1121: 100%|██████████| 507/507 [00:05<00:00, 90.19it/s] \n"
     ]
    },
    {
     "name": "stdout",
     "output_type": "stream",
     "text": [
      "Epoch 1120 - Train Loss: 0.1160, Train MSE: 0.1160, Train MAE: 0.2523\n",
      "Epoch 1120 - Validation Loss: 1.2470, Validation MSE: 1.2493, Validation MAE: 0.7891\n"
     ]
    },
    {
     "name": "stderr",
     "output_type": "stream",
     "text": [
      "Training Epoch 1122: 100%|██████████| 507/507 [00:05<00:00, 94.70it/s] \n",
      "Training Epoch 1123: 100%|██████████| 507/507 [00:05<00:00, 90.56it/s]\n",
      "Training Epoch 1124: 100%|██████████| 507/507 [00:05<00:00, 90.43it/s]\n",
      "Training Epoch 1125: 100%|██████████| 507/507 [00:05<00:00, 93.37it/s] \n",
      "Training Epoch 1126: 100%|██████████| 507/507 [00:05<00:00, 91.00it/s]\n",
      "Training Epoch 1127: 100%|██████████| 507/507 [00:05<00:00, 91.00it/s]\n",
      "Training Epoch 1128: 100%|██████████| 507/507 [00:05<00:00, 90.01it/s]\n",
      "Training Epoch 1129: 100%|██████████| 507/507 [00:05<00:00, 90.72it/s]\n",
      "Training Epoch 1130: 100%|██████████| 507/507 [00:05<00:00, 87.73it/s]\n",
      "Training Epoch 1131: 100%|██████████| 507/507 [00:05<00:00, 89.92it/s]\n"
     ]
    },
    {
     "name": "stdout",
     "output_type": "stream",
     "text": [
      "Epoch 1130 - Train Loss: 0.1184, Train MSE: 0.1183, Train MAE: 0.2555\n",
      "Epoch 1130 - Validation Loss: 1.2680, Validation MSE: 1.2703, Validation MAE: 0.7943\n"
     ]
    },
    {
     "name": "stderr",
     "output_type": "stream",
     "text": [
      "Training Epoch 1132: 100%|██████████| 507/507 [00:05<00:00, 91.31it/s] \n",
      "Training Epoch 1133: 100%|██████████| 507/507 [00:05<00:00, 91.01it/s]\n",
      "Training Epoch 1134: 100%|██████████| 507/507 [00:05<00:00, 89.37it/s]\n",
      "Training Epoch 1135: 100%|██████████| 507/507 [00:05<00:00, 91.47it/s]\n",
      "Training Epoch 1136: 100%|██████████| 507/507 [00:05<00:00, 91.54it/s]\n",
      "Training Epoch 1137: 100%|██████████| 507/507 [00:05<00:00, 88.11it/s]\n",
      "Training Epoch 1138: 100%|██████████| 507/507 [00:05<00:00, 91.99it/s]\n",
      "Training Epoch 1139: 100%|██████████| 507/507 [00:05<00:00, 89.89it/s]\n",
      "Training Epoch 1140: 100%|██████████| 507/507 [00:05<00:00, 91.18it/s] \n",
      "Training Epoch 1141: 100%|██████████| 507/507 [00:05<00:00, 92.36it/s]\n"
     ]
    },
    {
     "name": "stdout",
     "output_type": "stream",
     "text": [
      "Epoch 1140 - Train Loss: 0.1180, Train MSE: 0.1180, Train MAE: 0.2543\n",
      "Epoch 1140 - Validation Loss: 1.2508, Validation MSE: 1.2535, Validation MAE: 0.7897\n"
     ]
    },
    {
     "name": "stderr",
     "output_type": "stream",
     "text": [
      "Training Epoch 1142: 100%|██████████| 507/507 [00:05<00:00, 91.59it/s]\n",
      "Training Epoch 1143: 100%|██████████| 507/507 [00:05<00:00, 90.41it/s]\n",
      "Training Epoch 1144: 100%|██████████| 507/507 [00:05<00:00, 92.90it/s] \n",
      "Training Epoch 1145: 100%|██████████| 507/507 [00:05<00:00, 88.12it/s]\n",
      "Training Epoch 1146: 100%|██████████| 507/507 [00:05<00:00, 91.53it/s] \n",
      "Training Epoch 1147: 100%|██████████| 507/507 [00:05<00:00, 89.74it/s]\n",
      "Training Epoch 1148: 100%|██████████| 507/507 [00:05<00:00, 87.83it/s]\n",
      "Training Epoch 1149: 100%|██████████| 507/507 [00:05<00:00, 92.35it/s]\n",
      "Training Epoch 1150: 100%|██████████| 507/507 [00:05<00:00, 90.55it/s]\n",
      "Training Epoch 1151: 100%|██████████| 507/507 [00:05<00:00, 89.38it/s]\n"
     ]
    },
    {
     "name": "stdout",
     "output_type": "stream",
     "text": [
      "Epoch 1150 - Train Loss: 0.1164, Train MSE: 0.1165, Train MAE: 0.2536\n",
      "Epoch 1150 - Validation Loss: 1.2612, Validation MSE: 1.2631, Validation MAE: 0.7915\n"
     ]
    },
    {
     "name": "stderr",
     "output_type": "stream",
     "text": [
      "Training Epoch 1152: 100%|██████████| 507/507 [00:05<00:00, 90.71it/s]\n",
      "Training Epoch 1153: 100%|██████████| 507/507 [00:05<00:00, 89.61it/s]\n",
      "Training Epoch 1154: 100%|██████████| 507/507 [00:05<00:00, 91.95it/s]\n",
      "Training Epoch 1155: 100%|██████████| 507/507 [00:05<00:00, 91.12it/s]\n",
      "Training Epoch 1156: 100%|██████████| 507/507 [00:06<00:00, 73.00it/s]\n",
      "Training Epoch 1157: 100%|██████████| 507/507 [00:05<00:00, 89.28it/s] \n",
      "Training Epoch 1158: 100%|██████████| 507/507 [00:05<00:00, 90.61it/s]\n",
      "Training Epoch 1159: 100%|██████████| 507/507 [00:05<00:00, 89.93it/s]\n",
      "Training Epoch 1160: 100%|██████████| 507/507 [00:05<00:00, 89.25it/s] \n",
      "Training Epoch 1161: 100%|██████████| 507/507 [00:05<00:00, 90.14it/s]\n"
     ]
    },
    {
     "name": "stdout",
     "output_type": "stream",
     "text": [
      "Epoch 1160 - Train Loss: 0.1214, Train MSE: 0.1214, Train MAE: 0.2559\n",
      "Epoch 1160 - Validation Loss: 1.2448, Validation MSE: 1.2470, Validation MAE: 0.7862\n"
     ]
    },
    {
     "name": "stderr",
     "output_type": "stream",
     "text": [
      "Training Epoch 1162: 100%|██████████| 507/507 [00:05<00:00, 93.89it/s] \n",
      "Training Epoch 1163: 100%|██████████| 507/507 [00:05<00:00, 93.58it/s]\n",
      "Training Epoch 1164: 100%|██████████| 507/507 [00:05<00:00, 92.01it/s] \n",
      "Training Epoch 1165: 100%|██████████| 507/507 [00:05<00:00, 90.97it/s]\n",
      "Training Epoch 1166: 100%|██████████| 507/507 [00:05<00:00, 91.18it/s]\n",
      "Training Epoch 1167: 100%|██████████| 507/507 [00:05<00:00, 90.24it/s] \n",
      "Training Epoch 1168: 100%|██████████| 507/507 [00:05<00:00, 90.64it/s]\n",
      "Training Epoch 1169: 100%|██████████| 507/507 [00:05<00:00, 90.37it/s]\n",
      "Training Epoch 1170: 100%|██████████| 507/507 [00:05<00:00, 90.04it/s] \n",
      "Training Epoch 1171: 100%|██████████| 507/507 [00:05<00:00, 93.04it/s] \n"
     ]
    },
    {
     "name": "stdout",
     "output_type": "stream",
     "text": [
      "Epoch 1170 - Train Loss: 0.1155, Train MSE: 0.1153, Train MAE: 0.2528\n",
      "Epoch 1170 - Validation Loss: 1.2548, Validation MSE: 1.2571, Validation MAE: 0.7894\n"
     ]
    },
    {
     "name": "stderr",
     "output_type": "stream",
     "text": [
      "Training Epoch 1172: 100%|██████████| 507/507 [00:05<00:00, 90.19it/s]\n",
      "Training Epoch 1173: 100%|██████████| 507/507 [00:05<00:00, 91.93it/s]\n",
      "Training Epoch 1174: 100%|██████████| 507/507 [00:05<00:00, 91.41it/s] \n",
      "Training Epoch 1175: 100%|██████████| 507/507 [00:05<00:00, 88.03it/s]\n",
      "Training Epoch 1176: 100%|██████████| 507/507 [00:05<00:00, 92.14it/s]\n",
      "Training Epoch 1177: 100%|██████████| 507/507 [00:05<00:00, 93.34it/s] \n",
      "Training Epoch 1178: 100%|██████████| 507/507 [00:05<00:00, 89.35it/s]\n",
      "Training Epoch 1179: 100%|██████████| 507/507 [00:05<00:00, 88.72it/s]\n",
      "Training Epoch 1180: 100%|██████████| 507/507 [00:05<00:00, 89.51it/s]\n",
      "Training Epoch 1181: 100%|██████████| 507/507 [00:05<00:00, 89.39it/s] \n"
     ]
    },
    {
     "name": "stdout",
     "output_type": "stream",
     "text": [
      "Epoch 1180 - Train Loss: 0.1169, Train MSE: 0.1170, Train MAE: 0.2528\n",
      "Epoch 1180 - Validation Loss: 1.2512, Validation MSE: 1.2536, Validation MAE: 0.7901\n"
     ]
    },
    {
     "name": "stderr",
     "output_type": "stream",
     "text": [
      "Training Epoch 1182: 100%|██████████| 507/507 [00:05<00:00, 91.28it/s]\n",
      "Training Epoch 1183: 100%|██████████| 507/507 [00:05<00:00, 91.46it/s]\n",
      "Training Epoch 1184: 100%|██████████| 507/507 [00:05<00:00, 90.53it/s] \n",
      "Training Epoch 1185: 100%|██████████| 507/507 [00:05<00:00, 90.54it/s]\n",
      "Training Epoch 1186: 100%|██████████| 507/507 [00:05<00:00, 90.26it/s] \n",
      "Training Epoch 1187: 100%|██████████| 507/507 [00:05<00:00, 92.33it/s]\n",
      "Training Epoch 1188: 100%|██████████| 507/507 [00:05<00:00, 90.26it/s]\n",
      "Training Epoch 1189: 100%|██████████| 507/507 [00:05<00:00, 90.68it/s]\n",
      "Training Epoch 1190: 100%|██████████| 507/507 [00:05<00:00, 90.43it/s]\n",
      "Training Epoch 1191: 100%|██████████| 507/507 [00:05<00:00, 89.93it/s] \n"
     ]
    },
    {
     "name": "stdout",
     "output_type": "stream",
     "text": [
      "Epoch 1190 - Train Loss: 0.1129, Train MSE: 0.1130, Train MAE: 0.2483\n",
      "Epoch 1190 - Validation Loss: 1.2514, Validation MSE: 1.2539, Validation MAE: 0.7918\n"
     ]
    },
    {
     "name": "stderr",
     "output_type": "stream",
     "text": [
      "Training Epoch 1192: 100%|██████████| 507/507 [00:05<00:00, 90.87it/s]\n",
      "Training Epoch 1193: 100%|██████████| 507/507 [00:05<00:00, 90.09it/s]\n",
      "Training Epoch 1194: 100%|██████████| 507/507 [00:05<00:00, 90.35it/s]\n",
      "Training Epoch 1195: 100%|██████████| 507/507 [00:05<00:00, 92.99it/s] \n",
      "Training Epoch 1196: 100%|██████████| 507/507 [00:05<00:00, 86.98it/s]\n",
      "Training Epoch 1197: 100%|██████████| 507/507 [00:05<00:00, 90.82it/s]\n",
      "Training Epoch 1198: 100%|██████████| 507/507 [00:05<00:00, 90.99it/s]\n",
      "Training Epoch 1199: 100%|██████████| 507/507 [00:05<00:00, 89.66it/s]\n",
      "Training Epoch 1200: 100%|██████████| 507/507 [00:05<00:00, 91.19it/s]\n",
      "Training Epoch 1201: 100%|██████████| 507/507 [00:05<00:00, 90.76it/s]\n"
     ]
    },
    {
     "name": "stdout",
     "output_type": "stream",
     "text": [
      "Epoch 1200 - Train Loss: 0.1106, Train MSE: 0.1106, Train MAE: 0.2457\n",
      "Epoch 1200 - Validation Loss: 1.2575, Validation MSE: 1.2599, Validation MAE: 0.7927\n"
     ]
    },
    {
     "name": "stderr",
     "output_type": "stream",
     "text": [
      "Training Epoch 1202: 100%|██████████| 507/507 [00:05<00:00, 90.26it/s]\n",
      "Training Epoch 1203: 100%|██████████| 507/507 [00:05<00:00, 91.48it/s]\n",
      "Training Epoch 1204: 100%|██████████| 507/507 [00:05<00:00, 89.75it/s]\n",
      "Training Epoch 1205: 100%|██████████| 507/507 [00:05<00:00, 91.35it/s]\n",
      "Training Epoch 1206: 100%|██████████| 507/507 [00:05<00:00, 93.40it/s]\n",
      "Training Epoch 1207: 100%|██████████| 507/507 [00:05<00:00, 88.38it/s]\n",
      "Training Epoch 1208: 100%|██████████| 507/507 [00:05<00:00, 91.98it/s] \n",
      "Training Epoch 1209: 100%|██████████| 507/507 [00:05<00:00, 91.62it/s]\n",
      "Training Epoch 1210: 100%|██████████| 507/507 [00:05<00:00, 88.94it/s]\n",
      "Training Epoch 1211: 100%|██████████| 507/507 [00:05<00:00, 89.43it/s]\n"
     ]
    },
    {
     "name": "stdout",
     "output_type": "stream",
     "text": [
      "Epoch 1210 - Train Loss: 0.1189, Train MSE: 0.1188, Train MAE: 0.2524\n",
      "Epoch 1210 - Validation Loss: 1.2573, Validation MSE: 1.2599, Validation MAE: 0.7885\n"
     ]
    },
    {
     "name": "stderr",
     "output_type": "stream",
     "text": [
      "Training Epoch 1212: 100%|██████████| 507/507 [00:05<00:00, 91.25it/s]\n",
      "Training Epoch 1213: 100%|██████████| 507/507 [00:05<00:00, 89.13it/s] \n",
      "Training Epoch 1214: 100%|██████████| 507/507 [00:05<00:00, 92.15it/s] \n",
      "Training Epoch 1215: 100%|██████████| 507/507 [00:05<00:00, 87.92it/s]\n",
      "Training Epoch 1216: 100%|██████████| 507/507 [00:05<00:00, 90.82it/s]\n",
      "Training Epoch 1217: 100%|██████████| 507/507 [00:05<00:00, 89.61it/s]\n",
      "Training Epoch 1218: 100%|██████████| 507/507 [00:05<00:00, 91.73it/s] \n",
      "Training Epoch 1219: 100%|██████████| 507/507 [00:05<00:00, 91.81it/s] \n",
      "Training Epoch 1220: 100%|██████████| 507/507 [00:05<00:00, 90.10it/s]\n",
      "Training Epoch 1221: 100%|██████████| 507/507 [00:05<00:00, 89.11it/s]\n"
     ]
    },
    {
     "name": "stdout",
     "output_type": "stream",
     "text": [
      "Epoch 1220 - Train Loss: 0.1128, Train MSE: 0.1128, Train MAE: 0.2486\n",
      "Epoch 1220 - Validation Loss: 1.2621, Validation MSE: 1.2643, Validation MAE: 0.7899\n"
     ]
    },
    {
     "name": "stderr",
     "output_type": "stream",
     "text": [
      "Training Epoch 1222: 100%|██████████| 507/507 [00:05<00:00, 93.75it/s] \n",
      "Training Epoch 1223: 100%|██████████| 507/507 [00:05<00:00, 91.57it/s] \n",
      "Training Epoch 1224: 100%|██████████| 507/507 [00:05<00:00, 90.71it/s]\n",
      "Training Epoch 1225: 100%|██████████| 507/507 [00:05<00:00, 90.58it/s]\n",
      "Training Epoch 1226: 100%|██████████| 507/507 [00:05<00:00, 91.93it/s] \n",
      "Training Epoch 1227: 100%|██████████| 507/507 [00:05<00:00, 92.16it/s]\n",
      "Training Epoch 1228: 100%|██████████| 507/507 [00:05<00:00, 89.97it/s]\n",
      "Training Epoch 1229: 100%|██████████| 507/507 [00:05<00:00, 88.56it/s]\n",
      "Training Epoch 1230: 100%|██████████| 507/507 [00:05<00:00, 90.50it/s]\n",
      "Training Epoch 1231: 100%|██████████| 507/507 [00:05<00:00, 90.05it/s]\n"
     ]
    },
    {
     "name": "stdout",
     "output_type": "stream",
     "text": [
      "Epoch 1230 - Train Loss: 0.1136, Train MSE: 0.1136, Train MAE: 0.2475\n",
      "Epoch 1230 - Validation Loss: 1.2443, Validation MSE: 1.2467, Validation MAE: 0.7852\n"
     ]
    },
    {
     "name": "stderr",
     "output_type": "stream",
     "text": [
      "Training Epoch 1232: 100%|██████████| 507/507 [00:05<00:00, 91.41it/s] \n",
      "Training Epoch 1233: 100%|██████████| 507/507 [00:05<00:00, 89.77it/s]\n",
      "Training Epoch 1234: 100%|██████████| 507/507 [00:05<00:00, 90.65it/s] \n",
      "Training Epoch 1235: 100%|██████████| 507/507 [00:05<00:00, 91.87it/s]\n",
      "Training Epoch 1236: 100%|██████████| 507/507 [00:05<00:00, 90.59it/s]\n",
      "Training Epoch 1237: 100%|██████████| 507/507 [00:05<00:00, 88.79it/s]\n",
      "Training Epoch 1238: 100%|██████████| 507/507 [00:05<00:00, 93.13it/s] \n",
      "Training Epoch 1239: 100%|██████████| 507/507 [00:05<00:00, 90.88it/s]\n",
      "Training Epoch 1240: 100%|██████████| 507/507 [00:05<00:00, 91.02it/s]\n",
      "Training Epoch 1241: 100%|██████████| 507/507 [00:05<00:00, 90.55it/s]\n"
     ]
    },
    {
     "name": "stdout",
     "output_type": "stream",
     "text": [
      "Epoch 1240 - Train Loss: 0.1131, Train MSE: 0.1131, Train MAE: 0.2482\n",
      "Epoch 1240 - Validation Loss: 1.2524, Validation MSE: 1.2543, Validation MAE: 0.7861\n"
     ]
    },
    {
     "name": "stderr",
     "output_type": "stream",
     "text": [
      "Training Epoch 1242: 100%|██████████| 507/507 [00:05<00:00, 90.23it/s]\n",
      "Training Epoch 1243: 100%|██████████| 507/507 [00:05<00:00, 92.48it/s] \n",
      "Training Epoch 1244: 100%|██████████| 507/507 [00:05<00:00, 90.91it/s]\n",
      "Training Epoch 1245: 100%|██████████| 507/507 [00:05<00:00, 88.05it/s]\n",
      "Training Epoch 1246: 100%|██████████| 507/507 [00:05<00:00, 90.83it/s]\n",
      "Training Epoch 1247: 100%|██████████| 507/507 [00:05<00:00, 93.13it/s] \n",
      "Training Epoch 1248: 100%|██████████| 507/507 [00:05<00:00, 91.12it/s]\n",
      "Training Epoch 1249: 100%|██████████| 507/507 [00:05<00:00, 91.24it/s]\n",
      "Training Epoch 1250: 100%|██████████| 507/507 [00:05<00:00, 93.23it/s]\n",
      "Training Epoch 1251: 100%|██████████| 507/507 [00:05<00:00, 89.80it/s]\n"
     ]
    },
    {
     "name": "stdout",
     "output_type": "stream",
     "text": [
      "Epoch 1250 - Train Loss: 0.1125, Train MSE: 0.1124, Train MAE: 0.2497\n",
      "Epoch 1250 - Validation Loss: 1.2435, Validation MSE: 1.2459, Validation MAE: 0.7882\n"
     ]
    },
    {
     "name": "stderr",
     "output_type": "stream",
     "text": [
      "Training Epoch 1252: 100%|██████████| 507/507 [00:05<00:00, 90.40it/s]\n",
      "Training Epoch 1253: 100%|██████████| 507/507 [00:05<00:00, 92.40it/s]\n",
      "Training Epoch 1254: 100%|██████████| 507/507 [00:05<00:00, 92.57it/s]\n",
      "Training Epoch 1255: 100%|██████████| 507/507 [00:05<00:00, 88.58it/s]\n",
      "Training Epoch 1256: 100%|██████████| 507/507 [00:05<00:00, 90.43it/s] \n",
      "Training Epoch 1257: 100%|██████████| 507/507 [00:05<00:00, 89.66it/s]\n",
      "Training Epoch 1258: 100%|██████████| 507/507 [00:05<00:00, 90.82it/s]\n",
      "Training Epoch 1259: 100%|██████████| 507/507 [00:05<00:00, 89.24it/s]\n",
      "Training Epoch 1260: 100%|██████████| 507/507 [00:05<00:00, 89.18it/s]\n",
      "Training Epoch 1261: 100%|██████████| 507/507 [00:05<00:00, 88.72it/s]\n"
     ]
    },
    {
     "name": "stdout",
     "output_type": "stream",
     "text": [
      "Epoch 1260 - Train Loss: 0.1134, Train MSE: 0.1134, Train MAE: 0.2490\n",
      "Epoch 1260 - Validation Loss: 1.2449, Validation MSE: 1.2472, Validation MAE: 0.7875\n"
     ]
    },
    {
     "name": "stderr",
     "output_type": "stream",
     "text": [
      "Training Epoch 1262: 100%|██████████| 507/507 [00:05<00:00, 87.39it/s]\n",
      "Training Epoch 1263: 100%|██████████| 507/507 [00:05<00:00, 85.71it/s]\n",
      "Training Epoch 1264: 100%|██████████| 507/507 [00:05<00:00, 85.68it/s]\n",
      "Training Epoch 1265: 100%|██████████| 507/507 [00:05<00:00, 88.56it/s]\n",
      "Training Epoch 1266: 100%|██████████| 507/507 [00:05<00:00, 90.62it/s] \n",
      "Training Epoch 1267: 100%|██████████| 507/507 [00:05<00:00, 88.24it/s] \n",
      "Training Epoch 1268: 100%|██████████| 507/507 [00:05<00:00, 88.82it/s]\n",
      "Training Epoch 1269: 100%|██████████| 507/507 [00:05<00:00, 85.63it/s] \n",
      "Training Epoch 1270: 100%|██████████| 507/507 [00:05<00:00, 88.67it/s]\n",
      "Training Epoch 1271: 100%|██████████| 507/507 [00:05<00:00, 92.25it/s]\n"
     ]
    },
    {
     "name": "stdout",
     "output_type": "stream",
     "text": [
      "Epoch 1270 - Train Loss: 0.1119, Train MSE: 0.1120, Train MAE: 0.2477\n",
      "Epoch 1270 - Validation Loss: 1.2489, Validation MSE: 1.2512, Validation MAE: 0.7896\n"
     ]
    },
    {
     "name": "stderr",
     "output_type": "stream",
     "text": [
      "Training Epoch 1272: 100%|██████████| 507/507 [00:06<00:00, 82.93it/s] \n",
      "Training Epoch 1273: 100%|██████████| 507/507 [00:05<00:00, 88.67it/s]\n",
      "Training Epoch 1274: 100%|██████████| 507/507 [00:05<00:00, 89.17it/s]\n",
      "Training Epoch 1275: 100%|██████████| 507/507 [00:05<00:00, 88.39it/s]\n",
      "Training Epoch 1276: 100%|██████████| 507/507 [00:05<00:00, 93.85it/s] \n",
      "Training Epoch 1277: 100%|██████████| 507/507 [00:05<00:00, 88.91it/s]\n",
      "Training Epoch 1278: 100%|██████████| 507/507 [00:05<00:00, 89.37it/s]\n",
      "Training Epoch 1279: 100%|██████████| 507/507 [00:05<00:00, 91.07it/s]\n",
      "Training Epoch 1280: 100%|██████████| 507/507 [00:05<00:00, 89.20it/s]\n",
      "Training Epoch 1281: 100%|██████████| 507/507 [00:05<00:00, 91.78it/s]\n"
     ]
    },
    {
     "name": "stdout",
     "output_type": "stream",
     "text": [
      "Epoch 1280 - Train Loss: 0.1098, Train MSE: 0.1099, Train MAE: 0.2450\n",
      "Epoch 1280 - Validation Loss: 1.2539, Validation MSE: 1.2564, Validation MAE: 0.7870\n"
     ]
    },
    {
     "name": "stderr",
     "output_type": "stream",
     "text": [
      "Training Epoch 1282: 100%|██████████| 507/507 [00:05<00:00, 89.64it/s]\n",
      "Training Epoch 1283: 100%|██████████| 507/507 [00:05<00:00, 89.94it/s]\n",
      "Training Epoch 1284: 100%|██████████| 507/507 [00:05<00:00, 91.10it/s] \n",
      "Training Epoch 1285: 100%|██████████| 507/507 [00:05<00:00, 89.71it/s]\n",
      "Training Epoch 1286: 100%|██████████| 507/507 [00:05<00:00, 88.85it/s]\n",
      "Training Epoch 1287: 100%|██████████| 507/507 [00:05<00:00, 91.57it/s] \n",
      "Training Epoch 1288: 100%|██████████| 507/507 [00:05<00:00, 88.37it/s]\n",
      "Training Epoch 1289: 100%|██████████| 507/507 [00:05<00:00, 92.27it/s]\n",
      "Training Epoch 1290: 100%|██████████| 507/507 [00:05<00:00, 91.22it/s]\n",
      "Training Epoch 1291: 100%|██████████| 507/507 [00:05<00:00, 90.52it/s]\n"
     ]
    },
    {
     "name": "stdout",
     "output_type": "stream",
     "text": [
      "Epoch 1290 - Train Loss: 0.1110, Train MSE: 0.1110, Train MAE: 0.2463\n",
      "Epoch 1290 - Validation Loss: 1.2353, Validation MSE: 1.2377, Validation MAE: 0.7849\n"
     ]
    },
    {
     "name": "stderr",
     "output_type": "stream",
     "text": [
      "Training Epoch 1292: 100%|██████████| 507/507 [00:05<00:00, 90.92it/s]\n",
      "Training Epoch 1293: 100%|██████████| 507/507 [00:05<00:00, 90.63it/s] \n",
      "Training Epoch 1294: 100%|██████████| 507/507 [00:05<00:00, 90.63it/s]\n",
      "Training Epoch 1295: 100%|██████████| 507/507 [00:05<00:00, 92.85it/s]\n",
      "Training Epoch 1296: 100%|██████████| 507/507 [00:05<00:00, 89.87it/s]\n",
      "Training Epoch 1297: 100%|██████████| 507/507 [00:05<00:00, 89.72it/s]\n",
      "Training Epoch 1298: 100%|██████████| 507/507 [00:05<00:00, 91.92it/s]\n",
      "Training Epoch 1299: 100%|██████████| 507/507 [00:05<00:00, 91.00it/s] \n",
      "Training Epoch 1300: 100%|██████████| 507/507 [00:05<00:00, 92.55it/s] \n",
      "Training Epoch 1301: 100%|██████████| 507/507 [00:05<00:00, 90.55it/s]\n"
     ]
    },
    {
     "name": "stdout",
     "output_type": "stream",
     "text": [
      "Epoch 1300 - Train Loss: 0.1126, Train MSE: 0.1127, Train MAE: 0.2484\n",
      "Epoch 1300 - Validation Loss: 1.2453, Validation MSE: 1.2476, Validation MAE: 0.7894\n"
     ]
    },
    {
     "name": "stderr",
     "output_type": "stream",
     "text": [
      "Training Epoch 1302: 100%|██████████| 507/507 [00:05<00:00, 91.83it/s] \n",
      "Training Epoch 1303: 100%|██████████| 507/507 [00:05<00:00, 89.19it/s]\n",
      "Training Epoch 1304: 100%|██████████| 507/507 [00:05<00:00, 89.75it/s]\n",
      "Training Epoch 1305: 100%|██████████| 507/507 [00:05<00:00, 94.20it/s] \n",
      "Training Epoch 1306: 100%|██████████| 507/507 [00:05<00:00, 90.57it/s]\n",
      "Training Epoch 1307: 100%|██████████| 507/507 [00:05<00:00, 88.76it/s]\n",
      "Training Epoch 1308: 100%|██████████| 507/507 [00:05<00:00, 89.46it/s]\n",
      "Training Epoch 1309: 100%|██████████| 507/507 [00:05<00:00, 90.13it/s]\n",
      "Training Epoch 1310: 100%|██████████| 507/507 [00:05<00:00, 89.37it/s]\n",
      "Training Epoch 1311: 100%|██████████| 507/507 [00:05<00:00, 91.09it/s]\n"
     ]
    },
    {
     "name": "stdout",
     "output_type": "stream",
     "text": [
      "Epoch 1310 - Train Loss: 0.1124, Train MSE: 0.1125, Train MAE: 0.2465\n",
      "Epoch 1310 - Validation Loss: 1.2464, Validation MSE: 1.2490, Validation MAE: 0.7875\n"
     ]
    },
    {
     "name": "stderr",
     "output_type": "stream",
     "text": [
      "Training Epoch 1312: 100%|██████████| 507/507 [00:05<00:00, 90.03it/s]\n",
      "Training Epoch 1313: 100%|██████████| 507/507 [00:05<00:00, 90.04it/s]\n",
      "Training Epoch 1314: 100%|██████████| 507/507 [00:05<00:00, 90.58it/s]\n",
      "Training Epoch 1315: 100%|██████████| 507/507 [00:05<00:00, 91.35it/s]\n",
      "Training Epoch 1316: 100%|██████████| 507/507 [00:05<00:00, 92.94it/s]\n",
      "Training Epoch 1317: 100%|██████████| 507/507 [00:05<00:00, 89.66it/s]\n",
      "Training Epoch 1318: 100%|██████████| 507/507 [00:05<00:00, 89.30it/s]\n",
      "Training Epoch 1319: 100%|██████████| 507/507 [00:05<00:00, 91.74it/s] \n",
      "Training Epoch 1320: 100%|██████████| 507/507 [00:05<00:00, 87.84it/s]\n",
      "Training Epoch 1321: 100%|██████████| 507/507 [00:05<00:00, 90.15it/s]\n"
     ]
    },
    {
     "name": "stdout",
     "output_type": "stream",
     "text": [
      "Epoch 1320 - Train Loss: 0.1148, Train MSE: 0.1149, Train MAE: 0.2482\n",
      "Epoch 1320 - Validation Loss: 1.2440, Validation MSE: 1.2464, Validation MAE: 0.7860\n"
     ]
    },
    {
     "name": "stderr",
     "output_type": "stream",
     "text": [
      "Training Epoch 1322: 100%|██████████| 507/507 [00:05<00:00, 88.87it/s]\n",
      "Training Epoch 1323: 100%|██████████| 507/507 [00:05<00:00, 88.23it/s]\n",
      "Training Epoch 1324: 100%|██████████| 507/507 [00:05<00:00, 91.15it/s]\n",
      "Training Epoch 1325: 100%|██████████| 507/507 [00:05<00:00, 93.45it/s]\n",
      "Training Epoch 1326: 100%|██████████| 507/507 [00:05<00:00, 89.84it/s]\n",
      "Training Epoch 1327: 100%|██████████| 507/507 [00:05<00:00, 91.49it/s]\n",
      "Training Epoch 1328: 100%|██████████| 507/507 [00:05<00:00, 86.86it/s]\n",
      "Training Epoch 1329: 100%|██████████| 507/507 [00:05<00:00, 90.25it/s]\n",
      "Training Epoch 1330: 100%|██████████| 507/507 [00:05<00:00, 91.99it/s] \n",
      "Training Epoch 1331: 100%|██████████| 507/507 [00:05<00:00, 89.17it/s]\n"
     ]
    },
    {
     "name": "stdout",
     "output_type": "stream",
     "text": [
      "Epoch 1330 - Train Loss: 0.1068, Train MSE: 0.1068, Train MAE: 0.2424\n",
      "Epoch 1330 - Validation Loss: 1.2450, Validation MSE: 1.2470, Validation MAE: 0.7864\n"
     ]
    },
    {
     "name": "stderr",
     "output_type": "stream",
     "text": [
      "Training Epoch 1332: 100%|██████████| 507/507 [00:05<00:00, 91.47it/s]\n",
      "Training Epoch 1333: 100%|██████████| 507/507 [00:05<00:00, 91.26it/s]\n",
      "Training Epoch 1334: 100%|██████████| 507/507 [00:05<00:00, 88.90it/s]\n",
      "Training Epoch 1335: 100%|██████████| 507/507 [00:05<00:00, 91.91it/s] \n",
      "Training Epoch 1336: 100%|██████████| 507/507 [00:05<00:00, 93.05it/s] \n",
      "Training Epoch 1337: 100%|██████████| 507/507 [00:05<00:00, 90.61it/s]\n",
      "Training Epoch 1338: 100%|██████████| 507/507 [00:05<00:00, 92.68it/s]\n",
      "Training Epoch 1339: 100%|██████████| 507/507 [00:05<00:00, 90.71it/s]\n",
      "Training Epoch 1340: 100%|██████████| 507/507 [00:05<00:00, 91.12it/s]\n",
      "Training Epoch 1341: 100%|██████████| 507/507 [00:05<00:00, 91.49it/s]\n"
     ]
    },
    {
     "name": "stdout",
     "output_type": "stream",
     "text": [
      "Epoch 1340 - Train Loss: 0.1066, Train MSE: 0.1067, Train MAE: 0.2419\n",
      "Epoch 1340 - Validation Loss: 1.2451, Validation MSE: 1.2475, Validation MAE: 0.7893\n"
     ]
    },
    {
     "name": "stderr",
     "output_type": "stream",
     "text": [
      "Training Epoch 1342: 100%|██████████| 507/507 [00:05<00:00, 88.72it/s]\n",
      "Training Epoch 1343: 100%|██████████| 507/507 [00:05<00:00, 90.46it/s]\n",
      "Training Epoch 1344: 100%|██████████| 507/507 [00:05<00:00, 93.39it/s]\n",
      "Training Epoch 1345: 100%|██████████| 507/507 [00:05<00:00, 88.86it/s]\n",
      "Training Epoch 1346: 100%|██████████| 507/507 [00:05<00:00, 91.85it/s]\n",
      "Training Epoch 1347: 100%|██████████| 507/507 [00:05<00:00, 90.23it/s]\n",
      "Training Epoch 1348: 100%|██████████| 507/507 [00:05<00:00, 91.47it/s]\n",
      "Training Epoch 1349: 100%|██████████| 507/507 [00:05<00:00, 90.78it/s]\n",
      "Training Epoch 1350: 100%|██████████| 507/507 [00:05<00:00, 89.44it/s]\n",
      "Training Epoch 1351: 100%|██████████| 507/507 [00:05<00:00, 89.99it/s]\n"
     ]
    },
    {
     "name": "stdout",
     "output_type": "stream",
     "text": [
      "Epoch 1350 - Train Loss: 0.1088, Train MSE: 0.1088, Train MAE: 0.2437\n",
      "Epoch 1350 - Validation Loss: 1.2454, Validation MSE: 1.2479, Validation MAE: 0.7879\n"
     ]
    },
    {
     "name": "stderr",
     "output_type": "stream",
     "text": [
      "Training Epoch 1352: 100%|██████████| 507/507 [00:05<00:00, 91.04it/s]\n",
      "Training Epoch 1353: 100%|██████████| 507/507 [00:05<00:00, 88.57it/s]\n",
      "Training Epoch 1354: 100%|██████████| 507/507 [00:05<00:00, 90.84it/s]\n",
      "Training Epoch 1355: 100%|██████████| 507/507 [00:05<00:00, 91.11it/s]\n",
      "Training Epoch 1356: 100%|██████████| 507/507 [00:05<00:00, 88.51it/s]\n",
      "Training Epoch 1357: 100%|██████████| 507/507 [00:05<00:00, 90.57it/s] \n",
      "Training Epoch 1358: 100%|██████████| 507/507 [00:05<00:00, 89.25it/s]\n",
      "Training Epoch 1359: 100%|██████████| 507/507 [00:05<00:00, 88.37it/s]\n",
      "Training Epoch 1360: 100%|██████████| 507/507 [00:05<00:00, 90.06it/s]\n",
      "Training Epoch 1361: 100%|██████████| 507/507 [00:05<00:00, 89.99it/s]\n"
     ]
    },
    {
     "name": "stdout",
     "output_type": "stream",
     "text": [
      "Epoch 1360 - Train Loss: 0.1046, Train MSE: 0.1045, Train MAE: 0.2392\n",
      "Epoch 1360 - Validation Loss: 1.2423, Validation MSE: 1.2449, Validation MAE: 0.7856\n"
     ]
    },
    {
     "name": "stderr",
     "output_type": "stream",
     "text": [
      "Training Epoch 1362: 100%|██████████| 507/507 [00:05<00:00, 91.87it/s]\n",
      "Training Epoch 1363: 100%|██████████| 507/507 [00:05<00:00, 89.94it/s]\n",
      "Training Epoch 1364: 100%|██████████| 507/507 [00:05<00:00, 89.83it/s] \n",
      "Training Epoch 1365: 100%|██████████| 507/507 [00:05<00:00, 90.89it/s]\n",
      "Training Epoch 1366: 100%|██████████| 507/507 [00:05<00:00, 89.28it/s]\n",
      "Training Epoch 1367: 100%|██████████| 507/507 [00:05<00:00, 92.63it/s]\n",
      "Training Epoch 1368: 100%|██████████| 507/507 [00:05<00:00, 91.45it/s]\n",
      "Training Epoch 1369: 100%|██████████| 507/507 [00:05<00:00, 89.84it/s]\n",
      "Training Epoch 1370: 100%|██████████| 507/507 [00:05<00:00, 89.46it/s]\n",
      "Training Epoch 1371: 100%|██████████| 507/507 [00:05<00:00, 92.68it/s]\n"
     ]
    },
    {
     "name": "stdout",
     "output_type": "stream",
     "text": [
      "Epoch 1370 - Train Loss: 0.1087, Train MSE: 0.1087, Train MAE: 0.2431\n",
      "Epoch 1370 - Validation Loss: 1.2425, Validation MSE: 1.2451, Validation MAE: 0.7891\n"
     ]
    },
    {
     "name": "stderr",
     "output_type": "stream",
     "text": [
      "Training Epoch 1372: 100%|██████████| 507/507 [00:05<00:00, 90.55it/s]\n",
      "Training Epoch 1373: 100%|██████████| 507/507 [00:05<00:00, 89.95it/s]\n",
      "Training Epoch 1374: 100%|██████████| 507/507 [00:05<00:00, 89.44it/s] \n",
      "Training Epoch 1375: 100%|██████████| 507/507 [00:05<00:00, 93.02it/s] \n",
      "Training Epoch 1376: 100%|██████████| 507/507 [00:05<00:00, 91.06it/s]\n",
      "Training Epoch 1377: 100%|██████████| 507/507 [00:05<00:00, 90.80it/s] \n",
      "Training Epoch 1378: 100%|██████████| 507/507 [00:05<00:00, 89.69it/s]\n",
      "Training Epoch 1379: 100%|██████████| 507/507 [00:05<00:00, 91.11it/s] \n",
      "Training Epoch 1380: 100%|██████████| 507/507 [00:05<00:00, 91.74it/s]\n",
      "Training Epoch 1381: 100%|██████████| 507/507 [00:05<00:00, 90.65it/s]\n"
     ]
    },
    {
     "name": "stdout",
     "output_type": "stream",
     "text": [
      "Epoch 1380 - Train Loss: 0.1090, Train MSE: 0.1090, Train MAE: 0.2431\n",
      "Epoch 1380 - Validation Loss: 1.2413, Validation MSE: 1.2437, Validation MAE: 0.7886\n"
     ]
    },
    {
     "name": "stderr",
     "output_type": "stream",
     "text": [
      "Training Epoch 1382: 100%|██████████| 507/507 [00:05<00:00, 90.78it/s]\n",
      "Training Epoch 1383: 100%|██████████| 507/507 [00:05<00:00, 90.02it/s]\n",
      "Training Epoch 1384: 100%|██████████| 507/507 [00:05<00:00, 90.58it/s]\n",
      "Training Epoch 1385: 100%|██████████| 507/507 [00:05<00:00, 89.83it/s]\n",
      "Training Epoch 1386: 100%|██████████| 507/507 [00:05<00:00, 91.90it/s]\n",
      "Training Epoch 1387: 100%|██████████| 507/507 [00:05<00:00, 92.88it/s]\n",
      "Training Epoch 1388: 100%|██████████| 507/507 [00:05<00:00, 91.29it/s]\n",
      "Training Epoch 1389: 100%|██████████| 507/507 [00:05<00:00, 91.01it/s]\n",
      "Training Epoch 1390: 100%|██████████| 507/507 [00:05<00:00, 93.22it/s]\n",
      "Training Epoch 1391: 100%|██████████| 507/507 [00:05<00:00, 88.55it/s]\n"
     ]
    },
    {
     "name": "stdout",
     "output_type": "stream",
     "text": [
      "Epoch 1390 - Train Loss: 0.1042, Train MSE: 0.1042, Train MAE: 0.2392\n",
      "Epoch 1390 - Validation Loss: 1.2340, Validation MSE: 1.2361, Validation MAE: 0.7823\n"
     ]
    },
    {
     "name": "stderr",
     "output_type": "stream",
     "text": [
      "Training Epoch 1392: 100%|██████████| 507/507 [00:05<00:00, 90.72it/s] \n",
      "Training Epoch 1393: 100%|██████████| 507/507 [00:05<00:00, 87.05it/s]\n",
      "Training Epoch 1394: 100%|██████████| 507/507 [00:05<00:00, 93.06it/s] \n",
      "Training Epoch 1395: 100%|██████████| 507/507 [00:05<00:00, 90.42it/s]\n",
      "Training Epoch 1396: 100%|██████████| 507/507 [00:05<00:00, 91.90it/s]\n",
      "Training Epoch 1397: 100%|██████████| 507/507 [00:05<00:00, 91.83it/s]\n",
      "Training Epoch 1398: 100%|██████████| 507/507 [00:05<00:00, 90.55it/s]\n",
      "Training Epoch 1399: 100%|██████████| 507/507 [00:05<00:00, 89.53it/s]\n",
      "Training Epoch 1400: 100%|██████████| 507/507 [00:05<00:00, 90.20it/s]\n",
      "Training Epoch 1401: 100%|██████████| 507/507 [00:05<00:00, 90.00it/s]\n"
     ]
    },
    {
     "name": "stdout",
     "output_type": "stream",
     "text": [
      "Epoch 1400 - Train Loss: 0.1034, Train MSE: 0.1035, Train MAE: 0.2378\n",
      "Epoch 1400 - Validation Loss: 1.2413, Validation MSE: 1.2436, Validation MAE: 0.7835\n"
     ]
    },
    {
     "name": "stderr",
     "output_type": "stream",
     "text": [
      "Training Epoch 1402: 100%|██████████| 507/507 [00:05<00:00, 92.89it/s] \n",
      "Training Epoch 1403: 100%|██████████| 507/507 [00:05<00:00, 90.04it/s]\n",
      "Training Epoch 1404: 100%|██████████| 507/507 [00:05<00:00, 88.12it/s]\n",
      "Training Epoch 1405: 100%|██████████| 507/507 [00:05<00:00, 91.65it/s]\n",
      "Training Epoch 1406: 100%|██████████| 507/507 [00:05<00:00, 91.59it/s]\n",
      "Training Epoch 1407: 100%|██████████| 507/507 [00:05<00:00, 88.68it/s]\n",
      "Training Epoch 1408: 100%|██████████| 507/507 [00:05<00:00, 91.86it/s]\n",
      "Training Epoch 1409: 100%|██████████| 507/507 [00:05<00:00, 92.67it/s]\n",
      "Training Epoch 1410: 100%|██████████| 507/507 [00:05<00:00, 89.78it/s]\n",
      "Training Epoch 1411: 100%|██████████| 507/507 [00:05<00:00, 89.31it/s]\n"
     ]
    },
    {
     "name": "stdout",
     "output_type": "stream",
     "text": [
      "Epoch 1410 - Train Loss: 0.1042, Train MSE: 0.1042, Train MAE: 0.2374\n",
      "Epoch 1410 - Validation Loss: 1.2609, Validation MSE: 1.2634, Validation MAE: 0.7908\n"
     ]
    },
    {
     "name": "stderr",
     "output_type": "stream",
     "text": [
      "Training Epoch 1412: 100%|██████████| 507/507 [00:05<00:00, 89.49it/s]\n",
      "Training Epoch 1413: 100%|██████████| 507/507 [00:05<00:00, 88.68it/s]\n",
      "Training Epoch 1414: 100%|██████████| 507/507 [00:05<00:00, 94.50it/s] \n",
      "Training Epoch 1415: 100%|██████████| 507/507 [00:05<00:00, 89.18it/s]\n",
      "Training Epoch 1416: 100%|██████████| 507/507 [00:05<00:00, 93.34it/s]\n",
      "Training Epoch 1417: 100%|██████████| 507/507 [00:05<00:00, 92.28it/s] \n",
      "Training Epoch 1418: 100%|██████████| 507/507 [00:05<00:00, 89.03it/s]\n",
      "Training Epoch 1419: 100%|██████████| 507/507 [00:05<00:00, 90.02it/s]\n",
      "Training Epoch 1420: 100%|██████████| 507/507 [00:05<00:00, 91.23it/s] \n",
      "Training Epoch 1421: 100%|██████████| 507/507 [00:05<00:00, 91.43it/s]\n"
     ]
    },
    {
     "name": "stdout",
     "output_type": "stream",
     "text": [
      "Epoch 1420 - Train Loss: 0.1070, Train MSE: 0.1071, Train MAE: 0.2414\n",
      "Epoch 1420 - Validation Loss: 1.2420, Validation MSE: 1.2441, Validation MAE: 0.7849\n"
     ]
    },
    {
     "name": "stderr",
     "output_type": "stream",
     "text": [
      "Training Epoch 1422: 100%|██████████| 507/507 [00:05<00:00, 90.84it/s]\n",
      "Training Epoch 1423: 100%|██████████| 507/507 [00:05<00:00, 89.07it/s]\n",
      "Training Epoch 1424: 100%|██████████| 507/507 [00:05<00:00, 89.82it/s]\n",
      "Training Epoch 1425: 100%|██████████| 507/507 [00:05<00:00, 91.48it/s] \n",
      "Training Epoch 1426: 100%|██████████| 507/507 [00:05<00:00, 88.75it/s]\n",
      "Training Epoch 1427: 100%|██████████| 507/507 [00:05<00:00, 92.08it/s]\n",
      "Training Epoch 1428: 100%|██████████| 507/507 [00:05<00:00, 91.94it/s]\n",
      "Training Epoch 1429: 100%|██████████| 507/507 [00:05<00:00, 92.17it/s]\n",
      "Training Epoch 1430: 100%|██████████| 507/507 [00:05<00:00, 92.97it/s] \n",
      "Training Epoch 1431: 100%|██████████| 507/507 [00:05<00:00, 91.98it/s] \n"
     ]
    },
    {
     "name": "stdout",
     "output_type": "stream",
     "text": [
      "Epoch 1430 - Train Loss: 0.1032, Train MSE: 0.1031, Train MAE: 0.2379\n",
      "Epoch 1430 - Validation Loss: 1.2553, Validation MSE: 1.2581, Validation MAE: 0.7929\n"
     ]
    },
    {
     "name": "stderr",
     "output_type": "stream",
     "text": [
      "Training Epoch 1432: 100%|██████████| 507/507 [00:05<00:00, 91.25it/s]\n",
      "Training Epoch 1433: 100%|██████████| 507/507 [00:05<00:00, 92.55it/s] \n",
      "Training Epoch 1434: 100%|██████████| 507/507 [00:05<00:00, 89.52it/s]\n",
      "Training Epoch 1435: 100%|██████████| 507/507 [00:05<00:00, 91.01it/s]\n",
      "Training Epoch 1436: 100%|██████████| 507/507 [00:05<00:00, 93.58it/s] \n",
      "Training Epoch 1437: 100%|██████████| 507/507 [00:05<00:00, 89.77it/s]\n",
      "Training Epoch 1438: 100%|██████████| 507/507 [00:05<00:00, 91.23it/s]\n",
      "Training Epoch 1439: 100%|██████████| 507/507 [00:05<00:00, 94.24it/s] \n",
      "Training Epoch 1440: 100%|██████████| 507/507 [00:05<00:00, 91.44it/s]\n",
      "Training Epoch 1441: 100%|██████████| 507/507 [00:05<00:00, 93.90it/s] \n"
     ]
    },
    {
     "name": "stdout",
     "output_type": "stream",
     "text": [
      "Epoch 1440 - Train Loss: 0.1061, Train MSE: 0.1056, Train MAE: 0.2394\n",
      "Epoch 1440 - Validation Loss: 1.2413, Validation MSE: 1.2435, Validation MAE: 0.7837\n"
     ]
    },
    {
     "name": "stderr",
     "output_type": "stream",
     "text": [
      "Training Epoch 1442: 100%|██████████| 507/507 [00:05<00:00, 89.01it/s]\n",
      "Training Epoch 1443: 100%|██████████| 507/507 [00:05<00:00, 91.10it/s]\n",
      "Training Epoch 1444: 100%|██████████| 507/507 [00:05<00:00, 91.31it/s]\n",
      "Training Epoch 1445: 100%|██████████| 507/507 [00:05<00:00, 90.65it/s]\n",
      "Training Epoch 1446: 100%|██████████| 507/507 [00:05<00:00, 91.18it/s] \n",
      "Training Epoch 1447: 100%|██████████| 507/507 [00:05<00:00, 91.23it/s]\n",
      "Training Epoch 1448: 100%|██████████| 507/507 [00:05<00:00, 91.62it/s] \n",
      "Training Epoch 1449: 100%|██████████| 507/507 [00:05<00:00, 90.18it/s]\n",
      "Training Epoch 1450: 100%|██████████| 507/507 [00:05<00:00, 90.90it/s] \n",
      "Training Epoch 1451: 100%|██████████| 507/507 [00:05<00:00, 90.53it/s]\n"
     ]
    },
    {
     "name": "stdout",
     "output_type": "stream",
     "text": [
      "Epoch 1450 - Train Loss: 0.1044, Train MSE: 0.1043, Train MAE: 0.2374\n",
      "Epoch 1450 - Validation Loss: 1.2458, Validation MSE: 1.2481, Validation MAE: 0.7859\n"
     ]
    },
    {
     "name": "stderr",
     "output_type": "stream",
     "text": [
      "Training Epoch 1452: 100%|██████████| 507/507 [00:05<00:00, 92.19it/s]\n",
      "Training Epoch 1453: 100%|██████████| 507/507 [00:05<00:00, 90.56it/s]\n",
      "Training Epoch 1454: 100%|██████████| 507/507 [00:05<00:00, 90.58it/s] \n",
      "Training Epoch 1455: 100%|██████████| 507/507 [00:05<00:00, 90.27it/s]\n",
      "Training Epoch 1456: 100%|██████████| 507/507 [00:05<00:00, 91.63it/s]\n",
      "Training Epoch 1457: 100%|██████████| 507/507 [00:05<00:00, 92.51it/s]\n",
      "Training Epoch 1458: 100%|██████████| 507/507 [00:05<00:00, 91.57it/s]\n",
      "Training Epoch 1459: 100%|██████████| 507/507 [00:05<00:00, 91.10it/s]\n",
      "Training Epoch 1460: 100%|██████████| 507/507 [00:05<00:00, 92.62it/s]\n",
      "Training Epoch 1461: 100%|██████████| 507/507 [00:05<00:00, 89.92it/s]\n"
     ]
    },
    {
     "name": "stdout",
     "output_type": "stream",
     "text": [
      "Epoch 1460 - Train Loss: 0.1030, Train MSE: 0.1029, Train MAE: 0.2362\n",
      "Epoch 1460 - Validation Loss: 1.2536, Validation MSE: 1.2556, Validation MAE: 0.7884\n"
     ]
    },
    {
     "name": "stderr",
     "output_type": "stream",
     "text": [
      "Training Epoch 1462: 100%|██████████| 507/507 [00:05<00:00, 90.10it/s]\n",
      "Training Epoch 1463: 100%|██████████| 507/507 [00:05<00:00, 90.64it/s]\n",
      "Training Epoch 1464: 100%|██████████| 507/507 [00:05<00:00, 87.96it/s]\n",
      "Training Epoch 1465: 100%|██████████| 507/507 [00:05<00:00, 89.66it/s]\n",
      "Training Epoch 1466: 100%|██████████| 507/507 [00:05<00:00, 92.42it/s]\n",
      "Training Epoch 1467: 100%|██████████| 507/507 [00:05<00:00, 88.73it/s]\n",
      "Training Epoch 1468: 100%|██████████| 507/507 [00:05<00:00, 93.18it/s] \n",
      "Training Epoch 1469: 100%|██████████| 507/507 [00:05<00:00, 90.82it/s]\n",
      "Training Epoch 1470: 100%|██████████| 507/507 [00:05<00:00, 91.77it/s]\n",
      "Training Epoch 1471: 100%|██████████| 507/507 [00:05<00:00, 91.87it/s]\n"
     ]
    },
    {
     "name": "stdout",
     "output_type": "stream",
     "text": [
      "Epoch 1470 - Train Loss: 0.1051, Train MSE: 0.1051, Train MAE: 0.2398\n",
      "Epoch 1470 - Validation Loss: 1.2556, Validation MSE: 1.2578, Validation MAE: 0.7888\n"
     ]
    },
    {
     "name": "stderr",
     "output_type": "stream",
     "text": [
      "Training Epoch 1472: 100%|██████████| 507/507 [00:05<00:00, 91.93it/s] \n",
      "Training Epoch 1473: 100%|██████████| 507/507 [00:05<00:00, 93.99it/s] \n",
      "Training Epoch 1474: 100%|██████████| 507/507 [00:05<00:00, 91.21it/s] \n",
      "Training Epoch 1475: 100%|██████████| 507/507 [00:05<00:00, 89.68it/s]\n",
      "Training Epoch 1476: 100%|██████████| 507/507 [00:05<00:00, 92.19it/s]\n",
      "Training Epoch 1477: 100%|██████████| 507/507 [00:05<00:00, 90.63it/s]\n",
      "Training Epoch 1478: 100%|██████████| 507/507 [00:05<00:00, 88.81it/s]\n",
      "Training Epoch 1479: 100%|██████████| 507/507 [00:05<00:00, 92.31it/s]\n",
      "Training Epoch 1480: 100%|██████████| 507/507 [00:05<00:00, 91.30it/s]\n",
      "Training Epoch 1481: 100%|██████████| 507/507 [00:05<00:00, 92.79it/s] \n"
     ]
    },
    {
     "name": "stdout",
     "output_type": "stream",
     "text": [
      "Epoch 1480 - Train Loss: 0.1019, Train MSE: 0.1019, Train MAE: 0.2361\n",
      "Epoch 1480 - Validation Loss: 1.2532, Validation MSE: 1.2559, Validation MAE: 0.7899\n"
     ]
    },
    {
     "name": "stderr",
     "output_type": "stream",
     "text": [
      "Training Epoch 1482: 100%|██████████| 507/507 [00:05<00:00, 91.12it/s]\n",
      "Training Epoch 1483: 100%|██████████| 507/507 [00:05<00:00, 88.73it/s]\n",
      "Training Epoch 1484: 100%|██████████| 507/507 [00:05<00:00, 92.28it/s] \n",
      "Training Epoch 1485: 100%|██████████| 507/507 [00:05<00:00, 89.08it/s]\n",
      "Training Epoch 1486: 100%|██████████| 507/507 [00:05<00:00, 87.35it/s]\n",
      "Training Epoch 1487: 100%|██████████| 507/507 [00:05<00:00, 92.00it/s] \n",
      "Training Epoch 1488: 100%|██████████| 507/507 [00:05<00:00, 90.11it/s]\n",
      "Training Epoch 1489: 100%|██████████| 507/507 [00:05<00:00, 91.98it/s]\n",
      "Training Epoch 1490: 100%|██████████| 507/507 [00:05<00:00, 92.34it/s]\n",
      "Training Epoch 1491: 100%|██████████| 507/507 [00:05<00:00, 90.33it/s]\n"
     ]
    },
    {
     "name": "stdout",
     "output_type": "stream",
     "text": [
      "Epoch 1490 - Train Loss: 0.1042, Train MSE: 0.1042, Train MAE: 0.2368\n",
      "Epoch 1490 - Validation Loss: 1.2367, Validation MSE: 1.2389, Validation MAE: 0.7823\n"
     ]
    },
    {
     "name": "stderr",
     "output_type": "stream",
     "text": [
      "Training Epoch 1492: 100%|██████████| 507/507 [00:05<00:00, 93.60it/s] \n",
      "Training Epoch 1493: 100%|██████████| 507/507 [00:05<00:00, 90.80it/s]\n",
      "Training Epoch 1494: 100%|██████████| 507/507 [00:05<00:00, 89.33it/s]\n",
      "Training Epoch 1495: 100%|██████████| 507/507 [00:05<00:00, 91.11it/s] \n",
      "Training Epoch 1496: 100%|██████████| 507/507 [00:05<00:00, 88.05it/s]\n",
      "Training Epoch 1497: 100%|██████████| 507/507 [00:05<00:00, 90.74it/s]\n",
      "Training Epoch 1498: 100%|██████████| 507/507 [00:05<00:00, 90.77it/s]\n",
      "Training Epoch 1499: 100%|██████████| 507/507 [00:05<00:00, 88.32it/s]\n",
      "Training Epoch 1500: 100%|██████████| 507/507 [00:05<00:00, 92.05it/s]\n",
      "Training Epoch 1501: 100%|██████████| 507/507 [00:05<00:00, 89.86it/s]\n"
     ]
    },
    {
     "name": "stdout",
     "output_type": "stream",
     "text": [
      "Epoch 1500 - Train Loss: 0.1001, Train MSE: 0.1002, Train MAE: 0.2352\n",
      "Epoch 1500 - Validation Loss: 1.2466, Validation MSE: 1.2490, Validation MAE: 0.7846\n"
     ]
    },
    {
     "name": "stderr",
     "output_type": "stream",
     "text": [
      "Training Epoch 1502: 100%|██████████| 507/507 [00:05<00:00, 90.09it/s] \n",
      "Training Epoch 1503: 100%|██████████| 507/507 [00:05<00:00, 90.45it/s] \n",
      "Training Epoch 1504: 100%|██████████| 507/507 [00:05<00:00, 93.03it/s] \n",
      "Training Epoch 1505: 100%|██████████| 507/507 [00:05<00:00, 89.42it/s]\n",
      "Training Epoch 1506: 100%|██████████| 507/507 [00:05<00:00, 90.87it/s]\n",
      "Training Epoch 1507: 100%|██████████| 507/507 [00:05<00:00, 87.90it/s]\n",
      "Training Epoch 1508: 100%|██████████| 507/507 [00:05<00:00, 90.61it/s]\n",
      "Training Epoch 1509: 100%|██████████| 507/507 [00:05<00:00, 92.38it/s]\n",
      "Training Epoch 1510: 100%|██████████| 507/507 [00:05<00:00, 93.24it/s] \n",
      "Training Epoch 1511: 100%|██████████| 507/507 [00:05<00:00, 90.34it/s]\n"
     ]
    },
    {
     "name": "stdout",
     "output_type": "stream",
     "text": [
      "Epoch 1510 - Train Loss: 0.1032, Train MSE: 0.1033, Train MAE: 0.2360\n",
      "Epoch 1510 - Validation Loss: 1.2421, Validation MSE: 1.2444, Validation MAE: 0.7835\n"
     ]
    },
    {
     "name": "stderr",
     "output_type": "stream",
     "text": [
      "Training Epoch 1512: 100%|██████████| 507/507 [00:05<00:00, 88.06it/s]\n",
      "Training Epoch 1513: 100%|██████████| 507/507 [00:05<00:00, 87.74it/s]\n",
      "Training Epoch 1514: 100%|██████████| 507/507 [00:05<00:00, 89.80it/s]\n",
      "Training Epoch 1515: 100%|██████████| 507/507 [00:05<00:00, 88.68it/s] \n",
      "Training Epoch 1516: 100%|██████████| 507/507 [00:05<00:00, 89.88it/s]\n",
      "Training Epoch 1517: 100%|██████████| 507/507 [00:05<00:00, 90.15it/s]\n",
      "Training Epoch 1518: 100%|██████████| 507/507 [00:05<00:00, 90.62it/s]\n",
      "Training Epoch 1519: 100%|██████████| 507/507 [00:05<00:00, 91.25it/s]\n",
      "Training Epoch 1520: 100%|██████████| 507/507 [00:05<00:00, 90.32it/s]\n",
      "Training Epoch 1521: 100%|██████████| 507/507 [00:05<00:00, 90.37it/s]\n"
     ]
    },
    {
     "name": "stdout",
     "output_type": "stream",
     "text": [
      "Epoch 1520 - Train Loss: 0.1033, Train MSE: 0.1034, Train MAE: 0.2377\n",
      "Epoch 1520 - Validation Loss: 1.2394, Validation MSE: 1.2422, Validation MAE: 0.7872\n"
     ]
    },
    {
     "name": "stderr",
     "output_type": "stream",
     "text": [
      "Training Epoch 1522: 100%|██████████| 507/507 [00:05<00:00, 89.26it/s]\n",
      "Training Epoch 1523: 100%|██████████| 507/507 [00:05<00:00, 89.76it/s] \n",
      "Training Epoch 1524: 100%|██████████| 507/507 [00:05<00:00, 92.47it/s]\n",
      "Training Epoch 1525: 100%|██████████| 507/507 [00:05<00:00, 89.55it/s]\n",
      "Training Epoch 1526: 100%|██████████| 507/507 [00:05<00:00, 90.02it/s]\n",
      "Training Epoch 1527: 100%|██████████| 507/507 [00:05<00:00, 92.30it/s] \n",
      "Training Epoch 1528: 100%|██████████| 507/507 [00:05<00:00, 91.83it/s] \n",
      "Training Epoch 1529: 100%|██████████| 507/507 [00:05<00:00, 90.37it/s]\n",
      "Training Epoch 1530: 100%|██████████| 507/507 [00:05<00:00, 91.89it/s]\n",
      "Training Epoch 1531: 100%|██████████| 507/507 [00:05<00:00, 91.89it/s] \n"
     ]
    },
    {
     "name": "stdout",
     "output_type": "stream",
     "text": [
      "Epoch 1530 - Train Loss: 0.1038, Train MSE: 0.1039, Train MAE: 0.2361\n",
      "Epoch 1530 - Validation Loss: 1.2414, Validation MSE: 1.2437, Validation MAE: 0.7869\n"
     ]
    },
    {
     "name": "stderr",
     "output_type": "stream",
     "text": [
      "Training Epoch 1532: 100%|██████████| 507/507 [00:05<00:00, 89.62it/s]\n",
      "Training Epoch 1533: 100%|██████████| 507/507 [00:05<00:00, 91.76it/s] \n",
      "Training Epoch 1534: 100%|██████████| 507/507 [00:05<00:00, 91.70it/s]\n",
      "Training Epoch 1535: 100%|██████████| 507/507 [00:05<00:00, 90.24it/s]\n",
      "Training Epoch 1536: 100%|██████████| 507/507 [00:05<00:00, 90.50it/s]\n",
      "Training Epoch 1537: 100%|██████████| 507/507 [00:05<00:00, 91.44it/s]\n",
      "Training Epoch 1538: 100%|██████████| 507/507 [00:05<00:00, 91.86it/s] \n",
      "Training Epoch 1539: 100%|██████████| 507/507 [00:05<00:00, 93.04it/s]\n",
      "Training Epoch 1540: 100%|██████████| 507/507 [00:05<00:00, 89.99it/s]\n",
      "Training Epoch 1541: 100%|██████████| 507/507 [00:05<00:00, 92.01it/s]\n"
     ]
    },
    {
     "name": "stdout",
     "output_type": "stream",
     "text": [
      "Epoch 1540 - Train Loss: 0.1025, Train MSE: 0.1024, Train MAE: 0.2351\n",
      "Epoch 1540 - Validation Loss: 1.2558, Validation MSE: 1.2581, Validation MAE: 0.7906\n"
     ]
    },
    {
     "name": "stderr",
     "output_type": "stream",
     "text": [
      "Training Epoch 1542: 100%|██████████| 507/507 [00:05<00:00, 89.53it/s]\n",
      "Training Epoch 1543: 100%|██████████| 507/507 [00:05<00:00, 91.68it/s]\n",
      "Training Epoch 1544: 100%|██████████| 507/507 [00:05<00:00, 90.87it/s]\n",
      "Training Epoch 1545: 100%|██████████| 507/507 [00:05<00:00, 88.05it/s]\n",
      "Training Epoch 1546: 100%|██████████| 507/507 [00:05<00:00, 90.05it/s]\n",
      "Training Epoch 1547: 100%|██████████| 507/507 [00:05<00:00, 88.19it/s]\n",
      "Training Epoch 1548: 100%|██████████| 507/507 [00:05<00:00, 89.86it/s]\n",
      "Training Epoch 1549: 100%|██████████| 507/507 [00:05<00:00, 89.13it/s]\n",
      "Training Epoch 1550: 100%|██████████| 507/507 [00:05<00:00, 88.29it/s]\n",
      "Training Epoch 1551: 100%|██████████| 507/507 [00:05<00:00, 91.59it/s]\n"
     ]
    },
    {
     "name": "stdout",
     "output_type": "stream",
     "text": [
      "Epoch 1550 - Train Loss: 0.0986, Train MSE: 0.0986, Train MAE: 0.2328\n",
      "Epoch 1550 - Validation Loss: 1.2445, Validation MSE: 1.2470, Validation MAE: 0.7850\n"
     ]
    },
    {
     "name": "stderr",
     "output_type": "stream",
     "text": [
      "Training Epoch 1552: 100%|██████████| 507/507 [00:05<00:00, 88.96it/s]\n",
      "Training Epoch 1553: 100%|██████████| 507/507 [00:05<00:00, 88.99it/s]\n",
      "Training Epoch 1554: 100%|██████████| 507/507 [00:05<00:00, 92.37it/s]\n",
      "Training Epoch 1555: 100%|██████████| 507/507 [00:05<00:00, 92.38it/s]\n",
      "Training Epoch 1556: 100%|██████████| 507/507 [00:05<00:00, 89.65it/s] \n",
      "Training Epoch 1557: 100%|██████████| 507/507 [00:05<00:00, 92.44it/s]\n",
      "Training Epoch 1558: 100%|██████████| 507/507 [00:05<00:00, 91.23it/s]\n",
      "Training Epoch 1559: 100%|██████████| 507/507 [00:05<00:00, 88.43it/s] \n",
      "Training Epoch 1560: 100%|██████████| 507/507 [00:05<00:00, 92.02it/s]\n",
      "Training Epoch 1561: 100%|██████████| 507/507 [00:05<00:00, 87.97it/s]\n"
     ]
    },
    {
     "name": "stdout",
     "output_type": "stream",
     "text": [
      "Epoch 1560 - Train Loss: 0.0969, Train MSE: 0.0970, Train MAE: 0.2302\n",
      "Epoch 1560 - Validation Loss: 1.2418, Validation MSE: 1.2442, Validation MAE: 0.7835\n"
     ]
    },
    {
     "name": "stderr",
     "output_type": "stream",
     "text": [
      "Training Epoch 1562: 100%|██████████| 507/507 [00:05<00:00, 91.85it/s] \n",
      "Training Epoch 1563: 100%|██████████| 507/507 [00:05<00:00, 92.48it/s]\n",
      "Training Epoch 1564: 100%|██████████| 507/507 [00:05<00:00, 89.26it/s]\n",
      "Training Epoch 1565: 100%|██████████| 507/507 [00:05<00:00, 90.24it/s] \n",
      "Training Epoch 1566: 100%|██████████| 507/507 [00:05<00:00, 88.85it/s] \n",
      "Training Epoch 1567: 100%|██████████| 507/507 [00:05<00:00, 88.78it/s]\n",
      "Training Epoch 1568: 100%|██████████| 507/507 [00:05<00:00, 90.65it/s]\n",
      "Training Epoch 1569: 100%|██████████| 507/507 [00:05<00:00, 89.94it/s]\n",
      "Training Epoch 1570: 100%|██████████| 507/507 [00:05<00:00, 90.26it/s]\n",
      "Training Epoch 1571: 100%|██████████| 507/507 [00:05<00:00, 93.06it/s] \n"
     ]
    },
    {
     "name": "stdout",
     "output_type": "stream",
     "text": [
      "Epoch 1570 - Train Loss: 0.1008, Train MSE: 0.1009, Train MAE: 0.2339\n",
      "Epoch 1570 - Validation Loss: 1.2448, Validation MSE: 1.2471, Validation MAE: 0.7876\n"
     ]
    },
    {
     "name": "stderr",
     "output_type": "stream",
     "text": [
      "Training Epoch 1572: 100%|██████████| 507/507 [00:05<00:00, 88.79it/s]\n",
      "Training Epoch 1573: 100%|██████████| 507/507 [00:05<00:00, 91.45it/s]\n",
      "Training Epoch 1574: 100%|██████████| 507/507 [00:05<00:00, 90.15it/s]\n",
      "Training Epoch 1575: 100%|██████████| 507/507 [00:05<00:00, 91.77it/s] \n",
      "Training Epoch 1576: 100%|██████████| 507/507 [00:05<00:00, 88.13it/s]\n",
      "Training Epoch 1577: 100%|██████████| 507/507 [00:05<00:00, 89.48it/s]\n",
      "Training Epoch 1578: 100%|██████████| 507/507 [00:05<00:00, 92.08it/s]\n",
      "Training Epoch 1579: 100%|██████████| 507/507 [00:05<00:00, 90.65it/s]\n",
      "Training Epoch 1580: 100%|██████████| 507/507 [00:05<00:00, 91.08it/s]\n",
      "Training Epoch 1581: 100%|██████████| 507/507 [00:05<00:00, 89.76it/s]\n"
     ]
    },
    {
     "name": "stdout",
     "output_type": "stream",
     "text": [
      "Epoch 1580 - Train Loss: 0.1006, Train MSE: 0.1005, Train MAE: 0.2338\n",
      "Epoch 1580 - Validation Loss: 1.2404, Validation MSE: 1.2426, Validation MAE: 0.7837\n"
     ]
    },
    {
     "name": "stderr",
     "output_type": "stream",
     "text": [
      "Training Epoch 1582: 100%|██████████| 507/507 [00:05<00:00, 92.53it/s] \n",
      "Training Epoch 1583: 100%|██████████| 507/507 [00:05<00:00, 86.86it/s]\n",
      "Training Epoch 1584: 100%|██████████| 507/507 [00:05<00:00, 90.43it/s]\n",
      "Training Epoch 1585: 100%|██████████| 507/507 [00:05<00:00, 92.39it/s] \n",
      "Training Epoch 1586: 100%|██████████| 507/507 [00:05<00:00, 86.52it/s]\n",
      "Training Epoch 1587: 100%|██████████| 507/507 [00:05<00:00, 87.53it/s]\n",
      "Training Epoch 1588: 100%|██████████| 507/507 [00:05<00:00, 88.89it/s]\n",
      "Training Epoch 1589: 100%|██████████| 507/507 [00:05<00:00, 90.01it/s]\n",
      "Training Epoch 1590: 100%|██████████| 507/507 [00:05<00:00, 91.25it/s]\n",
      "Training Epoch 1591: 100%|██████████| 507/507 [00:05<00:00, 89.70it/s]\n"
     ]
    },
    {
     "name": "stdout",
     "output_type": "stream",
     "text": [
      "Epoch 1590 - Train Loss: 0.0987, Train MSE: 0.0988, Train MAE: 0.2324\n",
      "Epoch 1590 - Validation Loss: 1.2461, Validation MSE: 1.2485, Validation MAE: 0.7860\n"
     ]
    },
    {
     "name": "stderr",
     "output_type": "stream",
     "text": [
      "Training Epoch 1592: 100%|██████████| 507/507 [00:05<00:00, 89.97it/s]\n",
      "Training Epoch 1593: 100%|██████████| 507/507 [00:05<00:00, 92.37it/s] \n",
      "Training Epoch 1594: 100%|██████████| 507/507 [00:05<00:00, 88.66it/s]\n",
      "Training Epoch 1595: 100%|██████████| 507/507 [00:05<00:00, 92.07it/s] \n",
      "Training Epoch 1596: 100%|██████████| 507/507 [00:05<00:00, 88.68it/s]\n",
      "Training Epoch 1597: 100%|██████████| 507/507 [00:05<00:00, 88.88it/s]\n",
      "Training Epoch 1598: 100%|██████████| 507/507 [00:05<00:00, 91.22it/s]\n",
      "Training Epoch 1599: 100%|██████████| 507/507 [00:05<00:00, 88.97it/s]\n",
      "Training Epoch 1600: 100%|██████████| 507/507 [00:05<00:00, 91.34it/s]\n",
      "Training Epoch 1601: 100%|██████████| 507/507 [00:05<00:00, 90.63it/s]\n"
     ]
    },
    {
     "name": "stdout",
     "output_type": "stream",
     "text": [
      "Epoch 1600 - Train Loss: 0.1027, Train MSE: 0.1027, Train MAE: 0.2361\n",
      "Epoch 1600 - Validation Loss: 1.2400, Validation MSE: 1.2426, Validation MAE: 0.7848\n"
     ]
    },
    {
     "name": "stderr",
     "output_type": "stream",
     "text": [
      "Training Epoch 1602: 100%|██████████| 507/507 [00:05<00:00, 87.78it/s]\n",
      "Training Epoch 1603: 100%|██████████| 507/507 [00:05<00:00, 91.32it/s]\n",
      "Training Epoch 1604: 100%|██████████| 507/507 [00:05<00:00, 90.63it/s]\n",
      "Training Epoch 1605: 100%|██████████| 507/507 [00:05<00:00, 93.45it/s] \n",
      "Training Epoch 1606: 100%|██████████| 507/507 [00:05<00:00, 89.54it/s]\n",
      "Training Epoch 1607: 100%|██████████| 507/507 [00:05<00:00, 90.71it/s] \n",
      "Training Epoch 1608: 100%|██████████| 507/507 [00:05<00:00, 91.25it/s] \n",
      "Training Epoch 1609: 100%|██████████| 507/507 [00:05<00:00, 90.10it/s]\n",
      "Training Epoch 1610: 100%|██████████| 507/507 [00:05<00:00, 91.04it/s]\n",
      "Training Epoch 1611: 100%|██████████| 507/507 [00:05<00:00, 91.83it/s]\n"
     ]
    },
    {
     "name": "stdout",
     "output_type": "stream",
     "text": [
      "Epoch 1610 - Train Loss: 0.0963, Train MSE: 0.0963, Train MAE: 0.2302\n",
      "Epoch 1610 - Validation Loss: 1.2452, Validation MSE: 1.2473, Validation MAE: 0.7850\n"
     ]
    },
    {
     "name": "stderr",
     "output_type": "stream",
     "text": [
      "Training Epoch 1612: 100%|██████████| 507/507 [00:05<00:00, 88.72it/s]\n",
      "Training Epoch 1613: 100%|██████████| 507/507 [00:05<00:00, 90.08it/s]\n",
      "Training Epoch 1614: 100%|██████████| 507/507 [00:05<00:00, 91.52it/s]\n",
      "Training Epoch 1615: 100%|██████████| 507/507 [00:05<00:00, 88.72it/s]\n",
      "Training Epoch 1616: 100%|██████████| 507/507 [00:05<00:00, 94.01it/s] \n",
      "Training Epoch 1617: 100%|██████████| 507/507 [00:05<00:00, 92.60it/s] \n",
      "Training Epoch 1618: 100%|██████████| 507/507 [00:05<00:00, 90.23it/s]\n",
      "Training Epoch 1619: 100%|██████████| 507/507 [00:05<00:00, 92.84it/s] \n",
      "Training Epoch 1620: 100%|██████████| 507/507 [00:05<00:00, 91.32it/s] \n",
      "Training Epoch 1621: 100%|██████████| 507/507 [00:05<00:00, 88.56it/s]\n"
     ]
    },
    {
     "name": "stdout",
     "output_type": "stream",
     "text": [
      "Epoch 1620 - Train Loss: 0.1009, Train MSE: 0.1009, Train MAE: 0.2346\n",
      "Epoch 1620 - Validation Loss: 1.2362, Validation MSE: 1.2386, Validation MAE: 0.7874\n"
     ]
    },
    {
     "name": "stderr",
     "output_type": "stream",
     "text": [
      "Training Epoch 1622: 100%|██████████| 507/507 [00:05<00:00, 89.82it/s]\n",
      "Training Epoch 1623: 100%|██████████| 507/507 [00:05<00:00, 90.37it/s]\n",
      "Training Epoch 1624: 100%|██████████| 507/507 [00:05<00:00, 91.66it/s] \n",
      "Training Epoch 1625: 100%|██████████| 507/507 [00:05<00:00, 93.33it/s]\n",
      "Training Epoch 1626: 100%|██████████| 507/507 [00:05<00:00, 88.28it/s]\n",
      "Training Epoch 1627: 100%|██████████| 507/507 [00:05<00:00, 90.35it/s] \n",
      "Training Epoch 1628: 100%|██████████| 507/507 [00:05<00:00, 91.14it/s]\n",
      "Training Epoch 1629: 100%|██████████| 507/507 [00:05<00:00, 90.41it/s] \n",
      "Training Epoch 1630: 100%|██████████| 507/507 [00:05<00:00, 91.68it/s]\n",
      "Training Epoch 1631: 100%|██████████| 507/507 [00:05<00:00, 90.23it/s]\n"
     ]
    },
    {
     "name": "stdout",
     "output_type": "stream",
     "text": [
      "Epoch 1630 - Train Loss: 0.0981, Train MSE: 0.0982, Train MAE: 0.2313\n",
      "Epoch 1630 - Validation Loss: 1.2473, Validation MSE: 1.2494, Validation MAE: 0.7857\n"
     ]
    },
    {
     "name": "stderr",
     "output_type": "stream",
     "text": [
      "Training Epoch 1632: 100%|██████████| 507/507 [00:05<00:00, 91.02it/s]\n",
      "Training Epoch 1633: 100%|██████████| 507/507 [00:05<00:00, 91.04it/s]\n",
      "Training Epoch 1634: 100%|██████████| 507/507 [00:05<00:00, 89.01it/s] \n",
      "Training Epoch 1635: 100%|██████████| 507/507 [00:05<00:00, 91.18it/s]\n",
      "Training Epoch 1636: 100%|██████████| 507/507 [00:05<00:00, 91.28it/s]\n",
      "Training Epoch 1637: 100%|██████████| 507/507 [00:05<00:00, 88.83it/s]\n",
      "Training Epoch 1638: 100%|██████████| 507/507 [00:05<00:00, 90.76it/s]\n",
      "Training Epoch 1639: 100%|██████████| 507/507 [00:05<00:00, 90.58it/s]\n",
      "Training Epoch 1640: 100%|██████████| 507/507 [00:05<00:00, 90.56it/s]\n",
      "Training Epoch 1641: 100%|██████████| 507/507 [00:05<00:00, 90.69it/s]\n"
     ]
    },
    {
     "name": "stdout",
     "output_type": "stream",
     "text": [
      "Epoch 1640 - Train Loss: 0.0988, Train MSE: 0.0987, Train MAE: 0.2307\n",
      "Epoch 1640 - Validation Loss: 1.2603, Validation MSE: 1.2627, Validation MAE: 0.7907\n"
     ]
    },
    {
     "name": "stderr",
     "output_type": "stream",
     "text": [
      "Training Epoch 1642: 100%|██████████| 507/507 [00:05<00:00, 88.16it/s]\n",
      "Training Epoch 1643: 100%|██████████| 507/507 [00:05<00:00, 90.62it/s]\n",
      "Training Epoch 1644: 100%|██████████| 507/507 [00:05<00:00, 91.90it/s] \n",
      "Training Epoch 1645: 100%|██████████| 507/507 [00:05<00:00, 90.67it/s]\n",
      "Training Epoch 1646: 100%|██████████| 507/507 [00:05<00:00, 90.68it/s]\n",
      "Training Epoch 1647: 100%|██████████| 507/507 [00:05<00:00, 92.85it/s]\n",
      "Training Epoch 1648: 100%|██████████| 507/507 [00:05<00:00, 90.97it/s]\n",
      "Training Epoch 1649: 100%|██████████| 507/507 [00:05<00:00, 90.89it/s]\n",
      "Training Epoch 1650: 100%|██████████| 507/507 [00:05<00:00, 90.07it/s]\n",
      "Training Epoch 1651: 100%|██████████| 507/507 [00:05<00:00, 90.96it/s]\n"
     ]
    },
    {
     "name": "stdout",
     "output_type": "stream",
     "text": [
      "Epoch 1650 - Train Loss: 0.1003, Train MSE: 0.1003, Train MAE: 0.2323\n",
      "Epoch 1650 - Validation Loss: 1.2523, Validation MSE: 1.2548, Validation MAE: 0.7861\n"
     ]
    },
    {
     "name": "stderr",
     "output_type": "stream",
     "text": [
      "Training Epoch 1652: 100%|██████████| 507/507 [00:05<00:00, 90.01it/s]\n",
      "Training Epoch 1653: 100%|██████████| 507/507 [00:05<00:00, 87.52it/s]\n",
      "Training Epoch 1654: 100%|██████████| 507/507 [00:05<00:00, 90.40it/s]\n",
      "Training Epoch 1655: 100%|██████████| 507/507 [00:05<00:00, 91.27it/s]\n",
      "Training Epoch 1656: 100%|██████████| 507/507 [00:05<00:00, 87.81it/s]\n",
      "Training Epoch 1657: 100%|██████████| 507/507 [00:05<00:00, 90.65it/s]\n",
      "Training Epoch 1658: 100%|██████████| 507/507 [00:05<00:00, 86.32it/s]\n",
      "Training Epoch 1659: 100%|██████████| 507/507 [00:05<00:00, 91.12it/s]\n",
      "Training Epoch 1660: 100%|██████████| 507/507 [00:05<00:00, 90.93it/s]\n",
      "Training Epoch 1661: 100%|██████████| 507/507 [00:05<00:00, 88.89it/s]\n"
     ]
    },
    {
     "name": "stdout",
     "output_type": "stream",
     "text": [
      "Epoch 1660 - Train Loss: 0.0966, Train MSE: 0.0965, Train MAE: 0.2306\n",
      "Epoch 1660 - Validation Loss: 1.2459, Validation MSE: 1.2485, Validation MAE: 0.7868\n"
     ]
    },
    {
     "name": "stderr",
     "output_type": "stream",
     "text": [
      "Training Epoch 1662: 100%|██████████| 507/507 [00:05<00:00, 90.21it/s]\n",
      "Training Epoch 1663: 100%|██████████| 507/507 [00:05<00:00, 91.74it/s] \n",
      "Training Epoch 1664: 100%|██████████| 507/507 [00:05<00:00, 90.37it/s]\n",
      "Training Epoch 1665: 100%|██████████| 507/507 [00:05<00:00, 90.59it/s]\n",
      "Training Epoch 1666: 100%|██████████| 507/507 [00:05<00:00, 90.62it/s]\n",
      "Training Epoch 1667: 100%|██████████| 507/507 [00:05<00:00, 89.77it/s]\n",
      "Training Epoch 1668: 100%|██████████| 507/507 [00:05<00:00, 92.54it/s]\n",
      "Training Epoch 1669: 100%|██████████| 507/507 [00:05<00:00, 89.08it/s]\n",
      "Training Epoch 1670: 100%|██████████| 507/507 [00:05<00:00, 92.02it/s]\n",
      "Training Epoch 1671: 100%|██████████| 507/507 [00:05<00:00, 92.43it/s] \n"
     ]
    },
    {
     "name": "stdout",
     "output_type": "stream",
     "text": [
      "Epoch 1670 - Train Loss: 0.0986, Train MSE: 0.0986, Train MAE: 0.2313\n",
      "Epoch 1670 - Validation Loss: 1.2552, Validation MSE: 1.2576, Validation MAE: 0.7883\n"
     ]
    },
    {
     "name": "stderr",
     "output_type": "stream",
     "text": [
      "Training Epoch 1672: 100%|██████████| 507/507 [00:05<00:00, 89.99it/s]\n",
      "Training Epoch 1673: 100%|██████████| 507/507 [00:05<00:00, 90.50it/s] \n",
      "Training Epoch 1674: 100%|██████████| 507/507 [00:05<00:00, 90.39it/s]\n",
      "Training Epoch 1675: 100%|██████████| 507/507 [00:05<00:00, 89.26it/s]\n",
      "Training Epoch 1676: 100%|██████████| 507/507 [00:05<00:00, 89.48it/s]\n",
      "Training Epoch 1677: 100%|██████████| 507/507 [00:05<00:00, 88.35it/s]\n",
      "Training Epoch 1678: 100%|██████████| 507/507 [00:05<00:00, 89.22it/s] \n",
      "Training Epoch 1679: 100%|██████████| 507/507 [00:05<00:00, 88.85it/s]\n",
      "Training Epoch 1680: 100%|██████████| 507/507 [00:05<00:00, 88.64it/s]\n",
      "Training Epoch 1681: 100%|██████████| 507/507 [00:05<00:00, 89.62it/s]\n"
     ]
    },
    {
     "name": "stdout",
     "output_type": "stream",
     "text": [
      "Epoch 1680 - Train Loss: 0.0978, Train MSE: 0.0976, Train MAE: 0.2304\n",
      "Epoch 1680 - Validation Loss: 1.2482, Validation MSE: 1.2507, Validation MAE: 0.7884\n"
     ]
    },
    {
     "name": "stderr",
     "output_type": "stream",
     "text": [
      "Training Epoch 1682: 100%|██████████| 507/507 [00:05<00:00, 90.95it/s]\n",
      "Training Epoch 1683: 100%|██████████| 507/507 [00:05<00:00, 90.38it/s]\n",
      "Training Epoch 1684: 100%|██████████| 507/507 [00:05<00:00, 88.03it/s]\n",
      "Training Epoch 1685: 100%|██████████| 507/507 [00:05<00:00, 88.52it/s]\n",
      "Training Epoch 1686: 100%|██████████| 507/507 [00:05<00:00, 91.87it/s] \n",
      "Training Epoch 1687: 100%|██████████| 507/507 [00:05<00:00, 89.01it/s]\n",
      "Training Epoch 1688: 100%|██████████| 507/507 [00:05<00:00, 89.38it/s]\n",
      "Training Epoch 1689: 100%|██████████| 507/507 [00:05<00:00, 90.11it/s] \n",
      "Training Epoch 1690: 100%|██████████| 507/507 [00:05<00:00, 90.16it/s]\n",
      "Training Epoch 1691: 100%|██████████| 507/507 [00:05<00:00, 91.55it/s]\n"
     ]
    },
    {
     "name": "stdout",
     "output_type": "stream",
     "text": [
      "Epoch 1690 - Train Loss: 0.1020, Train MSE: 0.1021, Train MAE: 0.2324\n",
      "Epoch 1690 - Validation Loss: 1.2315, Validation MSE: 1.2338, Validation MAE: 0.7833\n"
     ]
    },
    {
     "name": "stderr",
     "output_type": "stream",
     "text": [
      "Training Epoch 1692: 100%|██████████| 507/507 [00:05<00:00, 91.29it/s]\n",
      "Training Epoch 1693: 100%|██████████| 507/507 [00:05<00:00, 89.37it/s]\n",
      "Training Epoch 1694: 100%|██████████| 507/507 [00:05<00:00, 92.43it/s]\n",
      "Training Epoch 1695: 100%|██████████| 507/507 [00:05<00:00, 88.91it/s] \n",
      "Training Epoch 1696: 100%|██████████| 507/507 [00:05<00:00, 90.25it/s]\n",
      "Training Epoch 1697: 100%|██████████| 507/507 [00:05<00:00, 88.36it/s]\n",
      "Training Epoch 1698: 100%|██████████| 507/507 [00:05<00:00, 90.69it/s] \n",
      "Training Epoch 1699: 100%|██████████| 507/507 [00:05<00:00, 89.22it/s]\n",
      "Training Epoch 1700: 100%|██████████| 507/507 [00:05<00:00, 91.34it/s]\n",
      "Training Epoch 1701: 100%|██████████| 507/507 [00:05<00:00, 89.76it/s]\n"
     ]
    },
    {
     "name": "stdout",
     "output_type": "stream",
     "text": [
      "Epoch 1700 - Train Loss: 0.0981, Train MSE: 0.0981, Train MAE: 0.2308\n",
      "Epoch 1700 - Validation Loss: 1.2497, Validation MSE: 1.2521, Validation MAE: 0.7859\n"
     ]
    },
    {
     "name": "stderr",
     "output_type": "stream",
     "text": [
      "Training Epoch 1702: 100%|██████████| 507/507 [00:05<00:00, 92.26it/s]\n",
      "Training Epoch 1703: 100%|██████████| 507/507 [00:05<00:00, 92.17it/s] \n",
      "Training Epoch 1704: 100%|██████████| 507/507 [00:05<00:00, 90.40it/s]\n",
      "Training Epoch 1705: 100%|██████████| 507/507 [00:05<00:00, 90.49it/s]\n",
      "Training Epoch 1706: 100%|██████████| 507/507 [00:05<00:00, 90.94it/s]\n",
      "Training Epoch 1707: 100%|██████████| 507/507 [00:05<00:00, 87.22it/s]\n",
      "Training Epoch 1708: 100%|██████████| 507/507 [00:05<00:00, 88.47it/s]\n",
      "Training Epoch 1709: 100%|██████████| 507/507 [00:05<00:00, 90.65it/s]\n",
      "Training Epoch 1710: 100%|██████████| 507/507 [00:05<00:00, 92.61it/s]\n",
      "Training Epoch 1711: 100%|██████████| 507/507 [00:05<00:00, 92.00it/s] \n"
     ]
    },
    {
     "name": "stdout",
     "output_type": "stream",
     "text": [
      "Epoch 1710 - Train Loss: 0.0996, Train MSE: 0.0997, Train MAE: 0.2311\n",
      "Epoch 1710 - Validation Loss: 1.2434, Validation MSE: 1.2457, Validation MAE: 0.7861\n"
     ]
    },
    {
     "name": "stderr",
     "output_type": "stream",
     "text": [
      "Training Epoch 1712: 100%|██████████| 507/507 [00:05<00:00, 89.21it/s]\n",
      "Training Epoch 1713: 100%|██████████| 507/507 [00:05<00:00, 91.59it/s]\n",
      "Training Epoch 1714: 100%|██████████| 507/507 [00:05<00:00, 89.30it/s]\n",
      "Training Epoch 1715: 100%|██████████| 507/507 [00:05<00:00, 88.04it/s]\n",
      "Training Epoch 1716: 100%|██████████| 507/507 [00:05<00:00, 89.28it/s]\n",
      "Training Epoch 1717: 100%|██████████| 507/507 [00:05<00:00, 85.85it/s]\n",
      "Training Epoch 1718: 100%|██████████| 507/507 [00:05<00:00, 90.50it/s]\n",
      "Training Epoch 1719: 100%|██████████| 507/507 [00:05<00:00, 90.30it/s]\n",
      "Training Epoch 1720: 100%|██████████| 507/507 [00:05<00:00, 89.41it/s]\n",
      "Training Epoch 1721: 100%|██████████| 507/507 [00:05<00:00, 91.32it/s]\n"
     ]
    },
    {
     "name": "stdout",
     "output_type": "stream",
     "text": [
      "Epoch 1720 - Train Loss: 0.0936, Train MSE: 0.0937, Train MAE: 0.2278\n",
      "Epoch 1720 - Validation Loss: 1.2366, Validation MSE: 1.2389, Validation MAE: 0.7876\n"
     ]
    },
    {
     "name": "stderr",
     "output_type": "stream",
     "text": [
      "Training Epoch 1722: 100%|██████████| 507/507 [00:05<00:00, 89.91it/s]\n",
      "Training Epoch 1723: 100%|██████████| 507/507 [00:05<00:00, 90.81it/s]\n",
      "Training Epoch 1724: 100%|██████████| 507/507 [00:05<00:00, 92.06it/s]\n",
      "Training Epoch 1725: 100%|██████████| 507/507 [00:05<00:00, 91.87it/s]\n",
      "Training Epoch 1726: 100%|██████████| 507/507 [00:05<00:00, 89.11it/s]\n",
      "Training Epoch 1727: 100%|██████████| 507/507 [00:05<00:00, 89.16it/s]\n",
      "Training Epoch 1728: 100%|██████████| 507/507 [00:05<00:00, 87.91it/s]\n",
      "Training Epoch 1729: 100%|██████████| 507/507 [00:05<00:00, 90.46it/s]\n",
      "Training Epoch 1730: 100%|██████████| 507/507 [00:05<00:00, 91.85it/s]\n",
      "Training Epoch 1731: 100%|██████████| 507/507 [00:05<00:00, 89.98it/s]\n"
     ]
    },
    {
     "name": "stdout",
     "output_type": "stream",
     "text": [
      "Epoch 1730 - Train Loss: 0.0952, Train MSE: 0.0951, Train MAE: 0.2264\n",
      "Epoch 1730 - Validation Loss: 1.2501, Validation MSE: 1.2521, Validation MAE: 0.7863\n"
     ]
    },
    {
     "name": "stderr",
     "output_type": "stream",
     "text": [
      "Training Epoch 1732: 100%|██████████| 507/507 [00:05<00:00, 89.75it/s]\n",
      "Training Epoch 1733: 100%|██████████| 507/507 [00:05<00:00, 90.16it/s]\n",
      "Training Epoch 1734: 100%|██████████| 507/507 [00:05<00:00, 89.43it/s]\n",
      "Training Epoch 1735: 100%|██████████| 507/507 [00:05<00:00, 88.41it/s]\n",
      "Training Epoch 1736: 100%|██████████| 507/507 [00:05<00:00, 88.09it/s]\n",
      "Training Epoch 1737: 100%|██████████| 507/507 [00:05<00:00, 87.70it/s]\n",
      "Training Epoch 1738: 100%|██████████| 507/507 [00:05<00:00, 91.04it/s] \n",
      "Training Epoch 1739: 100%|██████████| 507/507 [00:05<00:00, 90.16it/s]\n",
      "Training Epoch 1740: 100%|██████████| 507/507 [00:05<00:00, 89.19it/s]\n",
      "Training Epoch 1741: 100%|██████████| 507/507 [00:05<00:00, 90.87it/s]\n"
     ]
    },
    {
     "name": "stdout",
     "output_type": "stream",
     "text": [
      "Epoch 1740 - Train Loss: 0.0935, Train MSE: 0.0936, Train MAE: 0.2253\n",
      "Epoch 1740 - Validation Loss: 1.2492, Validation MSE: 1.2514, Validation MAE: 0.7870\n"
     ]
    },
    {
     "name": "stderr",
     "output_type": "stream",
     "text": [
      "Training Epoch 1742: 100%|██████████| 507/507 [00:05<00:00, 90.22it/s]\n",
      "Training Epoch 1743: 100%|██████████| 507/507 [00:05<00:00, 89.51it/s]\n",
      "Training Epoch 1744: 100%|██████████| 507/507 [00:05<00:00, 88.11it/s]\n",
      "Training Epoch 1745: 100%|██████████| 507/507 [00:05<00:00, 90.97it/s] \n",
      "Training Epoch 1746: 100%|██████████| 507/507 [00:05<00:00, 90.70it/s]\n",
      "Training Epoch 1747: 100%|██████████| 507/507 [00:05<00:00, 86.85it/s]\n",
      "Training Epoch 1748: 100%|██████████| 507/507 [00:05<00:00, 90.06it/s]\n",
      "Training Epoch 1749: 100%|██████████| 507/507 [00:05<00:00, 88.87it/s]\n",
      "Training Epoch 1750: 100%|██████████| 507/507 [00:05<00:00, 89.98it/s]\n",
      "Training Epoch 1751: 100%|██████████| 507/507 [00:05<00:00, 91.39it/s]\n"
     ]
    },
    {
     "name": "stdout",
     "output_type": "stream",
     "text": [
      "Epoch 1750 - Train Loss: 0.0917, Train MSE: 0.0916, Train MAE: 0.2256\n",
      "Epoch 1750 - Validation Loss: 1.2547, Validation MSE: 1.2567, Validation MAE: 0.7905\n"
     ]
    },
    {
     "name": "stderr",
     "output_type": "stream",
     "text": [
      "Training Epoch 1752: 100%|██████████| 507/507 [00:05<00:00, 88.41it/s]\n",
      "Training Epoch 1753: 100%|██████████| 507/507 [00:05<00:00, 90.14it/s]\n",
      "Training Epoch 1754: 100%|██████████| 507/507 [00:05<00:00, 87.85it/s]\n",
      "Training Epoch 1755: 100%|██████████| 507/507 [00:05<00:00, 87.82it/s]\n",
      "Training Epoch 1756: 100%|██████████| 507/507 [00:05<00:00, 91.36it/s]\n",
      "Training Epoch 1757: 100%|██████████| 507/507 [00:05<00:00, 85.17it/s]\n",
      "Training Epoch 1758: 100%|██████████| 507/507 [00:05<00:00, 89.59it/s]\n",
      "Training Epoch 1759: 100%|██████████| 507/507 [00:05<00:00, 88.97it/s]\n",
      "Training Epoch 1760: 100%|██████████| 507/507 [00:05<00:00, 90.32it/s]\n",
      "Training Epoch 1761: 100%|██████████| 507/507 [00:05<00:00, 90.54it/s]\n"
     ]
    },
    {
     "name": "stdout",
     "output_type": "stream",
     "text": [
      "Epoch 1760 - Train Loss: 0.0944, Train MSE: 0.0944, Train MAE: 0.2275\n",
      "Epoch 1760 - Validation Loss: 1.2355, Validation MSE: 1.2381, Validation MAE: 0.7851\n"
     ]
    },
    {
     "name": "stderr",
     "output_type": "stream",
     "text": [
      "Training Epoch 1762: 100%|██████████| 507/507 [00:05<00:00, 89.92it/s]\n",
      "Training Epoch 1763: 100%|██████████| 507/507 [00:05<00:00, 88.90it/s]\n",
      "Training Epoch 1764: 100%|██████████| 507/507 [00:05<00:00, 91.97it/s]\n",
      "Training Epoch 1765: 100%|██████████| 507/507 [00:05<00:00, 89.95it/s]\n",
      "Training Epoch 1766: 100%|██████████| 507/507 [00:05<00:00, 88.07it/s]\n",
      "Training Epoch 1767: 100%|██████████| 507/507 [00:05<00:00, 89.02it/s]\n",
      "Training Epoch 1768: 100%|██████████| 507/507 [00:05<00:00, 89.11it/s]\n",
      "Training Epoch 1769: 100%|██████████| 507/507 [00:05<00:00, 89.77it/s]\n",
      "Training Epoch 1770: 100%|██████████| 507/507 [00:05<00:00, 90.17it/s]\n",
      "Training Epoch 1771: 100%|██████████| 507/507 [00:05<00:00, 88.73it/s]\n"
     ]
    },
    {
     "name": "stdout",
     "output_type": "stream",
     "text": [
      "Epoch 1770 - Train Loss: 0.0944, Train MSE: 0.0943, Train MAE: 0.2265\n",
      "Epoch 1770 - Validation Loss: 1.2484, Validation MSE: 1.2507, Validation MAE: 0.7863\n"
     ]
    },
    {
     "name": "stderr",
     "output_type": "stream",
     "text": [
      "Training Epoch 1772: 100%|██████████| 507/507 [00:05<00:00, 91.40it/s]\n",
      "Training Epoch 1773: 100%|██████████| 507/507 [00:05<00:00, 92.28it/s]\n",
      "Training Epoch 1774: 100%|██████████| 507/507 [00:05<00:00, 90.24it/s]\n",
      "Training Epoch 1775: 100%|██████████| 507/507 [00:05<00:00, 90.90it/s]\n",
      "Training Epoch 1776: 100%|██████████| 507/507 [00:05<00:00, 90.63it/s]\n",
      "Training Epoch 1777: 100%|██████████| 507/507 [00:05<00:00, 91.43it/s] \n",
      "Training Epoch 1778: 100%|██████████| 507/507 [00:05<00:00, 88.68it/s]\n",
      "Training Epoch 1779: 100%|██████████| 507/507 [00:05<00:00, 88.41it/s]\n",
      "Training Epoch 1780: 100%|██████████| 507/507 [00:05<00:00, 88.73it/s]\n",
      "Training Epoch 1781: 100%|██████████| 507/507 [00:05<00:00, 88.72it/s]\n"
     ]
    },
    {
     "name": "stdout",
     "output_type": "stream",
     "text": [
      "Epoch 1780 - Train Loss: 0.0932, Train MSE: 0.0932, Train MAE: 0.2255\n",
      "Epoch 1780 - Validation Loss: 1.2458, Validation MSE: 1.2479, Validation MAE: 0.7851\n"
     ]
    },
    {
     "name": "stderr",
     "output_type": "stream",
     "text": [
      "Training Epoch 1782: 100%|██████████| 507/507 [00:05<00:00, 87.69it/s]\n",
      "Training Epoch 1783: 100%|██████████| 507/507 [00:05<00:00, 90.45it/s]\n",
      "Training Epoch 1784: 100%|██████████| 507/507 [00:05<00:00, 87.90it/s]\n",
      "Training Epoch 1785: 100%|██████████| 507/507 [00:05<00:00, 89.79it/s]\n",
      "Training Epoch 1786: 100%|██████████| 507/507 [00:05<00:00, 91.65it/s] \n",
      "Training Epoch 1787: 100%|██████████| 507/507 [00:05<00:00, 88.15it/s]\n",
      "Training Epoch 1788: 100%|██████████| 507/507 [00:05<00:00, 88.08it/s]\n",
      "Training Epoch 1789: 100%|██████████| 507/507 [00:05<00:00, 89.42it/s]\n",
      "Training Epoch 1790: 100%|██████████| 507/507 [00:05<00:00, 90.34it/s]\n",
      "Training Epoch 1791: 100%|██████████| 507/507 [00:05<00:00, 90.68it/s]\n"
     ]
    },
    {
     "name": "stdout",
     "output_type": "stream",
     "text": [
      "Epoch 1790 - Train Loss: 0.0905, Train MSE: 0.0905, Train MAE: 0.2229\n",
      "Epoch 1790 - Validation Loss: 1.2458, Validation MSE: 1.2482, Validation MAE: 0.7872\n"
     ]
    },
    {
     "name": "stderr",
     "output_type": "stream",
     "text": [
      "Training Epoch 1792: 100%|██████████| 507/507 [00:05<00:00, 91.18it/s]\n",
      "Training Epoch 1793: 100%|██████████| 507/507 [00:05<00:00, 91.14it/s]\n",
      "Training Epoch 1794: 100%|██████████| 507/507 [00:05<00:00, 89.30it/s]\n",
      "Training Epoch 1795: 100%|██████████| 507/507 [00:05<00:00, 88.60it/s]\n",
      "Training Epoch 1796: 100%|██████████| 507/507 [00:05<00:00, 88.96it/s]\n",
      "Training Epoch 1797: 100%|██████████| 507/507 [00:05<00:00, 90.27it/s]\n",
      "Training Epoch 1798: 100%|██████████| 507/507 [00:05<00:00, 88.13it/s]\n",
      "Training Epoch 1799: 100%|██████████| 507/507 [00:05<00:00, 90.43it/s]\n",
      "Training Epoch 1800: 100%|██████████| 507/507 [00:05<00:00, 89.55it/s]\n",
      "Training Epoch 1801: 100%|██████████| 507/507 [00:05<00:00, 88.22it/s]\n"
     ]
    },
    {
     "name": "stdout",
     "output_type": "stream",
     "text": [
      "Epoch 1800 - Train Loss: 0.0919, Train MSE: 0.0919, Train MAE: 0.2253\n",
      "Epoch 1800 - Validation Loss: 1.2466, Validation MSE: 1.2487, Validation MAE: 0.7867\n"
     ]
    },
    {
     "name": "stderr",
     "output_type": "stream",
     "text": [
      "Training Epoch 1802: 100%|██████████| 507/507 [00:05<00:00, 84.83it/s]\n",
      "Training Epoch 1803: 100%|██████████| 507/507 [00:05<00:00, 89.13it/s]\n",
      "Training Epoch 1804: 100%|██████████| 507/507 [00:05<00:00, 88.36it/s]\n",
      "Training Epoch 1805: 100%|██████████| 507/507 [00:05<00:00, 90.68it/s]\n",
      "Training Epoch 1806: 100%|██████████| 507/507 [00:05<00:00, 87.34it/s]\n",
      "Training Epoch 1807: 100%|██████████| 507/507 [00:05<00:00, 90.10it/s] \n",
      "Training Epoch 1808: 100%|██████████| 507/507 [00:05<00:00, 88.29it/s]\n",
      "Training Epoch 1809: 100%|██████████| 507/507 [00:05<00:00, 90.47it/s] \n",
      "Training Epoch 1810: 100%|██████████| 507/507 [00:05<00:00, 90.28it/s]\n",
      "Training Epoch 1811: 100%|██████████| 507/507 [00:05<00:00, 88.58it/s]\n"
     ]
    },
    {
     "name": "stdout",
     "output_type": "stream",
     "text": [
      "Epoch 1810 - Train Loss: 0.0940, Train MSE: 0.0940, Train MAE: 0.2266\n",
      "Epoch 1810 - Validation Loss: 1.2430, Validation MSE: 1.2450, Validation MAE: 0.7818\n"
     ]
    },
    {
     "name": "stderr",
     "output_type": "stream",
     "text": [
      "Training Epoch 1812: 100%|██████████| 507/507 [00:05<00:00, 90.23it/s]\n",
      "Training Epoch 1813: 100%|██████████| 507/507 [00:05<00:00, 90.12it/s]\n",
      "Training Epoch 1814: 100%|██████████| 507/507 [00:05<00:00, 87.98it/s]\n",
      "Training Epoch 1815: 100%|██████████| 507/507 [00:05<00:00, 88.52it/s]\n",
      "Training Epoch 1816: 100%|██████████| 507/507 [00:05<00:00, 87.59it/s]\n",
      "Training Epoch 1817: 100%|██████████| 507/507 [00:05<00:00, 87.46it/s]\n",
      "Training Epoch 1818: 100%|██████████| 507/507 [00:05<00:00, 90.90it/s]\n",
      "Training Epoch 1819: 100%|██████████| 507/507 [00:05<00:00, 89.03it/s]\n",
      "Training Epoch 1820: 100%|██████████| 507/507 [00:05<00:00, 88.67it/s]\n",
      "Training Epoch 1821: 100%|██████████| 507/507 [00:05<00:00, 90.80it/s]\n"
     ]
    },
    {
     "name": "stdout",
     "output_type": "stream",
     "text": [
      "Epoch 1820 - Train Loss: 0.0891, Train MSE: 0.0892, Train MAE: 0.2225\n",
      "Epoch 1820 - Validation Loss: 1.2399, Validation MSE: 1.2424, Validation MAE: 0.7853\n"
     ]
    },
    {
     "name": "stderr",
     "output_type": "stream",
     "text": [
      "Training Epoch 1822: 100%|██████████| 507/507 [00:05<00:00, 88.05it/s]\n",
      "Training Epoch 1823: 100%|██████████| 507/507 [00:05<00:00, 89.42it/s]\n",
      "Training Epoch 1824: 100%|██████████| 507/507 [00:05<00:00, 89.31it/s]\n",
      "Training Epoch 1825: 100%|██████████| 507/507 [00:05<00:00, 89.20it/s]\n",
      "Training Epoch 1826: 100%|██████████| 507/507 [00:05<00:00, 90.17it/s]\n",
      "Training Epoch 1827: 100%|██████████| 507/507 [00:05<00:00, 87.04it/s]\n",
      "Training Epoch 1828: 100%|██████████| 507/507 [00:05<00:00, 91.23it/s]\n",
      "Training Epoch 1829: 100%|██████████| 507/507 [00:05<00:00, 90.44it/s]\n",
      "Training Epoch 1830: 100%|██████████| 507/507 [00:05<00:00, 90.00it/s]\n",
      "Training Epoch 1831: 100%|██████████| 507/507 [00:05<00:00, 90.17it/s]\n"
     ]
    },
    {
     "name": "stdout",
     "output_type": "stream",
     "text": [
      "Epoch 1830 - Train Loss: 0.0916, Train MSE: 0.0916, Train MAE: 0.2238\n",
      "Epoch 1830 - Validation Loss: 1.2420, Validation MSE: 1.2439, Validation MAE: 0.7815\n"
     ]
    },
    {
     "name": "stderr",
     "output_type": "stream",
     "text": [
      "Training Epoch 1832: 100%|██████████| 507/507 [00:05<00:00, 86.43it/s]\n",
      "Training Epoch 1833: 100%|██████████| 507/507 [00:05<00:00, 88.71it/s]\n",
      "Training Epoch 1834: 100%|██████████| 507/507 [00:05<00:00, 91.45it/s]\n",
      "Training Epoch 1835: 100%|██████████| 507/507 [00:05<00:00, 87.62it/s]\n",
      "Training Epoch 1836: 100%|██████████| 507/507 [00:05<00:00, 88.66it/s]\n",
      "Training Epoch 1837: 100%|██████████| 507/507 [00:05<00:00, 89.10it/s]\n",
      "Training Epoch 1838: 100%|██████████| 507/507 [00:05<00:00, 88.51it/s]\n",
      "Training Epoch 1839: 100%|██████████| 507/507 [00:05<00:00, 87.87it/s]\n",
      "Training Epoch 1840: 100%|██████████| 507/507 [00:05<00:00, 88.29it/s]\n",
      "Training Epoch 1841: 100%|██████████| 507/507 [00:05<00:00, 90.99it/s] \n"
     ]
    },
    {
     "name": "stdout",
     "output_type": "stream",
     "text": [
      "Epoch 1840 - Train Loss: 0.0933, Train MSE: 0.0933, Train MAE: 0.2253\n",
      "Epoch 1840 - Validation Loss: 1.2353, Validation MSE: 1.2378, Validation MAE: 0.7797\n"
     ]
    },
    {
     "name": "stderr",
     "output_type": "stream",
     "text": [
      "Training Epoch 1842: 100%|██████████| 507/507 [00:05<00:00, 91.97it/s]\n",
      "Training Epoch 1843: 100%|██████████| 507/507 [00:05<00:00, 87.47it/s]\n",
      "Training Epoch 1844: 100%|██████████| 507/507 [00:05<00:00, 89.75it/s]\n",
      "Training Epoch 1845: 100%|██████████| 507/507 [00:05<00:00, 88.07it/s]\n",
      "Training Epoch 1846: 100%|██████████| 507/507 [00:05<00:00, 88.59it/s]\n",
      "Training Epoch 1847: 100%|██████████| 507/507 [00:05<00:00, 89.59it/s]\n",
      "Training Epoch 1848: 100%|██████████| 507/507 [00:05<00:00, 89.03it/s]\n",
      "Training Epoch 1849: 100%|██████████| 507/507 [00:05<00:00, 88.84it/s]\n",
      "Training Epoch 1850: 100%|██████████| 507/507 [00:05<00:00, 88.27it/s]\n",
      "Training Epoch 1851: 100%|██████████| 507/507 [00:05<00:00, 86.97it/s]\n"
     ]
    },
    {
     "name": "stdout",
     "output_type": "stream",
     "text": [
      "Epoch 1850 - Train Loss: 0.0924, Train MSE: 0.0924, Train MAE: 0.2227\n",
      "Epoch 1850 - Validation Loss: 1.2428, Validation MSE: 1.2450, Validation MAE: 0.7869\n"
     ]
    },
    {
     "name": "stderr",
     "output_type": "stream",
     "text": [
      "Training Epoch 1852: 100%|██████████| 507/507 [00:05<00:00, 90.76it/s]\n",
      "Training Epoch 1853: 100%|██████████| 507/507 [00:05<00:00, 93.64it/s] \n",
      "Training Epoch 1854: 100%|██████████| 507/507 [00:05<00:00, 89.39it/s]\n",
      "Training Epoch 1855: 100%|██████████| 507/507 [00:05<00:00, 89.51it/s]\n",
      "Training Epoch 1856: 100%|██████████| 507/507 [00:05<00:00, 89.52it/s]\n",
      "Training Epoch 1857: 100%|██████████| 507/507 [00:05<00:00, 89.53it/s]\n",
      "Training Epoch 1858: 100%|██████████| 507/507 [00:05<00:00, 88.75it/s]\n",
      "Training Epoch 1859: 100%|██████████| 507/507 [00:05<00:00, 86.54it/s]\n",
      "Training Epoch 1860: 100%|██████████| 507/507 [00:05<00:00, 91.96it/s]\n",
      "Training Epoch 1861: 100%|██████████| 507/507 [00:05<00:00, 89.13it/s]\n"
     ]
    },
    {
     "name": "stdout",
     "output_type": "stream",
     "text": [
      "Epoch 1860 - Train Loss: 0.0891, Train MSE: 0.0892, Train MAE: 0.2204\n",
      "Epoch 1860 - Validation Loss: 1.2474, Validation MSE: 1.2498, Validation MAE: 0.7892\n"
     ]
    },
    {
     "name": "stderr",
     "output_type": "stream",
     "text": [
      "Training Epoch 1862: 100%|██████████| 507/507 [00:05<00:00, 90.44it/s]\n",
      "Training Epoch 1863: 100%|██████████| 507/507 [00:05<00:00, 92.92it/s] \n",
      "Training Epoch 1864: 100%|██████████| 507/507 [00:05<00:00, 88.17it/s]\n",
      "Training Epoch 1865: 100%|██████████| 507/507 [00:05<00:00, 91.13it/s]\n",
      "Training Epoch 1866: 100%|██████████| 507/507 [00:05<00:00, 90.61it/s] \n",
      "Training Epoch 1867: 100%|██████████| 507/507 [00:05<00:00, 86.57it/s]\n",
      "Training Epoch 1868: 100%|██████████| 507/507 [00:05<00:00, 89.03it/s]\n",
      "Training Epoch 1869: 100%|██████████| 507/507 [00:06<00:00, 82.06it/s]\n",
      "Training Epoch 1870: 100%|██████████| 507/507 [00:05<00:00, 84.85it/s]\n",
      "Training Epoch 1871: 100%|██████████| 507/507 [00:05<00:00, 88.86it/s]\n"
     ]
    },
    {
     "name": "stdout",
     "output_type": "stream",
     "text": [
      "Epoch 1870 - Train Loss: 0.0969, Train MSE: 0.0970, Train MAE: 0.2285\n",
      "Epoch 1870 - Validation Loss: 1.2437, Validation MSE: 1.2461, Validation MAE: 0.7877\n"
     ]
    },
    {
     "name": "stderr",
     "output_type": "stream",
     "text": [
      "Training Epoch 1872: 100%|██████████| 507/507 [00:05<00:00, 88.16it/s]\n",
      "Training Epoch 1873: 100%|██████████| 507/507 [00:05<00:00, 91.57it/s]\n",
      "Training Epoch 1874: 100%|██████████| 507/507 [00:05<00:00, 88.39it/s]\n",
      "Training Epoch 1875: 100%|██████████| 507/507 [00:05<00:00, 84.54it/s]\n",
      "Training Epoch 1876: 100%|██████████| 507/507 [00:06<00:00, 83.84it/s]\n",
      "Training Epoch 1877: 100%|██████████| 507/507 [00:06<00:00, 83.30it/s]\n",
      "Training Epoch 1878: 100%|██████████| 507/507 [00:05<00:00, 88.69it/s]\n",
      "Training Epoch 1879: 100%|██████████| 507/507 [00:05<00:00, 85.59it/s]\n",
      "Training Epoch 1880: 100%|██████████| 507/507 [00:05<00:00, 86.96it/s]\n",
      "Training Epoch 1881: 100%|██████████| 507/507 [00:05<00:00, 89.34it/s]\n"
     ]
    },
    {
     "name": "stdout",
     "output_type": "stream",
     "text": [
      "Epoch 1880 - Train Loss: 0.0944, Train MSE: 0.0944, Train MAE: 0.2265\n",
      "Epoch 1880 - Validation Loss: 1.2344, Validation MSE: 1.2370, Validation MAE: 0.7841\n"
     ]
    },
    {
     "name": "stderr",
     "output_type": "stream",
     "text": [
      "Training Epoch 1882: 100%|██████████| 507/507 [00:05<00:00, 88.22it/s]\n",
      "Training Epoch 1883: 100%|██████████| 507/507 [00:05<00:00, 90.81it/s]\n",
      "Training Epoch 1884: 100%|██████████| 507/507 [00:05<00:00, 89.85it/s]\n",
      "Training Epoch 1885: 100%|██████████| 507/507 [00:05<00:00, 87.84it/s]\n",
      "Training Epoch 1886: 100%|██████████| 507/507 [00:05<00:00, 88.58it/s]\n",
      "Training Epoch 1887: 100%|██████████| 507/507 [00:05<00:00, 89.10it/s]\n",
      "Training Epoch 1888: 100%|██████████| 507/507 [00:05<00:00, 87.35it/s]\n",
      "Training Epoch 1889: 100%|██████████| 507/507 [00:05<00:00, 91.46it/s]\n",
      "Training Epoch 1890: 100%|██████████| 507/507 [00:05<00:00, 88.30it/s]\n",
      "Training Epoch 1891: 100%|██████████| 507/507 [00:05<00:00, 90.94it/s]\n"
     ]
    },
    {
     "name": "stdout",
     "output_type": "stream",
     "text": [
      "Epoch 1890 - Train Loss: 0.0903, Train MSE: 0.0903, Train MAE: 0.2221\n",
      "Epoch 1890 - Validation Loss: 1.2418, Validation MSE: 1.2440, Validation MAE: 0.7851\n"
     ]
    },
    {
     "name": "stderr",
     "output_type": "stream",
     "text": [
      "Training Epoch 1892: 100%|██████████| 507/507 [00:05<00:00, 89.82it/s]\n",
      "Training Epoch 1893: 100%|██████████| 507/507 [00:05<00:00, 88.37it/s]\n",
      "Training Epoch 1894: 100%|██████████| 507/507 [00:05<00:00, 90.62it/s]\n",
      "Training Epoch 1895: 100%|██████████| 507/507 [00:05<00:00, 89.94it/s]\n",
      "Training Epoch 1896: 100%|██████████| 507/507 [00:05<00:00, 87.09it/s]\n",
      "Training Epoch 1897: 100%|██████████| 507/507 [00:05<00:00, 88.07it/s]\n",
      "Training Epoch 1898: 100%|██████████| 507/507 [00:05<00:00, 88.80it/s]\n",
      "Training Epoch 1899: 100%|██████████| 507/507 [00:05<00:00, 91.14it/s]\n",
      "Training Epoch 1900: 100%|██████████| 507/507 [00:05<00:00, 91.02it/s]\n",
      "Training Epoch 1901: 100%|██████████| 507/507 [00:05<00:00, 88.31it/s]\n"
     ]
    },
    {
     "name": "stdout",
     "output_type": "stream",
     "text": [
      "Epoch 1900 - Train Loss: 0.0910, Train MSE: 0.0911, Train MAE: 0.2219\n",
      "Epoch 1900 - Validation Loss: 1.2391, Validation MSE: 1.2412, Validation MAE: 0.7842\n"
     ]
    },
    {
     "name": "stderr",
     "output_type": "stream",
     "text": [
      "Training Epoch 1902: 100%|██████████| 507/507 [00:05<00:00, 89.80it/s]\n",
      "Training Epoch 1903: 100%|██████████| 507/507 [00:05<00:00, 91.84it/s]\n",
      "Training Epoch 1904: 100%|██████████| 507/507 [00:05<00:00, 90.18it/s]\n",
      "Training Epoch 1905: 100%|██████████| 507/507 [00:05<00:00, 91.14it/s]\n",
      "Training Epoch 1906: 100%|██████████| 507/507 [00:05<00:00, 91.67it/s] \n",
      "Training Epoch 1907: 100%|██████████| 507/507 [00:05<00:00, 90.36it/s]\n",
      "Training Epoch 1908: 100%|██████████| 507/507 [00:05<00:00, 90.73it/s] \n",
      "Training Epoch 1909: 100%|██████████| 507/507 [00:05<00:00, 87.85it/s]\n",
      "Training Epoch 1910: 100%|██████████| 507/507 [00:05<00:00, 92.05it/s]\n",
      "Training Epoch 1911: 100%|██████████| 507/507 [00:05<00:00, 92.05it/s]\n"
     ]
    },
    {
     "name": "stdout",
     "output_type": "stream",
     "text": [
      "Epoch 1910 - Train Loss: 0.0934, Train MSE: 0.0935, Train MAE: 0.2240\n",
      "Epoch 1910 - Validation Loss: 1.2374, Validation MSE: 1.2398, Validation MAE: 0.7836\n"
     ]
    },
    {
     "name": "stderr",
     "output_type": "stream",
     "text": [
      "Training Epoch 1912: 100%|██████████| 507/507 [00:05<00:00, 89.39it/s]\n",
      "Training Epoch 1913: 100%|██████████| 507/507 [00:05<00:00, 89.80it/s]\n",
      "Training Epoch 1914: 100%|██████████| 507/507 [00:05<00:00, 91.42it/s]\n",
      "Training Epoch 1915: 100%|██████████| 507/507 [00:05<00:00, 89.67it/s]\n",
      "Training Epoch 1916: 100%|██████████| 507/507 [00:05<00:00, 90.68it/s]\n",
      "Training Epoch 1917: 100%|██████████| 507/507 [00:05<00:00, 87.13it/s]\n",
      "Training Epoch 1918: 100%|██████████| 507/507 [00:05<00:00, 88.90it/s]\n",
      "Training Epoch 1919: 100%|██████████| 507/507 [00:05<00:00, 87.97it/s]\n",
      "Training Epoch 1920: 100%|██████████| 507/507 [00:06<00:00, 84.43it/s]\n",
      "Training Epoch 1921: 100%|██████████| 507/507 [00:05<00:00, 90.17it/s]\n"
     ]
    },
    {
     "name": "stdout",
     "output_type": "stream",
     "text": [
      "Epoch 1920 - Train Loss: 0.0894, Train MSE: 0.0895, Train MAE: 0.2208\n",
      "Epoch 1920 - Validation Loss: 1.2280, Validation MSE: 1.2303, Validation MAE: 0.7813\n"
     ]
    },
    {
     "name": "stderr",
     "output_type": "stream",
     "text": [
      "Training Epoch 1922: 100%|██████████| 507/507 [00:05<00:00, 89.60it/s]\n",
      "Training Epoch 1923: 100%|██████████| 507/507 [00:05<00:00, 91.20it/s]\n",
      "Training Epoch 1924: 100%|██████████| 507/507 [00:05<00:00, 91.92it/s]\n",
      "Training Epoch 1925: 100%|██████████| 507/507 [00:05<00:00, 90.06it/s]\n",
      "Training Epoch 1926: 100%|██████████| 507/507 [00:05<00:00, 89.57it/s]\n",
      "Training Epoch 1927: 100%|██████████| 507/507 [00:05<00:00, 88.37it/s]\n",
      "Training Epoch 1928: 100%|██████████| 507/507 [00:05<00:00, 88.47it/s]\n",
      "Training Epoch 1929: 100%|██████████| 507/507 [00:05<00:00, 90.88it/s]\n",
      "Training Epoch 1930: 100%|██████████| 507/507 [00:05<00:00, 91.53it/s]\n",
      "Training Epoch 1931: 100%|██████████| 507/507 [00:05<00:00, 89.54it/s]\n"
     ]
    },
    {
     "name": "stdout",
     "output_type": "stream",
     "text": [
      "Epoch 1930 - Train Loss: 0.0905, Train MSE: 0.0906, Train MAE: 0.2228\n",
      "Epoch 1930 - Validation Loss: 1.2582, Validation MSE: 1.2607, Validation MAE: 0.7920\n"
     ]
    },
    {
     "name": "stderr",
     "output_type": "stream",
     "text": [
      "Training Epoch 1932: 100%|██████████| 507/507 [00:05<00:00, 90.70it/s]\n",
      "Training Epoch 1933: 100%|██████████| 507/507 [00:05<00:00, 88.42it/s]\n",
      "Training Epoch 1934: 100%|██████████| 507/507 [00:05<00:00, 87.99it/s]\n",
      "Training Epoch 1935: 100%|██████████| 507/507 [00:05<00:00, 91.68it/s] \n",
      "Training Epoch 1936: 100%|██████████| 507/507 [00:05<00:00, 88.75it/s]\n",
      "Training Epoch 1937: 100%|██████████| 507/507 [00:05<00:00, 90.68it/s]\n",
      "Training Epoch 1938: 100%|██████████| 507/507 [00:05<00:00, 91.31it/s]\n",
      "Training Epoch 1939: 100%|██████████| 507/507 [00:05<00:00, 88.28it/s]\n",
      "Training Epoch 1940: 100%|██████████| 507/507 [00:05<00:00, 90.02it/s]\n",
      "Training Epoch 1941: 100%|██████████| 507/507 [00:05<00:00, 89.62it/s]\n"
     ]
    },
    {
     "name": "stdout",
     "output_type": "stream",
     "text": [
      "Epoch 1940 - Train Loss: 0.0900, Train MSE: 0.0901, Train MAE: 0.2226\n",
      "Epoch 1940 - Validation Loss: 1.2391, Validation MSE: 1.2415, Validation MAE: 0.7866\n"
     ]
    },
    {
     "name": "stderr",
     "output_type": "stream",
     "text": [
      "Training Epoch 1942: 100%|██████████| 507/507 [00:05<00:00, 90.97it/s]\n",
      "Training Epoch 1943: 100%|██████████| 507/507 [00:05<00:00, 89.39it/s]\n",
      "Training Epoch 1944: 100%|██████████| 507/507 [00:05<00:00, 89.09it/s]\n",
      "Training Epoch 1945: 100%|██████████| 507/507 [00:05<00:00, 90.05it/s]\n",
      "Training Epoch 1946: 100%|██████████| 507/507 [00:05<00:00, 90.66it/s]\n",
      "Training Epoch 1947: 100%|██████████| 507/507 [00:05<00:00, 86.47it/s]\n",
      "Training Epoch 1948: 100%|██████████| 507/507 [00:05<00:00, 91.05it/s]\n",
      "Training Epoch 1949: 100%|██████████| 507/507 [00:05<00:00, 88.52it/s]\n",
      "Training Epoch 1950: 100%|██████████| 507/507 [00:05<00:00, 90.94it/s]\n",
      "Training Epoch 1951: 100%|██████████| 507/507 [00:05<00:00, 90.76it/s]\n"
     ]
    },
    {
     "name": "stdout",
     "output_type": "stream",
     "text": [
      "Epoch 1950 - Train Loss: 0.0904, Train MSE: 0.0904, Train MAE: 0.2210\n",
      "Epoch 1950 - Validation Loss: 1.2453, Validation MSE: 1.2477, Validation MAE: 0.7865\n"
     ]
    },
    {
     "name": "stderr",
     "output_type": "stream",
     "text": [
      "Training Epoch 1952: 100%|██████████| 507/507 [00:05<00:00, 89.44it/s]\n",
      "Training Epoch 1953: 100%|██████████| 507/507 [00:05<00:00, 91.07it/s]\n",
      "Training Epoch 1954: 100%|██████████| 507/507 [00:05<00:00, 88.89it/s]\n",
      "Training Epoch 1955: 100%|██████████| 507/507 [00:05<00:00, 87.88it/s]\n",
      "Training Epoch 1956: 100%|██████████| 507/507 [00:05<00:00, 90.47it/s]\n",
      "Training Epoch 1957: 100%|██████████| 507/507 [00:06<00:00, 84.20it/s]\n",
      "Training Epoch 1958: 100%|██████████| 507/507 [00:05<00:00, 89.71it/s]\n",
      "Training Epoch 1959: 100%|██████████| 507/507 [00:05<00:00, 92.54it/s]\n",
      "Training Epoch 1960: 100%|██████████| 507/507 [00:05<00:00, 91.03it/s]\n",
      "Training Epoch 1961: 100%|██████████| 507/507 [00:05<00:00, 89.59it/s]\n"
     ]
    },
    {
     "name": "stdout",
     "output_type": "stream",
     "text": [
      "Epoch 1960 - Train Loss: 0.0890, Train MSE: 0.0890, Train MAE: 0.2207\n",
      "Epoch 1960 - Validation Loss: 1.2379, Validation MSE: 1.2402, Validation MAE: 0.7836\n"
     ]
    },
    {
     "name": "stderr",
     "output_type": "stream",
     "text": [
      "Training Epoch 1962: 100%|██████████| 507/507 [00:05<00:00, 89.59it/s]\n",
      "Training Epoch 1963: 100%|██████████| 507/507 [00:05<00:00, 88.25it/s]\n",
      "Training Epoch 1964: 100%|██████████| 507/507 [00:05<00:00, 89.17it/s]\n",
      "Training Epoch 1965: 100%|██████████| 507/507 [00:05<00:00, 88.99it/s]\n",
      "Training Epoch 1966: 100%|██████████| 507/507 [00:05<00:00, 91.83it/s]\n",
      "Training Epoch 1967: 100%|██████████| 507/507 [00:05<00:00, 88.98it/s]\n",
      "Training Epoch 1968: 100%|██████████| 507/507 [00:05<00:00, 87.54it/s]\n",
      "Training Epoch 1969: 100%|██████████| 507/507 [00:05<00:00, 92.28it/s] \n",
      "Training Epoch 1970: 100%|██████████| 507/507 [00:05<00:00, 90.52it/s]\n",
      "Training Epoch 1971: 100%|██████████| 507/507 [00:05<00:00, 89.25it/s]\n"
     ]
    },
    {
     "name": "stdout",
     "output_type": "stream",
     "text": [
      "Epoch 1970 - Train Loss: 0.0896, Train MSE: 0.0896, Train MAE: 0.2215\n",
      "Epoch 1970 - Validation Loss: 1.2504, Validation MSE: 1.2528, Validation MAE: 0.7872\n"
     ]
    },
    {
     "name": "stderr",
     "output_type": "stream",
     "text": [
      "Training Epoch 1972: 100%|██████████| 507/507 [00:05<00:00, 90.45it/s]\n",
      "Training Epoch 1973: 100%|██████████| 507/507 [00:05<00:00, 87.64it/s]\n",
      "Training Epoch 1974: 100%|██████████| 507/507 [00:05<00:00, 92.42it/s]\n",
      "Training Epoch 1975: 100%|██████████| 507/507 [00:05<00:00, 90.70it/s]\n",
      "Training Epoch 1976: 100%|██████████| 507/507 [00:05<00:00, 87.43it/s]\n",
      "Training Epoch 1977: 100%|██████████| 507/507 [00:05<00:00, 89.37it/s]\n",
      "Training Epoch 1978: 100%|██████████| 507/507 [00:05<00:00, 92.14it/s] \n",
      "Training Epoch 1979: 100%|██████████| 507/507 [00:05<00:00, 89.82it/s]\n",
      "Training Epoch 1980: 100%|██████████| 507/507 [00:05<00:00, 89.40it/s]\n",
      "Training Epoch 1981: 100%|██████████| 507/507 [00:05<00:00, 88.92it/s]\n"
     ]
    },
    {
     "name": "stdout",
     "output_type": "stream",
     "text": [
      "Epoch 1980 - Train Loss: 0.0883, Train MSE: 0.0881, Train MAE: 0.2189\n",
      "Epoch 1980 - Validation Loss: 1.2426, Validation MSE: 1.2448, Validation MAE: 0.7844\n"
     ]
    },
    {
     "name": "stderr",
     "output_type": "stream",
     "text": [
      "Training Epoch 1982: 100%|██████████| 507/507 [00:05<00:00, 91.13it/s] \n",
      "Training Epoch 1983: 100%|██████████| 507/507 [00:05<00:00, 89.73it/s]\n",
      "Training Epoch 1984: 100%|██████████| 507/507 [00:05<00:00, 88.12it/s]\n",
      "Training Epoch 1985: 100%|██████████| 507/507 [00:05<00:00, 90.61it/s]\n",
      "Training Epoch 1986: 100%|██████████| 507/507 [00:05<00:00, 91.85it/s]\n",
      "Training Epoch 1987: 100%|██████████| 507/507 [00:05<00:00, 85.74it/s]\n",
      "Training Epoch 1988: 100%|██████████| 507/507 [00:05<00:00, 90.54it/s]\n",
      "Training Epoch 1989: 100%|██████████| 507/507 [00:05<00:00, 89.36it/s]\n",
      "Training Epoch 1990: 100%|██████████| 507/507 [00:05<00:00, 91.65it/s]\n",
      "Training Epoch 1991: 100%|██████████| 507/507 [00:05<00:00, 90.52it/s]\n"
     ]
    },
    {
     "name": "stdout",
     "output_type": "stream",
     "text": [
      "Epoch 1990 - Train Loss: 0.0927, Train MSE: 0.0928, Train MAE: 0.2228\n",
      "Epoch 1990 - Validation Loss: 1.2558, Validation MSE: 1.2585, Validation MAE: 0.7900\n"
     ]
    },
    {
     "name": "stderr",
     "output_type": "stream",
     "text": [
      "Training Epoch 1992: 100%|██████████| 507/507 [00:05<00:00, 89.71it/s]\n",
      "Training Epoch 1993: 100%|██████████| 507/507 [00:05<00:00, 91.60it/s]\n",
      "Training Epoch 1994: 100%|██████████| 507/507 [00:05<00:00, 88.74it/s]\n",
      "Training Epoch 1995: 100%|██████████| 507/507 [00:05<00:00, 90.62it/s]\n",
      "Training Epoch 1996: 100%|██████████| 507/507 [00:05<00:00, 90.87it/s]\n",
      "Training Epoch 1997: 100%|██████████| 507/507 [00:05<00:00, 90.40it/s]\n",
      "Training Epoch 1998: 100%|██████████| 507/507 [00:05<00:00, 90.39it/s]\n",
      "Training Epoch 1999: 100%|██████████| 507/507 [00:05<00:00, 89.53it/s]\n",
      "Training Epoch 2000: 100%|██████████| 507/507 [00:05<00:00, 87.99it/s]\n"
     ]
    },
    {
     "name": "stdout",
     "output_type": "stream",
     "text": [
      "Test MSE: 1.2020, Test MAE: 0.7540\n"
     ]
    }
   ],
   "source": [
    "import torch\n",
    "import torch.nn as nn\n",
    "import torch.optim as optim\n",
    "from tqdm import tqdm\n",
    "import pandas as pd\n",
    "from sklearn.metrics import r2_score, median_absolute_error, explained_variance_score\n",
    "from scipy.stats import pearsonr\n",
    "\n",
    "\n",
    "train_history = pd.DataFrame(columns=[  'epoch',\n",
    "    'Train Loss', 'Train MSE', 'Train MAE', 'Train RMSE', 'Train R2', 'Train Pearson', 'Train Median_AE', 'Train Explained_VAR'\n",
    "    'Val Loss', 'Val MSE', 'Val MAE', 'Val RMSE', 'Val R2', 'Val Pearson', 'Val Median_AE', 'Val Explained_VAR'])\n",
    "# Verify feature dimensions\n",
    "for batch in train_loader:\n",
    "    mol_input_dim = batch['metabolite_features'].shape[1]  # Dynamically determine mol input dimension\n",
    "    protein_input_dim = batch['protein_features'].shape[1]  # Dynamically determine protein input dimension\n",
    "    break\n",
    "\n",
    "# Initialize model, optimizer, and loss function\n",
    "model = MLPRegressor(mol_input_dim=mol_input_dim, protein_input_dim=protein_input_dim,hidden_dim=512)\n",
    "model = model.to(device)\n",
    "optimizer = optim.Adam(model.parameters(), lr=0.0001)\n",
    "criterion = nn.MSELoss()\n",
    "\n",
    "# Training and Validation Loop\n",
    "for epoch in range(2000):\n",
    "    model.train()\n",
    "    total_loss = 0.0\n",
    "    val_total_loss = 0.0\n",
    "    train_predictions, train_labels = [], []\n",
    "\n",
    "    for batch in tqdm(train_loader, desc=f\"Training Epoch {epoch + 1}\"):\n",
    "        mol_features = batch['metabolite_features'].to(device)\n",
    "        protein_features = batch['protein_features'].to(device)\n",
    "        labels = batch['label'].to(device)\n",
    "\n",
    "        optimizer.zero_grad()\n",
    "        outputs = model(mol_features, protein_features)\n",
    "        loss = criterion(outputs, labels)\n",
    "        loss.backward()\n",
    "        optimizer.step()\n",
    "        total_loss += loss.item()\n",
    "\n",
    "        # Store predictions and labels for metrics\n",
    "        train_predictions.extend(outputs.detach().cpu().numpy())\n",
    "        train_labels.extend(labels.cpu().numpy())\n",
    "\n",
    "    # Calculate training metrics\n",
    "    train_mse = ((torch.tensor(train_predictions) - torch.tensor(train_labels))**2).mean().item()\n",
    "    train_mae = torch.abs(torch.tensor(train_predictions) - torch.tensor(train_labels)).mean().item()\n",
    "    train_rmse = torch.sqrt((torch.tensor(train_predictions) - torch.tensor(train_labels)) ** 2).mean().item()\n",
    "    train_r2 = r2_score(np.array(train_labels), np.array(train_predictions))\n",
    "    train_pearson_corr, _ = pearsonr(np.array(train_labels), np.array(train_predictions))\n",
    "    train_median_ae = median_absolute_error(np.array(train_labels), np.array(train_predictions))\n",
    "    train_explained_var = explained_variance_score(np.array(train_labels), np.array(train_predictions))\n",
    "\n",
    "\n",
    "\n",
    "    if epoch % 10 == 0:\n",
    "        print(f\"Epoch {epoch} - Train Loss: {total_loss / len(train_loader):.4f}, Train MSE: {train_mse:.4f}, Train MAE: {train_mae:.4f}\")\n",
    "\n",
    "    # Validation\n",
    "    model.eval()\n",
    "    val_predictions, val_labels = [], []\n",
    "    with torch.no_grad():\n",
    "        for batch in val_loader:\n",
    "            mol_features = batch['metabolite_features'].to(device)\n",
    "            protein_features = batch['protein_features'].to(device)\n",
    "            labels = batch['label'].to(device)\n",
    "\n",
    "            outputs = model(mol_features, protein_features)\n",
    "            val_predictions.extend(outputs.cpu().numpy())\n",
    "            val_labels.extend(labels.cpu().numpy())\n",
    "            val_loss = criterion(outputs, labels)\n",
    "            val_total_loss += val_loss.item()\n",
    "\n",
    "    val_mse = ((torch.tensor(val_predictions) - torch.tensor(val_labels))**2).mean().item()\n",
    "    val_mae = torch.abs(torch.tensor(val_predictions) - torch.tensor(val_labels)).mean().item()\n",
    "    val_rmse = torch.sqrt((torch.tensor(val_predictions) - torch.tensor(val_labels)) ** 2).mean().item()\n",
    "    val_r2 = r2_score(np.array(val_labels), np.array(val_predictions))\n",
    "    val_pearson_corr, _ = pearsonr(np.array(val_labels), np.array(val_predictions))\n",
    "    val_median_ae = median_absolute_error(np.array(val_labels), np.array(val_predictions))\n",
    "    val_explained_var = explained_variance_score(np.array(val_labels), np.array(val_predictions))\n",
    "\n",
    "    if epoch % 10 == 0:\n",
    "        print(f\"Epoch {epoch} - Validation Loss: {val_total_loss / len(val_loader):.4f}, Validation MSE: {val_mse:.4f}, Validation MAE: {val_mae:.4f}\")\n",
    "\n",
    "    # Save metrics to DataFrame\n",
    "    new_row = {'epoch': epoch + 1, 'Train Loss': total_loss / len(train_loader), 'Train MSE': train_mse, 'Train MAE': train_mae, 'Train RMSE': train_rmse, 'Train R2': train_r2, 'Train Pearson': train_pearson_corr, 'Train Median_AE': train_median_ae, 'Train Explained_VAR': train_explained_var, \n",
    "               'Val Loss': val_total_loss / len(val_loader), 'Val MSE': val_mse, 'Val MAE': val_mae, 'Val RMSE': val_rmse, 'Val R2': val_r2, 'Val Pearson': val_pearson_corr, 'Val Median_AE': val_median_ae, 'Val Explained_VAR': val_explained_var}\n",
    "    train_history = pd.concat([train_history, pd.DataFrame([new_row])], ignore_index=True)\n",
    "\n",
    "# Test Metrics\n",
    "model.eval()\n",
    "test_predictions, test_labels = [], []\n",
    "with torch.no_grad():\n",
    "    for batch in test_loader:\n",
    "        mol_features = batch['metabolite_features'].to(device)\n",
    "        protein_features = batch['protein_features'].to(device)\n",
    "        labels = batch['label'].to(device)\n",
    "\n",
    "        outputs = model(mol_features, protein_features)\n",
    "        test_predictions.extend(outputs.cpu().numpy())\n",
    "        test_labels.extend(labels.cpu().numpy())\n",
    "\n",
    "test_mse = ((torch.tensor(test_predictions) - torch.tensor(test_labels))**2).mean().item()\n",
    "test_mae = torch.abs(torch.tensor(test_predictions) - torch.tensor(test_labels)).mean().item()\n",
    "test_rmse = torch.sqrt((torch.tensor(test_predictions) - torch.tensor(test_labels)) ** 2).mean().item()\n",
    "test_r2 = r2_score(np.array(test_labels), np.array(test_predictions))\n",
    "test_pearson_corr, _ = pearsonr(np.array(test_labels), np.array(test_predictions))\n",
    "test_median_ae = median_absolute_error(np.array(test_labels), np.array(test_predictions))\n",
    "test_explained_var = explained_variance_score(np.array(test_labels), np.array(test_predictions))\n",
    "\n",
    "print(f\"Test MSE: {test_mse:.4f}, Test MAE: {test_mae:.4f}\")\n"
   ]
  },
  {
   "cell_type": "code",
   "execution_count": 9,
   "metadata": {},
   "outputs": [],
   "source": [
    "# append the performance to the csv file\n",
    "df = {\n",
    "    'Model':['MLP','MLP','MLP'],\n",
    "    'Dataset':['Train','Validation','Test'],\n",
    "    'MSE':[train_history['Train MSE'].mean(),train_history['Val MSE'].mean(),test_mse],\n",
    "    'RMSE':[train_history['Train RMSE'].mean(),train_history['Val RMSE'].mean(),test_rmse],\n",
    "    'MAE':[train_history['Train MAE'].mean(),train_history['Val MAE'].mean(),test_mae],\n",
    "    'R2':[train_history['Train R2'].mean(),train_history['Val R2'].mean(),test_r2],\n",
    "    'Pearson':[train_history['Train Pearson'].mean(),train_history['Val Pearson'].mean(),test_pearson_corr],\n",
    "    'Median_AE':[train_history['Train Median_AE'].mean(),train_history['Val Median_AE'].mean(),test_median_ae],\n",
    "    'Explained_VAR':[train_history['Train Explained_VAR'].mean(),train_history['Val Explained_VAR'].mean(),test_explained_var],\n",
    "    'Dataspliting Mode':['random','random','random']\n",
    "}\n",
    "df = pd.DataFrame(df)\n",
    "\n",
    "df.to_csv('/Users/pinchichen/2025S lab/AI drug project/Catpred/model performance metrics_Catpred.csv', mode='a', header=False)"
   ]
  },
  {
   "cell_type": "code",
   "execution_count": 10,
   "metadata": {},
   "outputs": [],
   "source": [
    "# Save the model and training history\n",
    "save_dir = './trained_model/random_split'\n",
    "# save model weights and optimizer state\n",
    "torch.save(model.state_dict(), os.path.join(save_dir, 'MLP model_Catpred.pt'))\n",
    "torch.save(optimizer.state_dict(), os.path.join(save_dir, 'MLP optimizer_Catpred.pt'))"
   ]
  },
  {
   "cell_type": "code",
   "execution_count": 11,
   "metadata": {},
   "outputs": [
    {
     "data": {
      "image/png": "[encoded data removed]",
      "text/plain": [
       "<Figure size 1000x600 with 1 Axes>"
      ]
     },
     "metadata": {},
     "output_type": "display_data"
    }
   ],
   "source": [
    "import matplotlib.pyplot as plt\n",
    "import seaborn as sns\n",
    "sns.set(style='ticks')\n",
    "# Load metrics\n",
    "\n",
    "metrics = train_history\n",
    "\n",
    "# Plot the training loss over epochs using seaborn\n",
    "plt.figure(figsize=(10, 6))\n",
    "# sns.lineplot(data=metrics, x='epoch', y='Train Loss', label='Train Loss')\n",
    "# sns.lineplot(data=metrics, x='epoch', y='Val Loss', label='Val Loss')\n",
    "sns.lineplot(data=metrics, x='epoch', y='Val MSE', label='Valid_RMSE')\n",
    "sns.lineplot(data=metrics, x='epoch', y='Train MSE', label='Train_RMSE')\n",
    "# sns.lineplot(data=metrics, x='Epoch', y='Valid_MAE', label='Valid_MAE')\n",
    "# Add titles and labels\n",
    "plt.title('Training and Validation Metrics Over Epochs', fontsize=14)\n",
    "# Define the range of tick positions\n",
    "plt.xlabel('Epoch', fontsize=12)\n",
    "plt.ylabel('Loss', fontsize=12)\n",
    "plt.grid(False)\n",
    "# Show the plot\n",
    "plt.show()\n"
   ]
  },
  {
   "cell_type": "code",
   "execution_count": 12,
   "metadata": {},
   "outputs": [
    {
     "data": {
      "text/html": [
       "<div>\n",
       "<style scoped>\n",
       "    .dataframe tbody tr th:only-of-type {\n",
       "        vertical-align: middle;\n",
       "    }\n",
       "\n",
       "    .dataframe tbody tr th {\n",
       "        vertical-align: top;\n",
       "    }\n",
       "\n",
       "    .dataframe thead th {\n",
       "        text-align: right;\n",
       "    }\n",
       "</style>\n",
       "<table border=\"1\" class=\"dataframe\">\n",
       "  <thead>\n",
       "    <tr style=\"text-align: right;\">\n",
       "      <th></th>\n",
       "      <th>epoch</th>\n",
       "      <th>Train Loss</th>\n",
       "      <th>Train MSE</th>\n",
       "      <th>Train MAE</th>\n",
       "      <th>Train RMSE</th>\n",
       "      <th>Train R2</th>\n",
       "      <th>Train Pearson</th>\n",
       "      <th>Train Median_AE</th>\n",
       "      <th>Train Explained_VARVal Loss</th>\n",
       "      <th>Val MSE</th>\n",
       "      <th>Val MAE</th>\n",
       "      <th>Val RMSE</th>\n",
       "      <th>Val R2</th>\n",
       "      <th>Val Pearson</th>\n",
       "      <th>Val Median_AE</th>\n",
       "      <th>Val Explained_VAR</th>\n",
       "      <th>Train Explained_VAR</th>\n",
       "      <th>Val Loss</th>\n",
       "    </tr>\n",
       "  </thead>\n",
       "  <tbody>\n",
       "    <tr>\n",
       "      <th>1995</th>\n",
       "      <td>1996</td>\n",
       "      <td>0.089961</td>\n",
       "      <td>0.089939</td>\n",
       "      <td>0.220922</td>\n",
       "      <td>0.220922</td>\n",
       "      <td>0.967949</td>\n",
       "      <td>0.983845</td>\n",
       "      <td>0.171346</td>\n",
       "      <td>NaN</td>\n",
       "      <td>1.255644</td>\n",
       "      <td>0.787646</td>\n",
       "      <td>0.787646</td>\n",
       "      <td>0.526722</td>\n",
       "      <td>0.727662</td>\n",
       "      <td>0.544851</td>\n",
       "      <td>0.526807</td>\n",
       "      <td>0.967949</td>\n",
       "      <td>1.252912</td>\n",
       "    </tr>\n",
       "    <tr>\n",
       "      <th>1996</th>\n",
       "      <td>1997</td>\n",
       "      <td>0.085807</td>\n",
       "      <td>0.085822</td>\n",
       "      <td>0.217618</td>\n",
       "      <td>0.217618</td>\n",
       "      <td>0.969416</td>\n",
       "      <td>0.984589</td>\n",
       "      <td>0.170145</td>\n",
       "      <td>NaN</td>\n",
       "      <td>1.244081</td>\n",
       "      <td>0.785460</td>\n",
       "      <td>0.785460</td>\n",
       "      <td>0.531080</td>\n",
       "      <td>0.730799</td>\n",
       "      <td>0.538590</td>\n",
       "      <td>0.531379</td>\n",
       "      <td>0.969416</td>\n",
       "      <td>1.241389</td>\n",
       "    </tr>\n",
       "    <tr>\n",
       "      <th>1997</th>\n",
       "      <td>1998</td>\n",
       "      <td>0.088632</td>\n",
       "      <td>0.088581</td>\n",
       "      <td>0.217596</td>\n",
       "      <td>0.217596</td>\n",
       "      <td>0.968433</td>\n",
       "      <td>0.984090</td>\n",
       "      <td>0.167932</td>\n",
       "      <td>NaN</td>\n",
       "      <td>1.246936</td>\n",
       "      <td>0.785831</td>\n",
       "      <td>0.785831</td>\n",
       "      <td>0.530004</td>\n",
       "      <td>0.730150</td>\n",
       "      <td>0.533081</td>\n",
       "      <td>0.530359</td>\n",
       "      <td>0.968433</td>\n",
       "      <td>1.244726</td>\n",
       "    </tr>\n",
       "    <tr>\n",
       "      <th>1998</th>\n",
       "      <td>1999</td>\n",
       "      <td>0.093397</td>\n",
       "      <td>0.093390</td>\n",
       "      <td>0.223315</td>\n",
       "      <td>0.223315</td>\n",
       "      <td>0.966719</td>\n",
       "      <td>0.983219</td>\n",
       "      <td>0.172803</td>\n",
       "      <td>NaN</td>\n",
       "      <td>1.244491</td>\n",
       "      <td>0.785649</td>\n",
       "      <td>0.785649</td>\n",
       "      <td>0.530926</td>\n",
       "      <td>0.731363</td>\n",
       "      <td>0.540632</td>\n",
       "      <td>0.531889</td>\n",
       "      <td>0.966719</td>\n",
       "      <td>1.242304</td>\n",
       "    </tr>\n",
       "    <tr>\n",
       "      <th>1999</th>\n",
       "      <td>2000</td>\n",
       "      <td>0.087905</td>\n",
       "      <td>0.087895</td>\n",
       "      <td>0.218075</td>\n",
       "      <td>0.218075</td>\n",
       "      <td>0.968677</td>\n",
       "      <td>0.984215</td>\n",
       "      <td>0.169044</td>\n",
       "      <td>NaN</td>\n",
       "      <td>1.243568</td>\n",
       "      <td>0.782972</td>\n",
       "      <td>0.782972</td>\n",
       "      <td>0.531273</td>\n",
       "      <td>0.731077</td>\n",
       "      <td>0.538501</td>\n",
       "      <td>0.531932</td>\n",
       "      <td>0.968677</td>\n",
       "      <td>1.241070</td>\n",
       "    </tr>\n",
       "  </tbody>\n",
       "</table>\n",
       "</div>"
      ],
      "text/plain": [
       "     epoch  Train Loss  Train MSE  Train MAE  Train RMSE  Train R2  \\\n",
       "1995  1996    0.089961   0.089939   0.220922    0.220922  0.967949   \n",
       "1996  1997    0.085807   0.085822   0.217618    0.217618  0.969416   \n",
       "1997  1998    0.088632   0.088581   0.217596    0.217596  0.968433   \n",
       "1998  1999    0.093397   0.093390   0.223315    0.223315  0.966719   \n",
       "1999  2000    0.087905   0.087895   0.218075    0.218075  0.968677   \n",
       "\n",
       "      Train Pearson  Train Median_AE Train Explained_VARVal Loss   Val MSE  \\\n",
       "1995       0.983845         0.171346                         NaN  1.255644   \n",
       "1996       0.984589         0.170145                         NaN  1.244081   \n",
       "1997       0.984090         0.167932                         NaN  1.246936   \n",
       "1998       0.983219         0.172803                         NaN  1.244491   \n",
       "1999       0.984215         0.169044                         NaN  1.243568   \n",
       "\n",
       "       Val MAE  Val RMSE    Val R2  Val Pearson  Val Median_AE  \\\n",
       "1995  0.787646  0.787646  0.526722     0.727662       0.544851   \n",
       "1996  0.785460  0.785460  0.531080     0.730799       0.538590   \n",
       "1997  0.785831  0.785831  0.530004     0.730150       0.533081   \n",
       "1998  0.785649  0.785649  0.530926     0.731363       0.540632   \n",
       "1999  0.782972  0.782972  0.531273     0.731077       0.538501   \n",
       "\n",
       "      Val Explained_VAR  Train Explained_VAR  Val Loss  \n",
       "1995           0.526807             0.967949  1.252912  \n",
       "1996           0.531379             0.969416  1.241389  \n",
       "1997           0.530359             0.968433  1.244726  \n",
       "1998           0.531889             0.966719  1.242304  \n",
       "1999           0.531932             0.968677  1.241070  "
      ]
     },
     "execution_count": 12,
     "metadata": {},
     "output_type": "execute_result"
    }
   ],
   "source": [
    "train_history.tail()"
   ]
  },
  {
   "cell_type": "code",
   "execution_count": 13,
   "metadata": {},
   "outputs": [
    {
     "data": {
      "image/png": "[encoded data removed]",
      "text/plain": [
       "<Figure size 640x480 with 1 Axes>"
      ]
     },
     "metadata": {},
     "output_type": "display_data"
    }
   ],
   "source": [
    "# Plot the performance\n",
    "import matplotlib.pyplot as plt\n",
    "\n",
    "plt.scatter(test_labels, test_predictions, alpha=0.5)\n",
    "plt.xlabel(\"True Reactivity\")\n",
    "plt.ylabel(\"Predicted Reactivity\")\n",
    "plt.title(\"CNN Predictions vs True Values\")\n",
    "plt.plot([min(test_labels), max(test_labels)], [min(test_labels), max(test_labels)], 'r--')\n",
    "plt.show()\n"
   ]
  }
 ],
 "metadata": {
  "kernelspec": {
   "display_name": "base",
   "language": "python",
   "name": "python3"
  },
  "language_info": {
   "codemirror_mode": {
    "name": "ipython",
    "version": 3
   },
   "file_extension": ".py",
   "mimetype": "text/x-python",
   "name": "python",
   "nbconvert_exporter": "python",
   "pygments_lexer": "ipython3",
   "version": "3.12.2"
  }
 },
 "nbformat": 4,
 "nbformat_minor": 2
}
