{
 "cells": [
  {
   "cell_type": "code",
   "execution_count": 1,
   "metadata": {},
   "outputs": [],
   "source": [
    "import pandas as pd\n",
    "import numpy as np\n",
    "from tqdm import tqdm\n",
    "import torch\n",
    "import torch.nn as nn\n",
    "import torch.optim as optim\n",
    "from torch.utils.data import DataLoader, Dataset\n",
    "from sklearn.metrics import roc_auc_score\n",
    "from sklearn.model_selection import train_test_split\n",
    "import os\n"
   ]
  },
  {
   "cell_type": "code",
   "execution_count": 2,
   "metadata": {},
   "outputs": [
    {
     "data": {
      "text/html": [
       "<div>\n",
       "<style scoped>\n",
       "    .dataframe tbody tr th:only-of-type {\n",
       "        vertical-align: middle;\n",
       "    }\n",
       "\n",
       "    .dataframe tbody tr th {\n",
       "        vertical-align: top;\n",
       "    }\n",
       "\n",
       "    .dataframe thead th {\n",
       "        text-align: right;\n",
       "    }\n",
       "</style>\n",
       "<table border=\"1\" class=\"dataframe\">\n",
       "  <thead>\n",
       "    <tr style=\"text-align: right;\">\n",
       "      <th></th>\n",
       "      <th>Sequence</th>\n",
       "      <th>sequence_source</th>\n",
       "      <th>uniprot</th>\n",
       "      <th>Smiles</th>\n",
       "      <th>value</th>\n",
       "      <th>ec</th>\n",
       "      <th>log10_value</th>\n",
       "      <th>reactant_smiles</th>\n",
       "      <th>product_smiles</th>\n",
       "      <th>log10kcat_max</th>\n",
       "      <th>metabolite_features</th>\n",
       "      <th>protein_features</th>\n",
       "    </tr>\n",
       "  </thead>\n",
       "  <tbody>\n",
       "    <tr>\n",
       "      <th>0</th>\n",
       "      <td>MEPGSKSVSRSDWQPEPHQRPITPLEPGPEKTPIAQPESKTLQGSN...</td>\n",
       "      <td>sabio</td>\n",
       "      <td>Q05469</td>\n",
       "      <td>CCC(=O)OCC(COC(=O)CC)OC(=O)CC.O&gt;&gt;CCC(=O)O.CCC(...</td>\n",
       "      <td>7.00</td>\n",
       "      <td>3.1.1.1</td>\n",
       "      <td>0.845098</td>\n",
       "      <td>CCC(=O)OCC(COC(=O)CC)OC(=O)CC.O</td>\n",
       "      <td>CCC(=O)O.CCC(=O)OCC(CO)OC(=O)CC</td>\n",
       "      <td>0.845098</td>\n",
       "      <td>[0.25240317, -0.45278314, -0.76844007, 0.04716...</td>\n",
       "      <td>[-0.06076221, -0.21264695, -0.05684641, 0.0163...</td>\n",
       "    </tr>\n",
       "    <tr>\n",
       "      <th>1</th>\n",
       "      <td>MLLAQRRLISLGCRSKPIKTIYSSSKVLGLCTSAKMALKFKNAKRI...</td>\n",
       "      <td>brenda</td>\n",
       "      <td>Q71RI9</td>\n",
       "      <td>Nc1ccccc1C(=O)C[C@H](N)C(=O)O.O=C(O)C(=O)Cc1cc...</td>\n",
       "      <td>1.48</td>\n",
       "      <td>2.6.1.7</td>\n",
       "      <td>0.170262</td>\n",
       "      <td>Nc1ccccc1C(=O)C[C@H](N)C(=O)O.O=C(O)C(=O)Cc1cc...</td>\n",
       "      <td>N[C@@H](Cc1ccc(O)cc1)C(=O)O.O=C(O)c1cc(=O)c2cc...</td>\n",
       "      <td>0.170262</td>\n",
       "      <td>[0.066915624, -0.15937805, -0.7076091, 0.12864...</td>\n",
       "      <td>[-0.051194582, -0.07116077, 0.16383636, 0.2113...</td>\n",
       "    </tr>\n",
       "    <tr>\n",
       "      <th>2</th>\n",
       "      <td>MPIIQMNLLEGRTVEQKRNAVAAITEAVVRTLDVRPDQVRILINEL...</td>\n",
       "      <td>brenda</td>\n",
       "      <td>A2SL37</td>\n",
       "      <td>C/C(=C\\C=C(/O)C(=O)O)C(=O)O&gt;&gt;CC(/C=C/C(=O)C(=O...</td>\n",
       "      <td>3.40</td>\n",
       "      <td>5.3.2.6</td>\n",
       "      <td>0.531479</td>\n",
       "      <td>C/C(=C\\C=C(/O)C(=O)O)C(=O)O</td>\n",
       "      <td>CC(/C=C/C(=O)C(=O)O)C(=O)O</td>\n",
       "      <td>2.029384</td>\n",
       "      <td>[0.23911352, 0.011175589, -0.35101113, 0.15938...</td>\n",
       "      <td>[-0.1772431, -0.06500952, 0.18246448, -0.05431...</td>\n",
       "    </tr>\n",
       "    <tr>\n",
       "      <th>3</th>\n",
       "      <td>MKEAGILFEELVSIMEKLRSPEGCEWDRKQTHESLKPYLIEECYEL...</td>\n",
       "      <td>brenda</td>\n",
       "      <td>Q9X015</td>\n",
       "      <td>N=c1nc(O)c2ncn([C@@H]3O[C@H](COP(=O)(O)OP(=O)(...</td>\n",
       "      <td>0.69</td>\n",
       "      <td>3.6.1.9</td>\n",
       "      <td>-0.161151</td>\n",
       "      <td>N=c1nc(O)c2ncn([C@@H]3O[C@H](COP(=O)(O)OP(=O)(...</td>\n",
       "      <td>N=c1nc(O)c2ncn([C@@H]3O[C@H](COP(=O)(O)OP(=O)(...</td>\n",
       "      <td>-0.161151</td>\n",
       "      <td>[0.078591675, -0.15656142, -0.55292135, -0.245...</td>\n",
       "      <td>[-0.09246727, -0.033019878, 0.10869139, 0.2953...</td>\n",
       "    </tr>\n",
       "    <tr>\n",
       "      <th>4</th>\n",
       "      <td>MGQEKLYIEKELSWLSFNERVLQEAADKSNPLIERMRFLGIYSNNL...</td>\n",
       "      <td>sabio</td>\n",
       "      <td>P0A7B1</td>\n",
       "      <td>O=c1ccn(C2OC(COP(=O)(O)OP(=O)(O)O)C(O)C2O)c(=O...</td>\n",
       "      <td>420.00</td>\n",
       "      <td>2.7.4.1</td>\n",
       "      <td>2.623249</td>\n",
       "      <td>O=c1ccn(C2OC(COP(=O)(O)OP(=O)(O)O)C(O)C2O)c(=O...</td>\n",
       "      <td>O=c1ccn(C2OC(COP(=O)(O)OP(=O)(O)OP(=O)(O)O)C(O...</td>\n",
       "      <td>2.623249</td>\n",
       "      <td>[0.00051207165, -0.7151457, -0.95394605, -0.15...</td>\n",
       "      <td>[-0.06592023, -0.062496405, -0.012068139, 0.06...</td>\n",
       "    </tr>\n",
       "  </tbody>\n",
       "</table>\n",
       "</div>"
      ],
      "text/plain": [
       "                                            Sequence sequence_source uniprot  \\\n",
       "0  MEPGSKSVSRSDWQPEPHQRPITPLEPGPEKTPIAQPESKTLQGSN...           sabio  Q05469   \n",
       "1  MLLAQRRLISLGCRSKPIKTIYSSSKVLGLCTSAKMALKFKNAKRI...          brenda  Q71RI9   \n",
       "2  MPIIQMNLLEGRTVEQKRNAVAAITEAVVRTLDVRPDQVRILINEL...          brenda  A2SL37   \n",
       "3  MKEAGILFEELVSIMEKLRSPEGCEWDRKQTHESLKPYLIEECYEL...          brenda  Q9X015   \n",
       "4  MGQEKLYIEKELSWLSFNERVLQEAADKSNPLIERMRFLGIYSNNL...           sabio  P0A7B1   \n",
       "\n",
       "                                              Smiles   value       ec  \\\n",
       "0  CCC(=O)OCC(COC(=O)CC)OC(=O)CC.O>>CCC(=O)O.CCC(...    7.00  3.1.1.1   \n",
       "1  Nc1ccccc1C(=O)C[C@H](N)C(=O)O.O=C(O)C(=O)Cc1cc...    1.48  2.6.1.7   \n",
       "2  C/C(=C\\C=C(/O)C(=O)O)C(=O)O>>CC(/C=C/C(=O)C(=O...    3.40  5.3.2.6   \n",
       "3  N=c1nc(O)c2ncn([C@@H]3O[C@H](COP(=O)(O)OP(=O)(...    0.69  3.6.1.9   \n",
       "4  O=c1ccn(C2OC(COP(=O)(O)OP(=O)(O)O)C(O)C2O)c(=O...  420.00  2.7.4.1   \n",
       "\n",
       "   log10_value                                    reactant_smiles  \\\n",
       "0     0.845098                    CCC(=O)OCC(COC(=O)CC)OC(=O)CC.O   \n",
       "1     0.170262  Nc1ccccc1C(=O)C[C@H](N)C(=O)O.O=C(O)C(=O)Cc1cc...   \n",
       "2     0.531479                        C/C(=C\\C=C(/O)C(=O)O)C(=O)O   \n",
       "3    -0.161151  N=c1nc(O)c2ncn([C@@H]3O[C@H](COP(=O)(O)OP(=O)(...   \n",
       "4     2.623249  O=c1ccn(C2OC(COP(=O)(O)OP(=O)(O)O)C(O)C2O)c(=O...   \n",
       "\n",
       "                                      product_smiles  log10kcat_max  \\\n",
       "0                    CCC(=O)O.CCC(=O)OCC(CO)OC(=O)CC       0.845098   \n",
       "1  N[C@@H](Cc1ccc(O)cc1)C(=O)O.O=C(O)c1cc(=O)c2cc...       0.170262   \n",
       "2                         CC(/C=C/C(=O)C(=O)O)C(=O)O       2.029384   \n",
       "3  N=c1nc(O)c2ncn([C@@H]3O[C@H](COP(=O)(O)OP(=O)(...      -0.161151   \n",
       "4  O=c1ccn(C2OC(COP(=O)(O)OP(=O)(O)OP(=O)(O)O)C(O...       2.623249   \n",
       "\n",
       "                                 metabolite_features  \\\n",
       "0  [0.25240317, -0.45278314, -0.76844007, 0.04716...   \n",
       "1  [0.066915624, -0.15937805, -0.7076091, 0.12864...   \n",
       "2  [0.23911352, 0.011175589, -0.35101113, 0.15938...   \n",
       "3  [0.078591675, -0.15656142, -0.55292135, -0.245...   \n",
       "4  [0.00051207165, -0.7151457, -0.95394605, -0.15...   \n",
       "\n",
       "                                    protein_features  \n",
       "0  [-0.06076221, -0.21264695, -0.05684641, 0.0163...  \n",
       "1  [-0.051194582, -0.07116077, 0.16383636, 0.2113...  \n",
       "2  [-0.1772431, -0.06500952, 0.18246448, -0.05431...  \n",
       "3  [-0.09246727, -0.033019878, 0.10869139, 0.2953...  \n",
       "4  [-0.06592023, -0.062496405, -0.012068139, 0.06...  "
      ]
     },
     "execution_count": 2,
     "metadata": {},
     "output_type": "execute_result"
    }
   ],
   "source": [
    "import joblib\n",
    "import pandas as pd\n",
    "\n",
    "data_kcat = joblib.load('/Users/pinchichen/2025S lab/AI drug project/Catpred/dataset/kcat_with_features.joblib')\n",
    "data_kcat.head()"
   ]
  },
  {
   "cell_type": "code",
   "execution_count": 3,
   "metadata": {},
   "outputs": [
    {
     "data": {
      "text/html": [
       "<div>\n",
       "<style scoped>\n",
       "    .dataframe tbody tr th:only-of-type {\n",
       "        vertical-align: middle;\n",
       "    }\n",
       "\n",
       "    .dataframe tbody tr th {\n",
       "        vertical-align: top;\n",
       "    }\n",
       "\n",
       "    .dataframe thead th {\n",
       "        text-align: right;\n",
       "    }\n",
       "</style>\n",
       "<table border=\"1\" class=\"dataframe\">\n",
       "  <thead>\n",
       "    <tr style=\"text-align: right;\">\n",
       "      <th></th>\n",
       "      <th>Sequence</th>\n",
       "      <th>sequence_source</th>\n",
       "      <th>uniprot</th>\n",
       "      <th>Smiles</th>\n",
       "      <th>value</th>\n",
       "      <th>ec</th>\n",
       "      <th>log10_value</th>\n",
       "      <th>reactant_smiles</th>\n",
       "      <th>product_smiles</th>\n",
       "      <th>label</th>\n",
       "      <th>metabolite_features</th>\n",
       "      <th>protein_features</th>\n",
       "    </tr>\n",
       "  </thead>\n",
       "  <tbody>\n",
       "    <tr>\n",
       "      <th>0</th>\n",
       "      <td>MEPGSKSVSRSDWQPEPHQRPITPLEPGPEKTPIAQPESKTLQGSN...</td>\n",
       "      <td>sabio</td>\n",
       "      <td>Q05469</td>\n",
       "      <td>CCC(=O)OCC(COC(=O)CC)OC(=O)CC.O&gt;&gt;CCC(=O)O.CCC(...</td>\n",
       "      <td>7.00</td>\n",
       "      <td>3.1.1.1</td>\n",
       "      <td>0.845098</td>\n",
       "      <td>CCC(=O)OCC(COC(=O)CC)OC(=O)CC.O</td>\n",
       "      <td>CCC(=O)O.CCC(=O)OCC(CO)OC(=O)CC</td>\n",
       "      <td>0.845098</td>\n",
       "      <td>[0.25240317, -0.45278314, -0.76844007, 0.04716...</td>\n",
       "      <td>[-0.06076221, -0.21264695, -0.05684641, 0.0163...</td>\n",
       "    </tr>\n",
       "    <tr>\n",
       "      <th>1</th>\n",
       "      <td>MLLAQRRLISLGCRSKPIKTIYSSSKVLGLCTSAKMALKFKNAKRI...</td>\n",
       "      <td>brenda</td>\n",
       "      <td>Q71RI9</td>\n",
       "      <td>Nc1ccccc1C(=O)C[C@H](N)C(=O)O.O=C(O)C(=O)Cc1cc...</td>\n",
       "      <td>1.48</td>\n",
       "      <td>2.6.1.7</td>\n",
       "      <td>0.170262</td>\n",
       "      <td>Nc1ccccc1C(=O)C[C@H](N)C(=O)O.O=C(O)C(=O)Cc1cc...</td>\n",
       "      <td>N[C@@H](Cc1ccc(O)cc1)C(=O)O.O=C(O)c1cc(=O)c2cc...</td>\n",
       "      <td>0.170262</td>\n",
       "      <td>[0.066915624, -0.15937805, -0.7076091, 0.12864...</td>\n",
       "      <td>[-0.051194582, -0.07116077, 0.16383636, 0.2113...</td>\n",
       "    </tr>\n",
       "    <tr>\n",
       "      <th>2</th>\n",
       "      <td>MPIIQMNLLEGRTVEQKRNAVAAITEAVVRTLDVRPDQVRILINEL...</td>\n",
       "      <td>brenda</td>\n",
       "      <td>A2SL37</td>\n",
       "      <td>C/C(=C\\C=C(/O)C(=O)O)C(=O)O&gt;&gt;CC(/C=C/C(=O)C(=O...</td>\n",
       "      <td>3.40</td>\n",
       "      <td>5.3.2.6</td>\n",
       "      <td>0.531479</td>\n",
       "      <td>C/C(=C\\C=C(/O)C(=O)O)C(=O)O</td>\n",
       "      <td>CC(/C=C/C(=O)C(=O)O)C(=O)O</td>\n",
       "      <td>2.029384</td>\n",
       "      <td>[0.23911352, 0.011175589, -0.35101113, 0.15938...</td>\n",
       "      <td>[-0.1772431, -0.06500952, 0.18246448, -0.05431...</td>\n",
       "    </tr>\n",
       "    <tr>\n",
       "      <th>3</th>\n",
       "      <td>MKEAGILFEELVSIMEKLRSPEGCEWDRKQTHESLKPYLIEECYEL...</td>\n",
       "      <td>brenda</td>\n",
       "      <td>Q9X015</td>\n",
       "      <td>N=c1nc(O)c2ncn([C@@H]3O[C@H](COP(=O)(O)OP(=O)(...</td>\n",
       "      <td>0.69</td>\n",
       "      <td>3.6.1.9</td>\n",
       "      <td>-0.161151</td>\n",
       "      <td>N=c1nc(O)c2ncn([C@@H]3O[C@H](COP(=O)(O)OP(=O)(...</td>\n",
       "      <td>N=c1nc(O)c2ncn([C@@H]3O[C@H](COP(=O)(O)OP(=O)(...</td>\n",
       "      <td>-0.161151</td>\n",
       "      <td>[0.078591675, -0.15656142, -0.55292135, -0.245...</td>\n",
       "      <td>[-0.09246727, -0.033019878, 0.10869139, 0.2953...</td>\n",
       "    </tr>\n",
       "    <tr>\n",
       "      <th>4</th>\n",
       "      <td>MGQEKLYIEKELSWLSFNERVLQEAADKSNPLIERMRFLGIYSNNL...</td>\n",
       "      <td>sabio</td>\n",
       "      <td>P0A7B1</td>\n",
       "      <td>O=c1ccn(C2OC(COP(=O)(O)OP(=O)(O)O)C(O)C2O)c(=O...</td>\n",
       "      <td>420.00</td>\n",
       "      <td>2.7.4.1</td>\n",
       "      <td>2.623249</td>\n",
       "      <td>O=c1ccn(C2OC(COP(=O)(O)OP(=O)(O)O)C(O)C2O)c(=O...</td>\n",
       "      <td>O=c1ccn(C2OC(COP(=O)(O)OP(=O)(O)OP(=O)(O)O)C(O...</td>\n",
       "      <td>2.623249</td>\n",
       "      <td>[0.00051207165, -0.7151457, -0.95394605, -0.15...</td>\n",
       "      <td>[-0.06592023, -0.062496405, -0.012068139, 0.06...</td>\n",
       "    </tr>\n",
       "  </tbody>\n",
       "</table>\n",
       "</div>"
      ],
      "text/plain": [
       "                                            Sequence sequence_source uniprot  \\\n",
       "0  MEPGSKSVSRSDWQPEPHQRPITPLEPGPEKTPIAQPESKTLQGSN...           sabio  Q05469   \n",
       "1  MLLAQRRLISLGCRSKPIKTIYSSSKVLGLCTSAKMALKFKNAKRI...          brenda  Q71RI9   \n",
       "2  MPIIQMNLLEGRTVEQKRNAVAAITEAVVRTLDVRPDQVRILINEL...          brenda  A2SL37   \n",
       "3  MKEAGILFEELVSIMEKLRSPEGCEWDRKQTHESLKPYLIEECYEL...          brenda  Q9X015   \n",
       "4  MGQEKLYIEKELSWLSFNERVLQEAADKSNPLIERMRFLGIYSNNL...           sabio  P0A7B1   \n",
       "\n",
       "                                              Smiles   value       ec  \\\n",
       "0  CCC(=O)OCC(COC(=O)CC)OC(=O)CC.O>>CCC(=O)O.CCC(...    7.00  3.1.1.1   \n",
       "1  Nc1ccccc1C(=O)C[C@H](N)C(=O)O.O=C(O)C(=O)Cc1cc...    1.48  2.6.1.7   \n",
       "2  C/C(=C\\C=C(/O)C(=O)O)C(=O)O>>CC(/C=C/C(=O)C(=O...    3.40  5.3.2.6   \n",
       "3  N=c1nc(O)c2ncn([C@@H]3O[C@H](COP(=O)(O)OP(=O)(...    0.69  3.6.1.9   \n",
       "4  O=c1ccn(C2OC(COP(=O)(O)OP(=O)(O)O)C(O)C2O)c(=O...  420.00  2.7.4.1   \n",
       "\n",
       "   log10_value                                    reactant_smiles  \\\n",
       "0     0.845098                    CCC(=O)OCC(COC(=O)CC)OC(=O)CC.O   \n",
       "1     0.170262  Nc1ccccc1C(=O)C[C@H](N)C(=O)O.O=C(O)C(=O)Cc1cc...   \n",
       "2     0.531479                        C/C(=C\\C=C(/O)C(=O)O)C(=O)O   \n",
       "3    -0.161151  N=c1nc(O)c2ncn([C@@H]3O[C@H](COP(=O)(O)OP(=O)(...   \n",
       "4     2.623249  O=c1ccn(C2OC(COP(=O)(O)OP(=O)(O)O)C(O)C2O)c(=O...   \n",
       "\n",
       "                                      product_smiles     label  \\\n",
       "0                    CCC(=O)O.CCC(=O)OCC(CO)OC(=O)CC  0.845098   \n",
       "1  N[C@@H](Cc1ccc(O)cc1)C(=O)O.O=C(O)c1cc(=O)c2cc...  0.170262   \n",
       "2                         CC(/C=C/C(=O)C(=O)O)C(=O)O  2.029384   \n",
       "3  N=c1nc(O)c2ncn([C@@H]3O[C@H](COP(=O)(O)OP(=O)(... -0.161151   \n",
       "4  O=c1ccn(C2OC(COP(=O)(O)OP(=O)(O)OP(=O)(O)O)C(O...  2.623249   \n",
       "\n",
       "                                 metabolite_features  \\\n",
       "0  [0.25240317, -0.45278314, -0.76844007, 0.04716...   \n",
       "1  [0.066915624, -0.15937805, -0.7076091, 0.12864...   \n",
       "2  [0.23911352, 0.011175589, -0.35101113, 0.15938...   \n",
       "3  [0.078591675, -0.15656142, -0.55292135, -0.245...   \n",
       "4  [0.00051207165, -0.7151457, -0.95394605, -0.15...   \n",
       "\n",
       "                                    protein_features  \n",
       "0  [-0.06076221, -0.21264695, -0.05684641, 0.0163...  \n",
       "1  [-0.051194582, -0.07116077, 0.16383636, 0.2113...  \n",
       "2  [-0.1772431, -0.06500952, 0.18246448, -0.05431...  \n",
       "3  [-0.09246727, -0.033019878, 0.10869139, 0.2953...  \n",
       "4  [-0.06592023, -0.062496405, -0.012068139, 0.06...  "
      ]
     },
     "execution_count": 3,
     "metadata": {},
     "output_type": "execute_result"
    }
   ],
   "source": [
    "data_kcat.rename(columns={'log10kcat_max':'label'},inplace=True)\n",
    "data_kcat.head()"
   ]
  },
  {
   "cell_type": "code",
   "execution_count": 4,
   "metadata": {},
   "outputs": [
    {
     "data": {
      "text/plain": [
       "(23151, 12)"
      ]
     },
     "execution_count": 4,
     "metadata": {},
     "output_type": "execute_result"
    }
   ],
   "source": [
    "data_kcat.shape"
   ]
  },
  {
   "cell_type": "code",
   "execution_count": 5,
   "metadata": {},
   "outputs": [],
   "source": [
    "# Define dataset\n",
    "class MPI_Dataset(Dataset):\n",
    "    def __init__(self, dataframe):\n",
    "        self.dataframe = dataframe\n",
    "\n",
    "    def __len__(self):\n",
    "        return len(self.dataframe)\n",
    "\n",
    "    def __getitem__(self, idx):\n",
    "        row = self.dataframe.iloc[idx]\n",
    "        return {\n",
    "            'metabolite_features': torch.tensor(np.asarray(row['metabolite_features'], dtype=np.float32)),\n",
    "            'protein_features': torch.tensor(np.asarray(row['protein_features'], dtype=np.float32)),\n",
    "            'label': torch.tensor(float(row['label']), dtype=torch.float32),\n",
    "        }"
   ]
  },
  {
   "cell_type": "code",
   "execution_count": 6,
   "metadata": {},
   "outputs": [],
   "source": [
    "# Separate the dataset by unique proteins and drugs\n",
    "unique_proteins = data_kcat['Sequence'].unique()\n",
    "unique_mols = data_kcat['Smiles'].unique()\n",
    "# Set the seed for reproducibility\n",
    "torch.manual_seed(42)\n",
    "# Function to perform a cold split\n",
    "def cold_split(unique_items, test_size=0.2, val_size=0.1):\n",
    "    train_items, test_items = train_test_split(unique_items, test_size=test_size, random_state=42)\n",
    "    train_items, val_items = train_test_split(train_items, test_size=val_size / (1 - test_size), random_state=42)\n",
    "    return train_items, val_items, test_items\n",
    "# Cold split by proteins\n",
    "train_proteins, val_proteins, test_proteins = cold_split(unique_proteins)\n",
    "train_cold_protein = data_kcat[data_kcat['Sequence'].isin(train_proteins)]\n",
    "val_cold_protein = data_kcat[data_kcat['Sequence'].isin(val_proteins)]\n",
    "test_cold_protein = data_kcat[data_kcat['Sequence'].isin(test_proteins)]\n",
    "# Cold split by molecules\n",
    "train_mols, val_mols, test_mols = cold_split(unique_mols)\n",
    "train_cold_mols = data_kcat[data_kcat['Smiles'].isin(train_mols)]\n",
    "val_cold_mols = data_kcat[data_kcat['Smiles'].isin(val_mols)]\n",
    "test_cold_mols = data_kcat[data_kcat['Smiles'].isin(test_mols)]"
   ]
  },
  {
   "cell_type": "code",
   "execution_count": 7,
   "metadata": {},
   "outputs": [
    {
     "data": {
      "text/plain": [
       "'\\ntrain_dataset = MPI_Dataset(train_cold_mols)\\nval_dataset = MPI_Dataset(val_cold_mols)\\ntest_dataset = MPI_Dataset(test_cold_mols)\\n\\ntrain_loader = DataLoader(train_dataset, batch_size=32, shuffle=True)\\nval_loader = DataLoader(val_dataset, batch_size=32)\\ntest_loader = DataLoader(test_dataset, batch_size=32)\\n\\n'"
      ]
     },
     "execution_count": 7,
     "metadata": {},
     "output_type": "execute_result"
    }
   ],
   "source": [
    "# cold protein\n",
    "'''\n",
    "train_dataset = MPI_Dataset(train_cold_protein)\n",
    "val_dataset = MPI_Dataset(val_cold_protein)\n",
    "test_dataset = MPI_Dataset(test_cold_protein)\n",
    "\n",
    "train_loader = DataLoader(train_dataset, batch_size=32, shuffle=True)\n",
    "val_loader = DataLoader(val_dataset, batch_size=32)\n",
    "test_loader = DataLoader(test_dataset, batch_size=32)\n",
    "\n",
    "'''\n",
    "\n",
    "# cold mols\n",
    "\n",
    "'''\n",
    "train_dataset = MPI_Dataset(train_cold_mols)\n",
    "val_dataset = MPI_Dataset(val_cold_mols)\n",
    "test_dataset = MPI_Dataset(test_cold_mols)\n",
    "\n",
    "train_loader = DataLoader(train_dataset, batch_size=32, shuffle=True)\n",
    "val_loader = DataLoader(val_dataset, batch_size=32)\n",
    "test_loader = DataLoader(test_dataset, batch_size=32)\n",
    "\n",
    "'''"
   ]
  },
  {
   "cell_type": "code",
   "execution_count": 8,
   "metadata": {},
   "outputs": [],
   "source": [
    "# Load data_kcat\n",
    "# Assuming `combined_df` is a pandas DataFrame containing all necessary columns\n",
    "train_df, temp_df = train_test_split(data_kcat, test_size=0.3, shuffle=True, random_state=42)\n",
    "val_df, test_df = train_test_split(temp_df, test_size=0.5, shuffle=True, random_state=42)\n",
    "\n",
    "train_dataset = MPI_Dataset(train_df)\n",
    "val_dataset = MPI_Dataset(val_df)\n",
    "test_dataset = MPI_Dataset(test_df)\n",
    "\n",
    "train_loader = DataLoader(train_dataset, batch_size=32, shuffle=True)\n",
    "val_loader = DataLoader(val_dataset, batch_size=32)\n",
    "test_loader = DataLoader(test_dataset, batch_size=32)"
   ]
  },
  {
   "cell_type": "code",
   "execution_count": 9,
   "metadata": {},
   "outputs": [],
   "source": [
    "import torch.nn as nn\n",
    "import torch\n",
    "import torch.nn.functional as F\n",
    "\n",
    "# Define CNN Model for Regression\n",
    "class CNNRegressor(nn.Module):\n",
    "    def __init__(self, mol_input_dim, protein_input_dim, out_dim=1):\n",
    "        super(CNNRegressor, self).__init__()\n",
    "\n",
    "        self.mol_conv = nn.Sequential(\n",
    "            nn.Conv1d(in_channels=1, out_channels=16, kernel_size=3, padding=1),\n",
    "            nn.ReLU(),\n",
    "            nn.MaxPool1d(2),\n",
    "            nn.Conv1d(16, 32, kernel_size=3, padding=1),\n",
    "            nn.ReLU(),\n",
    "            nn.MaxPool1d(2),\n",
    "        )\n",
    "\n",
    "        self.protein_conv = nn.Sequential(\n",
    "            nn.Conv1d(1, 16, kernel_size=3, padding=1),\n",
    "            nn.ReLU(),\n",
    "            nn.MaxPool1d(2),\n",
    "            nn.Conv1d(16, 32, kernel_size=3, padding=1),\n",
    "            nn.ReLU(),\n",
    "            nn.MaxPool1d(2),\n",
    "        )\n",
    "\n",
    "        with torch.no_grad():\n",
    "            dummy_mol = torch.zeros(1, 1, mol_input_dim)\n",
    "            dummy_protein = torch.zeros(1, 1, protein_input_dim)\n",
    "    \n",
    "            mol_flatten_len = self.mol_conv(dummy_mol).view(1, -1).size(1)\n",
    "            protein_flatten_len = self.protein_conv(dummy_protein).view(1, -1).size(1)\n",
    "\n",
    "        self.fc = nn.Sequential(\n",
    "            nn.Linear(mol_flatten_len + protein_flatten_len, 128),\n",
    "            nn.ReLU(),\n",
    "            nn.Dropout(0.3),\n",
    "            nn.Linear(128, out_dim)\n",
    "        )\n",
    "\n",
    "    def forward(self, mol_input, protein_input):\n",
    "        # Reshape to (B, 1, L) for Conv1d\n",
    "        mol_input = mol_input.unsqueeze(1)\n",
    "        protein_input = protein_input.unsqueeze(1)\n",
    "\n",
    "        mol_out = self.mol_conv(mol_input)\n",
    "        protein_out = self.protein_conv(protein_input)\n",
    "\n",
    "        # Flatten\n",
    "        mol_out = mol_out.view(mol_out.size(0), -1)\n",
    "        protein_out = protein_out.view(protein_out.size(0), -1)\n",
    "\n",
    "        combined = torch.cat([mol_out, protein_out], dim=1)\n",
    "        output = self.fc(combined).squeeze()\n",
    "        return output\n"
   ]
  },
  {
   "cell_type": "code",
   "execution_count": 10,
   "metadata": {},
   "outputs": [],
   "source": [
    "# Check CUDA availability\n",
    "device = torch.device(\"cuda\" if torch.cuda.is_available() else \"cpu\")"
   ]
  },
  {
   "cell_type": "code",
   "execution_count": 11,
   "metadata": {},
   "outputs": [
    {
     "name": "stderr",
     "output_type": "stream",
     "text": [
      "Training Epoch 1: 100%|██████████| 507/507 [00:36<00:00, 13.92it/s]\n"
     ]
    },
    {
     "name": "stdout",
     "output_type": "stream",
     "text": [
      "Epoch 0 - Train Loss: 2.7202, Train MSE: 2.7214, Train MAE: 1.2642\n"
     ]
    },
    {
     "name": "stderr",
     "output_type": "stream",
     "text": [
      "/var/folders/yz/c1z6m9_d5d3f80sywjc3rqsc0000gn/T/ipykernel_16833/3486802603.py:92: FutureWarning: The behavior of DataFrame concatenation with empty or all-NA entries is deprecated. In a future version, this will no longer exclude empty or all-NA columns when determining the result dtypes. To retain the old behavior, exclude the relevant entries before the concat operation.\n",
      "  train_history = pd.concat([train_history, pd.DataFrame([new_row])], ignore_index=True)\n"
     ]
    },
    {
     "name": "stdout",
     "output_type": "stream",
     "text": [
      "Epoch 0 - Validation Loss: 2.4747, Validation MSE: 2.4770, Validation MAE: 1.2107\n"
     ]
    },
    {
     "name": "stderr",
     "output_type": "stream",
     "text": [
      "Training Epoch 2: 100%|██████████| 507/507 [00:29<00:00, 17.28it/s]\n",
      "Training Epoch 3: 100%|██████████| 507/507 [00:27<00:00, 18.28it/s]\n",
      "Training Epoch 4: 100%|██████████| 507/507 [00:29<00:00, 17.41it/s]\n",
      "Training Epoch 5: 100%|██████████| 507/507 [00:31<00:00, 16.24it/s]\n",
      "Training Epoch 6: 100%|██████████| 507/507 [00:29<00:00, 17.10it/s]\n",
      "Training Epoch 7: 100%|██████████| 507/507 [00:29<00:00, 16.98it/s]\n",
      "Training Epoch 8: 100%|██████████| 507/507 [00:29<00:00, 17.26it/s]\n",
      "Training Epoch 9: 100%|██████████| 507/507 [00:29<00:00, 17.43it/s]\n",
      "Training Epoch 10: 100%|██████████| 507/507 [00:30<00:00, 16.61it/s]\n",
      "Training Epoch 11: 100%|██████████| 507/507 [00:29<00:00, 17.01it/s]\n"
     ]
    },
    {
     "name": "stdout",
     "output_type": "stream",
     "text": [
      "Epoch 10 - Train Loss: 2.1785, Train MSE: 2.1787, Train MAE: 1.1224\n",
      "Epoch 10 - Validation Loss: 2.1173, Validation MSE: 2.1177, Validation MAE: 1.1201\n"
     ]
    },
    {
     "name": "stderr",
     "output_type": "stream",
     "text": [
      "Training Epoch 12: 100%|██████████| 507/507 [00:29<00:00, 17.32it/s]\n",
      "Training Epoch 13: 100%|██████████| 507/507 [00:33<00:00, 15.21it/s]\n",
      "Training Epoch 14: 100%|██████████| 507/507 [00:33<00:00, 15.07it/s]\n",
      "Training Epoch 15: 100%|██████████| 507/507 [00:35<00:00, 14.25it/s]\n",
      "Training Epoch 16: 100%|██████████| 507/507 [00:37<00:00, 13.54it/s]\n",
      "Training Epoch 17: 100%|██████████| 507/507 [00:37<00:00, 13.59it/s]\n",
      "Training Epoch 18: 100%|██████████| 507/507 [00:37<00:00, 13.51it/s]\n",
      "Training Epoch 19: 100%|██████████| 507/507 [00:36<00:00, 13.78it/s]\n",
      "Training Epoch 20: 100%|██████████| 507/507 [00:37<00:00, 13.68it/s]\n",
      "Training Epoch 21: 100%|██████████| 507/507 [00:36<00:00, 13.76it/s]\n"
     ]
    },
    {
     "name": "stdout",
     "output_type": "stream",
     "text": [
      "Epoch 20 - Train Loss: 1.9379, Train MSE: 1.9376, Train MAE: 1.0543\n",
      "Epoch 20 - Validation Loss: 1.9542, Validation MSE: 1.9555, Validation MAE: 1.0721\n"
     ]
    },
    {
     "name": "stderr",
     "output_type": "stream",
     "text": [
      "Training Epoch 22: 100%|██████████| 507/507 [00:34<00:00, 14.74it/s]\n",
      "Training Epoch 23: 100%|██████████| 507/507 [00:32<00:00, 15.66it/s]\n",
      "Training Epoch 24: 100%|██████████| 507/507 [00:34<00:00, 14.84it/s]\n",
      "Training Epoch 25: 100%|██████████| 507/507 [00:27<00:00, 18.51it/s]\n",
      "Training Epoch 26: 100%|██████████| 507/507 [00:26<00:00, 19.06it/s]\n",
      "Training Epoch 27: 100%|██████████| 507/507 [00:26<00:00, 19.05it/s]\n",
      "Training Epoch 28: 100%|██████████| 507/507 [00:26<00:00, 19.22it/s]\n",
      "Training Epoch 29: 100%|██████████| 507/507 [00:26<00:00, 19.31it/s]\n",
      "Training Epoch 30: 100%|██████████| 507/507 [00:26<00:00, 19.20it/s]\n",
      "Training Epoch 31: 100%|██████████| 507/507 [00:26<00:00, 19.23it/s]\n"
     ]
    },
    {
     "name": "stdout",
     "output_type": "stream",
     "text": [
      "Epoch 30 - Train Loss: 1.7498, Train MSE: 1.7496, Train MAE: 1.0006\n",
      "Epoch 30 - Validation Loss: 1.8760, Validation MSE: 1.8774, Validation MAE: 1.0437\n"
     ]
    },
    {
     "name": "stderr",
     "output_type": "stream",
     "text": [
      "Training Epoch 32: 100%|██████████| 507/507 [00:26<00:00, 19.03it/s]\n",
      "Training Epoch 33: 100%|██████████| 507/507 [00:26<00:00, 19.21it/s]\n",
      "Training Epoch 34: 100%|██████████| 507/507 [00:26<00:00, 19.26it/s]\n",
      "Training Epoch 35: 100%|██████████| 507/507 [00:26<00:00, 19.45it/s]\n",
      "Training Epoch 36: 100%|██████████| 507/507 [00:26<00:00, 19.07it/s]\n",
      "Training Epoch 37: 100%|██████████| 507/507 [00:26<00:00, 19.14it/s]\n",
      "Training Epoch 38: 100%|██████████| 507/507 [00:26<00:00, 19.12it/s]\n",
      "Training Epoch 39: 100%|██████████| 507/507 [00:26<00:00, 19.19it/s]\n",
      "Training Epoch 40: 100%|██████████| 507/507 [00:26<00:00, 19.16it/s]\n",
      "Training Epoch 41: 100%|██████████| 507/507 [00:27<00:00, 18.30it/s]\n"
     ]
    },
    {
     "name": "stdout",
     "output_type": "stream",
     "text": [
      "Epoch 40 - Train Loss: 1.5883, Train MSE: 1.5887, Train MAE: 0.9509\n",
      "Epoch 40 - Validation Loss: 1.8553, Validation MSE: 1.8575, Validation MAE: 1.0332\n"
     ]
    },
    {
     "name": "stderr",
     "output_type": "stream",
     "text": [
      "Training Epoch 42: 100%|██████████| 507/507 [00:29<00:00, 17.25it/s]\n",
      "Training Epoch 43: 100%|██████████| 507/507 [00:30<00:00, 16.53it/s]\n",
      "Training Epoch 44: 100%|██████████| 507/507 [00:29<00:00, 17.37it/s]\n",
      "Training Epoch 45: 100%|██████████| 507/507 [00:28<00:00, 17.61it/s]\n",
      "Training Epoch 46: 100%|██████████| 507/507 [00:32<00:00, 15.51it/s]\n",
      "Training Epoch 47: 100%|██████████| 507/507 [00:33<00:00, 15.09it/s]\n",
      "Training Epoch 48: 100%|██████████| 507/507 [00:32<00:00, 15.43it/s]\n",
      "Training Epoch 49: 100%|██████████| 507/507 [00:31<00:00, 16.10it/s]\n",
      "Training Epoch 50: 100%|██████████| 507/507 [00:31<00:00, 16.25it/s]\n",
      "Training Epoch 51: 100%|██████████| 507/507 [00:31<00:00, 16.24it/s]\n"
     ]
    },
    {
     "name": "stdout",
     "output_type": "stream",
     "text": [
      "Epoch 50 - Train Loss: 1.4670, Train MSE: 1.4667, Train MAE: 0.9146\n",
      "Epoch 50 - Validation Loss: 1.7991, Validation MSE: 1.8015, Validation MAE: 1.0252\n"
     ]
    },
    {
     "name": "stderr",
     "output_type": "stream",
     "text": [
      "Training Epoch 52: 100%|██████████| 507/507 [00:31<00:00, 16.30it/s]\n",
      "Training Epoch 53: 100%|██████████| 507/507 [00:30<00:00, 16.36it/s]\n",
      "Training Epoch 54: 100%|██████████| 507/507 [00:31<00:00, 16.33it/s]\n",
      "Training Epoch 55: 100%|██████████| 507/507 [00:31<00:00, 16.24it/s]\n",
      "Training Epoch 56: 100%|██████████| 507/507 [00:30<00:00, 16.43it/s]\n",
      "Training Epoch 57: 100%|██████████| 507/507 [00:31<00:00, 16.33it/s]\n",
      "Training Epoch 58: 100%|██████████| 507/507 [00:31<00:00, 16.29it/s]\n",
      "Training Epoch 59: 100%|██████████| 507/507 [00:31<00:00, 16.15it/s]\n",
      "Training Epoch 60: 100%|██████████| 507/507 [00:31<00:00, 16.20it/s]\n",
      "Training Epoch 61: 100%|██████████| 507/507 [00:30<00:00, 16.48it/s]\n"
     ]
    },
    {
     "name": "stdout",
     "output_type": "stream",
     "text": [
      "Epoch 60 - Train Loss: 1.3538, Train MSE: 1.3549, Train MAE: 0.8781\n",
      "Epoch 60 - Validation Loss: 1.7121, Validation MSE: 1.7144, Validation MAE: 0.9904\n"
     ]
    },
    {
     "name": "stderr",
     "output_type": "stream",
     "text": [
      "Training Epoch 62: 100%|██████████| 507/507 [00:30<00:00, 16.42it/s]\n",
      "Training Epoch 63: 100%|██████████| 507/507 [00:30<00:00, 16.48it/s]\n",
      "Training Epoch 64: 100%|██████████| 507/507 [00:30<00:00, 16.49it/s]\n",
      "Training Epoch 65: 100%|██████████| 507/507 [00:30<00:00, 16.44it/s]\n",
      "Training Epoch 66: 100%|██████████| 507/507 [00:31<00:00, 16.28it/s]\n",
      "Training Epoch 67: 100%|██████████| 507/507 [00:30<00:00, 16.47it/s]\n",
      "Training Epoch 68: 100%|██████████| 507/507 [00:31<00:00, 16.31it/s]\n",
      "Training Epoch 69: 100%|██████████| 507/507 [00:31<00:00, 16.18it/s]\n",
      "Training Epoch 70: 100%|██████████| 507/507 [00:31<00:00, 16.24it/s]\n",
      "Training Epoch 71: 100%|██████████| 507/507 [00:30<00:00, 16.48it/s]\n"
     ]
    },
    {
     "name": "stdout",
     "output_type": "stream",
     "text": [
      "Epoch 70 - Train Loss: 1.2347, Train MSE: 1.2349, Train MAE: 0.8371\n",
      "Epoch 70 - Validation Loss: 1.6780, Validation MSE: 1.6799, Validation MAE: 0.9791\n"
     ]
    },
    {
     "name": "stderr",
     "output_type": "stream",
     "text": [
      "Training Epoch 72: 100%|██████████| 507/507 [00:30<00:00, 16.42it/s]\n",
      "Training Epoch 73: 100%|██████████| 507/507 [00:31<00:00, 16.23it/s]\n",
      "Training Epoch 74: 100%|██████████| 507/507 [00:30<00:00, 16.45it/s]\n",
      "Training Epoch 75: 100%|██████████| 507/507 [00:31<00:00, 16.33it/s]\n",
      "Training Epoch 76: 100%|██████████| 507/507 [00:30<00:00, 16.38it/s]\n",
      "Training Epoch 77: 100%|██████████| 507/507 [00:31<00:00, 16.26it/s]\n",
      "Training Epoch 78: 100%|██████████| 507/507 [00:30<00:00, 16.44it/s]\n",
      "Training Epoch 79: 100%|██████████| 507/507 [00:31<00:00, 16.26it/s]\n",
      "Training Epoch 80: 100%|██████████| 507/507 [00:30<00:00, 16.37it/s]\n",
      "Training Epoch 81: 100%|██████████| 507/507 [00:30<00:00, 16.52it/s]\n"
     ]
    },
    {
     "name": "stdout",
     "output_type": "stream",
     "text": [
      "Epoch 80 - Train Loss: 1.1471, Train MSE: 1.1470, Train MAE: 0.8089\n",
      "Epoch 80 - Validation Loss: 1.6355, Validation MSE: 1.6384, Validation MAE: 0.9662\n"
     ]
    },
    {
     "name": "stderr",
     "output_type": "stream",
     "text": [
      "Training Epoch 82: 100%|██████████| 507/507 [00:31<00:00, 16.28it/s]\n",
      "Training Epoch 83: 100%|██████████| 507/507 [00:29<00:00, 17.37it/s]\n",
      "Training Epoch 84: 100%|██████████| 507/507 [00:38<00:00, 13.20it/s]\n",
      "Training Epoch 85: 100%|██████████| 507/507 [00:33<00:00, 15.31it/s]\n",
      "Training Epoch 86: 100%|██████████| 507/507 [00:32<00:00, 15.36it/s]\n",
      "Training Epoch 87: 100%|██████████| 507/507 [00:33<00:00, 15.34it/s]\n",
      "Training Epoch 88: 100%|██████████| 507/507 [00:32<00:00, 15.49it/s]\n",
      "Training Epoch 89: 100%|██████████| 507/507 [00:32<00:00, 15.41it/s]\n",
      "Training Epoch 90: 100%|██████████| 507/507 [00:33<00:00, 15.21it/s]\n",
      "Training Epoch 91: 100%|██████████| 507/507 [00:33<00:00, 15.32it/s]\n"
     ]
    },
    {
     "name": "stdout",
     "output_type": "stream",
     "text": [
      "Epoch 90 - Train Loss: 1.0822, Train MSE: 1.0821, Train MAE: 0.7841\n",
      "Epoch 90 - Validation Loss: 1.6246, Validation MSE: 1.6275, Validation MAE: 0.9549\n"
     ]
    },
    {
     "name": "stderr",
     "output_type": "stream",
     "text": [
      "Training Epoch 92: 100%|██████████| 507/507 [00:32<00:00, 15.51it/s]\n",
      "Training Epoch 93: 100%|██████████| 507/507 [00:32<00:00, 15.39it/s]\n",
      "Training Epoch 94: 100%|██████████| 507/507 [00:32<00:00, 15.51it/s]\n",
      "Training Epoch 95: 100%|██████████| 507/507 [00:32<00:00, 15.56it/s]\n",
      "Training Epoch 96: 100%|██████████| 507/507 [00:33<00:00, 15.36it/s]\n",
      "Training Epoch 97: 100%|██████████| 507/507 [00:32<00:00, 15.57it/s]\n",
      "Training Epoch 98: 100%|██████████| 507/507 [00:32<00:00, 15.54it/s]\n",
      "Training Epoch 99: 100%|██████████| 507/507 [00:32<00:00, 15.42it/s]\n",
      "Training Epoch 100: 100%|██████████| 507/507 [00:32<00:00, 15.41it/s]\n",
      "Training Epoch 101: 100%|██████████| 507/507 [00:32<00:00, 15.65it/s]\n"
     ]
    },
    {
     "name": "stdout",
     "output_type": "stream",
     "text": [
      "Epoch 100 - Train Loss: 1.0143, Train MSE: 1.0150, Train MAE: 0.7617\n",
      "Epoch 100 - Validation Loss: 1.5890, Validation MSE: 1.5921, Validation MAE: 0.9582\n"
     ]
    },
    {
     "name": "stderr",
     "output_type": "stream",
     "text": [
      "Training Epoch 102: 100%|██████████| 507/507 [00:32<00:00, 15.59it/s]\n",
      "Training Epoch 103: 100%|██████████| 507/507 [00:32<00:00, 15.45it/s]\n",
      "Training Epoch 104: 100%|██████████| 507/507 [00:32<00:00, 15.58it/s]\n",
      "Training Epoch 105: 100%|██████████| 507/507 [00:32<00:00, 15.49it/s]\n",
      "Training Epoch 106: 100%|██████████| 507/507 [00:32<00:00, 15.42it/s]\n",
      "Training Epoch 107: 100%|██████████| 507/507 [00:32<00:00, 15.45it/s]\n",
      "Training Epoch 108: 100%|██████████| 507/507 [00:32<00:00, 15.54it/s]\n",
      "Training Epoch 109: 100%|██████████| 507/507 [00:32<00:00, 15.50it/s]\n",
      "Training Epoch 110: 100%|██████████| 507/507 [00:33<00:00, 15.22it/s]\n",
      "Training Epoch 111: 100%|██████████| 507/507 [00:32<00:00, 15.51it/s]\n"
     ]
    },
    {
     "name": "stdout",
     "output_type": "stream",
     "text": [
      "Epoch 110 - Train Loss: 0.9431, Train MSE: 0.9435, Train MAE: 0.7313\n",
      "Epoch 110 - Validation Loss: 1.6337, Validation MSE: 1.6369, Validation MAE: 0.9628\n"
     ]
    },
    {
     "name": "stderr",
     "output_type": "stream",
     "text": [
      "Training Epoch 112: 100%|██████████| 507/507 [00:32<00:00, 15.44it/s]\n",
      "Training Epoch 113: 100%|██████████| 507/507 [00:32<00:00, 15.49it/s]\n",
      "Training Epoch 114: 100%|██████████| 507/507 [00:32<00:00, 15.55it/s]\n",
      "Training Epoch 115: 100%|██████████| 507/507 [00:32<00:00, 15.51it/s]\n",
      "Training Epoch 116: 100%|██████████| 507/507 [00:32<00:00, 15.55it/s]\n",
      "Training Epoch 117: 100%|██████████| 507/507 [00:32<00:00, 15.62it/s]\n",
      "Training Epoch 118: 100%|██████████| 507/507 [00:32<00:00, 15.50it/s]\n",
      "Training Epoch 119: 100%|██████████| 507/507 [00:32<00:00, 15.48it/s]\n",
      "Training Epoch 120: 100%|██████████| 507/507 [00:32<00:00, 15.40it/s]\n",
      "Training Epoch 121: 100%|██████████| 507/507 [00:32<00:00, 15.61it/s]\n"
     ]
    },
    {
     "name": "stdout",
     "output_type": "stream",
     "text": [
      "Epoch 120 - Train Loss: 0.8750, Train MSE: 0.8756, Train MAE: 0.7041\n",
      "Epoch 120 - Validation Loss: 1.6403, Validation MSE: 1.6432, Validation MAE: 0.9570\n"
     ]
    },
    {
     "name": "stderr",
     "output_type": "stream",
     "text": [
      "Training Epoch 122: 100%|██████████| 507/507 [00:32<00:00, 15.47it/s]\n",
      "Training Epoch 123: 100%|██████████| 507/507 [00:32<00:00, 15.49it/s]\n",
      "Training Epoch 124: 100%|██████████| 507/507 [00:32<00:00, 15.54it/s]\n",
      "Training Epoch 125: 100%|██████████| 507/507 [00:32<00:00, 15.46it/s]\n",
      "Training Epoch 126: 100%|██████████| 507/507 [00:32<00:00, 15.57it/s]\n",
      "Training Epoch 127: 100%|██████████| 507/507 [00:32<00:00, 15.44it/s]\n",
      "Training Epoch 128: 100%|██████████| 507/507 [00:32<00:00, 15.50it/s]\n",
      "Training Epoch 129: 100%|██████████| 507/507 [00:32<00:00, 15.45it/s]\n",
      "Training Epoch 130: 100%|██████████| 507/507 [00:33<00:00, 15.36it/s]\n",
      "Training Epoch 131: 100%|██████████| 507/507 [00:32<00:00, 15.39it/s]\n"
     ]
    },
    {
     "name": "stdout",
     "output_type": "stream",
     "text": [
      "Epoch 130 - Train Loss: 0.8245, Train MSE: 0.8240, Train MAE: 0.6853\n",
      "Epoch 130 - Validation Loss: 1.5526, Validation MSE: 1.5563, Validation MAE: 0.9416\n"
     ]
    },
    {
     "name": "stderr",
     "output_type": "stream",
     "text": [
      "Training Epoch 132: 100%|██████████| 507/507 [00:32<00:00, 15.48it/s]\n",
      "Training Epoch 133: 100%|██████████| 507/507 [00:32<00:00, 15.42it/s]\n",
      "Training Epoch 134: 100%|██████████| 507/507 [00:33<00:00, 15.32it/s]\n",
      "Training Epoch 135: 100%|██████████| 507/507 [00:32<00:00, 15.44it/s]\n",
      "Training Epoch 136: 100%|██████████| 507/507 [00:33<00:00, 15.23it/s]\n",
      "Training Epoch 137: 100%|██████████| 507/507 [00:33<00:00, 15.36it/s]\n",
      "Training Epoch 138: 100%|██████████| 507/507 [00:32<00:00, 15.38it/s]\n",
      "Training Epoch 139: 100%|██████████| 507/507 [00:33<00:00, 15.36it/s]\n",
      "Training Epoch 140: 100%|██████████| 507/507 [00:33<00:00, 15.35it/s]\n",
      "Training Epoch 141: 100%|██████████| 507/507 [00:32<00:00, 15.38it/s]\n"
     ]
    },
    {
     "name": "stdout",
     "output_type": "stream",
     "text": [
      "Epoch 140 - Train Loss: 0.7774, Train MSE: 0.7777, Train MAE: 0.6644\n",
      "Epoch 140 - Validation Loss: 1.5558, Validation MSE: 1.5588, Validation MAE: 0.9291\n"
     ]
    },
    {
     "name": "stderr",
     "output_type": "stream",
     "text": [
      "Training Epoch 142: 100%|██████████| 507/507 [00:32<00:00, 15.40it/s]\n",
      "Training Epoch 143: 100%|██████████| 507/507 [00:32<00:00, 15.47it/s]\n",
      "Training Epoch 144: 100%|██████████| 507/507 [00:32<00:00, 15.42it/s]\n",
      "Training Epoch 145: 100%|██████████| 507/507 [00:33<00:00, 15.29it/s]\n",
      "Training Epoch 146: 100%|██████████| 507/507 [00:32<00:00, 15.40it/s]\n",
      "Training Epoch 147: 100%|██████████| 507/507 [00:32<00:00, 15.50it/s]\n",
      "Training Epoch 148: 100%|██████████| 507/507 [00:32<00:00, 15.59it/s]\n",
      "Training Epoch 149: 100%|██████████| 507/507 [00:32<00:00, 15.46it/s]\n",
      "Training Epoch 150: 100%|██████████| 507/507 [00:33<00:00, 15.31it/s]\n",
      "Training Epoch 151: 100%|██████████| 507/507 [00:32<00:00, 15.42it/s]\n"
     ]
    },
    {
     "name": "stdout",
     "output_type": "stream",
     "text": [
      "Epoch 150 - Train Loss: 0.7340, Train MSE: 0.7340, Train MAE: 0.6433\n",
      "Epoch 150 - Validation Loss: 1.5240, Validation MSE: 1.5276, Validation MAE: 0.9211\n"
     ]
    },
    {
     "name": "stderr",
     "output_type": "stream",
     "text": [
      "Training Epoch 152: 100%|██████████| 507/507 [00:32<00:00, 15.60it/s]\n",
      "Training Epoch 153: 100%|██████████| 507/507 [00:32<00:00, 15.38it/s]\n",
      "Training Epoch 154: 100%|██████████| 507/507 [00:32<00:00, 15.55it/s]\n",
      "Training Epoch 155: 100%|██████████| 507/507 [00:32<00:00, 15.53it/s]\n",
      "Training Epoch 156: 100%|██████████| 507/507 [00:32<00:00, 15.50it/s]\n",
      "Training Epoch 157: 100%|██████████| 507/507 [00:32<00:00, 15.47it/s]\n",
      "Training Epoch 158: 100%|██████████| 507/507 [00:35<00:00, 14.16it/s]\n",
      "Training Epoch 159: 100%|██████████| 507/507 [00:33<00:00, 15.25it/s]\n",
      "Training Epoch 160: 100%|██████████| 507/507 [00:33<00:00, 15.32it/s]\n",
      "Training Epoch 161: 100%|██████████| 507/507 [00:33<00:00, 15.30it/s]\n"
     ]
    },
    {
     "name": "stdout",
     "output_type": "stream",
     "text": [
      "Epoch 160 - Train Loss: 0.7169, Train MSE: 0.7172, Train MAE: 0.6369\n",
      "Epoch 160 - Validation Loss: 1.5252, Validation MSE: 1.5284, Validation MAE: 0.9208\n"
     ]
    },
    {
     "name": "stderr",
     "output_type": "stream",
     "text": [
      "Training Epoch 162: 100%|██████████| 507/507 [00:32<00:00, 15.45it/s]\n",
      "Training Epoch 163: 100%|██████████| 507/507 [00:32<00:00, 15.41it/s]\n",
      "Training Epoch 164: 100%|██████████| 507/507 [00:32<00:00, 15.39it/s]\n",
      "Training Epoch 165: 100%|██████████| 507/507 [00:32<00:00, 15.37it/s]\n",
      "Training Epoch 166: 100%|██████████| 507/507 [00:32<00:00, 15.60it/s]\n",
      "Training Epoch 167: 100%|██████████| 507/507 [00:32<00:00, 15.49it/s]\n",
      "Training Epoch 168: 100%|██████████| 507/507 [00:32<00:00, 15.46it/s]\n",
      "Training Epoch 169: 100%|██████████| 507/507 [00:33<00:00, 15.32it/s]\n",
      "Training Epoch 170: 100%|██████████| 507/507 [00:32<00:00, 15.39it/s]\n",
      "Training Epoch 171: 100%|██████████| 507/507 [00:32<00:00, 15.51it/s]\n"
     ]
    },
    {
     "name": "stdout",
     "output_type": "stream",
     "text": [
      "Epoch 170 - Train Loss: 0.6880, Train MSE: 0.6880, Train MAE: 0.6236\n",
      "Epoch 170 - Validation Loss: 1.4778, Validation MSE: 1.4818, Validation MAE: 0.8969\n"
     ]
    },
    {
     "name": "stderr",
     "output_type": "stream",
     "text": [
      "Training Epoch 172: 100%|██████████| 507/507 [00:33<00:00, 15.33it/s]\n",
      "Training Epoch 173: 100%|██████████| 507/507 [00:32<00:00, 15.40it/s]\n",
      "Training Epoch 174: 100%|██████████| 507/507 [00:32<00:00, 15.37it/s]\n",
      "Training Epoch 175: 100%|██████████| 507/507 [00:33<00:00, 15.30it/s]\n",
      "Training Epoch 176: 100%|██████████| 507/507 [00:33<00:00, 15.28it/s]\n",
      "Training Epoch 177: 100%|██████████| 507/507 [00:33<00:00, 15.25it/s]\n",
      "Training Epoch 178: 100%|██████████| 507/507 [00:32<00:00, 15.46it/s]\n",
      "Training Epoch 179: 100%|██████████| 507/507 [00:32<00:00, 15.51it/s]\n",
      "Training Epoch 180: 100%|██████████| 507/507 [00:32<00:00, 15.49it/s]\n",
      "Training Epoch 181: 100%|██████████| 507/507 [00:32<00:00, 15.51it/s]\n"
     ]
    },
    {
     "name": "stdout",
     "output_type": "stream",
     "text": [
      "Epoch 180 - Train Loss: 0.6405, Train MSE: 0.6398, Train MAE: 0.5995\n",
      "Epoch 180 - Validation Loss: 1.4733, Validation MSE: 1.4768, Validation MAE: 0.8995\n"
     ]
    },
    {
     "name": "stderr",
     "output_type": "stream",
     "text": [
      "Training Epoch 182: 100%|██████████| 507/507 [00:32<00:00, 15.40it/s]\n",
      "Training Epoch 183: 100%|██████████| 507/507 [00:32<00:00, 15.50it/s]\n",
      "Training Epoch 184: 100%|██████████| 507/507 [00:32<00:00, 15.50it/s]\n",
      "Training Epoch 185: 100%|██████████| 507/507 [00:33<00:00, 15.33it/s]\n",
      "Training Epoch 186: 100%|██████████| 507/507 [00:33<00:00, 15.34it/s]\n",
      "Training Epoch 187: 100%|██████████| 507/507 [00:32<00:00, 15.43it/s]\n",
      "Training Epoch 188: 100%|██████████| 507/507 [00:34<00:00, 14.80it/s]\n",
      "Training Epoch 189: 100%|██████████| 507/507 [00:32<00:00, 15.46it/s]\n",
      "Training Epoch 190: 100%|██████████| 507/507 [00:33<00:00, 15.33it/s]\n",
      "Training Epoch 191: 100%|██████████| 507/507 [00:32<00:00, 15.55it/s]\n"
     ]
    },
    {
     "name": "stdout",
     "output_type": "stream",
     "text": [
      "Epoch 190 - Train Loss: 0.6554, Train MSE: 0.6558, Train MAE: 0.6071\n",
      "Epoch 190 - Validation Loss: 1.4797, Validation MSE: 1.4837, Validation MAE: 0.8980\n"
     ]
    },
    {
     "name": "stderr",
     "output_type": "stream",
     "text": [
      "Training Epoch 192: 100%|██████████| 507/507 [00:33<00:00, 15.33it/s]\n",
      "Training Epoch 193: 100%|██████████| 507/507 [00:33<00:00, 15.27it/s]\n",
      "Training Epoch 194: 100%|██████████| 507/507 [00:33<00:00, 15.20it/s]\n",
      "Training Epoch 195: 100%|██████████| 507/507 [00:33<00:00, 15.35it/s]\n",
      "Training Epoch 196: 100%|██████████| 507/507 [00:32<00:00, 15.57it/s]\n",
      "Training Epoch 197: 100%|██████████| 507/507 [00:33<00:00, 15.36it/s]\n",
      "Training Epoch 198: 100%|██████████| 507/507 [00:32<00:00, 15.41it/s]\n",
      "Training Epoch 199: 100%|██████████| 507/507 [00:33<00:00, 15.35it/s]\n",
      "Training Epoch 200: 100%|██████████| 507/507 [00:33<00:00, 15.29it/s]\n",
      "Training Epoch 201: 100%|██████████| 507/507 [00:32<00:00, 15.43it/s]\n"
     ]
    },
    {
     "name": "stdout",
     "output_type": "stream",
     "text": [
      "Epoch 200 - Train Loss: 0.6033, Train MSE: 0.6037, Train MAE: 0.5837\n",
      "Epoch 200 - Validation Loss: 1.4564, Validation MSE: 1.4602, Validation MAE: 0.8873\n"
     ]
    },
    {
     "name": "stderr",
     "output_type": "stream",
     "text": [
      "Training Epoch 202: 100%|██████████| 507/507 [00:33<00:00, 15.32it/s]\n",
      "Training Epoch 203: 100%|██████████| 507/507 [00:32<00:00, 15.46it/s]\n",
      "Training Epoch 204: 100%|██████████| 507/507 [00:32<00:00, 15.42it/s]\n",
      "Training Epoch 205: 100%|██████████| 507/507 [00:33<00:00, 14.94it/s]\n",
      "Training Epoch 206: 100%|██████████| 507/507 [00:33<00:00, 15.08it/s]\n",
      "Training Epoch 207: 100%|██████████| 507/507 [00:34<00:00, 14.84it/s]\n",
      "Training Epoch 208: 100%|██████████| 507/507 [00:33<00:00, 15.18it/s]\n",
      "Training Epoch 209: 100%|██████████| 507/507 [00:33<00:00, 15.35it/s]\n",
      "Training Epoch 210: 100%|██████████| 507/507 [00:32<00:00, 15.46it/s]\n",
      "Training Epoch 211: 100%|██████████| 507/507 [00:33<00:00, 15.32it/s]\n"
     ]
    },
    {
     "name": "stdout",
     "output_type": "stream",
     "text": [
      "Epoch 210 - Train Loss: 0.5952, Train MSE: 0.5952, Train MAE: 0.5786\n",
      "Epoch 210 - Validation Loss: 1.4473, Validation MSE: 1.4508, Validation MAE: 0.8891\n"
     ]
    },
    {
     "name": "stderr",
     "output_type": "stream",
     "text": [
      "Training Epoch 212: 100%|██████████| 507/507 [00:33<00:00, 15.35it/s]\n",
      "Training Epoch 213: 100%|██████████| 507/507 [00:32<00:00, 15.49it/s]\n",
      "Training Epoch 214: 100%|██████████| 507/507 [00:32<00:00, 15.48it/s]\n",
      "Training Epoch 215: 100%|██████████| 507/507 [00:33<00:00, 15.35it/s]\n",
      "Training Epoch 216: 100%|██████████| 507/507 [00:32<00:00, 15.44it/s]\n",
      "Training Epoch 217: 100%|██████████| 507/507 [00:32<00:00, 15.49it/s]\n",
      "Training Epoch 218: 100%|██████████| 507/507 [00:32<00:00, 15.46it/s]\n",
      "Training Epoch 219: 100%|██████████| 507/507 [00:32<00:00, 15.53it/s]\n",
      "Training Epoch 220: 100%|██████████| 507/507 [00:32<00:00, 15.43it/s]\n",
      "Training Epoch 221: 100%|██████████| 507/507 [00:33<00:00, 15.31it/s]\n"
     ]
    },
    {
     "name": "stdout",
     "output_type": "stream",
     "text": [
      "Epoch 220 - Train Loss: 0.5670, Train MSE: 0.5668, Train MAE: 0.5661\n",
      "Epoch 220 - Validation Loss: 1.4401, Validation MSE: 1.4435, Validation MAE: 0.8867\n"
     ]
    },
    {
     "name": "stderr",
     "output_type": "stream",
     "text": [
      "Training Epoch 222: 100%|██████████| 507/507 [00:33<00:00, 15.34it/s]\n",
      "Training Epoch 223: 100%|██████████| 507/507 [00:32<00:00, 15.47it/s]\n",
      "Training Epoch 224: 100%|██████████| 507/507 [00:32<00:00, 15.46it/s]\n",
      "Training Epoch 225: 100%|██████████| 507/507 [00:32<00:00, 15.39it/s]\n",
      "Training Epoch 226: 100%|██████████| 507/507 [00:32<00:00, 15.49it/s]\n",
      "Training Epoch 227: 100%|██████████| 507/507 [00:32<00:00, 15.50it/s]\n",
      "Training Epoch 228: 100%|██████████| 507/507 [00:33<00:00, 15.27it/s]\n",
      "Training Epoch 229: 100%|██████████| 507/507 [00:32<00:00, 15.47it/s]\n",
      "Training Epoch 230: 100%|██████████| 507/507 [00:32<00:00, 15.36it/s]\n",
      "Training Epoch 231: 100%|██████████| 507/507 [00:32<00:00, 15.52it/s]\n"
     ]
    },
    {
     "name": "stdout",
     "output_type": "stream",
     "text": [
      "Epoch 230 - Train Loss: 0.5523, Train MSE: 0.5522, Train MAE: 0.5579\n",
      "Epoch 230 - Validation Loss: 1.4696, Validation MSE: 1.4731, Validation MAE: 0.8936\n"
     ]
    },
    {
     "name": "stderr",
     "output_type": "stream",
     "text": [
      "Training Epoch 232: 100%|██████████| 507/507 [00:32<00:00, 15.44it/s]\n",
      "Training Epoch 233: 100%|██████████| 507/507 [00:32<00:00, 15.63it/s]\n",
      "Training Epoch 234: 100%|██████████| 507/507 [00:32<00:00, 15.46it/s]\n",
      "Training Epoch 235: 100%|██████████| 507/507 [00:32<00:00, 15.42it/s]\n",
      "Training Epoch 236: 100%|██████████| 507/507 [00:32<00:00, 15.54it/s]\n",
      "Training Epoch 237: 100%|██████████| 507/507 [00:32<00:00, 15.48it/s]\n",
      "Training Epoch 238: 100%|██████████| 507/507 [00:32<00:00, 15.65it/s]\n",
      "Training Epoch 239: 100%|██████████| 507/507 [00:32<00:00, 15.57it/s]\n",
      "Training Epoch 240: 100%|██████████| 507/507 [00:32<00:00, 15.48it/s]\n",
      "Training Epoch 241: 100%|██████████| 507/507 [00:32<00:00, 15.49it/s]\n"
     ]
    },
    {
     "name": "stdout",
     "output_type": "stream",
     "text": [
      "Epoch 240 - Train Loss: 0.5252, Train MSE: 0.5248, Train MAE: 0.5426\n",
      "Epoch 240 - Validation Loss: 1.4372, Validation MSE: 1.4401, Validation MAE: 0.8881\n"
     ]
    },
    {
     "name": "stderr",
     "output_type": "stream",
     "text": [
      "Training Epoch 242: 100%|██████████| 507/507 [00:32<00:00, 15.56it/s]\n",
      "Training Epoch 243: 100%|██████████| 507/507 [00:32<00:00, 15.38it/s]\n",
      "Training Epoch 244: 100%|██████████| 507/507 [00:32<00:00, 15.44it/s]\n",
      "Training Epoch 245: 100%|██████████| 507/507 [00:32<00:00, 15.40it/s]\n",
      "Training Epoch 246: 100%|██████████| 507/507 [00:33<00:00, 15.25it/s]\n",
      "Training Epoch 247: 100%|██████████| 507/507 [00:32<00:00, 15.48it/s]\n",
      "Training Epoch 248: 100%|██████████| 507/507 [00:32<00:00, 15.50it/s]\n",
      "Training Epoch 249: 100%|██████████| 507/507 [00:32<00:00, 15.40it/s]\n",
      "Training Epoch 250: 100%|██████████| 507/507 [00:32<00:00, 15.46it/s]\n",
      "Training Epoch 251: 100%|██████████| 507/507 [00:32<00:00, 15.40it/s]\n"
     ]
    },
    {
     "name": "stdout",
     "output_type": "stream",
     "text": [
      "Epoch 250 - Train Loss: 0.5397, Train MSE: 0.5392, Train MAE: 0.5455\n",
      "Epoch 250 - Validation Loss: 1.4504, Validation MSE: 1.4535, Validation MAE: 0.8810\n"
     ]
    },
    {
     "name": "stderr",
     "output_type": "stream",
     "text": [
      "Training Epoch 252: 100%|██████████| 507/507 [00:32<00:00, 15.48it/s]\n",
      "Training Epoch 253: 100%|██████████| 507/507 [00:32<00:00, 15.41it/s]\n",
      "Training Epoch 254: 100%|██████████| 507/507 [00:33<00:00, 15.23it/s]\n",
      "Training Epoch 255: 100%|██████████| 507/507 [00:33<00:00, 15.23it/s]\n",
      "Training Epoch 256: 100%|██████████| 507/507 [00:32<00:00, 15.37it/s]\n",
      "Training Epoch 257: 100%|██████████| 507/507 [00:32<00:00, 15.47it/s]\n",
      "Training Epoch 258: 100%|██████████| 507/507 [00:32<00:00, 15.42it/s]\n",
      "Training Epoch 259: 100%|██████████| 507/507 [00:32<00:00, 15.55it/s]\n",
      "Training Epoch 260: 100%|██████████| 507/507 [00:32<00:00, 15.59it/s]\n",
      "Training Epoch 261: 100%|██████████| 507/507 [00:32<00:00, 15.57it/s]\n"
     ]
    },
    {
     "name": "stdout",
     "output_type": "stream",
     "text": [
      "Epoch 260 - Train Loss: 0.5084, Train MSE: 0.5084, Train MAE: 0.5336\n",
      "Epoch 260 - Validation Loss: 1.4758, Validation MSE: 1.4792, Validation MAE: 0.8914\n"
     ]
    },
    {
     "name": "stderr",
     "output_type": "stream",
     "text": [
      "Training Epoch 262: 100%|██████████| 507/507 [00:32<00:00, 15.64it/s]\n",
      "Training Epoch 263: 100%|██████████| 507/507 [00:32<00:00, 15.52it/s]\n",
      "Training Epoch 264: 100%|██████████| 507/507 [00:32<00:00, 15.55it/s]\n",
      "Training Epoch 265: 100%|██████████| 507/507 [00:32<00:00, 15.50it/s]\n",
      "Training Epoch 266: 100%|██████████| 507/507 [00:32<00:00, 15.50it/s]\n",
      "Training Epoch 267: 100%|██████████| 507/507 [00:32<00:00, 15.55it/s]\n",
      "Training Epoch 268: 100%|██████████| 507/507 [00:32<00:00, 15.60it/s]\n",
      "Training Epoch 269: 100%|██████████| 507/507 [00:32<00:00, 15.51it/s]\n",
      "Training Epoch 270: 100%|██████████| 507/507 [00:33<00:00, 15.35it/s]\n",
      "Training Epoch 271: 100%|██████████| 507/507 [00:32<00:00, 15.47it/s]\n"
     ]
    },
    {
     "name": "stdout",
     "output_type": "stream",
     "text": [
      "Epoch 270 - Train Loss: 0.4997, Train MSE: 0.4998, Train MAE: 0.5296\n",
      "Epoch 270 - Validation Loss: 1.4402, Validation MSE: 1.4435, Validation MAE: 0.8924\n"
     ]
    },
    {
     "name": "stderr",
     "output_type": "stream",
     "text": [
      "Training Epoch 272: 100%|██████████| 507/507 [00:32<00:00, 15.60it/s]\n",
      "Training Epoch 273: 100%|██████████| 507/507 [00:32<00:00, 15.59it/s]\n",
      "Training Epoch 274: 100%|██████████| 507/507 [00:32<00:00, 15.51it/s]\n",
      "Training Epoch 275: 100%|██████████| 507/507 [00:32<00:00, 15.54it/s]\n",
      "Training Epoch 276: 100%|██████████| 507/507 [00:32<00:00, 15.61it/s]\n",
      "Training Epoch 277: 100%|██████████| 507/507 [00:32<00:00, 15.52it/s]\n",
      "Training Epoch 278: 100%|██████████| 507/507 [00:32<00:00, 15.50it/s]\n",
      "Training Epoch 279: 100%|██████████| 507/507 [00:32<00:00, 15.51it/s]\n",
      "Training Epoch 280: 100%|██████████| 507/507 [00:32<00:00, 15.43it/s]\n",
      "Training Epoch 281: 100%|██████████| 507/507 [00:32<00:00, 15.39it/s]\n"
     ]
    },
    {
     "name": "stdout",
     "output_type": "stream",
     "text": [
      "Epoch 280 - Train Loss: 0.4863, Train MSE: 0.4864, Train MAE: 0.5207\n",
      "Epoch 280 - Validation Loss: 1.4642, Validation MSE: 1.4678, Validation MAE: 0.8857\n"
     ]
    },
    {
     "name": "stderr",
     "output_type": "stream",
     "text": [
      "Training Epoch 282: 100%|██████████| 507/507 [00:32<00:00, 15.39it/s]\n",
      "Training Epoch 283: 100%|██████████| 507/507 [00:32<00:00, 15.49it/s]\n",
      "Training Epoch 284: 100%|██████████| 507/507 [00:32<00:00, 15.52it/s]\n",
      "Training Epoch 285: 100%|██████████| 507/507 [00:33<00:00, 15.35it/s]\n",
      "Training Epoch 286: 100%|██████████| 507/507 [00:32<00:00, 15.43it/s]\n",
      "Training Epoch 287: 100%|██████████| 507/507 [00:32<00:00, 15.51it/s]\n",
      "Training Epoch 288: 100%|██████████| 507/507 [00:32<00:00, 15.62it/s]\n",
      "Training Epoch 289: 100%|██████████| 507/507 [00:32<00:00, 15.52it/s]\n",
      "Training Epoch 290: 100%|██████████| 507/507 [00:32<00:00, 15.41it/s]\n",
      "Training Epoch 291: 100%|██████████| 507/507 [00:32<00:00, 15.51it/s]\n"
     ]
    },
    {
     "name": "stdout",
     "output_type": "stream",
     "text": [
      "Epoch 290 - Train Loss: 0.4800, Train MSE: 0.4802, Train MAE: 0.5157\n",
      "Epoch 290 - Validation Loss: 1.4843, Validation MSE: 1.4871, Validation MAE: 0.8942\n"
     ]
    },
    {
     "name": "stderr",
     "output_type": "stream",
     "text": [
      "Training Epoch 292: 100%|██████████| 507/507 [00:32<00:00, 15.44it/s]\n",
      "Training Epoch 293: 100%|██████████| 507/507 [00:32<00:00, 15.49it/s]\n",
      "Training Epoch 294: 100%|██████████| 507/507 [00:33<00:00, 15.13it/s]\n",
      "Training Epoch 295: 100%|██████████| 507/507 [00:32<00:00, 15.41it/s]\n",
      "Training Epoch 296: 100%|██████████| 507/507 [00:33<00:00, 15.33it/s]\n",
      "Training Epoch 297: 100%|██████████| 507/507 [00:33<00:00, 15.28it/s]\n",
      "Training Epoch 298: 100%|██████████| 507/507 [00:33<00:00, 15.28it/s]\n",
      "Training Epoch 299: 100%|██████████| 507/507 [00:33<00:00, 15.11it/s]\n",
      "Training Epoch 300: 100%|██████████| 507/507 [00:33<00:00, 15.17it/s]\n",
      "Training Epoch 301: 100%|██████████| 507/507 [00:33<00:00, 15.18it/s]\n"
     ]
    },
    {
     "name": "stdout",
     "output_type": "stream",
     "text": [
      "Epoch 300 - Train Loss: 0.4690, Train MSE: 0.4693, Train MAE: 0.5113\n",
      "Epoch 300 - Validation Loss: 1.4189, Validation MSE: 1.4228, Validation MAE: 0.8793\n"
     ]
    },
    {
     "name": "stderr",
     "output_type": "stream",
     "text": [
      "Training Epoch 302: 100%|██████████| 507/507 [00:32<00:00, 15.37it/s]\n",
      "Training Epoch 303: 100%|██████████| 507/507 [00:33<00:00, 15.17it/s]\n",
      "Training Epoch 304: 100%|██████████| 507/507 [00:33<00:00, 15.35it/s]\n",
      "Training Epoch 305: 100%|██████████| 507/507 [00:34<00:00, 14.87it/s]\n",
      "Training Epoch 306: 100%|██████████| 507/507 [00:34<00:00, 14.85it/s]\n",
      "Training Epoch 307: 100%|██████████| 507/507 [00:33<00:00, 14.99it/s]\n",
      "Training Epoch 308: 100%|██████████| 507/507 [00:33<00:00, 15.11it/s]\n",
      "Training Epoch 309: 100%|██████████| 507/507 [00:33<00:00, 15.33it/s]\n",
      "Training Epoch 310: 100%|██████████| 507/507 [00:33<00:00, 15.26it/s]\n",
      "Training Epoch 311: 100%|██████████| 507/507 [00:33<00:00, 15.35it/s]\n"
     ]
    },
    {
     "name": "stdout",
     "output_type": "stream",
     "text": [
      "Epoch 310 - Train Loss: 0.4556, Train MSE: 0.4555, Train MAE: 0.5024\n",
      "Epoch 310 - Validation Loss: 1.4181, Validation MSE: 1.4220, Validation MAE: 0.8756\n"
     ]
    },
    {
     "name": "stderr",
     "output_type": "stream",
     "text": [
      "Training Epoch 312: 100%|██████████| 507/507 [00:33<00:00, 15.26it/s]\n",
      "Training Epoch 313: 100%|██████████| 507/507 [00:33<00:00, 15.17it/s]\n",
      "Training Epoch 314: 100%|██████████| 507/507 [00:32<00:00, 15.37it/s]\n",
      "Training Epoch 315: 100%|██████████| 507/507 [00:33<00:00, 15.34it/s]\n",
      "Training Epoch 316: 100%|██████████| 507/507 [00:33<00:00, 15.17it/s]\n",
      "Training Epoch 317: 100%|██████████| 507/507 [00:33<00:00, 15.25it/s]\n",
      "Training Epoch 318: 100%|██████████| 507/507 [00:33<00:00, 15.17it/s]\n",
      "Training Epoch 319: 100%|██████████| 507/507 [00:33<00:00, 15.30it/s]\n",
      "Training Epoch 320: 100%|██████████| 507/507 [00:33<00:00, 15.31it/s]\n",
      "Training Epoch 321: 100%|██████████| 507/507 [00:33<00:00, 15.30it/s]\n"
     ]
    },
    {
     "name": "stdout",
     "output_type": "stream",
     "text": [
      "Epoch 320 - Train Loss: 0.4466, Train MSE: 0.4468, Train MAE: 0.5003\n",
      "Epoch 320 - Validation Loss: 1.4396, Validation MSE: 1.4434, Validation MAE: 0.8828\n"
     ]
    },
    {
     "name": "stderr",
     "output_type": "stream",
     "text": [
      "Training Epoch 322: 100%|██████████| 507/507 [00:32<00:00, 15.38it/s]\n",
      "Training Epoch 323: 100%|██████████| 507/507 [00:33<00:00, 15.27it/s]\n",
      "Training Epoch 324: 100%|██████████| 507/507 [00:33<00:00, 15.26it/s]\n",
      "Training Epoch 325: 100%|██████████| 507/507 [00:32<00:00, 15.38it/s]\n",
      "Training Epoch 326: 100%|██████████| 507/507 [00:33<00:00, 15.22it/s]\n",
      "Training Epoch 327: 100%|██████████| 507/507 [00:29<00:00, 17.16it/s]\n",
      "Training Epoch 328: 100%|██████████| 507/507 [00:29<00:00, 17.22it/s]\n",
      "Training Epoch 329: 100%|██████████| 507/507 [00:28<00:00, 17.58it/s]\n",
      "Training Epoch 330: 100%|██████████| 507/507 [00:29<00:00, 17.44it/s]\n",
      "Training Epoch 331: 100%|██████████| 507/507 [00:28<00:00, 17.62it/s]\n"
     ]
    },
    {
     "name": "stdout",
     "output_type": "stream",
     "text": [
      "Epoch 330 - Train Loss: 0.4550, Train MSE: 0.4553, Train MAE: 0.5031\n",
      "Epoch 330 - Validation Loss: 1.4348, Validation MSE: 1.4384, Validation MAE: 0.8718\n"
     ]
    },
    {
     "name": "stderr",
     "output_type": "stream",
     "text": [
      "Training Epoch 332: 100%|██████████| 507/507 [00:28<00:00, 17.71it/s]\n",
      "Training Epoch 333: 100%|██████████| 507/507 [00:28<00:00, 17.67it/s]\n",
      "Training Epoch 334: 100%|██████████| 507/507 [00:28<00:00, 17.83it/s]\n",
      "Training Epoch 335: 100%|██████████| 507/507 [00:28<00:00, 17.73it/s]\n",
      "Training Epoch 336: 100%|██████████| 507/507 [00:28<00:00, 17.81it/s]\n",
      "Training Epoch 337: 100%|██████████| 507/507 [00:28<00:00, 17.77it/s]\n",
      "Training Epoch 338: 100%|██████████| 507/507 [00:28<00:00, 17.79it/s]\n",
      "Training Epoch 339: 100%|██████████| 507/507 [00:28<00:00, 17.81it/s]\n",
      "Training Epoch 340: 100%|██████████| 507/507 [00:28<00:00, 17.57it/s]\n",
      "Training Epoch 341: 100%|██████████| 507/507 [00:28<00:00, 17.50it/s]\n"
     ]
    },
    {
     "name": "stdout",
     "output_type": "stream",
     "text": [
      "Epoch 340 - Train Loss: 0.4443, Train MSE: 0.4443, Train MAE: 0.4968\n",
      "Epoch 340 - Validation Loss: 1.4855, Validation MSE: 1.4894, Validation MAE: 0.8863\n"
     ]
    },
    {
     "name": "stderr",
     "output_type": "stream",
     "text": [
      "Training Epoch 342: 100%|██████████| 507/507 [00:28<00:00, 17.75it/s]\n",
      "Training Epoch 343: 100%|██████████| 507/507 [00:28<00:00, 17.64it/s]\n",
      "Training Epoch 344: 100%|██████████| 507/507 [00:28<00:00, 17.76it/s]\n",
      "Training Epoch 345: 100%|██████████| 507/507 [00:28<00:00, 17.80it/s]\n",
      "Training Epoch 346: 100%|██████████| 507/507 [00:28<00:00, 17.66it/s]\n",
      "Training Epoch 347: 100%|██████████| 507/507 [00:28<00:00, 17.68it/s]\n",
      "Training Epoch 348: 100%|██████████| 507/507 [00:28<00:00, 17.79it/s]\n",
      "Training Epoch 349: 100%|██████████| 507/507 [00:26<00:00, 19.26it/s]\n",
      "Training Epoch 350: 100%|██████████| 507/507 [00:24<00:00, 20.66it/s]\n",
      "Training Epoch 351: 100%|██████████| 507/507 [00:25<00:00, 20.22it/s]\n"
     ]
    },
    {
     "name": "stdout",
     "output_type": "stream",
     "text": [
      "Epoch 350 - Train Loss: 0.4310, Train MSE: 0.4309, Train MAE: 0.4894\n",
      "Epoch 350 - Validation Loss: 1.4098, Validation MSE: 1.4139, Validation MAE: 0.8681\n"
     ]
    },
    {
     "name": "stderr",
     "output_type": "stream",
     "text": [
      "Training Epoch 352: 100%|██████████| 507/507 [00:24<00:00, 20.45it/s]\n",
      "Training Epoch 353: 100%|██████████| 507/507 [00:24<00:00, 20.47it/s]\n",
      "Training Epoch 354: 100%|██████████| 507/507 [00:23<00:00, 21.71it/s]\n",
      "Training Epoch 355: 100%|██████████| 507/507 [00:21<00:00, 23.98it/s]\n",
      "Training Epoch 356: 100%|██████████| 507/507 [00:21<00:00, 24.09it/s]\n",
      "Training Epoch 357: 100%|██████████| 507/507 [00:21<00:00, 24.13it/s]\n",
      "Training Epoch 358: 100%|██████████| 507/507 [00:20<00:00, 24.15it/s]\n",
      "Training Epoch 359: 100%|██████████| 507/507 [00:21<00:00, 24.14it/s]\n",
      "Training Epoch 360: 100%|██████████| 507/507 [00:20<00:00, 24.17it/s]\n",
      "Training Epoch 361: 100%|██████████| 507/507 [00:21<00:00, 23.97it/s]\n"
     ]
    },
    {
     "name": "stdout",
     "output_type": "stream",
     "text": [
      "Epoch 360 - Train Loss: 0.4309, Train MSE: 0.4308, Train MAE: 0.4860\n",
      "Epoch 360 - Validation Loss: 1.4332, Validation MSE: 1.4371, Validation MAE: 0.8708\n"
     ]
    },
    {
     "name": "stderr",
     "output_type": "stream",
     "text": [
      "Training Epoch 362: 100%|██████████| 507/507 [00:21<00:00, 24.05it/s]\n",
      "Training Epoch 363: 100%|██████████| 507/507 [00:20<00:00, 24.22it/s]\n",
      "Training Epoch 364: 100%|██████████| 507/507 [00:21<00:00, 23.92it/s]\n",
      "Training Epoch 365: 100%|██████████| 507/507 [00:20<00:00, 24.25it/s]\n",
      "Training Epoch 366: 100%|██████████| 507/507 [00:21<00:00, 24.08it/s]\n",
      "Training Epoch 367: 100%|██████████| 507/507 [00:20<00:00, 24.24it/s]\n",
      "Training Epoch 368: 100%|██████████| 507/507 [00:20<00:00, 24.18it/s]\n",
      "Training Epoch 369: 100%|██████████| 507/507 [00:20<00:00, 24.26it/s]\n",
      "Training Epoch 370: 100%|██████████| 507/507 [00:20<00:00, 24.20it/s]\n",
      "Training Epoch 371: 100%|██████████| 507/507 [00:21<00:00, 24.05it/s]\n"
     ]
    },
    {
     "name": "stdout",
     "output_type": "stream",
     "text": [
      "Epoch 370 - Train Loss: 0.4208, Train MSE: 0.4204, Train MAE: 0.4844\n",
      "Epoch 370 - Validation Loss: 1.4104, Validation MSE: 1.4144, Validation MAE: 0.8676\n"
     ]
    },
    {
     "name": "stderr",
     "output_type": "stream",
     "text": [
      "Training Epoch 372: 100%|██████████| 507/507 [00:20<00:00, 24.23it/s]\n",
      "Training Epoch 373: 100%|██████████| 507/507 [00:21<00:00, 24.11it/s]\n",
      "Training Epoch 374: 100%|██████████| 507/507 [00:20<00:00, 24.16it/s]\n",
      "Training Epoch 375: 100%|██████████| 507/507 [00:20<00:00, 24.22it/s]\n",
      "Training Epoch 376: 100%|██████████| 507/507 [00:20<00:00, 24.20it/s]\n",
      "Training Epoch 377: 100%|██████████| 507/507 [00:20<00:00, 24.24it/s]\n",
      "Training Epoch 378: 100%|██████████| 507/507 [00:20<00:00, 24.16it/s]\n",
      "Training Epoch 379: 100%|██████████| 507/507 [00:20<00:00, 24.23it/s]\n",
      "Training Epoch 380: 100%|██████████| 507/507 [00:20<00:00, 24.41it/s]\n",
      "Training Epoch 381: 100%|██████████| 507/507 [00:20<00:00, 24.16it/s]\n"
     ]
    },
    {
     "name": "stdout",
     "output_type": "stream",
     "text": [
      "Epoch 380 - Train Loss: 0.4334, Train MSE: 0.4336, Train MAE: 0.4861\n",
      "Epoch 380 - Validation Loss: 1.4112, Validation MSE: 1.4152, Validation MAE: 0.8719\n"
     ]
    },
    {
     "name": "stderr",
     "output_type": "stream",
     "text": [
      "Training Epoch 382: 100%|██████████| 507/507 [00:21<00:00, 23.95it/s]\n",
      "Training Epoch 383: 100%|██████████| 507/507 [00:20<00:00, 24.25it/s]\n",
      "Training Epoch 384: 100%|██████████| 507/507 [00:20<00:00, 24.16it/s]\n",
      "Training Epoch 385: 100%|██████████| 507/507 [00:20<00:00, 24.17it/s]\n",
      "Training Epoch 386: 100%|██████████| 507/507 [00:21<00:00, 24.14it/s]\n",
      "Training Epoch 387: 100%|██████████| 507/507 [00:20<00:00, 24.28it/s]\n",
      "Training Epoch 388: 100%|██████████| 507/507 [00:20<00:00, 24.31it/s]\n",
      "Training Epoch 389: 100%|██████████| 507/507 [00:21<00:00, 24.11it/s]\n",
      "Training Epoch 390: 100%|██████████| 507/507 [00:20<00:00, 24.18it/s]\n",
      "Training Epoch 391: 100%|██████████| 507/507 [00:21<00:00, 24.04it/s]\n"
     ]
    },
    {
     "name": "stdout",
     "output_type": "stream",
     "text": [
      "Epoch 390 - Train Loss: 0.4239, Train MSE: 0.4240, Train MAE: 0.4857\n",
      "Epoch 390 - Validation Loss: 1.4522, Validation MSE: 1.4561, Validation MAE: 0.8785\n"
     ]
    },
    {
     "name": "stderr",
     "output_type": "stream",
     "text": [
      "Training Epoch 392: 100%|██████████| 507/507 [00:20<00:00, 24.29it/s]\n",
      "Training Epoch 393: 100%|██████████| 507/507 [00:21<00:00, 24.02it/s]\n",
      "Training Epoch 394: 100%|██████████| 507/507 [00:21<00:00, 24.04it/s]\n",
      "Training Epoch 395: 100%|██████████| 507/507 [00:21<00:00, 24.10it/s]\n",
      "Training Epoch 396: 100%|██████████| 507/507 [00:20<00:00, 24.34it/s]\n",
      "Training Epoch 397: 100%|██████████| 507/507 [00:21<00:00, 23.98it/s]\n",
      "Training Epoch 398: 100%|██████████| 507/507 [00:20<00:00, 24.54it/s]\n",
      "Training Epoch 399: 100%|██████████| 507/507 [00:21<00:00, 24.13it/s]\n",
      "Training Epoch 400: 100%|██████████| 507/507 [00:20<00:00, 24.37it/s]\n",
      "Training Epoch 401: 100%|██████████| 507/507 [00:20<00:00, 24.35it/s]\n"
     ]
    },
    {
     "name": "stdout",
     "output_type": "stream",
     "text": [
      "Epoch 400 - Train Loss: 0.4017, Train MSE: 0.4018, Train MAE: 0.4725\n",
      "Epoch 400 - Validation Loss: 1.4398, Validation MSE: 1.4441, Validation MAE: 0.8889\n"
     ]
    },
    {
     "name": "stderr",
     "output_type": "stream",
     "text": [
      "Training Epoch 402: 100%|██████████| 507/507 [00:21<00:00, 24.09it/s]\n",
      "Training Epoch 403: 100%|██████████| 507/507 [00:20<00:00, 24.32it/s]\n",
      "Training Epoch 404: 100%|██████████| 507/507 [00:21<00:00, 24.13it/s]\n",
      "Training Epoch 405: 100%|██████████| 507/507 [00:21<00:00, 24.02it/s]\n",
      "Training Epoch 406: 100%|██████████| 507/507 [00:21<00:00, 24.14it/s]\n",
      "Training Epoch 407: 100%|██████████| 507/507 [00:20<00:00, 24.29it/s]\n",
      "Training Epoch 408: 100%|██████████| 507/507 [00:21<00:00, 24.11it/s]\n",
      "Training Epoch 409: 100%|██████████| 507/507 [00:20<00:00, 24.28it/s]\n",
      "Training Epoch 410: 100%|██████████| 507/507 [00:20<00:00, 24.15it/s]\n",
      "Training Epoch 411: 100%|██████████| 507/507 [00:21<00:00, 24.10it/s]\n"
     ]
    },
    {
     "name": "stdout",
     "output_type": "stream",
     "text": [
      "Epoch 410 - Train Loss: 0.4135, Train MSE: 0.4136, Train MAE: 0.4761\n",
      "Epoch 410 - Validation Loss: 1.4199, Validation MSE: 1.4235, Validation MAE: 0.8705\n"
     ]
    },
    {
     "name": "stderr",
     "output_type": "stream",
     "text": [
      "Training Epoch 412: 100%|██████████| 507/507 [00:20<00:00, 24.30it/s]\n",
      "Training Epoch 413: 100%|██████████| 507/507 [00:21<00:00, 24.13it/s]\n",
      "Training Epoch 414: 100%|██████████| 507/507 [00:20<00:00, 24.17it/s]\n",
      "Training Epoch 415: 100%|██████████| 507/507 [00:20<00:00, 24.29it/s]\n",
      "Training Epoch 416: 100%|██████████| 507/507 [00:20<00:00, 24.36it/s]\n",
      "Training Epoch 417: 100%|██████████| 507/507 [00:20<00:00, 24.25it/s]\n",
      "Training Epoch 418: 100%|██████████| 507/507 [00:20<00:00, 24.39it/s]\n",
      "Training Epoch 419: 100%|██████████| 507/507 [00:20<00:00, 24.36it/s]\n",
      "Training Epoch 420: 100%|██████████| 507/507 [00:21<00:00, 24.14it/s]\n",
      "Training Epoch 421: 100%|██████████| 507/507 [00:20<00:00, 24.63it/s]\n"
     ]
    },
    {
     "name": "stdout",
     "output_type": "stream",
     "text": [
      "Epoch 420 - Train Loss: 0.4000, Train MSE: 0.3999, Train MAE: 0.4682\n",
      "Epoch 420 - Validation Loss: 1.4365, Validation MSE: 1.4403, Validation MAE: 0.8636\n"
     ]
    },
    {
     "name": "stderr",
     "output_type": "stream",
     "text": [
      "Training Epoch 422: 100%|██████████| 507/507 [00:20<00:00, 24.40it/s]\n",
      "Training Epoch 423: 100%|██████████| 507/507 [00:21<00:00, 24.14it/s]\n",
      "Training Epoch 424: 100%|██████████| 507/507 [00:20<00:00, 24.32it/s]\n",
      "Training Epoch 425: 100%|██████████| 507/507 [00:20<00:00, 24.18it/s]\n",
      "Training Epoch 426: 100%|██████████| 507/507 [00:20<00:00, 24.40it/s]\n",
      "Training Epoch 427: 100%|██████████| 507/507 [00:20<00:00, 24.55it/s]\n",
      "Training Epoch 428: 100%|██████████| 507/507 [00:20<00:00, 24.35it/s]\n",
      "Training Epoch 429: 100%|██████████| 507/507 [00:20<00:00, 24.39it/s]\n",
      "Training Epoch 430: 100%|██████████| 507/507 [00:20<00:00, 24.34it/s]\n",
      "Training Epoch 431: 100%|██████████| 507/507 [00:20<00:00, 24.37it/s]\n"
     ]
    },
    {
     "name": "stdout",
     "output_type": "stream",
     "text": [
      "Epoch 430 - Train Loss: 0.3913, Train MSE: 0.3912, Train MAE: 0.4648\n",
      "Epoch 430 - Validation Loss: 1.4384, Validation MSE: 1.4422, Validation MAE: 0.8715\n"
     ]
    },
    {
     "name": "stderr",
     "output_type": "stream",
     "text": [
      "Training Epoch 432: 100%|██████████| 507/507 [00:20<00:00, 24.34it/s]\n",
      "Training Epoch 433: 100%|██████████| 507/507 [00:21<00:00, 24.08it/s]\n",
      "Training Epoch 434: 100%|██████████| 507/507 [00:20<00:00, 24.29it/s]\n",
      "Training Epoch 435: 100%|██████████| 507/507 [00:20<00:00, 24.38it/s]\n",
      "Training Epoch 436: 100%|██████████| 507/507 [00:20<00:00, 24.26it/s]\n",
      "Training Epoch 437: 100%|██████████| 507/507 [00:20<00:00, 24.28it/s]\n",
      "Training Epoch 438: 100%|██████████| 507/507 [00:20<00:00, 24.24it/s]\n",
      "Training Epoch 439: 100%|██████████| 507/507 [00:20<00:00, 24.42it/s]\n",
      "Training Epoch 440: 100%|██████████| 507/507 [00:20<00:00, 24.41it/s]\n",
      "Training Epoch 441: 100%|██████████| 507/507 [00:20<00:00, 24.40it/s]\n"
     ]
    },
    {
     "name": "stdout",
     "output_type": "stream",
     "text": [
      "Epoch 440 - Train Loss: 0.3853, Train MSE: 0.3854, Train MAE: 0.4567\n",
      "Epoch 440 - Validation Loss: 1.4416, Validation MSE: 1.4456, Validation MAE: 0.8715\n"
     ]
    },
    {
     "name": "stderr",
     "output_type": "stream",
     "text": [
      "Training Epoch 442: 100%|██████████| 507/507 [00:20<00:00, 24.45it/s]\n",
      "Training Epoch 443: 100%|██████████| 507/507 [00:20<00:00, 24.26it/s]\n",
      "Training Epoch 444: 100%|██████████| 507/507 [00:21<00:00, 24.14it/s]\n",
      "Training Epoch 445: 100%|██████████| 507/507 [00:20<00:00, 24.20it/s]\n",
      "Training Epoch 446: 100%|██████████| 507/507 [00:21<00:00, 24.11it/s]\n",
      "Training Epoch 447: 100%|██████████| 507/507 [00:21<00:00, 24.07it/s]\n",
      "Training Epoch 448: 100%|██████████| 507/507 [00:20<00:00, 24.30it/s]\n",
      "Training Epoch 449: 100%|██████████| 507/507 [00:21<00:00, 24.08it/s]\n",
      "Training Epoch 450: 100%|██████████| 507/507 [00:20<00:00, 24.16it/s]\n",
      "Training Epoch 451: 100%|██████████| 507/507 [00:21<00:00, 24.12it/s]\n"
     ]
    },
    {
     "name": "stdout",
     "output_type": "stream",
     "text": [
      "Epoch 450 - Train Loss: 0.3773, Train MSE: 0.3775, Train MAE: 0.4559\n",
      "Epoch 450 - Validation Loss: 1.4015, Validation MSE: 1.4051, Validation MAE: 0.8631\n"
     ]
    },
    {
     "name": "stderr",
     "output_type": "stream",
     "text": [
      "Training Epoch 452: 100%|██████████| 507/507 [00:20<00:00, 24.20it/s]\n",
      "Training Epoch 453: 100%|██████████| 507/507 [00:20<00:00, 24.14it/s]\n",
      "Training Epoch 454: 100%|██████████| 507/507 [00:20<00:00, 24.19it/s]\n",
      "Training Epoch 455: 100%|██████████| 507/507 [00:20<00:00, 24.25it/s]\n",
      "Training Epoch 456: 100%|██████████| 507/507 [00:21<00:00, 24.13it/s]\n",
      "Training Epoch 457: 100%|██████████| 507/507 [00:20<00:00, 24.35it/s]\n",
      "Training Epoch 458: 100%|██████████| 507/507 [00:20<00:00, 24.26it/s]\n",
      "Training Epoch 459: 100%|██████████| 507/507 [00:20<00:00, 24.22it/s]\n",
      "Training Epoch 460: 100%|██████████| 507/507 [00:21<00:00, 24.13it/s]\n",
      "Training Epoch 461: 100%|██████████| 507/507 [00:20<00:00, 24.19it/s]\n"
     ]
    },
    {
     "name": "stdout",
     "output_type": "stream",
     "text": [
      "Epoch 460 - Train Loss: 0.3827, Train MSE: 0.3830, Train MAE: 0.4598\n",
      "Epoch 460 - Validation Loss: 1.4272, Validation MSE: 1.4311, Validation MAE: 0.8656\n"
     ]
    },
    {
     "name": "stderr",
     "output_type": "stream",
     "text": [
      "Training Epoch 462: 100%|██████████| 507/507 [00:21<00:00, 24.00it/s]\n",
      "Training Epoch 463: 100%|██████████| 507/507 [00:21<00:00, 24.08it/s]\n",
      "Training Epoch 464: 100%|██████████| 507/507 [00:20<00:00, 24.26it/s]\n",
      "Training Epoch 465: 100%|██████████| 507/507 [00:20<00:00, 24.33it/s]\n",
      "Training Epoch 466: 100%|██████████| 507/507 [00:21<00:00, 24.06it/s]\n",
      "Training Epoch 467: 100%|██████████| 507/507 [00:21<00:00, 24.05it/s]\n",
      "Training Epoch 468: 100%|██████████| 507/507 [00:20<00:00, 24.33it/s]\n",
      "Training Epoch 469: 100%|██████████| 507/507 [00:21<00:00, 24.09it/s]\n",
      "Training Epoch 470: 100%|██████████| 507/507 [00:20<00:00, 24.21it/s]\n",
      "Training Epoch 471: 100%|██████████| 507/507 [00:21<00:00, 24.12it/s]\n"
     ]
    },
    {
     "name": "stdout",
     "output_type": "stream",
     "text": [
      "Epoch 470 - Train Loss: 0.3717, Train MSE: 0.3717, Train MAE: 0.4511\n",
      "Epoch 470 - Validation Loss: 1.4147, Validation MSE: 1.4185, Validation MAE: 0.8651\n"
     ]
    },
    {
     "name": "stderr",
     "output_type": "stream",
     "text": [
      "Training Epoch 472: 100%|██████████| 507/507 [00:21<00:00, 23.96it/s]\n",
      "Training Epoch 473: 100%|██████████| 507/507 [00:20<00:00, 24.23it/s]\n",
      "Training Epoch 474: 100%|██████████| 507/507 [00:21<00:00, 24.12it/s]\n",
      "Training Epoch 475: 100%|██████████| 507/507 [00:20<00:00, 24.19it/s]\n",
      "Training Epoch 476: 100%|██████████| 507/507 [00:21<00:00, 24.13it/s]\n",
      "Training Epoch 477: 100%|██████████| 507/507 [00:21<00:00, 24.11it/s]\n",
      "Training Epoch 478: 100%|██████████| 507/507 [00:21<00:00, 24.13it/s]\n",
      "Training Epoch 479: 100%|██████████| 507/507 [00:20<00:00, 24.30it/s]\n",
      "Training Epoch 480: 100%|██████████| 507/507 [00:20<00:00, 24.18it/s]\n",
      "Training Epoch 481: 100%|██████████| 507/507 [00:20<00:00, 24.24it/s]\n"
     ]
    },
    {
     "name": "stdout",
     "output_type": "stream",
     "text": [
      "Epoch 480 - Train Loss: 0.3754, Train MSE: 0.3745, Train MAE: 0.4500\n",
      "Epoch 480 - Validation Loss: 1.4325, Validation MSE: 1.4365, Validation MAE: 0.8710\n"
     ]
    },
    {
     "name": "stderr",
     "output_type": "stream",
     "text": [
      "Training Epoch 482: 100%|██████████| 507/507 [00:21<00:00, 24.06it/s]\n",
      "Training Epoch 483: 100%|██████████| 507/507 [00:20<00:00, 24.30it/s]\n",
      "Training Epoch 484: 100%|██████████| 507/507 [00:20<00:00, 24.26it/s]\n",
      "Training Epoch 485: 100%|██████████| 507/507 [00:20<00:00, 24.14it/s]\n",
      "Training Epoch 486: 100%|██████████| 507/507 [00:20<00:00, 24.30it/s]\n",
      "Training Epoch 487: 100%|██████████| 507/507 [00:20<00:00, 24.20it/s]\n",
      "Training Epoch 488: 100%|██████████| 507/507 [00:20<00:00, 24.18it/s]\n",
      "Training Epoch 489: 100%|██████████| 507/507 [00:20<00:00, 24.22it/s]\n",
      "Training Epoch 490: 100%|██████████| 507/507 [00:20<00:00, 24.28it/s]\n",
      "Training Epoch 491: 100%|██████████| 507/507 [00:21<00:00, 23.99it/s]\n"
     ]
    },
    {
     "name": "stdout",
     "output_type": "stream",
     "text": [
      "Epoch 490 - Train Loss: 0.3760, Train MSE: 0.3762, Train MAE: 0.4522\n",
      "Epoch 490 - Validation Loss: 1.4232, Validation MSE: 1.4267, Validation MAE: 0.8696\n"
     ]
    },
    {
     "name": "stderr",
     "output_type": "stream",
     "text": [
      "Training Epoch 492: 100%|██████████| 507/507 [00:20<00:00, 24.19it/s]\n",
      "Training Epoch 493: 100%|██████████| 507/507 [00:20<00:00, 24.15it/s]\n",
      "Training Epoch 494: 100%|██████████| 507/507 [00:20<00:00, 24.20it/s]\n",
      "Training Epoch 495: 100%|██████████| 507/507 [00:21<00:00, 24.04it/s]\n",
      "Training Epoch 496: 100%|██████████| 507/507 [00:20<00:00, 24.15it/s]\n",
      "Training Epoch 497: 100%|██████████| 507/507 [00:20<00:00, 24.26it/s]\n",
      "Training Epoch 498: 100%|██████████| 507/507 [00:21<00:00, 23.73it/s]\n",
      "Training Epoch 499: 100%|██████████| 507/507 [00:20<00:00, 24.21it/s]\n",
      "Training Epoch 500: 100%|██████████| 507/507 [00:20<00:00, 24.14it/s]\n",
      "Training Epoch 501: 100%|██████████| 507/507 [00:20<00:00, 24.15it/s]\n"
     ]
    },
    {
     "name": "stdout",
     "output_type": "stream",
     "text": [
      "Epoch 500 - Train Loss: 0.3787, Train MSE: 0.3790, Train MAE: 0.4550\n",
      "Epoch 500 - Validation Loss: 1.4411, Validation MSE: 1.4449, Validation MAE: 0.8692\n"
     ]
    },
    {
     "name": "stderr",
     "output_type": "stream",
     "text": [
      "Training Epoch 502: 100%|██████████| 507/507 [00:20<00:00, 24.15it/s]\n",
      "Training Epoch 503: 100%|██████████| 507/507 [00:21<00:00, 24.11it/s]\n",
      "Training Epoch 504: 100%|██████████| 507/507 [00:21<00:00, 24.11it/s]\n",
      "Training Epoch 505: 100%|██████████| 507/507 [00:20<00:00, 24.33it/s]\n",
      "Training Epoch 506: 100%|██████████| 507/507 [00:20<00:00, 24.28it/s]\n",
      "Training Epoch 507: 100%|██████████| 507/507 [00:21<00:00, 24.06it/s]\n",
      "Training Epoch 508: 100%|██████████| 507/507 [00:20<00:00, 24.22it/s]\n",
      "Training Epoch 509: 100%|██████████| 507/507 [00:21<00:00, 24.10it/s]\n",
      "Training Epoch 510: 100%|██████████| 507/507 [00:20<00:00, 24.20it/s]\n",
      "Training Epoch 511: 100%|██████████| 507/507 [00:20<00:00, 24.19it/s]\n"
     ]
    },
    {
     "name": "stdout",
     "output_type": "stream",
     "text": [
      "Epoch 510 - Train Loss: 0.3741, Train MSE: 0.3740, Train MAE: 0.4508\n",
      "Epoch 510 - Validation Loss: 1.4610, Validation MSE: 1.4650, Validation MAE: 0.8912\n"
     ]
    },
    {
     "name": "stderr",
     "output_type": "stream",
     "text": [
      "Training Epoch 512: 100%|██████████| 507/507 [00:20<00:00, 24.23it/s]\n",
      "Training Epoch 513: 100%|██████████| 507/507 [00:21<00:00, 24.03it/s]\n",
      "Training Epoch 514: 100%|██████████| 507/507 [00:21<00:00, 24.13it/s]\n",
      "Training Epoch 515: 100%|██████████| 507/507 [00:21<00:00, 24.08it/s]\n",
      "Training Epoch 516: 100%|██████████| 507/507 [00:20<00:00, 24.22it/s]\n",
      "Training Epoch 517: 100%|██████████| 507/507 [00:20<00:00, 24.22it/s]\n",
      "Training Epoch 518: 100%|██████████| 507/507 [00:20<00:00, 24.25it/s]\n",
      "Training Epoch 519: 100%|██████████| 507/507 [00:20<00:00, 24.45it/s]\n",
      "Training Epoch 520: 100%|██████████| 507/507 [00:22<00:00, 22.91it/s]\n",
      "Training Epoch 521: 100%|██████████| 507/507 [00:21<00:00, 23.91it/s]\n"
     ]
    },
    {
     "name": "stdout",
     "output_type": "stream",
     "text": [
      "Epoch 520 - Train Loss: 0.3644, Train MSE: 0.3642, Train MAE: 0.4459\n",
      "Epoch 520 - Validation Loss: 1.4291, Validation MSE: 1.4330, Validation MAE: 0.8717\n"
     ]
    },
    {
     "name": "stderr",
     "output_type": "stream",
     "text": [
      "Training Epoch 522: 100%|██████████| 507/507 [00:21<00:00, 24.14it/s]\n",
      "Training Epoch 523: 100%|██████████| 507/507 [00:20<00:00, 24.20it/s]\n",
      "Training Epoch 524: 100%|██████████| 507/507 [00:21<00:00, 24.09it/s]\n",
      "Training Epoch 525: 100%|██████████| 507/507 [00:20<00:00, 24.24it/s]\n",
      "Training Epoch 526: 100%|██████████| 507/507 [00:20<00:00, 24.27it/s]\n",
      "Training Epoch 527: 100%|██████████| 507/507 [00:20<00:00, 24.26it/s]\n",
      "Training Epoch 528: 100%|██████████| 507/507 [00:21<00:00, 24.10it/s]\n",
      "Training Epoch 529: 100%|██████████| 507/507 [00:20<00:00, 24.23it/s]\n",
      "Training Epoch 530: 100%|██████████| 507/507 [00:20<00:00, 24.25it/s]\n",
      "Training Epoch 531: 100%|██████████| 507/507 [00:20<00:00, 24.19it/s]\n"
     ]
    },
    {
     "name": "stdout",
     "output_type": "stream",
     "text": [
      "Epoch 530 - Train Loss: 0.3653, Train MSE: 0.3654, Train MAE: 0.4467\n",
      "Epoch 530 - Validation Loss: 1.4961, Validation MSE: 1.4994, Validation MAE: 0.8864\n"
     ]
    },
    {
     "name": "stderr",
     "output_type": "stream",
     "text": [
      "Training Epoch 532: 100%|██████████| 507/507 [00:20<00:00, 24.28it/s]\n",
      "Training Epoch 533: 100%|██████████| 507/507 [00:20<00:00, 24.30it/s]\n",
      "Training Epoch 534: 100%|██████████| 507/507 [00:20<00:00, 24.25it/s]\n",
      "Training Epoch 535: 100%|██████████| 507/507 [00:20<00:00, 24.15it/s]\n",
      "Training Epoch 536: 100%|██████████| 507/507 [00:20<00:00, 24.27it/s]\n",
      "Training Epoch 537: 100%|██████████| 507/507 [00:20<00:00, 24.38it/s]\n",
      "Training Epoch 538: 100%|██████████| 507/507 [00:20<00:00, 24.38it/s]\n",
      "Training Epoch 539: 100%|██████████| 507/507 [00:20<00:00, 24.32it/s]\n",
      "Training Epoch 540: 100%|██████████| 507/507 [00:21<00:00, 24.02it/s]\n",
      "Training Epoch 541: 100%|██████████| 507/507 [00:20<00:00, 24.35it/s]\n"
     ]
    },
    {
     "name": "stdout",
     "output_type": "stream",
     "text": [
      "Epoch 540 - Train Loss: 0.3612, Train MSE: 0.3613, Train MAE: 0.4434\n",
      "Epoch 540 - Validation Loss: 1.4455, Validation MSE: 1.4486, Validation MAE: 0.8670\n"
     ]
    },
    {
     "name": "stderr",
     "output_type": "stream",
     "text": [
      "Training Epoch 542: 100%|██████████| 507/507 [00:20<00:00, 24.22it/s]\n",
      "Training Epoch 543: 100%|██████████| 507/507 [00:20<00:00, 24.42it/s]\n",
      "Training Epoch 544: 100%|██████████| 507/507 [00:20<00:00, 24.18it/s]\n",
      "Training Epoch 545: 100%|██████████| 507/507 [00:20<00:00, 24.30it/s]\n",
      "Training Epoch 546: 100%|██████████| 507/507 [00:20<00:00, 24.34it/s]\n",
      "Training Epoch 547: 100%|██████████| 507/507 [00:20<00:00, 24.30it/s]\n",
      "Training Epoch 548: 100%|██████████| 507/507 [00:20<00:00, 24.30it/s]\n",
      "Training Epoch 549: 100%|██████████| 507/507 [00:20<00:00, 24.25it/s]\n",
      "Training Epoch 550: 100%|██████████| 507/507 [00:20<00:00, 24.36it/s]\n",
      "Training Epoch 551: 100%|██████████| 507/507 [00:20<00:00, 24.19it/s]\n"
     ]
    },
    {
     "name": "stdout",
     "output_type": "stream",
     "text": [
      "Epoch 550 - Train Loss: 0.3627, Train MSE: 0.3630, Train MAE: 0.4428\n",
      "Epoch 550 - Validation Loss: 1.4435, Validation MSE: 1.4473, Validation MAE: 0.8703\n"
     ]
    },
    {
     "name": "stderr",
     "output_type": "stream",
     "text": [
      "Training Epoch 552: 100%|██████████| 507/507 [00:20<00:00, 24.15it/s]\n",
      "Training Epoch 553: 100%|██████████| 507/507 [00:21<00:00, 24.13it/s]\n",
      "Training Epoch 554: 100%|██████████| 507/507 [00:20<00:00, 24.30it/s]\n",
      "Training Epoch 555: 100%|██████████| 507/507 [00:20<00:00, 24.19it/s]\n",
      "Training Epoch 556: 100%|██████████| 507/507 [00:20<00:00, 24.42it/s]\n",
      "Training Epoch 557: 100%|██████████| 507/507 [00:20<00:00, 24.19it/s]\n",
      "Training Epoch 558: 100%|██████████| 507/507 [00:20<00:00, 24.20it/s]\n",
      "Training Epoch 559: 100%|██████████| 507/507 [00:20<00:00, 24.44it/s]\n",
      "Training Epoch 560: 100%|██████████| 507/507 [00:20<00:00, 24.16it/s]\n",
      "Training Epoch 561: 100%|██████████| 507/507 [00:20<00:00, 24.40it/s]\n"
     ]
    },
    {
     "name": "stdout",
     "output_type": "stream",
     "text": [
      "Epoch 560 - Train Loss: 0.3627, Train MSE: 0.3627, Train MAE: 0.4415\n",
      "Epoch 560 - Validation Loss: 1.4641, Validation MSE: 1.4681, Validation MAE: 0.8797\n"
     ]
    },
    {
     "name": "stderr",
     "output_type": "stream",
     "text": [
      "Training Epoch 562: 100%|██████████| 507/507 [00:21<00:00, 23.99it/s]\n",
      "Training Epoch 563: 100%|██████████| 507/507 [00:20<00:00, 24.36it/s]\n",
      "Training Epoch 564: 100%|██████████| 507/507 [00:20<00:00, 24.18it/s]\n",
      "Training Epoch 565: 100%|██████████| 507/507 [00:20<00:00, 24.31it/s]\n",
      "Training Epoch 566: 100%|██████████| 507/507 [00:20<00:00, 24.23it/s]\n",
      "Training Epoch 567: 100%|██████████| 507/507 [00:20<00:00, 24.26it/s]\n",
      "Training Epoch 568: 100%|██████████| 507/507 [00:20<00:00, 24.36it/s]\n",
      "Training Epoch 569: 100%|██████████| 507/507 [00:21<00:00, 24.06it/s]\n",
      "Training Epoch 570: 100%|██████████| 507/507 [00:20<00:00, 24.39it/s]\n",
      "Training Epoch 571: 100%|██████████| 507/507 [00:20<00:00, 24.23it/s]\n"
     ]
    },
    {
     "name": "stdout",
     "output_type": "stream",
     "text": [
      "Epoch 570 - Train Loss: 0.3489, Train MSE: 0.3484, Train MAE: 0.4328\n",
      "Epoch 570 - Validation Loss: 1.4198, Validation MSE: 1.4237, Validation MAE: 0.8678\n"
     ]
    },
    {
     "name": "stderr",
     "output_type": "stream",
     "text": [
      "Training Epoch 572: 100%|██████████| 507/507 [00:20<00:00, 24.29it/s]\n",
      "Training Epoch 573: 100%|██████████| 507/507 [00:20<00:00, 24.18it/s]\n",
      "Training Epoch 574: 100%|██████████| 507/507 [00:20<00:00, 24.29it/s]\n",
      "Training Epoch 575: 100%|██████████| 507/507 [00:21<00:00, 24.13it/s]\n",
      "Training Epoch 576: 100%|██████████| 507/507 [00:21<00:00, 23.99it/s]\n",
      "Training Epoch 577: 100%|██████████| 507/507 [00:20<00:00, 24.25it/s]\n",
      "Training Epoch 578: 100%|██████████| 507/507 [00:20<00:00, 24.20it/s]\n",
      "Training Epoch 579: 100%|██████████| 507/507 [00:20<00:00, 24.27it/s]\n",
      "Training Epoch 580: 100%|██████████| 507/507 [00:20<00:00, 24.25it/s]\n",
      "Training Epoch 581: 100%|██████████| 507/507 [00:20<00:00, 24.45it/s]\n"
     ]
    },
    {
     "name": "stdout",
     "output_type": "stream",
     "text": [
      "Epoch 580 - Train Loss: 0.3412, Train MSE: 0.3412, Train MAE: 0.4304\n",
      "Epoch 580 - Validation Loss: 1.4593, Validation MSE: 1.4632, Validation MAE: 0.8802\n"
     ]
    },
    {
     "name": "stderr",
     "output_type": "stream",
     "text": [
      "Training Epoch 582: 100%|██████████| 507/507 [00:20<00:00, 24.22it/s]\n",
      "Training Epoch 583: 100%|██████████| 507/507 [00:20<00:00, 24.26it/s]\n",
      "Training Epoch 584: 100%|██████████| 507/507 [00:20<00:00, 24.28it/s]\n",
      "Training Epoch 585: 100%|██████████| 507/507 [00:20<00:00, 24.21it/s]\n",
      "Training Epoch 586: 100%|██████████| 507/507 [00:20<00:00, 24.37it/s]\n",
      "Training Epoch 587: 100%|██████████| 507/507 [00:20<00:00, 24.27it/s]\n",
      "Training Epoch 588: 100%|██████████| 507/507 [00:19<00:00, 26.07it/s]\n",
      "Training Epoch 589: 100%|██████████| 507/507 [00:18<00:00, 27.70it/s]\n",
      "Training Epoch 590: 100%|██████████| 507/507 [00:18<00:00, 27.46it/s]\n",
      "Training Epoch 591: 100%|██████████| 507/507 [00:18<00:00, 27.54it/s]\n"
     ]
    },
    {
     "name": "stdout",
     "output_type": "stream",
     "text": [
      "Epoch 590 - Train Loss: 0.3495, Train MSE: 0.3495, Train MAE: 0.4344\n",
      "Epoch 590 - Validation Loss: 1.4212, Validation MSE: 1.4250, Validation MAE: 0.8655\n"
     ]
    },
    {
     "name": "stderr",
     "output_type": "stream",
     "text": [
      "Training Epoch 592: 100%|██████████| 507/507 [00:18<00:00, 27.73it/s]\n",
      "Training Epoch 593: 100%|██████████| 507/507 [00:18<00:00, 27.67it/s]\n",
      "Training Epoch 594: 100%|██████████| 507/507 [00:18<00:00, 27.61it/s]\n",
      "Training Epoch 595: 100%|██████████| 507/507 [00:18<00:00, 27.67it/s]\n",
      "Training Epoch 596: 100%|██████████| 507/507 [00:18<00:00, 27.61it/s]\n",
      "Training Epoch 597: 100%|██████████| 507/507 [00:18<00:00, 27.52it/s]\n",
      "Training Epoch 598: 100%|██████████| 507/507 [00:18<00:00, 27.79it/s]\n",
      "Training Epoch 599: 100%|██████████| 507/507 [00:18<00:00, 27.64it/s]\n",
      "Training Epoch 600: 100%|██████████| 507/507 [00:18<00:00, 27.48it/s]\n",
      "Training Epoch 601: 100%|██████████| 507/507 [00:18<00:00, 27.83it/s]\n"
     ]
    },
    {
     "name": "stdout",
     "output_type": "stream",
     "text": [
      "Epoch 600 - Train Loss: 0.3469, Train MSE: 0.3470, Train MAE: 0.4308\n",
      "Epoch 600 - Validation Loss: 1.4430, Validation MSE: 1.4469, Validation MAE: 0.8682\n"
     ]
    },
    {
     "name": "stderr",
     "output_type": "stream",
     "text": [
      "Training Epoch 602: 100%|██████████| 507/507 [00:18<00:00, 27.68it/s]\n",
      "Training Epoch 603: 100%|██████████| 507/507 [00:18<00:00, 27.67it/s]\n",
      "Training Epoch 604: 100%|██████████| 507/507 [00:18<00:00, 27.77it/s]\n",
      "Training Epoch 605: 100%|██████████| 507/507 [00:18<00:00, 27.62it/s]\n",
      "Training Epoch 606: 100%|██████████| 507/507 [00:18<00:00, 27.61it/s]\n",
      "Training Epoch 607: 100%|██████████| 507/507 [00:18<00:00, 27.77it/s]\n",
      "Training Epoch 608: 100%|██████████| 507/507 [00:18<00:00, 27.72it/s]\n",
      "Training Epoch 609: 100%|██████████| 507/507 [00:18<00:00, 27.60it/s]\n",
      "Training Epoch 610: 100%|██████████| 507/507 [00:18<00:00, 27.77it/s]\n",
      "Training Epoch 611: 100%|██████████| 507/507 [00:18<00:00, 27.61it/s]\n"
     ]
    },
    {
     "name": "stdout",
     "output_type": "stream",
     "text": [
      "Epoch 610 - Train Loss: 0.3435, Train MSE: 0.3436, Train MAE: 0.4292\n",
      "Epoch 610 - Validation Loss: 1.4233, Validation MSE: 1.4267, Validation MAE: 0.8694\n"
     ]
    },
    {
     "name": "stderr",
     "output_type": "stream",
     "text": [
      "Training Epoch 612: 100%|██████████| 507/507 [00:18<00:00, 27.53it/s]\n",
      "Training Epoch 613: 100%|██████████| 507/507 [00:18<00:00, 27.63it/s]\n",
      "Training Epoch 614: 100%|██████████| 507/507 [00:18<00:00, 27.78it/s]\n",
      "Training Epoch 615: 100%|██████████| 507/507 [00:18<00:00, 27.67it/s]\n",
      "Training Epoch 616: 100%|██████████| 507/507 [00:18<00:00, 27.75it/s]\n",
      "Training Epoch 617: 100%|██████████| 507/507 [00:18<00:00, 27.87it/s]\n",
      "Training Epoch 618: 100%|██████████| 507/507 [00:18<00:00, 27.75it/s]\n",
      "Training Epoch 619: 100%|██████████| 507/507 [00:18<00:00, 27.69it/s]\n",
      "Training Epoch 620: 100%|██████████| 507/507 [00:18<00:00, 27.67it/s]\n",
      "Training Epoch 621: 100%|██████████| 507/507 [00:18<00:00, 27.71it/s]\n"
     ]
    },
    {
     "name": "stdout",
     "output_type": "stream",
     "text": [
      "Epoch 620 - Train Loss: 0.3343, Train MSE: 0.3339, Train MAE: 0.4258\n",
      "Epoch 620 - Validation Loss: 1.4251, Validation MSE: 1.4290, Validation MAE: 0.8760\n"
     ]
    },
    {
     "name": "stderr",
     "output_type": "stream",
     "text": [
      "Training Epoch 622: 100%|██████████| 507/507 [00:18<00:00, 27.78it/s]\n",
      "Training Epoch 623: 100%|██████████| 507/507 [00:18<00:00, 27.69it/s]\n",
      "Training Epoch 624: 100%|██████████| 507/507 [00:18<00:00, 27.70it/s]\n",
      "Training Epoch 625: 100%|██████████| 507/507 [00:18<00:00, 27.70it/s]\n",
      "Training Epoch 626: 100%|██████████| 507/507 [00:18<00:00, 27.60it/s]\n",
      "Training Epoch 627: 100%|██████████| 507/507 [00:18<00:00, 27.57it/s]\n",
      "Training Epoch 628: 100%|██████████| 507/507 [00:18<00:00, 27.72it/s]\n",
      "Training Epoch 629: 100%|██████████| 507/507 [00:18<00:00, 27.76it/s]\n",
      "Training Epoch 630: 100%|██████████| 507/507 [00:18<00:00, 27.56it/s]\n",
      "Training Epoch 631: 100%|██████████| 507/507 [00:18<00:00, 27.82it/s]\n"
     ]
    },
    {
     "name": "stdout",
     "output_type": "stream",
     "text": [
      "Epoch 630 - Train Loss: 0.3432, Train MSE: 0.3433, Train MAE: 0.4282\n",
      "Epoch 630 - Validation Loss: 1.4332, Validation MSE: 1.4372, Validation MAE: 0.8683\n"
     ]
    },
    {
     "name": "stderr",
     "output_type": "stream",
     "text": [
      "Training Epoch 632: 100%|██████████| 507/507 [00:18<00:00, 27.76it/s]\n",
      "Training Epoch 633: 100%|██████████| 507/507 [00:18<00:00, 27.65it/s]\n",
      "Training Epoch 634: 100%|██████████| 507/507 [00:18<00:00, 27.74it/s]\n",
      "Training Epoch 635: 100%|██████████| 507/507 [00:18<00:00, 27.62it/s]\n",
      "Training Epoch 636: 100%|██████████| 507/507 [00:18<00:00, 27.51it/s]\n",
      "Training Epoch 637: 100%|██████████| 507/507 [00:18<00:00, 27.87it/s]\n",
      "Training Epoch 638: 100%|██████████| 507/507 [00:18<00:00, 27.73it/s]\n",
      "Training Epoch 639: 100%|██████████| 507/507 [00:18<00:00, 27.81it/s]\n",
      "Training Epoch 640: 100%|██████████| 507/507 [00:18<00:00, 27.75it/s]\n",
      "Training Epoch 641: 100%|██████████| 507/507 [00:18<00:00, 27.74it/s]\n"
     ]
    },
    {
     "name": "stdout",
     "output_type": "stream",
     "text": [
      "Epoch 640 - Train Loss: 0.3373, Train MSE: 0.3370, Train MAE: 0.4255\n",
      "Epoch 640 - Validation Loss: 1.4452, Validation MSE: 1.4487, Validation MAE: 0.8784\n"
     ]
    },
    {
     "name": "stderr",
     "output_type": "stream",
     "text": [
      "Training Epoch 642: 100%|██████████| 507/507 [00:18<00:00, 27.82it/s]\n",
      "Training Epoch 643: 100%|██████████| 507/507 [00:18<00:00, 27.66it/s]\n",
      "Training Epoch 644: 100%|██████████| 507/507 [00:18<00:00, 27.72it/s]\n",
      "Training Epoch 645: 100%|██████████| 507/507 [00:18<00:00, 27.78it/s]\n",
      "Training Epoch 646: 100%|██████████| 507/507 [00:18<00:00, 27.78it/s]\n",
      "Training Epoch 647: 100%|██████████| 507/507 [00:18<00:00, 27.65it/s]\n",
      "Training Epoch 648: 100%|██████████| 507/507 [00:18<00:00, 27.62it/s]\n",
      "Training Epoch 649: 100%|██████████| 507/507 [00:18<00:00, 27.76it/s]\n",
      "Training Epoch 650: 100%|██████████| 507/507 [00:18<00:00, 27.77it/s]\n",
      "Training Epoch 651: 100%|██████████| 507/507 [00:18<00:00, 27.80it/s]\n"
     ]
    },
    {
     "name": "stdout",
     "output_type": "stream",
     "text": [
      "Epoch 650 - Train Loss: 0.3359, Train MSE: 0.3358, Train MAE: 0.4260\n",
      "Epoch 650 - Validation Loss: 1.4390, Validation MSE: 1.4425, Validation MAE: 0.8697\n"
     ]
    },
    {
     "name": "stderr",
     "output_type": "stream",
     "text": [
      "Training Epoch 652: 100%|██████████| 507/507 [00:18<00:00, 27.45it/s]\n",
      "Training Epoch 653: 100%|██████████| 507/507 [00:18<00:00, 27.68it/s]\n",
      "Training Epoch 654: 100%|██████████| 507/507 [00:18<00:00, 27.78it/s]\n",
      "Training Epoch 655: 100%|██████████| 507/507 [00:18<00:00, 27.65it/s]\n",
      "Training Epoch 656: 100%|██████████| 507/507 [00:18<00:00, 27.54it/s]\n",
      "Training Epoch 657: 100%|██████████| 507/507 [00:18<00:00, 27.68it/s]\n",
      "Training Epoch 658: 100%|██████████| 507/507 [00:18<00:00, 27.63it/s]\n",
      "Training Epoch 659: 100%|██████████| 507/507 [00:18<00:00, 27.63it/s]\n",
      "Training Epoch 660: 100%|██████████| 507/507 [00:18<00:00, 27.79it/s]\n",
      "Training Epoch 661: 100%|██████████| 507/507 [00:18<00:00, 27.63it/s]\n"
     ]
    },
    {
     "name": "stdout",
     "output_type": "stream",
     "text": [
      "Epoch 660 - Train Loss: 0.3354, Train MSE: 0.3356, Train MAE: 0.4240\n",
      "Epoch 660 - Validation Loss: 1.4282, Validation MSE: 1.4323, Validation MAE: 0.8720\n"
     ]
    },
    {
     "name": "stderr",
     "output_type": "stream",
     "text": [
      "Training Epoch 662: 100%|██████████| 507/507 [00:18<00:00, 27.72it/s]\n",
      "Training Epoch 663: 100%|██████████| 507/507 [00:18<00:00, 27.51it/s]\n",
      "Training Epoch 664: 100%|██████████| 507/507 [00:18<00:00, 27.58it/s]\n",
      "Training Epoch 665: 100%|██████████| 507/507 [00:18<00:00, 27.66it/s]\n",
      "Training Epoch 666: 100%|██████████| 507/507 [00:18<00:00, 27.85it/s]\n",
      "Training Epoch 667: 100%|██████████| 507/507 [00:18<00:00, 27.70it/s]\n",
      "Training Epoch 668: 100%|██████████| 507/507 [00:18<00:00, 27.60it/s]\n",
      "Training Epoch 669: 100%|██████████| 507/507 [00:18<00:00, 27.76it/s]\n",
      "Training Epoch 670: 100%|██████████| 507/507 [00:18<00:00, 27.75it/s]\n",
      "Training Epoch 671: 100%|██████████| 507/507 [00:18<00:00, 27.48it/s]\n"
     ]
    },
    {
     "name": "stdout",
     "output_type": "stream",
     "text": [
      "Epoch 670 - Train Loss: 0.3391, Train MSE: 0.3392, Train MAE: 0.4272\n",
      "Epoch 670 - Validation Loss: 1.4637, Validation MSE: 1.4675, Validation MAE: 0.8775\n"
     ]
    },
    {
     "name": "stderr",
     "output_type": "stream",
     "text": [
      "Training Epoch 672: 100%|██████████| 507/507 [00:18<00:00, 27.74it/s]\n",
      "Training Epoch 673: 100%|██████████| 507/507 [00:18<00:00, 27.65it/s]\n",
      "Training Epoch 674: 100%|██████████| 507/507 [00:18<00:00, 27.62it/s]\n",
      "Training Epoch 675: 100%|██████████| 507/507 [00:18<00:00, 27.64it/s]\n",
      "Training Epoch 676: 100%|██████████| 507/507 [00:18<00:00, 27.55it/s]\n",
      "Training Epoch 677: 100%|██████████| 507/507 [00:18<00:00, 27.45it/s]\n",
      "Training Epoch 678: 100%|██████████| 507/507 [00:18<00:00, 27.71it/s]\n",
      "Training Epoch 679: 100%|██████████| 507/507 [00:18<00:00, 27.69it/s]\n",
      "Training Epoch 680: 100%|██████████| 507/507 [00:18<00:00, 27.56it/s]\n",
      "Training Epoch 681: 100%|██████████| 507/507 [00:18<00:00, 27.60it/s]\n"
     ]
    },
    {
     "name": "stdout",
     "output_type": "stream",
     "text": [
      "Epoch 680 - Train Loss: 0.3315, Train MSE: 0.3312, Train MAE: 0.4216\n",
      "Epoch 680 - Validation Loss: 1.4308, Validation MSE: 1.4345, Validation MAE: 0.8719\n"
     ]
    },
    {
     "name": "stderr",
     "output_type": "stream",
     "text": [
      "Training Epoch 682: 100%|██████████| 507/507 [00:18<00:00, 27.73it/s]\n",
      "Training Epoch 683: 100%|██████████| 507/507 [00:18<00:00, 27.65it/s]\n",
      "Training Epoch 684: 100%|██████████| 507/507 [00:18<00:00, 27.69it/s]\n",
      "Training Epoch 685: 100%|██████████| 507/507 [00:18<00:00, 27.70it/s]\n",
      "Training Epoch 686: 100%|██████████| 507/507 [00:18<00:00, 27.67it/s]\n",
      "Training Epoch 687: 100%|██████████| 507/507 [00:18<00:00, 27.65it/s]\n",
      "Training Epoch 688: 100%|██████████| 507/507 [00:18<00:00, 27.66it/s]\n",
      "Training Epoch 689: 100%|██████████| 507/507 [00:18<00:00, 27.74it/s]\n",
      "Training Epoch 690: 100%|██████████| 507/507 [00:18<00:00, 27.74it/s]\n",
      "Training Epoch 691: 100%|██████████| 507/507 [00:18<00:00, 27.52it/s]\n"
     ]
    },
    {
     "name": "stdout",
     "output_type": "stream",
     "text": [
      "Epoch 690 - Train Loss: 0.3345, Train MSE: 0.3348, Train MAE: 0.4219\n",
      "Epoch 690 - Validation Loss: 1.4396, Validation MSE: 1.4437, Validation MAE: 0.8667\n"
     ]
    },
    {
     "name": "stderr",
     "output_type": "stream",
     "text": [
      "Training Epoch 692: 100%|██████████| 507/507 [00:18<00:00, 27.57it/s]\n",
      "Training Epoch 693: 100%|██████████| 507/507 [00:18<00:00, 27.70it/s]\n",
      "Training Epoch 694: 100%|██████████| 507/507 [00:18<00:00, 27.47it/s]\n",
      "Training Epoch 695: 100%|██████████| 507/507 [00:18<00:00, 27.61it/s]\n",
      "Training Epoch 696: 100%|██████████| 507/507 [00:18<00:00, 27.53it/s]\n",
      "Training Epoch 697: 100%|██████████| 507/507 [00:18<00:00, 27.67it/s]\n",
      "Training Epoch 698: 100%|██████████| 507/507 [00:18<00:00, 27.62it/s]\n",
      "Training Epoch 699: 100%|██████████| 507/507 [00:18<00:00, 27.60it/s]\n",
      "Training Epoch 700: 100%|██████████| 507/507 [00:18<00:00, 27.61it/s]\n",
      "Training Epoch 701: 100%|██████████| 507/507 [00:18<00:00, 27.60it/s]\n"
     ]
    },
    {
     "name": "stdout",
     "output_type": "stream",
     "text": [
      "Epoch 700 - Train Loss: 0.3366, Train MSE: 0.3363, Train MAE: 0.4226\n",
      "Epoch 700 - Validation Loss: 1.4336, Validation MSE: 1.4379, Validation MAE: 0.8784\n"
     ]
    },
    {
     "name": "stderr",
     "output_type": "stream",
     "text": [
      "Training Epoch 702: 100%|██████████| 507/507 [00:18<00:00, 27.43it/s]\n",
      "Training Epoch 703: 100%|██████████| 507/507 [00:17<00:00, 28.29it/s]\n",
      "Training Epoch 704: 100%|██████████| 507/507 [00:16<00:00, 31.45it/s]\n",
      "Training Epoch 705: 100%|██████████| 507/507 [00:16<00:00, 31.41it/s]\n",
      "Training Epoch 706: 100%|██████████| 507/507 [00:16<00:00, 31.29it/s]\n",
      "Training Epoch 707: 100%|██████████| 507/507 [00:16<00:00, 31.27it/s]\n",
      "Training Epoch 708: 100%|██████████| 507/507 [00:16<00:00, 31.34it/s]\n",
      "Training Epoch 709: 100%|██████████| 507/507 [00:16<00:00, 31.37it/s]\n",
      "Training Epoch 710: 100%|██████████| 507/507 [00:16<00:00, 31.13it/s]\n",
      "Training Epoch 711: 100%|██████████| 507/507 [00:16<00:00, 31.33it/s]\n"
     ]
    },
    {
     "name": "stdout",
     "output_type": "stream",
     "text": [
      "Epoch 710 - Train Loss: 0.3268, Train MSE: 0.3268, Train MAE: 0.4200\n",
      "Epoch 710 - Validation Loss: 1.4531, Validation MSE: 1.4571, Validation MAE: 0.8725\n"
     ]
    },
    {
     "name": "stderr",
     "output_type": "stream",
     "text": [
      "Training Epoch 712: 100%|██████████| 507/507 [00:16<00:00, 31.40it/s]\n",
      "Training Epoch 713: 100%|██████████| 507/507 [00:16<00:00, 31.28it/s]\n",
      "Training Epoch 714: 100%|██████████| 507/507 [00:16<00:00, 31.45it/s]\n",
      "Training Epoch 715: 100%|██████████| 507/507 [00:16<00:00, 31.15it/s]\n",
      "Training Epoch 716: 100%|██████████| 507/507 [00:16<00:00, 31.24it/s]\n",
      "Training Epoch 717: 100%|██████████| 507/507 [00:16<00:00, 31.34it/s]\n",
      "Training Epoch 718: 100%|██████████| 507/507 [00:16<00:00, 31.35it/s]\n",
      "Training Epoch 719: 100%|██████████| 507/507 [00:16<00:00, 31.40it/s]\n",
      "Training Epoch 720: 100%|██████████| 507/507 [00:16<00:00, 31.26it/s]\n",
      "Training Epoch 721: 100%|██████████| 507/507 [00:16<00:00, 31.30it/s]\n"
     ]
    },
    {
     "name": "stdout",
     "output_type": "stream",
     "text": [
      "Epoch 720 - Train Loss: 0.3256, Train MSE: 0.3259, Train MAE: 0.4174\n",
      "Epoch 720 - Validation Loss: 1.4183, Validation MSE: 1.4222, Validation MAE: 0.8607\n"
     ]
    },
    {
     "name": "stderr",
     "output_type": "stream",
     "text": [
      "Training Epoch 722: 100%|██████████| 507/507 [00:16<00:00, 31.32it/s]\n",
      "Training Epoch 723: 100%|██████████| 507/507 [00:16<00:00, 31.20it/s]\n",
      "Training Epoch 724: 100%|██████████| 507/507 [00:16<00:00, 31.30it/s]\n",
      "Training Epoch 725: 100%|██████████| 507/507 [00:16<00:00, 31.38it/s]\n",
      "Training Epoch 726: 100%|██████████| 507/507 [00:16<00:00, 31.17it/s]\n",
      "Training Epoch 727: 100%|██████████| 507/507 [00:16<00:00, 31.34it/s]\n",
      "Training Epoch 728: 100%|██████████| 507/507 [00:16<00:00, 31.44it/s]\n",
      "Training Epoch 729: 100%|██████████| 507/507 [00:16<00:00, 31.44it/s]\n",
      "Training Epoch 730: 100%|██████████| 507/507 [00:16<00:00, 31.15it/s]\n",
      "Training Epoch 731: 100%|██████████| 507/507 [00:16<00:00, 31.36it/s]\n"
     ]
    },
    {
     "name": "stdout",
     "output_type": "stream",
     "text": [
      "Epoch 730 - Train Loss: 0.3197, Train MSE: 0.3198, Train MAE: 0.4132\n",
      "Epoch 730 - Validation Loss: 1.4158, Validation MSE: 1.4198, Validation MAE: 0.8631\n"
     ]
    },
    {
     "name": "stderr",
     "output_type": "stream",
     "text": [
      "Training Epoch 732: 100%|██████████| 507/507 [00:16<00:00, 31.18it/s]\n",
      "Training Epoch 733: 100%|██████████| 507/507 [00:16<00:00, 31.21it/s]\n",
      "Training Epoch 734: 100%|██████████| 507/507 [00:16<00:00, 31.46it/s]\n",
      "Training Epoch 735: 100%|██████████| 507/507 [00:16<00:00, 31.37it/s]\n",
      "Training Epoch 736: 100%|██████████| 507/507 [00:16<00:00, 31.19it/s]\n",
      "Training Epoch 737: 100%|██████████| 507/507 [00:16<00:00, 31.54it/s]\n",
      "Training Epoch 738: 100%|██████████| 507/507 [00:16<00:00, 31.37it/s]\n",
      "Training Epoch 739: 100%|██████████| 507/507 [00:16<00:00, 31.45it/s]\n",
      "Training Epoch 740: 100%|██████████| 507/507 [00:16<00:00, 31.32it/s]\n",
      "Training Epoch 741: 100%|██████████| 507/507 [00:16<00:00, 31.33it/s]\n"
     ]
    },
    {
     "name": "stdout",
     "output_type": "stream",
     "text": [
      "Epoch 740 - Train Loss: 0.3215, Train MSE: 0.3213, Train MAE: 0.4137\n",
      "Epoch 740 - Validation Loss: 1.4442, Validation MSE: 1.4482, Validation MAE: 0.8680\n"
     ]
    },
    {
     "name": "stderr",
     "output_type": "stream",
     "text": [
      "Training Epoch 742: 100%|██████████| 507/507 [00:16<00:00, 31.38it/s]\n",
      "Training Epoch 743: 100%|██████████| 507/507 [00:16<00:00, 31.34it/s]\n",
      "Training Epoch 744: 100%|██████████| 507/507 [00:16<00:00, 31.39it/s]\n",
      "Training Epoch 745: 100%|██████████| 507/507 [00:16<00:00, 31.34it/s]\n",
      "Training Epoch 746: 100%|██████████| 507/507 [00:16<00:00, 31.33it/s]\n",
      "Training Epoch 747: 100%|██████████| 507/507 [00:16<00:00, 31.35it/s]\n",
      "Training Epoch 748: 100%|██████████| 507/507 [00:16<00:00, 31.20it/s]\n",
      "Training Epoch 749: 100%|██████████| 507/507 [00:16<00:00, 31.35it/s]\n",
      "Training Epoch 750: 100%|██████████| 507/507 [00:16<00:00, 31.27it/s]\n",
      "Training Epoch 751: 100%|██████████| 507/507 [00:16<00:00, 31.36it/s]\n"
     ]
    },
    {
     "name": "stdout",
     "output_type": "stream",
     "text": [
      "Epoch 750 - Train Loss: 0.3177, Train MSE: 0.3178, Train MAE: 0.4119\n",
      "Epoch 750 - Validation Loss: 1.4119, Validation MSE: 1.4159, Validation MAE: 0.8643\n"
     ]
    },
    {
     "name": "stderr",
     "output_type": "stream",
     "text": [
      "Training Epoch 752: 100%|██████████| 507/507 [00:16<00:00, 31.35it/s]\n",
      "Training Epoch 753: 100%|██████████| 507/507 [00:16<00:00, 31.31it/s]\n",
      "Training Epoch 754: 100%|██████████| 507/507 [00:16<00:00, 31.37it/s]\n",
      "Training Epoch 755: 100%|██████████| 507/507 [00:16<00:00, 31.33it/s]\n",
      "Training Epoch 756: 100%|██████████| 507/507 [00:16<00:00, 31.31it/s]\n",
      "Training Epoch 757: 100%|██████████| 507/507 [00:16<00:00, 31.41it/s]\n",
      "Training Epoch 758: 100%|██████████| 507/507 [00:16<00:00, 31.49it/s]\n",
      "Training Epoch 759: 100%|██████████| 507/507 [00:16<00:00, 31.54it/s]\n",
      "Training Epoch 760: 100%|██████████| 507/507 [00:16<00:00, 31.39it/s]\n",
      "Training Epoch 761: 100%|██████████| 507/507 [00:16<00:00, 31.19it/s]\n"
     ]
    },
    {
     "name": "stdout",
     "output_type": "stream",
     "text": [
      "Epoch 760 - Train Loss: 0.3228, Train MSE: 0.3228, Train MAE: 0.4161\n",
      "Epoch 760 - Validation Loss: 1.4215, Validation MSE: 1.4258, Validation MAE: 0.8676\n"
     ]
    },
    {
     "name": "stderr",
     "output_type": "stream",
     "text": [
      "Training Epoch 762: 100%|██████████| 507/507 [00:16<00:00, 31.48it/s]\n",
      "Training Epoch 763: 100%|██████████| 507/507 [00:16<00:00, 31.20it/s]\n",
      "Training Epoch 764: 100%|██████████| 507/507 [00:16<00:00, 31.47it/s]\n",
      "Training Epoch 765: 100%|██████████| 507/507 [00:16<00:00, 31.23it/s]\n",
      "Training Epoch 766: 100%|██████████| 507/507 [00:16<00:00, 31.19it/s]\n",
      "Training Epoch 767: 100%|██████████| 507/507 [00:16<00:00, 31.41it/s]\n",
      "Training Epoch 768: 100%|██████████| 507/507 [00:16<00:00, 31.40it/s]\n",
      "Training Epoch 769: 100%|██████████| 507/507 [00:16<00:00, 31.31it/s]\n",
      "Training Epoch 770: 100%|██████████| 507/507 [00:16<00:00, 31.38it/s]\n",
      "Training Epoch 771: 100%|██████████| 507/507 [00:16<00:00, 31.37it/s]\n"
     ]
    },
    {
     "name": "stdout",
     "output_type": "stream",
     "text": [
      "Epoch 770 - Train Loss: 0.3165, Train MSE: 0.3163, Train MAE: 0.4098\n",
      "Epoch 770 - Validation Loss: 1.4318, Validation MSE: 1.4354, Validation MAE: 0.8609\n"
     ]
    },
    {
     "name": "stderr",
     "output_type": "stream",
     "text": [
      "Training Epoch 772: 100%|██████████| 507/507 [00:16<00:00, 31.30it/s]\n",
      "Training Epoch 773: 100%|██████████| 507/507 [00:16<00:00, 31.26it/s]\n",
      "Training Epoch 774: 100%|██████████| 507/507 [00:16<00:00, 31.20it/s]\n",
      "Training Epoch 775: 100%|██████████| 507/507 [00:16<00:00, 31.28it/s]\n",
      "Training Epoch 776: 100%|██████████| 507/507 [00:16<00:00, 31.32it/s]\n",
      "Training Epoch 777: 100%|██████████| 507/507 [00:16<00:00, 31.50it/s]\n",
      "Training Epoch 778: 100%|██████████| 507/507 [00:16<00:00, 31.50it/s]\n",
      "Training Epoch 779: 100%|██████████| 507/507 [00:16<00:00, 31.23it/s]\n",
      "Training Epoch 780: 100%|██████████| 507/507 [00:16<00:00, 31.37it/s]\n",
      "Training Epoch 781: 100%|██████████| 507/507 [00:16<00:00, 31.38it/s]\n"
     ]
    },
    {
     "name": "stdout",
     "output_type": "stream",
     "text": [
      "Epoch 780 - Train Loss: 0.3280, Train MSE: 0.3280, Train MAE: 0.4172\n",
      "Epoch 780 - Validation Loss: 1.4019, Validation MSE: 1.4059, Validation MAE: 0.8625\n"
     ]
    },
    {
     "name": "stderr",
     "output_type": "stream",
     "text": [
      "Training Epoch 782: 100%|██████████| 507/507 [00:16<00:00, 31.39it/s]\n",
      "Training Epoch 783: 100%|██████████| 507/507 [00:16<00:00, 31.21it/s]\n",
      "Training Epoch 784: 100%|██████████| 507/507 [00:16<00:00, 31.45it/s]\n",
      "Training Epoch 785: 100%|██████████| 507/507 [00:16<00:00, 30.08it/s]\n",
      "Training Epoch 786: 100%|██████████| 507/507 [00:16<00:00, 31.41it/s]\n",
      "Training Epoch 787: 100%|██████████| 507/507 [00:16<00:00, 31.60it/s]\n",
      "Training Epoch 788: 100%|██████████| 507/507 [00:16<00:00, 31.47it/s]\n",
      "Training Epoch 789: 100%|██████████| 507/507 [00:16<00:00, 31.42it/s]\n",
      "Training Epoch 790: 100%|██████████| 507/507 [00:16<00:00, 31.42it/s]\n",
      "Training Epoch 791: 100%|██████████| 507/507 [00:16<00:00, 31.40it/s]\n"
     ]
    },
    {
     "name": "stdout",
     "output_type": "stream",
     "text": [
      "Epoch 790 - Train Loss: 0.3177, Train MSE: 0.3177, Train MAE: 0.4125\n",
      "Epoch 790 - Validation Loss: 1.4303, Validation MSE: 1.4344, Validation MAE: 0.8667\n"
     ]
    },
    {
     "name": "stderr",
     "output_type": "stream",
     "text": [
      "Training Epoch 792: 100%|██████████| 507/507 [00:16<00:00, 31.35it/s]\n",
      "Training Epoch 793: 100%|██████████| 507/507 [00:16<00:00, 31.42it/s]\n",
      "Training Epoch 794: 100%|██████████| 507/507 [00:16<00:00, 31.44it/s]\n",
      "Training Epoch 795: 100%|██████████| 507/507 [00:16<00:00, 31.33it/s]\n",
      "Training Epoch 796: 100%|██████████| 507/507 [00:16<00:00, 31.36it/s]\n",
      "Training Epoch 797: 100%|██████████| 507/507 [00:16<00:00, 31.46it/s]\n",
      "Training Epoch 798: 100%|██████████| 507/507 [00:16<00:00, 31.47it/s]\n",
      "Training Epoch 799: 100%|██████████| 507/507 [00:16<00:00, 31.10it/s]\n",
      "Training Epoch 800: 100%|██████████| 507/507 [00:16<00:00, 31.32it/s]\n",
      "Training Epoch 801: 100%|██████████| 507/507 [00:16<00:00, 31.31it/s]\n"
     ]
    },
    {
     "name": "stdout",
     "output_type": "stream",
     "text": [
      "Epoch 800 - Train Loss: 0.3110, Train MSE: 0.3113, Train MAE: 0.4056\n",
      "Epoch 800 - Validation Loss: 1.4063, Validation MSE: 1.4097, Validation MAE: 0.8642\n"
     ]
    },
    {
     "name": "stderr",
     "output_type": "stream",
     "text": [
      "Training Epoch 802: 100%|██████████| 507/507 [00:16<00:00, 31.52it/s]\n",
      "Training Epoch 803: 100%|██████████| 507/507 [00:16<00:00, 31.39it/s]\n",
      "Training Epoch 804: 100%|██████████| 507/507 [00:16<00:00, 31.46it/s]\n",
      "Training Epoch 805: 100%|██████████| 507/507 [00:16<00:00, 31.62it/s]\n",
      "Training Epoch 806: 100%|██████████| 507/507 [00:16<00:00, 31.32it/s]\n",
      "Training Epoch 807: 100%|██████████| 507/507 [00:16<00:00, 31.44it/s]\n",
      "Training Epoch 808: 100%|██████████| 507/507 [00:16<00:00, 31.36it/s]\n",
      "Training Epoch 809: 100%|██████████| 507/507 [00:16<00:00, 31.38it/s]\n",
      "Training Epoch 810: 100%|██████████| 507/507 [00:16<00:00, 31.42it/s]\n",
      "Training Epoch 811: 100%|██████████| 507/507 [00:16<00:00, 31.29it/s]\n"
     ]
    },
    {
     "name": "stdout",
     "output_type": "stream",
     "text": [
      "Epoch 810 - Train Loss: 0.3180, Train MSE: 0.3179, Train MAE: 0.4112\n",
      "Epoch 810 - Validation Loss: 1.4177, Validation MSE: 1.4216, Validation MAE: 0.8635\n"
     ]
    },
    {
     "name": "stderr",
     "output_type": "stream",
     "text": [
      "Training Epoch 812: 100%|██████████| 507/507 [00:16<00:00, 31.43it/s]\n",
      "Training Epoch 813: 100%|██████████| 507/507 [00:16<00:00, 31.38it/s]\n",
      "Training Epoch 814: 100%|██████████| 507/507 [00:16<00:00, 31.38it/s]\n",
      "Training Epoch 815: 100%|██████████| 507/507 [00:16<00:00, 31.34it/s]\n",
      "Training Epoch 816: 100%|██████████| 507/507 [00:16<00:00, 31.38it/s]\n",
      "Training Epoch 817: 100%|██████████| 507/507 [00:16<00:00, 31.33it/s]\n",
      "Training Epoch 818: 100%|██████████| 507/507 [00:16<00:00, 31.32it/s]\n",
      "Training Epoch 819: 100%|██████████| 507/507 [00:16<00:00, 31.46it/s]\n",
      "Training Epoch 820: 100%|██████████| 507/507 [00:16<00:00, 31.41it/s]\n",
      "Training Epoch 821: 100%|██████████| 507/507 [00:16<00:00, 31.35it/s]\n"
     ]
    },
    {
     "name": "stdout",
     "output_type": "stream",
     "text": [
      "Epoch 820 - Train Loss: 0.3105, Train MSE: 0.3101, Train MAE: 0.4064\n",
      "Epoch 820 - Validation Loss: 1.4014, Validation MSE: 1.4053, Validation MAE: 0.8597\n"
     ]
    },
    {
     "name": "stderr",
     "output_type": "stream",
     "text": [
      "Training Epoch 822: 100%|██████████| 507/507 [00:16<00:00, 31.41it/s]\n",
      "Training Epoch 823: 100%|██████████| 507/507 [00:16<00:00, 31.39it/s]\n",
      "Training Epoch 824: 100%|██████████| 507/507 [00:16<00:00, 31.41it/s]\n",
      "Training Epoch 825: 100%|██████████| 507/507 [00:16<00:00, 31.37it/s]\n",
      "Training Epoch 826: 100%|██████████| 507/507 [00:16<00:00, 31.29it/s]\n",
      "Training Epoch 827: 100%|██████████| 507/507 [00:16<00:00, 31.42it/s]\n",
      "Training Epoch 828: 100%|██████████| 507/507 [00:16<00:00, 31.44it/s]\n",
      "Training Epoch 829: 100%|██████████| 507/507 [00:16<00:00, 31.37it/s]\n",
      "Training Epoch 830: 100%|██████████| 507/507 [00:16<00:00, 31.40it/s]\n",
      "Training Epoch 831: 100%|██████████| 507/507 [00:16<00:00, 31.39it/s]\n"
     ]
    },
    {
     "name": "stdout",
     "output_type": "stream",
     "text": [
      "Epoch 830 - Train Loss: 0.3102, Train MSE: 0.3100, Train MAE: 0.4047\n",
      "Epoch 830 - Validation Loss: 1.4040, Validation MSE: 1.4078, Validation MAE: 0.8582\n"
     ]
    },
    {
     "name": "stderr",
     "output_type": "stream",
     "text": [
      "Training Epoch 832: 100%|██████████| 507/507 [00:16<00:00, 31.43it/s]\n",
      "Training Epoch 833: 100%|██████████| 507/507 [00:16<00:00, 31.40it/s]\n",
      "Training Epoch 834: 100%|██████████| 507/507 [00:16<00:00, 31.43it/s]\n",
      "Training Epoch 835: 100%|██████████| 507/507 [00:16<00:00, 31.38it/s]\n",
      "Training Epoch 836: 100%|██████████| 507/507 [00:16<00:00, 31.46it/s]\n",
      "Training Epoch 837: 100%|██████████| 507/507 [00:16<00:00, 31.46it/s]\n",
      "Training Epoch 838: 100%|██████████| 507/507 [00:16<00:00, 31.39it/s]\n",
      "Training Epoch 839: 100%|██████████| 507/507 [00:16<00:00, 31.34it/s]\n",
      "Training Epoch 840: 100%|██████████| 507/507 [00:16<00:00, 31.50it/s]\n",
      "Training Epoch 841: 100%|██████████| 507/507 [00:16<00:00, 31.45it/s]\n"
     ]
    },
    {
     "name": "stdout",
     "output_type": "stream",
     "text": [
      "Epoch 840 - Train Loss: 0.3133, Train MSE: 0.3132, Train MAE: 0.4079\n",
      "Epoch 840 - Validation Loss: 1.4152, Validation MSE: 1.4190, Validation MAE: 0.8677\n"
     ]
    },
    {
     "name": "stderr",
     "output_type": "stream",
     "text": [
      "Training Epoch 842: 100%|██████████| 507/507 [00:16<00:00, 31.22it/s]\n",
      "Training Epoch 843: 100%|██████████| 507/507 [00:16<00:00, 31.54it/s]\n",
      "Training Epoch 844: 100%|██████████| 507/507 [00:16<00:00, 31.39it/s]\n",
      "Training Epoch 845: 100%|██████████| 507/507 [00:16<00:00, 31.47it/s]\n",
      "Training Epoch 846: 100%|██████████| 507/507 [00:16<00:00, 31.41it/s]\n",
      "Training Epoch 847: 100%|██████████| 507/507 [00:16<00:00, 31.46it/s]\n",
      "Training Epoch 848: 100%|██████████| 507/507 [00:16<00:00, 31.48it/s]\n",
      "Training Epoch 849: 100%|██████████| 507/507 [00:16<00:00, 31.55it/s]\n",
      "Training Epoch 850: 100%|██████████| 507/507 [00:16<00:00, 31.58it/s]\n",
      "Training Epoch 851: 100%|██████████| 507/507 [00:16<00:00, 31.39it/s]\n"
     ]
    },
    {
     "name": "stdout",
     "output_type": "stream",
     "text": [
      "Epoch 850 - Train Loss: 0.3089, Train MSE: 0.3085, Train MAE: 0.4085\n",
      "Epoch 850 - Validation Loss: 1.4019, Validation MSE: 1.4058, Validation MAE: 0.8588\n"
     ]
    },
    {
     "name": "stderr",
     "output_type": "stream",
     "text": [
      "Training Epoch 852: 100%|██████████| 507/507 [00:16<00:00, 31.55it/s]\n",
      "Training Epoch 853: 100%|██████████| 507/507 [00:16<00:00, 31.56it/s]\n",
      "Training Epoch 854: 100%|██████████| 507/507 [00:16<00:00, 31.60it/s]\n",
      "Training Epoch 855: 100%|██████████| 507/507 [00:16<00:00, 31.31it/s]\n",
      "Training Epoch 856: 100%|██████████| 507/507 [00:16<00:00, 31.34it/s]\n",
      "Training Epoch 857: 100%|██████████| 507/507 [00:16<00:00, 31.24it/s]\n",
      "Training Epoch 858: 100%|██████████| 507/507 [00:16<00:00, 31.44it/s]\n",
      "Training Epoch 859: 100%|██████████| 507/507 [00:16<00:00, 31.37it/s]\n",
      "Training Epoch 860: 100%|██████████| 507/507 [00:16<00:00, 31.57it/s]\n",
      "Training Epoch 861: 100%|██████████| 507/507 [00:16<00:00, 31.36it/s]\n"
     ]
    },
    {
     "name": "stdout",
     "output_type": "stream",
     "text": [
      "Epoch 860 - Train Loss: 0.3045, Train MSE: 0.3047, Train MAE: 0.4022\n",
      "Epoch 860 - Validation Loss: 1.4159, Validation MSE: 1.4200, Validation MAE: 0.8685\n"
     ]
    },
    {
     "name": "stderr",
     "output_type": "stream",
     "text": [
      "Training Epoch 862: 100%|██████████| 507/507 [00:16<00:00, 31.21it/s]\n",
      "Training Epoch 863: 100%|██████████| 507/507 [00:16<00:00, 31.44it/s]\n",
      "Training Epoch 864: 100%|██████████| 507/507 [00:16<00:00, 31.46it/s]\n",
      "Training Epoch 865: 100%|██████████| 507/507 [00:16<00:00, 31.50it/s]\n",
      "Training Epoch 866: 100%|██████████| 507/507 [00:16<00:00, 31.40it/s]\n",
      "Training Epoch 867: 100%|██████████| 507/507 [00:16<00:00, 31.45it/s]\n",
      "Training Epoch 868: 100%|██████████| 507/507 [00:16<00:00, 31.53it/s]\n",
      "Training Epoch 869: 100%|██████████| 507/507 [00:16<00:00, 31.34it/s]\n",
      "Training Epoch 870: 100%|██████████| 507/507 [00:16<00:00, 31.52it/s]\n",
      "Training Epoch 871: 100%|██████████| 507/507 [00:16<00:00, 31.43it/s]\n"
     ]
    },
    {
     "name": "stdout",
     "output_type": "stream",
     "text": [
      "Epoch 870 - Train Loss: 0.3066, Train MSE: 0.3065, Train MAE: 0.4037\n",
      "Epoch 870 - Validation Loss: 1.4450, Validation MSE: 1.4490, Validation MAE: 0.8689\n"
     ]
    },
    {
     "name": "stderr",
     "output_type": "stream",
     "text": [
      "Training Epoch 872: 100%|██████████| 507/507 [00:16<00:00, 31.47it/s]\n",
      "Training Epoch 873: 100%|██████████| 507/507 [00:16<00:00, 31.27it/s]\n",
      "Training Epoch 874: 100%|██████████| 507/507 [00:16<00:00, 31.49it/s]\n",
      "Training Epoch 875: 100%|██████████| 507/507 [00:16<00:00, 31.43it/s]\n",
      "Training Epoch 876: 100%|██████████| 507/507 [00:16<00:00, 31.28it/s]\n",
      "Training Epoch 877: 100%|██████████| 507/507 [00:16<00:00, 31.45it/s]\n",
      "Training Epoch 878: 100%|██████████| 507/507 [00:16<00:00, 31.50it/s]\n",
      "Training Epoch 879: 100%|██████████| 507/507 [00:16<00:00, 31.51it/s]\n",
      "Training Epoch 880: 100%|██████████| 507/507 [00:16<00:00, 31.46it/s]\n",
      "Training Epoch 881: 100%|██████████| 507/507 [00:16<00:00, 31.46it/s]\n"
     ]
    },
    {
     "name": "stdout",
     "output_type": "stream",
     "text": [
      "Epoch 880 - Train Loss: 0.3091, Train MSE: 0.3093, Train MAE: 0.4025\n",
      "Epoch 880 - Validation Loss: 1.3918, Validation MSE: 1.3955, Validation MAE: 0.8541\n"
     ]
    },
    {
     "name": "stderr",
     "output_type": "stream",
     "text": [
      "Training Epoch 882: 100%|██████████| 507/507 [00:16<00:00, 31.29it/s]\n",
      "Training Epoch 883: 100%|██████████| 507/507 [00:16<00:00, 31.50it/s]\n",
      "Training Epoch 884: 100%|██████████| 507/507 [00:16<00:00, 31.51it/s]\n",
      "Training Epoch 885: 100%|██████████| 507/507 [00:16<00:00, 31.42it/s]\n",
      "Training Epoch 886: 100%|██████████| 507/507 [00:16<00:00, 31.32it/s]\n",
      "Training Epoch 887: 100%|██████████| 507/507 [00:16<00:00, 31.32it/s]\n",
      "Training Epoch 888: 100%|██████████| 507/507 [00:16<00:00, 31.38it/s]\n",
      "Training Epoch 889: 100%|██████████| 507/507 [00:16<00:00, 31.18it/s]\n",
      "Training Epoch 890: 100%|██████████| 507/507 [00:16<00:00, 31.30it/s]\n",
      "Training Epoch 891: 100%|██████████| 507/507 [00:16<00:00, 31.36it/s]\n"
     ]
    },
    {
     "name": "stdout",
     "output_type": "stream",
     "text": [
      "Epoch 890 - Train Loss: 0.3064, Train MSE: 0.3061, Train MAE: 0.4038\n",
      "Epoch 890 - Validation Loss: 1.4421, Validation MSE: 1.4461, Validation MAE: 0.8679\n"
     ]
    },
    {
     "name": "stderr",
     "output_type": "stream",
     "text": [
      "Training Epoch 892: 100%|██████████| 507/507 [00:16<00:00, 31.29it/s]\n",
      "Training Epoch 893: 100%|██████████| 507/507 [00:16<00:00, 31.20it/s]\n",
      "Training Epoch 894: 100%|██████████| 507/507 [00:16<00:00, 31.34it/s]\n",
      "Training Epoch 895: 100%|██████████| 507/507 [00:16<00:00, 31.21it/s]\n",
      "Training Epoch 896: 100%|██████████| 507/507 [00:16<00:00, 31.30it/s]\n",
      "Training Epoch 897: 100%|██████████| 507/507 [00:16<00:00, 31.28it/s]\n",
      "Training Epoch 898: 100%|██████████| 507/507 [00:16<00:00, 31.19it/s]\n",
      "Training Epoch 899: 100%|██████████| 507/507 [00:16<00:00, 31.23it/s]\n",
      "Training Epoch 900: 100%|██████████| 507/507 [00:16<00:00, 31.26it/s]\n",
      "Training Epoch 901: 100%|██████████| 507/507 [00:16<00:00, 31.25it/s]\n"
     ]
    },
    {
     "name": "stdout",
     "output_type": "stream",
     "text": [
      "Epoch 900 - Train Loss: 0.3059, Train MSE: 0.3058, Train MAE: 0.4013\n",
      "Epoch 900 - Validation Loss: 1.4058, Validation MSE: 1.4100, Validation MAE: 0.8590\n"
     ]
    },
    {
     "name": "stderr",
     "output_type": "stream",
     "text": [
      "Training Epoch 902: 100%|██████████| 507/507 [00:16<00:00, 31.23it/s]\n",
      "Training Epoch 903: 100%|██████████| 507/507 [00:16<00:00, 31.42it/s]\n",
      "Training Epoch 904: 100%|██████████| 507/507 [00:16<00:00, 31.18it/s]\n",
      "Training Epoch 905: 100%|██████████| 507/507 [00:16<00:00, 31.31it/s]\n",
      "Training Epoch 906: 100%|██████████| 507/507 [00:16<00:00, 31.26it/s]\n",
      "Training Epoch 907: 100%|██████████| 507/507 [00:16<00:00, 31.30it/s]\n",
      "Training Epoch 908: 100%|██████████| 507/507 [00:16<00:00, 31.16it/s]\n",
      "Training Epoch 909: 100%|██████████| 507/507 [00:16<00:00, 31.28it/s]\n",
      "Training Epoch 910: 100%|██████████| 507/507 [00:16<00:00, 31.40it/s]\n",
      "Training Epoch 911: 100%|██████████| 507/507 [00:16<00:00, 31.29it/s]\n"
     ]
    },
    {
     "name": "stdout",
     "output_type": "stream",
     "text": [
      "Epoch 910 - Train Loss: 0.2982, Train MSE: 0.2983, Train MAE: 0.4007\n",
      "Epoch 910 - Validation Loss: 1.3947, Validation MSE: 1.3985, Validation MAE: 0.8567\n"
     ]
    },
    {
     "name": "stderr",
     "output_type": "stream",
     "text": [
      "Training Epoch 912: 100%|██████████| 507/507 [00:16<00:00, 31.26it/s]\n",
      "Training Epoch 913: 100%|██████████| 507/507 [00:16<00:00, 31.15it/s]\n",
      "Training Epoch 914: 100%|██████████| 507/507 [00:16<00:00, 31.23it/s]\n",
      "Training Epoch 915: 100%|██████████| 507/507 [00:16<00:00, 31.21it/s]\n",
      "Training Epoch 916: 100%|██████████| 507/507 [00:16<00:00, 31.29it/s]\n",
      "Training Epoch 917: 100%|██████████| 507/507 [00:16<00:00, 31.47it/s]\n",
      "Training Epoch 918: 100%|██████████| 507/507 [00:16<00:00, 31.32it/s]\n",
      "Training Epoch 919: 100%|██████████| 507/507 [00:16<00:00, 31.28it/s]\n",
      "Training Epoch 920: 100%|██████████| 507/507 [00:16<00:00, 31.32it/s]\n",
      "Training Epoch 921: 100%|██████████| 507/507 [00:16<00:00, 31.24it/s]\n"
     ]
    },
    {
     "name": "stdout",
     "output_type": "stream",
     "text": [
      "Epoch 920 - Train Loss: 0.3010, Train MSE: 0.3011, Train MAE: 0.4018\n",
      "Epoch 920 - Validation Loss: 1.3956, Validation MSE: 1.3985, Validation MAE: 0.8536\n"
     ]
    },
    {
     "name": "stderr",
     "output_type": "stream",
     "text": [
      "Training Epoch 922: 100%|██████████| 507/507 [00:16<00:00, 31.15it/s]\n",
      "Training Epoch 923: 100%|██████████| 507/507 [00:16<00:00, 31.34it/s]\n",
      "Training Epoch 924: 100%|██████████| 507/507 [00:16<00:00, 31.23it/s]\n",
      "Training Epoch 925: 100%|██████████| 507/507 [00:16<00:00, 31.08it/s]\n",
      "Training Epoch 926: 100%|██████████| 507/507 [00:16<00:00, 31.23it/s]\n",
      "Training Epoch 927: 100%|██████████| 507/507 [00:16<00:00, 31.28it/s]\n",
      "Training Epoch 928: 100%|██████████| 507/507 [00:16<00:00, 31.43it/s]\n",
      "Training Epoch 929: 100%|██████████| 507/507 [00:16<00:00, 31.27it/s]\n",
      "Training Epoch 930: 100%|██████████| 507/507 [00:16<00:00, 31.35it/s]\n",
      "Training Epoch 931: 100%|██████████| 507/507 [00:16<00:00, 31.24it/s]\n"
     ]
    },
    {
     "name": "stdout",
     "output_type": "stream",
     "text": [
      "Epoch 930 - Train Loss: 0.3028, Train MSE: 0.3027, Train MAE: 0.3981\n",
      "Epoch 930 - Validation Loss: 1.3993, Validation MSE: 1.4030, Validation MAE: 0.8635\n"
     ]
    },
    {
     "name": "stderr",
     "output_type": "stream",
     "text": [
      "Training Epoch 932: 100%|██████████| 507/507 [00:16<00:00, 31.23it/s]\n",
      "Training Epoch 933: 100%|██████████| 507/507 [00:16<00:00, 31.18it/s]\n",
      "Training Epoch 934: 100%|██████████| 507/507 [00:16<00:00, 31.24it/s]\n",
      "Training Epoch 935: 100%|██████████| 507/507 [00:16<00:00, 31.16it/s]\n",
      "Training Epoch 936: 100%|██████████| 507/507 [00:16<00:00, 31.30it/s]\n",
      "Training Epoch 937: 100%|██████████| 507/507 [00:16<00:00, 31.48it/s]\n",
      "Training Epoch 938: 100%|██████████| 507/507 [00:16<00:00, 31.16it/s]\n",
      "Training Epoch 939: 100%|██████████| 507/507 [00:16<00:00, 31.15it/s]\n",
      "Training Epoch 940: 100%|██████████| 507/507 [00:16<00:00, 31.15it/s]\n",
      "Training Epoch 941: 100%|██████████| 507/507 [00:16<00:00, 31.35it/s]\n"
     ]
    },
    {
     "name": "stdout",
     "output_type": "stream",
     "text": [
      "Epoch 940 - Train Loss: 0.2983, Train MSE: 0.2983, Train MAE: 0.3963\n",
      "Epoch 940 - Validation Loss: 1.4084, Validation MSE: 1.4121, Validation MAE: 0.8579\n"
     ]
    },
    {
     "name": "stderr",
     "output_type": "stream",
     "text": [
      "Training Epoch 942: 100%|██████████| 507/507 [00:16<00:00, 31.32it/s]\n",
      "Training Epoch 943: 100%|██████████| 507/507 [00:16<00:00, 31.38it/s]\n",
      "Training Epoch 944: 100%|██████████| 507/507 [00:16<00:00, 31.21it/s]\n",
      "Training Epoch 945: 100%|██████████| 507/507 [00:16<00:00, 31.20it/s]\n",
      "Training Epoch 946: 100%|██████████| 507/507 [00:16<00:00, 31.27it/s]\n",
      "Training Epoch 947: 100%|██████████| 507/507 [00:16<00:00, 31.27it/s]\n",
      "Training Epoch 948: 100%|██████████| 507/507 [00:16<00:00, 31.28it/s]\n",
      "Training Epoch 949: 100%|██████████| 507/507 [00:16<00:00, 31.17it/s]\n",
      "Training Epoch 950: 100%|██████████| 507/507 [00:16<00:00, 31.33it/s]\n",
      "Training Epoch 951: 100%|██████████| 507/507 [00:16<00:00, 31.37it/s]\n"
     ]
    },
    {
     "name": "stdout",
     "output_type": "stream",
     "text": [
      "Epoch 950 - Train Loss: 0.2973, Train MSE: 0.2973, Train MAE: 0.3932\n",
      "Epoch 950 - Validation Loss: 1.4044, Validation MSE: 1.4083, Validation MAE: 0.8550\n"
     ]
    },
    {
     "name": "stderr",
     "output_type": "stream",
     "text": [
      "Training Epoch 952: 100%|██████████| 507/507 [00:16<00:00, 31.12it/s]\n",
      "Training Epoch 953: 100%|██████████| 507/507 [00:16<00:00, 31.37it/s]\n",
      "Training Epoch 954: 100%|██████████| 507/507 [00:16<00:00, 31.34it/s]\n",
      "Training Epoch 955: 100%|██████████| 507/507 [00:16<00:00, 31.21it/s]\n",
      "Training Epoch 956: 100%|██████████| 507/507 [00:16<00:00, 31.27it/s]\n",
      "Training Epoch 957: 100%|██████████| 507/507 [00:16<00:00, 31.25it/s]\n",
      "Training Epoch 958: 100%|██████████| 507/507 [00:16<00:00, 31.33it/s]\n",
      "Training Epoch 959: 100%|██████████| 507/507 [00:16<00:00, 31.32it/s]\n",
      "Training Epoch 960: 100%|██████████| 507/507 [00:16<00:00, 31.34it/s]\n",
      "Training Epoch 961: 100%|██████████| 507/507 [00:16<00:00, 31.34it/s]\n"
     ]
    },
    {
     "name": "stdout",
     "output_type": "stream",
     "text": [
      "Epoch 960 - Train Loss: 0.2917, Train MSE: 0.2916, Train MAE: 0.3933\n",
      "Epoch 960 - Validation Loss: 1.4083, Validation MSE: 1.4120, Validation MAE: 0.8595\n"
     ]
    },
    {
     "name": "stderr",
     "output_type": "stream",
     "text": [
      "Training Epoch 962: 100%|██████████| 507/507 [00:16<00:00, 31.19it/s]\n",
      "Training Epoch 963: 100%|██████████| 507/507 [00:16<00:00, 31.22it/s]\n",
      "Training Epoch 964: 100%|██████████| 507/507 [00:16<00:00, 31.35it/s]\n",
      "Training Epoch 965: 100%|██████████| 507/507 [00:16<00:00, 31.34it/s]\n",
      "Training Epoch 966: 100%|██████████| 507/507 [00:16<00:00, 31.20it/s]\n",
      "Training Epoch 967: 100%|██████████| 507/507 [00:16<00:00, 31.25it/s]\n",
      "Training Epoch 968: 100%|██████████| 507/507 [00:16<00:00, 31.25it/s]\n",
      "Training Epoch 969: 100%|██████████| 507/507 [00:16<00:00, 31.31it/s]\n",
      "Training Epoch 970: 100%|██████████| 507/507 [00:16<00:00, 31.30it/s]\n",
      "Training Epoch 971: 100%|██████████| 507/507 [00:16<00:00, 31.23it/s]\n"
     ]
    },
    {
     "name": "stdout",
     "output_type": "stream",
     "text": [
      "Epoch 970 - Train Loss: 0.2960, Train MSE: 0.2962, Train MAE: 0.3956\n",
      "Epoch 970 - Validation Loss: 1.4107, Validation MSE: 1.4146, Validation MAE: 0.8584\n"
     ]
    },
    {
     "name": "stderr",
     "output_type": "stream",
     "text": [
      "Training Epoch 972: 100%|██████████| 507/507 [00:16<00:00, 31.32it/s]\n",
      "Training Epoch 973: 100%|██████████| 507/507 [00:16<00:00, 31.21it/s]\n",
      "Training Epoch 974: 100%|██████████| 507/507 [00:16<00:00, 31.56it/s]\n",
      "Training Epoch 975: 100%|██████████| 507/507 [00:16<00:00, 31.59it/s]\n",
      "Training Epoch 976: 100%|██████████| 507/507 [00:16<00:00, 31.35it/s]\n",
      "Training Epoch 977: 100%|██████████| 507/507 [00:16<00:00, 31.42it/s]\n",
      "Training Epoch 978: 100%|██████████| 507/507 [00:16<00:00, 31.24it/s]\n",
      "Training Epoch 979: 100%|██████████| 507/507 [00:16<00:00, 31.43it/s]\n",
      "Training Epoch 980: 100%|██████████| 507/507 [00:16<00:00, 31.40it/s]\n",
      "Training Epoch 981: 100%|██████████| 507/507 [00:16<00:00, 31.29it/s]\n"
     ]
    },
    {
     "name": "stdout",
     "output_type": "stream",
     "text": [
      "Epoch 980 - Train Loss: 0.2961, Train MSE: 0.2961, Train MAE: 0.3940\n",
      "Epoch 980 - Validation Loss: 1.4215, Validation MSE: 1.4255, Validation MAE: 0.8593\n"
     ]
    },
    {
     "name": "stderr",
     "output_type": "stream",
     "text": [
      "Training Epoch 982: 100%|██████████| 507/507 [00:16<00:00, 31.31it/s]\n",
      "Training Epoch 983: 100%|██████████| 507/507 [00:16<00:00, 31.26it/s]\n",
      "Training Epoch 984: 100%|██████████| 507/507 [00:16<00:00, 31.32it/s]\n",
      "Training Epoch 985: 100%|██████████| 507/507 [00:16<00:00, 31.24it/s]\n",
      "Training Epoch 986: 100%|██████████| 507/507 [00:16<00:00, 31.54it/s]\n",
      "Training Epoch 987: 100%|██████████| 507/507 [00:16<00:00, 31.25it/s]\n",
      "Training Epoch 988: 100%|██████████| 507/507 [00:16<00:00, 31.31it/s]\n",
      "Training Epoch 989: 100%|██████████| 507/507 [00:16<00:00, 31.46it/s]\n",
      "Training Epoch 990: 100%|██████████| 507/507 [00:16<00:00, 31.30it/s]\n",
      "Training Epoch 991: 100%|██████████| 507/507 [00:16<00:00, 31.28it/s]\n"
     ]
    },
    {
     "name": "stdout",
     "output_type": "stream",
     "text": [
      "Epoch 990 - Train Loss: 0.2977, Train MSE: 0.2975, Train MAE: 0.3956\n",
      "Epoch 990 - Validation Loss: 1.3899, Validation MSE: 1.3940, Validation MAE: 0.8562\n"
     ]
    },
    {
     "name": "stderr",
     "output_type": "stream",
     "text": [
      "Training Epoch 992: 100%|██████████| 507/507 [00:16<00:00, 31.29it/s]\n",
      "Training Epoch 993: 100%|██████████| 507/507 [00:16<00:00, 31.28it/s]\n",
      "Training Epoch 994: 100%|██████████| 507/507 [00:16<00:00, 31.31it/s]\n",
      "Training Epoch 995: 100%|██████████| 507/507 [00:16<00:00, 31.22it/s]\n",
      "Training Epoch 996: 100%|██████████| 507/507 [00:16<00:00, 31.15it/s]\n",
      "Training Epoch 997: 100%|██████████| 507/507 [00:16<00:00, 31.27it/s]\n",
      "Training Epoch 998: 100%|██████████| 507/507 [00:16<00:00, 31.23it/s]\n",
      "Training Epoch 999: 100%|██████████| 507/507 [00:16<00:00, 31.41it/s]\n",
      "Training Epoch 1000: 100%|██████████| 507/507 [00:16<00:00, 31.24it/s]\n",
      "Training Epoch 1001: 100%|██████████| 507/507 [00:16<00:00, 31.24it/s]\n"
     ]
    },
    {
     "name": "stdout",
     "output_type": "stream",
     "text": [
      "Epoch 1000 - Train Loss: 0.2921, Train MSE: 0.2920, Train MAE: 0.3940\n",
      "Epoch 1000 - Validation Loss: 1.3959, Validation MSE: 1.3999, Validation MAE: 0.8523\n"
     ]
    },
    {
     "name": "stderr",
     "output_type": "stream",
     "text": [
      "Training Epoch 1002: 100%|██████████| 507/507 [00:16<00:00, 31.31it/s]\n",
      "Training Epoch 1003: 100%|██████████| 507/507 [00:16<00:00, 31.31it/s]\n",
      "Training Epoch 1004: 100%|██████████| 507/507 [00:16<00:00, 31.34it/s]\n",
      "Training Epoch 1005: 100%|██████████| 507/507 [00:16<00:00, 31.21it/s]\n",
      "Training Epoch 1006: 100%|██████████| 507/507 [00:16<00:00, 31.31it/s]\n",
      "Training Epoch 1007: 100%|██████████| 507/507 [00:16<00:00, 31.38it/s]\n",
      "Training Epoch 1008: 100%|██████████| 507/507 [00:16<00:00, 31.40it/s]\n",
      "Training Epoch 1009: 100%|██████████| 507/507 [00:16<00:00, 31.45it/s]\n",
      "Training Epoch 1010: 100%|██████████| 507/507 [00:16<00:00, 31.29it/s]\n",
      "Training Epoch 1011: 100%|██████████| 507/507 [00:16<00:00, 31.35it/s]\n"
     ]
    },
    {
     "name": "stdout",
     "output_type": "stream",
     "text": [
      "Epoch 1010 - Train Loss: 0.2958, Train MSE: 0.2955, Train MAE: 0.3933\n",
      "Epoch 1010 - Validation Loss: 1.4382, Validation MSE: 1.4425, Validation MAE: 0.8634\n"
     ]
    },
    {
     "name": "stderr",
     "output_type": "stream",
     "text": [
      "Training Epoch 1012: 100%|██████████| 507/507 [00:16<00:00, 31.39it/s]\n",
      "Training Epoch 1013: 100%|██████████| 507/507 [00:16<00:00, 31.29it/s]\n",
      "Training Epoch 1014: 100%|██████████| 507/507 [00:16<00:00, 31.31it/s]\n",
      "Training Epoch 1015: 100%|██████████| 507/507 [00:16<00:00, 31.28it/s]\n",
      "Training Epoch 1016: 100%|██████████| 507/507 [00:16<00:00, 31.25it/s]\n",
      "Training Epoch 1017: 100%|██████████| 507/507 [00:16<00:00, 31.31it/s]\n",
      "Training Epoch 1018: 100%|██████████| 507/507 [00:16<00:00, 31.15it/s]\n",
      "Training Epoch 1019: 100%|██████████| 507/507 [00:16<00:00, 31.27it/s]\n",
      "Training Epoch 1020: 100%|██████████| 507/507 [00:16<00:00, 31.34it/s]\n",
      "Training Epoch 1021: 100%|██████████| 507/507 [00:16<00:00, 31.33it/s]\n"
     ]
    },
    {
     "name": "stdout",
     "output_type": "stream",
     "text": [
      "Epoch 1020 - Train Loss: 0.2893, Train MSE: 0.2895, Train MAE: 0.3911\n",
      "Epoch 1020 - Validation Loss: 1.3966, Validation MSE: 1.4004, Validation MAE: 0.8559\n"
     ]
    },
    {
     "name": "stderr",
     "output_type": "stream",
     "text": [
      "Training Epoch 1022: 100%|██████████| 507/507 [00:16<00:00, 31.26it/s]\n",
      "Training Epoch 1023: 100%|██████████| 507/507 [00:16<00:00, 31.38it/s]\n",
      "Training Epoch 1024: 100%|██████████| 507/507 [00:16<00:00, 31.45it/s]\n",
      "Training Epoch 1025: 100%|██████████| 507/507 [00:16<00:00, 31.24it/s]\n",
      "Training Epoch 1026: 100%|██████████| 507/507 [00:16<00:00, 31.55it/s]\n",
      "Training Epoch 1027: 100%|██████████| 507/507 [00:16<00:00, 31.37it/s]\n",
      "Training Epoch 1028: 100%|██████████| 507/507 [00:16<00:00, 31.35it/s]\n",
      "Training Epoch 1029: 100%|██████████| 507/507 [00:16<00:00, 31.38it/s]\n",
      "Training Epoch 1030: 100%|██████████| 507/507 [00:16<00:00, 31.33it/s]\n",
      "Training Epoch 1031: 100%|██████████| 507/507 [00:16<00:00, 31.26it/s]\n"
     ]
    },
    {
     "name": "stdout",
     "output_type": "stream",
     "text": [
      "Epoch 1030 - Train Loss: 0.2903, Train MSE: 0.2903, Train MAE: 0.3917\n",
      "Epoch 1030 - Validation Loss: 1.4152, Validation MSE: 1.4192, Validation MAE: 0.8577\n"
     ]
    },
    {
     "name": "stderr",
     "output_type": "stream",
     "text": [
      "Training Epoch 1032: 100%|██████████| 507/507 [00:16<00:00, 31.28it/s]\n",
      "Training Epoch 1033: 100%|██████████| 507/507 [00:16<00:00, 31.40it/s]\n",
      "Training Epoch 1034: 100%|██████████| 507/507 [00:16<00:00, 31.33it/s]\n",
      "Training Epoch 1035: 100%|██████████| 507/507 [00:16<00:00, 31.31it/s]\n",
      "Training Epoch 1036: 100%|██████████| 507/507 [00:16<00:00, 31.22it/s]\n",
      "Training Epoch 1037: 100%|██████████| 507/507 [00:16<00:00, 31.44it/s]\n",
      "Training Epoch 1038: 100%|██████████| 507/507 [00:16<00:00, 31.41it/s]\n",
      "Training Epoch 1039: 100%|██████████| 507/507 [00:16<00:00, 31.27it/s]\n",
      "Training Epoch 1040: 100%|██████████| 507/507 [00:16<00:00, 31.35it/s]\n",
      "Training Epoch 1041: 100%|██████████| 507/507 [00:16<00:00, 31.32it/s]\n"
     ]
    },
    {
     "name": "stdout",
     "output_type": "stream",
     "text": [
      "Epoch 1040 - Train Loss: 0.2927, Train MSE: 0.2928, Train MAE: 0.3920\n",
      "Epoch 1040 - Validation Loss: 1.4345, Validation MSE: 1.4385, Validation MAE: 0.8797\n"
     ]
    },
    {
     "name": "stderr",
     "output_type": "stream",
     "text": [
      "Training Epoch 1042: 100%|██████████| 507/507 [00:16<00:00, 31.28it/s]\n",
      "Training Epoch 1043: 100%|██████████| 507/507 [00:16<00:00, 31.30it/s]\n",
      "Training Epoch 1044: 100%|██████████| 507/507 [00:16<00:00, 31.30it/s]\n",
      "Training Epoch 1045: 100%|██████████| 507/507 [00:16<00:00, 31.19it/s]\n",
      "Training Epoch 1046: 100%|██████████| 507/507 [00:16<00:00, 31.28it/s]\n",
      "Training Epoch 1047: 100%|██████████| 507/507 [00:16<00:00, 31.18it/s]\n",
      "Training Epoch 1048: 100%|██████████| 507/507 [00:16<00:00, 31.33it/s]\n",
      "Training Epoch 1049: 100%|██████████| 507/507 [00:16<00:00, 31.27it/s]\n",
      "Training Epoch 1050: 100%|██████████| 507/507 [00:16<00:00, 31.20it/s]\n",
      "Training Epoch 1051: 100%|██████████| 507/507 [00:16<00:00, 31.35it/s]\n"
     ]
    },
    {
     "name": "stdout",
     "output_type": "stream",
     "text": [
      "Epoch 1050 - Train Loss: 0.2942, Train MSE: 0.2942, Train MAE: 0.3936\n",
      "Epoch 1050 - Validation Loss: 1.4075, Validation MSE: 1.4117, Validation MAE: 0.8607\n"
     ]
    },
    {
     "name": "stderr",
     "output_type": "stream",
     "text": [
      "Training Epoch 1052: 100%|██████████| 507/507 [00:16<00:00, 31.32it/s]\n",
      "Training Epoch 1053: 100%|██████████| 507/507 [00:16<00:00, 31.33it/s]\n",
      "Training Epoch 1054: 100%|██████████| 507/507 [00:16<00:00, 31.24it/s]\n",
      "Training Epoch 1055: 100%|██████████| 507/507 [00:16<00:00, 31.22it/s]\n",
      "Training Epoch 1056: 100%|██████████| 507/507 [00:16<00:00, 31.33it/s]\n",
      "Training Epoch 1057: 100%|██████████| 507/507 [00:16<00:00, 31.32it/s]\n",
      "Training Epoch 1058: 100%|██████████| 507/507 [00:16<00:00, 31.14it/s]\n",
      "Training Epoch 1059: 100%|██████████| 507/507 [00:16<00:00, 31.25it/s]\n",
      "Training Epoch 1060: 100%|██████████| 507/507 [00:16<00:00, 31.25it/s]\n",
      "Training Epoch 1061: 100%|██████████| 507/507 [00:16<00:00, 31.22it/s]\n"
     ]
    },
    {
     "name": "stdout",
     "output_type": "stream",
     "text": [
      "Epoch 1060 - Train Loss: 0.2953, Train MSE: 0.2953, Train MAE: 0.3952\n",
      "Epoch 1060 - Validation Loss: 1.4469, Validation MSE: 1.4507, Validation MAE: 0.8680\n"
     ]
    },
    {
     "name": "stderr",
     "output_type": "stream",
     "text": [
      "Training Epoch 1062: 100%|██████████| 507/507 [00:16<00:00, 31.27it/s]\n",
      "Training Epoch 1063: 100%|██████████| 507/507 [00:16<00:00, 31.36it/s]\n",
      "Training Epoch 1064: 100%|██████████| 507/507 [00:16<00:00, 31.21it/s]\n",
      "Training Epoch 1065: 100%|██████████| 507/507 [00:16<00:00, 31.25it/s]\n",
      "Training Epoch 1066: 100%|██████████| 507/507 [00:16<00:00, 31.26it/s]\n",
      "Training Epoch 1067: 100%|██████████| 507/507 [00:16<00:00, 31.38it/s]\n",
      "Training Epoch 1068: 100%|██████████| 507/507 [00:16<00:00, 31.10it/s]\n",
      "Training Epoch 1069: 100%|██████████| 507/507 [00:16<00:00, 31.44it/s]\n",
      "Training Epoch 1070: 100%|██████████| 507/507 [00:16<00:00, 31.38it/s]\n",
      "Training Epoch 1071: 100%|██████████| 507/507 [00:16<00:00, 31.17it/s]\n"
     ]
    },
    {
     "name": "stdout",
     "output_type": "stream",
     "text": [
      "Epoch 1070 - Train Loss: 0.2873, Train MSE: 0.2873, Train MAE: 0.3864\n",
      "Epoch 1070 - Validation Loss: 1.4557, Validation MSE: 1.4589, Validation MAE: 0.8724\n"
     ]
    },
    {
     "name": "stderr",
     "output_type": "stream",
     "text": [
      "Training Epoch 1072: 100%|██████████| 507/507 [00:16<00:00, 31.25it/s]\n",
      "Training Epoch 1073: 100%|██████████| 507/507 [00:16<00:00, 31.32it/s]\n",
      "Training Epoch 1074: 100%|██████████| 507/507 [00:16<00:00, 31.16it/s]\n",
      "Training Epoch 1075: 100%|██████████| 507/507 [00:16<00:00, 31.21it/s]\n",
      "Training Epoch 1076: 100%|██████████| 507/507 [00:16<00:00, 31.20it/s]\n",
      "Training Epoch 1077: 100%|██████████| 507/507 [00:16<00:00, 31.40it/s]\n",
      "Training Epoch 1078: 100%|██████████| 507/507 [00:16<00:00, 31.36it/s]\n",
      "Training Epoch 1079: 100%|██████████| 507/507 [00:16<00:00, 31.46it/s]\n",
      "Training Epoch 1080: 100%|██████████| 507/507 [00:16<00:00, 31.30it/s]\n",
      "Training Epoch 1081: 100%|██████████| 507/507 [00:16<00:00, 31.32it/s]\n"
     ]
    },
    {
     "name": "stdout",
     "output_type": "stream",
     "text": [
      "Epoch 1080 - Train Loss: 0.2922, Train MSE: 0.2923, Train MAE: 0.3942\n",
      "Epoch 1080 - Validation Loss: 1.3909, Validation MSE: 1.3944, Validation MAE: 0.8590\n"
     ]
    },
    {
     "name": "stderr",
     "output_type": "stream",
     "text": [
      "Training Epoch 1082: 100%|██████████| 507/507 [00:16<00:00, 30.23it/s]\n",
      "Training Epoch 1083: 100%|██████████| 507/507 [00:16<00:00, 31.39it/s]\n",
      "Training Epoch 1084: 100%|██████████| 507/507 [00:16<00:00, 31.47it/s]\n",
      "Training Epoch 1085: 100%|██████████| 507/507 [00:16<00:00, 31.47it/s]\n",
      "Training Epoch 1086: 100%|██████████| 507/507 [00:16<00:00, 31.28it/s]\n",
      "Training Epoch 1087: 100%|██████████| 507/507 [00:16<00:00, 31.41it/s]\n",
      "Training Epoch 1088: 100%|██████████| 507/507 [00:16<00:00, 31.42it/s]\n",
      "Training Epoch 1089: 100%|██████████| 507/507 [00:16<00:00, 31.39it/s]\n",
      "Training Epoch 1090: 100%|██████████| 507/507 [00:16<00:00, 31.35it/s]\n",
      "Training Epoch 1091: 100%|██████████| 507/507 [00:16<00:00, 31.36it/s]\n"
     ]
    },
    {
     "name": "stdout",
     "output_type": "stream",
     "text": [
      "Epoch 1090 - Train Loss: 0.2966, Train MSE: 0.2967, Train MAE: 0.3939\n",
      "Epoch 1090 - Validation Loss: 1.4688, Validation MSE: 1.4726, Validation MAE: 0.8761\n"
     ]
    },
    {
     "name": "stderr",
     "output_type": "stream",
     "text": [
      "Training Epoch 1092: 100%|██████████| 507/507 [00:16<00:00, 31.58it/s]\n",
      "Training Epoch 1093: 100%|██████████| 507/507 [00:16<00:00, 31.31it/s]\n",
      "Training Epoch 1094: 100%|██████████| 507/507 [00:16<00:00, 31.45it/s]\n",
      "Training Epoch 1095: 100%|██████████| 507/507 [00:16<00:00, 31.45it/s]\n",
      "Training Epoch 1096: 100%|██████████| 507/507 [00:16<00:00, 31.42it/s]\n",
      "Training Epoch 1097: 100%|██████████| 507/507 [00:16<00:00, 31.29it/s]\n",
      "Training Epoch 1098: 100%|██████████| 507/507 [00:16<00:00, 31.25it/s]\n",
      "Training Epoch 1099: 100%|██████████| 507/507 [00:16<00:00, 31.42it/s]\n",
      "Training Epoch 1100: 100%|██████████| 507/507 [00:16<00:00, 31.36it/s]\n",
      "Training Epoch 1101: 100%|██████████| 507/507 [00:16<00:00, 31.51it/s]\n"
     ]
    },
    {
     "name": "stdout",
     "output_type": "stream",
     "text": [
      "Epoch 1100 - Train Loss: 0.2887, Train MSE: 0.2888, Train MAE: 0.3893\n",
      "Epoch 1100 - Validation Loss: 1.4257, Validation MSE: 1.4294, Validation MAE: 0.8562\n"
     ]
    },
    {
     "name": "stderr",
     "output_type": "stream",
     "text": [
      "Training Epoch 1102: 100%|██████████| 507/507 [00:16<00:00, 31.50it/s]\n",
      "Training Epoch 1103: 100%|██████████| 507/507 [00:16<00:00, 31.44it/s]\n",
      "Training Epoch 1104: 100%|██████████| 507/507 [00:16<00:00, 31.41it/s]\n",
      "Training Epoch 1105: 100%|██████████| 507/507 [00:16<00:00, 31.32it/s]\n",
      "Training Epoch 1106: 100%|██████████| 507/507 [00:16<00:00, 31.50it/s]\n",
      "Training Epoch 1107: 100%|██████████| 507/507 [00:16<00:00, 31.44it/s]\n",
      "Training Epoch 1108: 100%|██████████| 507/507 [00:16<00:00, 31.35it/s]\n",
      "Training Epoch 1109: 100%|██████████| 507/507 [00:16<00:00, 31.27it/s]\n",
      "Training Epoch 1110: 100%|██████████| 507/507 [00:16<00:00, 31.46it/s]\n",
      "Training Epoch 1111: 100%|██████████| 507/507 [00:16<00:00, 31.29it/s]\n"
     ]
    },
    {
     "name": "stdout",
     "output_type": "stream",
     "text": [
      "Epoch 1110 - Train Loss: 0.2922, Train MSE: 0.2918, Train MAE: 0.3908\n",
      "Epoch 1110 - Validation Loss: 1.3952, Validation MSE: 1.3991, Validation MAE: 0.8620\n"
     ]
    },
    {
     "name": "stderr",
     "output_type": "stream",
     "text": [
      "Training Epoch 1112: 100%|██████████| 507/507 [00:16<00:00, 31.35it/s]\n",
      "Training Epoch 1113: 100%|██████████| 507/507 [00:16<00:00, 31.38it/s]\n",
      "Training Epoch 1114: 100%|██████████| 507/507 [00:16<00:00, 31.32it/s]\n",
      "Training Epoch 1115: 100%|██████████| 507/507 [00:16<00:00, 31.33it/s]\n",
      "Training Epoch 1116: 100%|██████████| 507/507 [00:16<00:00, 31.44it/s]\n",
      "Training Epoch 1117: 100%|██████████| 507/507 [00:16<00:00, 31.18it/s]\n",
      "Training Epoch 1118: 100%|██████████| 507/507 [00:16<00:00, 31.58it/s]\n",
      "Training Epoch 1119: 100%|██████████| 507/507 [00:16<00:00, 31.28it/s]\n",
      "Training Epoch 1120: 100%|██████████| 507/507 [00:16<00:00, 31.31it/s]\n",
      "Training Epoch 1121: 100%|██████████| 507/507 [00:16<00:00, 31.36it/s]\n"
     ]
    },
    {
     "name": "stdout",
     "output_type": "stream",
     "text": [
      "Epoch 1120 - Train Loss: 0.2913, Train MSE: 0.2915, Train MAE: 0.3903\n",
      "Epoch 1120 - Validation Loss: 1.3856, Validation MSE: 1.3890, Validation MAE: 0.8533\n"
     ]
    },
    {
     "name": "stderr",
     "output_type": "stream",
     "text": [
      "Training Epoch 1122: 100%|██████████| 507/507 [00:16<00:00, 31.51it/s]\n",
      "Training Epoch 1123: 100%|██████████| 507/507 [00:16<00:00, 31.30it/s]\n",
      "Training Epoch 1124: 100%|██████████| 507/507 [00:16<00:00, 31.42it/s]\n",
      "Training Epoch 1125: 100%|██████████| 507/507 [00:16<00:00, 31.34it/s]\n",
      "Training Epoch 1126: 100%|██████████| 507/507 [00:16<00:00, 31.30it/s]\n",
      "Training Epoch 1127: 100%|██████████| 507/507 [00:16<00:00, 31.26it/s]\n",
      "Training Epoch 1128: 100%|██████████| 507/507 [00:16<00:00, 31.36it/s]\n",
      "Training Epoch 1129: 100%|██████████| 507/507 [00:16<00:00, 31.48it/s]\n",
      "Training Epoch 1130: 100%|██████████| 507/507 [00:16<00:00, 31.41it/s]\n",
      "Training Epoch 1131: 100%|██████████| 507/507 [00:16<00:00, 31.39it/s]\n"
     ]
    },
    {
     "name": "stdout",
     "output_type": "stream",
     "text": [
      "Epoch 1130 - Train Loss: 0.2952, Train MSE: 0.2953, Train MAE: 0.3944\n",
      "Epoch 1130 - Validation Loss: 1.4632, Validation MSE: 1.4668, Validation MAE: 0.8754\n"
     ]
    },
    {
     "name": "stderr",
     "output_type": "stream",
     "text": [
      "Training Epoch 1132: 100%|██████████| 507/507 [00:16<00:00, 31.44it/s]\n",
      "Training Epoch 1133: 100%|██████████| 507/507 [00:16<00:00, 31.31it/s]\n",
      "Training Epoch 1134: 100%|██████████| 507/507 [00:16<00:00, 31.53it/s]\n",
      "Training Epoch 1135: 100%|██████████| 507/507 [00:16<00:00, 31.56it/s]\n",
      "Training Epoch 1136: 100%|██████████| 507/507 [00:16<00:00, 31.45it/s]\n",
      "Training Epoch 1137: 100%|██████████| 507/507 [00:16<00:00, 31.34it/s]\n",
      "Training Epoch 1138: 100%|██████████| 507/507 [00:16<00:00, 31.38it/s]\n",
      "Training Epoch 1139: 100%|██████████| 507/507 [00:16<00:00, 31.29it/s]\n",
      "Training Epoch 1140: 100%|██████████| 507/507 [00:16<00:00, 31.51it/s]\n",
      "Training Epoch 1141: 100%|██████████| 507/507 [00:16<00:00, 31.30it/s]\n"
     ]
    },
    {
     "name": "stdout",
     "output_type": "stream",
     "text": [
      "Epoch 1140 - Train Loss: 0.2850, Train MSE: 0.2850, Train MAE: 0.3863\n",
      "Epoch 1140 - Validation Loss: 1.4130, Validation MSE: 1.4170, Validation MAE: 0.8580\n"
     ]
    },
    {
     "name": "stderr",
     "output_type": "stream",
     "text": [
      "Training Epoch 1142: 100%|██████████| 507/507 [00:16<00:00, 31.44it/s]\n",
      "Training Epoch 1143: 100%|██████████| 507/507 [00:16<00:00, 31.40it/s]\n",
      "Training Epoch 1144: 100%|██████████| 507/507 [00:16<00:00, 31.34it/s]\n",
      "Training Epoch 1145: 100%|██████████| 507/507 [00:16<00:00, 31.44it/s]\n",
      "Training Epoch 1146: 100%|██████████| 507/507 [00:16<00:00, 31.11it/s]\n",
      "Training Epoch 1147: 100%|██████████| 507/507 [00:16<00:00, 31.30it/s]\n",
      "Training Epoch 1148: 100%|██████████| 507/507 [00:16<00:00, 31.36it/s]\n",
      "Training Epoch 1149: 100%|██████████| 507/507 [00:16<00:00, 31.37it/s]\n",
      "Training Epoch 1150: 100%|██████████| 507/507 [00:16<00:00, 31.48it/s]\n",
      "Training Epoch 1151: 100%|██████████| 507/507 [00:16<00:00, 31.60it/s]\n"
     ]
    },
    {
     "name": "stdout",
     "output_type": "stream",
     "text": [
      "Epoch 1150 - Train Loss: 0.2862, Train MSE: 0.2861, Train MAE: 0.3862\n",
      "Epoch 1150 - Validation Loss: 1.4268, Validation MSE: 1.4304, Validation MAE: 0.8628\n"
     ]
    },
    {
     "name": "stderr",
     "output_type": "stream",
     "text": [
      "Training Epoch 1152: 100%|██████████| 507/507 [00:16<00:00, 31.34it/s]\n",
      "Training Epoch 1153: 100%|██████████| 507/507 [00:16<00:00, 31.33it/s]\n",
      "Training Epoch 1154: 100%|██████████| 507/507 [00:16<00:00, 31.45it/s]\n",
      "Training Epoch 1155: 100%|██████████| 507/507 [00:16<00:00, 31.39it/s]\n",
      "Training Epoch 1156: 100%|██████████| 507/507 [00:16<00:00, 31.37it/s]\n",
      "Training Epoch 1157: 100%|██████████| 507/507 [00:16<00:00, 31.29it/s]\n",
      "Training Epoch 1158: 100%|██████████| 507/507 [00:16<00:00, 31.46it/s]\n",
      "Training Epoch 1159: 100%|██████████| 507/507 [00:16<00:00, 31.34it/s]\n",
      "Training Epoch 1160: 100%|██████████| 507/507 [00:16<00:00, 31.37it/s]\n",
      "Training Epoch 1161: 100%|██████████| 507/507 [00:16<00:00, 31.43it/s]\n"
     ]
    },
    {
     "name": "stdout",
     "output_type": "stream",
     "text": [
      "Epoch 1160 - Train Loss: 0.2916, Train MSE: 0.2916, Train MAE: 0.3891\n",
      "Epoch 1160 - Validation Loss: 1.3964, Validation MSE: 1.4000, Validation MAE: 0.8554\n"
     ]
    },
    {
     "name": "stderr",
     "output_type": "stream",
     "text": [
      "Training Epoch 1162: 100%|██████████| 507/507 [00:16<00:00, 31.37it/s]\n",
      "Training Epoch 1163: 100%|██████████| 507/507 [00:16<00:00, 31.26it/s]\n",
      "Training Epoch 1164: 100%|██████████| 507/507 [00:16<00:00, 31.35it/s]\n",
      "Training Epoch 1165: 100%|██████████| 507/507 [00:16<00:00, 31.44it/s]\n",
      "Training Epoch 1166: 100%|██████████| 507/507 [00:16<00:00, 31.36it/s]\n",
      "Training Epoch 1167: 100%|██████████| 507/507 [00:16<00:00, 31.54it/s]\n",
      "Training Epoch 1168: 100%|██████████| 507/507 [00:16<00:00, 31.48it/s]\n",
      "Training Epoch 1169: 100%|██████████| 507/507 [00:16<00:00, 31.33it/s]\n",
      "Training Epoch 1170: 100%|██████████| 507/507 [00:16<00:00, 31.14it/s]\n",
      "Training Epoch 1171: 100%|██████████| 507/507 [00:16<00:00, 31.36it/s]\n"
     ]
    },
    {
     "name": "stdout",
     "output_type": "stream",
     "text": [
      "Epoch 1170 - Train Loss: 0.2834, Train MSE: 0.2835, Train MAE: 0.3856\n",
      "Epoch 1170 - Validation Loss: 1.4273, Validation MSE: 1.4312, Validation MAE: 0.8579\n"
     ]
    },
    {
     "name": "stderr",
     "output_type": "stream",
     "text": [
      "Training Epoch 1172: 100%|██████████| 507/507 [00:15<00:00, 31.74it/s]\n",
      "Training Epoch 1173: 100%|██████████| 507/507 [00:16<00:00, 31.48it/s]\n",
      "Training Epoch 1174: 100%|██████████| 507/507 [00:16<00:00, 31.58it/s]\n",
      "Training Epoch 1175: 100%|██████████| 507/507 [00:16<00:00, 31.31it/s]\n",
      "Training Epoch 1176: 100%|██████████| 507/507 [00:16<00:00, 31.49it/s]\n",
      "Training Epoch 1177: 100%|██████████| 507/507 [00:16<00:00, 31.46it/s]\n",
      "Training Epoch 1178: 100%|██████████| 507/507 [00:16<00:00, 31.44it/s]\n",
      "Training Epoch 1179: 100%|██████████| 507/507 [00:16<00:00, 31.04it/s]\n",
      "Training Epoch 1180: 100%|██████████| 507/507 [00:16<00:00, 31.31it/s]\n",
      "Training Epoch 1181: 100%|██████████| 507/507 [00:16<00:00, 31.47it/s]\n"
     ]
    },
    {
     "name": "stdout",
     "output_type": "stream",
     "text": [
      "Epoch 1180 - Train Loss: 0.2957, Train MSE: 0.2956, Train MAE: 0.3908\n",
      "Epoch 1180 - Validation Loss: 1.4440, Validation MSE: 1.4475, Validation MAE: 0.8678\n"
     ]
    },
    {
     "name": "stderr",
     "output_type": "stream",
     "text": [
      "Training Epoch 1182: 100%|██████████| 507/507 [00:16<00:00, 31.37it/s]\n",
      "Training Epoch 1183: 100%|██████████| 507/507 [00:16<00:00, 31.39it/s]\n",
      "Training Epoch 1184: 100%|██████████| 507/507 [00:16<00:00, 31.33it/s]\n",
      "Training Epoch 1185: 100%|██████████| 507/507 [00:16<00:00, 31.54it/s]\n",
      "Training Epoch 1186: 100%|██████████| 507/507 [00:16<00:00, 31.46it/s]\n",
      "Training Epoch 1187: 100%|██████████| 507/507 [00:16<00:00, 31.31it/s]\n",
      "Training Epoch 1188: 100%|██████████| 507/507 [00:16<00:00, 31.35it/s]\n",
      "Training Epoch 1189: 100%|██████████| 507/507 [00:16<00:00, 31.50it/s]\n",
      "Training Epoch 1190: 100%|██████████| 507/507 [00:16<00:00, 31.33it/s]\n",
      "Training Epoch 1191: 100%|██████████| 507/507 [00:16<00:00, 31.48it/s]\n"
     ]
    },
    {
     "name": "stdout",
     "output_type": "stream",
     "text": [
      "Epoch 1190 - Train Loss: 0.2821, Train MSE: 0.2823, Train MAE: 0.3838\n",
      "Epoch 1190 - Validation Loss: 1.4118, Validation MSE: 1.4154, Validation MAE: 0.8568\n"
     ]
    },
    {
     "name": "stderr",
     "output_type": "stream",
     "text": [
      "Training Epoch 1192: 100%|██████████| 507/507 [00:16<00:00, 31.48it/s]\n",
      "Training Epoch 1193: 100%|██████████| 507/507 [00:16<00:00, 31.35it/s]\n",
      "Training Epoch 1194: 100%|██████████| 507/507 [00:16<00:00, 31.36it/s]\n",
      "Training Epoch 1195: 100%|██████████| 507/507 [00:16<00:00, 31.47it/s]\n",
      "Training Epoch 1196: 100%|██████████| 507/507 [00:16<00:00, 31.52it/s]\n",
      "Training Epoch 1197: 100%|██████████| 507/507 [00:16<00:00, 31.33it/s]\n",
      "Training Epoch 1198: 100%|██████████| 507/507 [00:16<00:00, 31.40it/s]\n",
      "Training Epoch 1199: 100%|██████████| 507/507 [00:16<00:00, 31.40it/s]\n",
      "Training Epoch 1200: 100%|██████████| 507/507 [00:16<00:00, 31.37it/s]\n",
      "Training Epoch 1201: 100%|██████████| 507/507 [00:16<00:00, 31.62it/s]\n"
     ]
    },
    {
     "name": "stdout",
     "output_type": "stream",
     "text": [
      "Epoch 1200 - Train Loss: 0.2819, Train MSE: 0.2819, Train MAE: 0.3849\n",
      "Epoch 1200 - Validation Loss: 1.4188, Validation MSE: 1.4224, Validation MAE: 0.8597\n"
     ]
    },
    {
     "name": "stderr",
     "output_type": "stream",
     "text": [
      "Training Epoch 1202: 100%|██████████| 507/507 [00:16<00:00, 31.56it/s]\n",
      "Training Epoch 1203: 100%|██████████| 507/507 [00:16<00:00, 31.49it/s]\n",
      "Training Epoch 1204: 100%|██████████| 507/507 [00:16<00:00, 31.31it/s]\n",
      "Training Epoch 1205: 100%|██████████| 507/507 [00:16<00:00, 31.36it/s]\n",
      "Training Epoch 1206: 100%|██████████| 507/507 [00:16<00:00, 31.44it/s]\n",
      "Training Epoch 1207: 100%|██████████| 507/507 [00:16<00:00, 31.34it/s]\n",
      "Training Epoch 1208: 100%|██████████| 507/507 [00:16<00:00, 31.58it/s]\n",
      "Training Epoch 1209: 100%|██████████| 507/507 [00:16<00:00, 31.51it/s]\n",
      "Training Epoch 1210: 100%|██████████| 507/507 [00:16<00:00, 31.33it/s]\n",
      "Training Epoch 1211: 100%|██████████| 507/507 [00:16<00:00, 31.51it/s]\n"
     ]
    },
    {
     "name": "stdout",
     "output_type": "stream",
     "text": [
      "Epoch 1210 - Train Loss: 0.2735, Train MSE: 0.2736, Train MAE: 0.3798\n",
      "Epoch 1210 - Validation Loss: 1.4245, Validation MSE: 1.4278, Validation MAE: 0.8596\n"
     ]
    },
    {
     "name": "stderr",
     "output_type": "stream",
     "text": [
      "Training Epoch 1212: 100%|██████████| 507/507 [00:16<00:00, 31.46it/s]\n",
      "Training Epoch 1213: 100%|██████████| 507/507 [00:16<00:00, 31.41it/s]\n",
      "Training Epoch 1214: 100%|██████████| 507/507 [00:16<00:00, 31.38it/s]\n",
      "Training Epoch 1215: 100%|██████████| 507/507 [00:16<00:00, 31.54it/s]\n",
      "Training Epoch 1216: 100%|██████████| 507/507 [00:16<00:00, 31.49it/s]\n",
      "Training Epoch 1217: 100%|██████████| 507/507 [00:16<00:00, 31.23it/s]\n",
      "Training Epoch 1218: 100%|██████████| 507/507 [00:16<00:00, 31.50it/s]\n",
      "Training Epoch 1219: 100%|██████████| 507/507 [00:16<00:00, 31.38it/s]\n",
      "Training Epoch 1220: 100%|██████████| 507/507 [00:16<00:00, 31.49it/s]\n",
      "Training Epoch 1221: 100%|██████████| 507/507 [00:16<00:00, 31.50it/s]\n"
     ]
    },
    {
     "name": "stdout",
     "output_type": "stream",
     "text": [
      "Epoch 1220 - Train Loss: 0.2772, Train MSE: 0.2772, Train MAE: 0.3810\n",
      "Epoch 1220 - Validation Loss: 1.3942, Validation MSE: 1.3984, Validation MAE: 0.8562\n"
     ]
    },
    {
     "name": "stderr",
     "output_type": "stream",
     "text": [
      "Training Epoch 1222: 100%|██████████| 507/507 [00:16<00:00, 31.42it/s]\n",
      "Training Epoch 1223: 100%|██████████| 507/507 [00:16<00:00, 31.53it/s]\n",
      "Training Epoch 1224: 100%|██████████| 507/507 [00:16<00:00, 31.29it/s]\n",
      "Training Epoch 1225: 100%|██████████| 507/507 [00:16<00:00, 31.46it/s]\n",
      "Training Epoch 1226: 100%|██████████| 507/507 [00:16<00:00, 31.55it/s]\n",
      "Training Epoch 1227: 100%|██████████| 507/507 [00:16<00:00, 31.44it/s]\n",
      "Training Epoch 1228: 100%|██████████| 507/507 [00:16<00:00, 31.44it/s]\n",
      "Training Epoch 1229: 100%|██████████| 507/507 [00:16<00:00, 31.36it/s]\n",
      "Training Epoch 1230: 100%|██████████| 507/507 [00:16<00:00, 31.35it/s]\n",
      "Training Epoch 1231: 100%|██████████| 507/507 [00:16<00:00, 31.57it/s]\n"
     ]
    },
    {
     "name": "stdout",
     "output_type": "stream",
     "text": [
      "Epoch 1230 - Train Loss: 0.2832, Train MSE: 0.2830, Train MAE: 0.3837\n",
      "Epoch 1230 - Validation Loss: 1.3931, Validation MSE: 1.3967, Validation MAE: 0.8488\n"
     ]
    },
    {
     "name": "stderr",
     "output_type": "stream",
     "text": [
      "Training Epoch 1232: 100%|██████████| 507/507 [00:16<00:00, 31.44it/s]\n",
      "Training Epoch 1233: 100%|██████████| 507/507 [00:16<00:00, 31.45it/s]\n",
      "Training Epoch 1234: 100%|██████████| 507/507 [00:16<00:00, 31.44it/s]\n",
      "Training Epoch 1235: 100%|██████████| 507/507 [00:16<00:00, 31.35it/s]\n",
      "Training Epoch 1236: 100%|██████████| 507/507 [00:16<00:00, 31.42it/s]\n",
      "Training Epoch 1237: 100%|██████████| 507/507 [00:16<00:00, 31.26it/s]\n",
      "Training Epoch 1238: 100%|██████████| 507/507 [00:16<00:00, 31.62it/s]\n",
      "Training Epoch 1239: 100%|██████████| 507/507 [00:16<00:00, 31.48it/s]\n",
      "Training Epoch 1240: 100%|██████████| 507/507 [00:16<00:00, 31.34it/s]\n",
      "Training Epoch 1241: 100%|██████████| 507/507 [00:16<00:00, 31.63it/s]\n"
     ]
    },
    {
     "name": "stdout",
     "output_type": "stream",
     "text": [
      "Epoch 1240 - Train Loss: 0.2776, Train MSE: 0.2778, Train MAE: 0.3822\n",
      "Epoch 1240 - Validation Loss: 1.4299, Validation MSE: 1.4333, Validation MAE: 0.8613\n"
     ]
    },
    {
     "name": "stderr",
     "output_type": "stream",
     "text": [
      "Training Epoch 1242: 100%|██████████| 507/507 [00:16<00:00, 31.47it/s]\n",
      "Training Epoch 1243: 100%|██████████| 507/507 [00:16<00:00, 31.58it/s]\n",
      "Training Epoch 1244: 100%|██████████| 507/507 [00:16<00:00, 31.36it/s]\n",
      "Training Epoch 1245: 100%|██████████| 507/507 [00:16<00:00, 31.48it/s]\n",
      "Training Epoch 1246: 100%|██████████| 507/507 [00:16<00:00, 31.48it/s]\n",
      "Training Epoch 1247: 100%|██████████| 507/507 [00:16<00:00, 31.34it/s]\n",
      "Training Epoch 1248: 100%|██████████| 507/507 [00:16<00:00, 31.46it/s]\n",
      "Training Epoch 1249: 100%|██████████| 507/507 [00:16<00:00, 31.59it/s]\n",
      "Training Epoch 1250: 100%|██████████| 507/507 [00:16<00:00, 31.35it/s]\n",
      "Training Epoch 1251: 100%|██████████| 507/507 [00:16<00:00, 31.47it/s]\n"
     ]
    },
    {
     "name": "stdout",
     "output_type": "stream",
     "text": [
      "Epoch 1250 - Train Loss: 0.2755, Train MSE: 0.2757, Train MAE: 0.3799\n",
      "Epoch 1250 - Validation Loss: 1.4027, Validation MSE: 1.4065, Validation MAE: 0.8562\n"
     ]
    },
    {
     "name": "stderr",
     "output_type": "stream",
     "text": [
      "Training Epoch 1252: 100%|██████████| 507/507 [00:16<00:00, 31.60it/s]\n",
      "Training Epoch 1253: 100%|██████████| 507/507 [00:16<00:00, 31.42it/s]\n",
      "Training Epoch 1254: 100%|██████████| 507/507 [00:16<00:00, 31.44it/s]\n",
      "Training Epoch 1255: 100%|██████████| 507/507 [00:16<00:00, 31.51it/s]\n",
      "Training Epoch 1256: 100%|██████████| 507/507 [00:16<00:00, 31.60it/s]\n",
      "Training Epoch 1257: 100%|██████████| 507/507 [00:16<00:00, 31.37it/s]\n",
      "Training Epoch 1258: 100%|██████████| 507/507 [00:16<00:00, 31.53it/s]\n",
      "Training Epoch 1259: 100%|██████████| 507/507 [00:16<00:00, 31.44it/s]\n",
      "Training Epoch 1260: 100%|██████████| 507/507 [00:16<00:00, 31.45it/s]\n",
      "Training Epoch 1261: 100%|██████████| 507/507 [00:16<00:00, 31.56it/s]\n"
     ]
    },
    {
     "name": "stdout",
     "output_type": "stream",
     "text": [
      "Epoch 1260 - Train Loss: 0.2682, Train MSE: 0.2683, Train MAE: 0.3769\n",
      "Epoch 1260 - Validation Loss: 1.4657, Validation MSE: 1.4687, Validation MAE: 0.8719\n"
     ]
    },
    {
     "name": "stderr",
     "output_type": "stream",
     "text": [
      "Training Epoch 1262: 100%|██████████| 507/507 [00:16<00:00, 31.42it/s]\n",
      "Training Epoch 1263: 100%|██████████| 507/507 [00:16<00:00, 31.39it/s]\n",
      "Training Epoch 1264: 100%|██████████| 507/507 [00:16<00:00, 31.49it/s]\n",
      "Training Epoch 1265: 100%|██████████| 507/507 [00:16<00:00, 31.60it/s]\n",
      "Training Epoch 1266: 100%|██████████| 507/507 [00:16<00:00, 31.39it/s]\n",
      "Training Epoch 1267: 100%|██████████| 507/507 [00:16<00:00, 31.33it/s]\n",
      "Training Epoch 1268: 100%|██████████| 507/507 [00:16<00:00, 31.55it/s]\n",
      "Training Epoch 1269: 100%|██████████| 507/507 [00:16<00:00, 31.51it/s]\n",
      "Training Epoch 1270: 100%|██████████| 507/507 [00:16<00:00, 31.32it/s]\n",
      "Training Epoch 1271: 100%|██████████| 507/507 [00:16<00:00, 31.38it/s]\n"
     ]
    },
    {
     "name": "stdout",
     "output_type": "stream",
     "text": [
      "Epoch 1270 - Train Loss: 0.2759, Train MSE: 0.2760, Train MAE: 0.3825\n",
      "Epoch 1270 - Validation Loss: 1.4105, Validation MSE: 1.4142, Validation MAE: 0.8687\n"
     ]
    },
    {
     "name": "stderr",
     "output_type": "stream",
     "text": [
      "Training Epoch 1272: 100%|██████████| 507/507 [00:16<00:00, 31.34it/s]\n",
      "Training Epoch 1273: 100%|██████████| 507/507 [00:16<00:00, 31.24it/s]\n",
      "Training Epoch 1274: 100%|██████████| 507/507 [00:16<00:00, 31.38it/s]\n",
      "Training Epoch 1275: 100%|██████████| 507/507 [00:16<00:00, 31.39it/s]\n",
      "Training Epoch 1276: 100%|██████████| 507/507 [00:16<00:00, 31.51it/s]\n",
      "Training Epoch 1277: 100%|██████████| 507/507 [00:16<00:00, 31.54it/s]\n",
      "Training Epoch 1278: 100%|██████████| 507/507 [00:16<00:00, 31.45it/s]\n",
      "Training Epoch 1279: 100%|██████████| 507/507 [00:16<00:00, 31.36it/s]\n",
      "Training Epoch 1280: 100%|██████████| 507/507 [00:16<00:00, 31.52it/s]\n",
      "Training Epoch 1281: 100%|██████████| 507/507 [00:16<00:00, 31.44it/s]\n"
     ]
    },
    {
     "name": "stdout",
     "output_type": "stream",
     "text": [
      "Epoch 1280 - Train Loss: 0.2870, Train MSE: 0.2865, Train MAE: 0.3836\n",
      "Epoch 1280 - Validation Loss: 1.4017, Validation MSE: 1.4053, Validation MAE: 0.8549\n"
     ]
    },
    {
     "name": "stderr",
     "output_type": "stream",
     "text": [
      "Training Epoch 1282: 100%|██████████| 507/507 [00:16<00:00, 31.29it/s]\n",
      "Training Epoch 1283: 100%|██████████| 507/507 [00:16<00:00, 31.19it/s]\n",
      "Training Epoch 1284: 100%|██████████| 507/507 [00:16<00:00, 31.54it/s]\n",
      "Training Epoch 1285: 100%|██████████| 507/507 [00:16<00:00, 31.51it/s]\n",
      "Training Epoch 1286: 100%|██████████| 507/507 [00:16<00:00, 31.27it/s]\n",
      "Training Epoch 1287: 100%|██████████| 507/507 [00:16<00:00, 31.30it/s]\n",
      "Training Epoch 1288: 100%|██████████| 507/507 [00:16<00:00, 31.30it/s]\n",
      "Training Epoch 1289: 100%|██████████| 507/507 [00:16<00:00, 31.47it/s]\n",
      "Training Epoch 1290: 100%|██████████| 507/507 [00:16<00:00, 31.22it/s]\n",
      "Training Epoch 1291: 100%|██████████| 507/507 [00:16<00:00, 31.44it/s]\n"
     ]
    },
    {
     "name": "stdout",
     "output_type": "stream",
     "text": [
      "Epoch 1290 - Train Loss: 0.2791, Train MSE: 0.2792, Train MAE: 0.3819\n",
      "Epoch 1290 - Validation Loss: 1.4076, Validation MSE: 1.4113, Validation MAE: 0.8558\n"
     ]
    },
    {
     "name": "stderr",
     "output_type": "stream",
     "text": [
      "Training Epoch 1292: 100%|██████████| 507/507 [00:16<00:00, 31.38it/s]\n",
      "Training Epoch 1293: 100%|██████████| 507/507 [00:16<00:00, 31.28it/s]\n",
      "Training Epoch 1294: 100%|██████████| 507/507 [00:16<00:00, 31.53it/s]\n",
      "Training Epoch 1295: 100%|██████████| 507/507 [00:16<00:00, 31.29it/s]\n",
      "Training Epoch 1296: 100%|██████████| 507/507 [00:16<00:00, 31.44it/s]\n",
      "Training Epoch 1297: 100%|██████████| 507/507 [00:16<00:00, 31.34it/s]\n",
      "Training Epoch 1298: 100%|██████████| 507/507 [00:16<00:00, 31.59it/s]\n",
      "Training Epoch 1299: 100%|██████████| 507/507 [00:16<00:00, 31.43it/s]\n",
      "Training Epoch 1300: 100%|██████████| 507/507 [00:16<00:00, 31.45it/s]\n",
      "Training Epoch 1301: 100%|██████████| 507/507 [00:16<00:00, 31.46it/s]\n"
     ]
    },
    {
     "name": "stdout",
     "output_type": "stream",
     "text": [
      "Epoch 1300 - Train Loss: 0.2696, Train MSE: 0.2694, Train MAE: 0.3763\n",
      "Epoch 1300 - Validation Loss: 1.4082, Validation MSE: 1.4118, Validation MAE: 0.8574\n"
     ]
    },
    {
     "name": "stderr",
     "output_type": "stream",
     "text": [
      "Training Epoch 1302: 100%|██████████| 507/507 [00:16<00:00, 31.33it/s]\n",
      "Training Epoch 1303: 100%|██████████| 507/507 [00:16<00:00, 31.37it/s]\n",
      "Training Epoch 1304: 100%|██████████| 507/507 [00:16<00:00, 31.32it/s]\n",
      "Training Epoch 1305: 100%|██████████| 507/507 [00:16<00:00, 31.60it/s]\n",
      "Training Epoch 1306: 100%|██████████| 507/507 [00:16<00:00, 31.23it/s]\n",
      "Training Epoch 1307: 100%|██████████| 507/507 [00:16<00:00, 31.36it/s]\n",
      "Training Epoch 1308: 100%|██████████| 507/507 [00:16<00:00, 31.40it/s]\n",
      "Training Epoch 1309: 100%|██████████| 507/507 [00:16<00:00, 31.43it/s]\n",
      "Training Epoch 1310: 100%|██████████| 507/507 [00:16<00:00, 31.35it/s]\n",
      "Training Epoch 1311: 100%|██████████| 507/507 [00:16<00:00, 31.42it/s]\n"
     ]
    },
    {
     "name": "stdout",
     "output_type": "stream",
     "text": [
      "Epoch 1310 - Train Loss: 0.2876, Train MSE: 0.2877, Train MAE: 0.3852\n",
      "Epoch 1310 - Validation Loss: 1.4132, Validation MSE: 1.4169, Validation MAE: 0.8575\n"
     ]
    },
    {
     "name": "stderr",
     "output_type": "stream",
     "text": [
      "Training Epoch 1312: 100%|██████████| 507/507 [00:16<00:00, 31.54it/s]\n",
      "Training Epoch 1313: 100%|██████████| 507/507 [00:16<00:00, 31.13it/s]\n",
      "Training Epoch 1314: 100%|██████████| 507/507 [00:16<00:00, 31.44it/s]\n",
      "Training Epoch 1315: 100%|██████████| 507/507 [00:16<00:00, 31.53it/s]\n",
      "Training Epoch 1316: 100%|██████████| 507/507 [00:16<00:00, 31.45it/s]\n",
      "Training Epoch 1317: 100%|██████████| 507/507 [00:16<00:00, 31.38it/s]\n",
      "Training Epoch 1318: 100%|██████████| 507/507 [00:16<00:00, 31.59it/s]\n",
      "Training Epoch 1319: 100%|██████████| 507/507 [00:16<00:00, 31.34it/s]\n",
      "Training Epoch 1320: 100%|██████████| 507/507 [00:16<00:00, 31.34it/s]\n",
      "Training Epoch 1321: 100%|██████████| 507/507 [00:16<00:00, 31.19it/s]\n"
     ]
    },
    {
     "name": "stdout",
     "output_type": "stream",
     "text": [
      "Epoch 1320 - Train Loss: 0.2741, Train MSE: 0.2739, Train MAE: 0.3766\n",
      "Epoch 1320 - Validation Loss: 1.4159, Validation MSE: 1.4196, Validation MAE: 0.8605\n"
     ]
    },
    {
     "name": "stderr",
     "output_type": "stream",
     "text": [
      "Training Epoch 1322: 100%|██████████| 507/507 [00:16<00:00, 31.29it/s]\n",
      "Training Epoch 1323: 100%|██████████| 507/507 [00:16<00:00, 31.40it/s]\n",
      "Training Epoch 1324: 100%|██████████| 507/507 [00:16<00:00, 31.47it/s]\n",
      "Training Epoch 1325: 100%|██████████| 507/507 [00:16<00:00, 31.32it/s]\n",
      "Training Epoch 1326: 100%|██████████| 507/507 [00:16<00:00, 31.41it/s]\n",
      "Training Epoch 1327: 100%|██████████| 507/507 [00:16<00:00, 31.44it/s]\n",
      "Training Epoch 1328: 100%|██████████| 507/507 [00:16<00:00, 31.40it/s]\n",
      "Training Epoch 1329: 100%|██████████| 507/507 [00:16<00:00, 31.42it/s]\n",
      "Training Epoch 1330: 100%|██████████| 507/507 [00:16<00:00, 31.18it/s]\n",
      "Training Epoch 1331: 100%|██████████| 507/507 [00:16<00:00, 31.35it/s]\n"
     ]
    },
    {
     "name": "stdout",
     "output_type": "stream",
     "text": [
      "Epoch 1330 - Train Loss: 0.2722, Train MSE: 0.2723, Train MAE: 0.3787\n",
      "Epoch 1330 - Validation Loss: 1.4137, Validation MSE: 1.4172, Validation MAE: 0.8688\n"
     ]
    },
    {
     "name": "stderr",
     "output_type": "stream",
     "text": [
      "Training Epoch 1332: 100%|██████████| 507/507 [00:16<00:00, 31.36it/s]\n",
      "Training Epoch 1333: 100%|██████████| 507/507 [00:16<00:00, 31.35it/s]\n",
      "Training Epoch 1334: 100%|██████████| 507/507 [00:16<00:00, 31.61it/s]\n",
      "Training Epoch 1335: 100%|██████████| 507/507 [00:16<00:00, 31.23it/s]\n",
      "Training Epoch 1336: 100%|██████████| 507/507 [00:16<00:00, 31.36it/s]\n",
      "Training Epoch 1337: 100%|██████████| 507/507 [00:16<00:00, 31.37it/s]\n",
      "Training Epoch 1338: 100%|██████████| 507/507 [00:16<00:00, 31.20it/s]\n",
      "Training Epoch 1339: 100%|██████████| 507/507 [00:16<00:00, 31.20it/s]\n",
      "Training Epoch 1340: 100%|██████████| 507/507 [00:16<00:00, 31.33it/s]\n",
      "Training Epoch 1341: 100%|██████████| 507/507 [00:16<00:00, 31.41it/s]\n"
     ]
    },
    {
     "name": "stdout",
     "output_type": "stream",
     "text": [
      "Epoch 1340 - Train Loss: 0.2722, Train MSE: 0.2723, Train MAE: 0.3770\n",
      "Epoch 1340 - Validation Loss: 1.4127, Validation MSE: 1.4165, Validation MAE: 0.8573\n"
     ]
    },
    {
     "name": "stderr",
     "output_type": "stream",
     "text": [
      "Training Epoch 1342: 100%|██████████| 507/507 [00:16<00:00, 31.29it/s]\n",
      "Training Epoch 1343: 100%|██████████| 507/507 [00:16<00:00, 31.27it/s]\n",
      "Training Epoch 1344: 100%|██████████| 507/507 [00:16<00:00, 31.27it/s]\n",
      "Training Epoch 1345: 100%|██████████| 507/507 [00:16<00:00, 31.33it/s]\n",
      "Training Epoch 1346: 100%|██████████| 507/507 [00:16<00:00, 31.35it/s]\n",
      "Training Epoch 1347: 100%|██████████| 507/507 [00:16<00:00, 31.48it/s]\n",
      "Training Epoch 1348: 100%|██████████| 507/507 [00:16<00:00, 31.26it/s]\n",
      "Training Epoch 1349: 100%|██████████| 507/507 [00:16<00:00, 31.35it/s]\n",
      "Training Epoch 1350: 100%|██████████| 507/507 [00:16<00:00, 31.39it/s]\n",
      "Training Epoch 1351: 100%|██████████| 507/507 [00:16<00:00, 31.54it/s]\n"
     ]
    },
    {
     "name": "stdout",
     "output_type": "stream",
     "text": [
      "Epoch 1350 - Train Loss: 0.2722, Train MSE: 0.2724, Train MAE: 0.3758\n",
      "Epoch 1350 - Validation Loss: 1.3990, Validation MSE: 1.4024, Validation MAE: 0.8536\n"
     ]
    },
    {
     "name": "stderr",
     "output_type": "stream",
     "text": [
      "Training Epoch 1352: 100%|██████████| 507/507 [00:16<00:00, 31.31it/s]\n",
      "Training Epoch 1353: 100%|██████████| 507/507 [00:16<00:00, 31.36it/s]\n",
      "Training Epoch 1354: 100%|██████████| 507/507 [00:16<00:00, 31.37it/s]\n",
      "Training Epoch 1355: 100%|██████████| 507/507 [00:16<00:00, 31.38it/s]\n",
      "Training Epoch 1356: 100%|██████████| 507/507 [00:15<00:00, 31.73it/s]\n",
      "Training Epoch 1357: 100%|██████████| 507/507 [00:16<00:00, 31.42it/s]\n",
      "Training Epoch 1358: 100%|██████████| 507/507 [00:16<00:00, 31.47it/s]\n",
      "Training Epoch 1359: 100%|██████████| 507/507 [00:16<00:00, 31.36it/s]\n",
      "Training Epoch 1360: 100%|██████████| 507/507 [00:16<00:00, 31.33it/s]\n",
      "Training Epoch 1361: 100%|██████████| 507/507 [00:16<00:00, 31.33it/s]\n"
     ]
    },
    {
     "name": "stdout",
     "output_type": "stream",
     "text": [
      "Epoch 1360 - Train Loss: 0.2722, Train MSE: 0.2723, Train MAE: 0.3766\n",
      "Epoch 1360 - Validation Loss: 1.3945, Validation MSE: 1.3979, Validation MAE: 0.8569\n"
     ]
    },
    {
     "name": "stderr",
     "output_type": "stream",
     "text": [
      "Training Epoch 1362: 100%|██████████| 507/507 [00:16<00:00, 31.50it/s]\n",
      "Training Epoch 1363: 100%|██████████| 507/507 [00:16<00:00, 31.38it/s]\n",
      "Training Epoch 1364: 100%|██████████| 507/507 [00:16<00:00, 31.44it/s]\n",
      "Training Epoch 1365: 100%|██████████| 507/507 [00:16<00:00, 31.39it/s]\n",
      "Training Epoch 1366: 100%|██████████| 507/507 [00:16<00:00, 31.18it/s]\n",
      "Training Epoch 1367: 100%|██████████| 507/507 [00:16<00:00, 31.41it/s]\n",
      "Training Epoch 1368: 100%|██████████| 507/507 [00:16<00:00, 31.24it/s]\n",
      "Training Epoch 1369: 100%|██████████| 507/507 [00:14<00:00, 34.21it/s]\n",
      "Training Epoch 1370: 100%|██████████| 507/507 [00:14<00:00, 34.08it/s]\n",
      "Training Epoch 1371: 100%|██████████| 507/507 [00:14<00:00, 34.01it/s]\n"
     ]
    },
    {
     "name": "stdout",
     "output_type": "stream",
     "text": [
      "Epoch 1370 - Train Loss: 0.2680, Train MSE: 0.2677, Train MAE: 0.3750\n",
      "Epoch 1370 - Validation Loss: 1.4905, Validation MSE: 1.4942, Validation MAE: 0.8801\n"
     ]
    },
    {
     "name": "stderr",
     "output_type": "stream",
     "text": [
      "Training Epoch 1372: 100%|██████████| 507/507 [00:14<00:00, 33.94it/s]\n",
      "Training Epoch 1373: 100%|██████████| 507/507 [00:14<00:00, 33.96it/s]\n",
      "Training Epoch 1374: 100%|██████████| 507/507 [00:14<00:00, 33.95it/s]\n",
      "Training Epoch 1375: 100%|██████████| 507/507 [00:14<00:00, 33.88it/s]\n",
      "Training Epoch 1376: 100%|██████████| 507/507 [00:15<00:00, 33.69it/s]\n",
      "Training Epoch 1377: 100%|██████████| 507/507 [00:15<00:00, 33.67it/s]\n",
      "Training Epoch 1378: 100%|██████████| 507/507 [00:14<00:00, 33.92it/s]\n",
      "Training Epoch 1379: 100%|██████████| 507/507 [00:14<00:00, 33.99it/s]\n",
      "Training Epoch 1380: 100%|██████████| 507/507 [00:14<00:00, 33.85it/s]\n",
      "Training Epoch 1381: 100%|██████████| 507/507 [00:15<00:00, 33.79it/s]\n"
     ]
    },
    {
     "name": "stdout",
     "output_type": "stream",
     "text": [
      "Epoch 1380 - Train Loss: 0.2684, Train MSE: 0.2685, Train MAE: 0.3713\n",
      "Epoch 1380 - Validation Loss: 1.4225, Validation MSE: 1.4263, Validation MAE: 0.8617\n"
     ]
    },
    {
     "name": "stderr",
     "output_type": "stream",
     "text": [
      "Training Epoch 1382: 100%|██████████| 507/507 [00:15<00:00, 32.40it/s]\n",
      "Training Epoch 1383: 100%|██████████| 507/507 [00:14<00:00, 33.85it/s]\n",
      "Training Epoch 1384: 100%|██████████| 507/507 [00:14<00:00, 33.96it/s]\n",
      "Training Epoch 1385: 100%|██████████| 507/507 [00:15<00:00, 33.64it/s]\n",
      "Training Epoch 1386: 100%|██████████| 507/507 [00:14<00:00, 33.98it/s]\n",
      "Training Epoch 1387: 100%|██████████| 507/507 [00:14<00:00, 34.20it/s]\n",
      "Training Epoch 1388: 100%|██████████| 507/507 [00:14<00:00, 34.12it/s]\n",
      "Training Epoch 1389: 100%|██████████| 507/507 [00:14<00:00, 34.02it/s]\n",
      "Training Epoch 1390: 100%|██████████| 507/507 [00:14<00:00, 34.06it/s]\n",
      "Training Epoch 1391: 100%|██████████| 507/507 [00:14<00:00, 34.01it/s]\n"
     ]
    },
    {
     "name": "stdout",
     "output_type": "stream",
     "text": [
      "Epoch 1390 - Train Loss: 0.2633, Train MSE: 0.2635, Train MAE: 0.3720\n",
      "Epoch 1390 - Validation Loss: 1.4236, Validation MSE: 1.4272, Validation MAE: 0.8589\n"
     ]
    },
    {
     "name": "stderr",
     "output_type": "stream",
     "text": [
      "Training Epoch 1392: 100%|██████████| 507/507 [00:14<00:00, 34.00it/s]\n",
      "Training Epoch 1393: 100%|██████████| 507/507 [00:14<00:00, 33.99it/s]\n",
      "Training Epoch 1394: 100%|██████████| 507/507 [00:15<00:00, 33.67it/s]\n",
      "Training Epoch 1395: 100%|██████████| 507/507 [00:14<00:00, 33.86it/s]\n",
      "Training Epoch 1396: 100%|██████████| 507/507 [00:15<00:00, 33.66it/s]\n",
      "Training Epoch 1397: 100%|██████████| 507/507 [00:15<00:00, 33.72it/s]\n",
      "Training Epoch 1398: 100%|██████████| 507/507 [00:14<00:00, 33.90it/s]\n",
      "Training Epoch 1399: 100%|██████████| 507/507 [00:14<00:00, 33.81it/s]\n",
      "Training Epoch 1400: 100%|██████████| 507/507 [00:14<00:00, 33.85it/s]\n",
      "Training Epoch 1401: 100%|██████████| 507/507 [00:15<00:00, 33.59it/s]\n"
     ]
    },
    {
     "name": "stdout",
     "output_type": "stream",
     "text": [
      "Epoch 1400 - Train Loss: 0.2727, Train MSE: 0.2726, Train MAE: 0.3745\n",
      "Epoch 1400 - Validation Loss: 1.4006, Validation MSE: 1.4043, Validation MAE: 0.8613\n"
     ]
    },
    {
     "name": "stderr",
     "output_type": "stream",
     "text": [
      "Training Epoch 1402: 100%|██████████| 507/507 [00:15<00:00, 33.76it/s]\n",
      "Training Epoch 1403: 100%|██████████| 507/507 [00:15<00:00, 33.79it/s]\n",
      "Training Epoch 1404: 100%|██████████| 507/507 [00:15<00:00, 33.63it/s]\n",
      "Training Epoch 1405: 100%|██████████| 507/507 [00:14<00:00, 33.85it/s]\n",
      "Training Epoch 1406: 100%|██████████| 507/507 [00:15<00:00, 33.66it/s]\n",
      "Training Epoch 1407: 100%|██████████| 507/507 [00:15<00:00, 33.75it/s]\n",
      "Training Epoch 1408: 100%|██████████| 507/507 [00:15<00:00, 33.68it/s]\n",
      "Training Epoch 1409: 100%|██████████| 507/507 [00:15<00:00, 33.63it/s]\n",
      "Training Epoch 1410: 100%|██████████| 507/507 [00:14<00:00, 34.04it/s]\n",
      "Training Epoch 1411: 100%|██████████| 507/507 [00:15<00:00, 33.71it/s]\n"
     ]
    },
    {
     "name": "stdout",
     "output_type": "stream",
     "text": [
      "Epoch 1410 - Train Loss: 0.2813, Train MSE: 0.2807, Train MAE: 0.3804\n",
      "Epoch 1410 - Validation Loss: 1.4323, Validation MSE: 1.4356, Validation MAE: 0.8583\n"
     ]
    },
    {
     "name": "stderr",
     "output_type": "stream",
     "text": [
      "Training Epoch 1412: 100%|██████████| 507/507 [00:14<00:00, 33.97it/s]\n",
      "Training Epoch 1413: 100%|██████████| 507/507 [00:15<00:00, 33.74it/s]\n",
      "Training Epoch 1414: 100%|██████████| 507/507 [00:14<00:00, 33.82it/s]\n",
      "Training Epoch 1415: 100%|██████████| 507/507 [00:15<00:00, 33.80it/s]\n",
      "Training Epoch 1416: 100%|██████████| 507/507 [00:15<00:00, 33.59it/s]\n",
      "Training Epoch 1417: 100%|██████████| 507/507 [00:15<00:00, 33.54it/s]\n",
      "Training Epoch 1418: 100%|██████████| 507/507 [17:48<00:00,  2.11s/it]  \n",
      "Training Epoch 1419: 100%|██████████| 507/507 [32:55<00:00,  3.90s/it]   \n",
      "Training Epoch 1420: 100%|██████████| 507/507 [00:20<00:00, 24.93it/s]\n",
      "Training Epoch 1421: 100%|██████████| 507/507 [06:35<00:00,  1.28it/s] \n"
     ]
    },
    {
     "name": "stdout",
     "output_type": "stream",
     "text": [
      "Epoch 1420 - Train Loss: 0.2718, Train MSE: 0.2717, Train MAE: 0.3777\n",
      "Epoch 1420 - Validation Loss: 1.4093, Validation MSE: 1.4134, Validation MAE: 0.8613\n"
     ]
    },
    {
     "name": "stderr",
     "output_type": "stream",
     "text": [
      "Training Epoch 1422: 100%|██████████| 507/507 [00:16<00:00, 31.26it/s]\n",
      "Training Epoch 1423: 100%|██████████| 507/507 [00:15<00:00, 32.16it/s]\n",
      "Training Epoch 1424: 100%|██████████| 507/507 [00:15<00:00, 32.73it/s]\n",
      "Training Epoch 1425: 100%|██████████| 507/507 [00:15<00:00, 33.34it/s]\n",
      "Training Epoch 1426: 100%|██████████| 507/507 [00:15<00:00, 32.44it/s]\n",
      "Training Epoch 1427: 100%|██████████| 507/507 [00:15<00:00, 33.37it/s]\n",
      "Training Epoch 1428: 100%|██████████| 507/507 [00:15<00:00, 33.40it/s]\n",
      "Training Epoch 1429: 100%|██████████| 507/507 [00:15<00:00, 33.27it/s]\n",
      "Training Epoch 1430: 100%|██████████| 507/507 [00:15<00:00, 33.40it/s]\n",
      "Training Epoch 1431: 100%|██████████| 507/507 [00:15<00:00, 33.19it/s]\n"
     ]
    },
    {
     "name": "stdout",
     "output_type": "stream",
     "text": [
      "Epoch 1430 - Train Loss: 0.2675, Train MSE: 0.2675, Train MAE: 0.3736\n",
      "Epoch 1430 - Validation Loss: 1.4143, Validation MSE: 1.4182, Validation MAE: 0.8665\n"
     ]
    },
    {
     "name": "stderr",
     "output_type": "stream",
     "text": [
      "Training Epoch 1432: 100%|██████████| 507/507 [00:15<00:00, 33.28it/s]\n",
      "Training Epoch 1433: 100%|██████████| 507/507 [00:15<00:00, 33.28it/s]\n",
      "Training Epoch 1434: 100%|██████████| 507/507 [00:15<00:00, 33.27it/s]\n",
      "Training Epoch 1435: 100%|██████████| 507/507 [00:15<00:00, 33.01it/s]\n",
      "Training Epoch 1436: 100%|██████████| 507/507 [00:15<00:00, 33.31it/s]\n",
      "Training Epoch 1437: 100%|██████████| 507/507 [00:15<00:00, 33.05it/s]\n",
      "Training Epoch 1438: 100%|██████████| 507/507 [00:15<00:00, 33.04it/s]\n",
      "Training Epoch 1439: 100%|██████████| 507/507 [00:15<00:00, 33.08it/s]\n",
      "Training Epoch 1440: 100%|██████████| 507/507 [00:15<00:00, 32.88it/s]\n",
      "Training Epoch 1441: 100%|██████████| 507/507 [00:15<00:00, 32.97it/s]\n"
     ]
    },
    {
     "name": "stdout",
     "output_type": "stream",
     "text": [
      "Epoch 1440 - Train Loss: 0.2695, Train MSE: 0.2696, Train MAE: 0.3742\n",
      "Epoch 1440 - Validation Loss: 1.4169, Validation MSE: 1.4204, Validation MAE: 0.8572\n"
     ]
    },
    {
     "name": "stderr",
     "output_type": "stream",
     "text": [
      "Training Epoch 1442: 100%|██████████| 507/507 [00:15<00:00, 32.83it/s]\n",
      "Training Epoch 1443: 100%|██████████| 507/507 [00:15<00:00, 33.04it/s]\n",
      "Training Epoch 1444: 100%|██████████| 507/507 [00:15<00:00, 32.89it/s]\n",
      "Training Epoch 1445: 100%|██████████| 507/507 [00:15<00:00, 32.98it/s]\n",
      "Training Epoch 1446: 100%|██████████| 507/507 [00:15<00:00, 33.07it/s]\n",
      "Training Epoch 1447: 100%|██████████| 507/507 [00:15<00:00, 33.15it/s]\n",
      "Training Epoch 1448: 100%|██████████| 507/507 [00:15<00:00, 33.12it/s]\n",
      "Training Epoch 1449: 100%|██████████| 507/507 [00:15<00:00, 33.05it/s]\n",
      "Training Epoch 1450: 100%|██████████| 507/507 [00:15<00:00, 33.06it/s]\n",
      "Training Epoch 1451: 100%|██████████| 507/507 [00:15<00:00, 32.78it/s]\n"
     ]
    },
    {
     "name": "stdout",
     "output_type": "stream",
     "text": [
      "Epoch 1450 - Train Loss: 0.2678, Train MSE: 0.2677, Train MAE: 0.3738\n",
      "Epoch 1450 - Validation Loss: 1.4343, Validation MSE: 1.4378, Validation MAE: 0.8646\n"
     ]
    },
    {
     "name": "stderr",
     "output_type": "stream",
     "text": [
      "Training Epoch 1452: 100%|██████████| 507/507 [00:15<00:00, 32.84it/s]\n",
      "Training Epoch 1453: 100%|██████████| 507/507 [00:15<00:00, 33.05it/s]\n",
      "Training Epoch 1454: 100%|██████████| 507/507 [00:15<00:00, 33.11it/s]\n",
      "Training Epoch 1455: 100%|██████████| 507/507 [00:15<00:00, 33.23it/s]\n",
      "Training Epoch 1456: 100%|██████████| 507/507 [00:15<00:00, 33.02it/s]\n",
      "Training Epoch 1457: 100%|██████████| 507/507 [00:15<00:00, 33.03it/s]\n",
      "Training Epoch 1458: 100%|██████████| 507/507 [00:15<00:00, 33.03it/s]\n",
      "Training Epoch 1459: 100%|██████████| 507/507 [00:15<00:00, 33.16it/s]\n",
      "Training Epoch 1460: 100%|██████████| 507/507 [00:15<00:00, 32.78it/s]\n",
      "Training Epoch 1461: 100%|██████████| 507/507 [00:15<00:00, 33.02it/s]\n"
     ]
    },
    {
     "name": "stdout",
     "output_type": "stream",
     "text": [
      "Epoch 1460 - Train Loss: 0.2714, Train MSE: 0.2716, Train MAE: 0.3724\n",
      "Epoch 1460 - Validation Loss: 1.4053, Validation MSE: 1.4093, Validation MAE: 0.8603\n"
     ]
    },
    {
     "name": "stderr",
     "output_type": "stream",
     "text": [
      "Training Epoch 1462: 100%|██████████| 507/507 [00:15<00:00, 33.20it/s]\n",
      "Training Epoch 1463: 100%|██████████| 507/507 [00:15<00:00, 33.40it/s]\n",
      "Training Epoch 1464: 100%|██████████| 507/507 [00:15<00:00, 33.35it/s]\n",
      "Training Epoch 1465: 100%|██████████| 507/507 [00:15<00:00, 32.96it/s]\n",
      "Training Epoch 1466: 100%|██████████| 507/507 [00:15<00:00, 32.89it/s]\n",
      "Training Epoch 1467: 100%|██████████| 507/507 [00:15<00:00, 33.11it/s]\n",
      "Training Epoch 1468: 100%|██████████| 507/507 [00:15<00:00, 32.89it/s]\n",
      "Training Epoch 1469: 100%|██████████| 507/507 [00:15<00:00, 33.14it/s]\n",
      "Training Epoch 1470: 100%|██████████| 507/507 [00:15<00:00, 33.09it/s]\n",
      "Training Epoch 1471: 100%|██████████| 507/507 [00:15<00:00, 33.13it/s]\n"
     ]
    },
    {
     "name": "stdout",
     "output_type": "stream",
     "text": [
      "Epoch 1470 - Train Loss: 0.2712, Train MSE: 0.2710, Train MAE: 0.3736\n",
      "Epoch 1470 - Validation Loss: 1.4088, Validation MSE: 1.4124, Validation MAE: 0.8582\n"
     ]
    },
    {
     "name": "stderr",
     "output_type": "stream",
     "text": [
      "Training Epoch 1472: 100%|██████████| 507/507 [00:15<00:00, 33.18it/s]\n",
      "Training Epoch 1473: 100%|██████████| 507/507 [00:15<00:00, 33.08it/s]\n",
      "Training Epoch 1474: 100%|██████████| 507/507 [00:15<00:00, 32.82it/s]\n",
      "Training Epoch 1475: 100%|██████████| 507/507 [00:15<00:00, 33.09it/s]\n",
      "Training Epoch 1476: 100%|██████████| 507/507 [00:15<00:00, 33.10it/s]\n",
      "Training Epoch 1477: 100%|██████████| 507/507 [00:15<00:00, 32.95it/s]\n",
      "Training Epoch 1478: 100%|██████████| 507/507 [00:15<00:00, 33.05it/s]\n",
      "Training Epoch 1479: 100%|██████████| 507/507 [00:15<00:00, 33.00it/s]\n",
      "Training Epoch 1480: 100%|██████████| 507/507 [00:15<00:00, 32.92it/s]\n",
      "Training Epoch 1481: 100%|██████████| 507/507 [00:15<00:00, 33.33it/s]\n"
     ]
    },
    {
     "name": "stdout",
     "output_type": "stream",
     "text": [
      "Epoch 1480 - Train Loss: 0.2776, Train MSE: 0.2774, Train MAE: 0.3774\n",
      "Epoch 1480 - Validation Loss: 1.4405, Validation MSE: 1.4443, Validation MAE: 0.8794\n"
     ]
    },
    {
     "name": "stderr",
     "output_type": "stream",
     "text": [
      "Training Epoch 1482: 100%|██████████| 507/507 [00:15<00:00, 33.42it/s]\n",
      "Training Epoch 1483: 100%|██████████| 507/507 [00:15<00:00, 33.32it/s]\n",
      "Training Epoch 1484: 100%|██████████| 507/507 [00:15<00:00, 33.19it/s]\n",
      "Training Epoch 1485: 100%|██████████| 507/507 [00:15<00:00, 32.90it/s]\n",
      "Training Epoch 1486: 100%|██████████| 507/507 [00:15<00:00, 33.16it/s]\n",
      "Training Epoch 1487: 100%|██████████| 507/507 [00:15<00:00, 33.10it/s]\n",
      "Training Epoch 1488: 100%|██████████| 507/507 [00:15<00:00, 33.42it/s]\n",
      "Training Epoch 1489: 100%|██████████| 507/507 [00:15<00:00, 33.19it/s]\n",
      "Training Epoch 1490: 100%|██████████| 507/507 [00:15<00:00, 33.28it/s]\n",
      "Training Epoch 1491: 100%|██████████| 507/507 [00:15<00:00, 33.26it/s]\n"
     ]
    },
    {
     "name": "stdout",
     "output_type": "stream",
     "text": [
      "Epoch 1490 - Train Loss: 0.2597, Train MSE: 0.2597, Train MAE: 0.3672\n",
      "Epoch 1490 - Validation Loss: 1.4130, Validation MSE: 1.4168, Validation MAE: 0.8604\n"
     ]
    },
    {
     "name": "stderr",
     "output_type": "stream",
     "text": [
      "Training Epoch 1492: 100%|██████████| 507/507 [00:15<00:00, 33.33it/s]\n",
      "Training Epoch 1493: 100%|██████████| 507/507 [00:15<00:00, 33.29it/s]\n",
      "Training Epoch 1494: 100%|██████████| 507/507 [00:15<00:00, 33.11it/s]\n",
      "Training Epoch 1495: 100%|██████████| 507/507 [00:15<00:00, 33.02it/s]\n",
      "Training Epoch 1496: 100%|██████████| 507/507 [00:15<00:00, 33.11it/s]\n",
      "Training Epoch 1497: 100%|██████████| 507/507 [00:15<00:00, 33.19it/s]\n",
      "Training Epoch 1498: 100%|██████████| 507/507 [00:15<00:00, 33.07it/s]\n",
      "Training Epoch 1499: 100%|██████████| 507/507 [00:15<00:00, 33.40it/s]\n",
      "Training Epoch 1500: 100%|██████████| 507/507 [00:15<00:00, 33.07it/s]\n",
      "Training Epoch 1501: 100%|██████████| 507/507 [00:15<00:00, 33.35it/s]\n"
     ]
    },
    {
     "name": "stdout",
     "output_type": "stream",
     "text": [
      "Epoch 1500 - Train Loss: 0.2591, Train MSE: 0.2592, Train MAE: 0.3673\n",
      "Epoch 1500 - Validation Loss: 1.4248, Validation MSE: 1.4285, Validation MAE: 0.8606\n"
     ]
    },
    {
     "name": "stderr",
     "output_type": "stream",
     "text": [
      "Training Epoch 1502: 100%|██████████| 507/507 [00:15<00:00, 33.44it/s]\n",
      "Training Epoch 1503: 100%|██████████| 507/507 [00:15<00:00, 33.23it/s]\n",
      "Training Epoch 1504: 100%|██████████| 507/507 [00:15<00:00, 33.11it/s]\n",
      "Training Epoch 1505: 100%|██████████| 507/507 [00:15<00:00, 33.21it/s]\n",
      "Training Epoch 1506: 100%|██████████| 507/507 [00:15<00:00, 33.40it/s]\n",
      "Training Epoch 1507: 100%|██████████| 507/507 [00:15<00:00, 33.29it/s]\n",
      "Training Epoch 1508: 100%|██████████| 507/507 [00:15<00:00, 33.14it/s]\n",
      "Training Epoch 1509: 100%|██████████| 507/507 [00:15<00:00, 33.25it/s]\n",
      "Training Epoch 1510: 100%|██████████| 507/507 [00:15<00:00, 33.03it/s]\n",
      "Training Epoch 1511: 100%|██████████| 507/507 [00:15<00:00, 33.05it/s]\n"
     ]
    },
    {
     "name": "stdout",
     "output_type": "stream",
     "text": [
      "Epoch 1510 - Train Loss: 0.2656, Train MSE: 0.2655, Train MAE: 0.3700\n",
      "Epoch 1510 - Validation Loss: 1.4014, Validation MSE: 1.4050, Validation MAE: 0.8528\n"
     ]
    },
    {
     "name": "stderr",
     "output_type": "stream",
     "text": [
      "Training Epoch 1512: 100%|██████████| 507/507 [00:15<00:00, 33.16it/s]\n",
      "Training Epoch 1513: 100%|██████████| 507/507 [00:15<00:00, 33.03it/s]\n",
      "Training Epoch 1514: 100%|██████████| 507/507 [00:15<00:00, 33.14it/s]\n",
      "Training Epoch 1515: 100%|██████████| 507/507 [00:15<00:00, 33.18it/s]\n",
      "Training Epoch 1516: 100%|██████████| 507/507 [00:15<00:00, 33.31it/s]\n",
      "Training Epoch 1517: 100%|██████████| 507/507 [00:15<00:00, 33.20it/s]\n",
      "Training Epoch 1518: 100%|██████████| 507/507 [00:15<00:00, 33.19it/s]\n",
      "Training Epoch 1519: 100%|██████████| 507/507 [00:15<00:00, 33.05it/s]\n",
      "Training Epoch 1520: 100%|██████████| 507/507 [00:15<00:00, 33.41it/s]\n",
      "Training Epoch 1521: 100%|██████████| 507/507 [00:15<00:00, 33.12it/s]\n"
     ]
    },
    {
     "name": "stdout",
     "output_type": "stream",
     "text": [
      "Epoch 1520 - Train Loss: 0.2662, Train MSE: 0.2657, Train MAE: 0.3695\n",
      "Epoch 1520 - Validation Loss: 1.4024, Validation MSE: 1.4059, Validation MAE: 0.8541\n"
     ]
    },
    {
     "name": "stderr",
     "output_type": "stream",
     "text": [
      "Training Epoch 1522: 100%|██████████| 507/507 [00:15<00:00, 33.35it/s]\n",
      "Training Epoch 1523: 100%|██████████| 507/507 [00:15<00:00, 33.14it/s]\n",
      "Training Epoch 1524: 100%|██████████| 507/507 [00:15<00:00, 33.23it/s]\n",
      "Training Epoch 1525: 100%|██████████| 507/507 [00:15<00:00, 33.27it/s]\n",
      "Training Epoch 1526: 100%|██████████| 507/507 [00:15<00:00, 33.20it/s]\n",
      "Training Epoch 1527: 100%|██████████| 507/507 [00:15<00:00, 33.31it/s]\n",
      "Training Epoch 1528: 100%|██████████| 507/507 [00:15<00:00, 33.19it/s]\n",
      "Training Epoch 1529: 100%|██████████| 507/507 [00:15<00:00, 33.43it/s]\n",
      "Training Epoch 1530: 100%|██████████| 507/507 [00:15<00:00, 33.47it/s]\n",
      "Training Epoch 1531: 100%|██████████| 507/507 [00:15<00:00, 33.30it/s]\n"
     ]
    },
    {
     "name": "stdout",
     "output_type": "stream",
     "text": [
      "Epoch 1530 - Train Loss: 0.2651, Train MSE: 0.2647, Train MAE: 0.3674\n",
      "Epoch 1530 - Validation Loss: 1.3851, Validation MSE: 1.3887, Validation MAE: 0.8524\n"
     ]
    },
    {
     "name": "stderr",
     "output_type": "stream",
     "text": [
      "Training Epoch 1532: 100%|██████████| 507/507 [00:15<00:00, 33.26it/s]\n",
      "Training Epoch 1533: 100%|██████████| 507/507 [00:15<00:00, 33.34it/s]\n",
      "Training Epoch 1534: 100%|██████████| 507/507 [00:15<00:00, 33.25it/s]\n",
      "Training Epoch 1535: 100%|██████████| 507/507 [00:15<00:00, 33.33it/s]\n",
      "Training Epoch 1536: 100%|██████████| 507/507 [00:15<00:00, 33.17it/s]\n",
      "Training Epoch 1537: 100%|██████████| 507/507 [00:15<00:00, 33.15it/s]\n",
      "Training Epoch 1538: 100%|██████████| 507/507 [00:15<00:00, 33.22it/s]\n",
      "Training Epoch 1539: 100%|██████████| 507/507 [00:15<00:00, 33.11it/s]\n",
      "Training Epoch 1540: 100%|██████████| 507/507 [00:15<00:00, 33.24it/s]\n",
      "Training Epoch 1541: 100%|██████████| 507/507 [00:15<00:00, 33.25it/s]\n"
     ]
    },
    {
     "name": "stdout",
     "output_type": "stream",
     "text": [
      "Epoch 1540 - Train Loss: 0.2635, Train MSE: 0.2636, Train MAE: 0.3694\n",
      "Epoch 1540 - Validation Loss: 1.4008, Validation MSE: 1.4049, Validation MAE: 0.8559\n"
     ]
    },
    {
     "name": "stderr",
     "output_type": "stream",
     "text": [
      "Training Epoch 1542: 100%|██████████| 507/507 [00:15<00:00, 33.19it/s]\n",
      "Training Epoch 1543: 100%|██████████| 507/507 [00:15<00:00, 33.19it/s]\n",
      "Training Epoch 1544: 100%|██████████| 507/507 [00:15<00:00, 33.41it/s]\n",
      "Training Epoch 1545: 100%|██████████| 507/507 [00:15<00:00, 33.48it/s]\n",
      "Training Epoch 1546: 100%|██████████| 507/507 [00:15<00:00, 33.14it/s]\n",
      "Training Epoch 1547: 100%|██████████| 507/507 [00:15<00:00, 33.31it/s]\n",
      "Training Epoch 1548: 100%|██████████| 507/507 [00:15<00:00, 33.27it/s]\n",
      "Training Epoch 1549: 100%|██████████| 507/507 [00:15<00:00, 33.30it/s]\n",
      "Training Epoch 1550: 100%|██████████| 507/507 [00:15<00:00, 33.09it/s]\n",
      "Training Epoch 1551: 100%|██████████| 507/507 [00:15<00:00, 33.10it/s]\n"
     ]
    },
    {
     "name": "stdout",
     "output_type": "stream",
     "text": [
      "Epoch 1550 - Train Loss: 0.2648, Train MSE: 0.2645, Train MAE: 0.3708\n",
      "Epoch 1550 - Validation Loss: 1.3830, Validation MSE: 1.3865, Validation MAE: 0.8540\n"
     ]
    },
    {
     "name": "stderr",
     "output_type": "stream",
     "text": [
      "Training Epoch 1552: 100%|██████████| 507/507 [00:15<00:00, 33.36it/s]\n",
      "Training Epoch 1553: 100%|██████████| 507/507 [00:15<00:00, 33.35it/s]\n",
      "Training Epoch 1554: 100%|██████████| 507/507 [00:15<00:00, 33.44it/s]\n",
      "Training Epoch 1555: 100%|██████████| 507/507 [00:15<00:00, 33.12it/s]\n",
      "Training Epoch 1556: 100%|██████████| 507/507 [00:15<00:00, 33.32it/s]\n",
      "Training Epoch 1557: 100%|██████████| 507/507 [00:15<00:00, 33.24it/s]\n",
      "Training Epoch 1558: 100%|██████████| 507/507 [00:15<00:00, 33.25it/s]\n",
      "Training Epoch 1559: 100%|██████████| 507/507 [00:15<00:00, 33.30it/s]\n",
      "Training Epoch 1560: 100%|██████████| 507/507 [00:15<00:00, 33.41it/s]\n",
      "Training Epoch 1561: 100%|██████████| 507/507 [00:15<00:00, 33.38it/s]\n"
     ]
    },
    {
     "name": "stdout",
     "output_type": "stream",
     "text": [
      "Epoch 1560 - Train Loss: 0.2725, Train MSE: 0.2725, Train MAE: 0.3738\n",
      "Epoch 1560 - Validation Loss: 1.4042, Validation MSE: 1.4085, Validation MAE: 0.8539\n"
     ]
    },
    {
     "name": "stderr",
     "output_type": "stream",
     "text": [
      "Training Epoch 1562: 100%|██████████| 507/507 [00:15<00:00, 33.29it/s]\n",
      "Training Epoch 1563: 100%|██████████| 507/507 [00:15<00:00, 33.10it/s]\n",
      "Training Epoch 1564: 100%|██████████| 507/507 [00:15<00:00, 33.22it/s]\n",
      "Training Epoch 1565: 100%|██████████| 507/507 [00:15<00:00, 33.35it/s]\n",
      "Training Epoch 1566: 100%|██████████| 507/507 [00:15<00:00, 33.40it/s]\n",
      "Training Epoch 1567: 100%|██████████| 507/507 [00:15<00:00, 33.38it/s]\n",
      "Training Epoch 1568: 100%|██████████| 507/507 [00:15<00:00, 33.18it/s]\n",
      "Training Epoch 1569: 100%|██████████| 507/507 [00:15<00:00, 33.43it/s]\n",
      "Training Epoch 1570: 100%|██████████| 507/507 [00:15<00:00, 33.39it/s]\n",
      "Training Epoch 1571: 100%|██████████| 507/507 [00:15<00:00, 33.45it/s]\n"
     ]
    },
    {
     "name": "stdout",
     "output_type": "stream",
     "text": [
      "Epoch 1570 - Train Loss: 0.2605, Train MSE: 0.2607, Train MAE: 0.3684\n",
      "Epoch 1570 - Validation Loss: 1.4098, Validation MSE: 1.4135, Validation MAE: 0.8597\n"
     ]
    },
    {
     "name": "stderr",
     "output_type": "stream",
     "text": [
      "Training Epoch 1572: 100%|██████████| 507/507 [00:15<00:00, 33.30it/s]\n",
      "Training Epoch 1573: 100%|██████████| 507/507 [00:15<00:00, 33.25it/s]\n",
      "Training Epoch 1574: 100%|██████████| 507/507 [00:15<00:00, 33.55it/s]\n",
      "Training Epoch 1575: 100%|██████████| 507/507 [00:15<00:00, 33.46it/s]\n",
      "Training Epoch 1576: 100%|██████████| 507/507 [00:15<00:00, 33.50it/s]\n",
      "Training Epoch 1577: 100%|██████████| 507/507 [00:15<00:00, 33.29it/s]\n",
      "Training Epoch 1578: 100%|██████████| 507/507 [00:15<00:00, 33.42it/s]\n",
      "Training Epoch 1579: 100%|██████████| 507/507 [00:15<00:00, 33.38it/s]\n",
      "Training Epoch 1580: 100%|██████████| 507/507 [00:15<00:00, 33.48it/s]\n",
      "Training Epoch 1581: 100%|██████████| 507/507 [00:15<00:00, 33.36it/s]\n"
     ]
    },
    {
     "name": "stdout",
     "output_type": "stream",
     "text": [
      "Epoch 1580 - Train Loss: 0.2538, Train MSE: 0.2539, Train MAE: 0.3631\n",
      "Epoch 1580 - Validation Loss: 1.3860, Validation MSE: 1.3895, Validation MAE: 0.8503\n"
     ]
    },
    {
     "name": "stderr",
     "output_type": "stream",
     "text": [
      "Training Epoch 1582: 100%|██████████| 507/507 [00:15<00:00, 33.07it/s]\n",
      "Training Epoch 1583: 100%|██████████| 507/507 [00:15<00:00, 33.14it/s]\n",
      "Training Epoch 1584: 100%|██████████| 507/507 [00:15<00:00, 33.19it/s]\n",
      "Training Epoch 1585: 100%|██████████| 507/507 [00:15<00:00, 33.04it/s]\n",
      "Training Epoch 1586: 100%|██████████| 507/507 [00:15<00:00, 33.12it/s]\n",
      "Training Epoch 1587: 100%|██████████| 507/507 [00:15<00:00, 33.41it/s]\n",
      "Training Epoch 1588: 100%|██████████| 507/507 [00:15<00:00, 33.34it/s]\n",
      "Training Epoch 1589: 100%|██████████| 507/507 [00:15<00:00, 33.36it/s]\n",
      "Training Epoch 1590: 100%|██████████| 507/507 [00:15<00:00, 33.57it/s]\n",
      "Training Epoch 1591: 100%|██████████| 507/507 [00:15<00:00, 33.11it/s]\n"
     ]
    },
    {
     "name": "stdout",
     "output_type": "stream",
     "text": [
      "Epoch 1590 - Train Loss: 0.2625, Train MSE: 0.2624, Train MAE: 0.3661\n",
      "Epoch 1590 - Validation Loss: 1.4017, Validation MSE: 1.4056, Validation MAE: 0.8583\n"
     ]
    },
    {
     "name": "stderr",
     "output_type": "stream",
     "text": [
      "Training Epoch 1592: 100%|██████████| 507/507 [00:15<00:00, 33.20it/s]\n",
      "Training Epoch 1593: 100%|██████████| 507/507 [00:15<00:00, 33.11it/s]\n",
      "Training Epoch 1594: 100%|██████████| 507/507 [00:15<00:00, 33.25it/s]\n",
      "Training Epoch 1595: 100%|██████████| 507/507 [00:15<00:00, 33.06it/s]\n",
      "Training Epoch 1596: 100%|██████████| 507/507 [00:15<00:00, 33.12it/s]\n",
      "Training Epoch 1597: 100%|██████████| 507/507 [00:15<00:00, 33.10it/s]\n",
      "Training Epoch 1598: 100%|██████████| 507/507 [00:15<00:00, 33.18it/s]\n",
      "Training Epoch 1599: 100%|██████████| 507/507 [00:15<00:00, 32.98it/s]\n",
      "Training Epoch 1600: 100%|██████████| 507/507 [00:15<00:00, 33.10it/s]\n",
      "Training Epoch 1601: 100%|██████████| 507/507 [00:15<00:00, 33.21it/s]\n"
     ]
    },
    {
     "name": "stdout",
     "output_type": "stream",
     "text": [
      "Epoch 1600 - Train Loss: 0.2599, Train MSE: 0.2600, Train MAE: 0.3656\n",
      "Epoch 1600 - Validation Loss: 1.3962, Validation MSE: 1.4000, Validation MAE: 0.8534\n"
     ]
    },
    {
     "name": "stderr",
     "output_type": "stream",
     "text": [
      "Training Epoch 1602: 100%|██████████| 507/507 [00:15<00:00, 33.24it/s]\n",
      "Training Epoch 1603: 100%|██████████| 507/507 [00:15<00:00, 33.38it/s]\n",
      "Training Epoch 1604: 100%|██████████| 507/507 [00:15<00:00, 33.38it/s]\n",
      "Training Epoch 1605: 100%|██████████| 507/507 [00:15<00:00, 33.33it/s]\n",
      "Training Epoch 1606: 100%|██████████| 507/507 [00:15<00:00, 33.38it/s]\n",
      "Training Epoch 1607: 100%|██████████| 507/507 [00:15<00:00, 33.15it/s]\n",
      "Training Epoch 1608: 100%|██████████| 507/507 [00:15<00:00, 33.40it/s]\n",
      "Training Epoch 1609: 100%|██████████| 507/507 [00:15<00:00, 33.34it/s]\n",
      "Training Epoch 1610: 100%|██████████| 507/507 [00:15<00:00, 33.18it/s]\n",
      "Training Epoch 1611: 100%|██████████| 507/507 [00:15<00:00, 33.33it/s]\n"
     ]
    },
    {
     "name": "stdout",
     "output_type": "stream",
     "text": [
      "Epoch 1610 - Train Loss: 0.2679, Train MSE: 0.2679, Train MAE: 0.3717\n",
      "Epoch 1610 - Validation Loss: 1.4332, Validation MSE: 1.4371, Validation MAE: 0.8636\n"
     ]
    },
    {
     "name": "stderr",
     "output_type": "stream",
     "text": [
      "Training Epoch 1612: 100%|██████████| 507/507 [00:15<00:00, 33.15it/s]\n",
      "Training Epoch 1613: 100%|██████████| 507/507 [00:15<00:00, 33.28it/s]\n",
      "Training Epoch 1614: 100%|██████████| 507/507 [00:15<00:00, 33.43it/s]\n",
      "Training Epoch 1615: 100%|██████████| 507/507 [00:15<00:00, 33.40it/s]\n",
      "Training Epoch 1616: 100%|██████████| 507/507 [00:15<00:00, 33.12it/s]\n",
      "Training Epoch 1617: 100%|██████████| 507/507 [00:15<00:00, 33.22it/s]\n",
      "Training Epoch 1618: 100%|██████████| 507/507 [00:15<00:00, 33.25it/s]\n",
      "Training Epoch 1619: 100%|██████████| 507/507 [00:15<00:00, 33.28it/s]\n",
      "Training Epoch 1620: 100%|██████████| 507/507 [00:15<00:00, 33.24it/s]\n",
      "Training Epoch 1621: 100%|██████████| 507/507 [00:15<00:00, 33.22it/s]\n"
     ]
    },
    {
     "name": "stdout",
     "output_type": "stream",
     "text": [
      "Epoch 1620 - Train Loss: 0.2628, Train MSE: 0.2628, Train MAE: 0.3675\n",
      "Epoch 1620 - Validation Loss: 1.3955, Validation MSE: 1.3995, Validation MAE: 0.8545\n"
     ]
    },
    {
     "name": "stderr",
     "output_type": "stream",
     "text": [
      "Training Epoch 1622: 100%|██████████| 507/507 [00:15<00:00, 33.24it/s]\n",
      "Training Epoch 1623: 100%|██████████| 507/507 [00:15<00:00, 33.04it/s]\n",
      "Training Epoch 1624: 100%|██████████| 507/507 [00:15<00:00, 33.13it/s]\n",
      "Training Epoch 1625: 100%|██████████| 507/507 [00:15<00:00, 33.20it/s]\n",
      "Training Epoch 1626: 100%|██████████| 507/507 [00:15<00:00, 33.41it/s]\n",
      "Training Epoch 1627: 100%|██████████| 507/507 [00:15<00:00, 33.27it/s]\n",
      "Training Epoch 1628: 100%|██████████| 507/507 [00:15<00:00, 33.41it/s]\n",
      "Training Epoch 1629: 100%|██████████| 507/507 [00:15<00:00, 33.11it/s]\n",
      "Training Epoch 1630: 100%|██████████| 507/507 [00:15<00:00, 33.34it/s]\n",
      "Training Epoch 1631: 100%|██████████| 507/507 [00:15<00:00, 33.37it/s]\n"
     ]
    },
    {
     "name": "stdout",
     "output_type": "stream",
     "text": [
      "Epoch 1630 - Train Loss: 0.2661, Train MSE: 0.2660, Train MAE: 0.3688\n",
      "Epoch 1630 - Validation Loss: 1.4028, Validation MSE: 1.4066, Validation MAE: 0.8537\n"
     ]
    },
    {
     "name": "stderr",
     "output_type": "stream",
     "text": [
      "Training Epoch 1632: 100%|██████████| 507/507 [00:15<00:00, 33.49it/s]\n",
      "Training Epoch 1633: 100%|██████████| 507/507 [00:15<00:00, 33.04it/s]\n",
      "Training Epoch 1634: 100%|██████████| 507/507 [00:15<00:00, 33.23it/s]\n",
      "Training Epoch 1635: 100%|██████████| 507/507 [00:15<00:00, 33.01it/s]\n",
      "Training Epoch 1636: 100%|██████████| 507/507 [00:15<00:00, 32.96it/s]\n",
      "Training Epoch 1637: 100%|██████████| 507/507 [00:15<00:00, 33.01it/s]\n",
      "Training Epoch 1638: 100%|██████████| 507/507 [00:15<00:00, 33.16it/s]\n",
      "Training Epoch 1639: 100%|██████████| 507/507 [00:15<00:00, 33.38it/s]\n",
      "Training Epoch 1640: 100%|██████████| 507/507 [00:15<00:00, 33.22it/s]\n",
      "Training Epoch 1641: 100%|██████████| 507/507 [00:15<00:00, 33.32it/s]\n"
     ]
    },
    {
     "name": "stdout",
     "output_type": "stream",
     "text": [
      "Epoch 1640 - Train Loss: 0.2586, Train MSE: 0.2583, Train MAE: 0.3665\n",
      "Epoch 1640 - Validation Loss: 1.3981, Validation MSE: 1.4016, Validation MAE: 0.8618\n"
     ]
    },
    {
     "name": "stderr",
     "output_type": "stream",
     "text": [
      "Training Epoch 1642: 100%|██████████| 507/507 [00:15<00:00, 33.25it/s]\n",
      "Training Epoch 1643: 100%|██████████| 507/507 [00:15<00:00, 33.30it/s]\n",
      "Training Epoch 1644: 100%|██████████| 507/507 [00:15<00:00, 33.19it/s]\n",
      "Training Epoch 1645: 100%|██████████| 507/507 [00:15<00:00, 33.29it/s]\n",
      "Training Epoch 1646: 100%|██████████| 507/507 [00:15<00:00, 33.21it/s]\n",
      "Training Epoch 1647: 100%|██████████| 507/507 [00:15<00:00, 33.20it/s]\n",
      "Training Epoch 1648: 100%|██████████| 507/507 [00:15<00:00, 33.30it/s]\n",
      "Training Epoch 1649: 100%|██████████| 507/507 [00:15<00:00, 33.13it/s]\n",
      "Training Epoch 1650: 100%|██████████| 507/507 [00:15<00:00, 33.26it/s]\n",
      "Training Epoch 1651: 100%|██████████| 507/507 [00:15<00:00, 33.14it/s]\n"
     ]
    },
    {
     "name": "stdout",
     "output_type": "stream",
     "text": [
      "Epoch 1650 - Train Loss: 0.2648, Train MSE: 0.2647, Train MAE: 0.3710\n",
      "Epoch 1650 - Validation Loss: 1.4340, Validation MSE: 1.4375, Validation MAE: 0.8597\n"
     ]
    },
    {
     "name": "stderr",
     "output_type": "stream",
     "text": [
      "Training Epoch 1652: 100%|██████████| 507/507 [00:15<00:00, 33.10it/s]\n",
      "Training Epoch 1653: 100%|██████████| 507/507 [00:15<00:00, 33.23it/s]\n",
      "Training Epoch 1654: 100%|██████████| 507/507 [00:15<00:00, 33.11it/s]\n",
      "Training Epoch 1655: 100%|██████████| 507/507 [00:15<00:00, 33.30it/s]\n",
      "Training Epoch 1656: 100%|██████████| 507/507 [00:15<00:00, 33.23it/s]\n",
      "Training Epoch 1657: 100%|██████████| 507/507 [00:15<00:00, 33.48it/s]\n",
      "Training Epoch 1658: 100%|██████████| 507/507 [00:15<00:00, 33.40it/s]\n",
      "Training Epoch 1659: 100%|██████████| 507/507 [00:15<00:00, 33.19it/s]\n",
      "Training Epoch 1660: 100%|██████████| 507/507 [00:15<00:00, 33.33it/s]\n",
      "Training Epoch 1661: 100%|██████████| 507/507 [00:15<00:00, 33.46it/s]\n"
     ]
    },
    {
     "name": "stdout",
     "output_type": "stream",
     "text": [
      "Epoch 1660 - Train Loss: 0.2631, Train MSE: 0.2629, Train MAE: 0.3678\n",
      "Epoch 1660 - Validation Loss: 1.4066, Validation MSE: 1.4107, Validation MAE: 0.8533\n"
     ]
    },
    {
     "name": "stderr",
     "output_type": "stream",
     "text": [
      "Training Epoch 1662: 100%|██████████| 507/507 [00:15<00:00, 33.13it/s]\n",
      "Training Epoch 1663: 100%|██████████| 507/507 [00:15<00:00, 33.19it/s]\n",
      "Training Epoch 1664: 100%|██████████| 507/507 [00:15<00:00, 33.21it/s]\n",
      "Training Epoch 1665: 100%|██████████| 507/507 [00:15<00:00, 33.12it/s]\n",
      "Training Epoch 1666: 100%|██████████| 507/507 [00:15<00:00, 33.13it/s]\n",
      "Training Epoch 1667: 100%|██████████| 507/507 [00:15<00:00, 33.35it/s]\n",
      "Training Epoch 1668: 100%|██████████| 507/507 [00:15<00:00, 33.36it/s]\n",
      "Training Epoch 1669: 100%|██████████| 507/507 [00:15<00:00, 33.18it/s]\n",
      "Training Epoch 1670: 100%|██████████| 507/507 [00:15<00:00, 33.34it/s]\n",
      "Training Epoch 1671: 100%|██████████| 507/507 [00:15<00:00, 33.18it/s]\n"
     ]
    },
    {
     "name": "stdout",
     "output_type": "stream",
     "text": [
      "Epoch 1670 - Train Loss: 0.2615, Train MSE: 0.2612, Train MAE: 0.3690\n",
      "Epoch 1670 - Validation Loss: 1.3976, Validation MSE: 1.4009, Validation MAE: 0.8524\n"
     ]
    },
    {
     "name": "stderr",
     "output_type": "stream",
     "text": [
      "Training Epoch 1672: 100%|██████████| 507/507 [00:15<00:00, 33.19it/s]\n",
      "Training Epoch 1673: 100%|██████████| 507/507 [00:15<00:00, 33.25it/s]\n",
      "Training Epoch 1674: 100%|██████████| 507/507 [00:15<00:00, 33.43it/s]\n",
      "Training Epoch 1675: 100%|██████████| 507/507 [00:15<00:00, 33.19it/s]\n",
      "Training Epoch 1676: 100%|██████████| 507/507 [00:15<00:00, 33.62it/s]\n",
      "Training Epoch 1677: 100%|██████████| 507/507 [00:15<00:00, 33.22it/s]\n",
      "Training Epoch 1678: 100%|██████████| 507/507 [00:15<00:00, 33.43it/s]\n",
      "Training Epoch 1679: 100%|██████████| 507/507 [00:15<00:00, 33.43it/s]\n",
      "Training Epoch 1680: 100%|██████████| 507/507 [00:15<00:00, 33.45it/s]\n",
      "Training Epoch 1681: 100%|██████████| 507/507 [00:15<00:00, 33.30it/s]\n"
     ]
    },
    {
     "name": "stdout",
     "output_type": "stream",
     "text": [
      "Epoch 1680 - Train Loss: 0.2559, Train MSE: 0.2559, Train MAE: 0.3646\n",
      "Epoch 1680 - Validation Loss: 1.4060, Validation MSE: 1.4099, Validation MAE: 0.8634\n"
     ]
    },
    {
     "name": "stderr",
     "output_type": "stream",
     "text": [
      "Training Epoch 1682: 100%|██████████| 507/507 [00:15<00:00, 33.35it/s]\n",
      "Training Epoch 1683: 100%|██████████| 507/507 [00:15<00:00, 33.12it/s]\n",
      "Training Epoch 1684: 100%|██████████| 507/507 [00:15<00:00, 33.24it/s]\n",
      "Training Epoch 1685: 100%|██████████| 507/507 [00:15<00:00, 33.23it/s]\n",
      "Training Epoch 1686: 100%|██████████| 507/507 [00:15<00:00, 33.29it/s]\n",
      "Training Epoch 1687: 100%|██████████| 507/507 [00:15<00:00, 33.38it/s]\n",
      "Training Epoch 1688: 100%|██████████| 507/507 [00:15<00:00, 33.22it/s]\n",
      "Training Epoch 1689: 100%|██████████| 507/507 [00:15<00:00, 33.06it/s]\n",
      "Training Epoch 1690: 100%|██████████| 507/507 [00:15<00:00, 33.33it/s]\n",
      "Training Epoch 1691: 100%|██████████| 507/507 [00:15<00:00, 33.60it/s]\n"
     ]
    },
    {
     "name": "stdout",
     "output_type": "stream",
     "text": [
      "Epoch 1690 - Train Loss: 0.2591, Train MSE: 0.2591, Train MAE: 0.3673\n",
      "Epoch 1690 - Validation Loss: 1.4364, Validation MSE: 1.4400, Validation MAE: 0.8653\n"
     ]
    },
    {
     "name": "stderr",
     "output_type": "stream",
     "text": [
      "Training Epoch 1692: 100%|██████████| 507/507 [00:15<00:00, 33.63it/s]\n",
      "Training Epoch 1693: 100%|██████████| 507/507 [00:15<00:00, 33.15it/s]\n",
      "Training Epoch 1694: 100%|██████████| 507/507 [00:15<00:00, 33.31it/s]\n",
      "Training Epoch 1695: 100%|██████████| 507/507 [00:15<00:00, 33.43it/s]\n",
      "Training Epoch 1696: 100%|██████████| 507/507 [00:15<00:00, 33.45it/s]\n",
      "Training Epoch 1697: 100%|██████████| 507/507 [00:15<00:00, 33.35it/s]\n",
      "Training Epoch 1698: 100%|██████████| 507/507 [00:15<00:00, 33.39it/s]\n",
      "Training Epoch 1699: 100%|██████████| 507/507 [00:15<00:00, 33.45it/s]\n",
      "Training Epoch 1700: 100%|██████████| 507/507 [00:15<00:00, 33.40it/s]\n",
      "Training Epoch 1701: 100%|██████████| 507/507 [00:15<00:00, 33.42it/s]\n"
     ]
    },
    {
     "name": "stdout",
     "output_type": "stream",
     "text": [
      "Epoch 1700 - Train Loss: 0.2576, Train MSE: 0.2566, Train MAE: 0.3631\n",
      "Epoch 1700 - Validation Loss: 1.3956, Validation MSE: 1.3990, Validation MAE: 0.8580\n"
     ]
    },
    {
     "name": "stderr",
     "output_type": "stream",
     "text": [
      "Training Epoch 1702: 100%|██████████| 507/507 [00:15<00:00, 33.43it/s]\n",
      "Training Epoch 1703: 100%|██████████| 507/507 [00:15<00:00, 33.41it/s]\n",
      "Training Epoch 1704: 100%|██████████| 507/507 [00:15<00:00, 33.41it/s]\n",
      "Training Epoch 1705: 100%|██████████| 507/507 [00:15<00:00, 33.39it/s]\n",
      "Training Epoch 1706: 100%|██████████| 507/507 [00:15<00:00, 33.36it/s]\n",
      "Training Epoch 1707: 100%|██████████| 507/507 [00:15<00:00, 33.39it/s]\n",
      "Training Epoch 1708: 100%|██████████| 507/507 [00:15<00:00, 33.27it/s]\n",
      "Training Epoch 1709: 100%|██████████| 507/507 [00:15<00:00, 33.57it/s]\n",
      "Training Epoch 1710: 100%|██████████| 507/507 [00:15<00:00, 33.63it/s]\n",
      "Training Epoch 1711: 100%|██████████| 507/507 [00:15<00:00, 33.56it/s]\n"
     ]
    },
    {
     "name": "stdout",
     "output_type": "stream",
     "text": [
      "Epoch 1710 - Train Loss: 0.2645, Train MSE: 0.2643, Train MAE: 0.3704\n",
      "Epoch 1710 - Validation Loss: 1.4029, Validation MSE: 1.4069, Validation MAE: 0.8546\n"
     ]
    },
    {
     "name": "stderr",
     "output_type": "stream",
     "text": [
      "Training Epoch 1712: 100%|██████████| 507/507 [00:15<00:00, 33.41it/s]\n",
      "Training Epoch 1713: 100%|██████████| 507/507 [00:15<00:00, 33.37it/s]\n",
      "Training Epoch 1714: 100%|██████████| 507/507 [00:15<00:00, 33.52it/s]\n",
      "Training Epoch 1715: 100%|██████████| 507/507 [00:15<00:00, 33.43it/s]\n",
      "Training Epoch 1716: 100%|██████████| 507/507 [00:15<00:00, 33.38it/s]\n",
      "Training Epoch 1717: 100%|██████████| 507/507 [00:15<00:00, 33.35it/s]\n",
      "Training Epoch 1718: 100%|██████████| 507/507 [00:15<00:00, 33.41it/s]\n",
      "Training Epoch 1719: 100%|██████████| 507/507 [00:15<00:00, 33.20it/s]\n",
      "Training Epoch 1720: 100%|██████████| 507/507 [00:15<00:00, 33.24it/s]\n",
      "Training Epoch 1721: 100%|██████████| 507/507 [00:15<00:00, 33.27it/s]\n"
     ]
    },
    {
     "name": "stdout",
     "output_type": "stream",
     "text": [
      "Epoch 1720 - Train Loss: 0.2644, Train MSE: 0.2645, Train MAE: 0.3701\n",
      "Epoch 1720 - Validation Loss: 1.4360, Validation MSE: 1.4401, Validation MAE: 0.8664\n"
     ]
    },
    {
     "name": "stderr",
     "output_type": "stream",
     "text": [
      "Training Epoch 1722: 100%|██████████| 507/507 [00:15<00:00, 33.29it/s]\n",
      "Training Epoch 1723: 100%|██████████| 507/507 [00:15<00:00, 33.32it/s]\n",
      "Training Epoch 1724: 100%|██████████| 507/507 [00:15<00:00, 33.19it/s]\n",
      "Training Epoch 1725: 100%|██████████| 507/507 [00:15<00:00, 33.26it/s]\n",
      "Training Epoch 1726: 100%|██████████| 507/507 [00:15<00:00, 33.31it/s]\n",
      "Training Epoch 1727: 100%|██████████| 507/507 [00:15<00:00, 33.45it/s]\n",
      "Training Epoch 1728: 100%|██████████| 507/507 [00:15<00:00, 33.35it/s]\n",
      "Training Epoch 1729: 100%|██████████| 507/507 [00:15<00:00, 33.37it/s]\n",
      "Training Epoch 1730: 100%|██████████| 507/507 [00:15<00:00, 33.39it/s]\n",
      "Training Epoch 1731: 100%|██████████| 507/507 [00:15<00:00, 33.37it/s]\n"
     ]
    },
    {
     "name": "stdout",
     "output_type": "stream",
     "text": [
      "Epoch 1730 - Train Loss: 0.2614, Train MSE: 0.2613, Train MAE: 0.3670\n",
      "Epoch 1730 - Validation Loss: 1.4041, Validation MSE: 1.4079, Validation MAE: 0.8529\n"
     ]
    },
    {
     "name": "stderr",
     "output_type": "stream",
     "text": [
      "Training Epoch 1732: 100%|██████████| 507/507 [00:15<00:00, 33.50it/s]\n",
      "Training Epoch 1733: 100%|██████████| 507/507 [00:15<00:00, 33.44it/s]\n",
      "Training Epoch 1734: 100%|██████████| 507/507 [00:15<00:00, 33.42it/s]\n",
      "Training Epoch 1735: 100%|██████████| 507/507 [00:15<00:00, 33.27it/s]\n",
      "Training Epoch 1736: 100%|██████████| 507/507 [00:15<00:00, 33.33it/s]\n",
      "Training Epoch 1737: 100%|██████████| 507/507 [00:15<00:00, 33.38it/s]\n",
      "Training Epoch 1738: 100%|██████████| 507/507 [00:15<00:00, 33.46it/s]\n",
      "Training Epoch 1739: 100%|██████████| 507/507 [00:15<00:00, 33.31it/s]\n",
      "Training Epoch 1740: 100%|██████████| 507/507 [00:15<00:00, 33.47it/s]\n",
      "Training Epoch 1741: 100%|██████████| 507/507 [00:15<00:00, 33.35it/s]\n"
     ]
    },
    {
     "name": "stdout",
     "output_type": "stream",
     "text": [
      "Epoch 1740 - Train Loss: 0.2565, Train MSE: 0.2566, Train MAE: 0.3628\n",
      "Epoch 1740 - Validation Loss: 1.4071, Validation MSE: 1.4106, Validation MAE: 0.8556\n"
     ]
    },
    {
     "name": "stderr",
     "output_type": "stream",
     "text": [
      "Training Epoch 1742: 100%|██████████| 507/507 [00:15<00:00, 33.33it/s]\n",
      "Training Epoch 1743: 100%|██████████| 507/507 [00:15<00:00, 33.42it/s]\n",
      "Training Epoch 1744: 100%|██████████| 507/507 [00:15<00:00, 33.39it/s]\n",
      "Training Epoch 1745: 100%|██████████| 507/507 [00:15<00:00, 33.47it/s]\n",
      "Training Epoch 1746: 100%|██████████| 507/507 [00:15<00:00, 33.38it/s]\n",
      "Training Epoch 1747: 100%|██████████| 507/507 [00:15<00:00, 33.29it/s]\n",
      "Training Epoch 1748: 100%|██████████| 507/507 [00:15<00:00, 33.30it/s]\n",
      "Training Epoch 1749: 100%|██████████| 507/507 [00:15<00:00, 33.27it/s]\n",
      "Training Epoch 1750: 100%|██████████| 507/507 [00:15<00:00, 33.19it/s]\n",
      "Training Epoch 1751: 100%|██████████| 507/507 [00:15<00:00, 33.24it/s]\n"
     ]
    },
    {
     "name": "stdout",
     "output_type": "stream",
     "text": [
      "Epoch 1750 - Train Loss: 0.2539, Train MSE: 0.2541, Train MAE: 0.3625\n",
      "Epoch 1750 - Validation Loss: 1.4110, Validation MSE: 1.4149, Validation MAE: 0.8623\n"
     ]
    },
    {
     "name": "stderr",
     "output_type": "stream",
     "text": [
      "Training Epoch 1752: 100%|██████████| 507/507 [00:15<00:00, 33.26it/s]\n",
      "Training Epoch 1753: 100%|██████████| 507/507 [00:15<00:00, 33.34it/s]\n",
      "Training Epoch 1754: 100%|██████████| 507/507 [00:15<00:00, 33.42it/s]\n",
      "Training Epoch 1755: 100%|██████████| 507/507 [00:15<00:00, 33.34it/s]\n",
      "Training Epoch 1756: 100%|██████████| 507/507 [00:15<00:00, 33.39it/s]\n",
      "Training Epoch 1757: 100%|██████████| 507/507 [00:15<00:00, 33.27it/s]\n",
      "Training Epoch 1758: 100%|██████████| 507/507 [00:15<00:00, 33.37it/s]\n",
      "Training Epoch 1759: 100%|██████████| 507/507 [00:15<00:00, 33.18it/s]\n",
      "Training Epoch 1760: 100%|██████████| 507/507 [00:15<00:00, 33.45it/s]\n",
      "Training Epoch 1761: 100%|██████████| 507/507 [00:15<00:00, 33.54it/s]\n"
     ]
    },
    {
     "name": "stdout",
     "output_type": "stream",
     "text": [
      "Epoch 1760 - Train Loss: 0.2606, Train MSE: 0.2603, Train MAE: 0.3665\n",
      "Epoch 1760 - Validation Loss: 1.3980, Validation MSE: 1.4016, Validation MAE: 0.8528\n"
     ]
    },
    {
     "name": "stderr",
     "output_type": "stream",
     "text": [
      "Training Epoch 1762: 100%|██████████| 507/507 [00:15<00:00, 33.52it/s]\n",
      "Training Epoch 1763: 100%|██████████| 507/507 [00:15<00:00, 33.45it/s]\n",
      "Training Epoch 1764: 100%|██████████| 507/507 [00:15<00:00, 33.40it/s]\n",
      "Training Epoch 1765: 100%|██████████| 507/507 [00:15<00:00, 33.41it/s]\n",
      "Training Epoch 1766: 100%|██████████| 507/507 [00:15<00:00, 33.48it/s]\n",
      "Training Epoch 1767: 100%|██████████| 507/507 [00:15<00:00, 33.40it/s]\n",
      "Training Epoch 1768: 100%|██████████| 507/507 [00:15<00:00, 33.42it/s]\n",
      "Training Epoch 1769: 100%|██████████| 507/507 [00:15<00:00, 33.48it/s]\n",
      "Training Epoch 1770: 100%|██████████| 507/507 [00:15<00:00, 33.63it/s]\n",
      "Training Epoch 1771: 100%|██████████| 507/507 [00:15<00:00, 33.49it/s]\n"
     ]
    },
    {
     "name": "stdout",
     "output_type": "stream",
     "text": [
      "Epoch 1770 - Train Loss: 0.2592, Train MSE: 0.2593, Train MAE: 0.3672\n",
      "Epoch 1770 - Validation Loss: 1.4181, Validation MSE: 1.4217, Validation MAE: 0.8570\n"
     ]
    },
    {
     "name": "stderr",
     "output_type": "stream",
     "text": [
      "Training Epoch 1772: 100%|██████████| 507/507 [00:15<00:00, 33.29it/s]\n",
      "Training Epoch 1773: 100%|██████████| 507/507 [00:15<00:00, 33.36it/s]\n",
      "Training Epoch 1774: 100%|██████████| 507/507 [00:15<00:00, 33.28it/s]\n",
      "Training Epoch 1775: 100%|██████████| 507/507 [00:15<00:00, 33.48it/s]\n",
      "Training Epoch 1776: 100%|██████████| 507/507 [00:15<00:00, 33.43it/s]\n",
      "Training Epoch 1777: 100%|██████████| 507/507 [00:15<00:00, 33.31it/s]\n",
      "Training Epoch 1778: 100%|██████████| 507/507 [00:15<00:00, 33.35it/s]\n",
      "Training Epoch 1779: 100%|██████████| 507/507 [00:15<00:00, 33.48it/s]\n",
      "Training Epoch 1780: 100%|██████████| 507/507 [00:15<00:00, 33.45it/s]\n",
      "Training Epoch 1781: 100%|██████████| 507/507 [00:15<00:00, 33.38it/s]\n"
     ]
    },
    {
     "name": "stdout",
     "output_type": "stream",
     "text": [
      "Epoch 1780 - Train Loss: 0.2640, Train MSE: 0.2640, Train MAE: 0.3663\n",
      "Epoch 1780 - Validation Loss: 1.4005, Validation MSE: 1.4045, Validation MAE: 0.8544\n"
     ]
    },
    {
     "name": "stderr",
     "output_type": "stream",
     "text": [
      "Training Epoch 1782: 100%|██████████| 507/507 [00:15<00:00, 33.34it/s]\n",
      "Training Epoch 1783: 100%|██████████| 507/507 [00:15<00:00, 33.40it/s]\n",
      "Training Epoch 1784: 100%|██████████| 507/507 [00:15<00:00, 33.46it/s]\n",
      "Training Epoch 1785: 100%|██████████| 507/507 [00:15<00:00, 33.48it/s]\n",
      "Training Epoch 1786: 100%|██████████| 507/507 [00:15<00:00, 33.52it/s]\n",
      "Training Epoch 1787: 100%|██████████| 507/507 [00:15<00:00, 33.48it/s]\n",
      "Training Epoch 1788: 100%|██████████| 507/507 [00:15<00:00, 33.53it/s]\n",
      "Training Epoch 1789: 100%|██████████| 507/507 [00:15<00:00, 33.53it/s]\n",
      "Training Epoch 1790: 100%|██████████| 507/507 [00:15<00:00, 33.38it/s]\n",
      "Training Epoch 1791: 100%|██████████| 507/507 [00:15<00:00, 33.56it/s]\n"
     ]
    },
    {
     "name": "stdout",
     "output_type": "stream",
     "text": [
      "Epoch 1790 - Train Loss: 0.2542, Train MSE: 0.2543, Train MAE: 0.3611\n",
      "Epoch 1790 - Validation Loss: 1.4107, Validation MSE: 1.4144, Validation MAE: 0.8659\n"
     ]
    },
    {
     "name": "stderr",
     "output_type": "stream",
     "text": [
      "Training Epoch 1792: 100%|██████████| 507/507 [00:15<00:00, 33.36it/s]\n",
      "Training Epoch 1793: 100%|██████████| 507/507 [00:15<00:00, 33.46it/s]\n",
      "Training Epoch 1794: 100%|██████████| 507/507 [00:15<00:00, 33.29it/s]\n",
      "Training Epoch 1795: 100%|██████████| 507/507 [00:15<00:00, 33.38it/s]\n",
      "Training Epoch 1796: 100%|██████████| 507/507 [00:15<00:00, 33.52it/s]\n",
      "Training Epoch 1797: 100%|██████████| 507/507 [00:15<00:00, 33.47it/s]\n",
      "Training Epoch 1798: 100%|██████████| 507/507 [00:15<00:00, 33.37it/s]\n",
      "Training Epoch 1799: 100%|██████████| 507/507 [00:15<00:00, 33.32it/s]\n",
      "Training Epoch 1800: 100%|██████████| 507/507 [00:15<00:00, 33.26it/s]\n",
      "Training Epoch 1801: 100%|██████████| 507/507 [00:15<00:00, 33.31it/s]\n"
     ]
    },
    {
     "name": "stdout",
     "output_type": "stream",
     "text": [
      "Epoch 1800 - Train Loss: 0.2622, Train MSE: 0.2622, Train MAE: 0.3645\n",
      "Epoch 1800 - Validation Loss: 1.4100, Validation MSE: 1.4139, Validation MAE: 0.8554\n"
     ]
    },
    {
     "name": "stderr",
     "output_type": "stream",
     "text": [
      "Training Epoch 1802: 100%|██████████| 507/507 [00:15<00:00, 33.27it/s]\n",
      "Training Epoch 1803: 100%|██████████| 507/507 [00:15<00:00, 33.36it/s]\n",
      "Training Epoch 1804: 100%|██████████| 507/507 [00:15<00:00, 33.70it/s]\n",
      "Training Epoch 1805: 100%|██████████| 507/507 [00:15<00:00, 33.66it/s]\n",
      "Training Epoch 1806: 100%|██████████| 507/507 [00:15<00:00, 33.72it/s]\n",
      "Training Epoch 1807: 100%|██████████| 507/507 [00:15<00:00, 33.65it/s]\n",
      "Training Epoch 1808: 100%|██████████| 507/507 [00:15<00:00, 33.54it/s]\n",
      "Training Epoch 1809: 100%|██████████| 507/507 [00:15<00:00, 33.49it/s]\n",
      "Training Epoch 1810: 100%|██████████| 507/507 [00:15<00:00, 33.50it/s]\n",
      "Training Epoch 1811: 100%|██████████| 507/507 [00:15<00:00, 33.47it/s]\n"
     ]
    },
    {
     "name": "stdout",
     "output_type": "stream",
     "text": [
      "Epoch 1810 - Train Loss: 0.2594, Train MSE: 0.2595, Train MAE: 0.3626\n",
      "Epoch 1810 - Validation Loss: 1.4096, Validation MSE: 1.4138, Validation MAE: 0.8576\n"
     ]
    },
    {
     "name": "stderr",
     "output_type": "stream",
     "text": [
      "Training Epoch 1812: 100%|██████████| 507/507 [00:15<00:00, 33.63it/s]\n",
      "Training Epoch 1813: 100%|██████████| 507/507 [00:15<00:00, 33.62it/s]\n",
      "Training Epoch 1814: 100%|██████████| 507/507 [00:15<00:00, 33.64it/s]\n",
      "Training Epoch 1815: 100%|██████████| 507/507 [00:15<00:00, 33.45it/s]\n",
      "Training Epoch 1816: 100%|██████████| 507/507 [00:15<00:00, 33.58it/s]\n",
      "Training Epoch 1817: 100%|██████████| 507/507 [00:15<00:00, 33.64it/s]\n",
      "Training Epoch 1818: 100%|██████████| 507/507 [00:15<00:00, 33.52it/s]\n",
      "Training Epoch 1819: 100%|██████████| 507/507 [00:15<00:00, 33.62it/s]\n",
      "Training Epoch 1820: 100%|██████████| 507/507 [00:15<00:00, 33.35it/s]\n",
      "Training Epoch 1821: 100%|██████████| 507/507 [00:15<00:00, 33.68it/s]\n"
     ]
    },
    {
     "name": "stdout",
     "output_type": "stream",
     "text": [
      "Epoch 1820 - Train Loss: 0.2554, Train MSE: 0.2554, Train MAE: 0.3611\n",
      "Epoch 1820 - Validation Loss: 1.4257, Validation MSE: 1.4296, Validation MAE: 0.8582\n"
     ]
    },
    {
     "name": "stderr",
     "output_type": "stream",
     "text": [
      "Training Epoch 1822: 100%|██████████| 507/507 [00:15<00:00, 33.61it/s]\n",
      "Training Epoch 1823: 100%|██████████| 507/507 [00:15<00:00, 33.44it/s]\n",
      "Training Epoch 1824: 100%|██████████| 507/507 [00:15<00:00, 33.45it/s]\n",
      "Training Epoch 1825: 100%|██████████| 507/507 [00:15<00:00, 33.42it/s]\n",
      "Training Epoch 1826: 100%|██████████| 507/507 [00:15<00:00, 33.43it/s]\n",
      "Training Epoch 1827: 100%|██████████| 507/507 [00:15<00:00, 33.58it/s]\n",
      "Training Epoch 1828: 100%|██████████| 507/507 [00:15<00:00, 33.43it/s]\n",
      "Training Epoch 1829: 100%|██████████| 507/507 [00:15<00:00, 33.38it/s]\n",
      "Training Epoch 1830: 100%|██████████| 507/507 [00:15<00:00, 33.57it/s]\n",
      "Training Epoch 1831: 100%|██████████| 507/507 [00:15<00:00, 33.35it/s]\n"
     ]
    },
    {
     "name": "stdout",
     "output_type": "stream",
     "text": [
      "Epoch 1830 - Train Loss: 0.2552, Train MSE: 0.2554, Train MAE: 0.3622\n",
      "Epoch 1830 - Validation Loss: 1.4178, Validation MSE: 1.4219, Validation MAE: 0.8586\n"
     ]
    },
    {
     "name": "stderr",
     "output_type": "stream",
     "text": [
      "Training Epoch 1832: 100%|██████████| 507/507 [00:15<00:00, 33.61it/s]\n",
      "Training Epoch 1833: 100%|██████████| 507/507 [00:15<00:00, 33.44it/s]\n",
      "Training Epoch 1834: 100%|██████████| 507/507 [00:15<00:00, 33.49it/s]\n",
      "Training Epoch 1835: 100%|██████████| 507/507 [00:15<00:00, 33.51it/s]\n",
      "Training Epoch 1836: 100%|██████████| 507/507 [00:15<00:00, 33.47it/s]\n",
      "Training Epoch 1837: 100%|██████████| 507/507 [00:15<00:00, 33.53it/s]\n",
      "Training Epoch 1838: 100%|██████████| 507/507 [00:15<00:00, 33.41it/s]\n",
      "Training Epoch 1839: 100%|██████████| 507/507 [00:15<00:00, 33.49it/s]\n",
      "Training Epoch 1840: 100%|██████████| 507/507 [00:15<00:00, 33.48it/s]\n",
      "Training Epoch 1841: 100%|██████████| 507/507 [00:15<00:00, 33.40it/s]\n"
     ]
    },
    {
     "name": "stdout",
     "output_type": "stream",
     "text": [
      "Epoch 1840 - Train Loss: 0.2556, Train MSE: 0.2555, Train MAE: 0.3628\n",
      "Epoch 1840 - Validation Loss: 1.4038, Validation MSE: 1.4081, Validation MAE: 0.8617\n"
     ]
    },
    {
     "name": "stderr",
     "output_type": "stream",
     "text": [
      "Training Epoch 1842: 100%|██████████| 507/507 [00:15<00:00, 33.50it/s]\n",
      "Training Epoch 1843: 100%|██████████| 507/507 [00:15<00:00, 33.35it/s]\n",
      "Training Epoch 1844: 100%|██████████| 507/507 [00:15<00:00, 33.52it/s]\n",
      "Training Epoch 1845: 100%|██████████| 507/507 [00:15<00:00, 33.37it/s]\n",
      "Training Epoch 1846: 100%|██████████| 507/507 [00:15<00:00, 33.49it/s]\n",
      "Training Epoch 1847: 100%|██████████| 507/507 [00:15<00:00, 33.29it/s]\n",
      "Training Epoch 1848: 100%|██████████| 507/507 [00:15<00:00, 33.29it/s]\n",
      "Training Epoch 1849: 100%|██████████| 507/507 [00:15<00:00, 33.31it/s]\n",
      "Training Epoch 1850: 100%|██████████| 507/507 [00:15<00:00, 33.55it/s]\n",
      "Training Epoch 1851: 100%|██████████| 507/507 [00:15<00:00, 33.41it/s]\n"
     ]
    },
    {
     "name": "stdout",
     "output_type": "stream",
     "text": [
      "Epoch 1850 - Train Loss: 0.2579, Train MSE: 0.2580, Train MAE: 0.3632\n",
      "Epoch 1850 - Validation Loss: 1.4138, Validation MSE: 1.4179, Validation MAE: 0.8579\n"
     ]
    },
    {
     "name": "stderr",
     "output_type": "stream",
     "text": [
      "Training Epoch 1852: 100%|██████████| 507/507 [00:15<00:00, 33.51it/s]\n",
      "Training Epoch 1853: 100%|██████████| 507/507 [00:15<00:00, 33.45it/s]\n",
      "Training Epoch 1854: 100%|██████████| 507/507 [00:15<00:00, 33.53it/s]\n",
      "Training Epoch 1855: 100%|██████████| 507/507 [00:15<00:00, 33.54it/s]\n",
      "Training Epoch 1856: 100%|██████████| 507/507 [00:15<00:00, 33.43it/s]\n",
      "Training Epoch 1857: 100%|██████████| 507/507 [00:15<00:00, 33.31it/s]\n",
      "Training Epoch 1858: 100%|██████████| 507/507 [00:15<00:00, 33.37it/s]\n",
      "Training Epoch 1859: 100%|██████████| 507/507 [00:15<00:00, 33.39it/s]\n",
      "Training Epoch 1860: 100%|██████████| 507/507 [00:15<00:00, 33.50it/s]\n",
      "Training Epoch 1861: 100%|██████████| 507/507 [00:15<00:00, 33.43it/s]\n"
     ]
    },
    {
     "name": "stdout",
     "output_type": "stream",
     "text": [
      "Epoch 1860 - Train Loss: 0.2537, Train MSE: 0.2538, Train MAE: 0.3626\n",
      "Epoch 1860 - Validation Loss: 1.3954, Validation MSE: 1.3988, Validation MAE: 0.8508\n"
     ]
    },
    {
     "name": "stderr",
     "output_type": "stream",
     "text": [
      "Training Epoch 1862: 100%|██████████| 507/507 [00:15<00:00, 33.28it/s]\n",
      "Training Epoch 1863: 100%|██████████| 507/507 [00:15<00:00, 33.32it/s]\n",
      "Training Epoch 1864: 100%|██████████| 507/507 [00:15<00:00, 33.49it/s]\n",
      "Training Epoch 1865: 100%|██████████| 507/507 [00:15<00:00, 33.52it/s]\n",
      "Training Epoch 1866: 100%|██████████| 507/507 [00:15<00:00, 33.47it/s]\n",
      "Training Epoch 1867: 100%|██████████| 507/507 [00:15<00:00, 33.61it/s]\n",
      "Training Epoch 1868: 100%|██████████| 507/507 [00:15<00:00, 33.74it/s]\n",
      "Training Epoch 1869: 100%|██████████| 507/507 [00:15<00:00, 33.55it/s]\n",
      "Training Epoch 1870: 100%|██████████| 507/507 [00:15<00:00, 33.62it/s]\n",
      "Training Epoch 1871: 100%|██████████| 507/507 [00:15<00:00, 33.44it/s]\n"
     ]
    },
    {
     "name": "stdout",
     "output_type": "stream",
     "text": [
      "Epoch 1870 - Train Loss: 0.2509, Train MSE: 0.2508, Train MAE: 0.3599\n",
      "Epoch 1870 - Validation Loss: 1.4386, Validation MSE: 1.4424, Validation MAE: 0.8611\n"
     ]
    },
    {
     "name": "stderr",
     "output_type": "stream",
     "text": [
      "Training Epoch 1872: 100%|██████████| 507/507 [00:15<00:00, 33.43it/s]\n",
      "Training Epoch 1873: 100%|██████████| 507/507 [00:15<00:00, 33.40it/s]\n",
      "Training Epoch 1874: 100%|██████████| 507/507 [00:15<00:00, 33.38it/s]\n",
      "Training Epoch 1875: 100%|██████████| 507/507 [00:15<00:00, 33.35it/s]\n",
      "Training Epoch 1876: 100%|██████████| 507/507 [00:15<00:00, 33.35it/s]\n",
      "Training Epoch 1877: 100%|██████████| 507/507 [00:15<00:00, 33.36it/s]\n",
      "Training Epoch 1878: 100%|██████████| 507/507 [00:15<00:00, 33.29it/s]\n",
      "Training Epoch 1879: 100%|██████████| 507/507 [00:15<00:00, 33.36it/s]\n",
      "Training Epoch 1880: 100%|██████████| 507/507 [00:15<00:00, 33.32it/s]\n",
      "Training Epoch 1881: 100%|██████████| 507/507 [00:15<00:00, 33.55it/s]\n"
     ]
    },
    {
     "name": "stdout",
     "output_type": "stream",
     "text": [
      "Epoch 1880 - Train Loss: 0.2507, Train MSE: 0.2509, Train MAE: 0.3614\n",
      "Epoch 1880 - Validation Loss: 1.4130, Validation MSE: 1.4164, Validation MAE: 0.8537\n"
     ]
    },
    {
     "name": "stderr",
     "output_type": "stream",
     "text": [
      "Training Epoch 1882: 100%|██████████| 507/507 [00:15<00:00, 33.48it/s]\n",
      "Training Epoch 1883: 100%|██████████| 507/507 [00:15<00:00, 33.60it/s]\n",
      "Training Epoch 1884: 100%|██████████| 507/507 [00:15<00:00, 33.57it/s]\n",
      "Training Epoch 1885: 100%|██████████| 507/507 [00:15<00:00, 33.42it/s]\n",
      "Training Epoch 1886: 100%|██████████| 507/507 [00:15<00:00, 33.54it/s]\n",
      "Training Epoch 1887: 100%|██████████| 507/507 [00:15<00:00, 33.46it/s]\n",
      "Training Epoch 1888: 100%|██████████| 507/507 [00:15<00:00, 33.54it/s]\n",
      "Training Epoch 1889: 100%|██████████| 507/507 [00:15<00:00, 33.44it/s]\n",
      "Training Epoch 1890: 100%|██████████| 507/507 [00:15<00:00, 33.52it/s]\n",
      "Training Epoch 1891: 100%|██████████| 507/507 [00:15<00:00, 33.59it/s]\n"
     ]
    },
    {
     "name": "stdout",
     "output_type": "stream",
     "text": [
      "Epoch 1890 - Train Loss: 0.2618, Train MSE: 0.2617, Train MAE: 0.3639\n",
      "Epoch 1890 - Validation Loss: 1.4123, Validation MSE: 1.4164, Validation MAE: 0.8582\n"
     ]
    },
    {
     "name": "stderr",
     "output_type": "stream",
     "text": [
      "Training Epoch 1892: 100%|██████████| 507/507 [00:15<00:00, 33.72it/s]\n",
      "Training Epoch 1893: 100%|██████████| 507/507 [00:13<00:00, 37.28it/s]\n",
      "Training Epoch 1894: 100%|██████████| 507/507 [00:13<00:00, 37.36it/s]\n",
      "Training Epoch 1895: 100%|██████████| 507/507 [00:13<00:00, 37.27it/s]\n",
      "Training Epoch 1896: 100%|██████████| 507/507 [00:13<00:00, 37.27it/s]\n",
      "Training Epoch 1897: 100%|██████████| 507/507 [00:13<00:00, 37.35it/s]\n",
      "Training Epoch 1898: 100%|██████████| 507/507 [00:13<00:00, 37.13it/s]\n",
      "Training Epoch 1899: 100%|██████████| 507/507 [00:13<00:00, 37.20it/s]\n",
      "Training Epoch 1900: 100%|██████████| 507/507 [00:13<00:00, 37.22it/s]\n",
      "Training Epoch 1901: 100%|██████████| 507/507 [00:13<00:00, 37.03it/s]\n"
     ]
    },
    {
     "name": "stdout",
     "output_type": "stream",
     "text": [
      "Epoch 1900 - Train Loss: 0.2587, Train MSE: 0.2588, Train MAE: 0.3624\n",
      "Epoch 1900 - Validation Loss: 1.4066, Validation MSE: 1.4104, Validation MAE: 0.8557\n"
     ]
    },
    {
     "name": "stderr",
     "output_type": "stream",
     "text": [
      "Training Epoch 1902: 100%|██████████| 507/507 [00:13<00:00, 37.16it/s]\n",
      "Training Epoch 1903: 100%|██████████| 507/507 [00:13<00:00, 37.28it/s]\n",
      "Training Epoch 1904: 100%|██████████| 507/507 [00:13<00:00, 37.14it/s]\n",
      "Training Epoch 1905: 100%|██████████| 507/507 [00:13<00:00, 37.32it/s]\n",
      "Training Epoch 1906: 100%|██████████| 507/507 [00:13<00:00, 37.26it/s]\n",
      "Training Epoch 1907: 100%|██████████| 507/507 [00:13<00:00, 37.25it/s]\n",
      "Training Epoch 1908: 100%|██████████| 507/507 [00:13<00:00, 37.08it/s]\n",
      "Training Epoch 1909: 100%|██████████| 507/507 [00:13<00:00, 37.34it/s]\n",
      "Training Epoch 1910: 100%|██████████| 507/507 [00:13<00:00, 37.13it/s]\n",
      "Training Epoch 1911: 100%|██████████| 507/507 [00:13<00:00, 37.09it/s]\n"
     ]
    },
    {
     "name": "stdout",
     "output_type": "stream",
     "text": [
      "Epoch 1910 - Train Loss: 0.2515, Train MSE: 0.2517, Train MAE: 0.3601\n",
      "Epoch 1910 - Validation Loss: 1.3984, Validation MSE: 1.4023, Validation MAE: 0.8570\n"
     ]
    },
    {
     "name": "stderr",
     "output_type": "stream",
     "text": [
      "Training Epoch 1912: 100%|██████████| 507/507 [00:13<00:00, 37.14it/s]\n",
      "Training Epoch 1913: 100%|██████████| 507/507 [00:13<00:00, 37.18it/s]\n",
      "Training Epoch 1914: 100%|██████████| 507/507 [00:13<00:00, 37.06it/s]\n",
      "Training Epoch 1915: 100%|██████████| 507/507 [00:13<00:00, 37.11it/s]\n",
      "Training Epoch 1916: 100%|██████████| 507/507 [00:13<00:00, 37.11it/s]\n",
      "Training Epoch 1917: 100%|██████████| 507/507 [00:13<00:00, 37.03it/s]\n",
      "Training Epoch 1918: 100%|██████████| 507/507 [00:13<00:00, 37.01it/s]\n",
      "Training Epoch 1919: 100%|██████████| 507/507 [00:13<00:00, 37.10it/s]\n",
      "Training Epoch 1920: 100%|██████████| 507/507 [00:13<00:00, 36.99it/s]\n",
      "Training Epoch 1921: 100%|██████████| 507/507 [00:13<00:00, 37.05it/s]\n"
     ]
    },
    {
     "name": "stdout",
     "output_type": "stream",
     "text": [
      "Epoch 1920 - Train Loss: 0.2502, Train MSE: 0.2502, Train MAE: 0.3589\n",
      "Epoch 1920 - Validation Loss: 1.3943, Validation MSE: 1.3982, Validation MAE: 0.8530\n"
     ]
    },
    {
     "name": "stderr",
     "output_type": "stream",
     "text": [
      "Training Epoch 1922: 100%|██████████| 507/507 [00:13<00:00, 37.04it/s]\n",
      "Training Epoch 1923: 100%|██████████| 507/507 [00:13<00:00, 37.22it/s]\n",
      "Training Epoch 1924: 100%|██████████| 507/507 [00:13<00:00, 37.23it/s]\n",
      "Training Epoch 1925: 100%|██████████| 507/507 [00:13<00:00, 37.04it/s]\n",
      "Training Epoch 1926: 100%|██████████| 507/507 [00:13<00:00, 37.12it/s]\n",
      "Training Epoch 1927: 100%|██████████| 507/507 [00:13<00:00, 37.14it/s]\n",
      "Training Epoch 1928: 100%|██████████| 507/507 [00:13<00:00, 37.11it/s]\n",
      "Training Epoch 1929: 100%|██████████| 507/507 [00:13<00:00, 36.88it/s]\n",
      "Training Epoch 1930: 100%|██████████| 507/507 [00:13<00:00, 37.28it/s]\n",
      "Training Epoch 1931: 100%|██████████| 507/507 [00:13<00:00, 37.21it/s]\n"
     ]
    },
    {
     "name": "stdout",
     "output_type": "stream",
     "text": [
      "Epoch 1930 - Train Loss: 0.2503, Train MSE: 0.2503, Train MAE: 0.3576\n",
      "Epoch 1930 - Validation Loss: 1.4271, Validation MSE: 1.4309, Validation MAE: 0.8621\n"
     ]
    },
    {
     "name": "stderr",
     "output_type": "stream",
     "text": [
      "Training Epoch 1932: 100%|██████████| 507/507 [00:13<00:00, 37.13it/s]\n",
      "Training Epoch 1933: 100%|██████████| 507/507 [00:13<00:00, 37.15it/s]\n",
      "Training Epoch 1934: 100%|██████████| 507/507 [00:13<00:00, 37.11it/s]\n",
      "Training Epoch 1935: 100%|██████████| 507/507 [00:13<00:00, 37.10it/s]\n",
      "Training Epoch 1936: 100%|██████████| 507/507 [00:13<00:00, 37.34it/s]\n",
      "Training Epoch 1937: 100%|██████████| 507/507 [00:13<00:00, 37.18it/s]\n",
      "Training Epoch 1938: 100%|██████████| 507/507 [00:13<00:00, 37.20it/s]\n",
      "Training Epoch 1939: 100%|██████████| 507/507 [00:13<00:00, 37.14it/s]\n",
      "Training Epoch 1940: 100%|██████████| 507/507 [00:13<00:00, 37.00it/s]\n",
      "Training Epoch 1941: 100%|██████████| 507/507 [00:13<00:00, 37.12it/s]\n"
     ]
    },
    {
     "name": "stdout",
     "output_type": "stream",
     "text": [
      "Epoch 1940 - Train Loss: 0.2573, Train MSE: 0.2566, Train MAE: 0.3597\n",
      "Epoch 1940 - Validation Loss: 1.4039, Validation MSE: 1.4075, Validation MAE: 0.8590\n"
     ]
    },
    {
     "name": "stderr",
     "output_type": "stream",
     "text": [
      "Training Epoch 1942: 100%|██████████| 507/507 [00:13<00:00, 37.09it/s]\n",
      "Training Epoch 1943: 100%|██████████| 507/507 [00:13<00:00, 37.11it/s]\n",
      "Training Epoch 1944: 100%|██████████| 507/507 [00:13<00:00, 37.08it/s]\n",
      "Training Epoch 1945: 100%|██████████| 507/507 [00:13<00:00, 37.18it/s]\n",
      "Training Epoch 1946: 100%|██████████| 507/507 [00:13<00:00, 37.11it/s]\n",
      "Training Epoch 1947: 100%|██████████| 507/507 [00:13<00:00, 37.07it/s]\n",
      "Training Epoch 1948: 100%|██████████| 507/507 [00:13<00:00, 37.07it/s]\n",
      "Training Epoch 1949: 100%|██████████| 507/507 [00:13<00:00, 37.12it/s]\n",
      "Training Epoch 1950: 100%|██████████| 507/507 [00:13<00:00, 37.04it/s]\n",
      "Training Epoch 1951: 100%|██████████| 507/507 [00:13<00:00, 37.10it/s]\n"
     ]
    },
    {
     "name": "stdout",
     "output_type": "stream",
     "text": [
      "Epoch 1950 - Train Loss: 0.2515, Train MSE: 0.2516, Train MAE: 0.3631\n",
      "Epoch 1950 - Validation Loss: 1.4028, Validation MSE: 1.4064, Validation MAE: 0.8521\n"
     ]
    },
    {
     "name": "stderr",
     "output_type": "stream",
     "text": [
      "Training Epoch 1952: 100%|██████████| 507/507 [00:13<00:00, 37.14it/s]\n",
      "Training Epoch 1953: 100%|██████████| 507/507 [00:13<00:00, 37.17it/s]\n",
      "Training Epoch 1954: 100%|██████████| 507/507 [00:13<00:00, 37.05it/s]\n",
      "Training Epoch 1955: 100%|██████████| 507/507 [00:13<00:00, 37.05it/s]\n",
      "Training Epoch 1956: 100%|██████████| 507/507 [00:13<00:00, 37.06it/s]\n",
      "Training Epoch 1957: 100%|██████████| 507/507 [00:13<00:00, 37.11it/s]\n",
      "Training Epoch 1958: 100%|██████████| 507/507 [00:13<00:00, 37.08it/s]\n",
      "Training Epoch 1959: 100%|██████████| 507/507 [00:13<00:00, 36.88it/s]\n",
      "Training Epoch 1960: 100%|██████████| 507/507 [00:13<00:00, 37.09it/s]\n",
      "Training Epoch 1961: 100%|██████████| 507/507 [00:13<00:00, 37.05it/s]\n"
     ]
    },
    {
     "name": "stdout",
     "output_type": "stream",
     "text": [
      "Epoch 1960 - Train Loss: 0.2584, Train MSE: 0.2582, Train MAE: 0.3638\n",
      "Epoch 1960 - Validation Loss: 1.4063, Validation MSE: 1.4100, Validation MAE: 0.8557\n"
     ]
    },
    {
     "name": "stderr",
     "output_type": "stream",
     "text": [
      "Training Epoch 1962: 100%|██████████| 507/507 [00:13<00:00, 37.11it/s]\n",
      "Training Epoch 1963: 100%|██████████| 507/507 [00:13<00:00, 37.47it/s]\n",
      "Training Epoch 1964: 100%|██████████| 507/507 [00:13<00:00, 37.26it/s]\n",
      "Training Epoch 1965: 100%|██████████| 507/507 [00:13<00:00, 37.20it/s]\n",
      "Training Epoch 1966: 100%|██████████| 507/507 [00:13<00:00, 37.76it/s]\n",
      "Training Epoch 1967: 100%|██████████| 507/507 [00:13<00:00, 37.63it/s]\n",
      "Training Epoch 1968: 100%|██████████| 507/507 [00:13<00:00, 37.22it/s]\n",
      "Training Epoch 1969: 100%|██████████| 507/507 [00:13<00:00, 37.34it/s]\n",
      "Training Epoch 1970: 100%|██████████| 507/507 [00:13<00:00, 37.10it/s]\n",
      "Training Epoch 1971: 100%|██████████| 507/507 [00:13<00:00, 37.09it/s]\n"
     ]
    },
    {
     "name": "stdout",
     "output_type": "stream",
     "text": [
      "Epoch 1970 - Train Loss: 0.2602, Train MSE: 0.2603, Train MAE: 0.3641\n",
      "Epoch 1970 - Validation Loss: 1.3976, Validation MSE: 1.4010, Validation MAE: 0.8540\n"
     ]
    },
    {
     "name": "stderr",
     "output_type": "stream",
     "text": [
      "Training Epoch 1972: 100%|██████████| 507/507 [00:13<00:00, 37.11it/s]\n",
      "Training Epoch 1973: 100%|██████████| 507/507 [00:13<00:00, 37.04it/s]\n",
      "Training Epoch 1974: 100%|██████████| 507/507 [00:13<00:00, 37.04it/s]\n",
      "Training Epoch 1975: 100%|██████████| 507/507 [00:13<00:00, 37.14it/s]\n",
      "Training Epoch 1976: 100%|██████████| 507/507 [00:13<00:00, 37.09it/s]\n",
      "Training Epoch 1977: 100%|██████████| 507/507 [00:13<00:00, 37.07it/s]\n",
      "Training Epoch 1978: 100%|██████████| 507/507 [00:13<00:00, 37.13it/s]\n",
      "Training Epoch 1979: 100%|██████████| 507/507 [00:13<00:00, 37.18it/s]\n",
      "Training Epoch 1980: 100%|██████████| 507/507 [00:13<00:00, 37.17it/s]\n",
      "Training Epoch 1981: 100%|██████████| 507/507 [00:13<00:00, 37.11it/s]\n"
     ]
    },
    {
     "name": "stdout",
     "output_type": "stream",
     "text": [
      "Epoch 1980 - Train Loss: 0.2561, Train MSE: 0.2562, Train MAE: 0.3609\n",
      "Epoch 1980 - Validation Loss: 1.4337, Validation MSE: 1.4371, Validation MAE: 0.8650\n"
     ]
    },
    {
     "name": "stderr",
     "output_type": "stream",
     "text": [
      "Training Epoch 1982: 100%|██████████| 507/507 [00:13<00:00, 37.19it/s]\n",
      "Training Epoch 1983: 100%|██████████| 507/507 [00:13<00:00, 37.10it/s]\n",
      "Training Epoch 1984: 100%|██████████| 507/507 [00:13<00:00, 37.45it/s]\n",
      "Training Epoch 1985: 100%|██████████| 507/507 [00:13<00:00, 37.62it/s]\n",
      "Training Epoch 1986: 100%|██████████| 507/507 [00:13<00:00, 37.66it/s]\n",
      "Training Epoch 1987: 100%|██████████| 507/507 [00:13<00:00, 37.64it/s]\n",
      "Training Epoch 1988: 100%|██████████| 507/507 [00:13<00:00, 37.78it/s]\n",
      "Training Epoch 1989: 100%|██████████| 507/507 [00:13<00:00, 37.73it/s]\n",
      "Training Epoch 1990: 100%|██████████| 507/507 [00:13<00:00, 37.61it/s]\n",
      "Training Epoch 1991: 100%|██████████| 507/507 [00:13<00:00, 37.52it/s]\n"
     ]
    },
    {
     "name": "stdout",
     "output_type": "stream",
     "text": [
      "Epoch 1990 - Train Loss: 0.2529, Train MSE: 0.2530, Train MAE: 0.3594\n",
      "Epoch 1990 - Validation Loss: 1.4342, Validation MSE: 1.4382, Validation MAE: 0.8615\n"
     ]
    },
    {
     "name": "stderr",
     "output_type": "stream",
     "text": [
      "Training Epoch 1992: 100%|██████████| 507/507 [00:13<00:00, 37.33it/s]\n",
      "Training Epoch 1993: 100%|██████████| 507/507 [00:13<00:00, 37.06it/s]\n",
      "Training Epoch 1994: 100%|██████████| 507/507 [00:13<00:00, 37.12it/s]\n",
      "Training Epoch 1995: 100%|██████████| 507/507 [00:13<00:00, 36.93it/s]\n",
      "Training Epoch 1996: 100%|██████████| 507/507 [00:13<00:00, 37.12it/s]\n",
      "Training Epoch 1997: 100%|██████████| 507/507 [00:13<00:00, 37.17it/s]\n",
      "Training Epoch 1998: 100%|██████████| 507/507 [00:13<00:00, 36.89it/s]\n",
      "Training Epoch 1999: 100%|██████████| 507/507 [00:13<00:00, 36.99it/s]\n",
      "Training Epoch 2000: 100%|██████████| 507/507 [00:13<00:00, 37.30it/s]\n"
     ]
    },
    {
     "name": "stdout",
     "output_type": "stream",
     "text": [
      "Test MSE: 1.3905, Test MAE: 0.8333\n"
     ]
    }
   ],
   "source": [
    "import torch\n",
    "import torch.nn as nn\n",
    "import torch.optim as optim\n",
    "from tqdm import tqdm\n",
    "import pandas as pd\n",
    "from sklearn.metrics import r2_score, median_absolute_error, explained_variance_score\n",
    "from scipy.stats import pearsonr\n",
    "\n",
    "\n",
    "train_history = pd.DataFrame(columns=[  'epoch',\n",
    "    'Train Loss', 'Train MSE', 'Train MAE', 'Train RMSE', 'Train R2', 'Train Pearson', 'Train Median_AE', 'Train Explained_VAR'\n",
    "    'Val Loss', 'Val MSE', 'Val MAE', 'Val RMSE', 'Val R2', 'Val Pearson', 'Val Median_AE', 'Val Explained_VAR'])\n",
    "# Verify feature dimensions\n",
    "for batch in train_loader:\n",
    "    mol_input_dim = batch['metabolite_features'].shape[1]  # Dynamically determine mol input dimension\n",
    "    protein_input_dim = batch['protein_features'].shape[1]  # Dynamically determine protein input dimension\n",
    "    break\n",
    "\n",
    "# Initialize model, optimizer, and loss function\n",
    "num_timesteps = 10\n",
    "model = CNNRegressor(mol_input_dim=mol_input_dim, protein_input_dim=protein_input_dim)\n",
    "model = model.to(device)\n",
    "optimizer = optim.Adam(model.parameters(), lr=0.0001)\n",
    "criterion = nn.MSELoss()\n",
    "\n",
    "# Training and Validation Loop\n",
    "for epoch in range(2000):\n",
    "    model.train()\n",
    "    total_loss = 0.0\n",
    "    val_total_loss = 0.0\n",
    "    train_predictions, train_labels = [], []\n",
    "\n",
    "    for batch in tqdm(train_loader, desc=f\"Training Epoch {epoch + 1}\"):\n",
    "        mol_features = batch['metabolite_features'].to(device)\n",
    "        protein_features = batch['protein_features'].to(device)\n",
    "        labels = batch['label'].to(device)\n",
    "\n",
    "        optimizer.zero_grad()\n",
    "        outputs = model(mol_features, protein_features)\n",
    "        loss = criterion(outputs, labels)\n",
    "        loss.backward()\n",
    "        optimizer.step()\n",
    "        total_loss += loss.item()\n",
    "\n",
    "        # Store predictions and labels for metrics\n",
    "        train_predictions.extend(outputs.detach().cpu().numpy())\n",
    "        train_labels.extend(labels.cpu().numpy())\n",
    "\n",
    "    # Calculate training metrics\n",
    "    train_mse = ((torch.tensor(train_predictions) - torch.tensor(train_labels))**2).mean().item()\n",
    "    train_mae = torch.abs(torch.tensor(train_predictions) - torch.tensor(train_labels)).mean().item()\n",
    "    train_rmse = torch.sqrt((torch.tensor(train_predictions) - torch.tensor(train_labels)) ** 2).mean().item()\n",
    "    train_r2 = r2_score(np.array(train_labels), np.array(train_predictions))\n",
    "    train_pearson_corr, _ = pearsonr(np.array(train_labels), np.array(train_predictions))\n",
    "    train_median_ae = median_absolute_error(np.array(train_labels), np.array(train_predictions))\n",
    "    train_explained_var = explained_variance_score(np.array(train_labels), np.array(train_predictions))\n",
    "\n",
    "\n",
    "\n",
    "    if epoch % 10 == 0:\n",
    "        print(f\"Epoch {epoch} - Train Loss: {total_loss / len(train_loader):.4f}, Train MSE: {train_mse:.4f}, Train MAE: {train_mae:.4f}\")\n",
    "\n",
    "    # Validation\n",
    "    model.eval()\n",
    "    val_predictions, val_labels = [], []\n",
    "    with torch.no_grad():\n",
    "        for batch in val_loader:\n",
    "            mol_features = batch['metabolite_features'].to(device)\n",
    "            protein_features = batch['protein_features'].to(device)\n",
    "            labels = batch['label'].to(device)\n",
    "\n",
    "            outputs = model(mol_features, protein_features)\n",
    "            val_predictions.extend(outputs.cpu().numpy())\n",
    "            val_labels.extend(labels.cpu().numpy())\n",
    "            val_loss = criterion(outputs, labels)\n",
    "            val_total_loss += val_loss.item()\n",
    "\n",
    "    val_mse = ((torch.tensor(val_predictions) - torch.tensor(val_labels))**2).mean().item()\n",
    "    val_mae = torch.abs(torch.tensor(val_predictions) - torch.tensor(val_labels)).mean().item()\n",
    "    val_rmse = torch.sqrt((torch.tensor(val_predictions) - torch.tensor(val_labels)) ** 2).mean().item()\n",
    "    val_r2 = r2_score(np.array(val_labels), np.array(val_predictions))\n",
    "    val_pearson_corr, _ = pearsonr(np.array(val_labels), np.array(val_predictions))\n",
    "    val_median_ae = median_absolute_error(np.array(val_labels), np.array(val_predictions))\n",
    "    val_explained_var = explained_variance_score(np.array(val_labels), np.array(val_predictions))\n",
    "\n",
    "    if epoch % 10 == 0:\n",
    "        print(f\"Epoch {epoch} - Validation Loss: {val_total_loss / len(val_loader):.4f}, Validation MSE: {val_mse:.4f}, Validation MAE: {val_mae:.4f}\")\n",
    "\n",
    "    # Save metrics to DataFrame\n",
    "    new_row = {'epoch': epoch + 1, 'Train Loss': total_loss / len(train_loader), 'Train MSE': train_mse, 'Train MAE': train_mae, 'Train RMSE': train_rmse, 'Train R2': train_r2, 'Train Pearson': train_pearson_corr, 'Train Median_AE': train_median_ae, 'Train Explained_VAR': train_explained_var, \n",
    "               'Val Loss': val_total_loss / len(val_loader), 'Val MSE': val_mse, 'Val MAE': val_mae, 'Val RMSE': val_rmse, 'Val R2': val_r2, 'Val Pearson': val_pearson_corr, 'Val Median_AE': val_median_ae, 'Val Explained_VAR': val_explained_var}\n",
    "    train_history = pd.concat([train_history, pd.DataFrame([new_row])], ignore_index=True)\n",
    "\n",
    "# Test Metrics\n",
    "model.eval()\n",
    "test_predictions, test_labels = [], []\n",
    "with torch.no_grad():\n",
    "    for batch in test_loader:\n",
    "        mol_features = batch['metabolite_features'].to(device)\n",
    "        protein_features = batch['protein_features'].to(device)\n",
    "        labels = batch['label'].to(device)\n",
    "\n",
    "        outputs = model(mol_features, protein_features)\n",
    "        test_predictions.extend(outputs.cpu().numpy())\n",
    "        test_labels.extend(labels.cpu().numpy())\n",
    "\n",
    "test_mse = ((torch.tensor(test_predictions) - torch.tensor(test_labels))**2).mean().item()\n",
    "test_mae = torch.abs(torch.tensor(test_predictions) - torch.tensor(test_labels)).mean().item()\n",
    "test_rmse = torch.sqrt((torch.tensor(test_predictions) - torch.tensor(test_labels)) ** 2).mean().item()\n",
    "test_r2 = r2_score(np.array(test_labels), np.array(test_predictions))\n",
    "test_pearson_corr, _ = pearsonr(np.array(test_labels), np.array(test_predictions))\n",
    "test_median_ae = median_absolute_error(np.array(test_labels), np.array(test_predictions))\n",
    "test_explained_var = explained_variance_score(np.array(test_labels), np.array(test_predictions))\n",
    "\n",
    "print(f\"Test MSE: {test_mse:.4f}, Test MAE: {test_mae:.4f}\")\n"
   ]
  },
  {
   "cell_type": "code",
   "execution_count": 12,
   "metadata": {},
   "outputs": [],
   "source": [
    "# append the performance to the csv file\n",
    "df = {\n",
    "    'Model':['CNN','CNN','CNN'],\n",
    "    'Dataset':['Train','Validation','Test'],\n",
    "    'MSE':[train_history['Train MSE'].mean(),train_history['Val MSE'].mean(),test_mse],\n",
    "    'RMSE':[train_history['Train RMSE'].mean(),train_history['Val RMSE'].mean(),test_rmse],\n",
    "    'MAE':[train_history['Train MAE'].mean(),train_history['Val MAE'].mean(),test_mae],\n",
    "    'R2':[train_history['Train R2'].mean(),train_history['Val R2'].mean(),test_r2],\n",
    "    'Pearson':[train_history['Train Pearson'].mean(),train_history['Val Pearson'].mean(),test_pearson_corr],\n",
    "    'Median_AE':[train_history['Train Median_AE'].mean(),train_history['Val Median_AE'].mean(),test_median_ae],\n",
    "    'Explained_VAR':[train_history['Train Explained_VAR'].mean(),train_history['Val Explained_VAR'].mean(),test_explained_var],\n",
    "    'Dataspliting Mode':['random','random','random']\n",
    "}\n",
    "df = pd.DataFrame(df)\n",
    "\n",
    "df.to_csv('/Users/pinchichen/2025S lab/AI drug project/Catpred/model performance metrics_Catpred.csv', mode='a', header=False)"
   ]
  },
  {
   "cell_type": "code",
   "execution_count": 13,
   "metadata": {},
   "outputs": [],
   "source": [
    "# Save the model and training history\n",
    "save_dir = './trained_model/random_split'\n",
    "# save model weights and optimizer state\n",
    "torch.save(model.state_dict(), os.path.join(save_dir, 'CNN model_Catpred.pt'))\n",
    "torch.save(optimizer.state_dict(), os.path.join(save_dir, 'CNN optimizer_Catpred.pt'))"
   ]
  },
  {
   "cell_type": "code",
   "execution_count": 14,
   "metadata": {},
   "outputs": [
    {
     "data": {
      "image/png": "[encoded data removed]",
      "text/plain": [
       "<Figure size 1000x600 with 1 Axes>"
      ]
     },
     "metadata": {},
     "output_type": "display_data"
    }
   ],
   "source": [
    "import matplotlib.pyplot as plt\n",
    "import seaborn as sns\n",
    "sns.set(style='ticks')\n",
    "# Load metrics\n",
    "\n",
    "metrics = train_history\n",
    "\n",
    "# Plot the training loss over epochs using seaborn\n",
    "plt.figure(figsize=(10, 6))\n",
    "# sns.lineplot(data=metrics, x='epoch', y='Train Loss', label='Train Loss')\n",
    "# sns.lineplot(data=metrics, x='epoch', y='Val Loss', label='Val Loss')\n",
    "sns.lineplot(data=metrics, x='epoch', y='Val MSE', label='Valid_RMSE')\n",
    "sns.lineplot(data=metrics, x='epoch', y='Train MSE', label='Train_RMSE')\n",
    "# sns.lineplot(data=metrics, x='Epoch', y='Valid_MAE', label='Valid_MAE')\n",
    "# Add titles and labels\n",
    "plt.title('Training and Validation Metrics Over Epochs', fontsize=14)\n",
    "# Define the range of tick positions\n",
    "plt.xlabel('Epoch', fontsize=12)\n",
    "plt.ylabel('Loss', fontsize=12)\n",
    "plt.grid(False)\n",
    "# Show the plot\n",
    "plt.show()\n"
   ]
  },
  {
   "cell_type": "code",
   "execution_count": 15,
   "metadata": {},
   "outputs": [
    {
     "data": {
      "text/html": [
       "<div>\n",
       "<style scoped>\n",
       "    .dataframe tbody tr th:only-of-type {\n",
       "        vertical-align: middle;\n",
       "    }\n",
       "\n",
       "    .dataframe tbody tr th {\n",
       "        vertical-align: top;\n",
       "    }\n",
       "\n",
       "    .dataframe thead th {\n",
       "        text-align: right;\n",
       "    }\n",
       "</style>\n",
       "<table border=\"1\" class=\"dataframe\">\n",
       "  <thead>\n",
       "    <tr style=\"text-align: right;\">\n",
       "      <th></th>\n",
       "      <th>epoch</th>\n",
       "      <th>Train Loss</th>\n",
       "      <th>Train MSE</th>\n",
       "      <th>Train MAE</th>\n",
       "      <th>Train RMSE</th>\n",
       "      <th>Train R2</th>\n",
       "      <th>Train Pearson</th>\n",
       "      <th>Train Median_AE</th>\n",
       "      <th>Train Explained_VARVal Loss</th>\n",
       "      <th>Val MSE</th>\n",
       "      <th>Val MAE</th>\n",
       "      <th>Val RMSE</th>\n",
       "      <th>Val R2</th>\n",
       "      <th>Val Pearson</th>\n",
       "      <th>Val Median_AE</th>\n",
       "      <th>Val Explained_VAR</th>\n",
       "      <th>Train Explained_VAR</th>\n",
       "      <th>Val Loss</th>\n",
       "    </tr>\n",
       "  </thead>\n",
       "  <tbody>\n",
       "    <tr>\n",
       "      <th>1995</th>\n",
       "      <td>1996</td>\n",
       "      <td>0.252484</td>\n",
       "      <td>0.252411</td>\n",
       "      <td>0.358300</td>\n",
       "      <td>0.358300</td>\n",
       "      <td>0.910050</td>\n",
       "      <td>0.953967</td>\n",
       "      <td>0.260481</td>\n",
       "      <td>NaN</td>\n",
       "      <td>1.397883</td>\n",
       "      <td>0.854809</td>\n",
       "      <td>0.854809</td>\n",
       "      <td>0.473109</td>\n",
       "      <td>0.692918</td>\n",
       "      <td>0.608722</td>\n",
       "      <td>0.473224</td>\n",
       "      <td>0.910051</td>\n",
       "      <td>1.394013</td>\n",
       "    </tr>\n",
       "    <tr>\n",
       "      <th>1996</th>\n",
       "      <td>1997</td>\n",
       "      <td>0.257482</td>\n",
       "      <td>0.256441</td>\n",
       "      <td>0.362109</td>\n",
       "      <td>0.362109</td>\n",
       "      <td>0.908614</td>\n",
       "      <td>0.953217</td>\n",
       "      <td>0.263657</td>\n",
       "      <td>NaN</td>\n",
       "      <td>1.402969</td>\n",
       "      <td>0.861599</td>\n",
       "      <td>0.861599</td>\n",
       "      <td>0.471192</td>\n",
       "      <td>0.691605</td>\n",
       "      <td>0.614766</td>\n",
       "      <td>0.473515</td>\n",
       "      <td>0.908615</td>\n",
       "      <td>1.399345</td>\n",
       "    </tr>\n",
       "    <tr>\n",
       "      <th>1997</th>\n",
       "      <td>1998</td>\n",
       "      <td>0.253725</td>\n",
       "      <td>0.253234</td>\n",
       "      <td>0.358696</td>\n",
       "      <td>0.358696</td>\n",
       "      <td>0.909757</td>\n",
       "      <td>0.953812</td>\n",
       "      <td>0.259602</td>\n",
       "      <td>NaN</td>\n",
       "      <td>1.447839</td>\n",
       "      <td>0.864686</td>\n",
       "      <td>0.864686</td>\n",
       "      <td>0.454279</td>\n",
       "      <td>0.695051</td>\n",
       "      <td>0.599744</td>\n",
       "      <td>0.459414</td>\n",
       "      <td>0.909757</td>\n",
       "      <td>1.444142</td>\n",
       "    </tr>\n",
       "    <tr>\n",
       "      <th>1998</th>\n",
       "      <td>1999</td>\n",
       "      <td>0.255526</td>\n",
       "      <td>0.254730</td>\n",
       "      <td>0.363190</td>\n",
       "      <td>0.363190</td>\n",
       "      <td>0.909224</td>\n",
       "      <td>0.953532</td>\n",
       "      <td>0.263919</td>\n",
       "      <td>NaN</td>\n",
       "      <td>1.426335</td>\n",
       "      <td>0.857069</td>\n",
       "      <td>0.857069</td>\n",
       "      <td>0.462385</td>\n",
       "      <td>0.693286</td>\n",
       "      <td>0.594084</td>\n",
       "      <td>0.465608</td>\n",
       "      <td>0.909224</td>\n",
       "      <td>1.422437</td>\n",
       "    </tr>\n",
       "    <tr>\n",
       "      <th>1999</th>\n",
       "      <td>2000</td>\n",
       "      <td>0.251024</td>\n",
       "      <td>0.251089</td>\n",
       "      <td>0.360680</td>\n",
       "      <td>0.360680</td>\n",
       "      <td>0.910521</td>\n",
       "      <td>0.954213</td>\n",
       "      <td>0.262890</td>\n",
       "      <td>NaN</td>\n",
       "      <td>1.406605</td>\n",
       "      <td>0.857396</td>\n",
       "      <td>0.857396</td>\n",
       "      <td>0.469821</td>\n",
       "      <td>0.692244</td>\n",
       "      <td>0.611319</td>\n",
       "      <td>0.469912</td>\n",
       "      <td>0.910521</td>\n",
       "      <td>1.403103</td>\n",
       "    </tr>\n",
       "  </tbody>\n",
       "</table>\n",
       "</div>"
      ],
      "text/plain": [
       "     epoch  Train Loss  Train MSE  Train MAE  Train RMSE  Train R2  \\\n",
       "1995  1996    0.252484   0.252411   0.358300    0.358300  0.910050   \n",
       "1996  1997    0.257482   0.256441   0.362109    0.362109  0.908614   \n",
       "1997  1998    0.253725   0.253234   0.358696    0.358696  0.909757   \n",
       "1998  1999    0.255526   0.254730   0.363190    0.363190  0.909224   \n",
       "1999  2000    0.251024   0.251089   0.360680    0.360680  0.910521   \n",
       "\n",
       "      Train Pearson  Train Median_AE Train Explained_VARVal Loss   Val MSE  \\\n",
       "1995       0.953967         0.260481                         NaN  1.397883   \n",
       "1996       0.953217         0.263657                         NaN  1.402969   \n",
       "1997       0.953812         0.259602                         NaN  1.447839   \n",
       "1998       0.953532         0.263919                         NaN  1.426335   \n",
       "1999       0.954213         0.262890                         NaN  1.406605   \n",
       "\n",
       "       Val MAE  Val RMSE    Val R2  Val Pearson  Val Median_AE  \\\n",
       "1995  0.854809  0.854809  0.473109     0.692918       0.608722   \n",
       "1996  0.861599  0.861599  0.471192     0.691605       0.614766   \n",
       "1997  0.864686  0.864686  0.454279     0.695051       0.599744   \n",
       "1998  0.857069  0.857069  0.462385     0.693286       0.594084   \n",
       "1999  0.857396  0.857396  0.469821     0.692244       0.611319   \n",
       "\n",
       "      Val Explained_VAR  Train Explained_VAR  Val Loss  \n",
       "1995           0.473224             0.910051  1.394013  \n",
       "1996           0.473515             0.908615  1.399345  \n",
       "1997           0.459414             0.909757  1.444142  \n",
       "1998           0.465608             0.909224  1.422437  \n",
       "1999           0.469912             0.910521  1.403103  "
      ]
     },
     "execution_count": 15,
     "metadata": {},
     "output_type": "execute_result"
    }
   ],
   "source": [
    "train_history.tail()"
   ]
  },
  {
   "cell_type": "code",
   "execution_count": 16,
   "metadata": {},
   "outputs": [
    {
     "data": {
      "image/png": "[encoded data removed]",
      "text/plain": [
       "<Figure size 640x480 with 1 Axes>"
      ]
     },
     "metadata": {},
     "output_type": "display_data"
    }
   ],
   "source": [
    "# Plot the performance\n",
    "import matplotlib.pyplot as plt\n",
    "\n",
    "plt.scatter(test_labels, test_predictions, alpha=0.5)\n",
    "plt.xlabel(\"True Reactivity\")\n",
    "plt.ylabel(\"Predicted Reactivity\")\n",
    "plt.title(\"CNN Predictions vs True Values\")\n",
    "plt.plot([min(test_labels), max(test_labels)], [min(test_labels), max(test_labels)], 'r--')\n",
    "plt.show()\n"
   ]
  }
 ],
 "metadata": {
  "kernelspec": {
   "display_name": "base",
   "language": "python",
   "name": "python3"
  },
  "language_info": {
   "codemirror_mode": {
    "name": "ipython",
    "version": 3
   },
   "file_extension": ".py",
   "mimetype": "text/x-python",
   "name": "python",
   "nbconvert_exporter": "python",
   "pygments_lexer": "ipython3",
   "version": "3.12.2"
  }
 },
 "nbformat": 4,
 "nbformat_minor": 2
}
