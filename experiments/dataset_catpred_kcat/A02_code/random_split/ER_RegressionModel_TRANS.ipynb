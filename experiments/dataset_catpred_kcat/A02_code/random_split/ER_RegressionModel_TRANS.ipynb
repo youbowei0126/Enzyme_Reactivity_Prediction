{
 "cells": [
  {
   "cell_type": "code",
   "execution_count": 1,
   "metadata": {},
   "outputs": [],
   "source": [
    "import pandas as pd\n",
    "import numpy as np\n",
    "from tqdm import tqdm\n",
    "import torch\n",
    "import torch.nn as nn\n",
    "import torch.optim as optim\n",
    "from torch.utils.data import DataLoader, Dataset\n",
    "from sklearn.metrics import roc_auc_score\n",
    "from sklearn.model_selection import train_test_split\n",
    "import os\n"
   ]
  },
  {
   "cell_type": "code",
   "execution_count": 2,
   "metadata": {},
   "outputs": [
    {
     "data": {
      "text/html": [
       "<div>\n",
       "<style scoped>\n",
       "    .dataframe tbody tr th:only-of-type {\n",
       "        vertical-align: middle;\n",
       "    }\n",
       "\n",
       "    .dataframe tbody tr th {\n",
       "        vertical-align: top;\n",
       "    }\n",
       "\n",
       "    .dataframe thead th {\n",
       "        text-align: right;\n",
       "    }\n",
       "</style>\n",
       "<table border=\"1\" class=\"dataframe\">\n",
       "  <thead>\n",
       "    <tr style=\"text-align: right;\">\n",
       "      <th></th>\n",
       "      <th>Sequence</th>\n",
       "      <th>sequence_source</th>\n",
       "      <th>uniprot</th>\n",
       "      <th>Smiles</th>\n",
       "      <th>value</th>\n",
       "      <th>ec</th>\n",
       "      <th>log10_value</th>\n",
       "      <th>reactant_smiles</th>\n",
       "      <th>product_smiles</th>\n",
       "      <th>log10kcat_max</th>\n",
       "      <th>metabolite_features</th>\n",
       "      <th>protein_features</th>\n",
       "    </tr>\n",
       "  </thead>\n",
       "  <tbody>\n",
       "    <tr>\n",
       "      <th>0</th>\n",
       "      <td>MEPGSKSVSRSDWQPEPHQRPITPLEPGPEKTPIAQPESKTLQGSN...</td>\n",
       "      <td>sabio</td>\n",
       "      <td>Q05469</td>\n",
       "      <td>CCC(=O)OCC(COC(=O)CC)OC(=O)CC.O&gt;&gt;CCC(=O)O.CCC(...</td>\n",
       "      <td>7.00</td>\n",
       "      <td>3.1.1.1</td>\n",
       "      <td>0.845098</td>\n",
       "      <td>CCC(=O)OCC(COC(=O)CC)OC(=O)CC.O</td>\n",
       "      <td>CCC(=O)O.CCC(=O)OCC(CO)OC(=O)CC</td>\n",
       "      <td>0.845098</td>\n",
       "      <td>[0.25240317, -0.45278314, -0.76844007, 0.04716...</td>\n",
       "      <td>[-0.06076221, -0.21264695, -0.05684641, 0.0163...</td>\n",
       "    </tr>\n",
       "    <tr>\n",
       "      <th>1</th>\n",
       "      <td>MLLAQRRLISLGCRSKPIKTIYSSSKVLGLCTSAKMALKFKNAKRI...</td>\n",
       "      <td>brenda</td>\n",
       "      <td>Q71RI9</td>\n",
       "      <td>Nc1ccccc1C(=O)C[C@H](N)C(=O)O.O=C(O)C(=O)Cc1cc...</td>\n",
       "      <td>1.48</td>\n",
       "      <td>2.6.1.7</td>\n",
       "      <td>0.170262</td>\n",
       "      <td>Nc1ccccc1C(=O)C[C@H](N)C(=O)O.O=C(O)C(=O)Cc1cc...</td>\n",
       "      <td>N[C@@H](Cc1ccc(O)cc1)C(=O)O.O=C(O)c1cc(=O)c2cc...</td>\n",
       "      <td>0.170262</td>\n",
       "      <td>[0.066915624, -0.15937805, -0.7076091, 0.12864...</td>\n",
       "      <td>[-0.051194582, -0.07116077, 0.16383636, 0.2113...</td>\n",
       "    </tr>\n",
       "    <tr>\n",
       "      <th>2</th>\n",
       "      <td>MPIIQMNLLEGRTVEQKRNAVAAITEAVVRTLDVRPDQVRILINEL...</td>\n",
       "      <td>brenda</td>\n",
       "      <td>A2SL37</td>\n",
       "      <td>C/C(=C\\C=C(/O)C(=O)O)C(=O)O&gt;&gt;CC(/C=C/C(=O)C(=O...</td>\n",
       "      <td>3.40</td>\n",
       "      <td>5.3.2.6</td>\n",
       "      <td>0.531479</td>\n",
       "      <td>C/C(=C\\C=C(/O)C(=O)O)C(=O)O</td>\n",
       "      <td>CC(/C=C/C(=O)C(=O)O)C(=O)O</td>\n",
       "      <td>2.029384</td>\n",
       "      <td>[0.23911352, 0.011175589, -0.35101113, 0.15938...</td>\n",
       "      <td>[-0.1772431, -0.06500952, 0.18246448, -0.05431...</td>\n",
       "    </tr>\n",
       "    <tr>\n",
       "      <th>3</th>\n",
       "      <td>MKEAGILFEELVSIMEKLRSPEGCEWDRKQTHESLKPYLIEECYEL...</td>\n",
       "      <td>brenda</td>\n",
       "      <td>Q9X015</td>\n",
       "      <td>N=c1nc(O)c2ncn([C@@H]3O[C@H](COP(=O)(O)OP(=O)(...</td>\n",
       "      <td>0.69</td>\n",
       "      <td>3.6.1.9</td>\n",
       "      <td>-0.161151</td>\n",
       "      <td>N=c1nc(O)c2ncn([C@@H]3O[C@H](COP(=O)(O)OP(=O)(...</td>\n",
       "      <td>N=c1nc(O)c2ncn([C@@H]3O[C@H](COP(=O)(O)OP(=O)(...</td>\n",
       "      <td>-0.161151</td>\n",
       "      <td>[0.078591675, -0.15656142, -0.55292135, -0.245...</td>\n",
       "      <td>[-0.09246727, -0.033019878, 0.10869139, 0.2953...</td>\n",
       "    </tr>\n",
       "    <tr>\n",
       "      <th>4</th>\n",
       "      <td>MGQEKLYIEKELSWLSFNERVLQEAADKSNPLIERMRFLGIYSNNL...</td>\n",
       "      <td>sabio</td>\n",
       "      <td>P0A7B1</td>\n",
       "      <td>O=c1ccn(C2OC(COP(=O)(O)OP(=O)(O)O)C(O)C2O)c(=O...</td>\n",
       "      <td>420.00</td>\n",
       "      <td>2.7.4.1</td>\n",
       "      <td>2.623249</td>\n",
       "      <td>O=c1ccn(C2OC(COP(=O)(O)OP(=O)(O)O)C(O)C2O)c(=O...</td>\n",
       "      <td>O=c1ccn(C2OC(COP(=O)(O)OP(=O)(O)OP(=O)(O)O)C(O...</td>\n",
       "      <td>2.623249</td>\n",
       "      <td>[0.00051207165, -0.7151457, -0.95394605, -0.15...</td>\n",
       "      <td>[-0.06592023, -0.062496405, -0.012068139, 0.06...</td>\n",
       "    </tr>\n",
       "  </tbody>\n",
       "</table>\n",
       "</div>"
      ],
      "text/plain": [
       "                                            Sequence sequence_source uniprot  \\\n",
       "0  MEPGSKSVSRSDWQPEPHQRPITPLEPGPEKTPIAQPESKTLQGSN...           sabio  Q05469   \n",
       "1  MLLAQRRLISLGCRSKPIKTIYSSSKVLGLCTSAKMALKFKNAKRI...          brenda  Q71RI9   \n",
       "2  MPIIQMNLLEGRTVEQKRNAVAAITEAVVRTLDVRPDQVRILINEL...          brenda  A2SL37   \n",
       "3  MKEAGILFEELVSIMEKLRSPEGCEWDRKQTHESLKPYLIEECYEL...          brenda  Q9X015   \n",
       "4  MGQEKLYIEKELSWLSFNERVLQEAADKSNPLIERMRFLGIYSNNL...           sabio  P0A7B1   \n",
       "\n",
       "                                              Smiles   value       ec  \\\n",
       "0  CCC(=O)OCC(COC(=O)CC)OC(=O)CC.O>>CCC(=O)O.CCC(...    7.00  3.1.1.1   \n",
       "1  Nc1ccccc1C(=O)C[C@H](N)C(=O)O.O=C(O)C(=O)Cc1cc...    1.48  2.6.1.7   \n",
       "2  C/C(=C\\C=C(/O)C(=O)O)C(=O)O>>CC(/C=C/C(=O)C(=O...    3.40  5.3.2.6   \n",
       "3  N=c1nc(O)c2ncn([C@@H]3O[C@H](COP(=O)(O)OP(=O)(...    0.69  3.6.1.9   \n",
       "4  O=c1ccn(C2OC(COP(=O)(O)OP(=O)(O)O)C(O)C2O)c(=O...  420.00  2.7.4.1   \n",
       "\n",
       "   log10_value                                    reactant_smiles  \\\n",
       "0     0.845098                    CCC(=O)OCC(COC(=O)CC)OC(=O)CC.O   \n",
       "1     0.170262  Nc1ccccc1C(=O)C[C@H](N)C(=O)O.O=C(O)C(=O)Cc1cc...   \n",
       "2     0.531479                        C/C(=C\\C=C(/O)C(=O)O)C(=O)O   \n",
       "3    -0.161151  N=c1nc(O)c2ncn([C@@H]3O[C@H](COP(=O)(O)OP(=O)(...   \n",
       "4     2.623249  O=c1ccn(C2OC(COP(=O)(O)OP(=O)(O)O)C(O)C2O)c(=O...   \n",
       "\n",
       "                                      product_smiles  log10kcat_max  \\\n",
       "0                    CCC(=O)O.CCC(=O)OCC(CO)OC(=O)CC       0.845098   \n",
       "1  N[C@@H](Cc1ccc(O)cc1)C(=O)O.O=C(O)c1cc(=O)c2cc...       0.170262   \n",
       "2                         CC(/C=C/C(=O)C(=O)O)C(=O)O       2.029384   \n",
       "3  N=c1nc(O)c2ncn([C@@H]3O[C@H](COP(=O)(O)OP(=O)(...      -0.161151   \n",
       "4  O=c1ccn(C2OC(COP(=O)(O)OP(=O)(O)OP(=O)(O)O)C(O...       2.623249   \n",
       "\n",
       "                                 metabolite_features  \\\n",
       "0  [0.25240317, -0.45278314, -0.76844007, 0.04716...   \n",
       "1  [0.066915624, -0.15937805, -0.7076091, 0.12864...   \n",
       "2  [0.23911352, 0.011175589, -0.35101113, 0.15938...   \n",
       "3  [0.078591675, -0.15656142, -0.55292135, -0.245...   \n",
       "4  [0.00051207165, -0.7151457, -0.95394605, -0.15...   \n",
       "\n",
       "                                    protein_features  \n",
       "0  [-0.06076221, -0.21264695, -0.05684641, 0.0163...  \n",
       "1  [-0.051194582, -0.07116077, 0.16383636, 0.2113...  \n",
       "2  [-0.1772431, -0.06500952, 0.18246448, -0.05431...  \n",
       "3  [-0.09246727, -0.033019878, 0.10869139, 0.2953...  \n",
       "4  [-0.06592023, -0.062496405, -0.012068139, 0.06...  "
      ]
     },
     "execution_count": 2,
     "metadata": {},
     "output_type": "execute_result"
    }
   ],
   "source": [
    "import joblib\n",
    "import pandas as pd\n",
    "\n",
    "data_kcat = joblib.load('/Users/pinchichen/2025S lab/AI drug project/Catpred/dataset/kcat_with_features.joblib')\n",
    "data_kcat.head()"
   ]
  },
  {
   "cell_type": "code",
   "execution_count": 3,
   "metadata": {},
   "outputs": [
    {
     "data": {
      "text/html": [
       "<div>\n",
       "<style scoped>\n",
       "    .dataframe tbody tr th:only-of-type {\n",
       "        vertical-align: middle;\n",
       "    }\n",
       "\n",
       "    .dataframe tbody tr th {\n",
       "        vertical-align: top;\n",
       "    }\n",
       "\n",
       "    .dataframe thead th {\n",
       "        text-align: right;\n",
       "    }\n",
       "</style>\n",
       "<table border=\"1\" class=\"dataframe\">\n",
       "  <thead>\n",
       "    <tr style=\"text-align: right;\">\n",
       "      <th></th>\n",
       "      <th>Sequence</th>\n",
       "      <th>sequence_source</th>\n",
       "      <th>uniprot</th>\n",
       "      <th>Smiles</th>\n",
       "      <th>value</th>\n",
       "      <th>ec</th>\n",
       "      <th>log10_value</th>\n",
       "      <th>reactant_smiles</th>\n",
       "      <th>product_smiles</th>\n",
       "      <th>label</th>\n",
       "      <th>metabolite_features</th>\n",
       "      <th>protein_features</th>\n",
       "    </tr>\n",
       "  </thead>\n",
       "  <tbody>\n",
       "    <tr>\n",
       "      <th>0</th>\n",
       "      <td>MEPGSKSVSRSDWQPEPHQRPITPLEPGPEKTPIAQPESKTLQGSN...</td>\n",
       "      <td>sabio</td>\n",
       "      <td>Q05469</td>\n",
       "      <td>CCC(=O)OCC(COC(=O)CC)OC(=O)CC.O&gt;&gt;CCC(=O)O.CCC(...</td>\n",
       "      <td>7.00</td>\n",
       "      <td>3.1.1.1</td>\n",
       "      <td>0.845098</td>\n",
       "      <td>CCC(=O)OCC(COC(=O)CC)OC(=O)CC.O</td>\n",
       "      <td>CCC(=O)O.CCC(=O)OCC(CO)OC(=O)CC</td>\n",
       "      <td>0.845098</td>\n",
       "      <td>[0.25240317, -0.45278314, -0.76844007, 0.04716...</td>\n",
       "      <td>[-0.06076221, -0.21264695, -0.05684641, 0.0163...</td>\n",
       "    </tr>\n",
       "    <tr>\n",
       "      <th>1</th>\n",
       "      <td>MLLAQRRLISLGCRSKPIKTIYSSSKVLGLCTSAKMALKFKNAKRI...</td>\n",
       "      <td>brenda</td>\n",
       "      <td>Q71RI9</td>\n",
       "      <td>Nc1ccccc1C(=O)C[C@H](N)C(=O)O.O=C(O)C(=O)Cc1cc...</td>\n",
       "      <td>1.48</td>\n",
       "      <td>2.6.1.7</td>\n",
       "      <td>0.170262</td>\n",
       "      <td>Nc1ccccc1C(=O)C[C@H](N)C(=O)O.O=C(O)C(=O)Cc1cc...</td>\n",
       "      <td>N[C@@H](Cc1ccc(O)cc1)C(=O)O.O=C(O)c1cc(=O)c2cc...</td>\n",
       "      <td>0.170262</td>\n",
       "      <td>[0.066915624, -0.15937805, -0.7076091, 0.12864...</td>\n",
       "      <td>[-0.051194582, -0.07116077, 0.16383636, 0.2113...</td>\n",
       "    </tr>\n",
       "    <tr>\n",
       "      <th>2</th>\n",
       "      <td>MPIIQMNLLEGRTVEQKRNAVAAITEAVVRTLDVRPDQVRILINEL...</td>\n",
       "      <td>brenda</td>\n",
       "      <td>A2SL37</td>\n",
       "      <td>C/C(=C\\C=C(/O)C(=O)O)C(=O)O&gt;&gt;CC(/C=C/C(=O)C(=O...</td>\n",
       "      <td>3.40</td>\n",
       "      <td>5.3.2.6</td>\n",
       "      <td>0.531479</td>\n",
       "      <td>C/C(=C\\C=C(/O)C(=O)O)C(=O)O</td>\n",
       "      <td>CC(/C=C/C(=O)C(=O)O)C(=O)O</td>\n",
       "      <td>2.029384</td>\n",
       "      <td>[0.23911352, 0.011175589, -0.35101113, 0.15938...</td>\n",
       "      <td>[-0.1772431, -0.06500952, 0.18246448, -0.05431...</td>\n",
       "    </tr>\n",
       "    <tr>\n",
       "      <th>3</th>\n",
       "      <td>MKEAGILFEELVSIMEKLRSPEGCEWDRKQTHESLKPYLIEECYEL...</td>\n",
       "      <td>brenda</td>\n",
       "      <td>Q9X015</td>\n",
       "      <td>N=c1nc(O)c2ncn([C@@H]3O[C@H](COP(=O)(O)OP(=O)(...</td>\n",
       "      <td>0.69</td>\n",
       "      <td>3.6.1.9</td>\n",
       "      <td>-0.161151</td>\n",
       "      <td>N=c1nc(O)c2ncn([C@@H]3O[C@H](COP(=O)(O)OP(=O)(...</td>\n",
       "      <td>N=c1nc(O)c2ncn([C@@H]3O[C@H](COP(=O)(O)OP(=O)(...</td>\n",
       "      <td>-0.161151</td>\n",
       "      <td>[0.078591675, -0.15656142, -0.55292135, -0.245...</td>\n",
       "      <td>[-0.09246727, -0.033019878, 0.10869139, 0.2953...</td>\n",
       "    </tr>\n",
       "    <tr>\n",
       "      <th>4</th>\n",
       "      <td>MGQEKLYIEKELSWLSFNERVLQEAADKSNPLIERMRFLGIYSNNL...</td>\n",
       "      <td>sabio</td>\n",
       "      <td>P0A7B1</td>\n",
       "      <td>O=c1ccn(C2OC(COP(=O)(O)OP(=O)(O)O)C(O)C2O)c(=O...</td>\n",
       "      <td>420.00</td>\n",
       "      <td>2.7.4.1</td>\n",
       "      <td>2.623249</td>\n",
       "      <td>O=c1ccn(C2OC(COP(=O)(O)OP(=O)(O)O)C(O)C2O)c(=O...</td>\n",
       "      <td>O=c1ccn(C2OC(COP(=O)(O)OP(=O)(O)OP(=O)(O)O)C(O...</td>\n",
       "      <td>2.623249</td>\n",
       "      <td>[0.00051207165, -0.7151457, -0.95394605, -0.15...</td>\n",
       "      <td>[-0.06592023, -0.062496405, -0.012068139, 0.06...</td>\n",
       "    </tr>\n",
       "  </tbody>\n",
       "</table>\n",
       "</div>"
      ],
      "text/plain": [
       "                                            Sequence sequence_source uniprot  \\\n",
       "0  MEPGSKSVSRSDWQPEPHQRPITPLEPGPEKTPIAQPESKTLQGSN...           sabio  Q05469   \n",
       "1  MLLAQRRLISLGCRSKPIKTIYSSSKVLGLCTSAKMALKFKNAKRI...          brenda  Q71RI9   \n",
       "2  MPIIQMNLLEGRTVEQKRNAVAAITEAVVRTLDVRPDQVRILINEL...          brenda  A2SL37   \n",
       "3  MKEAGILFEELVSIMEKLRSPEGCEWDRKQTHESLKPYLIEECYEL...          brenda  Q9X015   \n",
       "4  MGQEKLYIEKELSWLSFNERVLQEAADKSNPLIERMRFLGIYSNNL...           sabio  P0A7B1   \n",
       "\n",
       "                                              Smiles   value       ec  \\\n",
       "0  CCC(=O)OCC(COC(=O)CC)OC(=O)CC.O>>CCC(=O)O.CCC(...    7.00  3.1.1.1   \n",
       "1  Nc1ccccc1C(=O)C[C@H](N)C(=O)O.O=C(O)C(=O)Cc1cc...    1.48  2.6.1.7   \n",
       "2  C/C(=C\\C=C(/O)C(=O)O)C(=O)O>>CC(/C=C/C(=O)C(=O...    3.40  5.3.2.6   \n",
       "3  N=c1nc(O)c2ncn([C@@H]3O[C@H](COP(=O)(O)OP(=O)(...    0.69  3.6.1.9   \n",
       "4  O=c1ccn(C2OC(COP(=O)(O)OP(=O)(O)O)C(O)C2O)c(=O...  420.00  2.7.4.1   \n",
       "\n",
       "   log10_value                                    reactant_smiles  \\\n",
       "0     0.845098                    CCC(=O)OCC(COC(=O)CC)OC(=O)CC.O   \n",
       "1     0.170262  Nc1ccccc1C(=O)C[C@H](N)C(=O)O.O=C(O)C(=O)Cc1cc...   \n",
       "2     0.531479                        C/C(=C\\C=C(/O)C(=O)O)C(=O)O   \n",
       "3    -0.161151  N=c1nc(O)c2ncn([C@@H]3O[C@H](COP(=O)(O)OP(=O)(...   \n",
       "4     2.623249  O=c1ccn(C2OC(COP(=O)(O)OP(=O)(O)O)C(O)C2O)c(=O...   \n",
       "\n",
       "                                      product_smiles     label  \\\n",
       "0                    CCC(=O)O.CCC(=O)OCC(CO)OC(=O)CC  0.845098   \n",
       "1  N[C@@H](Cc1ccc(O)cc1)C(=O)O.O=C(O)c1cc(=O)c2cc...  0.170262   \n",
       "2                         CC(/C=C/C(=O)C(=O)O)C(=O)O  2.029384   \n",
       "3  N=c1nc(O)c2ncn([C@@H]3O[C@H](COP(=O)(O)OP(=O)(... -0.161151   \n",
       "4  O=c1ccn(C2OC(COP(=O)(O)OP(=O)(O)OP(=O)(O)O)C(O...  2.623249   \n",
       "\n",
       "                                 metabolite_features  \\\n",
       "0  [0.25240317, -0.45278314, -0.76844007, 0.04716...   \n",
       "1  [0.066915624, -0.15937805, -0.7076091, 0.12864...   \n",
       "2  [0.23911352, 0.011175589, -0.35101113, 0.15938...   \n",
       "3  [0.078591675, -0.15656142, -0.55292135, -0.245...   \n",
       "4  [0.00051207165, -0.7151457, -0.95394605, -0.15...   \n",
       "\n",
       "                                    protein_features  \n",
       "0  [-0.06076221, -0.21264695, -0.05684641, 0.0163...  \n",
       "1  [-0.051194582, -0.07116077, 0.16383636, 0.2113...  \n",
       "2  [-0.1772431, -0.06500952, 0.18246448, -0.05431...  \n",
       "3  [-0.09246727, -0.033019878, 0.10869139, 0.2953...  \n",
       "4  [-0.06592023, -0.062496405, -0.012068139, 0.06...  "
      ]
     },
     "execution_count": 3,
     "metadata": {},
     "output_type": "execute_result"
    }
   ],
   "source": [
    "data_kcat.rename(columns={'log10kcat_max':'label'},inplace=True)\n",
    "data_kcat.head()"
   ]
  },
  {
   "cell_type": "code",
   "execution_count": 4,
   "metadata": {},
   "outputs": [],
   "source": [
    "# Define dataset\n",
    "class MPI_Dataset(Dataset):\n",
    "    def __init__(self, dataframe):\n",
    "        self.dataframe = dataframe\n",
    "\n",
    "    def __len__(self):\n",
    "        return len(self.dataframe)\n",
    "\n",
    "    def __getitem__(self, idx):\n",
    "        row = self.dataframe.iloc[idx]\n",
    "        return {\n",
    "            'metabolite_features': torch.tensor(np.asarray(row['metabolite_features'], dtype=np.float32)),\n",
    "            'protein_features': torch.tensor(np.asarray(row['protein_features'], dtype=np.float32)),\n",
    "            'label': torch.tensor(float(row['label']), dtype=torch.float32),\n",
    "        }"
   ]
  },
  {
   "cell_type": "code",
   "execution_count": 5,
   "metadata": {},
   "outputs": [],
   "source": [
    "# Load data\n",
    "# Assuming `combined_df` is a pandas DataFrame containing all necessary columns\n",
    "train_df, temp_df = train_test_split(data_kcat, test_size=0.3, shuffle=True, random_state=42)\n",
    "val_df, test_df = train_test_split(temp_df, test_size=0.5, shuffle=True, random_state=42)\n",
    "\n",
    "train_dataset = MPI_Dataset(train_df)\n",
    "val_dataset = MPI_Dataset(val_df)\n",
    "test_dataset = MPI_Dataset(test_df)\n",
    "\n",
    "train_loader = DataLoader(train_dataset, batch_size=32, shuffle=True)\n",
    "val_loader = DataLoader(val_dataset, batch_size=32)\n",
    "test_loader = DataLoader(test_dataset, batch_size=32)"
   ]
  },
  {
   "cell_type": "code",
   "execution_count": 6,
   "metadata": {},
   "outputs": [],
   "source": [
    "import torch.nn as nn\n",
    "import torch\n",
    "import torch.nn.functional as F\n",
    "\n",
    "# Define Transformer for Regression\n",
    "# https://www.datacamp.com/tutorial/building-a-transformer-with-py-torch\n",
    "class TransformerRegressor(nn.Module):\n",
    "    def __init__(self, mol_input_dim, protein_input_dim, d_model=128, nhead=4, num_layers=2, dropout=0.1):\n",
    "        super().__init__()\n",
    "\n",
    "        # Linear projection to embedding space\n",
    "        self.mol_proj = nn.Linear(mol_input_dim, d_model)\n",
    "        self.protein_proj = nn.Linear(protein_input_dim, d_model)\n",
    "\n",
    "        # Positional encoding (learnable)\n",
    "        self.pos_embedding = nn.Parameter(torch.randn(2, d_model))  # 2 positions: [mol, protein]\n",
    "\n",
    "        # Transformer encoder\n",
    "        encoder_layer = nn.TransformerEncoderLayer(d_model=d_model, nhead=nhead, dropout=dropout, batch_first=True)\n",
    "        self.transformer = nn.TransformerEncoder(encoder_layer, num_layers=num_layers)\n",
    "\n",
    "        # Regression head\n",
    "        self.regressor = nn.Sequential(\n",
    "            nn.Linear(d_model * 2, d_model),\n",
    "            nn.ReLU(),\n",
    "            nn.Dropout(dropout),\n",
    "            nn.Linear(d_model, 1)\n",
    "        )\n",
    "\n",
    "    def forward(self, mol_input, protein_input):\n",
    "        # Project input to embedding space\n",
    "        mol_embed = self.mol_proj(mol_input).unsqueeze(1)       # shape: (B, 1, d_model)\n",
    "        protein_embed = self.protein_proj(protein_input).unsqueeze(1)  # shape: (B, 1, d_model)\n",
    "\n",
    "        # Concatenate [mol, protein] tokens → sequence length = 2\n",
    "        x = torch.cat([mol_embed, protein_embed], dim=1)  # shape: (B, 2, d_model)\n",
    "\n",
    "        # Add learnable positional encoding\n",
    "        x = x + self.pos_embedding.unsqueeze(0)  # broadcast (1, 2, d_model)\n",
    "\n",
    "        # Pass through Transformer encoder\n",
    "        encoded = self.transformer(x)  # shape: (B, 2, d_model)\n",
    "\n",
    "        # Flatten both tokens\n",
    "        flattened = encoded.view(encoded.size(0), -1)  # shape: (B, 2 * d_model)\n",
    "\n",
    "        # Regression\n",
    "        out = self.regressor(flattened)\n",
    "        return out.view(-1)"
   ]
  },
  {
   "cell_type": "code",
   "execution_count": 7,
   "metadata": {},
   "outputs": [],
   "source": [
    "# Check CUDA availability\n",
    "device = torch.device(\"cuda\" if torch.cuda.is_available() else \"cpu\")"
   ]
  },
  {
   "cell_type": "code",
   "execution_count": 8,
   "metadata": {},
   "outputs": [
    {
     "name": "stderr",
     "output_type": "stream",
     "text": [
      "Training Epoch 1: 100%|██████████| 507/507 [00:09<00:00, 51.28it/s]\n"
     ]
    },
    {
     "name": "stdout",
     "output_type": "stream",
     "text": [
      "Epoch 0 - Train Loss: 2.7084, Train MSE: 2.7082, Train MAE: 1.2591\n"
     ]
    },
    {
     "name": "stderr",
     "output_type": "stream",
     "text": [
      "/var/folders/yz/c1z6m9_d5d3f80sywjc3rqsc0000gn/T/ipykernel_16864/1634219118.py:92: FutureWarning: The behavior of DataFrame concatenation with empty or all-NA entries is deprecated. In a future version, this will no longer exclude empty or all-NA columns when determining the result dtypes. To retain the old behavior, exclude the relevant entries before the concat operation.\n",
      "  train_history = pd.concat([train_history, pd.DataFrame([new_row])], ignore_index=True)\n"
     ]
    },
    {
     "name": "stdout",
     "output_type": "stream",
     "text": [
      "Epoch 0 - Validation Loss: 2.4116, Validation MSE: 2.4115, Validation MAE: 1.1977\n"
     ]
    },
    {
     "name": "stderr",
     "output_type": "stream",
     "text": [
      "Training Epoch 2: 100%|██████████| 507/507 [00:12<00:00, 40.73it/s]\n",
      "Training Epoch 3: 100%|██████████| 507/507 [00:12<00:00, 39.00it/s]\n",
      "Training Epoch 4: 100%|██████████| 507/507 [00:12<00:00, 41.37it/s]\n",
      "Training Epoch 5: 100%|██████████| 507/507 [00:14<00:00, 36.17it/s]\n",
      "Training Epoch 6: 100%|██████████| 507/507 [00:10<00:00, 46.46it/s]\n",
      "Training Epoch 7: 100%|██████████| 507/507 [00:11<00:00, 43.63it/s]\n",
      "Training Epoch 8: 100%|██████████| 507/507 [00:10<00:00, 48.96it/s]\n",
      "Training Epoch 9: 100%|██████████| 507/507 [00:10<00:00, 49.87it/s]\n",
      "Training Epoch 10: 100%|██████████| 507/507 [00:10<00:00, 46.26it/s]\n",
      "Training Epoch 11: 100%|██████████| 507/507 [00:11<00:00, 43.34it/s]\n"
     ]
    },
    {
     "name": "stdout",
     "output_type": "stream",
     "text": [
      "Epoch 10 - Train Loss: 2.0194, Train MSE: 2.0167, Train MAE: 1.0700\n",
      "Epoch 10 - Validation Loss: 1.9887, Validation MSE: 1.9896, Validation MAE: 1.0751\n"
     ]
    },
    {
     "name": "stderr",
     "output_type": "stream",
     "text": [
      "Training Epoch 12: 100%|██████████| 507/507 [00:11<00:00, 42.91it/s]\n",
      "Training Epoch 13: 100%|██████████| 507/507 [00:11<00:00, 45.22it/s]\n",
      "Training Epoch 14: 100%|██████████| 507/507 [00:12<00:00, 39.16it/s]\n",
      "Training Epoch 15: 100%|██████████| 507/507 [00:11<00:00, 42.29it/s]\n",
      "Training Epoch 16: 100%|██████████| 507/507 [00:11<00:00, 44.75it/s]\n",
      "Training Epoch 17: 100%|██████████| 507/507 [00:11<00:00, 42.46it/s]\n",
      "Training Epoch 18: 100%|██████████| 507/507 [00:11<00:00, 43.01it/s]\n",
      "Training Epoch 19: 100%|██████████| 507/507 [00:11<00:00, 43.12it/s]\n",
      "Training Epoch 20: 100%|██████████| 507/507 [00:12<00:00, 41.82it/s]\n",
      "Training Epoch 21: 100%|██████████| 507/507 [00:12<00:00, 41.68it/s]\n"
     ]
    },
    {
     "name": "stdout",
     "output_type": "stream",
     "text": [
      "Epoch 20 - Train Loss: 1.7084, Train MSE: 1.7077, Train MAE: 0.9851\n",
      "Epoch 20 - Validation Loss: 1.8219, Validation MSE: 1.8247, Validation MAE: 1.0239\n"
     ]
    },
    {
     "name": "stderr",
     "output_type": "stream",
     "text": [
      "Training Epoch 22: 100%|██████████| 507/507 [00:11<00:00, 42.54it/s]\n",
      "Training Epoch 23: 100%|██████████| 507/507 [00:11<00:00, 43.02it/s]\n",
      "Training Epoch 24: 100%|██████████| 507/507 [00:11<00:00, 42.90it/s]\n",
      "Training Epoch 25: 100%|██████████| 507/507 [00:11<00:00, 45.18it/s]\n",
      "Training Epoch 26: 100%|██████████| 507/507 [00:11<00:00, 42.60it/s]\n",
      "Training Epoch 27: 100%|██████████| 507/507 [00:11<00:00, 43.81it/s]\n",
      "Training Epoch 28: 100%|██████████| 507/507 [00:13<00:00, 38.19it/s]\n",
      "Training Epoch 29: 100%|██████████| 507/507 [00:11<00:00, 43.16it/s]\n",
      "Training Epoch 30: 100%|██████████| 507/507 [00:11<00:00, 45.34it/s]\n",
      "Training Epoch 31: 100%|██████████| 507/507 [00:11<00:00, 43.01it/s]\n"
     ]
    },
    {
     "name": "stdout",
     "output_type": "stream",
     "text": [
      "Epoch 30 - Train Loss: 1.4079, Train MSE: 1.4085, Train MAE: 0.8932\n",
      "Epoch 30 - Validation Loss: 1.7053, Validation MSE: 1.7080, Validation MAE: 0.9831\n"
     ]
    },
    {
     "name": "stderr",
     "output_type": "stream",
     "text": [
      "Training Epoch 32: 100%|██████████| 507/507 [00:12<00:00, 39.68it/s]\n",
      "Training Epoch 33: 100%|██████████| 507/507 [00:11<00:00, 42.39it/s]\n",
      "Training Epoch 34: 100%|██████████| 507/507 [00:11<00:00, 43.50it/s]\n",
      "Training Epoch 35: 100%|██████████| 507/507 [00:12<00:00, 39.22it/s]\n",
      "Training Epoch 36: 100%|██████████| 507/507 [00:13<00:00, 38.33it/s]\n",
      "Training Epoch 37: 100%|██████████| 507/507 [00:13<00:00, 38.30it/s]\n",
      "Training Epoch 38: 100%|██████████| 507/507 [00:12<00:00, 41.21it/s]\n",
      "Training Epoch 39: 100%|██████████| 507/507 [00:12<00:00, 39.83it/s]\n",
      "Training Epoch 40: 100%|██████████| 507/507 [00:12<00:00, 39.34it/s]\n",
      "Training Epoch 41: 100%|██████████| 507/507 [00:12<00:00, 42.09it/s]\n"
     ]
    },
    {
     "name": "stdout",
     "output_type": "stream",
     "text": [
      "Epoch 40 - Train Loss: 1.1536, Train MSE: 1.1540, Train MAE: 0.8054\n",
      "Epoch 40 - Validation Loss: 1.6373, Validation MSE: 1.6413, Validation MAE: 0.9534\n"
     ]
    },
    {
     "name": "stderr",
     "output_type": "stream",
     "text": [
      "Training Epoch 42: 100%|██████████| 507/507 [00:14<00:00, 35.06it/s]\n",
      "Training Epoch 43: 100%|██████████| 507/507 [00:13<00:00, 37.09it/s]\n",
      "Training Epoch 44: 100%|██████████| 507/507 [00:13<00:00, 37.76it/s]\n",
      "Training Epoch 45: 100%|██████████| 507/507 [00:13<00:00, 36.46it/s]\n",
      "Training Epoch 46: 100%|██████████| 507/507 [00:13<00:00, 36.60it/s]\n",
      "Training Epoch 47: 100%|██████████| 507/507 [00:13<00:00, 37.28it/s]\n",
      "Training Epoch 48: 100%|██████████| 507/507 [00:13<00:00, 37.27it/s]\n",
      "Training Epoch 49: 100%|██████████| 507/507 [00:13<00:00, 36.27it/s]\n",
      "Training Epoch 50: 100%|██████████| 507/507 [00:13<00:00, 36.38it/s]\n",
      "Training Epoch 51: 100%|██████████| 507/507 [00:12<00:00, 40.14it/s]\n"
     ]
    },
    {
     "name": "stdout",
     "output_type": "stream",
     "text": [
      "Epoch 50 - Train Loss: 0.9453, Train MSE: 0.9438, Train MAE: 0.7293\n",
      "Epoch 50 - Validation Loss: 1.5547, Validation MSE: 1.5584, Validation MAE: 0.9294\n"
     ]
    },
    {
     "name": "stderr",
     "output_type": "stream",
     "text": [
      "Training Epoch 52: 100%|██████████| 507/507 [00:13<00:00, 38.18it/s]\n",
      "Training Epoch 53: 100%|██████████| 507/507 [00:12<00:00, 39.26it/s]\n",
      "Training Epoch 54: 100%|██████████| 507/507 [00:12<00:00, 39.84it/s]\n",
      "Training Epoch 55: 100%|██████████| 507/507 [00:13<00:00, 38.02it/s]\n",
      "Training Epoch 56: 100%|██████████| 507/507 [00:12<00:00, 39.20it/s]\n",
      "Training Epoch 57: 100%|██████████| 507/507 [00:12<00:00, 39.82it/s]\n",
      "Training Epoch 58: 100%|██████████| 507/507 [00:13<00:00, 38.46it/s]\n",
      "Training Epoch 59: 100%|██████████| 507/507 [00:12<00:00, 40.02it/s]\n",
      "Training Epoch 60: 100%|██████████| 507/507 [00:13<00:00, 38.97it/s]\n",
      "Training Epoch 61: 100%|██████████| 507/507 [00:13<00:00, 37.13it/s]\n"
     ]
    },
    {
     "name": "stdout",
     "output_type": "stream",
     "text": [
      "Epoch 60 - Train Loss: 0.7820, Train MSE: 0.7819, Train MAE: 0.6650\n",
      "Epoch 60 - Validation Loss: 1.5222, Validation MSE: 1.5255, Validation MAE: 0.9120\n"
     ]
    },
    {
     "name": "stderr",
     "output_type": "stream",
     "text": [
      "Training Epoch 62: 100%|██████████| 507/507 [00:12<00:00, 39.90it/s]\n",
      "Training Epoch 63: 100%|██████████| 507/507 [00:11<00:00, 45.20it/s]\n",
      "Training Epoch 64: 100%|██████████| 507/507 [00:10<00:00, 46.25it/s]\n",
      "Training Epoch 65: 100%|██████████| 507/507 [00:11<00:00, 44.35it/s]\n",
      "Training Epoch 66: 100%|██████████| 507/507 [00:10<00:00, 46.90it/s]\n",
      "Training Epoch 67: 100%|██████████| 507/507 [00:13<00:00, 36.85it/s]\n",
      "Training Epoch 68: 100%|██████████| 507/507 [00:10<00:00, 47.72it/s]\n",
      "Training Epoch 69: 100%|██████████| 507/507 [00:10<00:00, 46.18it/s]\n",
      "Training Epoch 70: 100%|██████████| 507/507 [00:11<00:00, 45.07it/s]\n",
      "Training Epoch 71: 100%|██████████| 507/507 [00:11<00:00, 44.55it/s]\n"
     ]
    },
    {
     "name": "stdout",
     "output_type": "stream",
     "text": [
      "Epoch 70 - Train Loss: 0.6500, Train MSE: 0.6494, Train MAE: 0.6059\n",
      "Epoch 70 - Validation Loss: 1.5918, Validation MSE: 1.5958, Validation MAE: 0.9279\n"
     ]
    },
    {
     "name": "stderr",
     "output_type": "stream",
     "text": [
      "Training Epoch 72: 100%|██████████| 507/507 [00:11<00:00, 43.95it/s]\n",
      "Training Epoch 73: 100%|██████████| 507/507 [00:11<00:00, 42.54it/s]\n",
      "Training Epoch 74: 100%|██████████| 507/507 [00:11<00:00, 45.66it/s]\n",
      "Training Epoch 75: 100%|██████████| 507/507 [00:11<00:00, 45.50it/s]\n",
      "Training Epoch 76: 100%|██████████| 507/507 [00:10<00:00, 46.31it/s]\n",
      "Training Epoch 77: 100%|██████████| 507/507 [00:11<00:00, 44.30it/s]\n",
      "Training Epoch 78: 100%|██████████| 507/507 [00:11<00:00, 45.94it/s]\n",
      "Training Epoch 79: 100%|██████████| 507/507 [00:11<00:00, 44.13it/s]\n",
      "Training Epoch 80: 100%|██████████| 507/507 [00:11<00:00, 44.04it/s]\n",
      "Training Epoch 81: 100%|██████████| 507/507 [00:11<00:00, 44.18it/s]\n"
     ]
    },
    {
     "name": "stdout",
     "output_type": "stream",
     "text": [
      "Epoch 80 - Train Loss: 0.5792, Train MSE: 0.5787, Train MAE: 0.5721\n",
      "Epoch 80 - Validation Loss: 1.4991, Validation MSE: 1.5032, Validation MAE: 0.8930\n"
     ]
    },
    {
     "name": "stderr",
     "output_type": "stream",
     "text": [
      "Training Epoch 82: 100%|██████████| 507/507 [00:11<00:00, 44.55it/s]\n",
      "Training Epoch 83: 100%|██████████| 507/507 [00:11<00:00, 43.41it/s]\n",
      "Training Epoch 84: 100%|██████████| 507/507 [00:11<00:00, 44.16it/s]\n",
      "Training Epoch 85: 100%|██████████| 507/507 [00:10<00:00, 46.15it/s]\n",
      "Training Epoch 86: 100%|██████████| 507/507 [00:11<00:00, 44.17it/s]\n",
      "Training Epoch 87: 100%|██████████| 507/507 [00:11<00:00, 45.25it/s]\n",
      "Training Epoch 88: 100%|██████████| 507/507 [00:11<00:00, 44.89it/s]\n",
      "Training Epoch 89: 100%|██████████| 507/507 [00:11<00:00, 44.28it/s]\n",
      "Training Epoch 90: 100%|██████████| 507/507 [00:11<00:00, 43.10it/s]\n",
      "Training Epoch 91: 100%|██████████| 507/507 [00:10<00:00, 46.57it/s]\n"
     ]
    },
    {
     "name": "stdout",
     "output_type": "stream",
     "text": [
      "Epoch 90 - Train Loss: 0.4807, Train MSE: 0.4810, Train MAE: 0.5202\n",
      "Epoch 90 - Validation Loss: 1.4843, Validation MSE: 1.4881, Validation MAE: 0.8830\n"
     ]
    },
    {
     "name": "stderr",
     "output_type": "stream",
     "text": [
      "Training Epoch 92: 100%|██████████| 507/507 [00:11<00:00, 44.12it/s]\n",
      "Training Epoch 93: 100%|██████████| 507/507 [00:11<00:00, 44.35it/s]\n",
      "Training Epoch 94: 100%|██████████| 507/507 [00:11<00:00, 44.90it/s]\n",
      "Training Epoch 95: 100%|██████████| 507/507 [00:11<00:00, 44.97it/s]\n",
      "Training Epoch 96: 100%|██████████| 507/507 [00:11<00:00, 44.64it/s]\n",
      "Training Epoch 97: 100%|██████████| 507/507 [00:11<00:00, 44.08it/s]\n",
      "Training Epoch 98: 100%|██████████| 507/507 [00:11<00:00, 44.25it/s]\n",
      "Training Epoch 99: 100%|██████████| 507/507 [00:11<00:00, 45.35it/s]\n",
      "Training Epoch 100: 100%|██████████| 507/507 [00:10<00:00, 46.57it/s]\n",
      "Training Epoch 101: 100%|██████████| 507/507 [00:11<00:00, 43.64it/s]\n"
     ]
    },
    {
     "name": "stdout",
     "output_type": "stream",
     "text": [
      "Epoch 100 - Train Loss: 0.4342, Train MSE: 0.4344, Train MAE: 0.4975\n",
      "Epoch 100 - Validation Loss: 1.4881, Validation MSE: 1.4928, Validation MAE: 0.8781\n"
     ]
    },
    {
     "name": "stderr",
     "output_type": "stream",
     "text": [
      "Training Epoch 102: 100%|██████████| 507/507 [00:11<00:00, 44.57it/s]\n",
      "Training Epoch 103: 100%|██████████| 507/507 [00:11<00:00, 44.26it/s]\n",
      "Training Epoch 104: 100%|██████████| 507/507 [00:11<00:00, 44.06it/s]\n",
      "Training Epoch 105: 100%|██████████| 507/507 [00:11<00:00, 43.45it/s]\n",
      "Training Epoch 106: 100%|██████████| 507/507 [00:11<00:00, 44.28it/s]\n",
      "Training Epoch 107: 100%|██████████| 507/507 [00:11<00:00, 44.10it/s]\n",
      "Training Epoch 108: 100%|██████████| 507/507 [00:11<00:00, 44.32it/s]\n",
      "Training Epoch 109: 100%|██████████| 507/507 [00:11<00:00, 44.92it/s]\n",
      "Training Epoch 110: 100%|██████████| 507/507 [00:11<00:00, 42.67it/s]\n",
      "Training Epoch 111: 100%|██████████| 507/507 [00:11<00:00, 42.55it/s]\n"
     ]
    },
    {
     "name": "stdout",
     "output_type": "stream",
     "text": [
      "Epoch 110 - Train Loss: 0.4148, Train MSE: 0.4150, Train MAE: 0.4802\n",
      "Epoch 110 - Validation Loss: 1.4529, Validation MSE: 1.4568, Validation MAE: 0.8705\n"
     ]
    },
    {
     "name": "stderr",
     "output_type": "stream",
     "text": [
      "Training Epoch 112: 100%|██████████| 507/507 [00:12<00:00, 39.76it/s]\n",
      "Training Epoch 113: 100%|██████████| 507/507 [00:11<00:00, 42.53it/s]\n",
      "Training Epoch 114: 100%|██████████| 507/507 [00:11<00:00, 43.21it/s]\n",
      "Training Epoch 115: 100%|██████████| 507/507 [00:12<00:00, 41.88it/s]\n",
      "Training Epoch 116: 100%|██████████| 507/507 [00:12<00:00, 40.92it/s]\n",
      "Training Epoch 117: 100%|██████████| 507/507 [00:11<00:00, 44.65it/s]\n",
      "Training Epoch 118: 100%|██████████| 507/507 [00:11<00:00, 42.33it/s]\n",
      "Training Epoch 119: 100%|██████████| 507/507 [00:12<00:00, 42.06it/s]\n",
      "Training Epoch 120: 100%|██████████| 507/507 [00:11<00:00, 44.13it/s]\n",
      "Training Epoch 121: 100%|██████████| 507/507 [00:11<00:00, 44.12it/s]\n"
     ]
    },
    {
     "name": "stdout",
     "output_type": "stream",
     "text": [
      "Epoch 120 - Train Loss: 0.3408, Train MSE: 0.3408, Train MAE: 0.4388\n",
      "Epoch 120 - Validation Loss: 1.4792, Validation MSE: 1.4831, Validation MAE: 0.8763\n"
     ]
    },
    {
     "name": "stderr",
     "output_type": "stream",
     "text": [
      "Training Epoch 122: 100%|██████████| 507/507 [00:11<00:00, 42.58it/s]\n",
      "Training Epoch 123: 100%|██████████| 507/507 [00:13<00:00, 37.93it/s]\n",
      "Training Epoch 124: 100%|██████████| 507/507 [00:13<00:00, 37.44it/s]\n",
      "Training Epoch 125: 100%|██████████| 507/507 [00:12<00:00, 40.81it/s]\n",
      "Training Epoch 126: 100%|██████████| 507/507 [00:12<00:00, 41.33it/s]\n",
      "Training Epoch 127: 100%|██████████| 507/507 [00:13<00:00, 38.32it/s]\n",
      "Training Epoch 128: 100%|██████████| 507/507 [00:12<00:00, 39.65it/s]\n",
      "Training Epoch 129: 100%|██████████| 507/507 [00:12<00:00, 42.23it/s]\n",
      "Training Epoch 130: 100%|██████████| 507/507 [00:13<00:00, 38.53it/s]\n",
      "Training Epoch 131: 100%|██████████| 507/507 [00:11<00:00, 42.50it/s]\n"
     ]
    },
    {
     "name": "stdout",
     "output_type": "stream",
     "text": [
      "Epoch 130 - Train Loss: 0.3307, Train MSE: 0.3309, Train MAE: 0.4261\n",
      "Epoch 130 - Validation Loss: 1.4782, Validation MSE: 1.4819, Validation MAE: 0.8729\n"
     ]
    },
    {
     "name": "stderr",
     "output_type": "stream",
     "text": [
      "Training Epoch 132: 100%|██████████| 507/507 [00:11<00:00, 43.11it/s]\n",
      "Training Epoch 133: 100%|██████████| 507/507 [00:12<00:00, 41.99it/s]\n",
      "Training Epoch 134: 100%|██████████| 507/507 [00:11<00:00, 43.09it/s]\n",
      "Training Epoch 135: 100%|██████████| 507/507 [00:11<00:00, 43.70it/s]\n",
      "Training Epoch 136: 100%|██████████| 507/507 [00:11<00:00, 42.55it/s]\n",
      "Training Epoch 137: 100%|██████████| 507/507 [00:11<00:00, 42.86it/s]\n",
      "Training Epoch 138: 100%|██████████| 507/507 [00:11<00:00, 42.46it/s]\n",
      "Training Epoch 139: 100%|██████████| 507/507 [00:11<00:00, 42.28it/s]\n",
      "Training Epoch 140: 100%|██████████| 507/507 [00:11<00:00, 42.87it/s]\n",
      "Training Epoch 141: 100%|██████████| 507/507 [00:11<00:00, 42.89it/s]\n"
     ]
    },
    {
     "name": "stdout",
     "output_type": "stream",
     "text": [
      "Epoch 140 - Train Loss: 0.2938, Train MSE: 0.2939, Train MAE: 0.4041\n",
      "Epoch 140 - Validation Loss: 1.5515, Validation MSE: 1.5564, Validation MAE: 0.8926\n"
     ]
    },
    {
     "name": "stderr",
     "output_type": "stream",
     "text": [
      "Training Epoch 142: 100%|██████████| 507/507 [00:11<00:00, 42.63it/s]\n",
      "Training Epoch 143: 100%|██████████| 507/507 [00:11<00:00, 42.47it/s]\n",
      "Training Epoch 144: 100%|██████████| 507/507 [00:11<00:00, 42.42it/s]\n",
      "Training Epoch 145: 100%|██████████| 507/507 [00:11<00:00, 43.16it/s]\n",
      "Training Epoch 146: 100%|██████████| 507/507 [00:11<00:00, 42.39it/s]\n",
      "Training Epoch 147: 100%|██████████| 507/507 [00:11<00:00, 43.22it/s]\n",
      "Training Epoch 148: 100%|██████████| 507/507 [00:11<00:00, 43.97it/s]\n",
      "Training Epoch 149: 100%|██████████| 507/507 [00:11<00:00, 42.52it/s]\n",
      "Training Epoch 150: 100%|██████████| 507/507 [00:12<00:00, 41.94it/s]\n",
      "Training Epoch 151: 100%|██████████| 507/507 [00:11<00:00, 43.14it/s]\n"
     ]
    },
    {
     "name": "stdout",
     "output_type": "stream",
     "text": [
      "Epoch 150 - Train Loss: 0.2760, Train MSE: 0.2760, Train MAE: 0.3913\n",
      "Epoch 150 - Validation Loss: 1.4773, Validation MSE: 1.4814, Validation MAE: 0.8677\n"
     ]
    },
    {
     "name": "stderr",
     "output_type": "stream",
     "text": [
      "Training Epoch 152: 100%|██████████| 507/507 [00:11<00:00, 43.67it/s]\n",
      "Training Epoch 153: 100%|██████████| 507/507 [00:11<00:00, 43.16it/s]\n",
      "Training Epoch 154: 100%|██████████| 507/507 [00:11<00:00, 43.71it/s]\n",
      "Training Epoch 155: 100%|██████████| 507/507 [00:12<00:00, 40.54it/s]\n",
      "Training Epoch 156: 100%|██████████| 507/507 [00:12<00:00, 41.49it/s]\n",
      "Training Epoch 157: 100%|██████████| 507/507 [00:12<00:00, 41.77it/s]\n",
      "Training Epoch 158: 100%|██████████| 507/507 [00:12<00:00, 40.10it/s]\n",
      "Training Epoch 159: 100%|██████████| 507/507 [00:12<00:00, 40.98it/s]\n",
      "Training Epoch 160: 100%|██████████| 507/507 [00:12<00:00, 40.59it/s]\n",
      "Training Epoch 161: 100%|██████████| 507/507 [00:12<00:00, 40.73it/s]\n"
     ]
    },
    {
     "name": "stdout",
     "output_type": "stream",
     "text": [
      "Epoch 160 - Train Loss: 0.2520, Train MSE: 0.2522, Train MAE: 0.3754\n",
      "Epoch 160 - Validation Loss: 1.4397, Validation MSE: 1.4439, Validation MAE: 0.8549\n"
     ]
    },
    {
     "name": "stderr",
     "output_type": "stream",
     "text": [
      "Training Epoch 162: 100%|██████████| 507/507 [00:12<00:00, 41.93it/s]\n",
      "Training Epoch 163: 100%|██████████| 507/507 [00:12<00:00, 40.64it/s]\n",
      "Training Epoch 164: 100%|██████████| 507/507 [00:12<00:00, 42.06it/s]\n",
      "Training Epoch 165: 100%|██████████| 507/507 [00:12<00:00, 41.19it/s]\n",
      "Training Epoch 166: 100%|██████████| 507/507 [00:12<00:00, 40.87it/s]\n",
      "Training Epoch 167: 100%|██████████| 507/507 [00:12<00:00, 41.66it/s]\n",
      "Training Epoch 168: 100%|██████████| 507/507 [00:12<00:00, 41.45it/s]\n",
      "Training Epoch 169: 100%|██████████| 507/507 [00:12<00:00, 41.02it/s]\n",
      "Training Epoch 170: 100%|██████████| 507/507 [00:12<00:00, 41.00it/s]\n",
      "Training Epoch 171: 100%|██████████| 507/507 [00:12<00:00, 40.61it/s]\n"
     ]
    },
    {
     "name": "stdout",
     "output_type": "stream",
     "text": [
      "Epoch 170 - Train Loss: 0.2360, Train MSE: 0.2361, Train MAE: 0.3626\n",
      "Epoch 170 - Validation Loss: 1.4069, Validation MSE: 1.4111, Validation MAE: 0.8447\n"
     ]
    },
    {
     "name": "stderr",
     "output_type": "stream",
     "text": [
      "Training Epoch 172: 100%|██████████| 507/507 [00:12<00:00, 40.26it/s]\n",
      "Training Epoch 173: 100%|██████████| 507/507 [00:12<00:00, 41.65it/s]\n",
      "Training Epoch 174: 100%|██████████| 507/507 [00:12<00:00, 40.72it/s]\n",
      "Training Epoch 175: 100%|██████████| 507/507 [00:12<00:00, 41.48it/s]\n",
      "Training Epoch 176: 100%|██████████| 507/507 [00:12<00:00, 40.57it/s]\n",
      "Training Epoch 177: 100%|██████████| 507/507 [00:12<00:00, 41.43it/s]\n",
      "Training Epoch 178: 100%|██████████| 507/507 [00:11<00:00, 42.55it/s]\n",
      "Training Epoch 179: 100%|██████████| 507/507 [00:12<00:00, 39.24it/s]\n",
      "Training Epoch 180: 100%|██████████| 507/507 [00:12<00:00, 41.30it/s]\n",
      "Training Epoch 181: 100%|██████████| 507/507 [00:12<00:00, 41.16it/s]\n"
     ]
    },
    {
     "name": "stdout",
     "output_type": "stream",
     "text": [
      "Epoch 180 - Train Loss: 0.2229, Train MSE: 0.2229, Train MAE: 0.3533\n",
      "Epoch 180 - Validation Loss: 1.3994, Validation MSE: 1.4029, Validation MAE: 0.8435\n"
     ]
    },
    {
     "name": "stderr",
     "output_type": "stream",
     "text": [
      "Training Epoch 182: 100%|██████████| 507/507 [00:12<00:00, 40.32it/s]\n",
      "Training Epoch 183: 100%|██████████| 507/507 [00:12<00:00, 40.87it/s]\n",
      "Training Epoch 184: 100%|██████████| 507/507 [00:12<00:00, 41.47it/s]\n",
      "Training Epoch 185: 100%|██████████| 507/507 [00:12<00:00, 40.50it/s]\n",
      "Training Epoch 186: 100%|██████████| 507/507 [00:12<00:00, 41.04it/s]\n",
      "Training Epoch 187: 100%|██████████| 507/507 [00:12<00:00, 40.60it/s]\n",
      "Training Epoch 188: 100%|██████████| 507/507 [00:12<00:00, 40.59it/s]\n",
      "Training Epoch 189: 100%|██████████| 507/507 [00:12<00:00, 40.65it/s]\n",
      "Training Epoch 190: 100%|██████████| 507/507 [00:12<00:00, 40.87it/s]\n",
      "Training Epoch 191: 100%|██████████| 507/507 [00:12<00:00, 40.69it/s]\n"
     ]
    },
    {
     "name": "stdout",
     "output_type": "stream",
     "text": [
      "Epoch 190 - Train Loss: 0.2246, Train MSE: 0.2246, Train MAE: 0.3521\n",
      "Epoch 190 - Validation Loss: 1.4550, Validation MSE: 1.4588, Validation MAE: 0.8573\n"
     ]
    },
    {
     "name": "stderr",
     "output_type": "stream",
     "text": [
      "Training Epoch 192: 100%|██████████| 507/507 [00:12<00:00, 40.94it/s]\n",
      "Training Epoch 193: 100%|██████████| 507/507 [00:12<00:00, 40.29it/s]\n",
      "Training Epoch 194: 100%|██████████| 507/507 [00:12<00:00, 41.23it/s]\n",
      "Training Epoch 195: 100%|██████████| 507/507 [00:12<00:00, 39.91it/s]\n",
      "Training Epoch 196: 100%|██████████| 507/507 [00:12<00:00, 40.55it/s]\n",
      "Training Epoch 197: 100%|██████████| 507/507 [00:12<00:00, 41.39it/s]\n",
      "Training Epoch 198: 100%|██████████| 507/507 [00:12<00:00, 41.01it/s]\n",
      "Training Epoch 199: 100%|██████████| 507/507 [00:12<00:00, 40.66it/s]\n",
      "Training Epoch 200: 100%|██████████| 507/507 [00:12<00:00, 41.38it/s]\n",
      "Training Epoch 201: 100%|██████████| 507/507 [00:12<00:00, 40.97it/s]\n"
     ]
    },
    {
     "name": "stdout",
     "output_type": "stream",
     "text": [
      "Epoch 200 - Train Loss: 0.2337, Train MSE: 0.2337, Train MAE: 0.3535\n",
      "Epoch 200 - Validation Loss: 1.4882, Validation MSE: 1.4926, Validation MAE: 0.8678\n"
     ]
    },
    {
     "name": "stderr",
     "output_type": "stream",
     "text": [
      "Training Epoch 202: 100%|██████████| 507/507 [00:12<00:00, 41.04it/s]\n",
      "Training Epoch 203: 100%|██████████| 507/507 [00:12<00:00, 41.03it/s]\n",
      "Training Epoch 204: 100%|██████████| 507/507 [00:12<00:00, 41.30it/s]\n",
      "Training Epoch 205: 100%|██████████| 507/507 [00:12<00:00, 40.40it/s]\n",
      "Training Epoch 206: 100%|██████████| 507/507 [00:12<00:00, 41.69it/s]\n",
      "Training Epoch 207: 100%|██████████| 507/507 [00:12<00:00, 40.90it/s]\n",
      "Training Epoch 208: 100%|██████████| 507/507 [00:12<00:00, 40.38it/s]\n",
      "Training Epoch 209: 100%|██████████| 507/507 [00:12<00:00, 41.55it/s]\n",
      "Training Epoch 210: 100%|██████████| 507/507 [00:12<00:00, 41.01it/s]\n",
      "Training Epoch 211: 100%|██████████| 507/507 [00:12<00:00, 39.53it/s]\n"
     ]
    },
    {
     "name": "stdout",
     "output_type": "stream",
     "text": [
      "Epoch 210 - Train Loss: 0.2045, Train MSE: 0.2047, Train MAE: 0.3340\n",
      "Epoch 210 - Validation Loss: 1.4199, Validation MSE: 1.4238, Validation MAE: 0.8476\n"
     ]
    },
    {
     "name": "stderr",
     "output_type": "stream",
     "text": [
      "Training Epoch 212: 100%|██████████| 507/507 [00:12<00:00, 41.66it/s]\n",
      "Training Epoch 213: 100%|██████████| 507/507 [00:12<00:00, 40.31it/s]\n",
      "Training Epoch 214: 100%|██████████| 507/507 [00:12<00:00, 40.72it/s]\n",
      "Training Epoch 215: 100%|██████████| 507/507 [00:12<00:00, 40.26it/s]\n",
      "Training Epoch 216: 100%|██████████| 507/507 [00:12<00:00, 40.97it/s]\n",
      "Training Epoch 217: 100%|██████████| 507/507 [00:12<00:00, 40.93it/s]\n",
      "Training Epoch 218: 100%|██████████| 507/507 [00:12<00:00, 41.16it/s]\n",
      "Training Epoch 219: 100%|██████████| 507/507 [00:12<00:00, 41.32it/s]\n",
      "Training Epoch 220: 100%|██████████| 507/507 [00:12<00:00, 41.03it/s]\n",
      "Training Epoch 221: 100%|██████████| 507/507 [00:12<00:00, 41.33it/s]\n"
     ]
    },
    {
     "name": "stdout",
     "output_type": "stream",
     "text": [
      "Epoch 220 - Train Loss: 0.1911, Train MSE: 0.1912, Train MAE: 0.3247\n",
      "Epoch 220 - Validation Loss: 1.4155, Validation MSE: 1.4200, Validation MAE: 0.8421\n"
     ]
    },
    {
     "name": "stderr",
     "output_type": "stream",
     "text": [
      "Training Epoch 222: 100%|██████████| 507/507 [00:12<00:00, 41.98it/s]\n",
      "Training Epoch 223: 100%|██████████| 507/507 [00:11<00:00, 45.36it/s]\n",
      "Training Epoch 224: 100%|██████████| 507/507 [00:11<00:00, 45.29it/s]\n",
      "Training Epoch 225: 100%|██████████| 507/507 [00:16<00:00, 30.52it/s]\n",
      "Training Epoch 226: 100%|██████████| 507/507 [00:13<00:00, 36.71it/s]\n",
      "Training Epoch 227: 100%|██████████| 507/507 [00:12<00:00, 39.75it/s]\n",
      "Training Epoch 228: 100%|██████████| 507/507 [00:12<00:00, 40.02it/s]\n",
      "Training Epoch 229: 100%|██████████| 507/507 [00:12<00:00, 41.45it/s]\n",
      "Training Epoch 230: 100%|██████████| 507/507 [00:12<00:00, 40.93it/s]\n",
      "Training Epoch 231: 100%|██████████| 507/507 [00:12<00:00, 41.45it/s]\n"
     ]
    },
    {
     "name": "stdout",
     "output_type": "stream",
     "text": [
      "Epoch 230 - Train Loss: 0.2404, Train MSE: 0.2406, Train MAE: 0.3496\n",
      "Epoch 230 - Validation Loss: 1.4037, Validation MSE: 1.4083, Validation MAE: 0.8371\n"
     ]
    },
    {
     "name": "stderr",
     "output_type": "stream",
     "text": [
      "Training Epoch 232: 100%|██████████| 507/507 [00:12<00:00, 40.91it/s]\n",
      "Training Epoch 233: 100%|██████████| 507/507 [00:12<00:00, 40.31it/s]\n",
      "Training Epoch 234: 100%|██████████| 507/507 [00:12<00:00, 40.61it/s]\n",
      "Training Epoch 235: 100%|██████████| 507/507 [00:12<00:00, 40.93it/s]\n",
      "Training Epoch 236: 100%|██████████| 507/507 [00:12<00:00, 41.08it/s]\n",
      "Training Epoch 237: 100%|██████████| 507/507 [00:12<00:00, 41.30it/s]\n",
      "Training Epoch 238: 100%|██████████| 507/507 [00:12<00:00, 40.67it/s]\n",
      "Training Epoch 239: 100%|██████████| 507/507 [00:12<00:00, 40.28it/s]\n",
      "Training Epoch 240: 100%|██████████| 507/507 [00:12<00:00, 41.10it/s]\n",
      "Training Epoch 241: 100%|██████████| 507/507 [00:12<00:00, 40.24it/s]\n"
     ]
    },
    {
     "name": "stdout",
     "output_type": "stream",
     "text": [
      "Epoch 240 - Train Loss: 0.2242, Train MSE: 0.2244, Train MAE: 0.3368\n",
      "Epoch 240 - Validation Loss: 1.4169, Validation MSE: 1.4210, Validation MAE: 0.8445\n"
     ]
    },
    {
     "name": "stderr",
     "output_type": "stream",
     "text": [
      "Training Epoch 242: 100%|██████████| 507/507 [00:12<00:00, 40.93it/s]\n",
      "Training Epoch 243: 100%|██████████| 507/507 [00:12<00:00, 40.75it/s]\n",
      "Training Epoch 244: 100%|██████████| 507/507 [00:12<00:00, 40.43it/s]\n",
      "Training Epoch 245: 100%|██████████| 507/507 [00:12<00:00, 40.86it/s]\n",
      "Training Epoch 246: 100%|██████████| 507/507 [00:12<00:00, 41.51it/s]\n",
      "Training Epoch 247: 100%|██████████| 507/507 [00:12<00:00, 41.68it/s]\n",
      "Training Epoch 248: 100%|██████████| 507/507 [00:12<00:00, 41.38it/s]\n",
      "Training Epoch 249: 100%|██████████| 507/507 [00:12<00:00, 40.45it/s]\n",
      "Training Epoch 250: 100%|██████████| 507/507 [00:12<00:00, 40.89it/s]\n",
      "Training Epoch 251: 100%|██████████| 507/507 [00:12<00:00, 41.41it/s]\n"
     ]
    },
    {
     "name": "stdout",
     "output_type": "stream",
     "text": [
      "Epoch 250 - Train Loss: 0.1731, Train MSE: 0.1730, Train MAE: 0.3082\n",
      "Epoch 250 - Validation Loss: 1.4181, Validation MSE: 1.4221, Validation MAE: 0.8442\n"
     ]
    },
    {
     "name": "stderr",
     "output_type": "stream",
     "text": [
      "Training Epoch 252: 100%|██████████| 507/507 [00:12<00:00, 40.82it/s]\n",
      "Training Epoch 253: 100%|██████████| 507/507 [00:12<00:00, 41.78it/s]\n",
      "Training Epoch 254: 100%|██████████| 507/507 [00:12<00:00, 40.82it/s]\n",
      "Training Epoch 255: 100%|██████████| 507/507 [00:12<00:00, 39.65it/s]\n",
      "Training Epoch 256: 100%|██████████| 507/507 [00:12<00:00, 41.20it/s]\n",
      "Training Epoch 257: 100%|██████████| 507/507 [00:12<00:00, 41.40it/s]\n",
      "Training Epoch 258: 100%|██████████| 507/507 [00:12<00:00, 41.22it/s]\n",
      "Training Epoch 259: 100%|██████████| 507/507 [00:12<00:00, 40.60it/s]\n",
      "Training Epoch 260: 100%|██████████| 507/507 [00:12<00:00, 40.87it/s]\n",
      "Training Epoch 261: 100%|██████████| 507/507 [00:12<00:00, 40.72it/s]\n"
     ]
    },
    {
     "name": "stdout",
     "output_type": "stream",
     "text": [
      "Epoch 260 - Train Loss: 0.1544, Train MSE: 0.1544, Train MAE: 0.2928\n",
      "Epoch 260 - Validation Loss: 1.4337, Validation MSE: 1.4375, Validation MAE: 0.8446\n"
     ]
    },
    {
     "name": "stderr",
     "output_type": "stream",
     "text": [
      "Training Epoch 262: 100%|██████████| 507/507 [00:12<00:00, 40.50it/s]\n",
      "Training Epoch 263: 100%|██████████| 507/507 [00:12<00:00, 41.35it/s]\n",
      "Training Epoch 264: 100%|██████████| 507/507 [00:12<00:00, 41.09it/s]\n",
      "Training Epoch 265: 100%|██████████| 507/507 [00:12<00:00, 40.53it/s]\n",
      "Training Epoch 266: 100%|██████████| 507/507 [00:12<00:00, 41.07it/s]\n",
      "Training Epoch 267: 100%|██████████| 507/507 [00:12<00:00, 41.18it/s]\n",
      "Training Epoch 268: 100%|██████████| 507/507 [00:12<00:00, 41.23it/s]\n",
      "Training Epoch 269: 100%|██████████| 507/507 [00:12<00:00, 41.10it/s]\n",
      "Training Epoch 270: 100%|██████████| 507/507 [00:12<00:00, 41.18it/s]\n",
      "Training Epoch 271: 100%|██████████| 507/507 [00:12<00:00, 40.42it/s]\n"
     ]
    },
    {
     "name": "stdout",
     "output_type": "stream",
     "text": [
      "Epoch 270 - Train Loss: 0.1887, Train MSE: 0.1888, Train MAE: 0.3118\n",
      "Epoch 270 - Validation Loss: 1.3902, Validation MSE: 1.3943, Validation MAE: 0.8323\n"
     ]
    },
    {
     "name": "stderr",
     "output_type": "stream",
     "text": [
      "Training Epoch 272: 100%|██████████| 507/507 [00:12<00:00, 40.38it/s]\n",
      "Training Epoch 273: 100%|██████████| 507/507 [00:12<00:00, 41.06it/s]\n",
      "Training Epoch 274: 100%|██████████| 507/507 [00:12<00:00, 41.03it/s]\n",
      "Training Epoch 275: 100%|██████████| 507/507 [00:12<00:00, 41.49it/s]\n",
      "Training Epoch 276: 100%|██████████| 507/507 [00:12<00:00, 40.82it/s]\n",
      "Training Epoch 277: 100%|██████████| 507/507 [00:12<00:00, 39.93it/s]\n",
      "Training Epoch 278: 100%|██████████| 507/507 [00:12<00:00, 41.26it/s]\n",
      "Training Epoch 279: 100%|██████████| 507/507 [00:12<00:00, 40.98it/s]\n",
      "Training Epoch 280: 100%|██████████| 507/507 [00:12<00:00, 41.08it/s]\n",
      "Training Epoch 281: 100%|██████████| 507/507 [00:12<00:00, 40.23it/s]\n"
     ]
    },
    {
     "name": "stdout",
     "output_type": "stream",
     "text": [
      "Epoch 280 - Train Loss: 0.1517, Train MSE: 0.1518, Train MAE: 0.2877\n",
      "Epoch 280 - Validation Loss: 1.4020, Validation MSE: 1.4061, Validation MAE: 0.8352\n"
     ]
    },
    {
     "name": "stderr",
     "output_type": "stream",
     "text": [
      "Training Epoch 282: 100%|██████████| 507/507 [00:12<00:00, 40.51it/s]\n",
      "Training Epoch 283: 100%|██████████| 507/507 [00:12<00:00, 41.40it/s]\n",
      "Training Epoch 284: 100%|██████████| 507/507 [00:12<00:00, 41.24it/s]\n",
      "Training Epoch 285: 100%|██████████| 507/507 [00:12<00:00, 40.88it/s]\n",
      "Training Epoch 286: 100%|██████████| 507/507 [00:12<00:00, 41.31it/s]\n",
      "Training Epoch 287: 100%|██████████| 507/507 [00:12<00:00, 40.71it/s]\n",
      "Training Epoch 288: 100%|██████████| 507/507 [00:12<00:00, 40.93it/s]\n",
      "Training Epoch 289: 100%|██████████| 507/507 [00:12<00:00, 40.85it/s]\n",
      "Training Epoch 290: 100%|██████████| 507/507 [00:12<00:00, 41.35it/s]\n",
      "Training Epoch 291: 100%|██████████| 507/507 [00:12<00:00, 41.57it/s]\n"
     ]
    },
    {
     "name": "stdout",
     "output_type": "stream",
     "text": [
      "Epoch 290 - Train Loss: 0.1505, Train MSE: 0.1506, Train MAE: 0.2858\n",
      "Epoch 290 - Validation Loss: 1.4059, Validation MSE: 1.4097, Validation MAE: 0.8380\n"
     ]
    },
    {
     "name": "stderr",
     "output_type": "stream",
     "text": [
      "Training Epoch 292: 100%|██████████| 507/507 [00:12<00:00, 40.98it/s]\n",
      "Training Epoch 293: 100%|██████████| 507/507 [00:12<00:00, 41.92it/s]\n",
      "Training Epoch 294: 100%|██████████| 507/507 [00:12<00:00, 40.75it/s]\n",
      "Training Epoch 295: 100%|██████████| 507/507 [00:11<00:00, 42.29it/s]\n",
      "Training Epoch 296: 100%|██████████| 507/507 [00:12<00:00, 42.05it/s]\n",
      "Training Epoch 297: 100%|██████████| 507/507 [00:12<00:00, 41.85it/s]\n",
      "Training Epoch 298: 100%|██████████| 507/507 [00:11<00:00, 42.62it/s]\n",
      "Training Epoch 299: 100%|██████████| 507/507 [00:11<00:00, 42.72it/s]\n",
      "Training Epoch 300: 100%|██████████| 507/507 [00:12<00:00, 41.66it/s]\n",
      "Training Epoch 301: 100%|██████████| 507/507 [00:12<00:00, 42.00it/s]\n"
     ]
    },
    {
     "name": "stdout",
     "output_type": "stream",
     "text": [
      "Epoch 300 - Train Loss: 0.1410, Train MSE: 0.1411, Train MAE: 0.2786\n",
      "Epoch 300 - Validation Loss: 1.4114, Validation MSE: 1.4157, Validation MAE: 0.8416\n"
     ]
    },
    {
     "name": "stderr",
     "output_type": "stream",
     "text": [
      "Training Epoch 302: 100%|██████████| 507/507 [00:11<00:00, 42.58it/s]\n",
      "Training Epoch 303: 100%|██████████| 507/507 [00:11<00:00, 42.53it/s]\n",
      "Training Epoch 304: 100%|██████████| 507/507 [00:12<00:00, 41.52it/s]\n",
      "Training Epoch 305: 100%|██████████| 507/507 [00:12<00:00, 42.19it/s]\n",
      "Training Epoch 306: 100%|██████████| 507/507 [00:12<00:00, 42.07it/s]\n",
      "Training Epoch 307: 100%|██████████| 507/507 [00:11<00:00, 43.04it/s]\n",
      "Training Epoch 308: 100%|██████████| 507/507 [00:12<00:00, 41.65it/s]\n",
      "Training Epoch 309: 100%|██████████| 507/507 [00:11<00:00, 42.83it/s]\n",
      "Training Epoch 310: 100%|██████████| 507/507 [00:12<00:00, 41.95it/s]\n",
      "Training Epoch 311: 100%|██████████| 507/507 [00:11<00:00, 42.87it/s]\n"
     ]
    },
    {
     "name": "stdout",
     "output_type": "stream",
     "text": [
      "Epoch 310 - Train Loss: 0.1403, Train MSE: 0.1403, Train MAE: 0.2769\n",
      "Epoch 310 - Validation Loss: 1.3780, Validation MSE: 1.3816, Validation MAE: 0.8262\n"
     ]
    },
    {
     "name": "stderr",
     "output_type": "stream",
     "text": [
      "Training Epoch 312: 100%|██████████| 507/507 [00:11<00:00, 42.81it/s]\n",
      "Training Epoch 313: 100%|██████████| 507/507 [00:11<00:00, 42.70it/s]\n",
      "Training Epoch 314: 100%|██████████| 507/507 [00:11<00:00, 42.32it/s]\n",
      "Training Epoch 315: 100%|██████████| 507/507 [00:11<00:00, 42.33it/s]\n",
      "Training Epoch 316: 100%|██████████| 507/507 [00:11<00:00, 42.97it/s]\n",
      "Training Epoch 317: 100%|██████████| 507/507 [00:12<00:00, 41.82it/s]\n",
      "Training Epoch 318: 100%|██████████| 507/507 [00:11<00:00, 43.45it/s]\n",
      "Training Epoch 319: 100%|██████████| 507/507 [00:11<00:00, 42.53it/s]\n",
      "Training Epoch 320: 100%|██████████| 507/507 [00:11<00:00, 42.60it/s]\n",
      "Training Epoch 321: 100%|██████████| 507/507 [00:12<00:00, 42.20it/s]\n"
     ]
    },
    {
     "name": "stdout",
     "output_type": "stream",
     "text": [
      "Epoch 320 - Train Loss: 0.1306, Train MSE: 0.1307, Train MAE: 0.2668\n",
      "Epoch 320 - Validation Loss: 1.3704, Validation MSE: 1.3747, Validation MAE: 0.8244\n"
     ]
    },
    {
     "name": "stderr",
     "output_type": "stream",
     "text": [
      "Training Epoch 322: 100%|██████████| 507/507 [00:11<00:00, 43.19it/s]\n",
      "Training Epoch 323: 100%|██████████| 507/507 [00:12<00:00, 42.15it/s]\n",
      "Training Epoch 324: 100%|██████████| 507/507 [00:11<00:00, 42.93it/s]\n",
      "Training Epoch 325: 100%|██████████| 507/507 [00:11<00:00, 42.71it/s]\n",
      "Training Epoch 326: 100%|██████████| 507/507 [00:12<00:00, 41.47it/s]\n",
      "Training Epoch 327: 100%|██████████| 507/507 [00:11<00:00, 42.38it/s]\n",
      "Training Epoch 328: 100%|██████████| 507/507 [00:12<00:00, 42.12it/s]\n",
      "Training Epoch 329: 100%|██████████| 507/507 [00:11<00:00, 42.81it/s]\n",
      "Training Epoch 330: 100%|██████████| 507/507 [00:11<00:00, 42.29it/s]\n",
      "Training Epoch 331: 100%|██████████| 507/507 [00:12<00:00, 41.91it/s]\n"
     ]
    },
    {
     "name": "stdout",
     "output_type": "stream",
     "text": [
      "Epoch 330 - Train Loss: 0.1376, Train MSE: 0.1376, Train MAE: 0.2724\n",
      "Epoch 330 - Validation Loss: 1.4007, Validation MSE: 1.4051, Validation MAE: 0.8350\n"
     ]
    },
    {
     "name": "stderr",
     "output_type": "stream",
     "text": [
      "Training Epoch 332: 100%|██████████| 507/507 [00:12<00:00, 41.90it/s]\n",
      "Training Epoch 333: 100%|██████████| 507/507 [00:12<00:00, 40.68it/s]\n",
      "Training Epoch 334: 100%|██████████| 507/507 [00:11<00:00, 43.10it/s]\n",
      "Training Epoch 335: 100%|██████████| 507/507 [00:12<00:00, 42.04it/s]\n",
      "Training Epoch 336: 100%|██████████| 507/507 [00:11<00:00, 42.41it/s]\n",
      "Training Epoch 337: 100%|██████████| 507/507 [00:11<00:00, 42.71it/s]\n",
      "Training Epoch 338: 100%|██████████| 507/507 [00:11<00:00, 42.66it/s]\n",
      "Training Epoch 339: 100%|██████████| 507/507 [00:11<00:00, 42.94it/s]\n",
      "Training Epoch 340: 100%|██████████| 507/507 [00:12<00:00, 41.76it/s]\n",
      "Training Epoch 341: 100%|██████████| 507/507 [00:12<00:00, 42.15it/s]\n"
     ]
    },
    {
     "name": "stdout",
     "output_type": "stream",
     "text": [
      "Epoch 340 - Train Loss: 0.1299, Train MSE: 0.1298, Train MAE: 0.2644\n",
      "Epoch 340 - Validation Loss: 1.4105, Validation MSE: 1.4146, Validation MAE: 0.8375\n"
     ]
    },
    {
     "name": "stderr",
     "output_type": "stream",
     "text": [
      "Training Epoch 342: 100%|██████████| 507/507 [00:12<00:00, 41.48it/s]\n",
      "Training Epoch 343: 100%|██████████| 507/507 [00:11<00:00, 42.41it/s]\n",
      "Training Epoch 344: 100%|██████████| 507/507 [00:12<00:00, 41.90it/s]\n",
      "Training Epoch 345: 100%|██████████| 507/507 [00:11<00:00, 43.00it/s]\n",
      "Training Epoch 346: 100%|██████████| 507/507 [00:12<00:00, 42.23it/s]\n",
      "Training Epoch 347: 100%|██████████| 507/507 [00:11<00:00, 43.39it/s]\n",
      "Training Epoch 348: 100%|██████████| 507/507 [00:11<00:00, 43.02it/s]\n",
      "Training Epoch 349: 100%|██████████| 507/507 [00:12<00:00, 41.12it/s]\n",
      "Training Epoch 350: 100%|██████████| 507/507 [00:11<00:00, 43.08it/s]\n",
      "Training Epoch 351: 100%|██████████| 507/507 [00:11<00:00, 43.02it/s]\n"
     ]
    },
    {
     "name": "stdout",
     "output_type": "stream",
     "text": [
      "Epoch 350 - Train Loss: 0.1256, Train MSE: 0.1257, Train MAE: 0.2630\n",
      "Epoch 350 - Validation Loss: 1.4173, Validation MSE: 1.4217, Validation MAE: 0.8410\n"
     ]
    },
    {
     "name": "stderr",
     "output_type": "stream",
     "text": [
      "Training Epoch 352: 100%|██████████| 507/507 [00:12<00:00, 41.97it/s]\n",
      "Training Epoch 353: 100%|██████████| 507/507 [00:12<00:00, 42.05it/s]\n",
      "Training Epoch 354: 100%|██████████| 507/507 [00:12<00:00, 41.75it/s]\n",
      "Training Epoch 355: 100%|██████████| 507/507 [00:11<00:00, 42.93it/s]\n",
      "Training Epoch 356: 100%|██████████| 507/507 [00:12<00:00, 42.10it/s]\n",
      "Training Epoch 357: 100%|██████████| 507/507 [00:11<00:00, 42.70it/s]\n",
      "Training Epoch 358: 100%|██████████| 507/507 [00:11<00:00, 42.79it/s]\n",
      "Training Epoch 359: 100%|██████████| 507/507 [00:11<00:00, 42.60it/s]\n",
      "Training Epoch 360: 100%|██████████| 507/507 [00:12<00:00, 42.00it/s]\n",
      "Training Epoch 361: 100%|██████████| 507/507 [00:11<00:00, 42.45it/s]\n"
     ]
    },
    {
     "name": "stdout",
     "output_type": "stream",
     "text": [
      "Epoch 360 - Train Loss: 0.1130, Train MSE: 0.1130, Train MAE: 0.2488\n",
      "Epoch 360 - Validation Loss: 1.3844, Validation MSE: 1.3881, Validation MAE: 0.8275\n"
     ]
    },
    {
     "name": "stderr",
     "output_type": "stream",
     "text": [
      "Training Epoch 362: 100%|██████████| 507/507 [00:11<00:00, 43.12it/s]\n",
      "Training Epoch 363: 100%|██████████| 507/507 [00:11<00:00, 42.69it/s]\n",
      "Training Epoch 364: 100%|██████████| 507/507 [00:11<00:00, 42.84it/s]\n",
      "Training Epoch 365: 100%|██████████| 507/507 [00:11<00:00, 42.32it/s]\n",
      "Training Epoch 366: 100%|██████████| 507/507 [00:11<00:00, 42.65it/s]\n",
      "Training Epoch 367: 100%|██████████| 507/507 [00:11<00:00, 43.09it/s]\n",
      "Training Epoch 368: 100%|██████████| 507/507 [00:11<00:00, 42.52it/s]\n",
      "Training Epoch 369: 100%|██████████| 507/507 [00:11<00:00, 42.83it/s]\n",
      "Training Epoch 370: 100%|██████████| 507/507 [00:11<00:00, 42.55it/s]\n",
      "Training Epoch 371: 100%|██████████| 507/507 [00:11<00:00, 42.39it/s]\n"
     ]
    },
    {
     "name": "stdout",
     "output_type": "stream",
     "text": [
      "Epoch 370 - Train Loss: 0.1122, Train MSE: 0.1122, Train MAE: 0.2471\n",
      "Epoch 370 - Validation Loss: 1.3651, Validation MSE: 1.3692, Validation MAE: 0.8242\n"
     ]
    },
    {
     "name": "stderr",
     "output_type": "stream",
     "text": [
      "Training Epoch 372: 100%|██████████| 507/507 [00:11<00:00, 42.73it/s]\n",
      "Training Epoch 373: 100%|██████████| 507/507 [00:12<00:00, 41.89it/s]\n",
      "Training Epoch 374: 100%|██████████| 507/507 [00:11<00:00, 43.31it/s]\n",
      "Training Epoch 375: 100%|██████████| 507/507 [00:12<00:00, 41.56it/s]\n",
      "Training Epoch 376: 100%|██████████| 507/507 [00:12<00:00, 42.11it/s]\n",
      "Training Epoch 377: 100%|██████████| 507/507 [00:11<00:00, 42.57it/s]\n",
      "Training Epoch 378: 100%|██████████| 507/507 [00:12<00:00, 41.76it/s]\n",
      "Training Epoch 379: 100%|██████████| 507/507 [00:11<00:00, 42.29it/s]\n",
      "Training Epoch 380: 100%|██████████| 507/507 [00:11<00:00, 44.27it/s]\n",
      "Training Epoch 381: 100%|██████████| 507/507 [00:12<00:00, 41.48it/s]\n"
     ]
    },
    {
     "name": "stdout",
     "output_type": "stream",
     "text": [
      "Epoch 380 - Train Loss: 0.1195, Train MSE: 0.1194, Train MAE: 0.2538\n",
      "Epoch 380 - Validation Loss: 1.3981, Validation MSE: 1.4019, Validation MAE: 0.8303\n"
     ]
    },
    {
     "name": "stderr",
     "output_type": "stream",
     "text": [
      "Training Epoch 382: 100%|██████████| 507/507 [00:11<00:00, 42.37it/s]\n",
      "Training Epoch 383: 100%|██████████| 507/507 [00:11<00:00, 42.60it/s]\n",
      "Training Epoch 384: 100%|██████████| 507/507 [00:12<00:00, 42.14it/s]\n",
      "Training Epoch 385: 100%|██████████| 507/507 [00:12<00:00, 41.24it/s]\n",
      "Training Epoch 386: 100%|██████████| 507/507 [00:12<00:00, 40.83it/s]\n",
      "Training Epoch 387: 100%|██████████| 507/507 [00:11<00:00, 42.42it/s]\n",
      "Training Epoch 388: 100%|██████████| 507/507 [00:12<00:00, 42.05it/s]\n",
      "Training Epoch 389: 100%|██████████| 507/507 [00:11<00:00, 42.53it/s]\n",
      "Training Epoch 390: 100%|██████████| 507/507 [00:12<00:00, 41.97it/s]\n",
      "Training Epoch 391: 100%|██████████| 507/507 [00:11<00:00, 43.61it/s]\n"
     ]
    },
    {
     "name": "stdout",
     "output_type": "stream",
     "text": [
      "Epoch 390 - Train Loss: 0.1173, Train MSE: 0.1173, Train MAE: 0.2520\n",
      "Epoch 390 - Validation Loss: 1.3643, Validation MSE: 1.3680, Validation MAE: 0.8207\n"
     ]
    },
    {
     "name": "stderr",
     "output_type": "stream",
     "text": [
      "Training Epoch 392: 100%|██████████| 507/507 [00:12<00:00, 41.67it/s]\n",
      "Training Epoch 393: 100%|██████████| 507/507 [00:12<00:00, 41.27it/s]\n",
      "Training Epoch 394: 100%|██████████| 507/507 [00:11<00:00, 42.90it/s]\n",
      "Training Epoch 395: 100%|██████████| 507/507 [00:12<00:00, 41.00it/s]\n",
      "Training Epoch 396: 100%|██████████| 507/507 [00:12<00:00, 41.65it/s]\n",
      "Training Epoch 397: 100%|██████████| 507/507 [00:11<00:00, 43.32it/s]\n",
      "Training Epoch 398: 100%|██████████| 507/507 [00:12<00:00, 42.15it/s]\n",
      "Training Epoch 399: 100%|██████████| 507/507 [00:12<00:00, 42.03it/s]\n",
      "Training Epoch 400: 100%|██████████| 507/507 [00:12<00:00, 41.84it/s]\n",
      "Training Epoch 401: 100%|██████████| 507/507 [00:12<00:00, 42.14it/s]\n"
     ]
    },
    {
     "name": "stdout",
     "output_type": "stream",
     "text": [
      "Epoch 400 - Train Loss: 0.1104, Train MSE: 0.1105, Train MAE: 0.2446\n",
      "Epoch 400 - Validation Loss: 1.4224, Validation MSE: 1.4262, Validation MAE: 0.8411\n"
     ]
    },
    {
     "name": "stderr",
     "output_type": "stream",
     "text": [
      "Training Epoch 402: 100%|██████████| 507/507 [00:11<00:00, 43.04it/s]\n",
      "Training Epoch 403: 100%|██████████| 507/507 [00:12<00:00, 41.48it/s]\n",
      "Training Epoch 404: 100%|██████████| 507/507 [00:12<00:00, 41.57it/s]\n",
      "Training Epoch 405: 100%|██████████| 507/507 [00:11<00:00, 43.10it/s]\n",
      "Training Epoch 406: 100%|██████████| 507/507 [00:12<00:00, 41.88it/s]\n",
      "Training Epoch 407: 100%|██████████| 507/507 [00:11<00:00, 42.42it/s]\n",
      "Training Epoch 408: 100%|██████████| 507/507 [00:11<00:00, 42.79it/s]\n",
      "Training Epoch 409: 100%|██████████| 507/507 [00:11<00:00, 42.29it/s]\n",
      "Training Epoch 410: 100%|██████████| 507/507 [00:12<00:00, 42.00it/s]\n",
      "Training Epoch 411: 100%|██████████| 507/507 [00:11<00:00, 43.03it/s]\n"
     ]
    },
    {
     "name": "stdout",
     "output_type": "stream",
     "text": [
      "Epoch 410 - Train Loss: 0.1125, Train MSE: 0.1124, Train MAE: 0.2452\n",
      "Epoch 410 - Validation Loss: 1.3820, Validation MSE: 1.3855, Validation MAE: 0.8283\n"
     ]
    },
    {
     "name": "stderr",
     "output_type": "stream",
     "text": [
      "Training Epoch 412: 100%|██████████| 507/507 [00:12<00:00, 42.13it/s]\n",
      "Training Epoch 413: 100%|██████████| 507/507 [00:11<00:00, 42.93it/s]\n",
      "Training Epoch 414: 100%|██████████| 507/507 [00:11<00:00, 42.63it/s]\n",
      "Training Epoch 415: 100%|██████████| 507/507 [00:11<00:00, 42.51it/s]\n",
      "Training Epoch 416: 100%|██████████| 507/507 [00:11<00:00, 43.30it/s]\n",
      "Training Epoch 417: 100%|██████████| 507/507 [00:12<00:00, 42.17it/s]\n",
      "Training Epoch 418: 100%|██████████| 507/507 [00:11<00:00, 42.31it/s]\n",
      "Training Epoch 419: 100%|██████████| 507/507 [00:11<00:00, 42.87it/s]\n",
      "Training Epoch 420: 100%|██████████| 507/507 [00:11<00:00, 42.62it/s]\n",
      "Training Epoch 421: 100%|██████████| 507/507 [00:11<00:00, 42.42it/s]\n"
     ]
    },
    {
     "name": "stdout",
     "output_type": "stream",
     "text": [
      "Epoch 420 - Train Loss: 0.1076, Train MSE: 0.1077, Train MAE: 0.2424\n",
      "Epoch 420 - Validation Loss: 1.3707, Validation MSE: 1.3748, Validation MAE: 0.8235\n"
     ]
    },
    {
     "name": "stderr",
     "output_type": "stream",
     "text": [
      "Training Epoch 422: 100%|██████████| 507/507 [00:11<00:00, 43.09it/s]\n",
      "Training Epoch 423: 100%|██████████| 507/507 [00:11<00:00, 42.36it/s]\n",
      "Training Epoch 424: 100%|██████████| 507/507 [00:11<00:00, 42.48it/s]\n",
      "Training Epoch 425: 100%|██████████| 507/507 [00:12<00:00, 42.08it/s]\n",
      "Training Epoch 426: 100%|██████████| 507/507 [00:11<00:00, 42.33it/s]\n",
      "Training Epoch 427: 100%|██████████| 507/507 [00:11<00:00, 42.74it/s]\n",
      "Training Epoch 428: 100%|██████████| 507/507 [00:12<00:00, 41.45it/s]\n",
      "Training Epoch 429: 100%|██████████| 507/507 [00:12<00:00, 41.50it/s]\n",
      "Training Epoch 430: 100%|██████████| 507/507 [00:11<00:00, 42.65it/s]\n",
      "Training Epoch 431: 100%|██████████| 507/507 [00:11<00:00, 42.44it/s]\n"
     ]
    },
    {
     "name": "stdout",
     "output_type": "stream",
     "text": [
      "Epoch 430 - Train Loss: 0.1014, Train MSE: 0.1013, Train MAE: 0.2358\n",
      "Epoch 430 - Validation Loss: 1.3759, Validation MSE: 1.3799, Validation MAE: 0.8276\n"
     ]
    },
    {
     "name": "stderr",
     "output_type": "stream",
     "text": [
      "Training Epoch 432: 100%|██████████| 507/507 [00:12<00:00, 42.05it/s]\n",
      "Training Epoch 433: 100%|██████████| 507/507 [00:11<00:00, 42.67it/s]\n",
      "Training Epoch 434: 100%|██████████| 507/507 [00:11<00:00, 42.60it/s]\n",
      "Training Epoch 435: 100%|██████████| 507/507 [00:12<00:00, 41.78it/s]\n",
      "Training Epoch 436: 100%|██████████| 507/507 [00:13<00:00, 36.43it/s]\n",
      "Training Epoch 437: 100%|██████████| 507/507 [00:12<00:00, 41.70it/s]\n",
      "Training Epoch 438: 100%|██████████| 507/507 [00:11<00:00, 42.44it/s]\n",
      "Training Epoch 439: 100%|██████████| 507/507 [00:12<00:00, 41.00it/s]\n",
      "Training Epoch 440: 100%|██████████| 507/507 [00:11<00:00, 42.68it/s]\n",
      "Training Epoch 441: 100%|██████████| 507/507 [00:11<00:00, 42.78it/s]\n"
     ]
    },
    {
     "name": "stdout",
     "output_type": "stream",
     "text": [
      "Epoch 440 - Train Loss: 0.1037, Train MSE: 0.1034, Train MAE: 0.2373\n",
      "Epoch 440 - Validation Loss: 1.3505, Validation MSE: 1.3543, Validation MAE: 0.8145\n"
     ]
    },
    {
     "name": "stderr",
     "output_type": "stream",
     "text": [
      "Training Epoch 442: 100%|██████████| 507/507 [00:11<00:00, 42.67it/s]\n",
      "Training Epoch 443: 100%|██████████| 507/507 [00:11<00:00, 42.39it/s]\n",
      "Training Epoch 444: 100%|██████████| 507/507 [00:11<00:00, 42.88it/s]\n",
      "Training Epoch 445: 100%|██████████| 507/507 [00:11<00:00, 43.22it/s]\n",
      "Training Epoch 446: 100%|██████████| 507/507 [00:11<00:00, 43.76it/s]\n",
      "Training Epoch 447: 100%|██████████| 507/507 [00:12<00:00, 41.26it/s]\n",
      "Training Epoch 448: 100%|██████████| 507/507 [00:11<00:00, 43.80it/s]\n",
      "Training Epoch 449: 100%|██████████| 507/507 [00:11<00:00, 42.99it/s]\n",
      "Training Epoch 450: 100%|██████████| 507/507 [00:11<00:00, 43.16it/s]\n",
      "Training Epoch 451: 100%|██████████| 507/507 [00:11<00:00, 43.03it/s]\n"
     ]
    },
    {
     "name": "stdout",
     "output_type": "stream",
     "text": [
      "Epoch 450 - Train Loss: 0.0906, Train MSE: 0.0906, Train MAE: 0.2237\n",
      "Epoch 450 - Validation Loss: 1.3601, Validation MSE: 1.3638, Validation MAE: 0.8185\n"
     ]
    },
    {
     "name": "stderr",
     "output_type": "stream",
     "text": [
      "Training Epoch 452: 100%|██████████| 507/507 [00:11<00:00, 43.95it/s]\n",
      "Training Epoch 453: 100%|██████████| 507/507 [00:11<00:00, 42.87it/s]\n",
      "Training Epoch 454: 100%|██████████| 507/507 [00:11<00:00, 43.14it/s]\n",
      "Training Epoch 455: 100%|██████████| 507/507 [00:11<00:00, 43.66it/s]\n",
      "Training Epoch 456: 100%|██████████| 507/507 [00:12<00:00, 42.21it/s]\n",
      "Training Epoch 457: 100%|██████████| 507/507 [00:11<00:00, 43.44it/s]\n",
      "Training Epoch 458: 100%|██████████| 507/507 [00:11<00:00, 43.05it/s]\n",
      "Training Epoch 459: 100%|██████████| 507/507 [00:11<00:00, 42.53it/s]\n",
      "Training Epoch 460: 100%|██████████| 507/507 [00:11<00:00, 43.88it/s]\n",
      "Training Epoch 461: 100%|██████████| 507/507 [00:11<00:00, 44.48it/s]\n"
     ]
    },
    {
     "name": "stdout",
     "output_type": "stream",
     "text": [
      "Epoch 460 - Train Loss: 0.1003, Train MSE: 0.1002, Train MAE: 0.2329\n",
      "Epoch 460 - Validation Loss: 1.3586, Validation MSE: 1.3625, Validation MAE: 0.8148\n"
     ]
    },
    {
     "name": "stderr",
     "output_type": "stream",
     "text": [
      "Training Epoch 462: 100%|██████████| 507/507 [00:12<00:00, 41.93it/s]\n",
      "Training Epoch 463: 100%|██████████| 507/507 [00:11<00:00, 43.52it/s]\n",
      "Training Epoch 464: 100%|██████████| 507/507 [00:11<00:00, 42.90it/s]\n",
      "Training Epoch 465: 100%|██████████| 507/507 [00:11<00:00, 43.28it/s]\n",
      "Training Epoch 466: 100%|██████████| 507/507 [00:11<00:00, 43.27it/s]\n",
      "Training Epoch 467: 100%|██████████| 507/507 [00:11<00:00, 43.22it/s]\n",
      "Training Epoch 468: 100%|██████████| 507/507 [00:11<00:00, 42.88it/s]\n",
      "Training Epoch 469: 100%|██████████| 507/507 [00:11<00:00, 43.55it/s]\n",
      "Training Epoch 470: 100%|██████████| 507/507 [00:11<00:00, 43.53it/s]\n",
      "Training Epoch 471: 100%|██████████| 507/507 [00:11<00:00, 43.55it/s]\n"
     ]
    },
    {
     "name": "stdout",
     "output_type": "stream",
     "text": [
      "Epoch 470 - Train Loss: 0.1060, Train MSE: 0.1060, Train MAE: 0.2370\n",
      "Epoch 470 - Validation Loss: 1.3626, Validation MSE: 1.3667, Validation MAE: 0.8165\n"
     ]
    },
    {
     "name": "stderr",
     "output_type": "stream",
     "text": [
      "Training Epoch 472: 100%|██████████| 507/507 [00:11<00:00, 43.81it/s]\n",
      "Training Epoch 473: 100%|██████████| 507/507 [00:12<00:00, 42.05it/s]\n",
      "Training Epoch 474: 100%|██████████| 507/507 [00:11<00:00, 43.30it/s]\n",
      "Training Epoch 475: 100%|██████████| 507/507 [00:11<00:00, 43.78it/s]\n",
      "Training Epoch 476: 100%|██████████| 507/507 [00:11<00:00, 43.51it/s]\n",
      "Training Epoch 477: 100%|██████████| 507/507 [00:11<00:00, 42.52it/s]\n",
      "Training Epoch 478: 100%|██████████| 507/507 [00:11<00:00, 44.12it/s]\n",
      "Training Epoch 479: 100%|██████████| 507/507 [00:12<00:00, 41.58it/s]\n",
      "Training Epoch 480: 100%|██████████| 507/507 [00:11<00:00, 42.85it/s]\n",
      "Training Epoch 481: 100%|██████████| 507/507 [00:12<00:00, 41.79it/s]\n"
     ]
    },
    {
     "name": "stdout",
     "output_type": "stream",
     "text": [
      "Epoch 480 - Train Loss: 0.0952, Train MSE: 0.0950, Train MAE: 0.2257\n",
      "Epoch 480 - Validation Loss: 1.3514, Validation MSE: 1.3548, Validation MAE: 0.8133\n"
     ]
    },
    {
     "name": "stderr",
     "output_type": "stream",
     "text": [
      "Training Epoch 482: 100%|██████████| 507/507 [00:11<00:00, 43.33it/s]\n",
      "Training Epoch 483: 100%|██████████| 507/507 [00:11<00:00, 43.46it/s]\n",
      "Training Epoch 484: 100%|██████████| 507/507 [00:11<00:00, 42.75it/s]\n",
      "Training Epoch 485: 100%|██████████| 507/507 [00:11<00:00, 43.55it/s]\n",
      "Training Epoch 486: 100%|██████████| 507/507 [00:11<00:00, 43.99it/s]\n",
      "Training Epoch 487: 100%|██████████| 507/507 [00:11<00:00, 43.09it/s]\n",
      "Training Epoch 488: 100%|██████████| 507/507 [00:11<00:00, 42.51it/s]\n",
      "Training Epoch 489: 100%|██████████| 507/507 [00:11<00:00, 42.72it/s]\n",
      "Training Epoch 490: 100%|██████████| 507/507 [00:11<00:00, 43.65it/s]\n",
      "Training Epoch 491: 100%|██████████| 507/507 [00:11<00:00, 43.28it/s]\n"
     ]
    },
    {
     "name": "stdout",
     "output_type": "stream",
     "text": [
      "Epoch 490 - Train Loss: 0.0941, Train MSE: 0.0941, Train MAE: 0.2265\n",
      "Epoch 490 - Validation Loss: 1.3543, Validation MSE: 1.3579, Validation MAE: 0.8151\n"
     ]
    },
    {
     "name": "stderr",
     "output_type": "stream",
     "text": [
      "Training Epoch 492: 100%|██████████| 507/507 [00:12<00:00, 41.76it/s]\n",
      "Training Epoch 493: 100%|██████████| 507/507 [00:11<00:00, 43.26it/s]\n",
      "Training Epoch 494: 100%|██████████| 507/507 [00:11<00:00, 42.90it/s]\n",
      "Training Epoch 495: 100%|██████████| 507/507 [00:11<00:00, 42.38it/s]\n",
      "Training Epoch 496: 100%|██████████| 507/507 [00:11<00:00, 44.24it/s]\n",
      "Training Epoch 497: 100%|██████████| 507/507 [00:11<00:00, 43.13it/s]\n",
      "Training Epoch 498: 100%|██████████| 507/507 [00:12<00:00, 42.15it/s]\n",
      "Training Epoch 499: 100%|██████████| 507/507 [00:11<00:00, 42.69it/s]\n",
      "Training Epoch 500: 100%|██████████| 507/507 [00:11<00:00, 43.71it/s]\n",
      "Training Epoch 501: 100%|██████████| 507/507 [00:11<00:00, 43.15it/s]\n"
     ]
    },
    {
     "name": "stdout",
     "output_type": "stream",
     "text": [
      "Epoch 500 - Train Loss: 0.0905, Train MSE: 0.0905, Train MAE: 0.2219\n",
      "Epoch 500 - Validation Loss: 1.3674, Validation MSE: 1.3708, Validation MAE: 0.8216\n"
     ]
    },
    {
     "name": "stderr",
     "output_type": "stream",
     "text": [
      "Training Epoch 502: 100%|██████████| 507/507 [00:11<00:00, 42.54it/s]\n",
      "Training Epoch 503: 100%|██████████| 507/507 [00:12<00:00, 41.91it/s]\n",
      "Training Epoch 504: 100%|██████████| 507/507 [00:11<00:00, 44.24it/s]\n",
      "Training Epoch 505: 100%|██████████| 507/507 [00:11<00:00, 43.46it/s]\n",
      "Training Epoch 506: 100%|██████████| 507/507 [00:11<00:00, 42.48it/s]\n",
      "Training Epoch 507: 100%|██████████| 507/507 [00:11<00:00, 43.05it/s]\n",
      "Training Epoch 508: 100%|██████████| 507/507 [00:11<00:00, 42.72it/s]\n",
      "Training Epoch 509: 100%|██████████| 507/507 [00:11<00:00, 42.43it/s]\n",
      "Training Epoch 510: 100%|██████████| 507/507 [00:11<00:00, 43.53it/s]\n",
      "Training Epoch 511: 100%|██████████| 507/507 [00:11<00:00, 43.45it/s]\n"
     ]
    },
    {
     "name": "stdout",
     "output_type": "stream",
     "text": [
      "Epoch 510 - Train Loss: 0.1081, Train MSE: 0.1080, Train MAE: 0.2366\n",
      "Epoch 510 - Validation Loss: 1.3622, Validation MSE: 1.3651, Validation MAE: 0.8195\n"
     ]
    },
    {
     "name": "stderr",
     "output_type": "stream",
     "text": [
      "Training Epoch 512: 100%|██████████| 507/507 [00:11<00:00, 43.00it/s]\n",
      "Training Epoch 513: 100%|██████████| 507/507 [00:11<00:00, 42.90it/s]\n",
      "Training Epoch 514: 100%|██████████| 507/507 [00:11<00:00, 43.30it/s]\n",
      "Training Epoch 515: 100%|██████████| 507/507 [00:11<00:00, 43.10it/s]\n",
      "Training Epoch 516: 100%|██████████| 507/507 [00:12<00:00, 42.05it/s]\n",
      "Training Epoch 517: 100%|██████████| 507/507 [00:11<00:00, 42.44it/s]\n",
      "Training Epoch 518: 100%|██████████| 507/507 [00:11<00:00, 43.20it/s]\n",
      "Training Epoch 519: 100%|██████████| 507/507 [00:11<00:00, 43.17it/s]\n",
      "Training Epoch 520: 100%|██████████| 507/507 [00:11<00:00, 42.72it/s]\n",
      "Training Epoch 521: 100%|██████████| 507/507 [00:11<00:00, 42.96it/s]\n"
     ]
    },
    {
     "name": "stdout",
     "output_type": "stream",
     "text": [
      "Epoch 520 - Train Loss: 0.0878, Train MSE: 0.0878, Train MAE: 0.2187\n",
      "Epoch 520 - Validation Loss: 1.3777, Validation MSE: 1.3810, Validation MAE: 0.8240\n"
     ]
    },
    {
     "name": "stderr",
     "output_type": "stream",
     "text": [
      "Training Epoch 522: 100%|██████████| 507/507 [00:11<00:00, 43.54it/s]\n",
      "Training Epoch 523: 100%|██████████| 507/507 [00:12<00:00, 42.21it/s]\n",
      "Training Epoch 524: 100%|██████████| 507/507 [00:12<00:00, 39.12it/s]\n",
      "Training Epoch 525: 100%|██████████| 507/507 [00:12<00:00, 41.41it/s]\n",
      "Training Epoch 526: 100%|██████████| 507/507 [00:11<00:00, 42.32it/s]\n",
      "Training Epoch 527: 100%|██████████| 507/507 [00:12<00:00, 41.94it/s]\n",
      "Training Epoch 528: 100%|██████████| 507/507 [00:11<00:00, 43.23it/s]\n",
      "Training Epoch 529: 100%|██████████| 507/507 [00:11<00:00, 42.58it/s]\n",
      "Training Epoch 530: 100%|██████████| 507/507 [00:11<00:00, 43.35it/s]\n",
      "Training Epoch 531: 100%|██████████| 507/507 [00:11<00:00, 43.20it/s]\n"
     ]
    },
    {
     "name": "stdout",
     "output_type": "stream",
     "text": [
      "Epoch 530 - Train Loss: 0.0852, Train MSE: 0.0853, Train MAE: 0.2153\n",
      "Epoch 530 - Validation Loss: 1.3689, Validation MSE: 1.3727, Validation MAE: 0.8185\n"
     ]
    },
    {
     "name": "stderr",
     "output_type": "stream",
     "text": [
      "Training Epoch 532: 100%|██████████| 507/507 [00:11<00:00, 43.13it/s]\n",
      "Training Epoch 533: 100%|██████████| 507/507 [00:11<00:00, 43.41it/s]\n",
      "Training Epoch 534: 100%|██████████| 507/507 [00:11<00:00, 43.32it/s]\n",
      "Training Epoch 535: 100%|██████████| 507/507 [00:11<00:00, 43.39it/s]\n",
      "Training Epoch 536: 100%|██████████| 507/507 [00:11<00:00, 42.70it/s]\n",
      "Training Epoch 537: 100%|██████████| 507/507 [00:11<00:00, 43.26it/s]\n",
      "Training Epoch 538: 100%|██████████| 507/507 [00:11<00:00, 42.88it/s]\n",
      "Training Epoch 539: 100%|██████████| 507/507 [00:11<00:00, 43.21it/s]\n",
      "Training Epoch 540: 100%|██████████| 507/507 [00:11<00:00, 42.43it/s]\n",
      "Training Epoch 541: 100%|██████████| 507/507 [00:11<00:00, 42.74it/s]\n"
     ]
    },
    {
     "name": "stdout",
     "output_type": "stream",
     "text": [
      "Epoch 540 - Train Loss: 0.0863, Train MSE: 0.0863, Train MAE: 0.2162\n",
      "Epoch 540 - Validation Loss: 1.3638, Validation MSE: 1.3670, Validation MAE: 0.8188\n"
     ]
    },
    {
     "name": "stderr",
     "output_type": "stream",
     "text": [
      "Training Epoch 542: 100%|██████████| 507/507 [00:11<00:00, 42.42it/s]\n",
      "Training Epoch 543: 100%|██████████| 507/507 [00:11<00:00, 43.64it/s]\n",
      "Training Epoch 544: 100%|██████████| 507/507 [00:11<00:00, 43.60it/s]\n",
      "Training Epoch 545: 100%|██████████| 507/507 [00:11<00:00, 42.31it/s]\n",
      "Training Epoch 546: 100%|██████████| 507/507 [00:11<00:00, 42.57it/s]\n",
      "Training Epoch 547: 100%|██████████| 507/507 [00:11<00:00, 42.92it/s]\n",
      "Training Epoch 548: 100%|██████████| 507/507 [00:11<00:00, 43.00it/s]\n",
      "Training Epoch 549: 100%|██████████| 507/507 [00:11<00:00, 43.36it/s]\n",
      "Training Epoch 550: 100%|██████████| 507/507 [00:11<00:00, 42.78it/s]\n",
      "Training Epoch 551: 100%|██████████| 507/507 [00:11<00:00, 43.13it/s]\n"
     ]
    },
    {
     "name": "stdout",
     "output_type": "stream",
     "text": [
      "Epoch 550 - Train Loss: 0.0851, Train MSE: 0.0851, Train MAE: 0.2140\n",
      "Epoch 550 - Validation Loss: 1.3954, Validation MSE: 1.3988, Validation MAE: 0.8289\n"
     ]
    },
    {
     "name": "stderr",
     "output_type": "stream",
     "text": [
      "Training Epoch 552: 100%|██████████| 507/507 [00:11<00:00, 44.03it/s]\n",
      "Training Epoch 553: 100%|██████████| 507/507 [00:12<00:00, 42.05it/s]\n",
      "Training Epoch 554: 100%|██████████| 507/507 [00:11<00:00, 43.23it/s]\n",
      "Training Epoch 555: 100%|██████████| 507/507 [00:11<00:00, 43.20it/s]\n",
      "Training Epoch 556: 100%|██████████| 507/507 [00:11<00:00, 42.82it/s]\n",
      "Training Epoch 557: 100%|██████████| 507/507 [00:11<00:00, 43.57it/s]\n",
      "Training Epoch 558: 100%|██████████| 507/507 [00:11<00:00, 44.04it/s]\n",
      "Training Epoch 559: 100%|██████████| 507/507 [00:11<00:00, 42.84it/s]\n",
      "Training Epoch 560: 100%|██████████| 507/507 [00:12<00:00, 41.97it/s]\n",
      "Training Epoch 561: 100%|██████████| 507/507 [00:11<00:00, 44.18it/s]\n"
     ]
    },
    {
     "name": "stdout",
     "output_type": "stream",
     "text": [
      "Epoch 560 - Train Loss: 0.0817, Train MSE: 0.0817, Train MAE: 0.2099\n",
      "Epoch 560 - Validation Loss: 1.3828, Validation MSE: 1.3866, Validation MAE: 0.8223\n"
     ]
    },
    {
     "name": "stderr",
     "output_type": "stream",
     "text": [
      "Training Epoch 562: 100%|██████████| 507/507 [00:11<00:00, 43.27it/s]\n",
      "Training Epoch 563: 100%|██████████| 507/507 [00:11<00:00, 42.98it/s]\n",
      "Training Epoch 564: 100%|██████████| 507/507 [00:12<00:00, 42.21it/s]\n",
      "Training Epoch 565: 100%|██████████| 507/507 [00:11<00:00, 42.81it/s]\n",
      "Training Epoch 566: 100%|██████████| 507/507 [00:11<00:00, 43.16it/s]\n",
      "Training Epoch 567: 100%|██████████| 507/507 [00:11<00:00, 43.07it/s]\n",
      "Training Epoch 568: 100%|██████████| 507/507 [00:12<00:00, 42.06it/s]\n",
      "Training Epoch 569: 100%|██████████| 507/507 [00:11<00:00, 43.05it/s]\n",
      "Training Epoch 570: 100%|██████████| 507/507 [00:11<00:00, 43.37it/s]\n",
      "Training Epoch 571: 100%|██████████| 507/507 [00:11<00:00, 43.02it/s]\n"
     ]
    },
    {
     "name": "stdout",
     "output_type": "stream",
     "text": [
      "Epoch 570 - Train Loss: 0.0812, Train MSE: 0.0813, Train MAE: 0.2107\n",
      "Epoch 570 - Validation Loss: 1.3659, Validation MSE: 1.3695, Validation MAE: 0.8225\n"
     ]
    },
    {
     "name": "stderr",
     "output_type": "stream",
     "text": [
      "Training Epoch 572: 100%|██████████| 507/507 [00:11<00:00, 42.51it/s]\n",
      "Training Epoch 573: 100%|██████████| 507/507 [00:11<00:00, 42.67it/s]\n",
      "Training Epoch 574: 100%|██████████| 507/507 [00:11<00:00, 42.28it/s]\n",
      "Training Epoch 575: 100%|██████████| 507/507 [00:12<00:00, 41.98it/s]\n",
      "Training Epoch 576: 100%|██████████| 507/507 [00:12<00:00, 41.83it/s]\n",
      "Training Epoch 577: 100%|██████████| 507/507 [00:11<00:00, 42.39it/s]\n",
      "Training Epoch 578: 100%|██████████| 507/507 [00:12<00:00, 42.18it/s]\n",
      "Training Epoch 579: 100%|██████████| 507/507 [00:11<00:00, 42.80it/s]\n",
      "Training Epoch 580: 100%|██████████| 507/507 [00:12<00:00, 41.97it/s]\n",
      "Training Epoch 581: 100%|██████████| 507/507 [00:11<00:00, 42.35it/s]\n"
     ]
    },
    {
     "name": "stdout",
     "output_type": "stream",
     "text": [
      "Epoch 580 - Train Loss: 0.0817, Train MSE: 0.0817, Train MAE: 0.2076\n",
      "Epoch 580 - Validation Loss: 1.3727, Validation MSE: 1.3761, Validation MAE: 0.8223\n"
     ]
    },
    {
     "name": "stderr",
     "output_type": "stream",
     "text": [
      "Training Epoch 582: 100%|██████████| 507/507 [00:11<00:00, 42.72it/s]\n",
      "Training Epoch 583: 100%|██████████| 507/507 [00:11<00:00, 43.23it/s]\n",
      "Training Epoch 584: 100%|██████████| 507/507 [00:11<00:00, 42.49it/s]\n",
      "Training Epoch 585: 100%|██████████| 507/507 [00:11<00:00, 42.46it/s]\n",
      "Training Epoch 586: 100%|██████████| 507/507 [00:11<00:00, 44.23it/s]\n",
      "Training Epoch 587: 100%|██████████| 507/507 [00:11<00:00, 42.27it/s]\n",
      "Training Epoch 588: 100%|██████████| 507/507 [00:11<00:00, 43.17it/s]\n",
      "Training Epoch 589: 100%|██████████| 507/507 [00:11<00:00, 42.68it/s]\n",
      "Training Epoch 590: 100%|██████████| 507/507 [00:11<00:00, 42.47it/s]\n",
      "Training Epoch 591: 100%|██████████| 507/507 [00:11<00:00, 42.76it/s]\n"
     ]
    },
    {
     "name": "stdout",
     "output_type": "stream",
     "text": [
      "Epoch 590 - Train Loss: 0.0799, Train MSE: 0.0799, Train MAE: 0.2080\n",
      "Epoch 590 - Validation Loss: 1.3740, Validation MSE: 1.3774, Validation MAE: 0.8199\n"
     ]
    },
    {
     "name": "stderr",
     "output_type": "stream",
     "text": [
      "Training Epoch 592: 100%|██████████| 507/507 [00:11<00:00, 42.27it/s]\n",
      "Training Epoch 593: 100%|██████████| 507/507 [00:11<00:00, 43.26it/s]\n",
      "Training Epoch 594: 100%|██████████| 507/507 [00:12<00:00, 41.85it/s]\n",
      "Training Epoch 595: 100%|██████████| 507/507 [00:11<00:00, 42.33it/s]\n",
      "Training Epoch 596: 100%|██████████| 507/507 [00:11<00:00, 42.63it/s]\n",
      "Training Epoch 597: 100%|██████████| 507/507 [00:12<00:00, 41.64it/s]\n",
      "Training Epoch 598: 100%|██████████| 507/507 [00:11<00:00, 43.75it/s]\n",
      "Training Epoch 599: 100%|██████████| 507/507 [00:12<00:00, 41.91it/s]\n",
      "Training Epoch 600: 100%|██████████| 507/507 [00:12<00:00, 42.05it/s]\n",
      "Training Epoch 601: 100%|██████████| 507/507 [00:12<00:00, 42.23it/s]\n"
     ]
    },
    {
     "name": "stdout",
     "output_type": "stream",
     "text": [
      "Epoch 600 - Train Loss: 0.0823, Train MSE: 0.0824, Train MAE: 0.2096\n",
      "Epoch 600 - Validation Loss: 1.3711, Validation MSE: 1.3748, Validation MAE: 0.8204\n"
     ]
    },
    {
     "name": "stderr",
     "output_type": "stream",
     "text": [
      "Training Epoch 602: 100%|██████████| 507/507 [00:11<00:00, 43.42it/s]\n",
      "Training Epoch 603: 100%|██████████| 507/507 [00:11<00:00, 42.72it/s]\n",
      "Training Epoch 604: 100%|██████████| 507/507 [00:11<00:00, 42.93it/s]\n",
      "Training Epoch 605: 100%|██████████| 507/507 [00:12<00:00, 42.24it/s]\n",
      "Training Epoch 606: 100%|██████████| 507/507 [00:12<00:00, 41.95it/s]\n",
      "Training Epoch 607: 100%|██████████| 507/507 [00:11<00:00, 42.68it/s]\n",
      "Training Epoch 608: 100%|██████████| 507/507 [00:12<00:00, 42.22it/s]\n",
      "Training Epoch 609: 100%|██████████| 507/507 [00:11<00:00, 42.55it/s]\n",
      "Training Epoch 610: 100%|██████████| 507/507 [00:11<00:00, 43.58it/s]\n",
      "Training Epoch 611: 100%|██████████| 507/507 [00:11<00:00, 43.10it/s]\n"
     ]
    },
    {
     "name": "stdout",
     "output_type": "stream",
     "text": [
      "Epoch 610 - Train Loss: 0.0810, Train MSE: 0.0810, Train MAE: 0.2096\n",
      "Epoch 610 - Validation Loss: 1.4038, Validation MSE: 1.4072, Validation MAE: 0.8307\n"
     ]
    },
    {
     "name": "stderr",
     "output_type": "stream",
     "text": [
      "Training Epoch 612: 100%|██████████| 507/507 [00:11<00:00, 42.68it/s]\n",
      "Training Epoch 613: 100%|██████████| 507/507 [00:11<00:00, 42.70it/s]\n",
      "Training Epoch 614: 100%|██████████| 507/507 [00:11<00:00, 42.71it/s]\n",
      "Training Epoch 615: 100%|██████████| 507/507 [00:12<00:00, 42.25it/s]\n",
      "Training Epoch 616: 100%|██████████| 507/507 [00:11<00:00, 42.26it/s]\n",
      "Training Epoch 617: 100%|██████████| 507/507 [00:12<00:00, 41.52it/s]\n",
      "Training Epoch 618: 100%|██████████| 507/507 [00:12<00:00, 42.06it/s]\n",
      "Training Epoch 619: 100%|██████████| 507/507 [00:12<00:00, 41.42it/s]\n",
      "Training Epoch 620: 100%|██████████| 507/507 [00:11<00:00, 42.55it/s]\n",
      "Training Epoch 621: 100%|██████████| 507/507 [00:11<00:00, 42.55it/s]\n"
     ]
    },
    {
     "name": "stdout",
     "output_type": "stream",
     "text": [
      "Epoch 620 - Train Loss: 0.0795, Train MSE: 0.0795, Train MAE: 0.2061\n",
      "Epoch 620 - Validation Loss: 1.3562, Validation MSE: 1.3603, Validation MAE: 0.8179\n"
     ]
    },
    {
     "name": "stderr",
     "output_type": "stream",
     "text": [
      "Training Epoch 622: 100%|██████████| 507/507 [00:12<00:00, 42.06it/s]\n",
      "Training Epoch 623: 100%|██████████| 507/507 [00:11<00:00, 42.35it/s]\n",
      "Training Epoch 624: 100%|██████████| 507/507 [00:11<00:00, 43.41it/s]\n",
      "Training Epoch 625: 100%|██████████| 507/507 [00:11<00:00, 43.19it/s]\n",
      "Training Epoch 626: 100%|██████████| 507/507 [00:11<00:00, 43.75it/s]\n",
      "Training Epoch 627: 100%|██████████| 507/507 [00:11<00:00, 43.37it/s]\n",
      "Training Epoch 628: 100%|██████████| 507/507 [00:11<00:00, 43.16it/s]\n",
      "Training Epoch 629: 100%|██████████| 507/507 [00:12<00:00, 41.42it/s]\n",
      "Training Epoch 630: 100%|██████████| 507/507 [00:11<00:00, 43.04it/s]\n",
      "Training Epoch 631: 100%|██████████| 507/507 [00:11<00:00, 42.96it/s]\n"
     ]
    },
    {
     "name": "stdout",
     "output_type": "stream",
     "text": [
      "Epoch 630 - Train Loss: 0.0786, Train MSE: 0.0787, Train MAE: 0.2061\n",
      "Epoch 630 - Validation Loss: 1.3839, Validation MSE: 1.3877, Validation MAE: 0.8238\n"
     ]
    },
    {
     "name": "stderr",
     "output_type": "stream",
     "text": [
      "Training Epoch 632: 100%|██████████| 507/507 [00:11<00:00, 43.61it/s]\n",
      "Training Epoch 633: 100%|██████████| 507/507 [00:12<00:00, 42.25it/s]\n",
      "Training Epoch 634: 100%|██████████| 507/507 [00:11<00:00, 43.75it/s]\n",
      "Training Epoch 635: 100%|██████████| 507/507 [00:11<00:00, 42.66it/s]\n",
      "Training Epoch 636: 100%|██████████| 507/507 [00:11<00:00, 42.61it/s]\n",
      "Training Epoch 637: 100%|██████████| 507/507 [00:11<00:00, 43.01it/s]\n",
      "Training Epoch 638: 100%|██████████| 507/507 [00:11<00:00, 42.84it/s]\n",
      "Training Epoch 639: 100%|██████████| 507/507 [00:11<00:00, 42.29it/s]\n",
      "Training Epoch 640: 100%|██████████| 507/507 [00:11<00:00, 43.31it/s]\n",
      "Training Epoch 641: 100%|██████████| 507/507 [00:11<00:00, 42.85it/s]\n"
     ]
    },
    {
     "name": "stdout",
     "output_type": "stream",
     "text": [
      "Epoch 640 - Train Loss: 0.0806, Train MSE: 0.0805, Train MAE: 0.2057\n",
      "Epoch 640 - Validation Loss: 1.3515, Validation MSE: 1.3554, Validation MAE: 0.8097\n"
     ]
    },
    {
     "name": "stderr",
     "output_type": "stream",
     "text": [
      "Training Epoch 642: 100%|██████████| 507/507 [00:11<00:00, 43.50it/s]\n",
      "Training Epoch 643: 100%|██████████| 507/507 [00:11<00:00, 43.41it/s]\n",
      "Training Epoch 644: 100%|██████████| 507/507 [00:12<00:00, 41.73it/s]\n",
      "Training Epoch 645: 100%|██████████| 507/507 [00:11<00:00, 42.62it/s]\n",
      "Training Epoch 646: 100%|██████████| 507/507 [00:12<00:00, 41.75it/s]\n",
      "Training Epoch 647: 100%|██████████| 507/507 [00:11<00:00, 42.92it/s]\n",
      "Training Epoch 648: 100%|██████████| 507/507 [00:11<00:00, 43.22it/s]\n",
      "Training Epoch 649: 100%|██████████| 507/507 [00:11<00:00, 44.38it/s]\n",
      "Training Epoch 650: 100%|██████████| 507/507 [00:11<00:00, 42.89it/s]\n",
      "Training Epoch 651: 100%|██████████| 507/507 [00:11<00:00, 43.12it/s]\n"
     ]
    },
    {
     "name": "stdout",
     "output_type": "stream",
     "text": [
      "Epoch 650 - Train Loss: 0.0724, Train MSE: 0.0723, Train MAE: 0.1975\n",
      "Epoch 650 - Validation Loss: 1.3551, Validation MSE: 1.3582, Validation MAE: 0.8109\n"
     ]
    },
    {
     "name": "stderr",
     "output_type": "stream",
     "text": [
      "Training Epoch 652: 100%|██████████| 507/507 [00:11<00:00, 42.49it/s]\n",
      "Training Epoch 653: 100%|██████████| 507/507 [00:11<00:00, 43.83it/s]\n",
      "Training Epoch 654: 100%|██████████| 507/507 [00:11<00:00, 42.70it/s]\n",
      "Training Epoch 655: 100%|██████████| 507/507 [00:11<00:00, 42.54it/s]\n",
      "Training Epoch 656: 100%|██████████| 507/507 [00:11<00:00, 42.40it/s]\n",
      "Training Epoch 657: 100%|██████████| 507/507 [00:11<00:00, 43.37it/s]\n",
      "Training Epoch 658: 100%|██████████| 507/507 [00:11<00:00, 43.00it/s]\n",
      "Training Epoch 659: 100%|██████████| 507/507 [00:11<00:00, 43.16it/s]\n",
      "Training Epoch 660: 100%|██████████| 507/507 [00:11<00:00, 42.43it/s]\n",
      "Training Epoch 661: 100%|██████████| 507/507 [00:11<00:00, 42.31it/s]\n"
     ]
    },
    {
     "name": "stdout",
     "output_type": "stream",
     "text": [
      "Epoch 660 - Train Loss: 0.0768, Train MSE: 0.0768, Train MAE: 0.2026\n",
      "Epoch 660 - Validation Loss: 1.3243, Validation MSE: 1.3281, Validation MAE: 0.8046\n"
     ]
    },
    {
     "name": "stderr",
     "output_type": "stream",
     "text": [
      "Training Epoch 662: 100%|██████████| 507/507 [00:11<00:00, 43.59it/s]\n",
      "Training Epoch 663: 100%|██████████| 507/507 [00:11<00:00, 43.35it/s]\n",
      "Training Epoch 664: 100%|██████████| 507/507 [00:11<00:00, 42.97it/s]\n",
      "Training Epoch 665: 100%|██████████| 507/507 [00:11<00:00, 42.51it/s]\n",
      "Training Epoch 666: 100%|██████████| 507/507 [00:11<00:00, 43.41it/s]\n",
      "Training Epoch 667: 100%|██████████| 507/507 [00:11<00:00, 42.61it/s]\n",
      "Training Epoch 668: 100%|██████████| 507/507 [00:11<00:00, 43.27it/s]\n",
      "Training Epoch 669: 100%|██████████| 507/507 [00:12<00:00, 42.12it/s]\n",
      "Training Epoch 670: 100%|██████████| 507/507 [00:11<00:00, 42.36it/s]\n",
      "Training Epoch 671: 100%|██████████| 507/507 [00:11<00:00, 42.46it/s]\n"
     ]
    },
    {
     "name": "stdout",
     "output_type": "stream",
     "text": [
      "Epoch 670 - Train Loss: 0.0703, Train MSE: 0.0703, Train MAE: 0.1933\n",
      "Epoch 670 - Validation Loss: 1.3561, Validation MSE: 1.3597, Validation MAE: 0.8157\n"
     ]
    },
    {
     "name": "stderr",
     "output_type": "stream",
     "text": [
      "Training Epoch 672: 100%|██████████| 507/507 [00:11<00:00, 42.76it/s]\n",
      "Training Epoch 673: 100%|██████████| 507/507 [00:11<00:00, 42.78it/s]\n",
      "Training Epoch 674: 100%|██████████| 507/507 [00:11<00:00, 42.56it/s]\n",
      "Training Epoch 675: 100%|██████████| 507/507 [00:11<00:00, 43.13it/s]\n",
      "Training Epoch 676: 100%|██████████| 507/507 [00:11<00:00, 43.01it/s]\n",
      "Training Epoch 677: 100%|██████████| 507/507 [00:11<00:00, 43.84it/s]\n",
      "Training Epoch 678: 100%|██████████| 507/507 [00:11<00:00, 43.44it/s]\n",
      "Training Epoch 679: 100%|██████████| 507/507 [00:11<00:00, 44.20it/s]\n",
      "Training Epoch 680: 100%|██████████| 507/507 [00:11<00:00, 43.23it/s]\n",
      "Training Epoch 681: 100%|██████████| 507/507 [00:11<00:00, 43.10it/s]\n"
     ]
    },
    {
     "name": "stdout",
     "output_type": "stream",
     "text": [
      "Epoch 680 - Train Loss: 0.0680, Train MSE: 0.0680, Train MAE: 0.1933\n",
      "Epoch 680 - Validation Loss: 1.3580, Validation MSE: 1.3618, Validation MAE: 0.8157\n"
     ]
    },
    {
     "name": "stderr",
     "output_type": "stream",
     "text": [
      "Training Epoch 682: 100%|██████████| 507/507 [00:11<00:00, 42.26it/s]\n",
      "Training Epoch 683: 100%|██████████| 507/507 [00:12<00:00, 42.06it/s]\n",
      "Training Epoch 684: 100%|██████████| 507/507 [00:12<00:00, 42.21it/s]\n",
      "Training Epoch 685: 100%|██████████| 507/507 [00:12<00:00, 42.22it/s]\n",
      "Training Epoch 686: 100%|██████████| 507/507 [00:11<00:00, 42.54it/s]\n",
      "Training Epoch 687: 100%|██████████| 507/507 [00:11<00:00, 42.54it/s]\n",
      "Training Epoch 688: 100%|██████████| 507/507 [00:11<00:00, 43.18it/s]\n",
      "Training Epoch 689: 100%|██████████| 507/507 [00:11<00:00, 44.57it/s]\n",
      "Training Epoch 690: 100%|██████████| 507/507 [00:12<00:00, 42.22it/s]\n",
      "Training Epoch 691: 100%|██████████| 507/507 [00:11<00:00, 42.34it/s]\n"
     ]
    },
    {
     "name": "stdout",
     "output_type": "stream",
     "text": [
      "Epoch 690 - Train Loss: 0.0689, Train MSE: 0.0689, Train MAE: 0.1930\n",
      "Epoch 690 - Validation Loss: 1.3651, Validation MSE: 1.3685, Validation MAE: 0.8169\n"
     ]
    },
    {
     "name": "stderr",
     "output_type": "stream",
     "text": [
      "Training Epoch 692: 100%|██████████| 507/507 [00:11<00:00, 43.01it/s]\n",
      "Training Epoch 693: 100%|██████████| 507/507 [00:11<00:00, 42.68it/s]\n",
      "Training Epoch 694: 100%|██████████| 507/507 [00:11<00:00, 42.27it/s]\n",
      "Training Epoch 695: 100%|██████████| 507/507 [00:12<00:00, 41.84it/s]\n",
      "Training Epoch 696: 100%|██████████| 507/507 [00:12<00:00, 41.35it/s]\n",
      "Training Epoch 697: 100%|██████████| 507/507 [00:12<00:00, 42.11it/s]\n",
      "Training Epoch 698: 100%|██████████| 507/507 [00:11<00:00, 43.71it/s]\n",
      "Training Epoch 699: 100%|██████████| 507/507 [00:12<00:00, 42.01it/s]\n",
      "Training Epoch 700: 100%|██████████| 507/507 [00:11<00:00, 42.72it/s]\n",
      "Training Epoch 701: 100%|██████████| 507/507 [00:12<00:00, 42.05it/s]\n"
     ]
    },
    {
     "name": "stdout",
     "output_type": "stream",
     "text": [
      "Epoch 700 - Train Loss: 0.0742, Train MSE: 0.0742, Train MAE: 0.1985\n",
      "Epoch 700 - Validation Loss: 1.3738, Validation MSE: 1.3775, Validation MAE: 0.8236\n"
     ]
    },
    {
     "name": "stderr",
     "output_type": "stream",
     "text": [
      "Training Epoch 702: 100%|██████████| 507/507 [00:11<00:00, 42.87it/s]\n",
      "Training Epoch 703: 100%|██████████| 507/507 [00:11<00:00, 42.91it/s]\n",
      "Training Epoch 704: 100%|██████████| 507/507 [00:12<00:00, 42.24it/s]\n",
      "Training Epoch 705: 100%|██████████| 507/507 [00:12<00:00, 41.70it/s]\n",
      "Training Epoch 706: 100%|██████████| 507/507 [00:12<00:00, 41.94it/s]\n",
      "Training Epoch 707: 100%|██████████| 507/507 [00:11<00:00, 42.82it/s]\n",
      "Training Epoch 708: 100%|██████████| 507/507 [00:11<00:00, 43.14it/s]\n",
      "Training Epoch 709: 100%|██████████| 507/507 [00:12<00:00, 41.63it/s]\n",
      "Training Epoch 710: 100%|██████████| 507/507 [00:12<00:00, 41.38it/s]\n",
      "Training Epoch 711: 100%|██████████| 507/507 [00:11<00:00, 42.42it/s]\n"
     ]
    },
    {
     "name": "stdout",
     "output_type": "stream",
     "text": [
      "Epoch 710 - Train Loss: 0.0685, Train MSE: 0.0686, Train MAE: 0.1929\n",
      "Epoch 710 - Validation Loss: 1.3674, Validation MSE: 1.3706, Validation MAE: 0.8161\n"
     ]
    },
    {
     "name": "stderr",
     "output_type": "stream",
     "text": [
      "Training Epoch 712: 100%|██████████| 507/507 [00:11<00:00, 42.30it/s]\n",
      "Training Epoch 713: 100%|██████████| 507/507 [00:12<00:00, 41.83it/s]\n",
      "Training Epoch 714: 100%|██████████| 507/507 [00:12<00:00, 41.80it/s]\n",
      "Training Epoch 715: 100%|██████████| 507/507 [00:12<00:00, 42.04it/s]\n",
      "Training Epoch 716: 100%|██████████| 507/507 [00:11<00:00, 42.84it/s]\n",
      "Training Epoch 717: 100%|██████████| 507/507 [00:12<00:00, 42.16it/s]\n",
      "Training Epoch 718: 100%|██████████| 507/507 [00:11<00:00, 43.04it/s]\n",
      "Training Epoch 719: 100%|██████████| 507/507 [00:11<00:00, 43.12it/s]\n",
      "Training Epoch 720: 100%|██████████| 507/507 [00:12<00:00, 41.72it/s]\n",
      "Training Epoch 721: 100%|██████████| 507/507 [00:11<00:00, 42.73it/s]\n"
     ]
    },
    {
     "name": "stdout",
     "output_type": "stream",
     "text": [
      "Epoch 720 - Train Loss: 0.0634, Train MSE: 0.0634, Train MAE: 0.1878\n",
      "Epoch 720 - Validation Loss: 1.3916, Validation MSE: 1.3955, Validation MAE: 0.8260\n"
     ]
    },
    {
     "name": "stderr",
     "output_type": "stream",
     "text": [
      "Training Epoch 722: 100%|██████████| 507/507 [00:11<00:00, 42.50it/s]\n",
      "Training Epoch 723: 100%|██████████| 507/507 [00:11<00:00, 42.80it/s]\n",
      "Training Epoch 724: 100%|██████████| 507/507 [00:11<00:00, 43.47it/s]\n",
      "Training Epoch 725: 100%|██████████| 507/507 [00:12<00:00, 41.78it/s]\n",
      "Training Epoch 726: 100%|██████████| 507/507 [00:12<00:00, 42.08it/s]\n",
      "Training Epoch 727: 100%|██████████| 507/507 [00:11<00:00, 42.65it/s]\n",
      "Training Epoch 728: 100%|██████████| 507/507 [00:12<00:00, 41.84it/s]\n",
      "Training Epoch 729: 100%|██████████| 507/507 [00:11<00:00, 42.62it/s]\n",
      "Training Epoch 730: 100%|██████████| 507/507 [00:12<00:00, 42.23it/s]\n",
      "Training Epoch 731: 100%|██████████| 507/507 [00:11<00:00, 43.24it/s]\n"
     ]
    },
    {
     "name": "stdout",
     "output_type": "stream",
     "text": [
      "Epoch 730 - Train Loss: 0.0700, Train MSE: 0.0701, Train MAE: 0.1938\n",
      "Epoch 730 - Validation Loss: 1.3639, Validation MSE: 1.3682, Validation MAE: 0.8146\n"
     ]
    },
    {
     "name": "stderr",
     "output_type": "stream",
     "text": [
      "Training Epoch 732: 100%|██████████| 507/507 [00:11<00:00, 43.27it/s]\n",
      "Training Epoch 733: 100%|██████████| 507/507 [00:11<00:00, 43.25it/s]\n",
      "Training Epoch 734: 100%|██████████| 507/507 [00:12<00:00, 42.17it/s]\n",
      "Training Epoch 735: 100%|██████████| 507/507 [00:11<00:00, 43.34it/s]\n",
      "Training Epoch 736: 100%|██████████| 507/507 [00:11<00:00, 43.02it/s]\n",
      "Training Epoch 737: 100%|██████████| 507/507 [00:11<00:00, 42.52it/s]\n",
      "Training Epoch 738: 100%|██████████| 507/507 [00:11<00:00, 42.69it/s]\n",
      "Training Epoch 739: 100%|██████████| 507/507 [00:12<00:00, 41.69it/s]\n",
      "Training Epoch 740: 100%|██████████| 507/507 [00:12<00:00, 41.73it/s]\n",
      "Training Epoch 741: 100%|██████████| 507/507 [00:11<00:00, 43.42it/s]\n"
     ]
    },
    {
     "name": "stdout",
     "output_type": "stream",
     "text": [
      "Epoch 740 - Train Loss: 0.0755, Train MSE: 0.0756, Train MAE: 0.1954\n",
      "Epoch 740 - Validation Loss: 1.3767, Validation MSE: 1.3803, Validation MAE: 0.8192\n"
     ]
    },
    {
     "name": "stderr",
     "output_type": "stream",
     "text": [
      "Training Epoch 742: 100%|██████████| 507/507 [00:11<00:00, 42.37it/s]\n",
      "Training Epoch 743: 100%|██████████| 507/507 [00:11<00:00, 43.59it/s]\n",
      "Training Epoch 744: 100%|██████████| 507/507 [00:12<00:00, 41.94it/s]\n",
      "Training Epoch 745: 100%|██████████| 507/507 [00:11<00:00, 42.48it/s]\n",
      "Training Epoch 746: 100%|██████████| 507/507 [00:11<00:00, 43.02it/s]\n",
      "Training Epoch 747: 100%|██████████| 507/507 [00:11<00:00, 42.91it/s]\n",
      "Training Epoch 748: 100%|██████████| 507/507 [00:11<00:00, 43.01it/s]\n",
      "Training Epoch 749: 100%|██████████| 507/507 [00:11<00:00, 43.60it/s]\n",
      "Training Epoch 750: 100%|██████████| 507/507 [00:11<00:00, 42.67it/s]\n",
      "Training Epoch 751: 100%|██████████| 507/507 [00:11<00:00, 42.79it/s]\n"
     ]
    },
    {
     "name": "stdout",
     "output_type": "stream",
     "text": [
      "Epoch 750 - Train Loss: 0.0738, Train MSE: 0.0738, Train MAE: 0.1973\n",
      "Epoch 750 - Validation Loss: 1.3978, Validation MSE: 1.4016, Validation MAE: 0.8238\n"
     ]
    },
    {
     "name": "stderr",
     "output_type": "stream",
     "text": [
      "Training Epoch 752: 100%|██████████| 507/507 [00:11<00:00, 43.24it/s]\n",
      "Training Epoch 753: 100%|██████████| 507/507 [00:11<00:00, 43.44it/s]\n",
      "Training Epoch 754: 100%|██████████| 507/507 [00:11<00:00, 42.96it/s]\n",
      "Training Epoch 755: 100%|██████████| 507/507 [00:11<00:00, 42.87it/s]\n",
      "Training Epoch 756: 100%|██████████| 507/507 [00:11<00:00, 43.30it/s]\n",
      "Training Epoch 757: 100%|██████████| 507/507 [00:11<00:00, 42.99it/s]\n",
      "Training Epoch 758: 100%|██████████| 507/507 [00:11<00:00, 43.58it/s]\n",
      "Training Epoch 759: 100%|██████████| 507/507 [00:11<00:00, 42.95it/s]\n",
      "Training Epoch 760: 100%|██████████| 507/507 [00:12<00:00, 42.05it/s]\n",
      "Training Epoch 761: 100%|██████████| 507/507 [00:11<00:00, 42.91it/s]\n"
     ]
    },
    {
     "name": "stdout",
     "output_type": "stream",
     "text": [
      "Epoch 760 - Train Loss: 0.0623, Train MSE: 0.0623, Train MAE: 0.1850\n",
      "Epoch 760 - Validation Loss: 1.3560, Validation MSE: 1.3594, Validation MAE: 0.8100\n"
     ]
    },
    {
     "name": "stderr",
     "output_type": "stream",
     "text": [
      "Training Epoch 762: 100%|██████████| 507/507 [00:11<00:00, 43.24it/s]\n",
      "Training Epoch 763: 100%|██████████| 507/507 [00:12<00:00, 42.24it/s]\n",
      "Training Epoch 764: 100%|██████████| 507/507 [00:11<00:00, 42.77it/s]\n",
      "Training Epoch 765: 100%|██████████| 507/507 [00:11<00:00, 43.20it/s]\n",
      "Training Epoch 766: 100%|██████████| 507/507 [00:11<00:00, 42.98it/s]\n",
      "Training Epoch 767: 100%|██████████| 507/507 [00:11<00:00, 42.87it/s]\n",
      "Training Epoch 768: 100%|██████████| 507/507 [00:11<00:00, 43.20it/s]\n",
      "Training Epoch 769: 100%|██████████| 507/507 [00:11<00:00, 42.55it/s]\n",
      "Training Epoch 770: 100%|██████████| 507/507 [00:11<00:00, 42.82it/s]\n",
      "Training Epoch 771: 100%|██████████| 507/507 [00:11<00:00, 43.02it/s]\n"
     ]
    },
    {
     "name": "stdout",
     "output_type": "stream",
     "text": [
      "Epoch 770 - Train Loss: 0.0595, Train MSE: 0.0595, Train MAE: 0.1812\n",
      "Epoch 770 - Validation Loss: 1.3631, Validation MSE: 1.3668, Validation MAE: 0.8149\n"
     ]
    },
    {
     "name": "stderr",
     "output_type": "stream",
     "text": [
      "Training Epoch 772: 100%|██████████| 507/507 [00:11<00:00, 42.48it/s]\n",
      "Training Epoch 773: 100%|██████████| 507/507 [00:11<00:00, 43.15it/s]\n",
      "Training Epoch 774: 100%|██████████| 507/507 [00:11<00:00, 42.73it/s]\n",
      "Training Epoch 775: 100%|██████████| 507/507 [00:11<00:00, 43.21it/s]\n",
      "Training Epoch 776: 100%|██████████| 507/507 [00:11<00:00, 43.48it/s]\n",
      "Training Epoch 777: 100%|██████████| 507/507 [00:11<00:00, 43.09it/s]\n",
      "Training Epoch 778: 100%|██████████| 507/507 [00:11<00:00, 43.20it/s]\n",
      "Training Epoch 779: 100%|██████████| 507/507 [00:11<00:00, 43.98it/s]\n",
      "Training Epoch 780: 100%|██████████| 507/507 [00:11<00:00, 43.53it/s]\n",
      "Training Epoch 781: 100%|██████████| 507/507 [00:11<00:00, 43.83it/s]\n"
     ]
    },
    {
     "name": "stdout",
     "output_type": "stream",
     "text": [
      "Epoch 780 - Train Loss: 0.0623, Train MSE: 0.0623, Train MAE: 0.1833\n",
      "Epoch 780 - Validation Loss: 1.3668, Validation MSE: 1.3706, Validation MAE: 0.8148\n"
     ]
    },
    {
     "name": "stderr",
     "output_type": "stream",
     "text": [
      "Training Epoch 782: 100%|██████████| 507/507 [00:12<00:00, 42.10it/s]\n",
      "Training Epoch 783: 100%|██████████| 507/507 [00:12<00:00, 41.84it/s]\n",
      "Training Epoch 784: 100%|██████████| 507/507 [00:12<00:00, 42.03it/s]\n",
      "Training Epoch 785: 100%|██████████| 507/507 [00:11<00:00, 42.28it/s]\n",
      "Training Epoch 786: 100%|██████████| 507/507 [00:12<00:00, 42.08it/s]\n",
      "Training Epoch 787: 100%|██████████| 507/507 [00:11<00:00, 42.81it/s]\n",
      "Training Epoch 788: 100%|██████████| 507/507 [00:11<00:00, 42.83it/s]\n",
      "Training Epoch 789: 100%|██████████| 507/507 [00:11<00:00, 43.69it/s]\n",
      "Training Epoch 790: 100%|██████████| 507/507 [00:11<00:00, 42.45it/s]\n",
      "Training Epoch 791: 100%|██████████| 507/507 [00:11<00:00, 43.50it/s]\n"
     ]
    },
    {
     "name": "stdout",
     "output_type": "stream",
     "text": [
      "Epoch 790 - Train Loss: 0.0730, Train MSE: 0.0730, Train MAE: 0.1925\n",
      "Epoch 790 - Validation Loss: 1.3723, Validation MSE: 1.3759, Validation MAE: 0.8188\n"
     ]
    },
    {
     "name": "stderr",
     "output_type": "stream",
     "text": [
      "Training Epoch 792: 100%|██████████| 507/507 [00:11<00:00, 42.49it/s]\n",
      "Training Epoch 793: 100%|██████████| 507/507 [00:11<00:00, 42.34it/s]\n",
      "Training Epoch 794: 100%|██████████| 507/507 [00:12<00:00, 42.01it/s]\n",
      "Training Epoch 795: 100%|██████████| 507/507 [00:11<00:00, 42.63it/s]\n",
      "Training Epoch 796: 100%|██████████| 507/507 [00:11<00:00, 43.40it/s]\n",
      "Training Epoch 797: 100%|██████████| 507/507 [00:11<00:00, 42.78it/s]\n",
      "Training Epoch 798: 100%|██████████| 507/507 [00:12<00:00, 41.97it/s]\n",
      "Training Epoch 799: 100%|██████████| 507/507 [00:11<00:00, 43.06it/s]\n",
      "Training Epoch 800: 100%|██████████| 507/507 [00:11<00:00, 42.50it/s]\n",
      "Training Epoch 801: 100%|██████████| 507/507 [00:11<00:00, 42.71it/s]\n"
     ]
    },
    {
     "name": "stdout",
     "output_type": "stream",
     "text": [
      "Epoch 800 - Train Loss: 0.0699, Train MSE: 0.0699, Train MAE: 0.1915\n",
      "Epoch 800 - Validation Loss: 1.3598, Validation MSE: 1.3637, Validation MAE: 0.8149\n"
     ]
    },
    {
     "name": "stderr",
     "output_type": "stream",
     "text": [
      "Training Epoch 802: 100%|██████████| 507/507 [00:11<00:00, 43.43it/s]\n",
      "Training Epoch 803: 100%|██████████| 507/507 [00:12<00:00, 41.92it/s]\n",
      "Training Epoch 804: 100%|██████████| 507/507 [00:11<00:00, 42.76it/s]\n",
      "Training Epoch 805: 100%|██████████| 507/507 [00:11<00:00, 43.75it/s]\n",
      "Training Epoch 806: 100%|██████████| 507/507 [00:11<00:00, 42.39it/s]\n",
      "Training Epoch 807: 100%|██████████| 507/507 [00:11<00:00, 42.66it/s]\n",
      "Training Epoch 808: 100%|██████████| 507/507 [00:11<00:00, 42.85it/s]\n",
      "Training Epoch 809: 100%|██████████| 507/507 [00:11<00:00, 42.49it/s]\n",
      "Training Epoch 810: 100%|██████████| 507/507 [00:11<00:00, 42.97it/s]\n",
      "Training Epoch 811: 100%|██████████| 507/507 [00:12<00:00, 41.96it/s]\n"
     ]
    },
    {
     "name": "stdout",
     "output_type": "stream",
     "text": [
      "Epoch 810 - Train Loss: 0.0667, Train MSE: 0.0667, Train MAE: 0.1857\n",
      "Epoch 810 - Validation Loss: 1.3558, Validation MSE: 1.3595, Validation MAE: 0.8069\n"
     ]
    },
    {
     "name": "stderr",
     "output_type": "stream",
     "text": [
      "Training Epoch 812: 100%|██████████| 507/507 [00:12<00:00, 41.73it/s]\n",
      "Training Epoch 813: 100%|██████████| 507/507 [00:11<00:00, 42.62it/s]\n",
      "Training Epoch 814: 100%|██████████| 507/507 [00:12<00:00, 42.24it/s]\n",
      "Training Epoch 815: 100%|██████████| 507/507 [00:11<00:00, 42.32it/s]\n",
      "Training Epoch 816: 100%|██████████| 507/507 [00:11<00:00, 42.44it/s]\n",
      "Training Epoch 817: 100%|██████████| 507/507 [00:11<00:00, 43.54it/s]\n",
      "Training Epoch 818: 100%|██████████| 507/507 [00:12<00:00, 41.71it/s]\n",
      "Training Epoch 819: 100%|██████████| 507/507 [00:12<00:00, 42.07it/s]\n",
      "Training Epoch 820: 100%|██████████| 507/507 [00:11<00:00, 43.24it/s]\n",
      "Training Epoch 821: 100%|██████████| 507/507 [00:11<00:00, 42.65it/s]\n"
     ]
    },
    {
     "name": "stdout",
     "output_type": "stream",
     "text": [
      "Epoch 820 - Train Loss: 0.0608, Train MSE: 0.0608, Train MAE: 0.1812\n",
      "Epoch 820 - Validation Loss: 1.3922, Validation MSE: 1.3959, Validation MAE: 0.8245\n"
     ]
    },
    {
     "name": "stderr",
     "output_type": "stream",
     "text": [
      "Training Epoch 822: 100%|██████████| 507/507 [00:11<00:00, 42.67it/s]\n",
      "Training Epoch 823: 100%|██████████| 507/507 [00:11<00:00, 44.22it/s]\n",
      "Training Epoch 824: 100%|██████████| 507/507 [00:11<00:00, 42.34it/s]\n",
      "Training Epoch 825: 100%|██████████| 507/507 [00:11<00:00, 43.28it/s]\n",
      "Training Epoch 826: 100%|██████████| 507/507 [00:11<00:00, 42.97it/s]\n",
      "Training Epoch 827: 100%|██████████| 507/507 [00:11<00:00, 42.79it/s]\n",
      "Training Epoch 828: 100%|██████████| 507/507 [00:11<00:00, 43.55it/s]\n",
      "Training Epoch 829: 100%|██████████| 507/507 [00:11<00:00, 42.96it/s]\n",
      "Training Epoch 830: 100%|██████████| 507/507 [00:11<00:00, 42.97it/s]\n",
      "Training Epoch 831: 100%|██████████| 507/507 [00:11<00:00, 42.43it/s]\n"
     ]
    },
    {
     "name": "stdout",
     "output_type": "stream",
     "text": [
      "Epoch 830 - Train Loss: 0.0879, Train MSE: 0.0879, Train MAE: 0.2016\n",
      "Epoch 830 - Validation Loss: 1.4250, Validation MSE: 1.4290, Validation MAE: 0.8436\n"
     ]
    },
    {
     "name": "stderr",
     "output_type": "stream",
     "text": [
      "Training Epoch 832: 100%|██████████| 507/507 [00:12<00:00, 41.61it/s]\n",
      "Training Epoch 833: 100%|██████████| 507/507 [00:11<00:00, 42.83it/s]\n",
      "Training Epoch 834: 100%|██████████| 507/507 [00:12<00:00, 40.40it/s]\n",
      "Training Epoch 835: 100%|██████████| 507/507 [00:11<00:00, 42.31it/s]\n",
      "Training Epoch 836: 100%|██████████| 507/507 [00:11<00:00, 42.63it/s]\n",
      "Training Epoch 837: 100%|██████████| 507/507 [00:11<00:00, 42.72it/s]\n",
      "Training Epoch 838: 100%|██████████| 507/507 [00:11<00:00, 42.83it/s]\n",
      "Training Epoch 839: 100%|██████████| 507/507 [00:11<00:00, 42.56it/s]\n",
      "Training Epoch 840: 100%|██████████| 507/507 [00:11<00:00, 43.42it/s]\n",
      "Training Epoch 841: 100%|██████████| 507/507 [00:12<00:00, 41.99it/s]\n"
     ]
    },
    {
     "name": "stdout",
     "output_type": "stream",
     "text": [
      "Epoch 840 - Train Loss: 0.0560, Train MSE: 0.0560, Train MAE: 0.1743\n",
      "Epoch 840 - Validation Loss: 1.3602, Validation MSE: 1.3637, Validation MAE: 0.8107\n"
     ]
    },
    {
     "name": "stderr",
     "output_type": "stream",
     "text": [
      "Training Epoch 842: 100%|██████████| 507/507 [00:12<00:00, 40.64it/s]\n",
      "Training Epoch 843: 100%|██████████| 507/507 [00:11<00:00, 42.80it/s]\n",
      "Training Epoch 844: 100%|██████████| 507/507 [00:11<00:00, 42.52it/s]\n",
      "Training Epoch 845: 100%|██████████| 507/507 [00:11<00:00, 42.84it/s]\n",
      "Training Epoch 846: 100%|██████████| 507/507 [00:11<00:00, 42.29it/s]\n",
      "Training Epoch 847: 100%|██████████| 507/507 [00:12<00:00, 41.79it/s]\n",
      "Training Epoch 848: 100%|██████████| 507/507 [00:11<00:00, 42.70it/s]\n",
      "Training Epoch 849: 100%|██████████| 507/507 [00:11<00:00, 42.83it/s]\n",
      "Training Epoch 850: 100%|██████████| 507/507 [00:12<00:00, 40.81it/s]\n",
      "Training Epoch 851: 100%|██████████| 507/507 [00:11<00:00, 42.53it/s]\n"
     ]
    },
    {
     "name": "stdout",
     "output_type": "stream",
     "text": [
      "Epoch 850 - Train Loss: 0.0595, Train MSE: 0.0594, Train MAE: 0.1787\n",
      "Epoch 850 - Validation Loss: 1.3835, Validation MSE: 1.3867, Validation MAE: 0.8178\n"
     ]
    },
    {
     "name": "stderr",
     "output_type": "stream",
     "text": [
      "Training Epoch 852: 100%|██████████| 507/507 [00:11<00:00, 42.68it/s]\n",
      "Training Epoch 853: 100%|██████████| 507/507 [00:12<00:00, 42.19it/s]\n",
      "Training Epoch 854: 100%|██████████| 507/507 [00:11<00:00, 42.72it/s]\n",
      "Training Epoch 855: 100%|██████████| 507/507 [00:11<00:00, 42.67it/s]\n",
      "Training Epoch 856: 100%|██████████| 507/507 [00:12<00:00, 41.49it/s]\n",
      "Training Epoch 857: 100%|██████████| 507/507 [00:11<00:00, 43.30it/s]\n",
      "Training Epoch 858: 100%|██████████| 507/507 [00:11<00:00, 43.29it/s]\n",
      "Training Epoch 859: 100%|██████████| 507/507 [00:12<00:00, 41.90it/s]\n",
      "Training Epoch 860: 100%|██████████| 507/507 [00:11<00:00, 42.62it/s]\n",
      "Training Epoch 861: 100%|██████████| 507/507 [00:12<00:00, 42.08it/s]\n"
     ]
    },
    {
     "name": "stdout",
     "output_type": "stream",
     "text": [
      "Epoch 860 - Train Loss: 0.0608, Train MSE: 0.0608, Train MAE: 0.1798\n",
      "Epoch 860 - Validation Loss: 1.3451, Validation MSE: 1.3488, Validation MAE: 0.8016\n"
     ]
    },
    {
     "name": "stderr",
     "output_type": "stream",
     "text": [
      "Training Epoch 862: 100%|██████████| 507/507 [00:11<00:00, 43.08it/s]\n",
      "Training Epoch 863: 100%|██████████| 507/507 [00:11<00:00, 42.27it/s]\n",
      "Training Epoch 864: 100%|██████████| 507/507 [00:12<00:00, 41.33it/s]\n",
      "Training Epoch 865: 100%|██████████| 507/507 [00:11<00:00, 42.93it/s]\n",
      "Training Epoch 866: 100%|██████████| 507/507 [00:12<00:00, 42.20it/s]\n",
      "Training Epoch 867: 100%|██████████| 507/507 [00:11<00:00, 43.01it/s]\n",
      "Training Epoch 868: 100%|██████████| 507/507 [00:12<00:00, 42.23it/s]\n",
      "Training Epoch 869: 100%|██████████| 507/507 [00:11<00:00, 42.40it/s]\n",
      "Training Epoch 870: 100%|██████████| 507/507 [00:11<00:00, 42.31it/s]\n",
      "Training Epoch 871: 100%|██████████| 507/507 [00:12<00:00, 41.35it/s]\n"
     ]
    },
    {
     "name": "stdout",
     "output_type": "stream",
     "text": [
      "Epoch 870 - Train Loss: 0.0641, Train MSE: 0.0641, Train MAE: 0.1836\n",
      "Epoch 870 - Validation Loss: 1.3522, Validation MSE: 1.3560, Validation MAE: 0.8078\n"
     ]
    },
    {
     "name": "stderr",
     "output_type": "stream",
     "text": [
      "Training Epoch 872: 100%|██████████| 507/507 [00:12<00:00, 41.22it/s]\n",
      "Training Epoch 873: 100%|██████████| 507/507 [00:12<00:00, 42.15it/s]\n",
      "Training Epoch 874: 100%|██████████| 507/507 [00:11<00:00, 42.50it/s]\n",
      "Training Epoch 875: 100%|██████████| 507/507 [00:11<00:00, 42.70it/s]\n",
      "Training Epoch 876: 100%|██████████| 507/507 [00:11<00:00, 43.35it/s]\n",
      "Training Epoch 877: 100%|██████████| 507/507 [00:11<00:00, 42.50it/s]\n",
      "Training Epoch 878: 100%|██████████| 507/507 [00:11<00:00, 43.13it/s]\n",
      "Training Epoch 879: 100%|██████████| 507/507 [00:11<00:00, 42.81it/s]\n",
      "Training Epoch 880: 100%|██████████| 507/507 [00:11<00:00, 42.43it/s]\n",
      "Training Epoch 881: 100%|██████████| 507/507 [00:11<00:00, 43.27it/s]\n"
     ]
    },
    {
     "name": "stdout",
     "output_type": "stream",
     "text": [
      "Epoch 880 - Train Loss: 0.0589, Train MSE: 0.0589, Train MAE: 0.1795\n",
      "Epoch 880 - Validation Loss: 1.3399, Validation MSE: 1.3439, Validation MAE: 0.8036\n"
     ]
    },
    {
     "name": "stderr",
     "output_type": "stream",
     "text": [
      "Training Epoch 882: 100%|██████████| 507/507 [00:11<00:00, 43.38it/s]\n",
      "Training Epoch 883: 100%|██████████| 507/507 [00:11<00:00, 42.97it/s]\n",
      "Training Epoch 884: 100%|██████████| 507/507 [00:11<00:00, 42.51it/s]\n",
      "Training Epoch 885: 100%|██████████| 507/507 [00:12<00:00, 42.24it/s]\n",
      "Training Epoch 886: 100%|██████████| 507/507 [00:12<00:00, 41.72it/s]\n",
      "Training Epoch 887: 100%|██████████| 507/507 [00:11<00:00, 43.30it/s]\n",
      "Training Epoch 888: 100%|██████████| 507/507 [00:11<00:00, 42.88it/s]\n",
      "Training Epoch 889: 100%|██████████| 507/507 [00:11<00:00, 43.12it/s]\n",
      "Training Epoch 890: 100%|██████████| 507/507 [00:11<00:00, 43.65it/s]\n",
      "Training Epoch 891: 100%|██████████| 507/507 [00:12<00:00, 41.86it/s]\n"
     ]
    },
    {
     "name": "stdout",
     "output_type": "stream",
     "text": [
      "Epoch 890 - Train Loss: 0.0597, Train MSE: 0.0598, Train MAE: 0.1780\n",
      "Epoch 890 - Validation Loss: 1.3734, Validation MSE: 1.3769, Validation MAE: 0.8159\n"
     ]
    },
    {
     "name": "stderr",
     "output_type": "stream",
     "text": [
      "Training Epoch 892: 100%|██████████| 507/507 [00:11<00:00, 42.66it/s]\n",
      "Training Epoch 893: 100%|██████████| 507/507 [00:11<00:00, 42.60it/s]\n",
      "Training Epoch 894: 100%|██████████| 507/507 [00:12<00:00, 41.83it/s]\n",
      "Training Epoch 895: 100%|██████████| 507/507 [00:11<00:00, 43.08it/s]\n",
      "Training Epoch 896: 100%|██████████| 507/507 [00:11<00:00, 42.62it/s]\n",
      "Training Epoch 897: 100%|██████████| 507/507 [00:11<00:00, 42.35it/s]\n",
      "Training Epoch 898: 100%|██████████| 507/507 [00:11<00:00, 42.50it/s]\n",
      "Training Epoch 899: 100%|██████████| 507/507 [00:11<00:00, 42.75it/s]\n",
      "Training Epoch 900: 100%|██████████| 507/507 [00:12<00:00, 41.78it/s]\n",
      "Training Epoch 901: 100%|██████████| 507/507 [00:12<00:00, 42.20it/s]\n"
     ]
    },
    {
     "name": "stdout",
     "output_type": "stream",
     "text": [
      "Epoch 900 - Train Loss: 0.0557, Train MSE: 0.0557, Train MAE: 0.1731\n",
      "Epoch 900 - Validation Loss: 1.3656, Validation MSE: 1.3692, Validation MAE: 0.8115\n"
     ]
    },
    {
     "name": "stderr",
     "output_type": "stream",
     "text": [
      "Training Epoch 902: 100%|██████████| 507/507 [00:11<00:00, 43.01it/s]\n",
      "Training Epoch 903: 100%|██████████| 507/507 [00:12<00:00, 42.00it/s]\n",
      "Training Epoch 904: 100%|██████████| 507/507 [00:11<00:00, 43.22it/s]\n",
      "Training Epoch 905: 100%|██████████| 507/507 [00:11<00:00, 42.64it/s]\n",
      "Training Epoch 906: 100%|██████████| 507/507 [00:12<00:00, 41.48it/s]\n",
      "Training Epoch 907: 100%|██████████| 507/507 [00:11<00:00, 42.87it/s]\n",
      "Training Epoch 908: 100%|██████████| 507/507 [00:11<00:00, 42.82it/s]\n",
      "Training Epoch 909: 100%|██████████| 507/507 [00:11<00:00, 42.99it/s]\n",
      "Training Epoch 910: 100%|██████████| 507/507 [00:11<00:00, 43.29it/s]\n",
      "Training Epoch 911: 100%|██████████| 507/507 [00:11<00:00, 43.13it/s]\n"
     ]
    },
    {
     "name": "stdout",
     "output_type": "stream",
     "text": [
      "Epoch 910 - Train Loss: 0.0580, Train MSE: 0.0579, Train MAE: 0.1780\n",
      "Epoch 910 - Validation Loss: 1.3578, Validation MSE: 1.3611, Validation MAE: 0.8110\n"
     ]
    },
    {
     "name": "stderr",
     "output_type": "stream",
     "text": [
      "Training Epoch 912: 100%|██████████| 507/507 [00:11<00:00, 42.97it/s]\n",
      "Training Epoch 913: 100%|██████████| 507/507 [00:11<00:00, 42.82it/s]\n",
      "Training Epoch 914: 100%|██████████| 507/507 [00:11<00:00, 43.22it/s]\n",
      "Training Epoch 915: 100%|██████████| 507/507 [00:11<00:00, 42.58it/s]\n",
      "Training Epoch 916: 100%|██████████| 507/507 [00:11<00:00, 42.72it/s]\n",
      "Training Epoch 917: 100%|██████████| 507/507 [00:12<00:00, 41.68it/s]\n",
      "Training Epoch 918: 100%|██████████| 507/507 [00:12<00:00, 41.27it/s]\n",
      "Training Epoch 919: 100%|██████████| 507/507 [00:12<00:00, 41.74it/s]\n",
      "Training Epoch 920: 100%|██████████| 507/507 [00:11<00:00, 42.95it/s]\n",
      "Training Epoch 921: 100%|██████████| 507/507 [00:12<00:00, 42.09it/s]\n"
     ]
    },
    {
     "name": "stdout",
     "output_type": "stream",
     "text": [
      "Epoch 920 - Train Loss: 0.0570, Train MSE: 0.0570, Train MAE: 0.1725\n",
      "Epoch 920 - Validation Loss: 1.3552, Validation MSE: 1.3586, Validation MAE: 0.8087\n"
     ]
    },
    {
     "name": "stderr",
     "output_type": "stream",
     "text": [
      "Training Epoch 922: 100%|██████████| 507/507 [00:11<00:00, 42.66it/s]\n",
      "Training Epoch 923: 100%|██████████| 507/507 [00:11<00:00, 43.33it/s]\n",
      "Training Epoch 924: 100%|██████████| 507/507 [00:12<00:00, 42.11it/s]\n",
      "Training Epoch 925: 100%|██████████| 507/507 [00:11<00:00, 42.73it/s]\n",
      "Training Epoch 926: 100%|██████████| 507/507 [00:11<00:00, 42.34it/s]\n",
      "Training Epoch 927: 100%|██████████| 507/507 [00:12<00:00, 41.99it/s]\n",
      "Training Epoch 928: 100%|██████████| 507/507 [00:11<00:00, 42.56it/s]\n",
      "Training Epoch 929: 100%|██████████| 507/507 [00:11<00:00, 42.99it/s]\n",
      "Training Epoch 930: 100%|██████████| 507/507 [00:10<00:00, 46.35it/s]\n",
      "Training Epoch 931: 100%|██████████| 507/507 [00:10<00:00, 47.63it/s]\n"
     ]
    },
    {
     "name": "stdout",
     "output_type": "stream",
     "text": [
      "Epoch 930 - Train Loss: 0.0587, Train MSE: 0.0587, Train MAE: 0.1763\n",
      "Epoch 930 - Validation Loss: 1.3497, Validation MSE: 1.3533, Validation MAE: 0.8039\n"
     ]
    },
    {
     "name": "stderr",
     "output_type": "stream",
     "text": [
      "Training Epoch 932: 100%|██████████| 507/507 [00:11<00:00, 45.63it/s]\n",
      "Training Epoch 933: 100%|██████████| 507/507 [00:10<00:00, 46.82it/s]\n",
      "Training Epoch 934: 100%|██████████| 507/507 [00:10<00:00, 48.27it/s]\n",
      "Training Epoch 935: 100%|██████████| 507/507 [00:10<00:00, 46.77it/s]\n",
      "Training Epoch 936: 100%|██████████| 507/507 [00:10<00:00, 49.06it/s]\n",
      "Training Epoch 937: 100%|██████████| 507/507 [00:10<00:00, 49.48it/s]\n",
      "Training Epoch 938: 100%|██████████| 507/507 [00:10<00:00, 47.88it/s]\n",
      "Training Epoch 939: 100%|██████████| 507/507 [00:10<00:00, 49.27it/s]\n",
      "Training Epoch 940: 100%|██████████| 507/507 [00:10<00:00, 49.11it/s]\n",
      "Training Epoch 941: 100%|██████████| 507/507 [00:10<00:00, 47.69it/s]\n"
     ]
    },
    {
     "name": "stdout",
     "output_type": "stream",
     "text": [
      "Epoch 940 - Train Loss: 0.0577, Train MSE: 0.0578, Train MAE: 0.1762\n",
      "Epoch 940 - Validation Loss: 1.3683, Validation MSE: 1.3719, Validation MAE: 0.8110\n"
     ]
    },
    {
     "name": "stderr",
     "output_type": "stream",
     "text": [
      "Training Epoch 942: 100%|██████████| 507/507 [00:10<00:00, 48.37it/s]\n",
      "Training Epoch 943: 100%|██████████| 507/507 [00:10<00:00, 48.40it/s]\n",
      "Training Epoch 944: 100%|██████████| 507/507 [00:10<00:00, 48.66it/s]\n",
      "Training Epoch 945: 100%|██████████| 507/507 [00:10<00:00, 49.68it/s]\n",
      "Training Epoch 946: 100%|██████████| 507/507 [00:10<00:00, 49.33it/s]\n",
      "Training Epoch 947: 100%|██████████| 507/507 [00:10<00:00, 47.38it/s]\n",
      "Training Epoch 948: 100%|██████████| 507/507 [00:10<00:00, 49.12it/s]\n",
      "Training Epoch 949: 100%|██████████| 507/507 [00:10<00:00, 48.22it/s]\n",
      "Training Epoch 950: 100%|██████████| 507/507 [00:10<00:00, 47.09it/s]\n",
      "Training Epoch 951: 100%|██████████| 507/507 [00:10<00:00, 48.12it/s]\n"
     ]
    },
    {
     "name": "stdout",
     "output_type": "stream",
     "text": [
      "Epoch 950 - Train Loss: 0.0539, Train MSE: 0.0539, Train MAE: 0.1704\n",
      "Epoch 950 - Validation Loss: 1.3711, Validation MSE: 1.3747, Validation MAE: 0.8144\n"
     ]
    },
    {
     "name": "stderr",
     "output_type": "stream",
     "text": [
      "Training Epoch 952: 100%|██████████| 507/507 [00:10<00:00, 49.19it/s]\n",
      "Training Epoch 953: 100%|██████████| 507/507 [00:10<00:00, 48.74it/s]\n",
      "Training Epoch 954: 100%|██████████| 507/507 [00:10<00:00, 48.49it/s]\n",
      "Training Epoch 955: 100%|██████████| 507/507 [00:10<00:00, 47.88it/s]\n",
      "Training Epoch 956: 100%|██████████| 507/507 [00:10<00:00, 48.42it/s]\n",
      "Training Epoch 957: 100%|██████████| 507/507 [00:10<00:00, 48.63it/s]\n",
      "Training Epoch 958: 100%|██████████| 507/507 [00:10<00:00, 48.82it/s]\n",
      "Training Epoch 959: 100%|██████████| 507/507 [00:10<00:00, 49.20it/s]\n",
      "Training Epoch 960: 100%|██████████| 507/507 [00:10<00:00, 48.79it/s]\n",
      "Training Epoch 961: 100%|██████████| 507/507 [00:10<00:00, 48.61it/s]\n"
     ]
    },
    {
     "name": "stdout",
     "output_type": "stream",
     "text": [
      "Epoch 960 - Train Loss: 0.0653, Train MSE: 0.0653, Train MAE: 0.1801\n",
      "Epoch 960 - Validation Loss: 1.3883, Validation MSE: 1.3919, Validation MAE: 0.8191\n"
     ]
    },
    {
     "name": "stderr",
     "output_type": "stream",
     "text": [
      "Training Epoch 962: 100%|██████████| 507/507 [00:10<00:00, 48.55it/s]\n",
      "Training Epoch 963: 100%|██████████| 507/507 [00:10<00:00, 47.97it/s]\n",
      "Training Epoch 964: 100%|██████████| 507/507 [00:10<00:00, 49.32it/s]\n",
      "Training Epoch 965: 100%|██████████| 507/507 [00:10<00:00, 47.80it/s]\n",
      "Training Epoch 966: 100%|██████████| 507/507 [00:10<00:00, 48.09it/s]\n",
      "Training Epoch 967: 100%|██████████| 507/507 [00:10<00:00, 49.05it/s]\n",
      "Training Epoch 968: 100%|██████████| 507/507 [00:10<00:00, 48.44it/s]\n",
      "Training Epoch 969: 100%|██████████| 507/507 [00:10<00:00, 46.97it/s]\n",
      "Training Epoch 970: 100%|██████████| 507/507 [00:10<00:00, 49.83it/s]\n",
      "Training Epoch 971: 100%|██████████| 507/507 [00:10<00:00, 50.40it/s]\n"
     ]
    },
    {
     "name": "stdout",
     "output_type": "stream",
     "text": [
      "Epoch 970 - Train Loss: 0.0541, Train MSE: 0.0541, Train MAE: 0.1721\n",
      "Epoch 970 - Validation Loss: 1.3709, Validation MSE: 1.3746, Validation MAE: 0.8133\n"
     ]
    },
    {
     "name": "stderr",
     "output_type": "stream",
     "text": [
      "Training Epoch 972: 100%|██████████| 507/507 [00:10<00:00, 47.34it/s]\n",
      "Training Epoch 973: 100%|██████████| 507/507 [00:10<00:00, 49.73it/s]\n",
      "Training Epoch 974: 100%|██████████| 507/507 [00:10<00:00, 47.32it/s]\n",
      "Training Epoch 975: 100%|██████████| 507/507 [00:10<00:00, 48.94it/s]\n",
      "Training Epoch 976: 100%|██████████| 507/507 [00:10<00:00, 48.41it/s]\n",
      "Training Epoch 977: 100%|██████████| 507/507 [00:10<00:00, 47.79it/s]\n",
      "Training Epoch 978: 100%|██████████| 507/507 [00:10<00:00, 47.77it/s]\n",
      "Training Epoch 979: 100%|██████████| 507/507 [00:10<00:00, 48.60it/s]\n",
      "Training Epoch 980: 100%|██████████| 507/507 [00:10<00:00, 48.78it/s]\n",
      "Training Epoch 981: 100%|██████████| 507/507 [00:10<00:00, 49.65it/s]\n"
     ]
    },
    {
     "name": "stdout",
     "output_type": "stream",
     "text": [
      "Epoch 980 - Train Loss: 0.0587, Train MSE: 0.0587, Train MAE: 0.1739\n",
      "Epoch 980 - Validation Loss: 1.4676, Validation MSE: 1.4715, Validation MAE: 0.8565\n"
     ]
    },
    {
     "name": "stderr",
     "output_type": "stream",
     "text": [
      "Training Epoch 982: 100%|██████████| 507/507 [00:10<00:00, 48.12it/s]\n",
      "Training Epoch 983: 100%|██████████| 507/507 [00:10<00:00, 48.54it/s]\n",
      "Training Epoch 984: 100%|██████████| 507/507 [00:10<00:00, 50.47it/s]\n",
      "Training Epoch 985: 100%|██████████| 507/507 [00:10<00:00, 48.37it/s]\n",
      "Training Epoch 986: 100%|██████████| 507/507 [00:10<00:00, 48.76it/s]\n",
      "Training Epoch 987: 100%|██████████| 507/507 [00:10<00:00, 48.99it/s]\n",
      "Training Epoch 988: 100%|██████████| 507/507 [00:10<00:00, 47.68it/s]\n",
      "Training Epoch 989: 100%|██████████| 507/507 [00:10<00:00, 48.81it/s]\n",
      "Training Epoch 990: 100%|██████████| 507/507 [00:10<00:00, 48.47it/s]\n",
      "Training Epoch 991: 100%|██████████| 507/507 [00:10<00:00, 49.18it/s]\n"
     ]
    },
    {
     "name": "stdout",
     "output_type": "stream",
     "text": [
      "Epoch 990 - Train Loss: 0.0542, Train MSE: 0.0542, Train MAE: 0.1698\n",
      "Epoch 990 - Validation Loss: 1.3877, Validation MSE: 1.3916, Validation MAE: 0.8170\n"
     ]
    },
    {
     "name": "stderr",
     "output_type": "stream",
     "text": [
      "Training Epoch 992: 100%|██████████| 507/507 [00:10<00:00, 49.06it/s]\n",
      "Training Epoch 993: 100%|██████████| 507/507 [00:10<00:00, 48.00it/s]\n",
      "Training Epoch 994: 100%|██████████| 507/507 [00:10<00:00, 48.16it/s]\n",
      "Training Epoch 995: 100%|██████████| 507/507 [00:09<00:00, 56.20it/s]\n",
      "Training Epoch 996: 100%|██████████| 507/507 [00:09<00:00, 55.28it/s]\n",
      "Training Epoch 997: 100%|██████████| 507/507 [00:09<00:00, 55.31it/s]\n",
      "Training Epoch 998: 100%|██████████| 507/507 [00:08<00:00, 56.84it/s]\n",
      "Training Epoch 999: 100%|██████████| 507/507 [00:09<00:00, 55.91it/s]\n",
      "Training Epoch 1000: 100%|██████████| 507/507 [00:09<00:00, 55.27it/s]\n",
      "Training Epoch 1001: 100%|██████████| 507/507 [00:09<00:00, 55.47it/s]\n"
     ]
    },
    {
     "name": "stdout",
     "output_type": "stream",
     "text": [
      "Epoch 1000 - Train Loss: 0.0480, Train MSE: 0.0480, Train MAE: 0.1630\n",
      "Epoch 1000 - Validation Loss: 1.3524, Validation MSE: 1.3563, Validation MAE: 0.8031\n"
     ]
    },
    {
     "name": "stderr",
     "output_type": "stream",
     "text": [
      "Training Epoch 1002: 100%|██████████| 507/507 [00:09<00:00, 55.65it/s]\n",
      "Training Epoch 1003: 100%|██████████| 507/507 [00:08<00:00, 56.67it/s]\n",
      "Training Epoch 1004: 100%|██████████| 507/507 [00:09<00:00, 55.77it/s]\n",
      "Training Epoch 1005: 100%|██████████| 507/507 [00:08<00:00, 56.34it/s]\n",
      "Training Epoch 1006: 100%|██████████| 507/507 [00:09<00:00, 54.98it/s]\n",
      "Training Epoch 1007: 100%|██████████| 507/507 [00:09<00:00, 55.69it/s]\n",
      "Training Epoch 1008: 100%|██████████| 507/507 [00:08<00:00, 56.64it/s]\n",
      "Training Epoch 1009: 100%|██████████| 507/507 [00:08<00:00, 57.02it/s]\n",
      "Training Epoch 1010: 100%|██████████| 507/507 [00:07<00:00, 65.91it/s]\n",
      "Training Epoch 1011: 100%|██████████| 507/507 [00:07<00:00, 65.41it/s]\n"
     ]
    },
    {
     "name": "stdout",
     "output_type": "stream",
     "text": [
      "Epoch 1010 - Train Loss: 0.0540, Train MSE: 0.0540, Train MAE: 0.1683\n",
      "Epoch 1010 - Validation Loss: 1.3494, Validation MSE: 1.3529, Validation MAE: 0.8016\n"
     ]
    },
    {
     "name": "stderr",
     "output_type": "stream",
     "text": [
      "Training Epoch 1012: 100%|██████████| 507/507 [00:07<00:00, 65.08it/s]\n",
      "Training Epoch 1013: 100%|██████████| 507/507 [00:07<00:00, 64.83it/s]\n",
      "Training Epoch 1014: 100%|██████████| 507/507 [00:07<00:00, 67.33it/s]\n",
      "Training Epoch 1015: 100%|██████████| 507/507 [00:07<00:00, 65.08it/s]\n",
      "Training Epoch 1016: 100%|██████████| 507/507 [00:07<00:00, 66.64it/s]\n",
      "Training Epoch 1017: 100%|██████████| 507/507 [00:07<00:00, 63.53it/s]\n",
      "Training Epoch 1018: 100%|██████████| 507/507 [00:07<00:00, 65.68it/s]\n",
      "Training Epoch 1019: 100%|██████████| 507/507 [00:07<00:00, 66.13it/s]\n",
      "Training Epoch 1020: 100%|██████████| 507/507 [00:07<00:00, 65.57it/s]\n",
      "Training Epoch 1021: 100%|██████████| 507/507 [00:07<00:00, 64.81it/s]\n"
     ]
    },
    {
     "name": "stdout",
     "output_type": "stream",
     "text": [
      "Epoch 1020 - Train Loss: 0.0555, Train MSE: 0.0555, Train MAE: 0.1709\n",
      "Epoch 1020 - Validation Loss: 1.3654, Validation MSE: 1.3692, Validation MAE: 0.8071\n"
     ]
    },
    {
     "name": "stderr",
     "output_type": "stream",
     "text": [
      "Training Epoch 1022: 100%|██████████| 507/507 [00:07<00:00, 65.67it/s]\n",
      "Training Epoch 1023: 100%|██████████| 507/507 [00:07<00:00, 66.49it/s]\n",
      "Training Epoch 1024: 100%|██████████| 507/507 [00:07<00:00, 64.95it/s]\n",
      "Training Epoch 1025: 100%|██████████| 507/507 [00:07<00:00, 64.81it/s]\n",
      "Training Epoch 1026: 100%|██████████| 507/507 [00:07<00:00, 66.47it/s]\n",
      "Training Epoch 1027: 100%|██████████| 507/507 [00:07<00:00, 65.23it/s]\n",
      "Training Epoch 1028: 100%|██████████| 507/507 [00:07<00:00, 65.33it/s]\n",
      "Training Epoch 1029: 100%|██████████| 507/507 [00:07<00:00, 64.92it/s]\n",
      "Training Epoch 1030: 100%|██████████| 507/507 [00:07<00:00, 67.68it/s]\n",
      "Training Epoch 1031: 100%|██████████| 507/507 [00:07<00:00, 64.56it/s]\n"
     ]
    },
    {
     "name": "stdout",
     "output_type": "stream",
     "text": [
      "Epoch 1030 - Train Loss: 0.0530, Train MSE: 0.0531, Train MAE: 0.1680\n",
      "Epoch 1030 - Validation Loss: 1.3349, Validation MSE: 1.3385, Validation MAE: 0.8050\n"
     ]
    },
    {
     "name": "stderr",
     "output_type": "stream",
     "text": [
      "Training Epoch 1032: 100%|██████████| 507/507 [00:07<00:00, 65.85it/s]\n",
      "Training Epoch 1033: 100%|██████████| 507/507 [00:07<00:00, 65.34it/s]\n",
      "Training Epoch 1034: 100%|██████████| 507/507 [00:07<00:00, 65.87it/s]\n",
      "Training Epoch 1035: 100%|██████████| 507/507 [00:07<00:00, 64.85it/s]\n",
      "Training Epoch 1036: 100%|██████████| 507/507 [00:07<00:00, 65.99it/s]\n",
      "Training Epoch 1037: 100%|██████████| 507/507 [00:07<00:00, 64.36it/s]\n",
      "Training Epoch 1038: 100%|██████████| 507/507 [00:07<00:00, 65.40it/s]\n",
      "Training Epoch 1039: 100%|██████████| 507/507 [00:07<00:00, 64.25it/s]\n",
      "Training Epoch 1040: 100%|██████████| 507/507 [00:07<00:00, 66.71it/s]\n",
      "Training Epoch 1041: 100%|██████████| 507/507 [00:07<00:00, 65.51it/s]\n"
     ]
    },
    {
     "name": "stdout",
     "output_type": "stream",
     "text": [
      "Epoch 1040 - Train Loss: 0.0532, Train MSE: 0.0531, Train MAE: 0.1672\n",
      "Epoch 1040 - Validation Loss: 1.3358, Validation MSE: 1.3395, Validation MAE: 0.8004\n"
     ]
    },
    {
     "name": "stderr",
     "output_type": "stream",
     "text": [
      "Training Epoch 1042: 100%|██████████| 507/507 [00:07<00:00, 65.00it/s]\n",
      "Training Epoch 1043: 100%|██████████| 507/507 [00:07<00:00, 64.10it/s]\n",
      "Training Epoch 1044: 100%|██████████| 507/507 [00:07<00:00, 64.47it/s]\n",
      "Training Epoch 1045: 100%|██████████| 507/507 [00:07<00:00, 65.67it/s]\n",
      "Training Epoch 1046: 100%|██████████| 507/507 [00:07<00:00, 65.21it/s]\n",
      "Training Epoch 1047: 100%|██████████| 507/507 [00:07<00:00, 64.83it/s]\n",
      "Training Epoch 1048: 100%|██████████| 507/507 [00:07<00:00, 65.32it/s]\n",
      "Training Epoch 1049: 100%|██████████| 507/507 [00:07<00:00, 65.08it/s]\n",
      "Training Epoch 1050: 100%|██████████| 507/507 [00:08<00:00, 63.14it/s]\n",
      "Training Epoch 1051: 100%|██████████| 507/507 [00:07<00:00, 64.71it/s]\n"
     ]
    },
    {
     "name": "stdout",
     "output_type": "stream",
     "text": [
      "Epoch 1050 - Train Loss: 0.0589, Train MSE: 0.0590, Train MAE: 0.1767\n",
      "Epoch 1050 - Validation Loss: 1.3782, Validation MSE: 1.3819, Validation MAE: 0.8110\n"
     ]
    },
    {
     "name": "stderr",
     "output_type": "stream",
     "text": [
      "Training Epoch 1052: 100%|██████████| 507/507 [00:07<00:00, 64.10it/s]\n",
      "Training Epoch 1053: 100%|██████████| 507/507 [00:07<00:00, 63.77it/s]\n",
      "Training Epoch 1054: 100%|██████████| 507/507 [00:07<00:00, 64.56it/s]\n",
      "Training Epoch 1055: 100%|██████████| 507/507 [00:07<00:00, 63.39it/s]\n",
      "Training Epoch 1056: 100%|██████████| 507/507 [00:07<00:00, 63.96it/s]\n",
      "Training Epoch 1057: 100%|██████████| 507/507 [00:07<00:00, 65.08it/s]\n",
      "Training Epoch 1058: 100%|██████████| 507/507 [00:07<00:00, 64.01it/s]\n",
      "Training Epoch 1059: 100%|██████████| 507/507 [00:07<00:00, 64.21it/s]\n",
      "Training Epoch 1060: 100%|██████████| 507/507 [00:07<00:00, 64.04it/s]\n",
      "Training Epoch 1061: 100%|██████████| 507/507 [00:07<00:00, 64.60it/s]\n"
     ]
    },
    {
     "name": "stdout",
     "output_type": "stream",
     "text": [
      "Epoch 1060 - Train Loss: 0.0502, Train MSE: 0.0502, Train MAE: 0.1643\n",
      "Epoch 1060 - Validation Loss: 1.3530, Validation MSE: 1.3568, Validation MAE: 0.8058\n"
     ]
    },
    {
     "name": "stderr",
     "output_type": "stream",
     "text": [
      "Training Epoch 1062: 100%|██████████| 507/507 [00:07<00:00, 64.10it/s]\n",
      "Training Epoch 1063: 100%|██████████| 507/507 [00:07<00:00, 65.49it/s]\n",
      "Training Epoch 1064: 100%|██████████| 507/507 [00:07<00:00, 65.25it/s]\n",
      "Training Epoch 1065: 100%|██████████| 507/507 [00:07<00:00, 63.72it/s]\n",
      "Training Epoch 1066: 100%|██████████| 507/507 [00:07<00:00, 63.72it/s]\n",
      "Training Epoch 1067: 100%|██████████| 507/507 [00:07<00:00, 64.28it/s]\n",
      "Training Epoch 1068: 100%|██████████| 507/507 [00:07<00:00, 64.88it/s]\n",
      "Training Epoch 1069: 100%|██████████| 507/507 [00:07<00:00, 63.43it/s]\n",
      "Training Epoch 1070: 100%|██████████| 507/507 [00:07<00:00, 65.01it/s]\n",
      "Training Epoch 1071: 100%|██████████| 507/507 [00:07<00:00, 65.04it/s]\n"
     ]
    },
    {
     "name": "stdout",
     "output_type": "stream",
     "text": [
      "Epoch 1070 - Train Loss: 0.0729, Train MSE: 0.0729, Train MAE: 0.1872\n",
      "Epoch 1070 - Validation Loss: 1.3787, Validation MSE: 1.3823, Validation MAE: 0.8093\n"
     ]
    },
    {
     "name": "stderr",
     "output_type": "stream",
     "text": [
      "Training Epoch 1072: 100%|██████████| 507/507 [00:08<00:00, 63.23it/s]\n",
      "Training Epoch 1073: 100%|██████████| 507/507 [00:07<00:00, 64.95it/s]\n",
      "Training Epoch 1074: 100%|██████████| 507/507 [00:07<00:00, 63.62it/s]\n",
      "Training Epoch 1075: 100%|██████████| 507/507 [00:07<00:00, 63.86it/s]\n",
      "Training Epoch 1076: 100%|██████████| 507/507 [00:07<00:00, 64.53it/s]\n",
      "Training Epoch 1077: 100%|██████████| 507/507 [00:08<00:00, 63.31it/s]\n",
      "Training Epoch 1078: 100%|██████████| 507/507 [00:07<00:00, 64.40it/s]\n",
      "Training Epoch 1079: 100%|██████████| 507/507 [00:07<00:00, 64.02it/s]\n",
      "Training Epoch 1080: 100%|██████████| 507/507 [00:07<00:00, 64.88it/s]\n",
      "Training Epoch 1081: 100%|██████████| 507/507 [00:07<00:00, 64.05it/s]\n"
     ]
    },
    {
     "name": "stdout",
     "output_type": "stream",
     "text": [
      "Epoch 1080 - Train Loss: 0.0538, Train MSE: 0.0535, Train MAE: 0.1652\n",
      "Epoch 1080 - Validation Loss: 1.3744, Validation MSE: 1.3782, Validation MAE: 0.8115\n"
     ]
    },
    {
     "name": "stderr",
     "output_type": "stream",
     "text": [
      "Training Epoch 1082: 100%|██████████| 507/507 [00:07<00:00, 65.65it/s]\n",
      "Training Epoch 1083: 100%|██████████| 507/507 [00:07<00:00, 63.47it/s]\n",
      "Training Epoch 1084: 100%|██████████| 507/507 [00:07<00:00, 63.75it/s]\n",
      "Training Epoch 1085: 100%|██████████| 507/507 [00:07<00:00, 64.86it/s]\n",
      "Training Epoch 1086: 100%|██████████| 507/507 [00:07<00:00, 64.46it/s]\n",
      "Training Epoch 1087: 100%|██████████| 507/507 [00:07<00:00, 64.41it/s]\n",
      "Training Epoch 1088: 100%|██████████| 507/507 [00:07<00:00, 64.87it/s]\n",
      "Training Epoch 1089: 100%|██████████| 507/507 [00:07<00:00, 64.03it/s]\n",
      "Training Epoch 1090: 100%|██████████| 507/507 [00:07<00:00, 65.62it/s]\n",
      "Training Epoch 1091: 100%|██████████| 507/507 [00:07<00:00, 63.64it/s]\n"
     ]
    },
    {
     "name": "stdout",
     "output_type": "stream",
     "text": [
      "Epoch 1090 - Train Loss: 0.0589, Train MSE: 0.0589, Train MAE: 0.1732\n",
      "Epoch 1090 - Validation Loss: 1.3622, Validation MSE: 1.3656, Validation MAE: 0.8082\n"
     ]
    },
    {
     "name": "stderr",
     "output_type": "stream",
     "text": [
      "Training Epoch 1092: 100%|██████████| 507/507 [00:07<00:00, 64.59it/s]\n",
      "Training Epoch 1093: 100%|██████████| 507/507 [00:07<00:00, 64.92it/s]\n",
      "Training Epoch 1094: 100%|██████████| 507/507 [00:08<00:00, 63.27it/s]\n",
      "Training Epoch 1095: 100%|██████████| 507/507 [00:07<00:00, 64.16it/s]\n",
      "Training Epoch 1096: 100%|██████████| 507/507 [00:07<00:00, 65.00it/s]\n",
      "Training Epoch 1097: 100%|██████████| 507/507 [00:07<00:00, 65.18it/s]\n",
      "Training Epoch 1098: 100%|██████████| 507/507 [00:07<00:00, 64.36it/s]\n",
      "Training Epoch 1099: 100%|██████████| 507/507 [00:07<00:00, 64.11it/s]\n",
      "Training Epoch 1100: 100%|██████████| 507/507 [00:07<00:00, 63.83it/s]\n",
      "Training Epoch 1101: 100%|██████████| 507/507 [00:07<00:00, 63.81it/s]\n"
     ]
    },
    {
     "name": "stdout",
     "output_type": "stream",
     "text": [
      "Epoch 1100 - Train Loss: 0.0516, Train MSE: 0.0516, Train MAE: 0.1659\n",
      "Epoch 1100 - Validation Loss: 1.3786, Validation MSE: 1.3823, Validation MAE: 0.8154\n"
     ]
    },
    {
     "name": "stderr",
     "output_type": "stream",
     "text": [
      "Training Epoch 1102: 100%|██████████| 507/507 [00:07<00:00, 65.11it/s]\n",
      "Training Epoch 1103: 100%|██████████| 507/507 [00:08<00:00, 63.15it/s]\n",
      "Training Epoch 1104: 100%|██████████| 507/507 [00:07<00:00, 64.66it/s]\n",
      "Training Epoch 1105: 100%|██████████| 507/507 [00:08<00:00, 63.28it/s]\n",
      "Training Epoch 1106: 100%|██████████| 507/507 [00:07<00:00, 65.36it/s]\n",
      "Training Epoch 1107: 100%|██████████| 507/507 [00:07<00:00, 64.63it/s]\n",
      "Training Epoch 1108: 100%|██████████| 507/507 [00:07<00:00, 64.57it/s]\n",
      "Training Epoch 1109: 100%|██████████| 507/507 [00:07<00:00, 63.86it/s]\n",
      "Training Epoch 1110: 100%|██████████| 507/507 [00:07<00:00, 64.64it/s]\n",
      "Training Epoch 1111: 100%|██████████| 507/507 [00:07<00:00, 64.32it/s]\n"
     ]
    },
    {
     "name": "stdout",
     "output_type": "stream",
     "text": [
      "Epoch 1110 - Train Loss: 0.0541, Train MSE: 0.0541, Train MAE: 0.1683\n",
      "Epoch 1110 - Validation Loss: 1.3604, Validation MSE: 1.3644, Validation MAE: 0.8080\n"
     ]
    },
    {
     "name": "stderr",
     "output_type": "stream",
     "text": [
      "Training Epoch 1112: 100%|██████████| 507/507 [00:08<00:00, 63.29it/s]\n",
      "Training Epoch 1113: 100%|██████████| 507/507 [00:07<00:00, 63.74it/s]\n",
      "Training Epoch 1114: 100%|██████████| 507/507 [00:07<00:00, 64.55it/s]\n",
      "Training Epoch 1115: 100%|██████████| 507/507 [00:07<00:00, 66.55it/s]\n",
      "Training Epoch 1116: 100%|██████████| 507/507 [00:07<00:00, 64.96it/s]\n",
      "Training Epoch 1117: 100%|██████████| 507/507 [00:07<00:00, 65.72it/s]\n",
      "Training Epoch 1118: 100%|██████████| 507/507 [00:07<00:00, 66.29it/s]\n",
      "Training Epoch 1119: 100%|██████████| 507/507 [00:07<00:00, 64.05it/s]\n",
      "Training Epoch 1120: 100%|██████████| 507/507 [00:07<00:00, 64.89it/s]\n",
      "Training Epoch 1121: 100%|██████████| 507/507 [00:07<00:00, 65.41it/s]\n"
     ]
    },
    {
     "name": "stdout",
     "output_type": "stream",
     "text": [
      "Epoch 1120 - Train Loss: 0.0459, Train MSE: 0.0459, Train MAE: 0.1572\n",
      "Epoch 1120 - Validation Loss: 1.3637, Validation MSE: 1.3673, Validation MAE: 0.8070\n"
     ]
    },
    {
     "name": "stderr",
     "output_type": "stream",
     "text": [
      "Training Epoch 1122: 100%|██████████| 507/507 [00:07<00:00, 64.74it/s]\n",
      "Training Epoch 1123: 100%|██████████| 507/507 [00:07<00:00, 64.26it/s]\n",
      "Training Epoch 1124: 100%|██████████| 507/507 [00:07<00:00, 64.40it/s]\n",
      "Training Epoch 1125: 100%|██████████| 507/507 [00:07<00:00, 65.25it/s]\n",
      "Training Epoch 1126: 100%|██████████| 507/507 [00:07<00:00, 63.83it/s]\n",
      "Training Epoch 1127: 100%|██████████| 507/507 [00:07<00:00, 64.31it/s]\n",
      "Training Epoch 1128: 100%|██████████| 507/507 [00:07<00:00, 64.86it/s]\n",
      "Training Epoch 1129: 100%|██████████| 507/507 [00:07<00:00, 65.17it/s]\n",
      "Training Epoch 1130: 100%|██████████| 507/507 [00:07<00:00, 64.13it/s]\n",
      "Training Epoch 1131: 100%|██████████| 507/507 [00:07<00:00, 64.04it/s]\n"
     ]
    },
    {
     "name": "stdout",
     "output_type": "stream",
     "text": [
      "Epoch 1130 - Train Loss: 0.0543, Train MSE: 0.0543, Train MAE: 0.1680\n",
      "Epoch 1130 - Validation Loss: 1.3725, Validation MSE: 1.3766, Validation MAE: 0.8119\n"
     ]
    },
    {
     "name": "stderr",
     "output_type": "stream",
     "text": [
      "Training Epoch 1132: 100%|██████████| 507/507 [00:07<00:00, 64.03it/s]\n",
      "Training Epoch 1133: 100%|██████████| 507/507 [00:07<00:00, 65.43it/s]\n",
      "Training Epoch 1134: 100%|██████████| 507/507 [00:07<00:00, 64.29it/s]\n",
      "Training Epoch 1135: 100%|██████████| 507/507 [00:07<00:00, 65.49it/s]\n",
      "Training Epoch 1136: 100%|██████████| 507/507 [00:08<00:00, 62.99it/s]\n",
      "Training Epoch 1137: 100%|██████████| 507/507 [00:07<00:00, 63.85it/s]\n",
      "Training Epoch 1138: 100%|██████████| 507/507 [00:08<00:00, 62.92it/s]\n",
      "Training Epoch 1139: 100%|██████████| 507/507 [00:07<00:00, 64.90it/s]\n",
      "Training Epoch 1140: 100%|██████████| 507/507 [00:07<00:00, 65.12it/s]\n",
      "Training Epoch 1141: 100%|██████████| 507/507 [00:07<00:00, 65.10it/s]\n"
     ]
    },
    {
     "name": "stdout",
     "output_type": "stream",
     "text": [
      "Epoch 1140 - Train Loss: 0.0551, Train MSE: 0.0551, Train MAE: 0.1672\n",
      "Epoch 1140 - Validation Loss: 1.3731, Validation MSE: 1.3764, Validation MAE: 0.8208\n"
     ]
    },
    {
     "name": "stderr",
     "output_type": "stream",
     "text": [
      "Training Epoch 1142: 100%|██████████| 507/507 [00:07<00:00, 64.46it/s]\n",
      "Training Epoch 1143: 100%|██████████| 507/507 [00:07<00:00, 64.89it/s]\n",
      "Training Epoch 1144: 100%|██████████| 507/507 [00:07<00:00, 64.03it/s]\n",
      "Training Epoch 1145: 100%|██████████| 507/507 [00:07<00:00, 63.87it/s]\n",
      "Training Epoch 1146: 100%|██████████| 507/507 [00:07<00:00, 65.46it/s]\n",
      "Training Epoch 1147: 100%|██████████| 507/507 [00:07<00:00, 64.75it/s]\n",
      "Training Epoch 1148: 100%|██████████| 507/507 [00:07<00:00, 64.90it/s]\n",
      "Training Epoch 1149: 100%|██████████| 507/507 [00:08<00:00, 63.27it/s]\n",
      "Training Epoch 1150: 100%|██████████| 507/507 [00:07<00:00, 64.88it/s]\n",
      "Training Epoch 1151: 100%|██████████| 507/507 [00:07<00:00, 64.19it/s]\n"
     ]
    },
    {
     "name": "stdout",
     "output_type": "stream",
     "text": [
      "Epoch 1150 - Train Loss: 0.0467, Train MSE: 0.0467, Train MAE: 0.1598\n",
      "Epoch 1150 - Validation Loss: 1.3560, Validation MSE: 1.3593, Validation MAE: 0.8081\n"
     ]
    },
    {
     "name": "stderr",
     "output_type": "stream",
     "text": [
      "Training Epoch 1152: 100%|██████████| 507/507 [00:07<00:00, 64.06it/s]\n",
      "Training Epoch 1153: 100%|██████████| 507/507 [00:07<00:00, 63.40it/s]\n",
      "Training Epoch 1154: 100%|██████████| 507/507 [00:07<00:00, 64.33it/s]\n",
      "Training Epoch 1155: 100%|██████████| 507/507 [00:07<00:00, 64.22it/s]\n",
      "Training Epoch 1156: 100%|██████████| 507/507 [00:07<00:00, 64.60it/s]\n",
      "Training Epoch 1157: 100%|██████████| 507/507 [00:07<00:00, 63.57it/s]\n",
      "Training Epoch 1158: 100%|██████████| 507/507 [00:07<00:00, 66.06it/s]\n",
      "Training Epoch 1159: 100%|██████████| 507/507 [00:07<00:00, 64.37it/s]\n",
      "Training Epoch 1160: 100%|██████████| 507/507 [00:07<00:00, 63.69it/s]\n",
      "Training Epoch 1161: 100%|██████████| 507/507 [00:08<00:00, 63.35it/s]\n"
     ]
    },
    {
     "name": "stdout",
     "output_type": "stream",
     "text": [
      "Epoch 1160 - Train Loss: 0.0576, Train MSE: 0.0577, Train MAE: 0.1730\n",
      "Epoch 1160 - Validation Loss: 1.3797, Validation MSE: 1.3833, Validation MAE: 0.8155\n"
     ]
    },
    {
     "name": "stderr",
     "output_type": "stream",
     "text": [
      "Training Epoch 1162: 100%|██████████| 507/507 [00:07<00:00, 66.25it/s]\n",
      "Training Epoch 1163: 100%|██████████| 507/507 [00:07<00:00, 63.55it/s]\n",
      "Training Epoch 1164: 100%|██████████| 507/507 [00:07<00:00, 66.04it/s]\n",
      "Training Epoch 1165: 100%|██████████| 507/507 [00:07<00:00, 65.84it/s]\n",
      "Training Epoch 1166: 100%|██████████| 507/507 [00:07<00:00, 64.40it/s]\n",
      "Training Epoch 1167: 100%|██████████| 507/507 [00:07<00:00, 64.96it/s]\n",
      "Training Epoch 1168: 100%|██████████| 507/507 [00:07<00:00, 65.13it/s]\n",
      "Training Epoch 1169: 100%|██████████| 507/507 [00:07<00:00, 63.90it/s]\n",
      "Training Epoch 1170: 100%|██████████| 507/507 [00:07<00:00, 65.16it/s]\n",
      "Training Epoch 1171: 100%|██████████| 507/507 [00:07<00:00, 64.11it/s]\n"
     ]
    },
    {
     "name": "stdout",
     "output_type": "stream",
     "text": [
      "Epoch 1170 - Train Loss: 0.0488, Train MSE: 0.0488, Train MAE: 0.1617\n",
      "Epoch 1170 - Validation Loss: 1.3414, Validation MSE: 1.3452, Validation MAE: 0.8016\n"
     ]
    },
    {
     "name": "stderr",
     "output_type": "stream",
     "text": [
      "Training Epoch 1172: 100%|██████████| 507/507 [00:07<00:00, 64.87it/s]\n",
      "Training Epoch 1173: 100%|██████████| 507/507 [00:07<00:00, 65.39it/s]\n",
      "Training Epoch 1174: 100%|██████████| 507/507 [00:07<00:00, 66.22it/s]\n",
      "Training Epoch 1175: 100%|██████████| 507/507 [00:07<00:00, 65.30it/s]\n",
      "Training Epoch 1176: 100%|██████████| 507/507 [00:07<00:00, 65.18it/s]\n",
      "Training Epoch 1177: 100%|██████████| 507/507 [00:07<00:00, 65.02it/s]\n",
      "Training Epoch 1178: 100%|██████████| 507/507 [00:07<00:00, 65.42it/s]\n",
      "Training Epoch 1179: 100%|██████████| 507/507 [00:07<00:00, 65.35it/s]\n",
      "Training Epoch 1180: 100%|██████████| 507/507 [00:07<00:00, 65.43it/s]\n",
      "Training Epoch 1181: 100%|██████████| 507/507 [00:07<00:00, 64.52it/s]\n"
     ]
    },
    {
     "name": "stdout",
     "output_type": "stream",
     "text": [
      "Epoch 1180 - Train Loss: 0.0503, Train MSE: 0.0503, Train MAE: 0.1627\n",
      "Epoch 1180 - Validation Loss: 1.3826, Validation MSE: 1.3862, Validation MAE: 0.8208\n"
     ]
    },
    {
     "name": "stderr",
     "output_type": "stream",
     "text": [
      "Training Epoch 1182: 100%|██████████| 507/507 [00:07<00:00, 65.77it/s]\n",
      "Training Epoch 1183: 100%|██████████| 507/507 [00:07<00:00, 64.42it/s]\n",
      "Training Epoch 1184: 100%|██████████| 507/507 [00:07<00:00, 66.63it/s]\n",
      "Training Epoch 1185: 100%|██████████| 507/507 [00:07<00:00, 64.99it/s]\n",
      "Training Epoch 1186: 100%|██████████| 507/507 [00:07<00:00, 65.68it/s]\n",
      "Training Epoch 1187: 100%|██████████| 507/507 [00:07<00:00, 65.12it/s]\n",
      "Training Epoch 1188: 100%|██████████| 507/507 [00:07<00:00, 64.94it/s]\n",
      "Training Epoch 1189: 100%|██████████| 507/507 [00:07<00:00, 65.48it/s]\n",
      "Training Epoch 1190: 100%|██████████| 507/507 [00:07<00:00, 64.55it/s]\n",
      "Training Epoch 1191: 100%|██████████| 507/507 [00:07<00:00, 64.48it/s]\n"
     ]
    },
    {
     "name": "stdout",
     "output_type": "stream",
     "text": [
      "Epoch 1190 - Train Loss: 0.0711, Train MSE: 0.0711, Train MAE: 0.1770\n",
      "Epoch 1190 - Validation Loss: 1.3526, Validation MSE: 1.3563, Validation MAE: 0.8081\n"
     ]
    },
    {
     "name": "stderr",
     "output_type": "stream",
     "text": [
      "Training Epoch 1192: 100%|██████████| 507/507 [00:07<00:00, 65.46it/s]\n",
      "Training Epoch 1193: 100%|██████████| 507/507 [00:07<00:00, 65.56it/s]\n",
      "Training Epoch 1194: 100%|██████████| 507/507 [00:07<00:00, 65.17it/s]\n",
      "Training Epoch 1195: 100%|██████████| 507/507 [00:07<00:00, 65.74it/s]\n",
      "Training Epoch 1196: 100%|██████████| 507/507 [00:07<00:00, 65.21it/s]\n",
      "Training Epoch 1197: 100%|██████████| 507/507 [00:07<00:00, 65.78it/s]\n",
      "Training Epoch 1198: 100%|██████████| 507/507 [00:07<00:00, 65.98it/s]\n",
      "Training Epoch 1199: 100%|██████████| 507/507 [00:07<00:00, 66.78it/s]\n",
      "Training Epoch 1200: 100%|██████████| 507/507 [00:07<00:00, 64.87it/s]\n",
      "Training Epoch 1201: 100%|██████████| 507/507 [00:07<00:00, 64.88it/s]\n"
     ]
    },
    {
     "name": "stdout",
     "output_type": "stream",
     "text": [
      "Epoch 1200 - Train Loss: 0.0489, Train MSE: 0.0489, Train MAE: 0.1595\n",
      "Epoch 1200 - Validation Loss: 1.3487, Validation MSE: 1.3522, Validation MAE: 0.8048\n"
     ]
    },
    {
     "name": "stderr",
     "output_type": "stream",
     "text": [
      "Training Epoch 1202: 100%|██████████| 507/507 [00:07<00:00, 65.63it/s]\n",
      "Training Epoch 1203: 100%|██████████| 507/507 [00:07<00:00, 65.05it/s]\n",
      "Training Epoch 1204: 100%|██████████| 507/507 [00:07<00:00, 64.35it/s]\n",
      "Training Epoch 1205: 100%|██████████| 507/507 [00:07<00:00, 65.17it/s]\n",
      "Training Epoch 1206: 100%|██████████| 507/507 [00:07<00:00, 64.84it/s]\n",
      "Training Epoch 1207: 100%|██████████| 507/507 [00:07<00:00, 65.80it/s]\n",
      "Training Epoch 1208: 100%|██████████| 507/507 [00:07<00:00, 65.15it/s]\n",
      "Training Epoch 1209: 100%|██████████| 507/507 [00:07<00:00, 65.42it/s]\n",
      "Training Epoch 1210: 100%|██████████| 507/507 [00:07<00:00, 64.10it/s]\n",
      "Training Epoch 1211: 100%|██████████| 507/507 [00:07<00:00, 65.88it/s]\n"
     ]
    },
    {
     "name": "stdout",
     "output_type": "stream",
     "text": [
      "Epoch 1210 - Train Loss: 0.0495, Train MSE: 0.0496, Train MAE: 0.1642\n",
      "Epoch 1210 - Validation Loss: 1.3588, Validation MSE: 1.3628, Validation MAE: 0.8076\n"
     ]
    },
    {
     "name": "stderr",
     "output_type": "stream",
     "text": [
      "Training Epoch 1212: 100%|██████████| 507/507 [00:07<00:00, 65.15it/s]\n",
      "Training Epoch 1213: 100%|██████████| 507/507 [00:07<00:00, 65.72it/s]\n",
      "Training Epoch 1214: 100%|██████████| 507/507 [00:07<00:00, 64.97it/s]\n",
      "Training Epoch 1215: 100%|██████████| 507/507 [00:07<00:00, 66.41it/s]\n",
      "Training Epoch 1216: 100%|██████████| 507/507 [00:07<00:00, 65.04it/s]\n",
      "Training Epoch 1217: 100%|██████████| 507/507 [00:07<00:00, 65.94it/s]\n",
      "Training Epoch 1218: 100%|██████████| 507/507 [00:07<00:00, 64.12it/s]\n",
      "Training Epoch 1219: 100%|██████████| 507/507 [00:07<00:00, 65.43it/s]\n",
      "Training Epoch 1220: 100%|██████████| 507/507 [00:07<00:00, 64.69it/s]\n",
      "Training Epoch 1221: 100%|██████████| 507/507 [00:07<00:00, 64.83it/s]\n"
     ]
    },
    {
     "name": "stdout",
     "output_type": "stream",
     "text": [
      "Epoch 1220 - Train Loss: 0.0518, Train MSE: 0.0518, Train MAE: 0.1635\n",
      "Epoch 1220 - Validation Loss: 1.3807, Validation MSE: 1.3839, Validation MAE: 0.8123\n"
     ]
    },
    {
     "name": "stderr",
     "output_type": "stream",
     "text": [
      "Training Epoch 1222: 100%|██████████| 507/507 [00:07<00:00, 64.88it/s]\n",
      "Training Epoch 1223: 100%|██████████| 507/507 [00:07<00:00, 66.10it/s]\n",
      "Training Epoch 1224: 100%|██████████| 507/507 [00:07<00:00, 64.18it/s]\n",
      "Training Epoch 1225: 100%|██████████| 507/507 [00:07<00:00, 64.94it/s]\n",
      "Training Epoch 1226: 100%|██████████| 507/507 [00:07<00:00, 65.03it/s]\n",
      "Training Epoch 1227: 100%|██████████| 507/507 [00:07<00:00, 65.51it/s]\n",
      "Training Epoch 1228: 100%|██████████| 507/507 [00:07<00:00, 65.50it/s]\n",
      "Training Epoch 1229: 100%|██████████| 507/507 [00:07<00:00, 65.84it/s]\n",
      "Training Epoch 1230: 100%|██████████| 507/507 [00:07<00:00, 65.36it/s]\n",
      "Training Epoch 1231: 100%|██████████| 507/507 [00:07<00:00, 66.35it/s]\n"
     ]
    },
    {
     "name": "stdout",
     "output_type": "stream",
     "text": [
      "Epoch 1230 - Train Loss: 0.0456, Train MSE: 0.0457, Train MAE: 0.1561\n",
      "Epoch 1230 - Validation Loss: 1.3605, Validation MSE: 1.3641, Validation MAE: 0.8084\n"
     ]
    },
    {
     "name": "stderr",
     "output_type": "stream",
     "text": [
      "Training Epoch 1232: 100%|██████████| 507/507 [00:07<00:00, 66.15it/s]\n",
      "Training Epoch 1233: 100%|██████████| 507/507 [00:07<00:00, 64.71it/s]\n",
      "Training Epoch 1234: 100%|██████████| 507/507 [00:07<00:00, 65.83it/s]\n",
      "Training Epoch 1235: 100%|██████████| 507/507 [00:07<00:00, 65.58it/s]\n",
      "Training Epoch 1236: 100%|██████████| 507/507 [00:07<00:00, 65.70it/s]\n",
      "Training Epoch 1237: 100%|██████████| 507/507 [00:07<00:00, 65.77it/s]\n",
      "Training Epoch 1238: 100%|██████████| 507/507 [00:07<00:00, 66.15it/s]\n",
      "Training Epoch 1239: 100%|██████████| 507/507 [00:07<00:00, 65.33it/s]\n",
      "Training Epoch 1240: 100%|██████████| 507/507 [00:07<00:00, 65.33it/s]\n",
      "Training Epoch 1241: 100%|██████████| 507/507 [00:07<00:00, 65.15it/s]\n"
     ]
    },
    {
     "name": "stdout",
     "output_type": "stream",
     "text": [
      "Epoch 1240 - Train Loss: 0.0470, Train MSE: 0.0469, Train MAE: 0.1585\n",
      "Epoch 1240 - Validation Loss: 1.3598, Validation MSE: 1.3636, Validation MAE: 0.8065\n"
     ]
    },
    {
     "name": "stderr",
     "output_type": "stream",
     "text": [
      "Training Epoch 1242: 100%|██████████| 507/507 [00:07<00:00, 63.78it/s]\n",
      "Training Epoch 1243: 100%|██████████| 507/507 [00:07<00:00, 65.75it/s]\n",
      "Training Epoch 1244: 100%|██████████| 507/507 [00:07<00:00, 64.35it/s]\n",
      "Training Epoch 1245: 100%|██████████| 507/507 [00:07<00:00, 66.02it/s]\n",
      "Training Epoch 1246: 100%|██████████| 507/507 [00:07<00:00, 65.28it/s]\n",
      "Training Epoch 1247: 100%|██████████| 507/507 [00:07<00:00, 64.86it/s]\n",
      "Training Epoch 1248: 100%|██████████| 507/507 [00:07<00:00, 65.57it/s]\n",
      "Training Epoch 1249: 100%|██████████| 507/507 [00:07<00:00, 64.75it/s]\n",
      "Training Epoch 1250: 100%|██████████| 507/507 [00:07<00:00, 65.60it/s]\n",
      "Training Epoch 1251: 100%|██████████| 507/507 [00:07<00:00, 65.22it/s]\n"
     ]
    },
    {
     "name": "stdout",
     "output_type": "stream",
     "text": [
      "Epoch 1250 - Train Loss: 0.0433, Train MSE: 0.0433, Train MAE: 0.1532\n",
      "Epoch 1250 - Validation Loss: 1.3696, Validation MSE: 1.3732, Validation MAE: 0.8072\n"
     ]
    },
    {
     "name": "stderr",
     "output_type": "stream",
     "text": [
      "Training Epoch 1252: 100%|██████████| 507/507 [00:07<00:00, 65.63it/s]\n",
      "Training Epoch 1253: 100%|██████████| 507/507 [00:07<00:00, 64.76it/s]\n",
      "Training Epoch 1254: 100%|██████████| 507/507 [00:07<00:00, 65.53it/s]\n",
      "Training Epoch 1255: 100%|██████████| 507/507 [00:07<00:00, 63.52it/s]\n",
      "Training Epoch 1256: 100%|██████████| 507/507 [00:07<00:00, 66.59it/s]\n",
      "Training Epoch 1257: 100%|██████████| 507/507 [00:07<00:00, 64.23it/s]\n",
      "Training Epoch 1258: 100%|██████████| 507/507 [00:07<00:00, 66.05it/s]\n",
      "Training Epoch 1259: 100%|██████████| 507/507 [00:07<00:00, 64.40it/s]\n",
      "Training Epoch 1260: 100%|██████████| 507/507 [00:07<00:00, 65.15it/s]\n",
      "Training Epoch 1261: 100%|██████████| 507/507 [00:07<00:00, 64.97it/s]\n"
     ]
    },
    {
     "name": "stdout",
     "output_type": "stream",
     "text": [
      "Epoch 1260 - Train Loss: 0.0427, Train MSE: 0.0427, Train MAE: 0.1534\n",
      "Epoch 1260 - Validation Loss: 1.3839, Validation MSE: 1.3877, Validation MAE: 0.8142\n"
     ]
    },
    {
     "name": "stderr",
     "output_type": "stream",
     "text": [
      "Training Epoch 1262: 100%|██████████| 507/507 [00:07<00:00, 63.52it/s]\n",
      "Training Epoch 1263: 100%|██████████| 507/507 [00:08<00:00, 61.85it/s]\n",
      "Training Epoch 1264: 100%|██████████| 507/507 [00:08<00:00, 63.37it/s]\n",
      "Training Epoch 1265: 100%|██████████| 507/507 [00:08<00:00, 63.25it/s]\n",
      "Training Epoch 1266: 100%|██████████| 507/507 [00:08<00:00, 63.08it/s]\n",
      "Training Epoch 1267: 100%|██████████| 507/507 [00:08<00:00, 63.04it/s]\n",
      "Training Epoch 1268: 100%|██████████| 507/507 [00:07<00:00, 63.42it/s]\n",
      "Training Epoch 1269: 100%|██████████| 507/507 [00:08<00:00, 62.85it/s]\n",
      "Training Epoch 1270: 100%|██████████| 507/507 [00:07<00:00, 63.70it/s]\n",
      "Training Epoch 1271: 100%|██████████| 507/507 [00:07<00:00, 63.47it/s]\n"
     ]
    },
    {
     "name": "stdout",
     "output_type": "stream",
     "text": [
      "Epoch 1270 - Train Loss: 0.0434, Train MSE: 0.0434, Train MAE: 0.1530\n",
      "Epoch 1270 - Validation Loss: 1.3768, Validation MSE: 1.3806, Validation MAE: 0.8113\n"
     ]
    },
    {
     "name": "stderr",
     "output_type": "stream",
     "text": [
      "Training Epoch 1272: 100%|██████████| 507/507 [00:08<00:00, 63.36it/s]\n",
      "Training Epoch 1273: 100%|██████████| 507/507 [00:07<00:00, 64.38it/s]\n",
      "Training Epoch 1274: 100%|██████████| 507/507 [00:07<00:00, 64.21it/s]\n",
      "Training Epoch 1275: 100%|██████████| 507/507 [00:07<00:00, 64.47it/s]\n",
      "Training Epoch 1276: 100%|██████████| 507/507 [00:08<00:00, 63.36it/s]\n",
      "Training Epoch 1277: 100%|██████████| 507/507 [00:07<00:00, 63.99it/s]\n",
      "Training Epoch 1278: 100%|██████████| 507/507 [00:08<00:00, 63.29it/s]\n",
      "Training Epoch 1279: 100%|██████████| 507/507 [00:07<00:00, 64.62it/s]\n",
      "Training Epoch 1280: 100%|██████████| 507/507 [00:08<00:00, 62.88it/s]\n",
      "Training Epoch 1281: 100%|██████████| 507/507 [00:07<00:00, 63.93it/s]\n"
     ]
    },
    {
     "name": "stdout",
     "output_type": "stream",
     "text": [
      "Epoch 1280 - Train Loss: 0.0444, Train MSE: 0.0443, Train MAE: 0.1542\n",
      "Epoch 1280 - Validation Loss: 1.3616, Validation MSE: 1.3656, Validation MAE: 0.8074\n"
     ]
    },
    {
     "name": "stderr",
     "output_type": "stream",
     "text": [
      "Training Epoch 1282: 100%|██████████| 507/507 [00:08<00:00, 63.03it/s]\n",
      "Training Epoch 1283: 100%|██████████| 507/507 [00:07<00:00, 64.26it/s]\n",
      "Training Epoch 1284: 100%|██████████| 507/507 [00:08<00:00, 62.88it/s]\n",
      "Training Epoch 1285: 100%|██████████| 507/507 [00:07<00:00, 64.52it/s]\n",
      "Training Epoch 1286: 100%|██████████| 507/507 [00:08<00:00, 62.66it/s]\n",
      "Training Epoch 1287: 100%|██████████| 507/507 [00:07<00:00, 64.59it/s]\n",
      "Training Epoch 1288: 100%|██████████| 507/507 [00:08<00:00, 62.63it/s]\n",
      "Training Epoch 1289: 100%|██████████| 507/507 [00:07<00:00, 64.35it/s]\n",
      "Training Epoch 1290: 100%|██████████| 507/507 [00:07<00:00, 64.01it/s]\n",
      "Training Epoch 1291: 100%|██████████| 507/507 [00:07<00:00, 64.05it/s]\n"
     ]
    },
    {
     "name": "stdout",
     "output_type": "stream",
     "text": [
      "Epoch 1290 - Train Loss: 0.0496, Train MSE: 0.0496, Train MAE: 0.1603\n",
      "Epoch 1290 - Validation Loss: 1.3532, Validation MSE: 1.3569, Validation MAE: 0.8110\n"
     ]
    },
    {
     "name": "stderr",
     "output_type": "stream",
     "text": [
      "Training Epoch 1292: 100%|██████████| 507/507 [00:08<00:00, 63.34it/s]\n",
      "Training Epoch 1293: 100%|██████████| 507/507 [00:07<00:00, 64.30it/s]\n",
      "Training Epoch 1294: 100%|██████████| 507/507 [00:07<00:00, 63.90it/s]\n",
      "Training Epoch 1295: 100%|██████████| 507/507 [00:07<00:00, 63.80it/s]\n",
      "Training Epoch 1296: 100%|██████████| 507/507 [00:07<00:00, 63.52it/s]\n",
      "Training Epoch 1297: 100%|██████████| 507/507 [00:07<00:00, 63.58it/s]\n",
      "Training Epoch 1298: 100%|██████████| 507/507 [00:08<00:00, 62.66it/s]\n",
      "Training Epoch 1299: 100%|██████████| 507/507 [00:07<00:00, 66.18it/s]\n",
      "Training Epoch 1300: 100%|██████████| 507/507 [00:07<00:00, 64.04it/s]\n",
      "Training Epoch 1301: 100%|██████████| 507/507 [00:07<00:00, 63.90it/s]\n"
     ]
    },
    {
     "name": "stdout",
     "output_type": "stream",
     "text": [
      "Epoch 1300 - Train Loss: 0.0452, Train MSE: 0.0452, Train MAE: 0.1523\n",
      "Epoch 1300 - Validation Loss: 1.3549, Validation MSE: 1.3587, Validation MAE: 0.8068\n"
     ]
    },
    {
     "name": "stderr",
     "output_type": "stream",
     "text": [
      "Training Epoch 1302: 100%|██████████| 507/507 [00:07<00:00, 64.33it/s]\n",
      "Training Epoch 1303: 100%|██████████| 507/507 [00:07<00:00, 63.67it/s]\n",
      "Training Epoch 1304: 100%|██████████| 507/507 [00:07<00:00, 63.75it/s]\n",
      "Training Epoch 1305: 100%|██████████| 507/507 [00:07<00:00, 64.12it/s]\n",
      "Training Epoch 1306: 100%|██████████| 507/507 [00:07<00:00, 64.14it/s]\n",
      "Training Epoch 1307: 100%|██████████| 507/507 [00:08<00:00, 62.85it/s]\n",
      "Training Epoch 1308: 100%|██████████| 507/507 [00:07<00:00, 64.34it/s]\n",
      "Training Epoch 1309: 100%|██████████| 507/507 [00:07<00:00, 64.20it/s]\n",
      "Training Epoch 1310: 100%|██████████| 507/507 [00:08<00:00, 62.76it/s]\n",
      "Training Epoch 1311: 100%|██████████| 507/507 [00:07<00:00, 63.83it/s]\n"
     ]
    },
    {
     "name": "stdout",
     "output_type": "stream",
     "text": [
      "Epoch 1310 - Train Loss: 0.0468, Train MSE: 0.0468, Train MAE: 0.1574\n",
      "Epoch 1310 - Validation Loss: 1.3962, Validation MSE: 1.3996, Validation MAE: 0.8198\n"
     ]
    },
    {
     "name": "stderr",
     "output_type": "stream",
     "text": [
      "Training Epoch 1312: 100%|██████████| 507/507 [00:07<00:00, 63.58it/s]\n",
      "Training Epoch 1313: 100%|██████████| 507/507 [00:08<00:00, 61.85it/s]\n",
      "Training Epoch 1314: 100%|██████████| 507/507 [00:07<00:00, 64.00it/s]\n",
      "Training Epoch 1315: 100%|██████████| 507/507 [00:08<00:00, 62.97it/s]\n",
      "Training Epoch 1316: 100%|██████████| 507/507 [00:07<00:00, 63.56it/s]\n",
      "Training Epoch 1317: 100%|██████████| 507/507 [00:07<00:00, 63.40it/s]\n",
      "Training Epoch 1318: 100%|██████████| 507/507 [00:07<00:00, 64.14it/s]\n",
      "Training Epoch 1319: 100%|██████████| 507/507 [00:08<00:00, 63.11it/s]\n",
      "Training Epoch 1320: 100%|██████████| 507/507 [00:07<00:00, 63.75it/s]\n",
      "Training Epoch 1321: 100%|██████████| 507/507 [00:07<00:00, 63.95it/s]\n"
     ]
    },
    {
     "name": "stdout",
     "output_type": "stream",
     "text": [
      "Epoch 1320 - Train Loss: 0.0427, Train MSE: 0.0427, Train MAE: 0.1520\n",
      "Epoch 1320 - Validation Loss: 1.3676, Validation MSE: 1.3711, Validation MAE: 0.8092\n"
     ]
    },
    {
     "name": "stderr",
     "output_type": "stream",
     "text": [
      "Training Epoch 1322: 100%|██████████| 507/507 [00:07<00:00, 64.03it/s]\n",
      "Training Epoch 1323: 100%|██████████| 507/507 [00:07<00:00, 63.83it/s]\n",
      "Training Epoch 1324: 100%|██████████| 507/507 [00:08<00:00, 63.34it/s]\n",
      "Training Epoch 1325: 100%|██████████| 507/507 [00:07<00:00, 64.14it/s]\n",
      "Training Epoch 1326: 100%|██████████| 507/507 [00:07<00:00, 64.04it/s]\n",
      "Training Epoch 1327: 100%|██████████| 507/507 [00:07<00:00, 64.80it/s]\n",
      "Training Epoch 1328: 100%|██████████| 507/507 [00:08<00:00, 61.95it/s]\n",
      "Training Epoch 1329: 100%|██████████| 507/507 [00:07<00:00, 63.95it/s]\n",
      "Training Epoch 1330: 100%|██████████| 507/507 [00:07<00:00, 63.64it/s]\n",
      "Training Epoch 1331: 100%|██████████| 507/507 [00:07<00:00, 63.91it/s]\n"
     ]
    },
    {
     "name": "stdout",
     "output_type": "stream",
     "text": [
      "Epoch 1330 - Train Loss: 0.0437, Train MSE: 0.0437, Train MAE: 0.1498\n",
      "Epoch 1330 - Validation Loss: 1.3668, Validation MSE: 1.3706, Validation MAE: 0.8065\n"
     ]
    },
    {
     "name": "stderr",
     "output_type": "stream",
     "text": [
      "Training Epoch 1332: 100%|██████████| 507/507 [00:08<00:00, 62.44it/s]\n",
      "Training Epoch 1333: 100%|██████████| 507/507 [00:07<00:00, 64.45it/s]\n",
      "Training Epoch 1334: 100%|██████████| 507/507 [00:07<00:00, 63.57it/s]\n",
      "Training Epoch 1335: 100%|██████████| 507/507 [00:07<00:00, 64.54it/s]\n",
      "Training Epoch 1336: 100%|██████████| 507/507 [00:08<00:00, 62.83it/s]\n",
      "Training Epoch 1337: 100%|██████████| 507/507 [00:07<00:00, 64.12it/s]\n",
      "Training Epoch 1338: 100%|██████████| 507/507 [00:08<00:00, 61.91it/s]\n",
      "Training Epoch 1339: 100%|██████████| 507/507 [00:07<00:00, 64.48it/s]\n",
      "Training Epoch 1340: 100%|██████████| 507/507 [00:08<00:00, 63.02it/s]\n",
      "Training Epoch 1341: 100%|██████████| 507/507 [00:08<00:00, 63.23it/s]\n"
     ]
    },
    {
     "name": "stdout",
     "output_type": "stream",
     "text": [
      "Epoch 1340 - Train Loss: 0.0449, Train MSE: 0.0450, Train MAE: 0.1547\n",
      "Epoch 1340 - Validation Loss: 1.3748, Validation MSE: 1.3789, Validation MAE: 0.8120\n"
     ]
    },
    {
     "name": "stderr",
     "output_type": "stream",
     "text": [
      "Training Epoch 1342: 100%|██████████| 507/507 [00:07<00:00, 63.59it/s]\n",
      "Training Epoch 1343: 100%|██████████| 507/507 [00:07<00:00, 64.70it/s]\n",
      "Training Epoch 1344: 100%|██████████| 507/507 [00:08<00:00, 62.50it/s]\n",
      "Training Epoch 1345: 100%|██████████| 507/507 [00:07<00:00, 65.78it/s]\n",
      "Training Epoch 1346: 100%|██████████| 507/507 [00:08<00:00, 63.03it/s]\n",
      "Training Epoch 1347: 100%|██████████| 507/507 [00:08<00:00, 62.79it/s]\n",
      "Training Epoch 1348: 100%|██████████| 507/507 [00:07<00:00, 64.77it/s]\n",
      "Training Epoch 1349: 100%|██████████| 507/507 [00:07<00:00, 63.97it/s]\n",
      "Training Epoch 1350: 100%|██████████| 507/507 [00:07<00:00, 63.70it/s]\n",
      "Training Epoch 1351: 100%|██████████| 507/507 [00:07<00:00, 63.44it/s]\n"
     ]
    },
    {
     "name": "stdout",
     "output_type": "stream",
     "text": [
      "Epoch 1350 - Train Loss: 0.0482, Train MSE: 0.0482, Train MAE: 0.1570\n",
      "Epoch 1350 - Validation Loss: 1.4042, Validation MSE: 1.4084, Validation MAE: 0.8192\n"
     ]
    },
    {
     "name": "stderr",
     "output_type": "stream",
     "text": [
      "Training Epoch 1352: 100%|██████████| 507/507 [00:07<00:00, 64.20it/s]\n",
      "Training Epoch 1353: 100%|██████████| 507/507 [00:08<00:00, 63.36it/s]\n",
      "Training Epoch 1354: 100%|██████████| 507/507 [00:07<00:00, 64.33it/s]\n",
      "Training Epoch 1355: 100%|██████████| 507/507 [00:08<00:00, 62.40it/s]\n",
      "Training Epoch 1356: 100%|██████████| 507/507 [00:07<00:00, 64.52it/s]\n",
      "Training Epoch 1357: 100%|██████████| 507/507 [00:07<00:00, 63.91it/s]\n",
      "Training Epoch 1358: 100%|██████████| 507/507 [00:07<00:00, 64.90it/s]\n",
      "Training Epoch 1359: 100%|██████████| 507/507 [00:07<00:00, 63.42it/s]\n",
      "Training Epoch 1360: 100%|██████████| 507/507 [00:07<00:00, 64.29it/s]\n",
      "Training Epoch 1361: 100%|██████████| 507/507 [00:07<00:00, 63.38it/s]\n"
     ]
    },
    {
     "name": "stdout",
     "output_type": "stream",
     "text": [
      "Epoch 1360 - Train Loss: 0.0433, Train MSE: 0.0433, Train MAE: 0.1512\n",
      "Epoch 1360 - Validation Loss: 1.3634, Validation MSE: 1.3670, Validation MAE: 0.8036\n"
     ]
    },
    {
     "name": "stderr",
     "output_type": "stream",
     "text": [
      "Training Epoch 1362: 100%|██████████| 507/507 [00:07<00:00, 63.88it/s]\n",
      "Training Epoch 1363: 100%|██████████| 507/507 [00:08<00:00, 62.64it/s]\n",
      "Training Epoch 1364: 100%|██████████| 507/507 [00:07<00:00, 63.86it/s]\n",
      "Training Epoch 1365: 100%|██████████| 507/507 [00:08<00:00, 62.56it/s]\n",
      "Training Epoch 1366: 100%|██████████| 507/507 [00:07<00:00, 63.91it/s]\n",
      "Training Epoch 1367: 100%|██████████| 507/507 [00:07<00:00, 63.60it/s]\n",
      "Training Epoch 1368: 100%|██████████| 507/507 [00:08<00:00, 63.03it/s]\n",
      "Training Epoch 1369: 100%|██████████| 507/507 [00:08<00:00, 62.17it/s]\n",
      "Training Epoch 1370: 100%|██████████| 507/507 [00:08<00:00, 62.96it/s]\n",
      "Training Epoch 1371: 100%|██████████| 507/507 [00:07<00:00, 65.29it/s]\n"
     ]
    },
    {
     "name": "stdout",
     "output_type": "stream",
     "text": [
      "Epoch 1370 - Train Loss: 0.0473, Train MSE: 0.0473, Train MAE: 0.1572\n",
      "Epoch 1370 - Validation Loss: 1.3623, Validation MSE: 1.3662, Validation MAE: 0.8051\n"
     ]
    },
    {
     "name": "stderr",
     "output_type": "stream",
     "text": [
      "Training Epoch 1372: 100%|██████████| 507/507 [00:08<00:00, 62.75it/s]\n",
      "Training Epoch 1373: 100%|██████████| 507/507 [00:07<00:00, 64.35it/s]\n",
      "Training Epoch 1374: 100%|██████████| 507/507 [00:08<00:00, 63.05it/s]\n",
      "Training Epoch 1375: 100%|██████████| 507/507 [00:07<00:00, 63.75it/s]\n",
      "Training Epoch 1376: 100%|██████████| 507/507 [00:08<00:00, 63.27it/s]\n",
      "Training Epoch 1377: 100%|██████████| 507/507 [00:07<00:00, 63.42it/s]\n",
      "Training Epoch 1378: 100%|██████████| 507/507 [00:07<00:00, 63.46it/s]\n",
      "Training Epoch 1379: 100%|██████████| 507/507 [00:07<00:00, 64.16it/s]\n",
      "Training Epoch 1380: 100%|██████████| 507/507 [00:08<00:00, 63.36it/s]\n",
      "Training Epoch 1381: 100%|██████████| 507/507 [00:08<00:00, 63.34it/s]\n"
     ]
    },
    {
     "name": "stdout",
     "output_type": "stream",
     "text": [
      "Epoch 1380 - Train Loss: 0.0458, Train MSE: 0.0458, Train MAE: 0.1544\n",
      "Epoch 1380 - Validation Loss: 1.3520, Validation MSE: 1.3552, Validation MAE: 0.8013\n"
     ]
    },
    {
     "name": "stderr",
     "output_type": "stream",
     "text": [
      "Training Epoch 1382: 100%|██████████| 507/507 [00:07<00:00, 63.56it/s]\n",
      "Training Epoch 1383: 100%|██████████| 507/507 [00:07<00:00, 63.97it/s]\n",
      "Training Epoch 1384: 100%|██████████| 507/507 [00:08<00:00, 63.36it/s]\n",
      "Training Epoch 1385: 100%|██████████| 507/507 [00:07<00:00, 64.47it/s]\n",
      "Training Epoch 1386: 100%|██████████| 507/507 [00:08<00:00, 63.10it/s]\n",
      "Training Epoch 1387: 100%|██████████| 507/507 [00:08<00:00, 63.36it/s]\n",
      "Training Epoch 1388: 100%|██████████| 507/507 [00:08<00:00, 63.18it/s]\n",
      "Training Epoch 1389: 100%|██████████| 507/507 [00:07<00:00, 64.64it/s]\n",
      "Training Epoch 1390: 100%|██████████| 507/507 [00:07<00:00, 64.54it/s]\n",
      "Training Epoch 1391: 100%|██████████| 507/507 [00:08<00:00, 63.35it/s]\n"
     ]
    },
    {
     "name": "stdout",
     "output_type": "stream",
     "text": [
      "Epoch 1390 - Train Loss: 0.0456, Train MSE: 0.0456, Train MAE: 0.1534\n",
      "Epoch 1390 - Validation Loss: 1.3670, Validation MSE: 1.3706, Validation MAE: 0.8072\n"
     ]
    },
    {
     "name": "stderr",
     "output_type": "stream",
     "text": [
      "Training Epoch 1392: 100%|██████████| 507/507 [00:07<00:00, 63.85it/s]\n",
      "Training Epoch 1393: 100%|██████████| 507/507 [00:07<00:00, 64.09it/s]\n",
      "Training Epoch 1394: 100%|██████████| 507/507 [00:07<00:00, 64.19it/s]\n",
      "Training Epoch 1395: 100%|██████████| 507/507 [00:08<00:00, 62.84it/s]\n",
      "Training Epoch 1396: 100%|██████████| 507/507 [00:07<00:00, 64.96it/s]\n",
      "Training Epoch 1397: 100%|██████████| 507/507 [00:08<00:00, 62.95it/s]\n",
      "Training Epoch 1398: 100%|██████████| 507/507 [00:07<00:00, 64.23it/s]\n",
      "Training Epoch 1399: 100%|██████████| 507/507 [00:08<00:00, 63.23it/s]\n",
      "Training Epoch 1400: 100%|██████████| 507/507 [00:07<00:00, 64.19it/s]\n",
      "Training Epoch 1401: 100%|██████████| 507/507 [00:08<00:00, 63.13it/s]\n"
     ]
    },
    {
     "name": "stdout",
     "output_type": "stream",
     "text": [
      "Epoch 1400 - Train Loss: 0.0569, Train MSE: 0.0569, Train MAE: 0.1666\n",
      "Epoch 1400 - Validation Loss: 1.3949, Validation MSE: 1.3989, Validation MAE: 0.8165\n"
     ]
    },
    {
     "name": "stderr",
     "output_type": "stream",
     "text": [
      "Training Epoch 1402: 100%|██████████| 507/507 [00:08<00:00, 63.35it/s]\n",
      "Training Epoch 1403: 100%|██████████| 507/507 [00:07<00:00, 63.61it/s]\n",
      "Training Epoch 1404: 100%|██████████| 507/507 [00:07<00:00, 64.22it/s]\n",
      "Training Epoch 1405: 100%|██████████| 507/507 [00:08<00:00, 62.02it/s]\n",
      "Training Epoch 1406: 100%|██████████| 507/507 [00:07<00:00, 64.40it/s]\n",
      "Training Epoch 1407: 100%|██████████| 507/507 [00:07<00:00, 63.88it/s]\n",
      "Training Epoch 1408: 100%|██████████| 507/507 [00:07<00:00, 63.44it/s]\n",
      "Training Epoch 1409: 100%|██████████| 507/507 [00:08<00:00, 62.79it/s]\n",
      "Training Epoch 1410: 100%|██████████| 507/507 [00:07<00:00, 64.46it/s]\n",
      "Training Epoch 1411: 100%|██████████| 507/507 [00:08<00:00, 63.34it/s]\n"
     ]
    },
    {
     "name": "stdout",
     "output_type": "stream",
     "text": [
      "Epoch 1410 - Train Loss: 0.0522, Train MSE: 0.0522, Train MAE: 0.1620\n",
      "Epoch 1410 - Validation Loss: 1.3657, Validation MSE: 1.3695, Validation MAE: 0.8072\n"
     ]
    },
    {
     "name": "stderr",
     "output_type": "stream",
     "text": [
      "Training Epoch 1412: 100%|██████████| 507/507 [00:07<00:00, 63.38it/s]\n",
      "Training Epoch 1413: 100%|██████████| 507/507 [00:07<00:00, 63.48it/s]\n",
      "Training Epoch 1414: 100%|██████████| 507/507 [00:08<00:00, 61.29it/s]\n",
      "Training Epoch 1415: 100%|██████████| 507/507 [00:08<00:00, 62.81it/s]\n",
      "Training Epoch 1416: 100%|██████████| 507/507 [00:07<00:00, 63.53it/s]\n",
      "Training Epoch 1417: 100%|██████████| 507/507 [00:07<00:00, 63.53it/s]\n",
      "Training Epoch 1418: 100%|██████████| 507/507 [00:07<00:00, 64.45it/s]\n",
      "Training Epoch 1419: 100%|██████████| 507/507 [00:07<00:00, 65.75it/s]\n",
      "Training Epoch 1420: 100%|██████████| 507/507 [00:08<00:00, 62.41it/s]\n",
      "Training Epoch 1421: 100%|██████████| 507/507 [00:07<00:00, 64.65it/s]\n"
     ]
    },
    {
     "name": "stdout",
     "output_type": "stream",
     "text": [
      "Epoch 1420 - Train Loss: 0.0464, Train MSE: 0.0464, Train MAE: 0.1539\n",
      "Epoch 1420 - Validation Loss: 1.3626, Validation MSE: 1.3663, Validation MAE: 0.8065\n"
     ]
    },
    {
     "name": "stderr",
     "output_type": "stream",
     "text": [
      "Training Epoch 1422: 100%|██████████| 507/507 [00:08<00:00, 63.32it/s]\n",
      "Training Epoch 1423: 100%|██████████| 507/507 [00:07<00:00, 63.96it/s]\n",
      "Training Epoch 1424: 100%|██████████| 507/507 [00:08<00:00, 62.81it/s]\n",
      "Training Epoch 1425: 100%|██████████| 507/507 [00:07<00:00, 63.82it/s]\n",
      "Training Epoch 1426: 100%|██████████| 507/507 [00:07<00:00, 63.99it/s]\n",
      "Training Epoch 1427: 100%|██████████| 507/507 [00:08<00:00, 63.13it/s]\n",
      "Training Epoch 1428: 100%|██████████| 507/507 [00:08<00:00, 62.72it/s]\n",
      "Training Epoch 1429: 100%|██████████| 507/507 [00:07<00:00, 63.88it/s]\n",
      "Training Epoch 1430: 100%|██████████| 507/507 [00:07<00:00, 63.77it/s]\n",
      "Training Epoch 1431: 100%|██████████| 507/507 [00:07<00:00, 63.62it/s]\n"
     ]
    },
    {
     "name": "stdout",
     "output_type": "stream",
     "text": [
      "Epoch 1430 - Train Loss: 0.0443, Train MSE: 0.0443, Train MAE: 0.1503\n",
      "Epoch 1430 - Validation Loss: 1.3696, Validation MSE: 1.3733, Validation MAE: 0.8130\n"
     ]
    },
    {
     "name": "stderr",
     "output_type": "stream",
     "text": [
      "Training Epoch 1432: 100%|██████████| 507/507 [00:07<00:00, 63.77it/s]\n",
      "Training Epoch 1433: 100%|██████████| 507/507 [00:07<00:00, 64.77it/s]\n",
      "Training Epoch 1434: 100%|██████████| 507/507 [00:07<00:00, 63.83it/s]\n",
      "Training Epoch 1435: 100%|██████████| 507/507 [00:07<00:00, 63.69it/s]\n",
      "Training Epoch 1436: 100%|██████████| 507/507 [00:08<00:00, 63.09it/s]\n",
      "Training Epoch 1437: 100%|██████████| 507/507 [00:07<00:00, 64.80it/s]\n",
      "Training Epoch 1438: 100%|██████████| 507/507 [00:07<00:00, 63.43it/s]\n",
      "Training Epoch 1439: 100%|██████████| 507/507 [00:08<00:00, 62.89it/s]\n",
      "Training Epoch 1440: 100%|██████████| 507/507 [00:07<00:00, 64.24it/s]\n",
      "Training Epoch 1441: 100%|██████████| 507/507 [00:07<00:00, 63.39it/s]\n"
     ]
    },
    {
     "name": "stdout",
     "output_type": "stream",
     "text": [
      "Epoch 1440 - Train Loss: 0.0432, Train MSE: 0.0432, Train MAE: 0.1511\n",
      "Epoch 1440 - Validation Loss: 1.3455, Validation MSE: 1.3492, Validation MAE: 0.8039\n"
     ]
    },
    {
     "name": "stderr",
     "output_type": "stream",
     "text": [
      "Training Epoch 1442: 100%|██████████| 507/507 [00:07<00:00, 64.11it/s]\n",
      "Training Epoch 1443: 100%|██████████| 507/507 [00:08<00:00, 63.03it/s]\n",
      "Training Epoch 1444: 100%|██████████| 507/507 [00:07<00:00, 63.65it/s]\n",
      "Training Epoch 1445: 100%|██████████| 507/507 [00:07<00:00, 65.41it/s]\n",
      "Training Epoch 1446: 100%|██████████| 507/507 [00:08<00:00, 63.37it/s]\n",
      "Training Epoch 1447: 100%|██████████| 507/507 [00:08<00:00, 62.92it/s]\n",
      "Training Epoch 1448: 100%|██████████| 507/507 [00:07<00:00, 64.50it/s]\n",
      "Training Epoch 1449: 100%|██████████| 507/507 [00:08<00:00, 63.03it/s]\n",
      "Training Epoch 1450: 100%|██████████| 507/507 [00:07<00:00, 64.18it/s]\n",
      "Training Epoch 1451: 100%|██████████| 507/507 [00:08<00:00, 62.92it/s]\n"
     ]
    },
    {
     "name": "stdout",
     "output_type": "stream",
     "text": [
      "Epoch 1450 - Train Loss: 0.0408, Train MSE: 0.0408, Train MAE: 0.1470\n",
      "Epoch 1450 - Validation Loss: 1.3619, Validation MSE: 1.3656, Validation MAE: 0.8049\n"
     ]
    },
    {
     "name": "stderr",
     "output_type": "stream",
     "text": [
      "Training Epoch 1452: 100%|██████████| 507/507 [00:08<00:00, 63.27it/s]\n",
      "Training Epoch 1453: 100%|██████████| 507/507 [00:07<00:00, 63.58it/s]\n",
      "Training Epoch 1454: 100%|██████████| 507/507 [00:07<00:00, 63.46it/s]\n",
      "Training Epoch 1455: 100%|██████████| 507/507 [00:08<00:00, 63.00it/s]\n",
      "Training Epoch 1456: 100%|██████████| 507/507 [00:07<00:00, 64.10it/s]\n",
      "Training Epoch 1457: 100%|██████████| 507/507 [00:08<00:00, 62.47it/s]\n",
      "Training Epoch 1458: 100%|██████████| 507/507 [00:07<00:00, 64.06it/s]\n",
      "Training Epoch 1459: 100%|██████████| 507/507 [00:07<00:00, 64.37it/s]\n",
      "Training Epoch 1460: 100%|██████████| 507/507 [00:07<00:00, 64.03it/s]\n",
      "Training Epoch 1461: 100%|██████████| 507/507 [00:07<00:00, 63.52it/s]\n"
     ]
    },
    {
     "name": "stdout",
     "output_type": "stream",
     "text": [
      "Epoch 1460 - Train Loss: 0.0493, Train MSE: 0.0489, Train MAE: 0.1573\n",
      "Epoch 1460 - Validation Loss: 1.3522, Validation MSE: 1.3558, Validation MAE: 0.8029\n"
     ]
    },
    {
     "name": "stderr",
     "output_type": "stream",
     "text": [
      "Training Epoch 1462: 100%|██████████| 507/507 [00:07<00:00, 63.54it/s]\n",
      "Training Epoch 1463: 100%|██████████| 507/507 [00:07<00:00, 64.39it/s]\n",
      "Training Epoch 1464: 100%|██████████| 507/507 [00:08<00:00, 62.29it/s]\n",
      "Training Epoch 1465: 100%|██████████| 507/507 [00:07<00:00, 64.42it/s]\n",
      "Training Epoch 1466: 100%|██████████| 507/507 [00:07<00:00, 64.74it/s]\n",
      "Training Epoch 1467: 100%|██████████| 507/507 [00:08<00:00, 63.14it/s]\n",
      "Training Epoch 1468: 100%|██████████| 507/507 [00:07<00:00, 65.05it/s]\n",
      "Training Epoch 1469: 100%|██████████| 507/507 [00:07<00:00, 64.55it/s]\n",
      "Training Epoch 1470: 100%|██████████| 507/507 [00:08<00:00, 63.18it/s]\n",
      "Training Epoch 1471: 100%|██████████| 507/507 [00:07<00:00, 63.97it/s]\n"
     ]
    },
    {
     "name": "stdout",
     "output_type": "stream",
     "text": [
      "Epoch 1470 - Train Loss: 0.0431, Train MSE: 0.0430, Train MAE: 0.1494\n",
      "Epoch 1470 - Validation Loss: 1.3732, Validation MSE: 1.3768, Validation MAE: 0.8082\n"
     ]
    },
    {
     "name": "stderr",
     "output_type": "stream",
     "text": [
      "Training Epoch 1472: 100%|██████████| 507/507 [00:07<00:00, 64.17it/s]\n",
      "Training Epoch 1473: 100%|██████████| 507/507 [00:07<00:00, 63.96it/s]\n",
      "Training Epoch 1474: 100%|██████████| 507/507 [00:07<00:00, 63.82it/s]\n",
      "Training Epoch 1475: 100%|██████████| 507/507 [00:09<00:00, 54.41it/s]\n",
      "Training Epoch 1476: 100%|██████████| 507/507 [00:07<00:00, 64.54it/s]\n",
      "Training Epoch 1477: 100%|██████████| 507/507 [00:07<00:00, 63.67it/s]\n",
      "Training Epoch 1478: 100%|██████████| 507/507 [00:07<00:00, 64.06it/s]\n",
      "Training Epoch 1479: 100%|██████████| 507/507 [00:07<00:00, 66.94it/s]\n",
      "Training Epoch 1480: 100%|██████████| 507/507 [00:07<00:00, 64.77it/s]\n",
      "Training Epoch 1481: 100%|██████████| 507/507 [00:07<00:00, 65.67it/s]\n"
     ]
    },
    {
     "name": "stdout",
     "output_type": "stream",
     "text": [
      "Epoch 1480 - Train Loss: 0.0379, Train MSE: 0.0379, Train MAE: 0.1427\n",
      "Epoch 1480 - Validation Loss: 1.3473, Validation MSE: 1.3508, Validation MAE: 0.8012\n"
     ]
    },
    {
     "name": "stderr",
     "output_type": "stream",
     "text": [
      "Training Epoch 1482: 100%|██████████| 507/507 [00:07<00:00, 66.47it/s]\n",
      "Training Epoch 1483: 100%|██████████| 507/507 [00:07<00:00, 65.25it/s]\n",
      "Training Epoch 1484: 100%|██████████| 507/507 [00:07<00:00, 65.00it/s]\n",
      "Training Epoch 1485: 100%|██████████| 507/507 [00:07<00:00, 65.57it/s]\n",
      "Training Epoch 1486: 100%|██████████| 507/507 [00:07<00:00, 65.24it/s]\n",
      "Training Epoch 1487: 100%|██████████| 507/507 [00:07<00:00, 66.41it/s]\n",
      "Training Epoch 1488: 100%|██████████| 507/507 [00:07<00:00, 66.07it/s]\n",
      "Training Epoch 1489: 100%|██████████| 507/507 [00:07<00:00, 65.61it/s]\n",
      "Training Epoch 1490: 100%|██████████| 507/507 [00:07<00:00, 65.10it/s]\n",
      "Training Epoch 1491: 100%|██████████| 507/507 [00:07<00:00, 65.78it/s]\n"
     ]
    },
    {
     "name": "stdout",
     "output_type": "stream",
     "text": [
      "Epoch 1490 - Train Loss: 0.0474, Train MSE: 0.0474, Train MAE: 0.1533\n",
      "Epoch 1490 - Validation Loss: 1.3648, Validation MSE: 1.3689, Validation MAE: 0.8043\n"
     ]
    },
    {
     "name": "stderr",
     "output_type": "stream",
     "text": [
      "Training Epoch 1492: 100%|██████████| 507/507 [00:07<00:00, 66.86it/s]\n",
      "Training Epoch 1493: 100%|██████████| 507/507 [00:07<00:00, 65.41it/s]\n",
      "Training Epoch 1494: 100%|██████████| 507/507 [00:07<00:00, 64.73it/s]\n",
      "Training Epoch 1495: 100%|██████████| 507/507 [00:07<00:00, 66.09it/s]\n",
      "Training Epoch 1496: 100%|██████████| 507/507 [00:07<00:00, 65.40it/s]\n",
      "Training Epoch 1497: 100%|██████████| 507/507 [00:07<00:00, 65.27it/s]\n",
      "Training Epoch 1498: 100%|██████████| 507/507 [00:07<00:00, 66.23it/s]\n",
      "Training Epoch 1499: 100%|██████████| 507/507 [00:07<00:00, 64.81it/s]\n",
      "Training Epoch 1500: 100%|██████████| 507/507 [00:07<00:00, 66.00it/s]\n",
      "Training Epoch 1501: 100%|██████████| 507/507 [00:07<00:00, 65.27it/s]\n"
     ]
    },
    {
     "name": "stdout",
     "output_type": "stream",
     "text": [
      "Epoch 1500 - Train Loss: 0.0386, Train MSE: 0.0386, Train MAE: 0.1452\n",
      "Epoch 1500 - Validation Loss: 1.3703, Validation MSE: 1.3740, Validation MAE: 0.8067\n"
     ]
    },
    {
     "name": "stderr",
     "output_type": "stream",
     "text": [
      "Training Epoch 1502: 100%|██████████| 507/507 [00:07<00:00, 65.68it/s]\n",
      "Training Epoch 1503: 100%|██████████| 507/507 [00:07<00:00, 65.76it/s]\n",
      "Training Epoch 1504: 100%|██████████| 507/507 [00:07<00:00, 65.90it/s]\n",
      "Training Epoch 1505: 100%|██████████| 507/507 [00:07<00:00, 65.69it/s]\n",
      "Training Epoch 1506: 100%|██████████| 507/507 [00:07<00:00, 65.23it/s]\n",
      "Training Epoch 1507: 100%|██████████| 507/507 [00:07<00:00, 65.17it/s]\n",
      "Training Epoch 1508: 100%|██████████| 507/507 [00:07<00:00, 65.55it/s]\n",
      "Training Epoch 1509: 100%|██████████| 507/507 [00:07<00:00, 65.15it/s]\n",
      "Training Epoch 1510: 100%|██████████| 507/507 [00:07<00:00, 66.05it/s]\n",
      "Training Epoch 1511: 100%|██████████| 507/507 [00:07<00:00, 66.03it/s]\n"
     ]
    },
    {
     "name": "stdout",
     "output_type": "stream",
     "text": [
      "Epoch 1510 - Train Loss: 0.0446, Train MSE: 0.0447, Train MAE: 0.1512\n",
      "Epoch 1510 - Validation Loss: 1.3322, Validation MSE: 1.3358, Validation MAE: 0.7972\n"
     ]
    },
    {
     "name": "stderr",
     "output_type": "stream",
     "text": [
      "Training Epoch 1512: 100%|██████████| 507/507 [00:07<00:00, 65.21it/s]\n",
      "Training Epoch 1513: 100%|██████████| 507/507 [00:07<00:00, 65.78it/s]\n",
      "Training Epoch 1514: 100%|██████████| 507/507 [00:07<00:00, 66.20it/s]\n",
      "Training Epoch 1515: 100%|██████████| 507/507 [00:07<00:00, 64.41it/s]\n",
      "Training Epoch 1516: 100%|██████████| 507/507 [00:07<00:00, 66.06it/s]\n",
      "Training Epoch 1517: 100%|██████████| 507/507 [00:07<00:00, 65.86it/s]\n",
      "Training Epoch 1518: 100%|██████████| 507/507 [00:07<00:00, 65.83it/s]\n",
      "Training Epoch 1519: 100%|██████████| 507/507 [00:07<00:00, 66.27it/s]\n",
      "Training Epoch 1520: 100%|██████████| 507/507 [00:07<00:00, 67.15it/s]\n",
      "Training Epoch 1521: 100%|██████████| 507/507 [00:07<00:00, 64.94it/s]\n"
     ]
    },
    {
     "name": "stdout",
     "output_type": "stream",
     "text": [
      "Epoch 1520 - Train Loss: 0.0409, Train MSE: 0.0410, Train MAE: 0.1472\n",
      "Epoch 1520 - Validation Loss: 1.3680, Validation MSE: 1.3715, Validation MAE: 0.8106\n"
     ]
    },
    {
     "name": "stderr",
     "output_type": "stream",
     "text": [
      "Training Epoch 1522: 100%|██████████| 507/507 [00:07<00:00, 65.28it/s]\n",
      "Training Epoch 1523: 100%|██████████| 507/507 [00:07<00:00, 65.36it/s]\n",
      "Training Epoch 1524: 100%|██████████| 507/507 [00:07<00:00, 65.99it/s]\n",
      "Training Epoch 1525: 100%|██████████| 507/507 [00:07<00:00, 64.59it/s]\n",
      "Training Epoch 1526: 100%|██████████| 507/507 [00:07<00:00, 65.93it/s]\n",
      "Training Epoch 1527: 100%|██████████| 507/507 [00:07<00:00, 65.35it/s]\n",
      "Training Epoch 1528: 100%|██████████| 507/507 [00:07<00:00, 66.59it/s]\n",
      "Training Epoch 1529: 100%|██████████| 507/507 [00:07<00:00, 65.66it/s]\n",
      "Training Epoch 1530: 100%|██████████| 507/507 [00:07<00:00, 64.92it/s]\n",
      "Training Epoch 1531: 100%|██████████| 507/507 [00:07<00:00, 65.19it/s]\n"
     ]
    },
    {
     "name": "stdout",
     "output_type": "stream",
     "text": [
      "Epoch 1530 - Train Loss: 0.0398, Train MSE: 0.0398, Train MAE: 0.1449\n",
      "Epoch 1530 - Validation Loss: 1.3523, Validation MSE: 1.3559, Validation MAE: 0.8009\n"
     ]
    },
    {
     "name": "stderr",
     "output_type": "stream",
     "text": [
      "Training Epoch 1532: 100%|██████████| 507/507 [00:07<00:00, 65.51it/s]\n",
      "Training Epoch 1533: 100%|██████████| 507/507 [00:07<00:00, 65.17it/s]\n",
      "Training Epoch 1534: 100%|██████████| 507/507 [00:07<00:00, 65.96it/s]\n",
      "Training Epoch 1535: 100%|██████████| 507/507 [00:07<00:00, 65.89it/s]\n",
      "Training Epoch 1536: 100%|██████████| 507/507 [00:07<00:00, 68.07it/s]\n",
      "Training Epoch 1537: 100%|██████████| 507/507 [00:07<00:00, 64.42it/s]\n",
      "Training Epoch 1538: 100%|██████████| 507/507 [00:07<00:00, 67.10it/s]\n",
      "Training Epoch 1539: 100%|██████████| 507/507 [00:07<00:00, 66.24it/s]\n",
      "Training Epoch 1540: 100%|██████████| 507/507 [00:07<00:00, 65.69it/s]\n",
      "Training Epoch 1541: 100%|██████████| 507/507 [00:07<00:00, 65.43it/s]\n"
     ]
    },
    {
     "name": "stdout",
     "output_type": "stream",
     "text": [
      "Epoch 1540 - Train Loss: 0.0454, Train MSE: 0.0453, Train MAE: 0.1523\n",
      "Epoch 1540 - Validation Loss: 1.3758, Validation MSE: 1.3792, Validation MAE: 0.8078\n"
     ]
    },
    {
     "name": "stderr",
     "output_type": "stream",
     "text": [
      "Training Epoch 1542: 100%|██████████| 507/507 [00:07<00:00, 66.80it/s]\n",
      "Training Epoch 1543: 100%|██████████| 507/507 [00:07<00:00, 65.85it/s]\n",
      "Training Epoch 1544: 100%|██████████| 507/507 [00:07<00:00, 66.68it/s]\n",
      "Training Epoch 1545: 100%|██████████| 507/507 [00:07<00:00, 65.24it/s]\n",
      "Training Epoch 1546: 100%|██████████| 507/507 [00:07<00:00, 66.69it/s]\n",
      "Training Epoch 1547: 100%|██████████| 507/507 [00:07<00:00, 65.13it/s]\n",
      "Training Epoch 1548: 100%|██████████| 507/507 [00:07<00:00, 67.02it/s]\n",
      "Training Epoch 1549: 100%|██████████| 507/507 [00:07<00:00, 65.79it/s]\n",
      "Training Epoch 1550: 100%|██████████| 507/507 [00:07<00:00, 66.39it/s]\n",
      "Training Epoch 1551: 100%|██████████| 507/507 [00:07<00:00, 65.10it/s]\n"
     ]
    },
    {
     "name": "stdout",
     "output_type": "stream",
     "text": [
      "Epoch 1550 - Train Loss: 0.0500, Train MSE: 0.0500, Train MAE: 0.1575\n",
      "Epoch 1550 - Validation Loss: 1.3929, Validation MSE: 1.3968, Validation MAE: 0.8160\n"
     ]
    },
    {
     "name": "stderr",
     "output_type": "stream",
     "text": [
      "Training Epoch 1552: 100%|██████████| 507/507 [00:07<00:00, 65.26it/s]\n",
      "Training Epoch 1553: 100%|██████████| 507/507 [00:07<00:00, 65.38it/s]\n",
      "Training Epoch 1554: 100%|██████████| 507/507 [00:07<00:00, 66.38it/s]\n",
      "Training Epoch 1555: 100%|██████████| 507/507 [00:07<00:00, 65.37it/s]\n",
      "Training Epoch 1556: 100%|██████████| 507/507 [00:07<00:00, 65.48it/s]\n",
      "Training Epoch 1557: 100%|██████████| 507/507 [00:07<00:00, 66.22it/s]\n",
      "Training Epoch 1558: 100%|██████████| 507/507 [00:07<00:00, 66.40it/s]\n",
      "Training Epoch 1559: 100%|██████████| 507/507 [00:07<00:00, 65.58it/s]\n",
      "Training Epoch 1560: 100%|██████████| 507/507 [00:07<00:00, 65.54it/s]\n",
      "Training Epoch 1561: 100%|██████████| 507/507 [00:07<00:00, 66.09it/s]\n"
     ]
    },
    {
     "name": "stdout",
     "output_type": "stream",
     "text": [
      "Epoch 1560 - Train Loss: 0.0400, Train MSE: 0.0400, Train MAE: 0.1449\n",
      "Epoch 1560 - Validation Loss: 1.3606, Validation MSE: 1.3641, Validation MAE: 0.8054\n"
     ]
    },
    {
     "name": "stderr",
     "output_type": "stream",
     "text": [
      "Training Epoch 1562: 100%|██████████| 507/507 [00:07<00:00, 66.45it/s]\n",
      "Training Epoch 1563: 100%|██████████| 507/507 [00:07<00:00, 65.24it/s]\n",
      "Training Epoch 1564: 100%|██████████| 507/507 [00:07<00:00, 67.22it/s]\n",
      "Training Epoch 1565: 100%|██████████| 507/507 [00:07<00:00, 65.23it/s]\n",
      "Training Epoch 1566: 100%|██████████| 507/507 [00:07<00:00, 64.75it/s]\n",
      "Training Epoch 1567: 100%|██████████| 507/507 [00:07<00:00, 64.99it/s]\n",
      "Training Epoch 1568: 100%|██████████| 507/507 [00:07<00:00, 66.06it/s]\n",
      "Training Epoch 1569: 100%|██████████| 507/507 [00:07<00:00, 65.20it/s]\n",
      "Training Epoch 1570: 100%|██████████| 507/507 [00:07<00:00, 65.84it/s]\n",
      "Training Epoch 1571: 100%|██████████| 507/507 [00:07<00:00, 65.39it/s]\n"
     ]
    },
    {
     "name": "stdout",
     "output_type": "stream",
     "text": [
      "Epoch 1570 - Train Loss: 0.0380, Train MSE: 0.0380, Train MAE: 0.1430\n",
      "Epoch 1570 - Validation Loss: 1.3673, Validation MSE: 1.3708, Validation MAE: 0.8076\n"
     ]
    },
    {
     "name": "stderr",
     "output_type": "stream",
     "text": [
      "Training Epoch 1572: 100%|██████████| 507/507 [00:07<00:00, 65.84it/s]\n",
      "Training Epoch 1573: 100%|██████████| 507/507 [00:07<00:00, 65.70it/s]\n",
      "Training Epoch 1574: 100%|██████████| 507/507 [00:07<00:00, 66.15it/s]\n",
      "Training Epoch 1575: 100%|██████████| 507/507 [00:07<00:00, 65.87it/s]\n",
      "Training Epoch 1576: 100%|██████████| 507/507 [00:07<00:00, 65.43it/s]\n",
      "Training Epoch 1577: 100%|██████████| 507/507 [00:07<00:00, 66.20it/s]\n",
      "Training Epoch 1578: 100%|██████████| 507/507 [00:07<00:00, 65.72it/s]\n",
      "Training Epoch 1579: 100%|██████████| 507/507 [00:07<00:00, 64.68it/s]\n",
      "Training Epoch 1580: 100%|██████████| 507/507 [00:07<00:00, 67.86it/s]\n",
      "Training Epoch 1581: 100%|██████████| 507/507 [00:07<00:00, 65.72it/s]\n"
     ]
    },
    {
     "name": "stdout",
     "output_type": "stream",
     "text": [
      "Epoch 1580 - Train Loss: 0.0472, Train MSE: 0.0472, Train MAE: 0.1533\n",
      "Epoch 1580 - Validation Loss: 1.3710, Validation MSE: 1.3739, Validation MAE: 0.8092\n"
     ]
    },
    {
     "name": "stderr",
     "output_type": "stream",
     "text": [
      "Training Epoch 1582: 100%|██████████| 507/507 [00:07<00:00, 66.03it/s]\n",
      "Training Epoch 1583: 100%|██████████| 507/507 [00:07<00:00, 64.79it/s]\n",
      "Training Epoch 1584: 100%|██████████| 507/507 [00:07<00:00, 66.14it/s]\n",
      "Training Epoch 1585: 100%|██████████| 507/507 [00:07<00:00, 64.89it/s]\n",
      "Training Epoch 1586: 100%|██████████| 507/507 [00:07<00:00, 65.80it/s]\n",
      "Training Epoch 1587: 100%|██████████| 507/507 [00:07<00:00, 65.81it/s]\n",
      "Training Epoch 1588: 100%|██████████| 507/507 [00:07<00:00, 66.17it/s]\n",
      "Training Epoch 1589: 100%|██████████| 507/507 [00:07<00:00, 64.79it/s]\n",
      "Training Epoch 1590: 100%|██████████| 507/507 [00:07<00:00, 65.35it/s]\n",
      "Training Epoch 1591: 100%|██████████| 507/507 [00:07<00:00, 65.51it/s]\n"
     ]
    },
    {
     "name": "stdout",
     "output_type": "stream",
     "text": [
      "Epoch 1590 - Train Loss: 0.0392, Train MSE: 0.0392, Train MAE: 0.1433\n",
      "Epoch 1590 - Validation Loss: 1.3666, Validation MSE: 1.3701, Validation MAE: 0.8054\n"
     ]
    },
    {
     "name": "stderr",
     "output_type": "stream",
     "text": [
      "Training Epoch 1592: 100%|██████████| 507/507 [00:07<00:00, 66.46it/s]\n",
      "Training Epoch 1593: 100%|██████████| 507/507 [00:07<00:00, 65.13it/s]\n",
      "Training Epoch 1594: 100%|██████████| 507/507 [00:07<00:00, 65.57it/s]\n",
      "Training Epoch 1595: 100%|██████████| 507/507 [00:07<00:00, 66.01it/s]\n",
      "Training Epoch 1596: 100%|██████████| 507/507 [00:07<00:00, 65.15it/s]\n",
      "Training Epoch 1597: 100%|██████████| 507/507 [00:07<00:00, 65.67it/s]\n",
      "Training Epoch 1598: 100%|██████████| 507/507 [00:07<00:00, 65.71it/s]\n",
      "Training Epoch 1599: 100%|██████████| 507/507 [00:07<00:00, 66.14it/s]\n",
      "Training Epoch 1600: 100%|██████████| 507/507 [00:07<00:00, 65.48it/s]\n",
      "Training Epoch 1601: 100%|██████████| 507/507 [00:07<00:00, 66.14it/s]\n"
     ]
    },
    {
     "name": "stdout",
     "output_type": "stream",
     "text": [
      "Epoch 1600 - Train Loss: 0.0423, Train MSE: 0.0423, Train MAE: 0.1490\n",
      "Epoch 1600 - Validation Loss: 1.3905, Validation MSE: 1.3933, Validation MAE: 0.8171\n"
     ]
    },
    {
     "name": "stderr",
     "output_type": "stream",
     "text": [
      "Training Epoch 1602: 100%|██████████| 507/507 [00:07<00:00, 65.77it/s]\n",
      "Training Epoch 1603: 100%|██████████| 507/507 [00:07<00:00, 66.47it/s]\n",
      "Training Epoch 1604: 100%|██████████| 507/507 [00:07<00:00, 65.03it/s]\n",
      "Training Epoch 1605: 100%|██████████| 507/507 [00:07<00:00, 64.86it/s]\n",
      "Training Epoch 1606: 100%|██████████| 507/507 [00:07<00:00, 66.79it/s]\n",
      "Training Epoch 1607: 100%|██████████| 507/507 [00:07<00:00, 65.24it/s]\n",
      "Training Epoch 1608: 100%|██████████| 507/507 [00:07<00:00, 65.63it/s]\n",
      "Training Epoch 1609: 100%|██████████| 507/507 [00:07<00:00, 65.33it/s]\n",
      "Training Epoch 1610: 100%|██████████| 507/507 [00:07<00:00, 65.26it/s]\n",
      "Training Epoch 1611: 100%|██████████| 507/507 [00:07<00:00, 65.85it/s]\n"
     ]
    },
    {
     "name": "stdout",
     "output_type": "stream",
     "text": [
      "Epoch 1610 - Train Loss: 0.0534, Train MSE: 0.0534, Train MAE: 0.1621\n",
      "Epoch 1610 - Validation Loss: 1.3677, Validation MSE: 1.3714, Validation MAE: 0.8153\n"
     ]
    },
    {
     "name": "stderr",
     "output_type": "stream",
     "text": [
      "Training Epoch 1612: 100%|██████████| 507/507 [00:07<00:00, 64.51it/s]\n",
      "Training Epoch 1613: 100%|██████████| 507/507 [00:07<00:00, 65.73it/s]\n",
      "Training Epoch 1614: 100%|██████████| 507/507 [00:07<00:00, 65.25it/s]\n",
      "Training Epoch 1615: 100%|██████████| 507/507 [00:07<00:00, 65.99it/s]\n",
      "Training Epoch 1616: 100%|██████████| 507/507 [00:07<00:00, 66.99it/s]\n",
      "Training Epoch 1617: 100%|██████████| 507/507 [00:07<00:00, 64.86it/s]\n",
      "Training Epoch 1618: 100%|██████████| 507/507 [00:07<00:00, 65.16it/s]\n",
      "Training Epoch 1619: 100%|██████████| 507/507 [00:07<00:00, 65.93it/s]\n",
      "Training Epoch 1620: 100%|██████████| 507/507 [00:07<00:00, 65.14it/s]\n",
      "Training Epoch 1621: 100%|██████████| 507/507 [00:07<00:00, 65.60it/s]\n"
     ]
    },
    {
     "name": "stdout",
     "output_type": "stream",
     "text": [
      "Epoch 1620 - Train Loss: 0.0511, Train MSE: 0.0511, Train MAE: 0.1573\n",
      "Epoch 1620 - Validation Loss: 1.3369, Validation MSE: 1.3408, Validation MAE: 0.7972\n"
     ]
    },
    {
     "name": "stderr",
     "output_type": "stream",
     "text": [
      "Training Epoch 1622: 100%|██████████| 507/507 [00:07<00:00, 65.21it/s]\n",
      "Training Epoch 1623: 100%|██████████| 507/507 [00:07<00:00, 65.56it/s]\n",
      "Training Epoch 1624: 100%|██████████| 507/507 [00:07<00:00, 65.15it/s]\n",
      "Training Epoch 1625: 100%|██████████| 507/507 [00:07<00:00, 66.34it/s]\n",
      "Training Epoch 1626: 100%|██████████| 507/507 [00:07<00:00, 65.30it/s]\n",
      "Training Epoch 1627: 100%|██████████| 507/507 [00:07<00:00, 65.25it/s]\n",
      "Training Epoch 1628: 100%|██████████| 507/507 [00:07<00:00, 65.62it/s]\n",
      "Training Epoch 1629: 100%|██████████| 507/507 [00:07<00:00, 67.18it/s]\n",
      "Training Epoch 1630: 100%|██████████| 507/507 [00:07<00:00, 64.96it/s]\n",
      "Training Epoch 1631: 100%|██████████| 507/507 [00:07<00:00, 65.57it/s]\n"
     ]
    },
    {
     "name": "stdout",
     "output_type": "stream",
     "text": [
      "Epoch 1630 - Train Loss: 0.0424, Train MSE: 0.0421, Train MAE: 0.1498\n",
      "Epoch 1630 - Validation Loss: 1.3727, Validation MSE: 1.3766, Validation MAE: 0.8074\n"
     ]
    },
    {
     "name": "stderr",
     "output_type": "stream",
     "text": [
      "Training Epoch 1632: 100%|██████████| 507/507 [00:07<00:00, 65.81it/s]\n",
      "Training Epoch 1633: 100%|██████████| 507/507 [00:07<00:00, 65.23it/s]\n",
      "Training Epoch 1634: 100%|██████████| 507/507 [00:07<00:00, 65.71it/s]\n",
      "Training Epoch 1635: 100%|██████████| 507/507 [00:07<00:00, 63.72it/s]\n",
      "Training Epoch 1636: 100%|██████████| 507/507 [00:07<00:00, 63.62it/s]\n",
      "Training Epoch 1637: 100%|██████████| 507/507 [00:07<00:00, 65.79it/s]\n",
      "Training Epoch 1638: 100%|██████████| 507/507 [00:07<00:00, 65.24it/s]\n",
      "Training Epoch 1639: 100%|██████████| 507/507 [00:07<00:00, 64.75it/s]\n",
      "Training Epoch 1640: 100%|██████████| 507/507 [00:07<00:00, 65.29it/s]\n",
      "Training Epoch 1641: 100%|██████████| 507/507 [00:07<00:00, 65.37it/s]\n"
     ]
    },
    {
     "name": "stdout",
     "output_type": "stream",
     "text": [
      "Epoch 1640 - Train Loss: 0.0354, Train MSE: 0.0354, Train MAE: 0.1385\n",
      "Epoch 1640 - Validation Loss: 1.3527, Validation MSE: 1.3564, Validation MAE: 0.8040\n"
     ]
    },
    {
     "name": "stderr",
     "output_type": "stream",
     "text": [
      "Training Epoch 1642: 100%|██████████| 507/507 [00:07<00:00, 65.82it/s]\n",
      "Training Epoch 1643: 100%|██████████| 507/507 [00:07<00:00, 65.92it/s]\n",
      "Training Epoch 1644: 100%|██████████| 507/507 [00:07<00:00, 64.99it/s]\n",
      "Training Epoch 1645: 100%|██████████| 507/507 [00:07<00:00, 65.78it/s]\n",
      "Training Epoch 1646: 100%|██████████| 507/507 [00:07<00:00, 65.34it/s]\n",
      "Training Epoch 1647: 100%|██████████| 507/507 [00:07<00:00, 66.62it/s]\n",
      "Training Epoch 1648: 100%|██████████| 507/507 [00:07<00:00, 65.48it/s]\n",
      "Training Epoch 1649: 100%|██████████| 507/507 [00:07<00:00, 66.36it/s]\n",
      "Training Epoch 1650: 100%|██████████| 507/507 [00:07<00:00, 66.07it/s]\n",
      "Training Epoch 1651: 100%|██████████| 507/507 [00:07<00:00, 65.95it/s]\n"
     ]
    },
    {
     "name": "stdout",
     "output_type": "stream",
     "text": [
      "Epoch 1650 - Train Loss: 0.0434, Train MSE: 0.0434, Train MAE: 0.1490\n",
      "Epoch 1650 - Validation Loss: 1.3731, Validation MSE: 1.3768, Validation MAE: 0.8107\n"
     ]
    },
    {
     "name": "stderr",
     "output_type": "stream",
     "text": [
      "Training Epoch 1652: 100%|██████████| 507/507 [00:07<00:00, 64.84it/s]\n",
      "Training Epoch 1653: 100%|██████████| 507/507 [00:07<00:00, 65.55it/s]\n",
      "Training Epoch 1654: 100%|██████████| 507/507 [00:07<00:00, 65.33it/s]\n",
      "Training Epoch 1655: 100%|██████████| 507/507 [00:07<00:00, 65.35it/s]\n",
      "Training Epoch 1656: 100%|██████████| 507/507 [00:07<00:00, 64.93it/s]\n",
      "Training Epoch 1657: 100%|██████████| 507/507 [00:07<00:00, 66.54it/s]\n",
      "Training Epoch 1658: 100%|██████████| 507/507 [00:07<00:00, 65.20it/s]\n",
      "Training Epoch 1659: 100%|██████████| 507/507 [00:07<00:00, 66.73it/s]\n",
      "Training Epoch 1660: 100%|██████████| 507/507 [00:07<00:00, 64.66it/s]\n",
      "Training Epoch 1661: 100%|██████████| 507/507 [00:07<00:00, 66.67it/s]\n"
     ]
    },
    {
     "name": "stdout",
     "output_type": "stream",
     "text": [
      "Epoch 1660 - Train Loss: 0.0458, Train MSE: 0.0458, Train MAE: 0.1500\n",
      "Epoch 1660 - Validation Loss: 1.3741, Validation MSE: 1.3780, Validation MAE: 0.8066\n"
     ]
    },
    {
     "name": "stderr",
     "output_type": "stream",
     "text": [
      "Training Epoch 1662: 100%|██████████| 507/507 [00:07<00:00, 65.02it/s]\n",
      "Training Epoch 1663: 100%|██████████| 507/507 [00:07<00:00, 66.41it/s]\n",
      "Training Epoch 1664: 100%|██████████| 507/507 [00:07<00:00, 65.14it/s]\n",
      "Training Epoch 1665: 100%|██████████| 507/507 [00:07<00:00, 66.55it/s]\n",
      "Training Epoch 1666: 100%|██████████| 507/507 [00:07<00:00, 64.58it/s]\n",
      "Training Epoch 1667: 100%|██████████| 507/507 [00:07<00:00, 65.89it/s]\n",
      "Training Epoch 1668: 100%|██████████| 507/507 [00:07<00:00, 65.10it/s]\n",
      "Training Epoch 1669: 100%|██████████| 507/507 [00:07<00:00, 66.85it/s]\n",
      "Training Epoch 1670: 100%|██████████| 507/507 [00:06<00:00, 75.37it/s]\n",
      "Training Epoch 1671: 100%|██████████| 507/507 [00:06<00:00, 75.55it/s]\n"
     ]
    },
    {
     "name": "stdout",
     "output_type": "stream",
     "text": [
      "Epoch 1670 - Train Loss: 0.0387, Train MSE: 0.0387, Train MAE: 0.1420\n",
      "Epoch 1670 - Validation Loss: 1.3546, Validation MSE: 1.3581, Validation MAE: 0.8022\n"
     ]
    },
    {
     "name": "stderr",
     "output_type": "stream",
     "text": [
      "Training Epoch 1672: 100%|██████████| 507/507 [00:06<00:00, 74.65it/s]\n",
      "Training Epoch 1673: 100%|██████████| 507/507 [00:06<00:00, 76.60it/s]\n",
      "Training Epoch 1674: 100%|██████████| 507/507 [00:06<00:00, 74.64it/s]\n",
      "Training Epoch 1675: 100%|██████████| 507/507 [00:06<00:00, 74.98it/s]\n",
      "Training Epoch 1676: 100%|██████████| 507/507 [00:06<00:00, 76.60it/s]\n",
      "Training Epoch 1677: 100%|██████████| 507/507 [00:06<00:00, 75.37it/s]\n",
      "Training Epoch 1678: 100%|██████████| 507/507 [00:06<00:00, 74.50it/s]\n",
      "Training Epoch 1679: 100%|██████████| 507/507 [00:06<00:00, 77.41it/s]\n",
      "Training Epoch 1680: 100%|██████████| 507/507 [00:06<00:00, 75.30it/s]\n",
      "Training Epoch 1681: 100%|██████████| 507/507 [00:06<00:00, 74.28it/s]\n"
     ]
    },
    {
     "name": "stdout",
     "output_type": "stream",
     "text": [
      "Epoch 1680 - Train Loss: 0.0386, Train MSE: 0.0386, Train MAE: 0.1437\n",
      "Epoch 1680 - Validation Loss: 1.3480, Validation MSE: 1.3514, Validation MAE: 0.8019\n"
     ]
    },
    {
     "name": "stderr",
     "output_type": "stream",
     "text": [
      "Training Epoch 1682: 100%|██████████| 507/507 [00:06<00:00, 75.47it/s]\n",
      "Training Epoch 1683: 100%|██████████| 507/507 [00:06<00:00, 75.18it/s]\n",
      "Training Epoch 1684: 100%|██████████| 507/507 [00:06<00:00, 75.49it/s]\n",
      "Training Epoch 1685: 100%|██████████| 507/507 [00:06<00:00, 77.63it/s]\n",
      "Training Epoch 1686: 100%|██████████| 507/507 [00:06<00:00, 74.95it/s]\n",
      "Training Epoch 1687: 100%|██████████| 507/507 [00:06<00:00, 76.66it/s]\n",
      "Training Epoch 1688: 100%|██████████| 507/507 [00:06<00:00, 74.55it/s]\n",
      "Training Epoch 1689: 100%|██████████| 507/507 [00:06<00:00, 74.92it/s]\n",
      "Training Epoch 1690: 100%|██████████| 507/507 [00:06<00:00, 74.43it/s]\n",
      "Training Epoch 1691: 100%|██████████| 507/507 [00:06<00:00, 77.04it/s]\n"
     ]
    },
    {
     "name": "stdout",
     "output_type": "stream",
     "text": [
      "Epoch 1690 - Train Loss: 0.0453, Train MSE: 0.0453, Train MAE: 0.1503\n",
      "Epoch 1690 - Validation Loss: 1.3760, Validation MSE: 1.3793, Validation MAE: 0.8155\n"
     ]
    },
    {
     "name": "stderr",
     "output_type": "stream",
     "text": [
      "Training Epoch 1692: 100%|██████████| 507/507 [00:06<00:00, 74.88it/s]\n",
      "Training Epoch 1693: 100%|██████████| 507/507 [00:06<00:00, 76.49it/s]\n",
      "Training Epoch 1694: 100%|██████████| 507/507 [00:06<00:00, 77.63it/s]\n",
      "Training Epoch 1695: 100%|██████████| 507/507 [00:06<00:00, 74.91it/s]\n",
      "Training Epoch 1696: 100%|██████████| 507/507 [00:06<00:00, 75.49it/s]\n",
      "Training Epoch 1697: 100%|██████████| 507/507 [00:06<00:00, 75.30it/s]\n",
      "Training Epoch 1698: 100%|██████████| 507/507 [00:06<00:00, 75.56it/s]\n",
      "Training Epoch 1699: 100%|██████████| 507/507 [00:06<00:00, 75.88it/s]\n",
      "Training Epoch 1700: 100%|██████████| 507/507 [00:06<00:00, 75.65it/s]\n",
      "Training Epoch 1701: 100%|██████████| 507/507 [00:06<00:00, 75.20it/s]\n"
     ]
    },
    {
     "name": "stdout",
     "output_type": "stream",
     "text": [
      "Epoch 1700 - Train Loss: 0.0374, Train MSE: 0.0374, Train MAE: 0.1401\n",
      "Epoch 1700 - Validation Loss: 1.3548, Validation MSE: 1.3581, Validation MAE: 0.8041\n"
     ]
    },
    {
     "name": "stderr",
     "output_type": "stream",
     "text": [
      "Training Epoch 1702: 100%|██████████| 507/507 [00:06<00:00, 75.66it/s]\n",
      "Training Epoch 1703: 100%|██████████| 507/507 [00:06<00:00, 77.04it/s]\n",
      "Training Epoch 1704: 100%|██████████| 507/507 [00:06<00:00, 74.45it/s]\n",
      "Training Epoch 1705: 100%|██████████| 507/507 [00:06<00:00, 73.38it/s]\n",
      "Training Epoch 1706: 100%|██████████| 507/507 [00:06<00:00, 75.12it/s]\n",
      "Training Epoch 1707: 100%|██████████| 507/507 [00:06<00:00, 77.03it/s]\n",
      "Training Epoch 1708: 100%|██████████| 507/507 [00:06<00:00, 74.29it/s]\n",
      "Training Epoch 1709: 100%|██████████| 507/507 [00:06<00:00, 74.76it/s]\n",
      "Training Epoch 1710: 100%|██████████| 507/507 [00:06<00:00, 74.16it/s]\n",
      "Training Epoch 1711: 100%|██████████| 507/507 [00:06<00:00, 74.75it/s]\n"
     ]
    },
    {
     "name": "stdout",
     "output_type": "stream",
     "text": [
      "Epoch 1710 - Train Loss: 0.0416, Train MSE: 0.0417, Train MAE: 0.1468\n",
      "Epoch 1710 - Validation Loss: 1.3781, Validation MSE: 1.3817, Validation MAE: 0.8052\n"
     ]
    },
    {
     "name": "stderr",
     "output_type": "stream",
     "text": [
      "Training Epoch 1712: 100%|██████████| 507/507 [00:06<00:00, 76.91it/s]\n",
      "Training Epoch 1713: 100%|██████████| 507/507 [00:06<00:00, 76.26it/s]\n",
      "Training Epoch 1714: 100%|██████████| 507/507 [00:06<00:00, 74.75it/s]\n",
      "Training Epoch 1715: 100%|██████████| 507/507 [00:06<00:00, 74.16it/s]\n",
      "Training Epoch 1716: 100%|██████████| 507/507 [00:06<00:00, 75.34it/s]\n",
      "Training Epoch 1717: 100%|██████████| 507/507 [00:06<00:00, 73.87it/s]\n",
      "Training Epoch 1718: 100%|██████████| 507/507 [00:06<00:00, 74.34it/s]\n",
      "Training Epoch 1719: 100%|██████████| 507/507 [00:06<00:00, 74.53it/s]\n",
      "Training Epoch 1720: 100%|██████████| 507/507 [00:06<00:00, 74.79it/s]\n",
      "Training Epoch 1721: 100%|██████████| 507/507 [00:06<00:00, 74.40it/s]\n"
     ]
    },
    {
     "name": "stdout",
     "output_type": "stream",
     "text": [
      "Epoch 1720 - Train Loss: 0.0432, Train MSE: 0.0433, Train MAE: 0.1461\n",
      "Epoch 1720 - Validation Loss: 1.3520, Validation MSE: 1.3556, Validation MAE: 0.7998\n"
     ]
    },
    {
     "name": "stderr",
     "output_type": "stream",
     "text": [
      "Training Epoch 1722: 100%|██████████| 507/507 [00:06<00:00, 73.42it/s]\n",
      "Training Epoch 1723: 100%|██████████| 507/507 [00:06<00:00, 76.67it/s]\n",
      "Training Epoch 1724: 100%|██████████| 507/507 [00:06<00:00, 75.77it/s]\n",
      "Training Epoch 1725: 100%|██████████| 507/507 [00:06<00:00, 74.40it/s]\n",
      "Training Epoch 1726: 100%|██████████| 507/507 [00:06<00:00, 73.24it/s]\n",
      "Training Epoch 1727: 100%|██████████| 507/507 [00:06<00:00, 75.92it/s]\n",
      "Training Epoch 1728: 100%|██████████| 507/507 [00:06<00:00, 74.37it/s]\n",
      "Training Epoch 1729: 100%|██████████| 507/507 [00:06<00:00, 75.85it/s]\n",
      "Training Epoch 1730: 100%|██████████| 507/507 [00:06<00:00, 75.04it/s]\n",
      "Training Epoch 1731: 100%|██████████| 507/507 [00:06<00:00, 73.30it/s]\n"
     ]
    },
    {
     "name": "stdout",
     "output_type": "stream",
     "text": [
      "Epoch 1730 - Train Loss: 0.0345, Train MSE: 0.0345, Train MAE: 0.1374\n",
      "Epoch 1730 - Validation Loss: 1.3668, Validation MSE: 1.3702, Validation MAE: 0.8073\n"
     ]
    },
    {
     "name": "stderr",
     "output_type": "stream",
     "text": [
      "Training Epoch 1732: 100%|██████████| 507/507 [00:06<00:00, 74.76it/s]\n",
      "Training Epoch 1733: 100%|██████████| 507/507 [00:06<00:00, 74.21it/s]\n",
      "Training Epoch 1734: 100%|██████████| 507/507 [00:06<00:00, 75.38it/s]\n",
      "Training Epoch 1735: 100%|██████████| 507/507 [00:06<00:00, 76.48it/s]\n",
      "Training Epoch 1736: 100%|██████████| 507/507 [00:06<00:00, 74.44it/s]\n",
      "Training Epoch 1737: 100%|██████████| 507/507 [00:06<00:00, 75.48it/s]\n",
      "Training Epoch 1738: 100%|██████████| 507/507 [00:06<00:00, 75.57it/s]\n",
      "Training Epoch 1739: 100%|██████████| 507/507 [00:06<00:00, 74.97it/s]\n",
      "Training Epoch 1740: 100%|██████████| 507/507 [00:06<00:00, 74.77it/s]\n",
      "Training Epoch 1741: 100%|██████████| 507/507 [00:06<00:00, 75.10it/s]\n"
     ]
    },
    {
     "name": "stdout",
     "output_type": "stream",
     "text": [
      "Epoch 1740 - Train Loss: 0.0476, Train MSE: 0.0475, Train MAE: 0.1514\n",
      "Epoch 1740 - Validation Loss: 1.3778, Validation MSE: 1.3812, Validation MAE: 0.8123\n"
     ]
    },
    {
     "name": "stderr",
     "output_type": "stream",
     "text": [
      "Training Epoch 1742: 100%|██████████| 507/507 [00:06<00:00, 75.05it/s]\n",
      "Training Epoch 1743: 100%|██████████| 507/507 [00:06<00:00, 74.54it/s]\n",
      "Training Epoch 1744: 100%|██████████| 507/507 [00:06<00:00, 73.70it/s]\n",
      "Training Epoch 1745: 100%|██████████| 507/507 [00:06<00:00, 75.11it/s]\n",
      "Training Epoch 1746: 100%|██████████| 507/507 [00:06<00:00, 75.81it/s]\n",
      "Training Epoch 1747: 100%|██████████| 507/507 [00:06<00:00, 74.39it/s]\n",
      "Training Epoch 1748: 100%|██████████| 507/507 [00:06<00:00, 74.54it/s]\n",
      "Training Epoch 1749: 100%|██████████| 507/507 [00:06<00:00, 73.85it/s]\n",
      "Training Epoch 1750: 100%|██████████| 507/507 [00:06<00:00, 75.04it/s]\n",
      "Training Epoch 1751: 100%|██████████| 507/507 [00:06<00:00, 74.49it/s]\n"
     ]
    },
    {
     "name": "stdout",
     "output_type": "stream",
     "text": [
      "Epoch 1750 - Train Loss: 0.0355, Train MSE: 0.0355, Train MAE: 0.1391\n",
      "Epoch 1750 - Validation Loss: 1.3720, Validation MSE: 1.3752, Validation MAE: 0.8035\n"
     ]
    },
    {
     "name": "stderr",
     "output_type": "stream",
     "text": [
      "Training Epoch 1752: 100%|██████████| 507/507 [00:06<00:00, 74.78it/s]\n",
      "Training Epoch 1753: 100%|██████████| 507/507 [00:06<00:00, 74.23it/s]\n",
      "Training Epoch 1754: 100%|██████████| 507/507 [00:06<00:00, 75.17it/s]\n",
      "Training Epoch 1755: 100%|██████████| 507/507 [00:06<00:00, 75.56it/s]\n",
      "Training Epoch 1756: 100%|██████████| 507/507 [00:06<00:00, 74.25it/s]\n",
      "Training Epoch 1757: 100%|██████████| 507/507 [00:06<00:00, 75.14it/s]\n",
      "Training Epoch 1758: 100%|██████████| 507/507 [00:06<00:00, 74.35it/s]\n",
      "Training Epoch 1759: 100%|██████████| 507/507 [00:06<00:00, 75.91it/s]\n",
      "Training Epoch 1760: 100%|██████████| 507/507 [00:06<00:00, 74.28it/s]\n",
      "Training Epoch 1761: 100%|██████████| 507/507 [00:06<00:00, 75.62it/s]\n"
     ]
    },
    {
     "name": "stdout",
     "output_type": "stream",
     "text": [
      "Epoch 1760 - Train Loss: 0.0382, Train MSE: 0.0382, Train MAE: 0.1423\n",
      "Epoch 1760 - Validation Loss: 1.3827, Validation MSE: 1.3864, Validation MAE: 0.8080\n"
     ]
    },
    {
     "name": "stderr",
     "output_type": "stream",
     "text": [
      "Training Epoch 1762: 100%|██████████| 507/507 [00:06<00:00, 73.09it/s]\n",
      "Training Epoch 1763: 100%|██████████| 507/507 [00:06<00:00, 76.02it/s]\n",
      "Training Epoch 1764: 100%|██████████| 507/507 [00:06<00:00, 73.00it/s]\n",
      "Training Epoch 1765: 100%|██████████| 507/507 [00:06<00:00, 74.64it/s]\n",
      "Training Epoch 1766: 100%|██████████| 507/507 [00:06<00:00, 77.06it/s]\n",
      "Training Epoch 1767: 100%|██████████| 507/507 [00:06<00:00, 73.81it/s]\n",
      "Training Epoch 1768: 100%|██████████| 507/507 [00:06<00:00, 75.40it/s]\n",
      "Training Epoch 1769: 100%|██████████| 507/507 [00:06<00:00, 74.57it/s]\n",
      "Training Epoch 1770: 100%|██████████| 507/507 [00:06<00:00, 75.36it/s]\n",
      "Training Epoch 1771: 100%|██████████| 507/507 [00:06<00:00, 74.59it/s]\n"
     ]
    },
    {
     "name": "stdout",
     "output_type": "stream",
     "text": [
      "Epoch 1770 - Train Loss: 0.0380, Train MSE: 0.0379, Train MAE: 0.1413\n",
      "Epoch 1770 - Validation Loss: 1.3748, Validation MSE: 1.3780, Validation MAE: 0.8107\n"
     ]
    },
    {
     "name": "stderr",
     "output_type": "stream",
     "text": [
      "Training Epoch 1772: 100%|██████████| 507/507 [00:06<00:00, 75.17it/s]\n",
      "Training Epoch 1773: 100%|██████████| 507/507 [00:06<00:00, 74.68it/s]\n",
      "Training Epoch 1774: 100%|██████████| 507/507 [00:06<00:00, 74.83it/s]\n",
      "Training Epoch 1775: 100%|██████████| 507/507 [00:06<00:00, 74.07it/s]\n",
      "Training Epoch 1776: 100%|██████████| 507/507 [00:06<00:00, 73.26it/s]\n",
      "Training Epoch 1777: 100%|██████████| 507/507 [00:06<00:00, 74.68it/s]\n",
      "Training Epoch 1778: 100%|██████████| 507/507 [00:06<00:00, 73.72it/s]\n",
      "Training Epoch 1779: 100%|██████████| 507/507 [00:06<00:00, 75.99it/s]\n",
      "Training Epoch 1780: 100%|██████████| 507/507 [00:06<00:00, 76.23it/s]\n",
      "Training Epoch 1781: 100%|██████████| 507/507 [00:06<00:00, 73.54it/s]\n"
     ]
    },
    {
     "name": "stdout",
     "output_type": "stream",
     "text": [
      "Epoch 1780 - Train Loss: 0.0358, Train MSE: 0.0358, Train MAE: 0.1372\n",
      "Epoch 1780 - Validation Loss: 1.3628, Validation MSE: 1.3663, Validation MAE: 0.8041\n"
     ]
    },
    {
     "name": "stderr",
     "output_type": "stream",
     "text": [
      "Training Epoch 1782: 100%|██████████| 507/507 [00:06<00:00, 74.27it/s]\n",
      "Training Epoch 1783: 100%|██████████| 507/507 [00:06<00:00, 73.89it/s]\n",
      "Training Epoch 1784: 100%|██████████| 507/507 [00:06<00:00, 74.59it/s]\n",
      "Training Epoch 1785: 100%|██████████| 507/507 [00:06<00:00, 74.50it/s]\n",
      "Training Epoch 1786: 100%|██████████| 507/507 [00:06<00:00, 74.27it/s]\n",
      "Training Epoch 1787: 100%|██████████| 507/507 [00:06<00:00, 74.13it/s]\n",
      "Training Epoch 1788: 100%|██████████| 507/507 [00:06<00:00, 75.51it/s]\n",
      "Training Epoch 1789: 100%|██████████| 507/507 [00:06<00:00, 74.38it/s]\n",
      "Training Epoch 1790: 100%|██████████| 507/507 [00:06<00:00, 74.60it/s]\n",
      "Training Epoch 1791: 100%|██████████| 507/507 [00:06<00:00, 75.17it/s]\n"
     ]
    },
    {
     "name": "stdout",
     "output_type": "stream",
     "text": [
      "Epoch 1790 - Train Loss: 0.0482, Train MSE: 0.0483, Train MAE: 0.1525\n",
      "Epoch 1790 - Validation Loss: 1.4021, Validation MSE: 1.4053, Validation MAE: 0.8187\n"
     ]
    },
    {
     "name": "stderr",
     "output_type": "stream",
     "text": [
      "Training Epoch 1792: 100%|██████████| 507/507 [00:06<00:00, 78.26it/s]\n",
      "Training Epoch 1793: 100%|██████████| 507/507 [00:06<00:00, 74.71it/s]\n",
      "Training Epoch 1794: 100%|██████████| 507/507 [00:06<00:00, 73.48it/s]\n",
      "Training Epoch 1795: 100%|██████████| 507/507 [00:06<00:00, 74.06it/s]\n",
      "Training Epoch 1796: 100%|██████████| 507/507 [00:06<00:00, 74.28it/s]\n",
      "Training Epoch 1797: 100%|██████████| 507/507 [00:06<00:00, 75.41it/s]\n",
      "Training Epoch 1798: 100%|██████████| 507/507 [00:06<00:00, 75.43it/s]\n",
      "Training Epoch 1799: 100%|██████████| 507/507 [00:06<00:00, 74.54it/s]\n",
      "Training Epoch 1800: 100%|██████████| 507/507 [00:06<00:00, 75.43it/s]\n",
      "Training Epoch 1801: 100%|██████████| 507/507 [00:06<00:00, 74.14it/s]\n"
     ]
    },
    {
     "name": "stdout",
     "output_type": "stream",
     "text": [
      "Epoch 1800 - Train Loss: 0.0406, Train MSE: 0.0406, Train MAE: 0.1435\n",
      "Epoch 1800 - Validation Loss: 1.4010, Validation MSE: 1.4039, Validation MAE: 0.8126\n"
     ]
    },
    {
     "name": "stderr",
     "output_type": "stream",
     "text": [
      "Training Epoch 1802: 100%|██████████| 507/507 [00:06<00:00, 75.73it/s]\n",
      "Training Epoch 1803: 100%|██████████| 507/507 [00:06<00:00, 73.70it/s]\n",
      "Training Epoch 1804: 100%|██████████| 507/507 [00:06<00:00, 74.22it/s]\n",
      "Training Epoch 1805: 100%|██████████| 507/507 [00:06<00:00, 74.96it/s]\n",
      "Training Epoch 1806: 100%|██████████| 507/507 [00:06<00:00, 75.20it/s]\n",
      "Training Epoch 1807: 100%|██████████| 507/507 [00:06<00:00, 73.79it/s]\n",
      "Training Epoch 1808: 100%|██████████| 507/507 [00:06<00:00, 75.86it/s]\n",
      "Training Epoch 1809: 100%|██████████| 507/507 [00:06<00:00, 73.42it/s]\n",
      "Training Epoch 1810: 100%|██████████| 507/507 [00:06<00:00, 74.56it/s]\n",
      "Training Epoch 1811: 100%|██████████| 507/507 [00:06<00:00, 74.47it/s]\n"
     ]
    },
    {
     "name": "stdout",
     "output_type": "stream",
     "text": [
      "Epoch 1810 - Train Loss: 0.0341, Train MSE: 0.0341, Train MAE: 0.1358\n",
      "Epoch 1810 - Validation Loss: 1.3973, Validation MSE: 1.4010, Validation MAE: 0.8084\n"
     ]
    },
    {
     "name": "stderr",
     "output_type": "stream",
     "text": [
      "Training Epoch 1812: 100%|██████████| 507/507 [00:06<00:00, 74.78it/s]\n",
      "Training Epoch 1813: 100%|██████████| 507/507 [00:06<00:00, 74.66it/s]\n",
      "Training Epoch 1814: 100%|██████████| 507/507 [00:06<00:00, 73.15it/s]\n",
      "Training Epoch 1815: 100%|██████████| 507/507 [00:06<00:00, 75.27it/s]\n",
      "Training Epoch 1816: 100%|██████████| 507/507 [00:06<00:00, 73.88it/s]\n",
      "Training Epoch 1817: 100%|██████████| 507/507 [00:06<00:00, 76.25it/s]\n",
      "Training Epoch 1818: 100%|██████████| 507/507 [00:06<00:00, 74.56it/s]\n",
      "Training Epoch 1819: 100%|██████████| 507/507 [00:06<00:00, 75.09it/s]\n",
      "Training Epoch 1820: 100%|██████████| 507/507 [00:06<00:00, 75.35it/s]\n",
      "Training Epoch 1821: 100%|██████████| 507/507 [00:06<00:00, 75.31it/s]\n"
     ]
    },
    {
     "name": "stdout",
     "output_type": "stream",
     "text": [
      "Epoch 1820 - Train Loss: 0.0398, Train MSE: 0.0397, Train MAE: 0.1420\n",
      "Epoch 1820 - Validation Loss: 1.4600, Validation MSE: 1.4635, Validation MAE: 0.8351\n"
     ]
    },
    {
     "name": "stderr",
     "output_type": "stream",
     "text": [
      "Training Epoch 1822: 100%|██████████| 507/507 [00:06<00:00, 75.02it/s]\n",
      "Training Epoch 1823: 100%|██████████| 507/507 [00:06<00:00, 74.94it/s]\n",
      "Training Epoch 1824: 100%|██████████| 507/507 [00:06<00:00, 75.10it/s]\n",
      "Training Epoch 1825: 100%|██████████| 507/507 [00:06<00:00, 74.43it/s]\n",
      "Training Epoch 1826: 100%|██████████| 507/507 [00:06<00:00, 75.91it/s]\n",
      "Training Epoch 1827: 100%|██████████| 507/507 [00:06<00:00, 73.87it/s]\n",
      "Training Epoch 1828: 100%|██████████| 507/507 [00:06<00:00, 73.68it/s]\n",
      "Training Epoch 1829: 100%|██████████| 507/507 [00:06<00:00, 75.57it/s]\n",
      "Training Epoch 1830: 100%|██████████| 507/507 [00:06<00:00, 74.37it/s]\n",
      "Training Epoch 1831: 100%|██████████| 507/507 [00:06<00:00, 75.03it/s]\n"
     ]
    },
    {
     "name": "stdout",
     "output_type": "stream",
     "text": [
      "Epoch 1830 - Train Loss: 0.0361, Train MSE: 0.0362, Train MAE: 0.1388\n",
      "Epoch 1830 - Validation Loss: 1.3770, Validation MSE: 1.3810, Validation MAE: 0.8063\n"
     ]
    },
    {
     "name": "stderr",
     "output_type": "stream",
     "text": [
      "Training Epoch 1832: 100%|██████████| 507/507 [00:06<00:00, 74.01it/s]\n",
      "Training Epoch 1833: 100%|██████████| 507/507 [00:06<00:00, 74.86it/s]\n",
      "Training Epoch 1834: 100%|██████████| 507/507 [00:06<00:00, 75.27it/s]\n",
      "Training Epoch 1835: 100%|██████████| 507/507 [00:06<00:00, 76.37it/s]\n",
      "Training Epoch 1836: 100%|██████████| 507/507 [00:06<00:00, 74.70it/s]\n",
      "Training Epoch 1837: 100%|██████████| 507/507 [00:06<00:00, 74.99it/s]\n",
      "Training Epoch 1838: 100%|██████████| 507/507 [00:06<00:00, 74.04it/s]\n",
      "Training Epoch 1839: 100%|██████████| 507/507 [00:06<00:00, 73.94it/s]\n",
      "Training Epoch 1840: 100%|██████████| 507/507 [00:06<00:00, 74.16it/s]\n",
      "Training Epoch 1841: 100%|██████████| 507/507 [00:06<00:00, 74.03it/s]\n"
     ]
    },
    {
     "name": "stdout",
     "output_type": "stream",
     "text": [
      "Epoch 1840 - Train Loss: 0.0396, Train MSE: 0.0395, Train MAE: 0.1436\n",
      "Epoch 1840 - Validation Loss: 1.3826, Validation MSE: 1.3864, Validation MAE: 0.8084\n"
     ]
    },
    {
     "name": "stderr",
     "output_type": "stream",
     "text": [
      "Training Epoch 1842: 100%|██████████| 507/507 [00:06<00:00, 75.23it/s]\n",
      "Training Epoch 1843: 100%|██████████| 507/507 [00:06<00:00, 73.62it/s]\n",
      "Training Epoch 1844: 100%|██████████| 507/507 [00:06<00:00, 74.49it/s]\n",
      "Training Epoch 1845: 100%|██████████| 507/507 [00:06<00:00, 74.12it/s]\n",
      "Training Epoch 1846: 100%|██████████| 507/507 [00:06<00:00, 74.92it/s]\n",
      "Training Epoch 1847: 100%|██████████| 507/507 [00:06<00:00, 74.50it/s]\n",
      "Training Epoch 1848: 100%|██████████| 507/507 [00:06<00:00, 73.60it/s]\n",
      "Training Epoch 1849: 100%|██████████| 507/507 [00:06<00:00, 76.89it/s]\n",
      "Training Epoch 1850: 100%|██████████| 507/507 [00:06<00:00, 74.41it/s]\n",
      "Training Epoch 1851: 100%|██████████| 507/507 [00:06<00:00, 77.81it/s]\n"
     ]
    },
    {
     "name": "stdout",
     "output_type": "stream",
     "text": [
      "Epoch 1850 - Train Loss: 0.0456, Train MSE: 0.0456, Train MAE: 0.1500\n",
      "Epoch 1850 - Validation Loss: 1.3767, Validation MSE: 1.3801, Validation MAE: 0.8051\n"
     ]
    },
    {
     "name": "stderr",
     "output_type": "stream",
     "text": [
      "Training Epoch 1852: 100%|██████████| 507/507 [00:06<00:00, 73.98it/s]\n",
      "Training Epoch 1853: 100%|██████████| 507/507 [00:06<00:00, 75.02it/s]\n",
      "Training Epoch 1854: 100%|██████████| 507/507 [00:06<00:00, 73.34it/s]\n",
      "Training Epoch 1855: 100%|██████████| 507/507 [00:06<00:00, 74.94it/s]\n",
      "Training Epoch 1856: 100%|██████████| 507/507 [00:06<00:00, 74.97it/s]\n",
      "Training Epoch 1857: 100%|██████████| 507/507 [00:06<00:00, 75.97it/s]\n",
      "Training Epoch 1858: 100%|██████████| 507/507 [00:06<00:00, 75.91it/s]\n",
      "Training Epoch 1859: 100%|██████████| 507/507 [00:06<00:00, 74.26it/s]\n",
      "Training Epoch 1860: 100%|██████████| 507/507 [00:06<00:00, 75.03it/s]\n",
      "Training Epoch 1861: 100%|██████████| 507/507 [00:06<00:00, 73.83it/s]\n"
     ]
    },
    {
     "name": "stdout",
     "output_type": "stream",
     "text": [
      "Epoch 1860 - Train Loss: 0.0353, Train MSE: 0.0354, Train MAE: 0.1346\n",
      "Epoch 1860 - Validation Loss: 1.3675, Validation MSE: 1.3710, Validation MAE: 0.8008\n"
     ]
    },
    {
     "name": "stderr",
     "output_type": "stream",
     "text": [
      "Training Epoch 1862: 100%|██████████| 507/507 [00:06<00:00, 75.93it/s]\n",
      "Training Epoch 1863: 100%|██████████| 507/507 [00:06<00:00, 73.64it/s]\n",
      "Training Epoch 1864: 100%|██████████| 507/507 [00:06<00:00, 74.90it/s]\n",
      "Training Epoch 1865: 100%|██████████| 507/507 [00:06<00:00, 76.50it/s]\n",
      "Training Epoch 1866: 100%|██████████| 507/507 [00:06<00:00, 73.89it/s]\n",
      "Training Epoch 1867: 100%|██████████| 507/507 [00:06<00:00, 75.18it/s]\n",
      "Training Epoch 1868: 100%|██████████| 507/507 [00:06<00:00, 75.15it/s]\n",
      "Training Epoch 1869: 100%|██████████| 507/507 [00:06<00:00, 74.57it/s]\n",
      "Training Epoch 1870: 100%|██████████| 507/507 [00:06<00:00, 74.79it/s]\n",
      "Training Epoch 1871: 100%|██████████| 507/507 [00:06<00:00, 74.31it/s]\n"
     ]
    },
    {
     "name": "stdout",
     "output_type": "stream",
     "text": [
      "Epoch 1870 - Train Loss: 0.0393, Train MSE: 0.0393, Train MAE: 0.1396\n",
      "Epoch 1870 - Validation Loss: 1.3939, Validation MSE: 1.3972, Validation MAE: 0.8078\n"
     ]
    },
    {
     "name": "stderr",
     "output_type": "stream",
     "text": [
      "Training Epoch 1872: 100%|██████████| 507/507 [00:06<00:00, 75.84it/s]\n",
      "Training Epoch 1873: 100%|██████████| 507/507 [00:06<00:00, 75.57it/s]\n",
      "Training Epoch 1874: 100%|██████████| 507/507 [00:06<00:00, 75.07it/s]\n",
      "Training Epoch 1875: 100%|██████████| 507/507 [00:06<00:00, 73.73it/s]\n",
      "Training Epoch 1876: 100%|██████████| 507/507 [00:06<00:00, 75.10it/s]\n",
      "Training Epoch 1877: 100%|██████████| 507/507 [00:06<00:00, 74.08it/s]\n",
      "Training Epoch 1878: 100%|██████████| 507/507 [00:06<00:00, 75.32it/s]\n",
      "Training Epoch 1879: 100%|██████████| 507/507 [00:06<00:00, 74.45it/s]\n",
      "Training Epoch 1880: 100%|██████████| 507/507 [00:06<00:00, 74.97it/s]\n",
      "Training Epoch 1881: 100%|██████████| 507/507 [00:06<00:00, 74.69it/s]\n"
     ]
    },
    {
     "name": "stdout",
     "output_type": "stream",
     "text": [
      "Epoch 1880 - Train Loss: 0.0380, Train MSE: 0.0380, Train MAE: 0.1388\n",
      "Epoch 1880 - Validation Loss: 1.3797, Validation MSE: 1.3837, Validation MAE: 0.8067\n"
     ]
    },
    {
     "name": "stderr",
     "output_type": "stream",
     "text": [
      "Training Epoch 1882: 100%|██████████| 507/507 [00:06<00:00, 74.32it/s]\n",
      "Training Epoch 1883: 100%|██████████| 507/507 [00:06<00:00, 75.35it/s]\n",
      "Training Epoch 1884: 100%|██████████| 507/507 [00:06<00:00, 74.03it/s]\n",
      "Training Epoch 1885: 100%|██████████| 507/507 [00:06<00:00, 74.86it/s]\n",
      "Training Epoch 1886: 100%|██████████| 507/507 [00:06<00:00, 74.81it/s]\n",
      "Training Epoch 1887: 100%|██████████| 507/507 [00:06<00:00, 74.36it/s]\n",
      "Training Epoch 1888: 100%|██████████| 507/507 [00:06<00:00, 73.00it/s]\n",
      "Training Epoch 1889: 100%|██████████| 507/507 [00:06<00:00, 76.10it/s]\n",
      "Training Epoch 1890: 100%|██████████| 507/507 [00:06<00:00, 73.56it/s]\n",
      "Training Epoch 1891: 100%|██████████| 507/507 [00:06<00:00, 74.31it/s]\n"
     ]
    },
    {
     "name": "stdout",
     "output_type": "stream",
     "text": [
      "Epoch 1890 - Train Loss: 0.0348, Train MSE: 0.0348, Train MAE: 0.1350\n",
      "Epoch 1890 - Validation Loss: 1.3931, Validation MSE: 1.3970, Validation MAE: 0.8045\n"
     ]
    },
    {
     "name": "stderr",
     "output_type": "stream",
     "text": [
      "Training Epoch 1892: 100%|██████████| 507/507 [00:06<00:00, 74.31it/s]\n",
      "Training Epoch 1893: 100%|██████████| 507/507 [00:06<00:00, 74.34it/s]\n",
      "Training Epoch 1894: 100%|██████████| 507/507 [00:06<00:00, 74.59it/s]\n",
      "Training Epoch 1895: 100%|██████████| 507/507 [00:06<00:00, 73.83it/s]\n",
      "Training Epoch 1896: 100%|██████████| 507/507 [00:06<00:00, 74.92it/s]\n",
      "Training Epoch 1897: 100%|██████████| 507/507 [00:06<00:00, 73.83it/s]\n",
      "Training Epoch 1898: 100%|██████████| 507/507 [00:06<00:00, 75.33it/s]\n",
      "Training Epoch 1899: 100%|██████████| 507/507 [00:06<00:00, 74.09it/s]\n",
      "Training Epoch 1900: 100%|██████████| 507/507 [00:06<00:00, 76.23it/s]\n",
      "Training Epoch 1901: 100%|██████████| 507/507 [00:06<00:00, 75.11it/s]\n"
     ]
    },
    {
     "name": "stdout",
     "output_type": "stream",
     "text": [
      "Epoch 1900 - Train Loss: 0.0427, Train MSE: 0.0427, Train MAE: 0.1441\n",
      "Epoch 1900 - Validation Loss: 1.3829, Validation MSE: 1.3867, Validation MAE: 0.8114\n"
     ]
    },
    {
     "name": "stderr",
     "output_type": "stream",
     "text": [
      "Training Epoch 1902: 100%|██████████| 507/507 [00:06<00:00, 73.88it/s]\n",
      "Training Epoch 1903: 100%|██████████| 507/507 [00:06<00:00, 75.09it/s]\n",
      "Training Epoch 1904: 100%|██████████| 507/507 [00:06<00:00, 72.96it/s]\n",
      "Training Epoch 1905: 100%|██████████| 507/507 [00:06<00:00, 75.67it/s]\n",
      "Training Epoch 1906: 100%|██████████| 507/507 [00:06<00:00, 74.74it/s]\n",
      "Training Epoch 1907: 100%|██████████| 507/507 [00:06<00:00, 75.58it/s]\n",
      "Training Epoch 1908: 100%|██████████| 507/507 [00:06<00:00, 73.82it/s]\n",
      "Training Epoch 1909: 100%|██████████| 507/507 [00:06<00:00, 74.43it/s]\n",
      "Training Epoch 1910: 100%|██████████| 507/507 [00:06<00:00, 75.44it/s]\n",
      "Training Epoch 1911: 100%|██████████| 507/507 [00:06<00:00, 74.33it/s]\n"
     ]
    },
    {
     "name": "stdout",
     "output_type": "stream",
     "text": [
      "Epoch 1910 - Train Loss: 0.0390, Train MSE: 0.0390, Train MAE: 0.1402\n",
      "Epoch 1910 - Validation Loss: 1.3700, Validation MSE: 1.3734, Validation MAE: 0.8047\n"
     ]
    },
    {
     "name": "stderr",
     "output_type": "stream",
     "text": [
      "Training Epoch 1912: 100%|██████████| 507/507 [00:06<00:00, 74.89it/s]\n",
      "Training Epoch 1913: 100%|██████████| 507/507 [00:06<00:00, 74.99it/s]\n",
      "Training Epoch 1914: 100%|██████████| 507/507 [00:06<00:00, 74.86it/s]\n",
      "Training Epoch 1915: 100%|██████████| 507/507 [00:06<00:00, 76.33it/s]\n",
      "Training Epoch 1916: 100%|██████████| 507/507 [00:06<00:00, 73.77it/s]\n",
      "Training Epoch 1917: 100%|██████████| 507/507 [00:06<00:00, 74.10it/s]\n",
      "Training Epoch 1918: 100%|██████████| 507/507 [00:06<00:00, 75.66it/s]\n",
      "Training Epoch 1919: 100%|██████████| 507/507 [00:06<00:00, 74.80it/s]\n",
      "Training Epoch 1920: 100%|██████████| 507/507 [00:06<00:00, 72.67it/s]\n",
      "Training Epoch 1921: 100%|██████████| 507/507 [00:06<00:00, 75.70it/s]\n"
     ]
    },
    {
     "name": "stdout",
     "output_type": "stream",
     "text": [
      "Epoch 1920 - Train Loss: 0.0354, Train MSE: 0.0354, Train MAE: 0.1355\n",
      "Epoch 1920 - Validation Loss: 1.3720, Validation MSE: 1.3756, Validation MAE: 0.8026\n"
     ]
    },
    {
     "name": "stderr",
     "output_type": "stream",
     "text": [
      "Training Epoch 1922: 100%|██████████| 507/507 [00:06<00:00, 74.31it/s]\n",
      "Training Epoch 1923: 100%|██████████| 507/507 [00:06<00:00, 75.31it/s]\n",
      "Training Epoch 1924: 100%|██████████| 507/507 [00:06<00:00, 73.54it/s]\n",
      "Training Epoch 1925: 100%|██████████| 507/507 [00:06<00:00, 75.08it/s]\n",
      "Training Epoch 1926: 100%|██████████| 507/507 [00:06<00:00, 74.97it/s]\n",
      "Training Epoch 1927: 100%|██████████| 507/507 [00:06<00:00, 75.10it/s]\n",
      "Training Epoch 1928: 100%|██████████| 507/507 [00:06<00:00, 75.07it/s]\n",
      "Training Epoch 1929: 100%|██████████| 507/507 [00:06<00:00, 74.10it/s]\n",
      "Training Epoch 1930: 100%|██████████| 507/507 [00:06<00:00, 73.86it/s]\n",
      "Training Epoch 1931: 100%|██████████| 507/507 [00:06<00:00, 75.17it/s]\n"
     ]
    },
    {
     "name": "stdout",
     "output_type": "stream",
     "text": [
      "Epoch 1930 - Train Loss: 0.0407, Train MSE: 0.0407, Train MAE: 0.1389\n",
      "Epoch 1930 - Validation Loss: 1.3883, Validation MSE: 1.3921, Validation MAE: 0.8070\n"
     ]
    },
    {
     "name": "stderr",
     "output_type": "stream",
     "text": [
      "Training Epoch 1932: 100%|██████████| 507/507 [00:06<00:00, 75.75it/s]\n",
      "Training Epoch 1933: 100%|██████████| 507/507 [00:06<00:00, 74.56it/s]\n",
      "Training Epoch 1934: 100%|██████████| 507/507 [00:06<00:00, 73.94it/s]\n",
      "Training Epoch 1935: 100%|██████████| 507/507 [00:06<00:00, 74.82it/s]\n",
      "Training Epoch 1936: 100%|██████████| 507/507 [00:06<00:00, 74.66it/s]\n",
      "Training Epoch 1937: 100%|██████████| 507/507 [00:06<00:00, 75.68it/s]\n",
      "Training Epoch 1938: 100%|██████████| 507/507 [00:06<00:00, 75.76it/s]\n",
      "Training Epoch 1939: 100%|██████████| 507/507 [00:06<00:00, 73.94it/s]\n",
      "Training Epoch 1940: 100%|██████████| 507/507 [00:06<00:00, 73.66it/s]\n",
      "Training Epoch 1941: 100%|██████████| 507/507 [00:06<00:00, 74.96it/s]\n"
     ]
    },
    {
     "name": "stdout",
     "output_type": "stream",
     "text": [
      "Epoch 1940 - Train Loss: 0.0323, Train MSE: 0.0323, Train MAE: 0.1323\n",
      "Epoch 1940 - Validation Loss: 1.3754, Validation MSE: 1.3795, Validation MAE: 0.8027\n"
     ]
    },
    {
     "name": "stderr",
     "output_type": "stream",
     "text": [
      "Training Epoch 1942: 100%|██████████| 507/507 [00:06<00:00, 74.35it/s]\n",
      "Training Epoch 1943: 100%|██████████| 507/507 [00:06<00:00, 74.33it/s]\n",
      "Training Epoch 1944: 100%|██████████| 507/507 [00:06<00:00, 76.01it/s]\n",
      "Training Epoch 1945: 100%|██████████| 507/507 [00:06<00:00, 75.02it/s]\n",
      "Training Epoch 1946: 100%|██████████| 507/507 [00:06<00:00, 78.01it/s]\n",
      "Training Epoch 1947: 100%|██████████| 507/507 [00:06<00:00, 74.95it/s]\n",
      "Training Epoch 1948: 100%|██████████| 507/507 [00:06<00:00, 73.59it/s]\n",
      "Training Epoch 1949: 100%|██████████| 507/507 [00:06<00:00, 75.26it/s]\n",
      "Training Epoch 1950: 100%|██████████| 507/507 [00:06<00:00, 75.65it/s]\n",
      "Training Epoch 1951: 100%|██████████| 507/507 [00:06<00:00, 75.13it/s]\n"
     ]
    },
    {
     "name": "stdout",
     "output_type": "stream",
     "text": [
      "Epoch 1950 - Train Loss: 0.0338, Train MSE: 0.0338, Train MAE: 0.1346\n",
      "Epoch 1950 - Validation Loss: 1.3772, Validation MSE: 1.3806, Validation MAE: 0.8060\n"
     ]
    },
    {
     "name": "stderr",
     "output_type": "stream",
     "text": [
      "Training Epoch 1952: 100%|██████████| 507/507 [00:06<00:00, 74.69it/s]\n",
      "Training Epoch 1953: 100%|██████████| 507/507 [00:06<00:00, 72.87it/s]\n",
      "Training Epoch 1954: 100%|██████████| 507/507 [00:06<00:00, 74.34it/s]\n",
      "Training Epoch 1955: 100%|██████████| 507/507 [00:06<00:00, 73.67it/s]\n",
      "Training Epoch 1956: 100%|██████████| 507/507 [00:06<00:00, 74.33it/s]\n",
      "Training Epoch 1957: 100%|██████████| 507/507 [00:06<00:00, 75.44it/s]\n",
      "Training Epoch 1958: 100%|██████████| 507/507 [00:06<00:00, 73.04it/s]\n",
      "Training Epoch 1959: 100%|██████████| 507/507 [00:06<00:00, 77.92it/s]\n",
      "Training Epoch 1960: 100%|██████████| 507/507 [00:06<00:00, 74.97it/s]\n",
      "Training Epoch 1961: 100%|██████████| 507/507 [00:06<00:00, 75.96it/s]\n"
     ]
    },
    {
     "name": "stdout",
     "output_type": "stream",
     "text": [
      "Epoch 1960 - Train Loss: 0.0341, Train MSE: 0.0341, Train MAE: 0.1350\n",
      "Epoch 1960 - Validation Loss: 1.3671, Validation MSE: 1.3708, Validation MAE: 0.8021\n"
     ]
    },
    {
     "name": "stderr",
     "output_type": "stream",
     "text": [
      "Training Epoch 1962: 100%|██████████| 507/507 [00:06<00:00, 74.21it/s]\n",
      "Training Epoch 1963: 100%|██████████| 507/507 [00:06<00:00, 75.03it/s]\n",
      "Training Epoch 1964: 100%|██████████| 507/507 [00:06<00:00, 75.31it/s]\n",
      "Training Epoch 1965: 100%|██████████| 507/507 [00:06<00:00, 75.47it/s]\n",
      "Training Epoch 1966: 100%|██████████| 507/507 [00:06<00:00, 75.43it/s]\n",
      "Training Epoch 1967: 100%|██████████| 507/507 [00:06<00:00, 74.20it/s]\n",
      "Training Epoch 1968: 100%|██████████| 507/507 [00:06<00:00, 74.55it/s]\n",
      "Training Epoch 1969: 100%|██████████| 507/507 [00:06<00:00, 74.99it/s]\n",
      "Training Epoch 1970: 100%|██████████| 507/507 [00:06<00:00, 76.80it/s]\n",
      "Training Epoch 1971: 100%|██████████| 507/507 [00:06<00:00, 74.66it/s]\n"
     ]
    },
    {
     "name": "stdout",
     "output_type": "stream",
     "text": [
      "Epoch 1970 - Train Loss: 0.0384, Train MSE: 0.0384, Train MAE: 0.1387\n",
      "Epoch 1970 - Validation Loss: 1.3750, Validation MSE: 1.3788, Validation MAE: 0.8052\n"
     ]
    },
    {
     "name": "stderr",
     "output_type": "stream",
     "text": [
      "Training Epoch 1972: 100%|██████████| 507/507 [00:06<00:00, 75.42it/s]\n",
      "Training Epoch 1973: 100%|██████████| 507/507 [00:06<00:00, 75.33it/s]\n",
      "Training Epoch 1974: 100%|██████████| 507/507 [00:06<00:00, 73.37it/s]\n",
      "Training Epoch 1975: 100%|██████████| 507/507 [00:06<00:00, 76.28it/s]\n",
      "Training Epoch 1976: 100%|██████████| 507/507 [00:06<00:00, 73.89it/s]\n",
      "Training Epoch 1977: 100%|██████████| 507/507 [00:06<00:00, 75.80it/s]\n",
      "Training Epoch 1978: 100%|██████████| 507/507 [00:06<00:00, 75.24it/s]\n",
      "Training Epoch 1979: 100%|██████████| 507/507 [00:06<00:00, 75.28it/s]\n",
      "Training Epoch 1980: 100%|██████████| 507/507 [00:06<00:00, 74.08it/s]\n",
      "Training Epoch 1981: 100%|██████████| 507/507 [00:06<00:00, 77.15it/s]\n"
     ]
    },
    {
     "name": "stdout",
     "output_type": "stream",
     "text": [
      "Epoch 1980 - Train Loss: 0.0343, Train MSE: 0.0344, Train MAE: 0.1329\n",
      "Epoch 1980 - Validation Loss: 1.3914, Validation MSE: 1.3956, Validation MAE: 0.8124\n"
     ]
    },
    {
     "name": "stderr",
     "output_type": "stream",
     "text": [
      "Training Epoch 1982: 100%|██████████| 507/507 [00:06<00:00, 75.69it/s]\n",
      "Training Epoch 1983: 100%|██████████| 507/507 [00:06<00:00, 76.15it/s]\n",
      "Training Epoch 1984: 100%|██████████| 507/507 [00:06<00:00, 76.87it/s]\n",
      "Training Epoch 1985: 100%|██████████| 507/507 [00:06<00:00, 75.13it/s]\n",
      "Training Epoch 1986: 100%|██████████| 507/507 [00:06<00:00, 76.21it/s]\n",
      "Training Epoch 1987: 100%|██████████| 507/507 [00:06<00:00, 75.37it/s]\n",
      "Training Epoch 1988: 100%|██████████| 507/507 [00:06<00:00, 75.33it/s]\n",
      "Training Epoch 1989: 100%|██████████| 507/507 [00:06<00:00, 75.16it/s]\n",
      "Training Epoch 1990: 100%|██████████| 507/507 [00:06<00:00, 75.55it/s]\n",
      "Training Epoch 1991: 100%|██████████| 507/507 [00:06<00:00, 75.87it/s]\n"
     ]
    },
    {
     "name": "stdout",
     "output_type": "stream",
     "text": [
      "Epoch 1990 - Train Loss: 0.0342, Train MSE: 0.0342, Train MAE: 0.1338\n",
      "Epoch 1990 - Validation Loss: 1.3875, Validation MSE: 1.3909, Validation MAE: 0.8138\n"
     ]
    },
    {
     "name": "stderr",
     "output_type": "stream",
     "text": [
      "Training Epoch 1992: 100%|██████████| 507/507 [00:06<00:00, 75.05it/s]\n",
      "Training Epoch 1993: 100%|██████████| 507/507 [00:06<00:00, 77.07it/s]\n",
      "Training Epoch 1994: 100%|██████████| 507/507 [00:06<00:00, 74.92it/s]\n",
      "Training Epoch 1995: 100%|██████████| 507/507 [00:06<00:00, 75.90it/s]\n",
      "Training Epoch 1996: 100%|██████████| 507/507 [00:06<00:00, 75.54it/s]\n",
      "Training Epoch 1997: 100%|██████████| 507/507 [00:06<00:00, 76.03it/s]\n",
      "Training Epoch 1998: 100%|██████████| 507/507 [00:06<00:00, 75.34it/s]\n",
      "Training Epoch 1999: 100%|██████████| 507/507 [00:06<00:00, 75.92it/s]\n",
      "Training Epoch 2000: 100%|██████████| 507/507 [00:06<00:00, 74.99it/s]\n"
     ]
    },
    {
     "name": "stdout",
     "output_type": "stream",
     "text": [
      "Test MSE: 1.3198, Test MAE: 0.7734\n"
     ]
    }
   ],
   "source": [
    "import torch\n",
    "import torch.nn as nn\n",
    "import torch.optim as optim\n",
    "from tqdm import tqdm\n",
    "import pandas as pd\n",
    "from sklearn.metrics import r2_score, median_absolute_error, explained_variance_score\n",
    "from scipy.stats import pearsonr\n",
    "\n",
    "\n",
    "train_history = pd.DataFrame(columns=[  'epoch',\n",
    "    'Train Loss', 'Train MSE', 'Train MAE', 'Train RMSE', 'Train R2', 'Train Pearson', 'Train Median_AE', 'Train Explained_VAR'\n",
    "    'Val Loss', 'Val MSE', 'Val MAE', 'Val RMSE', 'Val R2', 'Val Pearson', 'Val Median_AE', 'Val Explained_VAR'])\n",
    "# Verify feature dimensions\n",
    "for batch in train_loader:\n",
    "    mol_input_dim = batch['metabolite_features'].shape[1]  # Dynamically determine mol input dimension\n",
    "    protein_input_dim = batch['protein_features'].shape[1]  # Dynamically determine protein input dimension\n",
    "    break\n",
    "\n",
    "# Initialize model, optimizer, and loss function\n",
    "num_timesteps = 10\n",
    "model = TransformerRegressor(mol_input_dim=mol_input_dim, protein_input_dim=protein_input_dim)\n",
    "model = model.to(device)\n",
    "optimizer = optim.Adam(model.parameters(), lr=0.0001)\n",
    "criterion = nn.MSELoss()\n",
    "\n",
    "# Training and Validation Loop\n",
    "for epoch in range(2000):\n",
    "    model.train()\n",
    "    total_loss = 0.0\n",
    "    val_total_loss = 0.0\n",
    "    train_predictions, train_labels = [], []\n",
    "\n",
    "    for batch in tqdm(train_loader, desc=f\"Training Epoch {epoch + 1}\"):\n",
    "        mol_features = batch['metabolite_features'].to(device)\n",
    "        protein_features = batch['protein_features'].to(device)\n",
    "        labels = batch['label'].to(device)\n",
    "\n",
    "        optimizer.zero_grad()\n",
    "        outputs = model(mol_features, protein_features)\n",
    "        loss = criterion(outputs, labels)\n",
    "        loss.backward()\n",
    "        optimizer.step()\n",
    "        total_loss += loss.item()\n",
    "\n",
    "        # Store predictions and labels for metrics\n",
    "        train_predictions.extend(outputs.detach().cpu().numpy())\n",
    "        train_labels.extend(labels.cpu().numpy())\n",
    "\n",
    "    # Calculate training metrics\n",
    "    train_mse = ((torch.tensor(train_predictions) - torch.tensor(train_labels))**2).mean().item()\n",
    "    train_mae = torch.abs(torch.tensor(train_predictions) - torch.tensor(train_labels)).mean().item()\n",
    "    train_rmse = torch.sqrt((torch.tensor(train_predictions) - torch.tensor(train_labels)) ** 2).mean().item()\n",
    "    train_r2 = r2_score(np.array(train_labels), np.array(train_predictions))\n",
    "    train_pearson_corr, _ = pearsonr(np.array(train_labels), np.array(train_predictions))\n",
    "    train_median_ae = median_absolute_error(np.array(train_labels), np.array(train_predictions))\n",
    "    train_explained_var = explained_variance_score(np.array(train_labels), np.array(train_predictions))\n",
    "\n",
    "\n",
    "\n",
    "    if epoch % 10 == 0:\n",
    "        print(f\"Epoch {epoch} - Train Loss: {total_loss / len(train_loader):.4f}, Train MSE: {train_mse:.4f}, Train MAE: {train_mae:.4f}\")\n",
    "\n",
    "    # Validation\n",
    "    model.eval()\n",
    "    val_predictions, val_labels = [], []\n",
    "    with torch.no_grad():\n",
    "        for batch in val_loader:\n",
    "            mol_features = batch['metabolite_features'].to(device)\n",
    "            protein_features = batch['protein_features'].to(device)\n",
    "            labels = batch['label'].to(device)\n",
    "\n",
    "            outputs = model(mol_features, protein_features)\n",
    "            val_predictions.extend(outputs.cpu().numpy())\n",
    "            val_labels.extend(labels.cpu().numpy())\n",
    "            val_loss = criterion(outputs, labels)\n",
    "            val_total_loss += val_loss.item()\n",
    "\n",
    "    val_mse = ((torch.tensor(val_predictions) - torch.tensor(val_labels))**2).mean().item()\n",
    "    val_mae = torch.abs(torch.tensor(val_predictions) - torch.tensor(val_labels)).mean().item()\n",
    "    val_rmse = torch.sqrt((torch.tensor(val_predictions) - torch.tensor(val_labels)) ** 2).mean().item()\n",
    "    val_r2 = r2_score(np.array(val_labels), np.array(val_predictions))\n",
    "    val_pearson_corr, _ = pearsonr(np.array(val_labels), np.array(val_predictions))\n",
    "    val_median_ae = median_absolute_error(np.array(val_labels), np.array(val_predictions))\n",
    "    val_explained_var = explained_variance_score(np.array(val_labels), np.array(val_predictions))\n",
    "\n",
    "    if epoch % 10 == 0:\n",
    "        print(f\"Epoch {epoch} - Validation Loss: {val_total_loss / len(val_loader):.4f}, Validation MSE: {val_mse:.4f}, Validation MAE: {val_mae:.4f}\")\n",
    "\n",
    "    # Save metrics to DataFrame\n",
    "    new_row = {'epoch': epoch + 1, 'Train Loss': total_loss / len(train_loader), 'Train MSE': train_mse, 'Train MAE': train_mae, 'Train RMSE': train_rmse, 'Train R2': train_r2, 'Train Pearson': train_pearson_corr, 'Train Median_AE': train_median_ae, 'Train Explained_VAR': train_explained_var, \n",
    "               'Val Loss': val_total_loss / len(val_loader), 'Val MSE': val_mse, 'Val MAE': val_mae, 'Val RMSE': val_rmse, 'Val R2': val_r2, 'Val Pearson': val_pearson_corr, 'Val Median_AE': val_median_ae, 'Val Explained_VAR': val_explained_var}\n",
    "    train_history = pd.concat([train_history, pd.DataFrame([new_row])], ignore_index=True)\n",
    "\n",
    "# Test Metrics\n",
    "model.eval()\n",
    "test_predictions, test_labels = [], []\n",
    "with torch.no_grad():\n",
    "    for batch in test_loader:\n",
    "        mol_features = batch['metabolite_features'].to(device)\n",
    "        protein_features = batch['protein_features'].to(device)\n",
    "        labels = batch['label'].to(device)\n",
    "\n",
    "        outputs = model(mol_features, protein_features)\n",
    "        test_predictions.extend(outputs.cpu().numpy())\n",
    "        test_labels.extend(labels.cpu().numpy())\n",
    "\n",
    "test_mse = ((torch.tensor(test_predictions) - torch.tensor(test_labels))**2).mean().item()\n",
    "test_mae = torch.abs(torch.tensor(test_predictions) - torch.tensor(test_labels)).mean().item()\n",
    "test_rmse = torch.sqrt((torch.tensor(test_predictions) - torch.tensor(test_labels)) ** 2).mean().item()\n",
    "test_r2 = r2_score(np.array(test_labels), np.array(test_predictions))\n",
    "test_pearson_corr, _ = pearsonr(np.array(test_labels), np.array(test_predictions))\n",
    "test_median_ae = median_absolute_error(np.array(test_labels), np.array(test_predictions))\n",
    "test_explained_var = explained_variance_score(np.array(test_labels), np.array(test_predictions))\n",
    "\n",
    "print(f\"Test MSE: {test_mse:.4f}, Test MAE: {test_mae:.4f}\")\n"
   ]
  },
  {
   "cell_type": "code",
   "execution_count": 9,
   "metadata": {},
   "outputs": [],
   "source": [
    "# append the performance to the csv file\n",
    "df = {\n",
    "    'Model':['Transformer','Transformer','Transformer'],\n",
    "    'Dataset':['Train','Validation','Test'],\n",
    "    'MSE':[train_history['Train MSE'].mean(),train_history['Val MSE'].mean(),test_mse],\n",
    "    'RMSE':[train_history['Train RMSE'].mean(),train_history['Val RMSE'].mean(),test_rmse],\n",
    "    'MAE':[train_history['Train MAE'].mean(),train_history['Val MAE'].mean(),test_mae],\n",
    "    'R2':[train_history['Train R2'].mean(),train_history['Val R2'].mean(),test_r2],\n",
    "    'Pearson':[train_history['Train Pearson'].mean(),train_history['Val Pearson'].mean(),test_pearson_corr],\n",
    "    'Median_AE':[train_history['Train Median_AE'].mean(),train_history['Val Median_AE'].mean(),test_median_ae],\n",
    "    'Explained_VAR':[train_history['Train Explained_VAR'].mean(),train_history['Val Explained_VAR'].mean(),test_explained_var],\n",
    "    'Dataspliting Mode':['random','random','random']\n",
    "}\n",
    "df = pd.DataFrame(df)\n",
    "\n",
    "df.to_csv('/Users/pinchichen/2025S lab/AI drug project/Catpred/model performance metrics_Catpred.csv', mode='a', header=False)"
   ]
  },
  {
   "cell_type": "code",
   "execution_count": 10,
   "metadata": {},
   "outputs": [],
   "source": [
    "# Save the model and training history\n",
    "save_dir = './trained_model/random_split'\n",
    "# save model weights and optimizer state\n",
    "torch.save(model.state_dict(), os.path.join(save_dir, 'Transformer model_Catpred.pt'))\n",
    "torch.save(optimizer.state_dict(), os.path.join(save_dir, 'Transformer optimizer_Catpred.pt'))"
   ]
  },
  {
   "cell_type": "code",
   "execution_count": 11,
   "metadata": {},
   "outputs": [
    {
     "data": {
      "image/png": "[encoded data removed]",
      "text/plain": [
       "<Figure size 1000x600 with 1 Axes>"
      ]
     },
     "metadata": {},
     "output_type": "display_data"
    }
   ],
   "source": [
    "import matplotlib.pyplot as plt\n",
    "import seaborn as sns\n",
    "sns.set(style='ticks')\n",
    "# Load metrics\n",
    "\n",
    "metrics = train_history\n",
    "\n",
    "# Plot the training loss over epochs using seaborn\n",
    "plt.figure(figsize=(10, 6))\n",
    "# sns.lineplot(data=metrics, x='epoch', y='Train Loss', label='Train Loss')\n",
    "# sns.lineplot(data=metrics, x='epoch', y='Val Loss', label='Val Loss')\n",
    "sns.lineplot(data=metrics, x='epoch', y='Val MSE', label='Valid_RMSE')\n",
    "sns.lineplot(data=metrics, x='epoch', y='Train MSE', label='Train_RMSE')\n",
    "# sns.lineplot(data=metrics, x='Epoch', y='Valid_MAE', label='Valid_MAE')\n",
    "# Add titles and labels\n",
    "plt.title('Training and Validation Metrics Over Epochs', fontsize=14)\n",
    "# Define the range of tick positions\n",
    "plt.xlabel('Epoch', fontsize=12)\n",
    "plt.ylabel('Loss', fontsize=12)\n",
    "plt.grid(False)\n",
    "# Show the plot\n",
    "plt.show()\n"
   ]
  },
  {
   "cell_type": "code",
   "execution_count": 12,
   "metadata": {},
   "outputs": [
    {
     "data": {
      "text/html": [
       "<div>\n",
       "<style scoped>\n",
       "    .dataframe tbody tr th:only-of-type {\n",
       "        vertical-align: middle;\n",
       "    }\n",
       "\n",
       "    .dataframe tbody tr th {\n",
       "        vertical-align: top;\n",
       "    }\n",
       "\n",
       "    .dataframe thead th {\n",
       "        text-align: right;\n",
       "    }\n",
       "</style>\n",
       "<table border=\"1\" class=\"dataframe\">\n",
       "  <thead>\n",
       "    <tr style=\"text-align: right;\">\n",
       "      <th></th>\n",
       "      <th>epoch</th>\n",
       "      <th>Train Loss</th>\n",
       "      <th>Train MSE</th>\n",
       "      <th>Train MAE</th>\n",
       "      <th>Train RMSE</th>\n",
       "      <th>Train R2</th>\n",
       "      <th>Train Pearson</th>\n",
       "      <th>Train Median_AE</th>\n",
       "      <th>Train Explained_VARVal Loss</th>\n",
       "      <th>Val MSE</th>\n",
       "      <th>Val MAE</th>\n",
       "      <th>Val RMSE</th>\n",
       "      <th>Val R2</th>\n",
       "      <th>Val Pearson</th>\n",
       "      <th>Val Median_AE</th>\n",
       "      <th>Val Explained_VAR</th>\n",
       "      <th>Train Explained_VAR</th>\n",
       "      <th>Val Loss</th>\n",
       "    </tr>\n",
       "  </thead>\n",
       "  <tbody>\n",
       "    <tr>\n",
       "      <th>1995</th>\n",
       "      <td>1996</td>\n",
       "      <td>0.035543</td>\n",
       "      <td>0.035565</td>\n",
       "      <td>0.135326</td>\n",
       "      <td>0.135326</td>\n",
       "      <td>0.987326</td>\n",
       "      <td>0.993643</td>\n",
       "      <td>0.103081</td>\n",
       "      <td>NaN</td>\n",
       "      <td>1.369553</td>\n",
       "      <td>0.800436</td>\n",
       "      <td>0.800436</td>\n",
       "      <td>0.483787</td>\n",
       "      <td>0.720144</td>\n",
       "      <td>0.498952</td>\n",
       "      <td>0.484020</td>\n",
       "      <td>0.987326</td>\n",
       "      <td>1.366035</td>\n",
       "    </tr>\n",
       "    <tr>\n",
       "      <th>1996</th>\n",
       "      <td>1997</td>\n",
       "      <td>0.032556</td>\n",
       "      <td>0.032574</td>\n",
       "      <td>0.132832</td>\n",
       "      <td>0.132832</td>\n",
       "      <td>0.988392</td>\n",
       "      <td>0.994179</td>\n",
       "      <td>0.101770</td>\n",
       "      <td>NaN</td>\n",
       "      <td>1.377026</td>\n",
       "      <td>0.803639</td>\n",
       "      <td>0.803639</td>\n",
       "      <td>0.480970</td>\n",
       "      <td>0.720524</td>\n",
       "      <td>0.504383</td>\n",
       "      <td>0.481796</td>\n",
       "      <td>0.988392</td>\n",
       "      <td>1.373587</td>\n",
       "    </tr>\n",
       "    <tr>\n",
       "      <th>1997</th>\n",
       "      <td>1998</td>\n",
       "      <td>0.033181</td>\n",
       "      <td>0.033163</td>\n",
       "      <td>0.134040</td>\n",
       "      <td>0.134040</td>\n",
       "      <td>0.988182</td>\n",
       "      <td>0.994073</td>\n",
       "      <td>0.102526</td>\n",
       "      <td>NaN</td>\n",
       "      <td>1.366920</td>\n",
       "      <td>0.799638</td>\n",
       "      <td>0.799638</td>\n",
       "      <td>0.484780</td>\n",
       "      <td>0.719607</td>\n",
       "      <td>0.504876</td>\n",
       "      <td>0.485156</td>\n",
       "      <td>0.988182</td>\n",
       "      <td>1.363357</td>\n",
       "    </tr>\n",
       "    <tr>\n",
       "      <th>1998</th>\n",
       "      <td>1999</td>\n",
       "      <td>0.032787</td>\n",
       "      <td>0.032773</td>\n",
       "      <td>0.132286</td>\n",
       "      <td>0.132286</td>\n",
       "      <td>0.988321</td>\n",
       "      <td>0.994143</td>\n",
       "      <td>0.101649</td>\n",
       "      <td>NaN</td>\n",
       "      <td>1.356053</td>\n",
       "      <td>0.802813</td>\n",
       "      <td>0.802813</td>\n",
       "      <td>0.488875</td>\n",
       "      <td>0.721836</td>\n",
       "      <td>0.518044</td>\n",
       "      <td>0.489065</td>\n",
       "      <td>0.988321</td>\n",
       "      <td>1.352640</td>\n",
       "    </tr>\n",
       "    <tr>\n",
       "      <th>1999</th>\n",
       "      <td>2000</td>\n",
       "      <td>0.038850</td>\n",
       "      <td>0.038815</td>\n",
       "      <td>0.139379</td>\n",
       "      <td>0.139379</td>\n",
       "      <td>0.986168</td>\n",
       "      <td>0.993060</td>\n",
       "      <td>0.105312</td>\n",
       "      <td>NaN</td>\n",
       "      <td>1.383661</td>\n",
       "      <td>0.812479</td>\n",
       "      <td>0.812479</td>\n",
       "      <td>0.478469</td>\n",
       "      <td>0.716264</td>\n",
       "      <td>0.517150</td>\n",
       "      <td>0.478577</td>\n",
       "      <td>0.986168</td>\n",
       "      <td>1.380662</td>\n",
       "    </tr>\n",
       "  </tbody>\n",
       "</table>\n",
       "</div>"
      ],
      "text/plain": [
       "     epoch  Train Loss  Train MSE  Train MAE  Train RMSE  Train R2  \\\n",
       "1995  1996    0.035543   0.035565   0.135326    0.135326  0.987326   \n",
       "1996  1997    0.032556   0.032574   0.132832    0.132832  0.988392   \n",
       "1997  1998    0.033181   0.033163   0.134040    0.134040  0.988182   \n",
       "1998  1999    0.032787   0.032773   0.132286    0.132286  0.988321   \n",
       "1999  2000    0.038850   0.038815   0.139379    0.139379  0.986168   \n",
       "\n",
       "      Train Pearson  Train Median_AE Train Explained_VARVal Loss   Val MSE  \\\n",
       "1995       0.993643         0.103081                         NaN  1.369553   \n",
       "1996       0.994179         0.101770                         NaN  1.377026   \n",
       "1997       0.994073         0.102526                         NaN  1.366920   \n",
       "1998       0.994143         0.101649                         NaN  1.356053   \n",
       "1999       0.993060         0.105312                         NaN  1.383661   \n",
       "\n",
       "       Val MAE  Val RMSE    Val R2  Val Pearson  Val Median_AE  \\\n",
       "1995  0.800436  0.800436  0.483787     0.720144       0.498952   \n",
       "1996  0.803639  0.803639  0.480970     0.720524       0.504383   \n",
       "1997  0.799638  0.799638  0.484780     0.719607       0.504876   \n",
       "1998  0.802813  0.802813  0.488875     0.721836       0.518044   \n",
       "1999  0.812479  0.812479  0.478469     0.716264       0.517150   \n",
       "\n",
       "      Val Explained_VAR  Train Explained_VAR  Val Loss  \n",
       "1995           0.484020             0.987326  1.366035  \n",
       "1996           0.481796             0.988392  1.373587  \n",
       "1997           0.485156             0.988182  1.363357  \n",
       "1998           0.489065             0.988321  1.352640  \n",
       "1999           0.478577             0.986168  1.380662  "
      ]
     },
     "execution_count": 12,
     "metadata": {},
     "output_type": "execute_result"
    }
   ],
   "source": [
    "train_history.tail()"
   ]
  },
  {
   "cell_type": "code",
   "execution_count": 13,
   "metadata": {},
   "outputs": [
    {
     "data": {
      "image/png": "[encoded data removed]",
      "text/plain": [
       "<Figure size 640x480 with 1 Axes>"
      ]
     },
     "metadata": {},
     "output_type": "display_data"
    }
   ],
   "source": [
    "# Plot the performance\n",
    "import matplotlib.pyplot as plt\n",
    "\n",
    "plt.scatter(test_labels, test_predictions, alpha=0.5)\n",
    "plt.xlabel(\"True Reactivity\")\n",
    "plt.ylabel(\"Predicted Reactivity\")\n",
    "plt.title(\"Transformer Predictions vs True Values\")\n",
    "plt.plot([min(test_labels), max(test_labels)], [min(test_labels), max(test_labels)], 'r--')\n",
    "plt.show()\n"
   ]
  }
 ],
 "metadata": {
  "kernelspec": {
   "display_name": "base",
   "language": "python",
   "name": "python3"
  },
  "language_info": {
   "codemirror_mode": {
    "name": "ipython",
    "version": 3
   },
   "file_extension": ".py",
   "mimetype": "text/x-python",
   "name": "python",
   "nbconvert_exporter": "python",
   "pygments_lexer": "ipython3",
   "version": "3.12.2"
  }
 },
 "nbformat": 4,
 "nbformat_minor": 2
}
