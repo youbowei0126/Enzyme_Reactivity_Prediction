{
 "cells": [
  {
   "cell_type": "code",
   "execution_count": 1,
   "metadata": {},
   "outputs": [],
   "source": [
    "import pandas as pd\n",
    "import numpy as np\n",
    "from tqdm import tqdm\n",
    "import torch\n",
    "import torch.nn as nn\n",
    "import torch.optim as optim\n",
    "from torch.utils.data import DataLoader, Dataset\n",
    "from sklearn.metrics import roc_auc_score\n",
    "from sklearn.model_selection import train_test_split\n",
    "import os\n"
   ]
  },
  {
   "cell_type": "code",
   "execution_count": 2,
   "metadata": {},
   "outputs": [
    {
     "data": {
      "text/html": [
       "<div>\n",
       "<style scoped>\n",
       "    .dataframe tbody tr th:only-of-type {\n",
       "        vertical-align: middle;\n",
       "    }\n",
       "\n",
       "    .dataframe tbody tr th {\n",
       "        vertical-align: top;\n",
       "    }\n",
       "\n",
       "    .dataframe thead th {\n",
       "        text-align: right;\n",
       "    }\n",
       "</style>\n",
       "<table border=\"1\" class=\"dataframe\">\n",
       "  <thead>\n",
       "    <tr style=\"text-align: right;\">\n",
       "      <th></th>\n",
       "      <th>Sequence</th>\n",
       "      <th>sequence_source</th>\n",
       "      <th>uniprot</th>\n",
       "      <th>Smiles</th>\n",
       "      <th>value</th>\n",
       "      <th>ec</th>\n",
       "      <th>log10_value</th>\n",
       "      <th>reactant_smiles</th>\n",
       "      <th>product_smiles</th>\n",
       "      <th>log10kcat_max</th>\n",
       "      <th>metabolite_features</th>\n",
       "      <th>protein_features</th>\n",
       "    </tr>\n",
       "  </thead>\n",
       "  <tbody>\n",
       "    <tr>\n",
       "      <th>0</th>\n",
       "      <td>MEPGSKSVSRSDWQPEPHQRPITPLEPGPEKTPIAQPESKTLQGSN...</td>\n",
       "      <td>sabio</td>\n",
       "      <td>Q05469</td>\n",
       "      <td>CCC(=O)OCC(COC(=O)CC)OC(=O)CC.O&gt;&gt;CCC(=O)O.CCC(...</td>\n",
       "      <td>7.00</td>\n",
       "      <td>3.1.1.1</td>\n",
       "      <td>0.845098</td>\n",
       "      <td>CCC(=O)OCC(COC(=O)CC)OC(=O)CC.O</td>\n",
       "      <td>CCC(=O)O.CCC(=O)OCC(CO)OC(=O)CC</td>\n",
       "      <td>0.845098</td>\n",
       "      <td>[0.25240317, -0.45278314, -0.76844007, 0.04716...</td>\n",
       "      <td>[-0.06076221, -0.21264695, -0.05684641, 0.0163...</td>\n",
       "    </tr>\n",
       "    <tr>\n",
       "      <th>1</th>\n",
       "      <td>MLLAQRRLISLGCRSKPIKTIYSSSKVLGLCTSAKMALKFKNAKRI...</td>\n",
       "      <td>brenda</td>\n",
       "      <td>Q71RI9</td>\n",
       "      <td>Nc1ccccc1C(=O)C[C@H](N)C(=O)O.O=C(O)C(=O)Cc1cc...</td>\n",
       "      <td>1.48</td>\n",
       "      <td>2.6.1.7</td>\n",
       "      <td>0.170262</td>\n",
       "      <td>Nc1ccccc1C(=O)C[C@H](N)C(=O)O.O=C(O)C(=O)Cc1cc...</td>\n",
       "      <td>N[C@@H](Cc1ccc(O)cc1)C(=O)O.O=C(O)c1cc(=O)c2cc...</td>\n",
       "      <td>0.170262</td>\n",
       "      <td>[0.066915624, -0.15937805, -0.7076091, 0.12864...</td>\n",
       "      <td>[-0.051194582, -0.07116077, 0.16383636, 0.2113...</td>\n",
       "    </tr>\n",
       "    <tr>\n",
       "      <th>2</th>\n",
       "      <td>MPIIQMNLLEGRTVEQKRNAVAAITEAVVRTLDVRPDQVRILINEL...</td>\n",
       "      <td>brenda</td>\n",
       "      <td>A2SL37</td>\n",
       "      <td>C/C(=C\\C=C(/O)C(=O)O)C(=O)O&gt;&gt;CC(/C=C/C(=O)C(=O...</td>\n",
       "      <td>3.40</td>\n",
       "      <td>5.3.2.6</td>\n",
       "      <td>0.531479</td>\n",
       "      <td>C/C(=C\\C=C(/O)C(=O)O)C(=O)O</td>\n",
       "      <td>CC(/C=C/C(=O)C(=O)O)C(=O)O</td>\n",
       "      <td>2.029384</td>\n",
       "      <td>[0.23911352, 0.011175589, -0.35101113, 0.15938...</td>\n",
       "      <td>[-0.1772431, -0.06500952, 0.18246448, -0.05431...</td>\n",
       "    </tr>\n",
       "    <tr>\n",
       "      <th>3</th>\n",
       "      <td>MKEAGILFEELVSIMEKLRSPEGCEWDRKQTHESLKPYLIEECYEL...</td>\n",
       "      <td>brenda</td>\n",
       "      <td>Q9X015</td>\n",
       "      <td>N=c1nc(O)c2ncn([C@@H]3O[C@H](COP(=O)(O)OP(=O)(...</td>\n",
       "      <td>0.69</td>\n",
       "      <td>3.6.1.9</td>\n",
       "      <td>-0.161151</td>\n",
       "      <td>N=c1nc(O)c2ncn([C@@H]3O[C@H](COP(=O)(O)OP(=O)(...</td>\n",
       "      <td>N=c1nc(O)c2ncn([C@@H]3O[C@H](COP(=O)(O)OP(=O)(...</td>\n",
       "      <td>-0.161151</td>\n",
       "      <td>[0.078591675, -0.15656142, -0.55292135, -0.245...</td>\n",
       "      <td>[-0.09246727, -0.033019878, 0.10869139, 0.2953...</td>\n",
       "    </tr>\n",
       "    <tr>\n",
       "      <th>4</th>\n",
       "      <td>MGQEKLYIEKELSWLSFNERVLQEAADKSNPLIERMRFLGIYSNNL...</td>\n",
       "      <td>sabio</td>\n",
       "      <td>P0A7B1</td>\n",
       "      <td>O=c1ccn(C2OC(COP(=O)(O)OP(=O)(O)O)C(O)C2O)c(=O...</td>\n",
       "      <td>420.00</td>\n",
       "      <td>2.7.4.1</td>\n",
       "      <td>2.623249</td>\n",
       "      <td>O=c1ccn(C2OC(COP(=O)(O)OP(=O)(O)O)C(O)C2O)c(=O...</td>\n",
       "      <td>O=c1ccn(C2OC(COP(=O)(O)OP(=O)(O)OP(=O)(O)O)C(O...</td>\n",
       "      <td>2.623249</td>\n",
       "      <td>[0.00051207165, -0.7151457, -0.95394605, -0.15...</td>\n",
       "      <td>[-0.06592023, -0.062496405, -0.012068139, 0.06...</td>\n",
       "    </tr>\n",
       "  </tbody>\n",
       "</table>\n",
       "</div>"
      ],
      "text/plain": [
       "                                            Sequence sequence_source uniprot  \\\n",
       "0  MEPGSKSVSRSDWQPEPHQRPITPLEPGPEKTPIAQPESKTLQGSN...           sabio  Q05469   \n",
       "1  MLLAQRRLISLGCRSKPIKTIYSSSKVLGLCTSAKMALKFKNAKRI...          brenda  Q71RI9   \n",
       "2  MPIIQMNLLEGRTVEQKRNAVAAITEAVVRTLDVRPDQVRILINEL...          brenda  A2SL37   \n",
       "3  MKEAGILFEELVSIMEKLRSPEGCEWDRKQTHESLKPYLIEECYEL...          brenda  Q9X015   \n",
       "4  MGQEKLYIEKELSWLSFNERVLQEAADKSNPLIERMRFLGIYSNNL...           sabio  P0A7B1   \n",
       "\n",
       "                                              Smiles   value       ec  \\\n",
       "0  CCC(=O)OCC(COC(=O)CC)OC(=O)CC.O>>CCC(=O)O.CCC(...    7.00  3.1.1.1   \n",
       "1  Nc1ccccc1C(=O)C[C@H](N)C(=O)O.O=C(O)C(=O)Cc1cc...    1.48  2.6.1.7   \n",
       "2  C/C(=C\\C=C(/O)C(=O)O)C(=O)O>>CC(/C=C/C(=O)C(=O...    3.40  5.3.2.6   \n",
       "3  N=c1nc(O)c2ncn([C@@H]3O[C@H](COP(=O)(O)OP(=O)(...    0.69  3.6.1.9   \n",
       "4  O=c1ccn(C2OC(COP(=O)(O)OP(=O)(O)O)C(O)C2O)c(=O...  420.00  2.7.4.1   \n",
       "\n",
       "   log10_value                                    reactant_smiles  \\\n",
       "0     0.845098                    CCC(=O)OCC(COC(=O)CC)OC(=O)CC.O   \n",
       "1     0.170262  Nc1ccccc1C(=O)C[C@H](N)C(=O)O.O=C(O)C(=O)Cc1cc...   \n",
       "2     0.531479                        C/C(=C\\C=C(/O)C(=O)O)C(=O)O   \n",
       "3    -0.161151  N=c1nc(O)c2ncn([C@@H]3O[C@H](COP(=O)(O)OP(=O)(...   \n",
       "4     2.623249  O=c1ccn(C2OC(COP(=O)(O)OP(=O)(O)O)C(O)C2O)c(=O...   \n",
       "\n",
       "                                      product_smiles  log10kcat_max  \\\n",
       "0                    CCC(=O)O.CCC(=O)OCC(CO)OC(=O)CC       0.845098   \n",
       "1  N[C@@H](Cc1ccc(O)cc1)C(=O)O.O=C(O)c1cc(=O)c2cc...       0.170262   \n",
       "2                         CC(/C=C/C(=O)C(=O)O)C(=O)O       2.029384   \n",
       "3  N=c1nc(O)c2ncn([C@@H]3O[C@H](COP(=O)(O)OP(=O)(...      -0.161151   \n",
       "4  O=c1ccn(C2OC(COP(=O)(O)OP(=O)(O)OP(=O)(O)O)C(O...       2.623249   \n",
       "\n",
       "                                 metabolite_features  \\\n",
       "0  [0.25240317, -0.45278314, -0.76844007, 0.04716...   \n",
       "1  [0.066915624, -0.15937805, -0.7076091, 0.12864...   \n",
       "2  [0.23911352, 0.011175589, -0.35101113, 0.15938...   \n",
       "3  [0.078591675, -0.15656142, -0.55292135, -0.245...   \n",
       "4  [0.00051207165, -0.7151457, -0.95394605, -0.15...   \n",
       "\n",
       "                                    protein_features  \n",
       "0  [-0.06076221, -0.21264695, -0.05684641, 0.0163...  \n",
       "1  [-0.051194582, -0.07116077, 0.16383636, 0.2113...  \n",
       "2  [-0.1772431, -0.06500952, 0.18246448, -0.05431...  \n",
       "3  [-0.09246727, -0.033019878, 0.10869139, 0.2953...  \n",
       "4  [-0.06592023, -0.062496405, -0.012068139, 0.06...  "
      ]
     },
     "execution_count": 2,
     "metadata": {},
     "output_type": "execute_result"
    }
   ],
   "source": [
    "import joblib\n",
    "import pandas as pd\n",
    "\n",
    "data_kcat = joblib.load('/Users/pinchichen/2025S lab/AI drug project/Catpred/dataset/kcat_with_features.joblib')\n",
    "data_kcat.head()"
   ]
  },
  {
   "cell_type": "code",
   "execution_count": 3,
   "metadata": {},
   "outputs": [
    {
     "data": {
      "text/html": [
       "<div>\n",
       "<style scoped>\n",
       "    .dataframe tbody tr th:only-of-type {\n",
       "        vertical-align: middle;\n",
       "    }\n",
       "\n",
       "    .dataframe tbody tr th {\n",
       "        vertical-align: top;\n",
       "    }\n",
       "\n",
       "    .dataframe thead th {\n",
       "        text-align: right;\n",
       "    }\n",
       "</style>\n",
       "<table border=\"1\" class=\"dataframe\">\n",
       "  <thead>\n",
       "    <tr style=\"text-align: right;\">\n",
       "      <th></th>\n",
       "      <th>Sequence</th>\n",
       "      <th>sequence_source</th>\n",
       "      <th>uniprot</th>\n",
       "      <th>Smiles</th>\n",
       "      <th>value</th>\n",
       "      <th>ec</th>\n",
       "      <th>log10_value</th>\n",
       "      <th>reactant_smiles</th>\n",
       "      <th>product_smiles</th>\n",
       "      <th>label</th>\n",
       "      <th>metabolite_features</th>\n",
       "      <th>protein_features</th>\n",
       "    </tr>\n",
       "  </thead>\n",
       "  <tbody>\n",
       "    <tr>\n",
       "      <th>0</th>\n",
       "      <td>MEPGSKSVSRSDWQPEPHQRPITPLEPGPEKTPIAQPESKTLQGSN...</td>\n",
       "      <td>sabio</td>\n",
       "      <td>Q05469</td>\n",
       "      <td>CCC(=O)OCC(COC(=O)CC)OC(=O)CC.O&gt;&gt;CCC(=O)O.CCC(...</td>\n",
       "      <td>7.00</td>\n",
       "      <td>3.1.1.1</td>\n",
       "      <td>0.845098</td>\n",
       "      <td>CCC(=O)OCC(COC(=O)CC)OC(=O)CC.O</td>\n",
       "      <td>CCC(=O)O.CCC(=O)OCC(CO)OC(=O)CC</td>\n",
       "      <td>0.845098</td>\n",
       "      <td>[0.25240317, -0.45278314, -0.76844007, 0.04716...</td>\n",
       "      <td>[-0.06076221, -0.21264695, -0.05684641, 0.0163...</td>\n",
       "    </tr>\n",
       "    <tr>\n",
       "      <th>1</th>\n",
       "      <td>MLLAQRRLISLGCRSKPIKTIYSSSKVLGLCTSAKMALKFKNAKRI...</td>\n",
       "      <td>brenda</td>\n",
       "      <td>Q71RI9</td>\n",
       "      <td>Nc1ccccc1C(=O)C[C@H](N)C(=O)O.O=C(O)C(=O)Cc1cc...</td>\n",
       "      <td>1.48</td>\n",
       "      <td>2.6.1.7</td>\n",
       "      <td>0.170262</td>\n",
       "      <td>Nc1ccccc1C(=O)C[C@H](N)C(=O)O.O=C(O)C(=O)Cc1cc...</td>\n",
       "      <td>N[C@@H](Cc1ccc(O)cc1)C(=O)O.O=C(O)c1cc(=O)c2cc...</td>\n",
       "      <td>0.170262</td>\n",
       "      <td>[0.066915624, -0.15937805, -0.7076091, 0.12864...</td>\n",
       "      <td>[-0.051194582, -0.07116077, 0.16383636, 0.2113...</td>\n",
       "    </tr>\n",
       "    <tr>\n",
       "      <th>2</th>\n",
       "      <td>MPIIQMNLLEGRTVEQKRNAVAAITEAVVRTLDVRPDQVRILINEL...</td>\n",
       "      <td>brenda</td>\n",
       "      <td>A2SL37</td>\n",
       "      <td>C/C(=C\\C=C(/O)C(=O)O)C(=O)O&gt;&gt;CC(/C=C/C(=O)C(=O...</td>\n",
       "      <td>3.40</td>\n",
       "      <td>5.3.2.6</td>\n",
       "      <td>0.531479</td>\n",
       "      <td>C/C(=C\\C=C(/O)C(=O)O)C(=O)O</td>\n",
       "      <td>CC(/C=C/C(=O)C(=O)O)C(=O)O</td>\n",
       "      <td>2.029384</td>\n",
       "      <td>[0.23911352, 0.011175589, -0.35101113, 0.15938...</td>\n",
       "      <td>[-0.1772431, -0.06500952, 0.18246448, -0.05431...</td>\n",
       "    </tr>\n",
       "    <tr>\n",
       "      <th>3</th>\n",
       "      <td>MKEAGILFEELVSIMEKLRSPEGCEWDRKQTHESLKPYLIEECYEL...</td>\n",
       "      <td>brenda</td>\n",
       "      <td>Q9X015</td>\n",
       "      <td>N=c1nc(O)c2ncn([C@@H]3O[C@H](COP(=O)(O)OP(=O)(...</td>\n",
       "      <td>0.69</td>\n",
       "      <td>3.6.1.9</td>\n",
       "      <td>-0.161151</td>\n",
       "      <td>N=c1nc(O)c2ncn([C@@H]3O[C@H](COP(=O)(O)OP(=O)(...</td>\n",
       "      <td>N=c1nc(O)c2ncn([C@@H]3O[C@H](COP(=O)(O)OP(=O)(...</td>\n",
       "      <td>-0.161151</td>\n",
       "      <td>[0.078591675, -0.15656142, -0.55292135, -0.245...</td>\n",
       "      <td>[-0.09246727, -0.033019878, 0.10869139, 0.2953...</td>\n",
       "    </tr>\n",
       "    <tr>\n",
       "      <th>4</th>\n",
       "      <td>MGQEKLYIEKELSWLSFNERVLQEAADKSNPLIERMRFLGIYSNNL...</td>\n",
       "      <td>sabio</td>\n",
       "      <td>P0A7B1</td>\n",
       "      <td>O=c1ccn(C2OC(COP(=O)(O)OP(=O)(O)O)C(O)C2O)c(=O...</td>\n",
       "      <td>420.00</td>\n",
       "      <td>2.7.4.1</td>\n",
       "      <td>2.623249</td>\n",
       "      <td>O=c1ccn(C2OC(COP(=O)(O)OP(=O)(O)O)C(O)C2O)c(=O...</td>\n",
       "      <td>O=c1ccn(C2OC(COP(=O)(O)OP(=O)(O)OP(=O)(O)O)C(O...</td>\n",
       "      <td>2.623249</td>\n",
       "      <td>[0.00051207165, -0.7151457, -0.95394605, -0.15...</td>\n",
       "      <td>[-0.06592023, -0.062496405, -0.012068139, 0.06...</td>\n",
       "    </tr>\n",
       "  </tbody>\n",
       "</table>\n",
       "</div>"
      ],
      "text/plain": [
       "                                            Sequence sequence_source uniprot  \\\n",
       "0  MEPGSKSVSRSDWQPEPHQRPITPLEPGPEKTPIAQPESKTLQGSN...           sabio  Q05469   \n",
       "1  MLLAQRRLISLGCRSKPIKTIYSSSKVLGLCTSAKMALKFKNAKRI...          brenda  Q71RI9   \n",
       "2  MPIIQMNLLEGRTVEQKRNAVAAITEAVVRTLDVRPDQVRILINEL...          brenda  A2SL37   \n",
       "3  MKEAGILFEELVSIMEKLRSPEGCEWDRKQTHESLKPYLIEECYEL...          brenda  Q9X015   \n",
       "4  MGQEKLYIEKELSWLSFNERVLQEAADKSNPLIERMRFLGIYSNNL...           sabio  P0A7B1   \n",
       "\n",
       "                                              Smiles   value       ec  \\\n",
       "0  CCC(=O)OCC(COC(=O)CC)OC(=O)CC.O>>CCC(=O)O.CCC(...    7.00  3.1.1.1   \n",
       "1  Nc1ccccc1C(=O)C[C@H](N)C(=O)O.O=C(O)C(=O)Cc1cc...    1.48  2.6.1.7   \n",
       "2  C/C(=C\\C=C(/O)C(=O)O)C(=O)O>>CC(/C=C/C(=O)C(=O...    3.40  5.3.2.6   \n",
       "3  N=c1nc(O)c2ncn([C@@H]3O[C@H](COP(=O)(O)OP(=O)(...    0.69  3.6.1.9   \n",
       "4  O=c1ccn(C2OC(COP(=O)(O)OP(=O)(O)O)C(O)C2O)c(=O...  420.00  2.7.4.1   \n",
       "\n",
       "   log10_value                                    reactant_smiles  \\\n",
       "0     0.845098                    CCC(=O)OCC(COC(=O)CC)OC(=O)CC.O   \n",
       "1     0.170262  Nc1ccccc1C(=O)C[C@H](N)C(=O)O.O=C(O)C(=O)Cc1cc...   \n",
       "2     0.531479                        C/C(=C\\C=C(/O)C(=O)O)C(=O)O   \n",
       "3    -0.161151  N=c1nc(O)c2ncn([C@@H]3O[C@H](COP(=O)(O)OP(=O)(...   \n",
       "4     2.623249  O=c1ccn(C2OC(COP(=O)(O)OP(=O)(O)O)C(O)C2O)c(=O...   \n",
       "\n",
       "                                      product_smiles     label  \\\n",
       "0                    CCC(=O)O.CCC(=O)OCC(CO)OC(=O)CC  0.845098   \n",
       "1  N[C@@H](Cc1ccc(O)cc1)C(=O)O.O=C(O)c1cc(=O)c2cc...  0.170262   \n",
       "2                         CC(/C=C/C(=O)C(=O)O)C(=O)O  2.029384   \n",
       "3  N=c1nc(O)c2ncn([C@@H]3O[C@H](COP(=O)(O)OP(=O)(... -0.161151   \n",
       "4  O=c1ccn(C2OC(COP(=O)(O)OP(=O)(O)OP(=O)(O)O)C(O...  2.623249   \n",
       "\n",
       "                                 metabolite_features  \\\n",
       "0  [0.25240317, -0.45278314, -0.76844007, 0.04716...   \n",
       "1  [0.066915624, -0.15937805, -0.7076091, 0.12864...   \n",
       "2  [0.23911352, 0.011175589, -0.35101113, 0.15938...   \n",
       "3  [0.078591675, -0.15656142, -0.55292135, -0.245...   \n",
       "4  [0.00051207165, -0.7151457, -0.95394605, -0.15...   \n",
       "\n",
       "                                    protein_features  \n",
       "0  [-0.06076221, -0.21264695, -0.05684641, 0.0163...  \n",
       "1  [-0.051194582, -0.07116077, 0.16383636, 0.2113...  \n",
       "2  [-0.1772431, -0.06500952, 0.18246448, -0.05431...  \n",
       "3  [-0.09246727, -0.033019878, 0.10869139, 0.2953...  \n",
       "4  [-0.06592023, -0.062496405, -0.012068139, 0.06...  "
      ]
     },
     "execution_count": 3,
     "metadata": {},
     "output_type": "execute_result"
    }
   ],
   "source": [
    "data_kcat.rename(columns={'log10kcat_max':'label'},inplace=True)\n",
    "data_kcat.head()"
   ]
  },
  {
   "cell_type": "code",
   "execution_count": 4,
   "metadata": {},
   "outputs": [],
   "source": [
    "# Define dataset\n",
    "class MPI_Dataset(Dataset):\n",
    "    def __init__(self, dataframe):\n",
    "        self.dataframe = dataframe\n",
    "\n",
    "    def __len__(self):\n",
    "        return len(self.dataframe)\n",
    "\n",
    "    def __getitem__(self, idx):\n",
    "        row = self.dataframe.iloc[idx]\n",
    "        return {\n",
    "            'metabolite_features': torch.tensor(np.asarray(row['metabolite_features'], dtype=np.float32)),\n",
    "            'protein_features': torch.tensor(np.asarray(row['protein_features'], dtype=np.float32)),\n",
    "            'label': torch.tensor(float(row['label']), dtype=torch.float32),\n",
    "        }"
   ]
  },
  {
   "cell_type": "code",
   "execution_count": 5,
   "metadata": {},
   "outputs": [],
   "source": [
    "# Load data\n",
    "# Assuming `combined_df` is a pandas DataFrame containing all necessary columns\n",
    "train_df, temp_df = train_test_split(data_kcat, test_size=0.3, shuffle=True, random_state=42)\n",
    "val_df, test_df = train_test_split(temp_df, test_size=0.5, shuffle=True, random_state=42)\n",
    "\n",
    "train_dataset = MPI_Dataset(train_df)\n",
    "val_dataset = MPI_Dataset(val_df)\n",
    "test_dataset = MPI_Dataset(test_df)\n",
    "\n",
    "train_loader = DataLoader(train_dataset, batch_size=32, shuffle=True)\n",
    "val_loader = DataLoader(val_dataset, batch_size=32)\n",
    "test_loader = DataLoader(test_dataset, batch_size=32)"
   ]
  },
  {
   "cell_type": "code",
   "execution_count": 6,
   "metadata": {},
   "outputs": [],
   "source": [
    "import torch.nn as nn\n",
    "import torch\n",
    "\n",
    "# Define Diffusion Generative Model for Regression\n",
    "class DiffusionGenerativeModel(nn.Module):\n",
    "    def __init__(self, mol_input_dim, protein_input_dim, hidden_dim, num_timesteps):\n",
    "        super(DiffusionGenerativeModel, self).__init__()\n",
    "        self.num_timesteps = num_timesteps\n",
    "        self.mol_encoder = nn.Linear(mol_input_dim, hidden_dim)\n",
    "        self.protein_encoder = nn.Linear(protein_input_dim, hidden_dim)\n",
    "        self.layer_norm = nn.LayerNorm(hidden_dim * 2)\n",
    "        self.dropout = nn.Dropout(0.3)\n",
    "        self.denoise_model = nn.Linear(hidden_dim * 2, hidden_dim)\n",
    "        self.regressor = nn.Linear(hidden_dim, 1)  # Regression layer\n",
    "        self.activation = nn.ReLU()\n",
    "\n",
    "        # Embedding for timesteps\n",
    "        self.timestep_embedding = nn.Embedding(num_timesteps, hidden_dim * 2)\n",
    "\n",
    "    def forward(self, mol_features, protein_features, t):\n",
    "        # Encode mol and protein features\n",
    "        mol_embedding = self.activation(self.mol_encoder(mol_features))\n",
    "        protein_embedding = self.activation(self.protein_encoder(protein_features))\n",
    "\n",
    "        # Concatenate embeddings\n",
    "        combined = torch.cat((mol_embedding, protein_embedding), dim=-1)\n",
    "        combined = self.layer_norm(combined)\n",
    "        combined = self.dropout(combined)\n",
    "\n",
    "        # Add learnable timestep embedding\n",
    "        t_embedding = self.timestep_embedding(t.long())\n",
    "        combined += t_embedding\n",
    "\n",
    "        # Denoise process\n",
    "        denoised = self.activation(self.denoise_model(combined))\n",
    "\n",
    "        # Regression layer\n",
    "        output = self.regressor(denoised)  # Predict continuous values\n",
    "        return output\n",
    "\n",
    "    def add_noise(self, x, noise_level=0.1):\n",
    "        noise = noise_level * torch.randn_like(x)\n",
    "        return x + noise\n"
   ]
  },
  {
   "cell_type": "code",
   "execution_count": 7,
   "metadata": {},
   "outputs": [],
   "source": [
    "# Check CUDA availability\n",
    "device = torch.device(\"cuda\" if torch.cuda.is_available() else \"cpu\")"
   ]
  },
  {
   "cell_type": "code",
   "execution_count": null,
   "metadata": {},
   "outputs": [
    {
     "name": "stderr",
     "output_type": "stream",
     "text": [
      "Training Epoch 1: 100%|██████████| 507/507 [00:03<00:00, 160.29it/s]\n"
     ]
    },
    {
     "name": "stdout",
     "output_type": "stream",
     "text": [
      "Epoch 0 - Train Loss: 2.6371, Train MSE: 2.6376, Train MAE: 1.2442\n"
     ]
    },
    {
     "name": "stderr",
     "output_type": "stream",
     "text": [
      "/var/folders/yz/c1z6m9_d5d3f80sywjc3rqsc0000gn/T/ipykernel_16850/374893312.py:97: FutureWarning: The behavior of DataFrame concatenation with empty or all-NA entries is deprecated. In a future version, this will no longer exclude empty or all-NA columns when determining the result dtypes. To retain the old behavior, exclude the relevant entries before the concat operation.\n",
      "  train_history = pd.concat([train_history, pd.DataFrame([new_row])], ignore_index=True)\n"
     ]
    },
    {
     "name": "stdout",
     "output_type": "stream",
     "text": [
      "Epoch 0 - Validation Loss: 2.4457, Validation MSE: 2.4446, Validation MAE: 1.2031\n"
     ]
    },
    {
     "name": "stderr",
     "output_type": "stream",
     "text": [
      "Training Epoch 2: 100%|██████████| 507/507 [00:03<00:00, 157.81it/s]\n",
      "Training Epoch 3: 100%|██████████| 507/507 [00:03<00:00, 157.62it/s]\n",
      "Training Epoch 4: 100%|██████████| 507/507 [00:03<00:00, 130.56it/s]\n",
      "Training Epoch 5: 100%|██████████| 507/507 [00:03<00:00, 133.52it/s]\n",
      "Training Epoch 6: 100%|██████████| 507/507 [00:04<00:00, 103.38it/s]\n",
      "Training Epoch 7: 100%|██████████| 507/507 [00:05<00:00, 99.88it/s] \n",
      "Training Epoch 8: 100%|██████████| 507/507 [00:05<00:00, 93.07it/s] \n",
      "Training Epoch 9: 100%|██████████| 507/507 [00:05<00:00, 88.16it/s] \n",
      "Training Epoch 10: 100%|██████████| 507/507 [00:05<00:00, 86.87it/s] \n",
      "Training Epoch 11: 100%|██████████| 507/507 [00:06<00:00, 80.80it/s] \n"
     ]
    },
    {
     "name": "stdout",
     "output_type": "stream",
     "text": [
      "Epoch 10 - Train Loss: 2.0350, Train MSE: 2.0347, Train MAE: 1.0756\n",
      "Epoch 10 - Validation Loss: 2.0354, Validation MSE: 2.0348, Validation MAE: 1.0934\n"
     ]
    },
    {
     "name": "stderr",
     "output_type": "stream",
     "text": [
      "Training Epoch 12: 100%|██████████| 507/507 [00:05<00:00, 87.81it/s]\n",
      "Training Epoch 13: 100%|██████████| 507/507 [00:06<00:00, 83.90it/s]\n",
      "Training Epoch 14: 100%|██████████| 507/507 [00:06<00:00, 77.88it/s]\n",
      "Training Epoch 15: 100%|██████████| 507/507 [00:06<00:00, 83.64it/s]\n",
      "Training Epoch 16: 100%|██████████| 507/507 [00:04<00:00, 105.09it/s]\n",
      "Training Epoch 17: 100%|██████████| 507/507 [00:04<00:00, 114.12it/s]\n",
      "Training Epoch 18: 100%|██████████| 507/507 [00:04<00:00, 105.52it/s]\n",
      "Training Epoch 19: 100%|██████████| 507/507 [00:05<00:00, 93.96it/s] \n",
      "Training Epoch 20: 100%|██████████| 507/507 [00:04<00:00, 111.43it/s]\n",
      "Training Epoch 21: 100%|██████████| 507/507 [00:04<00:00, 111.15it/s]\n"
     ]
    },
    {
     "name": "stdout",
     "output_type": "stream",
     "text": [
      "Epoch 20 - Train Loss: 1.8070, Train MSE: 1.8057, Train MAE: 1.0180\n",
      "Epoch 20 - Validation Loss: 1.8733, Validation MSE: 1.8735, Validation MAE: 1.0441\n"
     ]
    },
    {
     "name": "stderr",
     "output_type": "stream",
     "text": [
      "Training Epoch 22: 100%|██████████| 507/507 [00:04<00:00, 121.01it/s]\n",
      "Training Epoch 23: 100%|██████████| 507/507 [00:04<00:00, 119.15it/s]\n",
      "Training Epoch 24: 100%|██████████| 507/507 [00:04<00:00, 115.17it/s]\n",
      "Training Epoch 25: 100%|██████████| 507/507 [00:04<00:00, 104.94it/s]\n",
      "Training Epoch 26: 100%|██████████| 507/507 [00:04<00:00, 110.20it/s]\n",
      "Training Epoch 27: 100%|██████████| 507/507 [00:04<00:00, 106.82it/s]\n",
      "Training Epoch 28: 100%|██████████| 507/507 [00:05<00:00, 98.68it/s] \n",
      "Training Epoch 29: 100%|██████████| 507/507 [00:05<00:00, 96.35it/s] \n",
      "Training Epoch 30: 100%|██████████| 507/507 [00:05<00:00, 90.90it/s] \n",
      "Training Epoch 31: 100%|██████████| 507/507 [00:05<00:00, 97.67it/s] \n"
     ]
    },
    {
     "name": "stdout",
     "output_type": "stream",
     "text": [
      "Epoch 30 - Train Loss: 1.6441, Train MSE: 1.6432, Train MAE: 0.9688\n",
      "Epoch 30 - Validation Loss: 1.8139, Validation MSE: 1.8152, Validation MAE: 1.0288\n"
     ]
    },
    {
     "name": "stderr",
     "output_type": "stream",
     "text": [
      "Training Epoch 32: 100%|██████████| 507/507 [00:05<00:00, 101.14it/s]\n",
      "Training Epoch 33: 100%|██████████| 507/507 [00:05<00:00, 100.52it/s]\n",
      "Training Epoch 34: 100%|██████████| 507/507 [00:05<00:00, 92.09it/s] \n",
      "Training Epoch 35: 100%|██████████| 507/507 [00:06<00:00, 73.49it/s]\n",
      "Training Epoch 36: 100%|██████████| 507/507 [00:05<00:00, 94.75it/s] \n",
      "Training Epoch 37: 100%|██████████| 507/507 [00:05<00:00, 95.14it/s] \n",
      "Training Epoch 38: 100%|██████████| 507/507 [00:05<00:00, 97.45it/s] \n",
      "Training Epoch 39: 100%|██████████| 507/507 [00:05<00:00, 92.08it/s] \n",
      "Training Epoch 40: 100%|██████████| 507/507 [00:05<00:00, 90.93it/s] \n",
      "Training Epoch 41: 100%|██████████| 507/507 [00:04<00:00, 103.24it/s]\n"
     ]
    },
    {
     "name": "stdout",
     "output_type": "stream",
     "text": [
      "Epoch 40 - Train Loss: 1.4978, Train MSE: 1.4984, Train MAE: 0.9242\n",
      "Epoch 40 - Validation Loss: 1.7268, Validation MSE: 1.7295, Validation MAE: 0.9962\n"
     ]
    },
    {
     "name": "stderr",
     "output_type": "stream",
     "text": [
      "Training Epoch 42: 100%|██████████| 507/507 [00:05<00:00, 85.60it/s]\n",
      "Training Epoch 43: 100%|██████████| 507/507 [00:05<00:00, 99.23it/s] \n",
      "Training Epoch 44: 100%|██████████| 507/507 [00:05<00:00, 97.12it/s] \n",
      "Training Epoch 45: 100%|██████████| 507/507 [00:05<00:00, 93.05it/s] \n",
      "Training Epoch 46: 100%|██████████| 507/507 [00:05<00:00, 94.06it/s] \n",
      "Training Epoch 47: 100%|██████████| 507/507 [00:05<00:00, 88.38it/s]\n",
      "Training Epoch 48: 100%|██████████| 507/507 [00:05<00:00, 94.45it/s] \n",
      "Training Epoch 49: 100%|██████████| 507/507 [00:05<00:00, 95.91it/s] \n",
      "Training Epoch 50: 100%|██████████| 507/507 [00:05<00:00, 88.74it/s]\n",
      "Training Epoch 51: 100%|██████████| 507/507 [00:05<00:00, 94.41it/s] \n"
     ]
    },
    {
     "name": "stdout",
     "output_type": "stream",
     "text": [
      "Epoch 50 - Train Loss: 1.3999, Train MSE: 1.4000, Train MAE: 0.8963\n",
      "Epoch 50 - Validation Loss: 1.6802, Validation MSE: 1.6826, Validation MAE: 0.9754\n"
     ]
    },
    {
     "name": "stderr",
     "output_type": "stream",
     "text": [
      "Training Epoch 52: 100%|██████████| 507/507 [00:05<00:00, 96.26it/s] \n",
      "Training Epoch 53: 100%|██████████| 507/507 [00:05<00:00, 92.88it/s] \n",
      "Training Epoch 54: 100%|██████████| 507/507 [00:05<00:00, 96.49it/s] \n",
      "Training Epoch 55: 100%|██████████| 507/507 [00:05<00:00, 99.51it/s] \n",
      "Training Epoch 56: 100%|██████████| 507/507 [00:05<00:00, 94.55it/s] \n",
      "Training Epoch 57: 100%|██████████| 507/507 [00:05<00:00, 97.79it/s] \n",
      "Training Epoch 58: 100%|██████████| 507/507 [00:05<00:00, 97.50it/s] \n",
      "Training Epoch 59: 100%|██████████| 507/507 [00:05<00:00, 94.10it/s] \n",
      "Training Epoch 60: 100%|██████████| 507/507 [00:05<00:00, 95.60it/s] \n",
      "Training Epoch 61: 100%|██████████| 507/507 [00:05<00:00, 94.73it/s] \n"
     ]
    },
    {
     "name": "stdout",
     "output_type": "stream",
     "text": [
      "Epoch 60 - Train Loss: 1.3061, Train MSE: 1.3058, Train MAE: 0.8650\n",
      "Epoch 60 - Validation Loss: 1.7064, Validation MSE: 1.7111, Validation MAE: 0.9875\n"
     ]
    },
    {
     "name": "stderr",
     "output_type": "stream",
     "text": [
      "Training Epoch 62: 100%|██████████| 507/507 [00:05<00:00, 99.36it/s] \n",
      "Training Epoch 63: 100%|██████████| 507/507 [00:05<00:00, 98.47it/s] \n",
      "Training Epoch 64: 100%|██████████| 507/507 [00:06<00:00, 74.82it/s]\n",
      "Training Epoch 65: 100%|██████████| 507/507 [00:05<00:00, 93.67it/s] \n",
      "Training Epoch 66: 100%|██████████| 507/507 [00:05<00:00, 95.80it/s] \n",
      "Training Epoch 67: 100%|██████████| 507/507 [00:05<00:00, 90.22it/s]\n",
      "Training Epoch 68: 100%|██████████| 507/507 [00:05<00:00, 100.04it/s]\n",
      "Training Epoch 69: 100%|██████████| 507/507 [00:04<00:00, 101.43it/s]\n",
      "Training Epoch 70: 100%|██████████| 507/507 [00:05<00:00, 97.68it/s] \n",
      "Training Epoch 71: 100%|██████████| 507/507 [00:05<00:00, 90.01it/s] \n"
     ]
    },
    {
     "name": "stdout",
     "output_type": "stream",
     "text": [
      "Epoch 70 - Train Loss: 1.2374, Train MSE: 1.2357, Train MAE: 0.8408\n",
      "Epoch 70 - Validation Loss: 1.6075, Validation MSE: 1.6095, Validation MAE: 0.9549\n"
     ]
    },
    {
     "name": "stderr",
     "output_type": "stream",
     "text": [
      "Training Epoch 72: 100%|██████████| 507/507 [00:05<00:00, 90.08it/s] \n",
      "Training Epoch 73: 100%|██████████| 507/507 [00:05<00:00, 86.79it/s]\n",
      "Training Epoch 74: 100%|██████████| 507/507 [00:05<00:00, 90.81it/s] \n",
      "Training Epoch 75: 100%|██████████| 507/507 [00:05<00:00, 90.34it/s] \n",
      "Training Epoch 76: 100%|██████████| 507/507 [00:05<00:00, 98.92it/s] \n",
      "Training Epoch 77: 100%|██████████| 507/507 [00:05<00:00, 99.33it/s] \n",
      "Training Epoch 78: 100%|██████████| 507/507 [00:05<00:00, 98.06it/s] \n",
      "Training Epoch 79: 100%|██████████| 507/507 [00:05<00:00, 97.89it/s] \n",
      "Training Epoch 80: 100%|██████████| 507/507 [00:06<00:00, 76.84it/s]\n",
      "Training Epoch 81: 100%|██████████| 507/507 [00:05<00:00, 95.43it/s] \n"
     ]
    },
    {
     "name": "stdout",
     "output_type": "stream",
     "text": [
      "Epoch 80 - Train Loss: 1.1714, Train MSE: 1.1686, Train MAE: 0.8166\n",
      "Epoch 80 - Validation Loss: 1.6077, Validation MSE: 1.6113, Validation MAE: 0.9539\n"
     ]
    },
    {
     "name": "stderr",
     "output_type": "stream",
     "text": [
      "Training Epoch 82: 100%|██████████| 507/507 [00:06<00:00, 81.25it/s]\n",
      "Training Epoch 83: 100%|██████████| 507/507 [00:06<00:00, 79.06it/s]\n",
      "Training Epoch 84: 100%|██████████| 507/507 [00:05<00:00, 86.13it/s]\n",
      "Training Epoch 85: 100%|██████████| 507/507 [00:05<00:00, 87.94it/s]\n",
      "Training Epoch 86: 100%|██████████| 507/507 [00:05<00:00, 88.08it/s]\n",
      "Training Epoch 87: 100%|██████████| 507/507 [00:06<00:00, 84.11it/s]\n",
      "Training Epoch 88: 100%|██████████| 507/507 [00:06<00:00, 81.68it/s]\n",
      "Training Epoch 89: 100%|██████████| 507/507 [00:06<00:00, 79.59it/s]\n",
      "Training Epoch 90: 100%|██████████| 507/507 [00:06<00:00, 84.01it/s]\n",
      "Training Epoch 91: 100%|██████████| 507/507 [00:06<00:00, 82.50it/s]\n"
     ]
    },
    {
     "name": "stdout",
     "output_type": "stream",
     "text": [
      "Epoch 90 - Train Loss: 1.1168, Train MSE: 1.1168, Train MAE: 0.7984\n",
      "Epoch 90 - Validation Loss: 1.5888, Validation MSE: 1.5919, Validation MAE: 0.9453\n"
     ]
    },
    {
     "name": "stderr",
     "output_type": "stream",
     "text": [
      "Training Epoch 92: 100%|██████████| 507/507 [00:05<00:00, 88.99it/s]\n",
      "Training Epoch 93: 100%|██████████| 507/507 [00:05<00:00, 86.67it/s]\n",
      "Training Epoch 94: 100%|██████████| 507/507 [00:07<00:00, 67.76it/s]\n",
      "Training Epoch 95: 100%|██████████| 507/507 [00:06<00:00, 74.38it/s]\n",
      "Training Epoch 96: 100%|██████████| 507/507 [00:06<00:00, 73.11it/s]\n",
      "Training Epoch 97: 100%|██████████| 507/507 [00:06<00:00, 75.62it/s]\n",
      "Training Epoch 98: 100%|██████████| 507/507 [00:06<00:00, 75.56it/s]\n",
      "Training Epoch 99: 100%|██████████| 507/507 [00:06<00:00, 73.61it/s]\n",
      "Training Epoch 100: 100%|██████████| 507/507 [00:06<00:00, 73.06it/s]\n",
      "Training Epoch 101: 100%|██████████| 507/507 [00:06<00:00, 76.17it/s]\n"
     ]
    },
    {
     "name": "stdout",
     "output_type": "stream",
     "text": [
      "Epoch 100 - Train Loss: 1.0600, Train MSE: 1.0604, Train MAE: 0.7751\n",
      "Epoch 100 - Validation Loss: 1.5871, Validation MSE: 1.5902, Validation MAE: 0.9424\n"
     ]
    },
    {
     "name": "stderr",
     "output_type": "stream",
     "text": [
      "Training Epoch 102: 100%|██████████| 507/507 [00:06<00:00, 73.64it/s]\n",
      "Training Epoch 103: 100%|██████████| 507/507 [00:06<00:00, 73.83it/s]\n",
      "Training Epoch 104: 100%|██████████| 507/507 [00:06<00:00, 72.98it/s]\n",
      "Training Epoch 105: 100%|██████████| 507/507 [00:06<00:00, 74.90it/s]\n",
      "Training Epoch 106: 100%|██████████| 507/507 [00:06<00:00, 73.85it/s]\n",
      "Training Epoch 107: 100%|██████████| 507/507 [00:07<00:00, 72.39it/s]\n",
      "Training Epoch 108: 100%|██████████| 507/507 [00:06<00:00, 72.89it/s]\n",
      "Training Epoch 109: 100%|██████████| 507/507 [00:06<00:00, 73.42it/s]\n",
      "Training Epoch 110: 100%|██████████| 507/507 [00:06<00:00, 75.81it/s]\n",
      "Training Epoch 111: 100%|██████████| 507/507 [00:06<00:00, 76.51it/s]\n"
     ]
    },
    {
     "name": "stdout",
     "output_type": "stream",
     "text": [
      "Epoch 110 - Train Loss: 1.0027, Train MSE: 1.0017, Train MAE: 0.7580\n",
      "Epoch 110 - Validation Loss: 1.5615, Validation MSE: 1.5643, Validation MAE: 0.9357\n"
     ]
    },
    {
     "name": "stderr",
     "output_type": "stream",
     "text": [
      "Training Epoch 112: 100%|██████████| 507/507 [00:06<00:00, 77.78it/s]\n",
      "Training Epoch 113: 100%|██████████| 507/507 [00:06<00:00, 77.10it/s]\n",
      "Training Epoch 114: 100%|██████████| 507/507 [00:06<00:00, 76.13it/s]\n",
      "Training Epoch 115: 100%|██████████| 507/507 [00:06<00:00, 74.48it/s]\n",
      "Training Epoch 116: 100%|██████████| 507/507 [00:06<00:00, 76.72it/s]\n",
      "Training Epoch 117: 100%|██████████| 507/507 [00:06<00:00, 76.26it/s]\n",
      "Training Epoch 118: 100%|██████████| 507/507 [00:06<00:00, 76.08it/s]\n",
      "Training Epoch 119: 100%|██████████| 507/507 [00:06<00:00, 75.60it/s]\n",
      "Training Epoch 120: 100%|██████████| 507/507 [00:06<00:00, 76.03it/s]\n",
      "Training Epoch 121: 100%|██████████| 507/507 [00:06<00:00, 76.13it/s]\n"
     ]
    },
    {
     "name": "stdout",
     "output_type": "stream",
     "text": [
      "Epoch 120 - Train Loss: 0.9516, Train MSE: 0.9520, Train MAE: 0.7381\n",
      "Epoch 120 - Validation Loss: 1.5710, Validation MSE: 1.5736, Validation MAE: 0.9303\n"
     ]
    },
    {
     "name": "stderr",
     "output_type": "stream",
     "text": [
      "Training Epoch 122: 100%|██████████| 507/507 [00:06<00:00, 76.83it/s]\n",
      "Training Epoch 123: 100%|██████████| 507/507 [00:06<00:00, 76.54it/s]\n",
      "Training Epoch 124: 100%|██████████| 507/507 [00:06<00:00, 76.28it/s]\n",
      "Training Epoch 125: 100%|██████████| 507/507 [00:06<00:00, 75.28it/s]\n",
      "Training Epoch 126: 100%|██████████| 507/507 [00:06<00:00, 76.33it/s]\n",
      "Training Epoch 127: 100%|██████████| 507/507 [00:06<00:00, 75.84it/s]\n",
      "Training Epoch 128: 100%|██████████| 507/507 [00:06<00:00, 77.13it/s]\n",
      "Training Epoch 129: 100%|██████████| 507/507 [00:06<00:00, 76.70it/s]\n",
      "Training Epoch 130: 100%|██████████| 507/507 [00:06<00:00, 77.26it/s]\n",
      "Training Epoch 131: 100%|██████████| 507/507 [00:06<00:00, 75.72it/s]\n"
     ]
    },
    {
     "name": "stdout",
     "output_type": "stream",
     "text": [
      "Epoch 130 - Train Loss: 0.9288, Train MSE: 0.9287, Train MAE: 0.7290\n",
      "Epoch 130 - Validation Loss: 1.5489, Validation MSE: 1.5524, Validation MAE: 0.9244\n"
     ]
    },
    {
     "name": "stderr",
     "output_type": "stream",
     "text": [
      "Training Epoch 132: 100%|██████████| 507/507 [00:06<00:00, 76.86it/s]\n",
      "Training Epoch 133: 100%|██████████| 507/507 [00:06<00:00, 76.17it/s]\n",
      "Training Epoch 134: 100%|██████████| 507/507 [00:05<00:00, 87.69it/s]\n",
      "Training Epoch 135: 100%|██████████| 507/507 [00:05<00:00, 89.76it/s]\n",
      "Training Epoch 136: 100%|██████████| 507/507 [00:05<00:00, 88.84it/s]\n",
      "Training Epoch 137: 100%|██████████| 507/507 [00:05<00:00, 86.95it/s]\n",
      "Training Epoch 138: 100%|██████████| 507/507 [00:05<00:00, 89.05it/s]\n",
      "Training Epoch 139: 100%|██████████| 507/507 [00:05<00:00, 84.67it/s]\n",
      "Training Epoch 140: 100%|██████████| 507/507 [00:05<00:00, 90.31it/s]\n",
      "Training Epoch 141: 100%|██████████| 507/507 [00:05<00:00, 89.01it/s]\n"
     ]
    },
    {
     "name": "stdout",
     "output_type": "stream",
     "text": [
      "Epoch 140 - Train Loss: 0.8996, Train MSE: 0.8996, Train MAE: 0.7163\n",
      "Epoch 140 - Validation Loss: 1.5139, Validation MSE: 1.5172, Validation MAE: 0.9175\n"
     ]
    },
    {
     "name": "stderr",
     "output_type": "stream",
     "text": [
      "Training Epoch 142: 100%|██████████| 507/507 [00:07<00:00, 70.89it/s]\n",
      "Training Epoch 143: 100%|██████████| 507/507 [00:06<00:00, 74.61it/s]\n",
      "Training Epoch 144: 100%|██████████| 507/507 [00:06<00:00, 82.69it/s]\n",
      "Training Epoch 145: 100%|██████████| 507/507 [00:05<00:00, 85.76it/s]\n",
      "Training Epoch 146: 100%|██████████| 507/507 [00:05<00:00, 85.62it/s]\n",
      "Training Epoch 147: 100%|██████████| 507/507 [00:05<00:00, 88.29it/s]\n",
      "Training Epoch 148: 100%|██████████| 507/507 [00:05<00:00, 85.18it/s]\n",
      "Training Epoch 149: 100%|██████████| 507/507 [00:05<00:00, 98.77it/s] \n",
      "Training Epoch 150: 100%|██████████| 507/507 [00:04<00:00, 105.49it/s]\n",
      "Training Epoch 151: 100%|██████████| 507/507 [00:04<00:00, 105.52it/s]\n"
     ]
    },
    {
     "name": "stdout",
     "output_type": "stream",
     "text": [
      "Epoch 150 - Train Loss: 0.8824, Train MSE: 0.8824, Train MAE: 0.7083\n",
      "Epoch 150 - Validation Loss: 1.5069, Validation MSE: 1.5102, Validation MAE: 0.9156\n"
     ]
    },
    {
     "name": "stderr",
     "output_type": "stream",
     "text": [
      "Training Epoch 152: 100%|██████████| 507/507 [00:04<00:00, 103.75it/s]\n",
      "Training Epoch 153: 100%|██████████| 507/507 [00:04<00:00, 102.03it/s]\n",
      "Training Epoch 154: 100%|██████████| 507/507 [00:04<00:00, 105.38it/s]\n",
      "Training Epoch 155: 100%|██████████| 507/507 [00:04<00:00, 101.65it/s]\n",
      "Training Epoch 156: 100%|██████████| 507/507 [00:04<00:00, 105.47it/s]\n",
      "Training Epoch 157: 100%|██████████| 507/507 [00:04<00:00, 104.79it/s]\n",
      "Training Epoch 158: 100%|██████████| 507/507 [00:04<00:00, 102.70it/s]\n",
      "Training Epoch 159: 100%|██████████| 507/507 [00:04<00:00, 105.22it/s]\n",
      "Training Epoch 160: 100%|██████████| 507/507 [00:04<00:00, 105.18it/s]\n",
      "Training Epoch 161: 100%|██████████| 507/507 [00:04<00:00, 103.57it/s]\n"
     ]
    },
    {
     "name": "stdout",
     "output_type": "stream",
     "text": [
      "Epoch 160 - Train Loss: 0.8171, Train MSE: 0.8171, Train MAE: 0.6875\n",
      "Epoch 160 - Validation Loss: 1.5497, Validation MSE: 1.5528, Validation MAE: 0.9196\n"
     ]
    },
    {
     "name": "stderr",
     "output_type": "stream",
     "text": [
      "Training Epoch 162: 100%|██████████| 507/507 [00:04<00:00, 104.56it/s]\n",
      "Training Epoch 163: 100%|██████████| 507/507 [00:04<00:00, 105.54it/s]\n",
      "Training Epoch 164: 100%|██████████| 507/507 [00:05<00:00, 101.29it/s]\n",
      "Training Epoch 165: 100%|██████████| 507/507 [00:04<00:00, 104.29it/s]\n",
      "Training Epoch 166: 100%|██████████| 507/507 [00:04<00:00, 105.29it/s]\n",
      "Training Epoch 167: 100%|██████████| 507/507 [00:04<00:00, 104.24it/s]\n",
      "Training Epoch 168: 100%|██████████| 507/507 [00:04<00:00, 105.88it/s]\n",
      "Training Epoch 169: 100%|██████████| 507/507 [00:04<00:00, 104.78it/s]\n",
      "Training Epoch 170: 100%|██████████| 507/507 [00:04<00:00, 103.98it/s]\n",
      "Training Epoch 171: 100%|██████████| 507/507 [00:04<00:00, 105.85it/s]\n"
     ]
    },
    {
     "name": "stdout",
     "output_type": "stream",
     "text": [
      "Epoch 170 - Train Loss: 0.8198, Train MSE: 0.8192, Train MAE: 0.6847\n",
      "Epoch 170 - Validation Loss: 1.5464, Validation MSE: 1.5501, Validation MAE: 0.9223\n"
     ]
    },
    {
     "name": "stderr",
     "output_type": "stream",
     "text": [
      "Training Epoch 172: 100%|██████████| 507/507 [00:04<00:00, 102.53it/s]\n",
      "Training Epoch 173: 100%|██████████| 507/507 [00:04<00:00, 102.83it/s]\n",
      "Training Epoch 174: 100%|██████████| 507/507 [00:04<00:00, 105.47it/s]\n",
      "Training Epoch 175: 100%|██████████| 507/507 [00:04<00:00, 104.18it/s]\n",
      "Training Epoch 176: 100%|██████████| 507/507 [00:04<00:00, 102.07it/s]\n",
      "Training Epoch 177: 100%|██████████| 507/507 [00:04<00:00, 104.95it/s]\n",
      "Training Epoch 178: 100%|██████████| 507/507 [00:05<00:00, 101.27it/s]\n",
      "Training Epoch 179: 100%|██████████| 507/507 [00:05<00:00, 100.44it/s]\n",
      "Training Epoch 180: 100%|██████████| 507/507 [00:04<00:00, 106.61it/s]\n",
      "Training Epoch 181: 100%|██████████| 507/507 [00:04<00:00, 107.70it/s]\n"
     ]
    },
    {
     "name": "stdout",
     "output_type": "stream",
     "text": [
      "Epoch 180 - Train Loss: 0.7900, Train MSE: 0.7896, Train MAE: 0.6724\n",
      "Epoch 180 - Validation Loss: 1.5119, Validation MSE: 1.5145, Validation MAE: 0.9171\n"
     ]
    },
    {
     "name": "stderr",
     "output_type": "stream",
     "text": [
      "Training Epoch 182: 100%|██████████| 507/507 [00:04<00:00, 103.40it/s]\n",
      "Training Epoch 183: 100%|██████████| 507/507 [00:04<00:00, 103.33it/s]\n",
      "Training Epoch 184: 100%|██████████| 507/507 [00:04<00:00, 104.22it/s]\n",
      "Training Epoch 185: 100%|██████████| 507/507 [00:04<00:00, 103.64it/s]\n",
      "Training Epoch 186: 100%|██████████| 507/507 [00:04<00:00, 104.05it/s]\n",
      "Training Epoch 187: 100%|██████████| 507/507 [00:04<00:00, 105.72it/s]\n",
      "Training Epoch 188: 100%|██████████| 507/507 [00:04<00:00, 106.09it/s]\n",
      "Training Epoch 189: 100%|██████████| 507/507 [00:04<00:00, 102.48it/s]\n",
      "Training Epoch 190: 100%|██████████| 507/507 [00:04<00:00, 105.34it/s]\n",
      "Training Epoch 191: 100%|██████████| 507/507 [00:04<00:00, 105.30it/s]\n"
     ]
    },
    {
     "name": "stdout",
     "output_type": "stream",
     "text": [
      "Epoch 190 - Train Loss: 0.7799, Train MSE: 0.7803, Train MAE: 0.6642\n",
      "Epoch 190 - Validation Loss: 1.5234, Validation MSE: 1.5255, Validation MAE: 0.9155\n"
     ]
    },
    {
     "name": "stderr",
     "output_type": "stream",
     "text": [
      "Training Epoch 192: 100%|██████████| 507/507 [00:04<00:00, 102.64it/s]\n",
      "Training Epoch 193: 100%|██████████| 507/507 [00:04<00:00, 105.70it/s]\n",
      "Training Epoch 194: 100%|██████████| 507/507 [00:04<00:00, 106.50it/s]\n",
      "Training Epoch 195: 100%|██████████| 507/507 [00:04<00:00, 101.46it/s]\n",
      "Training Epoch 196: 100%|██████████| 507/507 [00:04<00:00, 104.17it/s]\n",
      "Training Epoch 197: 100%|██████████| 507/507 [00:04<00:00, 104.89it/s]\n",
      "Training Epoch 198: 100%|██████████| 507/507 [00:04<00:00, 103.45it/s]\n",
      "Training Epoch 199: 100%|██████████| 507/507 [00:04<00:00, 104.25it/s]\n",
      "Training Epoch 200: 100%|██████████| 507/507 [00:04<00:00, 104.07it/s]\n",
      "Training Epoch 201: 100%|██████████| 507/507 [00:04<00:00, 103.28it/s]\n"
     ]
    },
    {
     "name": "stdout",
     "output_type": "stream",
     "text": [
      "Epoch 200 - Train Loss: 0.7486, Train MSE: 0.7488, Train MAE: 0.6528\n",
      "Epoch 200 - Validation Loss: 1.4792, Validation MSE: 1.4817, Validation MAE: 0.8990\n"
     ]
    },
    {
     "name": "stderr",
     "output_type": "stream",
     "text": [
      "Training Epoch 202: 100%|██████████| 507/507 [00:04<00:00, 105.83it/s]\n",
      "Training Epoch 203: 100%|██████████| 507/507 [00:04<00:00, 105.51it/s]\n",
      "Training Epoch 204: 100%|██████████| 507/507 [00:04<00:00, 103.55it/s]\n",
      "Training Epoch 205: 100%|██████████| 507/507 [00:04<00:00, 106.02it/s]\n",
      "Training Epoch 206: 100%|██████████| 507/507 [00:04<00:00, 105.76it/s]\n",
      "Training Epoch 207: 100%|██████████| 507/507 [00:04<00:00, 103.26it/s]\n",
      "Training Epoch 208: 100%|██████████| 507/507 [00:04<00:00, 105.44it/s]\n",
      "Training Epoch 209: 100%|██████████| 507/507 [00:04<00:00, 105.46it/s]\n",
      "Training Epoch 210: 100%|██████████| 507/507 [00:04<00:00, 103.18it/s]\n",
      "Training Epoch 211: 100%|██████████| 507/507 [00:04<00:00, 103.89it/s]\n"
     ]
    },
    {
     "name": "stdout",
     "output_type": "stream",
     "text": [
      "Epoch 210 - Train Loss: 0.7257, Train MSE: 0.7248, Train MAE: 0.6452\n",
      "Epoch 210 - Validation Loss: 1.5006, Validation MSE: 1.5046, Validation MAE: 0.9135\n"
     ]
    },
    {
     "name": "stderr",
     "output_type": "stream",
     "text": [
      "Training Epoch 212: 100%|██████████| 507/507 [00:04<00:00, 105.30it/s]\n",
      "Training Epoch 213: 100%|██████████| 507/507 [00:04<00:00, 104.34it/s]\n",
      "Training Epoch 214: 100%|██████████| 507/507 [00:04<00:00, 103.48it/s]\n",
      "Training Epoch 215: 100%|██████████| 507/507 [00:04<00:00, 105.57it/s]\n",
      "Training Epoch 216: 100%|██████████| 507/507 [00:04<00:00, 104.41it/s]\n",
      "Training Epoch 217: 100%|██████████| 507/507 [00:04<00:00, 102.90it/s]\n",
      "Training Epoch 218: 100%|██████████| 507/507 [00:04<00:00, 104.26it/s]\n",
      "Training Epoch 219: 100%|██████████| 507/507 [00:04<00:00, 106.70it/s]\n",
      "Training Epoch 220: 100%|██████████| 507/507 [00:04<00:00, 103.11it/s]\n",
      "Training Epoch 221: 100%|██████████| 507/507 [00:04<00:00, 105.55it/s]\n"
     ]
    },
    {
     "name": "stdout",
     "output_type": "stream",
     "text": [
      "Epoch 220 - Train Loss: 0.7253, Train MSE: 0.7253, Train MAE: 0.6429\n",
      "Epoch 220 - Validation Loss: 1.4589, Validation MSE: 1.4616, Validation MAE: 0.8904\n"
     ]
    },
    {
     "name": "stderr",
     "output_type": "stream",
     "text": [
      "Training Epoch 222: 100%|██████████| 507/507 [00:05<00:00, 100.88it/s]\n",
      "Training Epoch 223: 100%|██████████| 507/507 [00:04<00:00, 107.27it/s]\n",
      "Training Epoch 224: 100%|██████████| 507/507 [00:04<00:00, 104.62it/s]\n",
      "Training Epoch 225: 100%|██████████| 507/507 [00:04<00:00, 105.36it/s]\n",
      "Training Epoch 226: 100%|██████████| 507/507 [00:04<00:00, 102.72it/s]\n",
      "Training Epoch 227: 100%|██████████| 507/507 [00:04<00:00, 105.04it/s]\n",
      "Training Epoch 228: 100%|██████████| 507/507 [00:04<00:00, 102.47it/s]\n",
      "Training Epoch 229: 100%|██████████| 507/507 [00:05<00:00, 97.84it/s] \n",
      "Training Epoch 230: 100%|██████████| 507/507 [00:04<00:00, 104.74it/s]\n",
      "Training Epoch 231: 100%|██████████| 507/507 [00:04<00:00, 104.92it/s]\n"
     ]
    },
    {
     "name": "stdout",
     "output_type": "stream",
     "text": [
      "Epoch 230 - Train Loss: 0.6914, Train MSE: 0.6912, Train MAE: 0.6273\n",
      "Epoch 230 - Validation Loss: 1.4737, Validation MSE: 1.4769, Validation MAE: 0.8984\n"
     ]
    },
    {
     "name": "stderr",
     "output_type": "stream",
     "text": [
      "Training Epoch 232: 100%|██████████| 507/507 [00:04<00:00, 101.81it/s]\n",
      "Training Epoch 233: 100%|██████████| 507/507 [00:04<00:00, 104.98it/s]\n",
      "Training Epoch 234: 100%|██████████| 507/507 [00:04<00:00, 103.44it/s]\n",
      "Training Epoch 235: 100%|██████████| 507/507 [00:04<00:00, 104.02it/s]\n",
      "Training Epoch 236: 100%|██████████| 507/507 [00:04<00:00, 104.95it/s]\n",
      "Training Epoch 237: 100%|██████████| 507/507 [00:04<00:00, 105.03it/s]\n",
      "Training Epoch 238: 100%|██████████| 507/507 [00:04<00:00, 101.94it/s]\n",
      "Training Epoch 239: 100%|██████████| 507/507 [00:04<00:00, 104.10it/s]\n",
      "Training Epoch 240: 100%|██████████| 507/507 [00:04<00:00, 106.83it/s]\n",
      "Training Epoch 241: 100%|██████████| 507/507 [00:05<00:00, 95.43it/s] \n"
     ]
    },
    {
     "name": "stdout",
     "output_type": "stream",
     "text": [
      "Epoch 240 - Train Loss: 0.6872, Train MSE: 0.6865, Train MAE: 0.6282\n",
      "Epoch 240 - Validation Loss: 1.4887, Validation MSE: 1.4899, Validation MAE: 0.9013\n"
     ]
    },
    {
     "name": "stderr",
     "output_type": "stream",
     "text": [
      "Training Epoch 242: 100%|██████████| 507/507 [00:05<00:00, 96.09it/s] \n",
      "Training Epoch 243: 100%|██████████| 507/507 [00:05<00:00, 91.72it/s] \n",
      "Training Epoch 244: 100%|██████████| 507/507 [00:05<00:00, 93.62it/s] \n",
      "Training Epoch 245: 100%|██████████| 507/507 [00:05<00:00, 88.72it/s] \n",
      "Training Epoch 246: 100%|██████████| 507/507 [00:05<00:00, 93.74it/s] \n",
      "Training Epoch 247: 100%|██████████| 507/507 [00:05<00:00, 95.57it/s] \n",
      "Training Epoch 248: 100%|██████████| 507/507 [00:04<00:00, 101.88it/s]\n",
      "Training Epoch 249: 100%|██████████| 507/507 [00:05<00:00, 91.89it/s] \n",
      "Training Epoch 250: 100%|██████████| 507/507 [00:05<00:00, 91.42it/s] \n",
      "Training Epoch 251: 100%|██████████| 507/507 [00:05<00:00, 89.77it/s] \n"
     ]
    },
    {
     "name": "stdout",
     "output_type": "stream",
     "text": [
      "Epoch 250 - Train Loss: 0.6733, Train MSE: 0.6727, Train MAE: 0.6179\n",
      "Epoch 250 - Validation Loss: 1.5063, Validation MSE: 1.5092, Validation MAE: 0.9047\n"
     ]
    },
    {
     "name": "stderr",
     "output_type": "stream",
     "text": [
      "Training Epoch 252: 100%|██████████| 507/507 [00:05<00:00, 89.99it/s] \n",
      "Training Epoch 253: 100%|██████████| 507/507 [00:05<00:00, 92.47it/s] \n",
      "Training Epoch 254: 100%|██████████| 507/507 [00:05<00:00, 91.55it/s] \n",
      "Training Epoch 255: 100%|██████████| 507/507 [00:05<00:00, 94.10it/s] \n",
      "Training Epoch 256: 100%|██████████| 507/507 [00:05<00:00, 98.81it/s] \n",
      "Training Epoch 257: 100%|██████████| 507/507 [00:05<00:00, 92.52it/s] \n",
      "Training Epoch 258: 100%|██████████| 507/507 [00:05<00:00, 93.15it/s]\n",
      "Training Epoch 259: 100%|██████████| 507/507 [00:05<00:00, 96.73it/s] \n",
      "Training Epoch 260: 100%|██████████| 507/507 [00:05<00:00, 93.93it/s] \n",
      "Training Epoch 261: 100%|██████████| 507/507 [00:05<00:00, 96.15it/s] \n"
     ]
    },
    {
     "name": "stdout",
     "output_type": "stream",
     "text": [
      "Epoch 260 - Train Loss: 0.6657, Train MSE: 0.6661, Train MAE: 0.6123\n",
      "Epoch 260 - Validation Loss: 1.4933, Validation MSE: 1.4970, Validation MAE: 0.8985\n"
     ]
    },
    {
     "name": "stderr",
     "output_type": "stream",
     "text": [
      "Training Epoch 262: 100%|██████████| 507/507 [00:05<00:00, 100.14it/s]\n",
      "Training Epoch 263: 100%|██████████| 507/507 [00:05<00:00, 100.79it/s]\n",
      "Training Epoch 264: 100%|██████████| 507/507 [00:05<00:00, 98.47it/s] \n",
      "Training Epoch 265: 100%|██████████| 507/507 [00:05<00:00, 95.19it/s] \n",
      "Training Epoch 266: 100%|██████████| 507/507 [00:05<00:00, 94.25it/s] \n",
      "Training Epoch 267: 100%|██████████| 507/507 [00:04<00:00, 103.76it/s]\n",
      "Training Epoch 268: 100%|██████████| 507/507 [00:04<00:00, 103.22it/s]\n",
      "Training Epoch 269: 100%|██████████| 507/507 [00:07<00:00, 69.10it/s] \n",
      "Training Epoch 270: 100%|██████████| 507/507 [00:06<00:00, 77.15it/s]\n",
      "Training Epoch 271: 100%|██████████| 507/507 [00:05<00:00, 85.19it/s]\n"
     ]
    },
    {
     "name": "stdout",
     "output_type": "stream",
     "text": [
      "Epoch 270 - Train Loss: 0.6393, Train MSE: 0.6396, Train MAE: 0.6039\n",
      "Epoch 270 - Validation Loss: 1.4941, Validation MSE: 1.4974, Validation MAE: 0.8920\n"
     ]
    },
    {
     "name": "stderr",
     "output_type": "stream",
     "text": [
      "Training Epoch 272: 100%|██████████| 507/507 [00:06<00:00, 83.70it/s]\n",
      "Training Epoch 273: 100%|██████████| 507/507 [00:05<00:00, 87.36it/s]\n",
      "Training Epoch 274: 100%|██████████| 507/507 [00:06<00:00, 81.60it/s]\n",
      "Training Epoch 275: 100%|██████████| 507/507 [00:05<00:00, 86.31it/s]\n",
      "Training Epoch 276: 100%|██████████| 507/507 [00:06<00:00, 78.53it/s]\n",
      "Training Epoch 277: 100%|██████████| 507/507 [00:06<00:00, 81.63it/s]\n",
      "Training Epoch 278: 100%|██████████| 507/507 [00:06<00:00, 78.49it/s]\n",
      "Training Epoch 279: 100%|██████████| 507/507 [00:06<00:00, 83.45it/s]\n",
      "Training Epoch 280: 100%|██████████| 507/507 [00:05<00:00, 85.01it/s]\n",
      "Training Epoch 281: 100%|██████████| 507/507 [00:05<00:00, 85.62it/s]\n"
     ]
    },
    {
     "name": "stdout",
     "output_type": "stream",
     "text": [
      "Epoch 280 - Train Loss: 0.6310, Train MSE: 0.6310, Train MAE: 0.5953\n",
      "Epoch 280 - Validation Loss: 1.4674, Validation MSE: 1.4704, Validation MAE: 0.8893\n"
     ]
    },
    {
     "name": "stderr",
     "output_type": "stream",
     "text": [
      "Training Epoch 282: 100%|██████████| 507/507 [00:05<00:00, 88.30it/s]\n",
      "Training Epoch 283: 100%|██████████| 507/507 [00:06<00:00, 74.85it/s]\n",
      "Training Epoch 284: 100%|██████████| 507/507 [00:06<00:00, 84.43it/s]\n",
      "Training Epoch 285: 100%|██████████| 507/507 [00:05<00:00, 87.74it/s]\n",
      "Training Epoch 286: 100%|██████████| 507/507 [00:05<00:00, 88.51it/s]\n",
      "Training Epoch 287: 100%|██████████| 507/507 [00:05<00:00, 88.79it/s]\n",
      "Training Epoch 288: 100%|██████████| 507/507 [00:05<00:00, 88.38it/s]\n",
      "Training Epoch 289: 100%|██████████| 507/507 [00:05<00:00, 89.43it/s]\n",
      "Training Epoch 290: 100%|██████████| 507/507 [00:05<00:00, 92.56it/s] \n",
      "Training Epoch 291: 100%|██████████| 507/507 [00:05<00:00, 87.72it/s]\n"
     ]
    },
    {
     "name": "stdout",
     "output_type": "stream",
     "text": [
      "Epoch 290 - Train Loss: 0.6189, Train MSE: 0.6190, Train MAE: 0.5932\n",
      "Epoch 290 - Validation Loss: 1.4435, Validation MSE: 1.4451, Validation MAE: 0.8794\n"
     ]
    },
    {
     "name": "stderr",
     "output_type": "stream",
     "text": [
      "Training Epoch 292: 100%|██████████| 507/507 [00:05<00:00, 88.35it/s]\n",
      "Training Epoch 293: 100%|██████████| 507/507 [00:05<00:00, 91.23it/s]\n",
      "Training Epoch 294: 100%|██████████| 507/507 [00:05<00:00, 87.39it/s]\n",
      "Training Epoch 295: 100%|██████████| 507/507 [00:05<00:00, 89.31it/s]\n",
      "Training Epoch 296: 100%|██████████| 507/507 [00:05<00:00, 91.63it/s] \n",
      "Training Epoch 297: 100%|██████████| 507/507 [00:05<00:00, 86.46it/s]\n",
      "Training Epoch 298: 100%|██████████| 507/507 [00:05<00:00, 88.57it/s]\n",
      "Training Epoch 299: 100%|██████████| 507/507 [00:05<00:00, 88.58it/s]\n",
      "Training Epoch 300: 100%|██████████| 507/507 [00:05<00:00, 87.77it/s] \n",
      "Training Epoch 301: 100%|██████████| 507/507 [00:05<00:00, 89.86it/s]\n"
     ]
    },
    {
     "name": "stdout",
     "output_type": "stream",
     "text": [
      "Epoch 300 - Train Loss: 0.6088, Train MSE: 0.6092, Train MAE: 0.5884\n",
      "Epoch 300 - Validation Loss: 1.4581, Validation MSE: 1.4598, Validation MAE: 0.8877\n"
     ]
    },
    {
     "name": "stderr",
     "output_type": "stream",
     "text": [
      "Training Epoch 302: 100%|██████████| 507/507 [00:05<00:00, 88.36it/s]\n",
      "Training Epoch 303: 100%|██████████| 507/507 [00:05<00:00, 89.62it/s]\n",
      "Training Epoch 304: 100%|██████████| 507/507 [00:05<00:00, 90.83it/s]\n",
      "Training Epoch 305: 100%|██████████| 507/507 [00:05<00:00, 86.88it/s]\n",
      "Training Epoch 306: 100%|██████████| 507/507 [00:05<00:00, 89.75it/s]\n",
      "Training Epoch 307: 100%|██████████| 507/507 [00:05<00:00, 90.70it/s]\n",
      "Training Epoch 308: 100%|██████████| 507/507 [00:05<00:00, 89.10it/s]\n",
      "Training Epoch 309: 100%|██████████| 507/507 [00:05<00:00, 91.57it/s] \n",
      "Training Epoch 310: 100%|██████████| 507/507 [00:05<00:00, 88.07it/s]\n",
      "Training Epoch 311: 100%|██████████| 507/507 [00:05<00:00, 89.47it/s]\n"
     ]
    },
    {
     "name": "stdout",
     "output_type": "stream",
     "text": [
      "Epoch 310 - Train Loss: 0.5929, Train MSE: 0.5931, Train MAE: 0.5798\n",
      "Epoch 310 - Validation Loss: 1.4712, Validation MSE: 1.4743, Validation MAE: 0.8929\n"
     ]
    },
    {
     "name": "stderr",
     "output_type": "stream",
     "text": [
      "Training Epoch 312: 100%|██████████| 507/507 [00:05<00:00, 91.10it/s]\n",
      "Training Epoch 313: 100%|██████████| 507/507 [00:05<00:00, 87.98it/s]\n",
      "Training Epoch 314: 100%|██████████| 507/507 [00:05<00:00, 91.39it/s]\n",
      "Training Epoch 315: 100%|██████████| 507/507 [00:05<00:00, 89.67it/s] \n",
      "Training Epoch 316: 100%|██████████| 507/507 [00:05<00:00, 89.35it/s]\n",
      "Training Epoch 317: 100%|██████████| 507/507 [00:05<00:00, 88.62it/s]\n",
      "Training Epoch 318: 100%|██████████| 507/507 [00:05<00:00, 86.65it/s]\n",
      "Training Epoch 319: 100%|██████████| 507/507 [00:05<00:00, 90.63it/s]\n",
      "Training Epoch 320: 100%|██████████| 507/507 [00:05<00:00, 91.25it/s]\n",
      "Training Epoch 321: 100%|██████████| 507/507 [00:05<00:00, 87.98it/s]\n"
     ]
    },
    {
     "name": "stdout",
     "output_type": "stream",
     "text": [
      "Epoch 320 - Train Loss: 0.6001, Train MSE: 0.6003, Train MAE: 0.5829\n",
      "Epoch 320 - Validation Loss: 1.4520, Validation MSE: 1.4537, Validation MAE: 0.8843\n"
     ]
    },
    {
     "name": "stderr",
     "output_type": "stream",
     "text": [
      "Training Epoch 322: 100%|██████████| 507/507 [00:05<00:00, 90.75it/s]\n",
      "Training Epoch 323: 100%|██████████| 507/507 [00:05<00:00, 88.31it/s]\n",
      "Training Epoch 324: 100%|██████████| 507/507 [00:05<00:00, 90.01it/s]\n",
      "Training Epoch 325: 100%|██████████| 507/507 [00:05<00:00, 88.18it/s]\n",
      "Training Epoch 326: 100%|██████████| 507/507 [00:05<00:00, 88.21it/s]\n",
      "Training Epoch 327: 100%|██████████| 507/507 [00:05<00:00, 88.65it/s]\n",
      "Training Epoch 328: 100%|██████████| 507/507 [00:05<00:00, 89.96it/s]\n",
      "Training Epoch 329: 100%|██████████| 507/507 [00:05<00:00, 88.50it/s]\n",
      "Training Epoch 330: 100%|██████████| 507/507 [00:05<00:00, 87.76it/s]\n",
      "Training Epoch 331: 100%|██████████| 507/507 [00:05<00:00, 90.37it/s]\n"
     ]
    },
    {
     "name": "stdout",
     "output_type": "stream",
     "text": [
      "Epoch 330 - Train Loss: 0.5942, Train MSE: 0.5940, Train MAE: 0.5795\n",
      "Epoch 330 - Validation Loss: 1.4778, Validation MSE: 1.4804, Validation MAE: 0.8922\n"
     ]
    },
    {
     "name": "stderr",
     "output_type": "stream",
     "text": [
      "Training Epoch 332: 100%|██████████| 507/507 [00:05<00:00, 89.10it/s]\n",
      "Training Epoch 333: 100%|██████████| 507/507 [00:05<00:00, 89.20it/s]\n",
      "Training Epoch 334: 100%|██████████| 507/507 [00:05<00:00, 85.99it/s]\n",
      "Training Epoch 335: 100%|██████████| 507/507 [00:05<00:00, 90.81it/s]\n",
      "Training Epoch 336: 100%|██████████| 507/507 [00:05<00:00, 90.31it/s] \n",
      "Training Epoch 337: 100%|██████████| 507/507 [00:05<00:00, 89.35it/s]\n",
      "Training Epoch 338: 100%|██████████| 507/507 [00:05<00:00, 90.33it/s]\n",
      "Training Epoch 339: 100%|██████████| 507/507 [00:05<00:00, 88.02it/s]\n",
      "Training Epoch 340: 100%|██████████| 507/507 [00:05<00:00, 89.18it/s]\n",
      "Training Epoch 341: 100%|██████████| 507/507 [00:05<00:00, 86.33it/s]\n"
     ]
    },
    {
     "name": "stdout",
     "output_type": "stream",
     "text": [
      "Epoch 340 - Train Loss: 0.5773, Train MSE: 0.5774, Train MAE: 0.5726\n",
      "Epoch 340 - Validation Loss: 1.4777, Validation MSE: 1.4814, Validation MAE: 0.8925\n"
     ]
    },
    {
     "name": "stderr",
     "output_type": "stream",
     "text": [
      "Training Epoch 342: 100%|██████████| 507/507 [00:05<00:00, 86.43it/s]\n",
      "Training Epoch 343: 100%|██████████| 507/507 [00:05<00:00, 88.87it/s]\n",
      "Training Epoch 344: 100%|██████████| 507/507 [00:05<00:00, 88.17it/s]\n",
      "Training Epoch 345: 100%|██████████| 507/507 [00:05<00:00, 87.39it/s]\n",
      "Training Epoch 346: 100%|██████████| 507/507 [00:05<00:00, 89.59it/s]\n",
      "Training Epoch 347: 100%|██████████| 507/507 [00:05<00:00, 86.60it/s]\n",
      "Training Epoch 348: 100%|██████████| 507/507 [00:05<00:00, 88.74it/s]\n",
      "Training Epoch 349: 100%|██████████| 507/507 [00:05<00:00, 89.99it/s]\n",
      "Training Epoch 350: 100%|██████████| 507/507 [00:05<00:00, 87.18it/s]\n",
      "Training Epoch 351: 100%|██████████| 507/507 [00:05<00:00, 87.72it/s]\n"
     ]
    },
    {
     "name": "stdout",
     "output_type": "stream",
     "text": [
      "Epoch 350 - Train Loss: 0.5557, Train MSE: 0.5560, Train MAE: 0.5593\n",
      "Epoch 350 - Validation Loss: 1.4792, Validation MSE: 1.4827, Validation MAE: 0.8939\n"
     ]
    },
    {
     "name": "stderr",
     "output_type": "stream",
     "text": [
      "Training Epoch 352: 100%|██████████| 507/507 [00:05<00:00, 88.72it/s]\n",
      "Training Epoch 353: 100%|██████████| 507/507 [00:05<00:00, 87.20it/s]\n",
      "Training Epoch 354: 100%|██████████| 507/507 [00:05<00:00, 88.54it/s]\n",
      "Training Epoch 355: 100%|██████████| 507/507 [00:05<00:00, 87.68it/s]\n",
      "Training Epoch 356: 100%|██████████| 507/507 [00:05<00:00, 89.71it/s]\n",
      "Training Epoch 357: 100%|██████████| 507/507 [00:05<00:00, 89.21it/s]\n",
      "Training Epoch 358: 100%|██████████| 507/507 [00:05<00:00, 87.24it/s]\n",
      "Training Epoch 359: 100%|██████████| 507/507 [00:05<00:00, 88.78it/s]\n",
      "Training Epoch 360: 100%|██████████| 507/507 [00:05<00:00, 88.58it/s]\n",
      "Training Epoch 361: 100%|██████████| 507/507 [00:05<00:00, 89.19it/s]\n"
     ]
    },
    {
     "name": "stdout",
     "output_type": "stream",
     "text": [
      "Epoch 360 - Train Loss: 0.5635, Train MSE: 0.5638, Train MAE: 0.5675\n",
      "Epoch 360 - Validation Loss: 1.4656, Validation MSE: 1.4679, Validation MAE: 0.8811\n"
     ]
    },
    {
     "name": "stderr",
     "output_type": "stream",
     "text": [
      "Training Epoch 362: 100%|██████████| 507/507 [00:05<00:00, 90.04it/s]\n",
      "Training Epoch 363: 100%|██████████| 507/507 [00:05<00:00, 89.58it/s]\n",
      "Training Epoch 364: 100%|██████████| 507/507 [00:05<00:00, 88.10it/s]\n",
      "Training Epoch 365: 100%|██████████| 507/507 [00:05<00:00, 91.93it/s]\n",
      "Training Epoch 366: 100%|██████████| 507/507 [00:05<00:00, 87.44it/s]\n",
      "Training Epoch 367: 100%|██████████| 507/507 [00:05<00:00, 90.45it/s]\n",
      "Training Epoch 368: 100%|██████████| 507/507 [00:05<00:00, 89.68it/s]\n",
      "Training Epoch 369: 100%|██████████| 507/507 [00:05<00:00, 89.21it/s]\n",
      "Training Epoch 370: 100%|██████████| 507/507 [00:05<00:00, 88.55it/s]\n",
      "Training Epoch 371: 100%|██████████| 507/507 [00:05<00:00, 89.02it/s]\n"
     ]
    },
    {
     "name": "stdout",
     "output_type": "stream",
     "text": [
      "Epoch 370 - Train Loss: 0.5565, Train MSE: 0.5562, Train MAE: 0.5605\n",
      "Epoch 370 - Validation Loss: 1.4589, Validation MSE: 1.4625, Validation MAE: 0.8840\n"
     ]
    },
    {
     "name": "stderr",
     "output_type": "stream",
     "text": [
      "Training Epoch 372: 100%|██████████| 507/507 [00:05<00:00, 90.26it/s]\n",
      "Training Epoch 373: 100%|██████████| 507/507 [00:05<00:00, 88.17it/s]\n",
      "Training Epoch 374: 100%|██████████| 507/507 [00:05<00:00, 88.56it/s]\n",
      "Training Epoch 375: 100%|██████████| 507/507 [00:05<00:00, 90.39it/s]\n",
      "Training Epoch 376: 100%|██████████| 507/507 [00:05<00:00, 86.83it/s]\n",
      "Training Epoch 377: 100%|██████████| 507/507 [00:05<00:00, 88.17it/s]\n",
      "Training Epoch 378: 100%|██████████| 507/507 [00:05<00:00, 88.27it/s]\n",
      "Training Epoch 379: 100%|██████████| 507/507 [00:05<00:00, 88.54it/s]\n",
      "Training Epoch 380: 100%|██████████| 507/507 [00:05<00:00, 88.12it/s]\n",
      "Training Epoch 381: 100%|██████████| 507/507 [00:05<00:00, 90.16it/s]\n"
     ]
    },
    {
     "name": "stdout",
     "output_type": "stream",
     "text": [
      "Epoch 380 - Train Loss: 0.5513, Train MSE: 0.5517, Train MAE: 0.5588\n",
      "Epoch 380 - Validation Loss: 1.4668, Validation MSE: 1.4702, Validation MAE: 0.8793\n"
     ]
    },
    {
     "name": "stderr",
     "output_type": "stream",
     "text": [
      "Training Epoch 382: 100%|██████████| 507/507 [00:05<00:00, 88.36it/s]\n",
      "Training Epoch 383: 100%|██████████| 507/507 [00:05<00:00, 90.46it/s]\n",
      "Training Epoch 384: 100%|██████████| 507/507 [00:05<00:00, 85.81it/s]\n",
      "Training Epoch 385: 100%|██████████| 507/507 [00:05<00:00, 89.31it/s] \n",
      "Training Epoch 386: 100%|██████████| 507/507 [00:05<00:00, 88.63it/s]\n",
      "Training Epoch 387: 100%|██████████| 507/507 [00:05<00:00, 89.19it/s]\n",
      "Training Epoch 388: 100%|██████████| 507/507 [00:05<00:00, 88.70it/s]\n",
      "Training Epoch 389: 100%|██████████| 507/507 [00:05<00:00, 87.96it/s]\n",
      "Training Epoch 390: 100%|██████████| 507/507 [00:05<00:00, 86.65it/s]\n",
      "Training Epoch 391: 100%|██████████| 507/507 [00:05<00:00, 90.44it/s] \n"
     ]
    },
    {
     "name": "stdout",
     "output_type": "stream",
     "text": [
      "Epoch 390 - Train Loss: 0.5446, Train MSE: 0.5448, Train MAE: 0.5547\n",
      "Epoch 390 - Validation Loss: 1.4451, Validation MSE: 1.4480, Validation MAE: 0.8762\n"
     ]
    },
    {
     "name": "stderr",
     "output_type": "stream",
     "text": [
      "Training Epoch 392: 100%|██████████| 507/507 [00:05<00:00, 86.92it/s]\n",
      "Training Epoch 393: 100%|██████████| 507/507 [00:05<00:00, 88.12it/s]\n",
      "Training Epoch 394: 100%|██████████| 507/507 [00:05<00:00, 88.67it/s]\n",
      "Training Epoch 395: 100%|██████████| 507/507 [00:05<00:00, 87.19it/s]\n",
      "Training Epoch 396: 100%|██████████| 507/507 [00:05<00:00, 88.51it/s]\n",
      "Training Epoch 397: 100%|██████████| 507/507 [00:05<00:00, 87.99it/s]\n",
      "Training Epoch 398: 100%|██████████| 507/507 [00:05<00:00, 89.81it/s]\n",
      "Training Epoch 399: 100%|██████████| 507/507 [00:05<00:00, 88.56it/s]\n",
      "Training Epoch 400: 100%|██████████| 507/507 [00:05<00:00, 87.70it/s]\n",
      "Training Epoch 401: 100%|██████████| 507/507 [00:05<00:00, 86.94it/s]\n"
     ]
    },
    {
     "name": "stdout",
     "output_type": "stream",
     "text": [
      "Epoch 400 - Train Loss: 0.5379, Train MSE: 0.5381, Train MAE: 0.5512\n",
      "Epoch 400 - Validation Loss: 1.4389, Validation MSE: 1.4423, Validation MAE: 0.8789\n"
     ]
    },
    {
     "name": "stderr",
     "output_type": "stream",
     "text": [
      "Training Epoch 402: 100%|██████████| 507/507 [00:05<00:00, 89.29it/s]\n",
      "Training Epoch 403: 100%|██████████| 507/507 [00:05<00:00, 87.26it/s]\n",
      "Training Epoch 404: 100%|██████████| 507/507 [00:05<00:00, 87.33it/s]\n",
      "Training Epoch 405: 100%|██████████| 507/507 [00:05<00:00, 88.26it/s]\n",
      "Training Epoch 406: 100%|██████████| 507/507 [00:05<00:00, 89.13it/s]\n",
      "Training Epoch 407: 100%|██████████| 507/507 [00:05<00:00, 90.10it/s]\n",
      "Training Epoch 408: 100%|██████████| 507/507 [00:05<00:00, 88.78it/s]\n",
      "Training Epoch 409: 100%|██████████| 507/507 [00:05<00:00, 88.64it/s]\n",
      "Training Epoch 410: 100%|██████████| 507/507 [00:05<00:00, 90.91it/s]\n",
      "Training Epoch 411: 100%|██████████| 507/507 [00:05<00:00, 89.70it/s]\n"
     ]
    },
    {
     "name": "stdout",
     "output_type": "stream",
     "text": [
      "Epoch 410 - Train Loss: 0.5349, Train MSE: 0.5352, Train MAE: 0.5473\n",
      "Epoch 410 - Validation Loss: 1.4637, Validation MSE: 1.4673, Validation MAE: 0.8799\n"
     ]
    },
    {
     "name": "stderr",
     "output_type": "stream",
     "text": [
      "Training Epoch 412: 100%|██████████| 507/507 [00:05<00:00, 90.58it/s]\n",
      "Training Epoch 413: 100%|██████████| 507/507 [00:05<00:00, 88.33it/s]\n",
      "Training Epoch 414: 100%|██████████| 507/507 [00:05<00:00, 88.22it/s]\n",
      "Training Epoch 415: 100%|██████████| 507/507 [00:05<00:00, 88.48it/s]\n",
      "Training Epoch 416: 100%|██████████| 507/507 [00:05<00:00, 87.69it/s]\n",
      "Training Epoch 417: 100%|██████████| 507/507 [00:05<00:00, 88.26it/s]\n",
      "Training Epoch 418: 100%|██████████| 507/507 [00:05<00:00, 88.66it/s]\n",
      "Training Epoch 419: 100%|██████████| 507/507 [00:05<00:00, 87.34it/s]\n",
      "Training Epoch 420: 100%|██████████| 507/507 [00:05<00:00, 87.79it/s]\n",
      "Training Epoch 421: 100%|██████████| 507/507 [00:05<00:00, 89.24it/s]\n"
     ]
    },
    {
     "name": "stdout",
     "output_type": "stream",
     "text": [
      "Epoch 420 - Train Loss: 0.5228, Train MSE: 0.5232, Train MAE: 0.5453\n",
      "Epoch 420 - Validation Loss: 1.4254, Validation MSE: 1.4286, Validation MAE: 0.8733\n"
     ]
    },
    {
     "name": "stderr",
     "output_type": "stream",
     "text": [
      "Training Epoch 422: 100%|██████████| 507/507 [00:05<00:00, 90.52it/s]\n",
      "Training Epoch 423: 100%|██████████| 507/507 [00:05<00:00, 90.26it/s]\n",
      "Training Epoch 424: 100%|██████████| 507/507 [00:05<00:00, 87.78it/s]\n",
      "Training Epoch 425: 100%|██████████| 507/507 [00:05<00:00, 91.43it/s]\n",
      "Training Epoch 426: 100%|██████████| 507/507 [00:05<00:00, 87.52it/s]\n",
      "Training Epoch 427: 100%|██████████| 507/507 [00:05<00:00, 88.04it/s]\n",
      "Training Epoch 428: 100%|██████████| 507/507 [00:05<00:00, 90.14it/s]\n",
      "Training Epoch 429: 100%|██████████| 507/507 [00:05<00:00, 86.04it/s]\n",
      "Training Epoch 430: 100%|██████████| 507/507 [00:05<00:00, 89.17it/s]\n",
      "Training Epoch 431: 100%|██████████| 507/507 [00:05<00:00, 89.49it/s]\n"
     ]
    },
    {
     "name": "stdout",
     "output_type": "stream",
     "text": [
      "Epoch 430 - Train Loss: 0.5171, Train MSE: 0.5171, Train MAE: 0.5389\n",
      "Epoch 430 - Validation Loss: 1.4680, Validation MSE: 1.4714, Validation MAE: 0.8884\n"
     ]
    },
    {
     "name": "stderr",
     "output_type": "stream",
     "text": [
      "Training Epoch 432: 100%|██████████| 507/507 [00:05<00:00, 86.94it/s]\n",
      "Training Epoch 433: 100%|██████████| 507/507 [00:05<00:00, 89.23it/s]\n",
      "Training Epoch 434: 100%|██████████| 507/507 [00:05<00:00, 89.18it/s]\n",
      "Training Epoch 435: 100%|██████████| 507/507 [00:05<00:00, 89.33it/s]\n",
      "Training Epoch 436: 100%|██████████| 507/507 [00:05<00:00, 87.70it/s]\n",
      "Training Epoch 437: 100%|██████████| 507/507 [00:05<00:00, 87.44it/s]\n",
      "Training Epoch 438: 100%|██████████| 507/507 [00:05<00:00, 89.57it/s]\n",
      "Training Epoch 439: 100%|██████████| 507/507 [00:05<00:00, 86.12it/s]\n",
      "Training Epoch 440: 100%|██████████| 507/507 [00:05<00:00, 87.28it/s]\n",
      "Training Epoch 441: 100%|██████████| 507/507 [00:05<00:00, 90.07it/s]\n"
     ]
    },
    {
     "name": "stdout",
     "output_type": "stream",
     "text": [
      "Epoch 440 - Train Loss: 0.5074, Train MSE: 0.5070, Train MAE: 0.5352\n",
      "Epoch 440 - Validation Loss: 1.4344, Validation MSE: 1.4370, Validation MAE: 0.8767\n"
     ]
    },
    {
     "name": "stderr",
     "output_type": "stream",
     "text": [
      "Training Epoch 442: 100%|██████████| 507/507 [00:05<00:00, 89.53it/s]\n",
      "Training Epoch 443: 100%|██████████| 507/507 [00:05<00:00, 88.20it/s]\n",
      "Training Epoch 444: 100%|██████████| 507/507 [00:05<00:00, 89.95it/s]\n",
      "Training Epoch 445: 100%|██████████| 507/507 [00:05<00:00, 86.77it/s]\n",
      "Training Epoch 446: 100%|██████████| 507/507 [00:05<00:00, 88.64it/s]\n",
      "Training Epoch 447: 100%|██████████| 507/507 [00:05<00:00, 88.11it/s]\n",
      "Training Epoch 448: 100%|██████████| 507/507 [00:05<00:00, 88.09it/s]\n",
      "Training Epoch 449: 100%|██████████| 507/507 [00:05<00:00, 88.56it/s]\n",
      "Training Epoch 450: 100%|██████████| 507/507 [00:05<00:00, 88.65it/s]\n",
      "Training Epoch 451: 100%|██████████| 507/507 [00:05<00:00, 89.82it/s]\n"
     ]
    },
    {
     "name": "stdout",
     "output_type": "stream",
     "text": [
      "Epoch 450 - Train Loss: 0.5092, Train MSE: 0.5093, Train MAE: 0.5351\n",
      "Epoch 450 - Validation Loss: 1.4551, Validation MSE: 1.4576, Validation MAE: 0.8850\n"
     ]
    },
    {
     "name": "stderr",
     "output_type": "stream",
     "text": [
      "Training Epoch 452: 100%|██████████| 507/507 [00:05<00:00, 89.97it/s]\n",
      "Training Epoch 453: 100%|██████████| 507/507 [00:05<00:00, 86.37it/s]\n",
      "Training Epoch 454: 100%|██████████| 507/507 [00:05<00:00, 89.49it/s]\n",
      "Training Epoch 455: 100%|██████████| 507/507 [00:05<00:00, 88.95it/s]\n",
      "Training Epoch 456: 100%|██████████| 507/507 [00:05<00:00, 87.91it/s]\n",
      "Training Epoch 457: 100%|██████████| 507/507 [00:05<00:00, 89.31it/s] \n",
      "Training Epoch 458: 100%|██████████| 507/507 [00:05<00:00, 87.19it/s]\n",
      "Training Epoch 459: 100%|██████████| 507/507 [00:05<00:00, 89.74it/s]\n",
      "Training Epoch 460: 100%|██████████| 507/507 [00:05<00:00, 91.24it/s]\n",
      "Training Epoch 461: 100%|██████████| 507/507 [00:05<00:00, 88.86it/s]\n"
     ]
    },
    {
     "name": "stdout",
     "output_type": "stream",
     "text": [
      "Epoch 460 - Train Loss: 0.5118, Train MSE: 0.5116, Train MAE: 0.5375\n",
      "Epoch 460 - Validation Loss: 1.4507, Validation MSE: 1.4530, Validation MAE: 0.8786\n"
     ]
    },
    {
     "name": "stderr",
     "output_type": "stream",
     "text": [
      "Training Epoch 462: 100%|██████████| 507/507 [00:05<00:00, 89.33it/s]\n",
      "Training Epoch 463: 100%|██████████| 507/507 [00:05<00:00, 88.63it/s]\n",
      "Training Epoch 464: 100%|██████████| 507/507 [00:05<00:00, 90.33it/s]\n",
      "Training Epoch 465: 100%|██████████| 507/507 [00:05<00:00, 89.99it/s]\n",
      "Training Epoch 466: 100%|██████████| 507/507 [00:05<00:00, 87.63it/s]\n",
      "Training Epoch 467: 100%|██████████| 507/507 [00:05<00:00, 90.61it/s]\n",
      "Training Epoch 468: 100%|██████████| 507/507 [00:05<00:00, 90.09it/s]\n",
      "Training Epoch 469: 100%|██████████| 507/507 [00:05<00:00, 87.01it/s]\n",
      "Training Epoch 470: 100%|██████████| 507/507 [00:05<00:00, 89.58it/s]\n",
      "Training Epoch 471: 100%|██████████| 507/507 [00:05<00:00, 89.47it/s]\n"
     ]
    },
    {
     "name": "stdout",
     "output_type": "stream",
     "text": [
      "Epoch 470 - Train Loss: 0.5003, Train MSE: 0.5000, Train MAE: 0.5293\n",
      "Epoch 470 - Validation Loss: 1.4408, Validation MSE: 1.4428, Validation MAE: 0.8733\n"
     ]
    },
    {
     "name": "stderr",
     "output_type": "stream",
     "text": [
      "Training Epoch 472: 100%|██████████| 507/507 [00:05<00:00, 89.65it/s]\n",
      "Training Epoch 473: 100%|██████████| 507/507 [00:05<00:00, 87.76it/s]\n",
      "Training Epoch 474: 100%|██████████| 507/507 [00:05<00:00, 86.74it/s]\n",
      "Training Epoch 475: 100%|██████████| 507/507 [00:05<00:00, 89.78it/s]\n",
      "Training Epoch 476: 100%|██████████| 507/507 [00:05<00:00, 89.67it/s]\n",
      "Training Epoch 477: 100%|██████████| 507/507 [00:05<00:00, 87.84it/s]\n",
      "Training Epoch 478: 100%|██████████| 507/507 [00:05<00:00, 97.99it/s] \n",
      "Training Epoch 479: 100%|██████████| 507/507 [00:05<00:00, 97.28it/s] \n",
      "Training Epoch 480: 100%|██████████| 507/507 [00:05<00:00, 96.24it/s] \n",
      "Training Epoch 481: 100%|██████████| 507/507 [00:05<00:00, 93.53it/s]\n"
     ]
    },
    {
     "name": "stdout",
     "output_type": "stream",
     "text": [
      "Epoch 480 - Train Loss: 0.5053, Train MSE: 0.5055, Train MAE: 0.5308\n",
      "Epoch 480 - Validation Loss: 1.4232, Validation MSE: 1.4262, Validation MAE: 0.8693\n"
     ]
    },
    {
     "name": "stderr",
     "output_type": "stream",
     "text": [
      "Training Epoch 482: 100%|██████████| 507/507 [00:05<00:00, 86.64it/s]\n",
      "Training Epoch 483: 100%|██████████| 507/507 [00:09<00:00, 54.30it/s]\n",
      "Training Epoch 484: 100%|██████████| 507/507 [00:07<00:00, 65.18it/s]\n",
      "Training Epoch 485: 100%|██████████| 507/507 [00:06<00:00, 79.26it/s]\n",
      "Training Epoch 486: 100%|██████████| 507/507 [00:06<00:00, 78.78it/s]\n",
      "Training Epoch 487: 100%|██████████| 507/507 [00:05<00:00, 84.80it/s]\n",
      "Training Epoch 488: 100%|██████████| 507/507 [00:06<00:00, 83.91it/s]\n",
      "Training Epoch 489: 100%|██████████| 507/507 [00:06<00:00, 82.99it/s]\n",
      "Training Epoch 490: 100%|██████████| 507/507 [00:05<00:00, 84.64it/s]\n",
      "Training Epoch 491: 100%|██████████| 507/507 [00:06<00:00, 81.89it/s]\n"
     ]
    },
    {
     "name": "stdout",
     "output_type": "stream",
     "text": [
      "Epoch 490 - Train Loss: 0.4862, Train MSE: 0.4863, Train MAE: 0.5213\n",
      "Epoch 490 - Validation Loss: 1.4276, Validation MSE: 1.4311, Validation MAE: 0.8743\n"
     ]
    },
    {
     "name": "stderr",
     "output_type": "stream",
     "text": [
      "Training Epoch 492: 100%|██████████| 507/507 [00:06<00:00, 81.32it/s]\n",
      "Training Epoch 493: 100%|██████████| 507/507 [00:06<00:00, 83.78it/s]\n",
      "Training Epoch 494: 100%|██████████| 507/507 [00:06<00:00, 82.40it/s]\n",
      "Training Epoch 495: 100%|██████████| 507/507 [00:06<00:00, 83.32it/s]\n",
      "Training Epoch 496: 100%|██████████| 507/507 [00:06<00:00, 83.52it/s]\n",
      "Training Epoch 497: 100%|██████████| 507/507 [00:06<00:00, 83.28it/s]\n",
      "Training Epoch 498: 100%|██████████| 507/507 [00:06<00:00, 81.98it/s]\n",
      "Training Epoch 499: 100%|██████████| 507/507 [00:06<00:00, 81.94it/s]\n",
      "Training Epoch 500: 100%|██████████| 507/507 [00:06<00:00, 82.24it/s]\n",
      "Training Epoch 501: 100%|██████████| 507/507 [00:06<00:00, 81.53it/s]\n"
     ]
    },
    {
     "name": "stdout",
     "output_type": "stream",
     "text": [
      "Epoch 500 - Train Loss: 0.4845, Train MSE: 0.4848, Train MAE: 0.5210\n",
      "Epoch 500 - Validation Loss: 1.4321, Validation MSE: 1.4347, Validation MAE: 0.8734\n"
     ]
    },
    {
     "name": "stderr",
     "output_type": "stream",
     "text": [
      "Training Epoch 502: 100%|██████████| 507/507 [00:06<00:00, 84.38it/s]\n",
      "Training Epoch 503: 100%|██████████| 507/507 [00:06<00:00, 83.14it/s]\n",
      "Training Epoch 504: 100%|██████████| 507/507 [00:06<00:00, 82.58it/s]\n",
      "Training Epoch 505: 100%|██████████| 507/507 [00:06<00:00, 83.10it/s]\n",
      "Training Epoch 506: 100%|██████████| 507/507 [00:06<00:00, 81.54it/s]\n",
      "Training Epoch 507: 100%|██████████| 507/507 [00:06<00:00, 84.05it/s]\n",
      "Training Epoch 508: 100%|██████████| 507/507 [00:05<00:00, 85.65it/s]\n",
      "Training Epoch 509: 100%|██████████| 507/507 [00:06<00:00, 83.57it/s]\n",
      "Training Epoch 510: 100%|██████████| 507/507 [00:06<00:00, 82.68it/s]\n",
      "Training Epoch 511: 100%|██████████| 507/507 [00:06<00:00, 83.07it/s]\n"
     ]
    },
    {
     "name": "stdout",
     "output_type": "stream",
     "text": [
      "Epoch 510 - Train Loss: 0.4784, Train MSE: 0.4778, Train MAE: 0.5181\n",
      "Epoch 510 - Validation Loss: 1.4517, Validation MSE: 1.4546, Validation MAE: 0.8763\n"
     ]
    },
    {
     "name": "stderr",
     "output_type": "stream",
     "text": [
      "Training Epoch 512: 100%|██████████| 507/507 [00:06<00:00, 83.61it/s]\n",
      "Training Epoch 513: 100%|██████████| 507/507 [00:05<00:00, 85.72it/s]\n",
      "Training Epoch 514: 100%|██████████| 507/507 [00:06<00:00, 83.18it/s]\n",
      "Training Epoch 515: 100%|██████████| 507/507 [00:05<00:00, 84.60it/s]\n",
      "Training Epoch 516: 100%|██████████| 507/507 [00:06<00:00, 81.36it/s]\n",
      "Training Epoch 517: 100%|██████████| 507/507 [00:05<00:00, 85.10it/s]\n",
      "Training Epoch 518: 100%|██████████| 507/507 [00:06<00:00, 84.25it/s]\n",
      "Training Epoch 519: 100%|██████████| 507/507 [00:06<00:00, 81.04it/s]\n",
      "Training Epoch 520: 100%|██████████| 507/507 [00:06<00:00, 83.04it/s]\n",
      "Training Epoch 521: 100%|██████████| 507/507 [00:05<00:00, 84.54it/s]\n"
     ]
    },
    {
     "name": "stdout",
     "output_type": "stream",
     "text": [
      "Epoch 520 - Train Loss: 0.4784, Train MSE: 0.4783, Train MAE: 0.5192\n",
      "Epoch 520 - Validation Loss: 1.4235, Validation MSE: 1.4270, Validation MAE: 0.8781\n"
     ]
    },
    {
     "name": "stderr",
     "output_type": "stream",
     "text": [
      "Training Epoch 522: 100%|██████████| 507/507 [00:06<00:00, 84.06it/s]\n",
      "Training Epoch 523: 100%|██████████| 507/507 [00:06<00:00, 83.38it/s]\n",
      "Training Epoch 524: 100%|██████████| 507/507 [00:06<00:00, 83.90it/s]\n",
      "Training Epoch 525: 100%|██████████| 507/507 [00:05<00:00, 85.30it/s]\n",
      "Training Epoch 526: 100%|██████████| 507/507 [00:06<00:00, 80.29it/s]\n",
      "Training Epoch 527: 100%|██████████| 507/507 [00:06<00:00, 82.61it/s]\n",
      "Training Epoch 528: 100%|██████████| 507/507 [00:05<00:00, 85.02it/s]\n",
      "Training Epoch 529: 100%|██████████| 507/507 [00:06<00:00, 81.50it/s]\n",
      "Training Epoch 530: 100%|██████████| 507/507 [00:05<00:00, 86.02it/s]\n",
      "Training Epoch 531: 100%|██████████| 507/507 [00:06<00:00, 83.71it/s]\n"
     ]
    },
    {
     "name": "stdout",
     "output_type": "stream",
     "text": [
      "Epoch 530 - Train Loss: 0.4679, Train MSE: 0.4680, Train MAE: 0.5124\n",
      "Epoch 530 - Validation Loss: 1.4223, Validation MSE: 1.4252, Validation MAE: 0.8700\n"
     ]
    },
    {
     "name": "stderr",
     "output_type": "stream",
     "text": [
      "Training Epoch 532: 100%|██████████| 507/507 [00:06<00:00, 84.38it/s]\n",
      "Training Epoch 533: 100%|██████████| 507/507 [00:06<00:00, 81.67it/s]\n",
      "Training Epoch 534: 100%|██████████| 507/507 [00:06<00:00, 84.20it/s]\n",
      "Training Epoch 535: 100%|██████████| 507/507 [00:06<00:00, 84.24it/s]\n",
      "Training Epoch 536: 100%|██████████| 507/507 [00:06<00:00, 83.09it/s]\n",
      "Training Epoch 537: 100%|██████████| 507/507 [00:06<00:00, 82.96it/s]\n",
      "Training Epoch 538: 100%|██████████| 507/507 [00:06<00:00, 83.96it/s]\n",
      "Training Epoch 539: 100%|██████████| 507/507 [00:05<00:00, 84.60it/s]\n",
      "Training Epoch 540: 100%|██████████| 507/507 [00:05<00:00, 84.57it/s]\n",
      "Training Epoch 541: 100%|██████████| 507/507 [00:06<00:00, 82.16it/s]\n"
     ]
    },
    {
     "name": "stdout",
     "output_type": "stream",
     "text": [
      "Epoch 540 - Train Loss: 0.4723, Train MSE: 0.4725, Train MAE: 0.5152\n",
      "Epoch 540 - Validation Loss: 1.4272, Validation MSE: 1.4304, Validation MAE: 0.8686\n"
     ]
    },
    {
     "name": "stderr",
     "output_type": "stream",
     "text": [
      "Training Epoch 542: 100%|██████████| 507/507 [00:06<00:00, 83.98it/s]\n",
      "Training Epoch 543: 100%|██████████| 507/507 [00:06<00:00, 81.55it/s]\n",
      "Training Epoch 544: 100%|██████████| 507/507 [00:05<00:00, 86.18it/s]\n",
      "Training Epoch 545: 100%|██████████| 507/507 [00:06<00:00, 83.92it/s]\n",
      "Training Epoch 546: 100%|██████████| 507/507 [00:06<00:00, 84.04it/s]\n",
      "Training Epoch 547: 100%|██████████| 507/507 [00:06<00:00, 82.35it/s]\n",
      "Training Epoch 548: 100%|██████████| 507/507 [00:06<00:00, 83.08it/s]\n",
      "Training Epoch 549: 100%|██████████| 507/507 [00:06<00:00, 83.56it/s]\n",
      "Training Epoch 550: 100%|██████████| 507/507 [00:06<00:00, 83.14it/s]\n",
      "Training Epoch 551: 100%|██████████| 507/507 [00:06<00:00, 81.90it/s]\n"
     ]
    },
    {
     "name": "stdout",
     "output_type": "stream",
     "text": [
      "Epoch 550 - Train Loss: 0.4732, Train MSE: 0.4730, Train MAE: 0.5157\n",
      "Epoch 550 - Validation Loss: 1.4378, Validation MSE: 1.4415, Validation MAE: 0.8763\n"
     ]
    },
    {
     "name": "stderr",
     "output_type": "stream",
     "text": [
      "Training Epoch 552: 100%|██████████| 507/507 [00:05<00:00, 84.92it/s]\n",
      "Training Epoch 553: 100%|██████████| 507/507 [00:06<00:00, 83.29it/s]\n",
      "Training Epoch 554: 100%|██████████| 507/507 [00:05<00:00, 84.51it/s]\n",
      "Training Epoch 555: 100%|██████████| 507/507 [00:06<00:00, 82.20it/s]\n",
      "Training Epoch 556: 100%|██████████| 507/507 [00:06<00:00, 82.27it/s]\n",
      "Training Epoch 557: 100%|██████████| 507/507 [00:06<00:00, 83.21it/s]\n",
      "Training Epoch 558: 100%|██████████| 507/507 [00:06<00:00, 83.26it/s]\n",
      "Training Epoch 559: 100%|██████████| 507/507 [00:06<00:00, 84.11it/s]\n",
      "Training Epoch 560: 100%|██████████| 507/507 [00:05<00:00, 85.61it/s]\n",
      "Training Epoch 561: 100%|██████████| 507/507 [00:06<00:00, 84.28it/s]\n"
     ]
    },
    {
     "name": "stdout",
     "output_type": "stream",
     "text": [
      "Epoch 560 - Train Loss: 0.4587, Train MSE: 0.4589, Train MAE: 0.5095\n",
      "Epoch 560 - Validation Loss: 1.4229, Validation MSE: 1.4248, Validation MAE: 0.8691\n"
     ]
    },
    {
     "name": "stderr",
     "output_type": "stream",
     "text": [
      "Training Epoch 562: 100%|██████████| 507/507 [00:06<00:00, 83.96it/s]\n",
      "Training Epoch 563: 100%|██████████| 507/507 [00:06<00:00, 83.66it/s]\n",
      "Training Epoch 564: 100%|██████████| 507/507 [00:05<00:00, 84.86it/s]\n",
      "Training Epoch 565: 100%|██████████| 507/507 [00:05<00:00, 84.68it/s]\n",
      "Training Epoch 566: 100%|██████████| 507/507 [00:06<00:00, 81.82it/s]\n",
      "Training Epoch 567: 100%|██████████| 507/507 [00:05<00:00, 85.56it/s]\n",
      "Training Epoch 568: 100%|██████████| 507/507 [00:06<00:00, 84.17it/s]\n",
      "Training Epoch 569: 100%|██████████| 507/507 [00:05<00:00, 84.95it/s]\n",
      "Training Epoch 570: 100%|██████████| 507/507 [00:05<00:00, 85.13it/s]\n",
      "Training Epoch 571: 100%|██████████| 507/507 [00:06<00:00, 82.74it/s]\n"
     ]
    },
    {
     "name": "stdout",
     "output_type": "stream",
     "text": [
      "Epoch 570 - Train Loss: 0.4533, Train MSE: 0.4533, Train MAE: 0.5046\n",
      "Epoch 570 - Validation Loss: 1.4527, Validation MSE: 1.4568, Validation MAE: 0.8740\n"
     ]
    },
    {
     "name": "stderr",
     "output_type": "stream",
     "text": [
      "Training Epoch 572: 100%|██████████| 507/507 [00:06<00:00, 83.71it/s]\n",
      "Training Epoch 573: 100%|██████████| 507/507 [00:06<00:00, 82.45it/s]\n",
      "Training Epoch 574: 100%|██████████| 507/507 [00:06<00:00, 84.35it/s]\n",
      "Training Epoch 575: 100%|██████████| 507/507 [00:06<00:00, 82.70it/s]\n",
      "Training Epoch 576: 100%|██████████| 507/507 [00:06<00:00, 81.42it/s]\n",
      "Training Epoch 577: 100%|██████████| 507/507 [00:05<00:00, 86.75it/s]\n",
      "Training Epoch 578: 100%|██████████| 507/507 [00:05<00:00, 84.88it/s]\n",
      "Training Epoch 579: 100%|██████████| 507/507 [00:06<00:00, 84.01it/s]\n",
      "Training Epoch 580: 100%|██████████| 507/507 [00:05<00:00, 85.55it/s]\n",
      "Training Epoch 581: 100%|██████████| 507/507 [00:06<00:00, 82.98it/s]\n"
     ]
    },
    {
     "name": "stdout",
     "output_type": "stream",
     "text": [
      "Epoch 580 - Train Loss: 0.4420, Train MSE: 0.4422, Train MAE: 0.4997\n",
      "Epoch 580 - Validation Loss: 1.4591, Validation MSE: 1.4621, Validation MAE: 0.8741\n"
     ]
    },
    {
     "name": "stderr",
     "output_type": "stream",
     "text": [
      "Training Epoch 582: 100%|██████████| 507/507 [00:05<00:00, 86.11it/s]\n",
      "Training Epoch 583: 100%|██████████| 507/507 [00:06<00:00, 82.89it/s]\n",
      "Training Epoch 584: 100%|██████████| 507/507 [00:05<00:00, 84.66it/s]\n",
      "Training Epoch 585: 100%|██████████| 507/507 [00:06<00:00, 83.33it/s]\n",
      "Training Epoch 586: 100%|██████████| 507/507 [00:06<00:00, 81.14it/s]\n",
      "Training Epoch 587: 100%|██████████| 507/507 [00:05<00:00, 85.07it/s]\n",
      "Training Epoch 588: 100%|██████████| 507/507 [00:06<00:00, 84.46it/s]\n",
      "Training Epoch 589: 100%|██████████| 507/507 [00:06<00:00, 83.75it/s]\n",
      "Training Epoch 590: 100%|██████████| 507/507 [00:05<00:00, 86.42it/s]\n",
      "Training Epoch 591: 100%|██████████| 507/507 [00:06<00:00, 82.94it/s]\n"
     ]
    },
    {
     "name": "stdout",
     "output_type": "stream",
     "text": [
      "Epoch 590 - Train Loss: 0.4564, Train MSE: 0.4564, Train MAE: 0.5047\n",
      "Epoch 590 - Validation Loss: 1.4222, Validation MSE: 1.4255, Validation MAE: 0.8674\n"
     ]
    },
    {
     "name": "stderr",
     "output_type": "stream",
     "text": [
      "Training Epoch 592: 100%|██████████| 507/507 [00:06<00:00, 82.02it/s]\n",
      "Training Epoch 593: 100%|██████████| 507/507 [00:06<00:00, 82.64it/s]\n",
      "Training Epoch 594: 100%|██████████| 507/507 [00:05<00:00, 84.67it/s]\n",
      "Training Epoch 595: 100%|██████████| 507/507 [00:06<00:00, 83.01it/s]\n",
      "Training Epoch 596: 100%|██████████| 507/507 [00:06<00:00, 81.26it/s]\n",
      "Training Epoch 597: 100%|██████████| 507/507 [00:06<00:00, 84.40it/s]\n",
      "Training Epoch 598: 100%|██████████| 507/507 [00:06<00:00, 84.05it/s]\n",
      "Training Epoch 599: 100%|██████████| 507/507 [00:06<00:00, 84.39it/s]\n",
      "Training Epoch 600: 100%|██████████| 507/507 [00:06<00:00, 82.73it/s]\n",
      "Training Epoch 601: 100%|██████████| 507/507 [00:06<00:00, 83.66it/s]\n"
     ]
    },
    {
     "name": "stdout",
     "output_type": "stream",
     "text": [
      "Epoch 600 - Train Loss: 0.4526, Train MSE: 0.4526, Train MAE: 0.5046\n",
      "Epoch 600 - Validation Loss: 1.4435, Validation MSE: 1.4461, Validation MAE: 0.8684\n"
     ]
    },
    {
     "name": "stderr",
     "output_type": "stream",
     "text": [
      "Training Epoch 602: 100%|██████████| 507/507 [00:05<00:00, 85.04it/s]\n",
      "Training Epoch 603: 100%|██████████| 507/507 [00:06<00:00, 82.79it/s]\n",
      "Training Epoch 604: 100%|██████████| 507/507 [00:05<00:00, 84.73it/s]\n",
      "Training Epoch 605: 100%|██████████| 507/507 [00:06<00:00, 82.23it/s]\n",
      "Training Epoch 606: 100%|██████████| 507/507 [00:06<00:00, 83.93it/s]\n",
      "Training Epoch 607: 100%|██████████| 507/507 [00:06<00:00, 83.14it/s]\n",
      "Training Epoch 608: 100%|██████████| 507/507 [00:06<00:00, 82.07it/s]\n",
      "Training Epoch 609: 100%|██████████| 507/507 [00:06<00:00, 84.34it/s]\n",
      "Training Epoch 610: 100%|██████████| 507/507 [00:05<00:00, 84.91it/s]\n",
      "Training Epoch 611: 100%|██████████| 507/507 [00:06<00:00, 84.15it/s]\n"
     ]
    },
    {
     "name": "stdout",
     "output_type": "stream",
     "text": [
      "Epoch 610 - Train Loss: 0.4503, Train MSE: 0.4505, Train MAE: 0.5032\n",
      "Epoch 610 - Validation Loss: 1.4663, Validation MSE: 1.4691, Validation MAE: 0.8807\n"
     ]
    },
    {
     "name": "stderr",
     "output_type": "stream",
     "text": [
      "Training Epoch 612: 100%|██████████| 507/507 [00:05<00:00, 84.98it/s]\n",
      "Training Epoch 613: 100%|██████████| 507/507 [00:06<00:00, 81.82it/s]\n",
      "Training Epoch 614: 100%|██████████| 507/507 [00:05<00:00, 85.01it/s]\n",
      "Training Epoch 615: 100%|██████████| 507/507 [00:06<00:00, 82.51it/s]\n",
      "Training Epoch 616: 100%|██████████| 507/507 [00:06<00:00, 82.71it/s]\n",
      "Training Epoch 617: 100%|██████████| 507/507 [00:06<00:00, 83.47it/s]\n",
      "Training Epoch 618: 100%|██████████| 507/507 [00:06<00:00, 82.55it/s]\n",
      "Training Epoch 619: 100%|██████████| 507/507 [00:05<00:00, 84.86it/s]\n",
      "Training Epoch 620: 100%|██████████| 507/507 [00:06<00:00, 83.70it/s]\n",
      "Training Epoch 621: 100%|██████████| 507/507 [00:06<00:00, 82.42it/s]\n"
     ]
    },
    {
     "name": "stdout",
     "output_type": "stream",
     "text": [
      "Epoch 620 - Train Loss: 0.4495, Train MSE: 0.4497, Train MAE: 0.5009\n",
      "Epoch 620 - Validation Loss: 1.4692, Validation MSE: 1.4718, Validation MAE: 0.8793\n"
     ]
    },
    {
     "name": "stderr",
     "output_type": "stream",
     "text": [
      "Training Epoch 622: 100%|██████████| 507/507 [00:06<00:00, 84.08it/s]\n",
      "Training Epoch 623: 100%|██████████| 507/507 [00:06<00:00, 82.94it/s]\n",
      "Training Epoch 624: 100%|██████████| 507/507 [00:05<00:00, 84.74it/s]\n",
      "Training Epoch 625: 100%|██████████| 507/507 [00:05<00:00, 85.46it/s]\n",
      "Training Epoch 626: 100%|██████████| 507/507 [00:06<00:00, 82.71it/s]\n",
      "Training Epoch 627: 100%|██████████| 507/507 [00:06<00:00, 83.94it/s]\n",
      "Training Epoch 628: 100%|██████████| 507/507 [00:06<00:00, 83.69it/s]\n",
      "Training Epoch 629: 100%|██████████| 507/507 [00:05<00:00, 84.90it/s]\n",
      "Training Epoch 630: 100%|██████████| 507/507 [00:06<00:00, 83.07it/s]\n",
      "Training Epoch 631: 100%|██████████| 507/507 [00:05<00:00, 84.67it/s]\n"
     ]
    },
    {
     "name": "stdout",
     "output_type": "stream",
     "text": [
      "Epoch 630 - Train Loss: 0.4378, Train MSE: 0.4378, Train MAE: 0.4932\n",
      "Epoch 630 - Validation Loss: 1.4394, Validation MSE: 1.4418, Validation MAE: 0.8705\n"
     ]
    },
    {
     "name": "stderr",
     "output_type": "stream",
     "text": [
      "Training Epoch 632: 100%|██████████| 507/507 [00:05<00:00, 84.94it/s]\n",
      "Training Epoch 633: 100%|██████████| 507/507 [00:06<00:00, 83.90it/s]\n",
      "Training Epoch 634: 100%|██████████| 507/507 [00:06<00:00, 84.23it/s]\n",
      "Training Epoch 635: 100%|██████████| 507/507 [00:05<00:00, 85.41it/s]\n",
      "Training Epoch 636: 100%|██████████| 507/507 [00:05<00:00, 84.99it/s]\n",
      "Training Epoch 637: 100%|██████████| 507/507 [00:06<00:00, 84.34it/s]\n",
      "Training Epoch 638: 100%|██████████| 507/507 [00:06<00:00, 80.22it/s]\n",
      "Training Epoch 639: 100%|██████████| 507/507 [00:05<00:00, 85.67it/s]\n",
      "Training Epoch 640: 100%|██████████| 507/507 [00:05<00:00, 85.38it/s]\n",
      "Training Epoch 641: 100%|██████████| 507/507 [00:06<00:00, 82.59it/s]\n"
     ]
    },
    {
     "name": "stdout",
     "output_type": "stream",
     "text": [
      "Epoch 640 - Train Loss: 0.4425, Train MSE: 0.4425, Train MAE: 0.4991\n",
      "Epoch 640 - Validation Loss: 1.4061, Validation MSE: 1.4089, Validation MAE: 0.8574\n"
     ]
    },
    {
     "name": "stderr",
     "output_type": "stream",
     "text": [
      "Training Epoch 642: 100%|██████████| 507/507 [00:05<00:00, 85.49it/s]\n",
      "Training Epoch 643: 100%|██████████| 507/507 [00:06<00:00, 83.24it/s]\n",
      "Training Epoch 644: 100%|██████████| 507/507 [00:06<00:00, 83.46it/s]\n",
      "Training Epoch 645: 100%|██████████| 507/507 [00:06<00:00, 84.19it/s]\n",
      "Training Epoch 646: 100%|██████████| 507/507 [00:06<00:00, 84.44it/s]\n",
      "Training Epoch 647: 100%|██████████| 507/507 [00:06<00:00, 83.23it/s]\n",
      "Training Epoch 648: 100%|██████████| 507/507 [00:06<00:00, 82.54it/s]\n",
      "Training Epoch 649: 100%|██████████| 507/507 [00:05<00:00, 85.12it/s]\n",
      "Training Epoch 650: 100%|██████████| 507/507 [00:06<00:00, 83.37it/s]\n",
      "Training Epoch 651: 100%|██████████| 507/507 [00:06<00:00, 84.34it/s]\n"
     ]
    },
    {
     "name": "stdout",
     "output_type": "stream",
     "text": [
      "Epoch 650 - Train Loss: 0.4337, Train MSE: 0.4324, Train MAE: 0.4917\n",
      "Epoch 650 - Validation Loss: 1.4391, Validation MSE: 1.4426, Validation MAE: 0.8692\n"
     ]
    },
    {
     "name": "stderr",
     "output_type": "stream",
     "text": [
      "Training Epoch 652: 100%|██████████| 507/507 [00:05<00:00, 84.67it/s]\n",
      "Training Epoch 653: 100%|██████████| 507/507 [00:05<00:00, 84.55it/s]\n",
      "Training Epoch 654: 100%|██████████| 507/507 [00:05<00:00, 84.86it/s]\n",
      "Training Epoch 655: 100%|██████████| 507/507 [00:06<00:00, 83.95it/s]\n",
      "Training Epoch 656: 100%|██████████| 507/507 [00:06<00:00, 82.34it/s]\n",
      "Training Epoch 657: 100%|██████████| 507/507 [00:05<00:00, 85.17it/s]\n",
      "Training Epoch 658: 100%|██████████| 507/507 [00:05<00:00, 84.85it/s]\n",
      "Training Epoch 659: 100%|██████████| 507/507 [00:05<00:00, 85.02it/s]\n",
      "Training Epoch 660: 100%|██████████| 507/507 [00:06<00:00, 83.90it/s]\n",
      "Training Epoch 661: 100%|██████████| 507/507 [00:06<00:00, 83.64it/s]\n"
     ]
    },
    {
     "name": "stdout",
     "output_type": "stream",
     "text": [
      "Epoch 660 - Train Loss: 0.4340, Train MSE: 0.4339, Train MAE: 0.4926\n",
      "Epoch 660 - Validation Loss: 1.4499, Validation MSE: 1.4532, Validation MAE: 0.8749\n"
     ]
    },
    {
     "name": "stderr",
     "output_type": "stream",
     "text": [
      "Training Epoch 662: 100%|██████████| 507/507 [00:05<00:00, 85.31it/s]\n",
      "Training Epoch 663: 100%|██████████| 507/507 [00:06<00:00, 83.08it/s]\n",
      "Training Epoch 664: 100%|██████████| 507/507 [00:05<00:00, 84.80it/s]\n",
      "Training Epoch 665: 100%|██████████| 507/507 [00:05<00:00, 84.77it/s]\n",
      "Training Epoch 666: 100%|██████████| 507/507 [00:05<00:00, 84.62it/s]\n",
      "Training Epoch 667: 100%|██████████| 507/507 [00:05<00:00, 84.86it/s]\n",
      "Training Epoch 668: 100%|██████████| 507/507 [00:06<00:00, 83.28it/s]\n",
      "Training Epoch 669: 100%|██████████| 507/507 [00:05<00:00, 84.82it/s]\n",
      "Training Epoch 670: 100%|██████████| 507/507 [00:05<00:00, 87.34it/s]\n",
      "Training Epoch 671: 100%|██████████| 507/507 [00:06<00:00, 83.97it/s]\n"
     ]
    },
    {
     "name": "stdout",
     "output_type": "stream",
     "text": [
      "Epoch 670 - Train Loss: 0.4329, Train MSE: 0.4333, Train MAE: 0.4932\n",
      "Epoch 670 - Validation Loss: 1.4231, Validation MSE: 1.4265, Validation MAE: 0.8644\n"
     ]
    },
    {
     "name": "stderr",
     "output_type": "stream",
     "text": [
      "Training Epoch 672: 100%|██████████| 507/507 [00:05<00:00, 84.53it/s]\n",
      "Training Epoch 673: 100%|██████████| 507/507 [00:06<00:00, 82.91it/s]\n",
      "Training Epoch 674: 100%|██████████| 507/507 [00:05<00:00, 85.61it/s]\n",
      "Training Epoch 675: 100%|██████████| 507/507 [00:05<00:00, 86.36it/s]\n",
      "Training Epoch 676: 100%|██████████| 507/507 [00:06<00:00, 83.61it/s]\n",
      "Training Epoch 677: 100%|██████████| 507/507 [00:05<00:00, 84.78it/s]\n",
      "Training Epoch 678: 100%|██████████| 507/507 [00:06<00:00, 83.58it/s]\n",
      "Training Epoch 679: 100%|██████████| 507/507 [00:06<00:00, 83.38it/s]\n",
      "Training Epoch 680: 100%|██████████| 507/507 [00:06<00:00, 83.59it/s]\n",
      "Training Epoch 681: 100%|██████████| 507/507 [00:05<00:00, 85.31it/s]\n"
     ]
    },
    {
     "name": "stdout",
     "output_type": "stream",
     "text": [
      "Epoch 680 - Train Loss: 0.4328, Train MSE: 0.4327, Train MAE: 0.4909\n",
      "Epoch 680 - Validation Loss: 1.4397, Validation MSE: 1.4427, Validation MAE: 0.8753\n"
     ]
    },
    {
     "name": "stderr",
     "output_type": "stream",
     "text": [
      "Training Epoch 682: 100%|██████████| 507/507 [00:05<00:00, 87.56it/s]\n",
      "Training Epoch 683: 100%|██████████| 507/507 [00:06<00:00, 83.96it/s]\n",
      "Training Epoch 684: 100%|██████████| 507/507 [00:06<00:00, 83.55it/s]\n",
      "Training Epoch 685: 100%|██████████| 507/507 [00:06<00:00, 84.41it/s]\n",
      "Training Epoch 686: 100%|██████████| 507/507 [00:06<00:00, 82.01it/s]\n",
      "Training Epoch 687: 100%|██████████| 507/507 [00:05<00:00, 85.89it/s]\n",
      "Training Epoch 688: 100%|██████████| 507/507 [00:06<00:00, 83.99it/s]\n",
      "Training Epoch 689: 100%|██████████| 507/507 [00:06<00:00, 84.13it/s]\n",
      "Training Epoch 690: 100%|██████████| 507/507 [00:06<00:00, 81.68it/s]\n",
      "Training Epoch 691: 100%|██████████| 507/507 [00:06<00:00, 84.41it/s]\n"
     ]
    },
    {
     "name": "stdout",
     "output_type": "stream",
     "text": [
      "Epoch 690 - Train Loss: 0.4300, Train MSE: 0.4303, Train MAE: 0.4898\n",
      "Epoch 690 - Validation Loss: 1.4206, Validation MSE: 1.4234, Validation MAE: 0.8645\n"
     ]
    },
    {
     "name": "stderr",
     "output_type": "stream",
     "text": [
      "Training Epoch 692: 100%|██████████| 507/507 [00:05<00:00, 84.56it/s]\n",
      "Training Epoch 693: 100%|██████████| 507/507 [00:06<00:00, 83.66it/s]\n",
      "Training Epoch 694: 100%|██████████| 507/507 [00:05<00:00, 86.30it/s]\n",
      "Training Epoch 695: 100%|██████████| 507/507 [00:05<00:00, 84.81it/s]\n",
      "Training Epoch 696: 100%|██████████| 507/507 [00:06<00:00, 83.98it/s]\n",
      "Training Epoch 697: 100%|██████████| 507/507 [00:06<00:00, 83.68it/s]\n",
      "Training Epoch 698: 100%|██████████| 507/507 [00:06<00:00, 84.35it/s]\n",
      "Training Epoch 699: 100%|██████████| 507/507 [00:05<00:00, 84.55it/s]\n",
      "Training Epoch 700: 100%|██████████| 507/507 [00:05<00:00, 85.19it/s]\n",
      "Training Epoch 701: 100%|██████████| 507/507 [00:06<00:00, 82.87it/s]\n"
     ]
    },
    {
     "name": "stdout",
     "output_type": "stream",
     "text": [
      "Epoch 700 - Train Loss: 0.4254, Train MSE: 0.4252, Train MAE: 0.4880\n",
      "Epoch 700 - Validation Loss: 1.4374, Validation MSE: 1.4400, Validation MAE: 0.8632\n"
     ]
    },
    {
     "name": "stderr",
     "output_type": "stream",
     "text": [
      "Training Epoch 702: 100%|██████████| 507/507 [00:05<00:00, 86.83it/s]\n",
      "Training Epoch 703: 100%|██████████| 507/507 [00:06<00:00, 81.43it/s]\n",
      "Training Epoch 704: 100%|██████████| 507/507 [00:06<00:00, 84.15it/s]\n",
      "Training Epoch 705: 100%|██████████| 507/507 [00:06<00:00, 83.99it/s]\n",
      "Training Epoch 706: 100%|██████████| 507/507 [00:06<00:00, 82.46it/s]\n",
      "Training Epoch 707: 100%|██████████| 507/507 [00:06<00:00, 84.15it/s]\n",
      "Training Epoch 708: 100%|██████████| 507/507 [00:06<00:00, 83.08it/s]\n",
      "Training Epoch 709: 100%|██████████| 507/507 [00:05<00:00, 85.69it/s]\n",
      "Training Epoch 710: 100%|██████████| 507/507 [00:05<00:00, 85.59it/s]\n",
      "Training Epoch 711: 100%|██████████| 507/507 [00:06<00:00, 83.82it/s]\n"
     ]
    },
    {
     "name": "stdout",
     "output_type": "stream",
     "text": [
      "Epoch 710 - Train Loss: 0.4314, Train MSE: 0.4315, Train MAE: 0.4908\n",
      "Epoch 710 - Validation Loss: 1.4154, Validation MSE: 1.4179, Validation MAE: 0.8627\n"
     ]
    },
    {
     "name": "stderr",
     "output_type": "stream",
     "text": [
      "Training Epoch 712: 100%|██████████| 507/507 [00:05<00:00, 86.50it/s]\n",
      "Training Epoch 713: 100%|██████████| 507/507 [00:06<00:00, 83.36it/s]\n",
      "Training Epoch 714: 100%|██████████| 507/507 [00:05<00:00, 85.44it/s]\n",
      "Training Epoch 715: 100%|██████████| 507/507 [00:05<00:00, 85.85it/s]\n",
      "Training Epoch 716: 100%|██████████| 507/507 [00:06<00:00, 82.70it/s]\n",
      "Training Epoch 717: 100%|██████████| 507/507 [00:06<00:00, 83.87it/s]\n",
      "Training Epoch 718: 100%|██████████| 507/507 [00:06<00:00, 82.92it/s]\n",
      "Training Epoch 719: 100%|██████████| 507/507 [00:06<00:00, 83.48it/s]\n",
      "Training Epoch 720: 100%|██████████| 507/507 [00:05<00:00, 84.96it/s]\n",
      "Training Epoch 721: 100%|██████████| 507/507 [00:06<00:00, 82.93it/s]\n"
     ]
    },
    {
     "name": "stdout",
     "output_type": "stream",
     "text": [
      "Epoch 720 - Train Loss: 0.4229, Train MSE: 0.4230, Train MAE: 0.4861\n",
      "Epoch 720 - Validation Loss: 1.4354, Validation MSE: 1.4381, Validation MAE: 0.8689\n"
     ]
    },
    {
     "name": "stderr",
     "output_type": "stream",
     "text": [
      "Training Epoch 722: 100%|██████████| 507/507 [00:06<00:00, 84.22it/s]\n",
      "Training Epoch 723: 100%|██████████| 507/507 [00:06<00:00, 82.89it/s]\n",
      "Training Epoch 724: 100%|██████████| 507/507 [00:06<00:00, 83.83it/s]\n",
      "Training Epoch 725: 100%|██████████| 507/507 [00:06<00:00, 84.34it/s]\n",
      "Training Epoch 726: 100%|██████████| 507/507 [00:06<00:00, 84.03it/s]\n",
      "Training Epoch 727: 100%|██████████| 507/507 [00:05<00:00, 85.02it/s]\n",
      "Training Epoch 728: 100%|██████████| 507/507 [00:06<00:00, 83.55it/s]\n",
      "Training Epoch 729: 100%|██████████| 507/507 [00:06<00:00, 84.44it/s]\n",
      "Training Epoch 730: 100%|██████████| 507/507 [00:06<00:00, 84.43it/s]\n",
      "Training Epoch 731: 100%|██████████| 507/507 [00:06<00:00, 84.02it/s]\n"
     ]
    },
    {
     "name": "stdout",
     "output_type": "stream",
     "text": [
      "Epoch 730 - Train Loss: 0.4203, Train MSE: 0.4204, Train MAE: 0.4833\n",
      "Epoch 730 - Validation Loss: 1.4477, Validation MSE: 1.4506, Validation MAE: 0.8736\n"
     ]
    },
    {
     "name": "stderr",
     "output_type": "stream",
     "text": [
      "Training Epoch 732: 100%|██████████| 507/507 [00:06<00:00, 84.23it/s]\n",
      "Training Epoch 733: 100%|██████████| 507/507 [00:06<00:00, 82.76it/s]\n",
      "Training Epoch 734: 100%|██████████| 507/507 [00:06<00:00, 82.99it/s]\n",
      "Training Epoch 735: 100%|██████████| 507/507 [00:05<00:00, 85.76it/s]\n",
      "Training Epoch 736: 100%|██████████| 507/507 [00:05<00:00, 85.81it/s]\n",
      "Training Epoch 737: 100%|██████████| 507/507 [00:05<00:00, 85.38it/s]\n",
      "Training Epoch 738: 100%|██████████| 507/507 [00:06<00:00, 82.93it/s]\n",
      "Training Epoch 739: 100%|██████████| 507/507 [00:06<00:00, 83.54it/s]\n",
      "Training Epoch 740: 100%|██████████| 507/507 [00:05<00:00, 85.03it/s]\n",
      "Training Epoch 741: 100%|██████████| 507/507 [00:06<00:00, 84.01it/s]\n"
     ]
    },
    {
     "name": "stdout",
     "output_type": "stream",
     "text": [
      "Epoch 740 - Train Loss: 0.4200, Train MSE: 0.4199, Train MAE: 0.4840\n",
      "Epoch 740 - Validation Loss: 1.4214, Validation MSE: 1.4240, Validation MAE: 0.8665\n"
     ]
    },
    {
     "name": "stderr",
     "output_type": "stream",
     "text": [
      "Training Epoch 742: 100%|██████████| 507/507 [00:05<00:00, 84.97it/s]\n",
      "Training Epoch 743: 100%|██████████| 507/507 [00:06<00:00, 81.70it/s]\n",
      "Training Epoch 744: 100%|██████████| 507/507 [00:06<00:00, 82.85it/s]\n",
      "Training Epoch 745: 100%|██████████| 507/507 [00:05<00:00, 86.37it/s]\n",
      "Training Epoch 746: 100%|██████████| 507/507 [00:06<00:00, 83.95it/s]\n",
      "Training Epoch 747: 100%|██████████| 507/507 [00:05<00:00, 84.73it/s]\n",
      "Training Epoch 748: 100%|██████████| 507/507 [00:06<00:00, 82.88it/s]\n",
      "Training Epoch 749: 100%|██████████| 507/507 [00:05<00:00, 85.60it/s]\n",
      "Training Epoch 750: 100%|██████████| 507/507 [00:05<00:00, 84.63it/s]\n",
      "Training Epoch 751: 100%|██████████| 507/507 [00:06<00:00, 83.46it/s]\n"
     ]
    },
    {
     "name": "stdout",
     "output_type": "stream",
     "text": [
      "Epoch 750 - Train Loss: 0.4264, Train MSE: 0.4265, Train MAE: 0.4862\n",
      "Epoch 750 - Validation Loss: 1.4389, Validation MSE: 1.4432, Validation MAE: 0.8678\n"
     ]
    },
    {
     "name": "stderr",
     "output_type": "stream",
     "text": [
      "Training Epoch 752: 100%|██████████| 507/507 [00:05<00:00, 86.39it/s]\n",
      "Training Epoch 753: 100%|██████████| 507/507 [00:06<00:00, 83.03it/s]\n",
      "Training Epoch 754: 100%|██████████| 507/507 [00:06<00:00, 82.66it/s]\n",
      "Training Epoch 755: 100%|██████████| 507/507 [00:06<00:00, 83.86it/s]\n",
      "Training Epoch 756: 100%|██████████| 507/507 [00:06<00:00, 83.56it/s]\n",
      "Training Epoch 757: 100%|██████████| 507/507 [00:05<00:00, 85.89it/s]\n",
      "Training Epoch 758: 100%|██████████| 507/507 [00:06<00:00, 83.94it/s]\n",
      "Training Epoch 759: 100%|██████████| 507/507 [00:06<00:00, 83.86it/s]\n",
      "Training Epoch 760: 100%|██████████| 507/507 [00:06<00:00, 83.99it/s]\n",
      "Training Epoch 761: 100%|██████████| 507/507 [00:06<00:00, 83.65it/s]\n"
     ]
    },
    {
     "name": "stdout",
     "output_type": "stream",
     "text": [
      "Epoch 760 - Train Loss: 0.4207, Train MSE: 0.4207, Train MAE: 0.4838\n",
      "Epoch 760 - Validation Loss: 1.4111, Validation MSE: 1.4130, Validation MAE: 0.8644\n"
     ]
    },
    {
     "name": "stderr",
     "output_type": "stream",
     "text": [
      "Training Epoch 762: 100%|██████████| 507/507 [00:05<00:00, 85.53it/s]\n",
      "Training Epoch 763: 100%|██████████| 507/507 [00:06<00:00, 81.81it/s]\n",
      "Training Epoch 764: 100%|██████████| 507/507 [00:06<00:00, 84.05it/s]\n",
      "Training Epoch 765: 100%|██████████| 507/507 [00:05<00:00, 85.10it/s]\n",
      "Training Epoch 766: 100%|██████████| 507/507 [00:06<00:00, 80.05it/s]\n",
      "Training Epoch 767: 100%|██████████| 507/507 [00:05<00:00, 84.54it/s]\n",
      "Training Epoch 768: 100%|██████████| 507/507 [00:06<00:00, 84.29it/s]\n",
      "Training Epoch 769: 100%|██████████| 507/507 [00:06<00:00, 83.36it/s]\n",
      "Training Epoch 770: 100%|██████████| 507/507 [00:05<00:00, 84.87it/s]\n",
      "Training Epoch 771: 100%|██████████| 507/507 [00:06<00:00, 82.12it/s]\n"
     ]
    },
    {
     "name": "stdout",
     "output_type": "stream",
     "text": [
      "Epoch 770 - Train Loss: 0.4144, Train MSE: 0.4145, Train MAE: 0.4800\n",
      "Epoch 770 - Validation Loss: 1.4484, Validation MSE: 1.4511, Validation MAE: 0.8743\n"
     ]
    },
    {
     "name": "stderr",
     "output_type": "stream",
     "text": [
      "Training Epoch 772: 100%|██████████| 507/507 [00:06<00:00, 84.41it/s]\n",
      "Training Epoch 773: 100%|██████████| 507/507 [00:06<00:00, 81.61it/s]\n",
      "Training Epoch 774: 100%|██████████| 507/507 [00:06<00:00, 84.14it/s]\n",
      "Training Epoch 775: 100%|██████████| 507/507 [00:05<00:00, 84.86it/s]\n",
      "Training Epoch 776: 100%|██████████| 507/507 [00:05<00:00, 84.77it/s]\n",
      "Training Epoch 777: 100%|██████████| 507/507 [00:05<00:00, 85.61it/s]\n",
      "Training Epoch 778: 100%|██████████| 507/507 [00:06<00:00, 80.86it/s]\n",
      "Training Epoch 779: 100%|██████████| 507/507 [00:06<00:00, 84.05it/s]\n",
      "Training Epoch 780: 100%|██████████| 507/507 [00:06<00:00, 84.32it/s]\n",
      "Training Epoch 781: 100%|██████████| 507/507 [00:06<00:00, 82.43it/s]\n"
     ]
    },
    {
     "name": "stdout",
     "output_type": "stream",
     "text": [
      "Epoch 780 - Train Loss: 0.4100, Train MSE: 0.4103, Train MAE: 0.4792\n",
      "Epoch 780 - Validation Loss: 1.4231, Validation MSE: 1.4265, Validation MAE: 0.8620\n"
     ]
    },
    {
     "name": "stderr",
     "output_type": "stream",
     "text": [
      "Training Epoch 782: 100%|██████████| 507/507 [00:05<00:00, 85.05it/s]\n",
      "Training Epoch 783: 100%|██████████| 507/507 [00:06<00:00, 82.59it/s]\n",
      "Training Epoch 784: 100%|██████████| 507/507 [00:05<00:00, 84.58it/s]\n",
      "Training Epoch 785: 100%|██████████| 507/507 [00:06<00:00, 83.52it/s]\n",
      "Training Epoch 786: 100%|██████████| 507/507 [00:06<00:00, 82.41it/s]\n",
      "Training Epoch 787: 100%|██████████| 507/507 [00:05<00:00, 84.79it/s]\n",
      "Training Epoch 788: 100%|██████████| 507/507 [00:06<00:00, 84.43it/s]\n",
      "Training Epoch 789: 100%|██████████| 507/507 [00:05<00:00, 84.62it/s]\n",
      "Training Epoch 790: 100%|██████████| 507/507 [00:06<00:00, 83.19it/s]\n",
      "Training Epoch 791: 100%|██████████| 507/507 [00:06<00:00, 82.25it/s]\n"
     ]
    },
    {
     "name": "stdout",
     "output_type": "stream",
     "text": [
      "Epoch 790 - Train Loss: 0.4088, Train MSE: 0.4090, Train MAE: 0.4777\n",
      "Epoch 790 - Validation Loss: 1.4348, Validation MSE: 1.4375, Validation MAE: 0.8676\n"
     ]
    },
    {
     "name": "stderr",
     "output_type": "stream",
     "text": [
      "Training Epoch 792: 100%|██████████| 507/507 [00:06<00:00, 82.95it/s]\n",
      "Training Epoch 793: 100%|██████████| 507/507 [00:06<00:00, 84.46it/s]\n",
      "Training Epoch 794: 100%|██████████| 507/507 [00:05<00:00, 84.64it/s]\n",
      "Training Epoch 795: 100%|██████████| 507/507 [00:05<00:00, 84.97it/s]\n",
      "Training Epoch 796: 100%|██████████| 507/507 [00:06<00:00, 82.99it/s]\n",
      "Training Epoch 797: 100%|██████████| 507/507 [00:06<00:00, 83.70it/s]\n",
      "Training Epoch 798: 100%|██████████| 507/507 [00:06<00:00, 83.35it/s]\n",
      "Training Epoch 799: 100%|██████████| 507/507 [00:06<00:00, 83.52it/s]\n",
      "Training Epoch 800: 100%|██████████| 507/507 [00:05<00:00, 85.33it/s]\n",
      "Training Epoch 801: 100%|██████████| 507/507 [00:06<00:00, 81.80it/s]\n"
     ]
    },
    {
     "name": "stdout",
     "output_type": "stream",
     "text": [
      "Epoch 800 - Train Loss: 0.4008, Train MSE: 0.4006, Train MAE: 0.4741\n",
      "Epoch 800 - Validation Loss: 1.4038, Validation MSE: 1.4073, Validation MAE: 0.8573\n"
     ]
    },
    {
     "name": "stderr",
     "output_type": "stream",
     "text": [
      "Training Epoch 802: 100%|██████████| 507/507 [00:06<00:00, 83.36it/s]\n",
      "Training Epoch 803: 100%|██████████| 507/507 [00:06<00:00, 83.91it/s]\n",
      "Training Epoch 804: 100%|██████████| 507/507 [00:06<00:00, 81.26it/s]\n",
      "Training Epoch 805: 100%|██████████| 507/507 [00:06<00:00, 84.40it/s]\n",
      "Training Epoch 806: 100%|██████████| 507/507 [00:06<00:00, 84.09it/s]\n",
      "Training Epoch 807: 100%|██████████| 507/507 [00:05<00:00, 85.20it/s]\n",
      "Training Epoch 808: 100%|██████████| 507/507 [00:06<00:00, 80.85it/s]\n",
      "Training Epoch 809: 100%|██████████| 507/507 [00:05<00:00, 84.88it/s]\n",
      "Training Epoch 810: 100%|██████████| 507/507 [00:06<00:00, 84.33it/s]\n",
      "Training Epoch 811: 100%|██████████| 507/507 [00:06<00:00, 84.17it/s]\n"
     ]
    },
    {
     "name": "stdout",
     "output_type": "stream",
     "text": [
      "Epoch 810 - Train Loss: 0.4061, Train MSE: 0.4057, Train MAE: 0.4735\n",
      "Epoch 810 - Validation Loss: 1.4197, Validation MSE: 1.4212, Validation MAE: 0.8648\n"
     ]
    },
    {
     "name": "stderr",
     "output_type": "stream",
     "text": [
      "Training Epoch 812: 100%|██████████| 507/507 [00:06<00:00, 82.64it/s]\n",
      "Training Epoch 813: 100%|██████████| 507/507 [00:05<00:00, 84.55it/s]\n",
      "Training Epoch 814: 100%|██████████| 507/507 [00:05<00:00, 84.82it/s]\n",
      "Training Epoch 815: 100%|██████████| 507/507 [00:06<00:00, 84.07it/s]\n",
      "Training Epoch 816: 100%|██████████| 507/507 [00:06<00:00, 83.35it/s]\n",
      "Training Epoch 817: 100%|██████████| 507/507 [00:05<00:00, 86.43it/s]\n",
      "Training Epoch 818: 100%|██████████| 507/507 [00:06<00:00, 83.85it/s]\n",
      "Training Epoch 819: 100%|██████████| 507/507 [00:05<00:00, 84.91it/s]\n",
      "Training Epoch 820: 100%|██████████| 507/507 [00:06<00:00, 81.07it/s]\n",
      "Training Epoch 821: 100%|██████████| 507/507 [00:06<00:00, 84.45it/s]\n"
     ]
    },
    {
     "name": "stdout",
     "output_type": "stream",
     "text": [
      "Epoch 820 - Train Loss: 0.4026, Train MSE: 0.4025, Train MAE: 0.4712\n",
      "Epoch 820 - Validation Loss: 1.4226, Validation MSE: 1.4254, Validation MAE: 0.8639\n"
     ]
    },
    {
     "name": "stderr",
     "output_type": "stream",
     "text": [
      "Training Epoch 822: 100%|██████████| 507/507 [00:05<00:00, 84.99it/s]\n",
      "Training Epoch 823: 100%|██████████| 507/507 [00:06<00:00, 82.98it/s]\n",
      "Training Epoch 824: 100%|██████████| 507/507 [00:05<00:00, 85.42it/s]\n",
      "Training Epoch 825: 100%|██████████| 507/507 [00:06<00:00, 83.79it/s]\n",
      "Training Epoch 826: 100%|██████████| 507/507 [00:06<00:00, 82.43it/s]\n",
      "Training Epoch 827: 100%|██████████| 507/507 [00:06<00:00, 84.40it/s]\n",
      "Training Epoch 828: 100%|██████████| 507/507 [00:06<00:00, 82.52it/s]\n",
      "Training Epoch 829: 100%|██████████| 507/507 [00:06<00:00, 83.91it/s]\n",
      "Training Epoch 830: 100%|██████████| 507/507 [00:05<00:00, 84.60it/s]\n",
      "Training Epoch 831: 100%|██████████| 507/507 [00:06<00:00, 82.71it/s]\n"
     ]
    },
    {
     "name": "stdout",
     "output_type": "stream",
     "text": [
      "Epoch 830 - Train Loss: 0.4023, Train MSE: 0.4024, Train MAE: 0.4721\n",
      "Epoch 830 - Validation Loss: 1.4603, Validation MSE: 1.4631, Validation MAE: 0.8770\n"
     ]
    },
    {
     "name": "stderr",
     "output_type": "stream",
     "text": [
      "Training Epoch 832: 100%|██████████| 507/507 [00:06<00:00, 83.47it/s]\n",
      "Training Epoch 833: 100%|██████████| 507/507 [00:06<00:00, 84.29it/s]\n",
      "Training Epoch 834: 100%|██████████| 507/507 [00:05<00:00, 85.12it/s]\n",
      "Training Epoch 835: 100%|██████████| 507/507 [00:06<00:00, 84.00it/s]\n",
      "Training Epoch 836: 100%|██████████| 507/507 [00:06<00:00, 81.25it/s]\n",
      "Training Epoch 837: 100%|██████████| 507/507 [00:06<00:00, 83.96it/s]\n",
      "Training Epoch 838: 100%|██████████| 507/507 [00:06<00:00, 83.25it/s]\n",
      "Training Epoch 839: 100%|██████████| 507/507 [00:05<00:00, 85.13it/s]\n",
      "Training Epoch 840: 100%|██████████| 507/507 [00:06<00:00, 83.60it/s]\n",
      "Training Epoch 841: 100%|██████████| 507/507 [00:06<00:00, 84.11it/s]\n"
     ]
    },
    {
     "name": "stdout",
     "output_type": "stream",
     "text": [
      "Epoch 840 - Train Loss: 0.4046, Train MSE: 0.4034, Train MAE: 0.4728\n",
      "Epoch 840 - Validation Loss: 1.4333, Validation MSE: 1.4350, Validation MAE: 0.8627\n"
     ]
    },
    {
     "name": "stderr",
     "output_type": "stream",
     "text": [
      "Training Epoch 842: 100%|██████████| 507/507 [00:06<00:00, 84.07it/s]\n",
      "Training Epoch 843: 100%|██████████| 507/507 [00:06<00:00, 82.50it/s]\n",
      "Training Epoch 844: 100%|██████████| 507/507 [00:05<00:00, 87.21it/s]\n",
      "Training Epoch 845: 100%|██████████| 507/507 [00:05<00:00, 84.62it/s]\n",
      "Training Epoch 846: 100%|██████████| 507/507 [00:06<00:00, 82.68it/s]\n",
      "Training Epoch 847: 100%|██████████| 507/507 [00:06<00:00, 83.63it/s]\n",
      "Training Epoch 848: 100%|██████████| 507/507 [00:06<00:00, 82.69it/s]\n",
      "Training Epoch 849: 100%|██████████| 507/507 [00:06<00:00, 83.47it/s]\n",
      "Training Epoch 850: 100%|██████████| 507/507 [00:05<00:00, 86.14it/s]\n",
      "Training Epoch 851: 100%|██████████| 507/507 [00:06<00:00, 83.18it/s]\n"
     ]
    },
    {
     "name": "stdout",
     "output_type": "stream",
     "text": [
      "Epoch 850 - Train Loss: 0.3973, Train MSE: 0.3973, Train MAE: 0.4689\n",
      "Epoch 850 - Validation Loss: 1.3968, Validation MSE: 1.3989, Validation MAE: 0.8538\n"
     ]
    },
    {
     "name": "stderr",
     "output_type": "stream",
     "text": [
      "Training Epoch 852: 100%|██████████| 507/507 [00:06<00:00, 83.76it/s]\n",
      "Training Epoch 853: 100%|██████████| 507/507 [00:06<00:00, 83.64it/s]\n",
      "Training Epoch 854: 100%|██████████| 507/507 [00:06<00:00, 84.07it/s]\n",
      "Training Epoch 855: 100%|██████████| 507/507 [00:06<00:00, 84.19it/s]\n",
      "Training Epoch 856: 100%|██████████| 507/507 [00:06<00:00, 83.09it/s]\n",
      "Training Epoch 857: 100%|██████████| 507/507 [00:05<00:00, 85.72it/s]\n",
      "Training Epoch 858: 100%|██████████| 507/507 [00:06<00:00, 81.62it/s]\n",
      "Training Epoch 859: 100%|██████████| 507/507 [00:05<00:00, 84.53it/s]\n",
      "Training Epoch 860: 100%|██████████| 507/507 [00:05<00:00, 84.71it/s]\n",
      "Training Epoch 861: 100%|██████████| 507/507 [00:06<00:00, 81.96it/s]\n"
     ]
    },
    {
     "name": "stdout",
     "output_type": "stream",
     "text": [
      "Epoch 860 - Train Loss: 0.3945, Train MSE: 0.3944, Train MAE: 0.4684\n",
      "Epoch 860 - Validation Loss: 1.4244, Validation MSE: 1.4276, Validation MAE: 0.8609\n"
     ]
    },
    {
     "name": "stderr",
     "output_type": "stream",
     "text": [
      "Training Epoch 862: 100%|██████████| 507/507 [00:06<00:00, 82.99it/s]\n",
      "Training Epoch 863: 100%|██████████| 507/507 [00:06<00:00, 84.09it/s]\n",
      "Training Epoch 864: 100%|██████████| 507/507 [00:06<00:00, 83.15it/s]\n",
      "Training Epoch 865: 100%|██████████| 507/507 [00:05<00:00, 85.20it/s]\n",
      "Training Epoch 866: 100%|██████████| 507/507 [00:06<00:00, 81.80it/s]\n",
      "Training Epoch 867: 100%|██████████| 507/507 [00:06<00:00, 84.25it/s]\n",
      "Training Epoch 868: 100%|██████████| 507/507 [00:06<00:00, 83.68it/s]\n",
      "Training Epoch 869: 100%|██████████| 507/507 [00:05<00:00, 84.55it/s]\n",
      "Training Epoch 870: 100%|██████████| 507/507 [00:06<00:00, 84.38it/s]\n",
      "Training Epoch 871: 100%|██████████| 507/507 [00:06<00:00, 82.76it/s]\n"
     ]
    },
    {
     "name": "stdout",
     "output_type": "stream",
     "text": [
      "Epoch 870 - Train Loss: 0.4015, Train MSE: 0.4016, Train MAE: 0.4714\n",
      "Epoch 870 - Validation Loss: 1.4228, Validation MSE: 1.4257, Validation MAE: 0.8638\n"
     ]
    },
    {
     "name": "stderr",
     "output_type": "stream",
     "text": [
      "Training Epoch 872: 100%|██████████| 507/507 [00:06<00:00, 83.61it/s]\n",
      "Training Epoch 873: 100%|██████████| 507/507 [00:06<00:00, 84.39it/s]\n",
      "Training Epoch 874: 100%|██████████| 507/507 [00:06<00:00, 83.76it/s]\n",
      "Training Epoch 875: 100%|██████████| 507/507 [00:06<00:00, 82.78it/s]\n",
      "Training Epoch 876: 100%|██████████| 507/507 [00:06<00:00, 83.45it/s]\n",
      "Training Epoch 877: 100%|██████████| 507/507 [00:06<00:00, 83.76it/s]\n",
      "Training Epoch 878: 100%|██████████| 507/507 [00:06<00:00, 82.75it/s]\n",
      "Training Epoch 879: 100%|██████████| 507/507 [00:05<00:00, 84.54it/s]\n",
      "Training Epoch 880: 100%|██████████| 507/507 [00:05<00:00, 84.74it/s]\n",
      "Training Epoch 881: 100%|██████████| 507/507 [00:06<00:00, 83.78it/s]\n"
     ]
    },
    {
     "name": "stdout",
     "output_type": "stream",
     "text": [
      "Epoch 880 - Train Loss: 0.3854, Train MSE: 0.3855, Train MAE: 0.4646\n",
      "Epoch 880 - Validation Loss: 1.4244, Validation MSE: 1.4278, Validation MAE: 0.8609\n"
     ]
    },
    {
     "name": "stderr",
     "output_type": "stream",
     "text": [
      "Training Epoch 882: 100%|██████████| 507/507 [00:05<00:00, 86.78it/s]\n",
      "Training Epoch 883: 100%|██████████| 507/507 [00:06<00:00, 83.53it/s]\n",
      "Training Epoch 884: 100%|██████████| 507/507 [00:06<00:00, 82.05it/s]\n",
      "Training Epoch 885: 100%|██████████| 507/507 [00:06<00:00, 84.12it/s]\n",
      "Training Epoch 886: 100%|██████████| 507/507 [00:06<00:00, 83.44it/s]\n",
      "Training Epoch 887: 100%|██████████| 507/507 [00:05<00:00, 84.57it/s]\n",
      "Training Epoch 888: 100%|██████████| 507/507 [00:06<00:00, 81.90it/s]\n",
      "Training Epoch 889: 100%|██████████| 507/507 [00:06<00:00, 84.06it/s]\n",
      "Training Epoch 890: 100%|██████████| 507/507 [00:06<00:00, 83.19it/s]\n",
      "Training Epoch 891: 100%|██████████| 507/507 [00:06<00:00, 82.38it/s]\n"
     ]
    },
    {
     "name": "stdout",
     "output_type": "stream",
     "text": [
      "Epoch 890 - Train Loss: 0.3847, Train MSE: 0.3848, Train MAE: 0.4629\n",
      "Epoch 890 - Validation Loss: 1.4378, Validation MSE: 1.4410, Validation MAE: 0.8655\n"
     ]
    },
    {
     "name": "stderr",
     "output_type": "stream",
     "text": [
      "Training Epoch 892: 100%|██████████| 507/507 [00:06<00:00, 84.20it/s]\n",
      "Training Epoch 893: 100%|██████████| 507/507 [00:05<00:00, 84.58it/s]\n",
      "Training Epoch 894: 100%|██████████| 507/507 [00:05<00:00, 84.74it/s]\n",
      "Training Epoch 895: 100%|██████████| 507/507 [00:06<00:00, 82.08it/s]\n",
      "Training Epoch 896: 100%|██████████| 507/507 [00:05<00:00, 85.18it/s]\n",
      "Training Epoch 897: 100%|██████████| 507/507 [00:06<00:00, 79.76it/s]\n",
      "Training Epoch 898: 100%|██████████| 507/507 [00:07<00:00, 67.25it/s]\n",
      "Training Epoch 899: 100%|██████████| 507/507 [00:06<00:00, 82.32it/s]\n",
      "Training Epoch 900: 100%|██████████| 507/507 [00:06<00:00, 76.52it/s]\n",
      "Training Epoch 901: 100%|██████████| 507/507 [00:06<00:00, 81.76it/s]\n"
     ]
    },
    {
     "name": "stdout",
     "output_type": "stream",
     "text": [
      "Epoch 900 - Train Loss: 0.3809, Train MSE: 0.3809, Train MAE: 0.4616\n",
      "Epoch 900 - Validation Loss: 1.3981, Validation MSE: 1.4001, Validation MAE: 0.8526\n"
     ]
    },
    {
     "name": "stderr",
     "output_type": "stream",
     "text": [
      "Training Epoch 902: 100%|██████████| 507/507 [00:06<00:00, 81.14it/s]\n",
      "Training Epoch 903: 100%|██████████| 507/507 [00:06<00:00, 81.72it/s]\n",
      "Training Epoch 904: 100%|██████████| 507/507 [00:06<00:00, 83.29it/s]\n",
      "Training Epoch 905: 100%|██████████| 507/507 [00:06<00:00, 83.56it/s]\n",
      "Training Epoch 906: 100%|██████████| 507/507 [00:06<00:00, 84.28it/s]\n",
      "Training Epoch 907: 100%|██████████| 507/507 [00:05<00:00, 84.67it/s]\n",
      "Training Epoch 908: 100%|██████████| 507/507 [00:05<00:00, 84.65it/s]\n",
      "Training Epoch 909: 100%|██████████| 507/507 [00:06<00:00, 83.16it/s]\n",
      "Training Epoch 910: 100%|██████████| 507/507 [00:06<00:00, 82.81it/s]\n",
      "Training Epoch 911: 100%|██████████| 507/507 [00:06<00:00, 84.17it/s]\n"
     ]
    },
    {
     "name": "stdout",
     "output_type": "stream",
     "text": [
      "Epoch 910 - Train Loss: 0.3832, Train MSE: 0.3831, Train MAE: 0.4615\n",
      "Epoch 910 - Validation Loss: 1.4218, Validation MSE: 1.4249, Validation MAE: 0.8599\n"
     ]
    },
    {
     "name": "stderr",
     "output_type": "stream",
     "text": [
      "Training Epoch 912: 100%|██████████| 507/507 [00:06<00:00, 81.10it/s]\n",
      "Training Epoch 913: 100%|██████████| 507/507 [00:06<00:00, 84.14it/s]\n",
      "Training Epoch 914: 100%|██████████| 507/507 [00:06<00:00, 83.89it/s]\n",
      "Training Epoch 915: 100%|██████████| 507/507 [00:06<00:00, 81.98it/s]\n",
      "Training Epoch 916: 100%|██████████| 507/507 [00:06<00:00, 84.37it/s]\n",
      "Training Epoch 917: 100%|██████████| 507/507 [00:06<00:00, 83.15it/s]\n",
      "Training Epoch 918: 100%|██████████| 507/507 [00:05<00:00, 84.97it/s]\n",
      "Training Epoch 919: 100%|██████████| 507/507 [00:05<00:00, 85.23it/s]\n",
      "Training Epoch 920: 100%|██████████| 507/507 [00:06<00:00, 81.85it/s]\n",
      "Training Epoch 921: 100%|██████████| 507/507 [00:06<00:00, 84.08it/s]\n"
     ]
    },
    {
     "name": "stdout",
     "output_type": "stream",
     "text": [
      "Epoch 920 - Train Loss: 0.3775, Train MSE: 0.3777, Train MAE: 0.4593\n",
      "Epoch 920 - Validation Loss: 1.4148, Validation MSE: 1.4181, Validation MAE: 0.8634\n"
     ]
    },
    {
     "name": "stderr",
     "output_type": "stream",
     "text": [
      "Training Epoch 922: 100%|██████████| 507/507 [00:06<00:00, 83.96it/s]\n",
      "Training Epoch 923: 100%|██████████| 507/507 [00:06<00:00, 84.47it/s]\n",
      "Training Epoch 924: 100%|██████████| 507/507 [00:05<00:00, 85.72it/s]\n",
      "Training Epoch 925: 100%|██████████| 507/507 [00:06<00:00, 83.15it/s]\n",
      "Training Epoch 926: 100%|██████████| 507/507 [00:05<00:00, 85.92it/s]\n",
      "Training Epoch 927: 100%|██████████| 507/507 [00:06<00:00, 83.31it/s]\n",
      "Training Epoch 928: 100%|██████████| 507/507 [00:05<00:00, 84.99it/s]\n",
      "Training Epoch 929: 100%|██████████| 507/507 [00:06<00:00, 84.37it/s]\n",
      "Training Epoch 930: 100%|██████████| 507/507 [00:06<00:00, 83.56it/s]\n",
      "Training Epoch 931: 100%|██████████| 507/507 [00:06<00:00, 83.34it/s]\n"
     ]
    },
    {
     "name": "stdout",
     "output_type": "stream",
     "text": [
      "Epoch 930 - Train Loss: 0.3813, Train MSE: 0.3811, Train MAE: 0.4600\n",
      "Epoch 930 - Validation Loss: 1.4454, Validation MSE: 1.4490, Validation MAE: 0.8679\n"
     ]
    },
    {
     "name": "stderr",
     "output_type": "stream",
     "text": [
      "Training Epoch 932: 100%|██████████| 507/507 [00:06<00:00, 83.92it/s]\n",
      "Training Epoch 933: 100%|██████████| 507/507 [00:06<00:00, 84.02it/s]\n",
      "Training Epoch 934: 100%|██████████| 507/507 [00:06<00:00, 82.89it/s]\n",
      "Training Epoch 935: 100%|██████████| 507/507 [00:06<00:00, 82.89it/s]\n",
      "Training Epoch 936: 100%|██████████| 507/507 [00:06<00:00, 83.99it/s]\n",
      "Training Epoch 937: 100%|██████████| 507/507 [00:06<00:00, 83.76it/s]\n",
      "Training Epoch 938: 100%|██████████| 507/507 [00:05<00:00, 85.32it/s]\n",
      "Training Epoch 939: 100%|██████████| 507/507 [00:06<00:00, 84.33it/s]\n",
      "Training Epoch 940: 100%|██████████| 507/507 [00:06<00:00, 82.96it/s]\n",
      "Training Epoch 941: 100%|██████████| 507/507 [00:05<00:00, 84.58it/s]\n"
     ]
    },
    {
     "name": "stdout",
     "output_type": "stream",
     "text": [
      "Epoch 940 - Train Loss: 0.3864, Train MSE: 0.3863, Train MAE: 0.4632\n",
      "Epoch 940 - Validation Loss: 1.4299, Validation MSE: 1.4333, Validation MAE: 0.8700\n"
     ]
    },
    {
     "name": "stderr",
     "output_type": "stream",
     "text": [
      "Training Epoch 942: 100%|██████████| 507/507 [00:06<00:00, 83.11it/s]\n",
      "Training Epoch 943: 100%|██████████| 507/507 [00:06<00:00, 82.54it/s]\n",
      "Training Epoch 944: 100%|██████████| 507/507 [00:05<00:00, 84.64it/s]\n",
      "Training Epoch 945: 100%|██████████| 507/507 [00:06<00:00, 82.37it/s]\n",
      "Training Epoch 946: 100%|██████████| 507/507 [00:05<00:00, 84.57it/s]\n",
      "Training Epoch 947: 100%|██████████| 507/507 [00:06<00:00, 82.66it/s]\n",
      "Training Epoch 948: 100%|██████████| 507/507 [00:06<00:00, 84.12it/s]\n",
      "Training Epoch 949: 100%|██████████| 507/507 [00:05<00:00, 85.13it/s]\n",
      "Training Epoch 950: 100%|██████████| 507/507 [00:06<00:00, 83.05it/s]\n",
      "Training Epoch 951: 100%|██████████| 507/507 [00:05<00:00, 86.09it/s]\n"
     ]
    },
    {
     "name": "stdout",
     "output_type": "stream",
     "text": [
      "Epoch 950 - Train Loss: 0.3855, Train MSE: 0.3852, Train MAE: 0.4600\n",
      "Epoch 950 - Validation Loss: 1.4294, Validation MSE: 1.4318, Validation MAE: 0.8612\n"
     ]
    },
    {
     "name": "stderr",
     "output_type": "stream",
     "text": [
      "Training Epoch 952: 100%|██████████| 507/507 [00:06<00:00, 83.88it/s]\n",
      "Training Epoch 953: 100%|██████████| 507/507 [00:05<00:00, 85.24it/s]\n",
      "Training Epoch 954: 100%|██████████| 507/507 [00:06<00:00, 83.08it/s]\n",
      "Training Epoch 955: 100%|██████████| 507/507 [00:06<00:00, 82.98it/s]\n",
      "Training Epoch 956: 100%|██████████| 507/507 [00:05<00:00, 84.78it/s]\n",
      "Training Epoch 957: 100%|██████████| 507/507 [00:06<00:00, 83.36it/s]\n",
      "Training Epoch 958: 100%|██████████| 507/507 [00:05<00:00, 84.85it/s]\n",
      "Training Epoch 959: 100%|██████████| 507/507 [00:05<00:00, 84.59it/s]\n",
      "Training Epoch 960: 100%|██████████| 507/507 [00:06<00:00, 82.27it/s]\n",
      "Training Epoch 961: 100%|██████████| 507/507 [00:06<00:00, 84.05it/s]\n"
     ]
    },
    {
     "name": "stdout",
     "output_type": "stream",
     "text": [
      "Epoch 960 - Train Loss: 0.3753, Train MSE: 0.3751, Train MAE: 0.4552\n",
      "Epoch 960 - Validation Loss: 1.4438, Validation MSE: 1.4468, Validation MAE: 0.8644\n"
     ]
    },
    {
     "name": "stderr",
     "output_type": "stream",
     "text": [
      "Training Epoch 962: 100%|██████████| 507/507 [00:06<00:00, 83.11it/s]\n",
      "Training Epoch 963: 100%|██████████| 507/507 [00:05<00:00, 85.93it/s]\n",
      "Training Epoch 964: 100%|██████████| 507/507 [00:05<00:00, 85.13it/s]\n",
      "Training Epoch 965: 100%|██████████| 507/507 [00:06<00:00, 80.74it/s]\n",
      "Training Epoch 966: 100%|██████████| 507/507 [00:05<00:00, 85.05it/s]\n",
      "Training Epoch 967: 100%|██████████| 507/507 [00:05<00:00, 84.75it/s]\n",
      "Training Epoch 968: 100%|██████████| 507/507 [00:05<00:00, 84.61it/s]\n",
      "Training Epoch 969: 100%|██████████| 507/507 [00:06<00:00, 84.30it/s]\n",
      "Training Epoch 970: 100%|██████████| 507/507 [00:06<00:00, 83.10it/s]\n",
      "Training Epoch 971: 100%|██████████| 507/507 [00:05<00:00, 87.16it/s]\n"
     ]
    },
    {
     "name": "stdout",
     "output_type": "stream",
     "text": [
      "Epoch 970 - Train Loss: 0.3770, Train MSE: 0.3771, Train MAE: 0.4567\n",
      "Epoch 970 - Validation Loss: 1.4341, Validation MSE: 1.4373, Validation MAE: 0.8646\n"
     ]
    },
    {
     "name": "stderr",
     "output_type": "stream",
     "text": [
      "Training Epoch 972: 100%|██████████| 507/507 [00:05<00:00, 85.35it/s]\n",
      "Training Epoch 973: 100%|██████████| 507/507 [00:06<00:00, 84.48it/s]\n",
      "Training Epoch 974: 100%|██████████| 507/507 [00:05<00:00, 85.87it/s]\n",
      "Training Epoch 975: 100%|██████████| 507/507 [00:06<00:00, 82.89it/s]\n",
      "Training Epoch 976: 100%|██████████| 507/507 [00:05<00:00, 85.93it/s]\n",
      "Training Epoch 977: 100%|██████████| 507/507 [00:06<00:00, 82.59it/s]\n",
      "Training Epoch 978: 100%|██████████| 507/507 [00:06<00:00, 84.43it/s]\n",
      "Training Epoch 979: 100%|██████████| 507/507 [00:06<00:00, 84.44it/s]\n",
      "Training Epoch 980: 100%|██████████| 507/507 [00:05<00:00, 84.80it/s]\n",
      "Training Epoch 981: 100%|██████████| 507/507 [00:05<00:00, 85.12it/s]\n"
     ]
    },
    {
     "name": "stdout",
     "output_type": "stream",
     "text": [
      "Epoch 980 - Train Loss: 0.3643, Train MSE: 0.3640, Train MAE: 0.4504\n",
      "Epoch 980 - Validation Loss: 1.4197, Validation MSE: 1.4223, Validation MAE: 0.8568\n"
     ]
    },
    {
     "name": "stderr",
     "output_type": "stream",
     "text": [
      "Training Epoch 982: 100%|██████████| 507/507 [00:06<00:00, 83.88it/s]\n",
      "Training Epoch 983: 100%|██████████| 507/507 [00:06<00:00, 84.30it/s]\n",
      "Training Epoch 984: 100%|██████████| 507/507 [00:05<00:00, 86.20it/s]\n",
      "Training Epoch 985: 100%|██████████| 507/507 [00:06<00:00, 82.86it/s]\n",
      "Training Epoch 986: 100%|██████████| 507/507 [00:05<00:00, 84.83it/s]\n",
      "Training Epoch 987: 100%|██████████| 507/507 [00:05<00:00, 86.32it/s]\n",
      "Training Epoch 988: 100%|██████████| 507/507 [00:06<00:00, 83.59it/s]\n",
      "Training Epoch 989: 100%|██████████| 507/507 [00:06<00:00, 84.26it/s]\n",
      "Training Epoch 990: 100%|██████████| 507/507 [00:06<00:00, 83.20it/s]\n",
      "Training Epoch 991: 100%|██████████| 507/507 [00:05<00:00, 85.39it/s]\n"
     ]
    },
    {
     "name": "stdout",
     "output_type": "stream",
     "text": [
      "Epoch 990 - Train Loss: 0.3776, Train MSE: 0.3778, Train MAE: 0.4574\n",
      "Epoch 990 - Validation Loss: 1.4296, Validation MSE: 1.4322, Validation MAE: 0.8635\n"
     ]
    },
    {
     "name": "stderr",
     "output_type": "stream",
     "text": [
      "Training Epoch 992: 100%|██████████| 507/507 [00:06<00:00, 84.24it/s]\n",
      "Training Epoch 993: 100%|██████████| 507/507 [00:05<00:00, 84.92it/s]\n",
      "Training Epoch 994: 100%|██████████| 507/507 [00:05<00:00, 85.94it/s]\n",
      "Training Epoch 995: 100%|██████████| 507/507 [00:06<00:00, 81.78it/s]\n",
      "Training Epoch 996: 100%|██████████| 507/507 [00:05<00:00, 84.86it/s]\n",
      "Training Epoch 997: 100%|██████████| 507/507 [00:06<00:00, 81.78it/s]\n",
      "Training Epoch 998: 100%|██████████| 507/507 [00:06<00:00, 81.39it/s]\n",
      "Training Epoch 999: 100%|██████████| 507/507 [00:05<00:00, 85.27it/s]\n",
      "Training Epoch 1000: 100%|██████████| 507/507 [00:06<00:00, 83.36it/s]\n",
      "Training Epoch 1001: 100%|██████████| 507/507 [00:05<00:00, 84.91it/s]\n"
     ]
    },
    {
     "name": "stdout",
     "output_type": "stream",
     "text": [
      "Epoch 1000 - Train Loss: 0.3682, Train MSE: 0.3684, Train MAE: 0.4508\n",
      "Epoch 1000 - Validation Loss: 1.4257, Validation MSE: 1.4287, Validation MAE: 0.8590\n"
     ]
    },
    {
     "name": "stderr",
     "output_type": "stream",
     "text": [
      "Training Epoch 1002: 100%|██████████| 507/507 [00:06<00:00, 81.76it/s]\n",
      "Training Epoch 1003: 100%|██████████| 507/507 [00:05<00:00, 84.63it/s]\n",
      "Training Epoch 1004: 100%|██████████| 507/507 [00:05<00:00, 84.51it/s]\n",
      "Training Epoch 1005: 100%|██████████| 507/507 [00:06<00:00, 83.25it/s]\n",
      "Training Epoch 1006: 100%|██████████| 507/507 [00:06<00:00, 81.71it/s]\n",
      "Training Epoch 1007: 100%|██████████| 507/507 [00:06<00:00, 82.47it/s]\n",
      "Training Epoch 1008: 100%|██████████| 507/507 [00:06<00:00, 84.38it/s]\n",
      "Training Epoch 1009: 100%|██████████| 507/507 [00:05<00:00, 85.19it/s]\n",
      "Training Epoch 1010: 100%|██████████| 507/507 [00:06<00:00, 83.50it/s]\n",
      "Training Epoch 1011: 100%|██████████| 507/507 [00:05<00:00, 84.56it/s]\n"
     ]
    },
    {
     "name": "stdout",
     "output_type": "stream",
     "text": [
      "Epoch 1010 - Train Loss: 0.3691, Train MSE: 0.3690, Train MAE: 0.4519\n",
      "Epoch 1010 - Validation Loss: 1.4298, Validation MSE: 1.4330, Validation MAE: 0.8633\n"
     ]
    },
    {
     "name": "stderr",
     "output_type": "stream",
     "text": [
      "Training Epoch 1012: 100%|██████████| 507/507 [00:06<00:00, 83.58it/s]\n",
      "Training Epoch 1013: 100%|██████████| 507/507 [00:05<00:00, 86.21it/s]\n",
      "Training Epoch 1014: 100%|██████████| 507/507 [00:05<00:00, 85.78it/s]\n",
      "Training Epoch 1015: 100%|██████████| 507/507 [00:06<00:00, 81.49it/s]\n",
      "Training Epoch 1016: 100%|██████████| 507/507 [00:05<00:00, 84.91it/s]\n",
      "Training Epoch 1017: 100%|██████████| 507/507 [00:06<00:00, 82.95it/s]\n",
      "Training Epoch 1018: 100%|██████████| 507/507 [00:06<00:00, 84.39it/s]\n",
      "Training Epoch 1019: 100%|██████████| 507/507 [00:06<00:00, 83.33it/s]\n",
      "Training Epoch 1020: 100%|██████████| 507/507 [00:06<00:00, 83.42it/s]\n",
      "Training Epoch 1021: 100%|██████████| 507/507 [00:05<00:00, 84.57it/s]\n"
     ]
    },
    {
     "name": "stdout",
     "output_type": "stream",
     "text": [
      "Epoch 1020 - Train Loss: 0.3808, Train MSE: 0.3810, Train MAE: 0.4591\n",
      "Epoch 1020 - Validation Loss: 1.4004, Validation MSE: 1.4026, Validation MAE: 0.8561\n"
     ]
    },
    {
     "name": "stderr",
     "output_type": "stream",
     "text": [
      "Training Epoch 1022: 100%|██████████| 507/507 [00:06<00:00, 81.75it/s]\n",
      "Training Epoch 1023: 100%|██████████| 507/507 [00:05<00:00, 86.53it/s]\n",
      "Training Epoch 1024: 100%|██████████| 507/507 [00:06<00:00, 83.69it/s]\n",
      "Training Epoch 1025: 100%|██████████| 507/507 [00:06<00:00, 84.17it/s]\n",
      "Training Epoch 1026: 100%|██████████| 507/507 [00:05<00:00, 85.13it/s]\n",
      "Training Epoch 1027: 100%|██████████| 507/507 [00:06<00:00, 83.54it/s]\n",
      "Training Epoch 1028: 100%|██████████| 507/507 [00:05<00:00, 85.12it/s]\n",
      "Training Epoch 1029: 100%|██████████| 507/507 [00:05<00:00, 85.62it/s]\n",
      "Training Epoch 1030: 100%|██████████| 507/507 [00:06<00:00, 83.73it/s]\n",
      "Training Epoch 1031: 100%|██████████| 507/507 [00:05<00:00, 86.44it/s]\n"
     ]
    },
    {
     "name": "stdout",
     "output_type": "stream",
     "text": [
      "Epoch 1030 - Train Loss: 0.3730, Train MSE: 0.3731, Train MAE: 0.4537\n",
      "Epoch 1030 - Validation Loss: 1.4184, Validation MSE: 1.4213, Validation MAE: 0.8580\n"
     ]
    },
    {
     "name": "stderr",
     "output_type": "stream",
     "text": [
      "Training Epoch 1032: 100%|██████████| 507/507 [00:06<00:00, 83.04it/s]\n",
      "Training Epoch 1033: 100%|██████████| 507/507 [00:05<00:00, 85.66it/s]\n",
      "Training Epoch 1034: 100%|██████████| 507/507 [00:06<00:00, 84.37it/s]\n",
      "Training Epoch 1035: 100%|██████████| 507/507 [00:06<00:00, 83.65it/s]\n",
      "Training Epoch 1036: 100%|██████████| 507/507 [00:06<00:00, 84.03it/s]\n",
      "Training Epoch 1037: 100%|██████████| 507/507 [00:06<00:00, 83.73it/s]\n",
      "Training Epoch 1038: 100%|██████████| 507/507 [00:06<00:00, 83.61it/s]\n",
      "Training Epoch 1039: 100%|██████████| 507/507 [00:06<00:00, 82.98it/s]\n",
      "Training Epoch 1040: 100%|██████████| 507/507 [00:06<00:00, 83.25it/s]\n",
      "Training Epoch 1041: 100%|██████████| 507/507 [00:06<00:00, 84.37it/s]\n"
     ]
    },
    {
     "name": "stdout",
     "output_type": "stream",
     "text": [
      "Epoch 1040 - Train Loss: 0.3657, Train MSE: 0.3660, Train MAE: 0.4497\n",
      "Epoch 1040 - Validation Loss: 1.4452, Validation MSE: 1.4478, Validation MAE: 0.8671\n"
     ]
    },
    {
     "name": "stderr",
     "output_type": "stream",
     "text": [
      "Training Epoch 1042: 100%|██████████| 507/507 [00:06<00:00, 81.66it/s]\n",
      "Training Epoch 1043: 100%|██████████| 507/507 [00:06<00:00, 83.44it/s]\n",
      "Training Epoch 1044: 100%|██████████| 507/507 [00:05<00:00, 84.95it/s]\n",
      "Training Epoch 1045: 100%|██████████| 507/507 [00:06<00:00, 83.08it/s]\n",
      "Training Epoch 1046: 100%|██████████| 507/507 [00:05<00:00, 84.53it/s]\n",
      "Training Epoch 1047: 100%|██████████| 507/507 [00:06<00:00, 83.56it/s]\n",
      "Training Epoch 1048: 100%|██████████| 507/507 [00:05<00:00, 84.88it/s]\n",
      "Training Epoch 1049: 100%|██████████| 507/507 [00:06<00:00, 82.71it/s]\n",
      "Training Epoch 1050: 100%|██████████| 507/507 [00:06<00:00, 82.69it/s]\n",
      "Training Epoch 1051: 100%|██████████| 507/507 [00:05<00:00, 85.57it/s]\n"
     ]
    },
    {
     "name": "stdout",
     "output_type": "stream",
     "text": [
      "Epoch 1050 - Train Loss: 0.3636, Train MSE: 0.3637, Train MAE: 0.4507\n",
      "Epoch 1050 - Validation Loss: 1.4383, Validation MSE: 1.4406, Validation MAE: 0.8672\n"
     ]
    },
    {
     "name": "stderr",
     "output_type": "stream",
     "text": [
      "Training Epoch 1052: 100%|██████████| 507/507 [00:05<00:00, 84.92it/s]\n",
      "Training Epoch 1053: 100%|██████████| 507/507 [00:06<00:00, 83.31it/s]\n",
      "Training Epoch 1054: 100%|██████████| 507/507 [00:05<00:00, 84.82it/s]\n",
      "Training Epoch 1055: 100%|██████████| 507/507 [00:06<00:00, 82.31it/s]\n",
      "Training Epoch 1056: 100%|██████████| 507/507 [00:06<00:00, 84.31it/s]\n",
      "Training Epoch 1057: 100%|██████████| 507/507 [00:06<00:00, 83.54it/s]\n",
      "Training Epoch 1058: 100%|██████████| 507/507 [00:05<00:00, 85.46it/s]\n",
      "Training Epoch 1059: 100%|██████████| 507/507 [00:06<00:00, 83.50it/s]\n",
      "Training Epoch 1060: 100%|██████████| 507/507 [00:06<00:00, 81.27it/s]\n",
      "Training Epoch 1061: 100%|██████████| 507/507 [00:05<00:00, 85.44it/s]\n"
     ]
    },
    {
     "name": "stdout",
     "output_type": "stream",
     "text": [
      "Epoch 1060 - Train Loss: 0.3631, Train MSE: 0.3629, Train MAE: 0.4504\n",
      "Epoch 1060 - Validation Loss: 1.4214, Validation MSE: 1.4244, Validation MAE: 0.8616\n"
     ]
    },
    {
     "name": "stderr",
     "output_type": "stream",
     "text": [
      "Training Epoch 1062: 100%|██████████| 507/507 [00:06<00:00, 83.04it/s]\n",
      "Training Epoch 1063: 100%|██████████| 507/507 [00:06<00:00, 84.46it/s]\n",
      "Training Epoch 1064: 100%|██████████| 507/507 [00:05<00:00, 85.05it/s]\n",
      "Training Epoch 1065: 100%|██████████| 507/507 [00:05<00:00, 84.58it/s]\n",
      "Training Epoch 1066: 100%|██████████| 507/507 [00:05<00:00, 85.09it/s]\n",
      "Training Epoch 1067: 100%|██████████| 507/507 [00:06<00:00, 76.14it/s]\n",
      "Training Epoch 1068: 100%|██████████| 507/507 [00:06<00:00, 79.01it/s]\n",
      "Training Epoch 1069: 100%|██████████| 507/507 [00:05<00:00, 86.80it/s]\n",
      "Training Epoch 1070: 100%|██████████| 507/507 [00:06<00:00, 82.12it/s]\n",
      "Training Epoch 1071: 100%|██████████| 507/507 [00:06<00:00, 83.82it/s]\n"
     ]
    },
    {
     "name": "stdout",
     "output_type": "stream",
     "text": [
      "Epoch 1070 - Train Loss: 0.3624, Train MSE: 0.3623, Train MAE: 0.4503\n",
      "Epoch 1070 - Validation Loss: 1.4210, Validation MSE: 1.4239, Validation MAE: 0.8598\n"
     ]
    },
    {
     "name": "stderr",
     "output_type": "stream",
     "text": [
      "Training Epoch 1072: 100%|██████████| 507/507 [00:06<00:00, 83.41it/s]\n",
      "Training Epoch 1073: 100%|██████████| 507/507 [00:05<00:00, 85.96it/s]\n",
      "Training Epoch 1074: 100%|██████████| 507/507 [00:05<00:00, 85.00it/s]\n",
      "Training Epoch 1075: 100%|██████████| 507/507 [00:06<00:00, 84.32it/s]\n",
      "Training Epoch 1076: 100%|██████████| 507/507 [00:06<00:00, 83.78it/s]\n",
      "Training Epoch 1077: 100%|██████████| 507/507 [00:06<00:00, 82.90it/s]\n",
      "Training Epoch 1078: 100%|██████████| 507/507 [00:06<00:00, 83.81it/s]\n",
      "Training Epoch 1079: 100%|██████████| 507/507 [00:05<00:00, 85.45it/s]\n",
      "Training Epoch 1080: 100%|██████████| 507/507 [00:06<00:00, 83.47it/s]\n",
      "Training Epoch 1081: 100%|██████████| 507/507 [00:05<00:00, 85.51it/s]\n"
     ]
    },
    {
     "name": "stdout",
     "output_type": "stream",
     "text": [
      "Epoch 1080 - Train Loss: 0.3673, Train MSE: 0.3674, Train MAE: 0.4476\n",
      "Epoch 1080 - Validation Loss: 1.4360, Validation MSE: 1.4383, Validation MAE: 0.8632\n"
     ]
    },
    {
     "name": "stderr",
     "output_type": "stream",
     "text": [
      "Training Epoch 1082: 100%|██████████| 507/507 [00:05<00:00, 84.57it/s]\n",
      "Training Epoch 1083: 100%|██████████| 507/507 [00:05<00:00, 85.53it/s]\n",
      "Training Epoch 1084: 100%|██████████| 507/507 [00:06<00:00, 84.43it/s]\n",
      "Training Epoch 1085: 100%|██████████| 507/507 [00:06<00:00, 83.17it/s]\n",
      "Training Epoch 1086: 100%|██████████| 507/507 [00:05<00:00, 86.08it/s]\n",
      "Training Epoch 1087: 100%|██████████| 507/507 [00:06<00:00, 82.74it/s]\n",
      "Training Epoch 1088: 100%|██████████| 507/507 [00:06<00:00, 83.48it/s]\n",
      "Training Epoch 1089: 100%|██████████| 507/507 [00:05<00:00, 86.03it/s]\n",
      "Training Epoch 1090: 100%|██████████| 507/507 [00:06<00:00, 81.79it/s]\n",
      "Training Epoch 1091: 100%|██████████| 507/507 [00:05<00:00, 84.90it/s]\n"
     ]
    },
    {
     "name": "stdout",
     "output_type": "stream",
     "text": [
      "Epoch 1090 - Train Loss: 0.3649, Train MSE: 0.3650, Train MAE: 0.4493\n",
      "Epoch 1090 - Validation Loss: 1.4228, Validation MSE: 1.4265, Validation MAE: 0.8608\n"
     ]
    },
    {
     "name": "stderr",
     "output_type": "stream",
     "text": [
      "Training Epoch 1092: 100%|██████████| 507/507 [00:05<00:00, 85.05it/s]\n",
      "Training Epoch 1093: 100%|██████████| 507/507 [00:06<00:00, 82.42it/s]\n",
      "Training Epoch 1094: 100%|██████████| 507/507 [00:06<00:00, 83.11it/s]\n",
      "Training Epoch 1095: 100%|██████████| 507/507 [00:06<00:00, 83.52it/s]\n",
      "Training Epoch 1096: 100%|██████████| 507/507 [00:06<00:00, 83.49it/s]\n",
      "Training Epoch 1097: 100%|██████████| 507/507 [00:06<00:00, 82.62it/s]\n",
      "Training Epoch 1098: 100%|██████████| 507/507 [00:06<00:00, 83.89it/s]\n",
      "Training Epoch 1099: 100%|██████████| 507/507 [00:06<00:00, 84.50it/s]\n",
      "Training Epoch 1100: 100%|██████████| 507/507 [00:05<00:00, 84.54it/s]\n",
      "Training Epoch 1101: 100%|██████████| 507/507 [00:06<00:00, 84.06it/s]\n"
     ]
    },
    {
     "name": "stdout",
     "output_type": "stream",
     "text": [
      "Epoch 1100 - Train Loss: 0.3614, Train MSE: 0.3615, Train MAE: 0.4461\n",
      "Epoch 1100 - Validation Loss: 1.4464, Validation MSE: 1.4496, Validation MAE: 0.8681\n"
     ]
    },
    {
     "name": "stderr",
     "output_type": "stream",
     "text": [
      "Training Epoch 1102: 100%|██████████| 507/507 [00:06<00:00, 82.81it/s]\n",
      "Training Epoch 1103: 100%|██████████| 507/507 [00:06<00:00, 83.32it/s]\n",
      "Training Epoch 1104: 100%|██████████| 507/507 [00:06<00:00, 82.56it/s]\n",
      "Training Epoch 1105: 100%|██████████| 507/507 [00:06<00:00, 80.45it/s]\n",
      "Training Epoch 1106: 100%|██████████| 507/507 [00:06<00:00, 84.41it/s]\n",
      "Training Epoch 1107: 100%|██████████| 507/507 [00:06<00:00, 83.66it/s]\n",
      "Training Epoch 1108: 100%|██████████| 507/507 [00:05<00:00, 86.46it/s]\n",
      "Training Epoch 1109: 100%|██████████| 507/507 [00:06<00:00, 82.83it/s]\n",
      "Training Epoch 1110: 100%|██████████| 507/507 [00:06<00:00, 83.83it/s]\n",
      "Training Epoch 1111: 100%|██████████| 507/507 [00:05<00:00, 86.44it/s]\n"
     ]
    },
    {
     "name": "stdout",
     "output_type": "stream",
     "text": [
      "Epoch 1110 - Train Loss: 0.3611, Train MSE: 0.3614, Train MAE: 0.4468\n",
      "Epoch 1110 - Validation Loss: 1.4411, Validation MSE: 1.4442, Validation MAE: 0.8635\n"
     ]
    },
    {
     "name": "stderr",
     "output_type": "stream",
     "text": [
      "Training Epoch 1112: 100%|██████████| 507/507 [00:06<00:00, 82.87it/s]\n",
      "Training Epoch 1113: 100%|██████████| 507/507 [00:06<00:00, 84.28it/s]\n",
      "Training Epoch 1114: 100%|██████████| 507/507 [00:05<00:00, 84.96it/s]\n",
      "Training Epoch 1115: 100%|██████████| 507/507 [00:06<00:00, 83.38it/s]\n",
      "Training Epoch 1116: 100%|██████████| 507/507 [00:05<00:00, 85.53it/s]\n",
      "Training Epoch 1117: 100%|██████████| 507/507 [00:06<00:00, 82.65it/s]\n",
      "Training Epoch 1118: 100%|██████████| 507/507 [00:06<00:00, 82.66it/s]\n",
      "Training Epoch 1119: 100%|██████████| 507/507 [00:06<00:00, 83.83it/s]\n",
      "Training Epoch 1120: 100%|██████████| 507/507 [00:06<00:00, 82.61it/s]\n",
      "Training Epoch 1121: 100%|██████████| 507/507 [00:06<00:00, 84.41it/s]\n"
     ]
    },
    {
     "name": "stdout",
     "output_type": "stream",
     "text": [
      "Epoch 1120 - Train Loss: 0.3646, Train MSE: 0.3647, Train MAE: 0.4470\n",
      "Epoch 1120 - Validation Loss: 1.3986, Validation MSE: 1.4020, Validation MAE: 0.8565\n"
     ]
    },
    {
     "name": "stderr",
     "output_type": "stream",
     "text": [
      "Training Epoch 1122: 100%|██████████| 507/507 [00:06<00:00, 82.98it/s]\n",
      "Training Epoch 1123: 100%|██████████| 507/507 [00:05<00:00, 84.51it/s]\n",
      "Training Epoch 1124: 100%|██████████| 507/507 [00:05<00:00, 85.60it/s]\n",
      "Training Epoch 1125: 100%|██████████| 507/507 [00:06<00:00, 83.80it/s]\n",
      "Training Epoch 1126: 100%|██████████| 507/507 [00:05<00:00, 86.46it/s]\n",
      "Training Epoch 1127: 100%|██████████| 507/507 [00:06<00:00, 81.07it/s]\n",
      "Training Epoch 1128: 100%|██████████| 507/507 [00:05<00:00, 85.23it/s]\n",
      "Training Epoch 1129: 100%|██████████| 507/507 [00:05<00:00, 84.88it/s]\n",
      "Training Epoch 1130: 100%|██████████| 507/507 [00:06<00:00, 83.58it/s]\n",
      "Training Epoch 1131: 100%|██████████| 507/507 [00:06<00:00, 84.40it/s]\n"
     ]
    },
    {
     "name": "stdout",
     "output_type": "stream",
     "text": [
      "Epoch 1130 - Train Loss: 0.3612, Train MSE: 0.3613, Train MAE: 0.4430\n",
      "Epoch 1130 - Validation Loss: 1.4350, Validation MSE: 1.4375, Validation MAE: 0.8654\n"
     ]
    },
    {
     "name": "stderr",
     "output_type": "stream",
     "text": [
      "Training Epoch 1132: 100%|██████████| 507/507 [00:06<00:00, 81.22it/s]\n",
      "Training Epoch 1133: 100%|██████████| 507/507 [00:05<00:00, 84.51it/s]\n",
      "Training Epoch 1134: 100%|██████████| 507/507 [00:06<00:00, 84.42it/s]\n",
      "Training Epoch 1135: 100%|██████████| 507/507 [00:06<00:00, 83.75it/s]\n",
      "Training Epoch 1136: 100%|██████████| 507/507 [00:06<00:00, 83.19it/s]\n",
      "Training Epoch 1137: 100%|██████████| 507/507 [00:06<00:00, 81.68it/s]\n",
      "Training Epoch 1138: 100%|██████████| 507/507 [00:06<00:00, 83.73it/s]\n",
      "Training Epoch 1139: 100%|██████████| 507/507 [00:06<00:00, 83.80it/s]\n",
      "Training Epoch 1140: 100%|██████████| 507/507 [00:06<00:00, 83.21it/s]\n",
      "Training Epoch 1141: 100%|██████████| 507/507 [00:06<00:00, 83.64it/s]\n"
     ]
    },
    {
     "name": "stdout",
     "output_type": "stream",
     "text": [
      "Epoch 1140 - Train Loss: 0.3663, Train MSE: 0.3664, Train MAE: 0.4481\n",
      "Epoch 1140 - Validation Loss: 1.4199, Validation MSE: 1.4225, Validation MAE: 0.8621\n"
     ]
    },
    {
     "name": "stderr",
     "output_type": "stream",
     "text": [
      "Training Epoch 1142: 100%|██████████| 507/507 [00:06<00:00, 83.44it/s]\n",
      "Training Epoch 1143: 100%|██████████| 507/507 [00:05<00:00, 85.67it/s]\n",
      "Training Epoch 1144: 100%|██████████| 507/507 [00:05<00:00, 86.50it/s]\n",
      "Training Epoch 1145: 100%|██████████| 507/507 [00:06<00:00, 82.37it/s]\n",
      "Training Epoch 1146: 100%|██████████| 507/507 [00:06<00:00, 84.19it/s]\n",
      "Training Epoch 1147: 100%|██████████| 507/507 [00:06<00:00, 82.98it/s]\n",
      "Training Epoch 1148: 100%|██████████| 507/507 [00:05<00:00, 85.97it/s]\n",
      "Training Epoch 1149: 100%|██████████| 507/507 [00:06<00:00, 83.41it/s]\n",
      "Training Epoch 1150: 100%|██████████| 507/507 [00:05<00:00, 84.56it/s]\n",
      "Training Epoch 1151: 100%|██████████| 507/507 [00:06<00:00, 84.04it/s]\n"
     ]
    },
    {
     "name": "stdout",
     "output_type": "stream",
     "text": [
      "Epoch 1150 - Train Loss: 0.3526, Train MSE: 0.3528, Train MAE: 0.4410\n",
      "Epoch 1150 - Validation Loss: 1.4188, Validation MSE: 1.4221, Validation MAE: 0.8619\n"
     ]
    },
    {
     "name": "stderr",
     "output_type": "stream",
     "text": [
      "Training Epoch 1152: 100%|██████████| 507/507 [00:06<00:00, 82.52it/s]\n",
      "Training Epoch 1153: 100%|██████████| 507/507 [00:05<00:00, 84.77it/s]\n",
      "Training Epoch 1154: 100%|██████████| 507/507 [00:06<00:00, 84.12it/s]\n",
      "Training Epoch 1155: 100%|██████████| 507/507 [00:06<00:00, 82.71it/s]\n",
      "Training Epoch 1156: 100%|██████████| 507/507 [00:05<00:00, 85.95it/s]\n",
      "Training Epoch 1157: 100%|██████████| 507/507 [00:06<00:00, 83.62it/s]\n",
      "Training Epoch 1158: 100%|██████████| 507/507 [00:05<00:00, 85.40it/s]\n",
      "Training Epoch 1159: 100%|██████████| 507/507 [00:05<00:00, 85.64it/s]\n",
      "Training Epoch 1160: 100%|██████████| 507/507 [00:06<00:00, 82.28it/s]\n",
      "Training Epoch 1161: 100%|██████████| 507/507 [00:05<00:00, 85.62it/s]\n"
     ]
    },
    {
     "name": "stdout",
     "output_type": "stream",
     "text": [
      "Epoch 1160 - Train Loss: 0.3519, Train MSE: 0.3518, Train MAE: 0.4425\n",
      "Epoch 1160 - Validation Loss: 1.3965, Validation MSE: 1.3995, Validation MAE: 0.8605\n"
     ]
    },
    {
     "name": "stderr",
     "output_type": "stream",
     "text": [
      "Training Epoch 1162: 100%|██████████| 507/507 [00:06<00:00, 84.37it/s]\n",
      "Training Epoch 1163: 100%|██████████| 507/507 [00:05<00:00, 84.71it/s]\n",
      "Training Epoch 1164: 100%|██████████| 507/507 [00:05<00:00, 85.02it/s]\n",
      "Training Epoch 1165: 100%|██████████| 507/507 [00:06<00:00, 78.00it/s]\n",
      "Training Epoch 1166: 100%|██████████| 507/507 [00:06<00:00, 82.46it/s]\n",
      "Training Epoch 1167: 100%|██████████| 507/507 [00:06<00:00, 78.77it/s]\n",
      "Training Epoch 1168: 100%|██████████| 507/507 [00:06<00:00, 82.62it/s]\n",
      "Training Epoch 1169: 100%|██████████| 507/507 [00:06<00:00, 83.03it/s]\n",
      "Training Epoch 1170: 100%|██████████| 507/507 [00:05<00:00, 84.94it/s]\n",
      "Training Epoch 1171: 100%|██████████| 507/507 [00:06<00:00, 82.81it/s]\n"
     ]
    },
    {
     "name": "stdout",
     "output_type": "stream",
     "text": [
      "Epoch 1170 - Train Loss: 0.3516, Train MSE: 0.3516, Train MAE: 0.4416\n",
      "Epoch 1170 - Validation Loss: 1.4364, Validation MSE: 1.4399, Validation MAE: 0.8595\n"
     ]
    },
    {
     "name": "stderr",
     "output_type": "stream",
     "text": [
      "Training Epoch 1172: 100%|██████████| 507/507 [00:06<00:00, 78.36it/s]\n",
      "Training Epoch 1173: 100%|██████████| 507/507 [00:05<00:00, 84.91it/s]\n",
      "Training Epoch 1174: 100%|██████████| 507/507 [00:06<00:00, 80.05it/s]\n",
      "Training Epoch 1175: 100%|██████████| 507/507 [00:06<00:00, 79.93it/s]\n",
      "Training Epoch 1176: 100%|██████████| 507/507 [00:06<00:00, 81.35it/s]\n",
      "Training Epoch 1177: 100%|██████████| 507/507 [00:06<00:00, 80.54it/s]\n",
      "Training Epoch 1178: 100%|██████████| 507/507 [00:06<00:00, 83.33it/s]\n",
      "Training Epoch 1179: 100%|██████████| 507/507 [00:06<00:00, 81.67it/s]\n",
      "Training Epoch 1180: 100%|██████████| 507/507 [00:06<00:00, 83.63it/s]\n",
      "Training Epoch 1181: 100%|██████████| 507/507 [00:06<00:00, 84.50it/s]\n"
     ]
    },
    {
     "name": "stdout",
     "output_type": "stream",
     "text": [
      "Epoch 1180 - Train Loss: 0.3552, Train MSE: 0.3553, Train MAE: 0.4419\n",
      "Epoch 1180 - Validation Loss: 1.4352, Validation MSE: 1.4377, Validation MAE: 0.8642\n"
     ]
    },
    {
     "name": "stderr",
     "output_type": "stream",
     "text": [
      "Training Epoch 1182: 100%|██████████| 507/507 [00:06<00:00, 80.81it/s]\n",
      "Training Epoch 1183: 100%|██████████| 507/507 [00:06<00:00, 82.58it/s]\n",
      "Training Epoch 1184: 100%|██████████| 507/507 [00:06<00:00, 81.73it/s]\n",
      "Training Epoch 1185: 100%|██████████| 507/507 [00:05<00:00, 84.57it/s]\n",
      "Training Epoch 1186: 100%|██████████| 507/507 [00:05<00:00, 84.72it/s]\n",
      "Training Epoch 1187: 100%|██████████| 507/507 [00:06<00:00, 82.14it/s]\n",
      "Training Epoch 1188: 100%|██████████| 507/507 [00:06<00:00, 83.24it/s]\n",
      "Training Epoch 1189: 100%|██████████| 507/507 [00:06<00:00, 82.94it/s]\n",
      "Training Epoch 1190: 100%|██████████| 507/507 [00:05<00:00, 84.53it/s]\n",
      "Training Epoch 1191: 100%|██████████| 507/507 [00:06<00:00, 83.36it/s]\n"
     ]
    },
    {
     "name": "stdout",
     "output_type": "stream",
     "text": [
      "Epoch 1190 - Train Loss: 0.3528, Train MSE: 0.3530, Train MAE: 0.4392\n",
      "Epoch 1190 - Validation Loss: 1.3866, Validation MSE: 1.3901, Validation MAE: 0.8559\n"
     ]
    },
    {
     "name": "stderr",
     "output_type": "stream",
     "text": [
      "Training Epoch 1192: 100%|██████████| 507/507 [00:06<00:00, 82.63it/s]\n",
      "Training Epoch 1193: 100%|██████████| 507/507 [00:06<00:00, 83.02it/s]\n",
      "Training Epoch 1194: 100%|██████████| 507/507 [00:06<00:00, 83.42it/s]\n",
      "Training Epoch 1195: 100%|██████████| 507/507 [00:06<00:00, 83.31it/s]\n",
      "Training Epoch 1196: 100%|██████████| 507/507 [00:06<00:00, 84.24it/s]\n",
      "Training Epoch 1197: 100%|██████████| 507/507 [00:06<00:00, 82.79it/s]\n",
      "Training Epoch 1198: 100%|██████████| 507/507 [00:05<00:00, 84.94it/s]\n",
      "Training Epoch 1199: 100%|██████████| 507/507 [00:06<00:00, 82.91it/s]\n",
      "Training Epoch 1200: 100%|██████████| 507/507 [00:05<00:00, 85.26it/s]\n",
      "Training Epoch 1201: 100%|██████████| 507/507 [00:06<00:00, 82.76it/s]\n"
     ]
    },
    {
     "name": "stdout",
     "output_type": "stream",
     "text": [
      "Epoch 1200 - Train Loss: 0.3524, Train MSE: 0.3526, Train MAE: 0.4373\n",
      "Epoch 1200 - Validation Loss: 1.4420, Validation MSE: 1.4453, Validation MAE: 0.8601\n"
     ]
    },
    {
     "name": "stderr",
     "output_type": "stream",
     "text": [
      "Training Epoch 1202: 100%|██████████| 507/507 [00:05<00:00, 84.62it/s]\n",
      "Training Epoch 1203: 100%|██████████| 507/507 [00:05<00:00, 84.74it/s]\n",
      "Training Epoch 1204: 100%|██████████| 507/507 [00:06<00:00, 84.16it/s]\n",
      "Training Epoch 1205: 100%|██████████| 507/507 [00:05<00:00, 85.63it/s]\n",
      "Training Epoch 1206: 100%|██████████| 507/507 [00:06<00:00, 83.44it/s]\n",
      "Training Epoch 1207: 100%|██████████| 507/507 [00:06<00:00, 84.40it/s]\n",
      "Training Epoch 1208: 100%|██████████| 507/507 [00:06<00:00, 83.76it/s]\n",
      "Training Epoch 1209: 100%|██████████| 507/507 [00:06<00:00, 83.78it/s]\n",
      "Training Epoch 1210: 100%|██████████| 507/507 [00:05<00:00, 84.59it/s]\n",
      "Training Epoch 1211: 100%|██████████| 507/507 [00:06<00:00, 82.92it/s]\n"
     ]
    },
    {
     "name": "stdout",
     "output_type": "stream",
     "text": [
      "Epoch 1210 - Train Loss: 0.3545, Train MSE: 0.3543, Train MAE: 0.4408\n",
      "Epoch 1210 - Validation Loss: 1.4448, Validation MSE: 1.4474, Validation MAE: 0.8647\n"
     ]
    },
    {
     "name": "stderr",
     "output_type": "stream",
     "text": [
      "Training Epoch 1212: 100%|██████████| 507/507 [00:06<00:00, 83.72it/s]\n",
      "Training Epoch 1213: 100%|██████████| 507/507 [00:05<00:00, 84.90it/s]\n",
      "Training Epoch 1214: 100%|██████████| 507/507 [00:06<00:00, 82.51it/s]\n",
      "Training Epoch 1215: 100%|██████████| 507/507 [00:06<00:00, 82.48it/s]\n",
      "Training Epoch 1216: 100%|██████████| 507/507 [00:06<00:00, 82.03it/s]\n",
      "Training Epoch 1217: 100%|██████████| 507/507 [00:06<00:00, 83.64it/s]\n",
      "Training Epoch 1218: 100%|██████████| 507/507 [00:06<00:00, 83.81it/s]\n",
      "Training Epoch 1219: 100%|██████████| 507/507 [00:06<00:00, 83.36it/s]\n",
      "Training Epoch 1220: 100%|██████████| 507/507 [00:06<00:00, 83.91it/s]\n",
      "Training Epoch 1221: 100%|██████████| 507/507 [00:06<00:00, 83.81it/s]\n"
     ]
    },
    {
     "name": "stdout",
     "output_type": "stream",
     "text": [
      "Epoch 1220 - Train Loss: 0.3477, Train MSE: 0.3479, Train MAE: 0.4384\n",
      "Epoch 1220 - Validation Loss: 1.4207, Validation MSE: 1.4241, Validation MAE: 0.8543\n"
     ]
    },
    {
     "name": "stderr",
     "output_type": "stream",
     "text": [
      "Training Epoch 1222: 100%|██████████| 507/507 [00:05<00:00, 85.02it/s]\n",
      "Training Epoch 1223: 100%|██████████| 507/507 [00:05<00:00, 86.15it/s]\n",
      "Training Epoch 1224: 100%|██████████| 507/507 [00:06<00:00, 83.24it/s]\n",
      "Training Epoch 1225: 100%|██████████| 507/507 [00:06<00:00, 84.11it/s]\n",
      "Training Epoch 1226: 100%|██████████| 507/507 [00:06<00:00, 82.41it/s]\n",
      "Training Epoch 1227: 100%|██████████| 507/507 [00:06<00:00, 82.97it/s]\n",
      "Training Epoch 1228: 100%|██████████| 507/507 [00:06<00:00, 84.43it/s]\n",
      "Training Epoch 1229: 100%|██████████| 507/507 [00:06<00:00, 82.35it/s]\n",
      "Training Epoch 1230: 100%|██████████| 507/507 [00:06<00:00, 82.29it/s]\n",
      "Training Epoch 1231: 100%|██████████| 507/507 [00:06<00:00, 83.92it/s]\n"
     ]
    },
    {
     "name": "stdout",
     "output_type": "stream",
     "text": [
      "Epoch 1230 - Train Loss: 0.3453, Train MSE: 0.3448, Train MAE: 0.4379\n",
      "Epoch 1230 - Validation Loss: 1.4241, Validation MSE: 1.4266, Validation MAE: 0.8553\n"
     ]
    },
    {
     "name": "stderr",
     "output_type": "stream",
     "text": [
      "Training Epoch 1232: 100%|██████████| 507/507 [00:06<00:00, 84.49it/s]\n",
      "Training Epoch 1233: 100%|██████████| 507/507 [00:05<00:00, 85.58it/s]\n",
      "Training Epoch 1234: 100%|██████████| 507/507 [00:06<00:00, 84.44it/s]\n",
      "Training Epoch 1235: 100%|██████████| 507/507 [00:05<00:00, 85.02it/s]\n",
      "Training Epoch 1236: 100%|██████████| 507/507 [00:05<00:00, 85.78it/s]\n",
      "Training Epoch 1237: 100%|██████████| 507/507 [00:06<00:00, 81.81it/s]\n",
      "Training Epoch 1238: 100%|██████████| 507/507 [00:05<00:00, 85.47it/s]\n",
      "Training Epoch 1239: 100%|██████████| 507/507 [00:06<00:00, 81.21it/s]\n",
      "Training Epoch 1240: 100%|██████████| 507/507 [00:06<00:00, 84.02it/s]\n",
      "Training Epoch 1241: 100%|██████████| 507/507 [00:06<00:00, 84.41it/s]\n"
     ]
    },
    {
     "name": "stdout",
     "output_type": "stream",
     "text": [
      "Epoch 1240 - Train Loss: 0.3401, Train MSE: 0.3403, Train MAE: 0.4332\n",
      "Epoch 1240 - Validation Loss: 1.4275, Validation MSE: 1.4312, Validation MAE: 0.8573\n"
     ]
    },
    {
     "name": "stderr",
     "output_type": "stream",
     "text": [
      "Training Epoch 1242: 100%|██████████| 507/507 [00:06<00:00, 84.46it/s]\n",
      "Training Epoch 1243: 100%|██████████| 507/507 [00:05<00:00, 85.80it/s]\n",
      "Training Epoch 1244: 100%|██████████| 507/507 [00:06<00:00, 81.81it/s]\n",
      "Training Epoch 1245: 100%|██████████| 507/507 [00:06<00:00, 83.04it/s]\n",
      "Training Epoch 1246: 100%|██████████| 507/507 [00:06<00:00, 82.34it/s]\n",
      "Training Epoch 1247: 100%|██████████| 507/507 [00:06<00:00, 83.17it/s]\n",
      "Training Epoch 1248: 100%|██████████| 507/507 [00:06<00:00, 83.42it/s]\n",
      "Training Epoch 1249: 100%|██████████| 507/507 [00:06<00:00, 83.85it/s]\n",
      "Training Epoch 1250: 100%|██████████| 507/507 [00:06<00:00, 84.34it/s]\n",
      "Training Epoch 1251: 100%|██████████| 507/507 [00:06<00:00, 82.38it/s]\n"
     ]
    },
    {
     "name": "stdout",
     "output_type": "stream",
     "text": [
      "Epoch 1250 - Train Loss: 0.3454, Train MSE: 0.3454, Train MAE: 0.4361\n",
      "Epoch 1250 - Validation Loss: 1.4245, Validation MSE: 1.4271, Validation MAE: 0.8558\n"
     ]
    },
    {
     "name": "stderr",
     "output_type": "stream",
     "text": [
      "Training Epoch 1252: 100%|██████████| 507/507 [00:05<00:00, 84.57it/s]\n",
      "Training Epoch 1253: 100%|██████████| 507/507 [00:06<00:00, 82.82it/s]\n",
      "Training Epoch 1254: 100%|██████████| 507/507 [00:06<00:00, 81.98it/s]\n",
      "Training Epoch 1255: 100%|██████████| 507/507 [00:05<00:00, 84.81it/s]\n",
      "Training Epoch 1256: 100%|██████████| 507/507 [00:06<00:00, 82.28it/s]\n",
      "Training Epoch 1257: 100%|██████████| 507/507 [00:06<00:00, 83.13it/s]\n",
      "Training Epoch 1258: 100%|██████████| 507/507 [00:06<00:00, 82.51it/s]\n",
      "Training Epoch 1259: 100%|██████████| 507/507 [00:06<00:00, 81.08it/s]\n",
      "Training Epoch 1260: 100%|██████████| 507/507 [00:05<00:00, 85.15it/s]\n",
      "Training Epoch 1261: 100%|██████████| 507/507 [00:06<00:00, 81.63it/s]\n"
     ]
    },
    {
     "name": "stdout",
     "output_type": "stream",
     "text": [
      "Epoch 1260 - Train Loss: 0.3463, Train MSE: 0.3465, Train MAE: 0.4365\n",
      "Epoch 1260 - Validation Loss: 1.4128, Validation MSE: 1.4157, Validation MAE: 0.8573\n"
     ]
    },
    {
     "name": "stderr",
     "output_type": "stream",
     "text": [
      "Training Epoch 1262: 100%|██████████| 507/507 [00:05<00:00, 84.90it/s]\n",
      "Training Epoch 1263: 100%|██████████| 507/507 [00:05<00:00, 84.98it/s]\n",
      "Training Epoch 1264: 100%|██████████| 507/507 [00:06<00:00, 81.16it/s]\n",
      "Training Epoch 1265: 100%|██████████| 507/507 [00:06<00:00, 83.42it/s]\n",
      "Training Epoch 1266: 100%|██████████| 507/507 [00:06<00:00, 82.85it/s]\n",
      "Training Epoch 1267: 100%|██████████| 507/507 [00:05<00:00, 85.63it/s]\n",
      "Training Epoch 1268: 100%|██████████| 507/507 [00:05<00:00, 84.66it/s]\n",
      "Training Epoch 1269: 100%|██████████| 507/507 [00:05<00:00, 84.78it/s]\n",
      "Training Epoch 1270: 100%|██████████| 507/507 [00:06<00:00, 83.22it/s]\n",
      "Training Epoch 1271: 100%|██████████| 507/507 [00:06<00:00, 83.08it/s]\n"
     ]
    },
    {
     "name": "stdout",
     "output_type": "stream",
     "text": [
      "Epoch 1270 - Train Loss: 0.3388, Train MSE: 0.3389, Train MAE: 0.4342\n",
      "Epoch 1270 - Validation Loss: 1.4090, Validation MSE: 1.4125, Validation MAE: 0.8546\n"
     ]
    },
    {
     "name": "stderr",
     "output_type": "stream",
     "text": [
      "Training Epoch 1272: 100%|██████████| 507/507 [00:06<00:00, 83.40it/s]\n",
      "Training Epoch 1273: 100%|██████████| 507/507 [00:05<00:00, 85.19it/s]\n",
      "Training Epoch 1274: 100%|██████████| 507/507 [00:06<00:00, 83.72it/s]\n",
      "Training Epoch 1275: 100%|██████████| 507/507 [00:06<00:00, 82.60it/s]\n",
      "Training Epoch 1276: 100%|██████████| 507/507 [00:06<00:00, 82.91it/s]\n",
      "Training Epoch 1277: 100%|██████████| 507/507 [00:06<00:00, 83.68it/s]\n",
      "Training Epoch 1278: 100%|██████████| 507/507 [00:05<00:00, 84.67it/s]\n",
      "Training Epoch 1279: 100%|██████████| 507/507 [00:06<00:00, 82.51it/s]\n",
      "Training Epoch 1280: 100%|██████████| 507/507 [00:06<00:00, 83.54it/s]\n",
      "Training Epoch 1281: 100%|██████████| 507/507 [00:06<00:00, 81.56it/s]\n"
     ]
    },
    {
     "name": "stdout",
     "output_type": "stream",
     "text": [
      "Epoch 1280 - Train Loss: 0.3361, Train MSE: 0.3363, Train MAE: 0.4311\n",
      "Epoch 1280 - Validation Loss: 1.4096, Validation MSE: 1.4127, Validation MAE: 0.8518\n"
     ]
    },
    {
     "name": "stderr",
     "output_type": "stream",
     "text": [
      "Training Epoch 1282: 100%|██████████| 507/507 [00:06<00:00, 84.14it/s]\n",
      "Training Epoch 1283: 100%|██████████| 507/507 [00:06<00:00, 84.44it/s]\n",
      "Training Epoch 1284: 100%|██████████| 507/507 [00:05<00:00, 86.02it/s]\n",
      "Training Epoch 1285: 100%|██████████| 507/507 [00:06<00:00, 83.24it/s]\n",
      "Training Epoch 1286: 100%|██████████| 507/507 [00:06<00:00, 82.32it/s]\n",
      "Training Epoch 1287: 100%|██████████| 507/507 [00:05<00:00, 87.23it/s]\n",
      "Training Epoch 1288: 100%|██████████| 507/507 [00:06<00:00, 84.17it/s]\n",
      "Training Epoch 1289: 100%|██████████| 507/507 [00:05<00:00, 85.90it/s]\n",
      "Training Epoch 1290: 100%|██████████| 507/507 [00:06<00:00, 82.38it/s]\n",
      "Training Epoch 1291: 100%|██████████| 507/507 [00:06<00:00, 83.98it/s]\n"
     ]
    },
    {
     "name": "stdout",
     "output_type": "stream",
     "text": [
      "Epoch 1290 - Train Loss: 0.3430, Train MSE: 0.3428, Train MAE: 0.4321\n",
      "Epoch 1290 - Validation Loss: 1.4049, Validation MSE: 1.4081, Validation MAE: 0.8528\n"
     ]
    },
    {
     "name": "stderr",
     "output_type": "stream",
     "text": [
      "Training Epoch 1292: 100%|██████████| 507/507 [00:06<00:00, 84.49it/s]\n",
      "Training Epoch 1293: 100%|██████████| 507/507 [00:05<00:00, 85.57it/s]\n",
      "Training Epoch 1294: 100%|██████████| 507/507 [00:06<00:00, 82.40it/s]\n",
      "Training Epoch 1295: 100%|██████████| 507/507 [00:06<00:00, 84.31it/s]\n",
      "Training Epoch 1296: 100%|██████████| 507/507 [00:06<00:00, 80.83it/s]\n",
      "Training Epoch 1297: 100%|██████████| 507/507 [00:06<00:00, 83.63it/s]\n",
      "Training Epoch 1298: 100%|██████████| 507/507 [00:06<00:00, 82.74it/s]\n",
      "Training Epoch 1299: 100%|██████████| 507/507 [00:05<00:00, 84.54it/s]\n",
      "Training Epoch 1300: 100%|██████████| 507/507 [00:06<00:00, 83.33it/s]\n",
      "Training Epoch 1301: 100%|██████████| 507/507 [00:06<00:00, 82.74it/s]\n"
     ]
    },
    {
     "name": "stdout",
     "output_type": "stream",
     "text": [
      "Epoch 1300 - Train Loss: 0.3514, Train MSE: 0.3516, Train MAE: 0.4394\n",
      "Epoch 1300 - Validation Loss: 1.4312, Validation MSE: 1.4345, Validation MAE: 0.8573\n"
     ]
    },
    {
     "name": "stderr",
     "output_type": "stream",
     "text": [
      "Training Epoch 1302: 100%|██████████| 507/507 [00:06<00:00, 84.29it/s]\n",
      "Training Epoch 1303: 100%|██████████| 507/507 [00:06<00:00, 83.69it/s]\n",
      "Training Epoch 1304: 100%|██████████| 507/507 [00:06<00:00, 82.29it/s]\n",
      "Training Epoch 1305: 100%|██████████| 507/507 [00:05<00:00, 87.09it/s]\n",
      "Training Epoch 1306: 100%|██████████| 507/507 [00:06<00:00, 81.75it/s]\n",
      "Training Epoch 1307: 100%|██████████| 507/507 [00:05<00:00, 84.58it/s]\n",
      "Training Epoch 1308: 100%|██████████| 507/507 [00:06<00:00, 82.68it/s]\n",
      "Training Epoch 1309: 100%|██████████| 507/507 [00:06<00:00, 84.17it/s]\n",
      "Training Epoch 1310: 100%|██████████| 507/507 [00:05<00:00, 85.82it/s]\n",
      "Training Epoch 1311: 100%|██████████| 507/507 [00:06<00:00, 83.17it/s]\n"
     ]
    },
    {
     "name": "stdout",
     "output_type": "stream",
     "text": [
      "Epoch 1310 - Train Loss: 0.3454, Train MSE: 0.3454, Train MAE: 0.4373\n",
      "Epoch 1310 - Validation Loss: 1.4108, Validation MSE: 1.4136, Validation MAE: 0.8589\n"
     ]
    },
    {
     "name": "stderr",
     "output_type": "stream",
     "text": [
      "Training Epoch 1312: 100%|██████████| 507/507 [00:06<00:00, 83.13it/s]\n",
      "Training Epoch 1313: 100%|██████████| 507/507 [00:06<00:00, 83.07it/s]\n",
      "Training Epoch 1314: 100%|██████████| 507/507 [00:06<00:00, 83.49it/s]\n",
      "Training Epoch 1315: 100%|██████████| 507/507 [00:06<00:00, 84.39it/s]\n",
      "Training Epoch 1316: 100%|██████████| 507/507 [00:06<00:00, 83.49it/s]\n",
      "Training Epoch 1317: 100%|██████████| 507/507 [00:05<00:00, 85.03it/s]\n",
      "Training Epoch 1318: 100%|██████████| 507/507 [00:06<00:00, 83.84it/s]\n",
      "Training Epoch 1319: 100%|██████████| 507/507 [00:05<00:00, 85.95it/s]\n",
      "Training Epoch 1320: 100%|██████████| 507/507 [00:05<00:00, 86.48it/s]\n",
      "Training Epoch 1321: 100%|██████████| 507/507 [00:06<00:00, 80.44it/s]\n"
     ]
    },
    {
     "name": "stdout",
     "output_type": "stream",
     "text": [
      "Epoch 1320 - Train Loss: 0.3365, Train MSE: 0.3364, Train MAE: 0.4300\n",
      "Epoch 1320 - Validation Loss: 1.4132, Validation MSE: 1.4152, Validation MAE: 0.8598\n"
     ]
    },
    {
     "name": "stderr",
     "output_type": "stream",
     "text": [
      "Training Epoch 1322: 100%|██████████| 507/507 [00:06<00:00, 84.12it/s]\n",
      "Training Epoch 1323: 100%|██████████| 507/507 [00:05<00:00, 85.05it/s]\n",
      "Training Epoch 1324: 100%|██████████| 507/507 [00:06<00:00, 84.04it/s]\n",
      "Training Epoch 1325: 100%|██████████| 507/507 [00:05<00:00, 85.20it/s]\n",
      "Training Epoch 1326: 100%|██████████| 507/507 [00:06<00:00, 83.86it/s]\n",
      "Training Epoch 1327: 100%|██████████| 507/507 [00:05<00:00, 85.52it/s]\n",
      "Training Epoch 1328: 100%|██████████| 507/507 [00:06<00:00, 83.95it/s]\n",
      "Training Epoch 1329: 100%|██████████| 507/507 [00:05<00:00, 85.21it/s]\n",
      "Training Epoch 1330: 100%|██████████| 507/507 [00:05<00:00, 85.03it/s]\n",
      "Training Epoch 1331: 100%|██████████| 507/507 [00:06<00:00, 81.35it/s]\n"
     ]
    },
    {
     "name": "stdout",
     "output_type": "stream",
     "text": [
      "Epoch 1330 - Train Loss: 0.3413, Train MSE: 0.3410, Train MAE: 0.4343\n",
      "Epoch 1330 - Validation Loss: 1.4351, Validation MSE: 1.4366, Validation MAE: 0.8624\n"
     ]
    },
    {
     "name": "stderr",
     "output_type": "stream",
     "text": [
      "Training Epoch 1332: 100%|██████████| 507/507 [00:06<00:00, 83.54it/s]\n",
      "Training Epoch 1333: 100%|██████████| 507/507 [00:06<00:00, 82.65it/s]\n",
      "Training Epoch 1334: 100%|██████████| 507/507 [00:06<00:00, 83.93it/s]\n",
      "Training Epoch 1335: 100%|██████████| 507/507 [00:06<00:00, 84.48it/s]\n",
      "Training Epoch 1336: 100%|██████████| 507/507 [00:06<00:00, 83.30it/s]\n",
      "Training Epoch 1337: 100%|██████████| 507/507 [00:06<00:00, 83.61it/s]\n",
      "Training Epoch 1338: 100%|██████████| 507/507 [00:06<00:00, 84.00it/s]\n",
      "Training Epoch 1339: 100%|██████████| 507/507 [00:06<00:00, 83.52it/s]\n",
      "Training Epoch 1340: 100%|██████████| 507/507 [00:06<00:00, 83.80it/s]\n",
      "Training Epoch 1341: 100%|██████████| 507/507 [00:06<00:00, 82.44it/s]\n"
     ]
    },
    {
     "name": "stdout",
     "output_type": "stream",
     "text": [
      "Epoch 1340 - Train Loss: 0.3379, Train MSE: 0.3378, Train MAE: 0.4326\n",
      "Epoch 1340 - Validation Loss: 1.4462, Validation MSE: 1.4489, Validation MAE: 0.8630\n"
     ]
    },
    {
     "name": "stderr",
     "output_type": "stream",
     "text": [
      "Training Epoch 1342: 100%|██████████| 507/507 [00:06<00:00, 83.99it/s]\n",
      "Training Epoch 1343: 100%|██████████| 507/507 [00:06<00:00, 83.13it/s]\n",
      "Training Epoch 1344: 100%|██████████| 507/507 [00:05<00:00, 84.64it/s]\n",
      "Training Epoch 1345: 100%|██████████| 507/507 [00:05<00:00, 84.84it/s]\n",
      "Training Epoch 1346: 100%|██████████| 507/507 [00:06<00:00, 81.90it/s]\n",
      "Training Epoch 1347: 100%|██████████| 507/507 [00:06<00:00, 83.72it/s]\n",
      "Training Epoch 1348: 100%|██████████| 507/507 [00:05<00:00, 84.59it/s]\n",
      "Training Epoch 1349: 100%|██████████| 507/507 [00:05<00:00, 84.51it/s]\n",
      "Training Epoch 1350: 100%|██████████| 507/507 [00:05<00:00, 84.87it/s]\n",
      "Training Epoch 1351: 100%|██████████| 507/507 [00:06<00:00, 82.33it/s]\n"
     ]
    },
    {
     "name": "stdout",
     "output_type": "stream",
     "text": [
      "Epoch 1350 - Train Loss: 0.3339, Train MSE: 0.3338, Train MAE: 0.4292\n",
      "Epoch 1350 - Validation Loss: 1.4159, Validation MSE: 1.4186, Validation MAE: 0.8554\n"
     ]
    },
    {
     "name": "stderr",
     "output_type": "stream",
     "text": [
      "Training Epoch 1352: 100%|██████████| 507/507 [00:05<00:00, 84.92it/s]\n",
      "Training Epoch 1353: 100%|██████████| 507/507 [00:06<00:00, 82.39it/s]\n",
      "Training Epoch 1354: 100%|██████████| 507/507 [00:06<00:00, 84.28it/s]\n",
      "Training Epoch 1355: 100%|██████████| 507/507 [00:05<00:00, 85.37it/s]\n",
      "Training Epoch 1356: 100%|██████████| 507/507 [00:06<00:00, 83.86it/s]\n",
      "Training Epoch 1357: 100%|██████████| 507/507 [00:05<00:00, 86.42it/s]\n",
      "Training Epoch 1358: 100%|██████████| 507/507 [00:06<00:00, 84.50it/s]\n",
      "Training Epoch 1359: 100%|██████████| 507/507 [00:06<00:00, 84.37it/s]\n",
      "Training Epoch 1360: 100%|██████████| 507/507 [00:06<00:00, 83.04it/s]\n",
      "Training Epoch 1361: 100%|██████████| 507/507 [00:06<00:00, 83.47it/s]\n"
     ]
    },
    {
     "name": "stdout",
     "output_type": "stream",
     "text": [
      "Epoch 1360 - Train Loss: 0.3389, Train MSE: 0.3388, Train MAE: 0.4312\n",
      "Epoch 1360 - Validation Loss: 1.4023, Validation MSE: 1.4052, Validation MAE: 0.8494\n"
     ]
    },
    {
     "name": "stderr",
     "output_type": "stream",
     "text": [
      "Training Epoch 1362: 100%|██████████| 507/507 [00:06<00:00, 84.14it/s]\n",
      "Training Epoch 1363: 100%|██████████| 507/507 [00:06<00:00, 82.50it/s]\n",
      "Training Epoch 1364: 100%|██████████| 507/507 [00:05<00:00, 85.54it/s]\n",
      "Training Epoch 1365: 100%|██████████| 507/507 [00:06<00:00, 84.48it/s]\n",
      "Training Epoch 1366: 100%|██████████| 507/507 [00:06<00:00, 83.54it/s]\n",
      "Training Epoch 1367: 100%|██████████| 507/507 [00:06<00:00, 83.53it/s]\n",
      "Training Epoch 1368: 100%|██████████| 507/507 [00:06<00:00, 83.66it/s]\n",
      "Training Epoch 1369: 100%|██████████| 507/507 [00:06<00:00, 83.99it/s]\n",
      "Training Epoch 1370: 100%|██████████| 507/507 [00:06<00:00, 83.52it/s]\n",
      "Training Epoch 1371: 100%|██████████| 507/507 [00:06<00:00, 82.14it/s]\n"
     ]
    },
    {
     "name": "stdout",
     "output_type": "stream",
     "text": [
      "Epoch 1370 - Train Loss: 0.3337, Train MSE: 0.3336, Train MAE: 0.4292\n",
      "Epoch 1370 - Validation Loss: 1.4136, Validation MSE: 1.4170, Validation MAE: 0.8522\n"
     ]
    },
    {
     "name": "stderr",
     "output_type": "stream",
     "text": [
      "Training Epoch 1372: 100%|██████████| 507/507 [00:06<00:00, 82.80it/s]\n",
      "Training Epoch 1373: 100%|██████████| 507/507 [00:05<00:00, 84.71it/s]\n",
      "Training Epoch 1374: 100%|██████████| 507/507 [00:06<00:00, 83.79it/s]\n",
      "Training Epoch 1375: 100%|██████████| 507/507 [00:06<00:00, 83.24it/s]\n",
      "Training Epoch 1376: 100%|██████████| 507/507 [00:05<00:00, 85.78it/s]\n",
      "Training Epoch 1377: 100%|██████████| 507/507 [00:05<00:00, 85.18it/s]\n",
      "Training Epoch 1378: 100%|██████████| 507/507 [00:06<00:00, 83.66it/s]\n",
      "Training Epoch 1379: 100%|██████████| 507/507 [00:05<00:00, 84.54it/s]\n",
      "Training Epoch 1380: 100%|██████████| 507/507 [00:06<00:00, 81.67it/s]\n",
      "Training Epoch 1381: 100%|██████████| 507/507 [00:06<00:00, 83.87it/s]\n"
     ]
    },
    {
     "name": "stdout",
     "output_type": "stream",
     "text": [
      "Epoch 1380 - Train Loss: 0.3363, Train MSE: 0.3362, Train MAE: 0.4316\n",
      "Epoch 1380 - Validation Loss: 1.4404, Validation MSE: 1.4425, Validation MAE: 0.8625\n"
     ]
    },
    {
     "name": "stderr",
     "output_type": "stream",
     "text": [
      "Training Epoch 1382: 100%|██████████| 507/507 [00:05<00:00, 85.56it/s]\n",
      "Training Epoch 1383: 100%|██████████| 507/507 [00:06<00:00, 80.68it/s]\n",
      "Training Epoch 1384: 100%|██████████| 507/507 [00:05<00:00, 84.55it/s]\n",
      "Training Epoch 1385: 100%|██████████| 507/507 [00:06<00:00, 83.57it/s]\n",
      "Training Epoch 1386: 100%|██████████| 507/507 [00:05<00:00, 85.75it/s]\n",
      "Training Epoch 1387: 100%|██████████| 507/507 [00:06<00:00, 83.49it/s]\n",
      "Training Epoch 1388: 100%|██████████| 507/507 [00:06<00:00, 84.34it/s]\n",
      "Training Epoch 1389: 100%|██████████| 507/507 [00:05<00:00, 85.53it/s]\n",
      "Training Epoch 1390: 100%|██████████| 507/507 [00:06<00:00, 83.91it/s]\n",
      "Training Epoch 1391: 100%|██████████| 507/507 [00:06<00:00, 83.44it/s]\n"
     ]
    },
    {
     "name": "stdout",
     "output_type": "stream",
     "text": [
      "Epoch 1390 - Train Loss: 0.3407, Train MSE: 0.3408, Train MAE: 0.4311\n",
      "Epoch 1390 - Validation Loss: 1.4073, Validation MSE: 1.4101, Validation MAE: 0.8488\n"
     ]
    },
    {
     "name": "stderr",
     "output_type": "stream",
     "text": [
      "Training Epoch 1392: 100%|██████████| 507/507 [00:06<00:00, 84.13it/s]\n",
      "Training Epoch 1393: 100%|██████████| 507/507 [00:05<00:00, 85.31it/s]\n",
      "Training Epoch 1394: 100%|██████████| 507/507 [00:06<00:00, 84.20it/s]\n",
      "Training Epoch 1395: 100%|██████████| 507/507 [00:06<00:00, 80.45it/s]\n",
      "Training Epoch 1396: 100%|██████████| 507/507 [00:06<00:00, 81.81it/s]\n",
      "Training Epoch 1397: 100%|██████████| 507/507 [00:06<00:00, 82.07it/s]\n",
      "Training Epoch 1398: 100%|██████████| 507/507 [00:06<00:00, 81.82it/s]\n",
      "Training Epoch 1399: 100%|██████████| 507/507 [00:05<00:00, 84.95it/s]\n",
      "Training Epoch 1400: 100%|██████████| 507/507 [00:05<00:00, 84.93it/s]\n",
      "Training Epoch 1401: 100%|██████████| 507/507 [00:06<00:00, 83.79it/s]\n"
     ]
    },
    {
     "name": "stdout",
     "output_type": "stream",
     "text": [
      "Epoch 1400 - Train Loss: 0.3398, Train MSE: 0.3397, Train MAE: 0.4313\n",
      "Epoch 1400 - Validation Loss: 1.4229, Validation MSE: 1.4268, Validation MAE: 0.8613\n"
     ]
    },
    {
     "name": "stderr",
     "output_type": "stream",
     "text": [
      "Training Epoch 1402: 100%|██████████| 507/507 [00:05<00:00, 84.85it/s]\n",
      "Training Epoch 1403: 100%|██████████| 507/507 [00:06<00:00, 81.82it/s]\n",
      "Training Epoch 1404: 100%|██████████| 507/507 [00:06<00:00, 83.30it/s]\n",
      "Training Epoch 1405: 100%|██████████| 507/507 [00:05<00:00, 85.06it/s]\n",
      "Training Epoch 1406: 100%|██████████| 507/507 [00:06<00:00, 83.13it/s]\n",
      "Training Epoch 1407: 100%|██████████| 507/507 [00:06<00:00, 82.68it/s]\n",
      "Training Epoch 1408: 100%|██████████| 507/507 [00:06<00:00, 82.16it/s]\n",
      "Training Epoch 1409: 100%|██████████| 507/507 [00:06<00:00, 84.17it/s]\n",
      "Training Epoch 1410: 100%|██████████| 507/507 [00:06<00:00, 83.57it/s]\n",
      "Training Epoch 1411: 100%|██████████| 507/507 [00:06<00:00, 84.32it/s]\n"
     ]
    },
    {
     "name": "stdout",
     "output_type": "stream",
     "text": [
      "Epoch 1410 - Train Loss: 0.3410, Train MSE: 0.3410, Train MAE: 0.4330\n",
      "Epoch 1410 - Validation Loss: 1.4037, Validation MSE: 1.4055, Validation MAE: 0.8516\n"
     ]
    },
    {
     "name": "stderr",
     "output_type": "stream",
     "text": [
      "Training Epoch 1412: 100%|██████████| 507/507 [00:06<00:00, 82.57it/s]\n",
      "Training Epoch 1413: 100%|██████████| 507/507 [00:06<00:00, 84.08it/s]\n",
      "Training Epoch 1414: 100%|██████████| 507/507 [00:05<00:00, 85.66it/s]\n",
      "Training Epoch 1415: 100%|██████████| 507/507 [00:05<00:00, 84.57it/s]\n",
      "Training Epoch 1416: 100%|██████████| 507/507 [00:06<00:00, 82.32it/s]\n",
      "Training Epoch 1417: 100%|██████████| 507/507 [00:05<00:00, 85.26it/s]\n",
      "Training Epoch 1418: 100%|██████████| 507/507 [00:06<00:00, 83.09it/s]\n",
      "Training Epoch 1419: 100%|██████████| 507/507 [00:05<00:00, 85.08it/s]\n",
      "Training Epoch 1420: 100%|██████████| 507/507 [00:06<00:00, 84.03it/s]\n",
      "Training Epoch 1421: 100%|██████████| 507/507 [00:05<00:00, 84.94it/s]\n"
     ]
    },
    {
     "name": "stdout",
     "output_type": "stream",
     "text": [
      "Epoch 1420 - Train Loss: 0.3335, Train MSE: 0.3337, Train MAE: 0.4259\n",
      "Epoch 1420 - Validation Loss: 1.4252, Validation MSE: 1.4287, Validation MAE: 0.8506\n"
     ]
    },
    {
     "name": "stderr",
     "output_type": "stream",
     "text": [
      "Training Epoch 1422: 100%|██████████| 507/507 [00:06<00:00, 83.01it/s]\n",
      "Training Epoch 1423: 100%|██████████| 507/507 [00:05<00:00, 84.72it/s]\n",
      "Training Epoch 1424: 100%|██████████| 507/507 [00:06<00:00, 82.65it/s]\n",
      "Training Epoch 1425: 100%|██████████| 507/507 [00:06<00:00, 83.26it/s]\n",
      "Training Epoch 1426: 100%|██████████| 507/507 [00:06<00:00, 80.07it/s]\n",
      "Training Epoch 1427: 100%|██████████| 507/507 [00:06<00:00, 82.31it/s]\n",
      "Training Epoch 1428: 100%|██████████| 507/507 [00:06<00:00, 83.13it/s]\n",
      "Training Epoch 1429: 100%|██████████| 507/507 [00:06<00:00, 82.03it/s]\n",
      "Training Epoch 1430: 100%|██████████| 507/507 [00:06<00:00, 82.02it/s]\n",
      "Training Epoch 1431: 100%|██████████| 507/507 [00:05<00:00, 84.71it/s]\n"
     ]
    },
    {
     "name": "stdout",
     "output_type": "stream",
     "text": [
      "Epoch 1430 - Train Loss: 0.3350, Train MSE: 0.3348, Train MAE: 0.4317\n",
      "Epoch 1430 - Validation Loss: 1.4462, Validation MSE: 1.4489, Validation MAE: 0.8605\n"
     ]
    },
    {
     "name": "stderr",
     "output_type": "stream",
     "text": [
      "Training Epoch 1432: 100%|██████████| 507/507 [00:06<00:00, 81.56it/s]\n",
      "Training Epoch 1433: 100%|██████████| 507/507 [00:06<00:00, 83.09it/s]\n",
      "Training Epoch 1434: 100%|██████████| 507/507 [00:05<00:00, 87.25it/s]\n",
      "Training Epoch 1435: 100%|██████████| 507/507 [00:06<00:00, 81.53it/s]\n",
      "Training Epoch 1436: 100%|██████████| 507/507 [00:05<00:00, 85.06it/s]\n",
      "Training Epoch 1437: 100%|██████████| 507/507 [00:05<00:00, 84.75it/s]\n",
      "Training Epoch 1438: 100%|██████████| 507/507 [00:06<00:00, 81.26it/s]\n",
      "Training Epoch 1439: 100%|██████████| 507/507 [00:06<00:00, 81.61it/s]\n",
      "Training Epoch 1440: 100%|██████████| 507/507 [00:06<00:00, 82.39it/s]\n",
      "Training Epoch 1441: 100%|██████████| 507/507 [00:05<00:00, 85.65it/s]\n"
     ]
    },
    {
     "name": "stdout",
     "output_type": "stream",
     "text": [
      "Epoch 1440 - Train Loss: 0.3328, Train MSE: 0.3328, Train MAE: 0.4246\n",
      "Epoch 1440 - Validation Loss: 1.4289, Validation MSE: 1.4319, Validation MAE: 0.8634\n"
     ]
    },
    {
     "name": "stderr",
     "output_type": "stream",
     "text": [
      "Training Epoch 1442: 100%|██████████| 507/507 [00:06<00:00, 82.91it/s]\n",
      "Training Epoch 1443: 100%|██████████| 507/507 [00:06<00:00, 81.28it/s]\n",
      "Training Epoch 1444: 100%|██████████| 507/507 [00:06<00:00, 82.71it/s]\n",
      "Training Epoch 1445: 100%|██████████| 507/507 [00:06<00:00, 82.07it/s]\n",
      "Training Epoch 1446: 100%|██████████| 507/507 [00:06<00:00, 83.81it/s]\n",
      "Training Epoch 1447: 100%|██████████| 507/507 [00:05<00:00, 85.52it/s]\n",
      "Training Epoch 1448: 100%|██████████| 507/507 [00:06<00:00, 80.66it/s]\n",
      "Training Epoch 1449: 100%|██████████| 507/507 [00:05<00:00, 84.77it/s]\n",
      "Training Epoch 1450: 100%|██████████| 507/507 [00:06<00:00, 83.79it/s]\n",
      "Training Epoch 1451: 100%|██████████| 507/507 [00:06<00:00, 84.20it/s]\n"
     ]
    },
    {
     "name": "stdout",
     "output_type": "stream",
     "text": [
      "Epoch 1450 - Train Loss: 0.3288, Train MSE: 0.3290, Train MAE: 0.4253\n",
      "Epoch 1450 - Validation Loss: 1.4192, Validation MSE: 1.4218, Validation MAE: 0.8605\n"
     ]
    },
    {
     "name": "stderr",
     "output_type": "stream",
     "text": [
      "Training Epoch 1452: 100%|██████████| 507/507 [00:05<00:00, 85.23it/s]\n",
      "Training Epoch 1453: 100%|██████████| 507/507 [00:06<00:00, 83.87it/s]\n",
      "Training Epoch 1454: 100%|██████████| 507/507 [00:06<00:00, 82.47it/s]\n",
      "Training Epoch 1455: 100%|██████████| 507/507 [00:06<00:00, 82.26it/s]\n",
      "Training Epoch 1456: 100%|██████████| 507/507 [00:06<00:00, 82.81it/s]\n",
      "Training Epoch 1457: 100%|██████████| 507/507 [00:05<00:00, 85.12it/s]\n",
      "Training Epoch 1458: 100%|██████████| 507/507 [00:06<00:00, 82.94it/s]\n",
      "Training Epoch 1459: 100%|██████████| 507/507 [00:05<00:00, 85.26it/s]\n",
      "Training Epoch 1460: 100%|██████████| 507/507 [00:06<00:00, 81.55it/s]\n",
      "Training Epoch 1461: 100%|██████████| 507/507 [00:06<00:00, 81.29it/s]\n"
     ]
    },
    {
     "name": "stdout",
     "output_type": "stream",
     "text": [
      "Epoch 1460 - Train Loss: 0.3269, Train MSE: 0.3269, Train MAE: 0.4250\n",
      "Epoch 1460 - Validation Loss: 1.4206, Validation MSE: 1.4237, Validation MAE: 0.8591\n"
     ]
    },
    {
     "name": "stderr",
     "output_type": "stream",
     "text": [
      "Training Epoch 1462: 100%|██████████| 507/507 [00:05<00:00, 85.14it/s]\n",
      "Training Epoch 1463: 100%|██████████| 507/507 [00:06<00:00, 78.95it/s]\n",
      "Training Epoch 1464: 100%|██████████| 507/507 [00:06<00:00, 82.55it/s]\n",
      "Training Epoch 1465: 100%|██████████| 507/507 [00:06<00:00, 83.06it/s]\n",
      "Training Epoch 1466: 100%|██████████| 507/507 [00:05<00:00, 85.04it/s]\n",
      "Training Epoch 1467: 100%|██████████| 507/507 [00:05<00:00, 84.93it/s]\n",
      "Training Epoch 1468: 100%|██████████| 507/507 [00:05<00:00, 85.15it/s]\n",
      "Training Epoch 1469: 100%|██████████| 507/507 [00:05<00:00, 85.17it/s]\n",
      "Training Epoch 1470: 100%|██████████| 507/507 [00:06<00:00, 83.61it/s]\n",
      "Training Epoch 1471: 100%|██████████| 507/507 [00:06<00:00, 83.73it/s]\n"
     ]
    },
    {
     "name": "stdout",
     "output_type": "stream",
     "text": [
      "Epoch 1470 - Train Loss: 0.3270, Train MSE: 0.3271, Train MAE: 0.4230\n",
      "Epoch 1470 - Validation Loss: 1.4178, Validation MSE: 1.4203, Validation MAE: 0.8522\n"
     ]
    },
    {
     "name": "stderr",
     "output_type": "stream",
     "text": [
      "Training Epoch 1472: 100%|██████████| 507/507 [00:05<00:00, 85.18it/s]\n",
      "Training Epoch 1473: 100%|██████████| 507/507 [00:06<00:00, 83.93it/s]\n",
      "Training Epoch 1474: 100%|██████████| 507/507 [00:06<00:00, 83.26it/s]\n",
      "Training Epoch 1475: 100%|██████████| 507/507 [00:06<00:00, 83.59it/s]\n",
      "Training Epoch 1476: 100%|██████████| 507/507 [00:06<00:00, 83.88it/s]\n",
      "Training Epoch 1477: 100%|██████████| 507/507 [00:06<00:00, 82.58it/s]\n",
      "Training Epoch 1478: 100%|██████████| 507/507 [00:06<00:00, 83.16it/s]\n",
      "Training Epoch 1479: 100%|██████████| 507/507 [00:05<00:00, 85.85it/s]\n",
      "Training Epoch 1480: 100%|██████████| 507/507 [00:06<00:00, 80.87it/s]\n",
      "Training Epoch 1481: 100%|██████████| 507/507 [00:05<00:00, 85.41it/s]\n"
     ]
    },
    {
     "name": "stdout",
     "output_type": "stream",
     "text": [
      "Epoch 1480 - Train Loss: 0.3246, Train MSE: 0.3247, Train MAE: 0.4228\n",
      "Epoch 1480 - Validation Loss: 1.4308, Validation MSE: 1.4344, Validation MAE: 0.8623\n"
     ]
    },
    {
     "name": "stderr",
     "output_type": "stream",
     "text": [
      "Training Epoch 1482: 100%|██████████| 507/507 [00:06<00:00, 80.90it/s]\n",
      "Training Epoch 1483: 100%|██████████| 507/507 [00:05<00:00, 85.46it/s]\n",
      "Training Epoch 1484: 100%|██████████| 507/507 [00:06<00:00, 82.68it/s]\n",
      "Training Epoch 1485: 100%|██████████| 507/507 [00:06<00:00, 82.14it/s]\n",
      "Training Epoch 1486: 100%|██████████| 507/507 [00:06<00:00, 83.74it/s]\n",
      "Training Epoch 1487: 100%|██████████| 507/507 [00:06<00:00, 83.46it/s]\n",
      "Training Epoch 1488: 100%|██████████| 507/507 [00:05<00:00, 85.97it/s]\n",
      "Training Epoch 1489: 100%|██████████| 507/507 [00:05<00:00, 84.61it/s]\n",
      "Training Epoch 1490: 100%|██████████| 507/507 [00:06<00:00, 83.21it/s]\n",
      "Training Epoch 1491: 100%|██████████| 507/507 [00:06<00:00, 83.37it/s]\n"
     ]
    },
    {
     "name": "stdout",
     "output_type": "stream",
     "text": [
      "Epoch 1490 - Train Loss: 0.3221, Train MSE: 0.3216, Train MAE: 0.4219\n",
      "Epoch 1490 - Validation Loss: 1.3978, Validation MSE: 1.4010, Validation MAE: 0.8542\n"
     ]
    },
    {
     "name": "stderr",
     "output_type": "stream",
     "text": [
      "Training Epoch 1492: 100%|██████████| 507/507 [00:06<00:00, 82.93it/s]\n",
      "Training Epoch 1493: 100%|██████████| 507/507 [00:05<00:00, 85.32it/s]\n",
      "Training Epoch 1494: 100%|██████████| 507/507 [00:05<00:00, 84.95it/s]\n",
      "Training Epoch 1495: 100%|██████████| 507/507 [00:06<00:00, 82.46it/s]\n",
      "Training Epoch 1496: 100%|██████████| 507/507 [00:06<00:00, 83.40it/s]\n",
      "Training Epoch 1497: 100%|██████████| 507/507 [00:06<00:00, 82.07it/s]\n",
      "Training Epoch 1498: 100%|██████████| 507/507 [00:05<00:00, 84.87it/s]\n",
      "Training Epoch 1499: 100%|██████████| 507/507 [00:06<00:00, 84.43it/s]\n",
      "Training Epoch 1500: 100%|██████████| 507/507 [00:06<00:00, 81.89it/s]\n",
      "Training Epoch 1501: 100%|██████████| 507/507 [00:05<00:00, 87.02it/s]\n"
     ]
    },
    {
     "name": "stdout",
     "output_type": "stream",
     "text": [
      "Epoch 1500 - Train Loss: 0.3254, Train MSE: 0.3253, Train MAE: 0.4207\n",
      "Epoch 1500 - Validation Loss: 1.4081, Validation MSE: 1.4119, Validation MAE: 0.8489\n"
     ]
    },
    {
     "name": "stderr",
     "output_type": "stream",
     "text": [
      "Training Epoch 1502: 100%|██████████| 507/507 [00:06<00:00, 82.66it/s]\n",
      "Training Epoch 1503: 100%|██████████| 507/507 [00:06<00:00, 84.02it/s]\n",
      "Training Epoch 1504: 100%|██████████| 507/507 [00:06<00:00, 83.42it/s]\n",
      "Training Epoch 1505: 100%|██████████| 507/507 [00:06<00:00, 81.32it/s]\n",
      "Training Epoch 1506: 100%|██████████| 507/507 [00:05<00:00, 84.97it/s]\n",
      "Training Epoch 1507: 100%|██████████| 507/507 [00:06<00:00, 84.00it/s]\n",
      "Training Epoch 1508: 100%|██████████| 507/507 [00:06<00:00, 83.42it/s]\n",
      "Training Epoch 1509: 100%|██████████| 507/507 [00:06<00:00, 83.88it/s]\n",
      "Training Epoch 1510: 100%|██████████| 507/507 [00:06<00:00, 83.53it/s]\n",
      "Training Epoch 1511: 100%|██████████| 507/507 [00:06<00:00, 84.28it/s]\n"
     ]
    },
    {
     "name": "stdout",
     "output_type": "stream",
     "text": [
      "Epoch 1510 - Train Loss: 0.3291, Train MSE: 0.3290, Train MAE: 0.4269\n",
      "Epoch 1510 - Validation Loss: 1.4060, Validation MSE: 1.4090, Validation MAE: 0.8476\n"
     ]
    },
    {
     "name": "stderr",
     "output_type": "stream",
     "text": [
      "Training Epoch 1512: 100%|██████████| 507/507 [00:06<00:00, 83.70it/s]\n",
      "Training Epoch 1513: 100%|██████████| 507/507 [00:06<00:00, 84.02it/s]\n",
      "Training Epoch 1514: 100%|██████████| 507/507 [00:05<00:00, 84.64it/s]\n",
      "Training Epoch 1515: 100%|██████████| 507/507 [00:06<00:00, 83.65it/s]\n",
      "Training Epoch 1516: 100%|██████████| 507/507 [00:06<00:00, 84.47it/s]\n",
      "Training Epoch 1517: 100%|██████████| 507/507 [00:06<00:00, 82.99it/s]\n",
      "Training Epoch 1518: 100%|██████████| 507/507 [00:06<00:00, 83.81it/s]\n",
      "Training Epoch 1519: 100%|██████████| 507/507 [00:06<00:00, 82.55it/s]\n",
      "Training Epoch 1520: 100%|██████████| 507/507 [00:05<00:00, 84.95it/s]\n",
      "Training Epoch 1521: 100%|██████████| 507/507 [00:06<00:00, 83.85it/s]\n"
     ]
    },
    {
     "name": "stdout",
     "output_type": "stream",
     "text": [
      "Epoch 1520 - Train Loss: 0.3292, Train MSE: 0.3295, Train MAE: 0.4241\n",
      "Epoch 1520 - Validation Loss: 1.3863, Validation MSE: 1.3889, Validation MAE: 0.8464\n"
     ]
    },
    {
     "name": "stderr",
     "output_type": "stream",
     "text": [
      "Training Epoch 1522: 100%|██████████| 507/507 [00:06<00:00, 84.47it/s]\n",
      "Training Epoch 1523: 100%|██████████| 507/507 [00:06<00:00, 83.78it/s]\n",
      "Training Epoch 1524: 100%|██████████| 507/507 [00:06<00:00, 83.66it/s]\n",
      "Training Epoch 1525: 100%|██████████| 507/507 [00:06<00:00, 83.12it/s]\n",
      "Training Epoch 1526: 100%|██████████| 507/507 [00:05<00:00, 85.32it/s]\n",
      "Training Epoch 1527: 100%|██████████| 507/507 [00:06<00:00, 83.26it/s]\n",
      "Training Epoch 1528: 100%|██████████| 507/507 [00:05<00:00, 84.76it/s]\n",
      "Training Epoch 1529: 100%|██████████| 507/507 [00:05<00:00, 84.81it/s]\n",
      "Training Epoch 1530: 100%|██████████| 507/507 [00:06<00:00, 80.64it/s]\n",
      "Training Epoch 1531: 100%|██████████| 507/507 [00:05<00:00, 85.25it/s]\n"
     ]
    },
    {
     "name": "stdout",
     "output_type": "stream",
     "text": [
      "Epoch 1530 - Train Loss: 0.3242, Train MSE: 0.3243, Train MAE: 0.4201\n",
      "Epoch 1530 - Validation Loss: 1.4342, Validation MSE: 1.4365, Validation MAE: 0.8620\n"
     ]
    },
    {
     "name": "stderr",
     "output_type": "stream",
     "text": [
      "Training Epoch 1532: 100%|██████████| 507/507 [00:06<00:00, 82.97it/s]\n",
      "Training Epoch 1533: 100%|██████████| 507/507 [00:05<00:00, 84.55it/s]\n",
      "Training Epoch 1534: 100%|██████████| 507/507 [00:06<00:00, 83.46it/s]\n",
      "Training Epoch 1535: 100%|██████████| 507/507 [00:06<00:00, 84.20it/s]\n",
      "Training Epoch 1536: 100%|██████████| 507/507 [00:06<00:00, 83.13it/s]\n",
      "Training Epoch 1537: 100%|██████████| 507/507 [00:06<00:00, 82.57it/s]\n",
      "Training Epoch 1538: 100%|██████████| 507/507 [00:05<00:00, 86.80it/s]\n",
      "Training Epoch 1539: 100%|██████████| 507/507 [00:05<00:00, 86.08it/s]\n",
      "Training Epoch 1540: 100%|██████████| 507/507 [00:05<00:00, 86.48it/s]\n",
      "Training Epoch 1541: 100%|██████████| 507/507 [00:05<00:00, 85.19it/s]\n"
     ]
    },
    {
     "name": "stdout",
     "output_type": "stream",
     "text": [
      "Epoch 1540 - Train Loss: 0.3279, Train MSE: 0.3279, Train MAE: 0.4223\n",
      "Epoch 1540 - Validation Loss: 1.4183, Validation MSE: 1.4214, Validation MAE: 0.8567\n"
     ]
    },
    {
     "name": "stderr",
     "output_type": "stream",
     "text": [
      "Training Epoch 1542: 100%|██████████| 507/507 [00:06<00:00, 83.97it/s]\n",
      "Training Epoch 1543: 100%|██████████| 507/507 [00:05<00:00, 84.95it/s]\n",
      "Training Epoch 1544: 100%|██████████| 507/507 [00:05<00:00, 85.08it/s]\n",
      "Training Epoch 1545: 100%|██████████| 507/507 [00:06<00:00, 81.77it/s]\n",
      "Training Epoch 1546: 100%|██████████| 507/507 [00:05<00:00, 84.59it/s]\n",
      "Training Epoch 1547: 100%|██████████| 507/507 [00:06<00:00, 81.56it/s]\n",
      "Training Epoch 1548: 100%|██████████| 507/507 [00:05<00:00, 86.20it/s]\n",
      "Training Epoch 1549: 100%|██████████| 507/507 [00:06<00:00, 83.77it/s]\n",
      "Training Epoch 1550: 100%|██████████| 507/507 [00:06<00:00, 84.03it/s]\n",
      "Training Epoch 1551: 100%|██████████| 507/507 [00:06<00:00, 83.27it/s]\n"
     ]
    },
    {
     "name": "stdout",
     "output_type": "stream",
     "text": [
      "Epoch 1550 - Train Loss: 0.3192, Train MSE: 0.3193, Train MAE: 0.4187\n",
      "Epoch 1550 - Validation Loss: 1.4276, Validation MSE: 1.4309, Validation MAE: 0.8621\n"
     ]
    },
    {
     "name": "stderr",
     "output_type": "stream",
     "text": [
      "Training Epoch 1552: 100%|██████████| 507/507 [00:05<00:00, 84.56it/s]\n",
      "Training Epoch 1553: 100%|██████████| 507/507 [00:05<00:00, 85.23it/s]\n",
      "Training Epoch 1554: 100%|██████████| 507/507 [00:06<00:00, 83.29it/s]\n",
      "Training Epoch 1555: 100%|██████████| 507/507 [00:05<00:00, 86.41it/s]\n",
      "Training Epoch 1556: 100%|██████████| 507/507 [00:06<00:00, 83.84it/s]\n",
      "Training Epoch 1557: 100%|██████████| 507/507 [00:06<00:00, 82.57it/s]\n",
      "Training Epoch 1558: 100%|██████████| 507/507 [00:06<00:00, 84.08it/s]\n",
      "Training Epoch 1559: 100%|██████████| 507/507 [00:06<00:00, 84.07it/s]\n",
      "Training Epoch 1560: 100%|██████████| 507/507 [00:05<00:00, 85.77it/s]\n",
      "Training Epoch 1561: 100%|██████████| 507/507 [00:05<00:00, 85.30it/s]\n"
     ]
    },
    {
     "name": "stdout",
     "output_type": "stream",
     "text": [
      "Epoch 1560 - Train Loss: 0.3239, Train MSE: 0.3238, Train MAE: 0.4233\n",
      "Epoch 1560 - Validation Loss: 1.4152, Validation MSE: 1.4180, Validation MAE: 0.8599\n"
     ]
    },
    {
     "name": "stderr",
     "output_type": "stream",
     "text": [
      "Training Epoch 1562: 100%|██████████| 507/507 [00:06<00:00, 80.34it/s]\n",
      "Training Epoch 1563: 100%|██████████| 507/507 [00:05<00:00, 84.81it/s]\n",
      "Training Epoch 1564: 100%|██████████| 507/507 [00:06<00:00, 84.25it/s]\n",
      "Training Epoch 1565: 100%|██████████| 507/507 [00:05<00:00, 84.75it/s]\n",
      "Training Epoch 1566: 100%|██████████| 507/507 [00:06<00:00, 81.34it/s]\n",
      "Training Epoch 1567: 100%|██████████| 507/507 [00:06<00:00, 82.12it/s]\n",
      "Training Epoch 1568: 100%|██████████| 507/507 [00:05<00:00, 86.37it/s]\n",
      "Training Epoch 1569: 100%|██████████| 507/507 [00:06<00:00, 84.39it/s]\n",
      "Training Epoch 1570: 100%|██████████| 507/507 [00:05<00:00, 85.14it/s]\n",
      "Training Epoch 1571: 100%|██████████| 507/507 [00:06<00:00, 84.40it/s]\n"
     ]
    },
    {
     "name": "stdout",
     "output_type": "stream",
     "text": [
      "Epoch 1570 - Train Loss: 0.3280, Train MSE: 0.3279, Train MAE: 0.4242\n",
      "Epoch 1570 - Validation Loss: 1.4174, Validation MSE: 1.4203, Validation MAE: 0.8505\n"
     ]
    },
    {
     "name": "stderr",
     "output_type": "stream",
     "text": [
      "Training Epoch 1572: 100%|██████████| 507/507 [00:06<00:00, 83.03it/s]\n",
      "Training Epoch 1573: 100%|██████████| 507/507 [00:06<00:00, 83.43it/s]\n",
      "Training Epoch 1574: 100%|██████████| 507/507 [00:06<00:00, 83.86it/s]\n",
      "Training Epoch 1575: 100%|██████████| 507/507 [00:06<00:00, 82.53it/s]\n",
      "Training Epoch 1576: 100%|██████████| 507/507 [00:06<00:00, 83.49it/s]\n",
      "Training Epoch 1577: 100%|██████████| 507/507 [00:06<00:00, 84.42it/s]\n",
      "Training Epoch 1578: 100%|██████████| 507/507 [00:05<00:00, 84.59it/s]\n",
      "Training Epoch 1579: 100%|██████████| 507/507 [00:06<00:00, 84.45it/s]\n",
      "Training Epoch 1580: 100%|██████████| 507/507 [00:06<00:00, 81.14it/s]\n",
      "Training Epoch 1581: 100%|██████████| 507/507 [00:05<00:00, 85.54it/s]\n"
     ]
    },
    {
     "name": "stdout",
     "output_type": "stream",
     "text": [
      "Epoch 1580 - Train Loss: 0.3166, Train MSE: 0.3164, Train MAE: 0.4170\n",
      "Epoch 1580 - Validation Loss: 1.4527, Validation MSE: 1.4556, Validation MAE: 0.8637\n"
     ]
    },
    {
     "name": "stderr",
     "output_type": "stream",
     "text": [
      "Training Epoch 1582: 100%|██████████| 507/507 [00:06<00:00, 82.28it/s]\n",
      "Training Epoch 1583: 100%|██████████| 507/507 [00:06<00:00, 84.30it/s]\n",
      "Training Epoch 1584: 100%|██████████| 507/507 [00:05<00:00, 84.84it/s]\n",
      "Training Epoch 1585: 100%|██████████| 507/507 [00:06<00:00, 82.36it/s]\n",
      "Training Epoch 1586: 100%|██████████| 507/507 [00:06<00:00, 84.38it/s]\n",
      "Training Epoch 1587: 100%|██████████| 507/507 [00:06<00:00, 82.23it/s]\n",
      "Training Epoch 1588: 100%|██████████| 507/507 [00:06<00:00, 82.30it/s]\n",
      "Training Epoch 1589: 100%|██████████| 507/507 [00:06<00:00, 83.90it/s]\n",
      "Training Epoch 1590: 100%|██████████| 507/507 [00:05<00:00, 84.51it/s]\n",
      "Training Epoch 1591: 100%|██████████| 507/507 [00:05<00:00, 84.64it/s]\n"
     ]
    },
    {
     "name": "stdout",
     "output_type": "stream",
     "text": [
      "Epoch 1590 - Train Loss: 0.3159, Train MSE: 0.3151, Train MAE: 0.4151\n",
      "Epoch 1590 - Validation Loss: 1.4241, Validation MSE: 1.4268, Validation MAE: 0.8630\n"
     ]
    },
    {
     "name": "stderr",
     "output_type": "stream",
     "text": [
      "Training Epoch 1592: 100%|██████████| 507/507 [00:06<00:00, 84.46it/s]\n",
      "Training Epoch 1593: 100%|██████████| 507/507 [00:06<00:00, 82.50it/s]\n",
      "Training Epoch 1594: 100%|██████████| 507/507 [00:06<00:00, 82.75it/s]\n",
      "Training Epoch 1595: 100%|██████████| 507/507 [00:06<00:00, 80.90it/s]\n",
      "Training Epoch 1596: 100%|██████████| 507/507 [00:05<00:00, 85.38it/s]\n",
      "Training Epoch 1597: 100%|██████████| 507/507 [00:06<00:00, 83.78it/s]\n",
      "Training Epoch 1598: 100%|██████████| 507/507 [00:06<00:00, 84.30it/s]\n",
      "Training Epoch 1599: 100%|██████████| 507/507 [00:06<00:00, 83.44it/s]\n",
      "Training Epoch 1600: 100%|██████████| 507/507 [00:06<00:00, 82.62it/s]\n",
      "Training Epoch 1601: 100%|██████████| 507/507 [00:06<00:00, 83.76it/s]\n"
     ]
    },
    {
     "name": "stdout",
     "output_type": "stream",
     "text": [
      "Epoch 1600 - Train Loss: 0.3240, Train MSE: 0.3241, Train MAE: 0.4210\n",
      "Epoch 1600 - Validation Loss: 1.3993, Validation MSE: 1.4021, Validation MAE: 0.8502\n"
     ]
    },
    {
     "name": "stderr",
     "output_type": "stream",
     "text": [
      "Training Epoch 1602: 100%|██████████| 507/507 [00:06<00:00, 82.95it/s]\n",
      "Training Epoch 1603: 100%|██████████| 507/507 [00:06<00:00, 81.57it/s]\n",
      "Training Epoch 1604: 100%|██████████| 507/507 [00:06<00:00, 84.11it/s]\n",
      "Training Epoch 1605: 100%|██████████| 507/507 [00:06<00:00, 83.64it/s]\n",
      "Training Epoch 1606: 100%|██████████| 507/507 [00:05<00:00, 84.88it/s]\n",
      "Training Epoch 1607: 100%|██████████| 507/507 [00:06<00:00, 83.21it/s]\n",
      "Training Epoch 1608: 100%|██████████| 507/507 [00:06<00:00, 83.88it/s]\n",
      "Training Epoch 1609: 100%|██████████| 507/507 [00:06<00:00, 83.53it/s]\n",
      "Training Epoch 1610: 100%|██████████| 507/507 [00:06<00:00, 82.89it/s]\n",
      "Training Epoch 1611: 100%|██████████| 507/507 [00:06<00:00, 81.91it/s]\n"
     ]
    },
    {
     "name": "stdout",
     "output_type": "stream",
     "text": [
      "Epoch 1610 - Train Loss: 0.3185, Train MSE: 0.3186, Train MAE: 0.4164\n",
      "Epoch 1610 - Validation Loss: 1.4023, Validation MSE: 1.4052, Validation MAE: 0.8485\n"
     ]
    },
    {
     "name": "stderr",
     "output_type": "stream",
     "text": [
      "Training Epoch 1612: 100%|██████████| 507/507 [00:06<00:00, 80.85it/s]\n",
      "Training Epoch 1613: 100%|██████████| 507/507 [00:06<00:00, 83.60it/s]\n",
      "Training Epoch 1614: 100%|██████████| 507/507 [00:06<00:00, 82.00it/s]\n",
      "Training Epoch 1615: 100%|██████████| 507/507 [00:06<00:00, 84.07it/s]\n",
      "Training Epoch 1616: 100%|██████████| 507/507 [00:06<00:00, 83.27it/s]\n",
      "Training Epoch 1617: 100%|██████████| 507/507 [00:06<00:00, 83.78it/s]\n",
      "Training Epoch 1618: 100%|██████████| 507/507 [00:06<00:00, 83.21it/s]\n",
      "Training Epoch 1619: 100%|██████████| 507/507 [00:06<00:00, 82.11it/s]\n",
      "Training Epoch 1620: 100%|██████████| 507/507 [00:05<00:00, 85.69it/s]\n",
      "Training Epoch 1621: 100%|██████████| 507/507 [00:06<00:00, 84.14it/s]\n"
     ]
    },
    {
     "name": "stdout",
     "output_type": "stream",
     "text": [
      "Epoch 1620 - Train Loss: 0.3206, Train MSE: 0.3208, Train MAE: 0.4205\n",
      "Epoch 1620 - Validation Loss: 1.4064, Validation MSE: 1.4096, Validation MAE: 0.8562\n"
     ]
    },
    {
     "name": "stderr",
     "output_type": "stream",
     "text": [
      "Training Epoch 1622: 100%|██████████| 507/507 [00:06<00:00, 82.09it/s]\n",
      "Training Epoch 1623: 100%|██████████| 507/507 [00:06<00:00, 82.90it/s]\n",
      "Training Epoch 1624: 100%|██████████| 507/507 [00:06<00:00, 82.79it/s]\n",
      "Training Epoch 1625: 100%|██████████| 507/507 [00:06<00:00, 82.99it/s]\n",
      "Training Epoch 1626: 100%|██████████| 507/507 [00:06<00:00, 84.12it/s]\n",
      "Training Epoch 1627: 100%|██████████| 507/507 [00:06<00:00, 81.96it/s]\n",
      "Training Epoch 1628: 100%|██████████| 507/507 [00:05<00:00, 84.70it/s]\n",
      "Training Epoch 1629: 100%|██████████| 507/507 [00:06<00:00, 83.41it/s]\n",
      "Training Epoch 1630: 100%|██████████| 507/507 [00:06<00:00, 83.28it/s]\n",
      "Training Epoch 1631: 100%|██████████| 507/507 [00:06<00:00, 82.37it/s]\n"
     ]
    },
    {
     "name": "stdout",
     "output_type": "stream",
     "text": [
      "Epoch 1630 - Train Loss: 0.3275, Train MSE: 0.3274, Train MAE: 0.4221\n",
      "Epoch 1630 - Validation Loss: 1.4133, Validation MSE: 1.4162, Validation MAE: 0.8531\n"
     ]
    },
    {
     "name": "stderr",
     "output_type": "stream",
     "text": [
      "Training Epoch 1632: 100%|██████████| 507/507 [00:06<00:00, 82.43it/s]\n",
      "Training Epoch 1633: 100%|██████████| 507/507 [00:05<00:00, 84.64it/s]\n",
      "Training Epoch 1634: 100%|██████████| 507/507 [00:06<00:00, 83.26it/s]\n",
      "Training Epoch 1635: 100%|██████████| 507/507 [00:06<00:00, 82.76it/s]\n",
      "Training Epoch 1636: 100%|██████████| 507/507 [00:05<00:00, 85.84it/s]\n",
      "Training Epoch 1637: 100%|██████████| 507/507 [00:06<00:00, 81.17it/s]\n",
      "Training Epoch 1638: 100%|██████████| 507/507 [00:06<00:00, 84.23it/s]\n",
      "Training Epoch 1639: 100%|██████████| 507/507 [00:06<00:00, 82.75it/s]\n",
      "Training Epoch 1640: 100%|██████████| 507/507 [00:06<00:00, 81.93it/s]\n",
      "Training Epoch 1641: 100%|██████████| 507/507 [00:06<00:00, 83.48it/s]\n"
     ]
    },
    {
     "name": "stdout",
     "output_type": "stream",
     "text": [
      "Epoch 1640 - Train Loss: 0.3168, Train MSE: 0.3170, Train MAE: 0.4149\n",
      "Epoch 1640 - Validation Loss: 1.4282, Validation MSE: 1.4311, Validation MAE: 0.8587\n"
     ]
    },
    {
     "name": "stderr",
     "output_type": "stream",
     "text": [
      "Training Epoch 1642: 100%|██████████| 507/507 [00:06<00:00, 84.06it/s]\n",
      "Training Epoch 1643: 100%|██████████| 507/507 [00:06<00:00, 83.25it/s]\n",
      "Training Epoch 1644: 100%|██████████| 507/507 [00:06<00:00, 82.92it/s]\n",
      "Training Epoch 1645: 100%|██████████| 507/507 [00:06<00:00, 81.84it/s]\n",
      "Training Epoch 1646: 100%|██████████| 507/507 [00:06<00:00, 83.29it/s]\n",
      "Training Epoch 1647: 100%|██████████| 507/507 [00:06<00:00, 83.60it/s]\n",
      "Training Epoch 1648: 100%|██████████| 507/507 [00:06<00:00, 82.89it/s]\n",
      "Training Epoch 1649: 100%|██████████| 507/507 [00:06<00:00, 83.51it/s]\n",
      "Training Epoch 1650: 100%|██████████| 507/507 [00:05<00:00, 85.37it/s]\n",
      "Training Epoch 1651: 100%|██████████| 507/507 [00:06<00:00, 84.07it/s]\n"
     ]
    },
    {
     "name": "stdout",
     "output_type": "stream",
     "text": [
      "Epoch 1650 - Train Loss: 0.3159, Train MSE: 0.3151, Train MAE: 0.4141\n",
      "Epoch 1650 - Validation Loss: 1.4434, Validation MSE: 1.4472, Validation MAE: 0.8661\n"
     ]
    },
    {
     "name": "stderr",
     "output_type": "stream",
     "text": [
      "Training Epoch 1652: 100%|██████████| 507/507 [00:06<00:00, 83.07it/s]\n",
      "Training Epoch 1653: 100%|██████████| 507/507 [00:05<00:00, 84.56it/s]\n",
      "Training Epoch 1654: 100%|██████████| 507/507 [00:06<00:00, 80.84it/s]\n",
      "Training Epoch 1655: 100%|██████████| 507/507 [00:06<00:00, 84.45it/s]\n",
      "Training Epoch 1656: 100%|██████████| 507/507 [00:05<00:00, 86.10it/s]\n",
      "Training Epoch 1657: 100%|██████████| 507/507 [00:05<00:00, 85.10it/s]\n",
      "Training Epoch 1658: 100%|██████████| 507/507 [00:06<00:00, 83.49it/s]\n",
      "Training Epoch 1659: 100%|██████████| 507/507 [00:06<00:00, 83.49it/s]\n",
      "Training Epoch 1660: 100%|██████████| 507/507 [00:06<00:00, 83.79it/s]\n",
      "Training Epoch 1661: 100%|██████████| 507/507 [00:06<00:00, 84.12it/s]\n"
     ]
    },
    {
     "name": "stdout",
     "output_type": "stream",
     "text": [
      "Epoch 1660 - Train Loss: 0.3212, Train MSE: 0.3210, Train MAE: 0.4199\n",
      "Epoch 1660 - Validation Loss: 1.3879, Validation MSE: 1.3902, Validation MAE: 0.8441\n"
     ]
    },
    {
     "name": "stderr",
     "output_type": "stream",
     "text": [
      "Training Epoch 1662: 100%|██████████| 507/507 [00:06<00:00, 82.84it/s]\n",
      "Training Epoch 1663: 100%|██████████| 507/507 [00:06<00:00, 82.23it/s]\n",
      "Training Epoch 1664: 100%|██████████| 507/507 [00:06<00:00, 82.92it/s]\n",
      "Training Epoch 1665: 100%|██████████| 507/507 [00:06<00:00, 83.58it/s]\n",
      "Training Epoch 1666: 100%|██████████| 507/507 [00:06<00:00, 83.68it/s]\n",
      "Training Epoch 1667: 100%|██████████| 507/507 [00:06<00:00, 81.79it/s]\n",
      "Training Epoch 1668: 100%|██████████| 507/507 [00:06<00:00, 82.42it/s]\n",
      "Training Epoch 1669: 100%|██████████| 507/507 [00:06<00:00, 82.66it/s]\n",
      "Training Epoch 1670: 100%|██████████| 507/507 [00:05<00:00, 85.29it/s]\n",
      "Training Epoch 1671: 100%|██████████| 507/507 [00:06<00:00, 82.66it/s]\n"
     ]
    },
    {
     "name": "stdout",
     "output_type": "stream",
     "text": [
      "Epoch 1670 - Train Loss: 0.3128, Train MSE: 0.3129, Train MAE: 0.4141\n",
      "Epoch 1670 - Validation Loss: 1.4369, Validation MSE: 1.4400, Validation MAE: 0.8596\n"
     ]
    },
    {
     "name": "stderr",
     "output_type": "stream",
     "text": [
      "Training Epoch 1672: 100%|██████████| 507/507 [00:06<00:00, 83.72it/s]\n",
      "Training Epoch 1673: 100%|██████████| 507/507 [00:06<00:00, 83.62it/s]\n",
      "Training Epoch 1674: 100%|██████████| 507/507 [00:06<00:00, 82.51it/s]\n",
      "Training Epoch 1675: 100%|██████████| 507/507 [00:06<00:00, 82.56it/s]\n",
      "Training Epoch 1676: 100%|██████████| 507/507 [00:06<00:00, 82.23it/s]\n",
      "Training Epoch 1677: 100%|██████████| 507/507 [00:06<00:00, 80.86it/s]\n",
      "Training Epoch 1678: 100%|██████████| 507/507 [00:05<00:00, 84.88it/s]\n",
      "Training Epoch 1679: 100%|██████████| 507/507 [00:06<00:00, 81.88it/s]\n",
      "Training Epoch 1680: 100%|██████████| 507/507 [00:06<00:00, 83.16it/s]\n",
      "Training Epoch 1681: 100%|██████████| 507/507 [00:06<00:00, 82.16it/s]\n"
     ]
    },
    {
     "name": "stdout",
     "output_type": "stream",
     "text": [
      "Epoch 1680 - Train Loss: 0.3100, Train MSE: 0.3101, Train MAE: 0.4139\n",
      "Epoch 1680 - Validation Loss: 1.4151, Validation MSE: 1.4181, Validation MAE: 0.8526\n"
     ]
    },
    {
     "name": "stderr",
     "output_type": "stream",
     "text": [
      "Training Epoch 1682: 100%|██████████| 507/507 [00:05<00:00, 85.83it/s]\n",
      "Training Epoch 1683: 100%|██████████| 507/507 [00:05<00:00, 84.62it/s]\n",
      "Training Epoch 1684: 100%|██████████| 507/507 [00:06<00:00, 82.65it/s]\n",
      "Training Epoch 1685: 100%|██████████| 507/507 [00:06<00:00, 83.23it/s]\n",
      "Training Epoch 1686: 100%|██████████| 507/507 [00:06<00:00, 81.27it/s]\n",
      "Training Epoch 1687: 100%|██████████| 507/507 [00:06<00:00, 83.95it/s]\n",
      "Training Epoch 1688: 100%|██████████| 507/507 [00:06<00:00, 83.31it/s]\n",
      "Training Epoch 1689: 100%|██████████| 507/507 [00:06<00:00, 81.64it/s]\n",
      "Training Epoch 1690: 100%|██████████| 507/507 [00:06<00:00, 82.20it/s]\n",
      "Training Epoch 1691: 100%|██████████| 507/507 [00:06<00:00, 81.82it/s]\n"
     ]
    },
    {
     "name": "stdout",
     "output_type": "stream",
     "text": [
      "Epoch 1690 - Train Loss: 0.3078, Train MSE: 0.3077, Train MAE: 0.4102\n",
      "Epoch 1690 - Validation Loss: 1.4113, Validation MSE: 1.4147, Validation MAE: 0.8579\n"
     ]
    },
    {
     "name": "stderr",
     "output_type": "stream",
     "text": [
      "Training Epoch 1692: 100%|██████████| 507/507 [00:06<00:00, 83.80it/s]\n",
      "Training Epoch 1693: 100%|██████████| 507/507 [00:06<00:00, 83.79it/s]\n",
      "Training Epoch 1694: 100%|██████████| 507/507 [00:06<00:00, 81.38it/s]\n",
      "Training Epoch 1695: 100%|██████████| 507/507 [00:06<00:00, 83.06it/s]\n",
      "Training Epoch 1696: 100%|██████████| 507/507 [00:06<00:00, 79.52it/s]\n",
      "Training Epoch 1697: 100%|██████████| 507/507 [00:06<00:00, 82.30it/s]\n",
      "Training Epoch 1698: 100%|██████████| 507/507 [00:06<00:00, 81.75it/s]\n",
      "Training Epoch 1699: 100%|██████████| 507/507 [00:06<00:00, 82.85it/s]\n",
      "Training Epoch 1700: 100%|██████████| 507/507 [00:05<00:00, 84.66it/s]\n",
      "Training Epoch 1701: 100%|██████████| 507/507 [00:06<00:00, 83.80it/s]\n"
     ]
    },
    {
     "name": "stdout",
     "output_type": "stream",
     "text": [
      "Epoch 1700 - Train Loss: 0.3203, Train MSE: 0.3203, Train MAE: 0.4168\n",
      "Epoch 1700 - Validation Loss: 1.4238, Validation MSE: 1.4275, Validation MAE: 0.8582\n"
     ]
    },
    {
     "name": "stderr",
     "output_type": "stream",
     "text": [
      "Training Epoch 1702: 100%|██████████| 507/507 [00:06<00:00, 83.01it/s]\n",
      "Training Epoch 1703: 100%|██████████| 507/507 [00:06<00:00, 82.95it/s]\n",
      "Training Epoch 1704: 100%|██████████| 507/507 [00:06<00:00, 82.41it/s]\n",
      "Training Epoch 1705: 100%|██████████| 507/507 [00:06<00:00, 82.23it/s]\n",
      "Training Epoch 1706: 100%|██████████| 507/507 [00:06<00:00, 81.48it/s]\n",
      "Training Epoch 1707: 100%|██████████| 507/507 [00:06<00:00, 83.98it/s]\n",
      "Training Epoch 1708: 100%|██████████| 507/507 [00:06<00:00, 81.02it/s]\n",
      "Training Epoch 1709: 100%|██████████| 507/507 [00:06<00:00, 83.61it/s]\n",
      "Training Epoch 1710: 100%|██████████| 507/507 [00:06<00:00, 84.27it/s]\n",
      "Training Epoch 1711: 100%|██████████| 507/507 [00:06<00:00, 81.41it/s]\n"
     ]
    },
    {
     "name": "stdout",
     "output_type": "stream",
     "text": [
      "Epoch 1710 - Train Loss: 0.3159, Train MSE: 0.3160, Train MAE: 0.4141\n",
      "Epoch 1710 - Validation Loss: 1.4457, Validation MSE: 1.4490, Validation MAE: 0.8611\n"
     ]
    },
    {
     "name": "stderr",
     "output_type": "stream",
     "text": [
      "Training Epoch 1712: 100%|██████████| 507/507 [00:06<00:00, 83.15it/s]\n",
      "Training Epoch 1713: 100%|██████████| 507/507 [00:06<00:00, 80.89it/s]\n",
      "Training Epoch 1714: 100%|██████████| 507/507 [00:06<00:00, 81.67it/s]\n",
      "Training Epoch 1715: 100%|██████████| 507/507 [00:06<00:00, 81.46it/s]\n",
      "Training Epoch 1716: 100%|██████████| 507/507 [00:06<00:00, 81.12it/s]\n",
      "Training Epoch 1717: 100%|██████████| 507/507 [00:06<00:00, 83.22it/s]\n",
      "Training Epoch 1718: 100%|██████████| 507/507 [00:06<00:00, 81.71it/s]\n",
      "Training Epoch 1719: 100%|██████████| 507/507 [00:06<00:00, 83.89it/s]\n",
      "Training Epoch 1720: 100%|██████████| 507/507 [00:06<00:00, 82.96it/s]\n",
      "Training Epoch 1721: 100%|██████████| 507/507 [00:06<00:00, 83.63it/s]\n"
     ]
    },
    {
     "name": "stdout",
     "output_type": "stream",
     "text": [
      "Epoch 1720 - Train Loss: 0.3098, Train MSE: 0.3095, Train MAE: 0.4132\n",
      "Epoch 1720 - Validation Loss: 1.4251, Validation MSE: 1.4278, Validation MAE: 0.8590\n"
     ]
    },
    {
     "name": "stderr",
     "output_type": "stream",
     "text": [
      "Training Epoch 1722: 100%|██████████| 507/507 [00:05<00:00, 85.60it/s]\n",
      "Training Epoch 1723: 100%|██████████| 507/507 [00:06<00:00, 81.01it/s]\n",
      "Training Epoch 1724: 100%|██████████| 507/507 [00:06<00:00, 80.48it/s]\n",
      "Training Epoch 1725: 100%|██████████| 507/507 [00:06<00:00, 76.47it/s]\n",
      "Training Epoch 1726: 100%|██████████| 507/507 [00:06<00:00, 81.64it/s]\n",
      "Training Epoch 1727: 100%|██████████| 507/507 [00:06<00:00, 83.25it/s]\n",
      "Training Epoch 1728: 100%|██████████| 507/507 [00:06<00:00, 81.19it/s]\n",
      "Training Epoch 1729: 100%|██████████| 507/507 [00:05<00:00, 84.51it/s]\n",
      "Training Epoch 1730: 100%|██████████| 507/507 [00:06<00:00, 80.41it/s]\n",
      "Training Epoch 1731: 100%|██████████| 507/507 [00:06<00:00, 81.61it/s]\n"
     ]
    },
    {
     "name": "stdout",
     "output_type": "stream",
     "text": [
      "Epoch 1730 - Train Loss: 0.3167, Train MSE: 0.3164, Train MAE: 0.4154\n",
      "Epoch 1730 - Validation Loss: 1.3852, Validation MSE: 1.3878, Validation MAE: 0.8447\n"
     ]
    },
    {
     "name": "stderr",
     "output_type": "stream",
     "text": [
      "Training Epoch 1732: 100%|██████████| 507/507 [00:06<00:00, 78.96it/s]\n",
      "Training Epoch 1733: 100%|██████████| 507/507 [00:06<00:00, 78.27it/s]\n",
      "Training Epoch 1734: 100%|██████████| 507/507 [00:06<00:00, 81.33it/s]\n",
      "Training Epoch 1735: 100%|██████████| 507/507 [00:06<00:00, 79.81it/s]\n",
      "Training Epoch 1736: 100%|██████████| 507/507 [00:06<00:00, 81.26it/s]\n",
      "Training Epoch 1737: 100%|██████████| 507/507 [00:06<00:00, 80.05it/s]\n",
      "Training Epoch 1738: 100%|██████████| 507/507 [00:06<00:00, 84.35it/s]\n",
      "Training Epoch 1739: 100%|██████████| 507/507 [00:06<00:00, 83.59it/s]\n",
      "Training Epoch 1740: 100%|██████████| 507/507 [00:06<00:00, 80.41it/s]\n",
      "Training Epoch 1741: 100%|██████████| 507/507 [00:06<00:00, 81.85it/s]\n"
     ]
    },
    {
     "name": "stdout",
     "output_type": "stream",
     "text": [
      "Epoch 1740 - Train Loss: 0.3122, Train MSE: 0.3122, Train MAE: 0.4146\n",
      "Epoch 1740 - Validation Loss: 1.3978, Validation MSE: 1.4012, Validation MAE: 0.8492\n"
     ]
    },
    {
     "name": "stderr",
     "output_type": "stream",
     "text": [
      "Training Epoch 1742: 100%|██████████| 507/507 [00:06<00:00, 82.33it/s]\n",
      "Training Epoch 1743: 100%|██████████| 507/507 [00:06<00:00, 81.31it/s]\n",
      "Training Epoch 1744: 100%|██████████| 507/507 [00:05<00:00, 84.64it/s]\n",
      "Training Epoch 1745: 100%|██████████| 507/507 [00:06<00:00, 82.96it/s]\n",
      "Training Epoch 1746: 100%|██████████| 507/507 [00:06<00:00, 83.83it/s]\n",
      "Training Epoch 1747: 100%|██████████| 507/507 [00:06<00:00, 82.42it/s]\n",
      "Training Epoch 1748: 100%|██████████| 507/507 [00:06<00:00, 82.29it/s]\n",
      "Training Epoch 1749: 100%|██████████| 507/507 [00:06<00:00, 84.34it/s]\n",
      "Training Epoch 1750: 100%|██████████| 507/507 [00:06<00:00, 82.58it/s]\n",
      "Training Epoch 1751: 100%|██████████| 507/507 [00:06<00:00, 81.34it/s]\n"
     ]
    },
    {
     "name": "stdout",
     "output_type": "stream",
     "text": [
      "Epoch 1750 - Train Loss: 0.3094, Train MSE: 0.3092, Train MAE: 0.4139\n",
      "Epoch 1750 - Validation Loss: 1.3998, Validation MSE: 1.4028, Validation MAE: 0.8507\n"
     ]
    },
    {
     "name": "stderr",
     "output_type": "stream",
     "text": [
      "Training Epoch 1752: 100%|██████████| 507/507 [00:06<00:00, 82.54it/s]\n",
      "Training Epoch 1753: 100%|██████████| 507/507 [00:06<00:00, 84.26it/s]\n",
      "Training Epoch 1754: 100%|██████████| 507/507 [00:05<00:00, 84.52it/s]\n",
      "Training Epoch 1755: 100%|██████████| 507/507 [00:06<00:00, 84.05it/s]\n",
      "Training Epoch 1756: 100%|██████████| 507/507 [00:06<00:00, 81.90it/s]\n",
      "Training Epoch 1757: 100%|██████████| 507/507 [00:06<00:00, 80.45it/s]\n",
      "Training Epoch 1758: 100%|██████████| 507/507 [00:06<00:00, 84.03it/s]\n",
      "Training Epoch 1759: 100%|██████████| 507/507 [00:06<00:00, 83.14it/s]\n",
      "Training Epoch 1760: 100%|██████████| 507/507 [00:06<00:00, 83.41it/s]\n",
      "Training Epoch 1761: 100%|██████████| 507/507 [00:06<00:00, 83.73it/s]\n"
     ]
    },
    {
     "name": "stdout",
     "output_type": "stream",
     "text": [
      "Epoch 1760 - Train Loss: 0.3065, Train MSE: 0.3065, Train MAE: 0.4106\n",
      "Epoch 1760 - Validation Loss: 1.3865, Validation MSE: 1.3891, Validation MAE: 0.8470\n"
     ]
    },
    {
     "name": "stderr",
     "output_type": "stream",
     "text": [
      "Training Epoch 1762: 100%|██████████| 507/507 [00:06<00:00, 82.89it/s]\n",
      "Training Epoch 1763: 100%|██████████| 507/507 [00:05<00:00, 84.53it/s]\n",
      "Training Epoch 1764: 100%|██████████| 507/507 [00:06<00:00, 83.47it/s]\n",
      "Training Epoch 1765: 100%|██████████| 507/507 [00:06<00:00, 83.28it/s]\n",
      "Training Epoch 1766: 100%|██████████| 507/507 [00:06<00:00, 83.65it/s]\n",
      "Training Epoch 1767: 100%|██████████| 507/507 [00:06<00:00, 82.10it/s]\n",
      "Training Epoch 1768: 100%|██████████| 507/507 [00:06<00:00, 84.04it/s]\n",
      "Training Epoch 1769: 100%|██████████| 507/507 [00:06<00:00, 83.38it/s]\n",
      "Training Epoch 1770: 100%|██████████| 507/507 [00:06<00:00, 83.16it/s]\n",
      "Training Epoch 1771: 100%|██████████| 507/507 [00:06<00:00, 83.95it/s]\n"
     ]
    },
    {
     "name": "stdout",
     "output_type": "stream",
     "text": [
      "Epoch 1770 - Train Loss: 0.3139, Train MSE: 0.3140, Train MAE: 0.4126\n",
      "Epoch 1770 - Validation Loss: 1.4486, Validation MSE: 1.4521, Validation MAE: 0.8610\n"
     ]
    },
    {
     "name": "stderr",
     "output_type": "stream",
     "text": [
      "Training Epoch 1772: 100%|██████████| 507/507 [00:06<00:00, 79.55it/s]\n",
      "Training Epoch 1773: 100%|██████████| 507/507 [00:06<00:00, 83.33it/s]\n",
      "Training Epoch 1774: 100%|██████████| 507/507 [00:06<00:00, 83.43it/s]\n",
      "Training Epoch 1775: 100%|██████████| 507/507 [00:06<00:00, 83.17it/s]\n",
      "Training Epoch 1776: 100%|██████████| 507/507 [00:05<00:00, 85.28it/s]\n",
      "Training Epoch 1777: 100%|██████████| 507/507 [00:06<00:00, 82.10it/s]\n",
      "Training Epoch 1778: 100%|██████████| 507/507 [00:06<00:00, 82.83it/s]\n",
      "Training Epoch 1779: 100%|██████████| 507/507 [00:06<00:00, 81.56it/s]\n",
      "Training Epoch 1780: 100%|██████████| 507/507 [00:05<00:00, 84.70it/s]\n",
      "Training Epoch 1781: 100%|██████████| 507/507 [00:06<00:00, 83.76it/s]\n"
     ]
    },
    {
     "name": "stdout",
     "output_type": "stream",
     "text": [
      "Epoch 1780 - Train Loss: 0.3068, Train MSE: 0.3066, Train MAE: 0.4103\n",
      "Epoch 1780 - Validation Loss: 1.4076, Validation MSE: 1.4098, Validation MAE: 0.8526\n"
     ]
    },
    {
     "name": "stderr",
     "output_type": "stream",
     "text": [
      "Training Epoch 1782: 100%|██████████| 507/507 [00:06<00:00, 83.78it/s]\n",
      "Training Epoch 1783: 100%|██████████| 507/507 [00:06<00:00, 82.53it/s]\n",
      "Training Epoch 1784: 100%|██████████| 507/507 [00:06<00:00, 81.75it/s]\n",
      "Training Epoch 1785: 100%|██████████| 507/507 [00:06<00:00, 81.55it/s]\n",
      "Training Epoch 1786: 100%|██████████| 507/507 [00:06<00:00, 82.97it/s]\n",
      "Training Epoch 1787: 100%|██████████| 507/507 [00:06<00:00, 83.27it/s]\n",
      "Training Epoch 1788: 100%|██████████| 507/507 [00:06<00:00, 83.20it/s]\n",
      "Training Epoch 1789: 100%|██████████| 507/507 [00:06<00:00, 83.78it/s]\n",
      "Training Epoch 1790: 100%|██████████| 507/507 [00:05<00:00, 86.58it/s]\n",
      "Training Epoch 1791: 100%|██████████| 507/507 [00:06<00:00, 81.96it/s]\n"
     ]
    },
    {
     "name": "stdout",
     "output_type": "stream",
     "text": [
      "Epoch 1790 - Train Loss: 0.3082, Train MSE: 0.3082, Train MAE: 0.4102\n",
      "Epoch 1790 - Validation Loss: 1.4094, Validation MSE: 1.4121, Validation MAE: 0.8526\n"
     ]
    },
    {
     "name": "stderr",
     "output_type": "stream",
     "text": [
      "Training Epoch 1792: 100%|██████████| 507/507 [00:06<00:00, 79.93it/s]\n",
      "Training Epoch 1793: 100%|██████████| 507/507 [00:06<00:00, 82.13it/s]\n",
      "Training Epoch 1794: 100%|██████████| 507/507 [00:06<00:00, 82.84it/s]\n",
      "Training Epoch 1795: 100%|██████████| 507/507 [00:06<00:00, 83.35it/s]\n",
      "Training Epoch 1796: 100%|██████████| 507/507 [00:06<00:00, 83.28it/s]\n",
      "Training Epoch 1797: 100%|██████████| 507/507 [00:06<00:00, 82.42it/s]\n",
      "Training Epoch 1798: 100%|██████████| 507/507 [00:06<00:00, 83.56it/s]\n",
      "Training Epoch 1799: 100%|██████████| 507/507 [00:06<00:00, 82.85it/s]\n",
      "Training Epoch 1800: 100%|██████████| 507/507 [00:06<00:00, 82.75it/s]\n",
      "Training Epoch 1801: 100%|██████████| 507/507 [00:06<00:00, 83.35it/s]\n"
     ]
    },
    {
     "name": "stdout",
     "output_type": "stream",
     "text": [
      "Epoch 1800 - Train Loss: 0.3110, Train MSE: 0.3111, Train MAE: 0.4111\n",
      "Epoch 1800 - Validation Loss: 1.4171, Validation MSE: 1.4195, Validation MAE: 0.8554\n"
     ]
    },
    {
     "name": "stderr",
     "output_type": "stream",
     "text": [
      "Training Epoch 1802: 100%|██████████| 507/507 [00:06<00:00, 82.24it/s]\n",
      "Training Epoch 1803: 100%|██████████| 507/507 [00:06<00:00, 83.47it/s]\n",
      "Training Epoch 1804: 100%|██████████| 507/507 [00:06<00:00, 81.99it/s]\n",
      "Training Epoch 1805: 100%|██████████| 507/507 [00:06<00:00, 84.20it/s]\n",
      "Training Epoch 1806: 100%|██████████| 507/507 [00:06<00:00, 84.33it/s]\n",
      "Training Epoch 1807: 100%|██████████| 507/507 [00:06<00:00, 81.58it/s]\n",
      "Training Epoch 1808: 100%|██████████| 507/507 [00:06<00:00, 82.98it/s]\n",
      "Training Epoch 1809: 100%|██████████| 507/507 [00:06<00:00, 81.86it/s]\n",
      "Training Epoch 1810: 100%|██████████| 507/507 [00:05<00:00, 85.93it/s]\n",
      "Training Epoch 1811: 100%|██████████| 507/507 [00:06<00:00, 81.87it/s]\n"
     ]
    },
    {
     "name": "stdout",
     "output_type": "stream",
     "text": [
      "Epoch 1810 - Train Loss: 0.3044, Train MSE: 0.3046, Train MAE: 0.4099\n",
      "Epoch 1810 - Validation Loss: 1.4078, Validation MSE: 1.4095, Validation MAE: 0.8552\n"
     ]
    },
    {
     "name": "stderr",
     "output_type": "stream",
     "text": [
      "Training Epoch 1812: 100%|██████████| 507/507 [00:06<00:00, 83.28it/s]\n",
      "Training Epoch 1813: 100%|██████████| 507/507 [00:06<00:00, 82.30it/s]\n",
      "Training Epoch 1814: 100%|██████████| 507/507 [00:06<00:00, 81.99it/s]\n",
      "Training Epoch 1815: 100%|██████████| 507/507 [00:06<00:00, 81.81it/s]\n",
      "Training Epoch 1816: 100%|██████████| 507/507 [00:06<00:00, 82.88it/s]\n",
      "Training Epoch 1817: 100%|██████████| 507/507 [00:06<00:00, 83.70it/s]\n",
      "Training Epoch 1818: 100%|██████████| 507/507 [00:06<00:00, 83.76it/s]\n",
      "Training Epoch 1819: 100%|██████████| 507/507 [00:06<00:00, 82.75it/s]\n",
      "Training Epoch 1820: 100%|██████████| 507/507 [00:06<00:00, 83.22it/s]\n",
      "Training Epoch 1821: 100%|██████████| 507/507 [00:06<00:00, 83.17it/s]\n"
     ]
    },
    {
     "name": "stdout",
     "output_type": "stream",
     "text": [
      "Epoch 1820 - Train Loss: 0.3140, Train MSE: 0.3137, Train MAE: 0.4136\n",
      "Epoch 1820 - Validation Loss: 1.4016, Validation MSE: 1.4043, Validation MAE: 0.8495\n"
     ]
    },
    {
     "name": "stderr",
     "output_type": "stream",
     "text": [
      "Training Epoch 1822: 100%|██████████| 507/507 [00:05<00:00, 84.54it/s]\n",
      "Training Epoch 1823: 100%|██████████| 507/507 [00:06<00:00, 82.98it/s]\n",
      "Training Epoch 1824: 100%|██████████| 507/507 [00:06<00:00, 82.55it/s]\n",
      "Training Epoch 1825: 100%|██████████| 507/507 [00:06<00:00, 83.35it/s]\n",
      "Training Epoch 1826: 100%|██████████| 507/507 [00:06<00:00, 82.53it/s]\n",
      "Training Epoch 1827: 100%|██████████| 507/507 [00:06<00:00, 82.80it/s]\n",
      "Training Epoch 1828: 100%|██████████| 507/507 [00:06<00:00, 84.10it/s]\n",
      "Training Epoch 1829: 100%|██████████| 507/507 [00:06<00:00, 83.46it/s]\n",
      "Training Epoch 1830: 100%|██████████| 507/507 [00:06<00:00, 83.61it/s]\n",
      "Training Epoch 1831: 100%|██████████| 507/507 [00:06<00:00, 81.62it/s]\n"
     ]
    },
    {
     "name": "stdout",
     "output_type": "stream",
     "text": [
      "Epoch 1830 - Train Loss: 0.3113, Train MSE: 0.3112, Train MAE: 0.4094\n",
      "Epoch 1830 - Validation Loss: 1.4167, Validation MSE: 1.4192, Validation MAE: 0.8559\n"
     ]
    },
    {
     "name": "stderr",
     "output_type": "stream",
     "text": [
      "Training Epoch 1832: 100%|██████████| 507/507 [00:06<00:00, 82.56it/s]\n",
      "Training Epoch 1833: 100%|██████████| 507/507 [00:06<00:00, 83.88it/s]\n",
      "Training Epoch 1834: 100%|██████████| 507/507 [00:06<00:00, 80.46it/s]\n",
      "Training Epoch 1835: 100%|██████████| 507/507 [00:06<00:00, 82.35it/s]\n",
      "Training Epoch 1836: 100%|██████████| 507/507 [00:06<00:00, 83.22it/s]\n",
      "Training Epoch 1837: 100%|██████████| 507/507 [00:06<00:00, 83.56it/s]\n",
      "Training Epoch 1838: 100%|██████████| 507/507 [00:06<00:00, 83.13it/s]\n",
      "Training Epoch 1839: 100%|██████████| 507/507 [00:06<00:00, 81.30it/s]\n",
      "Training Epoch 1840: 100%|██████████| 507/507 [00:06<00:00, 84.45it/s]\n",
      "Training Epoch 1841: 100%|██████████| 507/507 [00:06<00:00, 82.85it/s]\n"
     ]
    },
    {
     "name": "stdout",
     "output_type": "stream",
     "text": [
      "Epoch 1840 - Train Loss: 0.3040, Train MSE: 0.3042, Train MAE: 0.4090\n",
      "Epoch 1840 - Validation Loss: 1.4179, Validation MSE: 1.4203, Validation MAE: 0.8580\n"
     ]
    },
    {
     "name": "stderr",
     "output_type": "stream",
     "text": [
      "Training Epoch 1842: 100%|██████████| 507/507 [00:06<00:00, 82.10it/s]\n",
      "Training Epoch 1843: 100%|██████████| 507/507 [00:06<00:00, 83.56it/s]\n",
      "Training Epoch 1844: 100%|██████████| 507/507 [00:06<00:00, 82.28it/s]\n",
      "Training Epoch 1845: 100%|██████████| 507/507 [00:05<00:00, 85.04it/s]\n",
      "Training Epoch 1846: 100%|██████████| 507/507 [00:06<00:00, 80.64it/s]\n",
      "Training Epoch 1847: 100%|██████████| 507/507 [00:05<00:00, 93.65it/s] \n",
      "Training Epoch 1848: 100%|██████████| 507/507 [00:05<00:00, 94.57it/s] \n",
      "Training Epoch 1849: 100%|██████████| 507/507 [00:05<00:00, 93.28it/s] \n",
      "Training Epoch 1850: 100%|██████████| 507/507 [00:05<00:00, 94.44it/s]\n",
      "Training Epoch 1851: 100%|██████████| 507/507 [00:05<00:00, 88.06it/s]\n"
     ]
    },
    {
     "name": "stdout",
     "output_type": "stream",
     "text": [
      "Epoch 1850 - Train Loss: 0.3112, Train MSE: 0.3111, Train MAE: 0.4108\n",
      "Epoch 1850 - Validation Loss: 1.4272, Validation MSE: 1.4305, Validation MAE: 0.8561\n"
     ]
    },
    {
     "name": "stderr",
     "output_type": "stream",
     "text": [
      "Training Epoch 1852: 100%|██████████| 507/507 [00:05<00:00, 92.92it/s] \n",
      "Training Epoch 1853: 100%|██████████| 507/507 [00:05<00:00, 90.30it/s]\n",
      "Training Epoch 1854: 100%|██████████| 507/507 [00:05<00:00, 91.51it/s] \n",
      "Training Epoch 1855: 100%|██████████| 507/507 [00:05<00:00, 97.92it/s] \n",
      "Training Epoch 1856: 100%|██████████| 507/507 [00:05<00:00, 94.80it/s] \n",
      "Training Epoch 1857: 100%|██████████| 507/507 [00:05<00:00, 93.65it/s] \n",
      "Training Epoch 1858: 100%|██████████| 507/507 [00:05<00:00, 94.98it/s]\n",
      "Training Epoch 1859: 100%|██████████| 507/507 [00:05<00:00, 95.58it/s] \n",
      "Training Epoch 1860: 100%|██████████| 507/507 [00:05<00:00, 94.56it/s] \n",
      "Training Epoch 1861: 100%|██████████| 507/507 [00:05<00:00, 95.76it/s] \n"
     ]
    },
    {
     "name": "stdout",
     "output_type": "stream",
     "text": [
      "Epoch 1860 - Train Loss: 0.3074, Train MSE: 0.3067, Train MAE: 0.4107\n",
      "Epoch 1860 - Validation Loss: 1.3970, Validation MSE: 1.3987, Validation MAE: 0.8491\n"
     ]
    },
    {
     "name": "stderr",
     "output_type": "stream",
     "text": [
      "Training Epoch 1862: 100%|██████████| 507/507 [00:05<00:00, 94.80it/s]\n",
      "Training Epoch 1863: 100%|██████████| 507/507 [00:05<00:00, 95.10it/s] \n",
      "Training Epoch 1864: 100%|██████████| 507/507 [00:05<00:00, 94.43it/s] \n",
      "Training Epoch 1865: 100%|██████████| 507/507 [00:05<00:00, 93.98it/s] \n",
      "Training Epoch 1866: 100%|██████████| 507/507 [00:05<00:00, 96.75it/s] \n",
      "Training Epoch 1867: 100%|██████████| 507/507 [00:05<00:00, 95.43it/s] \n",
      "Training Epoch 1868: 100%|██████████| 507/507 [00:05<00:00, 93.46it/s] \n",
      "Training Epoch 1869: 100%|██████████| 507/507 [00:05<00:00, 95.82it/s] \n",
      "Training Epoch 1870: 100%|██████████| 507/507 [00:05<00:00, 95.40it/s] \n",
      "Training Epoch 1871: 100%|██████████| 507/507 [00:05<00:00, 93.49it/s] \n"
     ]
    },
    {
     "name": "stdout",
     "output_type": "stream",
     "text": [
      "Epoch 1870 - Train Loss: 0.3137, Train MSE: 0.3134, Train MAE: 0.4152\n",
      "Epoch 1870 - Validation Loss: 1.4144, Validation MSE: 1.4174, Validation MAE: 0.8523\n"
     ]
    },
    {
     "name": "stderr",
     "output_type": "stream",
     "text": [
      "Training Epoch 1872: 100%|██████████| 507/507 [00:05<00:00, 97.99it/s] \n",
      "Training Epoch 1873: 100%|██████████| 507/507 [00:05<00:00, 95.95it/s] \n",
      "Training Epoch 1874: 100%|██████████| 507/507 [00:05<00:00, 94.76it/s] \n",
      "Training Epoch 1875: 100%|██████████| 507/507 [00:05<00:00, 95.78it/s] \n",
      "Training Epoch 1876: 100%|██████████| 507/507 [00:05<00:00, 96.71it/s] \n",
      "Training Epoch 1877: 100%|██████████| 507/507 [00:05<00:00, 96.05it/s] \n",
      "Training Epoch 1878: 100%|██████████| 507/507 [00:05<00:00, 96.85it/s] \n",
      "Training Epoch 1879: 100%|██████████| 507/507 [00:05<00:00, 96.93it/s] \n",
      "Training Epoch 1880: 100%|██████████| 507/507 [00:05<00:00, 94.73it/s] \n",
      "Training Epoch 1881: 100%|██████████| 507/507 [00:05<00:00, 95.65it/s] \n"
     ]
    },
    {
     "name": "stdout",
     "output_type": "stream",
     "text": [
      "Epoch 1880 - Train Loss: 0.2972, Train MSE: 0.2972, Train MAE: 0.4060\n",
      "Epoch 1880 - Validation Loss: 1.4214, Validation MSE: 1.4233, Validation MAE: 0.8561\n"
     ]
    },
    {
     "name": "stderr",
     "output_type": "stream",
     "text": [
      "Training Epoch 1882: 100%|██████████| 507/507 [00:05<00:00, 95.52it/s] \n",
      "Training Epoch 1883: 100%|██████████| 507/507 [00:05<00:00, 97.45it/s] \n",
      "Training Epoch 1884: 100%|██████████| 507/507 [00:05<00:00, 95.48it/s] \n",
      "Training Epoch 1885: 100%|██████████| 507/507 [00:05<00:00, 92.57it/s] \n",
      "Training Epoch 1886: 100%|██████████| 507/507 [00:05<00:00, 98.23it/s] \n",
      "Training Epoch 1887: 100%|██████████| 507/507 [00:05<00:00, 97.73it/s] \n",
      "Training Epoch 1888: 100%|██████████| 507/507 [00:05<00:00, 95.24it/s] \n",
      "Training Epoch 1889: 100%|██████████| 507/507 [00:05<00:00, 97.27it/s] \n",
      "Training Epoch 1890: 100%|██████████| 507/507 [00:05<00:00, 97.30it/s] \n",
      "Training Epoch 1891: 100%|██████████| 507/507 [00:05<00:00, 94.89it/s] \n"
     ]
    },
    {
     "name": "stdout",
     "output_type": "stream",
     "text": [
      "Epoch 1890 - Train Loss: 0.3040, Train MSE: 0.3041, Train MAE: 0.4062\n",
      "Epoch 1890 - Validation Loss: 1.4375, Validation MSE: 1.4408, Validation MAE: 0.8603\n"
     ]
    },
    {
     "name": "stderr",
     "output_type": "stream",
     "text": [
      "Training Epoch 1892: 100%|██████████| 507/507 [00:05<00:00, 97.24it/s] \n",
      "Training Epoch 1893: 100%|██████████| 507/507 [00:05<00:00, 96.63it/s] \n",
      "Training Epoch 1894: 100%|██████████| 507/507 [00:05<00:00, 93.54it/s]\n",
      "Training Epoch 1895: 100%|██████████| 507/507 [00:05<00:00, 96.27it/s] \n",
      "Training Epoch 1896: 100%|██████████| 507/507 [00:05<00:00, 95.53it/s] \n",
      "Training Epoch 1897: 100%|██████████| 507/507 [00:05<00:00, 94.75it/s] \n",
      "Training Epoch 1898: 100%|██████████| 507/507 [00:05<00:00, 97.87it/s] \n",
      "Training Epoch 1899: 100%|██████████| 507/507 [00:05<00:00, 97.40it/s] \n",
      "Training Epoch 1900: 100%|██████████| 507/507 [00:05<00:00, 95.42it/s] \n",
      "Training Epoch 1901: 100%|██████████| 507/507 [00:05<00:00, 99.19it/s] \n"
     ]
    },
    {
     "name": "stdout",
     "output_type": "stream",
     "text": [
      "Epoch 1900 - Train Loss: 0.3070, Train MSE: 0.3068, Train MAE: 0.4076\n",
      "Epoch 1900 - Validation Loss: 1.4256, Validation MSE: 1.4279, Validation MAE: 0.8546\n"
     ]
    },
    {
     "name": "stderr",
     "output_type": "stream",
     "text": [
      "Training Epoch 1902: 100%|██████████| 507/507 [00:05<00:00, 95.36it/s] \n",
      "Training Epoch 1903: 100%|██████████| 507/507 [00:05<00:00, 95.95it/s] \n",
      "Training Epoch 1904: 100%|██████████| 507/507 [00:05<00:00, 96.64it/s] \n",
      "Training Epoch 1905: 100%|██████████| 507/507 [00:05<00:00, 94.00it/s] \n",
      "Training Epoch 1906: 100%|██████████| 507/507 [00:05<00:00, 97.65it/s] \n",
      "Training Epoch 1907: 100%|██████████| 507/507 [00:05<00:00, 97.40it/s] \n",
      "Training Epoch 1908: 100%|██████████| 507/507 [00:05<00:00, 94.94it/s] \n",
      "Training Epoch 1909: 100%|██████████| 507/507 [00:05<00:00, 96.91it/s] \n",
      "Training Epoch 1910: 100%|██████████| 507/507 [00:05<00:00, 96.89it/s] \n",
      "Training Epoch 1911: 100%|██████████| 507/507 [00:05<00:00, 96.21it/s] \n"
     ]
    },
    {
     "name": "stdout",
     "output_type": "stream",
     "text": [
      "Epoch 1910 - Train Loss: 0.3102, Train MSE: 0.3105, Train MAE: 0.4120\n",
      "Epoch 1910 - Validation Loss: 1.4201, Validation MSE: 1.4227, Validation MAE: 0.8517\n"
     ]
    },
    {
     "name": "stderr",
     "output_type": "stream",
     "text": [
      "Training Epoch 1912: 100%|██████████| 507/507 [00:05<00:00, 95.95it/s] \n",
      "Training Epoch 1913: 100%|██████████| 507/507 [00:05<00:00, 97.05it/s] \n",
      "Training Epoch 1914: 100%|██████████| 507/507 [00:05<00:00, 96.61it/s] \n",
      "Training Epoch 1915: 100%|██████████| 507/507 [00:05<00:00, 97.69it/s] \n",
      "Training Epoch 1916: 100%|██████████| 507/507 [00:05<00:00, 95.11it/s] \n",
      "Training Epoch 1917: 100%|██████████| 507/507 [00:05<00:00, 93.89it/s] \n",
      "Training Epoch 1918: 100%|██████████| 507/507 [00:05<00:00, 96.63it/s] \n",
      "Training Epoch 1919: 100%|██████████| 507/507 [00:05<00:00, 95.96it/s] \n",
      "Training Epoch 1920: 100%|██████████| 507/507 [00:05<00:00, 101.31it/s]\n",
      "Training Epoch 1921: 100%|██████████| 507/507 [00:05<00:00, 97.92it/s] \n"
     ]
    },
    {
     "name": "stdout",
     "output_type": "stream",
     "text": [
      "Epoch 1920 - Train Loss: 0.3082, Train MSE: 0.3082, Train MAE: 0.4095\n",
      "Epoch 1920 - Validation Loss: 1.4214, Validation MSE: 1.4239, Validation MAE: 0.8507\n"
     ]
    },
    {
     "name": "stderr",
     "output_type": "stream",
     "text": [
      "Training Epoch 1922: 100%|██████████| 507/507 [00:05<00:00, 93.40it/s]\n",
      "Training Epoch 1923: 100%|██████████| 507/507 [00:05<00:00, 91.42it/s] \n",
      "Training Epoch 1924: 100%|██████████| 507/507 [00:05<00:00, 96.99it/s] \n",
      "Training Epoch 1925: 100%|██████████| 507/507 [00:05<00:00, 95.86it/s] \n",
      "Training Epoch 1926: 100%|██████████| 507/507 [00:05<00:00, 98.53it/s] \n",
      "Training Epoch 1927: 100%|██████████| 507/507 [00:05<00:00, 98.13it/s] \n",
      "Training Epoch 1928: 100%|██████████| 507/507 [00:05<00:00, 90.48it/s] \n",
      "Training Epoch 1929: 100%|██████████| 507/507 [00:05<00:00, 95.75it/s] \n",
      "Training Epoch 1930: 100%|██████████| 507/507 [00:05<00:00, 96.01it/s] \n",
      "Training Epoch 1931: 100%|██████████| 507/507 [00:05<00:00, 92.52it/s] \n"
     ]
    },
    {
     "name": "stdout",
     "output_type": "stream",
     "text": [
      "Epoch 1930 - Train Loss: 0.2993, Train MSE: 0.2994, Train MAE: 0.4041\n",
      "Epoch 1930 - Validation Loss: 1.3901, Validation MSE: 1.3921, Validation MAE: 0.8497\n"
     ]
    },
    {
     "name": "stderr",
     "output_type": "stream",
     "text": [
      "Training Epoch 1932: 100%|██████████| 507/507 [00:05<00:00, 96.17it/s] \n",
      "Training Epoch 1933: 100%|██████████| 507/507 [00:05<00:00, 95.62it/s] \n",
      "Training Epoch 1934: 100%|██████████| 507/507 [00:05<00:00, 95.55it/s] \n",
      "Training Epoch 1935: 100%|██████████| 507/507 [00:05<00:00, 97.79it/s] \n",
      "Training Epoch 1936: 100%|██████████| 507/507 [00:05<00:00, 97.87it/s] \n",
      "Training Epoch 1937: 100%|██████████| 507/507 [00:05<00:00, 94.70it/s] \n",
      "Training Epoch 1938: 100%|██████████| 507/507 [00:05<00:00, 95.95it/s] \n",
      "Training Epoch 1939: 100%|██████████| 507/507 [00:05<00:00, 94.61it/s] \n",
      "Training Epoch 1940: 100%|██████████| 507/507 [00:05<00:00, 97.18it/s] \n",
      "Training Epoch 1941: 100%|██████████| 507/507 [00:05<00:00, 97.16it/s] \n"
     ]
    },
    {
     "name": "stdout",
     "output_type": "stream",
     "text": [
      "Epoch 1940 - Train Loss: 0.2934, Train MSE: 0.2936, Train MAE: 0.4016\n",
      "Epoch 1940 - Validation Loss: 1.3952, Validation MSE: 1.3984, Validation MAE: 0.8520\n"
     ]
    },
    {
     "name": "stderr",
     "output_type": "stream",
     "text": [
      "Training Epoch 1942: 100%|██████████| 507/507 [00:05<00:00, 94.65it/s]\n",
      "Training Epoch 1943: 100%|██████████| 507/507 [00:05<00:00, 98.39it/s] \n",
      "Training Epoch 1944: 100%|██████████| 507/507 [00:05<00:00, 97.15it/s] \n",
      "Training Epoch 1945: 100%|██████████| 507/507 [00:05<00:00, 96.33it/s] \n",
      "Training Epoch 1946: 100%|██████████| 507/507 [00:05<00:00, 96.71it/s] \n",
      "Training Epoch 1947: 100%|██████████| 507/507 [00:05<00:00, 98.13it/s] \n",
      "Training Epoch 1948: 100%|██████████| 507/507 [00:05<00:00, 95.81it/s] \n",
      "Training Epoch 1949: 100%|██████████| 507/507 [00:05<00:00, 95.60it/s] \n",
      "Training Epoch 1950: 100%|██████████| 507/507 [00:05<00:00, 95.92it/s] \n",
      "Training Epoch 1951: 100%|██████████| 507/507 [00:05<00:00, 94.22it/s] \n"
     ]
    },
    {
     "name": "stdout",
     "output_type": "stream",
     "text": [
      "Epoch 1950 - Train Loss: 0.3021, Train MSE: 0.3023, Train MAE: 0.4058\n",
      "Epoch 1950 - Validation Loss: 1.4165, Validation MSE: 1.4197, Validation MAE: 0.8559\n"
     ]
    },
    {
     "name": "stderr",
     "output_type": "stream",
     "text": [
      "Training Epoch 1952: 100%|██████████| 507/507 [00:05<00:00, 98.30it/s] \n",
      "Training Epoch 1953: 100%|██████████| 507/507 [00:05<00:00, 96.28it/s] \n",
      "Training Epoch 1954: 100%|██████████| 507/507 [00:05<00:00, 95.09it/s] \n",
      "Training Epoch 1955: 100%|██████████| 507/507 [00:05<00:00, 97.47it/s] \n",
      "Training Epoch 1956: 100%|██████████| 507/507 [00:05<00:00, 97.32it/s] \n",
      "Training Epoch 1957: 100%|██████████| 507/507 [00:05<00:00, 99.56it/s] \n",
      "Training Epoch 1958: 100%|██████████| 507/507 [00:05<00:00, 97.79it/s] \n",
      "Training Epoch 1959: 100%|██████████| 507/507 [00:05<00:00, 95.77it/s] \n",
      "Training Epoch 1960: 100%|██████████| 507/507 [00:05<00:00, 95.20it/s] \n",
      "Training Epoch 1961: 100%|██████████| 507/507 [00:05<00:00, 98.67it/s] \n"
     ]
    },
    {
     "name": "stdout",
     "output_type": "stream",
     "text": [
      "Epoch 1960 - Train Loss: 0.3020, Train MSE: 0.3019, Train MAE: 0.4063\n",
      "Epoch 1960 - Validation Loss: 1.3785, Validation MSE: 1.3808, Validation MAE: 0.8374\n"
     ]
    },
    {
     "name": "stderr",
     "output_type": "stream",
     "text": [
      "Training Epoch 1962: 100%|██████████| 507/507 [00:05<00:00, 93.00it/s] \n",
      "Training Epoch 1963: 100%|██████████| 507/507 [00:05<00:00, 96.39it/s] \n",
      "Training Epoch 1964: 100%|██████████| 507/507 [00:05<00:00, 98.00it/s] \n",
      "Training Epoch 1965: 100%|██████████| 507/507 [00:05<00:00, 99.41it/s] \n",
      "Training Epoch 1966: 100%|██████████| 507/507 [00:05<00:00, 95.83it/s] \n",
      "Training Epoch 1967: 100%|██████████| 507/507 [00:05<00:00, 96.32it/s] \n",
      "Training Epoch 1968: 100%|██████████| 507/507 [00:05<00:00, 94.29it/s] \n",
      "Training Epoch 1969: 100%|██████████| 507/507 [00:05<00:00, 95.21it/s] \n",
      "Training Epoch 1970: 100%|██████████| 507/507 [00:05<00:00, 94.84it/s] \n",
      "Training Epoch 1971: 100%|██████████| 507/507 [00:05<00:00, 93.72it/s] \n"
     ]
    },
    {
     "name": "stdout",
     "output_type": "stream",
     "text": [
      "Epoch 1970 - Train Loss: 0.3026, Train MSE: 0.3025, Train MAE: 0.4055\n",
      "Epoch 1970 - Validation Loss: 1.4117, Validation MSE: 1.4146, Validation MAE: 0.8564\n"
     ]
    },
    {
     "name": "stderr",
     "output_type": "stream",
     "text": [
      "Training Epoch 1972: 100%|██████████| 507/507 [00:04<00:00, 111.40it/s]\n",
      "Training Epoch 1973: 100%|██████████| 507/507 [00:04<00:00, 110.89it/s]\n",
      "Training Epoch 1974: 100%|██████████| 507/507 [00:04<00:00, 111.89it/s]\n",
      "Training Epoch 1975: 100%|██████████| 507/507 [00:04<00:00, 113.04it/s]\n",
      "Training Epoch 1976: 100%|██████████| 507/507 [00:04<00:00, 111.49it/s]\n",
      "Training Epoch 1977: 100%|██████████| 507/507 [00:04<00:00, 109.97it/s]\n",
      "Training Epoch 1978: 100%|██████████| 507/507 [00:04<00:00, 108.58it/s]\n",
      "Training Epoch 1979: 100%|██████████| 507/507 [00:04<00:00, 113.72it/s]\n",
      "Training Epoch 1980: 100%|██████████| 507/507 [00:04<00:00, 111.39it/s]\n",
      "Training Epoch 1981: 100%|██████████| 507/507 [00:04<00:00, 110.04it/s]\n"
     ]
    },
    {
     "name": "stdout",
     "output_type": "stream",
     "text": [
      "Epoch 1980 - Train Loss: 0.3080, Train MSE: 0.3071, Train MAE: 0.4081\n",
      "Epoch 1980 - Validation Loss: 1.4260, Validation MSE: 1.4286, Validation MAE: 0.8551\n"
     ]
    },
    {
     "name": "stderr",
     "output_type": "stream",
     "text": [
      "Training Epoch 1982: 100%|██████████| 507/507 [00:04<00:00, 112.51it/s]\n",
      "Training Epoch 1983: 100%|██████████| 507/507 [00:04<00:00, 107.49it/s]\n",
      "Training Epoch 1984: 100%|██████████| 507/507 [00:04<00:00, 108.55it/s]\n",
      "Training Epoch 1985: 100%|██████████| 507/507 [00:04<00:00, 110.39it/s]\n",
      "Training Epoch 1986: 100%|██████████| 507/507 [00:04<00:00, 111.43it/s]\n",
      "Training Epoch 1987: 100%|██████████| 507/507 [00:04<00:00, 109.11it/s]\n",
      "Training Epoch 1988: 100%|██████████| 507/507 [00:04<00:00, 109.93it/s]\n",
      "Training Epoch 1989: 100%|██████████| 507/507 [00:04<00:00, 109.29it/s]\n",
      "Training Epoch 1990: 100%|██████████| 507/507 [00:04<00:00, 109.80it/s]\n",
      "Training Epoch 1991: 100%|██████████| 507/507 [00:04<00:00, 112.68it/s]\n"
     ]
    },
    {
     "name": "stdout",
     "output_type": "stream",
     "text": [
      "Epoch 1990 - Train Loss: 0.2985, Train MSE: 0.2985, Train MAE: 0.4044\n",
      "Epoch 1990 - Validation Loss: 1.3995, Validation MSE: 1.4022, Validation MAE: 0.8475\n"
     ]
    },
    {
     "name": "stderr",
     "output_type": "stream",
     "text": [
      "Training Epoch 1992: 100%|██████████| 507/507 [00:04<00:00, 111.54it/s]\n",
      "Training Epoch 1993: 100%|██████████| 507/507 [00:04<00:00, 109.76it/s]\n",
      "Training Epoch 1994: 100%|██████████| 507/507 [00:04<00:00, 110.60it/s]\n",
      "Training Epoch 1995: 100%|██████████| 507/507 [00:04<00:00, 107.89it/s]\n",
      "Training Epoch 1996: 100%|██████████| 507/507 [00:04<00:00, 112.82it/s]\n",
      "Training Epoch 1997: 100%|██████████| 507/507 [00:04<00:00, 109.53it/s]\n",
      "Training Epoch 1998: 100%|██████████| 507/507 [00:04<00:00, 112.53it/s]\n",
      "Training Epoch 1999: 100%|██████████| 507/507 [00:04<00:00, 109.71it/s]\n",
      "Training Epoch 2000: 100%|██████████| 507/507 [00:04<00:00, 109.66it/s]\n"
     ]
    },
    {
     "name": "stdout",
     "output_type": "stream",
     "text": [
      "Test MSE: 1.3339, Test MAE: 0.8139\n"
     ]
    }
   ],
   "source": [
    "import torch\n",
    "import torch.nn as nn\n",
    "import torch.optim as optim\n",
    "from tqdm import tqdm\n",
    "import pandas as pd\n",
    "from sklearn.metrics import r2_score, median_absolute_error, explained_variance_score\n",
    "from scipy.stats import pearsonr\n",
    "\n",
    "train_history = pd.DataFrame(columns=[ 'epoch',\n",
    "    'Train Loss', 'Train MSE', 'Train MAE', 'Train RMSE', 'Train R2', 'Train Pearson', 'Train Median_AE', 'Train Explained_VAR'\n",
    "    'Val Loss', 'Val MSE', 'Val MAE', 'Val RMSE', 'Val R2', 'Val Pearson', 'Val Median_AE', 'Val Explained_VAR'])\n",
    "# Verify feature dimensions\n",
    "for batch in train_loader:\n",
    "    mol_input_dim = batch['metabolite_features'].shape[1]  # Dynamically determine mol input dimension\n",
    "    protein_input_dim = batch['protein_features'].shape[1]  # Dynamically determine protein input dimension\n",
    "    break\n",
    "\n",
    "# Initialize model, optimizer, and loss function\n",
    "num_timesteps = 10\n",
    "model = DiffusionGenerativeModel(mol_input_dim=mol_input_dim, protein_input_dim=protein_input_dim, hidden_dim=512, num_timesteps=num_timesteps)\n",
    "model = model.to(device)\n",
    "optimizer = optim.Adam(model.parameters(), lr=0.0001)\n",
    "criterion = nn.MSELoss()\n",
    "\n",
    "# Training and Validation Loop\n",
    "for epoch in range(2000):\n",
    "    model.train()\n",
    "    total_loss = 0.0\n",
    "    val_total_loss = 0.0\n",
    "    train_predictions, train_labels = [], []\n",
    "\n",
    "    for batch in tqdm(train_loader, desc=f\"Training Epoch {epoch + 1}\"):\n",
    "        mol_features = batch['metabolite_features'].to(device)\n",
    "        protein_features = batch['protein_features'].to(device)\n",
    "        labels = batch['label'].to(device)\n",
    "\n",
    "        # Add noise to the features\n",
    "        noisy_mol_features = model.add_noise(mol_features, noise_level=0.1)\n",
    "        noisy_protein_features = model.add_noise(protein_features, noise_level=0.1)\n",
    "\n",
    "        optimizer.zero_grad()\n",
    "        outputs = model(noisy_mol_features, noisy_protein_features, torch.randint(0, num_timesteps, (mol_features.size(0),)).to(device)).squeeze()\n",
    "        loss = criterion(outputs, labels)\n",
    "        loss.backward()\n",
    "        optimizer.step()\n",
    "        total_loss += loss.item()\n",
    "\n",
    "        # Store predictions and labels for metrics\n",
    "        train_predictions.extend(outputs.detach().cpu().numpy())\n",
    "        train_labels.extend(labels.cpu().numpy())\n",
    "\n",
    "    # Calculate training metrics\n",
    "    train_mse = ((torch.tensor(train_predictions) - torch.tensor(train_labels))**2).mean().item()\n",
    "    train_mae = torch.abs(torch.tensor(train_predictions) - torch.tensor(train_labels)).mean().item()\n",
    "    train_rmse = torch.sqrt((torch.tensor(train_predictions) - torch.tensor(train_labels)) ** 2).mean().item()\n",
    "    train_r2 = r2_score(np.array(train_labels), np.array(train_predictions))\n",
    "    train_pearson_corr, _ = pearsonr(np.array(train_labels), np.array(train_predictions))\n",
    "    train_median_ae = median_absolute_error(np.array(train_labels), np.array(train_predictions))\n",
    "    train_explained_var = explained_variance_score(np.array(train_labels), np.array(train_predictions))\n",
    "\n",
    "    if epoch % 10 == 0:\n",
    "        print(f\"Epoch {epoch} - Train Loss: {total_loss / len(train_loader):.4f}, Train MSE: {train_mse:.4f}, Train MAE: {train_mae:.4f}\")\n",
    "\n",
    "    # Validation\n",
    "    model.eval()\n",
    "    val_predictions, val_labels = [], []\n",
    "    with torch.no_grad():\n",
    "        for batch in val_loader:\n",
    "            mol_features = batch['metabolite_features'].to(device)\n",
    "            protein_features = batch['protein_features'].to(device)\n",
    "            labels = batch['label'].to(device)\n",
    "\n",
    "            # Add noise to the features\n",
    "            noisy_mol_features = model.add_noise(mol_features, noise_level=0.1)\n",
    "            noisy_protein_features = model.add_noise(protein_features, noise_level=0.1)\n",
    "\n",
    "            outputs = model(noisy_mol_features, noisy_protein_features, torch.randint(0, num_timesteps, (mol_features.size(0),)).to(device)).squeeze()\n",
    "            val_predictions.extend(outputs.cpu().numpy())\n",
    "            val_labels.extend(labels.cpu().numpy())\n",
    "            val_loss = criterion(outputs, labels)\n",
    "            val_total_loss += val_loss.item()\n",
    "\n",
    "    val_mse = ((torch.tensor(val_predictions) - torch.tensor(val_labels))**2).mean().item()\n",
    "    val_mae = torch.abs(torch.tensor(val_predictions) - torch.tensor(val_labels)).mean().item()\n",
    "    val_rmse = torch.sqrt((torch.tensor(val_predictions) - torch.tensor(val_labels)) ** 2).mean().item()\n",
    "    val_r2 = r2_score(np.array(val_labels), np.array(val_predictions))\n",
    "    val_pearson_corr, _ = pearsonr(np.array(val_labels), np.array(val_predictions))\n",
    "    val_median_ae = median_absolute_error(np.array(val_labels), np.array(val_predictions))\n",
    "    val_explained_var = explained_variance_score(np.array(val_labels), np.array(val_predictions))\n",
    "\n",
    "    if epoch % 10 == 0:\n",
    "        print(f\"Epoch {epoch} - Validation Loss: {val_total_loss / len(val_loader):.4f}, Validation MSE: {val_mse:.4f}, Validation MAE: {val_mae:.4f}\")\n",
    "\n",
    "    # Save metrics to DataFrame\n",
    "    new_row = {'epoch': epoch + 1, 'Train Loss': total_loss / len(train_loader), 'Train MSE': train_mse, 'Train MAE': train_mae, 'Train RMSE': train_rmse, 'Train R2': train_r2, 'Train Pearson': train_pearson_corr, 'Train Median_AE': train_median_ae, 'Train Explained_VAR': train_explained_var, \n",
    "               'Val Loss': val_total_loss / len(val_loader), 'Val MSE': val_mse, 'Val MAE': val_mae, 'Val RMSE': val_rmse, 'Val R2': val_r2, 'Val Pearson': val_pearson_corr, 'Val Median_AE': val_median_ae, 'Val Explained_VAR': val_explained_var}\n",
    "    train_history = pd.concat([train_history, pd.DataFrame([new_row])], ignore_index=True)\n",
    "\n",
    "# Test Metrics\n",
    "model.eval()\n",
    "test_predictions, test_labels = [], []\n",
    "with torch.no_grad():\n",
    "    for batch in test_loader:\n",
    "        mol_features = batch['metabolite_features'].to(device)\n",
    "        protein_features = batch['protein_features'].to(device)\n",
    "        labels = batch['label'].to(device)\n",
    "\n",
    "        # Add noise to the features\n",
    "        noisy_mol_features = model.add_noise(mol_features, noise_level=0.1)\n",
    "        noisy_protein_features = model.add_noise(protein_features, noise_level=0.1)\n",
    "\n",
    "        outputs = model(noisy_mol_features, noisy_protein_features, torch.randint(0, num_timesteps, (mol_features.size(0),)).to(device)).squeeze()\n",
    "        test_predictions.extend(outputs.cpu().numpy())\n",
    "        test_labels.extend(labels.cpu().numpy())\n",
    "\n",
    "test_mse = ((torch.tensor(test_predictions) - torch.tensor(test_labels))**2).mean().item()\n",
    "test_mae = torch.abs(torch.tensor(test_predictions) - torch.tensor(test_labels)).mean().item()\n",
    "test_rmse = torch.sqrt((torch.tensor(test_predictions) - torch.tensor(test_labels)) ** 2).mean().item()\n",
    "test_r2 = r2_score(np.array(test_labels), np.array(test_predictions))\n",
    "test_pearson_corr, _ = pearsonr(np.array(test_labels), np.array(test_predictions))\n",
    "test_median_ae = median_absolute_error(np.array(test_labels), np.array(test_predictions))\n",
    "test_explained_var = explained_variance_score(np.array(test_labels), np.array(test_predictions))\n",
    "print(f\"Test MSE: {test_mse:.4f}, Test MAE: {test_mae:.4f}\")\n"
   ]
  },
  {
   "cell_type": "code",
   "execution_count": 9,
   "metadata": {},
   "outputs": [],
   "source": [
    "# append the performance to the csv file\n",
    "df = {\n",
    "    'Model':['Diffusion Model','Diffusion Model','Diffusion Model'],\n",
    "    'Dataset':['Train','Validation','Test'],\n",
    "    'MSE':[train_history['Train MSE'].mean(),train_history['Val MSE'].mean(),test_mse],\n",
    "    'RMSE':[train_history['Train RMSE'].mean(),train_history['Val RMSE'].mean(),test_rmse],\n",
    "    'MAE':[train_history['Train MAE'].mean(),train_history['Val MAE'].mean(),test_mae],\n",
    "    'R2':[train_history['Train R2'].mean(),train_history['Val R2'].mean(),test_r2],\n",
    "    'Pearson':[train_history['Train Pearson'].mean(),train_history['Val Pearson'].mean(),test_pearson_corr],\n",
    "    'Median_AE':[train_history['Train Median_AE'].mean(),train_history['Val Median_AE'].mean(),test_median_ae],\n",
    "    'Explained_VAR':[train_history['Train Explained_VAR'].mean(),train_history['Val Explained_VAR'].mean(),test_explained_var],\n",
    "    'Dataspliting Mode':['random','random','random']\n",
    "}\n",
    "df = pd.DataFrame(df)\n",
    "\n",
    "df.to_csv('/Users/pinchichen/2025S lab/AI drug project/Catpred/model performance metrics_Catpred.csv', mode='a', header=False)"
   ]
  },
  {
   "cell_type": "code",
   "execution_count": 10,
   "metadata": {},
   "outputs": [],
   "source": [
    "# Save the model and training history\n",
    "save_dir = './trained_model/random_split'\n",
    "# save model weights and optimizer state\n",
    "torch.save(model.state_dict(), os.path.join(save_dir, 'Diffusion model_Catpred.pt'))\n",
    "torch.save(optimizer.state_dict(), os.path.join(save_dir, 'Diffusion model optimizer_Catpred.pt'))"
   ]
  },
  {
   "cell_type": "code",
   "execution_count": 11,
   "metadata": {},
   "outputs": [
    {
     "data": {
      "image/png": "[encoded data removed]",
      "text/plain": [
       "<Figure size 1000x600 with 1 Axes>"
      ]
     },
     "metadata": {},
     "output_type": "display_data"
    }
   ],
   "source": [
    "import matplotlib.pyplot as plt\n",
    "import seaborn as sns\n",
    "sns.set(style='ticks')\n",
    "# Load metrics\n",
    "\n",
    "metrics = train_history\n",
    "\n",
    "# Plot the training loss over epochs using seaborn\n",
    "plt.figure(figsize=(10, 6))\n",
    "# sns.lineplot(data=metrics, x='epoch', y='Train Loss', label='Train Loss')\n",
    "# sns.lineplot(data=metrics, x='epoch', y='Val Loss', label='Val Loss')\n",
    "sns.lineplot(data=metrics, x='epoch', y='Val MSE', label='Valid_RMSE')\n",
    "sns.lineplot(data=metrics, x='epoch', y='Train MSE', label='Train_RMSE')\n",
    "# sns.lineplot(data=metrics, x='Epoch', y='Valid_MAE', label='Valid_MAE')\n",
    "# Add titles and labels\n",
    "plt.title('Training and Validation Metrics Over Epochs', fontsize=14)\n",
    "# Define the range of tick positions\n",
    "plt.xlabel('Epoch', fontsize=12)\n",
    "plt.ylabel('Loss', fontsize=12)\n",
    "plt.grid(False)\n",
    "# Show the plot\n",
    "plt.show()\n"
   ]
  },
  {
   "cell_type": "code",
   "execution_count": 12,
   "metadata": {},
   "outputs": [
    {
     "data": {
      "text/html": [
       "<div>\n",
       "<style scoped>\n",
       "    .dataframe tbody tr th:only-of-type {\n",
       "        vertical-align: middle;\n",
       "    }\n",
       "\n",
       "    .dataframe tbody tr th {\n",
       "        vertical-align: top;\n",
       "    }\n",
       "\n",
       "    .dataframe thead th {\n",
       "        text-align: right;\n",
       "    }\n",
       "</style>\n",
       "<table border=\"1\" class=\"dataframe\">\n",
       "  <thead>\n",
       "    <tr style=\"text-align: right;\">\n",
       "      <th></th>\n",
       "      <th>epoch</th>\n",
       "      <th>Train Loss</th>\n",
       "      <th>Train MSE</th>\n",
       "      <th>Train MAE</th>\n",
       "      <th>Train RMSE</th>\n",
       "      <th>Train R2</th>\n",
       "      <th>Train Pearson</th>\n",
       "      <th>Train Median_AE</th>\n",
       "      <th>Train Explained_VARVal Loss</th>\n",
       "      <th>Val MSE</th>\n",
       "      <th>Val MAE</th>\n",
       "      <th>Val RMSE</th>\n",
       "      <th>Val R2</th>\n",
       "      <th>Val Pearson</th>\n",
       "      <th>Val Median_AE</th>\n",
       "      <th>Val Explained_VAR</th>\n",
       "      <th>Train Explained_VAR</th>\n",
       "      <th>Val Loss</th>\n",
       "    </tr>\n",
       "  </thead>\n",
       "  <tbody>\n",
       "    <tr>\n",
       "      <th>1995</th>\n",
       "      <td>1996</td>\n",
       "      <td>0.296855</td>\n",
       "      <td>0.296564</td>\n",
       "      <td>0.403200</td>\n",
       "      <td>0.403200</td>\n",
       "      <td>0.894316</td>\n",
       "      <td>0.945685</td>\n",
       "      <td>0.307493</td>\n",
       "      <td>NaN</td>\n",
       "      <td>1.406184</td>\n",
       "      <td>0.858710</td>\n",
       "      <td>0.858710</td>\n",
       "      <td>0.469980</td>\n",
       "      <td>0.691057</td>\n",
       "      <td>0.626926</td>\n",
       "      <td>0.470191</td>\n",
       "      <td>0.894316</td>\n",
       "      <td>1.403393</td>\n",
       "    </tr>\n",
       "    <tr>\n",
       "      <th>1996</th>\n",
       "      <td>1997</td>\n",
       "      <td>0.309168</td>\n",
       "      <td>0.309157</td>\n",
       "      <td>0.409200</td>\n",
       "      <td>0.409200</td>\n",
       "      <td>0.889828</td>\n",
       "      <td>0.943310</td>\n",
       "      <td>0.314509</td>\n",
       "      <td>NaN</td>\n",
       "      <td>1.399526</td>\n",
       "      <td>0.850578</td>\n",
       "      <td>0.850578</td>\n",
       "      <td>0.472490</td>\n",
       "      <td>0.693094</td>\n",
       "      <td>0.606008</td>\n",
       "      <td>0.472537</td>\n",
       "      <td>0.889831</td>\n",
       "      <td>1.396482</td>\n",
       "    </tr>\n",
       "    <tr>\n",
       "      <th>1997</th>\n",
       "      <td>1998</td>\n",
       "      <td>0.295858</td>\n",
       "      <td>0.295992</td>\n",
       "      <td>0.402576</td>\n",
       "      <td>0.402576</td>\n",
       "      <td>0.894519</td>\n",
       "      <td>0.945791</td>\n",
       "      <td>0.310445</td>\n",
       "      <td>NaN</td>\n",
       "      <td>1.406646</td>\n",
       "      <td>0.851032</td>\n",
       "      <td>0.851032</td>\n",
       "      <td>0.469806</td>\n",
       "      <td>0.690642</td>\n",
       "      <td>0.602128</td>\n",
       "      <td>0.470731</td>\n",
       "      <td>0.894519</td>\n",
       "      <td>1.403792</td>\n",
       "    </tr>\n",
       "    <tr>\n",
       "      <th>1998</th>\n",
       "      <td>1999</td>\n",
       "      <td>0.291770</td>\n",
       "      <td>0.291917</td>\n",
       "      <td>0.401329</td>\n",
       "      <td>0.401329</td>\n",
       "      <td>0.895971</td>\n",
       "      <td>0.946558</td>\n",
       "      <td>0.309108</td>\n",
       "      <td>NaN</td>\n",
       "      <td>1.416078</td>\n",
       "      <td>0.848677</td>\n",
       "      <td>0.848677</td>\n",
       "      <td>0.466251</td>\n",
       "      <td>0.687803</td>\n",
       "      <td>0.589721</td>\n",
       "      <td>0.466862</td>\n",
       "      <td>0.895972</td>\n",
       "      <td>1.413261</td>\n",
       "    </tr>\n",
       "    <tr>\n",
       "      <th>1999</th>\n",
       "      <td>2000</td>\n",
       "      <td>0.301468</td>\n",
       "      <td>0.301296</td>\n",
       "      <td>0.405898</td>\n",
       "      <td>0.405898</td>\n",
       "      <td>0.892629</td>\n",
       "      <td>0.944791</td>\n",
       "      <td>0.313213</td>\n",
       "      <td>NaN</td>\n",
       "      <td>1.401844</td>\n",
       "      <td>0.849134</td>\n",
       "      <td>0.849134</td>\n",
       "      <td>0.471616</td>\n",
       "      <td>0.692239</td>\n",
       "      <td>0.603427</td>\n",
       "      <td>0.472095</td>\n",
       "      <td>0.892629</td>\n",
       "      <td>1.398176</td>\n",
       "    </tr>\n",
       "  </tbody>\n",
       "</table>\n",
       "</div>"
      ],
      "text/plain": [
       "     epoch  Train Loss  Train MSE  Train MAE  Train RMSE  Train R2  \\\n",
       "1995  1996    0.296855   0.296564   0.403200    0.403200  0.894316   \n",
       "1996  1997    0.309168   0.309157   0.409200    0.409200  0.889828   \n",
       "1997  1998    0.295858   0.295992   0.402576    0.402576  0.894519   \n",
       "1998  1999    0.291770   0.291917   0.401329    0.401329  0.895971   \n",
       "1999  2000    0.301468   0.301296   0.405898    0.405898  0.892629   \n",
       "\n",
       "      Train Pearson  Train Median_AE Train Explained_VARVal Loss   Val MSE  \\\n",
       "1995       0.945685         0.307493                         NaN  1.406184   \n",
       "1996       0.943310         0.314509                         NaN  1.399526   \n",
       "1997       0.945791         0.310445                         NaN  1.406646   \n",
       "1998       0.946558         0.309108                         NaN  1.416078   \n",
       "1999       0.944791         0.313213                         NaN  1.401844   \n",
       "\n",
       "       Val MAE  Val RMSE    Val R2  Val Pearson  Val Median_AE  \\\n",
       "1995  0.858710  0.858710  0.469980     0.691057       0.626926   \n",
       "1996  0.850578  0.850578  0.472490     0.693094       0.606008   \n",
       "1997  0.851032  0.851032  0.469806     0.690642       0.602128   \n",
       "1998  0.848677  0.848677  0.466251     0.687803       0.589721   \n",
       "1999  0.849134  0.849134  0.471616     0.692239       0.603427   \n",
       "\n",
       "      Val Explained_VAR  Train Explained_VAR  Val Loss  \n",
       "1995           0.470191             0.894316  1.403393  \n",
       "1996           0.472537             0.889831  1.396482  \n",
       "1997           0.470731             0.894519  1.403792  \n",
       "1998           0.466862             0.895972  1.413261  \n",
       "1999           0.472095             0.892629  1.398176  "
      ]
     },
     "execution_count": 12,
     "metadata": {},
     "output_type": "execute_result"
    }
   ],
   "source": [
    "train_history.tail()"
   ]
  },
  {
   "cell_type": "code",
   "execution_count": null,
   "metadata": {},
   "outputs": [],
   "source": []
  }
 ],
 "metadata": {
  "kernelspec": {
   "display_name": "base",
   "language": "python",
   "name": "python3"
  },
  "language_info": {
   "codemirror_mode": {
    "name": "ipython",
    "version": 3
   },
   "file_extension": ".py",
   "mimetype": "text/x-python",
   "name": "python",
   "nbconvert_exporter": "python",
   "pygments_lexer": "ipython3",
   "version": "3.12.2"
  }
 },
 "nbformat": 4,
 "nbformat_minor": 2
}
