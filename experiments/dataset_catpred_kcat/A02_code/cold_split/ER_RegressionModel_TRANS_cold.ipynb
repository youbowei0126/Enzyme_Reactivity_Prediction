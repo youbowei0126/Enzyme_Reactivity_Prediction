{
 "cells": [
  {
   "cell_type": "code",
   "execution_count": 1,
   "metadata": {},
   "outputs": [],
   "source": [
    "import pandas as pd\n",
    "import numpy as np\n",
    "from tqdm import tqdm\n",
    "import torch\n",
    "import torch.nn as nn\n",
    "import torch.optim as optim\n",
    "from torch.utils.data import DataLoader, Dataset\n",
    "from sklearn.metrics import roc_auc_score\n",
    "from sklearn.model_selection import train_test_split\n",
    "import os\n"
   ]
  },
  {
   "cell_type": "code",
   "execution_count": 2,
   "metadata": {},
   "outputs": [
    {
     "data": {
      "text/html": [
       "<div>\n",
       "<style scoped>\n",
       "    .dataframe tbody tr th:only-of-type {\n",
       "        vertical-align: middle;\n",
       "    }\n",
       "\n",
       "    .dataframe tbody tr th {\n",
       "        vertical-align: top;\n",
       "    }\n",
       "\n",
       "    .dataframe thead th {\n",
       "        text-align: right;\n",
       "    }\n",
       "</style>\n",
       "<table border=\"1\" class=\"dataframe\">\n",
       "  <thead>\n",
       "    <tr style=\"text-align: right;\">\n",
       "      <th></th>\n",
       "      <th>Sequence</th>\n",
       "      <th>sequence_source</th>\n",
       "      <th>uniprot</th>\n",
       "      <th>Smiles</th>\n",
       "      <th>value</th>\n",
       "      <th>ec</th>\n",
       "      <th>log10_value</th>\n",
       "      <th>reactant_smiles</th>\n",
       "      <th>product_smiles</th>\n",
       "      <th>log10kcat_max</th>\n",
       "      <th>metabolite_features</th>\n",
       "      <th>protein_features</th>\n",
       "    </tr>\n",
       "  </thead>\n",
       "  <tbody>\n",
       "    <tr>\n",
       "      <th>0</th>\n",
       "      <td>MEPGSKSVSRSDWQPEPHQRPITPLEPGPEKTPIAQPESKTLQGSN...</td>\n",
       "      <td>sabio</td>\n",
       "      <td>Q05469</td>\n",
       "      <td>CCC(=O)OCC(COC(=O)CC)OC(=O)CC.O&gt;&gt;CCC(=O)O.CCC(...</td>\n",
       "      <td>7.00</td>\n",
       "      <td>3.1.1.1</td>\n",
       "      <td>0.845098</td>\n",
       "      <td>CCC(=O)OCC(COC(=O)CC)OC(=O)CC.O</td>\n",
       "      <td>CCC(=O)O.CCC(=O)OCC(CO)OC(=O)CC</td>\n",
       "      <td>0.845098</td>\n",
       "      <td>[0.25240317, -0.45278314, -0.76844007, 0.04716...</td>\n",
       "      <td>[-0.06076221, -0.21264695, -0.05684641, 0.0163...</td>\n",
       "    </tr>\n",
       "    <tr>\n",
       "      <th>1</th>\n",
       "      <td>MLLAQRRLISLGCRSKPIKTIYSSSKVLGLCTSAKMALKFKNAKRI...</td>\n",
       "      <td>brenda</td>\n",
       "      <td>Q71RI9</td>\n",
       "      <td>Nc1ccccc1C(=O)C[C@H](N)C(=O)O.O=C(O)C(=O)Cc1cc...</td>\n",
       "      <td>1.48</td>\n",
       "      <td>2.6.1.7</td>\n",
       "      <td>0.170262</td>\n",
       "      <td>Nc1ccccc1C(=O)C[C@H](N)C(=O)O.O=C(O)C(=O)Cc1cc...</td>\n",
       "      <td>N[C@@H](Cc1ccc(O)cc1)C(=O)O.O=C(O)c1cc(=O)c2cc...</td>\n",
       "      <td>0.170262</td>\n",
       "      <td>[0.066915624, -0.15937805, -0.7076091, 0.12864...</td>\n",
       "      <td>[-0.051194582, -0.07116077, 0.16383636, 0.2113...</td>\n",
       "    </tr>\n",
       "    <tr>\n",
       "      <th>2</th>\n",
       "      <td>MPIIQMNLLEGRTVEQKRNAVAAITEAVVRTLDVRPDQVRILINEL...</td>\n",
       "      <td>brenda</td>\n",
       "      <td>A2SL37</td>\n",
       "      <td>C/C(=C\\C=C(/O)C(=O)O)C(=O)O&gt;&gt;CC(/C=C/C(=O)C(=O...</td>\n",
       "      <td>3.40</td>\n",
       "      <td>5.3.2.6</td>\n",
       "      <td>0.531479</td>\n",
       "      <td>C/C(=C\\C=C(/O)C(=O)O)C(=O)O</td>\n",
       "      <td>CC(/C=C/C(=O)C(=O)O)C(=O)O</td>\n",
       "      <td>2.029384</td>\n",
       "      <td>[0.23911352, 0.011175589, -0.35101113, 0.15938...</td>\n",
       "      <td>[-0.1772431, -0.06500952, 0.18246448, -0.05431...</td>\n",
       "    </tr>\n",
       "    <tr>\n",
       "      <th>3</th>\n",
       "      <td>MKEAGILFEELVSIMEKLRSPEGCEWDRKQTHESLKPYLIEECYEL...</td>\n",
       "      <td>brenda</td>\n",
       "      <td>Q9X015</td>\n",
       "      <td>N=c1nc(O)c2ncn([C@@H]3O[C@H](COP(=O)(O)OP(=O)(...</td>\n",
       "      <td>0.69</td>\n",
       "      <td>3.6.1.9</td>\n",
       "      <td>-0.161151</td>\n",
       "      <td>N=c1nc(O)c2ncn([C@@H]3O[C@H](COP(=O)(O)OP(=O)(...</td>\n",
       "      <td>N=c1nc(O)c2ncn([C@@H]3O[C@H](COP(=O)(O)OP(=O)(...</td>\n",
       "      <td>-0.161151</td>\n",
       "      <td>[0.078591675, -0.15656142, -0.55292135, -0.245...</td>\n",
       "      <td>[-0.09246727, -0.033019878, 0.10869139, 0.2953...</td>\n",
       "    </tr>\n",
       "    <tr>\n",
       "      <th>4</th>\n",
       "      <td>MGQEKLYIEKELSWLSFNERVLQEAADKSNPLIERMRFLGIYSNNL...</td>\n",
       "      <td>sabio</td>\n",
       "      <td>P0A7B1</td>\n",
       "      <td>O=c1ccn(C2OC(COP(=O)(O)OP(=O)(O)O)C(O)C2O)c(=O...</td>\n",
       "      <td>420.00</td>\n",
       "      <td>2.7.4.1</td>\n",
       "      <td>2.623249</td>\n",
       "      <td>O=c1ccn(C2OC(COP(=O)(O)OP(=O)(O)O)C(O)C2O)c(=O...</td>\n",
       "      <td>O=c1ccn(C2OC(COP(=O)(O)OP(=O)(O)OP(=O)(O)O)C(O...</td>\n",
       "      <td>2.623249</td>\n",
       "      <td>[0.00051207165, -0.7151457, -0.95394605, -0.15...</td>\n",
       "      <td>[-0.06592023, -0.062496405, -0.012068139, 0.06...</td>\n",
       "    </tr>\n",
       "  </tbody>\n",
       "</table>\n",
       "</div>"
      ],
      "text/plain": [
       "                                            Sequence sequence_source uniprot  \\\n",
       "0  MEPGSKSVSRSDWQPEPHQRPITPLEPGPEKTPIAQPESKTLQGSN...           sabio  Q05469   \n",
       "1  MLLAQRRLISLGCRSKPIKTIYSSSKVLGLCTSAKMALKFKNAKRI...          brenda  Q71RI9   \n",
       "2  MPIIQMNLLEGRTVEQKRNAVAAITEAVVRTLDVRPDQVRILINEL...          brenda  A2SL37   \n",
       "3  MKEAGILFEELVSIMEKLRSPEGCEWDRKQTHESLKPYLIEECYEL...          brenda  Q9X015   \n",
       "4  MGQEKLYIEKELSWLSFNERVLQEAADKSNPLIERMRFLGIYSNNL...           sabio  P0A7B1   \n",
       "\n",
       "                                              Smiles   value       ec  \\\n",
       "0  CCC(=O)OCC(COC(=O)CC)OC(=O)CC.O>>CCC(=O)O.CCC(...    7.00  3.1.1.1   \n",
       "1  Nc1ccccc1C(=O)C[C@H](N)C(=O)O.O=C(O)C(=O)Cc1cc...    1.48  2.6.1.7   \n",
       "2  C/C(=C\\C=C(/O)C(=O)O)C(=O)O>>CC(/C=C/C(=O)C(=O...    3.40  5.3.2.6   \n",
       "3  N=c1nc(O)c2ncn([C@@H]3O[C@H](COP(=O)(O)OP(=O)(...    0.69  3.6.1.9   \n",
       "4  O=c1ccn(C2OC(COP(=O)(O)OP(=O)(O)O)C(O)C2O)c(=O...  420.00  2.7.4.1   \n",
       "\n",
       "   log10_value                                    reactant_smiles  \\\n",
       "0     0.845098                    CCC(=O)OCC(COC(=O)CC)OC(=O)CC.O   \n",
       "1     0.170262  Nc1ccccc1C(=O)C[C@H](N)C(=O)O.O=C(O)C(=O)Cc1cc...   \n",
       "2     0.531479                        C/C(=C\\C=C(/O)C(=O)O)C(=O)O   \n",
       "3    -0.161151  N=c1nc(O)c2ncn([C@@H]3O[C@H](COP(=O)(O)OP(=O)(...   \n",
       "4     2.623249  O=c1ccn(C2OC(COP(=O)(O)OP(=O)(O)O)C(O)C2O)c(=O...   \n",
       "\n",
       "                                      product_smiles  log10kcat_max  \\\n",
       "0                    CCC(=O)O.CCC(=O)OCC(CO)OC(=O)CC       0.845098   \n",
       "1  N[C@@H](Cc1ccc(O)cc1)C(=O)O.O=C(O)c1cc(=O)c2cc...       0.170262   \n",
       "2                         CC(/C=C/C(=O)C(=O)O)C(=O)O       2.029384   \n",
       "3  N=c1nc(O)c2ncn([C@@H]3O[C@H](COP(=O)(O)OP(=O)(...      -0.161151   \n",
       "4  O=c1ccn(C2OC(COP(=O)(O)OP(=O)(O)OP(=O)(O)O)C(O...       2.623249   \n",
       "\n",
       "                                 metabolite_features  \\\n",
       "0  [0.25240317, -0.45278314, -0.76844007, 0.04716...   \n",
       "1  [0.066915624, -0.15937805, -0.7076091, 0.12864...   \n",
       "2  [0.23911352, 0.011175589, -0.35101113, 0.15938...   \n",
       "3  [0.078591675, -0.15656142, -0.55292135, -0.245...   \n",
       "4  [0.00051207165, -0.7151457, -0.95394605, -0.15...   \n",
       "\n",
       "                                    protein_features  \n",
       "0  [-0.06076221, -0.21264695, -0.05684641, 0.0163...  \n",
       "1  [-0.051194582, -0.07116077, 0.16383636, 0.2113...  \n",
       "2  [-0.1772431, -0.06500952, 0.18246448, -0.05431...  \n",
       "3  [-0.09246727, -0.033019878, 0.10869139, 0.2953...  \n",
       "4  [-0.06592023, -0.062496405, -0.012068139, 0.06...  "
      ]
     },
     "execution_count": 2,
     "metadata": {},
     "output_type": "execute_result"
    }
   ],
   "source": [
    "import joblib\n",
    "import pandas as pd\n",
    "\n",
    "data_kcat = joblib.load('/Users/pinchichen/2025S lab/AI drug project/Catpred/dataset/kcat_with_features.joblib')\n",
    "data_kcat.head()"
   ]
  },
  {
   "cell_type": "code",
   "execution_count": 3,
   "metadata": {},
   "outputs": [
    {
     "data": {
      "text/html": [
       "<div>\n",
       "<style scoped>\n",
       "    .dataframe tbody tr th:only-of-type {\n",
       "        vertical-align: middle;\n",
       "    }\n",
       "\n",
       "    .dataframe tbody tr th {\n",
       "        vertical-align: top;\n",
       "    }\n",
       "\n",
       "    .dataframe thead th {\n",
       "        text-align: right;\n",
       "    }\n",
       "</style>\n",
       "<table border=\"1\" class=\"dataframe\">\n",
       "  <thead>\n",
       "    <tr style=\"text-align: right;\">\n",
       "      <th></th>\n",
       "      <th>Sequence</th>\n",
       "      <th>sequence_source</th>\n",
       "      <th>uniprot</th>\n",
       "      <th>Smiles</th>\n",
       "      <th>value</th>\n",
       "      <th>ec</th>\n",
       "      <th>log10_value</th>\n",
       "      <th>reactant_smiles</th>\n",
       "      <th>product_smiles</th>\n",
       "      <th>label</th>\n",
       "      <th>metabolite_features</th>\n",
       "      <th>protein_features</th>\n",
       "    </tr>\n",
       "  </thead>\n",
       "  <tbody>\n",
       "    <tr>\n",
       "      <th>0</th>\n",
       "      <td>MEPGSKSVSRSDWQPEPHQRPITPLEPGPEKTPIAQPESKTLQGSN...</td>\n",
       "      <td>sabio</td>\n",
       "      <td>Q05469</td>\n",
       "      <td>CCC(=O)OCC(COC(=O)CC)OC(=O)CC.O&gt;&gt;CCC(=O)O.CCC(...</td>\n",
       "      <td>7.00</td>\n",
       "      <td>3.1.1.1</td>\n",
       "      <td>0.845098</td>\n",
       "      <td>CCC(=O)OCC(COC(=O)CC)OC(=O)CC.O</td>\n",
       "      <td>CCC(=O)O.CCC(=O)OCC(CO)OC(=O)CC</td>\n",
       "      <td>0.845098</td>\n",
       "      <td>[0.25240317, -0.45278314, -0.76844007, 0.04716...</td>\n",
       "      <td>[-0.06076221, -0.21264695, -0.05684641, 0.0163...</td>\n",
       "    </tr>\n",
       "    <tr>\n",
       "      <th>1</th>\n",
       "      <td>MLLAQRRLISLGCRSKPIKTIYSSSKVLGLCTSAKMALKFKNAKRI...</td>\n",
       "      <td>brenda</td>\n",
       "      <td>Q71RI9</td>\n",
       "      <td>Nc1ccccc1C(=O)C[C@H](N)C(=O)O.O=C(O)C(=O)Cc1cc...</td>\n",
       "      <td>1.48</td>\n",
       "      <td>2.6.1.7</td>\n",
       "      <td>0.170262</td>\n",
       "      <td>Nc1ccccc1C(=O)C[C@H](N)C(=O)O.O=C(O)C(=O)Cc1cc...</td>\n",
       "      <td>N[C@@H](Cc1ccc(O)cc1)C(=O)O.O=C(O)c1cc(=O)c2cc...</td>\n",
       "      <td>0.170262</td>\n",
       "      <td>[0.066915624, -0.15937805, -0.7076091, 0.12864...</td>\n",
       "      <td>[-0.051194582, -0.07116077, 0.16383636, 0.2113...</td>\n",
       "    </tr>\n",
       "    <tr>\n",
       "      <th>2</th>\n",
       "      <td>MPIIQMNLLEGRTVEQKRNAVAAITEAVVRTLDVRPDQVRILINEL...</td>\n",
       "      <td>brenda</td>\n",
       "      <td>A2SL37</td>\n",
       "      <td>C/C(=C\\C=C(/O)C(=O)O)C(=O)O&gt;&gt;CC(/C=C/C(=O)C(=O...</td>\n",
       "      <td>3.40</td>\n",
       "      <td>5.3.2.6</td>\n",
       "      <td>0.531479</td>\n",
       "      <td>C/C(=C\\C=C(/O)C(=O)O)C(=O)O</td>\n",
       "      <td>CC(/C=C/C(=O)C(=O)O)C(=O)O</td>\n",
       "      <td>2.029384</td>\n",
       "      <td>[0.23911352, 0.011175589, -0.35101113, 0.15938...</td>\n",
       "      <td>[-0.1772431, -0.06500952, 0.18246448, -0.05431...</td>\n",
       "    </tr>\n",
       "    <tr>\n",
       "      <th>3</th>\n",
       "      <td>MKEAGILFEELVSIMEKLRSPEGCEWDRKQTHESLKPYLIEECYEL...</td>\n",
       "      <td>brenda</td>\n",
       "      <td>Q9X015</td>\n",
       "      <td>N=c1nc(O)c2ncn([C@@H]3O[C@H](COP(=O)(O)OP(=O)(...</td>\n",
       "      <td>0.69</td>\n",
       "      <td>3.6.1.9</td>\n",
       "      <td>-0.161151</td>\n",
       "      <td>N=c1nc(O)c2ncn([C@@H]3O[C@H](COP(=O)(O)OP(=O)(...</td>\n",
       "      <td>N=c1nc(O)c2ncn([C@@H]3O[C@H](COP(=O)(O)OP(=O)(...</td>\n",
       "      <td>-0.161151</td>\n",
       "      <td>[0.078591675, -0.15656142, -0.55292135, -0.245...</td>\n",
       "      <td>[-0.09246727, -0.033019878, 0.10869139, 0.2953...</td>\n",
       "    </tr>\n",
       "    <tr>\n",
       "      <th>4</th>\n",
       "      <td>MGQEKLYIEKELSWLSFNERVLQEAADKSNPLIERMRFLGIYSNNL...</td>\n",
       "      <td>sabio</td>\n",
       "      <td>P0A7B1</td>\n",
       "      <td>O=c1ccn(C2OC(COP(=O)(O)OP(=O)(O)O)C(O)C2O)c(=O...</td>\n",
       "      <td>420.00</td>\n",
       "      <td>2.7.4.1</td>\n",
       "      <td>2.623249</td>\n",
       "      <td>O=c1ccn(C2OC(COP(=O)(O)OP(=O)(O)O)C(O)C2O)c(=O...</td>\n",
       "      <td>O=c1ccn(C2OC(COP(=O)(O)OP(=O)(O)OP(=O)(O)O)C(O...</td>\n",
       "      <td>2.623249</td>\n",
       "      <td>[0.00051207165, -0.7151457, -0.95394605, -0.15...</td>\n",
       "      <td>[-0.06592023, -0.062496405, -0.012068139, 0.06...</td>\n",
       "    </tr>\n",
       "  </tbody>\n",
       "</table>\n",
       "</div>"
      ],
      "text/plain": [
       "                                            Sequence sequence_source uniprot  \\\n",
       "0  MEPGSKSVSRSDWQPEPHQRPITPLEPGPEKTPIAQPESKTLQGSN...           sabio  Q05469   \n",
       "1  MLLAQRRLISLGCRSKPIKTIYSSSKVLGLCTSAKMALKFKNAKRI...          brenda  Q71RI9   \n",
       "2  MPIIQMNLLEGRTVEQKRNAVAAITEAVVRTLDVRPDQVRILINEL...          brenda  A2SL37   \n",
       "3  MKEAGILFEELVSIMEKLRSPEGCEWDRKQTHESLKPYLIEECYEL...          brenda  Q9X015   \n",
       "4  MGQEKLYIEKELSWLSFNERVLQEAADKSNPLIERMRFLGIYSNNL...           sabio  P0A7B1   \n",
       "\n",
       "                                              Smiles   value       ec  \\\n",
       "0  CCC(=O)OCC(COC(=O)CC)OC(=O)CC.O>>CCC(=O)O.CCC(...    7.00  3.1.1.1   \n",
       "1  Nc1ccccc1C(=O)C[C@H](N)C(=O)O.O=C(O)C(=O)Cc1cc...    1.48  2.6.1.7   \n",
       "2  C/C(=C\\C=C(/O)C(=O)O)C(=O)O>>CC(/C=C/C(=O)C(=O...    3.40  5.3.2.6   \n",
       "3  N=c1nc(O)c2ncn([C@@H]3O[C@H](COP(=O)(O)OP(=O)(...    0.69  3.6.1.9   \n",
       "4  O=c1ccn(C2OC(COP(=O)(O)OP(=O)(O)O)C(O)C2O)c(=O...  420.00  2.7.4.1   \n",
       "\n",
       "   log10_value                                    reactant_smiles  \\\n",
       "0     0.845098                    CCC(=O)OCC(COC(=O)CC)OC(=O)CC.O   \n",
       "1     0.170262  Nc1ccccc1C(=O)C[C@H](N)C(=O)O.O=C(O)C(=O)Cc1cc...   \n",
       "2     0.531479                        C/C(=C\\C=C(/O)C(=O)O)C(=O)O   \n",
       "3    -0.161151  N=c1nc(O)c2ncn([C@@H]3O[C@H](COP(=O)(O)OP(=O)(...   \n",
       "4     2.623249  O=c1ccn(C2OC(COP(=O)(O)OP(=O)(O)O)C(O)C2O)c(=O...   \n",
       "\n",
       "                                      product_smiles     label  \\\n",
       "0                    CCC(=O)O.CCC(=O)OCC(CO)OC(=O)CC  0.845098   \n",
       "1  N[C@@H](Cc1ccc(O)cc1)C(=O)O.O=C(O)c1cc(=O)c2cc...  0.170262   \n",
       "2                         CC(/C=C/C(=O)C(=O)O)C(=O)O  2.029384   \n",
       "3  N=c1nc(O)c2ncn([C@@H]3O[C@H](COP(=O)(O)OP(=O)(... -0.161151   \n",
       "4  O=c1ccn(C2OC(COP(=O)(O)OP(=O)(O)OP(=O)(O)O)C(O...  2.623249   \n",
       "\n",
       "                                 metabolite_features  \\\n",
       "0  [0.25240317, -0.45278314, -0.76844007, 0.04716...   \n",
       "1  [0.066915624, -0.15937805, -0.7076091, 0.12864...   \n",
       "2  [0.23911352, 0.011175589, -0.35101113, 0.15938...   \n",
       "3  [0.078591675, -0.15656142, -0.55292135, -0.245...   \n",
       "4  [0.00051207165, -0.7151457, -0.95394605, -0.15...   \n",
       "\n",
       "                                    protein_features  \n",
       "0  [-0.06076221, -0.21264695, -0.05684641, 0.0163...  \n",
       "1  [-0.051194582, -0.07116077, 0.16383636, 0.2113...  \n",
       "2  [-0.1772431, -0.06500952, 0.18246448, -0.05431...  \n",
       "3  [-0.09246727, -0.033019878, 0.10869139, 0.2953...  \n",
       "4  [-0.06592023, -0.062496405, -0.012068139, 0.06...  "
      ]
     },
     "execution_count": 3,
     "metadata": {},
     "output_type": "execute_result"
    }
   ],
   "source": [
    "data_kcat.rename(columns={'log10kcat_max':'label'},inplace=True)\n",
    "data_kcat.head()"
   ]
  },
  {
   "cell_type": "code",
   "execution_count": 4,
   "metadata": {},
   "outputs": [],
   "source": [
    "# Define dataset\n",
    "class MPI_Dataset(Dataset):\n",
    "    def __init__(self, dataframe):\n",
    "        self.dataframe = dataframe\n",
    "\n",
    "    def __len__(self):\n",
    "        return len(self.dataframe)\n",
    "\n",
    "    def __getitem__(self, idx):\n",
    "        row = self.dataframe.iloc[idx]\n",
    "        return {\n",
    "            'metabolite_features': torch.tensor(np.asarray(row['metabolite_features'], dtype=np.float32)),\n",
    "            'protein_features': torch.tensor(np.asarray(row['protein_features'], dtype=np.float32)),\n",
    "            'label': torch.tensor(float(row['label']), dtype=torch.float32),\n",
    "        }"
   ]
  },
  {
   "cell_type": "code",
   "execution_count": 5,
   "metadata": {},
   "outputs": [],
   "source": [
    "# Separate the dataset by unique proteins and drugs\n",
    "unique_proteins = data_kcat['Sequence'].unique()\n",
    "unique_mols = data_kcat['Smiles'].unique()\n",
    "# Set the seed for reproducibility\n",
    "torch.manual_seed(42)\n",
    "# Function to perform a cold split\n",
    "def cold_split(unique_items, test_size=0.2, val_size=0.1):\n",
    "    train_items, test_items = train_test_split(unique_items, test_size=test_size, random_state=42)\n",
    "    train_items, val_items = train_test_split(train_items, test_size=val_size / (1 - test_size), random_state=42)\n",
    "    return train_items, val_items, test_items\n",
    "# Cold split by proteins\n",
    "train_proteins, val_proteins, test_proteins = cold_split(unique_proteins)\n",
    "train_cold_protein = data_kcat[data_kcat['Sequence'].isin(train_proteins)]\n",
    "val_cold_protein = data_kcat[data_kcat['Sequence'].isin(val_proteins)]\n",
    "test_cold_protein = data_kcat[data_kcat['Sequence'].isin(test_proteins)]\n",
    "# Cold split by molecules\n",
    "train_mols, val_mols, test_mols = cold_split(unique_mols)\n",
    "train_cold_mols = data_kcat[data_kcat['Smiles'].isin(train_mols)]\n",
    "val_cold_mols = data_kcat[data_kcat['Smiles'].isin(val_mols)]\n",
    "test_cold_mols = data_kcat[data_kcat['Smiles'].isin(test_mols)]"
   ]
  },
  {
   "cell_type": "code",
   "execution_count": 6,
   "metadata": {},
   "outputs": [],
   "source": [
    "# cold protein\n",
    "train_dataset = MPI_Dataset(train_cold_protein)\n",
    "val_dataset = MPI_Dataset(val_cold_protein)\n",
    "test_dataset = MPI_Dataset(test_cold_protein)\n",
    "\n",
    "train_loader = DataLoader(train_dataset, batch_size=32, shuffle=True)\n",
    "val_loader = DataLoader(val_dataset, batch_size=32)\n",
    "test_loader = DataLoader(test_dataset, batch_size=32)\n",
    "\n",
    "# cold mols\n",
    "train_dataset_mols = MPI_Dataset(train_cold_mols)\n",
    "val_dataset_mols = MPI_Dataset(val_cold_mols)\n",
    "test_dataset_mols = MPI_Dataset(test_cold_mols)\n",
    "\n",
    "train_loader_mols = DataLoader(train_dataset_mols, batch_size=32, shuffle=True)\n",
    "val_loader_mols = DataLoader(val_dataset_mols, batch_size=32)\n",
    "test_loader_mols = DataLoader(test_dataset_mols, batch_size=32)"
   ]
  },
  {
   "cell_type": "code",
   "execution_count": 7,
   "metadata": {},
   "outputs": [],
   "source": [
    "import torch.nn as nn\n",
    "import torch\n",
    "import torch.nn.functional as F\n",
    "\n",
    "# Define Transformer for Regression\n",
    "# https://www.datacamp.com/tutorial/building-a-transformer-with-py-torch\n",
    "class TransformerRegressor(nn.Module):\n",
    "    def __init__(self, mol_input_dim, protein_input_dim, d_model=128, nhead=4, num_layers=2, dropout=0.1):\n",
    "        super().__init__()\n",
    "\n",
    "        # Linear projection to embedding space\n",
    "        self.mol_proj = nn.Linear(mol_input_dim, d_model)\n",
    "        self.protein_proj = nn.Linear(protein_input_dim, d_model)\n",
    "\n",
    "        # Positional encoding (learnable)\n",
    "        self.pos_embedding = nn.Parameter(torch.randn(2, d_model))  # 2 positions: [mol, protein]\n",
    "\n",
    "        # Transformer encoder\n",
    "        encoder_layer = nn.TransformerEncoderLayer(d_model=d_model, nhead=nhead, dropout=dropout, batch_first=True)\n",
    "        self.transformer = nn.TransformerEncoder(encoder_layer, num_layers=num_layers)\n",
    "\n",
    "        # Regression head\n",
    "        self.regressor = nn.Sequential(\n",
    "            nn.Linear(d_model * 2, d_model),\n",
    "            nn.ReLU(),\n",
    "            nn.Dropout(dropout),\n",
    "            nn.Linear(d_model, 1)\n",
    "        )\n",
    "\n",
    "    def forward(self, mol_input, protein_input):\n",
    "        # Project input to embedding space\n",
    "        mol_embed = self.mol_proj(mol_input).unsqueeze(1)       # shape: (B, 1, d_model)\n",
    "        protein_embed = self.protein_proj(protein_input).unsqueeze(1)  # shape: (B, 1, d_model)\n",
    "\n",
    "        # Concatenate [mol, protein] tokens → sequence length = 2\n",
    "        x = torch.cat([mol_embed, protein_embed], dim=1)  # shape: (B, 2, d_model)\n",
    "\n",
    "        # Add learnable positional encoding\n",
    "        x = x + self.pos_embedding.unsqueeze(0)  # broadcast (1, 2, d_model)\n",
    "\n",
    "        # Pass through Transformer encoder\n",
    "        encoded = self.transformer(x)  # shape: (B, 2, d_model)\n",
    "\n",
    "        # Flatten both tokens\n",
    "        flattened = encoded.view(encoded.size(0), -1)  # shape: (B, 2 * d_model)\n",
    "\n",
    "        # Regression\n",
    "        out = self.regressor(flattened)\n",
    "        return out.view(-1)"
   ]
  },
  {
   "cell_type": "code",
   "execution_count": 8,
   "metadata": {},
   "outputs": [],
   "source": [
    "# Check CUDA availability\n",
    "device = torch.device(\"cuda\" if torch.cuda.is_available() else \"cpu\")"
   ]
  },
  {
   "cell_type": "code",
   "execution_count": 9,
   "metadata": {},
   "outputs": [
    {
     "name": "stderr",
     "output_type": "stream",
     "text": [
      "Training Epoch 1: 100%|██████████| 499/499 [00:13<00:00, 37.67it/s]\n"
     ]
    },
    {
     "name": "stdout",
     "output_type": "stream",
     "text": [
      "Epoch 0 - Train Loss: 2.7059, Train MSE: 2.7027, Train MAE: 1.2669\n"
     ]
    },
    {
     "name": "stderr",
     "output_type": "stream",
     "text": [
      "/var/folders/yz/c1z6m9_d5d3f80sywjc3rqsc0000gn/T/ipykernel_18124/2430062344.py:91: FutureWarning: The behavior of DataFrame concatenation with empty or all-NA entries is deprecated. In a future version, this will no longer exclude empty or all-NA columns when determining the result dtypes. To retain the old behavior, exclude the relevant entries before the concat operation.\n",
      "  train_history = pd.concat([train_history, pd.DataFrame([new_row])], ignore_index=True)\n"
     ]
    },
    {
     "name": "stdout",
     "output_type": "stream",
     "text": [
      "Epoch 0 - Validation Loss: 2.4382, Validation MSE: 2.4354, Validation MAE: 1.1847\n"
     ]
    },
    {
     "name": "stderr",
     "output_type": "stream",
     "text": [
      "Training Epoch 2: 100%|██████████| 499/499 [00:10<00:00, 45.73it/s]\n",
      "Training Epoch 3: 100%|██████████| 499/499 [00:11<00:00, 43.93it/s]\n",
      "Training Epoch 4: 100%|██████████| 499/499 [00:11<00:00, 42.20it/s]\n",
      "Training Epoch 5: 100%|██████████| 499/499 [00:12<00:00, 40.71it/s]\n",
      "Training Epoch 6: 100%|██████████| 499/499 [00:11<00:00, 44.91it/s]\n",
      "Training Epoch 7: 100%|██████████| 499/499 [00:11<00:00, 45.29it/s]\n",
      "Training Epoch 8: 100%|██████████| 499/499 [00:12<00:00, 40.05it/s]\n",
      "Training Epoch 9: 100%|██████████| 499/499 [00:10<00:00, 45.56it/s]\n",
      "Training Epoch 10: 100%|██████████| 499/499 [00:10<00:00, 47.50it/s]\n",
      "Training Epoch 11: 100%|██████████| 499/499 [00:10<00:00, 46.74it/s]\n"
     ]
    },
    {
     "name": "stdout",
     "output_type": "stream",
     "text": [
      "Epoch 10 - Train Loss: 2.0202, Train MSE: 2.0213, Train MAE: 1.0747\n",
      "Epoch 10 - Validation Loss: 2.3546, Validation MSE: 2.3541, Validation MAE: 1.1654\n"
     ]
    },
    {
     "name": "stderr",
     "output_type": "stream",
     "text": [
      "Training Epoch 12: 100%|██████████| 499/499 [00:10<00:00, 46.39it/s]\n",
      "Training Epoch 13: 100%|██████████| 499/499 [00:10<00:00, 47.03it/s]\n",
      "Training Epoch 14: 100%|██████████| 499/499 [00:11<00:00, 44.78it/s]\n",
      "Training Epoch 15: 100%|██████████| 499/499 [00:10<00:00, 46.04it/s]\n",
      "Training Epoch 16: 100%|██████████| 499/499 [00:10<00:00, 46.54it/s]\n",
      "Training Epoch 17: 100%|██████████| 499/499 [00:10<00:00, 46.09it/s]\n",
      "Training Epoch 18: 100%|██████████| 499/499 [00:10<00:00, 45.81it/s]\n",
      "Training Epoch 19: 100%|██████████| 499/499 [00:10<00:00, 46.45it/s]\n",
      "Training Epoch 20: 100%|██████████| 499/499 [00:10<00:00, 46.93it/s]\n",
      "Training Epoch 21: 100%|██████████| 499/499 [00:10<00:00, 45.92it/s]\n"
     ]
    },
    {
     "name": "stdout",
     "output_type": "stream",
     "text": [
      "Epoch 20 - Train Loss: 1.6938, Train MSE: 1.6949, Train MAE: 0.9861\n",
      "Epoch 20 - Validation Loss: 2.5224, Validation MSE: 2.5220, Validation MAE: 1.2299\n"
     ]
    },
    {
     "name": "stderr",
     "output_type": "stream",
     "text": [
      "Training Epoch 22: 100%|██████████| 499/499 [00:10<00:00, 46.93it/s]\n",
      "Training Epoch 23: 100%|██████████| 499/499 [00:10<00:00, 46.54it/s]\n",
      "Training Epoch 24: 100%|██████████| 499/499 [00:10<00:00, 46.48it/s]\n",
      "Training Epoch 25: 100%|██████████| 499/499 [00:11<00:00, 44.93it/s]\n",
      "Training Epoch 26: 100%|██████████| 499/499 [00:10<00:00, 45.43it/s]\n",
      "Training Epoch 27: 100%|██████████| 499/499 [00:10<00:00, 47.42it/s]\n",
      "Training Epoch 28: 100%|██████████| 499/499 [00:10<00:00, 47.79it/s]\n",
      "Training Epoch 29: 100%|██████████| 499/499 [00:10<00:00, 46.37it/s]\n",
      "Training Epoch 30: 100%|██████████| 499/499 [00:11<00:00, 45.19it/s]\n",
      "Training Epoch 31: 100%|██████████| 499/499 [00:10<00:00, 45.43it/s]\n"
     ]
    },
    {
     "name": "stdout",
     "output_type": "stream",
     "text": [
      "Epoch 30 - Train Loss: 1.3962, Train MSE: 1.3961, Train MAE: 0.8956\n",
      "Epoch 30 - Validation Loss: 2.3183, Validation MSE: 2.3177, Validation MAE: 1.1483\n"
     ]
    },
    {
     "name": "stderr",
     "output_type": "stream",
     "text": [
      "Training Epoch 32: 100%|██████████| 499/499 [00:10<00:00, 46.74it/s]\n",
      "Training Epoch 33: 100%|██████████| 499/499 [00:10<00:00, 47.35it/s]\n",
      "Training Epoch 34: 100%|██████████| 499/499 [00:10<00:00, 47.07it/s]\n",
      "Training Epoch 35: 100%|██████████| 499/499 [00:12<00:00, 41.48it/s]\n",
      "Training Epoch 36: 100%|██████████| 499/499 [00:12<00:00, 41.09it/s]\n",
      "Training Epoch 37: 100%|██████████| 499/499 [00:11<00:00, 41.91it/s]\n",
      "Training Epoch 38: 100%|██████████| 499/499 [00:12<00:00, 40.50it/s]\n",
      "Training Epoch 39: 100%|██████████| 499/499 [00:12<00:00, 40.97it/s]\n",
      "Training Epoch 40: 100%|██████████| 499/499 [00:12<00:00, 40.86it/s]\n",
      "Training Epoch 41: 100%|██████████| 499/499 [00:12<00:00, 41.16it/s]\n"
     ]
    },
    {
     "name": "stdout",
     "output_type": "stream",
     "text": [
      "Epoch 40 - Train Loss: 1.1361, Train MSE: 1.1367, Train MAE: 0.8032\n",
      "Epoch 40 - Validation Loss: 2.3423, Validation MSE: 2.3416, Validation MAE: 1.1540\n"
     ]
    },
    {
     "name": "stderr",
     "output_type": "stream",
     "text": [
      "Training Epoch 42: 100%|██████████| 499/499 [00:11<00:00, 42.08it/s]\n",
      "Training Epoch 43: 100%|██████████| 499/499 [00:11<00:00, 41.70it/s]\n",
      "Training Epoch 44: 100%|██████████| 499/499 [00:12<00:00, 40.77it/s]\n",
      "Training Epoch 45: 100%|██████████| 499/499 [00:12<00:00, 41.56it/s]\n",
      "Training Epoch 46: 100%|██████████| 499/499 [00:12<00:00, 40.74it/s]\n",
      "Training Epoch 47: 100%|██████████| 499/499 [00:12<00:00, 41.22it/s]\n",
      "Training Epoch 48: 100%|██████████| 499/499 [00:11<00:00, 42.07it/s]\n",
      "Training Epoch 49: 100%|██████████| 499/499 [00:12<00:00, 40.84it/s]\n",
      "Training Epoch 50: 100%|██████████| 499/499 [00:11<00:00, 42.09it/s]\n",
      "Training Epoch 51: 100%|██████████| 499/499 [00:11<00:00, 41.73it/s]\n"
     ]
    },
    {
     "name": "stdout",
     "output_type": "stream",
     "text": [
      "Epoch 50 - Train Loss: 0.9443, Train MSE: 0.9448, Train MAE: 0.7313\n",
      "Epoch 50 - Validation Loss: 2.3536, Validation MSE: 2.3531, Validation MAE: 1.1552\n"
     ]
    },
    {
     "name": "stderr",
     "output_type": "stream",
     "text": [
      "Training Epoch 52: 100%|██████████| 499/499 [00:12<00:00, 41.54it/s]\n",
      "Training Epoch 53: 100%|██████████| 499/499 [00:12<00:00, 40.63it/s]\n",
      "Training Epoch 54: 100%|██████████| 499/499 [00:11<00:00, 42.26it/s]\n",
      "Training Epoch 55: 100%|██████████| 499/499 [00:12<00:00, 41.09it/s]\n",
      "Training Epoch 56: 100%|██████████| 499/499 [00:12<00:00, 40.71it/s]\n",
      "Training Epoch 57: 100%|██████████| 499/499 [00:12<00:00, 41.48it/s]\n",
      "Training Epoch 58: 100%|██████████| 499/499 [00:11<00:00, 42.20it/s]\n",
      "Training Epoch 59: 100%|██████████| 499/499 [00:11<00:00, 42.07it/s]\n",
      "Training Epoch 60: 100%|██████████| 499/499 [00:12<00:00, 40.87it/s]\n",
      "Training Epoch 61: 100%|██████████| 499/499 [00:12<00:00, 40.77it/s]\n"
     ]
    },
    {
     "name": "stdout",
     "output_type": "stream",
     "text": [
      "Epoch 60 - Train Loss: 0.7813, Train MSE: 0.7805, Train MAE: 0.6600\n",
      "Epoch 60 - Validation Loss: 2.5608, Validation MSE: 2.5611, Validation MAE: 1.1843\n"
     ]
    },
    {
     "name": "stderr",
     "output_type": "stream",
     "text": [
      "Training Epoch 62: 100%|██████████| 499/499 [00:11<00:00, 41.94it/s]\n",
      "Training Epoch 63: 100%|██████████| 499/499 [00:11<00:00, 41.68it/s]\n",
      "Training Epoch 64: 100%|██████████| 499/499 [00:12<00:00, 39.74it/s]\n",
      "Training Epoch 65: 100%|██████████| 499/499 [00:12<00:00, 41.34it/s]\n",
      "Training Epoch 66: 100%|██████████| 499/499 [00:12<00:00, 40.91it/s]\n",
      "Training Epoch 67: 100%|██████████| 499/499 [00:11<00:00, 41.99it/s]\n",
      "Training Epoch 68: 100%|██████████| 499/499 [00:12<00:00, 40.91it/s]\n",
      "Training Epoch 69: 100%|██████████| 499/499 [00:12<00:00, 40.27it/s]\n",
      "Training Epoch 70: 100%|██████████| 499/499 [00:12<00:00, 41.49it/s]\n",
      "Training Epoch 71: 100%|██████████| 499/499 [00:12<00:00, 41.07it/s]\n"
     ]
    },
    {
     "name": "stdout",
     "output_type": "stream",
     "text": [
      "Epoch 70 - Train Loss: 0.6631, Train MSE: 0.6630, Train MAE: 0.6079\n",
      "Epoch 70 - Validation Loss: 2.6282, Validation MSE: 2.6283, Validation MAE: 1.2013\n"
     ]
    },
    {
     "name": "stderr",
     "output_type": "stream",
     "text": [
      "Training Epoch 72: 100%|██████████| 499/499 [00:11<00:00, 41.59it/s]\n",
      "Training Epoch 73: 100%|██████████| 499/499 [00:12<00:00, 41.33it/s]\n",
      "Training Epoch 74: 100%|██████████| 499/499 [00:12<00:00, 40.76it/s]\n",
      "Training Epoch 75: 100%|██████████| 499/499 [00:12<00:00, 41.31it/s]\n",
      "Training Epoch 76: 100%|██████████| 499/499 [00:12<00:00, 41.57it/s]\n",
      "Training Epoch 77: 100%|██████████| 499/499 [00:11<00:00, 42.41it/s]\n",
      "Training Epoch 78: 100%|██████████| 499/499 [00:11<00:00, 42.48it/s]\n",
      "Training Epoch 79: 100%|██████████| 499/499 [00:12<00:00, 40.53it/s]\n",
      "Training Epoch 80: 100%|██████████| 499/499 [00:11<00:00, 42.62it/s]\n",
      "Training Epoch 81: 100%|██████████| 499/499 [00:11<00:00, 42.26it/s]\n"
     ]
    },
    {
     "name": "stdout",
     "output_type": "stream",
     "text": [
      "Epoch 80 - Train Loss: 0.5512, Train MSE: 0.5513, Train MAE: 0.5561\n",
      "Epoch 80 - Validation Loss: 2.6873, Validation MSE: 2.6879, Validation MAE: 1.2166\n"
     ]
    },
    {
     "name": "stderr",
     "output_type": "stream",
     "text": [
      "Training Epoch 82: 100%|██████████| 499/499 [00:11<00:00, 41.63it/s]\n",
      "Training Epoch 83: 100%|██████████| 499/499 [00:12<00:00, 40.66it/s]\n",
      "Training Epoch 84: 100%|██████████| 499/499 [00:11<00:00, 41.75it/s]\n",
      "Training Epoch 85: 100%|██████████| 499/499 [00:12<00:00, 41.36it/s]\n",
      "Training Epoch 86: 100%|██████████| 499/499 [00:11<00:00, 42.45it/s]\n",
      "Training Epoch 87: 100%|██████████| 499/499 [00:11<00:00, 41.65it/s]\n",
      "Training Epoch 88: 100%|██████████| 499/499 [00:12<00:00, 41.10it/s]\n",
      "Training Epoch 89: 100%|██████████| 499/499 [00:12<00:00, 41.12it/s]\n",
      "Training Epoch 90: 100%|██████████| 499/499 [00:12<00:00, 41.36it/s]\n",
      "Training Epoch 91: 100%|██████████| 499/499 [00:12<00:00, 40.59it/s]\n"
     ]
    },
    {
     "name": "stdout",
     "output_type": "stream",
     "text": [
      "Epoch 90 - Train Loss: 0.4825, Train MSE: 0.4821, Train MAE: 0.5189\n",
      "Epoch 90 - Validation Loss: 2.5423, Validation MSE: 2.5419, Validation MAE: 1.1834\n"
     ]
    },
    {
     "name": "stderr",
     "output_type": "stream",
     "text": [
      "Training Epoch 92: 100%|██████████| 499/499 [00:12<00:00, 41.09it/s]\n",
      "Training Epoch 93: 100%|██████████| 499/499 [00:12<00:00, 41.39it/s]\n",
      "Training Epoch 94: 100%|██████████| 499/499 [00:12<00:00, 41.45it/s]\n",
      "Training Epoch 95: 100%|██████████| 499/499 [00:12<00:00, 41.23it/s]\n",
      "Training Epoch 96: 100%|██████████| 499/499 [00:12<00:00, 40.67it/s]\n",
      "Training Epoch 97: 100%|██████████| 499/499 [00:12<00:00, 41.32it/s]\n",
      "Training Epoch 98: 100%|██████████| 499/499 [00:12<00:00, 41.58it/s]\n",
      "Training Epoch 99: 100%|██████████| 499/499 [00:11<00:00, 42.29it/s]\n",
      "Training Epoch 100: 100%|██████████| 499/499 [00:11<00:00, 41.65it/s]\n",
      "Training Epoch 101: 100%|██████████| 499/499 [00:12<00:00, 40.99it/s]\n"
     ]
    },
    {
     "name": "stdout",
     "output_type": "stream",
     "text": [
      "Epoch 100 - Train Loss: 0.4375, Train MSE: 0.4376, Train MAE: 0.4885\n",
      "Epoch 100 - Validation Loss: 2.7081, Validation MSE: 2.7082, Validation MAE: 1.2181\n"
     ]
    },
    {
     "name": "stderr",
     "output_type": "stream",
     "text": [
      "Training Epoch 102: 100%|██████████| 499/499 [00:11<00:00, 41.78it/s]\n",
      "Training Epoch 103: 100%|██████████| 499/499 [00:11<00:00, 41.76it/s]\n",
      "Training Epoch 104: 100%|██████████| 499/499 [00:11<00:00, 41.93it/s]\n",
      "Training Epoch 105: 100%|██████████| 499/499 [00:11<00:00, 43.91it/s]\n",
      "Training Epoch 106: 100%|██████████| 499/499 [00:10<00:00, 48.18it/s]\n",
      "Training Epoch 107: 100%|██████████| 499/499 [00:10<00:00, 45.47it/s]\n",
      "Training Epoch 108: 100%|██████████| 499/499 [00:16<00:00, 29.55it/s]\n",
      "Training Epoch 109: 100%|██████████| 499/499 [00:13<00:00, 37.57it/s]\n",
      "Training Epoch 110: 100%|██████████| 499/499 [00:12<00:00, 40.24it/s]\n",
      "Training Epoch 111: 100%|██████████| 499/499 [00:12<00:00, 41.22it/s]\n"
     ]
    },
    {
     "name": "stdout",
     "output_type": "stream",
     "text": [
      "Epoch 110 - Train Loss: 0.4258, Train MSE: 0.4258, Train MAE: 0.4792\n",
      "Epoch 110 - Validation Loss: 2.6861, Validation MSE: 2.6852, Validation MAE: 1.2112\n"
     ]
    },
    {
     "name": "stderr",
     "output_type": "stream",
     "text": [
      "Training Epoch 112: 100%|██████████| 499/499 [00:12<00:00, 41.54it/s]\n",
      "Training Epoch 113: 100%|██████████| 499/499 [00:12<00:00, 41.57it/s]\n",
      "Training Epoch 114: 100%|██████████| 499/499 [00:12<00:00, 41.18it/s]\n",
      "Training Epoch 115: 100%|██████████| 499/499 [00:12<00:00, 41.07it/s]\n",
      "Training Epoch 116: 100%|██████████| 499/499 [00:12<00:00, 40.64it/s]\n",
      "Training Epoch 117: 100%|██████████| 499/499 [00:12<00:00, 41.36it/s]\n",
      "Training Epoch 118: 100%|██████████| 499/499 [00:11<00:00, 41.66it/s]\n",
      "Training Epoch 119: 100%|██████████| 499/499 [00:12<00:00, 41.16it/s]\n",
      "Training Epoch 120: 100%|██████████| 499/499 [00:11<00:00, 41.65it/s]\n",
      "Training Epoch 121: 100%|██████████| 499/499 [00:12<00:00, 40.78it/s]\n"
     ]
    },
    {
     "name": "stdout",
     "output_type": "stream",
     "text": [
      "Epoch 120 - Train Loss: 0.3484, Train MSE: 0.3481, Train MAE: 0.4372\n",
      "Epoch 120 - Validation Loss: 2.7886, Validation MSE: 2.7885, Validation MAE: 1.2455\n"
     ]
    },
    {
     "name": "stderr",
     "output_type": "stream",
     "text": [
      "Training Epoch 122: 100%|██████████| 499/499 [00:11<00:00, 41.72it/s]\n",
      "Training Epoch 123: 100%|██████████| 499/499 [00:11<00:00, 41.67it/s]\n",
      "Training Epoch 124: 100%|██████████| 499/499 [00:12<00:00, 41.37it/s]\n",
      "Training Epoch 125: 100%|██████████| 499/499 [00:11<00:00, 42.34it/s]\n",
      "Training Epoch 126: 100%|██████████| 499/499 [00:11<00:00, 42.21it/s]\n",
      "Training Epoch 127: 100%|██████████| 499/499 [00:12<00:00, 41.41it/s]\n",
      "Training Epoch 128: 100%|██████████| 499/499 [00:11<00:00, 41.86it/s]\n",
      "Training Epoch 129: 100%|██████████| 499/499 [00:12<00:00, 40.46it/s]\n",
      "Training Epoch 130: 100%|██████████| 499/499 [00:12<00:00, 40.97it/s]\n",
      "Training Epoch 131: 100%|██████████| 499/499 [00:11<00:00, 42.21it/s]\n"
     ]
    },
    {
     "name": "stdout",
     "output_type": "stream",
     "text": [
      "Epoch 130 - Train Loss: 0.3231, Train MSE: 0.3223, Train MAE: 0.4224\n",
      "Epoch 130 - Validation Loss: 2.7113, Validation MSE: 2.7103, Validation MAE: 1.2135\n"
     ]
    },
    {
     "name": "stderr",
     "output_type": "stream",
     "text": [
      "Training Epoch 132: 100%|██████████| 499/499 [00:12<00:00, 41.12it/s]\n",
      "Training Epoch 133: 100%|██████████| 499/499 [00:12<00:00, 41.40it/s]\n",
      "Training Epoch 134: 100%|██████████| 499/499 [00:11<00:00, 42.66it/s]\n",
      "Training Epoch 135: 100%|██████████| 499/499 [00:11<00:00, 42.72it/s]\n",
      "Training Epoch 136: 100%|██████████| 499/499 [00:12<00:00, 41.38it/s]\n",
      "Training Epoch 137: 100%|██████████| 499/499 [00:12<00:00, 41.51it/s]\n",
      "Training Epoch 138: 100%|██████████| 499/499 [00:11<00:00, 42.13it/s]\n",
      "Training Epoch 139: 100%|██████████| 499/499 [00:12<00:00, 40.69it/s]\n",
      "Training Epoch 140: 100%|██████████| 499/499 [00:12<00:00, 41.42it/s]\n",
      "Training Epoch 141: 100%|██████████| 499/499 [00:12<00:00, 40.99it/s]\n"
     ]
    },
    {
     "name": "stdout",
     "output_type": "stream",
     "text": [
      "Epoch 140 - Train Loss: 0.2961, Train MSE: 0.2960, Train MAE: 0.4014\n",
      "Epoch 140 - Validation Loss: 2.7034, Validation MSE: 2.7032, Validation MAE: 1.2163\n"
     ]
    },
    {
     "name": "stderr",
     "output_type": "stream",
     "text": [
      "Training Epoch 142: 100%|██████████| 499/499 [00:12<00:00, 41.39it/s]\n",
      "Training Epoch 143: 100%|██████████| 499/499 [00:11<00:00, 41.95it/s]\n",
      "Training Epoch 144: 100%|██████████| 499/499 [00:11<00:00, 41.98it/s]\n",
      "Training Epoch 145: 100%|██████████| 499/499 [00:12<00:00, 41.41it/s]\n",
      "Training Epoch 146: 100%|██████████| 499/499 [00:12<00:00, 41.52it/s]\n",
      "Training Epoch 147: 100%|██████████| 499/499 [00:12<00:00, 40.87it/s]\n",
      "Training Epoch 148: 100%|██████████| 499/499 [00:12<00:00, 41.23it/s]\n",
      "Training Epoch 149: 100%|██████████| 499/499 [00:11<00:00, 41.94it/s]\n",
      "Training Epoch 150: 100%|██████████| 499/499 [00:11<00:00, 41.80it/s]\n",
      "Training Epoch 151: 100%|██████████| 499/499 [00:11<00:00, 41.63it/s]\n"
     ]
    },
    {
     "name": "stdout",
     "output_type": "stream",
     "text": [
      "Epoch 150 - Train Loss: 0.2868, Train MSE: 0.2867, Train MAE: 0.3934\n",
      "Epoch 150 - Validation Loss: 2.6346, Validation MSE: 2.6350, Validation MAE: 1.2028\n"
     ]
    },
    {
     "name": "stderr",
     "output_type": "stream",
     "text": [
      "Training Epoch 152: 100%|██████████| 499/499 [00:11<00:00, 41.99it/s]\n",
      "Training Epoch 153: 100%|██████████| 499/499 [00:11<00:00, 42.22it/s]\n",
      "Training Epoch 154: 100%|██████████| 499/499 [00:12<00:00, 41.16it/s]\n",
      "Training Epoch 155: 100%|██████████| 499/499 [00:12<00:00, 40.84it/s]\n",
      "Training Epoch 156: 100%|██████████| 499/499 [00:12<00:00, 40.93it/s]\n",
      "Training Epoch 157: 100%|██████████| 499/499 [00:11<00:00, 41.62it/s]\n",
      "Training Epoch 158: 100%|██████████| 499/499 [00:12<00:00, 41.47it/s]\n",
      "Training Epoch 159: 100%|██████████| 499/499 [00:12<00:00, 41.00it/s]\n",
      "Training Epoch 160: 100%|██████████| 499/499 [00:11<00:00, 41.59it/s]\n",
      "Training Epoch 161: 100%|██████████| 499/499 [00:12<00:00, 41.21it/s]\n"
     ]
    },
    {
     "name": "stdout",
     "output_type": "stream",
     "text": [
      "Epoch 160 - Train Loss: 0.2613, Train MSE: 0.2610, Train MAE: 0.3775\n",
      "Epoch 160 - Validation Loss: 2.7663, Validation MSE: 2.7663, Validation MAE: 1.2233\n"
     ]
    },
    {
     "name": "stderr",
     "output_type": "stream",
     "text": [
      "Training Epoch 162: 100%|██████████| 499/499 [00:12<00:00, 41.44it/s]\n",
      "Training Epoch 163: 100%|██████████| 499/499 [00:12<00:00, 41.45it/s]\n",
      "Training Epoch 164: 100%|██████████| 499/499 [00:11<00:00, 41.89it/s]\n",
      "Training Epoch 165: 100%|██████████| 499/499 [00:12<00:00, 41.41it/s]\n",
      "Training Epoch 166: 100%|██████████| 499/499 [00:12<00:00, 41.25it/s]\n",
      "Training Epoch 167: 100%|██████████| 499/499 [00:11<00:00, 41.68it/s]\n",
      "Training Epoch 168: 100%|██████████| 499/499 [00:11<00:00, 41.63it/s]\n",
      "Training Epoch 169: 100%|██████████| 499/499 [00:12<00:00, 41.23it/s]\n",
      "Training Epoch 170: 100%|██████████| 499/499 [00:11<00:00, 41.78it/s]\n",
      "Training Epoch 171: 100%|██████████| 499/499 [00:12<00:00, 41.38it/s]\n"
     ]
    },
    {
     "name": "stdout",
     "output_type": "stream",
     "text": [
      "Epoch 170 - Train Loss: 0.2654, Train MSE: 0.2654, Train MAE: 0.3753\n",
      "Epoch 170 - Validation Loss: 2.6359, Validation MSE: 2.6349, Validation MAE: 1.1995\n"
     ]
    },
    {
     "name": "stderr",
     "output_type": "stream",
     "text": [
      "Training Epoch 172: 100%|██████████| 499/499 [00:11<00:00, 42.19it/s]\n",
      "Training Epoch 173: 100%|██████████| 499/499 [00:12<00:00, 41.28it/s]\n",
      "Training Epoch 174: 100%|██████████| 499/499 [00:12<00:00, 41.08it/s]\n",
      "Training Epoch 175: 100%|██████████| 499/499 [00:12<00:00, 40.93it/s]\n",
      "Training Epoch 176: 100%|██████████| 499/499 [00:12<00:00, 41.11it/s]\n",
      "Training Epoch 177: 100%|██████████| 499/499 [00:12<00:00, 41.07it/s]\n",
      "Training Epoch 178: 100%|██████████| 499/499 [00:11<00:00, 42.45it/s]\n",
      "Training Epoch 179: 100%|██████████| 499/499 [00:12<00:00, 41.34it/s]\n",
      "Training Epoch 180: 100%|██████████| 499/499 [00:12<00:00, 39.93it/s]\n",
      "Training Epoch 181: 100%|██████████| 499/499 [00:12<00:00, 39.76it/s]\n"
     ]
    },
    {
     "name": "stdout",
     "output_type": "stream",
     "text": [
      "Epoch 180 - Train Loss: 0.2297, Train MSE: 0.2296, Train MAE: 0.3510\n",
      "Epoch 180 - Validation Loss: 2.5769, Validation MSE: 2.5756, Validation MAE: 1.1819\n"
     ]
    },
    {
     "name": "stderr",
     "output_type": "stream",
     "text": [
      "Training Epoch 182: 100%|██████████| 499/499 [00:12<00:00, 40.94it/s]\n",
      "Training Epoch 183: 100%|██████████| 499/499 [00:12<00:00, 40.56it/s]\n",
      "Training Epoch 184: 100%|██████████| 499/499 [00:12<00:00, 41.53it/s]\n",
      "Training Epoch 185: 100%|██████████| 499/499 [00:12<00:00, 41.40it/s]\n",
      "Training Epoch 186: 100%|██████████| 499/499 [00:12<00:00, 40.32it/s]\n",
      "Training Epoch 187: 100%|██████████| 499/499 [00:12<00:00, 41.17it/s]\n",
      "Training Epoch 188: 100%|██████████| 499/499 [00:12<00:00, 40.79it/s]\n",
      "Training Epoch 189: 100%|██████████| 499/499 [00:11<00:00, 41.89it/s]\n",
      "Training Epoch 190: 100%|██████████| 499/499 [00:12<00:00, 41.25it/s]\n",
      "Training Epoch 191: 100%|██████████| 499/499 [00:12<00:00, 41.43it/s]\n"
     ]
    },
    {
     "name": "stdout",
     "output_type": "stream",
     "text": [
      "Epoch 190 - Train Loss: 0.2287, Train MSE: 0.2284, Train MAE: 0.3494\n",
      "Epoch 190 - Validation Loss: 2.5789, Validation MSE: 2.5777, Validation MAE: 1.1943\n"
     ]
    },
    {
     "name": "stderr",
     "output_type": "stream",
     "text": [
      "Training Epoch 192: 100%|██████████| 499/499 [00:12<00:00, 40.26it/s]\n",
      "Training Epoch 193: 100%|██████████| 499/499 [00:12<00:00, 41.36it/s]\n",
      "Training Epoch 194: 100%|██████████| 499/499 [00:12<00:00, 41.37it/s]\n",
      "Training Epoch 195: 100%|██████████| 499/499 [00:12<00:00, 41.31it/s]\n",
      "Training Epoch 196: 100%|██████████| 499/499 [00:12<00:00, 41.14it/s]\n",
      "Training Epoch 197: 100%|██████████| 499/499 [00:12<00:00, 41.09it/s]\n",
      "Training Epoch 198: 100%|██████████| 499/499 [00:12<00:00, 41.25it/s]\n",
      "Training Epoch 199: 100%|██████████| 499/499 [00:12<00:00, 39.83it/s]\n",
      "Training Epoch 200: 100%|██████████| 499/499 [00:12<00:00, 40.98it/s]\n",
      "Training Epoch 201: 100%|██████████| 499/499 [00:11<00:00, 41.63it/s]\n"
     ]
    },
    {
     "name": "stdout",
     "output_type": "stream",
     "text": [
      "Epoch 200 - Train Loss: 0.2216, Train MSE: 0.2217, Train MAE: 0.3438\n",
      "Epoch 200 - Validation Loss: 2.5077, Validation MSE: 2.5064, Validation MAE: 1.1677\n"
     ]
    },
    {
     "name": "stderr",
     "output_type": "stream",
     "text": [
      "Training Epoch 202: 100%|██████████| 499/499 [00:12<00:00, 40.56it/s]\n",
      "Training Epoch 203: 100%|██████████| 499/499 [00:12<00:00, 41.23it/s]\n",
      "Training Epoch 204: 100%|██████████| 499/499 [00:12<00:00, 40.77it/s]\n",
      "Training Epoch 205: 100%|██████████| 499/499 [00:12<00:00, 40.65it/s]\n",
      "Training Epoch 206: 100%|██████████| 499/499 [00:11<00:00, 42.14it/s]\n",
      "Training Epoch 207: 100%|██████████| 499/499 [00:11<00:00, 41.65it/s]\n",
      "Training Epoch 208: 100%|██████████| 499/499 [00:11<00:00, 41.85it/s]\n",
      "Training Epoch 209: 100%|██████████| 499/499 [00:12<00:00, 41.08it/s]\n",
      "Training Epoch 210: 100%|██████████| 499/499 [00:12<00:00, 41.16it/s]\n",
      "Training Epoch 211: 100%|██████████| 499/499 [00:12<00:00, 40.55it/s]\n"
     ]
    },
    {
     "name": "stdout",
     "output_type": "stream",
     "text": [
      "Epoch 210 - Train Loss: 0.1978, Train MSE: 0.1980, Train MAE: 0.3251\n",
      "Epoch 210 - Validation Loss: 2.5845, Validation MSE: 2.5842, Validation MAE: 1.1902\n"
     ]
    },
    {
     "name": "stderr",
     "output_type": "stream",
     "text": [
      "Training Epoch 212: 100%|██████████| 499/499 [00:12<00:00, 41.29it/s]\n",
      "Training Epoch 213: 100%|██████████| 499/499 [00:12<00:00, 41.52it/s]\n",
      "Training Epoch 214: 100%|██████████| 499/499 [00:12<00:00, 40.28it/s]\n",
      "Training Epoch 215: 100%|██████████| 499/499 [00:11<00:00, 41.68it/s]\n",
      "Training Epoch 216: 100%|██████████| 499/499 [00:12<00:00, 40.87it/s]\n",
      "Training Epoch 217: 100%|██████████| 499/499 [00:12<00:00, 41.11it/s]\n",
      "Training Epoch 218: 100%|██████████| 499/499 [00:12<00:00, 41.08it/s]\n",
      "Training Epoch 219: 100%|██████████| 499/499 [00:12<00:00, 41.53it/s]\n",
      "Training Epoch 220: 100%|██████████| 499/499 [00:12<00:00, 41.56it/s]\n",
      "Training Epoch 221: 100%|██████████| 499/499 [00:11<00:00, 42.04it/s]\n"
     ]
    },
    {
     "name": "stdout",
     "output_type": "stream",
     "text": [
      "Epoch 220 - Train Loss: 0.1963, Train MSE: 0.1963, Train MAE: 0.3220\n",
      "Epoch 220 - Validation Loss: 2.4681, Validation MSE: 2.4672, Validation MAE: 1.1699\n"
     ]
    },
    {
     "name": "stderr",
     "output_type": "stream",
     "text": [
      "Training Epoch 222: 100%|██████████| 499/499 [00:12<00:00, 41.19it/s]\n",
      "Training Epoch 223: 100%|██████████| 499/499 [00:12<00:00, 40.20it/s]\n",
      "Training Epoch 224: 100%|██████████| 499/499 [00:12<00:00, 41.23it/s]\n",
      "Training Epoch 225: 100%|██████████| 499/499 [00:11<00:00, 42.24it/s]\n",
      "Training Epoch 226: 100%|██████████| 499/499 [00:11<00:00, 42.22it/s]\n",
      "Training Epoch 227: 100%|██████████| 499/499 [00:12<00:00, 40.97it/s]\n",
      "Training Epoch 228: 100%|██████████| 499/499 [00:12<00:00, 40.63it/s]\n",
      "Training Epoch 229: 100%|██████████| 499/499 [00:12<00:00, 41.10it/s]\n",
      "Training Epoch 230: 100%|██████████| 499/499 [00:11<00:00, 41.77it/s]\n",
      "Training Epoch 231: 100%|██████████| 499/499 [00:11<00:00, 42.00it/s]\n"
     ]
    },
    {
     "name": "stdout",
     "output_type": "stream",
     "text": [
      "Epoch 230 - Train Loss: 0.1864, Train MSE: 0.1866, Train MAE: 0.3162\n",
      "Epoch 230 - Validation Loss: 2.5166, Validation MSE: 2.5157, Validation MAE: 1.1761\n"
     ]
    },
    {
     "name": "stderr",
     "output_type": "stream",
     "text": [
      "Training Epoch 232: 100%|██████████| 499/499 [00:12<00:00, 40.72it/s]\n",
      "Training Epoch 233: 100%|██████████| 499/499 [00:11<00:00, 41.62it/s]\n",
      "Training Epoch 234: 100%|██████████| 499/499 [00:12<00:00, 41.30it/s]\n",
      "Training Epoch 235: 100%|██████████| 499/499 [00:12<00:00, 41.58it/s]\n",
      "Training Epoch 236: 100%|██████████| 499/499 [00:11<00:00, 41.71it/s]\n",
      "Training Epoch 237: 100%|██████████| 499/499 [00:12<00:00, 40.24it/s]\n",
      "Training Epoch 238: 100%|██████████| 499/499 [00:12<00:00, 39.39it/s]\n",
      "Training Epoch 239: 100%|██████████| 499/499 [00:12<00:00, 41.22it/s]\n",
      "Training Epoch 240: 100%|██████████| 499/499 [00:12<00:00, 40.48it/s]\n",
      "Training Epoch 241: 100%|██████████| 499/499 [00:11<00:00, 41.71it/s]\n"
     ]
    },
    {
     "name": "stdout",
     "output_type": "stream",
     "text": [
      "Epoch 240 - Train Loss: 0.1773, Train MSE: 0.1773, Train MAE: 0.3092\n",
      "Epoch 240 - Validation Loss: 2.4833, Validation MSE: 2.4826, Validation MAE: 1.1662\n"
     ]
    },
    {
     "name": "stderr",
     "output_type": "stream",
     "text": [
      "Training Epoch 242: 100%|██████████| 499/499 [00:12<00:00, 41.29it/s]\n",
      "Training Epoch 243: 100%|██████████| 499/499 [00:12<00:00, 41.15it/s]\n",
      "Training Epoch 244: 100%|██████████| 499/499 [00:11<00:00, 42.12it/s]\n",
      "Training Epoch 245: 100%|██████████| 499/499 [00:12<00:00, 41.07it/s]\n",
      "Training Epoch 246: 100%|██████████| 499/499 [00:12<00:00, 40.99it/s]\n",
      "Training Epoch 247: 100%|██████████| 499/499 [00:12<00:00, 41.30it/s]\n",
      "Training Epoch 248: 100%|██████████| 499/499 [00:11<00:00, 41.65it/s]\n",
      "Training Epoch 249: 100%|██████████| 499/499 [00:11<00:00, 42.09it/s]\n",
      "Training Epoch 250: 100%|██████████| 499/499 [00:11<00:00, 41.73it/s]\n",
      "Training Epoch 251: 100%|██████████| 499/499 [00:12<00:00, 40.65it/s]\n"
     ]
    },
    {
     "name": "stdout",
     "output_type": "stream",
     "text": [
      "Epoch 250 - Train Loss: 0.1688, Train MSE: 0.1689, Train MAE: 0.2984\n",
      "Epoch 250 - Validation Loss: 2.4813, Validation MSE: 2.4793, Validation MAE: 1.1684\n"
     ]
    },
    {
     "name": "stderr",
     "output_type": "stream",
     "text": [
      "Training Epoch 252: 100%|██████████| 499/499 [00:12<00:00, 40.88it/s]\n",
      "Training Epoch 253: 100%|██████████| 499/499 [00:11<00:00, 42.16it/s]\n",
      "Training Epoch 254: 100%|██████████| 499/499 [00:12<00:00, 40.12it/s]\n",
      "Training Epoch 255: 100%|██████████| 499/499 [00:11<00:00, 42.14it/s]\n",
      "Training Epoch 256: 100%|██████████| 499/499 [00:11<00:00, 41.68it/s]\n",
      "Training Epoch 257: 100%|██████████| 499/499 [00:12<00:00, 41.51it/s]\n",
      "Training Epoch 258: 100%|██████████| 499/499 [00:12<00:00, 40.88it/s]\n",
      "Training Epoch 259: 100%|██████████| 499/499 [00:12<00:00, 41.39it/s]\n",
      "Training Epoch 260: 100%|██████████| 499/499 [00:12<00:00, 40.48it/s]\n",
      "Training Epoch 261: 100%|██████████| 499/499 [00:12<00:00, 40.90it/s]\n"
     ]
    },
    {
     "name": "stdout",
     "output_type": "stream",
     "text": [
      "Epoch 260 - Train Loss: 0.1605, Train MSE: 0.1604, Train MAE: 0.2910\n",
      "Epoch 260 - Validation Loss: 2.5288, Validation MSE: 2.5278, Validation MAE: 1.1693\n"
     ]
    },
    {
     "name": "stderr",
     "output_type": "stream",
     "text": [
      "Training Epoch 262: 100%|██████████| 499/499 [00:12<00:00, 40.55it/s]\n",
      "Training Epoch 263: 100%|██████████| 499/499 [00:12<00:00, 40.24it/s]\n",
      "Training Epoch 264: 100%|██████████| 499/499 [00:11<00:00, 42.28it/s]\n",
      "Training Epoch 265: 100%|██████████| 499/499 [00:12<00:00, 40.06it/s]\n",
      "Training Epoch 266: 100%|██████████| 499/499 [00:11<00:00, 42.12it/s]\n",
      "Training Epoch 267: 100%|██████████| 499/499 [00:11<00:00, 42.45it/s]\n",
      "Training Epoch 268: 100%|██████████| 499/499 [00:12<00:00, 40.98it/s]\n",
      "Training Epoch 269: 100%|██████████| 499/499 [00:12<00:00, 40.94it/s]\n",
      "Training Epoch 270: 100%|██████████| 499/499 [00:12<00:00, 41.28it/s]\n",
      "Training Epoch 271: 100%|██████████| 499/499 [00:11<00:00, 41.87it/s]\n"
     ]
    },
    {
     "name": "stdout",
     "output_type": "stream",
     "text": [
      "Epoch 270 - Train Loss: 0.1682, Train MSE: 0.1683, Train MAE: 0.2948\n",
      "Epoch 270 - Validation Loss: 2.5710, Validation MSE: 2.5705, Validation MAE: 1.1884\n"
     ]
    },
    {
     "name": "stderr",
     "output_type": "stream",
     "text": [
      "Training Epoch 272: 100%|██████████| 499/499 [00:12<00:00, 41.50it/s]\n",
      "Training Epoch 273: 100%|██████████| 499/499 [00:11<00:00, 41.74it/s]\n",
      "Training Epoch 274: 100%|██████████| 499/499 [00:12<00:00, 41.47it/s]\n",
      "Training Epoch 275: 100%|██████████| 499/499 [00:12<00:00, 41.32it/s]\n",
      "Training Epoch 276: 100%|██████████| 499/499 [00:12<00:00, 40.62it/s]\n",
      "Training Epoch 277: 100%|██████████| 499/499 [00:11<00:00, 42.10it/s]\n",
      "Training Epoch 278: 100%|██████████| 499/499 [00:11<00:00, 41.86it/s]\n",
      "Training Epoch 279: 100%|██████████| 499/499 [00:12<00:00, 40.72it/s]\n",
      "Training Epoch 280: 100%|██████████| 499/499 [00:11<00:00, 41.62it/s]\n",
      "Training Epoch 281: 100%|██████████| 499/499 [00:12<00:00, 41.02it/s]\n"
     ]
    },
    {
     "name": "stdout",
     "output_type": "stream",
     "text": [
      "Epoch 280 - Train Loss: 0.1555, Train MSE: 0.1555, Train MAE: 0.2883\n",
      "Epoch 280 - Validation Loss: 2.5053, Validation MSE: 2.5037, Validation MAE: 1.1709\n"
     ]
    },
    {
     "name": "stderr",
     "output_type": "stream",
     "text": [
      "Training Epoch 282: 100%|██████████| 499/499 [00:12<00:00, 41.25it/s]\n",
      "Training Epoch 283: 100%|██████████| 499/499 [00:11<00:00, 41.67it/s]\n",
      "Training Epoch 284: 100%|██████████| 499/499 [00:12<00:00, 40.49it/s]\n",
      "Training Epoch 285: 100%|██████████| 499/499 [00:11<00:00, 41.66it/s]\n",
      "Training Epoch 286: 100%|██████████| 499/499 [00:12<00:00, 41.37it/s]\n",
      "Training Epoch 287: 100%|██████████| 499/499 [00:12<00:00, 40.10it/s]\n",
      "Training Epoch 288: 100%|██████████| 499/499 [00:12<00:00, 41.19it/s]\n",
      "Training Epoch 289: 100%|██████████| 499/499 [00:11<00:00, 42.32it/s]\n",
      "Training Epoch 290: 100%|██████████| 499/499 [00:12<00:00, 41.47it/s]\n",
      "Training Epoch 291: 100%|██████████| 499/499 [00:12<00:00, 41.34it/s]\n"
     ]
    },
    {
     "name": "stdout",
     "output_type": "stream",
     "text": [
      "Epoch 290 - Train Loss: 0.1565, Train MSE: 0.1566, Train MAE: 0.2855\n",
      "Epoch 290 - Validation Loss: 2.5309, Validation MSE: 2.5296, Validation MAE: 1.1738\n"
     ]
    },
    {
     "name": "stderr",
     "output_type": "stream",
     "text": [
      "Training Epoch 292: 100%|██████████| 499/499 [00:12<00:00, 40.79it/s]\n",
      "Training Epoch 293: 100%|██████████| 499/499 [00:12<00:00, 41.19it/s]\n",
      "Training Epoch 294: 100%|██████████| 499/499 [00:12<00:00, 41.42it/s]\n",
      "Training Epoch 295: 100%|██████████| 499/499 [00:12<00:00, 40.51it/s]\n",
      "Training Epoch 296: 100%|██████████| 499/499 [00:12<00:00, 41.53it/s]\n",
      "Training Epoch 297: 100%|██████████| 499/499 [00:12<00:00, 40.49it/s]\n",
      "Training Epoch 298: 100%|██████████| 499/499 [00:12<00:00, 41.15it/s]\n",
      "Training Epoch 299: 100%|██████████| 499/499 [00:12<00:00, 41.40it/s]\n",
      "Training Epoch 300: 100%|██████████| 499/499 [00:12<00:00, 40.86it/s]\n",
      "Training Epoch 301: 100%|██████████| 499/499 [00:12<00:00, 40.97it/s]\n"
     ]
    },
    {
     "name": "stdout",
     "output_type": "stream",
     "text": [
      "Epoch 300 - Train Loss: 0.1483, Train MSE: 0.1484, Train MAE: 0.2790\n",
      "Epoch 300 - Validation Loss: 2.4526, Validation MSE: 2.4513, Validation MAE: 1.1569\n"
     ]
    },
    {
     "name": "stderr",
     "output_type": "stream",
     "text": [
      "Training Epoch 302: 100%|██████████| 499/499 [00:12<00:00, 41.14it/s]\n",
      "Training Epoch 303: 100%|██████████| 499/499 [00:12<00:00, 40.67it/s]\n",
      "Training Epoch 304: 100%|██████████| 499/499 [00:12<00:00, 40.73it/s]\n",
      "Training Epoch 305: 100%|██████████| 499/499 [00:12<00:00, 40.69it/s]\n",
      "Training Epoch 306: 100%|██████████| 499/499 [00:12<00:00, 40.21it/s]\n",
      "Training Epoch 307: 100%|██████████| 499/499 [00:11<00:00, 41.84it/s]\n",
      "Training Epoch 308: 100%|██████████| 499/499 [00:12<00:00, 41.07it/s]\n",
      "Training Epoch 309: 100%|██████████| 499/499 [00:12<00:00, 40.93it/s]\n",
      "Training Epoch 310: 100%|██████████| 499/499 [00:12<00:00, 40.94it/s]\n",
      "Training Epoch 311: 100%|██████████| 499/499 [00:12<00:00, 41.41it/s]\n"
     ]
    },
    {
     "name": "stdout",
     "output_type": "stream",
     "text": [
      "Epoch 310 - Train Loss: 0.1405, Train MSE: 0.1405, Train MAE: 0.2734\n",
      "Epoch 310 - Validation Loss: 2.3899, Validation MSE: 2.3881, Validation MAE: 1.1364\n"
     ]
    },
    {
     "name": "stderr",
     "output_type": "stream",
     "text": [
      "Training Epoch 312: 100%|██████████| 499/499 [00:12<00:00, 41.45it/s]\n",
      "Training Epoch 313: 100%|██████████| 499/499 [00:12<00:00, 40.44it/s]\n",
      "Training Epoch 314: 100%|██████████| 499/499 [00:11<00:00, 41.67it/s]\n",
      "Training Epoch 315: 100%|██████████| 499/499 [00:11<00:00, 42.23it/s]\n",
      "Training Epoch 316: 100%|██████████| 499/499 [00:11<00:00, 41.99it/s]\n",
      "Training Epoch 317: 100%|██████████| 499/499 [00:12<00:00, 40.94it/s]\n",
      "Training Epoch 318: 100%|██████████| 499/499 [00:12<00:00, 39.64it/s]\n",
      "Training Epoch 319: 100%|██████████| 499/499 [00:12<00:00, 41.51it/s]\n",
      "Training Epoch 320: 100%|██████████| 499/499 [00:12<00:00, 41.03it/s]\n",
      "Training Epoch 321: 100%|██████████| 499/499 [00:13<00:00, 38.21it/s]\n"
     ]
    },
    {
     "name": "stdout",
     "output_type": "stream",
     "text": [
      "Epoch 320 - Train Loss: 0.1468, Train MSE: 0.1466, Train MAE: 0.2738\n",
      "Epoch 320 - Validation Loss: 2.4508, Validation MSE: 2.4497, Validation MAE: 1.1536\n"
     ]
    },
    {
     "name": "stderr",
     "output_type": "stream",
     "text": [
      "Training Epoch 322: 100%|██████████| 499/499 [00:13<00:00, 37.77it/s]\n",
      "Training Epoch 323: 100%|██████████| 499/499 [00:12<00:00, 40.72it/s]\n",
      "Training Epoch 324: 100%|██████████| 499/499 [00:12<00:00, 40.45it/s]\n",
      "Training Epoch 325: 100%|██████████| 499/499 [00:12<00:00, 40.56it/s]\n",
      "Training Epoch 326: 100%|██████████| 499/499 [00:11<00:00, 41.61it/s]\n",
      "Training Epoch 327: 100%|██████████| 499/499 [00:12<00:00, 40.49it/s]\n",
      "Training Epoch 328: 100%|██████████| 499/499 [00:12<00:00, 40.01it/s]\n",
      "Training Epoch 329: 100%|██████████| 499/499 [00:12<00:00, 41.21it/s]\n",
      "Training Epoch 330: 100%|██████████| 499/499 [00:12<00:00, 40.62it/s]\n",
      "Training Epoch 331: 100%|██████████| 499/499 [00:12<00:00, 41.44it/s]\n"
     ]
    },
    {
     "name": "stdout",
     "output_type": "stream",
     "text": [
      "Epoch 330 - Train Loss: 0.1603, Train MSE: 0.1601, Train MAE: 0.2829\n",
      "Epoch 330 - Validation Loss: 2.4666, Validation MSE: 2.4641, Validation MAE: 1.1706\n"
     ]
    },
    {
     "name": "stderr",
     "output_type": "stream",
     "text": [
      "Training Epoch 332: 100%|██████████| 499/499 [00:11<00:00, 42.63it/s]\n",
      "Training Epoch 333: 100%|██████████| 499/499 [00:12<00:00, 40.59it/s]\n",
      "Training Epoch 334: 100%|██████████| 499/499 [00:12<00:00, 40.64it/s]\n",
      "Training Epoch 335: 100%|██████████| 499/499 [00:12<00:00, 41.56it/s]\n",
      "Training Epoch 336: 100%|██████████| 499/499 [00:12<00:00, 40.63it/s]\n",
      "Training Epoch 337: 100%|██████████| 499/499 [00:12<00:00, 40.91it/s]\n",
      "Training Epoch 338: 100%|██████████| 499/499 [00:12<00:00, 41.37it/s]\n",
      "Training Epoch 339: 100%|██████████| 499/499 [00:12<00:00, 40.99it/s]\n",
      "Training Epoch 340: 100%|██████████| 499/499 [00:11<00:00, 41.92it/s]\n",
      "Training Epoch 341: 100%|██████████| 499/499 [00:11<00:00, 41.61it/s]\n"
     ]
    },
    {
     "name": "stdout",
     "output_type": "stream",
     "text": [
      "Epoch 340 - Train Loss: 0.1293, Train MSE: 0.1294, Train MAE: 0.2634\n",
      "Epoch 340 - Validation Loss: 2.4730, Validation MSE: 2.4719, Validation MAE: 1.1585\n"
     ]
    },
    {
     "name": "stderr",
     "output_type": "stream",
     "text": [
      "Training Epoch 342: 100%|██████████| 499/499 [00:12<00:00, 40.86it/s]\n",
      "Training Epoch 343: 100%|██████████| 499/499 [00:12<00:00, 40.40it/s]\n",
      "Training Epoch 344: 100%|██████████| 499/499 [00:12<00:00, 40.89it/s]\n",
      "Training Epoch 345: 100%|██████████| 499/499 [00:11<00:00, 41.84it/s]\n",
      "Training Epoch 346: 100%|██████████| 499/499 [00:12<00:00, 40.79it/s]\n",
      "Training Epoch 347: 100%|██████████| 499/499 [00:12<00:00, 40.06it/s]\n",
      "Training Epoch 348: 100%|██████████| 499/499 [00:12<00:00, 41.01it/s]\n",
      "Training Epoch 349: 100%|██████████| 499/499 [00:11<00:00, 41.99it/s]\n",
      "Training Epoch 350: 100%|██████████| 499/499 [00:12<00:00, 40.77it/s]\n",
      "Training Epoch 351: 100%|██████████| 499/499 [00:12<00:00, 41.27it/s]\n"
     ]
    },
    {
     "name": "stdout",
     "output_type": "stream",
     "text": [
      "Epoch 350 - Train Loss: 0.1259, Train MSE: 0.1259, Train MAE: 0.2570\n",
      "Epoch 350 - Validation Loss: 2.4436, Validation MSE: 2.4419, Validation MAE: 1.1605\n"
     ]
    },
    {
     "name": "stderr",
     "output_type": "stream",
     "text": [
      "Training Epoch 352: 100%|██████████| 499/499 [00:12<00:00, 41.40it/s]\n",
      "Training Epoch 353: 100%|██████████| 499/499 [00:12<00:00, 40.32it/s]\n",
      "Training Epoch 354: 100%|██████████| 499/499 [00:12<00:00, 40.94it/s]\n",
      "Training Epoch 355: 100%|██████████| 499/499 [00:12<00:00, 41.56it/s]\n",
      "Training Epoch 356: 100%|██████████| 499/499 [00:12<00:00, 41.01it/s]\n",
      "Training Epoch 357: 100%|██████████| 499/499 [00:12<00:00, 41.12it/s]\n",
      "Training Epoch 358: 100%|██████████| 499/499 [00:12<00:00, 41.40it/s]\n",
      "Training Epoch 359: 100%|██████████| 499/499 [00:12<00:00, 40.08it/s]\n",
      "Training Epoch 360: 100%|██████████| 499/499 [00:11<00:00, 42.62it/s]\n",
      "Training Epoch 361: 100%|██████████| 499/499 [00:12<00:00, 40.15it/s]\n"
     ]
    },
    {
     "name": "stdout",
     "output_type": "stream",
     "text": [
      "Epoch 360 - Train Loss: 0.1254, Train MSE: 0.1255, Train MAE: 0.2566\n",
      "Epoch 360 - Validation Loss: 2.4645, Validation MSE: 2.4631, Validation MAE: 1.1606\n"
     ]
    },
    {
     "name": "stderr",
     "output_type": "stream",
     "text": [
      "Training Epoch 362: 100%|██████████| 499/499 [00:12<00:00, 40.83it/s]\n",
      "Training Epoch 363: 100%|██████████| 499/499 [00:12<00:00, 40.73it/s]\n",
      "Training Epoch 364: 100%|██████████| 499/499 [00:11<00:00, 41.80it/s]\n",
      "Training Epoch 365: 100%|██████████| 499/499 [00:12<00:00, 40.85it/s]\n",
      "Training Epoch 366: 100%|██████████| 499/499 [00:12<00:00, 40.93it/s]\n",
      "Training Epoch 367: 100%|██████████| 499/499 [00:12<00:00, 41.08it/s]\n",
      "Training Epoch 368: 100%|██████████| 499/499 [00:12<00:00, 41.42it/s]\n",
      "Training Epoch 369: 100%|██████████| 499/499 [00:12<00:00, 41.31it/s]\n",
      "Training Epoch 370: 100%|██████████| 499/499 [00:12<00:00, 40.64it/s]\n",
      "Training Epoch 371: 100%|██████████| 499/499 [00:12<00:00, 41.00it/s]\n"
     ]
    },
    {
     "name": "stdout",
     "output_type": "stream",
     "text": [
      "Epoch 370 - Train Loss: 0.1192, Train MSE: 0.1192, Train MAE: 0.2477\n",
      "Epoch 370 - Validation Loss: 2.4128, Validation MSE: 2.4108, Validation MAE: 1.1577\n"
     ]
    },
    {
     "name": "stderr",
     "output_type": "stream",
     "text": [
      "Training Epoch 372: 100%|██████████| 499/499 [00:12<00:00, 41.48it/s]\n",
      "Training Epoch 373: 100%|██████████| 499/499 [00:12<00:00, 40.86it/s]\n",
      "Training Epoch 374: 100%|██████████| 499/499 [00:12<00:00, 40.33it/s]\n",
      "Training Epoch 375: 100%|██████████| 499/499 [00:12<00:00, 41.10it/s]\n",
      "Training Epoch 376: 100%|██████████| 499/499 [00:12<00:00, 40.66it/s]\n",
      "Training Epoch 377: 100%|██████████| 499/499 [00:12<00:00, 41.13it/s]\n",
      "Training Epoch 378: 100%|██████████| 499/499 [00:12<00:00, 41.56it/s]\n",
      "Training Epoch 379: 100%|██████████| 499/499 [00:12<00:00, 40.46it/s]\n",
      "Training Epoch 380: 100%|██████████| 499/499 [00:12<00:00, 40.56it/s]\n",
      "Training Epoch 381: 100%|██████████| 499/499 [00:12<00:00, 41.50it/s]\n"
     ]
    },
    {
     "name": "stdout",
     "output_type": "stream",
     "text": [
      "Epoch 380 - Train Loss: 0.1277, Train MSE: 0.1277, Train MAE: 0.2559\n",
      "Epoch 380 - Validation Loss: 2.4588, Validation MSE: 2.4579, Validation MAE: 1.1630\n"
     ]
    },
    {
     "name": "stderr",
     "output_type": "stream",
     "text": [
      "Training Epoch 382: 100%|██████████| 499/499 [00:12<00:00, 40.95it/s]\n",
      "Training Epoch 383: 100%|██████████| 499/499 [00:12<00:00, 40.92it/s]\n",
      "Training Epoch 384: 100%|██████████| 499/499 [00:12<00:00, 41.38it/s]\n",
      "Training Epoch 385: 100%|██████████| 499/499 [00:12<00:00, 40.27it/s]\n",
      "Training Epoch 386: 100%|██████████| 499/499 [00:12<00:00, 41.54it/s]\n",
      "Training Epoch 387: 100%|██████████| 499/499 [00:12<00:00, 41.48it/s]\n",
      "Training Epoch 388: 100%|██████████| 499/499 [00:12<00:00, 40.53it/s]\n",
      "Training Epoch 389: 100%|██████████| 499/499 [00:11<00:00, 42.03it/s]\n",
      "Training Epoch 390: 100%|██████████| 499/499 [00:12<00:00, 41.56it/s]\n",
      "Training Epoch 391: 100%|██████████| 499/499 [00:11<00:00, 41.64it/s]\n"
     ]
    },
    {
     "name": "stdout",
     "output_type": "stream",
     "text": [
      "Epoch 390 - Train Loss: 0.1173, Train MSE: 0.1174, Train MAE: 0.2500\n",
      "Epoch 390 - Validation Loss: 2.4828, Validation MSE: 2.4814, Validation MAE: 1.1658\n"
     ]
    },
    {
     "name": "stderr",
     "output_type": "stream",
     "text": [
      "Training Epoch 392: 100%|██████████| 499/499 [00:12<00:00, 41.56it/s]\n",
      "Training Epoch 393: 100%|██████████| 499/499 [00:12<00:00, 40.87it/s]\n",
      "Training Epoch 394: 100%|██████████| 499/499 [00:11<00:00, 41.98it/s]\n",
      "Training Epoch 395: 100%|██████████| 499/499 [00:12<00:00, 41.38it/s]\n",
      "Training Epoch 396: 100%|██████████| 499/499 [00:12<00:00, 40.40it/s]\n",
      "Training Epoch 397: 100%|██████████| 499/499 [00:11<00:00, 41.60it/s]\n",
      "Training Epoch 398: 100%|██████████| 499/499 [00:11<00:00, 41.81it/s]\n",
      "Training Epoch 399: 100%|██████████| 499/499 [00:11<00:00, 41.64it/s]\n",
      "Training Epoch 400: 100%|██████████| 499/499 [00:12<00:00, 40.98it/s]\n",
      "Training Epoch 401: 100%|██████████| 499/499 [00:11<00:00, 41.87it/s]\n"
     ]
    },
    {
     "name": "stdout",
     "output_type": "stream",
     "text": [
      "Epoch 400 - Train Loss: 0.1105, Train MSE: 0.1106, Train MAE: 0.2408\n",
      "Epoch 400 - Validation Loss: 2.4298, Validation MSE: 2.4278, Validation MAE: 1.1504\n"
     ]
    },
    {
     "name": "stderr",
     "output_type": "stream",
     "text": [
      "Training Epoch 402: 100%|██████████| 499/499 [00:12<00:00, 41.45it/s]\n",
      "Training Epoch 403: 100%|██████████| 499/499 [00:12<00:00, 41.33it/s]\n",
      "Training Epoch 404: 100%|██████████| 499/499 [00:11<00:00, 41.99it/s]\n",
      "Training Epoch 405: 100%|██████████| 499/499 [00:12<00:00, 40.79it/s]\n",
      "Training Epoch 406: 100%|██████████| 499/499 [00:11<00:00, 41.93it/s]\n",
      "Training Epoch 407: 100%|██████████| 499/499 [00:12<00:00, 40.68it/s]\n",
      "Training Epoch 408: 100%|██████████| 499/499 [00:12<00:00, 40.65it/s]\n",
      "Training Epoch 409: 100%|██████████| 499/499 [00:12<00:00, 39.00it/s]\n",
      "Training Epoch 410: 100%|██████████| 499/499 [00:12<00:00, 41.24it/s]\n",
      "Training Epoch 411: 100%|██████████| 499/499 [00:12<00:00, 40.77it/s]\n"
     ]
    },
    {
     "name": "stdout",
     "output_type": "stream",
     "text": [
      "Epoch 410 - Train Loss: 0.1053, Train MSE: 0.1053, Train MAE: 0.2358\n",
      "Epoch 410 - Validation Loss: 2.4877, Validation MSE: 2.4859, Validation MAE: 1.1682\n"
     ]
    },
    {
     "name": "stderr",
     "output_type": "stream",
     "text": [
      "Training Epoch 412: 100%|██████████| 499/499 [00:11<00:00, 42.53it/s]\n",
      "Training Epoch 413: 100%|██████████| 499/499 [00:12<00:00, 41.37it/s]\n",
      "Training Epoch 414: 100%|██████████| 499/499 [00:12<00:00, 40.89it/s]\n",
      "Training Epoch 415: 100%|██████████| 499/499 [00:12<00:00, 40.68it/s]\n",
      "Training Epoch 416: 100%|██████████| 499/499 [00:12<00:00, 41.45it/s]\n",
      "Training Epoch 417: 100%|██████████| 499/499 [00:12<00:00, 40.62it/s]\n",
      "Training Epoch 418: 100%|██████████| 499/499 [00:12<00:00, 40.30it/s]\n",
      "Training Epoch 419: 100%|██████████| 499/499 [00:12<00:00, 41.45it/s]\n",
      "Training Epoch 420: 100%|██████████| 499/499 [00:11<00:00, 41.92it/s]\n",
      "Training Epoch 421: 100%|██████████| 499/499 [00:12<00:00, 40.65it/s]\n"
     ]
    },
    {
     "name": "stdout",
     "output_type": "stream",
     "text": [
      "Epoch 420 - Train Loss: 0.1141, Train MSE: 0.1141, Train MAE: 0.2441\n",
      "Epoch 420 - Validation Loss: 2.4166, Validation MSE: 2.4150, Validation MAE: 1.1555\n"
     ]
    },
    {
     "name": "stderr",
     "output_type": "stream",
     "text": [
      "Training Epoch 422: 100%|██████████| 499/499 [00:12<00:00, 41.47it/s]\n",
      "Training Epoch 423: 100%|██████████| 499/499 [00:11<00:00, 41.89it/s]\n",
      "Training Epoch 424: 100%|██████████| 499/499 [00:12<00:00, 41.17it/s]\n",
      "Training Epoch 425: 100%|██████████| 499/499 [00:12<00:00, 39.95it/s]\n",
      "Training Epoch 426: 100%|██████████| 499/499 [00:12<00:00, 41.15it/s]\n",
      "Training Epoch 427: 100%|██████████| 499/499 [00:11<00:00, 41.75it/s]\n",
      "Training Epoch 428: 100%|██████████| 499/499 [00:12<00:00, 40.52it/s]\n",
      "Training Epoch 429: 100%|██████████| 499/499 [00:11<00:00, 41.95it/s]\n",
      "Training Epoch 430: 100%|██████████| 499/499 [00:12<00:00, 41.04it/s]\n",
      "Training Epoch 431: 100%|██████████| 499/499 [00:12<00:00, 41.26it/s]\n"
     ]
    },
    {
     "name": "stdout",
     "output_type": "stream",
     "text": [
      "Epoch 430 - Train Loss: 0.1068, Train MSE: 0.1069, Train MAE: 0.2377\n",
      "Epoch 430 - Validation Loss: 2.4465, Validation MSE: 2.4455, Validation MAE: 1.1623\n"
     ]
    },
    {
     "name": "stderr",
     "output_type": "stream",
     "text": [
      "Training Epoch 432: 100%|██████████| 499/499 [00:11<00:00, 42.01it/s]\n",
      "Training Epoch 433: 100%|██████████| 499/499 [00:12<00:00, 40.89it/s]\n",
      "Training Epoch 434: 100%|██████████| 499/499 [00:12<00:00, 41.13it/s]\n",
      "Training Epoch 435: 100%|██████████| 499/499 [00:12<00:00, 40.91it/s]\n",
      "Training Epoch 436: 100%|██████████| 499/499 [00:12<00:00, 41.56it/s]\n",
      "Training Epoch 437: 100%|██████████| 499/499 [00:12<00:00, 40.16it/s]\n",
      "Training Epoch 438: 100%|██████████| 499/499 [00:12<00:00, 41.34it/s]\n",
      "Training Epoch 439: 100%|██████████| 499/499 [00:12<00:00, 40.74it/s]\n",
      "Training Epoch 440: 100%|██████████| 499/499 [00:12<00:00, 39.72it/s]\n",
      "Training Epoch 441: 100%|██████████| 499/499 [00:12<00:00, 41.44it/s]\n"
     ]
    },
    {
     "name": "stdout",
     "output_type": "stream",
     "text": [
      "Epoch 440 - Train Loss: 0.1224, Train MSE: 0.1225, Train MAE: 0.2463\n",
      "Epoch 440 - Validation Loss: 2.4318, Validation MSE: 2.4295, Validation MAE: 1.1582\n"
     ]
    },
    {
     "name": "stderr",
     "output_type": "stream",
     "text": [
      "Training Epoch 442: 100%|██████████| 499/499 [00:12<00:00, 41.03it/s]\n",
      "Training Epoch 443: 100%|██████████| 499/499 [00:11<00:00, 41.74it/s]\n",
      "Training Epoch 444: 100%|██████████| 499/499 [00:12<00:00, 40.71it/s]\n",
      "Training Epoch 445: 100%|██████████| 499/499 [00:12<00:00, 41.51it/s]\n",
      "Training Epoch 446: 100%|██████████| 499/499 [00:12<00:00, 41.08it/s]\n",
      "Training Epoch 447: 100%|██████████| 499/499 [00:12<00:00, 41.37it/s]\n",
      "Training Epoch 448: 100%|██████████| 499/499 [00:12<00:00, 40.68it/s]\n",
      "Training Epoch 449: 100%|██████████| 499/499 [00:11<00:00, 41.92it/s]\n",
      "Training Epoch 450: 100%|██████████| 499/499 [00:11<00:00, 42.19it/s]\n",
      "Training Epoch 451: 100%|██████████| 499/499 [00:12<00:00, 40.49it/s]\n"
     ]
    },
    {
     "name": "stdout",
     "output_type": "stream",
     "text": [
      "Epoch 450 - Train Loss: 0.1056, Train MSE: 0.1056, Train MAE: 0.2337\n",
      "Epoch 450 - Validation Loss: 2.4837, Validation MSE: 2.4822, Validation MAE: 1.1648\n"
     ]
    },
    {
     "name": "stderr",
     "output_type": "stream",
     "text": [
      "Training Epoch 452: 100%|██████████| 499/499 [00:12<00:00, 40.47it/s]\n",
      "Training Epoch 453: 100%|██████████| 499/499 [00:11<00:00, 42.09it/s]\n",
      "Training Epoch 454: 100%|██████████| 499/499 [00:12<00:00, 40.71it/s]\n",
      "Training Epoch 455: 100%|██████████| 499/499 [00:11<00:00, 41.64it/s]\n",
      "Training Epoch 456: 100%|██████████| 499/499 [00:12<00:00, 41.57it/s]\n",
      "Training Epoch 457: 100%|██████████| 499/499 [00:12<00:00, 40.55it/s]\n",
      "Training Epoch 458: 100%|██████████| 499/499 [00:11<00:00, 42.18it/s]\n",
      "Training Epoch 459: 100%|██████████| 499/499 [00:12<00:00, 38.99it/s]\n",
      "Training Epoch 460: 100%|██████████| 499/499 [00:12<00:00, 41.28it/s]\n",
      "Training Epoch 461: 100%|██████████| 499/499 [00:12<00:00, 41.32it/s]\n"
     ]
    },
    {
     "name": "stdout",
     "output_type": "stream",
     "text": [
      "Epoch 460 - Train Loss: 0.1032, Train MSE: 0.1031, Train MAE: 0.2297\n",
      "Epoch 460 - Validation Loss: 2.4351, Validation MSE: 2.4336, Validation MAE: 1.1556\n"
     ]
    },
    {
     "name": "stderr",
     "output_type": "stream",
     "text": [
      "Training Epoch 462: 100%|██████████| 499/499 [00:12<00:00, 40.89it/s]\n",
      "Training Epoch 463: 100%|██████████| 499/499 [00:12<00:00, 41.00it/s]\n",
      "Training Epoch 464: 100%|██████████| 499/499 [00:12<00:00, 40.88it/s]\n",
      "Training Epoch 465: 100%|██████████| 499/499 [00:12<00:00, 41.02it/s]\n",
      "Training Epoch 466: 100%|██████████| 499/499 [00:12<00:00, 40.44it/s]\n",
      "Training Epoch 467: 100%|██████████| 499/499 [00:12<00:00, 41.09it/s]\n",
      "Training Epoch 468: 100%|██████████| 499/499 [00:11<00:00, 41.75it/s]\n",
      "Training Epoch 469: 100%|██████████| 499/499 [00:11<00:00, 42.13it/s]\n",
      "Training Epoch 470: 100%|██████████| 499/499 [00:11<00:00, 42.24it/s]\n",
      "Training Epoch 471: 100%|██████████| 499/499 [00:11<00:00, 42.69it/s]\n"
     ]
    },
    {
     "name": "stdout",
     "output_type": "stream",
     "text": [
      "Epoch 470 - Train Loss: 0.1021, Train MSE: 0.1020, Train MAE: 0.2291\n",
      "Epoch 470 - Validation Loss: 2.4755, Validation MSE: 2.4742, Validation MAE: 1.1594\n"
     ]
    },
    {
     "name": "stderr",
     "output_type": "stream",
     "text": [
      "Training Epoch 472: 100%|██████████| 499/499 [00:11<00:00, 42.60it/s]\n",
      "Training Epoch 473: 100%|██████████| 499/499 [00:12<00:00, 41.45it/s]\n",
      "Training Epoch 474: 100%|██████████| 499/499 [00:11<00:00, 42.32it/s]\n",
      "Training Epoch 475: 100%|██████████| 499/499 [00:12<00:00, 41.28it/s]\n",
      "Training Epoch 476: 100%|██████████| 499/499 [00:11<00:00, 41.78it/s]\n",
      "Training Epoch 477: 100%|██████████| 499/499 [00:11<00:00, 42.75it/s]\n",
      "Training Epoch 478: 100%|██████████| 499/499 [00:12<00:00, 41.07it/s]\n",
      "Training Epoch 479: 100%|██████████| 499/499 [00:11<00:00, 42.43it/s]\n",
      "Training Epoch 480: 100%|██████████| 499/499 [00:11<00:00, 42.73it/s]\n",
      "Training Epoch 481: 100%|██████████| 499/499 [00:11<00:00, 42.21it/s]\n"
     ]
    },
    {
     "name": "stdout",
     "output_type": "stream",
     "text": [
      "Epoch 480 - Train Loss: 0.0987, Train MSE: 0.0987, Train MAE: 0.2268\n",
      "Epoch 480 - Validation Loss: 2.4599, Validation MSE: 2.4587, Validation MAE: 1.1627\n"
     ]
    },
    {
     "name": "stderr",
     "output_type": "stream",
     "text": [
      "Training Epoch 482: 100%|██████████| 499/499 [00:11<00:00, 41.67it/s]\n",
      "Training Epoch 483: 100%|██████████| 499/499 [00:11<00:00, 42.03it/s]\n",
      "Training Epoch 484: 100%|██████████| 499/499 [00:12<00:00, 40.55it/s]\n",
      "Training Epoch 485: 100%|██████████| 499/499 [00:11<00:00, 41.84it/s]\n",
      "Training Epoch 486: 100%|██████████| 499/499 [00:11<00:00, 42.34it/s]\n",
      "Training Epoch 487: 100%|██████████| 499/499 [00:11<00:00, 41.59it/s]\n",
      "Training Epoch 488: 100%|██████████| 499/499 [00:11<00:00, 42.35it/s]\n",
      "Training Epoch 489: 100%|██████████| 499/499 [00:12<00:00, 40.76it/s]\n",
      "Training Epoch 490: 100%|██████████| 499/499 [00:12<00:00, 41.28it/s]\n",
      "Training Epoch 491: 100%|██████████| 499/499 [00:11<00:00, 41.88it/s]\n"
     ]
    },
    {
     "name": "stdout",
     "output_type": "stream",
     "text": [
      "Epoch 490 - Train Loss: 0.0981, Train MSE: 0.0981, Train MAE: 0.2244\n",
      "Epoch 490 - Validation Loss: 2.4080, Validation MSE: 2.4064, Validation MAE: 1.1443\n"
     ]
    },
    {
     "name": "stderr",
     "output_type": "stream",
     "text": [
      "Training Epoch 492: 100%|██████████| 499/499 [00:12<00:00, 40.78it/s]\n",
      "Training Epoch 493: 100%|██████████| 499/499 [00:11<00:00, 42.27it/s]\n",
      "Training Epoch 494: 100%|██████████| 499/499 [00:11<00:00, 42.73it/s]\n",
      "Training Epoch 495: 100%|██████████| 499/499 [00:11<00:00, 42.88it/s]\n",
      "Training Epoch 496: 100%|██████████| 499/499 [00:11<00:00, 42.81it/s]\n",
      "Training Epoch 497: 100%|██████████| 499/499 [00:11<00:00, 41.69it/s]\n",
      "Training Epoch 498: 100%|██████████| 499/499 [00:11<00:00, 41.91it/s]\n",
      "Training Epoch 499: 100%|██████████| 499/499 [00:12<00:00, 41.47it/s]\n",
      "Training Epoch 500: 100%|██████████| 499/499 [00:11<00:00, 42.13it/s]\n",
      "Training Epoch 501: 100%|██████████| 499/499 [00:12<00:00, 41.48it/s]\n"
     ]
    },
    {
     "name": "stdout",
     "output_type": "stream",
     "text": [
      "Epoch 500 - Train Loss: 0.0946, Train MSE: 0.0946, Train MAE: 0.2202\n",
      "Epoch 500 - Validation Loss: 2.4070, Validation MSE: 2.4055, Validation MAE: 1.1473\n"
     ]
    },
    {
     "name": "stderr",
     "output_type": "stream",
     "text": [
      "Training Epoch 502: 100%|██████████| 499/499 [00:11<00:00, 42.52it/s]\n",
      "Training Epoch 503: 100%|██████████| 499/499 [00:11<00:00, 41.76it/s]\n",
      "Training Epoch 504: 100%|██████████| 499/499 [00:12<00:00, 40.43it/s]\n",
      "Training Epoch 505: 100%|██████████| 499/499 [00:11<00:00, 42.66it/s]\n",
      "Training Epoch 506: 100%|██████████| 499/499 [00:11<00:00, 42.28it/s]\n",
      "Training Epoch 507: 100%|██████████| 499/499 [00:11<00:00, 42.38it/s]\n",
      "Training Epoch 508: 100%|██████████| 499/499 [00:11<00:00, 42.85it/s]\n",
      "Training Epoch 509: 100%|██████████| 499/499 [00:11<00:00, 42.64it/s]\n",
      "Training Epoch 510: 100%|██████████| 499/499 [00:11<00:00, 42.24it/s]\n",
      "Training Epoch 511: 100%|██████████| 499/499 [00:11<00:00, 42.16it/s]\n"
     ]
    },
    {
     "name": "stdout",
     "output_type": "stream",
     "text": [
      "Epoch 510 - Train Loss: 0.0906, Train MSE: 0.0906, Train MAE: 0.2161\n",
      "Epoch 510 - Validation Loss: 2.3956, Validation MSE: 2.3939, Validation MAE: 1.1463\n"
     ]
    },
    {
     "name": "stderr",
     "output_type": "stream",
     "text": [
      "Training Epoch 512: 100%|██████████| 499/499 [00:12<00:00, 41.45it/s]\n",
      "Training Epoch 513: 100%|██████████| 499/499 [00:11<00:00, 42.10it/s]\n",
      "Training Epoch 514: 100%|██████████| 499/499 [00:11<00:00, 43.23it/s]\n",
      "Training Epoch 515: 100%|██████████| 499/499 [00:11<00:00, 43.20it/s]\n",
      "Training Epoch 516: 100%|██████████| 499/499 [00:11<00:00, 41.81it/s]\n",
      "Training Epoch 517: 100%|██████████| 499/499 [00:11<00:00, 42.34it/s]\n",
      "Training Epoch 518: 100%|██████████| 499/499 [00:11<00:00, 41.65it/s]\n",
      "Training Epoch 519: 100%|██████████| 499/499 [00:11<00:00, 42.29it/s]\n",
      "Training Epoch 520: 100%|██████████| 499/499 [00:11<00:00, 41.72it/s]\n",
      "Training Epoch 521: 100%|██████████| 499/499 [00:11<00:00, 42.15it/s]\n"
     ]
    },
    {
     "name": "stdout",
     "output_type": "stream",
     "text": [
      "Epoch 520 - Train Loss: 0.0935, Train MSE: 0.0936, Train MAE: 0.2204\n",
      "Epoch 520 - Validation Loss: 2.4464, Validation MSE: 2.4449, Validation MAE: 1.1515\n"
     ]
    },
    {
     "name": "stderr",
     "output_type": "stream",
     "text": [
      "Training Epoch 522: 100%|██████████| 499/499 [00:11<00:00, 41.92it/s]\n",
      "Training Epoch 523: 100%|██████████| 499/499 [00:12<00:00, 41.33it/s]\n",
      "Training Epoch 524: 100%|██████████| 499/499 [00:11<00:00, 42.68it/s]\n",
      "Training Epoch 525: 100%|██████████| 499/499 [00:11<00:00, 42.60it/s]\n",
      "Training Epoch 526: 100%|██████████| 499/499 [00:11<00:00, 42.25it/s]\n",
      "Training Epoch 527: 100%|██████████| 499/499 [00:11<00:00, 41.82it/s]\n",
      "Training Epoch 528: 100%|██████████| 499/499 [00:11<00:00, 41.98it/s]\n",
      "Training Epoch 529: 100%|██████████| 499/499 [00:11<00:00, 41.92it/s]\n",
      "Training Epoch 530: 100%|██████████| 499/499 [00:12<00:00, 41.58it/s]\n",
      "Training Epoch 531: 100%|██████████| 499/499 [00:11<00:00, 42.43it/s]\n"
     ]
    },
    {
     "name": "stdout",
     "output_type": "stream",
     "text": [
      "Epoch 530 - Train Loss: 0.0846, Train MSE: 0.0846, Train MAE: 0.2101\n",
      "Epoch 530 - Validation Loss: 2.4422, Validation MSE: 2.4409, Validation MAE: 1.1582\n"
     ]
    },
    {
     "name": "stderr",
     "output_type": "stream",
     "text": [
      "Training Epoch 532: 100%|██████████| 499/499 [00:11<00:00, 41.64it/s]\n",
      "Training Epoch 533: 100%|██████████| 499/499 [00:11<00:00, 42.05it/s]\n",
      "Training Epoch 534: 100%|██████████| 499/499 [00:11<00:00, 41.66it/s]\n",
      "Training Epoch 535: 100%|██████████| 499/499 [00:11<00:00, 41.95it/s]\n",
      "Training Epoch 536: 100%|██████████| 499/499 [00:11<00:00, 43.24it/s]\n",
      "Training Epoch 537: 100%|██████████| 499/499 [00:12<00:00, 41.55it/s]\n",
      "Training Epoch 538: 100%|██████████| 499/499 [00:11<00:00, 43.40it/s]\n",
      "Training Epoch 539: 100%|██████████| 499/499 [00:11<00:00, 41.81it/s]\n",
      "Training Epoch 540: 100%|██████████| 499/499 [00:11<00:00, 42.19it/s]\n",
      "Training Epoch 541: 100%|██████████| 499/499 [00:11<00:00, 42.54it/s]\n"
     ]
    },
    {
     "name": "stdout",
     "output_type": "stream",
     "text": [
      "Epoch 540 - Train Loss: 0.0898, Train MSE: 0.0898, Train MAE: 0.2159\n",
      "Epoch 540 - Validation Loss: 2.4763, Validation MSE: 2.4745, Validation MAE: 1.1631\n"
     ]
    },
    {
     "name": "stderr",
     "output_type": "stream",
     "text": [
      "Training Epoch 542: 100%|██████████| 499/499 [00:12<00:00, 41.53it/s]\n",
      "Training Epoch 543: 100%|██████████| 499/499 [00:11<00:00, 42.02it/s]\n",
      "Training Epoch 544: 100%|██████████| 499/499 [00:11<00:00, 42.01it/s]\n",
      "Training Epoch 545: 100%|██████████| 499/499 [00:11<00:00, 42.15it/s]\n",
      "Training Epoch 546: 100%|██████████| 499/499 [00:12<00:00, 41.30it/s]\n",
      "Training Epoch 547: 100%|██████████| 499/499 [00:11<00:00, 42.35it/s]\n",
      "Training Epoch 548: 100%|██████████| 499/499 [00:11<00:00, 41.88it/s]\n",
      "Training Epoch 549: 100%|██████████| 499/499 [00:11<00:00, 43.24it/s]\n",
      "Training Epoch 550: 100%|██████████| 499/499 [00:11<00:00, 41.86it/s]\n",
      "Training Epoch 551: 100%|██████████| 499/499 [00:11<00:00, 41.88it/s]\n"
     ]
    },
    {
     "name": "stdout",
     "output_type": "stream",
     "text": [
      "Epoch 550 - Train Loss: 0.0841, Train MSE: 0.0842, Train MAE: 0.2077\n",
      "Epoch 550 - Validation Loss: 2.4592, Validation MSE: 2.4580, Validation MAE: 1.1638\n"
     ]
    },
    {
     "name": "stderr",
     "output_type": "stream",
     "text": [
      "Training Epoch 552: 100%|██████████| 499/499 [00:11<00:00, 41.88it/s]\n",
      "Training Epoch 553: 100%|██████████| 499/499 [00:11<00:00, 43.03it/s]\n",
      "Training Epoch 554: 100%|██████████| 499/499 [00:11<00:00, 42.10it/s]\n",
      "Training Epoch 555: 100%|██████████| 499/499 [00:11<00:00, 42.79it/s]\n",
      "Training Epoch 556: 100%|██████████| 499/499 [00:11<00:00, 42.74it/s]\n",
      "Training Epoch 557: 100%|██████████| 499/499 [00:11<00:00, 42.07it/s]\n",
      "Training Epoch 558: 100%|██████████| 499/499 [00:11<00:00, 42.38it/s]\n",
      "Training Epoch 559: 100%|██████████| 499/499 [00:11<00:00, 42.63it/s]\n",
      "Training Epoch 560: 100%|██████████| 499/499 [00:11<00:00, 42.50it/s]\n",
      "Training Epoch 561: 100%|██████████| 499/499 [00:11<00:00, 42.64it/s]\n"
     ]
    },
    {
     "name": "stdout",
     "output_type": "stream",
     "text": [
      "Epoch 560 - Train Loss: 0.0897, Train MSE: 0.0898, Train MAE: 0.2142\n",
      "Epoch 560 - Validation Loss: 2.4151, Validation MSE: 2.4133, Validation MAE: 1.1465\n"
     ]
    },
    {
     "name": "stderr",
     "output_type": "stream",
     "text": [
      "Training Epoch 562: 100%|██████████| 499/499 [00:11<00:00, 43.59it/s]\n",
      "Training Epoch 563: 100%|██████████| 499/499 [00:11<00:00, 42.12it/s]\n",
      "Training Epoch 564: 100%|██████████| 499/499 [00:11<00:00, 42.54it/s]\n",
      "Training Epoch 565: 100%|██████████| 499/499 [00:11<00:00, 42.83it/s]\n",
      "Training Epoch 566: 100%|██████████| 499/499 [00:11<00:00, 41.86it/s]\n",
      "Training Epoch 567: 100%|██████████| 499/499 [00:11<00:00, 42.85it/s]\n",
      "Training Epoch 568: 100%|██████████| 499/499 [00:11<00:00, 42.12it/s]\n",
      "Training Epoch 569: 100%|██████████| 499/499 [00:11<00:00, 42.22it/s]\n",
      "Training Epoch 570: 100%|██████████| 499/499 [00:11<00:00, 42.18it/s]\n",
      "Training Epoch 571: 100%|██████████| 499/499 [00:11<00:00, 41.72it/s]\n"
     ]
    },
    {
     "name": "stdout",
     "output_type": "stream",
     "text": [
      "Epoch 570 - Train Loss: 0.0879, Train MSE: 0.0879, Train MAE: 0.2122\n",
      "Epoch 570 - Validation Loss: 2.4233, Validation MSE: 2.4220, Validation MAE: 1.1485\n"
     ]
    },
    {
     "name": "stderr",
     "output_type": "stream",
     "text": [
      "Training Epoch 572: 100%|██████████| 499/499 [00:12<00:00, 41.57it/s]\n",
      "Training Epoch 573: 100%|██████████| 499/499 [00:11<00:00, 42.71it/s]\n",
      "Training Epoch 574: 100%|██████████| 499/499 [00:11<00:00, 43.41it/s]\n",
      "Training Epoch 575: 100%|██████████| 499/499 [00:11<00:00, 41.90it/s]\n",
      "Training Epoch 576: 100%|██████████| 499/499 [00:12<00:00, 41.52it/s]\n",
      "Training Epoch 577: 100%|██████████| 499/499 [00:12<00:00, 41.07it/s]\n",
      "Training Epoch 578: 100%|██████████| 499/499 [00:11<00:00, 43.51it/s]\n",
      "Training Epoch 579: 100%|██████████| 499/499 [00:11<00:00, 42.49it/s]\n",
      "Training Epoch 580: 100%|██████████| 499/499 [00:12<00:00, 41.23it/s]\n",
      "Training Epoch 581: 100%|██████████| 499/499 [00:12<00:00, 40.25it/s]\n"
     ]
    },
    {
     "name": "stdout",
     "output_type": "stream",
     "text": [
      "Epoch 580 - Train Loss: 0.0857, Train MSE: 0.0857, Train MAE: 0.2104\n",
      "Epoch 580 - Validation Loss: 2.4007, Validation MSE: 2.4006, Validation MAE: 1.1394\n"
     ]
    },
    {
     "name": "stderr",
     "output_type": "stream",
     "text": [
      "Training Epoch 582: 100%|██████████| 499/499 [00:11<00:00, 42.35it/s]\n",
      "Training Epoch 583: 100%|██████████| 499/499 [00:11<00:00, 42.38it/s]\n",
      "Training Epoch 584: 100%|██████████| 499/499 [00:11<00:00, 42.21it/s]\n",
      "Training Epoch 585: 100%|██████████| 499/499 [00:11<00:00, 42.73it/s]\n",
      "Training Epoch 586: 100%|██████████| 499/499 [00:11<00:00, 43.04it/s]\n",
      "Training Epoch 587: 100%|██████████| 499/499 [00:11<00:00, 42.19it/s]\n",
      "Training Epoch 588: 100%|██████████| 499/499 [00:11<00:00, 42.39it/s]\n",
      "Training Epoch 589: 100%|██████████| 499/499 [00:11<00:00, 42.30it/s]\n",
      "Training Epoch 590: 100%|██████████| 499/499 [00:11<00:00, 42.66it/s]\n",
      "Training Epoch 591: 100%|██████████| 499/499 [00:11<00:00, 41.66it/s]\n"
     ]
    },
    {
     "name": "stdout",
     "output_type": "stream",
     "text": [
      "Epoch 590 - Train Loss: 0.0843, Train MSE: 0.0844, Train MAE: 0.2075\n",
      "Epoch 590 - Validation Loss: 2.4358, Validation MSE: 2.4347, Validation MAE: 1.1479\n"
     ]
    },
    {
     "name": "stderr",
     "output_type": "stream",
     "text": [
      "Training Epoch 592: 100%|██████████| 499/499 [00:11<00:00, 42.02it/s]\n",
      "Training Epoch 593: 100%|██████████| 499/499 [00:11<00:00, 42.07it/s]\n",
      "Training Epoch 594: 100%|██████████| 499/499 [00:11<00:00, 41.99it/s]\n",
      "Training Epoch 595: 100%|██████████| 499/499 [00:11<00:00, 42.36it/s]\n",
      "Training Epoch 596: 100%|██████████| 499/499 [00:12<00:00, 41.15it/s]\n",
      "Training Epoch 597: 100%|██████████| 499/499 [00:11<00:00, 42.27it/s]\n",
      "Training Epoch 598: 100%|██████████| 499/499 [00:11<00:00, 42.09it/s]\n",
      "Training Epoch 599: 100%|██████████| 499/499 [00:11<00:00, 42.03it/s]\n",
      "Training Epoch 600: 100%|██████████| 499/499 [00:11<00:00, 42.86it/s]\n",
      "Training Epoch 601: 100%|██████████| 499/499 [00:11<00:00, 42.30it/s]\n"
     ]
    },
    {
     "name": "stdout",
     "output_type": "stream",
     "text": [
      "Epoch 600 - Train Loss: 0.0824, Train MSE: 0.0824, Train MAE: 0.2063\n",
      "Epoch 600 - Validation Loss: 2.3984, Validation MSE: 2.3981, Validation MAE: 1.1460\n"
     ]
    },
    {
     "name": "stderr",
     "output_type": "stream",
     "text": [
      "Training Epoch 602: 100%|██████████| 499/499 [00:11<00:00, 42.07it/s]\n",
      "Training Epoch 603: 100%|██████████| 499/499 [00:11<00:00, 41.70it/s]\n",
      "Training Epoch 604: 100%|██████████| 499/499 [00:11<00:00, 42.67it/s]\n",
      "Training Epoch 605: 100%|██████████| 499/499 [00:11<00:00, 42.40it/s]\n",
      "Training Epoch 606: 100%|██████████| 499/499 [00:12<00:00, 40.97it/s]\n",
      "Training Epoch 607: 100%|██████████| 499/499 [00:11<00:00, 42.37it/s]\n",
      "Training Epoch 608: 100%|██████████| 499/499 [00:11<00:00, 42.29it/s]\n",
      "Training Epoch 609: 100%|██████████| 499/499 [00:11<00:00, 42.55it/s]\n",
      "Training Epoch 610: 100%|██████████| 499/499 [00:11<00:00, 42.54it/s]\n",
      "Training Epoch 611: 100%|██████████| 499/499 [00:12<00:00, 41.50it/s]\n"
     ]
    },
    {
     "name": "stdout",
     "output_type": "stream",
     "text": [
      "Epoch 610 - Train Loss: 0.0826, Train MSE: 0.0822, Train MAE: 0.2042\n",
      "Epoch 610 - Validation Loss: 2.4204, Validation MSE: 2.4193, Validation MAE: 1.1513\n"
     ]
    },
    {
     "name": "stderr",
     "output_type": "stream",
     "text": [
      "Training Epoch 612: 100%|██████████| 499/499 [00:11<00:00, 42.10it/s]\n",
      "Training Epoch 613: 100%|██████████| 499/499 [00:12<00:00, 40.97it/s]\n",
      "Training Epoch 614: 100%|██████████| 499/499 [00:12<00:00, 40.97it/s]\n",
      "Training Epoch 615: 100%|██████████| 499/499 [00:12<00:00, 41.37it/s]\n",
      "Training Epoch 616: 100%|██████████| 499/499 [00:11<00:00, 41.98it/s]\n",
      "Training Epoch 617: 100%|██████████| 499/499 [00:12<00:00, 41.50it/s]\n",
      "Training Epoch 618: 100%|██████████| 499/499 [00:11<00:00, 42.04it/s]\n",
      "Training Epoch 619: 100%|██████████| 499/499 [00:12<00:00, 41.16it/s]\n",
      "Training Epoch 620: 100%|██████████| 499/499 [00:12<00:00, 41.04it/s]\n",
      "Training Epoch 621: 100%|██████████| 499/499 [00:11<00:00, 42.04it/s]\n"
     ]
    },
    {
     "name": "stdout",
     "output_type": "stream",
     "text": [
      "Epoch 620 - Train Loss: 0.0822, Train MSE: 0.0822, Train MAE: 0.2049\n",
      "Epoch 620 - Validation Loss: 2.3854, Validation MSE: 2.3844, Validation MAE: 1.1374\n"
     ]
    },
    {
     "name": "stderr",
     "output_type": "stream",
     "text": [
      "Training Epoch 622: 100%|██████████| 499/499 [00:12<00:00, 41.11it/s]\n",
      "Training Epoch 623: 100%|██████████| 499/499 [00:11<00:00, 42.04it/s]\n",
      "Training Epoch 624: 100%|██████████| 499/499 [00:11<00:00, 42.32it/s]\n",
      "Training Epoch 625: 100%|██████████| 499/499 [00:11<00:00, 42.57it/s]\n",
      "Training Epoch 626: 100%|██████████| 499/499 [00:11<00:00, 41.70it/s]\n",
      "Training Epoch 627: 100%|██████████| 499/499 [00:11<00:00, 41.84it/s]\n",
      "Training Epoch 628: 100%|██████████| 499/499 [00:12<00:00, 40.88it/s]\n",
      "Training Epoch 629: 100%|██████████| 499/499 [00:11<00:00, 41.76it/s]\n",
      "Training Epoch 630: 100%|██████████| 499/499 [00:11<00:00, 42.24it/s]\n",
      "Training Epoch 631: 100%|██████████| 499/499 [00:11<00:00, 41.64it/s]\n"
     ]
    },
    {
     "name": "stdout",
     "output_type": "stream",
     "text": [
      "Epoch 630 - Train Loss: 0.0815, Train MSE: 0.0816, Train MAE: 0.2031\n",
      "Epoch 630 - Validation Loss: 2.3991, Validation MSE: 2.3986, Validation MAE: 1.1396\n"
     ]
    },
    {
     "name": "stderr",
     "output_type": "stream",
     "text": [
      "Training Epoch 632: 100%|██████████| 499/499 [00:11<00:00, 42.59it/s]\n",
      "Training Epoch 633: 100%|██████████| 499/499 [00:12<00:00, 41.48it/s]\n",
      "Training Epoch 634: 100%|██████████| 499/499 [00:11<00:00, 42.43it/s]\n",
      "Training Epoch 635: 100%|██████████| 499/499 [00:11<00:00, 42.21it/s]\n",
      "Training Epoch 636: 100%|██████████| 499/499 [00:11<00:00, 42.30it/s]\n",
      "Training Epoch 637: 100%|██████████| 499/499 [00:11<00:00, 41.88it/s]\n",
      "Training Epoch 638: 100%|██████████| 499/499 [00:11<00:00, 41.96it/s]\n",
      "Training Epoch 639: 100%|██████████| 499/499 [00:11<00:00, 42.24it/s]\n",
      "Training Epoch 640: 100%|██████████| 499/499 [00:12<00:00, 41.10it/s]\n",
      "Training Epoch 641: 100%|██████████| 499/499 [00:11<00:00, 42.77it/s]\n"
     ]
    },
    {
     "name": "stdout",
     "output_type": "stream",
     "text": [
      "Epoch 640 - Train Loss: 0.0826, Train MSE: 0.0826, Train MAE: 0.2026\n",
      "Epoch 640 - Validation Loss: 2.4017, Validation MSE: 2.4010, Validation MAE: 1.1394\n"
     ]
    },
    {
     "name": "stderr",
     "output_type": "stream",
     "text": [
      "Training Epoch 642: 100%|██████████| 499/499 [00:11<00:00, 41.94it/s]\n",
      "Training Epoch 643: 100%|██████████| 499/499 [00:12<00:00, 41.49it/s]\n",
      "Training Epoch 644: 100%|██████████| 499/499 [00:11<00:00, 42.07it/s]\n",
      "Training Epoch 645: 100%|██████████| 499/499 [00:12<00:00, 41.33it/s]\n",
      "Training Epoch 646: 100%|██████████| 499/499 [00:11<00:00, 41.72it/s]\n",
      "Training Epoch 647: 100%|██████████| 499/499 [00:11<00:00, 42.85it/s]\n",
      "Training Epoch 648: 100%|██████████| 499/499 [00:11<00:00, 41.63it/s]\n",
      "Training Epoch 649: 100%|██████████| 499/499 [00:11<00:00, 42.14it/s]\n",
      "Training Epoch 650: 100%|██████████| 499/499 [00:11<00:00, 42.66it/s]\n",
      "Training Epoch 651: 100%|██████████| 499/499 [00:11<00:00, 42.56it/s]\n"
     ]
    },
    {
     "name": "stdout",
     "output_type": "stream",
     "text": [
      "Epoch 650 - Train Loss: 0.0802, Train MSE: 0.0802, Train MAE: 0.2029\n",
      "Epoch 650 - Validation Loss: 2.4446, Validation MSE: 2.4443, Validation MAE: 1.1568\n"
     ]
    },
    {
     "name": "stderr",
     "output_type": "stream",
     "text": [
      "Training Epoch 652: 100%|██████████| 499/499 [00:12<00:00, 40.88it/s]\n",
      "Training Epoch 653: 100%|██████████| 499/499 [00:11<00:00, 42.28it/s]\n",
      "Training Epoch 654: 100%|██████████| 499/499 [00:11<00:00, 43.04it/s]\n",
      "Training Epoch 655: 100%|██████████| 499/499 [00:11<00:00, 42.26it/s]\n",
      "Training Epoch 656: 100%|██████████| 499/499 [00:11<00:00, 41.99it/s]\n",
      "Training Epoch 657: 100%|██████████| 499/499 [00:11<00:00, 41.67it/s]\n",
      "Training Epoch 658: 100%|██████████| 499/499 [00:11<00:00, 42.25it/s]\n",
      "Training Epoch 659: 100%|██████████| 499/499 [00:11<00:00, 41.78it/s]\n",
      "Training Epoch 660: 100%|██████████| 499/499 [00:11<00:00, 41.75it/s]\n",
      "Training Epoch 661: 100%|██████████| 499/499 [00:11<00:00, 42.61it/s]\n"
     ]
    },
    {
     "name": "stdout",
     "output_type": "stream",
     "text": [
      "Epoch 660 - Train Loss: 0.0802, Train MSE: 0.0802, Train MAE: 0.2004\n",
      "Epoch 660 - Validation Loss: 2.3994, Validation MSE: 2.3984, Validation MAE: 1.1505\n"
     ]
    },
    {
     "name": "stderr",
     "output_type": "stream",
     "text": [
      "Training Epoch 662: 100%|██████████| 499/499 [00:11<00:00, 41.87it/s]\n",
      "Training Epoch 663: 100%|██████████| 499/499 [00:11<00:00, 41.90it/s]\n",
      "Training Epoch 664: 100%|██████████| 499/499 [00:11<00:00, 41.80it/s]\n",
      "Training Epoch 665: 100%|██████████| 499/499 [00:11<00:00, 43.14it/s]\n",
      "Training Epoch 666: 100%|██████████| 499/499 [00:11<00:00, 42.18it/s]\n",
      "Training Epoch 667: 100%|██████████| 499/499 [00:11<00:00, 42.23it/s]\n",
      "Training Epoch 668: 100%|██████████| 499/499 [00:11<00:00, 42.59it/s]\n",
      "Training Epoch 669: 100%|██████████| 499/499 [00:11<00:00, 42.18it/s]\n",
      "Training Epoch 670: 100%|██████████| 499/499 [00:11<00:00, 41.95it/s]\n",
      "Training Epoch 671: 100%|██████████| 499/499 [00:11<00:00, 41.61it/s]\n"
     ]
    },
    {
     "name": "stdout",
     "output_type": "stream",
     "text": [
      "Epoch 670 - Train Loss: 0.0732, Train MSE: 0.0731, Train MAE: 0.1934\n",
      "Epoch 670 - Validation Loss: 2.3910, Validation MSE: 2.3901, Validation MAE: 1.1447\n"
     ]
    },
    {
     "name": "stderr",
     "output_type": "stream",
     "text": [
      "Training Epoch 672: 100%|██████████| 499/499 [00:11<00:00, 41.69it/s]\n",
      "Training Epoch 673: 100%|██████████| 499/499 [00:11<00:00, 42.11it/s]\n",
      "Training Epoch 674: 100%|██████████| 499/499 [00:11<00:00, 41.67it/s]\n",
      "Training Epoch 675: 100%|██████████| 499/499 [00:11<00:00, 41.90it/s]\n",
      "Training Epoch 676: 100%|██████████| 499/499 [00:11<00:00, 42.33it/s]\n",
      "Training Epoch 677: 100%|██████████| 499/499 [00:11<00:00, 43.76it/s]\n",
      "Training Epoch 678: 100%|██████████| 499/499 [00:12<00:00, 41.09it/s]\n",
      "Training Epoch 679: 100%|██████████| 499/499 [00:11<00:00, 41.85it/s]\n",
      "Training Epoch 680: 100%|██████████| 499/499 [00:11<00:00, 42.39it/s]\n",
      "Training Epoch 681: 100%|██████████| 499/499 [00:12<00:00, 41.06it/s]\n"
     ]
    },
    {
     "name": "stdout",
     "output_type": "stream",
     "text": [
      "Epoch 680 - Train Loss: 0.0802, Train MSE: 0.0802, Train MAE: 0.2007\n",
      "Epoch 680 - Validation Loss: 2.4605, Validation MSE: 2.4600, Validation MAE: 1.1556\n"
     ]
    },
    {
     "name": "stderr",
     "output_type": "stream",
     "text": [
      "Training Epoch 682: 100%|██████████| 499/499 [00:11<00:00, 41.96it/s]\n",
      "Training Epoch 683: 100%|██████████| 499/499 [00:11<00:00, 42.20it/s]\n",
      "Training Epoch 684: 100%|██████████| 499/499 [00:12<00:00, 40.47it/s]\n",
      "Training Epoch 685: 100%|██████████| 499/499 [00:12<00:00, 41.43it/s]\n",
      "Training Epoch 686: 100%|██████████| 499/499 [00:11<00:00, 41.84it/s]\n",
      "Training Epoch 687: 100%|██████████| 499/499 [00:12<00:00, 41.29it/s]\n",
      "Training Epoch 688: 100%|██████████| 499/499 [00:11<00:00, 42.31it/s]\n",
      "Training Epoch 689: 100%|██████████| 499/499 [00:12<00:00, 41.46it/s]\n",
      "Training Epoch 690: 100%|██████████| 499/499 [00:12<00:00, 41.15it/s]\n",
      "Training Epoch 691: 100%|██████████| 499/499 [00:11<00:00, 42.52it/s]\n"
     ]
    },
    {
     "name": "stdout",
     "output_type": "stream",
     "text": [
      "Epoch 690 - Train Loss: 0.0828, Train MSE: 0.0829, Train MAE: 0.2019\n",
      "Epoch 690 - Validation Loss: 2.3333, Validation MSE: 2.3329, Validation MAE: 1.1323\n"
     ]
    },
    {
     "name": "stderr",
     "output_type": "stream",
     "text": [
      "Training Epoch 692: 100%|██████████| 499/499 [00:11<00:00, 42.21it/s]\n",
      "Training Epoch 693: 100%|██████████| 499/499 [00:12<00:00, 41.12it/s]\n",
      "Training Epoch 694: 100%|██████████| 499/499 [00:11<00:00, 42.85it/s]\n",
      "Training Epoch 695: 100%|██████████| 499/499 [00:12<00:00, 41.40it/s]\n",
      "Training Epoch 696: 100%|██████████| 499/499 [00:11<00:00, 41.98it/s]\n",
      "Training Epoch 697: 100%|██████████| 499/499 [00:11<00:00, 43.14it/s]\n",
      "Training Epoch 698: 100%|██████████| 499/499 [00:11<00:00, 41.93it/s]\n",
      "Training Epoch 699: 100%|██████████| 499/499 [00:12<00:00, 41.02it/s]\n",
      "Training Epoch 700: 100%|██████████| 499/499 [00:12<00:00, 41.35it/s]\n",
      "Training Epoch 701: 100%|██████████| 499/499 [00:11<00:00, 42.31it/s]\n"
     ]
    },
    {
     "name": "stdout",
     "output_type": "stream",
     "text": [
      "Epoch 700 - Train Loss: 0.0764, Train MSE: 0.0765, Train MAE: 0.1961\n",
      "Epoch 700 - Validation Loss: 2.4102, Validation MSE: 2.4094, Validation MAE: 1.1504\n"
     ]
    },
    {
     "name": "stderr",
     "output_type": "stream",
     "text": [
      "Training Epoch 702: 100%|██████████| 499/499 [00:11<00:00, 42.33it/s]\n",
      "Training Epoch 703: 100%|██████████| 499/499 [00:11<00:00, 41.83it/s]\n",
      "Training Epoch 704: 100%|██████████| 499/499 [00:12<00:00, 41.21it/s]\n",
      "Training Epoch 705: 100%|██████████| 499/499 [00:11<00:00, 41.76it/s]\n",
      "Training Epoch 706: 100%|██████████| 499/499 [00:11<00:00, 41.96it/s]\n",
      "Training Epoch 707: 100%|██████████| 499/499 [00:12<00:00, 41.16it/s]\n",
      "Training Epoch 708: 100%|██████████| 499/499 [00:12<00:00, 40.68it/s]\n",
      "Training Epoch 709: 100%|██████████| 499/499 [00:11<00:00, 41.90it/s]\n",
      "Training Epoch 710: 100%|██████████| 499/499 [00:11<00:00, 42.02it/s]\n",
      "Training Epoch 711: 100%|██████████| 499/499 [00:11<00:00, 41.85it/s]\n"
     ]
    },
    {
     "name": "stdout",
     "output_type": "stream",
     "text": [
      "Epoch 710 - Train Loss: 0.0716, Train MSE: 0.0715, Train MAE: 0.1925\n",
      "Epoch 710 - Validation Loss: 2.3612, Validation MSE: 2.3604, Validation MAE: 1.1405\n"
     ]
    },
    {
     "name": "stderr",
     "output_type": "stream",
     "text": [
      "Training Epoch 712: 100%|██████████| 499/499 [00:11<00:00, 42.07it/s]\n",
      "Training Epoch 713: 100%|██████████| 499/499 [00:12<00:00, 41.57it/s]\n",
      "Training Epoch 714: 100%|██████████| 499/499 [00:11<00:00, 41.78it/s]\n",
      "Training Epoch 715: 100%|██████████| 499/499 [00:11<00:00, 42.02it/s]\n",
      "Training Epoch 716: 100%|██████████| 499/499 [00:12<00:00, 40.98it/s]\n",
      "Training Epoch 717: 100%|██████████| 499/499 [00:11<00:00, 41.66it/s]\n",
      "Training Epoch 718: 100%|██████████| 499/499 [00:12<00:00, 41.19it/s]\n",
      "Training Epoch 719: 100%|██████████| 499/499 [00:11<00:00, 42.22it/s]\n",
      "Training Epoch 720: 100%|██████████| 499/499 [00:12<00:00, 40.30it/s]\n",
      "Training Epoch 721: 100%|██████████| 499/499 [00:12<00:00, 40.43it/s]\n"
     ]
    },
    {
     "name": "stdout",
     "output_type": "stream",
     "text": [
      "Epoch 720 - Train Loss: 0.0660, Train MSE: 0.0660, Train MAE: 0.1857\n",
      "Epoch 720 - Validation Loss: 2.4481, Validation MSE: 2.4480, Validation MAE: 1.1551\n"
     ]
    },
    {
     "name": "stderr",
     "output_type": "stream",
     "text": [
      "Training Epoch 722: 100%|██████████| 499/499 [00:12<00:00, 41.30it/s]\n",
      "Training Epoch 723: 100%|██████████| 499/499 [00:12<00:00, 40.37it/s]\n",
      "Training Epoch 724: 100%|██████████| 499/499 [00:11<00:00, 42.07it/s]\n",
      "Training Epoch 725: 100%|██████████| 499/499 [00:11<00:00, 41.78it/s]\n",
      "Training Epoch 726: 100%|██████████| 499/499 [00:12<00:00, 41.25it/s]\n",
      "Training Epoch 727: 100%|██████████| 499/499 [00:11<00:00, 41.77it/s]\n",
      "Training Epoch 728: 100%|██████████| 499/499 [00:12<00:00, 41.17it/s]\n",
      "Training Epoch 729: 100%|██████████| 499/499 [00:12<00:00, 41.43it/s]\n",
      "Training Epoch 730: 100%|██████████| 499/499 [00:11<00:00, 41.99it/s]\n",
      "Training Epoch 731: 100%|██████████| 499/499 [00:12<00:00, 41.03it/s]\n"
     ]
    },
    {
     "name": "stdout",
     "output_type": "stream",
     "text": [
      "Epoch 730 - Train Loss: 0.0753, Train MSE: 0.0754, Train MAE: 0.1953\n",
      "Epoch 730 - Validation Loss: 2.4165, Validation MSE: 2.4155, Validation MAE: 1.1527\n"
     ]
    },
    {
     "name": "stderr",
     "output_type": "stream",
     "text": [
      "Training Epoch 732: 100%|██████████| 499/499 [00:11<00:00, 42.70it/s]\n",
      "Training Epoch 733: 100%|██████████| 499/499 [00:12<00:00, 40.68it/s]\n",
      "Training Epoch 734: 100%|██████████| 499/499 [00:12<00:00, 41.43it/s]\n",
      "Training Epoch 735: 100%|██████████| 499/499 [00:12<00:00, 41.12it/s]\n",
      "Training Epoch 736: 100%|██████████| 499/499 [00:12<00:00, 41.43it/s]\n",
      "Training Epoch 737: 100%|██████████| 499/499 [00:12<00:00, 41.42it/s]\n",
      "Training Epoch 738: 100%|██████████| 499/499 [00:12<00:00, 41.54it/s]\n",
      "Training Epoch 739: 100%|██████████| 499/499 [00:12<00:00, 40.47it/s]\n",
      "Training Epoch 740: 100%|██████████| 499/499 [00:12<00:00, 41.36it/s]\n",
      "Training Epoch 741: 100%|██████████| 499/499 [00:12<00:00, 40.93it/s]\n"
     ]
    },
    {
     "name": "stdout",
     "output_type": "stream",
     "text": [
      "Epoch 740 - Train Loss: 0.0806, Train MSE: 0.0806, Train MAE: 0.2003\n",
      "Epoch 740 - Validation Loss: 2.4817, Validation MSE: 2.4807, Validation MAE: 1.1632\n"
     ]
    },
    {
     "name": "stderr",
     "output_type": "stream",
     "text": [
      "Training Epoch 742: 100%|██████████| 499/499 [00:12<00:00, 41.05it/s]\n",
      "Training Epoch 743: 100%|██████████| 499/499 [00:12<00:00, 40.97it/s]\n",
      "Training Epoch 744: 100%|██████████| 499/499 [00:12<00:00, 41.44it/s]\n",
      "Training Epoch 745: 100%|██████████| 499/499 [00:12<00:00, 40.64it/s]\n",
      "Training Epoch 746: 100%|██████████| 499/499 [00:11<00:00, 42.49it/s]\n",
      "Training Epoch 747: 100%|██████████| 499/499 [00:12<00:00, 41.56it/s]\n",
      "Training Epoch 748: 100%|██████████| 499/499 [00:12<00:00, 41.20it/s]\n",
      "Training Epoch 749: 100%|██████████| 499/499 [00:11<00:00, 41.79it/s]\n",
      "Training Epoch 750: 100%|██████████| 499/499 [00:12<00:00, 41.11it/s]\n",
      "Training Epoch 751: 100%|██████████| 499/499 [00:12<00:00, 41.50it/s]\n"
     ]
    },
    {
     "name": "stdout",
     "output_type": "stream",
     "text": [
      "Epoch 750 - Train Loss: 0.0922, Train MSE: 0.0922, Train MAE: 0.2051\n",
      "Epoch 750 - Validation Loss: 2.4442, Validation MSE: 2.4427, Validation MAE: 1.1607\n"
     ]
    },
    {
     "name": "stderr",
     "output_type": "stream",
     "text": [
      "Training Epoch 752: 100%|██████████| 499/499 [00:11<00:00, 41.78it/s]\n",
      "Training Epoch 753: 100%|██████████| 499/499 [00:12<00:00, 41.35it/s]\n",
      "Training Epoch 754: 100%|██████████| 499/499 [00:12<00:00, 40.50it/s]\n",
      "Training Epoch 755: 100%|██████████| 499/499 [00:12<00:00, 40.98it/s]\n",
      "Training Epoch 756: 100%|██████████| 499/499 [00:12<00:00, 40.52it/s]\n",
      "Training Epoch 757: 100%|██████████| 499/499 [00:12<00:00, 40.64it/s]\n",
      "Training Epoch 758: 100%|██████████| 499/499 [00:12<00:00, 41.06it/s]\n",
      "Training Epoch 759: 100%|██████████| 499/499 [00:12<00:00, 41.11it/s]\n",
      "Training Epoch 760: 100%|██████████| 499/499 [00:11<00:00, 41.77it/s]\n",
      "Training Epoch 761: 100%|██████████| 499/499 [00:11<00:00, 42.54it/s]\n"
     ]
    },
    {
     "name": "stdout",
     "output_type": "stream",
     "text": [
      "Epoch 760 - Train Loss: 0.0662, Train MSE: 0.0662, Train MAE: 0.1862\n",
      "Epoch 760 - Validation Loss: 2.4223, Validation MSE: 2.4210, Validation MAE: 1.1546\n"
     ]
    },
    {
     "name": "stderr",
     "output_type": "stream",
     "text": [
      "Training Epoch 762: 100%|██████████| 499/499 [00:12<00:00, 41.16it/s]\n",
      "Training Epoch 763: 100%|██████████| 499/499 [00:12<00:00, 41.41it/s]\n",
      "Training Epoch 764: 100%|██████████| 499/499 [00:12<00:00, 41.17it/s]\n",
      "Training Epoch 765: 100%|██████████| 499/499 [00:11<00:00, 42.29it/s]\n",
      "Training Epoch 766: 100%|██████████| 499/499 [00:11<00:00, 41.83it/s]\n",
      "Training Epoch 767: 100%|██████████| 499/499 [00:12<00:00, 41.42it/s]\n",
      "Training Epoch 768: 100%|██████████| 499/499 [00:11<00:00, 42.15it/s]\n",
      "Training Epoch 769: 100%|██████████| 499/499 [00:11<00:00, 42.40it/s]\n",
      "Training Epoch 770: 100%|██████████| 499/499 [00:11<00:00, 42.42it/s]\n",
      "Training Epoch 771: 100%|██████████| 499/499 [00:12<00:00, 40.77it/s]\n"
     ]
    },
    {
     "name": "stdout",
     "output_type": "stream",
     "text": [
      "Epoch 770 - Train Loss: 0.0740, Train MSE: 0.0741, Train MAE: 0.1906\n",
      "Epoch 770 - Validation Loss: 2.4173, Validation MSE: 2.4161, Validation MAE: 1.1563\n"
     ]
    },
    {
     "name": "stderr",
     "output_type": "stream",
     "text": [
      "Training Epoch 772: 100%|██████████| 499/499 [00:12<00:00, 40.40it/s]\n",
      "Training Epoch 773: 100%|██████████| 499/499 [00:11<00:00, 41.89it/s]\n",
      "Training Epoch 774: 100%|██████████| 499/499 [00:11<00:00, 42.19it/s]\n",
      "Training Epoch 775: 100%|██████████| 499/499 [00:12<00:00, 41.00it/s]\n",
      "Training Epoch 776: 100%|██████████| 499/499 [00:12<00:00, 41.05it/s]\n",
      "Training Epoch 777: 100%|██████████| 499/499 [00:11<00:00, 43.01it/s]\n",
      "Training Epoch 778: 100%|██████████| 499/499 [00:12<00:00, 41.16it/s]\n",
      "Training Epoch 779: 100%|██████████| 499/499 [00:11<00:00, 41.87it/s]\n",
      "Training Epoch 780: 100%|██████████| 499/499 [00:11<00:00, 41.81it/s]\n",
      "Training Epoch 781: 100%|██████████| 499/499 [00:11<00:00, 41.81it/s]\n"
     ]
    },
    {
     "name": "stdout",
     "output_type": "stream",
     "text": [
      "Epoch 780 - Train Loss: 0.0693, Train MSE: 0.0692, Train MAE: 0.1848\n",
      "Epoch 780 - Validation Loss: 2.4552, Validation MSE: 2.4542, Validation MAE: 1.1544\n"
     ]
    },
    {
     "name": "stderr",
     "output_type": "stream",
     "text": [
      "Training Epoch 782: 100%|██████████| 499/499 [00:11<00:00, 41.66it/s]\n",
      "Training Epoch 783: 100%|██████████| 499/499 [00:12<00:00, 41.50it/s]\n",
      "Training Epoch 784: 100%|██████████| 499/499 [00:12<00:00, 40.81it/s]\n",
      "Training Epoch 785: 100%|██████████| 499/499 [00:11<00:00, 41.71it/s]\n",
      "Training Epoch 786: 100%|██████████| 499/499 [00:12<00:00, 41.14it/s]\n",
      "Training Epoch 787: 100%|██████████| 499/499 [00:11<00:00, 41.67it/s]\n",
      "Training Epoch 788: 100%|██████████| 499/499 [00:11<00:00, 41.99it/s]\n",
      "Training Epoch 789: 100%|██████████| 499/499 [00:12<00:00, 40.73it/s]\n",
      "Training Epoch 790: 100%|██████████| 499/499 [00:12<00:00, 41.16it/s]\n",
      "Training Epoch 791: 100%|██████████| 499/499 [00:11<00:00, 42.90it/s]\n"
     ]
    },
    {
     "name": "stdout",
     "output_type": "stream",
     "text": [
      "Epoch 790 - Train Loss: 0.0814, Train MSE: 0.0814, Train MAE: 0.1975\n",
      "Epoch 790 - Validation Loss: 2.3949, Validation MSE: 2.3937, Validation MAE: 1.1426\n"
     ]
    },
    {
     "name": "stderr",
     "output_type": "stream",
     "text": [
      "Training Epoch 792: 100%|██████████| 499/499 [00:11<00:00, 41.96it/s]\n",
      "Training Epoch 793: 100%|██████████| 499/499 [00:12<00:00, 41.52it/s]\n",
      "Training Epoch 794: 100%|██████████| 499/499 [00:11<00:00, 42.04it/s]\n",
      "Training Epoch 795: 100%|██████████| 499/499 [00:11<00:00, 41.95it/s]\n",
      "Training Epoch 796: 100%|██████████| 499/499 [00:11<00:00, 41.88it/s]\n",
      "Training Epoch 797: 100%|██████████| 499/499 [00:12<00:00, 41.57it/s]\n",
      "Training Epoch 798: 100%|██████████| 499/499 [00:11<00:00, 41.83it/s]\n",
      "Training Epoch 799: 100%|██████████| 499/499 [00:11<00:00, 41.86it/s]\n",
      "Training Epoch 800: 100%|██████████| 499/499 [00:11<00:00, 42.23it/s]\n",
      "Training Epoch 801: 100%|██████████| 499/499 [00:12<00:00, 41.55it/s]\n"
     ]
    },
    {
     "name": "stdout",
     "output_type": "stream",
     "text": [
      "Epoch 800 - Train Loss: 0.0706, Train MSE: 0.0706, Train MAE: 0.1878\n",
      "Epoch 800 - Validation Loss: 2.4330, Validation MSE: 2.4314, Validation MAE: 1.1494\n"
     ]
    },
    {
     "name": "stderr",
     "output_type": "stream",
     "text": [
      "Training Epoch 802: 100%|██████████| 499/499 [00:12<00:00, 41.56it/s]\n",
      "Training Epoch 803: 100%|██████████| 499/499 [00:11<00:00, 41.75it/s]\n",
      "Training Epoch 804: 100%|██████████| 499/499 [00:12<00:00, 41.49it/s]\n",
      "Training Epoch 805: 100%|██████████| 499/499 [00:12<00:00, 40.88it/s]\n",
      "Training Epoch 806: 100%|██████████| 499/499 [00:12<00:00, 41.25it/s]\n",
      "Training Epoch 807: 100%|██████████| 499/499 [00:11<00:00, 41.97it/s]\n",
      "Training Epoch 808: 100%|██████████| 499/499 [00:11<00:00, 41.92it/s]\n",
      "Training Epoch 809: 100%|██████████| 499/499 [00:12<00:00, 40.77it/s]\n",
      "Training Epoch 810: 100%|██████████| 499/499 [00:11<00:00, 41.86it/s]\n",
      "Training Epoch 811: 100%|██████████| 499/499 [00:11<00:00, 42.13it/s]\n"
     ]
    },
    {
     "name": "stdout",
     "output_type": "stream",
     "text": [
      "Epoch 810 - Train Loss: 0.0660, Train MSE: 0.0660, Train MAE: 0.1826\n",
      "Epoch 810 - Validation Loss: 2.4358, Validation MSE: 2.4349, Validation MAE: 1.1528\n"
     ]
    },
    {
     "name": "stderr",
     "output_type": "stream",
     "text": [
      "Training Epoch 812: 100%|██████████| 499/499 [00:12<00:00, 41.37it/s]\n",
      "Training Epoch 813: 100%|██████████| 499/499 [00:11<00:00, 41.74it/s]\n",
      "Training Epoch 814: 100%|██████████| 499/499 [00:12<00:00, 41.46it/s]\n",
      "Training Epoch 815: 100%|██████████| 499/499 [00:11<00:00, 41.77it/s]\n",
      "Training Epoch 816: 100%|██████████| 499/499 [00:11<00:00, 42.07it/s]\n",
      "Training Epoch 817: 100%|██████████| 499/499 [00:10<00:00, 45.71it/s]\n",
      "Training Epoch 818: 100%|██████████| 499/499 [00:10<00:00, 46.06it/s]\n",
      "Training Epoch 819: 100%|██████████| 499/499 [00:11<00:00, 44.16it/s]\n",
      "Training Epoch 820: 100%|██████████| 499/499 [00:11<00:00, 45.19it/s]\n",
      "Training Epoch 821: 100%|██████████| 499/499 [00:10<00:00, 46.79it/s]\n"
     ]
    },
    {
     "name": "stdout",
     "output_type": "stream",
     "text": [
      "Epoch 820 - Train Loss: 0.0620, Train MSE: 0.0619, Train MAE: 0.1788\n",
      "Epoch 820 - Validation Loss: 2.3817, Validation MSE: 2.3803, Validation MAE: 1.1485\n"
     ]
    },
    {
     "name": "stderr",
     "output_type": "stream",
     "text": [
      "Training Epoch 822: 100%|██████████| 499/499 [00:10<00:00, 46.70it/s]\n",
      "Training Epoch 823: 100%|██████████| 499/499 [00:10<00:00, 47.18it/s]\n",
      "Training Epoch 824: 100%|██████████| 499/499 [00:10<00:00, 47.22it/s]\n",
      "Training Epoch 825: 100%|██████████| 499/499 [00:10<00:00, 46.72it/s]\n",
      "Training Epoch 826: 100%|██████████| 499/499 [00:10<00:00, 47.18it/s]\n",
      "Training Epoch 827: 100%|██████████| 499/499 [00:10<00:00, 47.11it/s]\n",
      "Training Epoch 828: 100%|██████████| 499/499 [00:10<00:00, 46.46it/s]\n",
      "Training Epoch 829: 100%|██████████| 499/499 [00:10<00:00, 47.19it/s]\n",
      "Training Epoch 830: 100%|██████████| 499/499 [00:10<00:00, 47.84it/s]\n",
      "Training Epoch 831: 100%|██████████| 499/499 [00:10<00:00, 46.52it/s]\n"
     ]
    },
    {
     "name": "stdout",
     "output_type": "stream",
     "text": [
      "Epoch 830 - Train Loss: 0.0672, Train MSE: 0.0672, Train MAE: 0.1820\n",
      "Epoch 830 - Validation Loss: 2.3270, Validation MSE: 2.3255, Validation MAE: 1.1229\n"
     ]
    },
    {
     "name": "stderr",
     "output_type": "stream",
     "text": [
      "Training Epoch 832: 100%|██████████| 499/499 [00:10<00:00, 47.18it/s]\n",
      "Training Epoch 833: 100%|██████████| 499/499 [00:10<00:00, 48.06it/s]\n",
      "Training Epoch 834: 100%|██████████| 499/499 [00:10<00:00, 47.18it/s]\n",
      "Training Epoch 835: 100%|██████████| 499/499 [00:10<00:00, 47.16it/s]\n",
      "Training Epoch 836: 100%|██████████| 499/499 [00:10<00:00, 48.23it/s]\n",
      "Training Epoch 837: 100%|██████████| 499/499 [00:10<00:00, 45.55it/s]\n",
      "Training Epoch 838: 100%|██████████| 499/499 [00:10<00:00, 46.83it/s]\n",
      "Training Epoch 839: 100%|██████████| 499/499 [00:10<00:00, 48.15it/s]\n",
      "Training Epoch 840: 100%|██████████| 499/499 [00:10<00:00, 47.29it/s]\n",
      "Training Epoch 841: 100%|██████████| 499/499 [00:10<00:00, 46.87it/s]\n"
     ]
    },
    {
     "name": "stdout",
     "output_type": "stream",
     "text": [
      "Epoch 840 - Train Loss: 0.0645, Train MSE: 0.0645, Train MAE: 0.1808\n",
      "Epoch 840 - Validation Loss: 2.3716, Validation MSE: 2.3706, Validation MAE: 1.1351\n"
     ]
    },
    {
     "name": "stderr",
     "output_type": "stream",
     "text": [
      "Training Epoch 842: 100%|██████████| 499/499 [00:10<00:00, 47.22it/s]\n",
      "Training Epoch 843: 100%|██████████| 499/499 [00:10<00:00, 46.81it/s]\n",
      "Training Epoch 844: 100%|██████████| 499/499 [00:10<00:00, 47.74it/s]\n",
      "Training Epoch 845: 100%|██████████| 499/499 [00:10<00:00, 48.04it/s]\n",
      "Training Epoch 846: 100%|██████████| 499/499 [00:10<00:00, 47.79it/s]\n",
      "Training Epoch 847: 100%|██████████| 499/499 [00:10<00:00, 47.03it/s]\n",
      "Training Epoch 848: 100%|██████████| 499/499 [00:10<00:00, 47.08it/s]\n",
      "Training Epoch 849: 100%|██████████| 499/499 [00:10<00:00, 47.72it/s]\n",
      "Training Epoch 850: 100%|██████████| 499/499 [00:10<00:00, 47.34it/s]\n",
      "Training Epoch 851: 100%|██████████| 499/499 [00:10<00:00, 47.06it/s]\n"
     ]
    },
    {
     "name": "stdout",
     "output_type": "stream",
     "text": [
      "Epoch 850 - Train Loss: 0.0611, Train MSE: 0.0611, Train MAE: 0.1758\n",
      "Epoch 850 - Validation Loss: 2.3992, Validation MSE: 2.3980, Validation MAE: 1.1459\n"
     ]
    },
    {
     "name": "stderr",
     "output_type": "stream",
     "text": [
      "Training Epoch 852: 100%|██████████| 499/499 [00:10<00:00, 46.61it/s]\n",
      "Training Epoch 853: 100%|██████████| 499/499 [00:10<00:00, 47.15it/s]\n",
      "Training Epoch 854: 100%|██████████| 499/499 [00:10<00:00, 46.61it/s]\n",
      "Training Epoch 855: 100%|██████████| 499/499 [00:10<00:00, 47.01it/s]\n",
      "Training Epoch 856: 100%|██████████| 499/499 [00:10<00:00, 46.00it/s]\n",
      "Training Epoch 857: 100%|██████████| 499/499 [00:10<00:00, 46.19it/s]\n",
      "Training Epoch 858: 100%|██████████| 499/499 [00:10<00:00, 46.94it/s]\n",
      "Training Epoch 859: 100%|██████████| 499/499 [00:10<00:00, 45.69it/s]\n",
      "Training Epoch 860: 100%|██████████| 499/499 [00:10<00:00, 46.83it/s]\n",
      "Training Epoch 861: 100%|██████████| 499/499 [00:10<00:00, 47.08it/s]\n"
     ]
    },
    {
     "name": "stdout",
     "output_type": "stream",
     "text": [
      "Epoch 860 - Train Loss: 0.0638, Train MSE: 0.0638, Train MAE: 0.1787\n",
      "Epoch 860 - Validation Loss: 2.3710, Validation MSE: 2.3700, Validation MAE: 1.1375\n"
     ]
    },
    {
     "name": "stderr",
     "output_type": "stream",
     "text": [
      "Training Epoch 862: 100%|██████████| 499/499 [00:10<00:00, 47.71it/s]\n",
      "Training Epoch 863: 100%|██████████| 499/499 [00:10<00:00, 47.00it/s]\n",
      "Training Epoch 864: 100%|██████████| 499/499 [00:10<00:00, 46.34it/s]\n",
      "Training Epoch 865: 100%|██████████| 499/499 [00:10<00:00, 47.52it/s]\n",
      "Training Epoch 866: 100%|██████████| 499/499 [00:10<00:00, 46.39it/s]\n",
      "Training Epoch 867: 100%|██████████| 499/499 [00:10<00:00, 47.18it/s]\n",
      "Training Epoch 868: 100%|██████████| 499/499 [00:10<00:00, 47.72it/s]\n",
      "Training Epoch 869: 100%|██████████| 499/499 [00:10<00:00, 47.24it/s]\n",
      "Training Epoch 870: 100%|██████████| 499/499 [00:10<00:00, 46.78it/s]\n",
      "Training Epoch 871: 100%|██████████| 499/499 [00:10<00:00, 47.40it/s]\n"
     ]
    },
    {
     "name": "stdout",
     "output_type": "stream",
     "text": [
      "Epoch 870 - Train Loss: 0.0583, Train MSE: 0.0583, Train MAE: 0.1748\n",
      "Epoch 870 - Validation Loss: 2.4261, Validation MSE: 2.4253, Validation MAE: 1.1501\n"
     ]
    },
    {
     "name": "stderr",
     "output_type": "stream",
     "text": [
      "Training Epoch 872: 100%|██████████| 499/499 [00:10<00:00, 47.22it/s]\n",
      "Training Epoch 873: 100%|██████████| 499/499 [00:10<00:00, 46.82it/s]\n",
      "Training Epoch 874: 100%|██████████| 499/499 [00:10<00:00, 47.97it/s]\n",
      "Training Epoch 875: 100%|██████████| 499/499 [00:10<00:00, 47.05it/s]\n",
      "Training Epoch 876: 100%|██████████| 499/499 [00:10<00:00, 46.99it/s]\n",
      "Training Epoch 877: 100%|██████████| 499/499 [00:10<00:00, 47.30it/s]\n",
      "Training Epoch 878: 100%|██████████| 499/499 [00:10<00:00, 47.53it/s]\n",
      "Training Epoch 879: 100%|██████████| 499/499 [00:10<00:00, 48.02it/s]\n",
      "Training Epoch 880: 100%|██████████| 499/499 [00:10<00:00, 46.42it/s]\n",
      "Training Epoch 881: 100%|██████████| 499/499 [00:10<00:00, 48.84it/s]\n"
     ]
    },
    {
     "name": "stdout",
     "output_type": "stream",
     "text": [
      "Epoch 880 - Train Loss: 0.0662, Train MSE: 0.0662, Train MAE: 0.1805\n",
      "Epoch 880 - Validation Loss: 2.4392, Validation MSE: 2.4382, Validation MAE: 1.1531\n"
     ]
    },
    {
     "name": "stderr",
     "output_type": "stream",
     "text": [
      "Training Epoch 882: 100%|██████████| 499/499 [00:09<00:00, 54.07it/s]\n",
      "Training Epoch 883: 100%|██████████| 499/499 [00:09<00:00, 53.76it/s]\n",
      "Training Epoch 884: 100%|██████████| 499/499 [00:09<00:00, 53.43it/s]\n",
      "Training Epoch 885: 100%|██████████| 499/499 [00:09<00:00, 54.80it/s]\n",
      "Training Epoch 886: 100%|██████████| 499/499 [00:09<00:00, 53.72it/s]\n",
      "Training Epoch 887: 100%|██████████| 499/499 [00:09<00:00, 53.27it/s]\n",
      "Training Epoch 888: 100%|██████████| 499/499 [00:09<00:00, 53.77it/s]\n",
      "Training Epoch 889: 100%|██████████| 499/499 [00:09<00:00, 54.58it/s]\n",
      "Training Epoch 890: 100%|██████████| 499/499 [00:09<00:00, 54.70it/s]\n",
      "Training Epoch 891: 100%|██████████| 499/499 [00:09<00:00, 54.80it/s]\n"
     ]
    },
    {
     "name": "stdout",
     "output_type": "stream",
     "text": [
      "Epoch 890 - Train Loss: 0.0645, Train MSE: 0.0645, Train MAE: 0.1804\n",
      "Epoch 890 - Validation Loss: 2.4117, Validation MSE: 2.4102, Validation MAE: 1.1431\n"
     ]
    },
    {
     "name": "stderr",
     "output_type": "stream",
     "text": [
      "Training Epoch 892: 100%|██████████| 499/499 [00:09<00:00, 54.16it/s]\n",
      "Training Epoch 893: 100%|██████████| 499/499 [00:09<00:00, 53.66it/s]\n",
      "Training Epoch 894: 100%|██████████| 499/499 [00:09<00:00, 53.87it/s]\n",
      "Training Epoch 895: 100%|██████████| 499/499 [00:09<00:00, 55.07it/s]\n",
      "Training Epoch 896: 100%|██████████| 499/499 [00:08<00:00, 57.13it/s]\n",
      "Training Epoch 897: 100%|██████████| 499/499 [00:07<00:00, 63.77it/s]\n",
      "Training Epoch 898: 100%|██████████| 499/499 [00:08<00:00, 61.98it/s]\n",
      "Training Epoch 899: 100%|██████████| 499/499 [00:07<00:00, 64.15it/s]\n",
      "Training Epoch 900: 100%|██████████| 499/499 [00:07<00:00, 63.38it/s]\n",
      "Training Epoch 901: 100%|██████████| 499/499 [00:07<00:00, 63.97it/s]\n"
     ]
    },
    {
     "name": "stdout",
     "output_type": "stream",
     "text": [
      "Epoch 900 - Train Loss: 0.0595, Train MSE: 0.0594, Train MAE: 0.1745\n",
      "Epoch 900 - Validation Loss: 2.4553, Validation MSE: 2.4546, Validation MAE: 1.1607\n"
     ]
    },
    {
     "name": "stderr",
     "output_type": "stream",
     "text": [
      "Training Epoch 902: 100%|██████████| 499/499 [00:07<00:00, 63.62it/s]\n",
      "Training Epoch 903: 100%|██████████| 499/499 [00:07<00:00, 64.11it/s]\n",
      "Training Epoch 904: 100%|██████████| 499/499 [00:07<00:00, 63.08it/s]\n",
      "Training Epoch 905: 100%|██████████| 499/499 [00:07<00:00, 63.49it/s]\n",
      "Training Epoch 906: 100%|██████████| 499/499 [00:07<00:00, 63.32it/s]\n",
      "Training Epoch 907: 100%|██████████| 499/499 [00:07<00:00, 63.20it/s]\n",
      "Training Epoch 908: 100%|██████████| 499/499 [00:07<00:00, 63.50it/s]\n",
      "Training Epoch 909: 100%|██████████| 499/499 [00:07<00:00, 63.61it/s]\n",
      "Training Epoch 910: 100%|██████████| 499/499 [00:07<00:00, 63.06it/s]\n",
      "Training Epoch 911: 100%|██████████| 499/499 [00:07<00:00, 62.85it/s]\n"
     ]
    },
    {
     "name": "stdout",
     "output_type": "stream",
     "text": [
      "Epoch 910 - Train Loss: 0.0591, Train MSE: 0.0591, Train MAE: 0.1737\n",
      "Epoch 910 - Validation Loss: 2.4143, Validation MSE: 2.4134, Validation MAE: 1.1465\n"
     ]
    },
    {
     "name": "stderr",
     "output_type": "stream",
     "text": [
      "Training Epoch 912: 100%|██████████| 499/499 [00:07<00:00, 63.21it/s]\n",
      "Training Epoch 913: 100%|██████████| 499/499 [00:07<00:00, 64.13it/s]\n",
      "Training Epoch 914: 100%|██████████| 499/499 [00:07<00:00, 62.96it/s]\n",
      "Training Epoch 915: 100%|██████████| 499/499 [00:07<00:00, 62.93it/s]\n",
      "Training Epoch 916: 100%|██████████| 499/499 [00:07<00:00, 63.93it/s]\n",
      "Training Epoch 917: 100%|██████████| 499/499 [00:07<00:00, 63.67it/s]\n",
      "Training Epoch 918: 100%|██████████| 499/499 [00:07<00:00, 63.93it/s]\n",
      "Training Epoch 919: 100%|██████████| 499/499 [00:07<00:00, 64.29it/s]\n",
      "Training Epoch 920: 100%|██████████| 499/499 [00:07<00:00, 64.49it/s]\n",
      "Training Epoch 921: 100%|██████████| 499/499 [00:07<00:00, 62.56it/s]\n"
     ]
    },
    {
     "name": "stdout",
     "output_type": "stream",
     "text": [
      "Epoch 920 - Train Loss: 0.0690, Train MSE: 0.0690, Train MAE: 0.1823\n",
      "Epoch 920 - Validation Loss: 2.3690, Validation MSE: 2.3679, Validation MAE: 1.1386\n"
     ]
    },
    {
     "name": "stderr",
     "output_type": "stream",
     "text": [
      "Training Epoch 922: 100%|██████████| 499/499 [00:07<00:00, 62.70it/s]\n",
      "Training Epoch 923: 100%|██████████| 499/499 [00:07<00:00, 63.90it/s]\n",
      "Training Epoch 924: 100%|██████████| 499/499 [00:07<00:00, 63.15it/s]\n",
      "Training Epoch 925: 100%|██████████| 499/499 [00:08<00:00, 62.03it/s]\n",
      "Training Epoch 926: 100%|██████████| 499/499 [00:07<00:00, 63.93it/s]\n",
      "Training Epoch 927: 100%|██████████| 499/499 [00:07<00:00, 63.19it/s]\n",
      "Training Epoch 928: 100%|██████████| 499/499 [00:07<00:00, 63.40it/s]\n",
      "Training Epoch 929: 100%|██████████| 499/499 [00:07<00:00, 63.65it/s]\n",
      "Training Epoch 930: 100%|██████████| 499/499 [00:07<00:00, 65.17it/s]\n",
      "Training Epoch 931: 100%|██████████| 499/499 [00:07<00:00, 63.82it/s]\n"
     ]
    },
    {
     "name": "stdout",
     "output_type": "stream",
     "text": [
      "Epoch 930 - Train Loss: 0.0564, Train MSE: 0.0564, Train MAE: 0.1703\n",
      "Epoch 930 - Validation Loss: 2.4118, Validation MSE: 2.4111, Validation MAE: 1.1411\n"
     ]
    },
    {
     "name": "stderr",
     "output_type": "stream",
     "text": [
      "Training Epoch 932: 100%|██████████| 499/499 [00:07<00:00, 64.11it/s]\n",
      "Training Epoch 933: 100%|██████████| 499/499 [00:07<00:00, 63.35it/s]\n",
      "Training Epoch 934: 100%|██████████| 499/499 [00:07<00:00, 63.41it/s]\n",
      "Training Epoch 935: 100%|██████████| 499/499 [00:07<00:00, 63.52it/s]\n",
      "Training Epoch 936: 100%|██████████| 499/499 [00:07<00:00, 64.40it/s]\n",
      "Training Epoch 937: 100%|██████████| 499/499 [00:08<00:00, 61.82it/s]\n",
      "Training Epoch 938: 100%|██████████| 499/499 [00:07<00:00, 63.69it/s]\n",
      "Training Epoch 939: 100%|██████████| 499/499 [00:07<00:00, 63.41it/s]\n",
      "Training Epoch 940: 100%|██████████| 499/499 [00:07<00:00, 63.23it/s]\n",
      "Training Epoch 941: 100%|██████████| 499/499 [00:07<00:00, 63.97it/s]\n"
     ]
    },
    {
     "name": "stdout",
     "output_type": "stream",
     "text": [
      "Epoch 940 - Train Loss: 0.0578, Train MSE: 0.0578, Train MAE: 0.1730\n",
      "Epoch 940 - Validation Loss: 2.3896, Validation MSE: 2.3891, Validation MAE: 1.1409\n"
     ]
    },
    {
     "name": "stderr",
     "output_type": "stream",
     "text": [
      "Training Epoch 942: 100%|██████████| 499/499 [00:07<00:00, 62.75it/s]\n",
      "Training Epoch 943: 100%|██████████| 499/499 [00:07<00:00, 62.51it/s]\n",
      "Training Epoch 944: 100%|██████████| 499/499 [00:07<00:00, 63.68it/s]\n",
      "Training Epoch 945: 100%|██████████| 499/499 [00:07<00:00, 62.82it/s]\n",
      "Training Epoch 946: 100%|██████████| 499/499 [00:07<00:00, 63.20it/s]\n",
      "Training Epoch 947: 100%|██████████| 499/499 [00:07<00:00, 63.08it/s]\n",
      "Training Epoch 948: 100%|██████████| 499/499 [00:07<00:00, 64.18it/s]\n",
      "Training Epoch 949: 100%|██████████| 499/499 [00:07<00:00, 62.68it/s]\n",
      "Training Epoch 950: 100%|██████████| 499/499 [00:07<00:00, 63.87it/s]\n",
      "Training Epoch 951: 100%|██████████| 499/499 [00:07<00:00, 63.67it/s]\n"
     ]
    },
    {
     "name": "stdout",
     "output_type": "stream",
     "text": [
      "Epoch 950 - Train Loss: 0.0597, Train MSE: 0.0597, Train MAE: 0.1737\n",
      "Epoch 950 - Validation Loss: 2.3705, Validation MSE: 2.3700, Validation MAE: 1.1375\n"
     ]
    },
    {
     "name": "stderr",
     "output_type": "stream",
     "text": [
      "Training Epoch 952: 100%|██████████| 499/499 [00:08<00:00, 62.20it/s]\n",
      "Training Epoch 953: 100%|██████████| 499/499 [00:07<00:00, 63.56it/s]\n",
      "Training Epoch 954: 100%|██████████| 499/499 [00:07<00:00, 63.76it/s]\n",
      "Training Epoch 955: 100%|██████████| 499/499 [00:07<00:00, 63.70it/s]\n",
      "Training Epoch 956: 100%|██████████| 499/499 [00:07<00:00, 64.29it/s]\n",
      "Training Epoch 957: 100%|██████████| 499/499 [00:07<00:00, 63.28it/s]\n",
      "Training Epoch 958: 100%|██████████| 499/499 [00:07<00:00, 65.39it/s]\n",
      "Training Epoch 959: 100%|██████████| 499/499 [00:08<00:00, 61.82it/s]\n",
      "Training Epoch 960: 100%|██████████| 499/499 [00:07<00:00, 63.69it/s]\n",
      "Training Epoch 961: 100%|██████████| 499/499 [00:07<00:00, 62.57it/s]\n"
     ]
    },
    {
     "name": "stdout",
     "output_type": "stream",
     "text": [
      "Epoch 960 - Train Loss: 0.0603, Train MSE: 0.0604, Train MAE: 0.1729\n",
      "Epoch 960 - Validation Loss: 2.3536, Validation MSE: 2.3524, Validation MAE: 1.1377\n"
     ]
    },
    {
     "name": "stderr",
     "output_type": "stream",
     "text": [
      "Training Epoch 962: 100%|██████████| 499/499 [00:07<00:00, 64.28it/s]\n",
      "Training Epoch 963: 100%|██████████| 499/499 [00:07<00:00, 63.74it/s]\n",
      "Training Epoch 964: 100%|██████████| 499/499 [00:07<00:00, 62.81it/s]\n",
      "Training Epoch 965: 100%|██████████| 499/499 [00:07<00:00, 63.36it/s]\n",
      "Training Epoch 966: 100%|██████████| 499/499 [00:07<00:00, 63.97it/s]\n",
      "Training Epoch 967: 100%|██████████| 499/499 [00:07<00:00, 62.75it/s]\n",
      "Training Epoch 968: 100%|██████████| 499/499 [00:07<00:00, 63.31it/s]\n",
      "Training Epoch 969: 100%|██████████| 499/499 [00:07<00:00, 63.82it/s]\n",
      "Training Epoch 970: 100%|██████████| 499/499 [00:07<00:00, 63.58it/s]\n",
      "Training Epoch 971: 100%|██████████| 499/499 [00:07<00:00, 63.62it/s]\n"
     ]
    },
    {
     "name": "stdout",
     "output_type": "stream",
     "text": [
      "Epoch 970 - Train Loss: 0.0825, Train MSE: 0.0826, Train MAE: 0.1906\n",
      "Epoch 970 - Validation Loss: 2.4244, Validation MSE: 2.4230, Validation MAE: 1.1433\n"
     ]
    },
    {
     "name": "stderr",
     "output_type": "stream",
     "text": [
      "Training Epoch 972: 100%|██████████| 499/499 [00:07<00:00, 63.46it/s]\n",
      "Training Epoch 973: 100%|██████████| 499/499 [00:07<00:00, 64.26it/s]\n",
      "Training Epoch 974: 100%|██████████| 499/499 [00:07<00:00, 63.17it/s]\n",
      "Training Epoch 975: 100%|██████████| 499/499 [00:07<00:00, 63.04it/s]\n",
      "Training Epoch 976: 100%|██████████| 499/499 [00:07<00:00, 62.60it/s]\n",
      "Training Epoch 977: 100%|██████████| 499/499 [00:07<00:00, 63.49it/s]\n",
      "Training Epoch 978: 100%|██████████| 499/499 [00:07<00:00, 62.61it/s]\n",
      "Training Epoch 979: 100%|██████████| 499/499 [00:07<00:00, 63.72it/s]\n",
      "Training Epoch 980: 100%|██████████| 499/499 [00:07<00:00, 64.02it/s]\n",
      "Training Epoch 981: 100%|██████████| 499/499 [00:07<00:00, 62.60it/s]\n"
     ]
    },
    {
     "name": "stdout",
     "output_type": "stream",
     "text": [
      "Epoch 980 - Train Loss: 0.0576, Train MSE: 0.0576, Train MAE: 0.1713\n",
      "Epoch 980 - Validation Loss: 2.4656, Validation MSE: 2.4645, Validation MAE: 1.1614\n"
     ]
    },
    {
     "name": "stderr",
     "output_type": "stream",
     "text": [
      "Training Epoch 982: 100%|██████████| 499/499 [00:07<00:00, 63.30it/s]\n",
      "Training Epoch 983: 100%|██████████| 499/499 [00:07<00:00, 64.50it/s]\n",
      "Training Epoch 984: 100%|██████████| 499/499 [00:07<00:00, 63.63it/s]\n",
      "Training Epoch 985: 100%|██████████| 499/499 [00:07<00:00, 62.51it/s]\n",
      "Training Epoch 986: 100%|██████████| 499/499 [00:08<00:00, 62.24it/s]\n",
      "Training Epoch 987: 100%|██████████| 499/499 [00:07<00:00, 64.26it/s]\n",
      "Training Epoch 988: 100%|██████████| 499/499 [00:07<00:00, 62.50it/s]\n",
      "Training Epoch 989: 100%|██████████| 499/499 [00:07<00:00, 63.60it/s]\n",
      "Training Epoch 990: 100%|██████████| 499/499 [00:07<00:00, 64.14it/s]\n",
      "Training Epoch 991: 100%|██████████| 499/499 [00:07<00:00, 63.60it/s]\n"
     ]
    },
    {
     "name": "stdout",
     "output_type": "stream",
     "text": [
      "Epoch 990 - Train Loss: 0.0528, Train MSE: 0.0528, Train MAE: 0.1651\n",
      "Epoch 990 - Validation Loss: 2.3904, Validation MSE: 2.3892, Validation MAE: 1.1428\n"
     ]
    },
    {
     "name": "stderr",
     "output_type": "stream",
     "text": [
      "Training Epoch 992: 100%|██████████| 499/499 [00:07<00:00, 64.56it/s]\n",
      "Training Epoch 993: 100%|██████████| 499/499 [00:07<00:00, 63.75it/s]\n",
      "Training Epoch 994: 100%|██████████| 499/499 [00:07<00:00, 62.99it/s]\n",
      "Training Epoch 995: 100%|██████████| 499/499 [00:07<00:00, 63.31it/s]\n",
      "Training Epoch 996: 100%|██████████| 499/499 [00:07<00:00, 62.76it/s]\n",
      "Training Epoch 997: 100%|██████████| 499/499 [00:07<00:00, 62.62it/s]\n",
      "Training Epoch 998: 100%|██████████| 499/499 [00:07<00:00, 63.89it/s]\n",
      "Training Epoch 999: 100%|██████████| 499/499 [00:07<00:00, 64.20it/s]\n",
      "Training Epoch 1000: 100%|██████████| 499/499 [00:08<00:00, 62.36it/s]\n",
      "Training Epoch 1001: 100%|██████████| 499/499 [00:07<00:00, 64.27it/s]\n"
     ]
    },
    {
     "name": "stdout",
     "output_type": "stream",
     "text": [
      "Epoch 1000 - Train Loss: 0.0616, Train MSE: 0.0615, Train MAE: 0.1732\n",
      "Epoch 1000 - Validation Loss: 2.3922, Validation MSE: 2.3913, Validation MAE: 1.1411\n"
     ]
    },
    {
     "name": "stderr",
     "output_type": "stream",
     "text": [
      "Training Epoch 1002: 100%|██████████| 499/499 [00:07<00:00, 63.83it/s]\n",
      "Training Epoch 1003: 100%|██████████| 499/499 [00:07<00:00, 62.70it/s]\n",
      "Training Epoch 1004: 100%|██████████| 499/499 [00:07<00:00, 63.60it/s]\n",
      "Training Epoch 1005: 100%|██████████| 499/499 [00:07<00:00, 63.72it/s]\n",
      "Training Epoch 1006: 100%|██████████| 499/499 [00:07<00:00, 63.47it/s]\n",
      "Training Epoch 1007: 100%|██████████| 499/499 [00:07<00:00, 63.37it/s]\n",
      "Training Epoch 1008: 100%|██████████| 499/499 [00:07<00:00, 62.97it/s]\n",
      "Training Epoch 1009: 100%|██████████| 499/499 [00:07<00:00, 64.33it/s]\n",
      "Training Epoch 1010: 100%|██████████| 499/499 [00:07<00:00, 62.50it/s]\n",
      "Training Epoch 1011: 100%|██████████| 499/499 [00:07<00:00, 63.74it/s]\n"
     ]
    },
    {
     "name": "stdout",
     "output_type": "stream",
     "text": [
      "Epoch 1010 - Train Loss: 0.0615, Train MSE: 0.0616, Train MAE: 0.1742\n",
      "Epoch 1010 - Validation Loss: 2.4189, Validation MSE: 2.4180, Validation MAE: 1.1516\n"
     ]
    },
    {
     "name": "stderr",
     "output_type": "stream",
     "text": [
      "Training Epoch 1012: 100%|██████████| 499/499 [00:07<00:00, 63.21it/s]\n",
      "Training Epoch 1013: 100%|██████████| 499/499 [00:07<00:00, 63.59it/s]\n",
      "Training Epoch 1014: 100%|██████████| 499/499 [00:07<00:00, 63.47it/s]\n",
      "Training Epoch 1015: 100%|██████████| 499/499 [00:07<00:00, 63.41it/s]\n",
      "Training Epoch 1016: 100%|██████████| 499/499 [00:07<00:00, 63.70it/s]\n",
      "Training Epoch 1017: 100%|██████████| 499/499 [00:07<00:00, 63.65it/s]\n",
      "Training Epoch 1018: 100%|██████████| 499/499 [00:07<00:00, 63.19it/s]\n",
      "Training Epoch 1019: 100%|██████████| 499/499 [00:08<00:00, 62.23it/s]\n",
      "Training Epoch 1020: 100%|██████████| 499/499 [00:07<00:00, 63.62it/s]\n",
      "Training Epoch 1021: 100%|██████████| 499/499 [00:07<00:00, 64.24it/s]\n"
     ]
    },
    {
     "name": "stdout",
     "output_type": "stream",
     "text": [
      "Epoch 1020 - Train Loss: 0.0536, Train MSE: 0.0536, Train MAE: 0.1656\n",
      "Epoch 1020 - Validation Loss: 2.3983, Validation MSE: 2.3977, Validation MAE: 1.1437\n"
     ]
    },
    {
     "name": "stderr",
     "output_type": "stream",
     "text": [
      "Training Epoch 1022: 100%|██████████| 499/499 [00:07<00:00, 63.31it/s]\n",
      "Training Epoch 1023: 100%|██████████| 499/499 [00:07<00:00, 63.08it/s]\n",
      "Training Epoch 1024: 100%|██████████| 499/499 [00:07<00:00, 62.65it/s]\n",
      "Training Epoch 1025: 100%|██████████| 499/499 [00:07<00:00, 62.96it/s]\n",
      "Training Epoch 1026: 100%|██████████| 499/499 [00:07<00:00, 62.95it/s]\n",
      "Training Epoch 1027: 100%|██████████| 499/499 [00:07<00:00, 65.47it/s]\n",
      "Training Epoch 1028: 100%|██████████| 499/499 [00:07<00:00, 63.25it/s]\n",
      "Training Epoch 1029: 100%|██████████| 499/499 [00:07<00:00, 63.41it/s]\n",
      "Training Epoch 1030: 100%|██████████| 499/499 [00:07<00:00, 63.76it/s]\n",
      "Training Epoch 1031: 100%|██████████| 499/499 [00:07<00:00, 63.93it/s]\n"
     ]
    },
    {
     "name": "stdout",
     "output_type": "stream",
     "text": [
      "Epoch 1030 - Train Loss: 0.0541, Train MSE: 0.0541, Train MAE: 0.1649\n",
      "Epoch 1030 - Validation Loss: 2.3772, Validation MSE: 2.3768, Validation MAE: 1.1353\n"
     ]
    },
    {
     "name": "stderr",
     "output_type": "stream",
     "text": [
      "Training Epoch 1032: 100%|██████████| 499/499 [00:07<00:00, 63.03it/s]\n",
      "Training Epoch 1033: 100%|██████████| 499/499 [00:07<00:00, 63.85it/s]\n",
      "Training Epoch 1034: 100%|██████████| 499/499 [00:07<00:00, 63.34it/s]\n",
      "Training Epoch 1035: 100%|██████████| 499/499 [00:07<00:00, 64.50it/s]\n",
      "Training Epoch 1036: 100%|██████████| 499/499 [00:07<00:00, 64.03it/s]\n",
      "Training Epoch 1037: 100%|██████████| 499/499 [00:07<00:00, 63.67it/s]\n",
      "Training Epoch 1038: 100%|██████████| 499/499 [00:07<00:00, 63.91it/s]\n",
      "Training Epoch 1039: 100%|██████████| 499/499 [00:07<00:00, 63.55it/s]\n",
      "Training Epoch 1040: 100%|██████████| 499/499 [00:07<00:00, 63.65it/s]\n",
      "Training Epoch 1041: 100%|██████████| 499/499 [00:07<00:00, 63.09it/s]\n"
     ]
    },
    {
     "name": "stdout",
     "output_type": "stream",
     "text": [
      "Epoch 1040 - Train Loss: 0.0617, Train MSE: 0.0618, Train MAE: 0.1742\n",
      "Epoch 1040 - Validation Loss: 2.3961, Validation MSE: 2.3953, Validation MAE: 1.1420\n"
     ]
    },
    {
     "name": "stderr",
     "output_type": "stream",
     "text": [
      "Training Epoch 1042: 100%|██████████| 499/499 [00:07<00:00, 62.76it/s]\n",
      "Training Epoch 1043: 100%|██████████| 499/499 [00:07<00:00, 63.56it/s]\n",
      "Training Epoch 1044: 100%|██████████| 499/499 [00:07<00:00, 63.57it/s]\n",
      "Training Epoch 1045: 100%|██████████| 499/499 [00:08<00:00, 61.98it/s]\n",
      "Training Epoch 1046: 100%|██████████| 499/499 [00:07<00:00, 64.52it/s]\n",
      "Training Epoch 1047: 100%|██████████| 499/499 [00:07<00:00, 63.23it/s]\n",
      "Training Epoch 1048: 100%|██████████| 499/499 [00:07<00:00, 62.97it/s]\n",
      "Training Epoch 1049: 100%|██████████| 499/499 [00:07<00:00, 62.94it/s]\n",
      "Training Epoch 1050: 100%|██████████| 499/499 [00:07<00:00, 62.96it/s]\n",
      "Training Epoch 1051: 100%|██████████| 499/499 [00:08<00:00, 62.03it/s]\n"
     ]
    },
    {
     "name": "stdout",
     "output_type": "stream",
     "text": [
      "Epoch 1050 - Train Loss: 0.0615, Train MSE: 0.0615, Train MAE: 0.1702\n",
      "Epoch 1050 - Validation Loss: 2.4212, Validation MSE: 2.4211, Validation MAE: 1.1515\n"
     ]
    },
    {
     "name": "stderr",
     "output_type": "stream",
     "text": [
      "Training Epoch 1052: 100%|██████████| 499/499 [00:07<00:00, 64.01it/s]\n",
      "Training Epoch 1053: 100%|██████████| 499/499 [00:07<00:00, 63.22it/s]\n",
      "Training Epoch 1054: 100%|██████████| 499/499 [00:07<00:00, 63.98it/s]\n",
      "Training Epoch 1055: 100%|██████████| 499/499 [00:08<00:00, 61.79it/s]\n",
      "Training Epoch 1056: 100%|██████████| 499/499 [00:07<00:00, 63.83it/s]\n",
      "Training Epoch 1057: 100%|██████████| 499/499 [00:07<00:00, 62.92it/s]\n",
      "Training Epoch 1058: 100%|██████████| 499/499 [00:07<00:00, 62.54it/s]\n",
      "Training Epoch 1059: 100%|██████████| 499/499 [00:07<00:00, 62.88it/s]\n",
      "Training Epoch 1060: 100%|██████████| 499/499 [00:07<00:00, 63.53it/s]\n",
      "Training Epoch 1061: 100%|██████████| 499/499 [00:07<00:00, 62.88it/s]\n"
     ]
    },
    {
     "name": "stdout",
     "output_type": "stream",
     "text": [
      "Epoch 1060 - Train Loss: 0.0553, Train MSE: 0.0553, Train MAE: 0.1662\n",
      "Epoch 1060 - Validation Loss: 2.4836, Validation MSE: 2.4832, Validation MAE: 1.1637\n"
     ]
    },
    {
     "name": "stderr",
     "output_type": "stream",
     "text": [
      "Training Epoch 1062: 100%|██████████| 499/499 [00:07<00:00, 64.32it/s]\n",
      "Training Epoch 1063: 100%|██████████| 499/499 [00:07<00:00, 63.53it/s]\n",
      "Training Epoch 1064: 100%|██████████| 499/499 [00:07<00:00, 64.08it/s]\n",
      "Training Epoch 1065: 100%|██████████| 499/499 [00:07<00:00, 64.00it/s]\n",
      "Training Epoch 1066: 100%|██████████| 499/499 [00:07<00:00, 65.40it/s]\n",
      "Training Epoch 1067: 100%|██████████| 499/499 [00:07<00:00, 63.59it/s]\n",
      "Training Epoch 1068: 100%|██████████| 499/499 [00:07<00:00, 65.28it/s]\n",
      "Training Epoch 1069: 100%|██████████| 499/499 [00:07<00:00, 64.23it/s]\n",
      "Training Epoch 1070: 100%|██████████| 499/499 [00:07<00:00, 64.55it/s]\n",
      "Training Epoch 1071: 100%|██████████| 499/499 [00:07<00:00, 63.87it/s]\n"
     ]
    },
    {
     "name": "stdout",
     "output_type": "stream",
     "text": [
      "Epoch 1070 - Train Loss: 0.0576, Train MSE: 0.0575, Train MAE: 0.1665\n",
      "Epoch 1070 - Validation Loss: 2.5140, Validation MSE: 2.5135, Validation MAE: 1.1712\n"
     ]
    },
    {
     "name": "stderr",
     "output_type": "stream",
     "text": [
      "Training Epoch 1072: 100%|██████████| 499/499 [00:07<00:00, 63.94it/s]\n",
      "Training Epoch 1073: 100%|██████████| 499/499 [00:07<00:00, 64.23it/s]\n",
      "Training Epoch 1074: 100%|██████████| 499/499 [00:07<00:00, 64.89it/s]\n",
      "Training Epoch 1075: 100%|██████████| 499/499 [00:07<00:00, 63.09it/s]\n",
      "Training Epoch 1076: 100%|██████████| 499/499 [00:07<00:00, 64.05it/s]\n",
      "Training Epoch 1077: 100%|██████████| 499/499 [00:07<00:00, 62.58it/s]\n",
      "Training Epoch 1078: 100%|██████████| 499/499 [00:07<00:00, 65.13it/s]\n",
      "Training Epoch 1079: 100%|██████████| 499/499 [00:07<00:00, 63.87it/s]\n",
      "Training Epoch 1080: 100%|██████████| 499/499 [00:07<00:00, 64.15it/s]\n",
      "Training Epoch 1081: 100%|██████████| 499/499 [00:07<00:00, 64.03it/s]\n"
     ]
    },
    {
     "name": "stdout",
     "output_type": "stream",
     "text": [
      "Epoch 1080 - Train Loss: 0.0526, Train MSE: 0.0526, Train MAE: 0.1631\n",
      "Epoch 1080 - Validation Loss: 2.4300, Validation MSE: 2.4297, Validation MAE: 1.1460\n"
     ]
    },
    {
     "name": "stderr",
     "output_type": "stream",
     "text": [
      "Training Epoch 1082: 100%|██████████| 499/499 [00:07<00:00, 64.21it/s]\n",
      "Training Epoch 1083: 100%|██████████| 499/499 [00:07<00:00, 63.71it/s]\n",
      "Training Epoch 1084: 100%|██████████| 499/499 [00:07<00:00, 64.40it/s]\n",
      "Training Epoch 1085: 100%|██████████| 499/499 [00:07<00:00, 65.21it/s]\n",
      "Training Epoch 1086: 100%|██████████| 499/499 [00:07<00:00, 65.75it/s]\n",
      "Training Epoch 1087: 100%|██████████| 499/499 [00:07<00:00, 63.64it/s]\n",
      "Training Epoch 1088: 100%|██████████| 499/499 [00:07<00:00, 65.19it/s]\n",
      "Training Epoch 1089: 100%|██████████| 499/499 [00:07<00:00, 64.40it/s]\n",
      "Training Epoch 1090: 100%|██████████| 499/499 [00:07<00:00, 64.06it/s]\n",
      "Training Epoch 1091: 100%|██████████| 499/499 [00:07<00:00, 63.82it/s]\n"
     ]
    },
    {
     "name": "stdout",
     "output_type": "stream",
     "text": [
      "Epoch 1090 - Train Loss: 0.0592, Train MSE: 0.0592, Train MAE: 0.1688\n",
      "Epoch 1090 - Validation Loss: 2.4093, Validation MSE: 2.4085, Validation MAE: 1.1407\n"
     ]
    },
    {
     "name": "stderr",
     "output_type": "stream",
     "text": [
      "Training Epoch 1092: 100%|██████████| 499/499 [00:07<00:00, 63.68it/s]\n",
      "Training Epoch 1093: 100%|██████████| 499/499 [00:07<00:00, 63.93it/s]\n",
      "Training Epoch 1094: 100%|██████████| 499/499 [00:07<00:00, 63.92it/s]\n",
      "Training Epoch 1095: 100%|██████████| 499/499 [00:07<00:00, 63.58it/s]\n",
      "Training Epoch 1096: 100%|██████████| 499/499 [00:07<00:00, 63.54it/s]\n",
      "Training Epoch 1097: 100%|██████████| 499/499 [00:07<00:00, 64.22it/s]\n",
      "Training Epoch 1098: 100%|██████████| 499/499 [00:07<00:00, 64.88it/s]\n",
      "Training Epoch 1099: 100%|██████████| 499/499 [00:07<00:00, 64.36it/s]\n",
      "Training Epoch 1100: 100%|██████████| 499/499 [00:07<00:00, 65.81it/s]\n",
      "Training Epoch 1101: 100%|██████████| 499/499 [00:07<00:00, 64.75it/s]\n"
     ]
    },
    {
     "name": "stdout",
     "output_type": "stream",
     "text": [
      "Epoch 1100 - Train Loss: 0.0536, Train MSE: 0.0536, Train MAE: 0.1634\n",
      "Epoch 1100 - Validation Loss: 2.4480, Validation MSE: 2.4480, Validation MAE: 1.1597\n"
     ]
    },
    {
     "name": "stderr",
     "output_type": "stream",
     "text": [
      "Training Epoch 1102: 100%|██████████| 499/499 [00:07<00:00, 64.96it/s]\n",
      "Training Epoch 1103: 100%|██████████| 499/499 [00:07<00:00, 64.66it/s]\n",
      "Training Epoch 1104: 100%|██████████| 499/499 [00:07<00:00, 64.84it/s]\n",
      "Training Epoch 1105: 100%|██████████| 499/499 [00:07<00:00, 64.69it/s]\n",
      "Training Epoch 1106: 100%|██████████| 499/499 [00:07<00:00, 64.25it/s]\n",
      "Training Epoch 1107: 100%|██████████| 499/499 [00:07<00:00, 63.57it/s]\n",
      "Training Epoch 1108: 100%|██████████| 499/499 [00:07<00:00, 65.07it/s]\n",
      "Training Epoch 1109: 100%|██████████| 499/499 [00:07<00:00, 63.31it/s]\n",
      "Training Epoch 1110: 100%|██████████| 499/499 [00:07<00:00, 65.40it/s]\n",
      "Training Epoch 1111: 100%|██████████| 499/499 [00:07<00:00, 63.76it/s]\n"
     ]
    },
    {
     "name": "stdout",
     "output_type": "stream",
     "text": [
      "Epoch 1110 - Train Loss: 0.0559, Train MSE: 0.0559, Train MAE: 0.1653\n",
      "Epoch 1110 - Validation Loss: 2.4557, Validation MSE: 2.4546, Validation MAE: 1.1619\n"
     ]
    },
    {
     "name": "stderr",
     "output_type": "stream",
     "text": [
      "Training Epoch 1112: 100%|██████████| 499/499 [00:07<00:00, 65.63it/s]\n",
      "Training Epoch 1113: 100%|██████████| 499/499 [00:07<00:00, 63.70it/s]\n",
      "Training Epoch 1114: 100%|██████████| 499/499 [00:07<00:00, 65.00it/s]\n",
      "Training Epoch 1115: 100%|██████████| 499/499 [00:07<00:00, 63.22it/s]\n",
      "Training Epoch 1116: 100%|██████████| 499/499 [00:07<00:00, 64.10it/s]\n",
      "Training Epoch 1117: 100%|██████████| 499/499 [00:07<00:00, 64.66it/s]\n",
      "Training Epoch 1118: 100%|██████████| 499/499 [00:07<00:00, 64.64it/s]\n",
      "Training Epoch 1119: 100%|██████████| 499/499 [00:07<00:00, 64.79it/s]\n",
      "Training Epoch 1120: 100%|██████████| 499/499 [00:07<00:00, 65.50it/s]\n",
      "Training Epoch 1121: 100%|██████████| 499/499 [00:07<00:00, 63.34it/s]\n"
     ]
    },
    {
     "name": "stdout",
     "output_type": "stream",
     "text": [
      "Epoch 1120 - Train Loss: 0.0875, Train MSE: 0.0876, Train MAE: 0.1825\n",
      "Epoch 1120 - Validation Loss: 2.4287, Validation MSE: 2.4281, Validation MAE: 1.1505\n"
     ]
    },
    {
     "name": "stderr",
     "output_type": "stream",
     "text": [
      "Training Epoch 1122: 100%|██████████| 499/499 [00:07<00:00, 63.87it/s]\n",
      "Training Epoch 1123: 100%|██████████| 499/499 [00:07<00:00, 64.69it/s]\n",
      "Training Epoch 1124: 100%|██████████| 499/499 [00:07<00:00, 64.18it/s]\n",
      "Training Epoch 1125: 100%|██████████| 499/499 [00:07<00:00, 64.74it/s]\n",
      "Training Epoch 1126: 100%|██████████| 499/499 [00:07<00:00, 64.95it/s]\n",
      "Training Epoch 1127: 100%|██████████| 499/499 [00:07<00:00, 64.43it/s]\n",
      "Training Epoch 1128: 100%|██████████| 499/499 [00:07<00:00, 64.28it/s]\n",
      "Training Epoch 1129: 100%|██████████| 499/499 [00:07<00:00, 63.87it/s]\n",
      "Training Epoch 1130: 100%|██████████| 499/499 [00:07<00:00, 66.88it/s]\n",
      "Training Epoch 1131: 100%|██████████| 499/499 [00:07<00:00, 63.42it/s]\n"
     ]
    },
    {
     "name": "stdout",
     "output_type": "stream",
     "text": [
      "Epoch 1130 - Train Loss: 0.0549, Train MSE: 0.0548, Train MAE: 0.1638\n",
      "Epoch 1130 - Validation Loss: 2.3852, Validation MSE: 2.3838, Validation MAE: 1.1444\n"
     ]
    },
    {
     "name": "stderr",
     "output_type": "stream",
     "text": [
      "Training Epoch 1132: 100%|██████████| 499/499 [00:07<00:00, 64.88it/s]\n",
      "Training Epoch 1133: 100%|██████████| 499/499 [00:07<00:00, 63.99it/s]\n",
      "Training Epoch 1134: 100%|██████████| 499/499 [00:07<00:00, 64.01it/s]\n",
      "Training Epoch 1135: 100%|██████████| 499/499 [00:07<00:00, 66.03it/s]\n",
      "Training Epoch 1136: 100%|██████████| 499/499 [00:07<00:00, 64.57it/s]\n",
      "Training Epoch 1137: 100%|██████████| 499/499 [00:07<00:00, 64.55it/s]\n",
      "Training Epoch 1138: 100%|██████████| 499/499 [00:07<00:00, 65.15it/s]\n",
      "Training Epoch 1139: 100%|██████████| 499/499 [00:07<00:00, 62.93it/s]\n",
      "Training Epoch 1140: 100%|██████████| 499/499 [00:07<00:00, 65.02it/s]\n",
      "Training Epoch 1141: 100%|██████████| 499/499 [00:07<00:00, 63.16it/s]\n"
     ]
    },
    {
     "name": "stdout",
     "output_type": "stream",
     "text": [
      "Epoch 1140 - Train Loss: 0.0569, Train MSE: 0.0569, Train MAE: 0.1689\n",
      "Epoch 1140 - Validation Loss: 2.4271, Validation MSE: 2.4265, Validation MAE: 1.1524\n"
     ]
    },
    {
     "name": "stderr",
     "output_type": "stream",
     "text": [
      "Training Epoch 1142: 100%|██████████| 499/499 [00:07<00:00, 65.00it/s]\n",
      "Training Epoch 1143: 100%|██████████| 499/499 [00:07<00:00, 64.48it/s]\n",
      "Training Epoch 1144: 100%|██████████| 499/499 [00:07<00:00, 63.74it/s]\n",
      "Training Epoch 1145: 100%|██████████| 499/499 [00:07<00:00, 63.60it/s]\n",
      "Training Epoch 1146: 100%|██████████| 499/499 [00:07<00:00, 64.12it/s]\n",
      "Training Epoch 1147: 100%|██████████| 499/499 [00:07<00:00, 64.18it/s]\n",
      "Training Epoch 1148: 100%|██████████| 499/499 [00:07<00:00, 63.44it/s]\n",
      "Training Epoch 1149: 100%|██████████| 499/499 [00:07<00:00, 63.42it/s]\n",
      "Training Epoch 1150: 100%|██████████| 499/499 [00:07<00:00, 63.08it/s]\n",
      "Training Epoch 1151: 100%|██████████| 499/499 [00:07<00:00, 63.02it/s]\n"
     ]
    },
    {
     "name": "stdout",
     "output_type": "stream",
     "text": [
      "Epoch 1150 - Train Loss: 0.0497, Train MSE: 0.0497, Train MAE: 0.1588\n",
      "Epoch 1150 - Validation Loss: 2.4439, Validation MSE: 2.4430, Validation MAE: 1.1562\n"
     ]
    },
    {
     "name": "stderr",
     "output_type": "stream",
     "text": [
      "Training Epoch 1152: 100%|██████████| 499/499 [00:07<00:00, 63.84it/s]\n",
      "Training Epoch 1153: 100%|██████████| 499/499 [00:07<00:00, 62.83it/s]\n",
      "Training Epoch 1154: 100%|██████████| 499/499 [00:07<00:00, 62.94it/s]\n",
      "Training Epoch 1155: 100%|██████████| 499/499 [00:07<00:00, 62.96it/s]\n",
      "Training Epoch 1156: 100%|██████████| 499/499 [00:07<00:00, 63.95it/s]\n",
      "Training Epoch 1157: 100%|██████████| 499/499 [00:07<00:00, 62.83it/s]\n",
      "Training Epoch 1158: 100%|██████████| 499/499 [00:07<00:00, 64.67it/s]\n",
      "Training Epoch 1159: 100%|██████████| 499/499 [00:08<00:00, 62.19it/s]\n",
      "Training Epoch 1160: 100%|██████████| 499/499 [00:07<00:00, 63.99it/s]\n",
      "Training Epoch 1161: 100%|██████████| 499/499 [00:07<00:00, 63.69it/s]\n"
     ]
    },
    {
     "name": "stdout",
     "output_type": "stream",
     "text": [
      "Epoch 1160 - Train Loss: 0.0512, Train MSE: 0.0512, Train MAE: 0.1600\n",
      "Epoch 1160 - Validation Loss: 2.3771, Validation MSE: 2.3762, Validation MAE: 1.1380\n"
     ]
    },
    {
     "name": "stderr",
     "output_type": "stream",
     "text": [
      "Training Epoch 1162: 100%|██████████| 499/499 [00:07<00:00, 64.22it/s]\n",
      "Training Epoch 1163: 100%|██████████| 499/499 [00:07<00:00, 64.68it/s]\n",
      "Training Epoch 1164: 100%|██████████| 499/499 [00:07<00:00, 64.69it/s]\n",
      "Training Epoch 1165: 100%|██████████| 499/499 [00:07<00:00, 63.49it/s]\n",
      "Training Epoch 1166: 100%|██████████| 499/499 [00:07<00:00, 64.32it/s]\n",
      "Training Epoch 1167: 100%|██████████| 499/499 [00:07<00:00, 63.56it/s]\n",
      "Training Epoch 1168: 100%|██████████| 499/499 [00:07<00:00, 63.53it/s]\n",
      "Training Epoch 1169: 100%|██████████| 499/499 [00:07<00:00, 63.61it/s]\n",
      "Training Epoch 1170: 100%|██████████| 499/499 [00:07<00:00, 63.98it/s]\n",
      "Training Epoch 1171: 100%|██████████| 499/499 [00:07<00:00, 64.24it/s]\n"
     ]
    },
    {
     "name": "stdout",
     "output_type": "stream",
     "text": [
      "Epoch 1170 - Train Loss: 0.0507, Train MSE: 0.0507, Train MAE: 0.1596\n",
      "Epoch 1170 - Validation Loss: 2.4241, Validation MSE: 2.4236, Validation MAE: 1.1520\n"
     ]
    },
    {
     "name": "stderr",
     "output_type": "stream",
     "text": [
      "Training Epoch 1172: 100%|██████████| 499/499 [00:07<00:00, 63.97it/s]\n",
      "Training Epoch 1173: 100%|██████████| 499/499 [00:07<00:00, 65.07it/s]\n",
      "Training Epoch 1174: 100%|██████████| 499/499 [00:07<00:00, 63.12it/s]\n",
      "Training Epoch 1175: 100%|██████████| 499/499 [00:07<00:00, 64.60it/s]\n",
      "Training Epoch 1176: 100%|██████████| 499/499 [00:07<00:00, 63.34it/s]\n",
      "Training Epoch 1177: 100%|██████████| 499/499 [00:07<00:00, 64.52it/s]\n",
      "Training Epoch 1178: 100%|██████████| 499/499 [00:07<00:00, 62.92it/s]\n",
      "Training Epoch 1179: 100%|██████████| 499/499 [00:07<00:00, 63.40it/s]\n",
      "Training Epoch 1180: 100%|██████████| 499/499 [00:07<00:00, 64.87it/s]\n",
      "Training Epoch 1181: 100%|██████████| 499/499 [00:07<00:00, 64.23it/s]\n"
     ]
    },
    {
     "name": "stdout",
     "output_type": "stream",
     "text": [
      "Epoch 1180 - Train Loss: 0.0525, Train MSE: 0.0525, Train MAE: 0.1602\n",
      "Epoch 1180 - Validation Loss: 2.4362, Validation MSE: 2.4353, Validation MAE: 1.1584\n"
     ]
    },
    {
     "name": "stderr",
     "output_type": "stream",
     "text": [
      "Training Epoch 1182: 100%|██████████| 499/499 [00:07<00:00, 63.18it/s]\n",
      "Training Epoch 1183: 100%|██████████| 499/499 [00:07<00:00, 64.40it/s]\n",
      "Training Epoch 1184: 100%|██████████| 499/499 [00:07<00:00, 64.54it/s]\n",
      "Training Epoch 1185: 100%|██████████| 499/499 [00:07<00:00, 65.11it/s]\n",
      "Training Epoch 1186: 100%|██████████| 499/499 [00:07<00:00, 63.46it/s]\n",
      "Training Epoch 1187: 100%|██████████| 499/499 [00:07<00:00, 64.34it/s]\n",
      "Training Epoch 1188: 100%|██████████| 499/499 [00:07<00:00, 63.00it/s]\n",
      "Training Epoch 1189: 100%|██████████| 499/499 [00:07<00:00, 63.85it/s]\n",
      "Training Epoch 1190: 100%|██████████| 499/499 [00:07<00:00, 63.68it/s]\n",
      "Training Epoch 1191: 100%|██████████| 499/499 [00:07<00:00, 63.91it/s]\n"
     ]
    },
    {
     "name": "stdout",
     "output_type": "stream",
     "text": [
      "Epoch 1190 - Train Loss: 0.0480, Train MSE: 0.0480, Train MAE: 0.1576\n",
      "Epoch 1190 - Validation Loss: 2.4457, Validation MSE: 2.4455, Validation MAE: 1.1587\n"
     ]
    },
    {
     "name": "stderr",
     "output_type": "stream",
     "text": [
      "Training Epoch 1192: 100%|██████████| 499/499 [00:07<00:00, 63.59it/s]\n",
      "Training Epoch 1193: 100%|██████████| 499/499 [00:07<00:00, 64.11it/s]\n",
      "Training Epoch 1194: 100%|██████████| 499/499 [00:07<00:00, 63.43it/s]\n",
      "Training Epoch 1195: 100%|██████████| 499/499 [00:07<00:00, 63.90it/s]\n",
      "Training Epoch 1196: 100%|██████████| 499/499 [00:07<00:00, 63.86it/s]\n",
      "Training Epoch 1197: 100%|██████████| 499/499 [00:07<00:00, 64.41it/s]\n",
      "Training Epoch 1198: 100%|██████████| 499/499 [00:07<00:00, 64.02it/s]\n",
      "Training Epoch 1199: 100%|██████████| 499/499 [00:07<00:00, 64.25it/s]\n",
      "Training Epoch 1200: 100%|██████████| 499/499 [00:07<00:00, 64.24it/s]\n",
      "Training Epoch 1201: 100%|██████████| 499/499 [00:07<00:00, 64.99it/s]\n"
     ]
    },
    {
     "name": "stdout",
     "output_type": "stream",
     "text": [
      "Epoch 1200 - Train Loss: 0.0549, Train MSE: 0.0549, Train MAE: 0.1634\n",
      "Epoch 1200 - Validation Loss: 2.4625, Validation MSE: 2.4623, Validation MAE: 1.1635\n"
     ]
    },
    {
     "name": "stderr",
     "output_type": "stream",
     "text": [
      "Training Epoch 1202: 100%|██████████| 499/499 [00:07<00:00, 64.53it/s]\n",
      "Training Epoch 1203: 100%|██████████| 499/499 [00:07<00:00, 64.06it/s]\n",
      "Training Epoch 1204: 100%|██████████| 499/499 [00:07<00:00, 63.27it/s]\n",
      "Training Epoch 1205: 100%|██████████| 499/499 [00:07<00:00, 64.19it/s]\n",
      "Training Epoch 1206: 100%|██████████| 499/499 [00:07<00:00, 64.50it/s]\n",
      "Training Epoch 1207: 100%|██████████| 499/499 [00:07<00:00, 64.77it/s]\n",
      "Training Epoch 1208: 100%|██████████| 499/499 [00:07<00:00, 63.29it/s]\n",
      "Training Epoch 1209: 100%|██████████| 499/499 [00:07<00:00, 64.05it/s]\n",
      "Training Epoch 1210: 100%|██████████| 499/499 [00:07<00:00, 64.97it/s]\n",
      "Training Epoch 1211: 100%|██████████| 499/499 [00:07<00:00, 64.20it/s]\n"
     ]
    },
    {
     "name": "stdout",
     "output_type": "stream",
     "text": [
      "Epoch 1210 - Train Loss: 0.0480, Train MSE: 0.0480, Train MAE: 0.1554\n",
      "Epoch 1210 - Validation Loss: 2.4782, Validation MSE: 2.4777, Validation MAE: 1.1609\n"
     ]
    },
    {
     "name": "stderr",
     "output_type": "stream",
     "text": [
      "Training Epoch 1212: 100%|██████████| 499/499 [00:07<00:00, 63.16it/s]\n",
      "Training Epoch 1213: 100%|██████████| 499/499 [00:07<00:00, 64.81it/s]\n",
      "Training Epoch 1214: 100%|██████████| 499/499 [00:07<00:00, 63.50it/s]\n",
      "Training Epoch 1215: 100%|██████████| 499/499 [00:07<00:00, 63.99it/s]\n",
      "Training Epoch 1216: 100%|██████████| 499/499 [00:07<00:00, 63.62it/s]\n",
      "Training Epoch 1217: 100%|██████████| 499/499 [00:07<00:00, 64.85it/s]\n",
      "Training Epoch 1218: 100%|██████████| 499/499 [00:07<00:00, 63.95it/s]\n",
      "Training Epoch 1219: 100%|██████████| 499/499 [00:07<00:00, 64.08it/s]\n",
      "Training Epoch 1220: 100%|██████████| 499/499 [00:07<00:00, 63.42it/s]\n",
      "Training Epoch 1221: 100%|██████████| 499/499 [00:07<00:00, 65.74it/s]\n"
     ]
    },
    {
     "name": "stdout",
     "output_type": "stream",
     "text": [
      "Epoch 1220 - Train Loss: 0.0523, Train MSE: 0.0523, Train MAE: 0.1603\n",
      "Epoch 1220 - Validation Loss: 2.4760, Validation MSE: 2.4763, Validation MAE: 1.1636\n"
     ]
    },
    {
     "name": "stderr",
     "output_type": "stream",
     "text": [
      "Training Epoch 1222: 100%|██████████| 499/499 [00:07<00:00, 62.97it/s]\n",
      "Training Epoch 1223: 100%|██████████| 499/499 [00:07<00:00, 63.98it/s]\n",
      "Training Epoch 1224: 100%|██████████| 499/499 [00:07<00:00, 62.90it/s]\n",
      "Training Epoch 1225: 100%|██████████| 499/499 [00:07<00:00, 64.09it/s]\n",
      "Training Epoch 1226: 100%|██████████| 499/499 [00:07<00:00, 64.25it/s]\n",
      "Training Epoch 1227: 100%|██████████| 499/499 [00:07<00:00, 64.34it/s]\n",
      "Training Epoch 1228: 100%|██████████| 499/499 [00:07<00:00, 64.41it/s]\n",
      "Training Epoch 1229: 100%|██████████| 499/499 [00:07<00:00, 64.75it/s]\n",
      "Training Epoch 1230: 100%|██████████| 499/499 [00:07<00:00, 62.99it/s]\n",
      "Training Epoch 1231: 100%|██████████| 499/499 [00:07<00:00, 64.48it/s]\n"
     ]
    },
    {
     "name": "stdout",
     "output_type": "stream",
     "text": [
      "Epoch 1230 - Train Loss: 0.0523, Train MSE: 0.0522, Train MAE: 0.1612\n",
      "Epoch 1230 - Validation Loss: 2.4345, Validation MSE: 2.4338, Validation MAE: 1.1474\n"
     ]
    },
    {
     "name": "stderr",
     "output_type": "stream",
     "text": [
      "Training Epoch 1232: 100%|██████████| 499/499 [00:07<00:00, 64.41it/s]\n",
      "Training Epoch 1233: 100%|██████████| 499/499 [00:07<00:00, 63.30it/s]\n",
      "Training Epoch 1234: 100%|██████████| 499/499 [00:07<00:00, 63.41it/s]\n",
      "Training Epoch 1235: 100%|██████████| 499/499 [00:07<00:00, 64.86it/s]\n",
      "Training Epoch 1236: 100%|██████████| 499/499 [00:07<00:00, 63.71it/s]\n",
      "Training Epoch 1237: 100%|██████████| 499/499 [00:07<00:00, 64.08it/s]\n",
      "Training Epoch 1238: 100%|██████████| 499/499 [00:07<00:00, 64.39it/s]\n",
      "Training Epoch 1239: 100%|██████████| 499/499 [00:07<00:00, 63.54it/s]\n",
      "Training Epoch 1240: 100%|██████████| 499/499 [00:07<00:00, 63.13it/s]\n",
      "Training Epoch 1241: 100%|██████████| 499/499 [00:07<00:00, 64.24it/s]\n"
     ]
    },
    {
     "name": "stdout",
     "output_type": "stream",
     "text": [
      "Epoch 1240 - Train Loss: 0.0583, Train MSE: 0.0583, Train MAE: 0.1668\n",
      "Epoch 1240 - Validation Loss: 2.4011, Validation MSE: 2.4008, Validation MAE: 1.1464\n"
     ]
    },
    {
     "name": "stderr",
     "output_type": "stream",
     "text": [
      "Training Epoch 1242: 100%|██████████| 499/499 [00:07<00:00, 63.51it/s]\n",
      "Training Epoch 1243: 100%|██████████| 499/499 [00:07<00:00, 64.24it/s]\n",
      "Training Epoch 1244: 100%|██████████| 499/499 [00:07<00:00, 62.90it/s]\n",
      "Training Epoch 1245: 100%|██████████| 499/499 [00:07<00:00, 64.25it/s]\n",
      "Training Epoch 1246: 100%|██████████| 499/499 [00:07<00:00, 62.93it/s]\n",
      "Training Epoch 1247: 100%|██████████| 499/499 [00:07<00:00, 63.97it/s]\n",
      "Training Epoch 1248: 100%|██████████| 499/499 [00:07<00:00, 64.15it/s]\n",
      "Training Epoch 1249: 100%|██████████| 499/499 [00:07<00:00, 63.62it/s]\n",
      "Training Epoch 1250: 100%|██████████| 499/499 [00:07<00:00, 63.63it/s]\n",
      "Training Epoch 1251: 100%|██████████| 499/499 [00:07<00:00, 64.69it/s]\n"
     ]
    },
    {
     "name": "stdout",
     "output_type": "stream",
     "text": [
      "Epoch 1250 - Train Loss: 0.0522, Train MSE: 0.0522, Train MAE: 0.1605\n",
      "Epoch 1250 - Validation Loss: 2.4341, Validation MSE: 2.4336, Validation MAE: 1.1502\n"
     ]
    },
    {
     "name": "stderr",
     "output_type": "stream",
     "text": [
      "Training Epoch 1252: 100%|██████████| 499/499 [00:07<00:00, 62.79it/s]\n",
      "Training Epoch 1253: 100%|██████████| 499/499 [00:07<00:00, 64.22it/s]\n",
      "Training Epoch 1254: 100%|██████████| 499/499 [00:07<00:00, 63.36it/s]\n",
      "Training Epoch 1255: 100%|██████████| 499/499 [00:07<00:00, 63.76it/s]\n",
      "Training Epoch 1256: 100%|██████████| 499/499 [00:07<00:00, 63.42it/s]\n",
      "Training Epoch 1257: 100%|██████████| 499/499 [00:07<00:00, 64.63it/s]\n",
      "Training Epoch 1258: 100%|██████████| 499/499 [00:07<00:00, 64.35it/s]\n",
      "Training Epoch 1259: 100%|██████████| 499/499 [00:07<00:00, 64.94it/s]\n",
      "Training Epoch 1260: 100%|██████████| 499/499 [00:07<00:00, 63.62it/s]\n",
      "Training Epoch 1261: 100%|██████████| 499/499 [00:07<00:00, 64.93it/s]\n"
     ]
    },
    {
     "name": "stdout",
     "output_type": "stream",
     "text": [
      "Epoch 1260 - Train Loss: 0.0462, Train MSE: 0.0463, Train MAE: 0.1542\n",
      "Epoch 1260 - Validation Loss: 2.4145, Validation MSE: 2.4145, Validation MAE: 1.1517\n"
     ]
    },
    {
     "name": "stderr",
     "output_type": "stream",
     "text": [
      "Training Epoch 1262: 100%|██████████| 499/499 [00:07<00:00, 63.44it/s]\n",
      "Training Epoch 1263: 100%|██████████| 499/499 [00:07<00:00, 66.18it/s]\n",
      "Training Epoch 1264: 100%|██████████| 499/499 [00:07<00:00, 63.23it/s]\n",
      "Training Epoch 1265: 100%|██████████| 499/499 [00:07<00:00, 64.56it/s]\n",
      "Training Epoch 1266: 100%|██████████| 499/499 [00:07<00:00, 63.67it/s]\n",
      "Training Epoch 1267: 100%|██████████| 499/499 [00:07<00:00, 64.52it/s]\n",
      "Training Epoch 1268: 100%|██████████| 499/499 [00:07<00:00, 63.67it/s]\n",
      "Training Epoch 1269: 100%|██████████| 499/499 [00:07<00:00, 64.78it/s]\n",
      "Training Epoch 1270: 100%|██████████| 499/499 [00:07<00:00, 63.43it/s]\n",
      "Training Epoch 1271: 100%|██████████| 499/499 [00:07<00:00, 63.32it/s]\n"
     ]
    },
    {
     "name": "stdout",
     "output_type": "stream",
     "text": [
      "Epoch 1270 - Train Loss: 0.0489, Train MSE: 0.0489, Train MAE: 0.1555\n",
      "Epoch 1270 - Validation Loss: 2.4316, Validation MSE: 2.4307, Validation MAE: 1.1472\n"
     ]
    },
    {
     "name": "stderr",
     "output_type": "stream",
     "text": [
      "Training Epoch 1272: 100%|██████████| 499/499 [00:07<00:00, 62.42it/s]\n",
      "Training Epoch 1273: 100%|██████████| 499/499 [00:07<00:00, 65.50it/s]\n",
      "Training Epoch 1274: 100%|██████████| 499/499 [00:08<00:00, 62.20it/s]\n",
      "Training Epoch 1275: 100%|██████████| 499/499 [00:07<00:00, 64.13it/s]\n",
      "Training Epoch 1276: 100%|██████████| 499/499 [00:07<00:00, 63.85it/s]\n",
      "Training Epoch 1277: 100%|██████████| 499/499 [00:07<00:00, 64.57it/s]\n",
      "Training Epoch 1278: 100%|██████████| 499/499 [00:07<00:00, 64.03it/s]\n",
      "Training Epoch 1279: 100%|██████████| 499/499 [00:07<00:00, 64.61it/s]\n",
      "Training Epoch 1280: 100%|██████████| 499/499 [00:07<00:00, 63.15it/s]\n",
      "Training Epoch 1281: 100%|██████████| 499/499 [00:07<00:00, 63.49it/s]\n"
     ]
    },
    {
     "name": "stdout",
     "output_type": "stream",
     "text": [
      "Epoch 1280 - Train Loss: 0.0454, Train MSE: 0.0455, Train MAE: 0.1536\n",
      "Epoch 1280 - Validation Loss: 2.4037, Validation MSE: 2.4033, Validation MAE: 1.1442\n"
     ]
    },
    {
     "name": "stderr",
     "output_type": "stream",
     "text": [
      "Training Epoch 1282: 100%|██████████| 499/499 [00:07<00:00, 63.62it/s]\n",
      "Training Epoch 1283: 100%|██████████| 499/499 [00:07<00:00, 64.09it/s]\n",
      "Training Epoch 1284: 100%|██████████| 499/499 [00:07<00:00, 63.61it/s]\n",
      "Training Epoch 1285: 100%|██████████| 499/499 [00:07<00:00, 63.64it/s]\n",
      "Training Epoch 1286: 100%|██████████| 499/499 [00:07<00:00, 63.62it/s]\n",
      "Training Epoch 1287: 100%|██████████| 499/499 [00:07<00:00, 65.23it/s]\n",
      "Training Epoch 1288: 100%|██████████| 499/499 [00:07<00:00, 64.11it/s]\n",
      "Training Epoch 1289: 100%|██████████| 499/499 [00:07<00:00, 63.76it/s]\n",
      "Training Epoch 1290: 100%|██████████| 499/499 [00:07<00:00, 63.44it/s]\n",
      "Training Epoch 1291: 100%|██████████| 499/499 [00:07<00:00, 63.91it/s]\n"
     ]
    },
    {
     "name": "stdout",
     "output_type": "stream",
     "text": [
      "Epoch 1290 - Train Loss: 0.0447, Train MSE: 0.0447, Train MAE: 0.1522\n",
      "Epoch 1290 - Validation Loss: 2.4621, Validation MSE: 2.4620, Validation MAE: 1.1590\n"
     ]
    },
    {
     "name": "stderr",
     "output_type": "stream",
     "text": [
      "Training Epoch 1292: 100%|██████████| 499/499 [00:07<00:00, 63.22it/s]\n",
      "Training Epoch 1293: 100%|██████████| 499/499 [00:07<00:00, 64.95it/s]\n",
      "Training Epoch 1294: 100%|██████████| 499/499 [00:07<00:00, 63.50it/s]\n",
      "Training Epoch 1295: 100%|██████████| 499/499 [00:07<00:00, 64.23it/s]\n",
      "Training Epoch 1296: 100%|██████████| 499/499 [00:07<00:00, 63.81it/s]\n",
      "Training Epoch 1297: 100%|██████████| 499/499 [00:07<00:00, 63.57it/s]\n",
      "Training Epoch 1298: 100%|██████████| 499/499 [00:07<00:00, 62.98it/s]\n",
      "Training Epoch 1299: 100%|██████████| 499/499 [00:07<00:00, 63.60it/s]\n",
      "Training Epoch 1300: 100%|██████████| 499/499 [00:07<00:00, 63.63it/s]\n",
      "Training Epoch 1301: 100%|██████████| 499/499 [00:07<00:00, 63.44it/s]\n"
     ]
    },
    {
     "name": "stdout",
     "output_type": "stream",
     "text": [
      "Epoch 1300 - Train Loss: 0.0495, Train MSE: 0.0495, Train MAE: 0.1570\n",
      "Epoch 1300 - Validation Loss: 2.4291, Validation MSE: 2.4284, Validation MAE: 1.1516\n"
     ]
    },
    {
     "name": "stderr",
     "output_type": "stream",
     "text": [
      "Training Epoch 1302: 100%|██████████| 499/499 [00:07<00:00, 64.10it/s]\n",
      "Training Epoch 1303: 100%|██████████| 499/499 [00:07<00:00, 63.61it/s]\n",
      "Training Epoch 1304: 100%|██████████| 499/499 [00:07<00:00, 64.86it/s]\n",
      "Training Epoch 1305: 100%|██████████| 499/499 [00:07<00:00, 63.81it/s]\n",
      "Training Epoch 1306: 100%|██████████| 499/499 [00:07<00:00, 64.59it/s]\n",
      "Training Epoch 1307: 100%|██████████| 499/499 [00:07<00:00, 63.94it/s]\n",
      "Training Epoch 1308: 100%|██████████| 499/499 [00:07<00:00, 65.91it/s]\n",
      "Training Epoch 1309: 100%|██████████| 499/499 [00:08<00:00, 61.52it/s]\n",
      "Training Epoch 1310: 100%|██████████| 499/499 [00:07<00:00, 63.41it/s]\n",
      "Training Epoch 1311: 100%|██████████| 499/499 [00:07<00:00, 63.67it/s]\n"
     ]
    },
    {
     "name": "stdout",
     "output_type": "stream",
     "text": [
      "Epoch 1310 - Train Loss: 0.0518, Train MSE: 0.0518, Train MAE: 0.1598\n",
      "Epoch 1310 - Validation Loss: 2.4305, Validation MSE: 2.4298, Validation MAE: 1.1518\n"
     ]
    },
    {
     "name": "stderr",
     "output_type": "stream",
     "text": [
      "Training Epoch 1312: 100%|██████████| 499/499 [00:07<00:00, 63.71it/s]\n",
      "Training Epoch 1313: 100%|██████████| 499/499 [00:07<00:00, 63.91it/s]\n",
      "Training Epoch 1314: 100%|██████████| 499/499 [00:07<00:00, 63.95it/s]\n",
      "Training Epoch 1315: 100%|██████████| 499/499 [00:07<00:00, 62.69it/s]\n",
      "Training Epoch 1316: 100%|██████████| 499/499 [00:07<00:00, 64.15it/s]\n",
      "Training Epoch 1317: 100%|██████████| 499/499 [00:07<00:00, 63.75it/s]\n",
      "Training Epoch 1318: 100%|██████████| 499/499 [00:07<00:00, 63.88it/s]\n",
      "Training Epoch 1319: 100%|██████████| 499/499 [00:07<00:00, 63.51it/s]\n",
      "Training Epoch 1320: 100%|██████████| 499/499 [00:07<00:00, 64.25it/s]\n",
      "Training Epoch 1321: 100%|██████████| 499/499 [00:07<00:00, 63.77it/s]\n"
     ]
    },
    {
     "name": "stdout",
     "output_type": "stream",
     "text": [
      "Epoch 1320 - Train Loss: 0.0511, Train MSE: 0.0511, Train MAE: 0.1585\n",
      "Epoch 1320 - Validation Loss: 2.3561, Validation MSE: 2.3555, Validation MAE: 1.1326\n"
     ]
    },
    {
     "name": "stderr",
     "output_type": "stream",
     "text": [
      "Training Epoch 1322: 100%|██████████| 499/499 [00:07<00:00, 64.25it/s]\n",
      "Training Epoch 1323: 100%|██████████| 499/499 [00:07<00:00, 63.03it/s]\n",
      "Training Epoch 1324: 100%|██████████| 499/499 [00:07<00:00, 64.44it/s]\n",
      "Training Epoch 1325: 100%|██████████| 499/499 [00:07<00:00, 63.23it/s]\n",
      "Training Epoch 1326: 100%|██████████| 499/499 [00:07<00:00, 64.07it/s]\n",
      "Training Epoch 1327: 100%|██████████| 499/499 [00:07<00:00, 63.62it/s]\n",
      "Training Epoch 1328: 100%|██████████| 499/499 [00:07<00:00, 64.44it/s]\n",
      "Training Epoch 1329: 100%|██████████| 499/499 [00:07<00:00, 63.06it/s]\n",
      "Training Epoch 1330: 100%|██████████| 499/499 [00:07<00:00, 64.78it/s]\n",
      "Training Epoch 1331: 100%|██████████| 499/499 [00:07<00:00, 62.83it/s]\n"
     ]
    },
    {
     "name": "stdout",
     "output_type": "stream",
     "text": [
      "Epoch 1330 - Train Loss: 0.0620, Train MSE: 0.0621, Train MAE: 0.1723\n",
      "Epoch 1330 - Validation Loss: 2.5126, Validation MSE: 2.5125, Validation MAE: 1.1687\n"
     ]
    },
    {
     "name": "stderr",
     "output_type": "stream",
     "text": [
      "Training Epoch 1332: 100%|██████████| 499/499 [00:07<00:00, 63.83it/s]\n",
      "Training Epoch 1333: 100%|██████████| 499/499 [00:07<00:00, 63.64it/s]\n",
      "Training Epoch 1334: 100%|██████████| 499/499 [00:07<00:00, 64.53it/s]\n",
      "Training Epoch 1335: 100%|██████████| 499/499 [00:07<00:00, 63.12it/s]\n",
      "Training Epoch 1336: 100%|██████████| 499/499 [00:07<00:00, 64.53it/s]\n",
      "Training Epoch 1337: 100%|██████████| 499/499 [00:08<00:00, 62.29it/s]\n",
      "Training Epoch 1338: 100%|██████████| 499/499 [00:07<00:00, 64.67it/s]\n",
      "Training Epoch 1339: 100%|██████████| 499/499 [00:07<00:00, 63.30it/s]\n",
      "Training Epoch 1340: 100%|██████████| 499/499 [00:07<00:00, 63.67it/s]\n",
      "Training Epoch 1341: 100%|██████████| 499/499 [00:07<00:00, 63.25it/s]\n"
     ]
    },
    {
     "name": "stdout",
     "output_type": "stream",
     "text": [
      "Epoch 1340 - Train Loss: 0.0578, Train MSE: 0.0557, Train MAE: 0.1600\n",
      "Epoch 1340 - Validation Loss: 2.4543, Validation MSE: 2.4540, Validation MAE: 1.1609\n"
     ]
    },
    {
     "name": "stderr",
     "output_type": "stream",
     "text": [
      "Training Epoch 1342: 100%|██████████| 499/499 [00:07<00:00, 64.19it/s]\n",
      "Training Epoch 1343: 100%|██████████| 499/499 [00:07<00:00, 62.90it/s]\n",
      "Training Epoch 1344: 100%|██████████| 499/499 [00:07<00:00, 63.49it/s]\n",
      "Training Epoch 1345: 100%|██████████| 499/499 [00:07<00:00, 62.82it/s]\n",
      "Training Epoch 1346: 100%|██████████| 499/499 [00:07<00:00, 65.45it/s]\n",
      "Training Epoch 1347: 100%|██████████| 499/499 [00:07<00:00, 64.13it/s]\n",
      "Training Epoch 1348: 100%|██████████| 499/499 [00:07<00:00, 63.04it/s]\n",
      "Training Epoch 1349: 100%|██████████| 499/499 [00:07<00:00, 63.78it/s]\n",
      "Training Epoch 1350: 100%|██████████| 499/499 [00:07<00:00, 64.61it/s]\n",
      "Training Epoch 1351: 100%|██████████| 499/499 [00:07<00:00, 62.88it/s]\n"
     ]
    },
    {
     "name": "stdout",
     "output_type": "stream",
     "text": [
      "Epoch 1350 - Train Loss: 0.0451, Train MSE: 0.0451, Train MAE: 0.1517\n",
      "Epoch 1350 - Validation Loss: 2.4750, Validation MSE: 2.4750, Validation MAE: 1.1614\n"
     ]
    },
    {
     "name": "stderr",
     "output_type": "stream",
     "text": [
      "Training Epoch 1352: 100%|██████████| 499/499 [00:07<00:00, 64.50it/s]\n",
      "Training Epoch 1353: 100%|██████████| 499/499 [00:07<00:00, 64.39it/s]\n",
      "Training Epoch 1354: 100%|██████████| 499/499 [00:07<00:00, 63.37it/s]\n",
      "Training Epoch 1355: 100%|██████████| 499/499 [00:07<00:00, 64.09it/s]\n",
      "Training Epoch 1356: 100%|██████████| 499/499 [00:07<00:00, 65.28it/s]\n",
      "Training Epoch 1357: 100%|██████████| 499/499 [00:07<00:00, 62.81it/s]\n",
      "Training Epoch 1358: 100%|██████████| 499/499 [00:07<00:00, 65.12it/s]\n",
      "Training Epoch 1359: 100%|██████████| 499/499 [00:07<00:00, 64.30it/s]\n",
      "Training Epoch 1360: 100%|██████████| 499/499 [00:07<00:00, 62.86it/s]\n",
      "Training Epoch 1361: 100%|██████████| 499/499 [00:08<00:00, 62.33it/s]\n"
     ]
    },
    {
     "name": "stdout",
     "output_type": "stream",
     "text": [
      "Epoch 1360 - Train Loss: 0.0458, Train MSE: 0.0459, Train MAE: 0.1500\n",
      "Epoch 1360 - Validation Loss: 2.3955, Validation MSE: 2.3951, Validation MAE: 1.1386\n"
     ]
    },
    {
     "name": "stderr",
     "output_type": "stream",
     "text": [
      "Training Epoch 1362: 100%|██████████| 499/499 [00:07<00:00, 63.81it/s]\n",
      "Training Epoch 1363: 100%|██████████| 499/499 [00:07<00:00, 62.49it/s]\n",
      "Training Epoch 1364: 100%|██████████| 499/499 [00:07<00:00, 63.55it/s]\n",
      "Training Epoch 1365: 100%|██████████| 499/499 [00:07<00:00, 63.77it/s]\n",
      "Training Epoch 1366: 100%|██████████| 499/499 [00:07<00:00, 63.44it/s]\n",
      "Training Epoch 1367: 100%|██████████| 499/499 [00:07<00:00, 63.20it/s]\n",
      "Training Epoch 1368: 100%|██████████| 499/499 [00:07<00:00, 64.69it/s]\n",
      "Training Epoch 1369: 100%|██████████| 499/499 [00:07<00:00, 62.98it/s]\n",
      "Training Epoch 1370: 100%|██████████| 499/499 [00:07<00:00, 63.78it/s]\n",
      "Training Epoch 1371: 100%|██████████| 499/499 [00:07<00:00, 62.83it/s]\n"
     ]
    },
    {
     "name": "stdout",
     "output_type": "stream",
     "text": [
      "Epoch 1370 - Train Loss: 0.0902, Train MSE: 0.0902, Train MAE: 0.1752\n",
      "Epoch 1370 - Validation Loss: 2.4507, Validation MSE: 2.4501, Validation MAE: 1.1571\n"
     ]
    },
    {
     "name": "stderr",
     "output_type": "stream",
     "text": [
      "Training Epoch 1372: 100%|██████████| 499/499 [00:09<00:00, 53.92it/s]\n",
      "Training Epoch 1373: 100%|██████████| 499/499 [00:07<00:00, 63.36it/s]\n",
      "Training Epoch 1374: 100%|██████████| 499/499 [00:08<00:00, 62.21it/s]\n",
      "Training Epoch 1375: 100%|██████████| 499/499 [00:08<00:00, 62.35it/s]\n",
      "Training Epoch 1376: 100%|██████████| 499/499 [00:07<00:00, 62.63it/s]\n",
      "Training Epoch 1377: 100%|██████████| 499/499 [00:07<00:00, 63.95it/s]\n",
      "Training Epoch 1378: 100%|██████████| 499/499 [00:07<00:00, 63.69it/s]\n",
      "Training Epoch 1379: 100%|██████████| 499/499 [00:07<00:00, 64.29it/s]\n",
      "Training Epoch 1380: 100%|██████████| 499/499 [00:08<00:00, 62.33it/s]\n",
      "Training Epoch 1381: 100%|██████████| 499/499 [00:07<00:00, 63.23it/s]\n"
     ]
    },
    {
     "name": "stdout",
     "output_type": "stream",
     "text": [
      "Epoch 1380 - Train Loss: 0.0495, Train MSE: 0.0496, Train MAE: 0.1535\n",
      "Epoch 1380 - Validation Loss: 2.4209, Validation MSE: 2.4200, Validation MAE: 1.1471\n"
     ]
    },
    {
     "name": "stderr",
     "output_type": "stream",
     "text": [
      "Training Epoch 1382: 100%|██████████| 499/499 [00:07<00:00, 63.54it/s]\n",
      "Training Epoch 1383: 100%|██████████| 499/499 [00:07<00:00, 63.71it/s]\n",
      "Training Epoch 1384: 100%|██████████| 499/499 [00:07<00:00, 62.85it/s]\n",
      "Training Epoch 1385: 100%|██████████| 499/499 [00:07<00:00, 64.76it/s]\n",
      "Training Epoch 1386: 100%|██████████| 499/499 [00:07<00:00, 63.17it/s]\n",
      "Training Epoch 1387: 100%|██████████| 499/499 [00:07<00:00, 65.24it/s]\n",
      "Training Epoch 1388: 100%|██████████| 499/499 [00:07<00:00, 63.75it/s]\n",
      "Training Epoch 1389: 100%|██████████| 499/499 [00:07<00:00, 64.01it/s]\n",
      "Training Epoch 1390: 100%|██████████| 499/499 [00:07<00:00, 63.71it/s]\n",
      "Training Epoch 1391: 100%|██████████| 499/499 [00:07<00:00, 63.40it/s]\n"
     ]
    },
    {
     "name": "stdout",
     "output_type": "stream",
     "text": [
      "Epoch 1390 - Train Loss: 0.0488, Train MSE: 0.0488, Train MAE: 0.1532\n",
      "Epoch 1390 - Validation Loss: 2.4134, Validation MSE: 2.4132, Validation MAE: 1.1470\n"
     ]
    },
    {
     "name": "stderr",
     "output_type": "stream",
     "text": [
      "Training Epoch 1392: 100%|██████████| 499/499 [00:07<00:00, 63.05it/s]\n",
      "Training Epoch 1393: 100%|██████████| 499/499 [00:07<00:00, 64.31it/s]\n",
      "Training Epoch 1394: 100%|██████████| 499/499 [00:07<00:00, 63.87it/s]\n",
      "Training Epoch 1395: 100%|██████████| 499/499 [00:07<00:00, 64.69it/s]\n",
      "Training Epoch 1396: 100%|██████████| 499/499 [00:07<00:00, 62.83it/s]\n",
      "Training Epoch 1397: 100%|██████████| 499/499 [00:07<00:00, 63.66it/s]\n",
      "Training Epoch 1398: 100%|██████████| 499/499 [00:07<00:00, 63.05it/s]\n",
      "Training Epoch 1399: 100%|██████████| 499/499 [00:07<00:00, 64.04it/s]\n",
      "Training Epoch 1400: 100%|██████████| 499/499 [00:07<00:00, 63.53it/s]\n",
      "Training Epoch 1401: 100%|██████████| 499/499 [00:07<00:00, 63.91it/s]\n"
     ]
    },
    {
     "name": "stdout",
     "output_type": "stream",
     "text": [
      "Epoch 1400 - Train Loss: 0.0428, Train MSE: 0.0428, Train MAE: 0.1480\n",
      "Epoch 1400 - Validation Loss: 2.4497, Validation MSE: 2.4491, Validation MAE: 1.1564\n"
     ]
    },
    {
     "name": "stderr",
     "output_type": "stream",
     "text": [
      "Training Epoch 1402: 100%|██████████| 499/499 [00:07<00:00, 64.60it/s]\n",
      "Training Epoch 1403: 100%|██████████| 499/499 [00:07<00:00, 64.06it/s]\n",
      "Training Epoch 1404: 100%|██████████| 499/499 [00:07<00:00, 63.68it/s]\n",
      "Training Epoch 1405: 100%|██████████| 499/499 [00:07<00:00, 64.79it/s]\n",
      "Training Epoch 1406: 100%|██████████| 499/499 [00:07<00:00, 63.77it/s]\n",
      "Training Epoch 1407: 100%|██████████| 499/499 [00:07<00:00, 65.11it/s]\n",
      "Training Epoch 1408: 100%|██████████| 499/499 [00:07<00:00, 63.63it/s]\n",
      "Training Epoch 1409: 100%|██████████| 499/499 [00:07<00:00, 64.91it/s]\n",
      "Training Epoch 1410: 100%|██████████| 499/499 [00:07<00:00, 63.85it/s]\n",
      "Training Epoch 1411: 100%|██████████| 499/499 [00:07<00:00, 63.40it/s]\n"
     ]
    },
    {
     "name": "stdout",
     "output_type": "stream",
     "text": [
      "Epoch 1410 - Train Loss: 0.0495, Train MSE: 0.0495, Train MAE: 0.1553\n",
      "Epoch 1410 - Validation Loss: 2.4082, Validation MSE: 2.4072, Validation MAE: 1.1484\n"
     ]
    },
    {
     "name": "stderr",
     "output_type": "stream",
     "text": [
      "Training Epoch 1412: 100%|██████████| 499/499 [00:07<00:00, 63.67it/s]\n",
      "Training Epoch 1413: 100%|██████████| 499/499 [00:07<00:00, 64.60it/s]\n",
      "Training Epoch 1414: 100%|██████████| 499/499 [00:07<00:00, 63.99it/s]\n",
      "Training Epoch 1415: 100%|██████████| 499/499 [00:07<00:00, 64.05it/s]\n",
      "Training Epoch 1416: 100%|██████████| 499/499 [00:07<00:00, 64.03it/s]\n",
      "Training Epoch 1417: 100%|██████████| 499/499 [00:07<00:00, 63.61it/s]\n",
      "Training Epoch 1418: 100%|██████████| 499/499 [00:07<00:00, 63.58it/s]\n",
      "Training Epoch 1419: 100%|██████████| 499/499 [00:07<00:00, 64.64it/s]\n",
      "Training Epoch 1420: 100%|██████████| 499/499 [00:07<00:00, 64.17it/s]\n",
      "Training Epoch 1421: 100%|██████████| 499/499 [00:07<00:00, 64.42it/s]\n"
     ]
    },
    {
     "name": "stdout",
     "output_type": "stream",
     "text": [
      "Epoch 1420 - Train Loss: 0.0473, Train MSE: 0.0473, Train MAE: 0.1521\n",
      "Epoch 1420 - Validation Loss: 2.4265, Validation MSE: 2.4259, Validation MAE: 1.1503\n"
     ]
    },
    {
     "name": "stderr",
     "output_type": "stream",
     "text": [
      "Training Epoch 1422: 100%|██████████| 499/499 [00:07<00:00, 64.42it/s]\n",
      "Training Epoch 1423: 100%|██████████| 499/499 [00:07<00:00, 64.13it/s]\n",
      "Training Epoch 1424: 100%|██████████| 499/499 [00:07<00:00, 63.90it/s]\n",
      "Training Epoch 1425: 100%|██████████| 499/499 [00:07<00:00, 64.65it/s]\n",
      "Training Epoch 1426: 100%|██████████| 499/499 [00:07<00:00, 64.60it/s]\n",
      "Training Epoch 1427: 100%|██████████| 499/499 [00:07<00:00, 64.59it/s]\n",
      "Training Epoch 1428: 100%|██████████| 499/499 [00:07<00:00, 62.48it/s]\n",
      "Training Epoch 1429: 100%|██████████| 499/499 [00:07<00:00, 63.53it/s]\n",
      "Training Epoch 1430: 100%|██████████| 499/499 [00:07<00:00, 64.10it/s]\n",
      "Training Epoch 1431: 100%|██████████| 499/499 [00:07<00:00, 64.11it/s]\n"
     ]
    },
    {
     "name": "stdout",
     "output_type": "stream",
     "text": [
      "Epoch 1430 - Train Loss: 0.0557, Train MSE: 0.0557, Train MAE: 0.1622\n",
      "Epoch 1430 - Validation Loss: 2.4212, Validation MSE: 2.4210, Validation MAE: 1.1439\n"
     ]
    },
    {
     "name": "stderr",
     "output_type": "stream",
     "text": [
      "Training Epoch 1432: 100%|██████████| 499/499 [00:07<00:00, 62.88it/s]\n",
      "Training Epoch 1433: 100%|██████████| 499/499 [00:07<00:00, 64.42it/s]\n",
      "Training Epoch 1434: 100%|██████████| 499/499 [00:07<00:00, 63.28it/s]\n",
      "Training Epoch 1435: 100%|██████████| 499/499 [00:07<00:00, 64.21it/s]\n",
      "Training Epoch 1436: 100%|██████████| 499/499 [00:07<00:00, 64.24it/s]\n",
      "Training Epoch 1437: 100%|██████████| 499/499 [00:07<00:00, 64.09it/s]\n",
      "Training Epoch 1438: 100%|██████████| 499/499 [00:07<00:00, 64.17it/s]\n",
      "Training Epoch 1439: 100%|██████████| 499/499 [00:07<00:00, 65.29it/s]\n",
      "Training Epoch 1440: 100%|██████████| 499/499 [00:07<00:00, 63.65it/s]\n",
      "Training Epoch 1441: 100%|██████████| 499/499 [00:07<00:00, 64.19it/s]\n"
     ]
    },
    {
     "name": "stdout",
     "output_type": "stream",
     "text": [
      "Epoch 1440 - Train Loss: 0.0478, Train MSE: 0.0478, Train MAE: 0.1525\n",
      "Epoch 1440 - Validation Loss: 2.4094, Validation MSE: 2.4089, Validation MAE: 1.1482\n"
     ]
    },
    {
     "name": "stderr",
     "output_type": "stream",
     "text": [
      "Training Epoch 1442: 100%|██████████| 499/499 [00:07<00:00, 63.53it/s]\n",
      "Training Epoch 1443: 100%|██████████| 499/499 [00:07<00:00, 64.78it/s]\n",
      "Training Epoch 1444: 100%|██████████| 499/499 [00:07<00:00, 62.97it/s]\n",
      "Training Epoch 1445: 100%|██████████| 499/499 [00:07<00:00, 65.91it/s]\n",
      "Training Epoch 1446: 100%|██████████| 499/499 [00:07<00:00, 64.15it/s]\n",
      "Training Epoch 1447: 100%|██████████| 499/499 [00:07<00:00, 63.73it/s]\n",
      "Training Epoch 1448: 100%|██████████| 499/499 [00:07<00:00, 64.12it/s]\n",
      "Training Epoch 1449: 100%|██████████| 499/499 [00:07<00:00, 64.22it/s]\n",
      "Training Epoch 1450: 100%|██████████| 499/499 [00:07<00:00, 64.30it/s]\n",
      "Training Epoch 1451: 100%|██████████| 499/499 [00:07<00:00, 64.55it/s]\n"
     ]
    },
    {
     "name": "stdout",
     "output_type": "stream",
     "text": [
      "Epoch 1450 - Train Loss: 0.0470, Train MSE: 0.0471, Train MAE: 0.1477\n",
      "Epoch 1450 - Validation Loss: 2.4561, Validation MSE: 2.4556, Validation MAE: 1.1593\n"
     ]
    },
    {
     "name": "stderr",
     "output_type": "stream",
     "text": [
      "Training Epoch 1452: 100%|██████████| 499/499 [00:07<00:00, 63.74it/s]\n",
      "Training Epoch 1453: 100%|██████████| 499/499 [00:07<00:00, 66.10it/s]\n",
      "Training Epoch 1454: 100%|██████████| 499/499 [00:07<00:00, 63.67it/s]\n",
      "Training Epoch 1455: 100%|██████████| 499/499 [00:07<00:00, 64.23it/s]\n",
      "Training Epoch 1456: 100%|██████████| 499/499 [00:07<00:00, 63.69it/s]\n",
      "Training Epoch 1457: 100%|██████████| 499/499 [00:07<00:00, 64.20it/s]\n",
      "Training Epoch 1458: 100%|██████████| 499/499 [00:07<00:00, 64.14it/s]\n",
      "Training Epoch 1459: 100%|██████████| 499/499 [00:07<00:00, 64.60it/s]\n",
      "Training Epoch 1460: 100%|██████████| 499/499 [00:07<00:00, 64.00it/s]\n",
      "Training Epoch 1461: 100%|██████████| 499/499 [00:07<00:00, 65.21it/s]\n"
     ]
    },
    {
     "name": "stdout",
     "output_type": "stream",
     "text": [
      "Epoch 1460 - Train Loss: 0.0394, Train MSE: 0.0394, Train MAE: 0.1429\n",
      "Epoch 1460 - Validation Loss: 2.4448, Validation MSE: 2.4446, Validation MAE: 1.1560\n"
     ]
    },
    {
     "name": "stderr",
     "output_type": "stream",
     "text": [
      "Training Epoch 1462: 100%|██████████| 499/499 [00:07<00:00, 64.19it/s]\n",
      "Training Epoch 1463: 100%|██████████| 499/499 [00:07<00:00, 63.01it/s]\n",
      "Training Epoch 1464: 100%|██████████| 499/499 [00:08<00:00, 62.00it/s]\n",
      "Training Epoch 1465: 100%|██████████| 499/499 [00:07<00:00, 63.96it/s]\n",
      "Training Epoch 1466: 100%|██████████| 499/499 [00:07<00:00, 62.90it/s]\n",
      "Training Epoch 1467: 100%|██████████| 499/499 [00:07<00:00, 65.32it/s]\n",
      "Training Epoch 1468: 100%|██████████| 499/499 [00:07<00:00, 64.12it/s]\n",
      "Training Epoch 1469: 100%|██████████| 499/499 [00:07<00:00, 64.42it/s]\n",
      "Training Epoch 1470: 100%|██████████| 499/499 [00:07<00:00, 63.92it/s]\n",
      "Training Epoch 1471: 100%|██████████| 499/499 [00:07<00:00, 63.98it/s]\n"
     ]
    },
    {
     "name": "stdout",
     "output_type": "stream",
     "text": [
      "Epoch 1470 - Train Loss: 0.0461, Train MSE: 0.0461, Train MAE: 0.1504\n",
      "Epoch 1470 - Validation Loss: 2.4331, Validation MSE: 2.4329, Validation MAE: 1.1558\n"
     ]
    },
    {
     "name": "stderr",
     "output_type": "stream",
     "text": [
      "Training Epoch 1472: 100%|██████████| 499/499 [00:07<00:00, 63.23it/s]\n",
      "Training Epoch 1473: 100%|██████████| 499/499 [00:07<00:00, 64.80it/s]\n",
      "Training Epoch 1474: 100%|██████████| 499/499 [00:07<00:00, 63.68it/s]\n",
      "Training Epoch 1475: 100%|██████████| 499/499 [00:07<00:00, 64.96it/s]\n",
      "Training Epoch 1476: 100%|██████████| 499/499 [00:07<00:00, 63.67it/s]\n",
      "Training Epoch 1477: 100%|██████████| 499/499 [00:07<00:00, 64.79it/s]\n",
      "Training Epoch 1478: 100%|██████████| 499/499 [00:07<00:00, 63.41it/s]\n",
      "Training Epoch 1479: 100%|██████████| 499/499 [00:07<00:00, 63.44it/s]\n",
      "Training Epoch 1480: 100%|██████████| 499/499 [00:07<00:00, 64.13it/s]\n",
      "Training Epoch 1481: 100%|██████████| 499/499 [00:07<00:00, 64.72it/s]\n"
     ]
    },
    {
     "name": "stdout",
     "output_type": "stream",
     "text": [
      "Epoch 1480 - Train Loss: 0.0429, Train MSE: 0.0429, Train MAE: 0.1479\n",
      "Epoch 1480 - Validation Loss: 2.4363, Validation MSE: 2.4357, Validation MAE: 1.1508\n"
     ]
    },
    {
     "name": "stderr",
     "output_type": "stream",
     "text": [
      "Training Epoch 1482: 100%|██████████| 499/499 [00:07<00:00, 64.18it/s]\n",
      "Training Epoch 1483: 100%|██████████| 499/499 [00:07<00:00, 64.57it/s]\n",
      "Training Epoch 1484: 100%|██████████| 499/499 [00:07<00:00, 63.81it/s]\n",
      "Training Epoch 1485: 100%|██████████| 499/499 [00:07<00:00, 65.07it/s]\n",
      "Training Epoch 1486: 100%|██████████| 499/499 [00:07<00:00, 63.27it/s]\n",
      "Training Epoch 1487: 100%|██████████| 499/499 [00:07<00:00, 64.90it/s]\n",
      "Training Epoch 1488: 100%|██████████| 499/499 [00:07<00:00, 63.70it/s]\n",
      "Training Epoch 1489: 100%|██████████| 499/499 [00:07<00:00, 64.61it/s]\n",
      "Training Epoch 1490: 100%|██████████| 499/499 [00:07<00:00, 63.77it/s]\n",
      "Training Epoch 1491: 100%|██████████| 499/499 [00:07<00:00, 64.61it/s]\n"
     ]
    },
    {
     "name": "stdout",
     "output_type": "stream",
     "text": [
      "Epoch 1490 - Train Loss: 0.0420, Train MSE: 0.0421, Train MAE: 0.1464\n",
      "Epoch 1490 - Validation Loss: 2.4210, Validation MSE: 2.4205, Validation MAE: 1.1567\n"
     ]
    },
    {
     "name": "stderr",
     "output_type": "stream",
     "text": [
      "Training Epoch 1492: 100%|██████████| 499/499 [00:07<00:00, 63.35it/s]\n",
      "Training Epoch 1493: 100%|██████████| 499/499 [00:07<00:00, 64.83it/s]\n",
      "Training Epoch 1494: 100%|██████████| 499/499 [00:07<00:00, 62.48it/s]\n",
      "Training Epoch 1495: 100%|██████████| 499/499 [00:07<00:00, 63.62it/s]\n",
      "Training Epoch 1496: 100%|██████████| 499/499 [00:07<00:00, 64.08it/s]\n",
      "Training Epoch 1497: 100%|██████████| 499/499 [00:07<00:00, 64.21it/s]\n",
      "Training Epoch 1498: 100%|██████████| 499/499 [00:07<00:00, 63.26it/s]\n",
      "Training Epoch 1499: 100%|██████████| 499/499 [00:07<00:00, 63.59it/s]\n",
      "Training Epoch 1500: 100%|██████████| 499/499 [00:07<00:00, 64.09it/s]\n",
      "Training Epoch 1501: 100%|██████████| 499/499 [00:07<00:00, 63.52it/s]\n"
     ]
    },
    {
     "name": "stdout",
     "output_type": "stream",
     "text": [
      "Epoch 1500 - Train Loss: 0.0439, Train MSE: 0.0439, Train MAE: 0.1473\n",
      "Epoch 1500 - Validation Loss: 2.3972, Validation MSE: 2.3966, Validation MAE: 1.1467\n"
     ]
    },
    {
     "name": "stderr",
     "output_type": "stream",
     "text": [
      "Training Epoch 1502: 100%|██████████| 499/499 [00:07<00:00, 64.05it/s]\n",
      "Training Epoch 1503: 100%|██████████| 499/499 [00:07<00:00, 64.15it/s]\n",
      "Training Epoch 1504: 100%|██████████| 499/499 [00:07<00:00, 64.44it/s]\n",
      "Training Epoch 1505: 100%|██████████| 499/499 [00:07<00:00, 63.97it/s]\n",
      "Training Epoch 1506: 100%|██████████| 499/499 [00:07<00:00, 63.59it/s]\n",
      "Training Epoch 1507: 100%|██████████| 499/499 [00:07<00:00, 63.95it/s]\n",
      "Training Epoch 1508: 100%|██████████| 499/499 [00:07<00:00, 64.19it/s]\n",
      "Training Epoch 1509: 100%|██████████| 499/499 [00:07<00:00, 63.93it/s]\n",
      "Training Epoch 1510: 100%|██████████| 499/499 [00:07<00:00, 65.36it/s]\n",
      "Training Epoch 1511: 100%|██████████| 499/499 [00:07<00:00, 62.41it/s]\n"
     ]
    },
    {
     "name": "stdout",
     "output_type": "stream",
     "text": [
      "Epoch 1510 - Train Loss: 0.0545, Train MSE: 0.0546, Train MAE: 0.1587\n",
      "Epoch 1510 - Validation Loss: 2.3831, Validation MSE: 2.3828, Validation MAE: 1.1350\n"
     ]
    },
    {
     "name": "stderr",
     "output_type": "stream",
     "text": [
      "Training Epoch 1512: 100%|██████████| 499/499 [00:07<00:00, 64.67it/s]\n",
      "Training Epoch 1513: 100%|██████████| 499/499 [00:07<00:00, 63.78it/s]\n",
      "Training Epoch 1514: 100%|██████████| 499/499 [00:07<00:00, 66.04it/s]\n",
      "Training Epoch 1515: 100%|██████████| 499/499 [00:07<00:00, 63.46it/s]\n",
      "Training Epoch 1516: 100%|██████████| 499/499 [00:07<00:00, 64.05it/s]\n",
      "Training Epoch 1517: 100%|██████████| 499/499 [00:07<00:00, 63.59it/s]\n",
      "Training Epoch 1518: 100%|██████████| 499/499 [00:07<00:00, 64.34it/s]\n",
      "Training Epoch 1519: 100%|██████████| 499/499 [00:07<00:00, 64.13it/s]\n",
      "Training Epoch 1520: 100%|██████████| 499/499 [00:07<00:00, 64.80it/s]\n",
      "Training Epoch 1521: 100%|██████████| 499/499 [00:07<00:00, 63.60it/s]\n"
     ]
    },
    {
     "name": "stdout",
     "output_type": "stream",
     "text": [
      "Epoch 1520 - Train Loss: 0.0432, Train MSE: 0.0432, Train MAE: 0.1468\n",
      "Epoch 1520 - Validation Loss: 2.4447, Validation MSE: 2.4446, Validation MAE: 1.1522\n"
     ]
    },
    {
     "name": "stderr",
     "output_type": "stream",
     "text": [
      "Training Epoch 1522: 100%|██████████| 499/499 [00:07<00:00, 66.25it/s]\n",
      "Training Epoch 1523: 100%|██████████| 499/499 [00:07<00:00, 63.19it/s]\n",
      "Training Epoch 1524: 100%|██████████| 499/499 [00:07<00:00, 64.20it/s]\n",
      "Training Epoch 1525: 100%|██████████| 499/499 [00:07<00:00, 63.33it/s]\n",
      "Training Epoch 1526: 100%|██████████| 499/499 [00:07<00:00, 64.62it/s]\n",
      "Training Epoch 1527: 100%|██████████| 499/499 [00:07<00:00, 63.71it/s]\n",
      "Training Epoch 1528: 100%|██████████| 499/499 [00:07<00:00, 65.19it/s]\n",
      "Training Epoch 1529: 100%|██████████| 499/499 [00:07<00:00, 63.44it/s]\n",
      "Training Epoch 1530: 100%|██████████| 499/499 [00:07<00:00, 64.28it/s]\n",
      "Training Epoch 1531: 100%|██████████| 499/499 [00:07<00:00, 63.38it/s]\n"
     ]
    },
    {
     "name": "stdout",
     "output_type": "stream",
     "text": [
      "Epoch 1530 - Train Loss: 0.0429, Train MSE: 0.0429, Train MAE: 0.1443\n",
      "Epoch 1530 - Validation Loss: 2.4240, Validation MSE: 2.4231, Validation MAE: 1.1494\n"
     ]
    },
    {
     "name": "stderr",
     "output_type": "stream",
     "text": [
      "Training Epoch 1532: 100%|██████████| 499/499 [00:08<00:00, 62.23it/s]\n",
      "Training Epoch 1533: 100%|██████████| 499/499 [00:07<00:00, 63.34it/s]\n",
      "Training Epoch 1534: 100%|██████████| 499/499 [00:07<00:00, 63.79it/s]\n",
      "Training Epoch 1535: 100%|██████████| 499/499 [00:07<00:00, 63.71it/s]\n",
      "Training Epoch 1536: 100%|██████████| 499/499 [00:07<00:00, 64.09it/s]\n",
      "Training Epoch 1537: 100%|██████████| 499/499 [00:07<00:00, 63.99it/s]\n",
      "Training Epoch 1538: 100%|██████████| 499/499 [00:07<00:00, 63.80it/s]\n",
      "Training Epoch 1539: 100%|██████████| 499/499 [00:07<00:00, 64.76it/s]\n",
      "Training Epoch 1540: 100%|██████████| 499/499 [00:07<00:00, 65.08it/s]\n",
      "Training Epoch 1541: 100%|██████████| 499/499 [00:07<00:00, 63.87it/s]\n"
     ]
    },
    {
     "name": "stdout",
     "output_type": "stream",
     "text": [
      "Epoch 1540 - Train Loss: 0.0577, Train MSE: 0.0577, Train MAE: 0.1582\n",
      "Epoch 1540 - Validation Loss: 2.4138, Validation MSE: 2.4133, Validation MAE: 1.1435\n"
     ]
    },
    {
     "name": "stderr",
     "output_type": "stream",
     "text": [
      "Training Epoch 1542: 100%|██████████| 499/499 [00:07<00:00, 64.42it/s]\n",
      "Training Epoch 1543: 100%|██████████| 499/499 [00:07<00:00, 62.77it/s]\n",
      "Training Epoch 1544: 100%|██████████| 499/499 [00:07<00:00, 64.69it/s]\n",
      "Training Epoch 1545: 100%|██████████| 499/499 [00:07<00:00, 63.41it/s]\n",
      "Training Epoch 1546: 100%|██████████| 499/499 [00:07<00:00, 64.42it/s]\n",
      "Training Epoch 1547: 100%|██████████| 499/499 [00:07<00:00, 63.59it/s]\n",
      "Training Epoch 1548: 100%|██████████| 499/499 [00:07<00:00, 65.90it/s]\n",
      "Training Epoch 1549: 100%|██████████| 499/499 [00:07<00:00, 63.49it/s]\n",
      "Training Epoch 1550: 100%|██████████| 499/499 [00:07<00:00, 65.03it/s]\n",
      "Training Epoch 1551: 100%|██████████| 499/499 [00:07<00:00, 64.33it/s]\n"
     ]
    },
    {
     "name": "stdout",
     "output_type": "stream",
     "text": [
      "Epoch 1550 - Train Loss: 0.0404, Train MSE: 0.0404, Train MAE: 0.1426\n",
      "Epoch 1550 - Validation Loss: 2.4240, Validation MSE: 2.4234, Validation MAE: 1.1506\n"
     ]
    },
    {
     "name": "stderr",
     "output_type": "stream",
     "text": [
      "Training Epoch 1552: 100%|██████████| 499/499 [00:07<00:00, 64.68it/s]\n",
      "Training Epoch 1553: 100%|██████████| 499/499 [00:07<00:00, 65.59it/s]\n",
      "Training Epoch 1554: 100%|██████████| 499/499 [00:07<00:00, 64.57it/s]\n",
      "Training Epoch 1555: 100%|██████████| 499/499 [00:07<00:00, 63.32it/s]\n",
      "Training Epoch 1556: 100%|██████████| 499/499 [00:07<00:00, 64.24it/s]\n",
      "Training Epoch 1557: 100%|██████████| 499/499 [00:07<00:00, 63.83it/s]\n",
      "Training Epoch 1558: 100%|██████████| 499/499 [00:07<00:00, 63.92it/s]\n",
      "Training Epoch 1559: 100%|██████████| 499/499 [00:07<00:00, 63.54it/s]\n",
      "Training Epoch 1560: 100%|██████████| 499/499 [00:07<00:00, 63.65it/s]\n",
      "Training Epoch 1561: 100%|██████████| 499/499 [00:07<00:00, 63.80it/s]\n"
     ]
    },
    {
     "name": "stdout",
     "output_type": "stream",
     "text": [
      "Epoch 1560 - Train Loss: 0.0416, Train MSE: 0.0417, Train MAE: 0.1445\n",
      "Epoch 1560 - Validation Loss: 2.4725, Validation MSE: 2.4726, Validation MAE: 1.1547\n"
     ]
    },
    {
     "name": "stderr",
     "output_type": "stream",
     "text": [
      "Training Epoch 1562: 100%|██████████| 499/499 [00:07<00:00, 64.17it/s]\n",
      "Training Epoch 1563: 100%|██████████| 499/499 [00:07<00:00, 63.51it/s]\n",
      "Training Epoch 1564: 100%|██████████| 499/499 [00:07<00:00, 64.31it/s]\n",
      "Training Epoch 1565: 100%|██████████| 499/499 [00:07<00:00, 64.68it/s]\n",
      "Training Epoch 1566: 100%|██████████| 499/499 [00:07<00:00, 64.61it/s]\n",
      "Training Epoch 1567: 100%|██████████| 499/499 [00:07<00:00, 68.98it/s]\n",
      "Training Epoch 1568: 100%|██████████| 499/499 [00:06<00:00, 73.52it/s]\n",
      "Training Epoch 1569: 100%|██████████| 499/499 [00:06<00:00, 71.95it/s]\n",
      "Training Epoch 1570: 100%|██████████| 499/499 [00:06<00:00, 74.02it/s]\n",
      "Training Epoch 1571: 100%|██████████| 499/499 [00:06<00:00, 73.42it/s]\n"
     ]
    },
    {
     "name": "stdout",
     "output_type": "stream",
     "text": [
      "Epoch 1570 - Train Loss: 0.0388, Train MSE: 0.0388, Train MAE: 0.1412\n",
      "Epoch 1570 - Validation Loss: 2.4220, Validation MSE: 2.4218, Validation MAE: 1.1460\n"
     ]
    },
    {
     "name": "stderr",
     "output_type": "stream",
     "text": [
      "Training Epoch 1572: 100%|██████████| 499/499 [00:06<00:00, 72.64it/s]\n",
      "Training Epoch 1573: 100%|██████████| 499/499 [00:06<00:00, 74.31it/s]\n",
      "Training Epoch 1574: 100%|██████████| 499/499 [00:06<00:00, 72.53it/s]\n",
      "Training Epoch 1575: 100%|██████████| 499/499 [00:06<00:00, 73.41it/s]\n",
      "Training Epoch 1576: 100%|██████████| 499/499 [00:06<00:00, 72.70it/s]\n",
      "Training Epoch 1577: 100%|██████████| 499/499 [00:06<00:00, 72.93it/s]\n",
      "Training Epoch 1578: 100%|██████████| 499/499 [00:06<00:00, 72.93it/s]\n",
      "Training Epoch 1579: 100%|██████████| 499/499 [00:06<00:00, 73.09it/s]\n",
      "Training Epoch 1580: 100%|██████████| 499/499 [00:06<00:00, 73.59it/s]\n",
      "Training Epoch 1581: 100%|██████████| 499/499 [00:06<00:00, 73.82it/s]\n"
     ]
    },
    {
     "name": "stdout",
     "output_type": "stream",
     "text": [
      "Epoch 1580 - Train Loss: 0.0517, Train MSE: 0.0518, Train MAE: 0.1531\n",
      "Epoch 1580 - Validation Loss: 2.4038, Validation MSE: 2.4025, Validation MAE: 1.1498\n"
     ]
    },
    {
     "name": "stderr",
     "output_type": "stream",
     "text": [
      "Training Epoch 1582: 100%|██████████| 499/499 [00:06<00:00, 73.44it/s]\n",
      "Training Epoch 1583: 100%|██████████| 499/499 [00:06<00:00, 73.13it/s]\n",
      "Training Epoch 1584: 100%|██████████| 499/499 [00:06<00:00, 73.82it/s]\n",
      "Training Epoch 1585: 100%|██████████| 499/499 [00:06<00:00, 72.47it/s]\n",
      "Training Epoch 1586: 100%|██████████| 499/499 [00:06<00:00, 74.50it/s]\n",
      "Training Epoch 1587: 100%|██████████| 499/499 [00:06<00:00, 73.12it/s]\n",
      "Training Epoch 1588: 100%|██████████| 499/499 [00:06<00:00, 73.75it/s]\n",
      "Training Epoch 1589: 100%|██████████| 499/499 [00:06<00:00, 74.12it/s]\n",
      "Training Epoch 1590: 100%|██████████| 499/499 [00:06<00:00, 72.85it/s]\n",
      "Training Epoch 1591: 100%|██████████| 499/499 [00:06<00:00, 74.59it/s]\n"
     ]
    },
    {
     "name": "stdout",
     "output_type": "stream",
     "text": [
      "Epoch 1590 - Train Loss: 0.0478, Train MSE: 0.0478, Train MAE: 0.1521\n",
      "Epoch 1590 - Validation Loss: 2.3981, Validation MSE: 2.3972, Validation MAE: 1.1420\n"
     ]
    },
    {
     "name": "stderr",
     "output_type": "stream",
     "text": [
      "Training Epoch 1592: 100%|██████████| 499/499 [00:06<00:00, 73.47it/s]\n",
      "Training Epoch 1593: 100%|██████████| 499/499 [00:06<00:00, 73.92it/s]\n",
      "Training Epoch 1594: 100%|██████████| 499/499 [00:06<00:00, 72.34it/s]\n",
      "Training Epoch 1595: 100%|██████████| 499/499 [00:06<00:00, 74.83it/s]\n",
      "Training Epoch 1596: 100%|██████████| 499/499 [00:06<00:00, 71.98it/s]\n",
      "Training Epoch 1597: 100%|██████████| 499/499 [00:06<00:00, 73.01it/s]\n",
      "Training Epoch 1598: 100%|██████████| 499/499 [00:06<00:00, 74.18it/s]\n",
      "Training Epoch 1599: 100%|██████████| 499/499 [00:06<00:00, 73.25it/s]\n",
      "Training Epoch 1600: 100%|██████████| 499/499 [00:06<00:00, 74.25it/s]\n",
      "Training Epoch 1601: 100%|██████████| 499/499 [00:06<00:00, 73.83it/s]\n"
     ]
    },
    {
     "name": "stdout",
     "output_type": "stream",
     "text": [
      "Epoch 1600 - Train Loss: 0.0496, Train MSE: 0.0497, Train MAE: 0.1531\n",
      "Epoch 1600 - Validation Loss: 2.4280, Validation MSE: 2.4277, Validation MAE: 1.1486\n"
     ]
    },
    {
     "name": "stderr",
     "output_type": "stream",
     "text": [
      "Training Epoch 1602: 100%|██████████| 499/499 [00:06<00:00, 73.44it/s]\n",
      "Training Epoch 1603: 100%|██████████| 499/499 [00:06<00:00, 71.32it/s]\n",
      "Training Epoch 1604: 100%|██████████| 499/499 [00:06<00:00, 72.91it/s]\n",
      "Training Epoch 1605: 100%|██████████| 499/499 [00:06<00:00, 72.28it/s]\n",
      "Training Epoch 1606: 100%|██████████| 499/499 [00:06<00:00, 72.37it/s]\n",
      "Training Epoch 1607: 100%|██████████| 499/499 [00:06<00:00, 71.92it/s]\n",
      "Training Epoch 1608: 100%|██████████| 499/499 [00:06<00:00, 71.35it/s]\n",
      "Training Epoch 1609: 100%|██████████| 499/499 [00:06<00:00, 73.07it/s]\n",
      "Training Epoch 1610: 100%|██████████| 499/499 [00:07<00:00, 70.98it/s]\n",
      "Training Epoch 1611: 100%|██████████| 499/499 [00:06<00:00, 72.08it/s]\n"
     ]
    },
    {
     "name": "stdout",
     "output_type": "stream",
     "text": [
      "Epoch 1610 - Train Loss: 0.0521, Train MSE: 0.0521, Train MAE: 0.1553\n",
      "Epoch 1610 - Validation Loss: 2.4144, Validation MSE: 2.4145, Validation MAE: 1.1460\n"
     ]
    },
    {
     "name": "stderr",
     "output_type": "stream",
     "text": [
      "Training Epoch 1612: 100%|██████████| 499/499 [00:06<00:00, 72.68it/s]\n",
      "Training Epoch 1613: 100%|██████████| 499/499 [00:06<00:00, 72.99it/s]\n",
      "Training Epoch 1614: 100%|██████████| 499/499 [00:06<00:00, 71.98it/s]\n",
      "Training Epoch 1615: 100%|██████████| 499/499 [00:06<00:00, 71.59it/s]\n",
      "Training Epoch 1616: 100%|██████████| 499/499 [00:06<00:00, 71.85it/s]\n",
      "Training Epoch 1617: 100%|██████████| 499/499 [00:06<00:00, 71.83it/s]\n",
      "Training Epoch 1618: 100%|██████████| 499/499 [00:06<00:00, 72.41it/s]\n",
      "Training Epoch 1619: 100%|██████████| 499/499 [00:07<00:00, 71.14it/s]\n",
      "Training Epoch 1620: 100%|██████████| 499/499 [00:06<00:00, 73.60it/s]\n",
      "Training Epoch 1621: 100%|██████████| 499/499 [00:06<00:00, 71.94it/s]\n"
     ]
    },
    {
     "name": "stdout",
     "output_type": "stream",
     "text": [
      "Epoch 1620 - Train Loss: 0.0426, Train MSE: 0.0426, Train MAE: 0.1459\n",
      "Epoch 1620 - Validation Loss: 2.4614, Validation MSE: 2.4615, Validation MAE: 1.1644\n"
     ]
    },
    {
     "name": "stderr",
     "output_type": "stream",
     "text": [
      "Training Epoch 1622: 100%|██████████| 499/499 [00:06<00:00, 72.41it/s]\n",
      "Training Epoch 1623: 100%|██████████| 499/499 [00:06<00:00, 74.68it/s]\n",
      "Training Epoch 1624: 100%|██████████| 499/499 [00:07<00:00, 70.84it/s]\n",
      "Training Epoch 1625: 100%|██████████| 499/499 [00:06<00:00, 72.11it/s]\n",
      "Training Epoch 1626: 100%|██████████| 499/499 [00:06<00:00, 72.19it/s]\n",
      "Training Epoch 1627: 100%|██████████| 499/499 [00:06<00:00, 72.13it/s]\n",
      "Training Epoch 1628: 100%|██████████| 499/499 [00:06<00:00, 71.44it/s]\n",
      "Training Epoch 1629: 100%|██████████| 499/499 [00:06<00:00, 72.36it/s]\n",
      "Training Epoch 1630: 100%|██████████| 499/499 [00:06<00:00, 71.77it/s]\n",
      "Training Epoch 1631: 100%|██████████| 499/499 [00:06<00:00, 72.38it/s]\n"
     ]
    },
    {
     "name": "stdout",
     "output_type": "stream",
     "text": [
      "Epoch 1630 - Train Loss: 0.0418, Train MSE: 0.0418, Train MAE: 0.1445\n",
      "Epoch 1630 - Validation Loss: 2.3815, Validation MSE: 2.3813, Validation MAE: 1.1396\n"
     ]
    },
    {
     "name": "stderr",
     "output_type": "stream",
     "text": [
      "Training Epoch 1632: 100%|██████████| 499/499 [00:06<00:00, 71.83it/s]\n",
      "Training Epoch 1633: 100%|██████████| 499/499 [00:06<00:00, 73.20it/s]\n",
      "Training Epoch 1634: 100%|██████████| 499/499 [00:06<00:00, 72.46it/s]\n",
      "Training Epoch 1635: 100%|██████████| 499/499 [00:07<00:00, 71.22it/s]\n",
      "Training Epoch 1636: 100%|██████████| 499/499 [00:06<00:00, 72.66it/s]\n",
      "Training Epoch 1637: 100%|██████████| 499/499 [00:06<00:00, 71.40it/s]\n",
      "Training Epoch 1638: 100%|██████████| 499/499 [00:06<00:00, 72.20it/s]\n",
      "Training Epoch 1639: 100%|██████████| 499/499 [00:06<00:00, 71.56it/s]\n",
      "Training Epoch 1640: 100%|██████████| 499/499 [00:06<00:00, 72.10it/s]\n",
      "Training Epoch 1641: 100%|██████████| 499/499 [00:06<00:00, 71.74it/s]\n"
     ]
    },
    {
     "name": "stdout",
     "output_type": "stream",
     "text": [
      "Epoch 1640 - Train Loss: 0.0530, Train MSE: 0.0530, Train MAE: 0.1497\n",
      "Epoch 1640 - Validation Loss: 2.3650, Validation MSE: 2.3646, Validation MAE: 1.1372\n"
     ]
    },
    {
     "name": "stderr",
     "output_type": "stream",
     "text": [
      "Training Epoch 1642: 100%|██████████| 499/499 [00:06<00:00, 72.75it/s]\n",
      "Training Epoch 1643: 100%|██████████| 499/499 [00:06<00:00, 73.50it/s]\n",
      "Training Epoch 1644: 100%|██████████| 499/499 [00:06<00:00, 71.54it/s]\n",
      "Training Epoch 1645: 100%|██████████| 499/499 [00:06<00:00, 71.35it/s]\n",
      "Training Epoch 1646: 100%|██████████| 499/499 [00:06<00:00, 71.93it/s]\n",
      "Training Epoch 1647: 100%|██████████| 499/499 [00:06<00:00, 72.77it/s]\n",
      "Training Epoch 1648: 100%|██████████| 499/499 [00:07<00:00, 70.52it/s]\n",
      "Training Epoch 1649: 100%|██████████| 499/499 [00:06<00:00, 71.81it/s]\n",
      "Training Epoch 1650: 100%|██████████| 499/499 [00:06<00:00, 73.40it/s]\n",
      "Training Epoch 1651: 100%|██████████| 499/499 [00:06<00:00, 72.16it/s]\n"
     ]
    },
    {
     "name": "stdout",
     "output_type": "stream",
     "text": [
      "Epoch 1650 - Train Loss: 0.0480, Train MSE: 0.0480, Train MAE: 0.1503\n",
      "Epoch 1650 - Validation Loss: 2.3992, Validation MSE: 2.3989, Validation MAE: 1.1401\n"
     ]
    },
    {
     "name": "stderr",
     "output_type": "stream",
     "text": [
      "Training Epoch 1652: 100%|██████████| 499/499 [00:06<00:00, 72.72it/s]\n",
      "Training Epoch 1653: 100%|██████████| 499/499 [00:07<00:00, 71.14it/s]\n",
      "Training Epoch 1654: 100%|██████████| 499/499 [00:06<00:00, 72.16it/s]\n",
      "Training Epoch 1655: 100%|██████████| 499/499 [00:06<00:00, 74.32it/s]\n",
      "Training Epoch 1656: 100%|██████████| 499/499 [00:06<00:00, 72.58it/s]\n",
      "Training Epoch 1657: 100%|██████████| 499/499 [00:06<00:00, 73.17it/s]\n",
      "Training Epoch 1658: 100%|██████████| 499/499 [00:06<00:00, 72.03it/s]\n",
      "Training Epoch 1659: 100%|██████████| 499/499 [00:07<00:00, 70.93it/s]\n",
      "Training Epoch 1660: 100%|██████████| 499/499 [00:06<00:00, 73.27it/s]\n",
      "Training Epoch 1661: 100%|██████████| 499/499 [00:07<00:00, 70.96it/s]\n"
     ]
    },
    {
     "name": "stdout",
     "output_type": "stream",
     "text": [
      "Epoch 1660 - Train Loss: 0.0414, Train MSE: 0.0414, Train MAE: 0.1426\n",
      "Epoch 1660 - Validation Loss: 2.3698, Validation MSE: 2.3696, Validation MAE: 1.1300\n"
     ]
    },
    {
     "name": "stderr",
     "output_type": "stream",
     "text": [
      "Training Epoch 1662: 100%|██████████| 499/499 [00:06<00:00, 71.65it/s]\n",
      "Training Epoch 1663: 100%|██████████| 499/499 [00:06<00:00, 73.14it/s]\n",
      "Training Epoch 1664: 100%|██████████| 499/499 [00:06<00:00, 72.59it/s]\n",
      "Training Epoch 1665: 100%|██████████| 499/499 [00:06<00:00, 72.72it/s]\n",
      "Training Epoch 1666: 100%|██████████| 499/499 [00:06<00:00, 71.53it/s]\n",
      "Training Epoch 1667: 100%|██████████| 499/499 [00:06<00:00, 72.70it/s]\n",
      "Training Epoch 1668: 100%|██████████| 499/499 [00:06<00:00, 71.59it/s]\n",
      "Training Epoch 1669: 100%|██████████| 499/499 [00:06<00:00, 72.59it/s]\n",
      "Training Epoch 1670: 100%|██████████| 499/499 [00:06<00:00, 72.66it/s]\n",
      "Training Epoch 1671: 100%|██████████| 499/499 [00:06<00:00, 72.25it/s]\n"
     ]
    },
    {
     "name": "stdout",
     "output_type": "stream",
     "text": [
      "Epoch 1670 - Train Loss: 0.0398, Train MSE: 0.0398, Train MAE: 0.1420\n",
      "Epoch 1670 - Validation Loss: 2.3878, Validation MSE: 2.3872, Validation MAE: 1.1412\n"
     ]
    },
    {
     "name": "stderr",
     "output_type": "stream",
     "text": [
      "Training Epoch 1672: 100%|██████████| 499/499 [00:06<00:00, 73.48it/s]\n",
      "Training Epoch 1673: 100%|██████████| 499/499 [00:06<00:00, 71.87it/s]\n",
      "Training Epoch 1674: 100%|██████████| 499/499 [00:06<00:00, 71.96it/s]\n",
      "Training Epoch 1675: 100%|██████████| 499/499 [00:06<00:00, 72.98it/s]\n",
      "Training Epoch 1676: 100%|██████████| 499/499 [00:06<00:00, 72.89it/s]\n",
      "Training Epoch 1677: 100%|██████████| 499/499 [00:06<00:00, 72.52it/s]\n",
      "Training Epoch 1678: 100%|██████████| 499/499 [00:06<00:00, 72.10it/s]\n",
      "Training Epoch 1679: 100%|██████████| 499/499 [00:06<00:00, 74.23it/s]\n",
      "Training Epoch 1680: 100%|██████████| 499/499 [00:06<00:00, 72.72it/s]\n",
      "Training Epoch 1681: 100%|██████████| 499/499 [00:06<00:00, 73.68it/s]\n"
     ]
    },
    {
     "name": "stdout",
     "output_type": "stream",
     "text": [
      "Epoch 1680 - Train Loss: 0.0500, Train MSE: 0.0500, Train MAE: 0.1533\n",
      "Epoch 1680 - Validation Loss: 2.4205, Validation MSE: 2.4202, Validation MAE: 1.1445\n"
     ]
    },
    {
     "name": "stderr",
     "output_type": "stream",
     "text": [
      "Training Epoch 1682: 100%|██████████| 499/499 [00:06<00:00, 71.92it/s]\n",
      "Training Epoch 1683: 100%|██████████| 499/499 [00:06<00:00, 73.21it/s]\n",
      "Training Epoch 1684: 100%|██████████| 499/499 [00:06<00:00, 71.77it/s]\n",
      "Training Epoch 1685: 100%|██████████| 499/499 [00:06<00:00, 72.65it/s]\n",
      "Training Epoch 1686: 100%|██████████| 499/499 [00:06<00:00, 71.76it/s]\n",
      "Training Epoch 1687: 100%|██████████| 499/499 [00:06<00:00, 72.04it/s]\n",
      "Training Epoch 1688: 100%|██████████| 499/499 [00:06<00:00, 72.83it/s]\n",
      "Training Epoch 1689: 100%|██████████| 499/499 [00:06<00:00, 72.15it/s]\n",
      "Training Epoch 1690: 100%|██████████| 499/499 [00:06<00:00, 71.80it/s]\n",
      "Training Epoch 1691: 100%|██████████| 499/499 [00:07<00:00, 71.09it/s]\n"
     ]
    },
    {
     "name": "stdout",
     "output_type": "stream",
     "text": [
      "Epoch 1690 - Train Loss: 0.0441, Train MSE: 0.0442, Train MAE: 0.1444\n",
      "Epoch 1690 - Validation Loss: 2.3846, Validation MSE: 2.3847, Validation MAE: 1.1427\n"
     ]
    },
    {
     "name": "stderr",
     "output_type": "stream",
     "text": [
      "Training Epoch 1692: 100%|██████████| 499/499 [00:06<00:00, 72.18it/s]\n",
      "Training Epoch 1693: 100%|██████████| 499/499 [00:06<00:00, 72.84it/s]\n",
      "Training Epoch 1694: 100%|██████████| 499/499 [00:06<00:00, 72.92it/s]\n",
      "Training Epoch 1695: 100%|██████████| 499/499 [00:07<00:00, 70.51it/s]\n",
      "Training Epoch 1696: 100%|██████████| 499/499 [00:06<00:00, 72.96it/s]\n",
      "Training Epoch 1697: 100%|██████████| 499/499 [00:06<00:00, 73.39it/s]\n",
      "Training Epoch 1698: 100%|██████████| 499/499 [00:07<00:00, 71.27it/s]\n",
      "Training Epoch 1699: 100%|██████████| 499/499 [00:06<00:00, 72.98it/s]\n",
      "Training Epoch 1700: 100%|██████████| 499/499 [00:06<00:00, 71.53it/s]\n",
      "Training Epoch 1701: 100%|██████████| 499/499 [00:06<00:00, 71.97it/s]\n"
     ]
    },
    {
     "name": "stdout",
     "output_type": "stream",
     "text": [
      "Epoch 1700 - Train Loss: 0.0440, Train MSE: 0.0440, Train MAE: 0.1456\n",
      "Epoch 1700 - Validation Loss: 2.4545, Validation MSE: 2.4544, Validation MAE: 1.1547\n"
     ]
    },
    {
     "name": "stderr",
     "output_type": "stream",
     "text": [
      "Training Epoch 1702: 100%|██████████| 499/499 [00:06<00:00, 72.34it/s]\n",
      "Training Epoch 1703: 100%|██████████| 499/499 [00:06<00:00, 71.29it/s]\n",
      "Training Epoch 1704: 100%|██████████| 499/499 [00:06<00:00, 71.37it/s]\n",
      "Training Epoch 1705: 100%|██████████| 499/499 [00:06<00:00, 71.74it/s]\n",
      "Training Epoch 1706: 100%|██████████| 499/499 [00:06<00:00, 71.52it/s]\n",
      "Training Epoch 1707: 100%|██████████| 499/499 [00:06<00:00, 71.82it/s]\n",
      "Training Epoch 1708: 100%|██████████| 499/499 [00:06<00:00, 72.31it/s]\n",
      "Training Epoch 1709: 100%|██████████| 499/499 [00:06<00:00, 71.96it/s]\n",
      "Training Epoch 1710: 100%|██████████| 499/499 [00:06<00:00, 72.71it/s]\n",
      "Training Epoch 1711: 100%|██████████| 499/499 [00:06<00:00, 71.49it/s]\n"
     ]
    },
    {
     "name": "stdout",
     "output_type": "stream",
     "text": [
      "Epoch 1710 - Train Loss: 0.0404, Train MSE: 0.0404, Train MAE: 0.1434\n",
      "Epoch 1710 - Validation Loss: 2.4386, Validation MSE: 2.4389, Validation MAE: 1.1512\n"
     ]
    },
    {
     "name": "stderr",
     "output_type": "stream",
     "text": [
      "Training Epoch 1712: 100%|██████████| 499/499 [00:06<00:00, 72.41it/s]\n",
      "Training Epoch 1713: 100%|██████████| 499/499 [00:06<00:00, 71.67it/s]\n",
      "Training Epoch 1714: 100%|██████████| 499/499 [00:06<00:00, 72.81it/s]\n",
      "Training Epoch 1715: 100%|██████████| 499/499 [00:06<00:00, 72.30it/s]\n",
      "Training Epoch 1716: 100%|██████████| 499/499 [00:06<00:00, 73.06it/s]\n",
      "Training Epoch 1717: 100%|██████████| 499/499 [00:06<00:00, 72.91it/s]\n",
      "Training Epoch 1718: 100%|██████████| 499/499 [00:06<00:00, 73.35it/s]\n",
      "Training Epoch 1719: 100%|██████████| 499/499 [00:06<00:00, 72.26it/s]\n",
      "Training Epoch 1720: 100%|██████████| 499/499 [00:06<00:00, 72.65it/s]\n",
      "Training Epoch 1721: 100%|██████████| 499/499 [00:06<00:00, 71.54it/s]\n"
     ]
    },
    {
     "name": "stdout",
     "output_type": "stream",
     "text": [
      "Epoch 1720 - Train Loss: 0.0386, Train MSE: 0.0386, Train MAE: 0.1397\n",
      "Epoch 1720 - Validation Loss: 2.3088, Validation MSE: 2.3089, Validation MAE: 1.1225\n"
     ]
    },
    {
     "name": "stderr",
     "output_type": "stream",
     "text": [
      "Training Epoch 1722: 100%|██████████| 499/499 [00:06<00:00, 72.50it/s]\n",
      "Training Epoch 1723: 100%|██████████| 499/499 [00:06<00:00, 72.63it/s]\n",
      "Training Epoch 1724: 100%|██████████| 499/499 [00:06<00:00, 72.45it/s]\n",
      "Training Epoch 1725: 100%|██████████| 499/499 [00:06<00:00, 72.26it/s]\n",
      "Training Epoch 1726: 100%|██████████| 499/499 [00:06<00:00, 72.95it/s]\n",
      "Training Epoch 1727: 100%|██████████| 499/499 [00:06<00:00, 72.38it/s]\n",
      "Training Epoch 1728: 100%|██████████| 499/499 [00:06<00:00, 71.66it/s]\n",
      "Training Epoch 1729: 100%|██████████| 499/499 [00:06<00:00, 72.16it/s]\n",
      "Training Epoch 1730: 100%|██████████| 499/499 [00:06<00:00, 72.03it/s]\n",
      "Training Epoch 1731: 100%|██████████| 499/499 [00:06<00:00, 72.00it/s]\n"
     ]
    },
    {
     "name": "stdout",
     "output_type": "stream",
     "text": [
      "Epoch 1730 - Train Loss: 0.0381, Train MSE: 0.0381, Train MAE: 0.1397\n",
      "Epoch 1730 - Validation Loss: 2.3786, Validation MSE: 2.3785, Validation MAE: 1.1374\n"
     ]
    },
    {
     "name": "stderr",
     "output_type": "stream",
     "text": [
      "Training Epoch 1732: 100%|██████████| 499/499 [00:06<00:00, 72.64it/s]\n",
      "Training Epoch 1733: 100%|██████████| 499/499 [00:06<00:00, 71.65it/s]\n",
      "Training Epoch 1734: 100%|██████████| 499/499 [00:06<00:00, 73.25it/s]\n",
      "Training Epoch 1735: 100%|██████████| 499/499 [00:06<00:00, 72.60it/s]\n",
      "Training Epoch 1736: 100%|██████████| 499/499 [00:06<00:00, 71.68it/s]\n",
      "Training Epoch 1737: 100%|██████████| 499/499 [00:06<00:00, 72.48it/s]\n",
      "Training Epoch 1738: 100%|██████████| 499/499 [00:07<00:00, 71.02it/s]\n",
      "Training Epoch 1739: 100%|██████████| 499/499 [00:06<00:00, 72.64it/s]\n",
      "Training Epoch 1740: 100%|██████████| 499/499 [00:06<00:00, 71.62it/s]\n",
      "Training Epoch 1741: 100%|██████████| 499/499 [00:06<00:00, 72.47it/s]\n"
     ]
    },
    {
     "name": "stdout",
     "output_type": "stream",
     "text": [
      "Epoch 1740 - Train Loss: 0.0424, Train MSE: 0.0424, Train MAE: 0.1418\n",
      "Epoch 1740 - Validation Loss: 2.4106, Validation MSE: 2.4112, Validation MAE: 1.1475\n"
     ]
    },
    {
     "name": "stderr",
     "output_type": "stream",
     "text": [
      "Training Epoch 1742: 100%|██████████| 499/499 [00:06<00:00, 72.52it/s]\n",
      "Training Epoch 1743: 100%|██████████| 499/499 [00:06<00:00, 73.26it/s]\n",
      "Training Epoch 1744: 100%|██████████| 499/499 [00:06<00:00, 72.91it/s]\n",
      "Training Epoch 1745: 100%|██████████| 499/499 [00:07<00:00, 70.88it/s]\n",
      "Training Epoch 1746: 100%|██████████| 499/499 [00:06<00:00, 72.72it/s]\n",
      "Training Epoch 1747: 100%|██████████| 499/499 [00:06<00:00, 72.93it/s]\n",
      "Training Epoch 1748: 100%|██████████| 499/499 [00:06<00:00, 73.30it/s]\n",
      "Training Epoch 1749: 100%|██████████| 499/499 [00:06<00:00, 72.22it/s]\n",
      "Training Epoch 1750: 100%|██████████| 499/499 [00:06<00:00, 71.86it/s]\n",
      "Training Epoch 1751: 100%|██████████| 499/499 [00:07<00:00, 71.21it/s]\n"
     ]
    },
    {
     "name": "stdout",
     "output_type": "stream",
     "text": [
      "Epoch 1750 - Train Loss: 0.0657, Train MSE: 0.0657, Train MAE: 0.1604\n",
      "Epoch 1750 - Validation Loss: 2.4035, Validation MSE: 2.4028, Validation MAE: 1.1462\n"
     ]
    },
    {
     "name": "stderr",
     "output_type": "stream",
     "text": [
      "Training Epoch 1752: 100%|██████████| 499/499 [00:06<00:00, 73.36it/s]\n",
      "Training Epoch 1753: 100%|██████████| 499/499 [00:06<00:00, 72.72it/s]\n",
      "Training Epoch 1754: 100%|██████████| 499/499 [00:06<00:00, 74.25it/s]\n",
      "Training Epoch 1755: 100%|██████████| 499/499 [00:06<00:00, 73.09it/s]\n",
      "Training Epoch 1756: 100%|██████████| 499/499 [00:06<00:00, 71.69it/s]\n",
      "Training Epoch 1757: 100%|██████████| 499/499 [00:06<00:00, 73.23it/s]\n",
      "Training Epoch 1758: 100%|██████████| 499/499 [00:06<00:00, 71.65it/s]\n",
      "Training Epoch 1759: 100%|██████████| 499/499 [00:06<00:00, 72.78it/s]\n",
      "Training Epoch 1760: 100%|██████████| 499/499 [00:06<00:00, 72.04it/s]\n",
      "Training Epoch 1761: 100%|██████████| 499/499 [00:06<00:00, 72.18it/s]\n"
     ]
    },
    {
     "name": "stdout",
     "output_type": "stream",
     "text": [
      "Epoch 1760 - Train Loss: 0.0458, Train MSE: 0.0458, Train MAE: 0.1477\n",
      "Epoch 1760 - Validation Loss: 2.4593, Validation MSE: 2.4603, Validation MAE: 1.1561\n"
     ]
    },
    {
     "name": "stderr",
     "output_type": "stream",
     "text": [
      "Training Epoch 1762: 100%|██████████| 499/499 [00:06<00:00, 73.18it/s]\n",
      "Training Epoch 1763: 100%|██████████| 499/499 [00:06<00:00, 71.91it/s]\n",
      "Training Epoch 1764: 100%|██████████| 499/499 [00:06<00:00, 72.51it/s]\n",
      "Training Epoch 1765: 100%|██████████| 499/499 [00:06<00:00, 71.65it/s]\n",
      "Training Epoch 1766: 100%|██████████| 499/499 [00:06<00:00, 73.22it/s]\n",
      "Training Epoch 1767: 100%|██████████| 499/499 [00:06<00:00, 71.29it/s]\n",
      "Training Epoch 1768: 100%|██████████| 499/499 [00:06<00:00, 72.07it/s]\n",
      "Training Epoch 1769: 100%|██████████| 499/499 [00:06<00:00, 72.08it/s]\n",
      "Training Epoch 1770: 100%|██████████| 499/499 [00:06<00:00, 72.22it/s]\n",
      "Training Epoch 1771: 100%|██████████| 499/499 [00:07<00:00, 71.05it/s]\n"
     ]
    },
    {
     "name": "stdout",
     "output_type": "stream",
     "text": [
      "Epoch 1770 - Train Loss: 0.0376, Train MSE: 0.0376, Train MAE: 0.1394\n",
      "Epoch 1770 - Validation Loss: 2.4251, Validation MSE: 2.4252, Validation MAE: 1.1414\n"
     ]
    },
    {
     "name": "stderr",
     "output_type": "stream",
     "text": [
      "Training Epoch 1772: 100%|██████████| 499/499 [00:06<00:00, 73.05it/s]\n",
      "Training Epoch 1773: 100%|██████████| 499/499 [00:06<00:00, 71.89it/s]\n",
      "Training Epoch 1774: 100%|██████████| 499/499 [00:06<00:00, 72.14it/s]\n",
      "Training Epoch 1775: 100%|██████████| 499/499 [00:06<00:00, 72.52it/s]\n",
      "Training Epoch 1776: 100%|██████████| 499/499 [00:07<00:00, 70.81it/s]\n",
      "Training Epoch 1777: 100%|██████████| 499/499 [00:06<00:00, 73.97it/s]\n",
      "Training Epoch 1778: 100%|██████████| 499/499 [00:06<00:00, 72.26it/s]\n",
      "Training Epoch 1779: 100%|██████████| 499/499 [00:06<00:00, 71.86it/s]\n",
      "Training Epoch 1780: 100%|██████████| 499/499 [00:06<00:00, 72.36it/s]\n",
      "Training Epoch 1781: 100%|██████████| 499/499 [00:06<00:00, 72.80it/s]\n"
     ]
    },
    {
     "name": "stdout",
     "output_type": "stream",
     "text": [
      "Epoch 1780 - Train Loss: 0.0435, Train MSE: 0.0435, Train MAE: 0.1441\n",
      "Epoch 1780 - Validation Loss: 2.3982, Validation MSE: 2.3981, Validation MAE: 1.1451\n"
     ]
    },
    {
     "name": "stderr",
     "output_type": "stream",
     "text": [
      "Training Epoch 1782: 100%|██████████| 499/499 [00:06<00:00, 72.36it/s]\n",
      "Training Epoch 1783: 100%|██████████| 499/499 [00:06<00:00, 71.90it/s]\n",
      "Training Epoch 1784: 100%|██████████| 499/499 [00:07<00:00, 71.22it/s]\n",
      "Training Epoch 1785: 100%|██████████| 499/499 [00:06<00:00, 71.58it/s]\n",
      "Training Epoch 1786: 100%|██████████| 499/499 [00:06<00:00, 72.54it/s]\n",
      "Training Epoch 1787: 100%|██████████| 499/499 [00:07<00:00, 71.02it/s]\n",
      "Training Epoch 1788: 100%|██████████| 499/499 [00:06<00:00, 72.36it/s]\n",
      "Training Epoch 1789: 100%|██████████| 499/499 [00:07<00:00, 70.73it/s]\n",
      "Training Epoch 1790: 100%|██████████| 499/499 [00:06<00:00, 74.08it/s]\n",
      "Training Epoch 1791: 100%|██████████| 499/499 [00:06<00:00, 72.86it/s]\n"
     ]
    },
    {
     "name": "stdout",
     "output_type": "stream",
     "text": [
      "Epoch 1790 - Train Loss: 0.0363, Train MSE: 0.0363, Train MAE: 0.1361\n",
      "Epoch 1790 - Validation Loss: 2.3976, Validation MSE: 2.3977, Validation MAE: 1.1338\n"
     ]
    },
    {
     "name": "stderr",
     "output_type": "stream",
     "text": [
      "Training Epoch 1792: 100%|██████████| 499/499 [00:07<00:00, 70.99it/s]\n",
      "Training Epoch 1793: 100%|██████████| 499/499 [00:06<00:00, 71.94it/s]\n",
      "Training Epoch 1794: 100%|██████████| 499/499 [00:06<00:00, 72.09it/s]\n",
      "Training Epoch 1795: 100%|██████████| 499/499 [00:06<00:00, 72.37it/s]\n",
      "Training Epoch 1796: 100%|██████████| 499/499 [00:07<00:00, 70.92it/s]\n",
      "Training Epoch 1797: 100%|██████████| 499/499 [00:06<00:00, 74.03it/s]\n",
      "Training Epoch 1798: 100%|██████████| 499/499 [00:06<00:00, 73.14it/s]\n",
      "Training Epoch 1799: 100%|██████████| 499/499 [00:06<00:00, 73.94it/s]\n",
      "Training Epoch 1800: 100%|██████████| 499/499 [00:06<00:00, 72.51it/s]\n",
      "Training Epoch 1801: 100%|██████████| 499/499 [00:07<00:00, 71.14it/s]\n"
     ]
    },
    {
     "name": "stdout",
     "output_type": "stream",
     "text": [
      "Epoch 1800 - Train Loss: 0.0388, Train MSE: 0.0388, Train MAE: 0.1392\n",
      "Epoch 1800 - Validation Loss: 2.3723, Validation MSE: 2.3716, Validation MAE: 1.1395\n"
     ]
    },
    {
     "name": "stderr",
     "output_type": "stream",
     "text": [
      "Training Epoch 1802: 100%|██████████| 499/499 [00:06<00:00, 72.17it/s]\n",
      "Training Epoch 1803: 100%|██████████| 499/499 [00:06<00:00, 72.60it/s]\n",
      "Training Epoch 1804: 100%|██████████| 499/499 [00:06<00:00, 72.48it/s]\n",
      "Training Epoch 1805: 100%|██████████| 499/499 [00:07<00:00, 70.11it/s]\n",
      "Training Epoch 1806: 100%|██████████| 499/499 [00:06<00:00, 74.01it/s]\n",
      "Training Epoch 1807: 100%|██████████| 499/499 [00:06<00:00, 72.40it/s]\n",
      "Training Epoch 1808: 100%|██████████| 499/499 [00:06<00:00, 72.32it/s]\n",
      "Training Epoch 1809: 100%|██████████| 499/499 [00:06<00:00, 72.04it/s]\n",
      "Training Epoch 1810: 100%|██████████| 499/499 [00:07<00:00, 71.10it/s]\n",
      "Training Epoch 1811: 100%|██████████| 499/499 [00:06<00:00, 71.87it/s]\n"
     ]
    },
    {
     "name": "stdout",
     "output_type": "stream",
     "text": [
      "Epoch 1810 - Train Loss: 0.0398, Train MSE: 0.0398, Train MAE: 0.1389\n",
      "Epoch 1810 - Validation Loss: 2.4166, Validation MSE: 2.4157, Validation MAE: 1.1412\n"
     ]
    },
    {
     "name": "stderr",
     "output_type": "stream",
     "text": [
      "Training Epoch 1812: 100%|██████████| 499/499 [00:06<00:00, 72.12it/s]\n",
      "Training Epoch 1813: 100%|██████████| 499/499 [00:06<00:00, 72.56it/s]\n",
      "Training Epoch 1814: 100%|██████████| 499/499 [00:06<00:00, 71.71it/s]\n",
      "Training Epoch 1815: 100%|██████████| 499/499 [00:06<00:00, 72.14it/s]\n",
      "Training Epoch 1816: 100%|██████████| 499/499 [00:07<00:00, 70.54it/s]\n",
      "Training Epoch 1817: 100%|██████████| 499/499 [00:06<00:00, 72.37it/s]\n",
      "Training Epoch 1818: 100%|██████████| 499/499 [00:07<00:00, 70.71it/s]\n",
      "Training Epoch 1819: 100%|██████████| 499/499 [00:06<00:00, 72.24it/s]\n",
      "Training Epoch 1820: 100%|██████████| 499/499 [00:06<00:00, 73.33it/s]\n",
      "Training Epoch 1821: 100%|██████████| 499/499 [00:07<00:00, 70.45it/s]\n"
     ]
    },
    {
     "name": "stdout",
     "output_type": "stream",
     "text": [
      "Epoch 1820 - Train Loss: 0.0452, Train MSE: 0.0451, Train MAE: 0.1429\n",
      "Epoch 1820 - Validation Loss: 2.4470, Validation MSE: 2.4465, Validation MAE: 1.1524\n"
     ]
    },
    {
     "name": "stderr",
     "output_type": "stream",
     "text": [
      "Training Epoch 1822: 100%|██████████| 499/499 [00:07<00:00, 70.73it/s]\n",
      "Training Epoch 1823: 100%|██████████| 499/499 [00:06<00:00, 73.26it/s]\n",
      "Training Epoch 1824: 100%|██████████| 499/499 [00:06<00:00, 72.86it/s]\n",
      "Training Epoch 1825: 100%|██████████| 499/499 [00:06<00:00, 71.38it/s]\n",
      "Training Epoch 1826: 100%|██████████| 499/499 [00:06<00:00, 72.59it/s]\n",
      "Training Epoch 1827: 100%|██████████| 499/499 [00:06<00:00, 72.11it/s]\n",
      "Training Epoch 1828: 100%|██████████| 499/499 [00:06<00:00, 72.86it/s]\n",
      "Training Epoch 1829: 100%|██████████| 499/499 [00:06<00:00, 71.68it/s]\n",
      "Training Epoch 1830: 100%|██████████| 499/499 [00:06<00:00, 71.54it/s]\n",
      "Training Epoch 1831: 100%|██████████| 499/499 [00:06<00:00, 72.59it/s]\n"
     ]
    },
    {
     "name": "stdout",
     "output_type": "stream",
     "text": [
      "Epoch 1830 - Train Loss: 0.0381, Train MSE: 0.0381, Train MAE: 0.1377\n",
      "Epoch 1830 - Validation Loss: 2.3980, Validation MSE: 2.3979, Validation MAE: 1.1436\n"
     ]
    },
    {
     "name": "stderr",
     "output_type": "stream",
     "text": [
      "Training Epoch 1832: 100%|██████████| 499/499 [00:07<00:00, 71.02it/s]\n",
      "Training Epoch 1833: 100%|██████████| 499/499 [00:06<00:00, 72.09it/s]\n",
      "Training Epoch 1834: 100%|██████████| 499/499 [00:06<00:00, 72.10it/s]\n",
      "Training Epoch 1835: 100%|██████████| 499/499 [00:06<00:00, 71.78it/s]\n",
      "Training Epoch 1836: 100%|██████████| 499/499 [00:06<00:00, 72.21it/s]\n",
      "Training Epoch 1837: 100%|██████████| 499/499 [00:06<00:00, 72.48it/s]\n",
      "Training Epoch 1838: 100%|██████████| 499/499 [00:06<00:00, 72.74it/s]\n",
      "Training Epoch 1839: 100%|██████████| 499/499 [00:06<00:00, 72.56it/s]\n",
      "Training Epoch 1840: 100%|██████████| 499/499 [00:06<00:00, 71.94it/s]\n",
      "Training Epoch 1841: 100%|██████████| 499/499 [00:06<00:00, 71.84it/s]\n"
     ]
    },
    {
     "name": "stdout",
     "output_type": "stream",
     "text": [
      "Epoch 1840 - Train Loss: 0.0384, Train MSE: 0.0385, Train MAE: 0.1383\n",
      "Epoch 1840 - Validation Loss: 2.4355, Validation MSE: 2.4351, Validation MAE: 1.1500\n"
     ]
    },
    {
     "name": "stderr",
     "output_type": "stream",
     "text": [
      "Training Epoch 1842: 100%|██████████| 499/499 [00:06<00:00, 72.32it/s]\n",
      "Training Epoch 1843: 100%|██████████| 499/499 [00:06<00:00, 72.37it/s]\n",
      "Training Epoch 1844: 100%|██████████| 499/499 [00:06<00:00, 72.76it/s]\n",
      "Training Epoch 1845: 100%|██████████| 499/499 [00:06<00:00, 72.55it/s]\n",
      "Training Epoch 1846: 100%|██████████| 499/499 [00:06<00:00, 72.65it/s]\n",
      "Training Epoch 1847: 100%|██████████| 499/499 [00:06<00:00, 72.49it/s]\n",
      "Training Epoch 1848: 100%|██████████| 499/499 [00:06<00:00, 73.01it/s]\n",
      "Training Epoch 1849: 100%|██████████| 499/499 [00:06<00:00, 72.12it/s]\n",
      "Training Epoch 1850: 100%|██████████| 499/499 [00:07<00:00, 71.24it/s]\n",
      "Training Epoch 1851: 100%|██████████| 499/499 [00:06<00:00, 72.09it/s]\n"
     ]
    },
    {
     "name": "stdout",
     "output_type": "stream",
     "text": [
      "Epoch 1850 - Train Loss: 0.0410, Train MSE: 0.0410, Train MAE: 0.1406\n",
      "Epoch 1850 - Validation Loss: 2.4052, Validation MSE: 2.4047, Validation MAE: 1.1409\n"
     ]
    },
    {
     "name": "stderr",
     "output_type": "stream",
     "text": [
      "Training Epoch 1852: 100%|██████████| 499/499 [00:07<00:00, 71.15it/s]\n",
      "Training Epoch 1853: 100%|██████████| 499/499 [00:06<00:00, 72.48it/s]\n",
      "Training Epoch 1854: 100%|██████████| 499/499 [00:06<00:00, 71.90it/s]\n",
      "Training Epoch 1855: 100%|██████████| 499/499 [00:06<00:00, 73.37it/s]\n",
      "Training Epoch 1856: 100%|██████████| 499/499 [00:06<00:00, 72.24it/s]\n",
      "Training Epoch 1857: 100%|██████████| 499/499 [00:06<00:00, 74.93it/s]\n",
      "Training Epoch 1858: 100%|██████████| 499/499 [00:06<00:00, 74.01it/s]\n",
      "Training Epoch 1859: 100%|██████████| 499/499 [00:06<00:00, 73.41it/s]\n",
      "Training Epoch 1860: 100%|██████████| 499/499 [00:06<00:00, 75.20it/s]\n",
      "Training Epoch 1861: 100%|██████████| 499/499 [00:06<00:00, 73.75it/s]\n"
     ]
    },
    {
     "name": "stdout",
     "output_type": "stream",
     "text": [
      "Epoch 1860 - Train Loss: 0.0451, Train MSE: 0.0451, Train MAE: 0.1450\n",
      "Epoch 1860 - Validation Loss: 2.4278, Validation MSE: 2.4284, Validation MAE: 1.1451\n"
     ]
    },
    {
     "name": "stderr",
     "output_type": "stream",
     "text": [
      "Training Epoch 1862: 100%|██████████| 499/499 [00:06<00:00, 73.37it/s]\n",
      "Training Epoch 1863: 100%|██████████| 499/499 [00:06<00:00, 73.77it/s]\n",
      "Training Epoch 1864: 100%|██████████| 499/499 [00:06<00:00, 75.86it/s]\n",
      "Training Epoch 1865: 100%|██████████| 499/499 [00:06<00:00, 74.49it/s]\n",
      "Training Epoch 1866: 100%|██████████| 499/499 [00:06<00:00, 73.36it/s]\n",
      "Training Epoch 1867: 100%|██████████| 499/499 [00:06<00:00, 73.99it/s]\n",
      "Training Epoch 1868: 100%|██████████| 499/499 [00:06<00:00, 73.87it/s]\n",
      "Training Epoch 1869: 100%|██████████| 499/499 [00:06<00:00, 73.86it/s]\n",
      "Training Epoch 1870: 100%|██████████| 499/499 [00:06<00:00, 73.33it/s]\n",
      "Training Epoch 1871: 100%|██████████| 499/499 [00:06<00:00, 74.24it/s]\n"
     ]
    },
    {
     "name": "stdout",
     "output_type": "stream",
     "text": [
      "Epoch 1870 - Train Loss: 0.0382, Train MSE: 0.0383, Train MAE: 0.1377\n",
      "Epoch 1870 - Validation Loss: 2.4195, Validation MSE: 2.4199, Validation MAE: 1.1468\n"
     ]
    },
    {
     "name": "stderr",
     "output_type": "stream",
     "text": [
      "Training Epoch 1872: 100%|██████████| 499/499 [00:06<00:00, 74.98it/s]\n",
      "Training Epoch 1873: 100%|██████████| 499/499 [00:06<00:00, 73.26it/s]\n",
      "Training Epoch 1874: 100%|██████████| 499/499 [00:06<00:00, 75.57it/s]\n",
      "Training Epoch 1875: 100%|██████████| 499/499 [00:06<00:00, 73.46it/s]\n",
      "Training Epoch 1876: 100%|██████████| 499/499 [00:06<00:00, 73.67it/s]\n",
      "Training Epoch 1877: 100%|██████████| 499/499 [00:06<00:00, 73.65it/s]\n",
      "Training Epoch 1878: 100%|██████████| 499/499 [00:06<00:00, 75.86it/s]\n",
      "Training Epoch 1879: 100%|██████████| 499/499 [00:06<00:00, 73.43it/s]\n",
      "Training Epoch 1880: 100%|██████████| 499/499 [00:06<00:00, 74.25it/s]\n",
      "Training Epoch 1881: 100%|██████████| 499/499 [00:06<00:00, 74.21it/s]\n"
     ]
    },
    {
     "name": "stdout",
     "output_type": "stream",
     "text": [
      "Epoch 1880 - Train Loss: 0.0373, Train MSE: 0.0373, Train MAE: 0.1371\n",
      "Epoch 1880 - Validation Loss: 2.3306, Validation MSE: 2.3305, Validation MAE: 1.1236\n"
     ]
    },
    {
     "name": "stderr",
     "output_type": "stream",
     "text": [
      "Training Epoch 1882: 100%|██████████| 499/499 [00:06<00:00, 73.92it/s]\n",
      "Training Epoch 1883: 100%|██████████| 499/499 [00:06<00:00, 74.02it/s]\n",
      "Training Epoch 1884: 100%|██████████| 499/499 [00:06<00:00, 72.61it/s]\n",
      "Training Epoch 1885: 100%|██████████| 499/499 [00:06<00:00, 74.73it/s]\n",
      "Training Epoch 1886: 100%|██████████| 499/499 [00:06<00:00, 73.72it/s]\n",
      "Training Epoch 1887: 100%|██████████| 499/499 [00:06<00:00, 74.14it/s]\n",
      "Training Epoch 1888: 100%|██████████| 499/499 [00:06<00:00, 73.87it/s]\n",
      "Training Epoch 1889: 100%|██████████| 499/499 [00:06<00:00, 74.40it/s]\n",
      "Training Epoch 1890: 100%|██████████| 499/499 [00:06<00:00, 74.67it/s]\n",
      "Training Epoch 1891: 100%|██████████| 499/499 [00:06<00:00, 72.38it/s]\n"
     ]
    },
    {
     "name": "stdout",
     "output_type": "stream",
     "text": [
      "Epoch 1890 - Train Loss: 0.0409, Train MSE: 0.0409, Train MAE: 0.1392\n",
      "Epoch 1890 - Validation Loss: 2.3941, Validation MSE: 2.3943, Validation MAE: 1.1378\n"
     ]
    },
    {
     "name": "stderr",
     "output_type": "stream",
     "text": [
      "Training Epoch 1892: 100%|██████████| 499/499 [00:06<00:00, 74.72it/s]\n",
      "Training Epoch 1893: 100%|██████████| 499/499 [00:06<00:00, 73.98it/s]\n",
      "Training Epoch 1894: 100%|██████████| 499/499 [00:06<00:00, 74.24it/s]\n",
      "Training Epoch 1895: 100%|██████████| 499/499 [00:06<00:00, 72.91it/s]\n",
      "Training Epoch 1896: 100%|██████████| 499/499 [00:06<00:00, 73.66it/s]\n",
      "Training Epoch 1897: 100%|██████████| 499/499 [00:06<00:00, 76.09it/s]\n",
      "Training Epoch 1898: 100%|██████████| 499/499 [00:05<00:00, 89.88it/s]\n",
      "Training Epoch 1899: 100%|██████████| 499/499 [00:05<00:00, 90.11it/s]\n",
      "Training Epoch 1900: 100%|██████████| 499/499 [00:05<00:00, 91.07it/s]\n",
      "Training Epoch 1901: 100%|██████████| 499/499 [00:05<00:00, 90.60it/s]\n"
     ]
    },
    {
     "name": "stdout",
     "output_type": "stream",
     "text": [
      "Epoch 1900 - Train Loss: 0.0408, Train MSE: 0.0408, Train MAE: 0.1396\n",
      "Epoch 1900 - Validation Loss: 2.4318, Validation MSE: 2.4313, Validation MAE: 1.1525\n"
     ]
    },
    {
     "name": "stderr",
     "output_type": "stream",
     "text": [
      "Training Epoch 1902: 100%|██████████| 499/499 [00:05<00:00, 90.41it/s]\n",
      "Training Epoch 1903: 100%|██████████| 499/499 [00:05<00:00, 88.44it/s]\n",
      "Training Epoch 1904: 100%|██████████| 499/499 [00:05<00:00, 91.75it/s]\n",
      "Training Epoch 1905: 100%|██████████| 499/499 [00:05<00:00, 91.71it/s]\n",
      "Training Epoch 1906: 100%|██████████| 499/499 [00:05<00:00, 89.81it/s]\n",
      "Training Epoch 1907: 100%|██████████| 499/499 [00:05<00:00, 88.07it/s]\n",
      "Training Epoch 1908: 100%|██████████| 499/499 [00:05<00:00, 90.31it/s]\n",
      "Training Epoch 1909: 100%|██████████| 499/499 [00:05<00:00, 89.74it/s]\n",
      "Training Epoch 1910: 100%|██████████| 499/499 [00:05<00:00, 91.55it/s]\n",
      "Training Epoch 1911: 100%|██████████| 499/499 [00:05<00:00, 91.00it/s]\n"
     ]
    },
    {
     "name": "stdout",
     "output_type": "stream",
     "text": [
      "Epoch 1910 - Train Loss: 0.0409, Train MSE: 0.0409, Train MAE: 0.1402\n",
      "Epoch 1910 - Validation Loss: 2.3916, Validation MSE: 2.3911, Validation MAE: 1.1457\n"
     ]
    },
    {
     "name": "stderr",
     "output_type": "stream",
     "text": [
      "Training Epoch 1912: 100%|██████████| 499/499 [00:05<00:00, 90.24it/s]\n",
      "Training Epoch 1913: 100%|██████████| 499/499 [00:05<00:00, 90.51it/s]\n",
      "Training Epoch 1914: 100%|██████████| 499/499 [00:05<00:00, 93.35it/s]\n",
      "Training Epoch 1915: 100%|██████████| 499/499 [00:05<00:00, 87.38it/s]\n",
      "Training Epoch 1916: 100%|██████████| 499/499 [00:05<00:00, 92.19it/s]\n",
      "Training Epoch 1917: 100%|██████████| 499/499 [00:05<00:00, 90.55it/s]\n",
      "Training Epoch 1918: 100%|██████████| 499/499 [00:05<00:00, 89.41it/s]\n",
      "Training Epoch 1919: 100%|██████████| 499/499 [00:05<00:00, 88.79it/s]\n",
      "Training Epoch 1920: 100%|██████████| 499/499 [00:05<00:00, 87.80it/s]\n",
      "Training Epoch 1921: 100%|██████████| 499/499 [00:05<00:00, 91.96it/s]\n"
     ]
    },
    {
     "name": "stdout",
     "output_type": "stream",
     "text": [
      "Epoch 1920 - Train Loss: 0.0434, Train MSE: 0.0434, Train MAE: 0.1410\n",
      "Epoch 1920 - Validation Loss: 2.3561, Validation MSE: 2.3561, Validation MAE: 1.1318\n"
     ]
    },
    {
     "name": "stderr",
     "output_type": "stream",
     "text": [
      "Training Epoch 1922: 100%|██████████| 499/499 [00:05<00:00, 91.05it/s]\n",
      "Training Epoch 1923: 100%|██████████| 499/499 [00:05<00:00, 91.34it/s]\n",
      "Training Epoch 1924: 100%|██████████| 499/499 [00:05<00:00, 89.24it/s]\n",
      "Training Epoch 1925: 100%|██████████| 499/499 [00:05<00:00, 92.52it/s]\n",
      "Training Epoch 1926: 100%|██████████| 499/499 [00:05<00:00, 88.20it/s]\n",
      "Training Epoch 1927: 100%|██████████| 499/499 [00:05<00:00, 91.00it/s]\n",
      "Training Epoch 1928: 100%|██████████| 499/499 [00:05<00:00, 89.82it/s]\n",
      "Training Epoch 1929: 100%|██████████| 499/499 [00:05<00:00, 88.73it/s]\n",
      "Training Epoch 1930: 100%|██████████| 499/499 [00:05<00:00, 91.79it/s]\n",
      "Training Epoch 1931: 100%|██████████| 499/499 [00:05<00:00, 89.22it/s]\n"
     ]
    },
    {
     "name": "stdout",
     "output_type": "stream",
     "text": [
      "Epoch 1930 - Train Loss: 0.0372, Train MSE: 0.0371, Train MAE: 0.1366\n",
      "Epoch 1930 - Validation Loss: 2.4015, Validation MSE: 2.4011, Validation MAE: 1.1454\n"
     ]
    },
    {
     "name": "stderr",
     "output_type": "stream",
     "text": [
      "Training Epoch 1932: 100%|██████████| 499/499 [00:05<00:00, 90.44it/s]\n",
      "Training Epoch 1933: 100%|██████████| 499/499 [00:05<00:00, 93.03it/s]\n",
      "Training Epoch 1934: 100%|██████████| 499/499 [00:05<00:00, 87.93it/s]\n",
      "Training Epoch 1935: 100%|██████████| 499/499 [00:05<00:00, 89.58it/s]\n",
      "Training Epoch 1936: 100%|██████████| 499/499 [00:05<00:00, 89.26it/s]\n",
      "Training Epoch 1937: 100%|██████████| 499/499 [00:05<00:00, 90.69it/s]\n",
      "Training Epoch 1938: 100%|██████████| 499/499 [00:05<00:00, 91.88it/s]\n",
      "Training Epoch 1939: 100%|██████████| 499/499 [00:05<00:00, 88.42it/s]\n",
      "Training Epoch 1940: 100%|██████████| 499/499 [00:05<00:00, 90.42it/s]\n",
      "Training Epoch 1941: 100%|██████████| 499/499 [00:05<00:00, 89.10it/s]\n"
     ]
    },
    {
     "name": "stdout",
     "output_type": "stream",
     "text": [
      "Epoch 1940 - Train Loss: 0.0369, Train MSE: 0.0369, Train MAE: 0.1359\n",
      "Epoch 1940 - Validation Loss: 2.4462, Validation MSE: 2.4458, Validation MAE: 1.1528\n"
     ]
    },
    {
     "name": "stderr",
     "output_type": "stream",
     "text": [
      "Training Epoch 1942: 100%|██████████| 499/499 [00:05<00:00, 91.19it/s]\n",
      "Training Epoch 1943: 100%|██████████| 499/499 [00:05<00:00, 90.18it/s]\n",
      "Training Epoch 1944: 100%|██████████| 499/499 [00:05<00:00, 91.10it/s]\n",
      "Training Epoch 1945: 100%|██████████| 499/499 [00:05<00:00, 89.55it/s]\n",
      "Training Epoch 1946: 100%|██████████| 499/499 [00:05<00:00, 92.16it/s]\n",
      "Training Epoch 1947: 100%|██████████| 499/499 [00:05<00:00, 89.39it/s]\n",
      "Training Epoch 1948: 100%|██████████| 499/499 [00:05<00:00, 90.57it/s]\n",
      "Training Epoch 1949: 100%|██████████| 499/499 [00:05<00:00, 90.49it/s]\n",
      "Training Epoch 1950: 100%|██████████| 499/499 [00:05<00:00, 88.47it/s]\n",
      "Training Epoch 1951: 100%|██████████| 499/499 [00:05<00:00, 92.05it/s]\n"
     ]
    },
    {
     "name": "stdout",
     "output_type": "stream",
     "text": [
      "Epoch 1950 - Train Loss: 0.0416, Train MSE: 0.0416, Train MAE: 0.1405\n",
      "Epoch 1950 - Validation Loss: 2.4550, Validation MSE: 2.4544, Validation MAE: 1.1620\n"
     ]
    },
    {
     "name": "stderr",
     "output_type": "stream",
     "text": [
      "Training Epoch 1952: 100%|██████████| 499/499 [00:05<00:00, 91.15it/s]\n",
      "Training Epoch 1953: 100%|██████████| 499/499 [00:05<00:00, 90.72it/s]\n",
      "Training Epoch 1954: 100%|██████████| 499/499 [00:05<00:00, 89.51it/s]\n",
      "Training Epoch 1955: 100%|██████████| 499/499 [00:05<00:00, 90.46it/s]\n",
      "Training Epoch 1956: 100%|██████████| 499/499 [00:05<00:00, 90.01it/s]\n",
      "Training Epoch 1957: 100%|██████████| 499/499 [00:05<00:00, 91.07it/s]\n",
      "Training Epoch 1958: 100%|██████████| 499/499 [00:05<00:00, 91.68it/s]\n",
      "Training Epoch 1959: 100%|██████████| 499/499 [00:05<00:00, 89.31it/s]\n",
      "Training Epoch 1960: 100%|██████████| 499/499 [00:05<00:00, 92.10it/s]\n",
      "Training Epoch 1961: 100%|██████████| 499/499 [00:05<00:00, 90.37it/s]\n"
     ]
    },
    {
     "name": "stdout",
     "output_type": "stream",
     "text": [
      "Epoch 1960 - Train Loss: 0.0377, Train MSE: 0.0377, Train MAE: 0.1366\n",
      "Epoch 1960 - Validation Loss: 2.3956, Validation MSE: 2.3956, Validation MAE: 1.1457\n"
     ]
    },
    {
     "name": "stderr",
     "output_type": "stream",
     "text": [
      "Training Epoch 1962: 100%|██████████| 499/499 [00:05<00:00, 88.90it/s]\n",
      "Training Epoch 1963: 100%|██████████| 499/499 [00:05<00:00, 91.61it/s]\n",
      "Training Epoch 1964: 100%|██████████| 499/499 [00:05<00:00, 92.05it/s]\n",
      "Training Epoch 1965: 100%|██████████| 499/499 [00:05<00:00, 90.42it/s]\n",
      "Training Epoch 1966: 100%|██████████| 499/499 [00:05<00:00, 92.06it/s]\n",
      "Training Epoch 1967: 100%|██████████| 499/499 [00:05<00:00, 89.56it/s]\n",
      "Training Epoch 1968: 100%|██████████| 499/499 [00:05<00:00, 91.97it/s]\n",
      "Training Epoch 1969: 100%|██████████| 499/499 [00:05<00:00, 90.33it/s]\n",
      "Training Epoch 1970: 100%|██████████| 499/499 [00:05<00:00, 90.25it/s]\n",
      "Training Epoch 1971: 100%|██████████| 499/499 [00:05<00:00, 91.16it/s]\n"
     ]
    },
    {
     "name": "stdout",
     "output_type": "stream",
     "text": [
      "Epoch 1970 - Train Loss: 0.0383, Train MSE: 0.0383, Train MAE: 0.1357\n",
      "Epoch 1970 - Validation Loss: 2.4175, Validation MSE: 2.4174, Validation MAE: 1.1466\n"
     ]
    },
    {
     "name": "stderr",
     "output_type": "stream",
     "text": [
      "Training Epoch 1972: 100%|██████████| 499/499 [00:05<00:00, 90.48it/s]\n",
      "Training Epoch 1973: 100%|██████████| 499/499 [00:05<00:00, 90.57it/s]\n",
      "Training Epoch 1974: 100%|██████████| 499/499 [00:05<00:00, 90.92it/s]\n",
      "Training Epoch 1975: 100%|██████████| 499/499 [00:05<00:00, 91.44it/s]\n",
      "Training Epoch 1976: 100%|██████████| 499/499 [00:05<00:00, 89.35it/s]\n",
      "Training Epoch 1977: 100%|██████████| 499/499 [00:05<00:00, 91.63it/s]\n",
      "Training Epoch 1978: 100%|██████████| 499/499 [00:05<00:00, 92.22it/s]\n",
      "Training Epoch 1979: 100%|██████████| 499/499 [00:05<00:00, 90.73it/s]\n",
      "Training Epoch 1980: 100%|██████████| 499/499 [00:05<00:00, 91.59it/s]\n",
      "Training Epoch 1981: 100%|██████████| 499/499 [00:05<00:00, 89.28it/s]\n"
     ]
    },
    {
     "name": "stdout",
     "output_type": "stream",
     "text": [
      "Epoch 1980 - Train Loss: 0.0383, Train MSE: 0.0383, Train MAE: 0.1367\n",
      "Epoch 1980 - Validation Loss: 2.4338, Validation MSE: 2.4335, Validation MAE: 1.1469\n"
     ]
    },
    {
     "name": "stderr",
     "output_type": "stream",
     "text": [
      "Training Epoch 1982: 100%|██████████| 499/499 [00:05<00:00, 88.07it/s]\n",
      "Training Epoch 1983: 100%|██████████| 499/499 [00:05<00:00, 90.59it/s]\n",
      "Training Epoch 1984: 100%|██████████| 499/499 [00:05<00:00, 91.75it/s]\n",
      "Training Epoch 1985: 100%|██████████| 499/499 [00:05<00:00, 87.93it/s]\n",
      "Training Epoch 1986: 100%|██████████| 499/499 [00:05<00:00, 90.72it/s]\n",
      "Training Epoch 1987: 100%|██████████| 499/499 [00:05<00:00, 89.83it/s]\n",
      "Training Epoch 1988: 100%|██████████| 499/499 [00:05<00:00, 89.66it/s]\n",
      "Training Epoch 1989: 100%|██████████| 499/499 [00:05<00:00, 90.17it/s]\n",
      "Training Epoch 1990: 100%|██████████| 499/499 [00:05<00:00, 90.08it/s]\n",
      "Training Epoch 1991: 100%|██████████| 499/499 [00:05<00:00, 90.81it/s]\n"
     ]
    },
    {
     "name": "stdout",
     "output_type": "stream",
     "text": [
      "Epoch 1990 - Train Loss: 0.0382, Train MSE: 0.0381, Train MAE: 0.1385\n",
      "Epoch 1990 - Validation Loss: 2.4059, Validation MSE: 2.4056, Validation MAE: 1.1426\n"
     ]
    },
    {
     "name": "stderr",
     "output_type": "stream",
     "text": [
      "Training Epoch 1992: 100%|██████████| 499/499 [00:05<00:00, 89.98it/s]\n",
      "Training Epoch 1993: 100%|██████████| 499/499 [00:05<00:00, 89.85it/s]\n",
      "Training Epoch 1994: 100%|██████████| 499/499 [00:05<00:00, 90.73it/s]\n",
      "Training Epoch 1995: 100%|██████████| 499/499 [00:05<00:00, 91.68it/s]\n",
      "Training Epoch 1996: 100%|██████████| 499/499 [00:05<00:00, 90.31it/s]\n",
      "Training Epoch 1997: 100%|██████████| 499/499 [00:05<00:00, 91.55it/s]\n",
      "Training Epoch 1998: 100%|██████████| 499/499 [00:05<00:00, 90.40it/s]\n",
      "Training Epoch 1999: 100%|██████████| 499/499 [00:05<00:00, 90.57it/s]\n",
      "Training Epoch 2000: 100%|██████████| 499/499 [00:05<00:00, 91.05it/s]\n"
     ]
    },
    {
     "name": "stdout",
     "output_type": "stream",
     "text": [
      "Test MSE: 2.1589, Test MAE: 1.0824\n"
     ]
    }
   ],
   "source": [
    "import torch\n",
    "import torch.nn as nn\n",
    "import torch.optim as optim\n",
    "from tqdm import tqdm\n",
    "import pandas as pd\n",
    "from sklearn.metrics import r2_score, median_absolute_error, explained_variance_score\n",
    "from scipy.stats import pearsonr\n",
    "\n",
    "\n",
    "train_history = pd.DataFrame(columns=[  'epoch',\n",
    "    'Train Loss', 'Train MSE', 'Train MAE', 'Train RMSE', 'Train R2', 'Train Pearson', 'Train Median_AE', 'Train Explained_VAR'\n",
    "    'Val Loss', 'Val MSE', 'Val MAE', 'Val RMSE', 'Val R2', 'Val Pearson', 'Val Median_AE', 'Val Explained_VAR'])\n",
    "# Verify feature dimensions\n",
    "for batch in train_loader:\n",
    "    mol_input_dim = batch['metabolite_features'].shape[1]  # Dynamically determine mol input dimension\n",
    "    protein_input_dim = batch['protein_features'].shape[1]  # Dynamically determine protein input dimension\n",
    "    break\n",
    "\n",
    "# Initialize model, optimizer, and loss function\n",
    "model = TransformerRegressor(mol_input_dim=mol_input_dim, protein_input_dim=protein_input_dim)\n",
    "model = model.to(device)\n",
    "optimizer = optim.Adam(model.parameters(), lr=0.0001)\n",
    "criterion = nn.MSELoss()\n",
    "\n",
    "# Training and Validation Loop\n",
    "for epoch in range(2000):\n",
    "    model.train()\n",
    "    total_loss = 0.0\n",
    "    val_total_loss = 0.0\n",
    "    train_predictions, train_labels = [], []\n",
    "\n",
    "    for batch in tqdm(train_loader, desc=f\"Training Epoch {epoch + 1}\"):\n",
    "        mol_features = batch['metabolite_features'].to(device)\n",
    "        protein_features = batch['protein_features'].to(device)\n",
    "        labels = batch['label'].to(device)\n",
    "\n",
    "        optimizer.zero_grad()\n",
    "        outputs = model(mol_features, protein_features)\n",
    "        loss = criterion(outputs, labels)\n",
    "        loss.backward()\n",
    "        optimizer.step()\n",
    "        total_loss += loss.item()\n",
    "\n",
    "        # Store predictions and labels for metrics\n",
    "        train_predictions.extend(outputs.detach().cpu().numpy())\n",
    "        train_labels.extend(labels.cpu().numpy())\n",
    "\n",
    "    # Calculate training metrics\n",
    "    train_mse = ((torch.tensor(train_predictions) - torch.tensor(train_labels))**2).mean().item()\n",
    "    train_mae = torch.abs(torch.tensor(train_predictions) - torch.tensor(train_labels)).mean().item()\n",
    "    train_rmse = torch.sqrt((torch.tensor(train_predictions) - torch.tensor(train_labels)) ** 2).mean().item()\n",
    "    train_r2 = r2_score(np.array(train_labels), np.array(train_predictions))\n",
    "    train_pearson_corr, _ = pearsonr(np.array(train_labels), np.array(train_predictions))\n",
    "    train_median_ae = median_absolute_error(np.array(train_labels), np.array(train_predictions))\n",
    "    train_explained_var = explained_variance_score(np.array(train_labels), np.array(train_predictions))\n",
    "\n",
    "\n",
    "\n",
    "    if epoch % 10 == 0:\n",
    "        print(f\"Epoch {epoch} - Train Loss: {total_loss / len(train_loader):.4f}, Train MSE: {train_mse:.4f}, Train MAE: {train_mae:.4f}\")\n",
    "\n",
    "    # Validation\n",
    "    model.eval()\n",
    "    val_predictions, val_labels = [], []\n",
    "    with torch.no_grad():\n",
    "        for batch in val_loader:\n",
    "            mol_features = batch['metabolite_features'].to(device)\n",
    "            protein_features = batch['protein_features'].to(device)\n",
    "            labels = batch['label'].to(device)\n",
    "\n",
    "            outputs = model(mol_features, protein_features)\n",
    "            val_predictions.extend(outputs.cpu().numpy())\n",
    "            val_labels.extend(labels.cpu().numpy())\n",
    "            val_loss = criterion(outputs, labels)\n",
    "            val_total_loss += val_loss.item()\n",
    "\n",
    "    val_mse = ((torch.tensor(val_predictions) - torch.tensor(val_labels))**2).mean().item()\n",
    "    val_mae = torch.abs(torch.tensor(val_predictions) - torch.tensor(val_labels)).mean().item()\n",
    "    val_rmse = torch.sqrt((torch.tensor(val_predictions) - torch.tensor(val_labels)) ** 2).mean().item()\n",
    "    val_r2 = r2_score(np.array(val_labels), np.array(val_predictions))\n",
    "    val_pearson_corr, _ = pearsonr(np.array(val_labels), np.array(val_predictions))\n",
    "    val_median_ae = median_absolute_error(np.array(val_labels), np.array(val_predictions))\n",
    "    val_explained_var = explained_variance_score(np.array(val_labels), np.array(val_predictions))\n",
    "\n",
    "    if epoch % 10 == 0:\n",
    "        print(f\"Epoch {epoch} - Validation Loss: {val_total_loss / len(val_loader):.4f}, Validation MSE: {val_mse:.4f}, Validation MAE: {val_mae:.4f}\")\n",
    "\n",
    "    # Save metrics to DataFrame\n",
    "    new_row = {'epoch': epoch + 1, 'Train Loss': total_loss / len(train_loader), 'Train MSE': train_mse, 'Train MAE': train_mae, 'Train RMSE': train_rmse, 'Train R2': train_r2, 'Train Pearson': train_pearson_corr, 'Train Median_AE': train_median_ae, 'Train Explained_VAR': train_explained_var, \n",
    "               'Val Loss': val_total_loss / len(val_loader), 'Val MSE': val_mse, 'Val MAE': val_mae, 'Val RMSE': val_rmse, 'Val R2': val_r2, 'Val Pearson': val_pearson_corr, 'Val Median_AE': val_median_ae, 'Val Explained_VAR': val_explained_var}\n",
    "    train_history = pd.concat([train_history, pd.DataFrame([new_row])], ignore_index=True)\n",
    "\n",
    "# Test Metrics\n",
    "model.eval()\n",
    "test_predictions, test_labels = [], []\n",
    "with torch.no_grad():\n",
    "    for batch in test_loader:\n",
    "        mol_features = batch['metabolite_features'].to(device)\n",
    "        protein_features = batch['protein_features'].to(device)\n",
    "        labels = batch['label'].to(device)\n",
    "\n",
    "        outputs = model(mol_features, protein_features)\n",
    "        test_predictions.extend(outputs.cpu().numpy())\n",
    "        test_labels.extend(labels.cpu().numpy())\n",
    "\n",
    "test_mse = ((torch.tensor(test_predictions) - torch.tensor(test_labels))**2).mean().item()\n",
    "test_mae = torch.abs(torch.tensor(test_predictions) - torch.tensor(test_labels)).mean().item()\n",
    "test_rmse = torch.sqrt((torch.tensor(test_predictions) - torch.tensor(test_labels)) ** 2).mean().item()\n",
    "test_r2 = r2_score(np.array(test_labels), np.array(test_predictions))\n",
    "test_pearson_corr, _ = pearsonr(np.array(test_labels), np.array(test_predictions))\n",
    "test_median_ae = median_absolute_error(np.array(test_labels), np.array(test_predictions))\n",
    "test_explained_var = explained_variance_score(np.array(test_labels), np.array(test_predictions))\n",
    "\n",
    "print(f\"Test MSE: {test_mse:.4f}, Test MAE: {test_mae:.4f}\")\n"
   ]
  },
  {
   "cell_type": "code",
   "execution_count": 10,
   "metadata": {},
   "outputs": [],
   "source": [
    "# append the performance to the csv file\n",
    "df = {\n",
    "    'Model':['Transformer','Transformer','Transformer'],\n",
    "    'Dataset':['Train','Validation','Test'],\n",
    "    'MSE':[train_history['Train MSE'].mean(),train_history['Val MSE'].mean(),test_mse],\n",
    "    'RMSE':[train_history['Train RMSE'].mean(),train_history['Val RMSE'].mean(),test_rmse],\n",
    "    'MAE':[train_history['Train MAE'].mean(),train_history['Val MAE'].mean(),test_mae],\n",
    "    'R2':[train_history['Train R2'].mean(),train_history['Val R2'].mean(),test_r2],\n",
    "    'Pearson':[train_history['Train Pearson'].mean(),train_history['Val Pearson'].mean(),test_pearson_corr],\n",
    "    'Median_AE':[train_history['Train Median_AE'].mean(),train_history['Val Median_AE'].mean(),test_median_ae],\n",
    "    'Explained_VAR':[train_history['Train Explained_VAR'].mean(),train_history['Val Explained_VAR'].mean(),test_explained_var],\n",
    "    'Dataspliting Mode':['cold protein','cold protein','cold protein']\n",
    "}\n",
    "df = pd.DataFrame(df)\n",
    "\n",
    "df.to_csv('/Users/pinchichen/2025S lab/AI drug project/Catpred/model performance metrics_Catpred.csv', mode='a', header=False)"
   ]
  },
  {
   "cell_type": "code",
   "execution_count": 11,
   "metadata": {},
   "outputs": [],
   "source": [
    "# Save the model and training history\n",
    "save_dir = '/Users/pinchichen/2025S lab/AI drug project/Catpred/trained_model/cold_protein'\n",
    "# save model weights and optimizer state\n",
    "torch.save(model.state_dict(), os.path.join(save_dir, 'Transformer model_Catpred_cold_protein.pt'))\n",
    "torch.save(optimizer.state_dict(), os.path.join(save_dir, 'Transformer optimizer_Catpred_cold_protein.pt'))"
   ]
  },
  {
   "cell_type": "code",
   "execution_count": 12,
   "metadata": {},
   "outputs": [
    {
     "name": "stderr",
     "output_type": "stream",
     "text": [
      "Training Epoch 1: 100%|██████████| 500/500 [00:05<00:00, 87.66it/s]\n",
      "/var/folders/yz/c1z6m9_d5d3f80sywjc3rqsc0000gn/T/ipykernel_18124/3620067097.py:83: FutureWarning: The behavior of DataFrame concatenation with empty or all-NA entries is deprecated. In a future version, this will no longer exclude empty or all-NA columns when determining the result dtypes. To retain the old behavior, exclude the relevant entries before the concat operation.\n",
      "  train_history_2 = pd.concat([train_history_2, pd.DataFrame([new_row])], ignore_index=True)\n"
     ]
    },
    {
     "name": "stdout",
     "output_type": "stream",
     "text": [
      "Epoch 0 - Train Loss: 2.6404, Train MSE: 2.6455, Train MAE: 1.2460\n",
      "Epoch 0 - Validation Loss: 2.5799, Validation MSE: 2.5912, Validation MAE: 1.2441\n"
     ]
    },
    {
     "name": "stderr",
     "output_type": "stream",
     "text": [
      "Training Epoch 2: 100%|██████████| 500/500 [00:05<00:00, 92.24it/s]\n",
      "Training Epoch 3: 100%|██████████| 500/500 [00:05<00:00, 90.44it/s]\n",
      "Training Epoch 4: 100%|██████████| 500/500 [00:05<00:00, 90.45it/s]\n",
      "Training Epoch 5: 100%|██████████| 500/500 [00:05<00:00, 92.01it/s]\n",
      "Training Epoch 6: 100%|██████████| 500/500 [00:05<00:00, 92.17it/s]\n",
      "Training Epoch 7: 100%|██████████| 500/500 [00:05<00:00, 91.29it/s]\n",
      "Training Epoch 8: 100%|██████████| 500/500 [00:05<00:00, 90.63it/s]\n",
      "Training Epoch 9: 100%|██████████| 500/500 [00:05<00:00, 92.49it/s]\n",
      "Training Epoch 10: 100%|██████████| 500/500 [00:05<00:00, 89.12it/s]\n",
      "Training Epoch 11: 100%|██████████| 500/500 [00:05<00:00, 92.44it/s]\n"
     ]
    },
    {
     "name": "stdout",
     "output_type": "stream",
     "text": [
      "Epoch 10 - Train Loss: 1.9739, Train MSE: 1.9756, Train MAE: 1.0636\n",
      "Epoch 10 - Validation Loss: 2.2424, Validation MSE: 2.2445, Validation MAE: 1.1361\n"
     ]
    },
    {
     "name": "stderr",
     "output_type": "stream",
     "text": [
      "Training Epoch 12: 100%|██████████| 500/500 [00:05<00:00, 91.35it/s]\n",
      "Training Epoch 13: 100%|██████████| 500/500 [00:05<00:00, 90.81it/s]\n",
      "Training Epoch 14: 100%|██████████| 500/500 [00:05<00:00, 91.12it/s]\n",
      "Training Epoch 15: 100%|██████████| 500/500 [00:05<00:00, 91.85it/s]\n",
      "Training Epoch 16: 100%|██████████| 500/500 [00:05<00:00, 91.23it/s]\n",
      "Training Epoch 17: 100%|██████████| 500/500 [00:05<00:00, 90.73it/s]\n",
      "Training Epoch 18: 100%|██████████| 500/500 [00:05<00:00, 91.59it/s]\n",
      "Training Epoch 19: 100%|██████████| 500/500 [00:05<00:00, 92.25it/s]\n",
      "Training Epoch 20: 100%|██████████| 500/500 [00:05<00:00, 90.81it/s]\n",
      "Training Epoch 21: 100%|██████████| 500/500 [00:05<00:00, 91.29it/s]\n"
     ]
    },
    {
     "name": "stdout",
     "output_type": "stream",
     "text": [
      "Epoch 20 - Train Loss: 1.6831, Train MSE: 1.6863, Train MAE: 0.9801\n",
      "Epoch 20 - Validation Loss: 2.1829, Validation MSE: 2.1762, Validation MAE: 1.1086\n"
     ]
    },
    {
     "name": "stderr",
     "output_type": "stream",
     "text": [
      "Training Epoch 22: 100%|██████████| 500/500 [00:05<00:00, 93.01it/s]\n",
      "Training Epoch 23: 100%|██████████| 500/500 [00:05<00:00, 91.35it/s]\n",
      "Training Epoch 24: 100%|██████████| 500/500 [00:05<00:00, 89.50it/s]\n",
      "Training Epoch 25: 100%|██████████| 500/500 [00:05<00:00, 91.06it/s]\n",
      "Training Epoch 26: 100%|██████████| 500/500 [00:05<00:00, 91.73it/s]\n",
      "Training Epoch 27: 100%|██████████| 500/500 [00:05<00:00, 90.64it/s]\n",
      "Training Epoch 28: 100%|██████████| 500/500 [00:05<00:00, 92.53it/s]\n",
      "Training Epoch 29: 100%|██████████| 500/500 [00:05<00:00, 90.49it/s]\n",
      "Training Epoch 30: 100%|██████████| 500/500 [00:05<00:00, 91.93it/s]\n",
      "Training Epoch 31: 100%|██████████| 500/500 [00:05<00:00, 91.14it/s]\n"
     ]
    },
    {
     "name": "stdout",
     "output_type": "stream",
     "text": [
      "Epoch 30 - Train Loss: 1.4320, Train MSE: 1.4273, Train MAE: 0.8954\n",
      "Epoch 30 - Validation Loss: 2.0555, Validation MSE: 2.0547, Validation MAE: 1.0632\n"
     ]
    },
    {
     "name": "stderr",
     "output_type": "stream",
     "text": [
      "Training Epoch 32: 100%|██████████| 500/500 [00:05<00:00, 90.54it/s]\n",
      "Training Epoch 33: 100%|██████████| 500/500 [00:05<00:00, 91.61it/s]\n",
      "Training Epoch 34: 100%|██████████| 500/500 [00:05<00:00, 90.79it/s]\n",
      "Training Epoch 35: 100%|██████████| 500/500 [00:05<00:00, 90.22it/s]\n",
      "Training Epoch 36: 100%|██████████| 500/500 [00:05<00:00, 91.47it/s]\n",
      "Training Epoch 37: 100%|██████████| 500/500 [00:05<00:00, 92.06it/s]\n",
      "Training Epoch 38: 100%|██████████| 500/500 [00:05<00:00, 90.74it/s]\n",
      "Training Epoch 39: 100%|██████████| 500/500 [00:05<00:00, 90.71it/s]\n",
      "Training Epoch 40: 100%|██████████| 500/500 [00:05<00:00, 90.30it/s]\n",
      "Training Epoch 41: 100%|██████████| 500/500 [00:05<00:00, 92.15it/s]\n"
     ]
    },
    {
     "name": "stdout",
     "output_type": "stream",
     "text": [
      "Epoch 40 - Train Loss: 1.2105, Train MSE: 1.2124, Train MAE: 0.8222\n",
      "Epoch 40 - Validation Loss: 1.9756, Validation MSE: 1.9627, Validation MAE: 1.0368\n"
     ]
    },
    {
     "name": "stderr",
     "output_type": "stream",
     "text": [
      "Training Epoch 42: 100%|██████████| 500/500 [00:05<00:00, 90.14it/s]\n",
      "Training Epoch 43: 100%|██████████| 500/500 [00:05<00:00, 90.67it/s]\n",
      "Training Epoch 44: 100%|██████████| 500/500 [00:05<00:00, 90.95it/s]\n",
      "Training Epoch 45: 100%|██████████| 500/500 [00:05<00:00, 92.28it/s]\n",
      "Training Epoch 46: 100%|██████████| 500/500 [00:05<00:00, 90.29it/s]\n",
      "Training Epoch 47: 100%|██████████| 500/500 [00:05<00:00, 93.30it/s]\n",
      "Training Epoch 48: 100%|██████████| 500/500 [00:05<00:00, 92.13it/s]\n",
      "Training Epoch 49: 100%|██████████| 500/500 [00:05<00:00, 89.92it/s]\n",
      "Training Epoch 50: 100%|██████████| 500/500 [00:05<00:00, 92.95it/s]\n",
      "Training Epoch 51: 100%|██████████| 500/500 [00:05<00:00, 90.06it/s]\n"
     ]
    },
    {
     "name": "stdout",
     "output_type": "stream",
     "text": [
      "Epoch 50 - Train Loss: 1.0302, Train MSE: 1.0316, Train MAE: 0.7598\n",
      "Epoch 50 - Validation Loss: 2.0430, Validation MSE: 2.0401, Validation MAE: 1.0391\n"
     ]
    },
    {
     "name": "stderr",
     "output_type": "stream",
     "text": [
      "Training Epoch 52: 100%|██████████| 500/500 [00:05<00:00, 90.75it/s]\n",
      "Training Epoch 53: 100%|██████████| 500/500 [00:05<00:00, 91.76it/s]\n",
      "Training Epoch 54: 100%|██████████| 500/500 [00:05<00:00, 91.88it/s]\n",
      "Training Epoch 55: 100%|██████████| 500/500 [00:05<00:00, 89.52it/s]\n",
      "Training Epoch 56: 100%|██████████| 500/500 [00:05<00:00, 92.76it/s]\n",
      "Training Epoch 57: 100%|██████████| 500/500 [00:05<00:00, 90.96it/s]\n",
      "Training Epoch 58: 100%|██████████| 500/500 [00:05<00:00, 93.06it/s]\n",
      "Training Epoch 59: 100%|██████████| 500/500 [00:05<00:00, 91.12it/s]\n",
      "Training Epoch 60: 100%|██████████| 500/500 [00:05<00:00, 91.85it/s]\n",
      "Training Epoch 61: 100%|██████████| 500/500 [00:05<00:00, 92.84it/s]\n"
     ]
    },
    {
     "name": "stdout",
     "output_type": "stream",
     "text": [
      "Epoch 60 - Train Loss: 0.8830, Train MSE: 0.8841, Train MAE: 0.7029\n",
      "Epoch 60 - Validation Loss: 1.9776, Validation MSE: 1.9692, Validation MAE: 1.0290\n"
     ]
    },
    {
     "name": "stderr",
     "output_type": "stream",
     "text": [
      "Training Epoch 62: 100%|██████████| 500/500 [00:05<00:00, 91.40it/s]\n",
      "Training Epoch 63: 100%|██████████| 500/500 [00:05<00:00, 92.05it/s]\n",
      "Training Epoch 64: 100%|██████████| 500/500 [00:05<00:00, 91.67it/s]\n",
      "Training Epoch 65: 100%|██████████| 500/500 [00:05<00:00, 92.47it/s]\n",
      "Training Epoch 66: 100%|██████████| 500/500 [00:05<00:00, 89.64it/s]\n",
      "Training Epoch 67: 100%|██████████| 500/500 [00:05<00:00, 91.47it/s]\n",
      "Training Epoch 68: 100%|██████████| 500/500 [00:05<00:00, 90.34it/s]\n",
      "Training Epoch 69: 100%|██████████| 500/500 [00:05<00:00, 91.05it/s]\n",
      "Training Epoch 70: 100%|██████████| 500/500 [00:05<00:00, 91.22it/s]\n",
      "Training Epoch 71: 100%|██████████| 500/500 [00:05<00:00, 91.47it/s]\n"
     ]
    },
    {
     "name": "stdout",
     "output_type": "stream",
     "text": [
      "Epoch 70 - Train Loss: 0.7461, Train MSE: 0.7409, Train MAE: 0.6413\n",
      "Epoch 70 - Validation Loss: 1.9445, Validation MSE: 1.9376, Validation MAE: 1.0014\n"
     ]
    },
    {
     "name": "stderr",
     "output_type": "stream",
     "text": [
      "Training Epoch 72: 100%|██████████| 500/500 [00:05<00:00, 90.04it/s]\n",
      "Training Epoch 73: 100%|██████████| 500/500 [00:05<00:00, 93.26it/s]\n",
      "Training Epoch 74: 100%|██████████| 500/500 [00:05<00:00, 91.14it/s]\n",
      "Training Epoch 75: 100%|██████████| 500/500 [00:05<00:00, 90.21it/s]\n",
      "Training Epoch 76: 100%|██████████| 500/500 [00:05<00:00, 90.57it/s]\n",
      "Training Epoch 77: 100%|██████████| 500/500 [00:05<00:00, 91.44it/s]\n",
      "Training Epoch 78: 100%|██████████| 500/500 [00:05<00:00, 89.41it/s]\n",
      "Training Epoch 79: 100%|██████████| 500/500 [00:05<00:00, 91.94it/s]\n",
      "Training Epoch 80: 100%|██████████| 500/500 [00:05<00:00, 89.51it/s]\n",
      "Training Epoch 81: 100%|██████████| 500/500 [00:05<00:00, 90.34it/s]\n"
     ]
    },
    {
     "name": "stdout",
     "output_type": "stream",
     "text": [
      "Epoch 80 - Train Loss: 0.6332, Train MSE: 0.6338, Train MAE: 0.5940\n",
      "Epoch 80 - Validation Loss: 1.9425, Validation MSE: 1.9395, Validation MAE: 1.0072\n"
     ]
    },
    {
     "name": "stderr",
     "output_type": "stream",
     "text": [
      "Training Epoch 82: 100%|██████████| 500/500 [00:05<00:00, 92.59it/s]\n",
      "Training Epoch 83: 100%|██████████| 500/500 [00:05<00:00, 91.01it/s]\n",
      "Training Epoch 84: 100%|██████████| 500/500 [00:05<00:00, 92.31it/s]\n",
      "Training Epoch 85: 100%|██████████| 500/500 [00:05<00:00, 91.11it/s]\n",
      "Training Epoch 86: 100%|██████████| 500/500 [00:05<00:00, 89.57it/s]\n",
      "Training Epoch 87: 100%|██████████| 500/500 [00:05<00:00, 91.24it/s]\n",
      "Training Epoch 88: 100%|██████████| 500/500 [00:05<00:00, 90.39it/s]\n",
      "Training Epoch 89: 100%|██████████| 500/500 [00:05<00:00, 90.98it/s]\n",
      "Training Epoch 90: 100%|██████████| 500/500 [00:05<00:00, 92.84it/s]\n",
      "Training Epoch 91: 100%|██████████| 500/500 [00:05<00:00, 89.71it/s]\n"
     ]
    },
    {
     "name": "stdout",
     "output_type": "stream",
     "text": [
      "Epoch 90 - Train Loss: 0.5985, Train MSE: 0.5985, Train MAE: 0.5729\n",
      "Epoch 90 - Validation Loss: 1.9537, Validation MSE: 1.9497, Validation MAE: 1.0066\n"
     ]
    },
    {
     "name": "stderr",
     "output_type": "stream",
     "text": [
      "Training Epoch 92: 100%|██████████| 500/500 [00:05<00:00, 91.83it/s]\n",
      "Training Epoch 93: 100%|██████████| 500/500 [00:05<00:00, 88.05it/s]\n",
      "Training Epoch 94: 100%|██████████| 500/500 [00:05<00:00, 91.35it/s]\n",
      "Training Epoch 95: 100%|██████████| 500/500 [00:05<00:00, 90.14it/s]\n",
      "Training Epoch 96: 100%|██████████| 500/500 [00:05<00:00, 92.69it/s]\n",
      "Training Epoch 97: 100%|██████████| 500/500 [00:05<00:00, 88.22it/s]\n",
      "Training Epoch 98: 100%|██████████| 500/500 [00:05<00:00, 92.57it/s]\n",
      "Training Epoch 99: 100%|██████████| 500/500 [00:05<00:00, 89.77it/s]\n",
      "Training Epoch 100: 100%|██████████| 500/500 [00:05<00:00, 90.24it/s]\n",
      "Training Epoch 101: 100%|██████████| 500/500 [00:05<00:00, 91.01it/s]\n"
     ]
    },
    {
     "name": "stdout",
     "output_type": "stream",
     "text": [
      "Epoch 100 - Train Loss: 0.4920, Train MSE: 0.4930, Train MAE: 0.5222\n",
      "Epoch 100 - Validation Loss: 1.8505, Validation MSE: 1.8481, Validation MAE: 0.9693\n"
     ]
    },
    {
     "name": "stderr",
     "output_type": "stream",
     "text": [
      "Training Epoch 102: 100%|██████████| 500/500 [00:05<00:00, 90.58it/s]\n",
      "Training Epoch 103: 100%|██████████| 500/500 [00:05<00:00, 91.75it/s]\n",
      "Training Epoch 104: 100%|██████████| 500/500 [00:05<00:00, 93.58it/s]\n",
      "Training Epoch 105: 100%|██████████| 500/500 [00:05<00:00, 90.71it/s]\n",
      "Training Epoch 106: 100%|██████████| 500/500 [00:05<00:00, 90.16it/s]\n",
      "Training Epoch 107: 100%|██████████| 500/500 [00:05<00:00, 91.90it/s]\n",
      "Training Epoch 108: 100%|██████████| 500/500 [00:05<00:00, 89.51it/s]\n",
      "Training Epoch 109: 100%|██████████| 500/500 [00:05<00:00, 91.65it/s]\n",
      "Training Epoch 110: 100%|██████████| 500/500 [00:05<00:00, 90.55it/s]\n",
      "Training Epoch 111: 100%|██████████| 500/500 [00:05<00:00, 91.83it/s]\n"
     ]
    },
    {
     "name": "stdout",
     "output_type": "stream",
     "text": [
      "Epoch 110 - Train Loss: 0.4397, Train MSE: 0.4398, Train MAE: 0.4931\n",
      "Epoch 110 - Validation Loss: 1.8177, Validation MSE: 1.8113, Validation MAE: 0.9691\n"
     ]
    },
    {
     "name": "stderr",
     "output_type": "stream",
     "text": [
      "Training Epoch 112: 100%|██████████| 500/500 [00:05<00:00, 90.29it/s]\n",
      "Training Epoch 113: 100%|██████████| 500/500 [00:05<00:00, 92.31it/s]\n",
      "Training Epoch 114: 100%|██████████| 500/500 [00:05<00:00, 90.52it/s]\n",
      "Training Epoch 115: 100%|██████████| 500/500 [00:05<00:00, 92.33it/s]\n",
      "Training Epoch 116: 100%|██████████| 500/500 [00:05<00:00, 90.81it/s]\n",
      "Training Epoch 117: 100%|██████████| 500/500 [00:05<00:00, 92.69it/s]\n",
      "Training Epoch 118: 100%|██████████| 500/500 [00:05<00:00, 90.87it/s]\n",
      "Training Epoch 119: 100%|██████████| 500/500 [00:05<00:00, 92.34it/s]\n",
      "Training Epoch 120: 100%|██████████| 500/500 [00:05<00:00, 91.30it/s]\n",
      "Training Epoch 121: 100%|██████████| 500/500 [00:05<00:00, 92.25it/s]\n"
     ]
    },
    {
     "name": "stdout",
     "output_type": "stream",
     "text": [
      "Epoch 120 - Train Loss: 0.4356, Train MSE: 0.4359, Train MAE: 0.4837\n",
      "Epoch 120 - Validation Loss: 1.8821, Validation MSE: 1.8782, Validation MAE: 0.9719\n"
     ]
    },
    {
     "name": "stderr",
     "output_type": "stream",
     "text": [
      "Training Epoch 122: 100%|██████████| 500/500 [00:05<00:00, 89.88it/s]\n",
      "Training Epoch 123: 100%|██████████| 500/500 [00:05<00:00, 89.94it/s]\n",
      "Training Epoch 124: 100%|██████████| 500/500 [00:05<00:00, 91.31it/s]\n",
      "Training Epoch 125: 100%|██████████| 500/500 [00:05<00:00, 89.03it/s]\n",
      "Training Epoch 126: 100%|██████████| 500/500 [00:05<00:00, 91.72it/s]\n",
      "Training Epoch 127: 100%|██████████| 500/500 [00:05<00:00, 91.62it/s]\n",
      "Training Epoch 128: 100%|██████████| 500/500 [00:05<00:00, 90.29it/s]\n",
      "Training Epoch 129: 100%|██████████| 500/500 [00:05<00:00, 90.33it/s]\n",
      "Training Epoch 130: 100%|██████████| 500/500 [00:05<00:00, 89.22it/s]\n",
      "Training Epoch 131: 100%|██████████| 500/500 [00:05<00:00, 91.88it/s]\n"
     ]
    },
    {
     "name": "stdout",
     "output_type": "stream",
     "text": [
      "Epoch 130 - Train Loss: 0.3634, Train MSE: 0.3639, Train MAE: 0.4487\n",
      "Epoch 130 - Validation Loss: 1.7904, Validation MSE: 1.7907, Validation MAE: 0.9600\n"
     ]
    },
    {
     "name": "stderr",
     "output_type": "stream",
     "text": [
      "Training Epoch 132: 100%|██████████| 500/500 [00:05<00:00, 90.98it/s]\n",
      "Training Epoch 133: 100%|██████████| 500/500 [00:05<00:00, 89.30it/s]\n",
      "Training Epoch 134: 100%|██████████| 500/500 [00:05<00:00, 90.33it/s]\n",
      "Training Epoch 135: 100%|██████████| 500/500 [00:05<00:00, 91.10it/s]\n",
      "Training Epoch 136: 100%|██████████| 500/500 [00:05<00:00, 90.26it/s]\n",
      "Training Epoch 137: 100%|██████████| 500/500 [00:05<00:00, 92.55it/s]\n",
      "Training Epoch 138: 100%|██████████| 500/500 [00:05<00:00, 90.80it/s]\n",
      "Training Epoch 139: 100%|██████████| 500/500 [00:05<00:00, 90.85it/s]\n",
      "Training Epoch 140: 100%|██████████| 500/500 [00:05<00:00, 90.21it/s]\n",
      "Training Epoch 141: 100%|██████████| 500/500 [00:05<00:00, 92.37it/s]\n"
     ]
    },
    {
     "name": "stdout",
     "output_type": "stream",
     "text": [
      "Epoch 140 - Train Loss: 0.3591, Train MSE: 0.3597, Train MAE: 0.4465\n",
      "Epoch 140 - Validation Loss: 1.8143, Validation MSE: 1.8080, Validation MAE: 0.9601\n"
     ]
    },
    {
     "name": "stderr",
     "output_type": "stream",
     "text": [
      "Training Epoch 142: 100%|██████████| 500/500 [00:05<00:00, 89.86it/s]\n",
      "Training Epoch 143: 100%|██████████| 500/500 [00:05<00:00, 92.02it/s]\n",
      "Training Epoch 144: 100%|██████████| 500/500 [00:05<00:00, 91.03it/s]\n",
      "Training Epoch 145: 100%|██████████| 500/500 [00:05<00:00, 91.24it/s]\n",
      "Training Epoch 146: 100%|██████████| 500/500 [00:05<00:00, 91.18it/s]\n",
      "Training Epoch 147: 100%|██████████| 500/500 [00:05<00:00, 90.64it/s]\n",
      "Training Epoch 148: 100%|██████████| 500/500 [00:05<00:00, 90.78it/s]\n",
      "Training Epoch 149: 100%|██████████| 500/500 [00:05<00:00, 93.07it/s]\n",
      "Training Epoch 150: 100%|██████████| 500/500 [00:05<00:00, 89.92it/s]\n",
      "Training Epoch 151: 100%|██████████| 500/500 [00:05<00:00, 91.76it/s]\n"
     ]
    },
    {
     "name": "stdout",
     "output_type": "stream",
     "text": [
      "Epoch 150 - Train Loss: 0.3244, Train MSE: 0.3248, Train MAE: 0.4190\n",
      "Epoch 150 - Validation Loss: 1.7288, Validation MSE: 1.7212, Validation MAE: 0.9425\n"
     ]
    },
    {
     "name": "stderr",
     "output_type": "stream",
     "text": [
      "Training Epoch 152: 100%|██████████| 500/500 [00:05<00:00, 91.56it/s]\n",
      "Training Epoch 153: 100%|██████████| 500/500 [00:05<00:00, 90.76it/s]\n",
      "Training Epoch 154: 100%|██████████| 500/500 [00:05<00:00, 91.65it/s]\n",
      "Training Epoch 155: 100%|██████████| 500/500 [00:05<00:00, 92.15it/s]\n",
      "Training Epoch 156: 100%|██████████| 500/500 [00:05<00:00, 91.79it/s]\n",
      "Training Epoch 157: 100%|██████████| 500/500 [00:05<00:00, 91.75it/s]\n",
      "Training Epoch 158: 100%|██████████| 500/500 [00:07<00:00, 71.05it/s]\n",
      "Training Epoch 159: 100%|██████████| 500/500 [00:05<00:00, 88.85it/s]\n",
      "Training Epoch 160: 100%|██████████| 500/500 [00:05<00:00, 87.48it/s]\n",
      "Training Epoch 161: 100%|██████████| 500/500 [00:05<00:00, 89.34it/s]\n"
     ]
    },
    {
     "name": "stdout",
     "output_type": "stream",
     "text": [
      "Epoch 160 - Train Loss: 0.3178, Train MSE: 0.3181, Train MAE: 0.4133\n",
      "Epoch 160 - Validation Loss: 1.8265, Validation MSE: 1.8209, Validation MAE: 0.9581\n"
     ]
    },
    {
     "name": "stderr",
     "output_type": "stream",
     "text": [
      "Training Epoch 162: 100%|██████████| 500/500 [00:05<00:00, 92.55it/s]\n",
      "Training Epoch 163: 100%|██████████| 500/500 [00:05<00:00, 90.52it/s]\n",
      "Training Epoch 164: 100%|██████████| 500/500 [00:05<00:00, 91.53it/s]\n",
      "Training Epoch 165: 100%|██████████| 500/500 [00:05<00:00, 91.55it/s]\n",
      "Training Epoch 166: 100%|██████████| 500/500 [00:05<00:00, 91.45it/s]\n",
      "Training Epoch 167: 100%|██████████| 500/500 [00:05<00:00, 90.41it/s]\n",
      "Training Epoch 168: 100%|██████████| 500/500 [00:05<00:00, 91.75it/s]\n",
      "Training Epoch 169: 100%|██████████| 500/500 [00:05<00:00, 90.47it/s]\n",
      "Training Epoch 170: 100%|██████████| 500/500 [00:05<00:00, 90.69it/s]\n",
      "Training Epoch 171: 100%|██████████| 500/500 [00:05<00:00, 92.16it/s]\n"
     ]
    },
    {
     "name": "stdout",
     "output_type": "stream",
     "text": [
      "Epoch 170 - Train Loss: 0.2869, Train MSE: 0.2874, Train MAE: 0.3964\n",
      "Epoch 170 - Validation Loss: 1.7662, Validation MSE: 1.7607, Validation MAE: 0.9406\n"
     ]
    },
    {
     "name": "stderr",
     "output_type": "stream",
     "text": [
      "Training Epoch 172: 100%|██████████| 500/500 [00:05<00:00, 89.54it/s]\n",
      "Training Epoch 173: 100%|██████████| 500/500 [00:05<00:00, 90.92it/s]\n",
      "Training Epoch 174: 100%|██████████| 500/500 [00:05<00:00, 92.26it/s]\n",
      "Training Epoch 175: 100%|██████████| 500/500 [00:05<00:00, 90.38it/s]\n",
      "Training Epoch 176: 100%|██████████| 500/500 [00:05<00:00, 91.30it/s]\n",
      "Training Epoch 177: 100%|██████████| 500/500 [00:05<00:00, 90.89it/s]\n",
      "Training Epoch 178: 100%|██████████| 500/500 [00:05<00:00, 90.33it/s]\n",
      "Training Epoch 179: 100%|██████████| 500/500 [00:05<00:00, 89.38it/s]\n",
      "Training Epoch 180: 100%|██████████| 500/500 [00:05<00:00, 91.18it/s]\n",
      "Training Epoch 181: 100%|██████████| 500/500 [00:05<00:00, 89.28it/s]\n"
     ]
    },
    {
     "name": "stdout",
     "output_type": "stream",
     "text": [
      "Epoch 180 - Train Loss: 0.2823, Train MSE: 0.2817, Train MAE: 0.3882\n",
      "Epoch 180 - Validation Loss: 1.7685, Validation MSE: 1.7663, Validation MAE: 0.9461\n"
     ]
    },
    {
     "name": "stderr",
     "output_type": "stream",
     "text": [
      "Training Epoch 182: 100%|██████████| 500/500 [00:05<00:00, 91.52it/s]\n",
      "Training Epoch 183: 100%|██████████| 500/500 [00:05<00:00, 90.11it/s]\n",
      "Training Epoch 184: 100%|██████████| 500/500 [00:05<00:00, 91.64it/s]\n",
      "Training Epoch 185: 100%|██████████| 500/500 [00:05<00:00, 92.04it/s]\n",
      "Training Epoch 186: 100%|██████████| 500/500 [00:05<00:00, 89.51it/s]\n",
      "Training Epoch 187: 100%|██████████| 500/500 [00:05<00:00, 90.00it/s]\n",
      "Training Epoch 188: 100%|██████████| 500/500 [00:05<00:00, 89.64it/s]\n",
      "Training Epoch 189: 100%|██████████| 500/500 [00:05<00:00, 88.75it/s]\n",
      "Training Epoch 190: 100%|██████████| 500/500 [00:05<00:00, 92.20it/s]\n",
      "Training Epoch 191: 100%|██████████| 500/500 [00:05<00:00, 90.54it/s]\n"
     ]
    },
    {
     "name": "stdout",
     "output_type": "stream",
     "text": [
      "Epoch 190 - Train Loss: 0.2526, Train MSE: 0.2530, Train MAE: 0.3657\n",
      "Epoch 190 - Validation Loss: 1.7283, Validation MSE: 1.7262, Validation MAE: 0.9349\n"
     ]
    },
    {
     "name": "stderr",
     "output_type": "stream",
     "text": [
      "Training Epoch 192: 100%|██████████| 500/500 [00:05<00:00, 90.83it/s]\n",
      "Training Epoch 193: 100%|██████████| 500/500 [00:05<00:00, 92.08it/s]\n",
      "Training Epoch 194: 100%|██████████| 500/500 [00:05<00:00, 90.13it/s]\n",
      "Training Epoch 195: 100%|██████████| 500/500 [00:05<00:00, 89.65it/s]\n",
      "Training Epoch 196: 100%|██████████| 500/500 [00:05<00:00, 92.06it/s]\n",
      "Training Epoch 197: 100%|██████████| 500/500 [00:05<00:00, 90.69it/s]\n",
      "Training Epoch 198: 100%|██████████| 500/500 [00:05<00:00, 91.57it/s]\n",
      "Training Epoch 199: 100%|██████████| 500/500 [00:05<00:00, 90.17it/s]\n",
      "Training Epoch 200: 100%|██████████| 500/500 [00:05<00:00, 89.87it/s]\n",
      "Training Epoch 201: 100%|██████████| 500/500 [00:05<00:00, 89.34it/s]\n"
     ]
    },
    {
     "name": "stdout",
     "output_type": "stream",
     "text": [
      "Epoch 200 - Train Loss: 0.2354, Train MSE: 0.2358, Train MAE: 0.3552\n",
      "Epoch 200 - Validation Loss: 1.8037, Validation MSE: 1.7976, Validation MAE: 0.9482\n"
     ]
    },
    {
     "name": "stderr",
     "output_type": "stream",
     "text": [
      "Training Epoch 202: 100%|██████████| 500/500 [00:05<00:00, 89.01it/s]\n",
      "Training Epoch 203: 100%|██████████| 500/500 [00:05<00:00, 90.91it/s]\n",
      "Training Epoch 204: 100%|██████████| 500/500 [00:05<00:00, 92.02it/s]\n",
      "Training Epoch 205: 100%|██████████| 500/500 [00:05<00:00, 90.67it/s]\n",
      "Training Epoch 206: 100%|██████████| 500/500 [00:05<00:00, 91.21it/s]\n",
      "Training Epoch 207: 100%|██████████| 500/500 [00:05<00:00, 90.49it/s]\n",
      "Training Epoch 208: 100%|██████████| 500/500 [00:05<00:00, 89.93it/s]\n",
      "Training Epoch 209: 100%|██████████| 500/500 [00:05<00:00, 91.83it/s]\n",
      "Training Epoch 210: 100%|██████████| 500/500 [00:05<00:00, 91.60it/s]\n",
      "Training Epoch 211: 100%|██████████| 500/500 [00:05<00:00, 91.18it/s]\n"
     ]
    },
    {
     "name": "stdout",
     "output_type": "stream",
     "text": [
      "Epoch 210 - Train Loss: 0.2428, Train MSE: 0.2405, Train MAE: 0.3585\n",
      "Epoch 210 - Validation Loss: 1.7446, Validation MSE: 1.7438, Validation MAE: 0.9322\n"
     ]
    },
    {
     "name": "stderr",
     "output_type": "stream",
     "text": [
      "Training Epoch 212: 100%|██████████| 500/500 [00:05<00:00, 91.68it/s]\n",
      "Training Epoch 213: 100%|██████████| 500/500 [00:05<00:00, 90.73it/s]\n",
      "Training Epoch 214: 100%|██████████| 500/500 [00:05<00:00, 89.83it/s]\n",
      "Training Epoch 215: 100%|██████████| 500/500 [00:05<00:00, 91.77it/s]\n",
      "Training Epoch 216: 100%|██████████| 500/500 [00:05<00:00, 90.98it/s]\n",
      "Training Epoch 217: 100%|██████████| 500/500 [00:05<00:00, 91.19it/s]\n",
      "Training Epoch 218: 100%|██████████| 500/500 [00:05<00:00, 91.26it/s]\n",
      "Training Epoch 219: 100%|██████████| 500/500 [00:05<00:00, 91.81it/s]\n",
      "Training Epoch 220: 100%|██████████| 500/500 [00:05<00:00, 89.48it/s]\n",
      "Training Epoch 221: 100%|██████████| 500/500 [00:05<00:00, 91.21it/s]\n"
     ]
    },
    {
     "name": "stdout",
     "output_type": "stream",
     "text": [
      "Epoch 220 - Train Loss: 0.2425, Train MSE: 0.2429, Train MAE: 0.3584\n",
      "Epoch 220 - Validation Loss: 1.6863, Validation MSE: 1.6806, Validation MAE: 0.9200\n"
     ]
    },
    {
     "name": "stderr",
     "output_type": "stream",
     "text": [
      "Training Epoch 222: 100%|██████████| 500/500 [00:05<00:00, 90.08it/s]\n",
      "Training Epoch 223: 100%|██████████| 500/500 [00:05<00:00, 90.39it/s]\n",
      "Training Epoch 224: 100%|██████████| 500/500 [00:05<00:00, 90.66it/s]\n",
      "Training Epoch 225: 100%|██████████| 500/500 [00:05<00:00, 90.04it/s]\n",
      "Training Epoch 226: 100%|██████████| 500/500 [00:05<00:00, 91.07it/s]\n",
      "Training Epoch 227: 100%|██████████| 500/500 [00:05<00:00, 92.90it/s]\n",
      "Training Epoch 228: 100%|██████████| 500/500 [00:05<00:00, 91.04it/s]\n",
      "Training Epoch 229: 100%|██████████| 500/500 [00:05<00:00, 90.31it/s]\n",
      "Training Epoch 230: 100%|██████████| 500/500 [00:05<00:00, 90.55it/s]\n",
      "Training Epoch 231: 100%|██████████| 500/500 [00:05<00:00, 90.73it/s]\n"
     ]
    },
    {
     "name": "stdout",
     "output_type": "stream",
     "text": [
      "Epoch 230 - Train Loss: 0.2146, Train MSE: 0.2144, Train MAE: 0.3405\n",
      "Epoch 230 - Validation Loss: 1.7174, Validation MSE: 1.7161, Validation MAE: 0.9230\n"
     ]
    },
    {
     "name": "stderr",
     "output_type": "stream",
     "text": [
      "Training Epoch 232: 100%|██████████| 500/500 [00:05<00:00, 89.96it/s]\n",
      "Training Epoch 233: 100%|██████████| 500/500 [00:05<00:00, 91.25it/s]\n",
      "Training Epoch 234: 100%|██████████| 500/500 [00:05<00:00, 90.94it/s]\n",
      "Training Epoch 235: 100%|██████████| 500/500 [00:05<00:00, 91.55it/s]\n",
      "Training Epoch 236: 100%|██████████| 500/500 [00:05<00:00, 90.23it/s]\n",
      "Training Epoch 237: 100%|██████████| 500/500 [00:05<00:00, 90.85it/s]\n",
      "Training Epoch 238: 100%|██████████| 500/500 [00:05<00:00, 90.39it/s]\n",
      "Training Epoch 239: 100%|██████████| 500/500 [00:05<00:00, 90.45it/s]\n",
      "Training Epoch 240: 100%|██████████| 500/500 [00:05<00:00, 91.29it/s]\n",
      "Training Epoch 241: 100%|██████████| 500/500 [00:05<00:00, 91.23it/s]\n"
     ]
    },
    {
     "name": "stdout",
     "output_type": "stream",
     "text": [
      "Epoch 240 - Train Loss: 0.1977, Train MSE: 0.1978, Train MAE: 0.3282\n",
      "Epoch 240 - Validation Loss: 1.6874, Validation MSE: 1.6798, Validation MAE: 0.9187\n"
     ]
    },
    {
     "name": "stderr",
     "output_type": "stream",
     "text": [
      "Training Epoch 242: 100%|██████████| 500/500 [00:05<00:00, 90.49it/s]\n",
      "Training Epoch 243: 100%|██████████| 500/500 [00:05<00:00, 90.77it/s]\n",
      "Training Epoch 244: 100%|██████████| 500/500 [00:05<00:00, 91.01it/s]\n",
      "Training Epoch 245: 100%|██████████| 500/500 [00:05<00:00, 89.40it/s]\n",
      "Training Epoch 246: 100%|██████████| 500/500 [00:05<00:00, 89.95it/s]\n",
      "Training Epoch 247: 100%|██████████| 500/500 [00:05<00:00, 91.79it/s]\n",
      "Training Epoch 248: 100%|██████████| 500/500 [00:05<00:00, 91.25it/s]\n",
      "Training Epoch 249: 100%|██████████| 500/500 [00:05<00:00, 91.48it/s]\n",
      "Training Epoch 250: 100%|██████████| 500/500 [00:05<00:00, 89.04it/s]\n",
      "Training Epoch 251: 100%|██████████| 500/500 [00:05<00:00, 93.07it/s]\n"
     ]
    },
    {
     "name": "stdout",
     "output_type": "stream",
     "text": [
      "Epoch 250 - Train Loss: 0.1955, Train MSE: 0.1954, Train MAE: 0.3244\n",
      "Epoch 250 - Validation Loss: 1.6398, Validation MSE: 1.6362, Validation MAE: 0.9056\n"
     ]
    },
    {
     "name": "stderr",
     "output_type": "stream",
     "text": [
      "Training Epoch 252: 100%|██████████| 500/500 [00:05<00:00, 90.54it/s]\n",
      "Training Epoch 253: 100%|██████████| 500/500 [00:05<00:00, 90.69it/s]\n",
      "Training Epoch 254: 100%|██████████| 500/500 [00:05<00:00, 89.58it/s]\n",
      "Training Epoch 255: 100%|██████████| 500/500 [00:05<00:00, 91.19it/s]\n",
      "Training Epoch 256: 100%|██████████| 500/500 [00:05<00:00, 91.36it/s]\n",
      "Training Epoch 257: 100%|██████████| 500/500 [00:05<00:00, 89.73it/s]\n",
      "Training Epoch 258: 100%|██████████| 500/500 [00:05<00:00, 91.02it/s]\n",
      "Training Epoch 259: 100%|██████████| 500/500 [00:05<00:00, 90.05it/s]\n",
      "Training Epoch 260: 100%|██████████| 500/500 [00:05<00:00, 90.24it/s]\n",
      "Training Epoch 261: 100%|██████████| 500/500 [00:05<00:00, 91.70it/s]\n"
     ]
    },
    {
     "name": "stdout",
     "output_type": "stream",
     "text": [
      "Epoch 260 - Train Loss: 0.2018, Train MSE: 0.2022, Train MAE: 0.3244\n",
      "Epoch 260 - Validation Loss: 1.6987, Validation MSE: 1.6956, Validation MAE: 0.9279\n"
     ]
    },
    {
     "name": "stderr",
     "output_type": "stream",
     "text": [
      "Training Epoch 262: 100%|██████████| 500/500 [00:05<00:00, 89.76it/s]\n",
      "Training Epoch 263: 100%|██████████| 500/500 [00:05<00:00, 92.20it/s]\n",
      "Training Epoch 264: 100%|██████████| 500/500 [00:05<00:00, 88.91it/s]\n",
      "Training Epoch 265: 100%|██████████| 500/500 [00:05<00:00, 89.42it/s]\n",
      "Training Epoch 266: 100%|██████████| 500/500 [00:05<00:00, 91.30it/s]\n",
      "Training Epoch 267: 100%|██████████| 500/500 [00:05<00:00, 90.50it/s]\n",
      "Training Epoch 268: 100%|██████████| 500/500 [00:05<00:00, 89.62it/s]\n",
      "Training Epoch 269: 100%|██████████| 500/500 [00:05<00:00, 92.51it/s]\n",
      "Training Epoch 270: 100%|██████████| 500/500 [00:05<00:00, 88.56it/s]\n",
      "Training Epoch 271: 100%|██████████| 500/500 [00:05<00:00, 90.70it/s]\n"
     ]
    },
    {
     "name": "stdout",
     "output_type": "stream",
     "text": [
      "Epoch 270 - Train Loss: 0.2260, Train MSE: 0.2264, Train MAE: 0.3395\n",
      "Epoch 270 - Validation Loss: 1.7390, Validation MSE: 1.7385, Validation MAE: 0.9113\n"
     ]
    },
    {
     "name": "stderr",
     "output_type": "stream",
     "text": [
      "Training Epoch 272: 100%|██████████| 500/500 [00:05<00:00, 91.34it/s]\n",
      "Training Epoch 273: 100%|██████████| 500/500 [00:05<00:00, 91.53it/s]\n",
      "Training Epoch 274: 100%|██████████| 500/500 [00:05<00:00, 89.54it/s]\n",
      "Training Epoch 275: 100%|██████████| 500/500 [00:05<00:00, 91.13it/s]\n",
      "Training Epoch 276: 100%|██████████| 500/500 [00:05<00:00, 89.49it/s]\n",
      "Training Epoch 277: 100%|██████████| 500/500 [00:05<00:00, 91.65it/s]\n",
      "Training Epoch 278: 100%|██████████| 500/500 [00:05<00:00, 89.75it/s]\n",
      "Training Epoch 279: 100%|██████████| 500/500 [00:05<00:00, 89.99it/s]\n",
      "Training Epoch 280: 100%|██████████| 500/500 [00:05<00:00, 90.67it/s]\n",
      "Training Epoch 281: 100%|██████████| 500/500 [00:05<00:00, 90.68it/s]\n"
     ]
    },
    {
     "name": "stdout",
     "output_type": "stream",
     "text": [
      "Epoch 280 - Train Loss: 0.1839, Train MSE: 0.1838, Train MAE: 0.3151\n",
      "Epoch 280 - Validation Loss: 1.7268, Validation MSE: 1.7235, Validation MAE: 0.9213\n"
     ]
    },
    {
     "name": "stderr",
     "output_type": "stream",
     "text": [
      "Training Epoch 282: 100%|██████████| 500/500 [00:05<00:00, 90.05it/s]\n",
      "Training Epoch 283: 100%|██████████| 500/500 [00:05<00:00, 91.25it/s]\n",
      "Training Epoch 284: 100%|██████████| 500/500 [00:05<00:00, 89.63it/s]\n",
      "Training Epoch 285: 100%|██████████| 500/500 [00:05<00:00, 92.01it/s]\n",
      "Training Epoch 286: 100%|██████████| 500/500 [00:05<00:00, 89.82it/s]\n",
      "Training Epoch 287: 100%|██████████| 500/500 [00:05<00:00, 90.21it/s]\n",
      "Training Epoch 288: 100%|██████████| 500/500 [00:05<00:00, 90.73it/s]\n",
      "Training Epoch 289: 100%|██████████| 500/500 [00:05<00:00, 91.55it/s]\n",
      "Training Epoch 290: 100%|██████████| 500/500 [00:05<00:00, 90.82it/s]\n",
      "Training Epoch 291: 100%|██████████| 500/500 [00:05<00:00, 90.53it/s]\n"
     ]
    },
    {
     "name": "stdout",
     "output_type": "stream",
     "text": [
      "Epoch 290 - Train Loss: 0.2402, Train MSE: 0.2407, Train MAE: 0.3528\n",
      "Epoch 290 - Validation Loss: 1.6975, Validation MSE: 1.6943, Validation MAE: 0.9158\n"
     ]
    },
    {
     "name": "stderr",
     "output_type": "stream",
     "text": [
      "Training Epoch 292: 100%|██████████| 500/500 [00:05<00:00, 89.69it/s]\n",
      "Training Epoch 293: 100%|██████████| 500/500 [00:05<00:00, 89.91it/s]\n",
      "Training Epoch 294: 100%|██████████| 500/500 [00:05<00:00, 89.83it/s]\n",
      "Training Epoch 295: 100%|██████████| 500/500 [00:05<00:00, 90.86it/s]\n",
      "Training Epoch 296: 100%|██████████| 500/500 [00:05<00:00, 91.37it/s]\n",
      "Training Epoch 297: 100%|██████████| 500/500 [00:05<00:00, 90.79it/s]\n",
      "Training Epoch 298: 100%|██████████| 500/500 [00:05<00:00, 88.25it/s]\n",
      "Training Epoch 299: 100%|██████████| 500/500 [00:05<00:00, 92.65it/s]\n",
      "Training Epoch 300: 100%|██████████| 500/500 [00:05<00:00, 90.28it/s]\n",
      "Training Epoch 301: 100%|██████████| 500/500 [00:05<00:00, 89.92it/s]\n"
     ]
    },
    {
     "name": "stdout",
     "output_type": "stream",
     "text": [
      "Epoch 300 - Train Loss: 0.1613, Train MSE: 0.1615, Train MAE: 0.2940\n",
      "Epoch 300 - Validation Loss: 1.6516, Validation MSE: 1.6491, Validation MAE: 0.9072\n"
     ]
    },
    {
     "name": "stderr",
     "output_type": "stream",
     "text": [
      "Training Epoch 302: 100%|██████████| 500/500 [00:05<00:00, 90.86it/s]\n",
      "Training Epoch 303: 100%|██████████| 500/500 [00:05<00:00, 90.80it/s]\n",
      "Training Epoch 304: 100%|██████████| 500/500 [00:05<00:00, 89.97it/s]\n",
      "Training Epoch 305: 100%|██████████| 500/500 [00:05<00:00, 90.99it/s]\n",
      "Training Epoch 306: 100%|██████████| 500/500 [00:05<00:00, 89.46it/s]\n",
      "Training Epoch 307: 100%|██████████| 500/500 [00:05<00:00, 90.70it/s]\n",
      "Training Epoch 308: 100%|██████████| 500/500 [00:05<00:00, 91.74it/s]\n",
      "Training Epoch 309: 100%|██████████| 500/500 [00:05<00:00, 90.81it/s]\n",
      "Training Epoch 310: 100%|██████████| 500/500 [00:05<00:00, 91.19it/s]\n",
      "Training Epoch 311: 100%|██████████| 500/500 [00:05<00:00, 91.61it/s]\n"
     ]
    },
    {
     "name": "stdout",
     "output_type": "stream",
     "text": [
      "Epoch 310 - Train Loss: 0.1675, Train MSE: 0.1678, Train MAE: 0.3021\n",
      "Epoch 310 - Validation Loss: 1.6344, Validation MSE: 1.6342, Validation MAE: 0.9077\n"
     ]
    },
    {
     "name": "stderr",
     "output_type": "stream",
     "text": [
      "Training Epoch 312: 100%|██████████| 500/500 [00:05<00:00, 89.28it/s]\n",
      "Training Epoch 313: 100%|██████████| 500/500 [00:05<00:00, 91.76it/s]\n",
      "Training Epoch 314: 100%|██████████| 500/500 [00:05<00:00, 89.25it/s]\n",
      "Training Epoch 315: 100%|██████████| 500/500 [00:05<00:00, 89.90it/s]\n",
      "Training Epoch 316: 100%|██████████| 500/500 [00:05<00:00, 90.13it/s]\n",
      "Training Epoch 317: 100%|██████████| 500/500 [00:05<00:00, 90.38it/s]\n",
      "Training Epoch 318: 100%|██████████| 500/500 [00:05<00:00, 91.94it/s]\n",
      "Training Epoch 319: 100%|██████████| 500/500 [00:05<00:00, 91.29it/s]\n",
      "Training Epoch 320: 100%|██████████| 500/500 [00:05<00:00, 90.34it/s]\n",
      "Training Epoch 321: 100%|██████████| 500/500 [00:05<00:00, 91.75it/s]\n"
     ]
    },
    {
     "name": "stdout",
     "output_type": "stream",
     "text": [
      "Epoch 320 - Train Loss: 0.1621, Train MSE: 0.1621, Train MAE: 0.2937\n",
      "Epoch 320 - Validation Loss: 1.6117, Validation MSE: 1.6070, Validation MAE: 0.8958\n"
     ]
    },
    {
     "name": "stderr",
     "output_type": "stream",
     "text": [
      "Training Epoch 322: 100%|██████████| 500/500 [00:05<00:00, 89.52it/s]\n",
      "Training Epoch 323: 100%|██████████| 500/500 [00:05<00:00, 90.11it/s]\n",
      "Training Epoch 324: 100%|██████████| 500/500 [00:05<00:00, 92.24it/s]\n",
      "Training Epoch 325: 100%|██████████| 500/500 [00:05<00:00, 91.71it/s]\n",
      "Training Epoch 326: 100%|██████████| 500/500 [00:05<00:00, 90.22it/s]\n",
      "Training Epoch 327: 100%|██████████| 500/500 [00:05<00:00, 90.92it/s]\n",
      "Training Epoch 328: 100%|██████████| 500/500 [00:05<00:00, 90.71it/s]\n",
      "Training Epoch 329: 100%|██████████| 500/500 [00:05<00:00, 90.87it/s]\n",
      "Training Epoch 330: 100%|██████████| 500/500 [00:05<00:00, 90.24it/s]\n",
      "Training Epoch 331: 100%|██████████| 500/500 [00:05<00:00, 90.94it/s]\n"
     ]
    },
    {
     "name": "stdout",
     "output_type": "stream",
     "text": [
      "Epoch 330 - Train Loss: 0.1579, Train MSE: 0.1581, Train MAE: 0.2885\n",
      "Epoch 330 - Validation Loss: 1.6143, Validation MSE: 1.6112, Validation MAE: 0.8903\n"
     ]
    },
    {
     "name": "stderr",
     "output_type": "stream",
     "text": [
      "Training Epoch 332: 100%|██████████| 500/500 [00:05<00:00, 91.02it/s]\n",
      "Training Epoch 333: 100%|██████████| 500/500 [00:05<00:00, 92.61it/s]\n",
      "Training Epoch 334: 100%|██████████| 500/500 [00:05<00:00, 90.25it/s]\n",
      "Training Epoch 335: 100%|██████████| 500/500 [00:05<00:00, 90.30it/s]\n",
      "Training Epoch 336: 100%|██████████| 500/500 [00:05<00:00, 90.38it/s]\n",
      "Training Epoch 337: 100%|██████████| 500/500 [00:05<00:00, 90.04it/s]\n",
      "Training Epoch 338: 100%|██████████| 500/500 [00:05<00:00, 91.74it/s]\n",
      "Training Epoch 339: 100%|██████████| 500/500 [00:05<00:00, 91.75it/s]\n",
      "Training Epoch 340: 100%|██████████| 500/500 [00:05<00:00, 89.99it/s]\n",
      "Training Epoch 341: 100%|██████████| 500/500 [00:05<00:00, 91.21it/s]\n"
     ]
    },
    {
     "name": "stdout",
     "output_type": "stream",
     "text": [
      "Epoch 340 - Train Loss: 0.1507, Train MSE: 0.1507, Train MAE: 0.2854\n",
      "Epoch 340 - Validation Loss: 1.7403, Validation MSE: 1.7373, Validation MAE: 0.9296\n"
     ]
    },
    {
     "name": "stderr",
     "output_type": "stream",
     "text": [
      "Training Epoch 342: 100%|██████████| 500/500 [00:05<00:00, 89.25it/s]\n",
      "Training Epoch 343: 100%|██████████| 500/500 [00:05<00:00, 91.35it/s]\n",
      "Training Epoch 344: 100%|██████████| 500/500 [00:05<00:00, 90.17it/s]\n",
      "Training Epoch 345: 100%|██████████| 500/500 [00:05<00:00, 90.72it/s]\n",
      "Training Epoch 346: 100%|██████████| 500/500 [00:05<00:00, 91.62it/s]\n",
      "Training Epoch 347: 100%|██████████| 500/500 [00:05<00:00, 90.15it/s]\n",
      "Training Epoch 348: 100%|██████████| 500/500 [00:05<00:00, 88.64it/s]\n",
      "Training Epoch 349: 100%|██████████| 500/500 [00:05<00:00, 89.39it/s]\n",
      "Training Epoch 350: 100%|██████████| 500/500 [00:05<00:00, 90.89it/s]\n",
      "Training Epoch 351: 100%|██████████| 500/500 [00:05<00:00, 91.12it/s]\n"
     ]
    },
    {
     "name": "stdout",
     "output_type": "stream",
     "text": [
      "Epoch 350 - Train Loss: 0.1512, Train MSE: 0.1515, Train MAE: 0.2845\n",
      "Epoch 350 - Validation Loss: 1.6411, Validation MSE: 1.6383, Validation MAE: 0.9037\n"
     ]
    },
    {
     "name": "stderr",
     "output_type": "stream",
     "text": [
      "Training Epoch 352: 100%|██████████| 500/500 [00:05<00:00, 91.69it/s]\n",
      "Training Epoch 353: 100%|██████████| 500/500 [00:05<00:00, 90.92it/s]\n",
      "Training Epoch 354: 100%|██████████| 500/500 [00:05<00:00, 90.02it/s]\n",
      "Training Epoch 355: 100%|██████████| 500/500 [00:05<00:00, 90.27it/s]\n",
      "Training Epoch 356: 100%|██████████| 500/500 [00:05<00:00, 89.15it/s]\n",
      "Training Epoch 357: 100%|██████████| 500/500 [00:05<00:00, 91.80it/s]\n",
      "Training Epoch 358: 100%|██████████| 500/500 [00:05<00:00, 90.57it/s]\n",
      "Training Epoch 359: 100%|██████████| 500/500 [00:05<00:00, 89.54it/s]\n",
      "Training Epoch 360: 100%|██████████| 500/500 [00:05<00:00, 91.00it/s]\n",
      "Training Epoch 361: 100%|██████████| 500/500 [00:05<00:00, 90.36it/s]\n"
     ]
    },
    {
     "name": "stdout",
     "output_type": "stream",
     "text": [
      "Epoch 360 - Train Loss: 0.1386, Train MSE: 0.1389, Train MAE: 0.2720\n",
      "Epoch 360 - Validation Loss: 1.6092, Validation MSE: 1.6046, Validation MAE: 0.8831\n"
     ]
    },
    {
     "name": "stderr",
     "output_type": "stream",
     "text": [
      "Training Epoch 362: 100%|██████████| 500/500 [00:05<00:00, 89.78it/s]\n",
      "Training Epoch 363: 100%|██████████| 500/500 [00:05<00:00, 91.65it/s]\n",
      "Training Epoch 364: 100%|██████████| 500/500 [00:05<00:00, 90.26it/s]\n",
      "Training Epoch 365: 100%|██████████| 500/500 [00:05<00:00, 90.01it/s]\n",
      "Training Epoch 366: 100%|██████████| 500/500 [00:05<00:00, 91.50it/s]\n",
      "Training Epoch 367: 100%|██████████| 500/500 [00:05<00:00, 91.31it/s]\n",
      "Training Epoch 368: 100%|██████████| 500/500 [00:05<00:00, 88.83it/s]\n",
      "Training Epoch 369: 100%|██████████| 500/500 [00:05<00:00, 92.85it/s]\n",
      "Training Epoch 370: 100%|██████████| 500/500 [00:05<00:00, 90.05it/s]\n",
      "Training Epoch 371: 100%|██████████| 500/500 [00:05<00:00, 91.98it/s]\n"
     ]
    },
    {
     "name": "stdout",
     "output_type": "stream",
     "text": [
      "Epoch 370 - Train Loss: 0.1446, Train MSE: 0.1449, Train MAE: 0.2724\n",
      "Epoch 370 - Validation Loss: 1.6095, Validation MSE: 1.6030, Validation MAE: 0.8895\n"
     ]
    },
    {
     "name": "stderr",
     "output_type": "stream",
     "text": [
      "Training Epoch 372: 100%|██████████| 500/500 [00:05<00:00, 91.91it/s]\n",
      "Training Epoch 373: 100%|██████████| 500/500 [00:05<00:00, 90.79it/s]\n",
      "Training Epoch 374: 100%|██████████| 500/500 [00:05<00:00, 90.49it/s]\n",
      "Training Epoch 375: 100%|██████████| 500/500 [00:05<00:00, 91.62it/s]\n",
      "Training Epoch 376: 100%|██████████| 500/500 [00:05<00:00, 88.65it/s]\n",
      "Training Epoch 377: 100%|██████████| 500/500 [00:05<00:00, 92.07it/s]\n",
      "Training Epoch 378: 100%|██████████| 500/500 [00:05<00:00, 89.90it/s]\n",
      "Training Epoch 379: 100%|██████████| 500/500 [00:05<00:00, 91.22it/s]\n",
      "Training Epoch 380: 100%|██████████| 500/500 [00:05<00:00, 90.35it/s]\n",
      "Training Epoch 381: 100%|██████████| 500/500 [00:05<00:00, 90.92it/s]\n"
     ]
    },
    {
     "name": "stdout",
     "output_type": "stream",
     "text": [
      "Epoch 380 - Train Loss: 0.1324, Train MSE: 0.1325, Train MAE: 0.2644\n",
      "Epoch 380 - Validation Loss: 1.6238, Validation MSE: 1.6208, Validation MAE: 0.8953\n"
     ]
    },
    {
     "name": "stderr",
     "output_type": "stream",
     "text": [
      "Training Epoch 382: 100%|██████████| 500/500 [00:05<00:00, 88.15it/s]\n",
      "Training Epoch 383: 100%|██████████| 500/500 [00:05<00:00, 91.25it/s]\n",
      "Training Epoch 384: 100%|██████████| 500/500 [00:05<00:00, 89.61it/s]\n",
      "Training Epoch 385: 100%|██████████| 500/500 [00:05<00:00, 91.66it/s]\n",
      "Training Epoch 386: 100%|██████████| 500/500 [00:05<00:00, 89.54it/s]\n",
      "Training Epoch 387: 100%|██████████| 500/500 [00:05<00:00, 88.69it/s]\n",
      "Training Epoch 388: 100%|██████████| 500/500 [00:05<00:00, 92.48it/s]\n",
      "Training Epoch 389: 100%|██████████| 500/500 [00:05<00:00, 90.92it/s]\n",
      "Training Epoch 390: 100%|██████████| 500/500 [00:05<00:00, 88.99it/s]\n",
      "Training Epoch 391: 100%|██████████| 500/500 [00:05<00:00, 89.30it/s]\n"
     ]
    },
    {
     "name": "stdout",
     "output_type": "stream",
     "text": [
      "Epoch 390 - Train Loss: 0.1337, Train MSE: 0.1339, Train MAE: 0.2650\n",
      "Epoch 390 - Validation Loss: 1.6472, Validation MSE: 1.6430, Validation MAE: 0.9026\n"
     ]
    },
    {
     "name": "stderr",
     "output_type": "stream",
     "text": [
      "Training Epoch 392: 100%|██████████| 500/500 [00:05<00:00, 91.46it/s]\n",
      "Training Epoch 393: 100%|██████████| 500/500 [00:05<00:00, 90.91it/s]\n",
      "Training Epoch 394: 100%|██████████| 500/500 [00:05<00:00, 91.33it/s]\n",
      "Training Epoch 395: 100%|██████████| 500/500 [00:05<00:00, 91.51it/s]\n",
      "Training Epoch 396: 100%|██████████| 500/500 [00:05<00:00, 89.61it/s]\n",
      "Training Epoch 397: 100%|██████████| 500/500 [00:05<00:00, 91.47it/s]\n",
      "Training Epoch 398: 100%|██████████| 500/500 [00:05<00:00, 91.11it/s]\n",
      "Training Epoch 399: 100%|██████████| 500/500 [00:05<00:00, 89.85it/s]\n",
      "Training Epoch 400: 100%|██████████| 500/500 [00:05<00:00, 89.84it/s]\n",
      "Training Epoch 401: 100%|██████████| 500/500 [00:05<00:00, 90.96it/s]\n"
     ]
    },
    {
     "name": "stdout",
     "output_type": "stream",
     "text": [
      "Epoch 400 - Train Loss: 0.1279, Train MSE: 0.1282, Train MAE: 0.2609\n",
      "Epoch 400 - Validation Loss: 1.5940, Validation MSE: 1.5907, Validation MAE: 0.8942\n"
     ]
    },
    {
     "name": "stderr",
     "output_type": "stream",
     "text": [
      "Training Epoch 402: 100%|██████████| 500/500 [00:05<00:00, 90.87it/s]\n",
      "Training Epoch 403: 100%|██████████| 500/500 [00:05<00:00, 91.58it/s]\n",
      "Training Epoch 404: 100%|██████████| 500/500 [00:05<00:00, 91.34it/s]\n",
      "Training Epoch 405: 100%|██████████| 500/500 [00:05<00:00, 92.19it/s]\n",
      "Training Epoch 406: 100%|██████████| 500/500 [00:05<00:00, 90.60it/s]\n",
      "Training Epoch 407: 100%|██████████| 500/500 [00:05<00:00, 90.37it/s]\n",
      "Training Epoch 408: 100%|██████████| 500/500 [00:05<00:00, 91.88it/s]\n",
      "Training Epoch 409: 100%|██████████| 500/500 [00:05<00:00, 90.33it/s]\n",
      "Training Epoch 410: 100%|██████████| 500/500 [00:05<00:00, 90.72it/s]\n",
      "Training Epoch 411: 100%|██████████| 500/500 [00:05<00:00, 90.60it/s]\n"
     ]
    },
    {
     "name": "stdout",
     "output_type": "stream",
     "text": [
      "Epoch 410 - Train Loss: 0.1231, Train MSE: 0.1233, Train MAE: 0.2553\n",
      "Epoch 410 - Validation Loss: 1.6041, Validation MSE: 1.5975, Validation MAE: 0.8958\n"
     ]
    },
    {
     "name": "stderr",
     "output_type": "stream",
     "text": [
      "Training Epoch 412: 100%|██████████| 500/500 [00:05<00:00, 90.03it/s]\n",
      "Training Epoch 413: 100%|██████████| 500/500 [00:05<00:00, 91.27it/s]\n",
      "Training Epoch 414: 100%|██████████| 500/500 [00:05<00:00, 91.53it/s]\n",
      "Training Epoch 415: 100%|██████████| 500/500 [00:05<00:00, 89.43it/s]\n",
      "Training Epoch 416: 100%|██████████| 500/500 [00:05<00:00, 91.38it/s]\n",
      "Training Epoch 417: 100%|██████████| 500/500 [00:05<00:00, 91.52it/s]\n",
      "Training Epoch 418: 100%|██████████| 500/500 [00:05<00:00, 91.09it/s]\n",
      "Training Epoch 419: 100%|██████████| 500/500 [00:05<00:00, 90.15it/s]\n",
      "Training Epoch 420: 100%|██████████| 500/500 [00:05<00:00, 89.26it/s]\n",
      "Training Epoch 421: 100%|██████████| 500/500 [00:05<00:00, 90.67it/s]\n"
     ]
    },
    {
     "name": "stdout",
     "output_type": "stream",
     "text": [
      "Epoch 420 - Train Loss: 0.1237, Train MSE: 0.1240, Train MAE: 0.2563\n",
      "Epoch 420 - Validation Loss: 1.5695, Validation MSE: 1.5647, Validation MAE: 0.8834\n"
     ]
    },
    {
     "name": "stderr",
     "output_type": "stream",
     "text": [
      "Training Epoch 422: 100%|██████████| 500/500 [00:05<00:00, 89.88it/s]\n",
      "Training Epoch 423: 100%|██████████| 500/500 [00:05<00:00, 92.54it/s]\n",
      "Training Epoch 424: 100%|██████████| 500/500 [00:05<00:00, 90.18it/s]\n",
      "Training Epoch 425: 100%|██████████| 500/500 [00:05<00:00, 90.64it/s]\n",
      "Training Epoch 426: 100%|██████████| 500/500 [00:05<00:00, 90.13it/s]\n",
      "Training Epoch 427: 100%|██████████| 500/500 [00:05<00:00, 92.83it/s]\n",
      "Training Epoch 428: 100%|██████████| 500/500 [00:05<00:00, 91.61it/s]\n",
      "Training Epoch 429: 100%|██████████| 500/500 [00:05<00:00, 91.54it/s]\n",
      "Training Epoch 430: 100%|██████████| 500/500 [00:05<00:00, 90.85it/s]\n",
      "Training Epoch 431: 100%|██████████| 500/500 [00:05<00:00, 92.03it/s]\n"
     ]
    },
    {
     "name": "stdout",
     "output_type": "stream",
     "text": [
      "Epoch 430 - Train Loss: 0.1391, Train MSE: 0.1393, Train MAE: 0.2658\n",
      "Epoch 430 - Validation Loss: 1.5654, Validation MSE: 1.5632, Validation MAE: 0.8777\n"
     ]
    },
    {
     "name": "stderr",
     "output_type": "stream",
     "text": [
      "Training Epoch 432: 100%|██████████| 500/500 [00:05<00:00, 88.96it/s]\n",
      "Training Epoch 433: 100%|██████████| 500/500 [00:05<00:00, 91.18it/s]\n",
      "Training Epoch 434: 100%|██████████| 500/500 [00:05<00:00, 88.96it/s]\n",
      "Training Epoch 435: 100%|██████████| 500/500 [00:05<00:00, 89.77it/s]\n",
      "Training Epoch 436: 100%|██████████| 500/500 [00:05<00:00, 89.57it/s]\n",
      "Training Epoch 437: 100%|██████████| 500/500 [00:05<00:00, 91.75it/s]\n",
      "Training Epoch 438: 100%|██████████| 500/500 [00:05<00:00, 89.58it/s]\n",
      "Training Epoch 439: 100%|██████████| 500/500 [00:05<00:00, 92.41it/s]\n",
      "Training Epoch 440: 100%|██████████| 500/500 [00:05<00:00, 89.80it/s]\n",
      "Training Epoch 441: 100%|██████████| 500/500 [00:05<00:00, 90.77it/s]\n"
     ]
    },
    {
     "name": "stdout",
     "output_type": "stream",
     "text": [
      "Epoch 440 - Train Loss: 0.1255, Train MSE: 0.1257, Train MAE: 0.2565\n",
      "Epoch 440 - Validation Loss: 1.5929, Validation MSE: 1.5931, Validation MAE: 0.8927\n"
     ]
    },
    {
     "name": "stderr",
     "output_type": "stream",
     "text": [
      "Training Epoch 442: 100%|██████████| 500/500 [00:05<00:00, 91.85it/s]\n",
      "Training Epoch 443: 100%|██████████| 500/500 [00:05<00:00, 89.36it/s]\n",
      "Training Epoch 444: 100%|██████████| 500/500 [00:05<00:00, 92.15it/s]\n",
      "Training Epoch 445: 100%|██████████| 500/500 [00:05<00:00, 91.42it/s]\n",
      "Training Epoch 446: 100%|██████████| 500/500 [00:05<00:00, 89.84it/s]\n",
      "Training Epoch 447: 100%|██████████| 500/500 [00:05<00:00, 91.68it/s]\n",
      "Training Epoch 448: 100%|██████████| 500/500 [00:05<00:00, 91.84it/s]\n",
      "Training Epoch 449: 100%|██████████| 500/500 [00:05<00:00, 90.11it/s]\n",
      "Training Epoch 450: 100%|██████████| 500/500 [00:05<00:00, 91.74it/s]\n",
      "Training Epoch 451: 100%|██████████| 500/500 [00:05<00:00, 91.90it/s]\n"
     ]
    },
    {
     "name": "stdout",
     "output_type": "stream",
     "text": [
      "Epoch 450 - Train Loss: 0.1190, Train MSE: 0.1191, Train MAE: 0.2494\n",
      "Epoch 450 - Validation Loss: 1.5996, Validation MSE: 1.6000, Validation MAE: 0.8855\n"
     ]
    },
    {
     "name": "stderr",
     "output_type": "stream",
     "text": [
      "Training Epoch 452: 100%|██████████| 500/500 [00:05<00:00, 92.10it/s]\n",
      "Training Epoch 453: 100%|██████████| 500/500 [00:05<00:00, 90.01it/s]\n",
      "Training Epoch 454: 100%|██████████| 500/500 [00:05<00:00, 91.43it/s]\n",
      "Training Epoch 455: 100%|██████████| 500/500 [00:05<00:00, 92.30it/s]\n",
      "Training Epoch 456: 100%|██████████| 500/500 [00:05<00:00, 91.99it/s]\n",
      "Training Epoch 457: 100%|██████████| 500/500 [00:05<00:00, 89.27it/s]\n",
      "Training Epoch 458: 100%|██████████| 500/500 [00:05<00:00, 91.51it/s]\n",
      "Training Epoch 459: 100%|██████████| 500/500 [00:05<00:00, 91.80it/s]\n",
      "Training Epoch 460: 100%|██████████| 500/500 [00:05<00:00, 88.99it/s]\n",
      "Training Epoch 461: 100%|██████████| 500/500 [00:05<00:00, 91.54it/s]\n"
     ]
    },
    {
     "name": "stdout",
     "output_type": "stream",
     "text": [
      "Epoch 460 - Train Loss: 0.1192, Train MSE: 0.1192, Train MAE: 0.2462\n",
      "Epoch 460 - Validation Loss: 1.6929, Validation MSE: 1.6908, Validation MAE: 0.9096\n"
     ]
    },
    {
     "name": "stderr",
     "output_type": "stream",
     "text": [
      "Training Epoch 462: 100%|██████████| 500/500 [00:05<00:00, 93.05it/s]\n",
      "Training Epoch 463: 100%|██████████| 500/500 [00:05<00:00, 89.50it/s]\n",
      "Training Epoch 464: 100%|██████████| 500/500 [00:05<00:00, 90.48it/s]\n",
      "Training Epoch 465: 100%|██████████| 500/500 [00:05<00:00, 91.49it/s]\n",
      "Training Epoch 466: 100%|██████████| 500/500 [00:05<00:00, 90.68it/s]\n",
      "Training Epoch 467: 100%|██████████| 500/500 [00:05<00:00, 91.63it/s]\n",
      "Training Epoch 468: 100%|██████████| 500/500 [00:05<00:00, 89.54it/s]\n",
      "Training Epoch 469: 100%|██████████| 500/500 [00:05<00:00, 92.48it/s]\n",
      "Training Epoch 470: 100%|██████████| 500/500 [00:05<00:00, 90.46it/s]\n",
      "Training Epoch 471: 100%|██████████| 500/500 [00:05<00:00, 91.17it/s]\n"
     ]
    },
    {
     "name": "stdout",
     "output_type": "stream",
     "text": [
      "Epoch 470 - Train Loss: 0.1095, Train MSE: 0.1096, Train MAE: 0.2404\n",
      "Epoch 470 - Validation Loss: 1.5862, Validation MSE: 1.5823, Validation MAE: 0.8845\n"
     ]
    },
    {
     "name": "stderr",
     "output_type": "stream",
     "text": [
      "Training Epoch 472: 100%|██████████| 500/500 [00:05<00:00, 90.93it/s]\n",
      "Training Epoch 473: 100%|██████████| 500/500 [00:05<00:00, 91.07it/s]\n",
      "Training Epoch 474: 100%|██████████| 500/500 [00:05<00:00, 91.76it/s]\n",
      "Training Epoch 475: 100%|██████████| 500/500 [00:05<00:00, 91.75it/s]\n",
      "Training Epoch 476: 100%|██████████| 500/500 [00:05<00:00, 91.69it/s]\n",
      "Training Epoch 477: 100%|██████████| 500/500 [00:05<00:00, 90.08it/s]\n",
      "Training Epoch 478: 100%|██████████| 500/500 [00:05<00:00, 90.86it/s]\n",
      "Training Epoch 479: 100%|██████████| 500/500 [00:05<00:00, 92.09it/s]\n",
      "Training Epoch 480: 100%|██████████| 500/500 [00:05<00:00, 91.11it/s]\n",
      "Training Epoch 481: 100%|██████████| 500/500 [00:05<00:00, 91.67it/s]\n"
     ]
    },
    {
     "name": "stdout",
     "output_type": "stream",
     "text": [
      "Epoch 480 - Train Loss: 0.1156, Train MSE: 0.1158, Train MAE: 0.2452\n",
      "Epoch 480 - Validation Loss: 1.5502, Validation MSE: 1.5438, Validation MAE: 0.8732\n"
     ]
    },
    {
     "name": "stderr",
     "output_type": "stream",
     "text": [
      "Training Epoch 482: 100%|██████████| 500/500 [00:05<00:00, 89.69it/s]\n",
      "Training Epoch 483: 100%|██████████| 500/500 [00:05<00:00, 91.92it/s]\n",
      "Training Epoch 484: 100%|██████████| 500/500 [00:05<00:00, 90.49it/s]\n",
      "Training Epoch 485: 100%|██████████| 500/500 [00:05<00:00, 91.56it/s]\n",
      "Training Epoch 486: 100%|██████████| 500/500 [00:05<00:00, 92.07it/s]\n",
      "Training Epoch 487: 100%|██████████| 500/500 [00:05<00:00, 91.17it/s]\n",
      "Training Epoch 488: 100%|██████████| 500/500 [00:05<00:00, 91.25it/s]\n",
      "Training Epoch 489: 100%|██████████| 500/500 [00:05<00:00, 91.86it/s]\n",
      "Training Epoch 490: 100%|██████████| 500/500 [00:05<00:00, 91.41it/s]\n",
      "Training Epoch 491: 100%|██████████| 500/500 [00:05<00:00, 90.09it/s]\n"
     ]
    },
    {
     "name": "stdout",
     "output_type": "stream",
     "text": [
      "Epoch 490 - Train Loss: 0.1110, Train MSE: 0.1110, Train MAE: 0.2407\n",
      "Epoch 490 - Validation Loss: 1.5904, Validation MSE: 1.5902, Validation MAE: 0.8873\n"
     ]
    },
    {
     "name": "stderr",
     "output_type": "stream",
     "text": [
      "Training Epoch 492: 100%|██████████| 500/500 [00:05<00:00, 90.65it/s]\n",
      "Training Epoch 493: 100%|██████████| 500/500 [00:05<00:00, 92.46it/s]\n",
      "Training Epoch 494: 100%|██████████| 500/500 [00:05<00:00, 89.72it/s]\n",
      "Training Epoch 495: 100%|██████████| 500/500 [00:05<00:00, 89.83it/s]\n",
      "Training Epoch 496: 100%|██████████| 500/500 [00:05<00:00, 91.37it/s]\n",
      "Training Epoch 497: 100%|██████████| 500/500 [00:05<00:00, 91.64it/s]\n",
      "Training Epoch 498: 100%|██████████| 500/500 [00:05<00:00, 90.87it/s]\n",
      "Training Epoch 499: 100%|██████████| 500/500 [00:05<00:00, 91.94it/s]\n",
      "Training Epoch 500: 100%|██████████| 500/500 [00:05<00:00, 90.05it/s]\n",
      "Training Epoch 501: 100%|██████████| 500/500 [00:05<00:00, 90.65it/s]\n"
     ]
    },
    {
     "name": "stdout",
     "output_type": "stream",
     "text": [
      "Epoch 500 - Train Loss: 0.1055, Train MSE: 0.1057, Train MAE: 0.2364\n",
      "Epoch 500 - Validation Loss: 1.5508, Validation MSE: 1.5503, Validation MAE: 0.8728\n"
     ]
    },
    {
     "name": "stderr",
     "output_type": "stream",
     "text": [
      "Training Epoch 502: 100%|██████████| 500/500 [00:05<00:00, 91.45it/s]\n",
      "Training Epoch 503: 100%|██████████| 500/500 [00:05<00:00, 92.61it/s]\n",
      "Training Epoch 504: 100%|██████████| 500/500 [00:05<00:00, 89.47it/s]\n",
      "Training Epoch 505: 100%|██████████| 500/500 [00:05<00:00, 90.03it/s]\n",
      "Training Epoch 506: 100%|██████████| 500/500 [00:05<00:00, 91.63it/s]\n",
      "Training Epoch 507: 100%|██████████| 500/500 [00:05<00:00, 91.35it/s]\n",
      "Training Epoch 508: 100%|██████████| 500/500 [00:05<00:00, 90.18it/s]\n",
      "Training Epoch 509: 100%|██████████| 500/500 [00:05<00:00, 93.31it/s]\n",
      "Training Epoch 510: 100%|██████████| 500/500 [00:05<00:00, 91.48it/s]\n",
      "Training Epoch 511: 100%|██████████| 500/500 [00:05<00:00, 92.15it/s]\n"
     ]
    },
    {
     "name": "stdout",
     "output_type": "stream",
     "text": [
      "Epoch 510 - Train Loss: 0.1111, Train MSE: 0.1113, Train MAE: 0.2381\n",
      "Epoch 510 - Validation Loss: 1.5632, Validation MSE: 1.5648, Validation MAE: 0.8771\n"
     ]
    },
    {
     "name": "stderr",
     "output_type": "stream",
     "text": [
      "Training Epoch 512: 100%|██████████| 500/500 [00:05<00:00, 91.93it/s]\n",
      "Training Epoch 513: 100%|██████████| 500/500 [00:05<00:00, 90.14it/s]\n",
      "Training Epoch 514: 100%|██████████| 500/500 [00:05<00:00, 90.95it/s]\n",
      "Training Epoch 515: 100%|██████████| 500/500 [00:05<00:00, 92.75it/s]\n",
      "Training Epoch 516: 100%|██████████| 500/500 [00:05<00:00, 90.45it/s]\n",
      "Training Epoch 517: 100%|██████████| 500/500 [00:05<00:00, 90.53it/s]\n",
      "Training Epoch 518: 100%|██████████| 500/500 [00:05<00:00, 90.96it/s]\n",
      "Training Epoch 519: 100%|██████████| 500/500 [00:05<00:00, 88.79it/s]\n",
      "Training Epoch 520: 100%|██████████| 500/500 [00:05<00:00, 92.50it/s]\n",
      "Training Epoch 521: 100%|██████████| 500/500 [00:05<00:00, 92.03it/s]\n"
     ]
    },
    {
     "name": "stdout",
     "output_type": "stream",
     "text": [
      "Epoch 520 - Train Loss: 0.1025, Train MSE: 0.1027, Train MAE: 0.2324\n",
      "Epoch 520 - Validation Loss: 1.5547, Validation MSE: 1.5558, Validation MAE: 0.8748\n"
     ]
    },
    {
     "name": "stderr",
     "output_type": "stream",
     "text": [
      "Training Epoch 522: 100%|██████████| 500/500 [00:05<00:00, 89.78it/s]\n",
      "Training Epoch 523: 100%|██████████| 500/500 [00:05<00:00, 91.02it/s]\n",
      "Training Epoch 524: 100%|██████████| 500/500 [00:05<00:00, 90.87it/s]\n",
      "Training Epoch 525: 100%|██████████| 500/500 [00:05<00:00, 93.11it/s]\n",
      "Training Epoch 526: 100%|██████████| 500/500 [00:05<00:00, 92.01it/s]\n",
      "Training Epoch 527: 100%|██████████| 500/500 [00:05<00:00, 90.08it/s]\n",
      "Training Epoch 528: 100%|██████████| 500/500 [00:05<00:00, 93.12it/s]\n",
      "Training Epoch 529: 100%|██████████| 500/500 [00:05<00:00, 91.00it/s]\n",
      "Training Epoch 530: 100%|██████████| 500/500 [00:05<00:00, 90.46it/s]\n",
      "Training Epoch 531: 100%|██████████| 500/500 [00:05<00:00, 91.37it/s]\n"
     ]
    },
    {
     "name": "stdout",
     "output_type": "stream",
     "text": [
      "Epoch 530 - Train Loss: 0.0948, Train MSE: 0.0949, Train MAE: 0.2228\n",
      "Epoch 530 - Validation Loss: 1.5512, Validation MSE: 1.5532, Validation MAE: 0.8728\n"
     ]
    },
    {
     "name": "stderr",
     "output_type": "stream",
     "text": [
      "Training Epoch 532: 100%|██████████| 500/500 [00:05<00:00, 92.50it/s]\n",
      "Training Epoch 533: 100%|██████████| 500/500 [00:05<00:00, 91.09it/s]\n",
      "Training Epoch 534: 100%|██████████| 500/500 [00:05<00:00, 91.43it/s]\n",
      "Training Epoch 535: 100%|██████████| 500/500 [00:05<00:00, 90.74it/s]\n",
      "Training Epoch 536: 100%|██████████| 500/500 [00:05<00:00, 90.71it/s]\n",
      "Training Epoch 537: 100%|██████████| 500/500 [00:05<00:00, 91.65it/s]\n",
      "Training Epoch 538: 100%|██████████| 500/500 [00:05<00:00, 91.37it/s]\n",
      "Training Epoch 539: 100%|██████████| 500/500 [00:05<00:00, 91.40it/s]\n",
      "Training Epoch 540: 100%|██████████| 500/500 [00:05<00:00, 91.31it/s]\n",
      "Training Epoch 541: 100%|██████████| 500/500 [00:05<00:00, 90.30it/s]\n"
     ]
    },
    {
     "name": "stdout",
     "output_type": "stream",
     "text": [
      "Epoch 540 - Train Loss: 0.0988, Train MSE: 0.0989, Train MAE: 0.2283\n",
      "Epoch 540 - Validation Loss: 1.5704, Validation MSE: 1.5664, Validation MAE: 0.8790\n"
     ]
    },
    {
     "name": "stderr",
     "output_type": "stream",
     "text": [
      "Training Epoch 542: 100%|██████████| 500/500 [00:05<00:00, 90.48it/s]\n",
      "Training Epoch 543: 100%|██████████| 500/500 [00:05<00:00, 92.78it/s]\n",
      "Training Epoch 544: 100%|██████████| 500/500 [00:05<00:00, 90.34it/s]\n",
      "Training Epoch 545: 100%|██████████| 500/500 [00:05<00:00, 90.92it/s]\n",
      "Training Epoch 546: 100%|██████████| 500/500 [00:05<00:00, 91.52it/s]\n",
      "Training Epoch 547: 100%|██████████| 500/500 [00:05<00:00, 89.57it/s]\n",
      "Training Epoch 548: 100%|██████████| 500/500 [00:05<00:00, 90.37it/s]\n",
      "Training Epoch 549: 100%|██████████| 500/500 [00:05<00:00, 91.18it/s]\n",
      "Training Epoch 550: 100%|██████████| 500/500 [00:05<00:00, 91.39it/s]\n",
      "Training Epoch 551: 100%|██████████| 500/500 [00:05<00:00, 92.02it/s]\n"
     ]
    },
    {
     "name": "stdout",
     "output_type": "stream",
     "text": [
      "Epoch 550 - Train Loss: 0.1176, Train MSE: 0.1177, Train MAE: 0.2411\n",
      "Epoch 550 - Validation Loss: 1.5516, Validation MSE: 1.5559, Validation MAE: 0.8763\n"
     ]
    },
    {
     "name": "stderr",
     "output_type": "stream",
     "text": [
      "Training Epoch 552: 100%|██████████| 500/500 [00:05<00:00, 92.29it/s]\n",
      "Training Epoch 553: 100%|██████████| 500/500 [00:05<00:00, 91.25it/s]\n",
      "Training Epoch 554: 100%|██████████| 500/500 [00:05<00:00, 89.84it/s]\n",
      "Training Epoch 555: 100%|██████████| 500/500 [00:05<00:00, 89.58it/s]\n",
      "Training Epoch 556: 100%|██████████| 500/500 [00:05<00:00, 91.67it/s]\n",
      "Training Epoch 557: 100%|██████████| 500/500 [00:05<00:00, 92.51it/s]\n",
      "Training Epoch 558: 100%|██████████| 500/500 [00:05<00:00, 89.84it/s]\n",
      "Training Epoch 559: 100%|██████████| 500/500 [00:05<00:00, 91.92it/s]\n",
      "Training Epoch 560: 100%|██████████| 500/500 [00:05<00:00, 92.33it/s]\n",
      "Training Epoch 561: 100%|██████████| 500/500 [00:05<00:00, 92.10it/s]\n"
     ]
    },
    {
     "name": "stdout",
     "output_type": "stream",
     "text": [
      "Epoch 560 - Train Loss: 0.0962, Train MSE: 0.0962, Train MAE: 0.2254\n",
      "Epoch 560 - Validation Loss: 1.5618, Validation MSE: 1.5642, Validation MAE: 0.8769\n"
     ]
    },
    {
     "name": "stderr",
     "output_type": "stream",
     "text": [
      "Training Epoch 562: 100%|██████████| 500/500 [00:05<00:00, 90.91it/s]\n",
      "Training Epoch 563: 100%|██████████| 500/500 [00:05<00:00, 92.10it/s]\n",
      "Training Epoch 564: 100%|██████████| 500/500 [00:05<00:00, 90.22it/s]\n",
      "Training Epoch 565: 100%|██████████| 500/500 [00:05<00:00, 93.48it/s]\n",
      "Training Epoch 566: 100%|██████████| 500/500 [00:05<00:00, 91.91it/s]\n",
      "Training Epoch 567: 100%|██████████| 500/500 [00:05<00:00, 91.20it/s]\n",
      "Training Epoch 568: 100%|██████████| 500/500 [00:05<00:00, 90.23it/s]\n",
      "Training Epoch 569: 100%|██████████| 500/500 [00:05<00:00, 90.55it/s]\n",
      "Training Epoch 570: 100%|██████████| 500/500 [00:05<00:00, 91.00it/s]\n",
      "Training Epoch 571: 100%|██████████| 500/500 [00:05<00:00, 91.38it/s]\n"
     ]
    },
    {
     "name": "stdout",
     "output_type": "stream",
     "text": [
      "Epoch 570 - Train Loss: 0.0995, Train MSE: 0.0967, Train MAE: 0.2256\n",
      "Epoch 570 - Validation Loss: 1.5508, Validation MSE: 1.5489, Validation MAE: 0.8722\n"
     ]
    },
    {
     "name": "stderr",
     "output_type": "stream",
     "text": [
      "Training Epoch 572: 100%|██████████| 500/500 [00:05<00:00, 90.04it/s]\n",
      "Training Epoch 573: 100%|██████████| 500/500 [00:05<00:00, 92.09it/s]\n",
      "Training Epoch 574: 100%|██████████| 500/500 [00:05<00:00, 92.25it/s]\n",
      "Training Epoch 575: 100%|██████████| 500/500 [00:05<00:00, 91.74it/s]\n",
      "Training Epoch 576: 100%|██████████| 500/500 [00:05<00:00, 90.96it/s]\n",
      "Training Epoch 577: 100%|██████████| 500/500 [00:05<00:00, 90.20it/s]\n",
      "Training Epoch 578: 100%|██████████| 500/500 [00:05<00:00, 91.28it/s]\n",
      "Training Epoch 579: 100%|██████████| 500/500 [00:05<00:00, 90.64it/s]\n",
      "Training Epoch 580: 100%|██████████| 500/500 [00:05<00:00, 91.67it/s]\n",
      "Training Epoch 581: 100%|██████████| 500/500 [00:05<00:00, 90.83it/s]\n"
     ]
    },
    {
     "name": "stdout",
     "output_type": "stream",
     "text": [
      "Epoch 580 - Train Loss: 0.0896, Train MSE: 0.0898, Train MAE: 0.2160\n",
      "Epoch 580 - Validation Loss: 1.5335, Validation MSE: 1.5346, Validation MAE: 0.8682\n"
     ]
    },
    {
     "name": "stderr",
     "output_type": "stream",
     "text": [
      "Training Epoch 582: 100%|██████████| 500/500 [00:05<00:00, 91.36it/s]\n",
      "Training Epoch 583: 100%|██████████| 500/500 [00:05<00:00, 91.33it/s]\n",
      "Training Epoch 584: 100%|██████████| 500/500 [00:05<00:00, 91.41it/s]\n",
      "Training Epoch 585: 100%|██████████| 500/500 [00:05<00:00, 91.65it/s]\n",
      "Training Epoch 586: 100%|██████████| 500/500 [00:05<00:00, 90.24it/s]\n",
      "Training Epoch 587: 100%|██████████| 500/500 [00:05<00:00, 91.68it/s]\n",
      "Training Epoch 588: 100%|██████████| 500/500 [00:05<00:00, 91.21it/s]\n",
      "Training Epoch 589: 100%|██████████| 500/500 [00:05<00:00, 91.05it/s]\n",
      "Training Epoch 590: 100%|██████████| 500/500 [00:05<00:00, 89.97it/s]\n",
      "Training Epoch 591: 100%|██████████| 500/500 [00:05<00:00, 90.85it/s]\n"
     ]
    },
    {
     "name": "stdout",
     "output_type": "stream",
     "text": [
      "Epoch 590 - Train Loss: 0.0968, Train MSE: 0.0969, Train MAE: 0.2247\n",
      "Epoch 590 - Validation Loss: 1.5747, Validation MSE: 1.5755, Validation MAE: 0.8756\n"
     ]
    },
    {
     "name": "stderr",
     "output_type": "stream",
     "text": [
      "Training Epoch 592: 100%|██████████| 500/500 [00:05<00:00, 92.05it/s]\n",
      "Training Epoch 593: 100%|██████████| 500/500 [00:05<00:00, 91.85it/s]\n",
      "Training Epoch 594: 100%|██████████| 500/500 [00:05<00:00, 91.42it/s]\n",
      "Training Epoch 595: 100%|██████████| 500/500 [00:05<00:00, 91.42it/s]\n",
      "Training Epoch 596: 100%|██████████| 500/500 [00:05<00:00, 90.75it/s]\n",
      "Training Epoch 597: 100%|██████████| 500/500 [00:05<00:00, 91.49it/s]\n",
      "Training Epoch 598: 100%|██████████| 500/500 [00:05<00:00, 89.40it/s]\n",
      "Training Epoch 599: 100%|██████████| 500/500 [00:05<00:00, 91.43it/s]\n",
      "Training Epoch 600: 100%|██████████| 500/500 [00:05<00:00, 89.54it/s]\n",
      "Training Epoch 601: 100%|██████████| 500/500 [00:05<00:00, 90.53it/s]\n"
     ]
    },
    {
     "name": "stdout",
     "output_type": "stream",
     "text": [
      "Epoch 600 - Train Loss: 0.0875, Train MSE: 0.0874, Train MAE: 0.2134\n",
      "Epoch 600 - Validation Loss: 1.5328, Validation MSE: 1.5329, Validation MAE: 0.8661\n"
     ]
    },
    {
     "name": "stderr",
     "output_type": "stream",
     "text": [
      "Training Epoch 602: 100%|██████████| 500/500 [00:05<00:00, 91.54it/s]\n",
      "Training Epoch 603: 100%|██████████| 500/500 [00:05<00:00, 88.53it/s]\n",
      "Training Epoch 604: 100%|██████████| 500/500 [00:05<00:00, 91.29it/s]\n",
      "Training Epoch 605: 100%|██████████| 500/500 [00:05<00:00, 91.13it/s]\n",
      "Training Epoch 606: 100%|██████████| 500/500 [00:05<00:00, 90.11it/s]\n",
      "Training Epoch 607: 100%|██████████| 500/500 [00:05<00:00, 91.18it/s]\n",
      "Training Epoch 608: 100%|██████████| 500/500 [00:05<00:00, 91.18it/s]\n",
      "Training Epoch 609: 100%|██████████| 500/500 [00:05<00:00, 91.78it/s]\n",
      "Training Epoch 610: 100%|██████████| 500/500 [00:05<00:00, 91.26it/s]\n",
      "Training Epoch 611: 100%|██████████| 500/500 [00:05<00:00, 90.76it/s]\n"
     ]
    },
    {
     "name": "stdout",
     "output_type": "stream",
     "text": [
      "Epoch 610 - Train Loss: 0.0885, Train MSE: 0.0887, Train MAE: 0.2147\n",
      "Epoch 610 - Validation Loss: 1.5614, Validation MSE: 1.5610, Validation MAE: 0.8687\n"
     ]
    },
    {
     "name": "stderr",
     "output_type": "stream",
     "text": [
      "Training Epoch 612: 100%|██████████| 500/500 [00:05<00:00, 90.45it/s]\n",
      "Training Epoch 613: 100%|██████████| 500/500 [00:05<00:00, 92.78it/s]\n",
      "Training Epoch 614: 100%|██████████| 500/500 [00:05<00:00, 91.47it/s]\n",
      "Training Epoch 615: 100%|██████████| 500/500 [00:05<00:00, 92.00it/s]\n",
      "Training Epoch 616: 100%|██████████| 500/500 [00:05<00:00, 91.88it/s]\n",
      "Training Epoch 617: 100%|██████████| 500/500 [00:05<00:00, 92.14it/s]\n",
      "Training Epoch 618: 100%|██████████| 500/500 [00:05<00:00, 92.12it/s]\n",
      "Training Epoch 619: 100%|██████████| 500/500 [00:05<00:00, 91.73it/s]\n",
      "Training Epoch 620: 100%|██████████| 500/500 [00:05<00:00, 89.67it/s]\n",
      "Training Epoch 621: 100%|██████████| 500/500 [00:05<00:00, 91.24it/s]\n"
     ]
    },
    {
     "name": "stdout",
     "output_type": "stream",
     "text": [
      "Epoch 620 - Train Loss: 0.1004, Train MSE: 0.1003, Train MAE: 0.2197\n",
      "Epoch 620 - Validation Loss: 1.5341, Validation MSE: 1.5342, Validation MAE: 0.8674\n"
     ]
    },
    {
     "name": "stderr",
     "output_type": "stream",
     "text": [
      "Training Epoch 622: 100%|██████████| 500/500 [00:05<00:00, 90.09it/s]\n",
      "Training Epoch 623: 100%|██████████| 500/500 [00:05<00:00, 90.62it/s]\n",
      "Training Epoch 624: 100%|██████████| 500/500 [00:05<00:00, 90.92it/s]\n",
      "Training Epoch 625: 100%|██████████| 500/500 [00:05<00:00, 91.38it/s]\n",
      "Training Epoch 626: 100%|██████████| 500/500 [00:05<00:00, 89.83it/s]\n",
      "Training Epoch 627: 100%|██████████| 500/500 [00:05<00:00, 92.67it/s]\n",
      "Training Epoch 628: 100%|██████████| 500/500 [00:05<00:00, 90.33it/s]\n",
      "Training Epoch 629: 100%|██████████| 500/500 [00:05<00:00, 91.83it/s]\n",
      "Training Epoch 630: 100%|██████████| 500/500 [00:05<00:00, 90.61it/s]\n",
      "Training Epoch 631: 100%|██████████| 500/500 [00:05<00:00, 88.27it/s]\n"
     ]
    },
    {
     "name": "stdout",
     "output_type": "stream",
     "text": [
      "Epoch 630 - Train Loss: 0.1074, Train MSE: 0.1076, Train MAE: 0.2302\n",
      "Epoch 630 - Validation Loss: 1.5376, Validation MSE: 1.5357, Validation MAE: 0.8692\n"
     ]
    },
    {
     "name": "stderr",
     "output_type": "stream",
     "text": [
      "Training Epoch 632: 100%|██████████| 500/500 [00:05<00:00, 90.80it/s]\n",
      "Training Epoch 633: 100%|██████████| 500/500 [00:05<00:00, 91.64it/s]\n",
      "Training Epoch 634: 100%|██████████| 500/500 [00:05<00:00, 89.95it/s]\n",
      "Training Epoch 635: 100%|██████████| 500/500 [00:05<00:00, 91.44it/s]\n",
      "Training Epoch 636: 100%|██████████| 500/500 [00:05<00:00, 90.45it/s]\n",
      "Training Epoch 637: 100%|██████████| 500/500 [00:05<00:00, 91.92it/s]\n",
      "Training Epoch 638: 100%|██████████| 500/500 [00:05<00:00, 91.02it/s]\n",
      "Training Epoch 639: 100%|██████████| 500/500 [00:05<00:00, 92.63it/s]\n",
      "Training Epoch 640: 100%|██████████| 500/500 [00:05<00:00, 89.85it/s]\n",
      "Training Epoch 641: 100%|██████████| 500/500 [00:05<00:00, 91.12it/s]\n"
     ]
    },
    {
     "name": "stdout",
     "output_type": "stream",
     "text": [
      "Epoch 640 - Train Loss: 0.0868, Train MSE: 0.0869, Train MAE: 0.2130\n",
      "Epoch 640 - Validation Loss: 1.5255, Validation MSE: 1.5245, Validation MAE: 0.8644\n"
     ]
    },
    {
     "name": "stderr",
     "output_type": "stream",
     "text": [
      "Training Epoch 642: 100%|██████████| 500/500 [00:05<00:00, 91.26it/s]\n",
      "Training Epoch 643: 100%|██████████| 500/500 [00:05<00:00, 91.12it/s]\n",
      "Training Epoch 644: 100%|██████████| 500/500 [00:05<00:00, 90.82it/s]\n",
      "Training Epoch 645: 100%|██████████| 500/500 [00:05<00:00, 91.03it/s]\n",
      "Training Epoch 646: 100%|██████████| 500/500 [00:05<00:00, 91.53it/s]\n",
      "Training Epoch 647: 100%|██████████| 500/500 [00:05<00:00, 91.68it/s]\n",
      "Training Epoch 648: 100%|██████████| 500/500 [00:05<00:00, 89.33it/s]\n",
      "Training Epoch 649: 100%|██████████| 500/500 [00:05<00:00, 91.45it/s]\n",
      "Training Epoch 650: 100%|██████████| 500/500 [00:05<00:00, 91.03it/s]\n",
      "Training Epoch 651: 100%|██████████| 500/500 [00:05<00:00, 90.43it/s]\n"
     ]
    },
    {
     "name": "stdout",
     "output_type": "stream",
     "text": [
      "Epoch 650 - Train Loss: 0.0911, Train MSE: 0.0913, Train MAE: 0.2194\n",
      "Epoch 650 - Validation Loss: 1.5217, Validation MSE: 1.5218, Validation MAE: 0.8623\n"
     ]
    },
    {
     "name": "stderr",
     "output_type": "stream",
     "text": [
      "Training Epoch 652: 100%|██████████| 500/500 [00:05<00:00, 91.21it/s]\n",
      "Training Epoch 653: 100%|██████████| 500/500 [00:05<00:00, 90.96it/s]\n",
      "Training Epoch 654: 100%|██████████| 500/500 [00:05<00:00, 89.69it/s]\n",
      "Training Epoch 655: 100%|██████████| 500/500 [00:05<00:00, 92.40it/s]\n",
      "Training Epoch 656: 100%|██████████| 500/500 [00:05<00:00, 91.09it/s]\n",
      "Training Epoch 657: 100%|██████████| 500/500 [00:05<00:00, 90.15it/s]\n",
      "Training Epoch 658: 100%|██████████| 500/500 [00:05<00:00, 91.09it/s]\n",
      "Training Epoch 659: 100%|██████████| 500/500 [00:05<00:00, 90.83it/s]\n",
      "Training Epoch 660: 100%|██████████| 500/500 [00:05<00:00, 90.92it/s]\n",
      "Training Epoch 661: 100%|██████████| 500/500 [00:05<00:00, 92.10it/s]\n"
     ]
    },
    {
     "name": "stdout",
     "output_type": "stream",
     "text": [
      "Epoch 660 - Train Loss: 0.0875, Train MSE: 0.0860, Train MAE: 0.2090\n",
      "Epoch 660 - Validation Loss: 1.5219, Validation MSE: 1.5218, Validation MAE: 0.8624\n"
     ]
    },
    {
     "name": "stderr",
     "output_type": "stream",
     "text": [
      "Training Epoch 662: 100%|██████████| 500/500 [00:05<00:00, 90.04it/s]\n",
      "Training Epoch 663: 100%|██████████| 500/500 [00:05<00:00, 91.74it/s]\n",
      "Training Epoch 664: 100%|██████████| 500/500 [00:05<00:00, 90.46it/s]\n",
      "Training Epoch 665: 100%|██████████| 500/500 [00:05<00:00, 90.69it/s]\n",
      "Training Epoch 666: 100%|██████████| 500/500 [00:05<00:00, 90.14it/s]\n",
      "Training Epoch 667: 100%|██████████| 500/500 [00:05<00:00, 91.85it/s]\n",
      "Training Epoch 668: 100%|██████████| 500/500 [00:05<00:00, 90.62it/s]\n",
      "Training Epoch 669: 100%|██████████| 500/500 [00:05<00:00, 92.59it/s]\n",
      "Training Epoch 670: 100%|██████████| 500/500 [00:05<00:00, 91.93it/s]\n",
      "Training Epoch 671: 100%|██████████| 500/500 [00:05<00:00, 90.59it/s]\n"
     ]
    },
    {
     "name": "stdout",
     "output_type": "stream",
     "text": [
      "Epoch 670 - Train Loss: 0.0847, Train MSE: 0.0847, Train MAE: 0.2100\n",
      "Epoch 670 - Validation Loss: 1.5387, Validation MSE: 1.5395, Validation MAE: 0.8680\n"
     ]
    },
    {
     "name": "stderr",
     "output_type": "stream",
     "text": [
      "Training Epoch 672: 100%|██████████| 500/500 [00:05<00:00, 90.53it/s]\n",
      "Training Epoch 673: 100%|██████████| 500/500 [00:05<00:00, 90.80it/s]\n",
      "Training Epoch 674: 100%|██████████| 500/500 [00:05<00:00, 91.34it/s]\n",
      "Training Epoch 675: 100%|██████████| 500/500 [00:05<00:00, 90.53it/s]\n",
      "Training Epoch 676: 100%|██████████| 500/500 [00:05<00:00, 88.84it/s]\n",
      "Training Epoch 677: 100%|██████████| 500/500 [00:05<00:00, 90.23it/s]\n",
      "Training Epoch 678: 100%|██████████| 500/500 [00:05<00:00, 91.94it/s]\n",
      "Training Epoch 679: 100%|██████████| 500/500 [00:05<00:00, 89.14it/s]\n",
      "Training Epoch 680: 100%|██████████| 500/500 [00:05<00:00, 91.46it/s]\n",
      "Training Epoch 681: 100%|██████████| 500/500 [00:05<00:00, 93.37it/s]\n"
     ]
    },
    {
     "name": "stdout",
     "output_type": "stream",
     "text": [
      "Epoch 680 - Train Loss: 0.0910, Train MSE: 0.0912, Train MAE: 0.2169\n",
      "Epoch 680 - Validation Loss: 1.5544, Validation MSE: 1.5554, Validation MAE: 0.8671\n"
     ]
    },
    {
     "name": "stderr",
     "output_type": "stream",
     "text": [
      "Training Epoch 682: 100%|██████████| 500/500 [00:05<00:00, 92.23it/s]\n",
      "Training Epoch 683: 100%|██████████| 500/500 [00:05<00:00, 90.86it/s]\n",
      "Training Epoch 684: 100%|██████████| 500/500 [00:05<00:00, 90.72it/s]\n",
      "Training Epoch 685: 100%|██████████| 500/500 [00:05<00:00, 89.81it/s]\n",
      "Training Epoch 686: 100%|██████████| 500/500 [00:05<00:00, 92.23it/s]\n",
      "Training Epoch 687: 100%|██████████| 500/500 [00:05<00:00, 90.46it/s]\n",
      "Training Epoch 688: 100%|██████████| 500/500 [00:05<00:00, 91.75it/s]\n",
      "Training Epoch 689: 100%|██████████| 500/500 [00:05<00:00, 91.69it/s]\n",
      "Training Epoch 690: 100%|██████████| 500/500 [00:05<00:00, 89.32it/s]\n",
      "Training Epoch 691: 100%|██████████| 500/500 [00:05<00:00, 91.24it/s]\n"
     ]
    },
    {
     "name": "stdout",
     "output_type": "stream",
     "text": [
      "Epoch 690 - Train Loss: 0.0856, Train MSE: 0.0858, Train MAE: 0.2095\n",
      "Epoch 690 - Validation Loss: 1.5630, Validation MSE: 1.5651, Validation MAE: 0.8782\n"
     ]
    },
    {
     "name": "stderr",
     "output_type": "stream",
     "text": [
      "Training Epoch 692: 100%|██████████| 500/500 [00:05<00:00, 91.50it/s]\n",
      "Training Epoch 693: 100%|██████████| 500/500 [00:05<00:00, 90.85it/s]\n",
      "Training Epoch 694: 100%|██████████| 500/500 [00:05<00:00, 91.31it/s]\n",
      "Training Epoch 695: 100%|██████████| 500/500 [00:05<00:00, 92.43it/s]\n",
      "Training Epoch 696: 100%|██████████| 500/500 [00:05<00:00, 89.34it/s]\n",
      "Training Epoch 697: 100%|██████████| 500/500 [00:05<00:00, 90.54it/s]\n",
      "Training Epoch 698: 100%|██████████| 500/500 [00:05<00:00, 91.68it/s]\n",
      "Training Epoch 699: 100%|██████████| 500/500 [00:05<00:00, 91.28it/s]\n",
      "Training Epoch 700: 100%|██████████| 500/500 [00:05<00:00, 91.95it/s]\n",
      "Training Epoch 701: 100%|██████████| 500/500 [00:05<00:00, 90.38it/s]\n"
     ]
    },
    {
     "name": "stdout",
     "output_type": "stream",
     "text": [
      "Epoch 700 - Train Loss: 0.1040, Train MSE: 0.1037, Train MAE: 0.2282\n",
      "Epoch 700 - Validation Loss: 1.5522, Validation MSE: 1.5538, Validation MAE: 0.8683\n"
     ]
    },
    {
     "name": "stderr",
     "output_type": "stream",
     "text": [
      "Training Epoch 702: 100%|██████████| 500/500 [00:05<00:00, 91.22it/s]\n",
      "Training Epoch 703: 100%|██████████| 500/500 [00:05<00:00, 91.78it/s]\n",
      "Training Epoch 704: 100%|██████████| 500/500 [00:05<00:00, 90.21it/s]\n",
      "Training Epoch 705: 100%|██████████| 500/500 [00:05<00:00, 92.45it/s]\n",
      "Training Epoch 706: 100%|██████████| 500/500 [00:05<00:00, 90.92it/s]\n",
      "Training Epoch 707: 100%|██████████| 500/500 [00:05<00:00, 88.88it/s]\n",
      "Training Epoch 708: 100%|██████████| 500/500 [00:05<00:00, 91.71it/s]\n",
      "Training Epoch 709: 100%|██████████| 500/500 [00:05<00:00, 91.41it/s]\n",
      "Training Epoch 710: 100%|██████████| 500/500 [00:05<00:00, 90.68it/s]\n",
      "Training Epoch 711: 100%|██████████| 500/500 [00:05<00:00, 90.83it/s]\n"
     ]
    },
    {
     "name": "stdout",
     "output_type": "stream",
     "text": [
      "Epoch 710 - Train Loss: 0.0816, Train MSE: 0.0817, Train MAE: 0.2043\n",
      "Epoch 710 - Validation Loss: 1.5347, Validation MSE: 1.5356, Validation MAE: 0.8680\n"
     ]
    },
    {
     "name": "stderr",
     "output_type": "stream",
     "text": [
      "Training Epoch 712: 100%|██████████| 500/500 [00:05<00:00, 89.81it/s]\n",
      "Training Epoch 713: 100%|██████████| 500/500 [00:05<00:00, 91.26it/s]\n",
      "Training Epoch 714: 100%|██████████| 500/500 [00:05<00:00, 91.31it/s]\n",
      "Training Epoch 715: 100%|██████████| 500/500 [00:05<00:00, 91.06it/s]\n",
      "Training Epoch 716: 100%|██████████| 500/500 [00:05<00:00, 90.76it/s]\n",
      "Training Epoch 717: 100%|██████████| 500/500 [00:05<00:00, 91.16it/s]\n",
      "Training Epoch 718: 100%|██████████| 500/500 [00:05<00:00, 89.73it/s]\n",
      "Training Epoch 719: 100%|██████████| 500/500 [00:05<00:00, 92.15it/s]\n",
      "Training Epoch 720: 100%|██████████| 500/500 [00:05<00:00, 90.78it/s]\n",
      "Training Epoch 721: 100%|██████████| 500/500 [00:05<00:00, 90.55it/s]\n"
     ]
    },
    {
     "name": "stdout",
     "output_type": "stream",
     "text": [
      "Epoch 720 - Train Loss: 0.0963, Train MSE: 0.0965, Train MAE: 0.2147\n",
      "Epoch 720 - Validation Loss: 1.5985, Validation MSE: 1.6006, Validation MAE: 0.8741\n"
     ]
    },
    {
     "name": "stderr",
     "output_type": "stream",
     "text": [
      "Training Epoch 722: 100%|██████████| 500/500 [00:05<00:00, 91.45it/s]\n",
      "Training Epoch 723: 100%|██████████| 500/500 [00:05<00:00, 91.83it/s]\n",
      "Training Epoch 724: 100%|██████████| 500/500 [00:05<00:00, 91.66it/s]\n",
      "Training Epoch 725: 100%|██████████| 500/500 [00:05<00:00, 91.41it/s]\n",
      "Training Epoch 726: 100%|██████████| 500/500 [00:05<00:00, 90.31it/s]\n",
      "Training Epoch 727: 100%|██████████| 500/500 [00:05<00:00, 90.28it/s]\n",
      "Training Epoch 728: 100%|██████████| 500/500 [00:05<00:00, 90.98it/s]\n",
      "Training Epoch 729: 100%|██████████| 500/500 [00:05<00:00, 91.10it/s]\n",
      "Training Epoch 730: 100%|██████████| 500/500 [00:05<00:00, 90.95it/s]\n",
      "Training Epoch 731: 100%|██████████| 500/500 [00:05<00:00, 90.97it/s]\n"
     ]
    },
    {
     "name": "stdout",
     "output_type": "stream",
     "text": [
      "Epoch 730 - Train Loss: 0.0790, Train MSE: 0.0791, Train MAE: 0.2013\n",
      "Epoch 730 - Validation Loss: 1.4821, Validation MSE: 1.4826, Validation MAE: 0.8521\n"
     ]
    },
    {
     "name": "stderr",
     "output_type": "stream",
     "text": [
      "Training Epoch 732: 100%|██████████| 500/500 [00:05<00:00, 89.79it/s]\n",
      "Training Epoch 733: 100%|██████████| 500/500 [00:05<00:00, 90.94it/s]\n",
      "Training Epoch 734: 100%|██████████| 500/500 [00:05<00:00, 90.78it/s]\n",
      "Training Epoch 735: 100%|██████████| 500/500 [00:05<00:00, 90.10it/s]\n",
      "Training Epoch 736: 100%|██████████| 500/500 [00:05<00:00, 91.92it/s]\n",
      "Training Epoch 737: 100%|██████████| 500/500 [00:05<00:00, 90.51it/s]\n",
      "Training Epoch 738: 100%|██████████| 500/500 [00:05<00:00, 90.44it/s]\n",
      "Training Epoch 739: 100%|██████████| 500/500 [00:05<00:00, 92.22it/s]\n",
      "Training Epoch 740: 100%|██████████| 500/500 [00:05<00:00, 91.20it/s]\n",
      "Training Epoch 741: 100%|██████████| 500/500 [00:05<00:00, 91.21it/s]\n"
     ]
    },
    {
     "name": "stdout",
     "output_type": "stream",
     "text": [
      "Epoch 740 - Train Loss: 0.0798, Train MSE: 0.0800, Train MAE: 0.2035\n",
      "Epoch 740 - Validation Loss: 1.5198, Validation MSE: 1.5193, Validation MAE: 0.8592\n"
     ]
    },
    {
     "name": "stderr",
     "output_type": "stream",
     "text": [
      "Training Epoch 742: 100%|██████████| 500/500 [00:05<00:00, 91.39it/s]\n",
      "Training Epoch 743: 100%|██████████| 500/500 [00:05<00:00, 90.11it/s]\n",
      "Training Epoch 744: 100%|██████████| 500/500 [00:05<00:00, 91.63it/s]\n",
      "Training Epoch 745: 100%|██████████| 500/500 [00:05<00:00, 90.63it/s]\n",
      "Training Epoch 746: 100%|██████████| 500/500 [00:05<00:00, 90.70it/s]\n",
      "Training Epoch 747: 100%|██████████| 500/500 [00:05<00:00, 91.69it/s]\n",
      "Training Epoch 748: 100%|██████████| 500/500 [00:05<00:00, 91.58it/s]\n",
      "Training Epoch 749: 100%|██████████| 500/500 [00:05<00:00, 90.61it/s]\n",
      "Training Epoch 750: 100%|██████████| 500/500 [00:05<00:00, 92.87it/s]\n",
      "Training Epoch 751: 100%|██████████| 500/500 [00:05<00:00, 90.59it/s]\n"
     ]
    },
    {
     "name": "stdout",
     "output_type": "stream",
     "text": [
      "Epoch 750 - Train Loss: 0.0772, Train MSE: 0.0771, Train MAE: 0.1991\n",
      "Epoch 750 - Validation Loss: 1.4763, Validation MSE: 1.4762, Validation MAE: 0.8506\n"
     ]
    },
    {
     "name": "stderr",
     "output_type": "stream",
     "text": [
      "Training Epoch 752: 100%|██████████| 500/500 [00:05<00:00, 92.27it/s]\n",
      "Training Epoch 753: 100%|██████████| 500/500 [00:05<00:00, 90.82it/s]\n",
      "Training Epoch 754: 100%|██████████| 500/500 [00:05<00:00, 91.12it/s]\n",
      "Training Epoch 755: 100%|██████████| 500/500 [00:05<00:00, 90.95it/s]\n",
      "Training Epoch 756: 100%|██████████| 500/500 [00:05<00:00, 92.13it/s]\n",
      "Training Epoch 757: 100%|██████████| 500/500 [00:05<00:00, 91.68it/s]\n",
      "Training Epoch 758: 100%|██████████| 500/500 [00:05<00:00, 91.05it/s]\n",
      "Training Epoch 759: 100%|██████████| 500/500 [00:05<00:00, 91.75it/s]\n",
      "Training Epoch 760: 100%|██████████| 500/500 [00:05<00:00, 92.27it/s]\n",
      "Training Epoch 761: 100%|██████████| 500/500 [00:05<00:00, 90.14it/s]\n"
     ]
    },
    {
     "name": "stdout",
     "output_type": "stream",
     "text": [
      "Epoch 760 - Train Loss: 0.0810, Train MSE: 0.0807, Train MAE: 0.2017\n",
      "Epoch 760 - Validation Loss: 1.5363, Validation MSE: 1.5355, Validation MAE: 0.8652\n"
     ]
    },
    {
     "name": "stderr",
     "output_type": "stream",
     "text": [
      "Training Epoch 762: 100%|██████████| 500/500 [00:05<00:00, 91.28it/s]\n",
      "Training Epoch 763: 100%|██████████| 500/500 [00:05<00:00, 89.97it/s]\n",
      "Training Epoch 764: 100%|██████████| 500/500 [00:05<00:00, 89.69it/s]\n",
      "Training Epoch 765: 100%|██████████| 500/500 [00:05<00:00, 89.55it/s]\n",
      "Training Epoch 766: 100%|██████████| 500/500 [00:05<00:00, 89.82it/s]\n",
      "Training Epoch 767: 100%|██████████| 500/500 [00:05<00:00, 90.92it/s]\n",
      "Training Epoch 768: 100%|██████████| 500/500 [00:05<00:00, 89.85it/s]\n",
      "Training Epoch 769: 100%|██████████| 500/500 [00:05<00:00, 90.44it/s]\n",
      "Training Epoch 770: 100%|██████████| 500/500 [00:05<00:00, 92.44it/s]\n",
      "Training Epoch 771: 100%|██████████| 500/500 [00:05<00:00, 89.73it/s]\n"
     ]
    },
    {
     "name": "stdout",
     "output_type": "stream",
     "text": [
      "Epoch 770 - Train Loss: 0.0722, Train MSE: 0.0723, Train MAE: 0.1945\n",
      "Epoch 770 - Validation Loss: 1.5287, Validation MSE: 1.5284, Validation MAE: 0.8619\n"
     ]
    },
    {
     "name": "stderr",
     "output_type": "stream",
     "text": [
      "Training Epoch 772: 100%|██████████| 500/500 [00:05<00:00, 91.75it/s]\n",
      "Training Epoch 773: 100%|██████████| 500/500 [00:05<00:00, 91.77it/s]\n",
      "Training Epoch 774: 100%|██████████| 500/500 [00:05<00:00, 89.93it/s]\n",
      "Training Epoch 775: 100%|██████████| 500/500 [00:05<00:00, 90.25it/s]\n",
      "Training Epoch 776: 100%|██████████| 500/500 [00:05<00:00, 91.93it/s]\n",
      "Training Epoch 777: 100%|██████████| 500/500 [00:05<00:00, 89.50it/s]\n",
      "Training Epoch 778: 100%|██████████| 500/500 [00:05<00:00, 90.86it/s]\n",
      "Training Epoch 779: 100%|██████████| 500/500 [00:05<00:00, 91.12it/s]\n",
      "Training Epoch 780: 100%|██████████| 500/500 [00:05<00:00, 89.67it/s]\n",
      "Training Epoch 781: 100%|██████████| 500/500 [00:05<00:00, 90.16it/s]\n"
     ]
    },
    {
     "name": "stdout",
     "output_type": "stream",
     "text": [
      "Epoch 780 - Train Loss: 0.0975, Train MSE: 0.0977, Train MAE: 0.2154\n",
      "Epoch 780 - Validation Loss: 1.5464, Validation MSE: 1.5452, Validation MAE: 0.8672\n"
     ]
    },
    {
     "name": "stderr",
     "output_type": "stream",
     "text": [
      "Training Epoch 782: 100%|██████████| 500/500 [00:05<00:00, 90.16it/s]\n",
      "Training Epoch 783: 100%|██████████| 500/500 [00:05<00:00, 93.03it/s]\n",
      "Training Epoch 784: 100%|██████████| 500/500 [00:05<00:00, 91.24it/s]\n",
      "Training Epoch 785: 100%|██████████| 500/500 [00:05<00:00, 89.23it/s]\n",
      "Training Epoch 786: 100%|██████████| 500/500 [00:05<00:00, 90.70it/s]\n",
      "Training Epoch 787: 100%|██████████| 500/500 [00:05<00:00, 91.24it/s]\n",
      "Training Epoch 788: 100%|██████████| 500/500 [00:05<00:00, 89.77it/s]\n",
      "Training Epoch 789: 100%|██████████| 500/500 [00:05<00:00, 90.36it/s]\n",
      "Training Epoch 790: 100%|██████████| 500/500 [00:05<00:00, 90.70it/s]\n",
      "Training Epoch 791: 100%|██████████| 500/500 [00:05<00:00, 89.61it/s]\n"
     ]
    },
    {
     "name": "stdout",
     "output_type": "stream",
     "text": [
      "Epoch 790 - Train Loss: 0.0756, Train MSE: 0.0758, Train MAE: 0.1963\n",
      "Epoch 790 - Validation Loss: 1.4824, Validation MSE: 1.4813, Validation MAE: 0.8452\n"
     ]
    },
    {
     "name": "stderr",
     "output_type": "stream",
     "text": [
      "Training Epoch 792: 100%|██████████| 500/500 [00:05<00:00, 90.07it/s]\n",
      "Training Epoch 793: 100%|██████████| 500/500 [00:05<00:00, 90.76it/s]\n",
      "Training Epoch 794: 100%|██████████| 500/500 [00:05<00:00, 91.22it/s]\n",
      "Training Epoch 795: 100%|██████████| 500/500 [00:05<00:00, 90.55it/s]\n",
      "Training Epoch 796: 100%|██████████| 500/500 [00:05<00:00, 89.19it/s]\n",
      "Training Epoch 797: 100%|██████████| 500/500 [00:05<00:00, 90.85it/s]\n",
      "Training Epoch 798: 100%|██████████| 500/500 [00:05<00:00, 91.77it/s]\n",
      "Training Epoch 799: 100%|██████████| 500/500 [00:05<00:00, 89.21it/s]\n",
      "Training Epoch 800: 100%|██████████| 500/500 [00:05<00:00, 90.10it/s]\n",
      "Training Epoch 801: 100%|██████████| 500/500 [00:05<00:00, 91.19it/s]\n"
     ]
    },
    {
     "name": "stdout",
     "output_type": "stream",
     "text": [
      "Epoch 800 - Train Loss: 0.0778, Train MSE: 0.0779, Train MAE: 0.1958\n",
      "Epoch 800 - Validation Loss: 1.5166, Validation MSE: 1.5174, Validation MAE: 0.8615\n"
     ]
    },
    {
     "name": "stderr",
     "output_type": "stream",
     "text": [
      "Training Epoch 802: 100%|██████████| 500/500 [00:05<00:00, 90.19it/s]\n",
      "Training Epoch 803: 100%|██████████| 500/500 [00:05<00:00, 89.84it/s]\n",
      "Training Epoch 804: 100%|██████████| 500/500 [00:05<00:00, 91.56it/s]\n",
      "Training Epoch 805: 100%|██████████| 500/500 [00:05<00:00, 89.88it/s]\n",
      "Training Epoch 806: 100%|██████████| 500/500 [00:05<00:00, 91.29it/s]\n",
      "Training Epoch 807: 100%|██████████| 500/500 [00:05<00:00, 90.94it/s]\n",
      "Training Epoch 808: 100%|██████████| 500/500 [00:05<00:00, 92.11it/s]\n",
      "Training Epoch 809: 100%|██████████| 500/500 [00:05<00:00, 91.83it/s]\n",
      "Training Epoch 810: 100%|██████████| 500/500 [00:05<00:00, 88.75it/s]\n",
      "Training Epoch 811: 100%|██████████| 500/500 [00:05<00:00, 92.28it/s]\n"
     ]
    },
    {
     "name": "stdout",
     "output_type": "stream",
     "text": [
      "Epoch 810 - Train Loss: 0.0752, Train MSE: 0.0750, Train MAE: 0.1978\n",
      "Epoch 810 - Validation Loss: 1.4958, Validation MSE: 1.4970, Validation MAE: 0.8563\n"
     ]
    },
    {
     "name": "stderr",
     "output_type": "stream",
     "text": [
      "Training Epoch 812: 100%|██████████| 500/500 [00:05<00:00, 91.63it/s]\n",
      "Training Epoch 813: 100%|██████████| 500/500 [00:05<00:00, 89.76it/s]\n",
      "Training Epoch 814: 100%|██████████| 500/500 [00:05<00:00, 92.40it/s]\n",
      "Training Epoch 815: 100%|██████████| 500/500 [00:05<00:00, 90.68it/s]\n",
      "Training Epoch 816: 100%|██████████| 500/500 [00:05<00:00, 90.61it/s]\n",
      "Training Epoch 817: 100%|██████████| 500/500 [00:05<00:00, 91.70it/s]\n",
      "Training Epoch 818: 100%|██████████| 500/500 [00:05<00:00, 90.65it/s]\n",
      "Training Epoch 819: 100%|██████████| 500/500 [00:05<00:00, 91.31it/s]\n",
      "Training Epoch 820: 100%|██████████| 500/500 [00:05<00:00, 92.15it/s]\n",
      "Training Epoch 821: 100%|██████████| 500/500 [00:05<00:00, 91.70it/s]\n"
     ]
    },
    {
     "name": "stdout",
     "output_type": "stream",
     "text": [
      "Epoch 820 - Train Loss: 0.0796, Train MSE: 0.0797, Train MAE: 0.2009\n",
      "Epoch 820 - Validation Loss: 1.5059, Validation MSE: 1.5052, Validation MAE: 0.8573\n"
     ]
    },
    {
     "name": "stderr",
     "output_type": "stream",
     "text": [
      "Training Epoch 822: 100%|██████████| 500/500 [00:05<00:00, 90.46it/s]\n",
      "Training Epoch 823: 100%|██████████| 500/500 [00:05<00:00, 93.18it/s]\n",
      "Training Epoch 824: 100%|██████████| 500/500 [00:05<00:00, 90.87it/s]\n",
      "Training Epoch 825: 100%|██████████| 500/500 [00:05<00:00, 90.29it/s]\n",
      "Training Epoch 826: 100%|██████████| 500/500 [00:05<00:00, 89.81it/s]\n",
      "Training Epoch 827: 100%|██████████| 500/500 [00:05<00:00, 91.60it/s]\n",
      "Training Epoch 828: 100%|██████████| 500/500 [00:05<00:00, 90.75it/s]\n",
      "Training Epoch 829: 100%|██████████| 500/500 [00:05<00:00, 92.17it/s]\n",
      "Training Epoch 830: 100%|██████████| 500/500 [00:05<00:00, 89.90it/s]\n",
      "Training Epoch 831: 100%|██████████| 500/500 [00:05<00:00, 92.22it/s]\n"
     ]
    },
    {
     "name": "stdout",
     "output_type": "stream",
     "text": [
      "Epoch 830 - Train Loss: 0.0713, Train MSE: 0.0715, Train MAE: 0.1937\n",
      "Epoch 830 - Validation Loss: 1.5315, Validation MSE: 1.5307, Validation MAE: 0.8642\n"
     ]
    },
    {
     "name": "stderr",
     "output_type": "stream",
     "text": [
      "Training Epoch 832: 100%|██████████| 500/500 [00:05<00:00, 89.07it/s]\n",
      "Training Epoch 833: 100%|██████████| 500/500 [00:05<00:00, 91.36it/s]\n",
      "Training Epoch 834: 100%|██████████| 500/500 [00:05<00:00, 91.42it/s]\n",
      "Training Epoch 835: 100%|██████████| 500/500 [00:05<00:00, 91.76it/s]\n",
      "Training Epoch 836: 100%|██████████| 500/500 [00:05<00:00, 90.10it/s]\n",
      "Training Epoch 837: 100%|██████████| 500/500 [00:05<00:00, 91.14it/s]\n",
      "Training Epoch 838: 100%|██████████| 500/500 [00:05<00:00, 89.94it/s]\n",
      "Training Epoch 839: 100%|██████████| 500/500 [00:05<00:00, 90.86it/s]\n",
      "Training Epoch 840: 100%|██████████| 500/500 [00:05<00:00, 91.45it/s]\n",
      "Training Epoch 841: 100%|██████████| 500/500 [00:05<00:00, 89.86it/s]\n"
     ]
    },
    {
     "name": "stdout",
     "output_type": "stream",
     "text": [
      "Epoch 840 - Train Loss: 0.0742, Train MSE: 0.0741, Train MAE: 0.1941\n",
      "Epoch 840 - Validation Loss: 1.4865, Validation MSE: 1.4847, Validation MAE: 0.8476\n"
     ]
    },
    {
     "name": "stderr",
     "output_type": "stream",
     "text": [
      "Training Epoch 842: 100%|██████████| 500/500 [00:05<00:00, 89.80it/s]\n",
      "Training Epoch 843: 100%|██████████| 500/500 [00:05<00:00, 92.15it/s]\n",
      "Training Epoch 844: 100%|██████████| 500/500 [00:05<00:00, 89.48it/s]\n",
      "Training Epoch 845: 100%|██████████| 500/500 [00:05<00:00, 90.91it/s]\n",
      "Training Epoch 846: 100%|██████████| 500/500 [00:05<00:00, 90.32it/s]\n",
      "Training Epoch 847: 100%|██████████| 500/500 [00:05<00:00, 89.36it/s]\n",
      "Training Epoch 848: 100%|██████████| 500/500 [00:05<00:00, 91.23it/s]\n",
      "Training Epoch 849: 100%|██████████| 500/500 [00:05<00:00, 93.07it/s]\n",
      "Training Epoch 850: 100%|██████████| 500/500 [00:05<00:00, 91.26it/s]\n",
      "Training Epoch 851: 100%|██████████| 500/500 [00:05<00:00, 90.55it/s]\n"
     ]
    },
    {
     "name": "stdout",
     "output_type": "stream",
     "text": [
      "Epoch 850 - Train Loss: 0.0717, Train MSE: 0.0717, Train MAE: 0.1903\n",
      "Epoch 850 - Validation Loss: 1.5097, Validation MSE: 1.5117, Validation MAE: 0.8596\n"
     ]
    },
    {
     "name": "stderr",
     "output_type": "stream",
     "text": [
      "Training Epoch 852: 100%|██████████| 500/500 [00:05<00:00, 90.66it/s]\n",
      "Training Epoch 853: 100%|██████████| 500/500 [00:05<00:00, 89.87it/s]\n",
      "Training Epoch 854: 100%|██████████| 500/500 [00:05<00:00, 91.43it/s]\n",
      "Training Epoch 855: 100%|██████████| 500/500 [00:05<00:00, 92.20it/s]\n",
      "Training Epoch 856: 100%|██████████| 500/500 [00:05<00:00, 91.77it/s]\n",
      "Training Epoch 857: 100%|██████████| 500/500 [00:05<00:00, 90.34it/s]\n",
      "Training Epoch 858: 100%|██████████| 500/500 [00:05<00:00, 89.61it/s]\n",
      "Training Epoch 859: 100%|██████████| 500/500 [00:05<00:00, 91.66it/s]\n",
      "Training Epoch 860: 100%|██████████| 500/500 [00:05<00:00, 90.34it/s]\n",
      "Training Epoch 861: 100%|██████████| 500/500 [00:05<00:00, 89.91it/s]\n"
     ]
    },
    {
     "name": "stdout",
     "output_type": "stream",
     "text": [
      "Epoch 860 - Train Loss: 0.0861, Train MSE: 0.0863, Train MAE: 0.2040\n",
      "Epoch 860 - Validation Loss: 1.5218, Validation MSE: 1.5224, Validation MAE: 0.8643\n"
     ]
    },
    {
     "name": "stderr",
     "output_type": "stream",
     "text": [
      "Training Epoch 862: 100%|██████████| 500/500 [00:05<00:00, 91.82it/s]\n",
      "Training Epoch 863: 100%|██████████| 500/500 [00:05<00:00, 91.37it/s]\n",
      "Training Epoch 864: 100%|██████████| 500/500 [00:05<00:00, 89.61it/s]\n",
      "Training Epoch 865: 100%|██████████| 500/500 [00:05<00:00, 92.09it/s]\n",
      "Training Epoch 866: 100%|██████████| 500/500 [00:05<00:00, 90.82it/s]\n",
      "Training Epoch 867: 100%|██████████| 500/500 [00:05<00:00, 90.95it/s]\n",
      "Training Epoch 868: 100%|██████████| 500/500 [00:05<00:00, 91.38it/s]\n",
      "Training Epoch 869: 100%|██████████| 500/500 [00:05<00:00, 90.62it/s]\n",
      "Training Epoch 870: 100%|██████████| 500/500 [00:05<00:00, 90.06it/s]\n",
      "Training Epoch 871: 100%|██████████| 500/500 [00:05<00:00, 92.22it/s]\n"
     ]
    },
    {
     "name": "stdout",
     "output_type": "stream",
     "text": [
      "Epoch 870 - Train Loss: 0.0661, Train MSE: 0.0662, Train MAE: 0.1860\n",
      "Epoch 870 - Validation Loss: 1.5057, Validation MSE: 1.5053, Validation MAE: 0.8524\n"
     ]
    },
    {
     "name": "stderr",
     "output_type": "stream",
     "text": [
      "Training Epoch 872: 100%|██████████| 500/500 [00:05<00:00, 89.59it/s]\n",
      "Training Epoch 873: 100%|██████████| 500/500 [00:05<00:00, 91.89it/s]\n",
      "Training Epoch 874: 100%|██████████| 500/500 [00:05<00:00, 91.44it/s]\n",
      "Training Epoch 875: 100%|██████████| 500/500 [00:05<00:00, 90.45it/s]\n",
      "Training Epoch 876: 100%|██████████| 500/500 [00:05<00:00, 89.31it/s]\n",
      "Training Epoch 877: 100%|██████████| 500/500 [00:05<00:00, 91.98it/s]\n",
      "Training Epoch 878: 100%|██████████| 500/500 [00:05<00:00, 89.34it/s]\n",
      "Training Epoch 879: 100%|██████████| 500/500 [00:05<00:00, 91.98it/s]\n",
      "Training Epoch 880: 100%|██████████| 500/500 [00:05<00:00, 92.32it/s]\n",
      "Training Epoch 881: 100%|██████████| 500/500 [00:05<00:00, 89.61it/s]\n"
     ]
    },
    {
     "name": "stdout",
     "output_type": "stream",
     "text": [
      "Epoch 880 - Train Loss: 0.0666, Train MSE: 0.0667, Train MAE: 0.1865\n",
      "Epoch 880 - Validation Loss: 1.5107, Validation MSE: 1.5114, Validation MAE: 0.8608\n"
     ]
    },
    {
     "name": "stderr",
     "output_type": "stream",
     "text": [
      "Training Epoch 882: 100%|██████████| 500/500 [00:05<00:00, 90.79it/s]\n",
      "Training Epoch 883: 100%|██████████| 500/500 [00:05<00:00, 90.43it/s]\n",
      "Training Epoch 884: 100%|██████████| 500/500 [00:05<00:00, 91.66it/s]\n",
      "Training Epoch 885: 100%|██████████| 500/500 [00:05<00:00, 91.27it/s]\n",
      "Training Epoch 886: 100%|██████████| 500/500 [00:05<00:00, 90.06it/s]\n",
      "Training Epoch 887: 100%|██████████| 500/500 [00:05<00:00, 92.28it/s]\n",
      "Training Epoch 888: 100%|██████████| 500/500 [00:05<00:00, 91.73it/s]\n",
      "Training Epoch 889: 100%|██████████| 500/500 [00:05<00:00, 90.30it/s]\n",
      "Training Epoch 890: 100%|██████████| 500/500 [00:05<00:00, 92.23it/s]\n",
      "Training Epoch 891: 100%|██████████| 500/500 [00:05<00:00, 91.03it/s]\n"
     ]
    },
    {
     "name": "stdout",
     "output_type": "stream",
     "text": [
      "Epoch 890 - Train Loss: 0.0688, Train MSE: 0.0689, Train MAE: 0.1862\n",
      "Epoch 890 - Validation Loss: 1.5330, Validation MSE: 1.5328, Validation MAE: 0.8670\n"
     ]
    },
    {
     "name": "stderr",
     "output_type": "stream",
     "text": [
      "Training Epoch 892: 100%|██████████| 500/500 [00:05<00:00, 90.36it/s]\n",
      "Training Epoch 893: 100%|██████████| 500/500 [00:05<00:00, 92.46it/s]\n",
      "Training Epoch 894: 100%|██████████| 500/500 [00:05<00:00, 90.53it/s]\n",
      "Training Epoch 895: 100%|██████████| 500/500 [00:05<00:00, 90.51it/s]\n",
      "Training Epoch 896: 100%|██████████| 500/500 [00:05<00:00, 91.55it/s]\n",
      "Training Epoch 897: 100%|██████████| 500/500 [00:05<00:00, 90.11it/s]\n",
      "Training Epoch 898: 100%|██████████| 500/500 [00:05<00:00, 91.48it/s]\n",
      "Training Epoch 899: 100%|██████████| 500/500 [00:05<00:00, 90.83it/s]\n",
      "Training Epoch 900: 100%|██████████| 500/500 [00:05<00:00, 90.72it/s]\n",
      "Training Epoch 901: 100%|██████████| 500/500 [00:05<00:00, 92.27it/s]\n"
     ]
    },
    {
     "name": "stdout",
     "output_type": "stream",
     "text": [
      "Epoch 900 - Train Loss: 0.0698, Train MSE: 0.0699, Train MAE: 0.1881\n",
      "Epoch 900 - Validation Loss: 1.4723, Validation MSE: 1.4727, Validation MAE: 0.8470\n"
     ]
    },
    {
     "name": "stderr",
     "output_type": "stream",
     "text": [
      "Training Epoch 902: 100%|██████████| 500/500 [00:05<00:00, 92.72it/s]\n",
      "Training Epoch 903: 100%|██████████| 500/500 [00:05<00:00, 89.90it/s]\n",
      "Training Epoch 904: 100%|██████████| 500/500 [00:05<00:00, 91.40it/s]\n",
      "Training Epoch 905: 100%|██████████| 500/500 [00:05<00:00, 90.84it/s]\n",
      "Training Epoch 906: 100%|██████████| 500/500 [00:05<00:00, 90.23it/s]\n",
      "Training Epoch 907: 100%|██████████| 500/500 [00:05<00:00, 90.71it/s]\n",
      "Training Epoch 908: 100%|██████████| 500/500 [00:05<00:00, 90.90it/s]\n",
      "Training Epoch 909: 100%|██████████| 500/500 [00:05<00:00, 92.86it/s]\n",
      "Training Epoch 910: 100%|██████████| 500/500 [00:05<00:00, 90.62it/s]\n",
      "Training Epoch 911: 100%|██████████| 500/500 [00:05<00:00, 91.13it/s]\n"
     ]
    },
    {
     "name": "stdout",
     "output_type": "stream",
     "text": [
      "Epoch 910 - Train Loss: 0.0643, Train MSE: 0.0643, Train MAE: 0.1821\n",
      "Epoch 910 - Validation Loss: 1.5029, Validation MSE: 1.5031, Validation MAE: 0.8514\n"
     ]
    },
    {
     "name": "stderr",
     "output_type": "stream",
     "text": [
      "Training Epoch 912: 100%|██████████| 500/500 [00:05<00:00, 93.40it/s] \n",
      "Training Epoch 913: 100%|██████████| 500/500 [00:05<00:00, 91.59it/s]\n",
      "Training Epoch 914: 100%|██████████| 500/500 [00:05<00:00, 89.52it/s]\n",
      "Training Epoch 915: 100%|██████████| 500/500 [00:05<00:00, 92.41it/s]\n",
      "Training Epoch 916: 100%|██████████| 500/500 [00:05<00:00, 91.39it/s]\n",
      "Training Epoch 917: 100%|██████████| 500/500 [00:05<00:00, 90.00it/s]\n",
      "Training Epoch 918: 100%|██████████| 500/500 [00:05<00:00, 91.03it/s]\n",
      "Training Epoch 919: 100%|██████████| 500/500 [00:05<00:00, 91.42it/s]\n",
      "Training Epoch 920: 100%|██████████| 500/500 [00:05<00:00, 89.23it/s]\n",
      "Training Epoch 921: 100%|██████████| 500/500 [00:05<00:00, 90.77it/s]\n"
     ]
    },
    {
     "name": "stdout",
     "output_type": "stream",
     "text": [
      "Epoch 920 - Train Loss: 0.0730, Train MSE: 0.0731, Train MAE: 0.1917\n",
      "Epoch 920 - Validation Loss: 1.5037, Validation MSE: 1.5036, Validation MAE: 0.8531\n"
     ]
    },
    {
     "name": "stderr",
     "output_type": "stream",
     "text": [
      "Training Epoch 922: 100%|██████████| 500/500 [00:05<00:00, 91.53it/s]\n",
      "Training Epoch 923: 100%|██████████| 500/500 [00:05<00:00, 91.08it/s]\n",
      "Training Epoch 924: 100%|██████████| 500/500 [00:05<00:00, 91.34it/s]\n",
      "Training Epoch 925: 100%|██████████| 500/500 [00:05<00:00, 90.58it/s]\n",
      "Training Epoch 926: 100%|██████████| 500/500 [00:05<00:00, 91.40it/s]\n",
      "Training Epoch 927: 100%|██████████| 500/500 [00:05<00:00, 90.93it/s]\n",
      "Training Epoch 928: 100%|██████████| 500/500 [00:05<00:00, 91.72it/s]\n",
      "Training Epoch 929: 100%|██████████| 500/500 [00:05<00:00, 91.03it/s]\n",
      "Training Epoch 930: 100%|██████████| 500/500 [00:05<00:00, 91.41it/s]\n",
      "Training Epoch 931: 100%|██████████| 500/500 [00:05<00:00, 89.89it/s]\n"
     ]
    },
    {
     "name": "stdout",
     "output_type": "stream",
     "text": [
      "Epoch 930 - Train Loss: 0.0715, Train MSE: 0.0716, Train MAE: 0.1897\n",
      "Epoch 930 - Validation Loss: 1.4898, Validation MSE: 1.4907, Validation MAE: 0.8518\n"
     ]
    },
    {
     "name": "stderr",
     "output_type": "stream",
     "text": [
      "Training Epoch 932: 100%|██████████| 500/500 [00:05<00:00, 90.80it/s]\n",
      "Training Epoch 933: 100%|██████████| 500/500 [00:05<00:00, 91.28it/s]\n",
      "Training Epoch 934: 100%|██████████| 500/500 [00:05<00:00, 91.12it/s]\n",
      "Training Epoch 935: 100%|██████████| 500/500 [00:05<00:00, 91.40it/s]\n",
      "Training Epoch 936: 100%|██████████| 500/500 [00:05<00:00, 90.02it/s]\n",
      "Training Epoch 937: 100%|██████████| 500/500 [00:05<00:00, 90.38it/s]\n",
      "Training Epoch 938: 100%|██████████| 500/500 [00:05<00:00, 90.80it/s]\n",
      "Training Epoch 939: 100%|██████████| 500/500 [00:05<00:00, 89.98it/s]\n",
      "Training Epoch 940: 100%|██████████| 500/500 [00:05<00:00, 93.74it/s]\n",
      "Training Epoch 941: 100%|██████████| 500/500 [00:05<00:00, 91.93it/s]\n"
     ]
    },
    {
     "name": "stdout",
     "output_type": "stream",
     "text": [
      "Epoch 940 - Train Loss: 0.0666, Train MSE: 0.0667, Train MAE: 0.1836\n",
      "Epoch 940 - Validation Loss: 1.4734, Validation MSE: 1.4734, Validation MAE: 0.8486\n"
     ]
    },
    {
     "name": "stderr",
     "output_type": "stream",
     "text": [
      "Training Epoch 942: 100%|██████████| 500/500 [00:05<00:00, 90.24it/s]\n",
      "Training Epoch 943: 100%|██████████| 500/500 [00:05<00:00, 90.82it/s]\n",
      "Training Epoch 944: 100%|██████████| 500/500 [00:05<00:00, 92.27it/s]\n",
      "Training Epoch 945: 100%|██████████| 500/500 [00:05<00:00, 89.52it/s]\n",
      "Training Epoch 946: 100%|██████████| 500/500 [00:05<00:00, 90.50it/s]\n",
      "Training Epoch 947: 100%|██████████| 500/500 [00:05<00:00, 90.82it/s]\n",
      "Training Epoch 948: 100%|██████████| 500/500 [00:05<00:00, 90.40it/s]\n",
      "Training Epoch 949: 100%|██████████| 500/500 [00:05<00:00, 91.54it/s]\n",
      "Training Epoch 950: 100%|██████████| 500/500 [00:05<00:00, 92.11it/s]\n",
      "Training Epoch 951: 100%|██████████| 500/500 [00:05<00:00, 90.86it/s]\n"
     ]
    },
    {
     "name": "stdout",
     "output_type": "stream",
     "text": [
      "Epoch 950 - Train Loss: 0.0699, Train MSE: 0.0700, Train MAE: 0.1879\n",
      "Epoch 950 - Validation Loss: 1.4628, Validation MSE: 1.4622, Validation MAE: 0.8409\n"
     ]
    },
    {
     "name": "stderr",
     "output_type": "stream",
     "text": [
      "Training Epoch 952: 100%|██████████| 500/500 [00:05<00:00, 90.81it/s]\n",
      "Training Epoch 953: 100%|██████████| 500/500 [00:05<00:00, 89.89it/s]\n",
      "Training Epoch 954: 100%|██████████| 500/500 [00:05<00:00, 91.98it/s]\n",
      "Training Epoch 955: 100%|██████████| 500/500 [00:05<00:00, 90.58it/s]\n",
      "Training Epoch 956: 100%|██████████| 500/500 [00:05<00:00, 91.76it/s]\n",
      "Training Epoch 957: 100%|██████████| 500/500 [00:05<00:00, 90.76it/s]\n",
      "Training Epoch 958: 100%|██████████| 500/500 [00:05<00:00, 92.35it/s]\n",
      "Training Epoch 959: 100%|██████████| 500/500 [00:05<00:00, 90.83it/s]\n",
      "Training Epoch 960: 100%|██████████| 500/500 [00:05<00:00, 90.60it/s]\n",
      "Training Epoch 961: 100%|██████████| 500/500 [00:05<00:00, 89.87it/s]\n"
     ]
    },
    {
     "name": "stdout",
     "output_type": "stream",
     "text": [
      "Epoch 960 - Train Loss: 0.0652, Train MSE: 0.0653, Train MAE: 0.1819\n",
      "Epoch 960 - Validation Loss: 1.5235, Validation MSE: 1.5226, Validation MAE: 0.8588\n"
     ]
    },
    {
     "name": "stderr",
     "output_type": "stream",
     "text": [
      "Training Epoch 962: 100%|██████████| 500/500 [00:05<00:00, 90.57it/s]\n",
      "Training Epoch 963: 100%|██████████| 500/500 [00:05<00:00, 89.87it/s]\n",
      "Training Epoch 964: 100%|██████████| 500/500 [00:05<00:00, 91.06it/s]\n",
      "Training Epoch 965: 100%|██████████| 500/500 [00:05<00:00, 90.96it/s]\n",
      "Training Epoch 966: 100%|██████████| 500/500 [00:05<00:00, 92.43it/s]\n",
      "Training Epoch 967: 100%|██████████| 500/500 [00:05<00:00, 88.14it/s]\n",
      "Training Epoch 968: 100%|██████████| 500/500 [00:05<00:00, 92.36it/s]\n",
      "Training Epoch 969: 100%|██████████| 500/500 [00:05<00:00, 91.50it/s]\n",
      "Training Epoch 970: 100%|██████████| 500/500 [00:05<00:00, 91.04it/s]\n",
      "Training Epoch 971: 100%|██████████| 500/500 [00:05<00:00, 91.49it/s]\n"
     ]
    },
    {
     "name": "stdout",
     "output_type": "stream",
     "text": [
      "Epoch 970 - Train Loss: 0.0651, Train MSE: 0.0647, Train MAE: 0.1798\n",
      "Epoch 970 - Validation Loss: 1.4602, Validation MSE: 1.4608, Validation MAE: 0.8416\n"
     ]
    },
    {
     "name": "stderr",
     "output_type": "stream",
     "text": [
      "Training Epoch 972: 100%|██████████| 500/500 [00:05<00:00, 90.40it/s]\n",
      "Training Epoch 973: 100%|██████████| 500/500 [00:05<00:00, 90.42it/s]\n",
      "Training Epoch 974: 100%|██████████| 500/500 [00:05<00:00, 90.77it/s]\n",
      "Training Epoch 975: 100%|██████████| 500/500 [00:05<00:00, 90.18it/s]\n",
      "Training Epoch 976: 100%|██████████| 500/500 [00:05<00:00, 92.65it/s]\n",
      "Training Epoch 977: 100%|██████████| 500/500 [00:05<00:00, 91.13it/s]\n",
      "Training Epoch 978: 100%|██████████| 500/500 [00:05<00:00, 90.73it/s]\n",
      "Training Epoch 979: 100%|██████████| 500/500 [00:05<00:00, 91.42it/s]\n",
      "Training Epoch 980: 100%|██████████| 500/500 [00:05<00:00, 90.94it/s]\n",
      "Training Epoch 981: 100%|██████████| 500/500 [00:05<00:00, 90.42it/s]\n"
     ]
    },
    {
     "name": "stdout",
     "output_type": "stream",
     "text": [
      "Epoch 980 - Train Loss: 0.0609, Train MSE: 0.0609, Train MAE: 0.1766\n",
      "Epoch 980 - Validation Loss: 1.4920, Validation MSE: 1.4920, Validation MAE: 0.8513\n"
     ]
    },
    {
     "name": "stderr",
     "output_type": "stream",
     "text": [
      "Training Epoch 982: 100%|██████████| 500/500 [00:05<00:00, 91.40it/s]\n",
      "Training Epoch 983: 100%|██████████| 500/500 [00:05<00:00, 91.28it/s]\n",
      "Training Epoch 984: 100%|██████████| 500/500 [00:05<00:00, 91.03it/s]\n",
      "Training Epoch 985: 100%|██████████| 500/500 [00:05<00:00, 92.23it/s]\n",
      "Training Epoch 986: 100%|██████████| 500/500 [00:05<00:00, 91.83it/s]\n",
      "Training Epoch 987: 100%|██████████| 500/500 [00:05<00:00, 90.30it/s]\n",
      "Training Epoch 988: 100%|██████████| 500/500 [00:05<00:00, 90.04it/s]\n",
      "Training Epoch 989: 100%|██████████| 500/500 [00:05<00:00, 89.98it/s]\n",
      "Training Epoch 990: 100%|██████████| 500/500 [00:05<00:00, 90.28it/s]\n",
      "Training Epoch 991: 100%|██████████| 500/500 [00:05<00:00, 92.92it/s]\n"
     ]
    },
    {
     "name": "stdout",
     "output_type": "stream",
     "text": [
      "Epoch 990 - Train Loss: 0.0665, Train MSE: 0.0666, Train MAE: 0.1821\n",
      "Epoch 990 - Validation Loss: 1.4589, Validation MSE: 1.4584, Validation MAE: 0.8412\n"
     ]
    },
    {
     "name": "stderr",
     "output_type": "stream",
     "text": [
      "Training Epoch 992: 100%|██████████| 500/500 [00:05<00:00, 93.84it/s]\n",
      "Training Epoch 993: 100%|██████████| 500/500 [00:05<00:00, 90.69it/s]\n",
      "Training Epoch 994: 100%|██████████| 500/500 [00:05<00:00, 90.83it/s]\n",
      "Training Epoch 995: 100%|██████████| 500/500 [00:05<00:00, 90.76it/s]\n",
      "Training Epoch 996: 100%|██████████| 500/500 [00:05<00:00, 90.60it/s]\n",
      "Training Epoch 997: 100%|██████████| 500/500 [00:05<00:00, 91.20it/s]\n",
      "Training Epoch 998: 100%|██████████| 500/500 [00:05<00:00, 91.23it/s]\n",
      "Training Epoch 999: 100%|██████████| 500/500 [00:05<00:00, 90.92it/s]\n",
      "Training Epoch 1000: 100%|██████████| 500/500 [00:05<00:00, 90.42it/s]\n",
      "Training Epoch 1001: 100%|██████████| 500/500 [00:05<00:00, 91.52it/s]\n"
     ]
    },
    {
     "name": "stdout",
     "output_type": "stream",
     "text": [
      "Epoch 1000 - Train Loss: 0.0909, Train MSE: 0.0910, Train MAE: 0.1985\n",
      "Epoch 1000 - Validation Loss: 1.5021, Validation MSE: 1.5016, Validation MAE: 0.8530\n"
     ]
    },
    {
     "name": "stderr",
     "output_type": "stream",
     "text": [
      "Training Epoch 1002: 100%|██████████| 500/500 [00:05<00:00, 91.18it/s]\n",
      "Training Epoch 1003: 100%|██████████| 500/500 [00:05<00:00, 91.64it/s]\n",
      "Training Epoch 1004: 100%|██████████| 500/500 [00:05<00:00, 90.23it/s]\n",
      "Training Epoch 1005: 100%|██████████| 500/500 [00:05<00:00, 91.02it/s]\n",
      "Training Epoch 1006: 100%|██████████| 500/500 [00:05<00:00, 91.15it/s]\n",
      "Training Epoch 1007: 100%|██████████| 500/500 [00:05<00:00, 90.86it/s]\n",
      "Training Epoch 1008: 100%|██████████| 500/500 [00:05<00:00, 90.74it/s]\n",
      "Training Epoch 1009: 100%|██████████| 500/500 [00:05<00:00, 93.18it/s]\n",
      "Training Epoch 1010: 100%|██████████| 500/500 [00:05<00:00, 89.39it/s]\n",
      "Training Epoch 1011: 100%|██████████| 500/500 [00:05<00:00, 92.58it/s]\n"
     ]
    },
    {
     "name": "stdout",
     "output_type": "stream",
     "text": [
      "Epoch 1010 - Train Loss: 0.0643, Train MSE: 0.0645, Train MAE: 0.1793\n",
      "Epoch 1010 - Validation Loss: 1.4478, Validation MSE: 1.4463, Validation MAE: 0.8457\n"
     ]
    },
    {
     "name": "stderr",
     "output_type": "stream",
     "text": [
      "Training Epoch 1012: 100%|██████████| 500/500 [00:05<00:00, 90.39it/s]\n",
      "Training Epoch 1013: 100%|██████████| 500/500 [00:05<00:00, 91.93it/s]\n",
      "Training Epoch 1014: 100%|██████████| 500/500 [00:05<00:00, 90.98it/s]\n",
      "Training Epoch 1015: 100%|██████████| 500/500 [00:05<00:00, 90.24it/s]\n",
      "Training Epoch 1016: 100%|██████████| 500/500 [00:05<00:00, 91.08it/s]\n",
      "Training Epoch 1017: 100%|██████████| 500/500 [00:05<00:00, 90.93it/s]\n",
      "Training Epoch 1018: 100%|██████████| 500/500 [00:05<00:00, 89.61it/s]\n",
      "Training Epoch 1019: 100%|██████████| 500/500 [00:05<00:00, 91.36it/s]\n",
      "Training Epoch 1020: 100%|██████████| 500/500 [00:05<00:00, 90.22it/s]\n",
      "Training Epoch 1021: 100%|██████████| 500/500 [00:05<00:00, 89.43it/s]\n"
     ]
    },
    {
     "name": "stdout",
     "output_type": "stream",
     "text": [
      "Epoch 1020 - Train Loss: 0.0629, Train MSE: 0.0626, Train MAE: 0.1777\n",
      "Epoch 1020 - Validation Loss: 1.4602, Validation MSE: 1.4600, Validation MAE: 0.8460\n"
     ]
    },
    {
     "name": "stderr",
     "output_type": "stream",
     "text": [
      "Training Epoch 1022: 100%|██████████| 500/500 [00:05<00:00, 90.83it/s]\n",
      "Training Epoch 1023: 100%|██████████| 500/500 [00:05<00:00, 87.90it/s]\n",
      "Training Epoch 1024: 100%|██████████| 500/500 [00:05<00:00, 90.07it/s]\n",
      "Training Epoch 1025: 100%|██████████| 500/500 [00:05<00:00, 92.93it/s]\n",
      "Training Epoch 1026: 100%|██████████| 500/500 [00:05<00:00, 89.80it/s]\n",
      "Training Epoch 1027: 100%|██████████| 500/500 [00:05<00:00, 92.33it/s]\n",
      "Training Epoch 1028: 100%|██████████| 500/500 [00:05<00:00, 90.90it/s]\n",
      "Training Epoch 1029: 100%|██████████| 500/500 [00:05<00:00, 90.24it/s]\n",
      "Training Epoch 1030: 100%|██████████| 500/500 [00:05<00:00, 92.81it/s]\n",
      "Training Epoch 1031: 100%|██████████| 500/500 [00:05<00:00, 89.78it/s]\n"
     ]
    },
    {
     "name": "stdout",
     "output_type": "stream",
     "text": [
      "Epoch 1030 - Train Loss: 0.0668, Train MSE: 0.0669, Train MAE: 0.1833\n",
      "Epoch 1030 - Validation Loss: 1.4981, Validation MSE: 1.4998, Validation MAE: 0.8560\n"
     ]
    },
    {
     "name": "stderr",
     "output_type": "stream",
     "text": [
      "Training Epoch 1032: 100%|██████████| 500/500 [00:05<00:00, 90.65it/s]\n",
      "Training Epoch 1033: 100%|██████████| 500/500 [00:05<00:00, 91.21it/s]\n",
      "Training Epoch 1034: 100%|██████████| 500/500 [00:05<00:00, 91.27it/s]\n",
      "Training Epoch 1035: 100%|██████████| 500/500 [00:05<00:00, 89.64it/s]\n",
      "Training Epoch 1036: 100%|██████████| 500/500 [00:05<00:00, 90.20it/s]\n",
      "Training Epoch 1037: 100%|██████████| 500/500 [00:05<00:00, 90.71it/s]\n",
      "Training Epoch 1038: 100%|██████████| 500/500 [00:05<00:00, 92.41it/s]\n",
      "Training Epoch 1039: 100%|██████████| 500/500 [00:05<00:00, 91.85it/s]\n",
      "Training Epoch 1040: 100%|██████████| 500/500 [00:05<00:00, 90.35it/s]\n",
      "Training Epoch 1041: 100%|██████████| 500/500 [00:05<00:00, 90.45it/s]\n"
     ]
    },
    {
     "name": "stdout",
     "output_type": "stream",
     "text": [
      "Epoch 1040 - Train Loss: 0.0569, Train MSE: 0.0570, Train MAE: 0.1721\n",
      "Epoch 1040 - Validation Loss: 1.4511, Validation MSE: 1.4523, Validation MAE: 0.8421\n"
     ]
    },
    {
     "name": "stderr",
     "output_type": "stream",
     "text": [
      "Training Epoch 1042: 100%|██████████| 500/500 [00:05<00:00, 90.30it/s]\n",
      "Training Epoch 1043: 100%|██████████| 500/500 [00:05<00:00, 89.80it/s]\n",
      "Training Epoch 1044: 100%|██████████| 500/500 [00:05<00:00, 91.44it/s]\n",
      "Training Epoch 1045: 100%|██████████| 500/500 [00:05<00:00, 91.27it/s]\n",
      "Training Epoch 1046: 100%|██████████| 500/500 [00:05<00:00, 91.42it/s]\n",
      "Training Epoch 1047: 100%|██████████| 500/500 [00:05<00:00, 90.80it/s]\n",
      "Training Epoch 1048: 100%|██████████| 500/500 [00:05<00:00, 91.45it/s]\n",
      "Training Epoch 1049: 100%|██████████| 500/500 [00:05<00:00, 89.77it/s]\n",
      "Training Epoch 1050: 100%|██████████| 500/500 [00:05<00:00, 89.88it/s]\n",
      "Training Epoch 1051: 100%|██████████| 500/500 [00:05<00:00, 91.91it/s]\n"
     ]
    },
    {
     "name": "stdout",
     "output_type": "stream",
     "text": [
      "Epoch 1050 - Train Loss: 0.0599, Train MSE: 0.0599, Train MAE: 0.1752\n",
      "Epoch 1050 - Validation Loss: 1.4960, Validation MSE: 1.4970, Validation MAE: 0.8504\n"
     ]
    },
    {
     "name": "stderr",
     "output_type": "stream",
     "text": [
      "Training Epoch 1052: 100%|██████████| 500/500 [00:05<00:00, 87.77it/s]\n",
      "Training Epoch 1053: 100%|██████████| 500/500 [00:05<00:00, 89.03it/s]\n",
      "Training Epoch 1054: 100%|██████████| 500/500 [00:05<00:00, 89.28it/s]\n",
      "Training Epoch 1055: 100%|██████████| 500/500 [00:05<00:00, 91.91it/s]\n",
      "Training Epoch 1056: 100%|██████████| 500/500 [00:05<00:00, 90.12it/s]\n",
      "Training Epoch 1057: 100%|██████████| 500/500 [00:05<00:00, 90.29it/s]\n",
      "Training Epoch 1058: 100%|██████████| 500/500 [00:05<00:00, 91.68it/s]\n",
      "Training Epoch 1059: 100%|██████████| 500/500 [00:05<00:00, 90.47it/s]\n",
      "Training Epoch 1060: 100%|██████████| 500/500 [00:05<00:00, 89.45it/s]\n",
      "Training Epoch 1061: 100%|██████████| 500/500 [00:05<00:00, 92.05it/s]\n"
     ]
    },
    {
     "name": "stdout",
     "output_type": "stream",
     "text": [
      "Epoch 1060 - Train Loss: 0.0678, Train MSE: 0.0679, Train MAE: 0.1841\n",
      "Epoch 1060 - Validation Loss: 1.4874, Validation MSE: 1.4887, Validation MAE: 0.8477\n"
     ]
    },
    {
     "name": "stderr",
     "output_type": "stream",
     "text": [
      "Training Epoch 1062: 100%|██████████| 500/500 [00:05<00:00, 90.79it/s]\n",
      "Training Epoch 1063: 100%|██████████| 500/500 [00:05<00:00, 89.43it/s]\n",
      "Training Epoch 1064: 100%|██████████| 500/500 [00:05<00:00, 91.67it/s]\n",
      "Training Epoch 1065: 100%|██████████| 500/500 [00:05<00:00, 90.85it/s]\n",
      "Training Epoch 1066: 100%|██████████| 500/500 [00:05<00:00, 90.11it/s]\n",
      "Training Epoch 1067: 100%|██████████| 500/500 [00:05<00:00, 91.01it/s]\n",
      "Training Epoch 1068: 100%|██████████| 500/500 [00:05<00:00, 90.60it/s]\n",
      "Training Epoch 1069: 100%|██████████| 500/500 [00:05<00:00, 90.26it/s]\n",
      "Training Epoch 1070: 100%|██████████| 500/500 [00:05<00:00, 90.66it/s]\n",
      "Training Epoch 1071: 100%|██████████| 500/500 [00:05<00:00, 90.84it/s]\n"
     ]
    },
    {
     "name": "stdout",
     "output_type": "stream",
     "text": [
      "Epoch 1070 - Train Loss: 0.0664, Train MSE: 0.0645, Train MAE: 0.1784\n",
      "Epoch 1070 - Validation Loss: 1.4851, Validation MSE: 1.4871, Validation MAE: 0.8502\n"
     ]
    },
    {
     "name": "stderr",
     "output_type": "stream",
     "text": [
      "Training Epoch 1072: 100%|██████████| 500/500 [00:05<00:00, 89.62it/s]\n",
      "Training Epoch 1073: 100%|██████████| 500/500 [00:05<00:00, 90.92it/s]\n",
      "Training Epoch 1074: 100%|██████████| 500/500 [00:05<00:00, 89.63it/s]\n",
      "Training Epoch 1075: 100%|██████████| 500/500 [00:05<00:00, 90.63it/s]\n",
      "Training Epoch 1076: 100%|██████████| 500/500 [00:05<00:00, 90.35it/s]\n",
      "Training Epoch 1077: 100%|██████████| 500/500 [00:05<00:00, 92.10it/s]\n",
      "Training Epoch 1078: 100%|██████████| 500/500 [00:05<00:00, 90.40it/s]\n",
      "Training Epoch 1079: 100%|██████████| 500/500 [00:05<00:00, 91.41it/s]\n",
      "Training Epoch 1080: 100%|██████████| 500/500 [00:05<00:00, 91.34it/s]\n",
      "Training Epoch 1081: 100%|██████████| 500/500 [00:05<00:00, 90.63it/s]\n"
     ]
    },
    {
     "name": "stdout",
     "output_type": "stream",
     "text": [
      "Epoch 1080 - Train Loss: 0.0983, Train MSE: 0.0985, Train MAE: 0.2061\n",
      "Epoch 1080 - Validation Loss: 1.4920, Validation MSE: 1.4929, Validation MAE: 0.8521\n"
     ]
    },
    {
     "name": "stderr",
     "output_type": "stream",
     "text": [
      "Training Epoch 1082: 100%|██████████| 500/500 [00:05<00:00, 88.96it/s]\n",
      "Training Epoch 1083: 100%|██████████| 500/500 [00:05<00:00, 91.90it/s]\n",
      "Training Epoch 1084: 100%|██████████| 500/500 [00:05<00:00, 90.43it/s]\n",
      "Training Epoch 1085: 100%|██████████| 500/500 [00:05<00:00, 90.66it/s]\n",
      "Training Epoch 1086: 100%|██████████| 500/500 [00:05<00:00, 91.79it/s]\n",
      "Training Epoch 1087: 100%|██████████| 500/500 [00:05<00:00, 90.91it/s]\n",
      "Training Epoch 1088: 100%|██████████| 500/500 [00:05<00:00, 90.55it/s]\n",
      "Training Epoch 1089: 100%|██████████| 500/500 [00:05<00:00, 90.83it/s]\n",
      "Training Epoch 1090: 100%|██████████| 500/500 [00:05<00:00, 91.37it/s]\n",
      "Training Epoch 1091: 100%|██████████| 500/500 [00:05<00:00, 90.75it/s]\n"
     ]
    },
    {
     "name": "stdout",
     "output_type": "stream",
     "text": [
      "Epoch 1090 - Train Loss: 0.0627, Train MSE: 0.0628, Train MAE: 0.1793\n",
      "Epoch 1090 - Validation Loss: 1.4914, Validation MSE: 1.4942, Validation MAE: 0.8550\n"
     ]
    },
    {
     "name": "stderr",
     "output_type": "stream",
     "text": [
      "Training Epoch 1092: 100%|██████████| 500/500 [00:05<00:00, 91.71it/s]\n",
      "Training Epoch 1093: 100%|██████████| 500/500 [00:05<00:00, 89.95it/s]\n",
      "Training Epoch 1094: 100%|██████████| 500/500 [00:05<00:00, 91.10it/s]\n",
      "Training Epoch 1095: 100%|██████████| 500/500 [00:05<00:00, 90.67it/s]\n",
      "Training Epoch 1096: 100%|██████████| 500/500 [00:05<00:00, 90.21it/s]\n",
      "Training Epoch 1097: 100%|██████████| 500/500 [00:05<00:00, 90.88it/s]\n",
      "Training Epoch 1098: 100%|██████████| 500/500 [00:05<00:00, 92.11it/s]\n",
      "Training Epoch 1099: 100%|██████████| 500/500 [00:06<00:00, 73.57it/s]\n",
      "Training Epoch 1100: 100%|██████████| 500/500 [00:05<00:00, 90.40it/s]\n",
      "Training Epoch 1101: 100%|██████████| 500/500 [00:05<00:00, 87.99it/s]\n"
     ]
    },
    {
     "name": "stdout",
     "output_type": "stream",
     "text": [
      "Epoch 1100 - Train Loss: 0.0715, Train MSE: 0.0716, Train MAE: 0.1839\n",
      "Epoch 1100 - Validation Loss: 1.4456, Validation MSE: 1.4477, Validation MAE: 0.8368\n"
     ]
    },
    {
     "name": "stderr",
     "output_type": "stream",
     "text": [
      "Training Epoch 1102: 100%|██████████| 500/500 [00:05<00:00, 88.52it/s]\n",
      "Training Epoch 1103: 100%|██████████| 500/500 [00:05<00:00, 91.38it/s]\n",
      "Training Epoch 1104: 100%|██████████| 500/500 [00:05<00:00, 88.23it/s]\n",
      "Training Epoch 1105: 100%|██████████| 500/500 [00:05<00:00, 90.58it/s]\n",
      "Training Epoch 1106: 100%|██████████| 500/500 [00:05<00:00, 89.39it/s]\n",
      "Training Epoch 1107: 100%|██████████| 500/500 [00:05<00:00, 89.80it/s]\n",
      "Training Epoch 1108: 100%|██████████| 500/500 [00:05<00:00, 90.57it/s]\n",
      "Training Epoch 1109: 100%|██████████| 500/500 [00:05<00:00, 92.60it/s]\n",
      "Training Epoch 1110: 100%|██████████| 500/500 [00:05<00:00, 90.38it/s]\n",
      "Training Epoch 1111: 100%|██████████| 500/500 [00:05<00:00, 91.10it/s]\n"
     ]
    },
    {
     "name": "stdout",
     "output_type": "stream",
     "text": [
      "Epoch 1110 - Train Loss: 0.0667, Train MSE: 0.0668, Train MAE: 0.1814\n",
      "Epoch 1110 - Validation Loss: 1.4748, Validation MSE: 1.4754, Validation MAE: 0.8498\n"
     ]
    },
    {
     "name": "stderr",
     "output_type": "stream",
     "text": [
      "Training Epoch 1112: 100%|██████████| 500/500 [00:05<00:00, 89.74it/s]\n",
      "Training Epoch 1113: 100%|██████████| 500/500 [00:05<00:00, 89.64it/s]\n",
      "Training Epoch 1114: 100%|██████████| 500/500 [00:05<00:00, 91.13it/s]\n",
      "Training Epoch 1115: 100%|██████████| 500/500 [00:05<00:00, 91.12it/s]\n",
      "Training Epoch 1116: 100%|██████████| 500/500 [00:05<00:00, 90.60it/s]\n",
      "Training Epoch 1117: 100%|██████████| 500/500 [00:05<00:00, 92.24it/s]\n",
      "Training Epoch 1118: 100%|██████████| 500/500 [00:05<00:00, 88.47it/s]\n",
      "Training Epoch 1119: 100%|██████████| 500/500 [00:05<00:00, 91.78it/s]\n",
      "Training Epoch 1120: 100%|██████████| 500/500 [00:05<00:00, 90.13it/s]\n",
      "Training Epoch 1121: 100%|██████████| 500/500 [00:05<00:00, 91.77it/s]\n"
     ]
    },
    {
     "name": "stdout",
     "output_type": "stream",
     "text": [
      "Epoch 1120 - Train Loss: 0.0567, Train MSE: 0.0568, Train MAE: 0.1685\n",
      "Epoch 1120 - Validation Loss: 1.4567, Validation MSE: 1.4581, Validation MAE: 0.8407\n"
     ]
    },
    {
     "name": "stderr",
     "output_type": "stream",
     "text": [
      "Training Epoch 1122: 100%|██████████| 500/500 [00:05<00:00, 90.72it/s]\n",
      "Training Epoch 1123: 100%|██████████| 500/500 [00:05<00:00, 91.77it/s]\n",
      "Training Epoch 1124: 100%|██████████| 500/500 [00:05<00:00, 91.25it/s]\n",
      "Training Epoch 1125: 100%|██████████| 500/500 [00:05<00:00, 90.99it/s]\n",
      "Training Epoch 1126: 100%|██████████| 500/500 [00:05<00:00, 89.89it/s]\n",
      "Training Epoch 1127: 100%|██████████| 500/500 [00:05<00:00, 90.42it/s]\n",
      "Training Epoch 1128: 100%|██████████| 500/500 [00:05<00:00, 91.49it/s]\n",
      "Training Epoch 1129: 100%|██████████| 500/500 [00:05<00:00, 89.69it/s]\n",
      "Training Epoch 1130: 100%|██████████| 500/500 [00:05<00:00, 90.98it/s]\n",
      "Training Epoch 1131: 100%|██████████| 500/500 [00:05<00:00, 91.30it/s]\n"
     ]
    },
    {
     "name": "stdout",
     "output_type": "stream",
     "text": [
      "Epoch 1130 - Train Loss: 0.0562, Train MSE: 0.0558, Train MAE: 0.1707\n",
      "Epoch 1130 - Validation Loss: 1.4850, Validation MSE: 1.4840, Validation MAE: 0.8477\n"
     ]
    },
    {
     "name": "stderr",
     "output_type": "stream",
     "text": [
      "Training Epoch 1132: 100%|██████████| 500/500 [00:05<00:00, 89.64it/s]\n",
      "Training Epoch 1133: 100%|██████████| 500/500 [00:05<00:00, 90.91it/s]\n",
      "Training Epoch 1134: 100%|██████████| 500/500 [00:05<00:00, 91.42it/s]\n",
      "Training Epoch 1135: 100%|██████████| 500/500 [00:05<00:00, 90.65it/s]\n",
      "Training Epoch 1136: 100%|██████████| 500/500 [00:05<00:00, 89.29it/s]\n",
      "Training Epoch 1137: 100%|██████████| 500/500 [00:05<00:00, 89.87it/s]\n",
      "Training Epoch 1138: 100%|██████████| 500/500 [00:05<00:00, 89.77it/s]\n",
      "Training Epoch 1139: 100%|██████████| 500/500 [00:05<00:00, 91.08it/s]\n",
      "Training Epoch 1140: 100%|██████████| 500/500 [00:05<00:00, 90.89it/s]\n",
      "Training Epoch 1141: 100%|██████████| 500/500 [00:05<00:00, 91.69it/s]\n"
     ]
    },
    {
     "name": "stdout",
     "output_type": "stream",
     "text": [
      "Epoch 1140 - Train Loss: 0.0564, Train MSE: 0.0565, Train MAE: 0.1686\n",
      "Epoch 1140 - Validation Loss: 1.4748, Validation MSE: 1.4745, Validation MAE: 0.8432\n"
     ]
    },
    {
     "name": "stderr",
     "output_type": "stream",
     "text": [
      "Training Epoch 1142: 100%|██████████| 500/500 [00:05<00:00, 91.20it/s]\n",
      "Training Epoch 1143: 100%|██████████| 500/500 [00:05<00:00, 90.27it/s]\n",
      "Training Epoch 1144: 100%|██████████| 500/500 [00:05<00:00, 90.50it/s]\n",
      "Training Epoch 1145: 100%|██████████| 500/500 [00:05<00:00, 91.23it/s]\n",
      "Training Epoch 1146: 100%|██████████| 500/500 [00:05<00:00, 90.13it/s]\n",
      "Training Epoch 1147: 100%|██████████| 500/500 [00:05<00:00, 91.52it/s]\n",
      "Training Epoch 1148: 100%|██████████| 500/500 [00:05<00:00, 89.43it/s]\n",
      "Training Epoch 1149: 100%|██████████| 500/500 [00:05<00:00, 89.94it/s]\n",
      "Training Epoch 1150: 100%|██████████| 500/500 [00:05<00:00, 91.61it/s]\n",
      "Training Epoch 1151: 100%|██████████| 500/500 [00:05<00:00, 90.71it/s]\n"
     ]
    },
    {
     "name": "stdout",
     "output_type": "stream",
     "text": [
      "Epoch 1150 - Train Loss: 0.0566, Train MSE: 0.0567, Train MAE: 0.1693\n",
      "Epoch 1150 - Validation Loss: 1.4812, Validation MSE: 1.4817, Validation MAE: 0.8450\n"
     ]
    },
    {
     "name": "stderr",
     "output_type": "stream",
     "text": [
      "Training Epoch 1152: 100%|██████████| 500/500 [00:05<00:00, 89.89it/s]\n",
      "Training Epoch 1153: 100%|██████████| 500/500 [00:05<00:00, 92.57it/s]\n",
      "Training Epoch 1154: 100%|██████████| 500/500 [00:05<00:00, 90.76it/s]\n",
      "Training Epoch 1155: 100%|██████████| 500/500 [00:05<00:00, 89.88it/s]\n",
      "Training Epoch 1156: 100%|██████████| 500/500 [00:05<00:00, 90.82it/s]\n",
      "Training Epoch 1157: 100%|██████████| 500/500 [00:05<00:00, 89.26it/s]\n",
      "Training Epoch 1158: 100%|██████████| 500/500 [00:05<00:00, 92.13it/s]\n",
      "Training Epoch 1159: 100%|██████████| 500/500 [00:05<00:00, 92.32it/s]\n",
      "Training Epoch 1160: 100%|██████████| 500/500 [00:05<00:00, 89.48it/s]\n",
      "Training Epoch 1161: 100%|██████████| 500/500 [00:05<00:00, 90.77it/s]\n"
     ]
    },
    {
     "name": "stdout",
     "output_type": "stream",
     "text": [
      "Epoch 1160 - Train Loss: 0.0582, Train MSE: 0.0582, Train MAE: 0.1696\n",
      "Epoch 1160 - Validation Loss: 1.4972, Validation MSE: 1.4978, Validation MAE: 0.8535\n"
     ]
    },
    {
     "name": "stderr",
     "output_type": "stream",
     "text": [
      "Training Epoch 1162: 100%|██████████| 500/500 [00:05<00:00, 91.27it/s]\n",
      "Training Epoch 1163: 100%|██████████| 500/500 [00:05<00:00, 91.08it/s]\n",
      "Training Epoch 1164: 100%|██████████| 500/500 [00:05<00:00, 90.59it/s]\n",
      "Training Epoch 1165: 100%|██████████| 500/500 [00:05<00:00, 91.35it/s]\n",
      "Training Epoch 1166: 100%|██████████| 500/500 [00:05<00:00, 90.52it/s]\n",
      "Training Epoch 1167: 100%|██████████| 500/500 [00:05<00:00, 90.83it/s]\n",
      "Training Epoch 1168: 100%|██████████| 500/500 [00:05<00:00, 90.15it/s]\n",
      "Training Epoch 1169: 100%|██████████| 500/500 [00:05<00:00, 91.24it/s]\n",
      "Training Epoch 1170: 100%|██████████| 500/500 [00:05<00:00, 91.67it/s]\n",
      "Training Epoch 1171: 100%|██████████| 500/500 [00:05<00:00, 91.11it/s]\n"
     ]
    },
    {
     "name": "stdout",
     "output_type": "stream",
     "text": [
      "Epoch 1170 - Train Loss: 0.0568, Train MSE: 0.0569, Train MAE: 0.1699\n",
      "Epoch 1170 - Validation Loss: 1.4645, Validation MSE: 1.4652, Validation MAE: 0.8398\n"
     ]
    },
    {
     "name": "stderr",
     "output_type": "stream",
     "text": [
      "Training Epoch 1172: 100%|██████████| 500/500 [00:05<00:00, 91.27it/s]\n",
      "Training Epoch 1173: 100%|██████████| 500/500 [00:05<00:00, 91.68it/s]\n",
      "Training Epoch 1174: 100%|██████████| 500/500 [00:05<00:00, 90.90it/s]\n",
      "Training Epoch 1175: 100%|██████████| 500/500 [00:05<00:00, 91.98it/s]\n",
      "Training Epoch 1176: 100%|██████████| 500/500 [00:05<00:00, 90.92it/s]\n",
      "Training Epoch 1177: 100%|██████████| 500/500 [00:05<00:00, 90.11it/s]\n",
      "Training Epoch 1178: 100%|██████████| 500/500 [00:05<00:00, 90.66it/s]\n",
      "Training Epoch 1179: 100%|██████████| 500/500 [00:05<00:00, 91.18it/s]\n",
      "Training Epoch 1180: 100%|██████████| 500/500 [00:05<00:00, 89.03it/s]\n",
      "Training Epoch 1181: 100%|██████████| 500/500 [00:05<00:00, 91.80it/s]\n"
     ]
    },
    {
     "name": "stdout",
     "output_type": "stream",
     "text": [
      "Epoch 1180 - Train Loss: 0.0590, Train MSE: 0.0590, Train MAE: 0.1708\n",
      "Epoch 1180 - Validation Loss: 1.4787, Validation MSE: 1.4817, Validation MAE: 0.8474\n"
     ]
    },
    {
     "name": "stderr",
     "output_type": "stream",
     "text": [
      "Training Epoch 1182: 100%|██████████| 500/500 [00:05<00:00, 90.39it/s]\n",
      "Training Epoch 1183: 100%|██████████| 500/500 [00:05<00:00, 91.22it/s]\n",
      "Training Epoch 1184: 100%|██████████| 500/500 [00:05<00:00, 89.49it/s]\n",
      "Training Epoch 1185: 100%|██████████| 500/500 [00:05<00:00, 90.40it/s]\n",
      "Training Epoch 1186: 100%|██████████| 500/500 [00:05<00:00, 90.60it/s]\n",
      "Training Epoch 1187: 100%|██████████| 500/500 [00:05<00:00, 91.11it/s]\n",
      "Training Epoch 1188: 100%|██████████| 500/500 [00:05<00:00, 90.51it/s]\n",
      "Training Epoch 1189: 100%|██████████| 500/500 [00:05<00:00, 91.46it/s]\n",
      "Training Epoch 1190: 100%|██████████| 500/500 [00:05<00:00, 90.06it/s]\n",
      "Training Epoch 1191: 100%|██████████| 500/500 [00:05<00:00, 90.92it/s]\n"
     ]
    },
    {
     "name": "stdout",
     "output_type": "stream",
     "text": [
      "Epoch 1190 - Train Loss: 0.0574, Train MSE: 0.0575, Train MAE: 0.1704\n",
      "Epoch 1190 - Validation Loss: 1.5041, Validation MSE: 1.5060, Validation MAE: 0.8608\n"
     ]
    },
    {
     "name": "stderr",
     "output_type": "stream",
     "text": [
      "Training Epoch 1192: 100%|██████████| 500/500 [00:05<00:00, 90.01it/s]\n",
      "Training Epoch 1193: 100%|██████████| 500/500 [00:05<00:00, 91.12it/s]\n",
      "Training Epoch 1194: 100%|██████████| 500/500 [00:05<00:00, 90.99it/s]\n",
      "Training Epoch 1195: 100%|██████████| 500/500 [00:05<00:00, 90.70it/s]\n",
      "Training Epoch 1196: 100%|██████████| 500/500 [00:05<00:00, 89.91it/s]\n",
      "Training Epoch 1197: 100%|██████████| 500/500 [00:05<00:00, 90.97it/s]\n",
      "Training Epoch 1198: 100%|██████████| 500/500 [00:05<00:00, 91.19it/s]\n",
      "Training Epoch 1199: 100%|██████████| 500/500 [00:05<00:00, 89.17it/s]\n",
      "Training Epoch 1200: 100%|██████████| 500/500 [00:05<00:00, 90.74it/s]\n",
      "Training Epoch 1201: 100%|██████████| 500/500 [00:05<00:00, 91.38it/s]\n"
     ]
    },
    {
     "name": "stdout",
     "output_type": "stream",
     "text": [
      "Epoch 1200 - Train Loss: 0.0522, Train MSE: 0.0523, Train MAE: 0.1637\n",
      "Epoch 1200 - Validation Loss: 1.5185, Validation MSE: 1.5199, Validation MAE: 0.8551\n"
     ]
    },
    {
     "name": "stderr",
     "output_type": "stream",
     "text": [
      "Training Epoch 1202: 100%|██████████| 500/500 [00:05<00:00, 89.62it/s]\n",
      "Training Epoch 1203: 100%|██████████| 500/500 [00:05<00:00, 91.82it/s]\n",
      "Training Epoch 1204: 100%|██████████| 500/500 [00:05<00:00, 91.31it/s]\n",
      "Training Epoch 1205: 100%|██████████| 500/500 [00:05<00:00, 89.66it/s]\n",
      "Training Epoch 1206: 100%|██████████| 500/500 [00:05<00:00, 91.15it/s]\n",
      "Training Epoch 1207: 100%|██████████| 500/500 [00:05<00:00, 91.47it/s]\n",
      "Training Epoch 1208: 100%|██████████| 500/500 [00:05<00:00, 89.58it/s]\n",
      "Training Epoch 1209: 100%|██████████| 500/500 [00:05<00:00, 90.44it/s]\n",
      "Training Epoch 1210: 100%|██████████| 500/500 [00:05<00:00, 89.62it/s]\n",
      "Training Epoch 1211: 100%|██████████| 500/500 [00:05<00:00, 90.96it/s]\n"
     ]
    },
    {
     "name": "stdout",
     "output_type": "stream",
     "text": [
      "Epoch 1210 - Train Loss: 0.0544, Train MSE: 0.0544, Train MAE: 0.1656\n",
      "Epoch 1210 - Validation Loss: 1.4946, Validation MSE: 1.4959, Validation MAE: 0.8516\n"
     ]
    },
    {
     "name": "stderr",
     "output_type": "stream",
     "text": [
      "Training Epoch 1212: 100%|██████████| 500/500 [00:05<00:00, 91.20it/s]\n",
      "Training Epoch 1213: 100%|██████████| 500/500 [00:05<00:00, 89.90it/s]\n",
      "Training Epoch 1214: 100%|██████████| 500/500 [00:05<00:00, 91.22it/s]\n",
      "Training Epoch 1215: 100%|██████████| 500/500 [00:05<00:00, 92.13it/s]\n",
      "Training Epoch 1216: 100%|██████████| 500/500 [00:05<00:00, 92.22it/s]\n",
      "Training Epoch 1217: 100%|██████████| 500/500 [00:05<00:00, 90.61it/s]\n",
      "Training Epoch 1218: 100%|██████████| 500/500 [00:05<00:00, 92.40it/s]\n",
      "Training Epoch 1219: 100%|██████████| 500/500 [00:05<00:00, 91.07it/s]\n",
      "Training Epoch 1220: 100%|██████████| 500/500 [00:05<00:00, 90.80it/s]\n",
      "Training Epoch 1221: 100%|██████████| 500/500 [00:05<00:00, 89.42it/s]\n"
     ]
    },
    {
     "name": "stdout",
     "output_type": "stream",
     "text": [
      "Epoch 1220 - Train Loss: 0.0637, Train MSE: 0.0639, Train MAE: 0.1772\n",
      "Epoch 1220 - Validation Loss: 1.4580, Validation MSE: 1.4596, Validation MAE: 0.8457\n"
     ]
    },
    {
     "name": "stderr",
     "output_type": "stream",
     "text": [
      "Training Epoch 1222: 100%|██████████| 500/500 [00:05<00:00, 90.42it/s]\n",
      "Training Epoch 1223: 100%|██████████| 500/500 [00:05<00:00, 90.51it/s]\n",
      "Training Epoch 1224: 100%|██████████| 500/500 [00:05<00:00, 90.27it/s]\n",
      "Training Epoch 1225: 100%|██████████| 500/500 [00:05<00:00, 91.90it/s]\n",
      "Training Epoch 1226: 100%|██████████| 500/500 [00:05<00:00, 91.76it/s]\n",
      "Training Epoch 1227: 100%|██████████| 500/500 [00:05<00:00, 89.86it/s]\n",
      "Training Epoch 1228: 100%|██████████| 500/500 [00:05<00:00, 90.73it/s]\n",
      "Training Epoch 1229: 100%|██████████| 500/500 [00:05<00:00, 91.57it/s]\n",
      "Training Epoch 1230: 100%|██████████| 500/500 [00:05<00:00, 88.89it/s]\n",
      "Training Epoch 1231: 100%|██████████| 500/500 [00:05<00:00, 91.57it/s]\n"
     ]
    },
    {
     "name": "stdout",
     "output_type": "stream",
     "text": [
      "Epoch 1230 - Train Loss: 0.0586, Train MSE: 0.0586, Train MAE: 0.1694\n",
      "Epoch 1230 - Validation Loss: 1.4567, Validation MSE: 1.4570, Validation MAE: 0.8363\n"
     ]
    },
    {
     "name": "stderr",
     "output_type": "stream",
     "text": [
      "Training Epoch 1232: 100%|██████████| 500/500 [00:05<00:00, 91.15it/s]\n",
      "Training Epoch 1233: 100%|██████████| 500/500 [00:05<00:00, 90.32it/s]\n",
      "Training Epoch 1234: 100%|██████████| 500/500 [00:05<00:00, 91.60it/s]\n",
      "Training Epoch 1235: 100%|██████████| 500/500 [00:05<00:00, 91.40it/s]\n",
      "Training Epoch 1236: 100%|██████████| 500/500 [00:05<00:00, 91.61it/s]\n",
      "Training Epoch 1237: 100%|██████████| 500/500 [00:05<00:00, 91.83it/s]\n",
      "Training Epoch 1238: 100%|██████████| 500/500 [00:05<00:00, 90.71it/s]\n",
      "Training Epoch 1239: 100%|██████████| 500/500 [00:05<00:00, 89.90it/s]\n",
      "Training Epoch 1240: 100%|██████████| 500/500 [00:05<00:00, 90.64it/s]\n",
      "Training Epoch 1241: 100%|██████████| 500/500 [00:05<00:00, 90.09it/s]\n"
     ]
    },
    {
     "name": "stdout",
     "output_type": "stream",
     "text": [
      "Epoch 1240 - Train Loss: 0.0522, Train MSE: 0.0523, Train MAE: 0.1618\n",
      "Epoch 1240 - Validation Loss: 1.4980, Validation MSE: 1.4972, Validation MAE: 0.8505\n"
     ]
    },
    {
     "name": "stderr",
     "output_type": "stream",
     "text": [
      "Training Epoch 1242: 100%|██████████| 500/500 [00:05<00:00, 91.57it/s]\n",
      "Training Epoch 1243: 100%|██████████| 500/500 [00:05<00:00, 90.39it/s]\n",
      "Training Epoch 1244: 100%|██████████| 500/500 [00:05<00:00, 91.11it/s]\n",
      "Training Epoch 1245: 100%|██████████| 500/500 [00:05<00:00, 87.82it/s]\n",
      "Training Epoch 1246: 100%|██████████| 500/500 [00:05<00:00, 91.58it/s]\n",
      "Training Epoch 1247: 100%|██████████| 500/500 [00:05<00:00, 89.83it/s]\n",
      "Training Epoch 1248: 100%|██████████| 500/500 [00:05<00:00, 93.03it/s]\n",
      "Training Epoch 1249: 100%|██████████| 500/500 [00:05<00:00, 89.43it/s]\n",
      "Training Epoch 1250: 100%|██████████| 500/500 [00:05<00:00, 90.13it/s]\n",
      "Training Epoch 1251: 100%|██████████| 500/500 [00:05<00:00, 90.21it/s]\n"
     ]
    },
    {
     "name": "stdout",
     "output_type": "stream",
     "text": [
      "Epoch 1250 - Train Loss: 0.0682, Train MSE: 0.0683, Train MAE: 0.1808\n",
      "Epoch 1250 - Validation Loss: 1.4991, Validation MSE: 1.4987, Validation MAE: 0.8521\n"
     ]
    },
    {
     "name": "stderr",
     "output_type": "stream",
     "text": [
      "Training Epoch 1252: 100%|██████████| 500/500 [00:05<00:00, 90.95it/s]\n",
      "Training Epoch 1253: 100%|██████████| 500/500 [00:05<00:00, 90.18it/s]\n",
      "Training Epoch 1254: 100%|██████████| 500/500 [00:05<00:00, 91.62it/s]\n",
      "Training Epoch 1255: 100%|██████████| 500/500 [00:05<00:00, 90.31it/s]\n",
      "Training Epoch 1256: 100%|██████████| 500/500 [00:05<00:00, 91.25it/s]\n",
      "Training Epoch 1257: 100%|██████████| 500/500 [00:05<00:00, 91.06it/s]\n",
      "Training Epoch 1258: 100%|██████████| 500/500 [00:05<00:00, 89.79it/s]\n",
      "Training Epoch 1259: 100%|██████████| 500/500 [00:05<00:00, 90.25it/s]\n",
      "Training Epoch 1260: 100%|██████████| 500/500 [00:05<00:00, 91.99it/s]\n",
      "Training Epoch 1261: 100%|██████████| 500/500 [00:05<00:00, 89.10it/s]\n"
     ]
    },
    {
     "name": "stdout",
     "output_type": "stream",
     "text": [
      "Epoch 1260 - Train Loss: 0.0564, Train MSE: 0.0565, Train MAE: 0.1670\n",
      "Epoch 1260 - Validation Loss: 1.4837, Validation MSE: 1.4838, Validation MAE: 0.8445\n"
     ]
    },
    {
     "name": "stderr",
     "output_type": "stream",
     "text": [
      "Training Epoch 1262: 100%|██████████| 500/500 [00:05<00:00, 90.24it/s]\n",
      "Training Epoch 1263: 100%|██████████| 500/500 [00:05<00:00, 91.80it/s]\n",
      "Training Epoch 1264: 100%|██████████| 500/500 [00:05<00:00, 91.81it/s]\n",
      "Training Epoch 1265: 100%|██████████| 500/500 [00:05<00:00, 91.12it/s]\n",
      "Training Epoch 1266: 100%|██████████| 500/500 [00:05<00:00, 91.60it/s]\n",
      "Training Epoch 1267: 100%|██████████| 500/500 [00:05<00:00, 91.96it/s]\n",
      "Training Epoch 1268: 100%|██████████| 500/500 [00:05<00:00, 92.00it/s]\n",
      "Training Epoch 1269: 100%|██████████| 500/500 [00:05<00:00, 89.91it/s]\n",
      "Training Epoch 1270: 100%|██████████| 500/500 [00:05<00:00, 93.48it/s]\n",
      "Training Epoch 1271: 100%|██████████| 500/500 [00:05<00:00, 89.93it/s]\n"
     ]
    },
    {
     "name": "stdout",
     "output_type": "stream",
     "text": [
      "Epoch 1270 - Train Loss: 0.0636, Train MSE: 0.0637, Train MAE: 0.1736\n",
      "Epoch 1270 - Validation Loss: 1.4635, Validation MSE: 1.4617, Validation MAE: 0.8383\n"
     ]
    },
    {
     "name": "stderr",
     "output_type": "stream",
     "text": [
      "Training Epoch 1272: 100%|██████████| 500/500 [00:05<00:00, 90.50it/s]\n",
      "Training Epoch 1273: 100%|██████████| 500/500 [00:05<00:00, 91.15it/s]\n",
      "Training Epoch 1274: 100%|██████████| 500/500 [00:05<00:00, 90.99it/s]\n",
      "Training Epoch 1275: 100%|██████████| 500/500 [00:05<00:00, 89.67it/s]\n",
      "Training Epoch 1276: 100%|██████████| 500/500 [00:05<00:00, 91.07it/s]\n",
      "Training Epoch 1277: 100%|██████████| 500/500 [00:05<00:00, 89.86it/s]\n",
      "Training Epoch 1278: 100%|██████████| 500/500 [00:05<00:00, 90.03it/s]\n",
      "Training Epoch 1279: 100%|██████████| 500/500 [00:05<00:00, 88.47it/s]\n",
      "Training Epoch 1280: 100%|██████████| 500/500 [00:05<00:00, 90.97it/s]\n",
      "Training Epoch 1281: 100%|██████████| 500/500 [00:05<00:00, 90.42it/s]\n"
     ]
    },
    {
     "name": "stdout",
     "output_type": "stream",
     "text": [
      "Epoch 1280 - Train Loss: 0.0574, Train MSE: 0.0574, Train MAE: 0.1701\n",
      "Epoch 1280 - Validation Loss: 1.5112, Validation MSE: 1.5112, Validation MAE: 0.8516\n"
     ]
    },
    {
     "name": "stderr",
     "output_type": "stream",
     "text": [
      "Training Epoch 1282: 100%|██████████| 500/500 [00:05<00:00, 91.26it/s]\n",
      "Training Epoch 1283: 100%|██████████| 500/500 [00:05<00:00, 88.97it/s]\n",
      "Training Epoch 1284: 100%|██████████| 500/500 [00:05<00:00, 91.61it/s]\n",
      "Training Epoch 1285: 100%|██████████| 500/500 [00:05<00:00, 90.37it/s]\n",
      "Training Epoch 1286: 100%|██████████| 500/500 [00:05<00:00, 89.85it/s]\n",
      "Training Epoch 1287: 100%|██████████| 500/500 [00:05<00:00, 90.60it/s]\n",
      "Training Epoch 1288: 100%|██████████| 500/500 [00:05<00:00, 90.95it/s]\n",
      "Training Epoch 1289: 100%|██████████| 500/500 [00:05<00:00, 89.93it/s]\n",
      "Training Epoch 1290: 100%|██████████| 500/500 [00:05<00:00, 91.23it/s]\n",
      "Training Epoch 1291: 100%|██████████| 500/500 [00:05<00:00, 90.77it/s]\n"
     ]
    },
    {
     "name": "stdout",
     "output_type": "stream",
     "text": [
      "Epoch 1290 - Train Loss: 0.0600, Train MSE: 0.0601, Train MAE: 0.1700\n",
      "Epoch 1290 - Validation Loss: 1.4701, Validation MSE: 1.4706, Validation MAE: 0.8429\n"
     ]
    },
    {
     "name": "stderr",
     "output_type": "stream",
     "text": [
      "Training Epoch 1292: 100%|██████████| 500/500 [00:05<00:00, 91.44it/s]\n",
      "Training Epoch 1293: 100%|██████████| 500/500 [00:05<00:00, 90.83it/s]\n",
      "Training Epoch 1294: 100%|██████████| 500/500 [00:05<00:00, 90.96it/s]\n",
      "Training Epoch 1295: 100%|██████████| 500/500 [00:05<00:00, 90.66it/s]\n",
      "Training Epoch 1296: 100%|██████████| 500/500 [00:05<00:00, 91.08it/s]\n",
      "Training Epoch 1297: 100%|██████████| 500/500 [00:05<00:00, 89.53it/s]\n",
      "Training Epoch 1298: 100%|██████████| 500/500 [00:05<00:00, 90.81it/s]\n",
      "Training Epoch 1299: 100%|██████████| 500/500 [00:05<00:00, 90.82it/s]\n",
      "Training Epoch 1300: 100%|██████████| 500/500 [00:05<00:00, 88.87it/s]\n",
      "Training Epoch 1301: 100%|██████████| 500/500 [00:05<00:00, 89.00it/s]\n"
     ]
    },
    {
     "name": "stdout",
     "output_type": "stream",
     "text": [
      "Epoch 1300 - Train Loss: 0.0618, Train MSE: 0.0619, Train MAE: 0.1712\n",
      "Epoch 1300 - Validation Loss: 1.4850, Validation MSE: 1.4837, Validation MAE: 0.8541\n"
     ]
    },
    {
     "name": "stderr",
     "output_type": "stream",
     "text": [
      "Training Epoch 1302: 100%|██████████| 500/500 [00:05<00:00, 90.37it/s]\n",
      "Training Epoch 1303: 100%|██████████| 500/500 [00:05<00:00, 89.55it/s]\n",
      "Training Epoch 1304: 100%|██████████| 500/500 [00:05<00:00, 93.35it/s]\n",
      "Training Epoch 1305: 100%|██████████| 500/500 [00:05<00:00, 90.06it/s]\n",
      "Training Epoch 1306: 100%|██████████| 500/500 [00:05<00:00, 90.80it/s]\n",
      "Training Epoch 1307: 100%|██████████| 500/500 [00:05<00:00, 92.23it/s]\n",
      "Training Epoch 1308: 100%|██████████| 500/500 [00:05<00:00, 90.81it/s]\n",
      "Training Epoch 1309: 100%|██████████| 500/500 [00:05<00:00, 89.67it/s]\n",
      "Training Epoch 1310: 100%|██████████| 500/500 [00:05<00:00, 90.94it/s]\n",
      "Training Epoch 1311: 100%|██████████| 500/500 [00:05<00:00, 89.91it/s]\n"
     ]
    },
    {
     "name": "stdout",
     "output_type": "stream",
     "text": [
      "Epoch 1310 - Train Loss: 0.0501, Train MSE: 0.0501, Train MAE: 0.1600\n",
      "Epoch 1310 - Validation Loss: 1.4980, Validation MSE: 1.4994, Validation MAE: 0.8484\n"
     ]
    },
    {
     "name": "stderr",
     "output_type": "stream",
     "text": [
      "Training Epoch 1312: 100%|██████████| 500/500 [00:05<00:00, 92.47it/s]\n",
      "Training Epoch 1313: 100%|██████████| 500/500 [00:05<00:00, 90.06it/s]\n",
      "Training Epoch 1314: 100%|██████████| 500/500 [00:05<00:00, 88.89it/s]\n",
      "Training Epoch 1315: 100%|██████████| 500/500 [00:05<00:00, 91.97it/s]\n",
      "Training Epoch 1316: 100%|██████████| 500/500 [00:05<00:00, 91.72it/s]\n",
      "Training Epoch 1317: 100%|██████████| 500/500 [00:05<00:00, 90.92it/s]\n",
      "Training Epoch 1318: 100%|██████████| 500/500 [00:05<00:00, 91.93it/s]\n",
      "Training Epoch 1319: 100%|██████████| 500/500 [00:05<00:00, 89.74it/s]\n",
      "Training Epoch 1320: 100%|██████████| 500/500 [00:05<00:00, 91.78it/s]\n",
      "Training Epoch 1321: 100%|██████████| 500/500 [00:05<00:00, 90.76it/s]\n"
     ]
    },
    {
     "name": "stdout",
     "output_type": "stream",
     "text": [
      "Epoch 1320 - Train Loss: 0.0616, Train MSE: 0.0617, Train MAE: 0.1721\n",
      "Epoch 1320 - Validation Loss: 1.4806, Validation MSE: 1.4793, Validation MAE: 0.8473\n"
     ]
    },
    {
     "name": "stderr",
     "output_type": "stream",
     "text": [
      "Training Epoch 1322: 100%|██████████| 500/500 [00:05<00:00, 91.28it/s]\n",
      "Training Epoch 1323: 100%|██████████| 500/500 [00:05<00:00, 90.18it/s]\n",
      "Training Epoch 1324: 100%|██████████| 500/500 [00:05<00:00, 90.29it/s]\n",
      "Training Epoch 1325: 100%|██████████| 500/500 [00:05<00:00, 90.78it/s]\n",
      "Training Epoch 1326: 100%|██████████| 500/500 [00:05<00:00, 91.59it/s]\n",
      "Training Epoch 1327: 100%|██████████| 500/500 [00:05<00:00, 91.53it/s]\n",
      "Training Epoch 1328: 100%|██████████| 500/500 [00:05<00:00, 91.45it/s]\n",
      "Training Epoch 1329: 100%|██████████| 500/500 [00:05<00:00, 91.58it/s]\n",
      "Training Epoch 1330: 100%|██████████| 500/500 [00:05<00:00, 91.07it/s]\n",
      "Training Epoch 1331: 100%|██████████| 500/500 [00:05<00:00, 88.93it/s]\n"
     ]
    },
    {
     "name": "stdout",
     "output_type": "stream",
     "text": [
      "Epoch 1330 - Train Loss: 0.0565, Train MSE: 0.0565, Train MAE: 0.1660\n",
      "Epoch 1330 - Validation Loss: 1.4674, Validation MSE: 1.4661, Validation MAE: 0.8408\n"
     ]
    },
    {
     "name": "stderr",
     "output_type": "stream",
     "text": [
      "Training Epoch 1332: 100%|██████████| 500/500 [00:05<00:00, 90.97it/s]\n",
      "Training Epoch 1333: 100%|██████████| 500/500 [00:05<00:00, 90.67it/s]\n",
      "Training Epoch 1334: 100%|██████████| 500/500 [00:05<00:00, 90.81it/s]\n",
      "Training Epoch 1335: 100%|██████████| 500/500 [00:05<00:00, 88.45it/s]\n",
      "Training Epoch 1336: 100%|██████████| 500/500 [00:05<00:00, 90.31it/s]\n",
      "Training Epoch 1337: 100%|██████████| 500/500 [00:05<00:00, 90.65it/s]\n",
      "Training Epoch 1338: 100%|██████████| 500/500 [00:05<00:00, 91.39it/s]\n",
      "Training Epoch 1339: 100%|██████████| 500/500 [00:05<00:00, 90.87it/s]\n",
      "Training Epoch 1340: 100%|██████████| 500/500 [00:05<00:00, 92.01it/s]\n",
      "Training Epoch 1341: 100%|██████████| 500/500 [00:05<00:00, 91.80it/s]\n"
     ]
    },
    {
     "name": "stdout",
     "output_type": "stream",
     "text": [
      "Epoch 1340 - Train Loss: 0.0594, Train MSE: 0.0594, Train MAE: 0.1696\n",
      "Epoch 1340 - Validation Loss: 1.5072, Validation MSE: 1.5053, Validation MAE: 0.8547\n"
     ]
    },
    {
     "name": "stderr",
     "output_type": "stream",
     "text": [
      "Training Epoch 1342: 100%|██████████| 500/500 [00:05<00:00, 89.64it/s]\n",
      "Training Epoch 1343: 100%|██████████| 500/500 [00:05<00:00, 92.18it/s]\n",
      "Training Epoch 1344: 100%|██████████| 500/500 [00:05<00:00, 91.22it/s]\n",
      "Training Epoch 1345: 100%|██████████| 500/500 [00:05<00:00, 89.42it/s]\n",
      "Training Epoch 1346: 100%|██████████| 500/500 [00:05<00:00, 90.25it/s]\n",
      "Training Epoch 1347: 100%|██████████| 500/500 [00:05<00:00, 91.02it/s]\n",
      "Training Epoch 1348: 100%|██████████| 500/500 [00:05<00:00, 90.94it/s]\n",
      "Training Epoch 1349: 100%|██████████| 500/500 [00:05<00:00, 91.21it/s]\n",
      "Training Epoch 1350: 100%|██████████| 500/500 [00:05<00:00, 90.11it/s]\n",
      "Training Epoch 1351: 100%|██████████| 500/500 [00:05<00:00, 90.82it/s]\n"
     ]
    },
    {
     "name": "stdout",
     "output_type": "stream",
     "text": [
      "Epoch 1350 - Train Loss: 0.0458, Train MSE: 0.0458, Train MAE: 0.1550\n",
      "Epoch 1350 - Validation Loss: 1.4627, Validation MSE: 1.4610, Validation MAE: 0.8419\n"
     ]
    },
    {
     "name": "stderr",
     "output_type": "stream",
     "text": [
      "Training Epoch 1352: 100%|██████████| 500/500 [00:05<00:00, 90.72it/s]\n",
      "Training Epoch 1353: 100%|██████████| 500/500 [00:05<00:00, 90.55it/s]\n",
      "Training Epoch 1354: 100%|██████████| 500/500 [00:05<00:00, 88.61it/s]\n",
      "Training Epoch 1355: 100%|██████████| 500/500 [00:05<00:00, 90.36it/s]\n",
      "Training Epoch 1356: 100%|██████████| 500/500 [00:05<00:00, 89.63it/s]\n",
      "Training Epoch 1357: 100%|██████████| 500/500 [00:05<00:00, 91.40it/s]\n",
      "Training Epoch 1358: 100%|██████████| 500/500 [00:05<00:00, 91.04it/s]\n",
      "Training Epoch 1359: 100%|██████████| 500/500 [00:05<00:00, 91.95it/s]\n",
      "Training Epoch 1360: 100%|██████████| 500/500 [00:05<00:00, 90.27it/s]\n",
      "Training Epoch 1361: 100%|██████████| 500/500 [00:05<00:00, 90.43it/s]\n"
     ]
    },
    {
     "name": "stdout",
     "output_type": "stream",
     "text": [
      "Epoch 1360 - Train Loss: 0.0510, Train MSE: 0.0502, Train MAE: 0.1591\n",
      "Epoch 1360 - Validation Loss: 1.5057, Validation MSE: 1.5022, Validation MAE: 0.8568\n"
     ]
    },
    {
     "name": "stderr",
     "output_type": "stream",
     "text": [
      "Training Epoch 1362: 100%|██████████| 500/500 [00:05<00:00, 90.85it/s]\n",
      "Training Epoch 1363: 100%|██████████| 500/500 [00:05<00:00, 90.28it/s]\n",
      "Training Epoch 1364: 100%|██████████| 500/500 [00:05<00:00, 90.35it/s]\n",
      "Training Epoch 1365: 100%|██████████| 500/500 [00:05<00:00, 90.80it/s]\n",
      "Training Epoch 1366: 100%|██████████| 500/500 [00:05<00:00, 90.88it/s]\n",
      "Training Epoch 1367: 100%|██████████| 500/500 [00:05<00:00, 89.89it/s]\n",
      "Training Epoch 1368: 100%|██████████| 500/500 [00:05<00:00, 92.93it/s]\n",
      "Training Epoch 1369: 100%|██████████| 500/500 [00:05<00:00, 91.39it/s]\n",
      "Training Epoch 1370: 100%|██████████| 500/500 [00:05<00:00, 90.11it/s]\n",
      "Training Epoch 1371: 100%|██████████| 500/500 [00:05<00:00, 90.89it/s]\n"
     ]
    },
    {
     "name": "stdout",
     "output_type": "stream",
     "text": [
      "Epoch 1370 - Train Loss: 0.0885, Train MSE: 0.0886, Train MAE: 0.1888\n",
      "Epoch 1370 - Validation Loss: 1.4458, Validation MSE: 1.4450, Validation MAE: 0.8397\n"
     ]
    },
    {
     "name": "stderr",
     "output_type": "stream",
     "text": [
      "Training Epoch 1372: 100%|██████████| 500/500 [00:05<00:00, 90.31it/s]\n",
      "Training Epoch 1373: 100%|██████████| 500/500 [00:05<00:00, 90.80it/s]\n",
      "Training Epoch 1374: 100%|██████████| 500/500 [00:05<00:00, 90.87it/s]\n",
      "Training Epoch 1375: 100%|██████████| 500/500 [00:05<00:00, 90.77it/s]\n",
      "Training Epoch 1376: 100%|██████████| 500/500 [00:05<00:00, 93.32it/s]\n",
      "Training Epoch 1377: 100%|██████████| 500/500 [00:05<00:00, 90.30it/s]\n",
      "Training Epoch 1378: 100%|██████████| 500/500 [00:05<00:00, 88.59it/s]\n",
      "Training Epoch 1379: 100%|██████████| 500/500 [00:05<00:00, 91.53it/s]\n",
      "Training Epoch 1380: 100%|██████████| 500/500 [00:05<00:00, 89.85it/s]\n",
      "Training Epoch 1381: 100%|██████████| 500/500 [00:05<00:00, 90.83it/s]\n"
     ]
    },
    {
     "name": "stdout",
     "output_type": "stream",
     "text": [
      "Epoch 1380 - Train Loss: 0.0544, Train MSE: 0.0543, Train MAE: 0.1649\n",
      "Epoch 1380 - Validation Loss: 1.4714, Validation MSE: 1.4717, Validation MAE: 0.8462\n"
     ]
    },
    {
     "name": "stderr",
     "output_type": "stream",
     "text": [
      "Training Epoch 1382: 100%|██████████| 500/500 [00:05<00:00, 90.63it/s]\n",
      "Training Epoch 1383: 100%|██████████| 500/500 [00:05<00:00, 91.34it/s]\n",
      "Training Epoch 1384: 100%|██████████| 500/500 [00:05<00:00, 88.20it/s]\n",
      "Training Epoch 1385: 100%|██████████| 500/500 [00:05<00:00, 89.69it/s]\n",
      "Training Epoch 1386: 100%|██████████| 500/500 [00:05<00:00, 89.37it/s]\n",
      "Training Epoch 1387: 100%|██████████| 500/500 [00:05<00:00, 91.58it/s]\n",
      "Training Epoch 1388: 100%|██████████| 500/500 [00:05<00:00, 91.58it/s]\n",
      "Training Epoch 1389: 100%|██████████| 500/500 [00:05<00:00, 88.94it/s]\n",
      "Training Epoch 1390: 100%|██████████| 500/500 [00:05<00:00, 92.00it/s]\n",
      "Training Epoch 1391: 100%|██████████| 500/500 [00:05<00:00, 90.19it/s]\n"
     ]
    },
    {
     "name": "stdout",
     "output_type": "stream",
     "text": [
      "Epoch 1390 - Train Loss: 0.0480, Train MSE: 0.0481, Train MAE: 0.1566\n",
      "Epoch 1390 - Validation Loss: 1.4299, Validation MSE: 1.4291, Validation MAE: 0.8297\n"
     ]
    },
    {
     "name": "stderr",
     "output_type": "stream",
     "text": [
      "Training Epoch 1392: 100%|██████████| 500/500 [00:05<00:00, 89.35it/s]\n",
      "Training Epoch 1393: 100%|██████████| 500/500 [00:05<00:00, 91.83it/s]\n",
      "Training Epoch 1394: 100%|██████████| 500/500 [00:05<00:00, 92.42it/s]\n",
      "Training Epoch 1395: 100%|██████████| 500/500 [00:05<00:00, 91.73it/s]\n",
      "Training Epoch 1396: 100%|██████████| 500/500 [00:05<00:00, 90.72it/s]\n",
      "Training Epoch 1397: 100%|██████████| 500/500 [00:05<00:00, 91.59it/s]\n",
      "Training Epoch 1398: 100%|██████████| 500/500 [00:05<00:00, 86.51it/s]\n",
      "Training Epoch 1399: 100%|██████████| 500/500 [00:05<00:00, 92.54it/s]\n",
      "Training Epoch 1400: 100%|██████████| 500/500 [00:05<00:00, 89.92it/s]\n",
      "Training Epoch 1401: 100%|██████████| 500/500 [00:05<00:00, 91.14it/s]\n"
     ]
    },
    {
     "name": "stdout",
     "output_type": "stream",
     "text": [
      "Epoch 1400 - Train Loss: 0.0539, Train MSE: 0.0540, Train MAE: 0.1646\n",
      "Epoch 1400 - Validation Loss: 1.4433, Validation MSE: 1.4421, Validation MAE: 0.8411\n"
     ]
    },
    {
     "name": "stderr",
     "output_type": "stream",
     "text": [
      "Training Epoch 1402: 100%|██████████| 500/500 [00:05<00:00, 90.87it/s]\n",
      "Training Epoch 1403: 100%|██████████| 500/500 [00:05<00:00, 90.30it/s]\n",
      "Training Epoch 1404: 100%|██████████| 500/500 [00:05<00:00, 91.16it/s]\n",
      "Training Epoch 1405: 100%|██████████| 500/500 [00:05<00:00, 89.66it/s]\n",
      "Training Epoch 1406: 100%|██████████| 500/500 [00:05<00:00, 92.29it/s]\n",
      "Training Epoch 1407: 100%|██████████| 500/500 [00:05<00:00, 91.51it/s]\n",
      "Training Epoch 1408: 100%|██████████| 500/500 [00:05<00:00, 90.80it/s]\n",
      "Training Epoch 1409: 100%|██████████| 500/500 [00:05<00:00, 90.36it/s]\n",
      "Training Epoch 1410: 100%|██████████| 500/500 [00:05<00:00, 91.11it/s]\n",
      "Training Epoch 1411: 100%|██████████| 500/500 [00:05<00:00, 92.01it/s]\n"
     ]
    },
    {
     "name": "stdout",
     "output_type": "stream",
     "text": [
      "Epoch 1410 - Train Loss: 0.0488, Train MSE: 0.0489, Train MAE: 0.1572\n",
      "Epoch 1410 - Validation Loss: 1.4774, Validation MSE: 1.4779, Validation MAE: 0.8470\n"
     ]
    },
    {
     "name": "stderr",
     "output_type": "stream",
     "text": [
      "Training Epoch 1412: 100%|██████████| 500/500 [00:05<00:00, 90.22it/s]\n",
      "Training Epoch 1413: 100%|██████████| 500/500 [00:05<00:00, 91.84it/s]\n",
      "Training Epoch 1414: 100%|██████████| 500/500 [00:05<00:00, 90.24it/s]\n",
      "Training Epoch 1415: 100%|██████████| 500/500 [00:05<00:00, 91.42it/s]\n",
      "Training Epoch 1416: 100%|██████████| 500/500 [00:05<00:00, 91.80it/s]\n",
      "Training Epoch 1417: 100%|██████████| 500/500 [00:05<00:00, 90.79it/s]\n",
      "Training Epoch 1418: 100%|██████████| 500/500 [00:05<00:00, 92.13it/s]\n",
      "Training Epoch 1419: 100%|██████████| 500/500 [00:05<00:00, 87.17it/s]\n",
      "Training Epoch 1420: 100%|██████████| 500/500 [00:05<00:00, 91.73it/s]\n",
      "Training Epoch 1421: 100%|██████████| 500/500 [00:05<00:00, 90.31it/s]\n"
     ]
    },
    {
     "name": "stdout",
     "output_type": "stream",
     "text": [
      "Epoch 1420 - Train Loss: 0.0476, Train MSE: 0.0476, Train MAE: 0.1581\n",
      "Epoch 1420 - Validation Loss: 1.4625, Validation MSE: 1.4616, Validation MAE: 0.8413\n"
     ]
    },
    {
     "name": "stderr",
     "output_type": "stream",
     "text": [
      "Training Epoch 1422: 100%|██████████| 500/500 [00:05<00:00, 91.51it/s]\n",
      "Training Epoch 1423: 100%|██████████| 500/500 [00:05<00:00, 90.52it/s]\n",
      "Training Epoch 1424: 100%|██████████| 500/500 [00:05<00:00, 90.06it/s]\n",
      "Training Epoch 1425: 100%|██████████| 500/500 [00:05<00:00, 90.73it/s]\n",
      "Training Epoch 1426: 100%|██████████| 500/500 [00:05<00:00, 89.72it/s]\n",
      "Training Epoch 1427: 100%|██████████| 500/500 [00:05<00:00, 90.27it/s]\n",
      "Training Epoch 1428: 100%|██████████| 500/500 [00:05<00:00, 90.23it/s]\n",
      "Training Epoch 1429: 100%|██████████| 500/500 [00:05<00:00, 89.13it/s]\n",
      "Training Epoch 1430: 100%|██████████| 500/500 [00:05<00:00, 91.23it/s]\n",
      "Training Epoch 1431: 100%|██████████| 500/500 [00:05<00:00, 88.34it/s]\n"
     ]
    },
    {
     "name": "stdout",
     "output_type": "stream",
     "text": [
      "Epoch 1430 - Train Loss: 0.0509, Train MSE: 0.0510, Train MAE: 0.1589\n",
      "Epoch 1430 - Validation Loss: 1.5092, Validation MSE: 1.5093, Validation MAE: 0.8544\n"
     ]
    },
    {
     "name": "stderr",
     "output_type": "stream",
     "text": [
      "Training Epoch 1432: 100%|██████████| 500/500 [00:05<00:00, 91.54it/s]\n",
      "Training Epoch 1433: 100%|██████████| 500/500 [00:05<00:00, 90.72it/s]\n",
      "Training Epoch 1434: 100%|██████████| 500/500 [00:05<00:00, 91.84it/s]\n",
      "Training Epoch 1435: 100%|██████████| 500/500 [00:05<00:00, 90.65it/s]\n",
      "Training Epoch 1436: 100%|██████████| 500/500 [00:05<00:00, 88.88it/s]\n",
      "Training Epoch 1437: 100%|██████████| 500/500 [00:05<00:00, 88.99it/s]\n",
      "Training Epoch 1438: 100%|██████████| 500/500 [00:05<00:00, 91.15it/s]\n",
      "Training Epoch 1439: 100%|██████████| 500/500 [00:05<00:00, 88.94it/s]\n",
      "Training Epoch 1440: 100%|██████████| 500/500 [00:05<00:00, 90.12it/s]\n",
      "Training Epoch 1441: 100%|██████████| 500/500 [00:05<00:00, 90.77it/s]\n"
     ]
    },
    {
     "name": "stdout",
     "output_type": "stream",
     "text": [
      "Epoch 1440 - Train Loss: 0.0731, Train MSE: 0.0730, Train MAE: 0.1755\n",
      "Epoch 1440 - Validation Loss: 1.5143, Validation MSE: 1.5171, Validation MAE: 0.8615\n"
     ]
    },
    {
     "name": "stderr",
     "output_type": "stream",
     "text": [
      "Training Epoch 1442: 100%|██████████| 500/500 [00:05<00:00, 91.17it/s]\n",
      "Training Epoch 1443: 100%|██████████| 500/500 [00:05<00:00, 90.51it/s]\n",
      "Training Epoch 1444: 100%|██████████| 500/500 [00:05<00:00, 90.69it/s]\n",
      "Training Epoch 1445: 100%|██████████| 500/500 [00:05<00:00, 89.85it/s]\n",
      "Training Epoch 1446: 100%|██████████| 500/500 [00:05<00:00, 91.61it/s]\n",
      "Training Epoch 1447: 100%|██████████| 500/500 [00:05<00:00, 89.26it/s]\n",
      "Training Epoch 1448: 100%|██████████| 500/500 [00:05<00:00, 89.97it/s]\n",
      "Training Epoch 1449: 100%|██████████| 500/500 [00:05<00:00, 90.15it/s]\n",
      "Training Epoch 1450: 100%|██████████| 500/500 [00:05<00:00, 90.44it/s]\n",
      "Training Epoch 1451: 100%|██████████| 500/500 [00:05<00:00, 89.01it/s]\n"
     ]
    },
    {
     "name": "stdout",
     "output_type": "stream",
     "text": [
      "Epoch 1450 - Train Loss: 0.0452, Train MSE: 0.0452, Train MAE: 0.1532\n",
      "Epoch 1450 - Validation Loss: 1.4520, Validation MSE: 1.4510, Validation MAE: 0.8355\n"
     ]
    },
    {
     "name": "stderr",
     "output_type": "stream",
     "text": [
      "Training Epoch 1452: 100%|██████████| 500/500 [00:05<00:00, 89.91it/s]\n",
      "Training Epoch 1453: 100%|██████████| 500/500 [00:05<00:00, 89.54it/s]\n",
      "Training Epoch 1454: 100%|██████████| 500/500 [00:05<00:00, 91.15it/s]\n",
      "Training Epoch 1455: 100%|██████████| 500/500 [00:05<00:00, 89.66it/s]\n",
      "Training Epoch 1456: 100%|██████████| 500/500 [00:05<00:00, 90.29it/s]\n",
      "Training Epoch 1457: 100%|██████████| 500/500 [00:05<00:00, 91.36it/s]\n",
      "Training Epoch 1458: 100%|██████████| 500/500 [00:05<00:00, 92.14it/s]\n",
      "Training Epoch 1459: 100%|██████████| 500/500 [00:05<00:00, 90.16it/s]\n",
      "Training Epoch 1460: 100%|██████████| 500/500 [00:05<00:00, 90.25it/s]\n",
      "Training Epoch 1461: 100%|██████████| 500/500 [00:05<00:00, 89.41it/s]\n"
     ]
    },
    {
     "name": "stdout",
     "output_type": "stream",
     "text": [
      "Epoch 1460 - Train Loss: 0.0455, Train MSE: 0.0456, Train MAE: 0.1526\n",
      "Epoch 1460 - Validation Loss: 1.4773, Validation MSE: 1.4767, Validation MAE: 0.8439\n"
     ]
    },
    {
     "name": "stderr",
     "output_type": "stream",
     "text": [
      "Training Epoch 1462: 100%|██████████| 500/500 [00:05<00:00, 90.10it/s]\n",
      "Training Epoch 1463: 100%|██████████| 500/500 [00:05<00:00, 90.83it/s]\n",
      "Training Epoch 1464: 100%|██████████| 500/500 [00:05<00:00, 89.71it/s]\n",
      "Training Epoch 1465: 100%|██████████| 500/500 [00:05<00:00, 89.42it/s]\n",
      "Training Epoch 1466: 100%|██████████| 500/500 [00:05<00:00, 90.50it/s]\n",
      "Training Epoch 1467: 100%|██████████| 500/500 [00:05<00:00, 89.09it/s]\n",
      "Training Epoch 1468: 100%|██████████| 500/500 [00:05<00:00, 90.90it/s]\n",
      "Training Epoch 1469: 100%|██████████| 500/500 [00:05<00:00, 90.73it/s]\n",
      "Training Epoch 1470: 100%|██████████| 500/500 [00:05<00:00, 89.17it/s]\n",
      "Training Epoch 1471: 100%|██████████| 500/500 [00:05<00:00, 88.75it/s]\n"
     ]
    },
    {
     "name": "stdout",
     "output_type": "stream",
     "text": [
      "Epoch 1470 - Train Loss: 0.0486, Train MSE: 0.0486, Train MAE: 0.1576\n",
      "Epoch 1470 - Validation Loss: 1.4607, Validation MSE: 1.4578, Validation MAE: 0.8359\n"
     ]
    },
    {
     "name": "stderr",
     "output_type": "stream",
     "text": [
      "Training Epoch 1472: 100%|██████████| 500/500 [00:05<00:00, 91.05it/s]\n",
      "Training Epoch 1473: 100%|██████████| 500/500 [00:05<00:00, 89.61it/s]\n",
      "Training Epoch 1474: 100%|██████████| 500/500 [00:05<00:00, 91.41it/s]\n",
      "Training Epoch 1475: 100%|██████████| 500/500 [00:05<00:00, 89.79it/s]\n",
      "Training Epoch 1476: 100%|██████████| 500/500 [00:05<00:00, 91.28it/s]\n",
      "Training Epoch 1477: 100%|██████████| 500/500 [00:05<00:00, 89.42it/s]\n",
      "Training Epoch 1478: 100%|██████████| 500/500 [00:05<00:00, 91.30it/s]\n",
      "Training Epoch 1479: 100%|██████████| 500/500 [00:05<00:00, 89.63it/s]\n",
      "Training Epoch 1480: 100%|██████████| 500/500 [00:05<00:00, 90.82it/s]\n",
      "Training Epoch 1481: 100%|██████████| 500/500 [00:05<00:00, 89.30it/s]\n"
     ]
    },
    {
     "name": "stdout",
     "output_type": "stream",
     "text": [
      "Epoch 1480 - Train Loss: 0.0459, Train MSE: 0.0460, Train MAE: 0.1547\n",
      "Epoch 1480 - Validation Loss: 1.4988, Validation MSE: 1.4984, Validation MAE: 0.8498\n"
     ]
    },
    {
     "name": "stderr",
     "output_type": "stream",
     "text": [
      "Training Epoch 1482: 100%|██████████| 500/500 [00:05<00:00, 90.35it/s]\n",
      "Training Epoch 1483: 100%|██████████| 500/500 [00:05<00:00, 90.87it/s]\n",
      "Training Epoch 1484: 100%|██████████| 500/500 [00:05<00:00, 92.14it/s]\n",
      "Training Epoch 1485: 100%|██████████| 500/500 [00:05<00:00, 88.34it/s]\n",
      "Training Epoch 1486: 100%|██████████| 500/500 [00:05<00:00, 92.51it/s]\n",
      "Training Epoch 1487: 100%|██████████| 500/500 [00:05<00:00, 89.14it/s]\n",
      "Training Epoch 1488: 100%|██████████| 500/500 [00:05<00:00, 90.97it/s]\n",
      "Training Epoch 1489: 100%|██████████| 500/500 [00:05<00:00, 89.18it/s]\n",
      "Training Epoch 1490: 100%|██████████| 500/500 [00:05<00:00, 91.01it/s]\n",
      "Training Epoch 1491: 100%|██████████| 500/500 [00:05<00:00, 89.43it/s]\n"
     ]
    },
    {
     "name": "stdout",
     "output_type": "stream",
     "text": [
      "Epoch 1490 - Train Loss: 0.0603, Train MSE: 0.0604, Train MAE: 0.1669\n",
      "Epoch 1490 - Validation Loss: 1.5037, Validation MSE: 1.5031, Validation MAE: 0.8559\n"
     ]
    },
    {
     "name": "stderr",
     "output_type": "stream",
     "text": [
      "Training Epoch 1492: 100%|██████████| 500/500 [00:05<00:00, 89.15it/s]\n",
      "Training Epoch 1493: 100%|██████████| 500/500 [00:05<00:00, 91.20it/s]\n",
      "Training Epoch 1494: 100%|██████████| 500/500 [00:05<00:00, 90.76it/s]\n",
      "Training Epoch 1495: 100%|██████████| 500/500 [00:05<00:00, 88.71it/s]\n",
      "Training Epoch 1496: 100%|██████████| 500/500 [00:05<00:00, 89.93it/s]\n",
      "Training Epoch 1497: 100%|██████████| 500/500 [00:05<00:00, 88.44it/s]\n",
      "Training Epoch 1498: 100%|██████████| 500/500 [00:05<00:00, 89.56it/s]\n",
      "Training Epoch 1499: 100%|██████████| 500/500 [00:05<00:00, 90.76it/s]\n",
      "Training Epoch 1500: 100%|██████████| 500/500 [00:05<00:00, 90.21it/s]\n",
      "Training Epoch 1501: 100%|██████████| 500/500 [00:05<00:00, 89.73it/s]\n"
     ]
    },
    {
     "name": "stdout",
     "output_type": "stream",
     "text": [
      "Epoch 1500 - Train Loss: 0.0479, Train MSE: 0.0480, Train MAE: 0.1548\n",
      "Epoch 1500 - Validation Loss: 1.4702, Validation MSE: 1.4688, Validation MAE: 0.8405\n"
     ]
    },
    {
     "name": "stderr",
     "output_type": "stream",
     "text": [
      "Training Epoch 1502: 100%|██████████| 500/500 [00:05<00:00, 89.43it/s]\n",
      "Training Epoch 1503: 100%|██████████| 500/500 [00:05<00:00, 89.48it/s]\n",
      "Training Epoch 1504: 100%|██████████| 500/500 [00:05<00:00, 91.13it/s]\n",
      "Training Epoch 1505: 100%|██████████| 500/500 [00:05<00:00, 90.81it/s]\n",
      "Training Epoch 1506: 100%|██████████| 500/500 [00:05<00:00, 89.21it/s]\n",
      "Training Epoch 1507: 100%|██████████| 500/500 [00:05<00:00, 90.98it/s]\n",
      "Training Epoch 1508: 100%|██████████| 500/500 [00:05<00:00, 91.04it/s]\n",
      "Training Epoch 1509: 100%|██████████| 500/500 [00:05<00:00, 88.31it/s]\n",
      "Training Epoch 1510: 100%|██████████| 500/500 [00:05<00:00, 90.58it/s]\n",
      "Training Epoch 1511: 100%|██████████| 500/500 [00:05<00:00, 90.47it/s]\n"
     ]
    },
    {
     "name": "stdout",
     "output_type": "stream",
     "text": [
      "Epoch 1510 - Train Loss: 0.0480, Train MSE: 0.0481, Train MAE: 0.1532\n",
      "Epoch 1510 - Validation Loss: 1.4912, Validation MSE: 1.4915, Validation MAE: 0.8470\n"
     ]
    },
    {
     "name": "stderr",
     "output_type": "stream",
     "text": [
      "Training Epoch 1512: 100%|██████████| 500/500 [00:05<00:00, 90.87it/s]\n",
      "Training Epoch 1513: 100%|██████████| 500/500 [00:05<00:00, 90.05it/s]\n",
      "Training Epoch 1514: 100%|██████████| 500/500 [00:05<00:00, 89.13it/s]\n",
      "Training Epoch 1515: 100%|██████████| 500/500 [00:05<00:00, 90.40it/s]\n",
      "Training Epoch 1516: 100%|██████████| 500/500 [00:05<00:00, 89.58it/s]\n",
      "Training Epoch 1517: 100%|██████████| 500/500 [00:05<00:00, 89.54it/s]\n",
      "Training Epoch 1518: 100%|██████████| 500/500 [00:05<00:00, 91.94it/s]\n",
      "Training Epoch 1519: 100%|██████████| 500/500 [00:05<00:00, 90.97it/s]\n",
      "Training Epoch 1520: 100%|██████████| 500/500 [00:05<00:00, 89.06it/s]\n",
      "Training Epoch 1521: 100%|██████████| 500/500 [00:05<00:00, 89.71it/s]\n"
     ]
    },
    {
     "name": "stdout",
     "output_type": "stream",
     "text": [
      "Epoch 1520 - Train Loss: 0.0520, Train MSE: 0.0520, Train MAE: 0.1599\n",
      "Epoch 1520 - Validation Loss: 1.4707, Validation MSE: 1.4720, Validation MAE: 0.8418\n"
     ]
    },
    {
     "name": "stderr",
     "output_type": "stream",
     "text": [
      "Training Epoch 1522: 100%|██████████| 500/500 [00:05<00:00, 91.28it/s]\n",
      "Training Epoch 1523: 100%|██████████| 500/500 [00:05<00:00, 88.90it/s]\n",
      "Training Epoch 1524: 100%|██████████| 500/500 [00:05<00:00, 90.33it/s]\n",
      "Training Epoch 1525: 100%|██████████| 500/500 [00:05<00:00, 90.75it/s]\n",
      "Training Epoch 1526: 100%|██████████| 500/500 [00:05<00:00, 91.22it/s]\n",
      "Training Epoch 1527: 100%|██████████| 500/500 [00:05<00:00, 90.80it/s]\n",
      "Training Epoch 1528: 100%|██████████| 500/500 [00:05<00:00, 90.29it/s]\n",
      "Training Epoch 1529: 100%|██████████| 500/500 [00:05<00:00, 91.00it/s]\n",
      "Training Epoch 1530: 100%|██████████| 500/500 [00:05<00:00, 90.39it/s]\n",
      "Training Epoch 1531: 100%|██████████| 500/500 [00:05<00:00, 90.84it/s]\n"
     ]
    },
    {
     "name": "stdout",
     "output_type": "stream",
     "text": [
      "Epoch 1530 - Train Loss: 0.0480, Train MSE: 0.0481, Train MAE: 0.1564\n",
      "Epoch 1530 - Validation Loss: 1.4882, Validation MSE: 1.4889, Validation MAE: 0.8446\n"
     ]
    },
    {
     "name": "stderr",
     "output_type": "stream",
     "text": [
      "Training Epoch 1532: 100%|██████████| 500/500 [00:05<00:00, 91.11it/s]\n",
      "Training Epoch 1533: 100%|██████████| 500/500 [00:05<00:00, 89.55it/s]\n",
      "Training Epoch 1534: 100%|██████████| 500/500 [00:05<00:00, 89.52it/s]\n",
      "Training Epoch 1535: 100%|██████████| 500/500 [00:05<00:00, 90.72it/s]\n",
      "Training Epoch 1536: 100%|██████████| 500/500 [00:05<00:00, 91.70it/s]\n",
      "Training Epoch 1537: 100%|██████████| 500/500 [00:05<00:00, 88.87it/s]\n",
      "Training Epoch 1538: 100%|██████████| 500/500 [00:05<00:00, 89.53it/s]\n",
      "Training Epoch 1539: 100%|██████████| 500/500 [00:05<00:00, 89.63it/s]\n",
      "Training Epoch 1540: 100%|██████████| 500/500 [00:05<00:00, 90.47it/s]\n",
      "Training Epoch 1541: 100%|██████████| 500/500 [00:05<00:00, 90.99it/s]\n"
     ]
    },
    {
     "name": "stdout",
     "output_type": "stream",
     "text": [
      "Epoch 1540 - Train Loss: 0.0479, Train MSE: 0.0480, Train MAE: 0.1548\n",
      "Epoch 1540 - Validation Loss: 1.4949, Validation MSE: 1.4933, Validation MAE: 0.8500\n"
     ]
    },
    {
     "name": "stderr",
     "output_type": "stream",
     "text": [
      "Training Epoch 1542: 100%|██████████| 500/500 [00:05<00:00, 89.15it/s]\n",
      "Training Epoch 1543: 100%|██████████| 500/500 [00:05<00:00, 89.85it/s]\n",
      "Training Epoch 1544: 100%|██████████| 500/500 [00:05<00:00, 92.36it/s]\n",
      "Training Epoch 1545: 100%|██████████| 500/500 [00:05<00:00, 88.30it/s]\n",
      "Training Epoch 1546: 100%|██████████| 500/500 [00:05<00:00, 91.50it/s]\n",
      "Training Epoch 1547: 100%|██████████| 500/500 [00:05<00:00, 91.68it/s]\n",
      "Training Epoch 1548: 100%|██████████| 500/500 [00:05<00:00, 89.63it/s]\n",
      "Training Epoch 1549: 100%|██████████| 500/500 [00:05<00:00, 91.29it/s]\n",
      "Training Epoch 1550: 100%|██████████| 500/500 [00:05<00:00, 90.77it/s]\n",
      "Training Epoch 1551: 100%|██████████| 500/500 [00:05<00:00, 90.22it/s]\n"
     ]
    },
    {
     "name": "stdout",
     "output_type": "stream",
     "text": [
      "Epoch 1550 - Train Loss: 0.0457, Train MSE: 0.0458, Train MAE: 0.1525\n",
      "Epoch 1550 - Validation Loss: 1.4641, Validation MSE: 1.4643, Validation MAE: 0.8422\n"
     ]
    },
    {
     "name": "stderr",
     "output_type": "stream",
     "text": [
      "Training Epoch 1552: 100%|██████████| 500/500 [00:05<00:00, 91.59it/s]\n",
      "Training Epoch 1553: 100%|██████████| 500/500 [00:05<00:00, 89.11it/s]\n",
      "Training Epoch 1554: 100%|██████████| 500/500 [00:05<00:00, 90.83it/s]\n",
      "Training Epoch 1555: 100%|██████████| 500/500 [00:05<00:00, 90.60it/s]\n",
      "Training Epoch 1556: 100%|██████████| 500/500 [00:05<00:00, 90.41it/s]\n",
      "Training Epoch 1557: 100%|██████████| 500/500 [00:05<00:00, 91.36it/s]\n",
      "Training Epoch 1558: 100%|██████████| 500/500 [00:05<00:00, 92.13it/s]\n",
      "Training Epoch 1559: 100%|██████████| 500/500 [00:05<00:00, 89.65it/s]\n",
      "Training Epoch 1560: 100%|██████████| 500/500 [00:05<00:00, 91.03it/s]\n",
      "Training Epoch 1561: 100%|██████████| 500/500 [00:05<00:00, 92.17it/s]\n"
     ]
    },
    {
     "name": "stdout",
     "output_type": "stream",
     "text": [
      "Epoch 1560 - Train Loss: 0.0464, Train MSE: 0.0465, Train MAE: 0.1528\n",
      "Epoch 1560 - Validation Loss: 1.4675, Validation MSE: 1.4643, Validation MAE: 0.8375\n"
     ]
    },
    {
     "name": "stderr",
     "output_type": "stream",
     "text": [
      "Training Epoch 1562: 100%|██████████| 500/500 [00:05<00:00, 90.10it/s]\n",
      "Training Epoch 1563: 100%|██████████| 500/500 [00:05<00:00, 91.35it/s]\n",
      "Training Epoch 1564: 100%|██████████| 500/500 [00:05<00:00, 89.41it/s]\n",
      "Training Epoch 1565: 100%|██████████| 500/500 [00:05<00:00, 90.66it/s]\n",
      "Training Epoch 1566: 100%|██████████| 500/500 [00:05<00:00, 90.55it/s]\n",
      "Training Epoch 1567: 100%|██████████| 500/500 [00:05<00:00, 89.57it/s]\n",
      "Training Epoch 1568: 100%|██████████| 500/500 [00:05<00:00, 91.57it/s]\n",
      "Training Epoch 1569: 100%|██████████| 500/500 [00:05<00:00, 90.44it/s]\n",
      "Training Epoch 1570: 100%|██████████| 500/500 [00:05<00:00, 89.48it/s]\n",
      "Training Epoch 1571: 100%|██████████| 500/500 [00:05<00:00, 91.73it/s]\n"
     ]
    },
    {
     "name": "stdout",
     "output_type": "stream",
     "text": [
      "Epoch 1570 - Train Loss: 0.0477, Train MSE: 0.0477, Train MAE: 0.1551\n",
      "Epoch 1570 - Validation Loss: 1.4829, Validation MSE: 1.4824, Validation MAE: 0.8458\n"
     ]
    },
    {
     "name": "stderr",
     "output_type": "stream",
     "text": [
      "Training Epoch 1572: 100%|██████████| 500/500 [00:05<00:00, 90.07it/s]\n",
      "Training Epoch 1573: 100%|██████████| 500/500 [00:05<00:00, 89.60it/s]\n",
      "Training Epoch 1574: 100%|██████████| 500/500 [00:05<00:00, 90.98it/s]\n",
      "Training Epoch 1575: 100%|██████████| 500/500 [00:05<00:00, 90.90it/s]\n",
      "Training Epoch 1576: 100%|██████████| 500/500 [00:05<00:00, 87.97it/s]\n",
      "Training Epoch 1577: 100%|██████████| 500/500 [00:05<00:00, 89.97it/s]\n",
      "Training Epoch 1578: 100%|██████████| 500/500 [00:05<00:00, 89.50it/s]\n",
      "Training Epoch 1579: 100%|██████████| 500/500 [00:05<00:00, 89.71it/s]\n",
      "Training Epoch 1580: 100%|██████████| 500/500 [00:05<00:00, 89.94it/s]\n",
      "Training Epoch 1581: 100%|██████████| 500/500 [00:05<00:00, 90.49it/s]\n"
     ]
    },
    {
     "name": "stdout",
     "output_type": "stream",
     "text": [
      "Epoch 1580 - Train Loss: 0.0437, Train MSE: 0.0438, Train MAE: 0.1493\n",
      "Epoch 1580 - Validation Loss: 1.5181, Validation MSE: 1.5140, Validation MAE: 0.8537\n"
     ]
    },
    {
     "name": "stderr",
     "output_type": "stream",
     "text": [
      "Training Epoch 1582: 100%|██████████| 500/500 [00:05<00:00, 90.44it/s]\n",
      "Training Epoch 1583: 100%|██████████| 500/500 [00:05<00:00, 90.46it/s]\n",
      "Training Epoch 1584: 100%|██████████| 500/500 [00:05<00:00, 90.29it/s]\n",
      "Training Epoch 1585: 100%|██████████| 500/500 [00:05<00:00, 92.46it/s]\n",
      "Training Epoch 1586: 100%|██████████| 500/500 [00:05<00:00, 88.25it/s]\n",
      "Training Epoch 1587: 100%|██████████| 500/500 [00:05<00:00, 90.31it/s]\n",
      "Training Epoch 1588: 100%|██████████| 500/500 [00:05<00:00, 91.55it/s]\n",
      "Training Epoch 1589: 100%|██████████| 500/500 [00:05<00:00, 90.76it/s]\n",
      "Training Epoch 1590: 100%|██████████| 500/500 [00:05<00:00, 90.05it/s]\n",
      "Training Epoch 1591: 100%|██████████| 500/500 [00:05<00:00, 91.97it/s]\n"
     ]
    },
    {
     "name": "stdout",
     "output_type": "stream",
     "text": [
      "Epoch 1590 - Train Loss: 0.0534, Train MSE: 0.0535, Train MAE: 0.1588\n",
      "Epoch 1590 - Validation Loss: 1.4892, Validation MSE: 1.4838, Validation MAE: 0.8452\n"
     ]
    },
    {
     "name": "stderr",
     "output_type": "stream",
     "text": [
      "Training Epoch 1592: 100%|██████████| 500/500 [00:05<00:00, 89.95it/s]\n",
      "Training Epoch 1593: 100%|██████████| 500/500 [00:05<00:00, 90.84it/s]\n",
      "Training Epoch 1594: 100%|██████████| 500/500 [00:05<00:00, 92.23it/s]\n",
      "Training Epoch 1595: 100%|██████████| 500/500 [00:05<00:00, 88.97it/s]\n",
      "Training Epoch 1596: 100%|██████████| 500/500 [00:05<00:00, 88.17it/s]\n",
      "Training Epoch 1597: 100%|██████████| 500/500 [00:05<00:00, 90.67it/s]\n",
      "Training Epoch 1598: 100%|██████████| 500/500 [00:05<00:00, 90.93it/s]\n",
      "Training Epoch 1599: 100%|██████████| 500/500 [00:05<00:00, 91.14it/s]\n",
      "Training Epoch 1600: 100%|██████████| 500/500 [00:05<00:00, 91.15it/s]\n",
      "Training Epoch 1601: 100%|██████████| 500/500 [00:05<00:00, 89.22it/s]\n"
     ]
    },
    {
     "name": "stdout",
     "output_type": "stream",
     "text": [
      "Epoch 1600 - Train Loss: 0.0449, Train MSE: 0.0450, Train MAE: 0.1526\n",
      "Epoch 1600 - Validation Loss: 1.4777, Validation MSE: 1.4757, Validation MAE: 0.8429\n"
     ]
    },
    {
     "name": "stderr",
     "output_type": "stream",
     "text": [
      "Training Epoch 1602: 100%|██████████| 500/500 [00:05<00:00, 90.00it/s]\n",
      "Training Epoch 1603: 100%|██████████| 500/500 [00:05<00:00, 90.74it/s]\n",
      "Training Epoch 1604: 100%|██████████| 500/500 [00:05<00:00, 91.31it/s]\n",
      "Training Epoch 1605: 100%|██████████| 500/500 [00:05<00:00, 90.29it/s]\n",
      "Training Epoch 1606: 100%|██████████| 500/500 [00:05<00:00, 87.89it/s]\n",
      "Training Epoch 1607: 100%|██████████| 500/500 [00:05<00:00, 90.12it/s]\n",
      "Training Epoch 1608: 100%|██████████| 500/500 [00:05<00:00, 89.71it/s]\n",
      "Training Epoch 1609: 100%|██████████| 500/500 [00:05<00:00, 89.52it/s]\n",
      "Training Epoch 1610: 100%|██████████| 500/500 [00:05<00:00, 89.70it/s]\n",
      "Training Epoch 1611: 100%|██████████| 500/500 [00:05<00:00, 90.09it/s]\n"
     ]
    },
    {
     "name": "stdout",
     "output_type": "stream",
     "text": [
      "Epoch 1610 - Train Loss: 0.0459, Train MSE: 0.0460, Train MAE: 0.1506\n",
      "Epoch 1610 - Validation Loss: 1.4570, Validation MSE: 1.4549, Validation MAE: 0.8385\n"
     ]
    },
    {
     "name": "stderr",
     "output_type": "stream",
     "text": [
      "Training Epoch 1612: 100%|██████████| 500/500 [00:05<00:00, 88.94it/s]\n",
      "Training Epoch 1613: 100%|██████████| 500/500 [00:05<00:00, 91.87it/s]\n",
      "Training Epoch 1614: 100%|██████████| 500/500 [00:05<00:00, 89.33it/s]\n",
      "Training Epoch 1615: 100%|██████████| 500/500 [00:05<00:00, 92.05it/s]\n",
      "Training Epoch 1616: 100%|██████████| 500/500 [00:05<00:00, 90.24it/s]\n",
      "Training Epoch 1617: 100%|██████████| 500/500 [00:05<00:00, 88.22it/s]\n",
      "Training Epoch 1618: 100%|██████████| 500/500 [00:05<00:00, 91.17it/s]\n",
      "Training Epoch 1619: 100%|██████████| 500/500 [00:05<00:00, 91.91it/s]\n",
      "Training Epoch 1620: 100%|██████████| 500/500 [00:05<00:00, 90.16it/s]\n",
      "Training Epoch 1621: 100%|██████████| 500/500 [00:05<00:00, 90.16it/s]\n"
     ]
    },
    {
     "name": "stdout",
     "output_type": "stream",
     "text": [
      "Epoch 1620 - Train Loss: 0.0457, Train MSE: 0.0458, Train MAE: 0.1534\n",
      "Epoch 1620 - Validation Loss: 1.4635, Validation MSE: 1.4633, Validation MAE: 0.8384\n"
     ]
    },
    {
     "name": "stderr",
     "output_type": "stream",
     "text": [
      "Training Epoch 1622: 100%|██████████| 500/500 [00:05<00:00, 90.60it/s]\n",
      "Training Epoch 1623: 100%|██████████| 500/500 [00:05<00:00, 90.13it/s]\n",
      "Training Epoch 1624: 100%|██████████| 500/500 [00:05<00:00, 90.43it/s]\n",
      "Training Epoch 1625: 100%|██████████| 500/500 [00:05<00:00, 90.29it/s]\n",
      "Training Epoch 1626: 100%|██████████| 500/500 [00:05<00:00, 89.39it/s]\n",
      "Training Epoch 1627: 100%|██████████| 500/500 [00:05<00:00, 89.72it/s]\n",
      "Training Epoch 1628: 100%|██████████| 500/500 [00:05<00:00, 89.69it/s]\n",
      "Training Epoch 1629: 100%|██████████| 500/500 [00:05<00:00, 90.56it/s]\n",
      "Training Epoch 1630: 100%|██████████| 500/500 [00:05<00:00, 90.94it/s]\n",
      "Training Epoch 1631: 100%|██████████| 500/500 [00:05<00:00, 89.64it/s]\n"
     ]
    },
    {
     "name": "stdout",
     "output_type": "stream",
     "text": [
      "Epoch 1630 - Train Loss: 0.0433, Train MSE: 0.0434, Train MAE: 0.1500\n",
      "Epoch 1630 - Validation Loss: 1.4571, Validation MSE: 1.4552, Validation MAE: 0.8387\n"
     ]
    },
    {
     "name": "stderr",
     "output_type": "stream",
     "text": [
      "Training Epoch 1632: 100%|██████████| 500/500 [00:05<00:00, 91.08it/s]\n",
      "Training Epoch 1633: 100%|██████████| 500/500 [00:05<00:00, 91.08it/s]\n",
      "Training Epoch 1634: 100%|██████████| 500/500 [00:05<00:00, 90.73it/s]\n",
      "Training Epoch 1635: 100%|██████████| 500/500 [00:05<00:00, 88.60it/s]\n",
      "Training Epoch 1636: 100%|██████████| 500/500 [00:05<00:00, 91.24it/s]\n",
      "Training Epoch 1637: 100%|██████████| 500/500 [00:05<00:00, 90.20it/s]\n",
      "Training Epoch 1638: 100%|██████████| 500/500 [00:05<00:00, 90.68it/s]\n",
      "Training Epoch 1639: 100%|██████████| 500/500 [00:05<00:00, 89.72it/s]\n",
      "Training Epoch 1640: 100%|██████████| 500/500 [00:05<00:00, 88.34it/s]\n",
      "Training Epoch 1641: 100%|██████████| 500/500 [00:05<00:00, 91.24it/s]\n"
     ]
    },
    {
     "name": "stdout",
     "output_type": "stream",
     "text": [
      "Epoch 1640 - Train Loss: 0.0513, Train MSE: 0.0514, Train MAE: 0.1567\n",
      "Epoch 1640 - Validation Loss: 1.5160, Validation MSE: 1.5166, Validation MAE: 0.8639\n"
     ]
    },
    {
     "name": "stderr",
     "output_type": "stream",
     "text": [
      "Training Epoch 1642: 100%|██████████| 500/500 [00:05<00:00, 88.74it/s]\n",
      "Training Epoch 1643: 100%|██████████| 500/500 [00:05<00:00, 91.45it/s]\n",
      "Training Epoch 1644: 100%|██████████| 500/500 [00:05<00:00, 90.15it/s]\n",
      "Training Epoch 1645: 100%|██████████| 500/500 [00:05<00:00, 89.68it/s]\n",
      "Training Epoch 1646: 100%|██████████| 500/500 [00:05<00:00, 91.01it/s]\n",
      "Training Epoch 1647: 100%|██████████| 500/500 [00:05<00:00, 92.12it/s]\n",
      "Training Epoch 1648: 100%|██████████| 500/500 [00:05<00:00, 88.08it/s]\n",
      "Training Epoch 1649: 100%|██████████| 500/500 [00:05<00:00, 90.35it/s]\n",
      "Training Epoch 1650: 100%|██████████| 500/500 [00:05<00:00, 88.94it/s]\n",
      "Training Epoch 1651: 100%|██████████| 500/500 [00:05<00:00, 89.81it/s]\n"
     ]
    },
    {
     "name": "stdout",
     "output_type": "stream",
     "text": [
      "Epoch 1650 - Train Loss: 0.0448, Train MSE: 0.0449, Train MAE: 0.1488\n",
      "Epoch 1650 - Validation Loss: 1.4906, Validation MSE: 1.4895, Validation MAE: 0.8507\n"
     ]
    },
    {
     "name": "stderr",
     "output_type": "stream",
     "text": [
      "Training Epoch 1652: 100%|██████████| 500/500 [00:05<00:00, 90.36it/s]\n",
      "Training Epoch 1653: 100%|██████████| 500/500 [00:05<00:00, 89.63it/s]\n",
      "Training Epoch 1654: 100%|██████████| 500/500 [00:05<00:00, 90.91it/s]\n",
      "Training Epoch 1655: 100%|██████████| 500/500 [00:05<00:00, 90.79it/s]\n",
      "Training Epoch 1656: 100%|██████████| 500/500 [00:05<00:00, 89.76it/s]\n",
      "Training Epoch 1657: 100%|██████████| 500/500 [00:05<00:00, 90.94it/s]\n",
      "Training Epoch 1658: 100%|██████████| 500/500 [00:05<00:00, 90.80it/s]\n",
      "Training Epoch 1659: 100%|██████████| 500/500 [00:05<00:00, 89.79it/s]\n",
      "Training Epoch 1660: 100%|██████████| 500/500 [00:05<00:00, 90.26it/s]\n",
      "Training Epoch 1661: 100%|██████████| 500/500 [00:05<00:00, 92.55it/s]\n"
     ]
    },
    {
     "name": "stdout",
     "output_type": "stream",
     "text": [
      "Epoch 1660 - Train Loss: 0.0470, Train MSE: 0.0470, Train MAE: 0.1509\n",
      "Epoch 1660 - Validation Loss: 1.4656, Validation MSE: 1.4653, Validation MAE: 0.8350\n"
     ]
    },
    {
     "name": "stderr",
     "output_type": "stream",
     "text": [
      "Training Epoch 1662: 100%|██████████| 500/500 [00:05<00:00, 88.53it/s]\n",
      "Training Epoch 1663: 100%|██████████| 500/500 [00:05<00:00, 89.60it/s]\n",
      "Training Epoch 1664: 100%|██████████| 500/500 [00:05<00:00, 89.79it/s]\n",
      "Training Epoch 1665: 100%|██████████| 500/500 [00:05<00:00, 90.60it/s]\n",
      "Training Epoch 1666: 100%|██████████| 500/500 [00:05<00:00, 91.35it/s]\n",
      "Training Epoch 1667: 100%|██████████| 500/500 [00:05<00:00, 89.69it/s]\n",
      "Training Epoch 1668: 100%|██████████| 500/500 [00:05<00:00, 90.75it/s]\n",
      "Training Epoch 1669: 100%|██████████| 500/500 [00:05<00:00, 88.96it/s]\n",
      "Training Epoch 1670: 100%|██████████| 500/500 [00:05<00:00, 88.78it/s]\n",
      "Training Epoch 1671: 100%|██████████| 500/500 [00:05<00:00, 91.46it/s]\n"
     ]
    },
    {
     "name": "stdout",
     "output_type": "stream",
     "text": [
      "Epoch 1670 - Train Loss: 0.0436, Train MSE: 0.0436, Train MAE: 0.1493\n",
      "Epoch 1670 - Validation Loss: 1.4968, Validation MSE: 1.4972, Validation MAE: 0.8447\n"
     ]
    },
    {
     "name": "stderr",
     "output_type": "stream",
     "text": [
      "Training Epoch 1672: 100%|██████████| 500/500 [00:05<00:00, 92.95it/s]\n",
      "Training Epoch 1673: 100%|██████████| 500/500 [00:05<00:00, 89.43it/s]\n",
      "Training Epoch 1674: 100%|██████████| 500/500 [00:05<00:00, 91.14it/s]\n",
      "Training Epoch 1675: 100%|██████████| 500/500 [00:05<00:00, 90.39it/s]\n",
      "Training Epoch 1676: 100%|██████████| 500/500 [00:05<00:00, 90.61it/s]\n",
      "Training Epoch 1677: 100%|██████████| 500/500 [00:05<00:00, 90.51it/s]\n",
      "Training Epoch 1678: 100%|██████████| 500/500 [00:05<00:00, 90.87it/s]\n",
      "Training Epoch 1679: 100%|██████████| 500/500 [00:05<00:00, 90.34it/s]\n",
      "Training Epoch 1680: 100%|██████████| 500/500 [00:05<00:00, 90.08it/s]\n",
      "Training Epoch 1681: 100%|██████████| 500/500 [00:05<00:00, 88.46it/s]\n"
     ]
    },
    {
     "name": "stdout",
     "output_type": "stream",
     "text": [
      "Epoch 1680 - Train Loss: 0.0569, Train MSE: 0.0566, Train MAE: 0.1620\n",
      "Epoch 1680 - Validation Loss: 1.5233, Validation MSE: 1.5206, Validation MAE: 0.8561\n"
     ]
    },
    {
     "name": "stderr",
     "output_type": "stream",
     "text": [
      "Training Epoch 1682: 100%|██████████| 500/500 [00:05<00:00, 92.74it/s]\n",
      "Training Epoch 1683: 100%|██████████| 500/500 [00:05<00:00, 90.88it/s]\n",
      "Training Epoch 1684: 100%|██████████| 500/500 [00:05<00:00, 88.95it/s]\n",
      "Training Epoch 1685: 100%|██████████| 500/500 [00:05<00:00, 88.58it/s]\n",
      "Training Epoch 1686: 100%|██████████| 500/500 [00:05<00:00, 92.14it/s]\n",
      "Training Epoch 1687: 100%|██████████| 500/500 [00:05<00:00, 89.70it/s]\n",
      "Training Epoch 1688: 100%|██████████| 500/500 [00:05<00:00, 91.54it/s]\n",
      "Training Epoch 1689: 100%|██████████| 500/500 [00:05<00:00, 89.58it/s]\n",
      "Training Epoch 1690: 100%|██████████| 500/500 [00:05<00:00, 89.98it/s]\n",
      "Training Epoch 1691: 100%|██████████| 500/500 [00:05<00:00, 90.45it/s]\n"
     ]
    },
    {
     "name": "stdout",
     "output_type": "stream",
     "text": [
      "Epoch 1690 - Train Loss: 0.0428, Train MSE: 0.0428, Train MAE: 0.1467\n",
      "Epoch 1690 - Validation Loss: 1.4909, Validation MSE: 1.4901, Validation MAE: 0.8468\n"
     ]
    },
    {
     "name": "stderr",
     "output_type": "stream",
     "text": [
      "Training Epoch 1692: 100%|██████████| 500/500 [00:05<00:00, 89.52it/s]\n",
      "Training Epoch 1693: 100%|██████████| 500/500 [00:05<00:00, 88.18it/s]\n",
      "Training Epoch 1694: 100%|██████████| 500/500 [00:05<00:00, 90.33it/s]\n",
      "Training Epoch 1695: 100%|██████████| 500/500 [00:05<00:00, 89.47it/s]\n",
      "Training Epoch 1696: 100%|██████████| 500/500 [00:05<00:00, 90.45it/s]\n",
      "Training Epoch 1697: 100%|██████████| 500/500 [00:05<00:00, 90.94it/s]\n",
      "Training Epoch 1698: 100%|██████████| 500/500 [00:05<00:00, 89.88it/s]\n",
      "Training Epoch 1699: 100%|██████████| 500/500 [00:05<00:00, 90.39it/s]\n",
      "Training Epoch 1700: 100%|██████████| 500/500 [00:05<00:00, 90.07it/s]\n",
      "Training Epoch 1701: 100%|██████████| 500/500 [00:05<00:00, 90.35it/s]\n"
     ]
    },
    {
     "name": "stdout",
     "output_type": "stream",
     "text": [
      "Epoch 1700 - Train Loss: 0.0567, Train MSE: 0.0568, Train MAE: 0.1629\n",
      "Epoch 1700 - Validation Loss: 1.5245, Validation MSE: 1.5238, Validation MAE: 0.8567\n"
     ]
    },
    {
     "name": "stderr",
     "output_type": "stream",
     "text": [
      "Training Epoch 1702: 100%|██████████| 500/500 [00:05<00:00, 89.99it/s]\n",
      "Training Epoch 1703: 100%|██████████| 500/500 [00:05<00:00, 87.92it/s]\n",
      "Training Epoch 1704: 100%|██████████| 500/500 [00:05<00:00, 91.39it/s]\n",
      "Training Epoch 1705: 100%|██████████| 500/500 [00:05<00:00, 89.20it/s]\n",
      "Training Epoch 1706: 100%|██████████| 500/500 [00:05<00:00, 89.85it/s]\n",
      "Training Epoch 1707: 100%|██████████| 500/500 [00:05<00:00, 90.57it/s]\n",
      "Training Epoch 1708: 100%|██████████| 500/500 [00:05<00:00, 90.53it/s]\n",
      "Training Epoch 1709: 100%|██████████| 500/500 [00:05<00:00, 88.79it/s]\n",
      "Training Epoch 1710: 100%|██████████| 500/500 [00:05<00:00, 90.06it/s]\n",
      "Training Epoch 1711: 100%|██████████| 500/500 [00:05<00:00, 91.26it/s]\n"
     ]
    },
    {
     "name": "stdout",
     "output_type": "stream",
     "text": [
      "Epoch 1710 - Train Loss: 0.0410, Train MSE: 0.0411, Train MAE: 0.1447\n",
      "Epoch 1710 - Validation Loss: 1.4949, Validation MSE: 1.4952, Validation MAE: 0.8489\n"
     ]
    },
    {
     "name": "stderr",
     "output_type": "stream",
     "text": [
      "Training Epoch 1712: 100%|██████████| 500/500 [00:05<00:00, 88.61it/s]\n",
      "Training Epoch 1713: 100%|██████████| 500/500 [00:05<00:00, 91.17it/s]\n",
      "Training Epoch 1714: 100%|██████████| 500/500 [00:05<00:00, 92.15it/s]\n",
      "Training Epoch 1715: 100%|██████████| 500/500 [00:05<00:00, 90.15it/s]\n",
      "Training Epoch 1716: 100%|██████████| 500/500 [00:05<00:00, 90.31it/s]\n",
      "Training Epoch 1717: 100%|██████████| 500/500 [00:05<00:00, 90.78it/s]\n",
      "Training Epoch 1718: 100%|██████████| 500/500 [00:05<00:00, 90.91it/s]\n",
      "Training Epoch 1719: 100%|██████████| 500/500 [00:05<00:00, 89.90it/s]\n",
      "Training Epoch 1720: 100%|██████████| 500/500 [00:05<00:00, 88.80it/s]\n",
      "Training Epoch 1721: 100%|██████████| 500/500 [00:05<00:00, 90.61it/s]\n"
     ]
    },
    {
     "name": "stdout",
     "output_type": "stream",
     "text": [
      "Epoch 1720 - Train Loss: 0.0420, Train MSE: 0.0420, Train MAE: 0.1450\n",
      "Epoch 1720 - Validation Loss: 1.4854, Validation MSE: 1.4860, Validation MAE: 0.8450\n"
     ]
    },
    {
     "name": "stderr",
     "output_type": "stream",
     "text": [
      "Training Epoch 1722: 100%|██████████| 500/500 [00:05<00:00, 90.43it/s]\n",
      "Training Epoch 1723: 100%|██████████| 500/500 [00:05<00:00, 89.93it/s]\n",
      "Training Epoch 1724: 100%|██████████| 500/500 [00:05<00:00, 90.73it/s]\n",
      "Training Epoch 1725: 100%|██████████| 500/500 [00:05<00:00, 90.45it/s]\n",
      "Training Epoch 1726: 100%|██████████| 500/500 [00:05<00:00, 87.81it/s]\n",
      "Training Epoch 1727: 100%|██████████| 500/500 [00:05<00:00, 90.77it/s]\n",
      "Training Epoch 1728: 100%|██████████| 500/500 [00:05<00:00, 89.27it/s]\n",
      "Training Epoch 1729: 100%|██████████| 500/500 [00:05<00:00, 91.48it/s]\n",
      "Training Epoch 1730: 100%|██████████| 500/500 [00:05<00:00, 90.80it/s]\n",
      "Training Epoch 1731: 100%|██████████| 500/500 [00:05<00:00, 88.63it/s]\n"
     ]
    },
    {
     "name": "stdout",
     "output_type": "stream",
     "text": [
      "Epoch 1730 - Train Loss: 0.0518, Train MSE: 0.0519, Train MAE: 0.1529\n",
      "Epoch 1730 - Validation Loss: 1.5047, Validation MSE: 1.5035, Validation MAE: 0.8535\n"
     ]
    },
    {
     "name": "stderr",
     "output_type": "stream",
     "text": [
      "Training Epoch 1732: 100%|██████████| 500/500 [00:05<00:00, 90.48it/s]\n",
      "Training Epoch 1733: 100%|██████████| 500/500 [00:05<00:00, 90.77it/s]\n",
      "Training Epoch 1734: 100%|██████████| 500/500 [00:05<00:00, 88.95it/s]\n",
      "Training Epoch 1735: 100%|██████████| 500/500 [00:05<00:00, 91.19it/s]\n",
      "Training Epoch 1736: 100%|██████████| 500/500 [00:05<00:00, 91.89it/s]\n",
      "Training Epoch 1737: 100%|██████████| 500/500 [00:05<00:00, 90.23it/s]\n",
      "Training Epoch 1738: 100%|██████████| 500/500 [00:05<00:00, 90.71it/s]\n",
      "Training Epoch 1739: 100%|██████████| 500/500 [00:05<00:00, 92.33it/s]\n",
      "Training Epoch 1740: 100%|██████████| 500/500 [00:05<00:00, 89.15it/s]\n",
      "Training Epoch 1741: 100%|██████████| 500/500 [00:05<00:00, 92.44it/s]\n"
     ]
    },
    {
     "name": "stdout",
     "output_type": "stream",
     "text": [
      "Epoch 1740 - Train Loss: 0.0441, Train MSE: 0.0442, Train MAE: 0.1482\n",
      "Epoch 1740 - Validation Loss: 1.4904, Validation MSE: 1.4898, Validation MAE: 0.8446\n"
     ]
    },
    {
     "name": "stderr",
     "output_type": "stream",
     "text": [
      "Training Epoch 1742: 100%|██████████| 500/500 [00:05<00:00, 88.89it/s]\n",
      "Training Epoch 1743: 100%|██████████| 500/500 [00:05<00:00, 92.12it/s]\n",
      "Training Epoch 1744: 100%|██████████| 500/500 [00:05<00:00, 91.34it/s]\n",
      "Training Epoch 1745: 100%|██████████| 500/500 [00:05<00:00, 90.81it/s]\n",
      "Training Epoch 1746: 100%|██████████| 500/500 [00:05<00:00, 91.74it/s]\n",
      "Training Epoch 1747: 100%|██████████| 500/500 [00:05<00:00, 91.10it/s]\n",
      "Training Epoch 1748: 100%|██████████| 500/500 [00:05<00:00, 90.85it/s]\n",
      "Training Epoch 1749: 100%|██████████| 500/500 [00:05<00:00, 91.56it/s]\n",
      "Training Epoch 1750: 100%|██████████| 500/500 [00:05<00:00, 92.68it/s]\n",
      "Training Epoch 1751: 100%|██████████| 500/500 [00:05<00:00, 90.05it/s]\n"
     ]
    },
    {
     "name": "stdout",
     "output_type": "stream",
     "text": [
      "Epoch 1750 - Train Loss: 0.0437, Train MSE: 0.0438, Train MAE: 0.1473\n",
      "Epoch 1750 - Validation Loss: 1.5049, Validation MSE: 1.5052, Validation MAE: 0.8489\n"
     ]
    },
    {
     "name": "stderr",
     "output_type": "stream",
     "text": [
      "Training Epoch 1752: 100%|██████████| 500/500 [00:05<00:00, 88.82it/s]\n",
      "Training Epoch 1753: 100%|██████████| 500/500 [00:05<00:00, 91.11it/s]\n",
      "Training Epoch 1754: 100%|██████████| 500/500 [00:05<00:00, 88.01it/s]\n",
      "Training Epoch 1755: 100%|██████████| 500/500 [00:05<00:00, 90.42it/s]\n",
      "Training Epoch 1756: 100%|██████████| 500/500 [00:05<00:00, 90.70it/s]\n",
      "Training Epoch 1757: 100%|██████████| 500/500 [00:05<00:00, 92.95it/s]\n",
      "Training Epoch 1758: 100%|██████████| 500/500 [00:05<00:00, 91.00it/s]\n",
      "Training Epoch 1759: 100%|██████████| 500/500 [00:05<00:00, 90.93it/s]\n",
      "Training Epoch 1760: 100%|██████████| 500/500 [00:05<00:00, 91.71it/s]\n",
      "Training Epoch 1761: 100%|██████████| 500/500 [00:05<00:00, 89.83it/s]\n"
     ]
    },
    {
     "name": "stdout",
     "output_type": "stream",
     "text": [
      "Epoch 1760 - Train Loss: 0.0463, Train MSE: 0.0464, Train MAE: 0.1478\n",
      "Epoch 1760 - Validation Loss: 1.4730, Validation MSE: 1.4740, Validation MAE: 0.8365\n"
     ]
    },
    {
     "name": "stderr",
     "output_type": "stream",
     "text": [
      "Training Epoch 1762: 100%|██████████| 500/500 [00:05<00:00, 90.54it/s]\n",
      "Training Epoch 1763: 100%|██████████| 500/500 [00:05<00:00, 92.78it/s]\n",
      "Training Epoch 1764: 100%|██████████| 500/500 [00:05<00:00, 91.11it/s]\n",
      "Training Epoch 1765: 100%|██████████| 500/500 [00:05<00:00, 90.63it/s]\n",
      "Training Epoch 1766: 100%|██████████| 500/500 [00:05<00:00, 91.49it/s]\n",
      "Training Epoch 1767: 100%|██████████| 500/500 [00:05<00:00, 90.34it/s]\n",
      "Training Epoch 1768: 100%|██████████| 500/500 [00:05<00:00, 88.86it/s]\n",
      "Training Epoch 1769: 100%|██████████| 500/500 [00:05<00:00, 91.88it/s]\n",
      "Training Epoch 1770: 100%|██████████| 500/500 [00:05<00:00, 90.56it/s]\n",
      "Training Epoch 1771: 100%|██████████| 500/500 [00:05<00:00, 90.64it/s]\n"
     ]
    },
    {
     "name": "stdout",
     "output_type": "stream",
     "text": [
      "Epoch 1770 - Train Loss: 0.0468, Train MSE: 0.0469, Train MAE: 0.1515\n",
      "Epoch 1770 - Validation Loss: 1.5344, Validation MSE: 1.5345, Validation MAE: 0.8585\n"
     ]
    },
    {
     "name": "stderr",
     "output_type": "stream",
     "text": [
      "Training Epoch 1772: 100%|██████████| 500/500 [00:05<00:00, 91.05it/s]\n",
      "Training Epoch 1773: 100%|██████████| 500/500 [00:05<00:00, 90.98it/s]\n",
      "Training Epoch 1774: 100%|██████████| 500/500 [00:05<00:00, 90.69it/s]\n",
      "Training Epoch 1775: 100%|██████████| 500/500 [00:05<00:00, 90.08it/s]\n",
      "Training Epoch 1776: 100%|██████████| 500/500 [00:05<00:00, 90.20it/s]\n",
      "Training Epoch 1777: 100%|██████████| 500/500 [00:05<00:00, 92.05it/s]\n",
      "Training Epoch 1778: 100%|██████████| 500/500 [00:05<00:00, 89.99it/s]\n",
      "Training Epoch 1779: 100%|██████████| 500/500 [00:05<00:00, 90.95it/s]\n",
      "Training Epoch 1780: 100%|██████████| 500/500 [00:05<00:00, 90.83it/s]\n",
      "Training Epoch 1781: 100%|██████████| 500/500 [00:05<00:00, 92.26it/s]\n"
     ]
    },
    {
     "name": "stdout",
     "output_type": "stream",
     "text": [
      "Epoch 1780 - Train Loss: 0.0483, Train MSE: 0.0484, Train MAE: 0.1525\n",
      "Epoch 1780 - Validation Loss: 1.5238, Validation MSE: 1.5253, Validation MAE: 0.8547\n"
     ]
    },
    {
     "name": "stderr",
     "output_type": "stream",
     "text": [
      "Training Epoch 1782: 100%|██████████| 500/500 [00:05<00:00, 90.37it/s]\n",
      "Training Epoch 1783: 100%|██████████| 500/500 [00:05<00:00, 91.63it/s]\n",
      "Training Epoch 1784: 100%|██████████| 500/500 [00:05<00:00, 88.21it/s]\n",
      "Training Epoch 1785: 100%|██████████| 500/500 [00:05<00:00, 92.65it/s]\n",
      "Training Epoch 1786: 100%|██████████| 500/500 [00:05<00:00, 91.67it/s]\n",
      "Training Epoch 1787: 100%|██████████| 500/500 [00:05<00:00, 90.10it/s]\n",
      "Training Epoch 1788: 100%|██████████| 500/500 [00:05<00:00, 91.07it/s]\n",
      "Training Epoch 1789: 100%|██████████| 500/500 [00:05<00:00, 91.70it/s]\n",
      "Training Epoch 1790: 100%|██████████| 500/500 [00:05<00:00, 89.66it/s]\n",
      "Training Epoch 1791: 100%|██████████| 500/500 [00:05<00:00, 90.96it/s]\n"
     ]
    },
    {
     "name": "stdout",
     "output_type": "stream",
     "text": [
      "Epoch 1790 - Train Loss: 0.0507, Train MSE: 0.0508, Train MAE: 0.1554\n",
      "Epoch 1790 - Validation Loss: 1.5100, Validation MSE: 1.5119, Validation MAE: 0.8520\n"
     ]
    },
    {
     "name": "stderr",
     "output_type": "stream",
     "text": [
      "Training Epoch 1792: 100%|██████████| 500/500 [00:05<00:00, 89.38it/s]\n",
      "Training Epoch 1793: 100%|██████████| 500/500 [00:05<00:00, 90.16it/s]\n",
      "Training Epoch 1794: 100%|██████████| 500/500 [00:05<00:00, 90.76it/s]\n",
      "Training Epoch 1795: 100%|██████████| 500/500 [00:05<00:00, 90.58it/s]\n",
      "Training Epoch 1796: 100%|██████████| 500/500 [00:05<00:00, 89.97it/s]\n",
      "Training Epoch 1797: 100%|██████████| 500/500 [00:05<00:00, 90.89it/s]\n",
      "Training Epoch 1798: 100%|██████████| 500/500 [00:05<00:00, 89.39it/s]\n",
      "Training Epoch 1799: 100%|██████████| 500/500 [00:05<00:00, 90.21it/s]\n",
      "Training Epoch 1800: 100%|██████████| 500/500 [00:05<00:00, 89.71it/s]\n",
      "Training Epoch 1801: 100%|██████████| 500/500 [00:05<00:00, 91.36it/s]\n"
     ]
    },
    {
     "name": "stdout",
     "output_type": "stream",
     "text": [
      "Epoch 1800 - Train Loss: 0.0460, Train MSE: 0.0460, Train MAE: 0.1501\n",
      "Epoch 1800 - Validation Loss: 1.5020, Validation MSE: 1.5014, Validation MAE: 0.8450\n"
     ]
    },
    {
     "name": "stderr",
     "output_type": "stream",
     "text": [
      "Training Epoch 1802: 100%|██████████| 500/500 [00:05<00:00, 90.64it/s]\n",
      "Training Epoch 1803: 100%|██████████| 500/500 [00:05<00:00, 90.30it/s]\n",
      "Training Epoch 1804: 100%|██████████| 500/500 [00:05<00:00, 88.79it/s]\n",
      "Training Epoch 1805: 100%|██████████| 500/500 [00:05<00:00, 92.33it/s]\n",
      "Training Epoch 1806: 100%|██████████| 500/500 [00:05<00:00, 91.26it/s]\n",
      "Training Epoch 1807: 100%|██████████| 500/500 [00:05<00:00, 91.57it/s]\n",
      "Training Epoch 1808: 100%|██████████| 500/500 [00:05<00:00, 93.01it/s]\n",
      "Training Epoch 1809: 100%|██████████| 500/500 [00:05<00:00, 91.13it/s]\n",
      "Training Epoch 1810: 100%|██████████| 500/500 [00:05<00:00, 91.39it/s]\n",
      "Training Epoch 1811: 100%|██████████| 500/500 [00:05<00:00, 92.96it/s]\n"
     ]
    },
    {
     "name": "stdout",
     "output_type": "stream",
     "text": [
      "Epoch 1810 - Train Loss: 0.0404, Train MSE: 0.0405, Train MAE: 0.1444\n",
      "Epoch 1810 - Validation Loss: 1.5121, Validation MSE: 1.5115, Validation MAE: 0.8504\n"
     ]
    },
    {
     "name": "stderr",
     "output_type": "stream",
     "text": [
      "Training Epoch 1812: 100%|██████████| 500/500 [00:05<00:00, 90.31it/s]\n",
      "Training Epoch 1813: 100%|██████████| 500/500 [00:05<00:00, 91.64it/s]\n",
      "Training Epoch 1814: 100%|██████████| 500/500 [00:05<00:00, 91.78it/s]\n",
      "Training Epoch 1815: 100%|██████████| 500/500 [00:05<00:00, 91.03it/s]\n",
      "Training Epoch 1816: 100%|██████████| 500/500 [00:05<00:00, 90.49it/s]\n",
      "Training Epoch 1817: 100%|██████████| 500/500 [00:05<00:00, 90.95it/s]\n",
      "Training Epoch 1818: 100%|██████████| 500/500 [00:05<00:00, 88.52it/s]\n",
      "Training Epoch 1819: 100%|██████████| 500/500 [00:05<00:00, 91.58it/s]\n",
      "Training Epoch 1820: 100%|██████████| 500/500 [00:05<00:00, 90.75it/s]\n",
      "Training Epoch 1821: 100%|██████████| 500/500 [00:05<00:00, 90.46it/s]\n"
     ]
    },
    {
     "name": "stdout",
     "output_type": "stream",
     "text": [
      "Epoch 1820 - Train Loss: 0.0456, Train MSE: 0.0457, Train MAE: 0.1485\n",
      "Epoch 1820 - Validation Loss: 1.4896, Validation MSE: 1.4905, Validation MAE: 0.8416\n"
     ]
    },
    {
     "name": "stderr",
     "output_type": "stream",
     "text": [
      "Training Epoch 1822: 100%|██████████| 500/500 [00:05<00:00, 90.27it/s]\n",
      "Training Epoch 1823: 100%|██████████| 500/500 [00:05<00:00, 91.03it/s]\n",
      "Training Epoch 1824: 100%|██████████| 500/500 [00:05<00:00, 90.82it/s]\n",
      "Training Epoch 1825: 100%|██████████| 500/500 [00:05<00:00, 90.15it/s]\n",
      "Training Epoch 1826: 100%|██████████| 500/500 [00:05<00:00, 89.43it/s]\n",
      "Training Epoch 1827: 100%|██████████| 500/500 [00:05<00:00, 91.24it/s]\n",
      "Training Epoch 1828: 100%|██████████| 500/500 [00:05<00:00, 88.68it/s]\n",
      "Training Epoch 1829: 100%|██████████| 500/500 [00:05<00:00, 91.07it/s]\n",
      "Training Epoch 1830: 100%|██████████| 500/500 [00:05<00:00, 91.26it/s]\n",
      "Training Epoch 1831: 100%|██████████| 500/500 [00:05<00:00, 90.58it/s]\n"
     ]
    },
    {
     "name": "stdout",
     "output_type": "stream",
     "text": [
      "Epoch 1830 - Train Loss: 0.0546, Train MSE: 0.0547, Train MAE: 0.1551\n",
      "Epoch 1830 - Validation Loss: 1.6288, Validation MSE: 1.6302, Validation MAE: 0.8717\n"
     ]
    },
    {
     "name": "stderr",
     "output_type": "stream",
     "text": [
      "Training Epoch 1832: 100%|██████████| 500/500 [00:05<00:00, 90.37it/s]\n",
      "Training Epoch 1833: 100%|██████████| 500/500 [00:05<00:00, 91.31it/s]\n",
      "Training Epoch 1834: 100%|██████████| 500/500 [00:05<00:00, 90.91it/s]\n",
      "Training Epoch 1835: 100%|██████████| 500/500 [00:05<00:00, 91.66it/s]\n",
      "Training Epoch 1836: 100%|██████████| 500/500 [00:05<00:00, 90.24it/s]\n",
      "Training Epoch 1837: 100%|██████████| 500/500 [00:05<00:00, 90.78it/s]\n",
      "Training Epoch 1838: 100%|██████████| 500/500 [00:05<00:00, 91.15it/s]\n",
      "Training Epoch 1839: 100%|██████████| 500/500 [00:05<00:00, 93.38it/s]\n",
      "Training Epoch 1840: 100%|██████████| 500/500 [00:05<00:00, 90.07it/s]\n",
      "Training Epoch 1841: 100%|██████████| 500/500 [00:05<00:00, 90.36it/s]\n"
     ]
    },
    {
     "name": "stdout",
     "output_type": "stream",
     "text": [
      "Epoch 1840 - Train Loss: 0.0447, Train MSE: 0.0447, Train MAE: 0.1475\n",
      "Epoch 1840 - Validation Loss: 1.5040, Validation MSE: 1.5044, Validation MAE: 0.8450\n"
     ]
    },
    {
     "name": "stderr",
     "output_type": "stream",
     "text": [
      "Training Epoch 1842: 100%|██████████| 500/500 [00:05<00:00, 91.07it/s]\n",
      "Training Epoch 1843: 100%|██████████| 500/500 [00:05<00:00, 90.35it/s]\n",
      "Training Epoch 1844: 100%|██████████| 500/500 [00:05<00:00, 90.30it/s]\n",
      "Training Epoch 1845: 100%|██████████| 500/500 [00:05<00:00, 91.53it/s]\n",
      "Training Epoch 1846: 100%|██████████| 500/500 [00:05<00:00, 89.13it/s]\n",
      "Training Epoch 1847: 100%|██████████| 500/500 [00:05<00:00, 91.42it/s]\n",
      "Training Epoch 1848: 100%|██████████| 500/500 [00:05<00:00, 92.29it/s]\n",
      "Training Epoch 1849: 100%|██████████| 500/500 [00:05<00:00, 90.75it/s]\n",
      "Training Epoch 1850: 100%|██████████| 500/500 [00:05<00:00, 91.25it/s]\n",
      "Training Epoch 1851: 100%|██████████| 500/500 [00:05<00:00, 89.74it/s]\n"
     ]
    },
    {
     "name": "stdout",
     "output_type": "stream",
     "text": [
      "Epoch 1850 - Train Loss: 0.0400, Train MSE: 0.0400, Train MAE: 0.1424\n",
      "Epoch 1850 - Validation Loss: 1.5004, Validation MSE: 1.5001, Validation MAE: 0.8434\n"
     ]
    },
    {
     "name": "stderr",
     "output_type": "stream",
     "text": [
      "Training Epoch 1852: 100%|██████████| 500/500 [00:05<00:00, 90.46it/s]\n",
      "Training Epoch 1853: 100%|██████████| 500/500 [00:05<00:00, 92.01it/s]\n",
      "Training Epoch 1854: 100%|██████████| 500/500 [00:05<00:00, 89.15it/s]\n",
      "Training Epoch 1855: 100%|██████████| 500/500 [00:05<00:00, 91.81it/s]\n",
      "Training Epoch 1856: 100%|██████████| 500/500 [00:05<00:00, 91.31it/s]\n",
      "Training Epoch 1857: 100%|██████████| 500/500 [00:05<00:00, 90.68it/s]\n",
      "Training Epoch 1858: 100%|██████████| 500/500 [00:05<00:00, 91.00it/s]\n",
      "Training Epoch 1859: 100%|██████████| 500/500 [00:05<00:00, 91.19it/s]\n",
      "Training Epoch 1860: 100%|██████████| 500/500 [00:05<00:00, 89.12it/s]\n",
      "Training Epoch 1861: 100%|██████████| 500/500 [00:05<00:00, 92.12it/s]\n"
     ]
    },
    {
     "name": "stdout",
     "output_type": "stream",
     "text": [
      "Epoch 1860 - Train Loss: 0.0483, Train MSE: 0.0483, Train MAE: 0.1501\n",
      "Epoch 1860 - Validation Loss: 1.5007, Validation MSE: 1.5002, Validation MAE: 0.8455\n"
     ]
    },
    {
     "name": "stderr",
     "output_type": "stream",
     "text": [
      "Training Epoch 1862: 100%|██████████| 500/500 [00:05<00:00, 91.86it/s]\n",
      "Training Epoch 1863: 100%|██████████| 500/500 [00:05<00:00, 90.81it/s]\n",
      "Training Epoch 1864: 100%|██████████| 500/500 [00:05<00:00, 90.03it/s]\n",
      "Training Epoch 1865: 100%|██████████| 500/500 [00:05<00:00, 92.19it/s]\n",
      "Training Epoch 1866: 100%|██████████| 500/500 [00:05<00:00, 89.46it/s]\n",
      "Training Epoch 1867: 100%|██████████| 500/500 [00:05<00:00, 91.30it/s]\n",
      "Training Epoch 1868: 100%|██████████| 500/500 [00:05<00:00, 88.68it/s]\n",
      "Training Epoch 1869: 100%|██████████| 500/500 [00:05<00:00, 90.94it/s]\n",
      "Training Epoch 1870: 100%|██████████| 500/500 [00:05<00:00, 91.30it/s]\n",
      "Training Epoch 1871: 100%|██████████| 500/500 [00:05<00:00, 91.97it/s]\n"
     ]
    },
    {
     "name": "stdout",
     "output_type": "stream",
     "text": [
      "Epoch 1870 - Train Loss: 0.0515, Train MSE: 0.0516, Train MAE: 0.1564\n",
      "Epoch 1870 - Validation Loss: 1.5217, Validation MSE: 1.5213, Validation MAE: 0.8455\n"
     ]
    },
    {
     "name": "stderr",
     "output_type": "stream",
     "text": [
      "Training Epoch 1872: 100%|██████████| 500/500 [00:05<00:00, 90.11it/s]\n",
      "Training Epoch 1873: 100%|██████████| 500/500 [00:05<00:00, 91.24it/s]\n",
      "Training Epoch 1874: 100%|██████████| 500/500 [00:05<00:00, 91.18it/s]\n",
      "Training Epoch 1875: 100%|██████████| 500/500 [00:05<00:00, 92.28it/s]\n",
      "Training Epoch 1876: 100%|██████████| 500/500 [00:05<00:00, 90.41it/s]\n",
      "Training Epoch 1877: 100%|██████████| 500/500 [00:05<00:00, 91.13it/s]\n",
      "Training Epoch 1878: 100%|██████████| 500/500 [00:05<00:00, 89.92it/s]\n",
      "Training Epoch 1879: 100%|██████████| 500/500 [00:05<00:00, 90.09it/s]\n",
      "Training Epoch 1880: 100%|██████████| 500/500 [00:05<00:00, 91.15it/s]\n",
      "Training Epoch 1881: 100%|██████████| 500/500 [00:05<00:00, 91.91it/s]\n"
     ]
    },
    {
     "name": "stdout",
     "output_type": "stream",
     "text": [
      "Epoch 1880 - Train Loss: 0.0445, Train MSE: 0.0446, Train MAE: 0.1465\n",
      "Epoch 1880 - Validation Loss: 1.5302, Validation MSE: 1.5299, Validation MAE: 0.8513\n"
     ]
    },
    {
     "name": "stderr",
     "output_type": "stream",
     "text": [
      "Training Epoch 1882: 100%|██████████| 500/500 [00:05<00:00, 91.18it/s]\n",
      "Training Epoch 1883: 100%|██████████| 500/500 [00:05<00:00, 91.34it/s]\n",
      "Training Epoch 1884: 100%|██████████| 500/500 [00:05<00:00, 92.76it/s]\n",
      "Training Epoch 1885: 100%|██████████| 500/500 [00:05<00:00, 91.15it/s]\n",
      "Training Epoch 1886: 100%|██████████| 500/500 [00:05<00:00, 91.68it/s]\n",
      "Training Epoch 1887: 100%|██████████| 500/500 [00:05<00:00, 90.40it/s]\n",
      "Training Epoch 1888: 100%|██████████| 500/500 [00:05<00:00, 90.22it/s]\n",
      "Training Epoch 1889: 100%|██████████| 500/500 [00:05<00:00, 91.49it/s]\n",
      "Training Epoch 1890: 100%|██████████| 500/500 [00:05<00:00, 92.83it/s]\n",
      "Training Epoch 1891: 100%|██████████| 500/500 [00:05<00:00, 90.70it/s]\n"
     ]
    },
    {
     "name": "stdout",
     "output_type": "stream",
     "text": [
      "Epoch 1890 - Train Loss: 0.0465, Train MSE: 0.0465, Train MAE: 0.1497\n",
      "Epoch 1890 - Validation Loss: 1.5091, Validation MSE: 1.5100, Validation MAE: 0.8466\n"
     ]
    },
    {
     "name": "stderr",
     "output_type": "stream",
     "text": [
      "Training Epoch 1892: 100%|██████████| 500/500 [00:05<00:00, 92.59it/s]\n",
      "Training Epoch 1893: 100%|██████████| 500/500 [00:05<00:00, 91.59it/s]\n",
      "Training Epoch 1894: 100%|██████████| 500/500 [00:05<00:00, 91.81it/s]\n",
      "Training Epoch 1895: 100%|██████████| 500/500 [00:05<00:00, 90.84it/s]\n",
      "Training Epoch 1896: 100%|██████████| 500/500 [00:05<00:00, 89.01it/s]\n",
      "Training Epoch 1897: 100%|██████████| 500/500 [00:05<00:00, 91.65it/s]\n",
      "Training Epoch 1898: 100%|██████████| 500/500 [00:05<00:00, 92.26it/s]\n",
      "Training Epoch 1899: 100%|██████████| 500/500 [00:05<00:00, 90.01it/s]\n",
      "Training Epoch 1900: 100%|██████████| 500/500 [00:05<00:00, 89.49it/s]\n",
      "Training Epoch 1901: 100%|██████████| 500/500 [00:05<00:00, 91.35it/s]\n"
     ]
    },
    {
     "name": "stdout",
     "output_type": "stream",
     "text": [
      "Epoch 1900 - Train Loss: 0.0433, Train MSE: 0.0433, Train MAE: 0.1467\n",
      "Epoch 1900 - Validation Loss: 1.4915, Validation MSE: 1.4923, Validation MAE: 0.8460\n"
     ]
    },
    {
     "name": "stderr",
     "output_type": "stream",
     "text": [
      "Training Epoch 1902: 100%|██████████| 500/500 [00:05<00:00, 90.46it/s]\n",
      "Training Epoch 1903: 100%|██████████| 500/500 [00:05<00:00, 91.33it/s]\n",
      "Training Epoch 1904: 100%|██████████| 500/500 [00:05<00:00, 90.34it/s]\n",
      "Training Epoch 1905: 100%|██████████| 500/500 [00:05<00:00, 90.94it/s]\n",
      "Training Epoch 1906: 100%|██████████| 500/500 [00:05<00:00, 90.18it/s]\n",
      "Training Epoch 1907: 100%|██████████| 500/500 [00:05<00:00, 88.31it/s]\n",
      "Training Epoch 1908: 100%|██████████| 500/500 [00:05<00:00, 89.48it/s]\n",
      "Training Epoch 1909: 100%|██████████| 500/500 [00:05<00:00, 91.71it/s]\n",
      "Training Epoch 1910: 100%|██████████| 500/500 [00:05<00:00, 88.93it/s]\n",
      "Training Epoch 1911: 100%|██████████| 500/500 [00:05<00:00, 90.80it/s]\n"
     ]
    },
    {
     "name": "stdout",
     "output_type": "stream",
     "text": [
      "Epoch 1910 - Train Loss: 0.0391, Train MSE: 0.0392, Train MAE: 0.1422\n",
      "Epoch 1910 - Validation Loss: 1.4620, Validation MSE: 1.4622, Validation MAE: 0.8358\n"
     ]
    },
    {
     "name": "stderr",
     "output_type": "stream",
     "text": [
      "Training Epoch 1912: 100%|██████████| 500/500 [00:05<00:00, 91.73it/s]\n",
      "Training Epoch 1913: 100%|██████████| 500/500 [00:05<00:00, 89.84it/s]\n",
      "Training Epoch 1914: 100%|██████████| 500/500 [00:05<00:00, 89.97it/s]\n",
      "Training Epoch 1915: 100%|██████████| 500/500 [00:05<00:00, 89.63it/s]\n",
      "Training Epoch 1916: 100%|██████████| 500/500 [00:05<00:00, 90.90it/s]\n",
      "Training Epoch 1917: 100%|██████████| 500/500 [00:05<00:00, 90.82it/s]\n",
      "Training Epoch 1918: 100%|██████████| 500/500 [00:05<00:00, 90.18it/s]\n",
      "Training Epoch 1919: 100%|██████████| 500/500 [00:05<00:00, 93.74it/s]\n",
      "Training Epoch 1920: 100%|██████████| 500/500 [00:05<00:00, 90.75it/s]\n",
      "Training Epoch 1921: 100%|██████████| 500/500 [00:05<00:00, 90.75it/s]\n"
     ]
    },
    {
     "name": "stdout",
     "output_type": "stream",
     "text": [
      "Epoch 1920 - Train Loss: 0.0423, Train MSE: 0.0424, Train MAE: 0.1461\n",
      "Epoch 1920 - Validation Loss: 1.4767, Validation MSE: 1.4769, Validation MAE: 0.8349\n"
     ]
    },
    {
     "name": "stderr",
     "output_type": "stream",
     "text": [
      "Training Epoch 1922: 100%|██████████| 500/500 [00:05<00:00, 92.08it/s]\n",
      "Training Epoch 1923: 100%|██████████| 500/500 [00:05<00:00, 91.81it/s]\n",
      "Training Epoch 1924: 100%|██████████| 500/500 [00:05<00:00, 90.97it/s]\n",
      "Training Epoch 1925: 100%|██████████| 500/500 [00:05<00:00, 91.33it/s]\n",
      "Training Epoch 1926: 100%|██████████| 500/500 [00:05<00:00, 89.34it/s]\n",
      "Training Epoch 1927: 100%|██████████| 500/500 [00:05<00:00, 91.04it/s]\n",
      "Training Epoch 1928: 100%|██████████| 500/500 [00:05<00:00, 91.30it/s]\n",
      "Training Epoch 1929: 100%|██████████| 500/500 [00:05<00:00, 90.59it/s]\n",
      "Training Epoch 1930: 100%|██████████| 500/500 [00:05<00:00, 90.82it/s]\n",
      "Training Epoch 1931: 100%|██████████| 500/500 [00:05<00:00, 92.53it/s]\n"
     ]
    },
    {
     "name": "stdout",
     "output_type": "stream",
     "text": [
      "Epoch 1930 - Train Loss: 0.0387, Train MSE: 0.0374, Train MAE: 0.1391\n",
      "Epoch 1930 - Validation Loss: 1.4948, Validation MSE: 1.4966, Validation MAE: 0.8422\n"
     ]
    },
    {
     "name": "stderr",
     "output_type": "stream",
     "text": [
      "Training Epoch 1932: 100%|██████████| 500/500 [00:05<00:00, 93.58it/s]\n",
      "Training Epoch 1933: 100%|██████████| 500/500 [00:05<00:00, 90.58it/s]\n",
      "Training Epoch 1934: 100%|██████████| 500/500 [00:05<00:00, 90.96it/s]\n",
      "Training Epoch 1935: 100%|██████████| 500/500 [00:05<00:00, 89.93it/s]\n",
      "Training Epoch 1936: 100%|██████████| 500/500 [00:05<00:00, 91.17it/s]\n",
      "Training Epoch 1937: 100%|██████████| 500/500 [00:05<00:00, 90.36it/s]\n",
      "Training Epoch 1938: 100%|██████████| 500/500 [00:05<00:00, 89.84it/s]\n",
      "Training Epoch 1939: 100%|██████████| 500/500 [00:05<00:00, 93.19it/s]\n",
      "Training Epoch 1940: 100%|██████████| 500/500 [00:05<00:00, 91.16it/s]\n",
      "Training Epoch 1941: 100%|██████████| 500/500 [00:05<00:00, 90.65it/s]\n"
     ]
    },
    {
     "name": "stdout",
     "output_type": "stream",
     "text": [
      "Epoch 1940 - Train Loss: 0.0500, Train MSE: 0.0500, Train MAE: 0.1502\n",
      "Epoch 1940 - Validation Loss: 1.4878, Validation MSE: 1.4888, Validation MAE: 0.8420\n"
     ]
    },
    {
     "name": "stderr",
     "output_type": "stream",
     "text": [
      "Training Epoch 1942: 100%|██████████| 500/500 [00:05<00:00, 90.18it/s]\n",
      "Training Epoch 1943: 100%|██████████| 500/500 [00:05<00:00, 92.61it/s]\n",
      "Training Epoch 1944: 100%|██████████| 500/500 [00:05<00:00, 89.55it/s]\n",
      "Training Epoch 1945: 100%|██████████| 500/500 [00:05<00:00, 91.29it/s]\n",
      "Training Epoch 1946: 100%|██████████| 500/500 [00:05<00:00, 91.20it/s]\n",
      "Training Epoch 1947: 100%|██████████| 500/500 [00:05<00:00, 90.84it/s]\n",
      "Training Epoch 1948: 100%|██████████| 500/500 [00:05<00:00, 92.16it/s]\n",
      "Training Epoch 1949: 100%|██████████| 500/500 [00:05<00:00, 86.98it/s]\n",
      "Training Epoch 1950: 100%|██████████| 500/500 [00:05<00:00, 91.66it/s]\n",
      "Training Epoch 1951: 100%|██████████| 500/500 [00:05<00:00, 89.52it/s]\n"
     ]
    },
    {
     "name": "stdout",
     "output_type": "stream",
     "text": [
      "Epoch 1950 - Train Loss: 0.0439, Train MSE: 0.0439, Train MAE: 0.1475\n",
      "Epoch 1950 - Validation Loss: 1.5109, Validation MSE: 1.5112, Validation MAE: 0.8467\n"
     ]
    },
    {
     "name": "stderr",
     "output_type": "stream",
     "text": [
      "Training Epoch 1952: 100%|██████████| 500/500 [00:05<00:00, 89.49it/s]\n",
      "Training Epoch 1953: 100%|██████████| 500/500 [00:05<00:00, 91.05it/s]\n",
      "Training Epoch 1954: 100%|██████████| 500/500 [00:05<00:00, 90.99it/s]\n",
      "Training Epoch 1955: 100%|██████████| 500/500 [00:05<00:00, 90.91it/s]\n",
      "Training Epoch 1956: 100%|██████████| 500/500 [00:05<00:00, 90.30it/s]\n",
      "Training Epoch 1957: 100%|██████████| 500/500 [00:05<00:00, 91.39it/s]\n",
      "Training Epoch 1958: 100%|██████████| 500/500 [00:05<00:00, 90.12it/s]\n",
      "Training Epoch 1959: 100%|██████████| 500/500 [00:05<00:00, 89.48it/s]\n",
      "Training Epoch 1960: 100%|██████████| 500/500 [00:05<00:00, 93.05it/s]\n",
      "Training Epoch 1961: 100%|██████████| 500/500 [00:05<00:00, 90.99it/s]\n"
     ]
    },
    {
     "name": "stdout",
     "output_type": "stream",
     "text": [
      "Epoch 1960 - Train Loss: 0.0557, Train MSE: 0.0558, Train MAE: 0.1567\n",
      "Epoch 1960 - Validation Loss: 1.5066, Validation MSE: 1.5060, Validation MAE: 0.8468\n"
     ]
    },
    {
     "name": "stderr",
     "output_type": "stream",
     "text": [
      "Training Epoch 1962: 100%|██████████| 500/500 [00:05<00:00, 93.26it/s] \n",
      "Training Epoch 1963: 100%|██████████| 500/500 [00:05<00:00, 89.93it/s]\n",
      "Training Epoch 1964: 100%|██████████| 500/500 [00:05<00:00, 90.83it/s]\n",
      "Training Epoch 1965: 100%|██████████| 500/500 [00:05<00:00, 91.17it/s]\n",
      "Training Epoch 1966: 100%|██████████| 500/500 [00:05<00:00, 91.61it/s]\n",
      "Training Epoch 1967: 100%|██████████| 500/500 [00:05<00:00, 91.36it/s]\n",
      "Training Epoch 1968: 100%|██████████| 500/500 [00:05<00:00, 91.61it/s]\n",
      "Training Epoch 1969: 100%|██████████| 500/500 [00:05<00:00, 89.34it/s]\n",
      "Training Epoch 1970: 100%|██████████| 500/500 [00:05<00:00, 90.44it/s]\n",
      "Training Epoch 1971: 100%|██████████| 500/500 [00:05<00:00, 91.54it/s]\n"
     ]
    },
    {
     "name": "stdout",
     "output_type": "stream",
     "text": [
      "Epoch 1970 - Train Loss: 0.0406, Train MSE: 0.0407, Train MAE: 0.1435\n",
      "Epoch 1970 - Validation Loss: 1.4535, Validation MSE: 1.4530, Validation MAE: 0.8329\n"
     ]
    },
    {
     "name": "stderr",
     "output_type": "stream",
     "text": [
      "Training Epoch 1972: 100%|██████████| 500/500 [00:05<00:00, 90.06it/s]\n",
      "Training Epoch 1973: 100%|██████████| 500/500 [00:05<00:00, 88.61it/s]\n",
      "Training Epoch 1974: 100%|██████████| 500/500 [00:05<00:00, 90.70it/s]\n",
      "Training Epoch 1975: 100%|██████████| 500/500 [00:05<00:00, 88.76it/s]\n",
      "Training Epoch 1976: 100%|██████████| 500/500 [00:05<00:00, 90.09it/s]\n",
      "Training Epoch 1977: 100%|██████████| 500/500 [00:05<00:00, 89.72it/s]\n",
      "Training Epoch 1978: 100%|██████████| 500/500 [00:05<00:00, 91.36it/s]\n",
      "Training Epoch 1979: 100%|██████████| 500/500 [00:05<00:00, 91.22it/s]\n",
      "Training Epoch 1980: 100%|██████████| 500/500 [00:05<00:00, 88.96it/s]\n",
      "Training Epoch 1981: 100%|██████████| 500/500 [00:05<00:00, 90.04it/s]\n"
     ]
    },
    {
     "name": "stdout",
     "output_type": "stream",
     "text": [
      "Epoch 1980 - Train Loss: 0.0400, Train MSE: 0.0401, Train MAE: 0.1413\n",
      "Epoch 1980 - Validation Loss: 1.5002, Validation MSE: 1.5004, Validation MAE: 0.8489\n"
     ]
    },
    {
     "name": "stderr",
     "output_type": "stream",
     "text": [
      "Training Epoch 1982: 100%|██████████| 500/500 [00:05<00:00, 91.38it/s]\n",
      "Training Epoch 1983: 100%|██████████| 500/500 [00:05<00:00, 89.99it/s]\n",
      "Training Epoch 1984: 100%|██████████| 500/500 [00:05<00:00, 91.18it/s]\n",
      "Training Epoch 1985: 100%|██████████| 500/500 [00:05<00:00, 90.73it/s]\n",
      "Training Epoch 1986: 100%|██████████| 500/500 [00:05<00:00, 90.49it/s]\n",
      "Training Epoch 1987: 100%|██████████| 500/500 [00:05<00:00, 91.45it/s]\n",
      "Training Epoch 1988: 100%|██████████| 500/500 [00:05<00:00, 92.02it/s]\n",
      "Training Epoch 1989: 100%|██████████| 500/500 [00:05<00:00, 90.92it/s]\n",
      "Training Epoch 1990: 100%|██████████| 500/500 [00:05<00:00, 92.87it/s]\n",
      "Training Epoch 1991: 100%|██████████| 500/500 [00:05<00:00, 91.01it/s]\n"
     ]
    },
    {
     "name": "stdout",
     "output_type": "stream",
     "text": [
      "Epoch 1990 - Train Loss: 0.0523, Train MSE: 0.0523, Train MAE: 0.1523\n",
      "Epoch 1990 - Validation Loss: 1.5992, Validation MSE: 1.6005, Validation MAE: 0.8592\n"
     ]
    },
    {
     "name": "stderr",
     "output_type": "stream",
     "text": [
      "Training Epoch 1992: 100%|██████████| 500/500 [00:05<00:00, 89.62it/s]\n",
      "Training Epoch 1993: 100%|██████████| 500/500 [00:05<00:00, 90.93it/s]\n",
      "Training Epoch 1994: 100%|██████████| 500/500 [00:05<00:00, 89.21it/s]\n",
      "Training Epoch 1995: 100%|██████████| 500/500 [00:05<00:00, 90.97it/s]\n",
      "Training Epoch 1996: 100%|██████████| 500/500 [00:05<00:00, 92.34it/s]\n",
      "Training Epoch 1997: 100%|██████████| 500/500 [00:05<00:00, 89.63it/s]\n",
      "Training Epoch 1998: 100%|██████████| 500/500 [00:05<00:00, 91.24it/s]\n",
      "Training Epoch 1999: 100%|██████████| 500/500 [00:05<00:00, 89.73it/s]\n",
      "Training Epoch 2000: 100%|██████████| 500/500 [00:05<00:00, 90.31it/s]\n"
     ]
    },
    {
     "name": "stdout",
     "output_type": "stream",
     "text": [
      "Test MSE: 1.6048, Test MAE: 0.8778\n"
     ]
    }
   ],
   "source": [
    "train_history_2 = pd.DataFrame(columns=[  'epoch',\n",
    "    'Train Loss', 'Train MSE', 'Train MAE', 'Train RMSE', 'Train R2', 'Train Pearson', 'Train Median_AE', 'Train Explained_VAR'\n",
    "    'Val Loss', 'Val MSE', 'Val MAE', 'Val RMSE', 'Val R2', 'Val Pearson', 'Val Median_AE', 'Val Explained_VAR'])\n",
    "# Verify feature dimensions\n",
    "for batch in train_loader_mols:\n",
    "    mol_input_dim = batch['metabolite_features'].shape[1]  # Dynamically determine mol input dimension\n",
    "    protein_input_dim = batch['protein_features'].shape[1]  # Dynamically determine protein input dimension\n",
    "    break\n",
    "\n",
    "# Initialize model, optimizer, and loss function\n",
    "num_timesteps = 10\n",
    "model_2 = TransformerRegressor(mol_input_dim=mol_input_dim, protein_input_dim=protein_input_dim)\n",
    "model_2 = model_2.to(device)\n",
    "optimizer_2 = optim.Adam(model_2.parameters(), lr=0.0001)\n",
    "criterion = nn.MSELoss()\n",
    "\n",
    "# Training and Validation Loop\n",
    "for epoch in range(2000):\n",
    "    model_2.train()\n",
    "    total_loss = 0.0\n",
    "    val_total_loss = 0.0\n",
    "    train_predictions, train_labels = [], []\n",
    "\n",
    "    for batch in tqdm(train_loader_mols, desc=f\"Training Epoch {epoch + 1}\"):\n",
    "        mol_features = batch['metabolite_features'].to(device)\n",
    "        protein_features = batch['protein_features'].to(device)\n",
    "        labels = batch['label'].to(device)\n",
    "\n",
    "        optimizer_2.zero_grad()\n",
    "        outputs = model_2(mol_features, protein_features)\n",
    "        loss = criterion(outputs, labels)\n",
    "        loss.backward()\n",
    "        optimizer_2.step()\n",
    "        total_loss += loss.item()\n",
    "\n",
    "        # Store predictions and labels for metrics\n",
    "        train_predictions.extend(outputs.detach().cpu().numpy())\n",
    "        train_labels.extend(labels.cpu().numpy())\n",
    "\n",
    "    # Calculate training metrics\n",
    "    train_mse = ((torch.tensor(train_predictions) - torch.tensor(train_labels))**2).mean().item()\n",
    "    train_mae = torch.abs(torch.tensor(train_predictions) - torch.tensor(train_labels)).mean().item()\n",
    "    train_rmse = torch.sqrt((torch.tensor(train_predictions) - torch.tensor(train_labels)) ** 2).mean().item()\n",
    "    train_r2 = r2_score(np.array(train_labels), np.array(train_predictions))\n",
    "    train_pearson_corr, _ = pearsonr(np.array(train_labels), np.array(train_predictions))\n",
    "    train_median_ae = median_absolute_error(np.array(train_labels), np.array(train_predictions))\n",
    "    train_explained_var = explained_variance_score(np.array(train_labels), np.array(train_predictions))\n",
    "\n",
    "\n",
    "\n",
    "    if epoch % 10 == 0:\n",
    "        print(f\"Epoch {epoch} - Train Loss: {total_loss / len(train_loader_mols):.4f}, Train MSE: {train_mse:.4f}, Train MAE: {train_mae:.4f}\")\n",
    "\n",
    "    # Validation\n",
    "    model_2.eval()\n",
    "    val_predictions, val_labels = [], []\n",
    "    with torch.no_grad():\n",
    "        for batch in val_loader_mols:\n",
    "            mol_features = batch['metabolite_features'].to(device)\n",
    "            protein_features = batch['protein_features'].to(device)\n",
    "            labels = batch['label'].to(device)\n",
    "\n",
    "            outputs = model_2(mol_features, protein_features)\n",
    "            val_predictions.extend(outputs.cpu().numpy())\n",
    "            val_labels.extend(labels.cpu().numpy())\n",
    "            val_loss = criterion(outputs, labels)\n",
    "            val_total_loss += val_loss.item()\n",
    "\n",
    "    val_mse = ((torch.tensor(val_predictions) - torch.tensor(val_labels))**2).mean().item()\n",
    "    val_mae = torch.abs(torch.tensor(val_predictions) - torch.tensor(val_labels)).mean().item()\n",
    "    val_rmse = torch.sqrt((torch.tensor(val_predictions) - torch.tensor(val_labels)) ** 2).mean().item()\n",
    "    val_r2 = r2_score(np.array(val_labels), np.array(val_predictions))\n",
    "    val_pearson_corr, _ = pearsonr(np.array(val_labels), np.array(val_predictions))\n",
    "    val_median_ae = median_absolute_error(np.array(val_labels), np.array(val_predictions))\n",
    "    val_explained_var = explained_variance_score(np.array(val_labels), np.array(val_predictions))\n",
    "\n",
    "    if epoch % 10 == 0:\n",
    "        print(f\"Epoch {epoch} - Validation Loss: {val_total_loss / len(val_loader_mols):.4f}, Validation MSE: {val_mse:.4f}, Validation MAE: {val_mae:.4f}\")\n",
    "\n",
    "    # Save metrics to DataFrame\n",
    "    new_row = {'epoch': epoch + 1, 'Train Loss': total_loss / len(train_loader_mols), 'Train MSE': train_mse, 'Train MAE': train_mae, 'Train RMSE': train_rmse, 'Train R2': train_r2, 'Train Pearson': train_pearson_corr, 'Train Median_AE': train_median_ae, 'Train Explained_VAR': train_explained_var, \n",
    "               'Val Loss': val_total_loss / len(val_loader_mols), 'Val MSE': val_mse, 'Val MAE': val_mae, 'Val RMSE': val_rmse, 'Val R2': val_r2, 'Val Pearson': val_pearson_corr, 'Val Median_AE': val_median_ae, 'Val Explained_VAR': val_explained_var}\n",
    "    train_history_2 = pd.concat([train_history_2, pd.DataFrame([new_row])], ignore_index=True)\n",
    "\n",
    "# Test Metrics\n",
    "model_2.eval()\n",
    "test_predictions, test_labels = [], []\n",
    "with torch.no_grad():\n",
    "    for batch in test_loader_mols:\n",
    "        mol_features = batch['metabolite_features'].to(device)\n",
    "        protein_features = batch['protein_features'].to(device)\n",
    "        labels = batch['label'].to(device)\n",
    "\n",
    "        outputs = model_2(mol_features, protein_features)\n",
    "        test_predictions.extend(outputs.cpu().numpy())\n",
    "        test_labels.extend(labels.cpu().numpy())\n",
    "\n",
    "test_mse = ((torch.tensor(test_predictions) - torch.tensor(test_labels))**2).mean().item()\n",
    "test_mae = torch.abs(torch.tensor(test_predictions) - torch.tensor(test_labels)).mean().item()\n",
    "test_rmse = torch.sqrt((torch.tensor(test_predictions) - torch.tensor(test_labels)) ** 2).mean().item()\n",
    "test_r2 = r2_score(np.array(test_labels), np.array(test_predictions))\n",
    "test_pearson_corr, _ = pearsonr(np.array(test_labels), np.array(test_predictions))\n",
    "test_median_ae = median_absolute_error(np.array(test_labels), np.array(test_predictions))\n",
    "test_explained_var = explained_variance_score(np.array(test_labels), np.array(test_predictions))\n",
    "\n",
    "print(f\"Test MSE: {test_mse:.4f}, Test MAE: {test_mae:.4f}\")\n"
   ]
  },
  {
   "cell_type": "code",
   "execution_count": 13,
   "metadata": {},
   "outputs": [],
   "source": [
    "# append the performance to the csv file\n",
    "df = {\n",
    "    'Model':['Transformer','Transformer','Transformer'],\n",
    "    'Dataset':['Train','Validation','Test'],\n",
    "    'MSE':[train_history_2['Train MSE'].mean(),train_history_2['Val MSE'].mean(),test_mse],\n",
    "    'RMSE':[train_history_2['Train RMSE'].mean(),train_history_2['Val RMSE'].mean(),test_rmse],\n",
    "    'MAE':[train_history_2['Train MAE'].mean(),train_history_2['Val MAE'].mean(),test_mae],\n",
    "    'R2':[train_history_2['Train R2'].mean(),train_history_2['Val R2'].mean(),test_r2],\n",
    "    'Pearson':[train_history_2['Train Pearson'].mean(),train_history_2['Val Pearson'].mean(),test_pearson_corr],\n",
    "    'Median_AE':[train_history_2['Train Median_AE'].mean(),train_history_2['Val Median_AE'].mean(),test_median_ae],\n",
    "    'Explained_VAR':[train_history_2['Train Explained_VAR'].mean(),train_history_2['Val Explained_VAR'].mean(),test_explained_var],\n",
    "    'Dataspliting Mode':['cold mols','cold mols','cold mols']\n",
    "}\n",
    "df = pd.DataFrame(df)\n",
    "\n",
    "df.to_csv('/Users/pinchichen/2025S lab/AI drug project/Catpred/model performance metrics_Catpred.csv', mode='a', header=False)"
   ]
  },
  {
   "cell_type": "code",
   "execution_count": 14,
   "metadata": {},
   "outputs": [],
   "source": [
    "# Save the model and training history\n",
    "save_dir = '/Users/pinchichen/2025S lab/AI drug project/Catpred/trained_model/cold_mols'\n",
    "# save model weights and optimizer state\n",
    "torch.save(model_2.state_dict(), os.path.join(save_dir, 'Transformer model_Catpred_cold_mols.pt'))\n",
    "torch.save(optimizer_2.state_dict(), os.path.join(save_dir, 'Transformer optimizer_Catpred_cold_mols.pt'))"
   ]
  }
 ],
 "metadata": {
  "kernelspec": {
   "display_name": "base",
   "language": "python",
   "name": "python3"
  },
  "language_info": {
   "codemirror_mode": {
    "name": "ipython",
    "version": 3
   },
   "file_extension": ".py",
   "mimetype": "text/x-python",
   "name": "python",
   "nbconvert_exporter": "python",
   "pygments_lexer": "ipython3",
   "version": "3.12.2"
  }
 },
 "nbformat": 4,
 "nbformat_minor": 2
}
