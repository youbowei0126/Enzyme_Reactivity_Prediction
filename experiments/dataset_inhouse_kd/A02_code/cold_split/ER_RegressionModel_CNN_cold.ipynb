{
 "cells": [
  {
   "cell_type": "code",
   "execution_count": 3,
   "metadata": {},
   "outputs": [],
   "source": [
    "import pandas as pd\n",
    "import numpy as np\n",
    "from tqdm import tqdm\n",
    "import torch\n",
    "import torch.nn as nn\n",
    "import torch.optim as optim\n",
    "from torch.utils.data import DataLoader, Dataset\n",
    "from sklearn.metrics import roc_auc_score\n",
    "from sklearn.model_selection import train_test_split\n",
    "import os\n",
    "import joblib\n"
   ]
  },
  {
   "cell_type": "code",
   "execution_count": 4,
   "metadata": {},
   "outputs": [
    {
     "data": {
      "text/html": [
       "<div>\n",
       "<style scoped>\n",
       "    .dataframe tbody tr th:only-of-type {\n",
       "        vertical-align: middle;\n",
       "    }\n",
       "\n",
       "    .dataframe tbody tr th {\n",
       "        vertical-align: top;\n",
       "    }\n",
       "\n",
       "    .dataframe thead th {\n",
       "        text-align: right;\n",
       "    }\n",
       "</style>\n",
       "<table border=\"1\" class=\"dataframe\">\n",
       "  <thead>\n",
       "    <tr style=\"text-align: right;\">\n",
       "      <th></th>\n",
       "      <th>ECNumber</th>\n",
       "      <th>Organism</th>\n",
       "      <th>Smiles</th>\n",
       "      <th>Substrate</th>\n",
       "      <th>Sequence</th>\n",
       "      <th>Raw Kd</th>\n",
       "      <th>Unit</th>\n",
       "      <th>Log Kd</th>\n",
       "      <th>metabolite_features</th>\n",
       "      <th>protein_features</th>\n",
       "      <th>label</th>\n",
       "    </tr>\n",
       "  </thead>\n",
       "  <tbody>\n",
       "    <tr>\n",
       "      <th>0</th>\n",
       "      <td>4.2.3.4</td>\n",
       "      <td>Actinidia chinensis</td>\n",
       "      <td>C(C(C(C(COP(=O)(O)O)O)O)O)C(=O)C(=O)O</td>\n",
       "      <td>3-deoxy-D-arabino-heptulosonic acid 7-phosphate</td>\n",
       "      <td>MAAFSLSAKQILSPSTHRPSLSKTTTADSSLRFRNPHSLSLRCSSL...</td>\n",
       "      <td>20.1000</td>\n",
       "      <td>s^(-1)</td>\n",
       "      <td>1.303196</td>\n",
       "      <td>[0.09045384, -0.6035856, -0.5294743, 0.0703877...</td>\n",
       "      <td>[-0.12646541, -0.15512069, 0.0834027, 0.213126...</td>\n",
       "      <td>-1.303196</td>\n",
       "    </tr>\n",
       "    <tr>\n",
       "      <th>1</th>\n",
       "      <td>4.2.3.4</td>\n",
       "      <td>Aspergillus nidulans</td>\n",
       "      <td>C(C(C(C(COP(=O)([O-])[O-])O)O)O)C(=O)C(=O)[O-]</td>\n",
       "      <td>3-deoxy-D-arabino-heptulosonate 7-phosphate</td>\n",
       "      <td>MSNPTKISILGRESIIADFGLWRNYVAKDLISDCSSTTYVLVTDTN...</td>\n",
       "      <td>6.8000</td>\n",
       "      <td>s^(-1)</td>\n",
       "      <td>0.832509</td>\n",
       "      <td>[0.4610253, 0.039623156, -0.4662559, 0.4188257...</td>\n",
       "      <td>[-0.10084063, -0.099633686, -0.011382125, 0.10...</td>\n",
       "      <td>-0.832509</td>\n",
       "    </tr>\n",
       "    <tr>\n",
       "      <th>2</th>\n",
       "      <td>4.2.3.4</td>\n",
       "      <td>Neurospora crassa</td>\n",
       "      <td>C(C(C(C(COP(=O)(O)O)O)O)O)C(=O)C(=O)O</td>\n",
       "      <td>3-deoxy-D-arabino-heptulosonic acid 7-phosphate</td>\n",
       "      <td>MAEPISNPTRINILGKDNIIIDHGIWLNFVAQDLLQNIKSSTYILI...</td>\n",
       "      <td>19.0000</td>\n",
       "      <td>s^(-1)</td>\n",
       "      <td>1.278754</td>\n",
       "      <td>[0.09045384, -0.6035856, -0.5294743, 0.0703877...</td>\n",
       "      <td>[-0.12705962, -0.09898393, 0.0041820942, 0.096...</td>\n",
       "      <td>-1.278754</td>\n",
       "    </tr>\n",
       "    <tr>\n",
       "      <th>3</th>\n",
       "      <td>2.1.1.255</td>\n",
       "      <td>Streptomyces coelicolor</td>\n",
       "      <td>C[S+](CCC(C(=O)[O-])N)CC1C(C(C(O1)N2C=NC3=C(N=...</td>\n",
       "      <td>S-Adenosyl-L-methionine</td>\n",
       "      <td>MTTETTTATATAKIPAPATPYQEDIARYWNNEARPVNLRLGDVDGL...</td>\n",
       "      <td>0.0075</td>\n",
       "      <td>s^(-1)</td>\n",
       "      <td>-2.124939</td>\n",
       "      <td>[0.52348095, -0.18665986, -0.39555183, 0.11716...</td>\n",
       "      <td>[0.0015065962, -0.087554656, -0.014490904, -0....</td>\n",
       "      <td>2.124939</td>\n",
       "    </tr>\n",
       "    <tr>\n",
       "      <th>4</th>\n",
       "      <td>2.1.1.255</td>\n",
       "      <td>Streptomyces coelicolor</td>\n",
       "      <td>CC(=CCCC(=C(C)COP(=O)(O)OP(=O)(O)O)C)C</td>\n",
       "      <td>(E)-2-Methylgeranyl diphosphate</td>\n",
       "      <td>MTTETTTATATAKIPAPATPYQEDIARYWNNEARPVNLRLGDVDGL...</td>\n",
       "      <td>0.0390</td>\n",
       "      <td>s^(-1)</td>\n",
       "      <td>-1.408935</td>\n",
       "      <td>[0.17630623, -0.4595529, -0.6368343, -0.136045...</td>\n",
       "      <td>[0.0015065962, -0.087554656, -0.014490904, -0....</td>\n",
       "      <td>1.408935</td>\n",
       "    </tr>\n",
       "    <tr>\n",
       "      <th>...</th>\n",
       "      <td>...</td>\n",
       "      <td>...</td>\n",
       "      <td>...</td>\n",
       "      <td>...</td>\n",
       "      <td>...</td>\n",
       "      <td>...</td>\n",
       "      <td>...</td>\n",
       "      <td>...</td>\n",
       "      <td>...</td>\n",
       "      <td>...</td>\n",
       "      <td>...</td>\n",
       "    </tr>\n",
       "    <tr>\n",
       "      <th>17005</th>\n",
       "      <td>1.1.1.82</td>\n",
       "      <td>Zea mays</td>\n",
       "      <td>C1C=CN(C=C1C(=O)N)C2C(C(C(O2)COP(=O)(O)OP(=O)(...</td>\n",
       "      <td>NADPH</td>\n",
       "      <td>MGLSTVYSPAGPRLVPAPLGRCRSAQPRRPRRAPLATVRCSVDATK...</td>\n",
       "      <td>955.0000</td>\n",
       "      <td>s^(-1)</td>\n",
       "      <td>2.980003</td>\n",
       "      <td>[0.36284313, -0.21340896, -0.8913718, -0.23485...</td>\n",
       "      <td>[0.039386757, -0.04558141, 0.101506, 0.1012840...</td>\n",
       "      <td>-2.980003</td>\n",
       "    </tr>\n",
       "    <tr>\n",
       "      <th>17006</th>\n",
       "      <td>1.1.1.82</td>\n",
       "      <td>Zea mays</td>\n",
       "      <td>C(C(C(=O)O)O)C(=O)O</td>\n",
       "      <td>L-Malate</td>\n",
       "      <td>MGLSTVYSPAGPRLVPAPLGRCRSAQPRRPRRAPLATVRCSVDATK...</td>\n",
       "      <td>2.9000</td>\n",
       "      <td>s^(-1)</td>\n",
       "      <td>0.462398</td>\n",
       "      <td>[0.045168612, -0.31311044, -0.21087039, -0.292...</td>\n",
       "      <td>[0.039386757, -0.04558141, 0.101506, 0.1012840...</td>\n",
       "      <td>-0.462398</td>\n",
       "    </tr>\n",
       "    <tr>\n",
       "      <th>17007</th>\n",
       "      <td>1.1.1.82</td>\n",
       "      <td>Zea mays</td>\n",
       "      <td>C1=CC(=C[N+](=C1)C2C(C(C(O2)COP(=O)(O)OP(=O)(O...</td>\n",
       "      <td>NADP+</td>\n",
       "      <td>MGLSTVYSPAGPRLVPAPLGRCRSAQPRRPRRAPLATVRCSVDATK...</td>\n",
       "      <td>2.9000</td>\n",
       "      <td>s^(-1)</td>\n",
       "      <td>0.462398</td>\n",
       "      <td>[0.18913552, -0.06542938, -0.8761325, 0.133454...</td>\n",
       "      <td>[0.039386757, -0.04558141, 0.101506, 0.1012840...</td>\n",
       "      <td>-0.462398</td>\n",
       "    </tr>\n",
       "    <tr>\n",
       "      <th>17008</th>\n",
       "      <td>1.1.1.82</td>\n",
       "      <td>Spinacia oleracea</td>\n",
       "      <td>C(C(C(=O)O)O)C(=O)O</td>\n",
       "      <td>L-Malate</td>\n",
       "      <td>MAVAELSPCYQTQIVKPPHLSWLSNNHKLNLLGLPKASRITEICCS...</td>\n",
       "      <td>6.7000</td>\n",
       "      <td>s^(-1)</td>\n",
       "      <td>0.826075</td>\n",
       "      <td>[0.045168612, -0.31311044, -0.21087039, -0.292...</td>\n",
       "      <td>[0.029217303, -0.08372673, 0.0883128, 0.147737...</td>\n",
       "      <td>-0.826075</td>\n",
       "    </tr>\n",
       "    <tr>\n",
       "      <th>17009</th>\n",
       "      <td>1.1.1.82</td>\n",
       "      <td>Spinacia oleracea</td>\n",
       "      <td>C1=CC(=C[N+](=C1)C2C(C(C(O2)COP(=O)(O)OP(=O)(O...</td>\n",
       "      <td>NADP+</td>\n",
       "      <td>MAVAELSPCYQTQIVKPPHLSWLSNNHKLNLLGLPKASRITEICCS...</td>\n",
       "      <td>6.0000</td>\n",
       "      <td>s^(-1)</td>\n",
       "      <td>0.778151</td>\n",
       "      <td>[0.18913552, -0.06542938, -0.8761325, 0.133454...</td>\n",
       "      <td>[0.029217303, -0.08372673, 0.0883128, 0.147737...</td>\n",
       "      <td>-0.778151</td>\n",
       "    </tr>\n",
       "  </tbody>\n",
       "</table>\n",
       "<p>17010 rows × 11 columns</p>\n",
       "</div>"
      ],
      "text/plain": [
       "        ECNumber                 Organism  \\\n",
       "0        4.2.3.4      Actinidia chinensis   \n",
       "1        4.2.3.4     Aspergillus nidulans   \n",
       "2        4.2.3.4        Neurospora crassa   \n",
       "3      2.1.1.255  Streptomyces coelicolor   \n",
       "4      2.1.1.255  Streptomyces coelicolor   \n",
       "...          ...                      ...   \n",
       "17005   1.1.1.82                 Zea mays   \n",
       "17006   1.1.1.82                 Zea mays   \n",
       "17007   1.1.1.82                 Zea mays   \n",
       "17008   1.1.1.82        Spinacia oleracea   \n",
       "17009   1.1.1.82        Spinacia oleracea   \n",
       "\n",
       "                                                  Smiles  \\\n",
       "0                  C(C(C(C(COP(=O)(O)O)O)O)O)C(=O)C(=O)O   \n",
       "1         C(C(C(C(COP(=O)([O-])[O-])O)O)O)C(=O)C(=O)[O-]   \n",
       "2                  C(C(C(C(COP(=O)(O)O)O)O)O)C(=O)C(=O)O   \n",
       "3      C[S+](CCC(C(=O)[O-])N)CC1C(C(C(O1)N2C=NC3=C(N=...   \n",
       "4                 CC(=CCCC(=C(C)COP(=O)(O)OP(=O)(O)O)C)C   \n",
       "...                                                  ...   \n",
       "17005  C1C=CN(C=C1C(=O)N)C2C(C(C(O2)COP(=O)(O)OP(=O)(...   \n",
       "17006                                C(C(C(=O)O)O)C(=O)O   \n",
       "17007  C1=CC(=C[N+](=C1)C2C(C(C(O2)COP(=O)(O)OP(=O)(O...   \n",
       "17008                                C(C(C(=O)O)O)C(=O)O   \n",
       "17009  C1=CC(=C[N+](=C1)C2C(C(C(O2)COP(=O)(O)OP(=O)(O...   \n",
       "\n",
       "                                             Substrate  \\\n",
       "0      3-deoxy-D-arabino-heptulosonic acid 7-phosphate   \n",
       "1          3-deoxy-D-arabino-heptulosonate 7-phosphate   \n",
       "2      3-deoxy-D-arabino-heptulosonic acid 7-phosphate   \n",
       "3                              S-Adenosyl-L-methionine   \n",
       "4                      (E)-2-Methylgeranyl diphosphate   \n",
       "...                                                ...   \n",
       "17005                                            NADPH   \n",
       "17006                                         L-Malate   \n",
       "17007                                            NADP+   \n",
       "17008                                         L-Malate   \n",
       "17009                                            NADP+   \n",
       "\n",
       "                                                Sequence    Raw Kd    Unit  \\\n",
       "0      MAAFSLSAKQILSPSTHRPSLSKTTTADSSLRFRNPHSLSLRCSSL...   20.1000  s^(-1)   \n",
       "1      MSNPTKISILGRESIIADFGLWRNYVAKDLISDCSSTTYVLVTDTN...    6.8000  s^(-1)   \n",
       "2      MAEPISNPTRINILGKDNIIIDHGIWLNFVAQDLLQNIKSSTYILI...   19.0000  s^(-1)   \n",
       "3      MTTETTTATATAKIPAPATPYQEDIARYWNNEARPVNLRLGDVDGL...    0.0075  s^(-1)   \n",
       "4      MTTETTTATATAKIPAPATPYQEDIARYWNNEARPVNLRLGDVDGL...    0.0390  s^(-1)   \n",
       "...                                                  ...       ...     ...   \n",
       "17005  MGLSTVYSPAGPRLVPAPLGRCRSAQPRRPRRAPLATVRCSVDATK...  955.0000  s^(-1)   \n",
       "17006  MGLSTVYSPAGPRLVPAPLGRCRSAQPRRPRRAPLATVRCSVDATK...    2.9000  s^(-1)   \n",
       "17007  MGLSTVYSPAGPRLVPAPLGRCRSAQPRRPRRAPLATVRCSVDATK...    2.9000  s^(-1)   \n",
       "17008  MAVAELSPCYQTQIVKPPHLSWLSNNHKLNLLGLPKASRITEICCS...    6.7000  s^(-1)   \n",
       "17009  MAVAELSPCYQTQIVKPPHLSWLSNNHKLNLLGLPKASRITEICCS...    6.0000  s^(-1)   \n",
       "\n",
       "         Log Kd                                metabolite_features  \\\n",
       "0      1.303196  [0.09045384, -0.6035856, -0.5294743, 0.0703877...   \n",
       "1      0.832509  [0.4610253, 0.039623156, -0.4662559, 0.4188257...   \n",
       "2      1.278754  [0.09045384, -0.6035856, -0.5294743, 0.0703877...   \n",
       "3     -2.124939  [0.52348095, -0.18665986, -0.39555183, 0.11716...   \n",
       "4     -1.408935  [0.17630623, -0.4595529, -0.6368343, -0.136045...   \n",
       "...         ...                                                ...   \n",
       "17005  2.980003  [0.36284313, -0.21340896, -0.8913718, -0.23485...   \n",
       "17006  0.462398  [0.045168612, -0.31311044, -0.21087039, -0.292...   \n",
       "17007  0.462398  [0.18913552, -0.06542938, -0.8761325, 0.133454...   \n",
       "17008  0.826075  [0.045168612, -0.31311044, -0.21087039, -0.292...   \n",
       "17009  0.778151  [0.18913552, -0.06542938, -0.8761325, 0.133454...   \n",
       "\n",
       "                                        protein_features     label  \n",
       "0      [-0.12646541, -0.15512069, 0.0834027, 0.213126... -1.303196  \n",
       "1      [-0.10084063, -0.099633686, -0.011382125, 0.10... -0.832509  \n",
       "2      [-0.12705962, -0.09898393, 0.0041820942, 0.096... -1.278754  \n",
       "3      [0.0015065962, -0.087554656, -0.014490904, -0....  2.124939  \n",
       "4      [0.0015065962, -0.087554656, -0.014490904, -0....  1.408935  \n",
       "...                                                  ...       ...  \n",
       "17005  [0.039386757, -0.04558141, 0.101506, 0.1012840... -2.980003  \n",
       "17006  [0.039386757, -0.04558141, 0.101506, 0.1012840... -0.462398  \n",
       "17007  [0.039386757, -0.04558141, 0.101506, 0.1012840... -0.462398  \n",
       "17008  [0.029217303, -0.08372673, 0.0883128, 0.147737... -0.826075  \n",
       "17009  [0.029217303, -0.08372673, 0.0883128, 0.147737... -0.778151  \n",
       "\n",
       "[17010 rows x 11 columns]"
      ]
     },
     "execution_count": 4,
     "metadata": {},
     "output_type": "execute_result"
    }
   ],
   "source": [
    "# joblib.dump(data, 'data_with_features.joblib')\n",
    "data = joblib.load('data.joblib')\n",
    "data"
   ]
  },
  {
   "cell_type": "code",
   "execution_count": 5,
   "metadata": {},
   "outputs": [],
   "source": [
    "# adding 1e-9 to prevent error when doing logarithm\n",
    "# ??????\n",
    "data['label'] = -np.log10(data['Raw Kd'] + 1e-9)"
   ]
  },
  {
   "cell_type": "code",
   "execution_count": 6,
   "metadata": {},
   "outputs": [],
   "source": [
    "# Define dataset\n",
    "class MPI_Dataset(Dataset):\n",
    "    def __init__(self, dataframe):\n",
    "        self.dataframe = dataframe\n",
    "\n",
    "    def __len__(self):\n",
    "        return len(self.dataframe)\n",
    "\n",
    "    def __getitem__(self, idx):\n",
    "        row = self.dataframe.iloc[idx]\n",
    "        return {\n",
    "            'metabolite_features': torch.tensor(np.asarray(row['metabolite_features'], dtype=np.float32)),\n",
    "            'protein_features': torch.tensor(np.asarray(row['protein_features'], dtype=np.float32)),\n",
    "            'label': torch.tensor(float(row['label']), dtype=torch.float32),\n",
    "        }"
   ]
  },
  {
   "cell_type": "code",
   "execution_count": 7,
   "metadata": {},
   "outputs": [],
   "source": [
    "# Separate the dataset by unique proteins and drugs\n",
    "unique_proteins = data['Sequence'].unique()\n",
    "unique_mols = data['Smiles'].unique()\n",
    "# Set the seed for reproducibility\n",
    "torch.manual_seed(42)\n",
    "# Function to perform a cold split\n",
    "def cold_split(unique_items, test_size=0.2, val_size=0.1):\n",
    "    train_items, test_items = train_test_split(unique_items, test_size=test_size, random_state=42)\n",
    "    train_items, val_items = train_test_split(train_items, test_size=val_size / (1 - test_size), random_state=42)\n",
    "    return train_items, val_items, test_items\n",
    "# Cold split by proteins\n",
    "train_proteins, val_proteins, test_proteins = cold_split(unique_proteins)\n",
    "train_cold_protein = data[data['Sequence'].isin(train_proteins)]\n",
    "val_cold_protein = data[data['Sequence'].isin(val_proteins)]\n",
    "test_cold_protein = data[data['Sequence'].isin(test_proteins)]\n",
    "# Cold split by molecules\n",
    "train_mols, val_mols, test_mols = cold_split(unique_mols)\n",
    "train_cold_mols = data[data['Smiles'].isin(train_mols)]\n",
    "val_cold_mols = data[data['Smiles'].isin(val_mols)]\n",
    "test_cold_mols = data[data['Smiles'].isin(test_mols)]"
   ]
  },
  {
   "cell_type": "code",
   "execution_count": null,
   "metadata": {},
   "outputs": [],
   "source": []
  },
  {
   "cell_type": "code",
   "execution_count": 8,
   "metadata": {},
   "outputs": [],
   "source": [
    "# cold protein\n",
    "'''\n",
    "train_dataset = MPI_Dataset(train_cold_protein)\n",
    "val_dataset = MPI_Dataset(val_cold_protein)\n",
    "test_dataset = MPI_Dataset(test_cold_protein)\n",
    "\n",
    "train_loader = DataLoader(train_dataset, batch_size=32, shuffle=True)\n",
    "val_loader = DataLoader(val_dataset, batch_size=32)\n",
    "test_loader = DataLoader(test_dataset, batch_size=32)\n",
    "'''\n",
    "\n",
    "\n",
    "# cold mols\n",
    "\n",
    "\n",
    "train_dataset = MPI_Dataset(train_cold_mols)\n",
    "val_dataset = MPI_Dataset(val_cold_mols)\n",
    "test_dataset = MPI_Dataset(test_cold_mols)\n",
    "\n",
    "train_loader = DataLoader(train_dataset, batch_size=32, shuffle=True)\n",
    "val_loader = DataLoader(val_dataset, batch_size=32)\n",
    "test_loader = DataLoader(test_dataset, batch_size=32)\n",
    "\n"
   ]
  },
  {
   "cell_type": "code",
   "execution_count": null,
   "metadata": {},
   "outputs": [],
   "source": [
    "'''\n",
    "# Load data\n",
    "# Assuming `combined_df` is a pandas DataFrame containing all necessary columns\n",
    "train_df, temp_df = train_test_split(data, test_size=0.3, shuffle=True, random_state=42)\n",
    "val_df, test_df = train_test_split(temp_df, test_size=0.5, shuffle=True, random_state=42)\n",
    "\n",
    "train_dataset = MPI_Dataset(train_df)\n",
    "val_dataset = MPI_Dataset(val_df)\n",
    "test_dataset = MPI_Dataset(test_df)\n",
    "\n",
    "train_loader = DataLoader(train_dataset, batch_size=32, shuffle=True)\n",
    "val_loader = DataLoader(val_dataset, batch_size=32)\n",
    "test_loader = DataLoader(test_dataset, batch_size=32)\n",
    "'''"
   ]
  },
  {
   "cell_type": "code",
   "execution_count": 9,
   "metadata": {},
   "outputs": [],
   "source": [
    "import torch.nn as nn\n",
    "import torch\n",
    "import torch.nn.functional as F\n",
    "\n",
    "# Define CNN Model for Regression\n",
    "class CNNRegressor(nn.Module):\n",
    "    def __init__(self, mol_input_dim, protein_input_dim, out_dim=1):\n",
    "        super(CNNRegressor, self).__init__()\n",
    "\n",
    "        self.mol_conv = nn.Sequential(\n",
    "            nn.Conv1d(in_channels=1, out_channels=16, kernel_size=3, padding=1),\n",
    "            nn.ReLU(),\n",
    "            nn.MaxPool1d(2),\n",
    "            nn.Conv1d(16, 32, kernel_size=3, padding=1),\n",
    "            nn.ReLU(),\n",
    "            nn.MaxPool1d(2),\n",
    "        )\n",
    "\n",
    "        self.protein_conv = nn.Sequential(\n",
    "            nn.Conv1d(1, 16, kernel_size=3, padding=1),\n",
    "            nn.ReLU(),\n",
    "            nn.MaxPool1d(2),\n",
    "            nn.Conv1d(16, 32, kernel_size=3, padding=1),\n",
    "            nn.ReLU(),\n",
    "            nn.MaxPool1d(2),\n",
    "        )\n",
    "\n",
    "        with torch.no_grad():\n",
    "            dummy_mol = torch.zeros(1, 1, mol_input_dim)\n",
    "            dummy_protein = torch.zeros(1, 1, protein_input_dim)\n",
    "    \n",
    "            mol_flatten_len = self.mol_conv(dummy_mol).view(1, -1).size(1)\n",
    "            protein_flatten_len = self.protein_conv(dummy_protein).view(1, -1).size(1)\n",
    "\n",
    "        self.fc = nn.Sequential(\n",
    "            nn.Linear(mol_flatten_len + protein_flatten_len, 128),\n",
    "            nn.ReLU(),\n",
    "            nn.Dropout(0.3),\n",
    "            nn.Linear(128, out_dim)\n",
    "        )\n",
    "\n",
    "    def forward(self, mol_input, protein_input):\n",
    "        # Reshape to (B, 1, L) for Conv1d\n",
    "        mol_input = mol_input.unsqueeze(1)\n",
    "        protein_input = protein_input.unsqueeze(1)\n",
    "\n",
    "        mol_out = self.mol_conv(mol_input)\n",
    "        protein_out = self.protein_conv(protein_input)\n",
    "\n",
    "        # Flatten\n",
    "        mol_out = mol_out.view(mol_out.size(0), -1)\n",
    "        protein_out = protein_out.view(protein_out.size(0), -1)\n",
    "\n",
    "        combined = torch.cat([mol_out, protein_out], dim=1)\n",
    "        output = self.fc(combined).squeeze()\n",
    "        return output\n"
   ]
  },
  {
   "cell_type": "code",
   "execution_count": 10,
   "metadata": {},
   "outputs": [],
   "source": [
    "# Check CUDA availability\n",
    "device = torch.device(\"cuda\" if torch.cuda.is_available() else \"cpu\")"
   ]
  },
  {
   "cell_type": "code",
   "execution_count": 11,
   "metadata": {},
   "outputs": [],
   "source": [
    "import torch\n",
    "import torch.nn as nn\n",
    "import torch.optim as optim\n",
    "from tqdm import tqdm\n",
    "import pandas as pd\n",
    "from sklearn.metrics import r2_score, median_absolute_error, explained_variance_score\n",
    "from scipy.stats import pearsonr\n",
    "\n",
    "\n",
    "train_history = pd.DataFrame(columns=[  'epoch',\n",
    "    'Train Loss', 'Train MSE', 'Train MAE', 'Train RMSE', 'Train R2', 'Train Pearson', 'Train Median_AE', 'Train Explained_VAR'\n",
    "    'Val Loss', 'Val MSE', 'Val MAE', 'Val RMSE', 'Val R2', 'Val Pearson', 'Val Median_AE', 'Val Explained_VAR'])\n",
    "# Verify feature dimensions\n",
    "for batch in train_loader:\n",
    "    mol_input_dim = batch['metabolite_features'].shape[1]  # Dynamically determine mol input dimension\n",
    "    protein_input_dim = batch['protein_features'].shape[1]  # Dynamically determine protein input dimension\n",
    "    break\n",
    "\n",
    "# Initialize model, optimizer, and loss function\n",
    "num_timesteps = 10\n",
    "model = CNNRegressor(mol_input_dim=mol_input_dim, protein_input_dim=protein_input_dim)\n",
    "model = model.to(device)\n",
    "optimizer = optim.Adam(model.parameters(), lr=0.0001)\n",
    "criterion = nn.MSELoss()"
   ]
  },
  {
   "cell_type": "code",
   "execution_count": null,
   "metadata": {},
   "outputs": [],
   "source": []
  },
  {
   "cell_type": "code",
   "execution_count": null,
   "metadata": {},
   "outputs": [
    {
     "name": "stderr",
     "output_type": "stream",
     "text": [
      "Training Epoch 1:   0%|          | 0/373 [00:00<?, ?it/s]"
     ]
    },
    {
     "name": "stderr",
     "output_type": "stream",
     "text": [
      "Training Epoch 1: 100%|██████████| 373/373 [00:10<00:00, 36.87it/s]\n"
     ]
    },
    {
     "name": "stdout",
     "output_type": "stream",
     "text": [
      "Epoch 0 - Train Loss: 2.2295, Train MSE: 2.2324, Train MAE: 1.1685\n"
     ]
    },
    {
     "name": "stderr",
     "output_type": "stream",
     "text": [
      "/var/folders/yz/c1z6m9_d5d3f80sywjc3rqsc0000gn/T/ipykernel_29059/3486802603.py:92: FutureWarning: The behavior of DataFrame concatenation with empty or all-NA entries is deprecated. In a future version, this will no longer exclude empty or all-NA columns when determining the result dtypes. To retain the old behavior, exclude the relevant entries before the concat operation.\n",
      "  train_history = pd.concat([train_history, pd.DataFrame([new_row])], ignore_index=True)\n"
     ]
    },
    {
     "name": "stdout",
     "output_type": "stream",
     "text": [
      "Epoch 0 - Validation Loss: 2.2268, Validation MSE: 2.2253, Validation MAE: 1.1522\n"
     ]
    },
    {
     "name": "stderr",
     "output_type": "stream",
     "text": [
      "Training Epoch 2: 100%|██████████| 373/373 [00:09<00:00, 37.36it/s]\n",
      "Training Epoch 3: 100%|██████████| 373/373 [00:10<00:00, 37.04it/s]\n",
      "Training Epoch 4: 100%|██████████| 373/373 [16:21<00:00,  2.63s/it]  \n",
      "Training Epoch 5: 100%|██████████| 373/373 [15:21<00:00,  2.47s/it] \n",
      "Training Epoch 6: 100%|██████████| 373/373 [00:10<00:00, 37.13it/s]\n",
      "Training Epoch 7: 100%|██████████| 373/373 [00:10<00:00, 37.24it/s]\n",
      "Training Epoch 8: 100%|██████████| 373/373 [00:10<00:00, 37.11it/s]\n",
      "Training Epoch 9: 100%|██████████| 373/373 [00:14<00:00, 24.92it/s]\n",
      "Training Epoch 10: 100%|██████████| 373/373 [00:10<00:00, 36.77it/s]\n",
      "Training Epoch 11: 100%|██████████| 373/373 [00:10<00:00, 37.13it/s]\n"
     ]
    },
    {
     "name": "stdout",
     "output_type": "stream",
     "text": [
      "Epoch 10 - Train Loss: 1.7141, Train MSE: 1.7160, Train MAE: 1.0155\n",
      "Epoch 10 - Validation Loss: 1.7928, Validation MSE: 1.7936, Validation MAE: 1.0255\n"
     ]
    },
    {
     "name": "stderr",
     "output_type": "stream",
     "text": [
      "Training Epoch 12: 100%|██████████| 373/373 [00:09<00:00, 37.40it/s]\n",
      "Training Epoch 13: 100%|██████████| 373/373 [16:58<00:00,  2.73s/it]  \n",
      "Training Epoch 14: 100%|██████████| 373/373 [00:10<00:00, 37.12it/s]\n",
      "Training Epoch 15: 100%|██████████| 373/373 [00:10<00:00, 37.19it/s]\n",
      "Training Epoch 16: 100%|██████████| 373/373 [00:09<00:00, 37.36it/s]\n",
      "Training Epoch 17: 100%|██████████| 373/373 [09:37<00:00,  1.55s/it]\n",
      "Training Epoch 18: 100%|██████████| 373/373 [00:10<00:00, 37.07it/s]\n",
      "Training Epoch 19: 100%|██████████| 373/373 [00:09<00:00, 37.63it/s]\n",
      "Training Epoch 20: 100%|██████████| 373/373 [00:10<00:00, 37.29it/s]\n",
      "Training Epoch 21: 100%|██████████| 373/373 [00:10<00:00, 37.21it/s]\n"
     ]
    },
    {
     "name": "stdout",
     "output_type": "stream",
     "text": [
      "Epoch 20 - Train Loss: 1.5546, Train MSE: 1.5562, Train MAE: 0.9604\n",
      "Epoch 20 - Validation Loss: 1.6613, Validation MSE: 1.6626, Validation MAE: 0.9810\n"
     ]
    },
    {
     "name": "stderr",
     "output_type": "stream",
     "text": [
      "Training Epoch 22: 100%|██████████| 373/373 [16:07<00:00,  2.59s/it]  \n",
      "Training Epoch 23: 100%|██████████| 373/373 [00:10<00:00, 37.02it/s]\n",
      "Training Epoch 24: 100%|██████████| 373/373 [00:10<00:00, 37.05it/s]\n",
      "Training Epoch 25: 100%|██████████| 373/373 [00:10<00:00, 37.24it/s]\n",
      "Training Epoch 26: 100%|██████████| 373/373 [08:52<00:00,  1.43s/it]  \n",
      "Training Epoch 27: 100%|██████████| 373/373 [00:10<00:00, 37.00it/s]\n",
      "Training Epoch 28: 100%|██████████| 373/373 [00:09<00:00, 37.41it/s]\n",
      "Training Epoch 29: 100%|██████████| 373/373 [00:09<00:00, 37.50it/s]\n",
      "Training Epoch 30: 100%|██████████| 373/373 [07:49<00:00,  1.26s/it]\n",
      "Training Epoch 31: 100%|██████████| 373/373 [00:09<00:00, 40.52it/s]\n"
     ]
    },
    {
     "name": "stdout",
     "output_type": "stream",
     "text": [
      "Epoch 30 - Train Loss: 1.4643, Train MSE: 1.4663, Train MAE: 0.9304\n",
      "Epoch 30 - Validation Loss: 1.5936, Validation MSE: 1.5953, Validation MAE: 0.9472\n"
     ]
    },
    {
     "name": "stderr",
     "output_type": "stream",
     "text": [
      "Training Epoch 32: 100%|██████████| 373/373 [00:09<00:00, 39.89it/s]\n",
      "Training Epoch 33: 100%|██████████| 373/373 [00:09<00:00, 39.60it/s]\n",
      "Training Epoch 34: 100%|██████████| 373/373 [00:09<00:00, 39.40it/s]\n",
      "Training Epoch 35: 100%|██████████| 373/373 [00:09<00:00, 39.33it/s]\n",
      "Training Epoch 36: 100%|██████████| 373/373 [00:09<00:00, 38.99it/s]\n",
      "Training Epoch 37: 100%|██████████| 373/373 [00:09<00:00, 38.52it/s]\n",
      "Training Epoch 38: 100%|██████████| 373/373 [00:09<00:00, 39.36it/s]\n",
      "Training Epoch 39: 100%|██████████| 373/373 [00:09<00:00, 38.86it/s]\n",
      "Training Epoch 40: 100%|██████████| 373/373 [00:09<00:00, 39.28it/s]\n",
      "Training Epoch 41: 100%|██████████| 373/373 [00:09<00:00, 39.04it/s]\n"
     ]
    },
    {
     "name": "stdout",
     "output_type": "stream",
     "text": [
      "Epoch 40 - Train Loss: 1.3867, Train MSE: 1.3898, Train MAE: 0.9104\n",
      "Epoch 40 - Validation Loss: 1.5456, Validation MSE: 1.5479, Validation MAE: 0.9282\n"
     ]
    },
    {
     "name": "stderr",
     "output_type": "stream",
     "text": [
      "Training Epoch 42: 100%|██████████| 373/373 [00:09<00:00, 39.19it/s]\n",
      "Training Epoch 43: 100%|██████████| 373/373 [00:09<00:00, 39.10it/s]\n",
      "Training Epoch 44: 100%|██████████| 373/373 [00:09<00:00, 38.75it/s]\n",
      "Training Epoch 45: 100%|██████████| 373/373 [00:09<00:00, 38.94it/s]\n",
      "Training Epoch 46: 100%|██████████| 373/373 [00:09<00:00, 39.12it/s]\n",
      "Training Epoch 47: 100%|██████████| 373/373 [00:09<00:00, 38.90it/s]\n",
      "Training Epoch 48: 100%|██████████| 373/373 [00:09<00:00, 38.81it/s]\n",
      "Training Epoch 49: 100%|██████████| 373/373 [00:09<00:00, 38.82it/s]\n",
      "Training Epoch 50: 100%|██████████| 373/373 [00:09<00:00, 38.77it/s]\n",
      "Training Epoch 51: 100%|██████████| 373/373 [00:09<00:00, 38.80it/s]\n"
     ]
    },
    {
     "name": "stdout",
     "output_type": "stream",
     "text": [
      "Epoch 50 - Train Loss: 1.2988, Train MSE: 1.3018, Train MAE: 0.8770\n",
      "Epoch 50 - Validation Loss: 1.5361, Validation MSE: 1.5388, Validation MAE: 0.9441\n"
     ]
    },
    {
     "name": "stderr",
     "output_type": "stream",
     "text": [
      "Training Epoch 52: 100%|██████████| 373/373 [00:09<00:00, 38.95it/s]\n",
      "Training Epoch 53: 100%|██████████| 373/373 [00:09<00:00, 39.09it/s]\n",
      "Training Epoch 54: 100%|██████████| 373/373 [00:09<00:00, 39.19it/s]\n",
      "Training Epoch 55: 100%|██████████| 373/373 [00:09<00:00, 39.02it/s]\n",
      "Training Epoch 56: 100%|██████████| 373/373 [00:09<00:00, 38.99it/s]\n",
      "Training Epoch 57: 100%|██████████| 373/373 [00:09<00:00, 38.84it/s]\n",
      "Training Epoch 58: 100%|██████████| 373/373 [00:09<00:00, 39.01it/s]\n",
      "Training Epoch 59: 100%|██████████| 373/373 [00:09<00:00, 38.98it/s]\n",
      "Training Epoch 60: 100%|██████████| 373/373 [00:09<00:00, 38.91it/s]\n",
      "Training Epoch 61: 100%|██████████| 373/373 [00:09<00:00, 38.88it/s]\n"
     ]
    },
    {
     "name": "stdout",
     "output_type": "stream",
     "text": [
      "Epoch 60 - Train Loss: 1.2398, Train MSE: 1.2382, Train MAE: 0.8492\n",
      "Epoch 60 - Validation Loss: 1.4589, Validation MSE: 1.4613, Validation MAE: 0.8914\n"
     ]
    },
    {
     "name": "stderr",
     "output_type": "stream",
     "text": [
      "Training Epoch 62: 100%|██████████| 373/373 [00:09<00:00, 38.97it/s]\n",
      "Training Epoch 63: 100%|██████████| 373/373 [00:09<00:00, 38.90it/s]\n",
      "Training Epoch 64: 100%|██████████| 373/373 [00:09<00:00, 38.76it/s]\n",
      "Training Epoch 65: 100%|██████████| 373/373 [00:09<00:00, 38.68it/s]\n",
      "Training Epoch 66: 100%|██████████| 373/373 [00:09<00:00, 38.88it/s]\n",
      "Training Epoch 67: 100%|██████████| 373/373 [00:09<00:00, 38.93it/s]\n",
      "Training Epoch 68: 100%|██████████| 373/373 [00:09<00:00, 39.04it/s]\n",
      "Training Epoch 69: 100%|██████████| 373/373 [00:09<00:00, 39.07it/s]\n",
      "Training Epoch 70: 100%|██████████| 373/373 [00:09<00:00, 38.91it/s]\n",
      "Training Epoch 71: 100%|██████████| 373/373 [00:09<00:00, 38.73it/s]\n"
     ]
    },
    {
     "name": "stdout",
     "output_type": "stream",
     "text": [
      "Epoch 70 - Train Loss: 1.1765, Train MSE: 1.1724, Train MAE: 0.8244\n",
      "Epoch 70 - Validation Loss: 1.4332, Validation MSE: 1.4362, Validation MAE: 0.8755\n"
     ]
    },
    {
     "name": "stderr",
     "output_type": "stream",
     "text": [
      "Training Epoch 72: 100%|██████████| 373/373 [00:09<00:00, 39.20it/s]\n",
      "Training Epoch 73: 100%|██████████| 373/373 [00:09<00:00, 39.06it/s]\n",
      "Training Epoch 74: 100%|██████████| 373/373 [00:09<00:00, 38.84it/s]\n",
      "Training Epoch 75: 100%|██████████| 373/373 [00:09<00:00, 38.75it/s]\n",
      "Training Epoch 76: 100%|██████████| 373/373 [00:09<00:00, 38.60it/s]\n",
      "Training Epoch 77: 100%|██████████| 373/373 [00:09<00:00, 38.65it/s]\n",
      "Training Epoch 78: 100%|██████████| 373/373 [00:09<00:00, 38.54it/s]\n",
      "Training Epoch 79: 100%|██████████| 373/373 [00:09<00:00, 38.67it/s]\n",
      "Training Epoch 80: 100%|██████████| 373/373 [00:09<00:00, 38.61it/s]\n",
      "Training Epoch 81: 100%|██████████| 373/373 [00:09<00:00, 38.48it/s]\n"
     ]
    },
    {
     "name": "stdout",
     "output_type": "stream",
     "text": [
      "Epoch 80 - Train Loss: 1.1273, Train MSE: 1.1294, Train MAE: 0.8086\n",
      "Epoch 80 - Validation Loss: 1.3800, Validation MSE: 1.3828, Validation MAE: 0.8728\n"
     ]
    },
    {
     "name": "stderr",
     "output_type": "stream",
     "text": [
      "Training Epoch 82: 100%|██████████| 373/373 [00:09<00:00, 38.59it/s]\n",
      "Training Epoch 83: 100%|██████████| 373/373 [00:09<00:00, 38.74it/s]\n",
      "Training Epoch 84: 100%|██████████| 373/373 [00:09<00:00, 38.58it/s]\n",
      "Training Epoch 85: 100%|██████████| 373/373 [00:09<00:00, 38.18it/s]\n",
      "Training Epoch 86: 100%|██████████| 373/373 [00:09<00:00, 38.33it/s]\n",
      "Training Epoch 87: 100%|██████████| 373/373 [00:09<00:00, 38.89it/s]\n",
      "Training Epoch 88: 100%|██████████| 373/373 [00:09<00:00, 38.79it/s]\n",
      "Training Epoch 89: 100%|██████████| 373/373 [00:09<00:00, 38.81it/s]\n",
      "Training Epoch 90: 100%|██████████| 373/373 [00:09<00:00, 38.67it/s]\n",
      "Training Epoch 91: 100%|██████████| 373/373 [00:09<00:00, 38.60it/s]\n"
     ]
    },
    {
     "name": "stdout",
     "output_type": "stream",
     "text": [
      "Epoch 90 - Train Loss: 1.1046, Train MSE: 1.1008, Train MAE: 0.7998\n",
      "Epoch 90 - Validation Loss: 1.3662, Validation MSE: 1.3689, Validation MAE: 0.8699\n"
     ]
    },
    {
     "name": "stderr",
     "output_type": "stream",
     "text": [
      "Training Epoch 92: 100%|██████████| 373/373 [00:09<00:00, 38.58it/s]\n",
      "Training Epoch 93: 100%|██████████| 373/373 [00:09<00:00, 38.55it/s]\n",
      "Training Epoch 94: 100%|██████████| 373/373 [00:09<00:00, 38.93it/s]\n",
      "Training Epoch 95: 100%|██████████| 373/373 [00:09<00:00, 39.07it/s]\n",
      "Training Epoch 96: 100%|██████████| 373/373 [00:10<00:00, 35.94it/s]\n",
      "Training Epoch 97: 100%|██████████| 373/373 [00:09<00:00, 38.94it/s]\n",
      "Training Epoch 98: 100%|██████████| 373/373 [00:09<00:00, 39.15it/s]\n",
      "Training Epoch 99: 100%|██████████| 373/373 [00:09<00:00, 38.98it/s]\n",
      "Training Epoch 100: 100%|██████████| 373/373 [04:43<00:00,  1.32it/s]\n",
      "Training Epoch 101: 100%|██████████| 373/373 [00:11<00:00, 32.22it/s]\n"
     ]
    },
    {
     "name": "stdout",
     "output_type": "stream",
     "text": [
      "Epoch 100 - Train Loss: 1.0668, Train MSE: 1.0656, Train MAE: 0.7801\n",
      "Epoch 100 - Validation Loss: 1.3471, Validation MSE: 1.3498, Validation MAE: 0.8542\n"
     ]
    },
    {
     "name": "stderr",
     "output_type": "stream",
     "text": [
      "Training Epoch 102: 100%|██████████| 373/373 [00:10<00:00, 37.19it/s]\n",
      "Training Epoch 103: 100%|██████████| 373/373 [00:10<00:00, 37.13it/s]\n",
      "Training Epoch 104: 100%|██████████| 373/373 [15:08<00:00,  2.44s/it]  \n",
      "Training Epoch 105: 100%|██████████| 373/373 [00:10<00:00, 37.20it/s]\n",
      "Training Epoch 106: 100%|██████████| 373/373 [00:09<00:00, 37.54it/s]\n",
      "Training Epoch 107: 100%|██████████| 373/373 [00:10<00:00, 36.01it/s]\n",
      "Training Epoch 108: 100%|██████████| 373/373 [09:21<00:00,  1.50s/it]  \n",
      "Training Epoch 109: 100%|██████████| 373/373 [00:09<00:00, 38.11it/s]\n",
      "Training Epoch 110: 100%|██████████| 373/373 [00:09<00:00, 38.22it/s]\n",
      "Training Epoch 111: 100%|██████████| 373/373 [00:09<00:00, 38.02it/s]\n"
     ]
    },
    {
     "name": "stdout",
     "output_type": "stream",
     "text": [
      "Epoch 110 - Train Loss: 1.0201, Train MSE: 1.0208, Train MAE: 0.7618\n",
      "Epoch 110 - Validation Loss: 1.3292, Validation MSE: 1.3321, Validation MAE: 0.8493\n"
     ]
    },
    {
     "name": "stderr",
     "output_type": "stream",
     "text": [
      "Training Epoch 112: 100%|██████████| 373/373 [00:09<00:00, 38.12it/s]\n",
      "Training Epoch 113: 100%|██████████| 373/373 [00:09<00:00, 37.96it/s]\n",
      "Training Epoch 114: 100%|██████████| 373/373 [00:09<00:00, 37.84it/s]\n",
      "Training Epoch 115: 100%|██████████| 373/373 [00:09<00:00, 37.63it/s]\n",
      "Training Epoch 116: 100%|██████████| 373/373 [00:09<00:00, 37.93it/s]\n",
      "Training Epoch 117: 100%|██████████| 373/373 [00:09<00:00, 37.46it/s]\n",
      "Training Epoch 118: 100%|██████████| 373/373 [00:09<00:00, 37.45it/s]\n",
      "Training Epoch 119: 100%|██████████| 373/373 [00:10<00:00, 37.25it/s]\n",
      "Training Epoch 120: 100%|██████████| 373/373 [00:09<00:00, 37.33it/s]\n",
      "Training Epoch 121: 100%|██████████| 373/373 [00:10<00:00, 37.26it/s]\n"
     ]
    },
    {
     "name": "stdout",
     "output_type": "stream",
     "text": [
      "Epoch 120 - Train Loss: 0.9959, Train MSE: 0.9967, Train MAE: 0.7534\n",
      "Epoch 120 - Validation Loss: 1.3217, Validation MSE: 1.3248, Validation MAE: 0.8384\n"
     ]
    },
    {
     "name": "stderr",
     "output_type": "stream",
     "text": [
      "Training Epoch 122: 100%|██████████| 373/373 [00:09<00:00, 37.36it/s]\n",
      "Training Epoch 123: 100%|██████████| 373/373 [00:09<00:00, 37.47it/s]\n",
      "Training Epoch 124: 100%|██████████| 373/373 [00:09<00:00, 37.36it/s]\n",
      "Training Epoch 125: 100%|██████████| 373/373 [00:10<00:00, 37.22it/s]\n",
      "Training Epoch 126: 100%|██████████| 373/373 [00:09<00:00, 37.45it/s]\n",
      "Training Epoch 127: 100%|██████████| 373/373 [00:09<00:00, 37.35it/s]\n",
      "Training Epoch 128: 100%|██████████| 373/373 [00:10<00:00, 37.28it/s]\n",
      "Training Epoch 129: 100%|██████████| 373/373 [00:09<00:00, 37.31it/s]\n",
      "Training Epoch 130: 100%|██████████| 373/373 [00:10<00:00, 37.30it/s]\n",
      "Training Epoch 131: 100%|██████████| 373/373 [00:10<00:00, 37.23it/s]\n"
     ]
    },
    {
     "name": "stdout",
     "output_type": "stream",
     "text": [
      "Epoch 130 - Train Loss: 0.9700, Train MSE: 0.9689, Train MAE: 0.7414\n",
      "Epoch 130 - Validation Loss: 1.3559, Validation MSE: 1.3587, Validation MAE: 0.8345\n"
     ]
    },
    {
     "name": "stderr",
     "output_type": "stream",
     "text": [
      "Training Epoch 132: 100%|██████████| 373/373 [00:09<00:00, 37.39it/s]\n",
      "Training Epoch 133: 100%|██████████| 373/373 [00:10<00:00, 37.28it/s]\n",
      "Training Epoch 134: 100%|██████████| 373/373 [00:10<00:00, 37.29it/s]\n",
      "Training Epoch 135: 100%|██████████| 373/373 [00:10<00:00, 37.13it/s]\n",
      "Training Epoch 136: 100%|██████████| 373/373 [00:09<00:00, 37.52it/s]\n",
      "Training Epoch 137: 100%|██████████| 373/373 [00:09<00:00, 37.60it/s]\n",
      "Training Epoch 138: 100%|██████████| 373/373 [00:09<00:00, 37.36it/s]\n",
      "Training Epoch 139: 100%|██████████| 373/373 [00:10<00:00, 37.22it/s]\n",
      "Training Epoch 140: 100%|██████████| 373/373 [00:09<00:00, 37.35it/s]\n",
      "Training Epoch 141: 100%|██████████| 373/373 [00:10<00:00, 37.27it/s]\n"
     ]
    },
    {
     "name": "stdout",
     "output_type": "stream",
     "text": [
      "Epoch 140 - Train Loss: 0.9285, Train MSE: 0.9300, Train MAE: 0.7240\n",
      "Epoch 140 - Validation Loss: 1.3283, Validation MSE: 1.3308, Validation MAE: 0.8611\n"
     ]
    },
    {
     "name": "stderr",
     "output_type": "stream",
     "text": [
      "Training Epoch 142: 100%|██████████| 373/373 [00:16<00:00, 22.80it/s]\n",
      "Training Epoch 143: 100%|██████████| 373/373 [00:09<00:00, 37.84it/s]\n",
      "Training Epoch 144: 100%|██████████| 373/373 [00:09<00:00, 37.88it/s]\n",
      "Training Epoch 145: 100%|██████████| 373/373 [00:09<00:00, 37.81it/s]\n",
      "Training Epoch 146: 100%|██████████| 373/373 [15:09<00:00,  2.44s/it] \n",
      "Training Epoch 147: 100%|██████████| 373/373 [00:10<00:00, 36.10it/s]\n",
      "Training Epoch 148: 100%|██████████| 373/373 [00:10<00:00, 35.93it/s]\n",
      "Training Epoch 149: 100%|██████████| 373/373 [00:10<00:00, 36.18it/s]\n",
      "Training Epoch 150: 100%|██████████| 373/373 [00:10<00:00, 36.20it/s]\n",
      "Training Epoch 151: 100%|██████████| 373/373 [15:10<00:00,  2.44s/it]  \n"
     ]
    },
    {
     "name": "stdout",
     "output_type": "stream",
     "text": [
      "Epoch 150 - Train Loss: 0.9090, Train MSE: 0.9091, Train MAE: 0.7190\n",
      "Epoch 150 - Validation Loss: 1.2743, Validation MSE: 1.2771, Validation MAE: 0.8112\n"
     ]
    },
    {
     "name": "stderr",
     "output_type": "stream",
     "text": [
      "Training Epoch 152: 100%|██████████| 373/373 [00:10<00:00, 36.02it/s]\n",
      "Training Epoch 153: 100%|██████████| 373/373 [00:10<00:00, 35.81it/s]\n",
      "Training Epoch 154: 100%|██████████| 373/373 [00:10<00:00, 36.16it/s]\n",
      "Training Epoch 155: 100%|██████████| 373/373 [04:23<00:00,  1.42it/s]  \n",
      "Training Epoch 156: 100%|██████████| 373/373 [00:10<00:00, 36.48it/s]\n",
      "Training Epoch 157: 100%|██████████| 373/373 [00:10<00:00, 36.28it/s]\n",
      "Training Epoch 158: 100%|██████████| 373/373 [00:10<00:00, 36.10it/s]\n",
      "Training Epoch 159: 100%|██████████| 373/373 [04:23<00:00,  1.42it/s]  \n",
      "Training Epoch 160: 100%|██████████| 373/373 [00:10<00:00, 35.71it/s]\n",
      "Training Epoch 161: 100%|██████████| 373/373 [00:10<00:00, 36.10it/s]\n"
     ]
    },
    {
     "name": "stdout",
     "output_type": "stream",
     "text": [
      "Epoch 160 - Train Loss: 0.9143, Train MSE: 0.9043, Train MAE: 0.7150\n",
      "Epoch 160 - Validation Loss: 1.2701, Validation MSE: 1.2726, Validation MAE: 0.8242\n"
     ]
    },
    {
     "name": "stderr",
     "output_type": "stream",
     "text": [
      "Training Epoch 162: 100%|██████████| 373/373 [00:10<00:00, 36.08it/s]\n",
      "Training Epoch 163: 100%|██████████| 373/373 [00:10<00:00, 36.35it/s]\n",
      "Training Epoch 164: 100%|██████████| 373/373 [00:10<00:00, 36.05it/s]\n",
      "Training Epoch 165: 100%|██████████| 373/373 [00:10<00:00, 36.09it/s]\n",
      "Training Epoch 166: 100%|██████████| 373/373 [00:10<00:00, 36.26it/s]\n",
      "Training Epoch 167: 100%|██████████| 373/373 [00:10<00:00, 35.96it/s]\n",
      "Training Epoch 168: 100%|██████████| 373/373 [00:10<00:00, 36.20it/s]\n",
      "Training Epoch 169: 100%|██████████| 373/373 [00:10<00:00, 35.93it/s]\n",
      "Training Epoch 170: 100%|██████████| 373/373 [03:01<00:00,  2.06it/s]\n",
      "Training Epoch 171: 100%|██████████| 373/373 [00:10<00:00, 36.39it/s]\n"
     ]
    },
    {
     "name": "stdout",
     "output_type": "stream",
     "text": [
      "Epoch 170 - Train Loss: 0.8919, Train MSE: 0.8933, Train MAE: 0.7076\n",
      "Epoch 170 - Validation Loss: 1.2723, Validation MSE: 1.2746, Validation MAE: 0.8042\n"
     ]
    },
    {
     "name": "stderr",
     "output_type": "stream",
     "text": [
      "Training Epoch 172: 100%|██████████| 373/373 [00:10<00:00, 36.09it/s]\n",
      "Training Epoch 173: 100%|██████████| 373/373 [00:10<00:00, 35.93it/s]\n",
      "Training Epoch 174: 100%|██████████| 373/373 [00:10<00:00, 36.44it/s]\n",
      "Training Epoch 175: 100%|██████████| 373/373 [00:10<00:00, 36.16it/s]\n",
      "Training Epoch 176: 100%|██████████| 373/373 [00:10<00:00, 36.25it/s]\n",
      "Training Epoch 177: 100%|██████████| 373/373 [00:10<00:00, 36.18it/s]\n",
      "Training Epoch 178: 100%|██████████| 373/373 [00:10<00:00, 35.72it/s]\n",
      "Training Epoch 179: 100%|██████████| 373/373 [00:10<00:00, 35.58it/s]\n",
      "Training Epoch 180: 100%|██████████| 373/373 [00:10<00:00, 35.72it/s]\n",
      "Training Epoch 181: 100%|██████████| 373/373 [00:10<00:00, 35.85it/s]\n"
     ]
    },
    {
     "name": "stdout",
     "output_type": "stream",
     "text": [
      "Epoch 180 - Train Loss: 0.8589, Train MSE: 0.8599, Train MAE: 0.6953\n",
      "Epoch 180 - Validation Loss: 1.2287, Validation MSE: 1.2310, Validation MAE: 0.7944\n"
     ]
    },
    {
     "name": "stderr",
     "output_type": "stream",
     "text": [
      "Training Epoch 182: 100%|██████████| 373/373 [00:10<00:00, 35.83it/s]\n",
      "Training Epoch 183: 100%|██████████| 373/373 [15:33<00:00,  2.50s/it]  \n",
      "Training Epoch 184: 100%|██████████| 373/373 [00:10<00:00, 36.05it/s]\n",
      "Training Epoch 185: 100%|██████████| 373/373 [00:10<00:00, 36.39it/s]\n",
      "Training Epoch 186: 100%|██████████| 373/373 [00:10<00:00, 35.86it/s]\n",
      "Training Epoch 187: 100%|██████████| 373/373 [16:01<00:00,  2.58s/it]  \n",
      "Training Epoch 188: 100%|██████████| 373/373 [00:10<00:00, 36.44it/s]\n",
      "Training Epoch 189: 100%|██████████| 373/373 [00:10<00:00, 36.40it/s]\n",
      "Training Epoch 190: 100%|██████████| 373/373 [00:10<00:00, 36.00it/s]\n",
      "Training Epoch 191: 100%|██████████| 373/373 [00:10<00:00, 35.06it/s]\n"
     ]
    },
    {
     "name": "stdout",
     "output_type": "stream",
     "text": [
      "Epoch 190 - Train Loss: 0.8554, Train MSE: 0.8517, Train MAE: 0.6871\n",
      "Epoch 190 - Validation Loss: 1.2406, Validation MSE: 1.2429, Validation MAE: 0.7977\n"
     ]
    },
    {
     "name": "stderr",
     "output_type": "stream",
     "text": [
      "Training Epoch 192: 100%|██████████| 373/373 [00:10<00:00, 36.36it/s]\n",
      "Training Epoch 193: 100%|██████████| 373/373 [16:20<00:00,  2.63s/it] \n",
      "Training Epoch 194: 100%|██████████| 373/373 [00:10<00:00, 35.89it/s]\n",
      "Training Epoch 195: 100%|██████████| 373/373 [00:10<00:00, 36.13it/s]\n",
      "Training Epoch 196: 100%|██████████| 373/373 [00:10<00:00, 36.45it/s]\n",
      "Training Epoch 197: 100%|██████████| 373/373 [15:49<00:00,  2.55s/it]   \n",
      "Training Epoch 198: 100%|██████████| 373/373 [00:10<00:00, 36.41it/s]\n",
      "Training Epoch 199: 100%|██████████| 373/373 [00:10<00:00, 36.08it/s]\n",
      "Training Epoch 200: 100%|██████████| 373/373 [00:10<00:00, 36.26it/s]\n",
      "Training Epoch 201: 100%|██████████| 373/373 [00:10<00:00, 36.62it/s]\n"
     ]
    },
    {
     "name": "stdout",
     "output_type": "stream",
     "text": [
      "Epoch 200 - Train Loss: 0.8360, Train MSE: 0.8377, Train MAE: 0.6847\n",
      "Epoch 200 - Validation Loss: 1.3241, Validation MSE: 1.3265, Validation MAE: 0.8572\n"
     ]
    },
    {
     "name": "stderr",
     "output_type": "stream",
     "text": [
      "Training Epoch 202: 100%|██████████| 373/373 [04:53<00:00,  1.27it/s]  \n",
      "Training Epoch 203: 100%|██████████| 373/373 [00:10<00:00, 36.07it/s]\n",
      "Training Epoch 204: 100%|██████████| 373/373 [00:10<00:00, 36.48it/s]\n",
      "Training Epoch 205: 100%|██████████| 373/373 [00:10<00:00, 35.91it/s]\n",
      "Training Epoch 206: 100%|██████████| 373/373 [16:16<00:00,  2.62s/it]  \n",
      "Training Epoch 207: 100%|██████████| 373/373 [00:10<00:00, 36.42it/s]\n",
      "Training Epoch 208: 100%|██████████| 373/373 [00:10<00:00, 36.54it/s]\n",
      "Training Epoch 209: 100%|██████████| 373/373 [00:10<00:00, 36.37it/s]\n",
      "Training Epoch 210: 100%|██████████| 373/373 [16:21<00:00,  2.63s/it]  \n",
      "Training Epoch 211: 100%|██████████| 373/373 [00:10<00:00, 36.44it/s]\n"
     ]
    },
    {
     "name": "stdout",
     "output_type": "stream",
     "text": [
      "Epoch 210 - Train Loss: 0.8273, Train MSE: 0.8288, Train MAE: 0.6814\n",
      "Epoch 210 - Validation Loss: 1.2526, Validation MSE: 1.2549, Validation MAE: 0.7936\n"
     ]
    },
    {
     "name": "stderr",
     "output_type": "stream",
     "text": [
      "Training Epoch 212: 100%|██████████| 373/373 [00:10<00:00, 36.48it/s]\n",
      "Training Epoch 213: 100%|██████████| 373/373 [00:10<00:00, 36.00it/s]\n",
      "Training Epoch 214: 100%|██████████| 373/373 [17:12<00:00,  2.77s/it]  \n",
      "Training Epoch 215: 100%|██████████| 373/373 [00:10<00:00, 34.25it/s]\n",
      "Training Epoch 216: 100%|██████████| 373/373 [00:10<00:00, 36.02it/s]\n",
      "Training Epoch 217: 100%|██████████| 373/373 [00:10<00:00, 36.15it/s]\n",
      "Training Epoch 218: 100%|██████████| 373/373 [00:10<00:00, 35.89it/s]\n",
      "Training Epoch 219: 100%|██████████| 373/373 [00:10<00:00, 36.52it/s]\n",
      "Training Epoch 220: 100%|██████████| 373/373 [00:10<00:00, 36.31it/s]\n",
      "Training Epoch 221: 100%|██████████| 373/373 [00:10<00:00, 36.26it/s]\n"
     ]
    },
    {
     "name": "stdout",
     "output_type": "stream",
     "text": [
      "Epoch 220 - Train Loss: 0.8115, Train MSE: 0.8116, Train MAE: 0.6712\n",
      "Epoch 220 - Validation Loss: 1.2311, Validation MSE: 1.2332, Validation MAE: 0.8012\n"
     ]
    },
    {
     "name": "stderr",
     "output_type": "stream",
     "text": [
      "Training Epoch 222: 100%|██████████| 373/373 [00:10<00:00, 35.96it/s]\n",
      "Training Epoch 223: 100%|██████████| 373/373 [00:10<00:00, 36.60it/s]\n",
      "Training Epoch 224: 100%|██████████| 373/373 [00:10<00:00, 35.71it/s]\n",
      "Training Epoch 225: 100%|██████████| 373/373 [00:10<00:00, 34.09it/s]\n",
      "Training Epoch 226: 100%|██████████| 373/373 [00:10<00:00, 36.03it/s]\n",
      "Training Epoch 227: 100%|██████████| 373/373 [00:10<00:00, 36.77it/s]\n",
      "Training Epoch 228: 100%|██████████| 373/373 [00:10<00:00, 35.55it/s]\n",
      "Training Epoch 229: 100%|██████████| 373/373 [00:10<00:00, 35.88it/s]\n",
      "Training Epoch 230: 100%|██████████| 373/373 [00:10<00:00, 36.10it/s]\n",
      "Training Epoch 231: 100%|██████████| 373/373 [00:10<00:00, 36.71it/s]\n"
     ]
    },
    {
     "name": "stdout",
     "output_type": "stream",
     "text": [
      "Epoch 230 - Train Loss: 0.7977, Train MSE: 0.7976, Train MAE: 0.6662\n",
      "Epoch 230 - Validation Loss: 1.2558, Validation MSE: 1.2580, Validation MAE: 0.7932\n"
     ]
    },
    {
     "name": "stderr",
     "output_type": "stream",
     "text": [
      "Training Epoch 232: 100%|██████████| 373/373 [00:10<00:00, 33.96it/s]\n",
      "Training Epoch 233: 100%|██████████| 373/373 [00:10<00:00, 35.78it/s]\n",
      "Training Epoch 234: 100%|██████████| 373/373 [00:10<00:00, 36.15it/s]\n",
      "Training Epoch 235: 100%|██████████| 373/373 [00:10<00:00, 36.78it/s]\n",
      "Training Epoch 236: 100%|██████████| 373/373 [00:10<00:00, 36.39it/s]\n",
      "Training Epoch 237: 100%|██████████| 373/373 [16:52<00:00,  2.71s/it]  \n",
      "Training Epoch 238: 100%|██████████| 373/373 [00:10<00:00, 36.56it/s]\n",
      "Training Epoch 239: 100%|██████████| 373/373 [00:10<00:00, 36.24it/s]\n",
      "Training Epoch 240: 100%|██████████| 373/373 [00:10<00:00, 36.19it/s]\n",
      "Training Epoch 241: 100%|██████████| 373/373 [18:02<00:00,  2.90s/it]  \n"
     ]
    },
    {
     "name": "stdout",
     "output_type": "stream",
     "text": [
      "Epoch 240 - Train Loss: 0.7977, Train MSE: 0.7925, Train MAE: 0.6627\n",
      "Epoch 240 - Validation Loss: 1.2113, Validation MSE: 1.2134, Validation MAE: 0.7824\n"
     ]
    },
    {
     "name": "stderr",
     "output_type": "stream",
     "text": [
      "Training Epoch 242: 100%|██████████| 373/373 [00:10<00:00, 36.19it/s]\n",
      "Training Epoch 243: 100%|██████████| 373/373 [00:10<00:00, 35.58it/s]\n",
      "Training Epoch 244: 100%|██████████| 373/373 [00:10<00:00, 36.11it/s]\n",
      "Training Epoch 245: 100%|██████████| 373/373 [16:54<00:00,  2.72s/it]  \n",
      "Training Epoch 246: 100%|██████████| 373/373 [00:13<00:00, 28.15it/s]\n",
      "Training Epoch 247: 100%|██████████| 373/373 [00:10<00:00, 36.27it/s]\n",
      "Training Epoch 248: 100%|██████████| 373/373 [00:10<00:00, 35.93it/s]\n",
      "Training Epoch 249: 100%|██████████| 373/373 [00:10<00:00, 35.95it/s]\n",
      "Training Epoch 250: 100%|██████████| 373/373 [00:10<00:00, 36.47it/s]\n",
      "Training Epoch 251: 100%|██████████| 373/373 [00:10<00:00, 36.26it/s]\n"
     ]
    },
    {
     "name": "stdout",
     "output_type": "stream",
     "text": [
      "Epoch 250 - Train Loss: 0.7870, Train MSE: 0.7805, Train MAE: 0.6536\n",
      "Epoch 250 - Validation Loss: 1.2726, Validation MSE: 1.2745, Validation MAE: 0.8318\n"
     ]
    },
    {
     "name": "stderr",
     "output_type": "stream",
     "text": [
      "Training Epoch 252: 100%|██████████| 373/373 [00:10<00:00, 36.21it/s]\n",
      "Training Epoch 253: 100%|██████████| 373/373 [16:07<00:00,  2.59s/it]  \n",
      "Training Epoch 254: 100%|██████████| 373/373 [00:10<00:00, 36.70it/s]\n",
      "Training Epoch 255: 100%|██████████| 373/373 [00:10<00:00, 34.88it/s]\n",
      "Training Epoch 256: 100%|██████████| 373/373 [00:10<00:00, 36.41it/s]\n",
      "Training Epoch 257: 100%|██████████| 373/373 [00:10<00:00, 36.07it/s]\n",
      "Training Epoch 258: 100%|██████████| 373/373 [00:10<00:00, 36.57it/s]\n",
      "Training Epoch 259: 100%|██████████| 373/373 [00:10<00:00, 35.98it/s]\n",
      "Training Epoch 260: 100%|██████████| 373/373 [00:10<00:00, 36.27it/s]\n",
      "Training Epoch 261: 100%|██████████| 373/373 [05:01<00:00,  1.24it/s] \n"
     ]
    },
    {
     "name": "stdout",
     "output_type": "stream",
     "text": [
      "Epoch 260 - Train Loss: 0.7723, Train MSE: 0.7735, Train MAE: 0.6509\n",
      "Epoch 260 - Validation Loss: 1.2177, Validation MSE: 1.2196, Validation MAE: 0.7940\n"
     ]
    },
    {
     "name": "stderr",
     "output_type": "stream",
     "text": [
      "Training Epoch 262: 100%|██████████| 373/373 [00:10<00:00, 36.32it/s]\n",
      "Training Epoch 263: 100%|██████████| 373/373 [00:10<00:00, 36.09it/s]\n",
      "Training Epoch 264: 100%|██████████| 373/373 [00:10<00:00, 36.10it/s]\n",
      "Training Epoch 265: 100%|██████████| 373/373 [00:10<00:00, 36.60it/s]\n",
      "Training Epoch 266: 100%|██████████| 373/373 [15:58<00:00,  2.57s/it]  \n",
      "Training Epoch 267: 100%|██████████| 373/373 [00:10<00:00, 36.05it/s]\n",
      "Training Epoch 268: 100%|██████████| 373/373 [00:10<00:00, 35.72it/s]\n",
      "Training Epoch 269: 100%|██████████| 373/373 [00:10<00:00, 36.46it/s]\n",
      "Training Epoch 270: 100%|██████████| 373/373 [00:25<00:00, 14.90it/s]\n",
      "Training Epoch 271: 100%|██████████| 373/373 [00:10<00:00, 36.26it/s]\n"
     ]
    },
    {
     "name": "stdout",
     "output_type": "stream",
     "text": [
      "Epoch 270 - Train Loss: 0.7686, Train MSE: 0.7681, Train MAE: 0.6494\n",
      "Epoch 270 - Validation Loss: 1.2261, Validation MSE: 1.2283, Validation MAE: 0.7782\n"
     ]
    },
    {
     "name": "stderr",
     "output_type": "stream",
     "text": [
      "Training Epoch 272: 100%|██████████| 373/373 [00:10<00:00, 35.95it/s]\n",
      "Training Epoch 273: 100%|██████████| 373/373 [00:10<00:00, 36.60it/s]\n",
      "Training Epoch 274: 100%|██████████| 373/373 [15:28<00:00,  2.49s/it]  \n",
      "Training Epoch 275: 100%|██████████| 373/373 [00:10<00:00, 36.14it/s]\n",
      "Training Epoch 276: 100%|██████████| 373/373 [00:10<00:00, 36.40it/s]\n",
      "Training Epoch 277: 100%|██████████| 373/373 [00:10<00:00, 36.36it/s]\n",
      "Training Epoch 278: 100%|██████████| 373/373 [15:35<00:00,  2.51s/it]  \n",
      "Training Epoch 279: 100%|██████████| 373/373 [00:10<00:00, 36.04it/s]\n",
      "Training Epoch 280: 100%|██████████| 373/373 [00:10<00:00, 36.48it/s]\n",
      "Training Epoch 281: 100%|██████████| 373/373 [00:10<00:00, 36.18it/s]\n"
     ]
    },
    {
     "name": "stdout",
     "output_type": "stream",
     "text": [
      "Epoch 280 - Train Loss: 0.7597, Train MSE: 0.7550, Train MAE: 0.6434\n",
      "Epoch 280 - Validation Loss: 1.2089, Validation MSE: 1.2109, Validation MAE: 0.7762\n"
     ]
    },
    {
     "name": "stderr",
     "output_type": "stream",
     "text": [
      "Training Epoch 282: 100%|██████████| 373/373 [15:42<00:00,  2.53s/it]  \n",
      "Training Epoch 283: 100%|██████████| 373/373 [00:10<00:00, 34.85it/s]\n",
      "Training Epoch 284: 100%|██████████| 373/373 [00:10<00:00, 36.35it/s]\n",
      "Training Epoch 285: 100%|██████████| 373/373 [00:10<00:00, 36.12it/s]\n",
      "Training Epoch 286: 100%|██████████| 373/373 [00:10<00:00, 35.90it/s]\n",
      "Training Epoch 287: 100%|██████████| 373/373 [16:57<00:00,  2.73s/it]\n",
      "Training Epoch 288: 100%|██████████| 373/373 [00:10<00:00, 36.06it/s]\n",
      "Training Epoch 289: 100%|██████████| 373/373 [00:10<00:00, 35.85it/s]\n",
      "Training Epoch 290: 100%|██████████| 373/373 [00:10<00:00, 35.70it/s]\n",
      "Training Epoch 291: 100%|██████████| 373/373 [15:22<00:00,  2.47s/it]\n"
     ]
    },
    {
     "name": "stdout",
     "output_type": "stream",
     "text": [
      "Epoch 290 - Train Loss: 0.7588, Train MSE: 0.7605, Train MAE: 0.6460\n",
      "Epoch 290 - Validation Loss: 1.2270, Validation MSE: 1.2291, Validation MAE: 0.7884\n"
     ]
    },
    {
     "name": "stderr",
     "output_type": "stream",
     "text": [
      "Training Epoch 292: 100%|██████████| 373/373 [00:10<00:00, 36.51it/s]\n",
      "Training Epoch 293: 100%|██████████| 373/373 [00:10<00:00, 36.33it/s]\n",
      "Training Epoch 294: 100%|██████████| 373/373 [00:10<00:00, 36.10it/s]\n",
      "Training Epoch 295: 100%|██████████| 373/373 [08:05<00:00,  1.30s/it]\n",
      "Training Epoch 296: 100%|██████████| 373/373 [00:10<00:00, 36.24it/s]\n",
      "Training Epoch 297: 100%|██████████| 373/373 [00:10<00:00, 36.12it/s]\n",
      "Training Epoch 298: 100%|██████████| 373/373 [00:10<00:00, 36.23it/s]\n",
      "Training Epoch 299: 100%|██████████| 373/373 [00:10<00:00, 36.12it/s]\n",
      "Training Epoch 300: 100%|██████████| 373/373 [00:10<00:00, 35.66it/s]\n",
      "Training Epoch 301: 100%|██████████| 373/373 [00:10<00:00, 35.29it/s]\n"
     ]
    },
    {
     "name": "stdout",
     "output_type": "stream",
     "text": [
      "Epoch 300 - Train Loss: 0.7431, Train MSE: 0.7442, Train MAE: 0.6356\n",
      "Epoch 300 - Validation Loss: 1.2182, Validation MSE: 1.2203, Validation MAE: 0.7870\n"
     ]
    },
    {
     "name": "stderr",
     "output_type": "stream",
     "text": [
      "Training Epoch 302: 100%|██████████| 373/373 [00:10<00:00, 36.31it/s]\n",
      "Training Epoch 303: 100%|██████████| 373/373 [00:10<00:00, 36.55it/s]\n",
      "Training Epoch 304: 100%|██████████| 373/373 [00:10<00:00, 36.19it/s]\n",
      "Training Epoch 305: 100%|██████████| 373/373 [15:43<00:00,  2.53s/it]  \n",
      "Training Epoch 306: 100%|██████████| 373/373 [00:10<00:00, 36.29it/s]\n",
      "Training Epoch 307: 100%|██████████| 373/373 [00:10<00:00, 36.21it/s]\n",
      "Training Epoch 308: 100%|██████████| 373/373 [00:10<00:00, 36.00it/s]\n",
      "Training Epoch 309: 100%|██████████| 373/373 [16:04<00:00,  2.59s/it]  \n",
      "Training Epoch 310: 100%|██████████| 373/373 [00:10<00:00, 35.97it/s]\n",
      "Training Epoch 311: 100%|██████████| 373/373 [00:10<00:00, 35.40it/s]\n"
     ]
    },
    {
     "name": "stdout",
     "output_type": "stream",
     "text": [
      "Epoch 310 - Train Loss: 0.7365, Train MSE: 0.7325, Train MAE: 0.6327\n",
      "Epoch 310 - Validation Loss: 1.2364, Validation MSE: 1.2384, Validation MAE: 0.7841\n"
     ]
    },
    {
     "name": "stderr",
     "output_type": "stream",
     "text": [
      "Training Epoch 312: 100%|██████████| 373/373 [00:10<00:00, 36.31it/s]\n",
      "Training Epoch 313: 100%|██████████| 373/373 [15:35<00:00,  2.51s/it]  \n",
      "Training Epoch 314: 100%|██████████| 373/373 [00:10<00:00, 36.32it/s]\n",
      "Training Epoch 315: 100%|██████████| 373/373 [00:10<00:00, 36.32it/s]\n",
      "Training Epoch 316: 100%|██████████| 373/373 [00:10<00:00, 36.29it/s]\n",
      "Training Epoch 317: 100%|██████████| 373/373 [10:51<00:00,  1.75s/it]  \n",
      "Training Epoch 318: 100%|██████████| 373/373 [00:10<00:00, 35.43it/s]\n",
      "Training Epoch 319: 100%|██████████| 373/373 [00:10<00:00, 35.92it/s]\n",
      "Training Epoch 320: 100%|██████████| 373/373 [00:10<00:00, 35.95it/s]\n",
      "Training Epoch 321: 100%|██████████| 373/373 [00:10<00:00, 36.53it/s]\n"
     ]
    },
    {
     "name": "stdout",
     "output_type": "stream",
     "text": [
      "Epoch 320 - Train Loss: 0.7341, Train MSE: 0.7350, Train MAE: 0.6294\n",
      "Epoch 320 - Validation Loss: 1.2055, Validation MSE: 1.2076, Validation MAE: 0.7752\n"
     ]
    },
    {
     "name": "stderr",
     "output_type": "stream",
     "text": [
      "Training Epoch 322: 100%|██████████| 373/373 [15:16<00:00,  2.46s/it] \n",
      "Training Epoch 323: 100%|██████████| 373/373 [00:10<00:00, 36.05it/s]\n",
      "Training Epoch 324: 100%|██████████| 373/373 [00:10<00:00, 36.11it/s]\n",
      "Training Epoch 325: 100%|██████████| 373/373 [00:10<00:00, 36.02it/s]\n",
      "Training Epoch 326: 100%|██████████| 373/373 [15:16<00:00,  2.46s/it] \n",
      "Training Epoch 327: 100%|██████████| 373/373 [00:10<00:00, 36.16it/s]\n",
      "Training Epoch 328: 100%|██████████| 373/373 [00:10<00:00, 36.10it/s]\n",
      "Training Epoch 329: 100%|██████████| 373/373 [00:10<00:00, 36.40it/s]\n",
      "Training Epoch 330: 100%|██████████| 373/373 [17:46<00:00,  2.86s/it] \n",
      "Training Epoch 331: 100%|██████████| 373/373 [00:10<00:00, 36.44it/s]\n"
     ]
    },
    {
     "name": "stdout",
     "output_type": "stream",
     "text": [
      "Epoch 330 - Train Loss: 0.7196, Train MSE: 0.7193, Train MAE: 0.6253\n",
      "Epoch 330 - Validation Loss: 1.2331, Validation MSE: 1.2349, Validation MAE: 0.8068\n"
     ]
    },
    {
     "name": "stderr",
     "output_type": "stream",
     "text": [
      "Training Epoch 332: 100%|██████████| 373/373 [00:10<00:00, 36.22it/s]\n",
      "Training Epoch 333: 100%|██████████| 373/373 [00:10<00:00, 36.41it/s]\n",
      "Training Epoch 334: 100%|██████████| 373/373 [00:51<00:00,  7.22it/s]\n",
      "Training Epoch 335: 100%|██████████| 373/373 [00:10<00:00, 37.05it/s]\n",
      "Training Epoch 336: 100%|██████████| 373/373 [00:10<00:00, 37.29it/s]\n",
      "Training Epoch 337: 100%|██████████| 373/373 [00:10<00:00, 37.25it/s]\n",
      "Training Epoch 338: 100%|██████████| 373/373 [00:09<00:00, 38.13it/s]\n",
      "Training Epoch 339: 100%|██████████| 373/373 [00:09<00:00, 38.16it/s]\n",
      "Training Epoch 340: 100%|██████████| 373/373 [00:10<00:00, 37.23it/s]\n",
      "Training Epoch 341: 100%|██████████| 373/373 [00:09<00:00, 37.35it/s]\n"
     ]
    },
    {
     "name": "stdout",
     "output_type": "stream",
     "text": [
      "Epoch 340 - Train Loss: 0.7199, Train MSE: 0.7204, Train MAE: 0.6252\n",
      "Epoch 340 - Validation Loss: 1.2467, Validation MSE: 1.2489, Validation MAE: 0.7814\n"
     ]
    },
    {
     "name": "stderr",
     "output_type": "stream",
     "text": [
      "Training Epoch 342: 100%|██████████| 373/373 [00:09<00:00, 37.39it/s]\n",
      "Training Epoch 343: 100%|██████████| 373/373 [00:10<00:00, 36.63it/s]\n",
      "Training Epoch 344: 100%|██████████| 373/373 [00:09<00:00, 37.58it/s]\n",
      "Training Epoch 345: 100%|██████████| 373/373 [00:09<00:00, 38.17it/s]\n",
      "Training Epoch 346: 100%|██████████| 373/373 [00:10<00:00, 36.40it/s]\n",
      "Training Epoch 347: 100%|██████████| 373/373 [00:09<00:00, 37.49it/s]\n",
      "Training Epoch 348: 100%|██████████| 373/373 [00:09<00:00, 37.38it/s]\n",
      "Training Epoch 349: 100%|██████████| 373/373 [00:09<00:00, 37.45it/s]\n",
      "Training Epoch 350: 100%|██████████| 373/373 [00:09<00:00, 37.43it/s]\n",
      "Training Epoch 351: 100%|██████████| 373/373 [00:10<00:00, 37.18it/s]\n"
     ]
    },
    {
     "name": "stdout",
     "output_type": "stream",
     "text": [
      "Epoch 350 - Train Loss: 0.7112, Train MSE: 0.7114, Train MAE: 0.6229\n",
      "Epoch 350 - Validation Loss: 1.2612, Validation MSE: 1.2633, Validation MAE: 0.7911\n"
     ]
    },
    {
     "name": "stderr",
     "output_type": "stream",
     "text": [
      "Training Epoch 352: 100%|██████████| 373/373 [00:10<00:00, 37.28it/s]\n",
      "Training Epoch 353: 100%|██████████| 373/373 [00:10<00:00, 37.29it/s]\n",
      "Training Epoch 354: 100%|██████████| 373/373 [00:09<00:00, 37.36it/s]\n",
      "Training Epoch 355: 100%|██████████| 373/373 [00:09<00:00, 37.36it/s]\n",
      "Training Epoch 356: 100%|██████████| 373/373 [00:09<00:00, 37.40it/s]\n",
      "Training Epoch 357: 100%|██████████| 373/373 [00:10<00:00, 36.54it/s]\n",
      "Training Epoch 358: 100%|██████████| 373/373 [00:09<00:00, 37.31it/s]\n",
      "Training Epoch 359: 100%|██████████| 373/373 [00:10<00:00, 37.25it/s]\n",
      "Training Epoch 360: 100%|██████████| 373/373 [00:09<00:00, 37.56it/s]\n",
      "Training Epoch 361: 100%|██████████| 373/373 [00:09<00:00, 37.54it/s]\n"
     ]
    },
    {
     "name": "stdout",
     "output_type": "stream",
     "text": [
      "Epoch 360 - Train Loss: 0.7100, Train MSE: 0.7101, Train MAE: 0.6197\n",
      "Epoch 360 - Validation Loss: 1.2175, Validation MSE: 1.2195, Validation MAE: 0.7928\n"
     ]
    },
    {
     "name": "stderr",
     "output_type": "stream",
     "text": [
      "Training Epoch 362: 100%|██████████| 373/373 [00:09<00:00, 37.34it/s]\n",
      "Training Epoch 363: 100%|██████████| 373/373 [00:10<00:00, 36.69it/s]\n",
      "Training Epoch 364: 100%|██████████| 373/373 [00:09<00:00, 37.71it/s]\n",
      "Training Epoch 365: 100%|██████████| 373/373 [00:09<00:00, 37.57it/s]\n",
      "Training Epoch 366: 100%|██████████| 373/373 [00:09<00:00, 37.68it/s]\n",
      "Training Epoch 367: 100%|██████████| 373/373 [00:09<00:00, 37.49it/s]\n",
      "Training Epoch 368: 100%|██████████| 373/373 [00:09<00:00, 37.49it/s]\n",
      "Training Epoch 369: 100%|██████████| 373/373 [00:09<00:00, 37.40it/s]\n",
      "Training Epoch 370: 100%|██████████| 373/373 [00:09<00:00, 37.60it/s]\n",
      "Training Epoch 371: 100%|██████████| 373/373 [00:09<00:00, 37.58it/s]\n"
     ]
    },
    {
     "name": "stdout",
     "output_type": "stream",
     "text": [
      "Epoch 370 - Train Loss: 0.7070, Train MSE: 0.7086, Train MAE: 0.6154\n",
      "Epoch 370 - Validation Loss: 1.2220, Validation MSE: 1.2238, Validation MAE: 0.7915\n"
     ]
    },
    {
     "name": "stderr",
     "output_type": "stream",
     "text": [
      "Training Epoch 372: 100%|██████████| 373/373 [00:09<00:00, 37.38it/s]\n",
      "Training Epoch 373: 100%|██████████| 373/373 [00:09<00:00, 37.39it/s]\n",
      "Training Epoch 374: 100%|██████████| 373/373 [00:09<00:00, 37.54it/s]\n",
      "Training Epoch 375: 100%|██████████| 373/373 [00:09<00:00, 37.43it/s]\n",
      "Training Epoch 376: 100%|██████████| 373/373 [00:09<00:00, 37.33it/s]\n",
      "Training Epoch 377: 100%|██████████| 373/373 [00:09<00:00, 37.45it/s]\n",
      "Training Epoch 378: 100%|██████████| 373/373 [00:09<00:00, 37.41it/s]\n",
      "Training Epoch 379: 100%|██████████| 373/373 [00:09<00:00, 37.41it/s]\n",
      "Training Epoch 380: 100%|██████████| 373/373 [00:09<00:00, 37.43it/s]\n",
      "Training Epoch 381: 100%|██████████| 373/373 [00:09<00:00, 37.43it/s]\n"
     ]
    },
    {
     "name": "stdout",
     "output_type": "stream",
     "text": [
      "Epoch 380 - Train Loss: 0.6966, Train MSE: 0.6968, Train MAE: 0.6125\n",
      "Epoch 380 - Validation Loss: 1.2148, Validation MSE: 1.2165, Validation MAE: 0.7810\n"
     ]
    },
    {
     "name": "stderr",
     "output_type": "stream",
     "text": [
      "Training Epoch 382: 100%|██████████| 373/373 [00:09<00:00, 37.41it/s]\n",
      "Training Epoch 383: 100%|██████████| 373/373 [00:09<00:00, 37.37it/s]\n",
      "Training Epoch 384: 100%|██████████| 373/373 [00:09<00:00, 37.45it/s]\n",
      "Training Epoch 385: 100%|██████████| 373/373 [00:09<00:00, 37.45it/s]\n",
      "Training Epoch 386: 100%|██████████| 373/373 [00:09<00:00, 37.78it/s]\n",
      "Training Epoch 387: 100%|██████████| 373/373 [00:09<00:00, 37.62it/s]\n",
      "Training Epoch 388: 100%|██████████| 373/373 [00:09<00:00, 37.40it/s]\n",
      "Training Epoch 389: 100%|██████████| 373/373 [00:09<00:00, 37.42it/s]\n",
      "Training Epoch 390: 100%|██████████| 373/373 [00:09<00:00, 37.36it/s]\n",
      "Training Epoch 391: 100%|██████████| 373/373 [00:10<00:00, 36.62it/s]\n"
     ]
    },
    {
     "name": "stdout",
     "output_type": "stream",
     "text": [
      "Epoch 390 - Train Loss: 0.6901, Train MSE: 0.6915, Train MAE: 0.6105\n",
      "Epoch 390 - Validation Loss: 1.2170, Validation MSE: 1.2190, Validation MAE: 0.7754\n"
     ]
    },
    {
     "name": "stderr",
     "output_type": "stream",
     "text": [
      "Training Epoch 392: 100%|██████████| 373/373 [00:09<00:00, 37.71it/s]\n",
      "Training Epoch 393: 100%|██████████| 373/373 [00:09<00:00, 37.63it/s]\n",
      "Training Epoch 394: 100%|██████████| 373/373 [00:09<00:00, 37.68it/s]\n",
      "Training Epoch 395: 100%|██████████| 373/373 [00:09<00:00, 37.56it/s]\n",
      "Training Epoch 396: 100%|██████████| 373/373 [00:09<00:00, 37.64it/s]\n",
      "Training Epoch 397: 100%|██████████| 373/373 [00:09<00:00, 37.62it/s]\n",
      "Training Epoch 398: 100%|██████████| 373/373 [00:09<00:00, 37.59it/s]\n",
      "Training Epoch 399: 100%|██████████| 373/373 [00:09<00:00, 37.44it/s]\n",
      "Training Epoch 400: 100%|██████████| 373/373 [00:09<00:00, 37.42it/s]\n",
      "Training Epoch 401: 100%|██████████| 373/373 [00:09<00:00, 37.62it/s]\n"
     ]
    },
    {
     "name": "stdout",
     "output_type": "stream",
     "text": [
      "Epoch 400 - Train Loss: 0.6826, Train MSE: 0.6833, Train MAE: 0.6069\n",
      "Epoch 400 - Validation Loss: 1.2116, Validation MSE: 1.2133, Validation MAE: 0.7913\n"
     ]
    },
    {
     "name": "stderr",
     "output_type": "stream",
     "text": [
      "Training Epoch 402: 100%|██████████| 373/373 [00:09<00:00, 37.32it/s]\n",
      "Training Epoch 403: 100%|██████████| 373/373 [00:09<00:00, 37.46it/s]\n",
      "Training Epoch 404: 100%|██████████| 373/373 [00:09<00:00, 37.46it/s]\n",
      "Training Epoch 405: 100%|██████████| 373/373 [00:09<00:00, 37.41it/s]\n",
      "Training Epoch 406: 100%|██████████| 373/373 [00:09<00:00, 37.55it/s]\n",
      "Training Epoch 407: 100%|██████████| 373/373 [00:09<00:00, 37.62it/s]\n",
      "Training Epoch 408: 100%|██████████| 373/373 [00:09<00:00, 37.52it/s]\n",
      "Training Epoch 409: 100%|██████████| 373/373 [00:09<00:00, 37.44it/s]\n",
      "Training Epoch 410: 100%|██████████| 373/373 [00:09<00:00, 37.39it/s]\n",
      "Training Epoch 411: 100%|██████████| 373/373 [00:09<00:00, 37.46it/s]\n"
     ]
    },
    {
     "name": "stdout",
     "output_type": "stream",
     "text": [
      "Epoch 410 - Train Loss: 0.6909, Train MSE: 0.6836, Train MAE: 0.6025\n",
      "Epoch 410 - Validation Loss: 1.2129, Validation MSE: 1.2144, Validation MAE: 0.7881\n"
     ]
    },
    {
     "name": "stderr",
     "output_type": "stream",
     "text": [
      "Training Epoch 412: 100%|██████████| 373/373 [00:10<00:00, 37.24it/s]\n",
      "Training Epoch 413: 100%|██████████| 373/373 [00:09<00:00, 37.36it/s]\n",
      "Training Epoch 414: 100%|██████████| 373/373 [00:09<00:00, 37.47it/s]\n",
      "Training Epoch 415: 100%|██████████| 373/373 [00:09<00:00, 37.38it/s]\n",
      "Training Epoch 416: 100%|██████████| 373/373 [00:09<00:00, 37.41it/s]\n",
      "Training Epoch 417: 100%|██████████| 373/373 [00:09<00:00, 37.46it/s]\n",
      "Training Epoch 418: 100%|██████████| 373/373 [00:09<00:00, 37.73it/s]\n",
      "Training Epoch 419: 100%|██████████| 373/373 [00:09<00:00, 37.36it/s]\n",
      "Training Epoch 420: 100%|██████████| 373/373 [00:10<00:00, 37.06it/s]\n",
      "Training Epoch 421: 100%|██████████| 373/373 [00:10<00:00, 37.30it/s]\n"
     ]
    },
    {
     "name": "stdout",
     "output_type": "stream",
     "text": [
      "Epoch 420 - Train Loss: 0.6852, Train MSE: 0.6866, Train MAE: 0.6060\n",
      "Epoch 420 - Validation Loss: 1.2122, Validation MSE: 1.2138, Validation MAE: 0.7816\n"
     ]
    },
    {
     "name": "stderr",
     "output_type": "stream",
     "text": [
      "Training Epoch 422: 100%|██████████| 373/373 [00:10<00:00, 37.12it/s]\n",
      "Training Epoch 423: 100%|██████████| 373/373 [00:10<00:00, 36.83it/s]\n",
      "Training Epoch 424: 100%|██████████| 373/373 [00:10<00:00, 37.04it/s]\n",
      "Training Epoch 425: 100%|██████████| 373/373 [00:10<00:00, 37.18it/s]\n",
      "Training Epoch 426: 100%|██████████| 373/373 [00:09<00:00, 37.60it/s]\n",
      "Training Epoch 427: 100%|██████████| 373/373 [00:09<00:00, 37.62it/s]\n",
      "Training Epoch 428: 100%|██████████| 373/373 [00:10<00:00, 36.48it/s]\n",
      "Training Epoch 429: 100%|██████████| 373/373 [00:10<00:00, 36.69it/s]\n",
      "Training Epoch 430: 100%|██████████| 373/373 [00:10<00:00, 36.29it/s]\n",
      "Training Epoch 431: 100%|██████████| 373/373 [00:09<00:00, 37.39it/s]\n"
     ]
    },
    {
     "name": "stdout",
     "output_type": "stream",
     "text": [
      "Epoch 430 - Train Loss: 0.6792, Train MSE: 0.6800, Train MAE: 0.6007\n",
      "Epoch 430 - Validation Loss: 1.1984, Validation MSE: 1.2002, Validation MAE: 0.7741\n"
     ]
    },
    {
     "name": "stderr",
     "output_type": "stream",
     "text": [
      "Training Epoch 432: 100%|██████████| 373/373 [00:09<00:00, 37.54it/s]\n",
      "Training Epoch 433: 100%|██████████| 373/373 [00:09<00:00, 37.59it/s]\n",
      "Training Epoch 434: 100%|██████████| 373/373 [00:09<00:00, 37.52it/s]\n",
      "Training Epoch 435: 100%|██████████| 373/373 [00:09<00:00, 37.59it/s]\n",
      "Training Epoch 436: 100%|██████████| 373/373 [00:09<00:00, 37.37it/s]\n",
      "Training Epoch 437: 100%|██████████| 373/373 [00:09<00:00, 37.34it/s]\n",
      "Training Epoch 438: 100%|██████████| 373/373 [00:09<00:00, 37.45it/s]\n",
      "Training Epoch 439: 100%|██████████| 373/373 [00:10<00:00, 36.96it/s]\n",
      "Training Epoch 440: 100%|██████████| 373/373 [00:10<00:00, 36.40it/s]\n",
      "Training Epoch 441: 100%|██████████| 373/373 [00:10<00:00, 37.15it/s]\n"
     ]
    },
    {
     "name": "stdout",
     "output_type": "stream",
     "text": [
      "Epoch 440 - Train Loss: 0.6758, Train MSE: 0.6766, Train MAE: 0.5986\n",
      "Epoch 440 - Validation Loss: 1.2297, Validation MSE: 1.2314, Validation MAE: 0.8039\n"
     ]
    },
    {
     "name": "stderr",
     "output_type": "stream",
     "text": [
      "Training Epoch 442: 100%|██████████| 373/373 [00:10<00:00, 37.06it/s]\n",
      "Training Epoch 443: 100%|██████████| 373/373 [00:10<00:00, 37.00it/s]\n",
      "Training Epoch 444: 100%|██████████| 373/373 [00:09<00:00, 37.44it/s]\n",
      "Training Epoch 445: 100%|██████████| 373/373 [00:10<00:00, 37.21it/s]\n",
      "Training Epoch 446: 100%|██████████| 373/373 [00:10<00:00, 36.92it/s]\n",
      "Training Epoch 447: 100%|██████████| 373/373 [00:10<00:00, 36.90it/s]\n",
      "Training Epoch 448: 100%|██████████| 373/373 [00:09<00:00, 37.41it/s]\n",
      "Training Epoch 449: 100%|██████████| 373/373 [00:09<00:00, 37.62it/s]\n",
      "Training Epoch 450: 100%|██████████| 373/373 [00:09<00:00, 37.76it/s]\n",
      "Training Epoch 451: 100%|██████████| 373/373 [00:10<00:00, 36.80it/s]\n"
     ]
    },
    {
     "name": "stdout",
     "output_type": "stream",
     "text": [
      "Epoch 450 - Train Loss: 0.6819, Train MSE: 0.6789, Train MAE: 0.6006\n",
      "Epoch 450 - Validation Loss: 1.2554, Validation MSE: 1.2572, Validation MAE: 0.8074\n"
     ]
    },
    {
     "name": "stderr",
     "output_type": "stream",
     "text": [
      "Training Epoch 452: 100%|██████████| 373/373 [00:09<00:00, 37.46it/s]\n",
      "Training Epoch 453: 100%|██████████| 373/373 [00:10<00:00, 36.99it/s]\n",
      "Training Epoch 454: 100%|██████████| 373/373 [00:09<00:00, 37.59it/s]\n",
      "Training Epoch 455: 100%|██████████| 373/373 [00:10<00:00, 34.25it/s]\n",
      "Training Epoch 456: 100%|██████████| 373/373 [00:11<00:00, 33.32it/s]\n",
      "Training Epoch 457: 100%|██████████| 373/373 [00:10<00:00, 37.18it/s]\n",
      "Training Epoch 458: 100%|██████████| 373/373 [00:09<00:00, 37.74it/s]\n",
      "Training Epoch 459: 100%|██████████| 373/373 [00:09<00:00, 37.45it/s]\n",
      "Training Epoch 460: 100%|██████████| 373/373 [00:10<00:00, 37.12it/s]\n",
      "Training Epoch 461: 100%|██████████| 373/373 [00:09<00:00, 37.81it/s]\n"
     ]
    },
    {
     "name": "stdout",
     "output_type": "stream",
     "text": [
      "Epoch 460 - Train Loss: 0.6619, Train MSE: 0.6623, Train MAE: 0.5948\n",
      "Epoch 460 - Validation Loss: 1.2248, Validation MSE: 1.2262, Validation MAE: 0.8001\n"
     ]
    },
    {
     "name": "stderr",
     "output_type": "stream",
     "text": [
      "Training Epoch 462: 100%|██████████| 373/373 [00:09<00:00, 37.39it/s]\n",
      "Training Epoch 463: 100%|██████████| 373/373 [00:09<00:00, 37.41it/s]\n",
      "Training Epoch 464: 100%|██████████| 373/373 [00:10<00:00, 33.94it/s]\n",
      "Training Epoch 465: 100%|██████████| 373/373 [00:11<00:00, 32.47it/s]\n",
      "Training Epoch 466: 100%|██████████| 373/373 [00:10<00:00, 35.49it/s]\n",
      "Training Epoch 467: 100%|██████████| 373/373 [00:10<00:00, 36.95it/s]\n",
      "Training Epoch 468: 100%|██████████| 373/373 [00:09<00:00, 37.54it/s]\n",
      "Training Epoch 469: 100%|██████████| 373/373 [00:10<00:00, 37.18it/s]\n",
      "Training Epoch 470: 100%|██████████| 373/373 [00:09<00:00, 37.30it/s]\n",
      "Training Epoch 471: 100%|██████████| 373/373 [00:10<00:00, 37.28it/s]\n"
     ]
    },
    {
     "name": "stdout",
     "output_type": "stream",
     "text": [
      "Epoch 470 - Train Loss: 0.6615, Train MSE: 0.6628, Train MAE: 0.5931\n",
      "Epoch 470 - Validation Loss: 1.2104, Validation MSE: 1.2119, Validation MAE: 0.7869\n"
     ]
    },
    {
     "name": "stderr",
     "output_type": "stream",
     "text": [
      "Training Epoch 472: 100%|██████████| 373/373 [00:10<00:00, 36.29it/s]\n",
      "Training Epoch 473: 100%|██████████| 373/373 [00:09<00:00, 37.54it/s]\n",
      "Training Epoch 474: 100%|██████████| 373/373 [00:09<00:00, 37.43it/s]\n",
      "Training Epoch 475: 100%|██████████| 373/373 [00:09<00:00, 37.34it/s]\n",
      "Training Epoch 476: 100%|██████████| 373/373 [00:10<00:00, 37.23it/s]\n",
      "Training Epoch 477: 100%|██████████| 373/373 [00:10<00:00, 37.00it/s]\n",
      "Training Epoch 478: 100%|██████████| 373/373 [00:10<00:00, 36.89it/s]\n",
      "Training Epoch 479: 100%|██████████| 373/373 [00:09<00:00, 37.37it/s]\n",
      "Training Epoch 480: 100%|██████████| 373/373 [00:10<00:00, 37.04it/s]\n",
      "Training Epoch 481: 100%|██████████| 373/373 [00:10<00:00, 37.13it/s]\n"
     ]
    },
    {
     "name": "stdout",
     "output_type": "stream",
     "text": [
      "Epoch 480 - Train Loss: 0.6521, Train MSE: 0.6534, Train MAE: 0.5907\n",
      "Epoch 480 - Validation Loss: 1.2219, Validation MSE: 1.2238, Validation MAE: 0.7937\n"
     ]
    },
    {
     "name": "stderr",
     "output_type": "stream",
     "text": [
      "Training Epoch 482: 100%|██████████| 373/373 [00:10<00:00, 37.10it/s]\n",
      "Training Epoch 483: 100%|██████████| 373/373 [00:10<00:00, 36.51it/s]\n",
      "Training Epoch 484: 100%|██████████| 373/373 [00:10<00:00, 36.55it/s]\n",
      "Training Epoch 485: 100%|██████████| 373/373 [00:10<00:00, 36.35it/s]\n",
      "Training Epoch 486: 100%|██████████| 373/373 [00:10<00:00, 37.29it/s]\n",
      "Training Epoch 487: 100%|██████████| 373/373 [00:09<00:00, 37.89it/s]\n",
      "Training Epoch 488: 100%|██████████| 373/373 [00:09<00:00, 37.78it/s]\n",
      "Training Epoch 489: 100%|██████████| 373/373 [00:09<00:00, 37.81it/s]\n",
      "Training Epoch 490: 100%|██████████| 373/373 [00:09<00:00, 37.85it/s]\n",
      "Training Epoch 491: 100%|██████████| 373/373 [00:09<00:00, 37.93it/s]\n"
     ]
    },
    {
     "name": "stdout",
     "output_type": "stream",
     "text": [
      "Epoch 490 - Train Loss: 0.6666, Train MSE: 0.6675, Train MAE: 0.5943\n",
      "Epoch 490 - Validation Loss: 1.2761, Validation MSE: 1.2783, Validation MAE: 0.7873\n"
     ]
    },
    {
     "name": "stderr",
     "output_type": "stream",
     "text": [
      "Training Epoch 492: 100%|██████████| 373/373 [00:09<00:00, 37.47it/s]\n",
      "Training Epoch 493: 100%|██████████| 373/373 [00:09<00:00, 37.68it/s]\n",
      "Training Epoch 494: 100%|██████████| 373/373 [00:09<00:00, 37.60it/s]\n",
      "Training Epoch 495: 100%|██████████| 373/373 [00:09<00:00, 37.78it/s]\n",
      "Training Epoch 496: 100%|██████████| 373/373 [00:09<00:00, 37.79it/s]\n",
      "Training Epoch 497: 100%|██████████| 373/373 [00:09<00:00, 37.78it/s]\n",
      "Training Epoch 498: 100%|██████████| 373/373 [00:09<00:00, 37.71it/s]\n",
      "Training Epoch 499: 100%|██████████| 373/373 [00:09<00:00, 37.58it/s]\n",
      "Training Epoch 500: 100%|██████████| 373/373 [00:09<00:00, 37.77it/s]\n",
      "Training Epoch 501: 100%|██████████| 373/373 [00:09<00:00, 37.72it/s]\n"
     ]
    },
    {
     "name": "stdout",
     "output_type": "stream",
     "text": [
      "Epoch 500 - Train Loss: 0.6593, Train MSE: 0.6608, Train MAE: 0.5905\n",
      "Epoch 500 - Validation Loss: 1.2370, Validation MSE: 1.2390, Validation MAE: 0.7889\n"
     ]
    },
    {
     "name": "stderr",
     "output_type": "stream",
     "text": [
      "Training Epoch 502: 100%|██████████| 373/373 [00:09<00:00, 37.78it/s]\n",
      "Training Epoch 503: 100%|██████████| 373/373 [00:09<00:00, 37.75it/s]\n",
      "Training Epoch 504: 100%|██████████| 373/373 [00:09<00:00, 37.79it/s]\n",
      "Training Epoch 505: 100%|██████████| 373/373 [00:09<00:00, 37.96it/s]\n",
      "Training Epoch 506: 100%|██████████| 373/373 [00:09<00:00, 37.80it/s]\n",
      "Training Epoch 507: 100%|██████████| 373/373 [00:09<00:00, 37.73it/s]\n",
      "Training Epoch 508: 100%|██████████| 373/373 [00:09<00:00, 38.26it/s]\n",
      "Training Epoch 509: 100%|██████████| 373/373 [00:09<00:00, 37.83it/s]\n",
      "Training Epoch 510: 100%|██████████| 373/373 [00:09<00:00, 37.75it/s]\n",
      "Training Epoch 511: 100%|██████████| 373/373 [00:09<00:00, 37.85it/s]\n"
     ]
    },
    {
     "name": "stdout",
     "output_type": "stream",
     "text": [
      "Epoch 510 - Train Loss: 0.6665, Train MSE: 0.6664, Train MAE: 0.5940\n",
      "Epoch 510 - Validation Loss: 1.2264, Validation MSE: 1.2280, Validation MAE: 0.7721\n"
     ]
    },
    {
     "name": "stderr",
     "output_type": "stream",
     "text": [
      "Training Epoch 512: 100%|██████████| 373/373 [00:09<00:00, 37.79it/s]\n",
      "Training Epoch 513: 100%|██████████| 373/373 [00:09<00:00, 37.52it/s]\n",
      "Training Epoch 514: 100%|██████████| 373/373 [00:09<00:00, 37.96it/s]\n",
      "Training Epoch 515: 100%|██████████| 373/373 [00:09<00:00, 37.86it/s]\n",
      "Training Epoch 516: 100%|██████████| 373/373 [00:09<00:00, 37.80it/s]\n",
      "Training Epoch 517: 100%|██████████| 373/373 [00:09<00:00, 37.68it/s]\n",
      "Training Epoch 518: 100%|██████████| 373/373 [00:09<00:00, 37.71it/s]\n",
      "Training Epoch 519: 100%|██████████| 373/373 [00:09<00:00, 37.66it/s]\n",
      "Training Epoch 520: 100%|██████████| 373/373 [00:09<00:00, 37.68it/s]\n",
      "Training Epoch 521: 100%|██████████| 373/373 [00:09<00:00, 37.73it/s]\n"
     ]
    },
    {
     "name": "stdout",
     "output_type": "stream",
     "text": [
      "Epoch 520 - Train Loss: 0.6546, Train MSE: 0.6551, Train MAE: 0.5860\n",
      "Epoch 520 - Validation Loss: 1.2306, Validation MSE: 1.2323, Validation MAE: 0.7869\n"
     ]
    },
    {
     "name": "stderr",
     "output_type": "stream",
     "text": [
      "Training Epoch 522: 100%|██████████| 373/373 [00:09<00:00, 37.73it/s]\n",
      "Training Epoch 523: 100%|██████████| 373/373 [00:09<00:00, 37.73it/s]\n",
      "Training Epoch 524: 100%|██████████| 373/373 [00:09<00:00, 37.64it/s]\n",
      "Training Epoch 525: 100%|██████████| 373/373 [00:10<00:00, 36.70it/s]\n",
      "Training Epoch 526: 100%|██████████| 373/373 [00:10<00:00, 36.66it/s]\n",
      "Training Epoch 527: 100%|██████████| 373/373 [00:09<00:00, 37.89it/s]\n",
      "Training Epoch 528: 100%|██████████| 373/373 [00:09<00:00, 37.78it/s]\n",
      "Training Epoch 529: 100%|██████████| 373/373 [00:09<00:00, 37.57it/s]\n",
      "Training Epoch 530: 100%|██████████| 373/373 [00:09<00:00, 37.56it/s]\n",
      "Training Epoch 531: 100%|██████████| 373/373 [00:09<00:00, 37.53it/s]\n"
     ]
    },
    {
     "name": "stdout",
     "output_type": "stream",
     "text": [
      "Epoch 530 - Train Loss: 0.6464, Train MSE: 0.6473, Train MAE: 0.5848\n",
      "Epoch 530 - Validation Loss: 1.2337, Validation MSE: 1.2355, Validation MAE: 0.7912\n"
     ]
    },
    {
     "name": "stderr",
     "output_type": "stream",
     "text": [
      "Training Epoch 532: 100%|██████████| 373/373 [00:09<00:00, 37.59it/s]\n",
      "Training Epoch 533: 100%|██████████| 373/373 [00:09<00:00, 37.44it/s]\n",
      "Training Epoch 534: 100%|██████████| 373/373 [00:09<00:00, 37.53it/s]\n",
      "Training Epoch 535: 100%|██████████| 373/373 [00:09<00:00, 37.42it/s]\n",
      "Training Epoch 536: 100%|██████████| 373/373 [00:09<00:00, 37.33it/s]\n",
      "Training Epoch 537: 100%|██████████| 373/373 [00:09<00:00, 37.46it/s]\n",
      "Training Epoch 538: 100%|██████████| 373/373 [00:09<00:00, 37.50it/s]\n",
      "Training Epoch 539: 100%|██████████| 373/373 [00:09<00:00, 37.46it/s]\n",
      "Training Epoch 540: 100%|██████████| 373/373 [00:09<00:00, 37.38it/s]\n",
      "Training Epoch 541: 100%|██████████| 373/373 [00:09<00:00, 37.40it/s]\n"
     ]
    },
    {
     "name": "stdout",
     "output_type": "stream",
     "text": [
      "Epoch 540 - Train Loss: 0.6548, Train MSE: 0.6559, Train MAE: 0.5866\n",
      "Epoch 540 - Validation Loss: 1.2268, Validation MSE: 1.2290, Validation MAE: 0.7805\n"
     ]
    },
    {
     "name": "stderr",
     "output_type": "stream",
     "text": [
      "Training Epoch 542: 100%|██████████| 373/373 [00:09<00:00, 37.36it/s]\n",
      "Training Epoch 543: 100%|██████████| 373/373 [00:09<00:00, 37.33it/s]\n",
      "Training Epoch 544: 100%|██████████| 373/373 [00:09<00:00, 37.42it/s]\n",
      "Training Epoch 545: 100%|██████████| 373/373 [00:09<00:00, 37.40it/s]\n",
      "Training Epoch 546: 100%|██████████| 373/373 [00:10<00:00, 37.30it/s]\n",
      "Training Epoch 547: 100%|██████████| 373/373 [00:09<00:00, 37.30it/s]\n",
      "Training Epoch 548: 100%|██████████| 373/373 [00:09<00:00, 37.46it/s]\n",
      "Training Epoch 549: 100%|██████████| 373/373 [00:09<00:00, 37.43it/s]\n",
      "Training Epoch 550: 100%|██████████| 373/373 [00:09<00:00, 37.37it/s]\n",
      "Training Epoch 551: 100%|██████████| 373/373 [00:09<00:00, 37.52it/s]\n"
     ]
    },
    {
     "name": "stdout",
     "output_type": "stream",
     "text": [
      "Epoch 550 - Train Loss: 0.6571, Train MSE: 0.6546, Train MAE: 0.5868\n",
      "Epoch 550 - Validation Loss: 1.2244, Validation MSE: 1.2261, Validation MAE: 0.7857\n"
     ]
    },
    {
     "name": "stderr",
     "output_type": "stream",
     "text": [
      "Training Epoch 552: 100%|██████████| 373/373 [00:09<00:00, 37.56it/s]\n",
      "Training Epoch 553: 100%|██████████| 373/373 [00:09<00:00, 37.52it/s]\n",
      "Training Epoch 554: 100%|██████████| 373/373 [00:09<00:00, 37.86it/s]\n",
      "Training Epoch 555: 100%|██████████| 373/373 [00:09<00:00, 37.79it/s]\n",
      "Training Epoch 556: 100%|██████████| 373/373 [00:09<00:00, 37.79it/s]\n",
      "Training Epoch 557: 100%|██████████| 373/373 [00:09<00:00, 37.73it/s]\n",
      "Training Epoch 558: 100%|██████████| 373/373 [00:09<00:00, 37.90it/s]\n",
      "Training Epoch 559: 100%|██████████| 373/373 [00:09<00:00, 37.44it/s]\n",
      "Training Epoch 560: 100%|██████████| 373/373 [00:09<00:00, 37.70it/s]\n",
      "Training Epoch 561: 100%|██████████| 373/373 [00:09<00:00, 37.64it/s]\n"
     ]
    },
    {
     "name": "stdout",
     "output_type": "stream",
     "text": [
      "Epoch 560 - Train Loss: 0.6487, Train MSE: 0.6490, Train MAE: 0.5816\n",
      "Epoch 560 - Validation Loss: 1.2479, Validation MSE: 1.2495, Validation MAE: 0.7996\n"
     ]
    },
    {
     "name": "stderr",
     "output_type": "stream",
     "text": [
      "Training Epoch 562: 100%|██████████| 373/373 [00:09<00:00, 37.56it/s]\n",
      "Training Epoch 563: 100%|██████████| 373/373 [00:09<00:00, 37.62it/s]\n",
      "Training Epoch 564: 100%|██████████| 373/373 [00:09<00:00, 37.75it/s]\n",
      "Training Epoch 565: 100%|██████████| 373/373 [00:09<00:00, 37.60it/s]\n",
      "Training Epoch 566: 100%|██████████| 373/373 [00:09<00:00, 37.54it/s]\n",
      "Training Epoch 567: 100%|██████████| 373/373 [00:09<00:00, 37.58it/s]\n",
      "Training Epoch 568: 100%|██████████| 373/373 [00:09<00:00, 37.61it/s]\n",
      "Training Epoch 569: 100%|██████████| 373/373 [00:09<00:00, 37.56it/s]\n",
      "Training Epoch 570: 100%|██████████| 373/373 [00:09<00:00, 37.46it/s]\n",
      "Training Epoch 571: 100%|██████████| 373/373 [00:09<00:00, 37.67it/s]\n"
     ]
    },
    {
     "name": "stdout",
     "output_type": "stream",
     "text": [
      "Epoch 570 - Train Loss: 0.6437, Train MSE: 0.6450, Train MAE: 0.5814\n",
      "Epoch 570 - Validation Loss: 1.2340, Validation MSE: 1.2358, Validation MAE: 0.7849\n"
     ]
    },
    {
     "name": "stderr",
     "output_type": "stream",
     "text": [
      "Training Epoch 572: 100%|██████████| 373/373 [00:09<00:00, 37.54it/s]\n",
      "Training Epoch 573: 100%|██████████| 373/373 [00:09<00:00, 37.55it/s]\n",
      "Training Epoch 574: 100%|██████████| 373/373 [00:09<00:00, 37.63it/s]\n",
      "Training Epoch 575: 100%|██████████| 373/373 [00:09<00:00, 37.67it/s]\n",
      "Training Epoch 576: 100%|██████████| 373/373 [00:09<00:00, 37.72it/s]\n",
      "Training Epoch 577: 100%|██████████| 373/373 [00:09<00:00, 37.31it/s]\n",
      "Training Epoch 578: 100%|██████████| 373/373 [00:09<00:00, 37.39it/s]\n",
      "Training Epoch 579: 100%|██████████| 373/373 [00:10<00:00, 37.26it/s]\n",
      "Training Epoch 580: 100%|██████████| 373/373 [00:10<00:00, 37.18it/s]\n",
      "Training Epoch 581: 100%|██████████| 373/373 [00:09<00:00, 37.87it/s]\n"
     ]
    },
    {
     "name": "stdout",
     "output_type": "stream",
     "text": [
      "Epoch 580 - Train Loss: 0.6411, Train MSE: 0.6413, Train MAE: 0.5753\n",
      "Epoch 580 - Validation Loss: 1.2499, Validation MSE: 1.2517, Validation MAE: 0.8036\n"
     ]
    },
    {
     "name": "stderr",
     "output_type": "stream",
     "text": [
      "Training Epoch 582: 100%|██████████| 373/373 [00:09<00:00, 37.62it/s]\n",
      "Training Epoch 583: 100%|██████████| 373/373 [00:10<00:00, 36.11it/s]\n",
      "Training Epoch 584: 100%|██████████| 373/373 [00:10<00:00, 36.48it/s]\n",
      "Training Epoch 585: 100%|██████████| 373/373 [00:10<00:00, 36.39it/s]\n",
      "Training Epoch 586: 100%|██████████| 373/373 [00:10<00:00, 36.64it/s]\n",
      "Training Epoch 587: 100%|██████████| 373/373 [00:10<00:00, 36.59it/s]\n",
      "Training Epoch 588: 100%|██████████| 373/373 [00:10<00:00, 36.76it/s]\n",
      "Training Epoch 589: 100%|██████████| 373/373 [00:10<00:00, 36.93it/s]\n",
      "Training Epoch 590: 100%|██████████| 373/373 [00:10<00:00, 36.57it/s]\n",
      "Training Epoch 591: 100%|██████████| 373/373 [00:10<00:00, 36.71it/s]\n"
     ]
    },
    {
     "name": "stdout",
     "output_type": "stream",
     "text": [
      "Epoch 590 - Train Loss: 0.6457, Train MSE: 0.6446, Train MAE: 0.5790\n",
      "Epoch 590 - Validation Loss: 1.2133, Validation MSE: 1.2148, Validation MAE: 0.7767\n"
     ]
    },
    {
     "name": "stderr",
     "output_type": "stream",
     "text": [
      "Training Epoch 592: 100%|██████████| 373/373 [00:10<00:00, 36.70it/s]\n",
      "Training Epoch 593: 100%|██████████| 373/373 [00:10<00:00, 36.80it/s]\n",
      "Training Epoch 594: 100%|██████████| 373/373 [00:10<00:00, 36.59it/s]\n",
      "Training Epoch 595: 100%|██████████| 373/373 [00:10<00:00, 36.72it/s]\n",
      "Training Epoch 596: 100%|██████████| 373/373 [00:10<00:00, 36.69it/s]\n",
      "Training Epoch 597: 100%|██████████| 373/373 [00:10<00:00, 36.54it/s]\n",
      "Training Epoch 598: 100%|██████████| 373/373 [00:10<00:00, 36.89it/s]\n",
      "Training Epoch 599: 100%|██████████| 373/373 [00:10<00:00, 36.44it/s]\n",
      "Training Epoch 600: 100%|██████████| 373/373 [00:10<00:00, 36.45it/s]\n",
      "Training Epoch 601: 100%|██████████| 373/373 [00:10<00:00, 36.44it/s]\n"
     ]
    },
    {
     "name": "stdout",
     "output_type": "stream",
     "text": [
      "Epoch 600 - Train Loss: 0.6250, Train MSE: 0.6263, Train MAE: 0.5700\n",
      "Epoch 600 - Validation Loss: 1.2282, Validation MSE: 1.2303, Validation MAE: 0.7806\n"
     ]
    },
    {
     "name": "stderr",
     "output_type": "stream",
     "text": [
      "Training Epoch 602: 100%|██████████| 373/373 [00:10<00:00, 36.72it/s]\n",
      "Training Epoch 603: 100%|██████████| 373/373 [00:10<00:00, 36.57it/s]\n",
      "Training Epoch 604: 100%|██████████| 373/373 [00:10<00:00, 36.69it/s]\n",
      "Training Epoch 605: 100%|██████████| 373/373 [00:10<00:00, 36.45it/s]\n",
      "Training Epoch 606: 100%|██████████| 373/373 [00:10<00:00, 36.61it/s]\n",
      "Training Epoch 607: 100%|██████████| 373/373 [00:10<00:00, 36.73it/s]\n",
      "Training Epoch 608: 100%|██████████| 373/373 [00:10<00:00, 36.71it/s]\n",
      "Training Epoch 609: 100%|██████████| 373/373 [00:10<00:00, 36.73it/s]\n",
      "Training Epoch 610: 100%|██████████| 373/373 [00:10<00:00, 36.52it/s]\n",
      "Training Epoch 611: 100%|██████████| 373/373 [00:10<00:00, 36.60it/s]\n"
     ]
    },
    {
     "name": "stdout",
     "output_type": "stream",
     "text": [
      "Epoch 610 - Train Loss: 0.6348, Train MSE: 0.6355, Train MAE: 0.5749\n",
      "Epoch 610 - Validation Loss: 1.2554, Validation MSE: 1.2574, Validation MAE: 0.7827\n"
     ]
    },
    {
     "name": "stderr",
     "output_type": "stream",
     "text": [
      "Training Epoch 612: 100%|██████████| 373/373 [00:10<00:00, 36.70it/s]\n",
      "Training Epoch 613: 100%|██████████| 373/373 [00:10<00:00, 36.22it/s]\n",
      "Training Epoch 614: 100%|██████████| 373/373 [00:09<00:00, 37.53it/s]\n",
      "Training Epoch 615: 100%|██████████| 373/373 [00:09<00:00, 37.44it/s]\n",
      "Training Epoch 616: 100%|██████████| 373/373 [00:09<00:00, 37.33it/s]\n",
      "Training Epoch 617: 100%|██████████| 373/373 [00:10<00:00, 37.29it/s]\n",
      "Training Epoch 618: 100%|██████████| 373/373 [00:09<00:00, 37.48it/s]\n",
      "Training Epoch 619: 100%|██████████| 373/373 [00:10<00:00, 37.09it/s]\n",
      "Training Epoch 620: 100%|██████████| 373/373 [00:09<00:00, 37.33it/s]\n",
      "Training Epoch 621: 100%|██████████| 373/373 [00:10<00:00, 37.22it/s]\n"
     ]
    },
    {
     "name": "stdout",
     "output_type": "stream",
     "text": [
      "Epoch 620 - Train Loss: 0.6305, Train MSE: 0.6312, Train MAE: 0.5721\n",
      "Epoch 620 - Validation Loss: 1.2565, Validation MSE: 1.2584, Validation MAE: 0.7792\n"
     ]
    },
    {
     "name": "stderr",
     "output_type": "stream",
     "text": [
      "Training Epoch 622: 100%|██████████| 373/373 [00:10<00:00, 37.27it/s]\n",
      "Training Epoch 623: 100%|██████████| 373/373 [00:09<00:00, 37.40it/s]\n",
      "Training Epoch 624: 100%|██████████| 373/373 [00:10<00:00, 37.21it/s]\n",
      "Training Epoch 625: 100%|██████████| 373/373 [00:10<00:00, 37.28it/s]\n",
      "Training Epoch 626: 100%|██████████| 373/373 [00:10<00:00, 37.14it/s]\n",
      "Training Epoch 627: 100%|██████████| 373/373 [00:09<00:00, 37.36it/s]\n",
      "Training Epoch 628: 100%|██████████| 373/373 [00:10<00:00, 37.15it/s]\n",
      "Training Epoch 629: 100%|██████████| 373/373 [00:10<00:00, 37.11it/s]\n",
      "Training Epoch 630: 100%|██████████| 373/373 [00:10<00:00, 37.11it/s]\n",
      "Training Epoch 631: 100%|██████████| 373/373 [00:10<00:00, 36.93it/s]\n"
     ]
    },
    {
     "name": "stdout",
     "output_type": "stream",
     "text": [
      "Epoch 630 - Train Loss: 0.6367, Train MSE: 0.6377, Train MAE: 0.5747\n",
      "Epoch 630 - Validation Loss: 1.2238, Validation MSE: 1.2253, Validation MAE: 0.7769\n"
     ]
    },
    {
     "name": "stderr",
     "output_type": "stream",
     "text": [
      "Training Epoch 632: 100%|██████████| 373/373 [00:10<00:00, 37.21it/s]\n",
      "Training Epoch 633: 100%|██████████| 373/373 [00:10<00:00, 36.98it/s]\n",
      "Training Epoch 634: 100%|██████████| 373/373 [00:10<00:00, 37.19it/s]\n",
      "Training Epoch 635: 100%|██████████| 373/373 [00:10<00:00, 37.12it/s]\n",
      "Training Epoch 636: 100%|██████████| 373/373 [00:10<00:00, 37.09it/s]\n",
      "Training Epoch 637: 100%|██████████| 373/373 [00:10<00:00, 37.05it/s]\n",
      "Training Epoch 638: 100%|██████████| 373/373 [00:10<00:00, 37.07it/s]\n",
      "Training Epoch 639: 100%|██████████| 373/373 [00:10<00:00, 36.93it/s]\n",
      "Training Epoch 640: 100%|██████████| 373/373 [00:10<00:00, 36.91it/s]\n",
      "Training Epoch 641: 100%|██████████| 373/373 [00:10<00:00, 37.05it/s]\n"
     ]
    },
    {
     "name": "stdout",
     "output_type": "stream",
     "text": [
      "Epoch 640 - Train Loss: 0.6464, Train MSE: 0.6395, Train MAE: 0.5772\n",
      "Epoch 640 - Validation Loss: 1.2118, Validation MSE: 1.2133, Validation MAE: 0.7880\n"
     ]
    },
    {
     "name": "stderr",
     "output_type": "stream",
     "text": [
      "Training Epoch 642: 100%|██████████| 373/373 [00:10<00:00, 36.95it/s]\n",
      "Training Epoch 643: 100%|██████████| 373/373 [00:10<00:00, 37.11it/s]\n",
      "Training Epoch 644: 100%|██████████| 373/373 [00:10<00:00, 37.13it/s]\n",
      "Training Epoch 645: 100%|██████████| 373/373 [00:10<00:00, 36.99it/s]\n",
      "Training Epoch 646: 100%|██████████| 373/373 [00:10<00:00, 37.00it/s]\n",
      "Training Epoch 647: 100%|██████████| 373/373 [00:10<00:00, 36.91it/s]\n",
      "Training Epoch 648: 100%|██████████| 373/373 [00:10<00:00, 36.98it/s]\n",
      "Training Epoch 649: 100%|██████████| 373/373 [00:10<00:00, 36.86it/s]\n",
      "Training Epoch 650: 100%|██████████| 373/373 [00:10<00:00, 36.78it/s]\n",
      "Training Epoch 651: 100%|██████████| 373/373 [00:10<00:00, 37.06it/s]\n"
     ]
    },
    {
     "name": "stdout",
     "output_type": "stream",
     "text": [
      "Epoch 650 - Train Loss: 0.6305, Train MSE: 0.6317, Train MAE: 0.5731\n",
      "Epoch 650 - Validation Loss: 1.3005, Validation MSE: 1.3026, Validation MAE: 0.7983\n"
     ]
    },
    {
     "name": "stderr",
     "output_type": "stream",
     "text": [
      "Training Epoch 652: 100%|██████████| 373/373 [00:10<00:00, 37.07it/s]\n",
      "Training Epoch 653: 100%|██████████| 373/373 [00:10<00:00, 34.90it/s]\n",
      "Training Epoch 654: 100%|██████████| 373/373 [00:10<00:00, 36.76it/s]\n",
      "Training Epoch 655: 100%|██████████| 373/373 [00:10<00:00, 36.55it/s]\n",
      "Training Epoch 656: 100%|██████████| 373/373 [00:10<00:00, 36.65it/s]\n",
      "Training Epoch 657: 100%|██████████| 373/373 [00:10<00:00, 36.46it/s]\n",
      "Training Epoch 658: 100%|██████████| 373/373 [00:10<00:00, 36.54it/s]\n",
      "Training Epoch 659: 100%|██████████| 373/373 [00:10<00:00, 36.79it/s]\n",
      "Training Epoch 660: 100%|██████████| 373/373 [00:10<00:00, 36.71it/s]\n",
      "Training Epoch 661: 100%|██████████| 373/373 [00:10<00:00, 36.79it/s]\n"
     ]
    },
    {
     "name": "stdout",
     "output_type": "stream",
     "text": [
      "Epoch 660 - Train Loss: 0.6172, Train MSE: 0.6179, Train MAE: 0.5659\n",
      "Epoch 660 - Validation Loss: 1.2364, Validation MSE: 1.2381, Validation MAE: 0.7733\n"
     ]
    },
    {
     "name": "stderr",
     "output_type": "stream",
     "text": [
      "Training Epoch 662: 100%|██████████| 373/373 [00:10<00:00, 36.86it/s]\n",
      "Training Epoch 663: 100%|██████████| 373/373 [00:10<00:00, 36.72it/s]\n",
      "Training Epoch 664: 100%|██████████| 373/373 [00:10<00:00, 36.54it/s]\n",
      "Training Epoch 665: 100%|██████████| 373/373 [00:10<00:00, 36.94it/s]\n",
      "Training Epoch 666: 100%|██████████| 373/373 [00:10<00:00, 36.79it/s]\n",
      "Training Epoch 667: 100%|██████████| 373/373 [00:10<00:00, 36.75it/s]\n",
      "Training Epoch 668: 100%|██████████| 373/373 [00:10<00:00, 36.87it/s]\n",
      "Training Epoch 669: 100%|██████████| 373/373 [00:10<00:00, 36.88it/s]\n",
      "Training Epoch 670: 100%|██████████| 373/373 [00:10<00:00, 36.89it/s]\n",
      "Training Epoch 671: 100%|██████████| 373/373 [00:10<00:00, 36.76it/s]\n"
     ]
    },
    {
     "name": "stdout",
     "output_type": "stream",
     "text": [
      "Epoch 670 - Train Loss: 0.6215, Train MSE: 0.6213, Train MAE: 0.5702\n",
      "Epoch 670 - Validation Loss: 1.2167, Validation MSE: 1.2185, Validation MAE: 0.7707\n"
     ]
    },
    {
     "name": "stderr",
     "output_type": "stream",
     "text": [
      "Training Epoch 672: 100%|██████████| 373/373 [00:10<00:00, 36.59it/s]\n",
      "Training Epoch 673: 100%|██████████| 373/373 [00:10<00:00, 36.87it/s]\n",
      "Training Epoch 674: 100%|██████████| 373/373 [00:10<00:00, 36.94it/s]\n",
      "Training Epoch 675: 100%|██████████| 373/373 [00:10<00:00, 36.85it/s]\n",
      "Training Epoch 676: 100%|██████████| 373/373 [00:10<00:00, 36.77it/s]\n",
      "Training Epoch 677: 100%|██████████| 373/373 [00:10<00:00, 36.86it/s]\n",
      "Training Epoch 678: 100%|██████████| 373/373 [00:10<00:00, 36.46it/s]\n",
      "Training Epoch 679: 100%|██████████| 373/373 [00:10<00:00, 36.80it/s]\n",
      "Training Epoch 680: 100%|██████████| 373/373 [00:10<00:00, 36.91it/s]\n",
      "Training Epoch 681: 100%|██████████| 373/373 [00:10<00:00, 36.86it/s]\n"
     ]
    },
    {
     "name": "stdout",
     "output_type": "stream",
     "text": [
      "Epoch 680 - Train Loss: 0.6300, Train MSE: 0.6312, Train MAE: 0.5704\n",
      "Epoch 680 - Validation Loss: 1.2452, Validation MSE: 1.2472, Validation MAE: 0.7751\n"
     ]
    },
    {
     "name": "stderr",
     "output_type": "stream",
     "text": [
      "Training Epoch 682: 100%|██████████| 373/373 [00:10<00:00, 36.94it/s]\n",
      "Training Epoch 683: 100%|██████████| 373/373 [00:10<00:00, 36.93it/s]\n",
      "Training Epoch 684: 100%|██████████| 373/373 [00:10<00:00, 36.86it/s]\n",
      "Training Epoch 685: 100%|██████████| 373/373 [00:10<00:00, 36.88it/s]\n",
      "Training Epoch 686: 100%|██████████| 373/373 [00:10<00:00, 36.86it/s]\n",
      "Training Epoch 687: 100%|██████████| 373/373 [00:10<00:00, 36.93it/s]\n",
      "Training Epoch 688: 100%|██████████| 373/373 [00:10<00:00, 36.90it/s]\n",
      "Training Epoch 689: 100%|██████████| 373/373 [00:10<00:00, 36.76it/s]\n",
      "Training Epoch 690: 100%|██████████| 373/373 [00:10<00:00, 36.94it/s]\n",
      "Training Epoch 691: 100%|██████████| 373/373 [00:10<00:00, 36.78it/s]\n"
     ]
    },
    {
     "name": "stdout",
     "output_type": "stream",
     "text": [
      "Epoch 690 - Train Loss: 0.6137, Train MSE: 0.6149, Train MAE: 0.5664\n",
      "Epoch 690 - Validation Loss: 1.2705, Validation MSE: 1.2724, Validation MAE: 0.7939\n"
     ]
    },
    {
     "name": "stderr",
     "output_type": "stream",
     "text": [
      "Training Epoch 692: 100%|██████████| 373/373 [00:10<00:00, 36.93it/s]\n",
      "Training Epoch 693: 100%|██████████| 373/373 [00:10<00:00, 37.00it/s]\n",
      "Training Epoch 694: 100%|██████████| 373/373 [00:10<00:00, 36.88it/s]\n",
      "Training Epoch 695: 100%|██████████| 373/373 [00:10<00:00, 36.82it/s]\n",
      "Training Epoch 696: 100%|██████████| 373/373 [00:10<00:00, 36.83it/s]\n",
      "Training Epoch 697: 100%|██████████| 373/373 [00:10<00:00, 36.82it/s]\n",
      "Training Epoch 698: 100%|██████████| 373/373 [00:10<00:00, 36.85it/s]\n",
      "Training Epoch 699: 100%|██████████| 373/373 [00:10<00:00, 36.87it/s]\n",
      "Training Epoch 700: 100%|██████████| 373/373 [00:10<00:00, 36.61it/s]\n",
      "Training Epoch 701: 100%|██████████| 373/373 [00:10<00:00, 36.92it/s]\n"
     ]
    },
    {
     "name": "stdout",
     "output_type": "stream",
     "text": [
      "Epoch 700 - Train Loss: 0.6093, Train MSE: 0.6104, Train MAE: 0.5621\n",
      "Epoch 700 - Validation Loss: 1.2126, Validation MSE: 1.2143, Validation MAE: 0.7682\n"
     ]
    },
    {
     "name": "stderr",
     "output_type": "stream",
     "text": [
      "Training Epoch 702: 100%|██████████| 373/373 [00:10<00:00, 36.76it/s]\n",
      "Training Epoch 703: 100%|██████████| 373/373 [00:10<00:00, 36.69it/s]\n",
      "Training Epoch 704: 100%|██████████| 373/373 [00:10<00:00, 36.87it/s]\n",
      "Training Epoch 705: 100%|██████████| 373/373 [00:10<00:00, 36.71it/s]\n",
      "Training Epoch 706: 100%|██████████| 373/373 [00:10<00:00, 36.94it/s]\n",
      "Training Epoch 707: 100%|██████████| 373/373 [00:10<00:00, 36.88it/s]\n",
      "Training Epoch 708: 100%|██████████| 373/373 [00:10<00:00, 36.93it/s]\n",
      "Training Epoch 709: 100%|██████████| 373/373 [00:10<00:00, 36.64it/s]\n",
      "Training Epoch 710: 100%|██████████| 373/373 [00:10<00:00, 36.59it/s]\n",
      "Training Epoch 711: 100%|██████████| 373/373 [00:10<00:00, 36.83it/s]\n"
     ]
    },
    {
     "name": "stdout",
     "output_type": "stream",
     "text": [
      "Epoch 710 - Train Loss: 0.6114, Train MSE: 0.6122, Train MAE: 0.5616\n",
      "Epoch 710 - Validation Loss: 1.2321, Validation MSE: 1.2336, Validation MAE: 0.7851\n"
     ]
    },
    {
     "name": "stderr",
     "output_type": "stream",
     "text": [
      "Training Epoch 712: 100%|██████████| 373/373 [00:10<00:00, 36.75it/s]\n",
      "Training Epoch 713: 100%|██████████| 373/373 [00:10<00:00, 36.67it/s]\n",
      "Training Epoch 714: 100%|██████████| 373/373 [00:10<00:00, 36.83it/s]\n",
      "Training Epoch 715: 100%|██████████| 373/373 [00:10<00:00, 36.94it/s]\n",
      "Training Epoch 716: 100%|██████████| 373/373 [00:10<00:00, 36.76it/s]\n",
      "Training Epoch 717: 100%|██████████| 373/373 [00:10<00:00, 36.58it/s]\n",
      "Training Epoch 718: 100%|██████████| 373/373 [00:10<00:00, 36.63it/s]\n",
      "Training Epoch 719: 100%|██████████| 373/373 [00:10<00:00, 36.72it/s]\n",
      "Training Epoch 720: 100%|██████████| 373/373 [00:10<00:00, 37.03it/s]\n",
      "Training Epoch 721: 100%|██████████| 373/373 [00:10<00:00, 36.87it/s]\n"
     ]
    },
    {
     "name": "stdout",
     "output_type": "stream",
     "text": [
      "Epoch 720 - Train Loss: 0.6271, Train MSE: 0.6285, Train MAE: 0.5713\n",
      "Epoch 720 - Validation Loss: 1.2414, Validation MSE: 1.2434, Validation MAE: 0.7747\n"
     ]
    },
    {
     "name": "stderr",
     "output_type": "stream",
     "text": [
      "Training Epoch 722: 100%|██████████| 373/373 [00:10<00:00, 37.10it/s]\n",
      "Training Epoch 723: 100%|██████████| 373/373 [00:10<00:00, 36.96it/s]\n",
      "Training Epoch 724: 100%|██████████| 373/373 [00:10<00:00, 36.96it/s]\n",
      "Training Epoch 725: 100%|██████████| 373/373 [00:10<00:00, 37.15it/s]\n",
      "Training Epoch 726: 100%|██████████| 373/373 [00:10<00:00, 36.94it/s]\n",
      "Training Epoch 727: 100%|██████████| 373/373 [00:10<00:00, 36.82it/s]\n",
      "Training Epoch 728: 100%|██████████| 373/373 [00:10<00:00, 36.94it/s]\n",
      "Training Epoch 729: 100%|██████████| 373/373 [00:10<00:00, 36.98it/s]\n",
      "Training Epoch 730: 100%|██████████| 373/373 [00:10<00:00, 36.92it/s]\n",
      "Training Epoch 731: 100%|██████████| 373/373 [00:10<00:00, 36.85it/s]\n"
     ]
    },
    {
     "name": "stdout",
     "output_type": "stream",
     "text": [
      "Epoch 730 - Train Loss: 0.6224, Train MSE: 0.6238, Train MAE: 0.5680\n",
      "Epoch 730 - Validation Loss: 1.2337, Validation MSE: 1.2353, Validation MAE: 0.7832\n"
     ]
    },
    {
     "name": "stderr",
     "output_type": "stream",
     "text": [
      "Training Epoch 732: 100%|██████████| 373/373 [00:10<00:00, 36.92it/s]\n",
      "Training Epoch 733: 100%|██████████| 373/373 [00:10<00:00, 36.95it/s]\n",
      "Training Epoch 734: 100%|██████████| 373/373 [00:10<00:00, 36.76it/s]\n",
      "Training Epoch 735: 100%|██████████| 373/373 [00:10<00:00, 36.73it/s]\n",
      "Training Epoch 736: 100%|██████████| 373/373 [00:10<00:00, 36.62it/s]\n",
      "Training Epoch 737: 100%|██████████| 373/373 [00:10<00:00, 36.56it/s]\n",
      "Training Epoch 738: 100%|██████████| 373/373 [00:10<00:00, 36.81it/s]\n",
      "Training Epoch 739: 100%|██████████| 373/373 [00:10<00:00, 36.57it/s]\n",
      "Training Epoch 740: 100%|██████████| 373/373 [00:10<00:00, 36.53it/s]\n",
      "Training Epoch 741: 100%|██████████| 373/373 [00:10<00:00, 36.56it/s]\n"
     ]
    },
    {
     "name": "stdout",
     "output_type": "stream",
     "text": [
      "Epoch 740 - Train Loss: 0.6192, Train MSE: 0.6200, Train MAE: 0.5681\n",
      "Epoch 740 - Validation Loss: 1.2358, Validation MSE: 1.2375, Validation MAE: 0.7730\n"
     ]
    },
    {
     "name": "stderr",
     "output_type": "stream",
     "text": [
      "Training Epoch 742: 100%|██████████| 373/373 [00:10<00:00, 36.61it/s]\n",
      "Training Epoch 743: 100%|██████████| 373/373 [00:10<00:00, 36.79it/s]\n",
      "Training Epoch 744: 100%|██████████| 373/373 [00:10<00:00, 36.64it/s]\n",
      "Training Epoch 745: 100%|██████████| 373/373 [00:10<00:00, 36.53it/s]\n",
      "Training Epoch 746: 100%|██████████| 373/373 [00:10<00:00, 36.68it/s]\n",
      "Training Epoch 747: 100%|██████████| 373/373 [00:10<00:00, 36.71it/s]\n",
      "Training Epoch 748: 100%|██████████| 373/373 [00:10<00:00, 36.48it/s]\n",
      "Training Epoch 749: 100%|██████████| 373/373 [00:10<00:00, 36.65it/s]\n",
      "Training Epoch 750: 100%|██████████| 373/373 [00:10<00:00, 36.46it/s]\n",
      "Training Epoch 751: 100%|██████████| 373/373 [00:10<00:00, 36.51it/s]\n"
     ]
    },
    {
     "name": "stdout",
     "output_type": "stream",
     "text": [
      "Epoch 750 - Train Loss: 0.6215, Train MSE: 0.6198, Train MAE: 0.5652\n",
      "Epoch 750 - Validation Loss: 1.2284, Validation MSE: 1.2301, Validation MAE: 0.7781\n"
     ]
    },
    {
     "name": "stderr",
     "output_type": "stream",
     "text": [
      "Training Epoch 752: 100%|██████████| 373/373 [00:10<00:00, 36.96it/s]\n",
      "Training Epoch 753: 100%|██████████| 373/373 [00:10<00:00, 36.68it/s]\n",
      "Training Epoch 754: 100%|██████████| 373/373 [00:10<00:00, 36.85it/s]\n",
      "Training Epoch 755: 100%|██████████| 373/373 [00:10<00:00, 36.72it/s]\n",
      "Training Epoch 756: 100%|██████████| 373/373 [00:10<00:00, 36.77it/s]\n",
      "Training Epoch 757: 100%|██████████| 373/373 [00:10<00:00, 36.82it/s]\n",
      "Training Epoch 758: 100%|██████████| 373/373 [00:10<00:00, 36.52it/s]\n",
      "Training Epoch 759: 100%|██████████| 373/373 [00:10<00:00, 36.55it/s]\n",
      "Training Epoch 760: 100%|██████████| 373/373 [00:10<00:00, 36.69it/s]\n",
      "Training Epoch 761: 100%|██████████| 373/373 [00:10<00:00, 36.84it/s]\n"
     ]
    },
    {
     "name": "stdout",
     "output_type": "stream",
     "text": [
      "Epoch 760 - Train Loss: 0.6249, Train MSE: 0.6260, Train MAE: 0.5692\n",
      "Epoch 760 - Validation Loss: 1.2380, Validation MSE: 1.2398, Validation MAE: 0.7733\n"
     ]
    },
    {
     "name": "stderr",
     "output_type": "stream",
     "text": [
      "Training Epoch 762: 100%|██████████| 373/373 [00:10<00:00, 36.59it/s]\n",
      "Training Epoch 763: 100%|██████████| 373/373 [00:10<00:00, 36.73it/s]\n",
      "Training Epoch 764: 100%|██████████| 373/373 [00:10<00:00, 36.76it/s]\n",
      "Training Epoch 765: 100%|██████████| 373/373 [00:10<00:00, 36.90it/s]\n",
      "Training Epoch 766: 100%|██████████| 373/373 [00:10<00:00, 36.64it/s]\n",
      "Training Epoch 767: 100%|██████████| 373/373 [00:10<00:00, 36.80it/s]\n",
      "Training Epoch 768: 100%|██████████| 373/373 [00:10<00:00, 36.71it/s]\n",
      "Training Epoch 769: 100%|██████████| 373/373 [00:10<00:00, 36.61it/s]\n",
      "Training Epoch 770: 100%|██████████| 373/373 [00:10<00:00, 36.79it/s]\n",
      "Training Epoch 771: 100%|██████████| 373/373 [00:10<00:00, 36.64it/s]\n"
     ]
    },
    {
     "name": "stdout",
     "output_type": "stream",
     "text": [
      "Epoch 770 - Train Loss: 0.6171, Train MSE: 0.6085, Train MAE: 0.5640\n",
      "Epoch 770 - Validation Loss: 1.2293, Validation MSE: 1.2309, Validation MAE: 0.7715\n"
     ]
    },
    {
     "name": "stderr",
     "output_type": "stream",
     "text": [
      "Training Epoch 772: 100%|██████████| 373/373 [00:10<00:00, 36.74it/s]\n",
      "Training Epoch 773: 100%|██████████| 373/373 [00:10<00:00, 36.59it/s]\n",
      "Training Epoch 774: 100%|██████████| 373/373 [00:10<00:00, 36.73it/s]\n",
      "Training Epoch 775: 100%|██████████| 373/373 [00:10<00:00, 36.61it/s]\n",
      "Training Epoch 776: 100%|██████████| 373/373 [00:10<00:00, 36.62it/s]\n",
      "Training Epoch 777: 100%|██████████| 373/373 [00:10<00:00, 36.90it/s]\n",
      "Training Epoch 778: 100%|██████████| 373/373 [00:10<00:00, 36.65it/s]\n",
      "Training Epoch 779: 100%|██████████| 373/373 [00:10<00:00, 36.65it/s]\n",
      "Training Epoch 780: 100%|██████████| 373/373 [00:10<00:00, 36.72it/s]\n",
      "Training Epoch 781: 100%|██████████| 373/373 [00:10<00:00, 36.71it/s]\n"
     ]
    },
    {
     "name": "stdout",
     "output_type": "stream",
     "text": [
      "Epoch 780 - Train Loss: 0.6189, Train MSE: 0.6182, Train MAE: 0.5654\n",
      "Epoch 780 - Validation Loss: 1.2122, Validation MSE: 1.2140, Validation MAE: 0.7698\n"
     ]
    },
    {
     "name": "stderr",
     "output_type": "stream",
     "text": [
      "Training Epoch 782: 100%|██████████| 373/373 [00:10<00:00, 36.52it/s]\n",
      "Training Epoch 783: 100%|██████████| 373/373 [00:10<00:00, 36.64it/s]\n",
      "Training Epoch 784: 100%|██████████| 373/373 [00:10<00:00, 36.56it/s]\n",
      "Training Epoch 785: 100%|██████████| 373/373 [00:10<00:00, 36.66it/s]\n",
      "Training Epoch 786: 100%|██████████| 373/373 [00:10<00:00, 36.41it/s]\n",
      "Training Epoch 787: 100%|██████████| 373/373 [00:10<00:00, 36.57it/s]\n",
      "Training Epoch 788: 100%|██████████| 373/373 [00:10<00:00, 36.69it/s]\n",
      "Training Epoch 789: 100%|██████████| 373/373 [00:10<00:00, 36.65it/s]\n",
      "Training Epoch 790: 100%|██████████| 373/373 [00:10<00:00, 36.65it/s]\n",
      "Training Epoch 791: 100%|██████████| 373/373 [00:10<00:00, 36.52it/s]\n"
     ]
    },
    {
     "name": "stdout",
     "output_type": "stream",
     "text": [
      "Epoch 790 - Train Loss: 0.6108, Train MSE: 0.6115, Train MAE: 0.5591\n",
      "Epoch 790 - Validation Loss: 1.2414, Validation MSE: 1.2428, Validation MAE: 0.7894\n"
     ]
    },
    {
     "name": "stderr",
     "output_type": "stream",
     "text": [
      "Training Epoch 792: 100%|██████████| 373/373 [00:10<00:00, 36.77it/s]\n",
      "Training Epoch 793: 100%|██████████| 373/373 [00:10<00:00, 36.68it/s]\n",
      "Training Epoch 794: 100%|██████████| 373/373 [00:10<00:00, 36.77it/s]\n",
      "Training Epoch 795: 100%|██████████| 373/373 [00:10<00:00, 36.60it/s]\n",
      "Training Epoch 796: 100%|██████████| 373/373 [00:10<00:00, 36.60it/s]\n",
      "Training Epoch 797: 100%|██████████| 373/373 [00:10<00:00, 36.64it/s]\n",
      "Training Epoch 798: 100%|██████████| 373/373 [00:10<00:00, 36.69it/s]\n",
      "Training Epoch 799: 100%|██████████| 373/373 [00:10<00:00, 36.52it/s]\n",
      "Training Epoch 800: 100%|██████████| 373/373 [00:10<00:00, 36.61it/s]\n",
      "Training Epoch 801: 100%|██████████| 373/373 [00:10<00:00, 36.70it/s]\n"
     ]
    },
    {
     "name": "stdout",
     "output_type": "stream",
     "text": [
      "Epoch 800 - Train Loss: 0.6023, Train MSE: 0.6031, Train MAE: 0.5568\n",
      "Epoch 800 - Validation Loss: 1.2221, Validation MSE: 1.2236, Validation MAE: 0.7643\n"
     ]
    },
    {
     "name": "stderr",
     "output_type": "stream",
     "text": [
      "Training Epoch 802: 100%|██████████| 373/373 [00:10<00:00, 36.78it/s]\n",
      "Training Epoch 803: 100%|██████████| 373/373 [00:10<00:00, 36.95it/s]\n",
      "Training Epoch 804: 100%|██████████| 373/373 [00:10<00:00, 36.66it/s]\n",
      "Training Epoch 805: 100%|██████████| 373/373 [00:10<00:00, 36.60it/s]\n",
      "Training Epoch 806: 100%|██████████| 373/373 [00:10<00:00, 36.75it/s]\n",
      "Training Epoch 807: 100%|██████████| 373/373 [00:10<00:00, 36.72it/s]\n",
      "Training Epoch 808: 100%|██████████| 373/373 [00:10<00:00, 36.58it/s]\n",
      "Training Epoch 809: 100%|██████████| 373/373 [00:10<00:00, 36.56it/s]\n",
      "Training Epoch 810: 100%|██████████| 373/373 [00:10<00:00, 36.57it/s]\n",
      "Training Epoch 811: 100%|██████████| 373/373 [00:10<00:00, 36.60it/s]\n"
     ]
    },
    {
     "name": "stdout",
     "output_type": "stream",
     "text": [
      "Epoch 810 - Train Loss: 0.6032, Train MSE: 0.6045, Train MAE: 0.5582\n",
      "Epoch 810 - Validation Loss: 1.2306, Validation MSE: 1.2320, Validation MAE: 0.7724\n"
     ]
    },
    {
     "name": "stderr",
     "output_type": "stream",
     "text": [
      "Training Epoch 812: 100%|██████████| 373/373 [00:10<00:00, 36.70it/s]\n",
      "Training Epoch 813: 100%|██████████| 373/373 [00:10<00:00, 36.67it/s]\n",
      "Training Epoch 814: 100%|██████████| 373/373 [00:10<00:00, 36.69it/s]\n",
      "Training Epoch 815: 100%|██████████| 373/373 [00:10<00:00, 36.53it/s]\n",
      "Training Epoch 816: 100%|██████████| 373/373 [00:10<00:00, 36.70it/s]\n",
      "Training Epoch 817: 100%|██████████| 373/373 [00:10<00:00, 36.72it/s]\n",
      "Training Epoch 818: 100%|██████████| 373/373 [00:10<00:00, 36.69it/s]\n",
      "Training Epoch 819: 100%|██████████| 373/373 [00:10<00:00, 36.69it/s]\n",
      "Training Epoch 820: 100%|██████████| 373/373 [00:10<00:00, 36.49it/s]\n",
      "Training Epoch 821: 100%|██████████| 373/373 [00:10<00:00, 36.90it/s]\n"
     ]
    },
    {
     "name": "stdout",
     "output_type": "stream",
     "text": [
      "Epoch 820 - Train Loss: 0.6018, Train MSE: 0.5937, Train MAE: 0.5534\n",
      "Epoch 820 - Validation Loss: 1.2239, Validation MSE: 1.2254, Validation MAE: 0.7843\n"
     ]
    },
    {
     "name": "stderr",
     "output_type": "stream",
     "text": [
      "Training Epoch 822: 100%|██████████| 373/373 [00:10<00:00, 36.69it/s]\n",
      "Training Epoch 823: 100%|██████████| 373/373 [00:10<00:00, 36.72it/s]\n",
      "Training Epoch 824: 100%|██████████| 373/373 [00:10<00:00, 36.71it/s]\n",
      "Training Epoch 825: 100%|██████████| 373/373 [00:10<00:00, 36.86it/s]\n",
      "Training Epoch 826: 100%|██████████| 373/373 [00:10<00:00, 36.68it/s]\n",
      "Training Epoch 827: 100%|██████████| 373/373 [00:10<00:00, 36.64it/s]\n",
      "Training Epoch 828: 100%|██████████| 373/373 [00:10<00:00, 36.82it/s]\n",
      "Training Epoch 829: 100%|██████████| 373/373 [00:10<00:00, 36.64it/s]\n",
      "Training Epoch 830: 100%|██████████| 373/373 [00:10<00:00, 36.69it/s]\n",
      "Training Epoch 831: 100%|██████████| 373/373 [00:10<00:00, 36.47it/s]\n"
     ]
    },
    {
     "name": "stdout",
     "output_type": "stream",
     "text": [
      "Epoch 830 - Train Loss: 0.6046, Train MSE: 0.6052, Train MAE: 0.5573\n",
      "Epoch 830 - Validation Loss: 1.2192, Validation MSE: 1.2206, Validation MAE: 0.7889\n"
     ]
    },
    {
     "name": "stderr",
     "output_type": "stream",
     "text": [
      "Training Epoch 832: 100%|██████████| 373/373 [00:10<00:00, 36.60it/s]\n",
      "Training Epoch 833: 100%|██████████| 373/373 [00:10<00:00, 36.53it/s]\n",
      "Training Epoch 834: 100%|██████████| 373/373 [00:10<00:00, 36.67it/s]\n",
      "Training Epoch 835: 100%|██████████| 373/373 [00:10<00:00, 36.73it/s]\n",
      "Training Epoch 836: 100%|██████████| 373/373 [00:10<00:00, 36.32it/s]\n",
      "Training Epoch 837: 100%|██████████| 373/373 [00:10<00:00, 36.52it/s]\n",
      "Training Epoch 838: 100%|██████████| 373/373 [00:10<00:00, 36.53it/s]\n",
      "Training Epoch 839: 100%|██████████| 373/373 [00:10<00:00, 36.75it/s]\n",
      "Training Epoch 840: 100%|██████████| 373/373 [00:10<00:00, 36.80it/s]\n",
      "Training Epoch 841: 100%|██████████| 373/373 [00:10<00:00, 36.53it/s]\n"
     ]
    },
    {
     "name": "stdout",
     "output_type": "stream",
     "text": [
      "Epoch 840 - Train Loss: 0.5961, Train MSE: 0.5972, Train MAE: 0.5564\n",
      "Epoch 840 - Validation Loss: 1.2222, Validation MSE: 1.2239, Validation MAE: 0.7732\n"
     ]
    },
    {
     "name": "stderr",
     "output_type": "stream",
     "text": [
      "Training Epoch 842: 100%|██████████| 373/373 [00:10<00:00, 36.68it/s]\n",
      "Training Epoch 843: 100%|██████████| 373/373 [00:10<00:00, 36.68it/s]\n",
      "Training Epoch 844: 100%|██████████| 373/373 [00:10<00:00, 36.72it/s]\n",
      "Training Epoch 845: 100%|██████████| 373/373 [00:10<00:00, 36.42it/s]\n",
      "Training Epoch 846: 100%|██████████| 373/373 [00:10<00:00, 36.60it/s]\n",
      "Training Epoch 847: 100%|██████████| 373/373 [00:10<00:00, 36.54it/s]\n",
      "Training Epoch 848: 100%|██████████| 373/373 [00:10<00:00, 36.53it/s]\n",
      "Training Epoch 849: 100%|██████████| 373/373 [00:10<00:00, 36.71it/s]\n",
      "Training Epoch 850: 100%|██████████| 373/373 [00:10<00:00, 36.64it/s]\n",
      "Training Epoch 851: 100%|██████████| 373/373 [00:10<00:00, 36.62it/s]\n"
     ]
    },
    {
     "name": "stdout",
     "output_type": "stream",
     "text": [
      "Epoch 850 - Train Loss: 0.5912, Train MSE: 0.5922, Train MAE: 0.5506\n",
      "Epoch 850 - Validation Loss: 1.2353, Validation MSE: 1.2369, Validation MAE: 0.7783\n"
     ]
    },
    {
     "name": "stderr",
     "output_type": "stream",
     "text": [
      "Training Epoch 852: 100%|██████████| 373/373 [00:10<00:00, 36.53it/s]\n",
      "Training Epoch 853: 100%|██████████| 373/373 [00:10<00:00, 36.81it/s]\n",
      "Training Epoch 854: 100%|██████████| 373/373 [00:10<00:00, 36.73it/s]\n",
      "Training Epoch 855: 100%|██████████| 373/373 [00:10<00:00, 36.56it/s]\n",
      "Training Epoch 856: 100%|██████████| 373/373 [00:10<00:00, 36.59it/s]\n",
      "Training Epoch 857: 100%|██████████| 373/373 [00:10<00:00, 36.60it/s]\n",
      "Training Epoch 858: 100%|██████████| 373/373 [00:10<00:00, 36.68it/s]\n",
      "Training Epoch 859: 100%|██████████| 373/373 [00:10<00:00, 36.63it/s]\n",
      "Training Epoch 860: 100%|██████████| 373/373 [00:10<00:00, 36.58it/s]\n",
      "Training Epoch 861: 100%|██████████| 373/373 [00:10<00:00, 36.54it/s]\n"
     ]
    },
    {
     "name": "stdout",
     "output_type": "stream",
     "text": [
      "Epoch 860 - Train Loss: 0.6021, Train MSE: 0.6018, Train MAE: 0.5567\n",
      "Epoch 860 - Validation Loss: 1.2907, Validation MSE: 1.2925, Validation MAE: 0.7931\n"
     ]
    },
    {
     "name": "stderr",
     "output_type": "stream",
     "text": [
      "Training Epoch 862: 100%|██████████| 373/373 [00:10<00:00, 36.57it/s]\n",
      "Training Epoch 863: 100%|██████████| 373/373 [00:10<00:00, 36.84it/s]\n",
      "Training Epoch 864: 100%|██████████| 373/373 [00:10<00:00, 36.72it/s]\n",
      "Training Epoch 865: 100%|██████████| 373/373 [00:10<00:00, 36.62it/s]\n",
      "Training Epoch 866: 100%|██████████| 373/373 [00:10<00:00, 36.64it/s]\n",
      "Training Epoch 867: 100%|██████████| 373/373 [00:10<00:00, 36.71it/s]\n",
      "Training Epoch 868: 100%|██████████| 373/373 [00:10<00:00, 36.72it/s]\n",
      "Training Epoch 869: 100%|██████████| 373/373 [00:10<00:00, 36.65it/s]\n",
      "Training Epoch 870: 100%|██████████| 373/373 [00:10<00:00, 36.60it/s]\n",
      "Training Epoch 871: 100%|██████████| 373/373 [00:10<00:00, 36.57it/s]\n"
     ]
    },
    {
     "name": "stdout",
     "output_type": "stream",
     "text": [
      "Epoch 870 - Train Loss: 0.5984, Train MSE: 0.5998, Train MAE: 0.5549\n",
      "Epoch 870 - Validation Loss: 1.2207, Validation MSE: 1.2222, Validation MAE: 0.7729\n"
     ]
    },
    {
     "name": "stderr",
     "output_type": "stream",
     "text": [
      "Training Epoch 872: 100%|██████████| 373/373 [00:10<00:00, 36.77it/s]\n",
      "Training Epoch 873: 100%|██████████| 373/373 [00:10<00:00, 36.55it/s]\n",
      "Training Epoch 874: 100%|██████████| 373/373 [00:10<00:00, 36.62it/s]\n",
      "Training Epoch 875: 100%|██████████| 373/373 [00:10<00:00, 36.69it/s]\n",
      "Training Epoch 876: 100%|██████████| 373/373 [00:10<00:00, 36.82it/s]\n",
      "Training Epoch 877: 100%|██████████| 373/373 [00:10<00:00, 36.77it/s]\n",
      "Training Epoch 878: 100%|██████████| 373/373 [00:10<00:00, 36.42it/s]\n",
      "Training Epoch 879: 100%|██████████| 373/373 [00:10<00:00, 36.71it/s]\n",
      "Training Epoch 880: 100%|██████████| 373/373 [00:10<00:00, 36.65it/s]\n",
      "Training Epoch 881: 100%|██████████| 373/373 [00:10<00:00, 36.83it/s]\n"
     ]
    },
    {
     "name": "stdout",
     "output_type": "stream",
     "text": [
      "Epoch 880 - Train Loss: 0.5925, Train MSE: 0.5938, Train MAE: 0.5507\n",
      "Epoch 880 - Validation Loss: 1.2283, Validation MSE: 1.2297, Validation MAE: 0.7899\n"
     ]
    },
    {
     "name": "stderr",
     "output_type": "stream",
     "text": [
      "Training Epoch 882: 100%|██████████| 373/373 [00:10<00:00, 36.71it/s]\n",
      "Training Epoch 883: 100%|██████████| 373/373 [00:10<00:00, 36.62it/s]\n",
      "Training Epoch 884: 100%|██████████| 373/373 [00:10<00:00, 36.67it/s]\n",
      "Training Epoch 885: 100%|██████████| 373/373 [00:10<00:00, 36.87it/s]\n",
      "Training Epoch 886: 100%|██████████| 373/373 [00:10<00:00, 36.83it/s]\n",
      "Training Epoch 887: 100%|██████████| 373/373 [00:10<00:00, 36.65it/s]\n",
      "Training Epoch 888: 100%|██████████| 373/373 [00:10<00:00, 36.67it/s]\n",
      "Training Epoch 889: 100%|██████████| 373/373 [00:10<00:00, 36.70it/s]\n",
      "Training Epoch 890: 100%|██████████| 373/373 [00:10<00:00, 36.92it/s]\n",
      "Training Epoch 891: 100%|██████████| 373/373 [00:10<00:00, 36.78it/s]\n"
     ]
    },
    {
     "name": "stdout",
     "output_type": "stream",
     "text": [
      "Epoch 890 - Train Loss: 0.5927, Train MSE: 0.5936, Train MAE: 0.5508\n",
      "Epoch 890 - Validation Loss: 1.2220, Validation MSE: 1.2236, Validation MAE: 0.7649\n"
     ]
    },
    {
     "name": "stderr",
     "output_type": "stream",
     "text": [
      "Training Epoch 892: 100%|██████████| 373/373 [00:10<00:00, 36.65it/s]\n",
      "Training Epoch 893: 100%|██████████| 373/373 [00:10<00:00, 36.51it/s]\n",
      "Training Epoch 894: 100%|██████████| 373/373 [00:10<00:00, 36.50it/s]\n",
      "Training Epoch 895: 100%|██████████| 373/373 [00:10<00:00, 36.73it/s]\n",
      "Training Epoch 896: 100%|██████████| 373/373 [00:10<00:00, 36.45it/s]\n",
      "Training Epoch 897: 100%|██████████| 373/373 [00:10<00:00, 36.66it/s]\n",
      "Training Epoch 898: 100%|██████████| 373/373 [00:10<00:00, 36.88it/s]\n",
      "Training Epoch 899: 100%|██████████| 373/373 [00:10<00:00, 36.79it/s]\n",
      "Training Epoch 900: 100%|██████████| 373/373 [00:10<00:00, 36.76it/s]\n",
      "Training Epoch 901: 100%|██████████| 373/373 [00:10<00:00, 36.64it/s]\n"
     ]
    },
    {
     "name": "stdout",
     "output_type": "stream",
     "text": [
      "Epoch 900 - Train Loss: 0.6125, Train MSE: 0.5972, Train MAE: 0.5510\n",
      "Epoch 900 - Validation Loss: 1.2279, Validation MSE: 1.2297, Validation MAE: 0.7744\n"
     ]
    },
    {
     "name": "stderr",
     "output_type": "stream",
     "text": [
      "Training Epoch 902: 100%|██████████| 373/373 [00:10<00:00, 36.64it/s]\n",
      "Training Epoch 903: 100%|██████████| 373/373 [00:10<00:00, 36.58it/s]\n",
      "Training Epoch 904: 100%|██████████| 373/373 [00:10<00:00, 36.60it/s]\n",
      "Training Epoch 905: 100%|██████████| 373/373 [00:10<00:00, 36.54it/s]\n",
      "Training Epoch 906: 100%|██████████| 373/373 [00:10<00:00, 36.68it/s]\n",
      "Training Epoch 907: 100%|██████████| 373/373 [00:10<00:00, 36.45it/s]\n",
      "Training Epoch 908: 100%|██████████| 373/373 [00:10<00:00, 36.51it/s]\n",
      "Training Epoch 909: 100%|██████████| 373/373 [00:10<00:00, 36.69it/s]\n",
      "Training Epoch 910: 100%|██████████| 373/373 [00:10<00:00, 36.61it/s]\n",
      "Training Epoch 911: 100%|██████████| 373/373 [00:10<00:00, 36.52it/s]\n"
     ]
    },
    {
     "name": "stdout",
     "output_type": "stream",
     "text": [
      "Epoch 910 - Train Loss: 0.5975, Train MSE: 0.5934, Train MAE: 0.5532\n",
      "Epoch 910 - Validation Loss: 1.2407, Validation MSE: 1.2420, Validation MAE: 0.7866\n"
     ]
    },
    {
     "name": "stderr",
     "output_type": "stream",
     "text": [
      "Training Epoch 912: 100%|██████████| 373/373 [00:10<00:00, 36.47it/s]\n",
      "Training Epoch 913: 100%|██████████| 373/373 [00:10<00:00, 36.67it/s]\n",
      "Training Epoch 914: 100%|██████████| 373/373 [00:10<00:00, 36.61it/s]\n",
      "Training Epoch 915: 100%|██████████| 373/373 [00:10<00:00, 36.59it/s]\n",
      "Training Epoch 916: 100%|██████████| 373/373 [00:10<00:00, 36.75it/s]\n",
      "Training Epoch 917: 100%|██████████| 373/373 [00:10<00:00, 36.70it/s]\n",
      "Training Epoch 918: 100%|██████████| 373/373 [00:10<00:00, 36.76it/s]\n",
      "Training Epoch 919: 100%|██████████| 373/373 [00:10<00:00, 36.49it/s]\n",
      "Training Epoch 920: 100%|██████████| 373/373 [00:10<00:00, 36.70it/s]\n",
      "Training Epoch 921: 100%|██████████| 373/373 [00:10<00:00, 36.68it/s]\n"
     ]
    },
    {
     "name": "stdout",
     "output_type": "stream",
     "text": [
      "Epoch 920 - Train Loss: 0.5833, Train MSE: 0.5845, Train MAE: 0.5458\n",
      "Epoch 920 - Validation Loss: 1.2219, Validation MSE: 1.2236, Validation MAE: 0.7735\n"
     ]
    },
    {
     "name": "stderr",
     "output_type": "stream",
     "text": [
      "Training Epoch 922: 100%|██████████| 373/373 [00:10<00:00, 36.58it/s]\n",
      "Training Epoch 923: 100%|██████████| 373/373 [00:10<00:00, 36.79it/s]\n",
      "Training Epoch 924: 100%|██████████| 373/373 [00:10<00:00, 36.57it/s]\n",
      "Training Epoch 925: 100%|██████████| 373/373 [00:10<00:00, 36.71it/s]\n",
      "Training Epoch 926: 100%|██████████| 373/373 [00:10<00:00, 36.80it/s]\n",
      "Training Epoch 927: 100%|██████████| 373/373 [00:10<00:00, 36.85it/s]\n",
      "Training Epoch 928: 100%|██████████| 373/373 [00:10<00:00, 36.73it/s]\n",
      "Training Epoch 929: 100%|██████████| 373/373 [00:10<00:00, 36.92it/s]\n",
      "Training Epoch 930: 100%|██████████| 373/373 [00:10<00:00, 36.45it/s]\n",
      "Training Epoch 931: 100%|██████████| 373/373 [00:10<00:00, 36.69it/s]\n"
     ]
    },
    {
     "name": "stdout",
     "output_type": "stream",
     "text": [
      "Epoch 930 - Train Loss: 0.5876, Train MSE: 0.5869, Train MAE: 0.5476\n",
      "Epoch 930 - Validation Loss: 1.2584, Validation MSE: 1.2601, Validation MAE: 0.8039\n"
     ]
    },
    {
     "name": "stderr",
     "output_type": "stream",
     "text": [
      "Training Epoch 932: 100%|██████████| 373/373 [00:10<00:00, 36.64it/s]\n",
      "Training Epoch 933: 100%|██████████| 373/373 [00:10<00:00, 36.57it/s]\n",
      "Training Epoch 934: 100%|██████████| 373/373 [00:10<00:00, 36.66it/s]\n",
      "Training Epoch 935: 100%|██████████| 373/373 [00:10<00:00, 36.55it/s]\n",
      "Training Epoch 936: 100%|██████████| 373/373 [00:10<00:00, 36.66it/s]\n",
      "Training Epoch 937: 100%|██████████| 373/373 [00:10<00:00, 36.62it/s]\n",
      "Training Epoch 938: 100%|██████████| 373/373 [00:10<00:00, 36.63it/s]\n",
      "Training Epoch 939: 100%|██████████| 373/373 [00:10<00:00, 36.63it/s]\n",
      "Training Epoch 940: 100%|██████████| 373/373 [00:10<00:00, 36.51it/s]\n",
      "Training Epoch 941: 100%|██████████| 373/373 [00:10<00:00, 36.54it/s]\n"
     ]
    },
    {
     "name": "stdout",
     "output_type": "stream",
     "text": [
      "Epoch 940 - Train Loss: 0.5922, Train MSE: 0.5933, Train MAE: 0.5499\n",
      "Epoch 940 - Validation Loss: 1.2285, Validation MSE: 1.2301, Validation MAE: 0.7683\n"
     ]
    },
    {
     "name": "stderr",
     "output_type": "stream",
     "text": [
      "Training Epoch 942: 100%|██████████| 373/373 [00:10<00:00, 36.63it/s]\n",
      "Training Epoch 943: 100%|██████████| 373/373 [00:10<00:00, 36.50it/s]\n",
      "Training Epoch 944: 100%|██████████| 373/373 [00:10<00:00, 36.38it/s]\n",
      "Training Epoch 945: 100%|██████████| 373/373 [00:10<00:00, 36.87it/s]\n",
      "Training Epoch 946: 100%|██████████| 373/373 [00:10<00:00, 36.47it/s]\n",
      "Training Epoch 947: 100%|██████████| 373/373 [00:10<00:00, 36.51it/s]\n",
      "Training Epoch 948: 100%|██████████| 373/373 [00:10<00:00, 36.42it/s]\n",
      "Training Epoch 949: 100%|██████████| 373/373 [00:10<00:00, 36.73it/s]\n",
      "Training Epoch 950: 100%|██████████| 373/373 [00:10<00:00, 36.90it/s]\n",
      "Training Epoch 951: 100%|██████████| 373/373 [00:10<00:00, 36.62it/s]\n"
     ]
    },
    {
     "name": "stdout",
     "output_type": "stream",
     "text": [
      "Epoch 950 - Train Loss: 0.5794, Train MSE: 0.5801, Train MAE: 0.5440\n",
      "Epoch 950 - Validation Loss: 1.2203, Validation MSE: 1.2218, Validation MAE: 0.7733\n"
     ]
    },
    {
     "name": "stderr",
     "output_type": "stream",
     "text": [
      "Training Epoch 952: 100%|██████████| 373/373 [00:10<00:00, 36.78it/s]\n",
      "Training Epoch 953: 100%|██████████| 373/373 [00:10<00:00, 36.60it/s]\n",
      "Training Epoch 954: 100%|██████████| 373/373 [00:10<00:00, 36.56it/s]\n",
      "Training Epoch 955: 100%|██████████| 373/373 [00:10<00:00, 36.77it/s]\n",
      "Training Epoch 956: 100%|██████████| 373/373 [00:10<00:00, 36.42it/s]\n",
      "Training Epoch 957: 100%|██████████| 373/373 [00:10<00:00, 36.55it/s]\n",
      "Training Epoch 958: 100%|██████████| 373/373 [00:10<00:00, 36.68it/s]\n",
      "Training Epoch 959: 100%|██████████| 373/373 [00:10<00:00, 36.60it/s]\n",
      "Training Epoch 960: 100%|██████████| 373/373 [00:10<00:00, 36.79it/s]\n",
      "Training Epoch 961: 100%|██████████| 373/373 [00:10<00:00, 36.32it/s]\n"
     ]
    },
    {
     "name": "stdout",
     "output_type": "stream",
     "text": [
      "Epoch 960 - Train Loss: 0.5855, Train MSE: 0.5865, Train MAE: 0.5456\n",
      "Epoch 960 - Validation Loss: 1.2334, Validation MSE: 1.2347, Validation MAE: 0.7865\n"
     ]
    },
    {
     "name": "stderr",
     "output_type": "stream",
     "text": [
      "Training Epoch 962: 100%|██████████| 373/373 [00:10<00:00, 36.64it/s]\n",
      "Training Epoch 963: 100%|██████████| 373/373 [00:10<00:00, 36.60it/s]\n",
      "Training Epoch 964: 100%|██████████| 373/373 [00:10<00:00, 36.71it/s]\n",
      "Training Epoch 965: 100%|██████████| 373/373 [00:10<00:00, 36.57it/s]\n",
      "Training Epoch 966: 100%|██████████| 373/373 [00:10<00:00, 36.50it/s]\n",
      "Training Epoch 967: 100%|██████████| 373/373 [00:10<00:00, 36.60it/s]\n",
      "Training Epoch 968: 100%|██████████| 373/373 [00:10<00:00, 37.03it/s]\n",
      "Training Epoch 969: 100%|██████████| 373/373 [00:10<00:00, 36.52it/s]\n",
      "Training Epoch 970: 100%|██████████| 373/373 [00:10<00:00, 36.78it/s]\n",
      "Training Epoch 971: 100%|██████████| 373/373 [00:10<00:00, 36.71it/s]\n"
     ]
    },
    {
     "name": "stdout",
     "output_type": "stream",
     "text": [
      "Epoch 970 - Train Loss: 0.5844, Train MSE: 0.5851, Train MAE: 0.5462\n",
      "Epoch 970 - Validation Loss: 1.2544, Validation MSE: 1.2556, Validation MAE: 0.7937\n"
     ]
    },
    {
     "name": "stderr",
     "output_type": "stream",
     "text": [
      "Training Epoch 972: 100%|██████████| 373/373 [00:10<00:00, 36.60it/s]\n",
      "Training Epoch 973: 100%|██████████| 373/373 [00:10<00:00, 36.78it/s]\n",
      "Training Epoch 974: 100%|██████████| 373/373 [00:10<00:00, 36.61it/s]\n",
      "Training Epoch 975: 100%|██████████| 373/373 [00:10<00:00, 36.53it/s]\n",
      "Training Epoch 976: 100%|██████████| 373/373 [00:10<00:00, 36.45it/s]\n",
      "Training Epoch 977: 100%|██████████| 373/373 [00:10<00:00, 36.80it/s]\n",
      "Training Epoch 978: 100%|██████████| 373/373 [00:10<00:00, 36.67it/s]\n",
      "Training Epoch 979: 100%|██████████| 373/373 [00:10<00:00, 36.73it/s]\n",
      "Training Epoch 980: 100%|██████████| 373/373 [00:10<00:00, 36.73it/s]\n",
      "Training Epoch 981: 100%|██████████| 373/373 [00:10<00:00, 36.77it/s]\n"
     ]
    },
    {
     "name": "stdout",
     "output_type": "stream",
     "text": [
      "Epoch 980 - Train Loss: 0.5948, Train MSE: 0.5942, Train MAE: 0.5481\n",
      "Epoch 980 - Validation Loss: 1.2540, Validation MSE: 1.2557, Validation MAE: 0.7777\n"
     ]
    },
    {
     "name": "stderr",
     "output_type": "stream",
     "text": [
      "Training Epoch 982: 100%|██████████| 373/373 [00:10<00:00, 36.94it/s]\n",
      "Training Epoch 983: 100%|██████████| 373/373 [00:10<00:00, 36.61it/s]\n",
      "Training Epoch 984: 100%|██████████| 373/373 [00:10<00:00, 36.63it/s]\n",
      "Training Epoch 985: 100%|██████████| 373/373 [00:10<00:00, 36.51it/s]\n",
      "Training Epoch 986: 100%|██████████| 373/373 [00:10<00:00, 36.47it/s]\n",
      "Training Epoch 987: 100%|██████████| 373/373 [00:10<00:00, 36.58it/s]\n",
      "Training Epoch 988: 100%|██████████| 373/373 [00:10<00:00, 36.52it/s]\n",
      "Training Epoch 989: 100%|██████████| 373/373 [00:10<00:00, 36.73it/s]\n",
      "Training Epoch 990: 100%|██████████| 373/373 [00:10<00:00, 36.41it/s]\n",
      "Training Epoch 991: 100%|██████████| 373/373 [00:10<00:00, 37.02it/s]\n"
     ]
    },
    {
     "name": "stdout",
     "output_type": "stream",
     "text": [
      "Epoch 990 - Train Loss: 0.5836, Train MSE: 0.5835, Train MAE: 0.5442\n",
      "Epoch 990 - Validation Loss: 1.2123, Validation MSE: 1.2139, Validation MAE: 0.7659\n"
     ]
    },
    {
     "name": "stderr",
     "output_type": "stream",
     "text": [
      "Training Epoch 992: 100%|██████████| 373/373 [00:10<00:00, 36.65it/s]\n",
      "Training Epoch 993: 100%|██████████| 373/373 [00:10<00:00, 36.47it/s]\n",
      "Training Epoch 994: 100%|██████████| 373/373 [00:10<00:00, 36.29it/s]\n",
      "Training Epoch 995: 100%|██████████| 373/373 [00:10<00:00, 36.59it/s]\n",
      "Training Epoch 996: 100%|██████████| 373/373 [00:10<00:00, 36.58it/s]\n",
      "Training Epoch 997: 100%|██████████| 373/373 [00:10<00:00, 36.45it/s]\n",
      "Training Epoch 998: 100%|██████████| 373/373 [00:10<00:00, 36.50it/s]\n",
      "Training Epoch 999: 100%|██████████| 373/373 [00:10<00:00, 36.68it/s]\n",
      "Training Epoch 1000: 100%|██████████| 373/373 [00:10<00:00, 36.45it/s]\n",
      "Training Epoch 1001: 100%|██████████| 373/373 [00:10<00:00, 36.52it/s]\n"
     ]
    },
    {
     "name": "stdout",
     "output_type": "stream",
     "text": [
      "Epoch 1000 - Train Loss: 0.5885, Train MSE: 0.5898, Train MAE: 0.5486\n",
      "Epoch 1000 - Validation Loss: 1.2299, Validation MSE: 1.2311, Validation MAE: 0.7791\n"
     ]
    },
    {
     "name": "stderr",
     "output_type": "stream",
     "text": [
      "Training Epoch 1002: 100%|██████████| 373/373 [00:10<00:00, 36.41it/s]\n",
      "Training Epoch 1003: 100%|██████████| 373/373 [00:10<00:00, 36.34it/s]\n",
      "Training Epoch 1004: 100%|██████████| 373/373 [00:10<00:00, 36.37it/s]\n",
      "Training Epoch 1005: 100%|██████████| 373/373 [00:10<00:00, 36.57it/s]\n",
      "Training Epoch 1006: 100%|██████████| 373/373 [00:10<00:00, 36.77it/s]\n",
      "Training Epoch 1007: 100%|██████████| 373/373 [00:10<00:00, 36.54it/s]\n",
      "Training Epoch 1008: 100%|██████████| 373/373 [00:10<00:00, 36.36it/s]\n",
      "Training Epoch 1009: 100%|██████████| 373/373 [00:10<00:00, 36.57it/s]\n",
      "Training Epoch 1010: 100%|██████████| 373/373 [00:10<00:00, 36.72it/s]\n",
      "Training Epoch 1011: 100%|██████████| 373/373 [00:10<00:00, 36.48it/s]\n"
     ]
    },
    {
     "name": "stdout",
     "output_type": "stream",
     "text": [
      "Epoch 1010 - Train Loss: 0.5831, Train MSE: 0.5799, Train MAE: 0.5436\n",
      "Epoch 1010 - Validation Loss: 1.2487, Validation MSE: 1.2506, Validation MAE: 0.7745\n"
     ]
    },
    {
     "name": "stderr",
     "output_type": "stream",
     "text": [
      "Training Epoch 1012: 100%|██████████| 373/373 [00:10<00:00, 36.60it/s]\n",
      "Training Epoch 1013: 100%|██████████| 373/373 [00:10<00:00, 36.70it/s]\n",
      "Training Epoch 1014: 100%|██████████| 373/373 [00:10<00:00, 36.39it/s]\n",
      "Training Epoch 1015: 100%|██████████| 373/373 [00:10<00:00, 36.74it/s]\n",
      "Training Epoch 1016: 100%|██████████| 373/373 [00:10<00:00, 36.44it/s]\n",
      "Training Epoch 1017: 100%|██████████| 373/373 [00:10<00:00, 36.61it/s]\n",
      "Training Epoch 1018: 100%|██████████| 373/373 [00:10<00:00, 36.48it/s]\n",
      "Training Epoch 1019: 100%|██████████| 373/373 [00:10<00:00, 36.72it/s]\n",
      "Training Epoch 1020: 100%|██████████| 373/373 [00:10<00:00, 36.77it/s]\n",
      "Training Epoch 1021: 100%|██████████| 373/373 [00:10<00:00, 36.42it/s]\n"
     ]
    },
    {
     "name": "stdout",
     "output_type": "stream",
     "text": [
      "Epoch 1020 - Train Loss: 0.5853, Train MSE: 0.5864, Train MAE: 0.5464\n",
      "Epoch 1020 - Validation Loss: 1.2218, Validation MSE: 1.2235, Validation MAE: 0.7705\n"
     ]
    },
    {
     "name": "stderr",
     "output_type": "stream",
     "text": [
      "Training Epoch 1022: 100%|██████████| 373/373 [00:10<00:00, 36.56it/s]\n",
      "Training Epoch 1023: 100%|██████████| 373/373 [00:10<00:00, 36.52it/s]\n",
      "Training Epoch 1024: 100%|██████████| 373/373 [00:10<00:00, 36.60it/s]\n",
      "Training Epoch 1025: 100%|██████████| 373/373 [00:10<00:00, 36.62it/s]\n",
      "Training Epoch 1026: 100%|██████████| 373/373 [00:10<00:00, 36.50it/s]\n",
      "Training Epoch 1027: 100%|██████████| 373/373 [00:10<00:00, 36.49it/s]\n",
      "Training Epoch 1028: 100%|██████████| 373/373 [00:10<00:00, 36.52it/s]\n",
      "Training Epoch 1029: 100%|██████████| 373/373 [00:10<00:00, 36.66it/s]\n",
      "Training Epoch 1030: 100%|██████████| 373/373 [00:10<00:00, 36.66it/s]\n",
      "Training Epoch 1031: 100%|██████████| 373/373 [00:10<00:00, 36.50it/s]\n"
     ]
    },
    {
     "name": "stdout",
     "output_type": "stream",
     "text": [
      "Epoch 1030 - Train Loss: 0.5774, Train MSE: 0.5781, Train MAE: 0.5406\n",
      "Epoch 1030 - Validation Loss: 1.2383, Validation MSE: 1.2398, Validation MAE: 0.7822\n"
     ]
    },
    {
     "name": "stderr",
     "output_type": "stream",
     "text": [
      "Training Epoch 1032: 100%|██████████| 373/373 [00:10<00:00, 36.55it/s]\n",
      "Training Epoch 1033: 100%|██████████| 373/373 [00:10<00:00, 36.64it/s]\n",
      "Training Epoch 1034: 100%|██████████| 373/373 [00:10<00:00, 36.57it/s]\n",
      "Training Epoch 1035: 100%|██████████| 373/373 [00:10<00:00, 36.49it/s]\n",
      "Training Epoch 1036: 100%|██████████| 373/373 [00:10<00:00, 36.59it/s]\n",
      "Training Epoch 1037: 100%|██████████| 373/373 [00:10<00:00, 36.63it/s]\n",
      "Training Epoch 1038: 100%|██████████| 373/373 [00:10<00:00, 36.60it/s]\n",
      "Training Epoch 1039: 100%|██████████| 373/373 [00:10<00:00, 36.47it/s]\n",
      "Training Epoch 1040: 100%|██████████| 373/373 [00:10<00:00, 36.58it/s]\n",
      "Training Epoch 1041: 100%|██████████| 373/373 [00:10<00:00, 36.75it/s]\n"
     ]
    },
    {
     "name": "stdout",
     "output_type": "stream",
     "text": [
      "Epoch 1040 - Train Loss: 0.5880, Train MSE: 0.5886, Train MAE: 0.5444\n",
      "Epoch 1040 - Validation Loss: 1.2520, Validation MSE: 1.2539, Validation MAE: 0.7855\n"
     ]
    },
    {
     "name": "stderr",
     "output_type": "stream",
     "text": [
      "Training Epoch 1042: 100%|██████████| 373/373 [00:10<00:00, 36.80it/s]\n",
      "Training Epoch 1043: 100%|██████████| 373/373 [00:10<00:00, 36.79it/s]\n",
      "Training Epoch 1044: 100%|██████████| 373/373 [00:10<00:00, 36.65it/s]\n",
      "Training Epoch 1045: 100%|██████████| 373/373 [00:10<00:00, 36.58it/s]\n",
      "Training Epoch 1046: 100%|██████████| 373/373 [00:10<00:00, 36.55it/s]\n",
      "Training Epoch 1047: 100%|██████████| 373/373 [00:10<00:00, 36.70it/s]\n",
      "Training Epoch 1048: 100%|██████████| 373/373 [00:10<00:00, 37.15it/s]\n",
      "Training Epoch 1049: 100%|██████████| 373/373 [00:10<00:00, 37.15it/s]\n",
      "Training Epoch 1050: 100%|██████████| 373/373 [00:10<00:00, 36.93it/s]\n",
      "Training Epoch 1051: 100%|██████████| 373/373 [00:10<00:00, 37.12it/s]\n"
     ]
    },
    {
     "name": "stdout",
     "output_type": "stream",
     "text": [
      "Epoch 1050 - Train Loss: 0.5855, Train MSE: 0.5862, Train MAE: 0.5462\n",
      "Epoch 1050 - Validation Loss: 1.2497, Validation MSE: 1.2515, Validation MAE: 0.7738\n"
     ]
    },
    {
     "name": "stderr",
     "output_type": "stream",
     "text": [
      "Training Epoch 1052: 100%|██████████| 373/373 [00:10<00:00, 37.23it/s]\n",
      "Training Epoch 1053: 100%|██████████| 373/373 [00:10<00:00, 36.88it/s]\n",
      "Training Epoch 1054: 100%|██████████| 373/373 [00:10<00:00, 36.92it/s]\n",
      "Training Epoch 1055: 100%|██████████| 373/373 [00:10<00:00, 37.29it/s]\n",
      "Training Epoch 1056: 100%|██████████| 373/373 [00:10<00:00, 37.20it/s]\n",
      "Training Epoch 1057: 100%|██████████| 373/373 [00:10<00:00, 37.07it/s]\n",
      "Training Epoch 1058: 100%|██████████| 373/373 [00:10<00:00, 37.00it/s]\n",
      "Training Epoch 1059: 100%|██████████| 373/373 [00:10<00:00, 37.11it/s]\n",
      "Training Epoch 1060: 100%|██████████| 373/373 [00:10<00:00, 36.88it/s]\n",
      "Training Epoch 1061: 100%|██████████| 373/373 [00:10<00:00, 37.08it/s]\n"
     ]
    },
    {
     "name": "stdout",
     "output_type": "stream",
     "text": [
      "Epoch 1060 - Train Loss: 0.5906, Train MSE: 0.5905, Train MAE: 0.5480\n",
      "Epoch 1060 - Validation Loss: 1.2538, Validation MSE: 1.2556, Validation MAE: 0.7900\n"
     ]
    },
    {
     "name": "stderr",
     "output_type": "stream",
     "text": [
      "Training Epoch 1062: 100%|██████████| 373/373 [00:10<00:00, 37.13it/s]\n",
      "Training Epoch 1063: 100%|██████████| 373/373 [00:10<00:00, 37.03it/s]\n",
      "Training Epoch 1064: 100%|██████████| 373/373 [00:10<00:00, 37.00it/s]\n",
      "Training Epoch 1065: 100%|██████████| 373/373 [00:10<00:00, 37.01it/s]\n",
      "Training Epoch 1066: 100%|██████████| 373/373 [00:10<00:00, 36.91it/s]\n",
      "Training Epoch 1067: 100%|██████████| 373/373 [00:10<00:00, 37.02it/s]\n",
      "Training Epoch 1068: 100%|██████████| 373/373 [00:10<00:00, 37.05it/s]\n",
      "Training Epoch 1069: 100%|██████████| 373/373 [00:10<00:00, 37.10it/s]\n",
      "Training Epoch 1070: 100%|██████████| 373/373 [00:10<00:00, 37.03it/s]\n",
      "Training Epoch 1071: 100%|██████████| 373/373 [00:10<00:00, 37.02it/s]\n"
     ]
    },
    {
     "name": "stdout",
     "output_type": "stream",
     "text": [
      "Epoch 1070 - Train Loss: 0.5724, Train MSE: 0.5737, Train MAE: 0.5349\n",
      "Epoch 1070 - Validation Loss: 1.2382, Validation MSE: 1.2398, Validation MAE: 0.7756\n"
     ]
    },
    {
     "name": "stderr",
     "output_type": "stream",
     "text": [
      "Training Epoch 1072: 100%|██████████| 373/373 [00:10<00:00, 37.09it/s]\n",
      "Training Epoch 1073: 100%|██████████| 373/373 [00:10<00:00, 36.90it/s]\n",
      "Training Epoch 1074: 100%|██████████| 373/373 [00:10<00:00, 37.16it/s]\n",
      "Training Epoch 1075: 100%|██████████| 373/373 [00:10<00:00, 36.87it/s]\n",
      "Training Epoch 1076: 100%|██████████| 373/373 [00:10<00:00, 36.94it/s]\n",
      "Training Epoch 1077: 100%|██████████| 373/373 [00:10<00:00, 37.05it/s]\n",
      "Training Epoch 1078: 100%|██████████| 373/373 [00:10<00:00, 37.11it/s]\n",
      "Training Epoch 1079: 100%|██████████| 373/373 [00:10<00:00, 37.14it/s]\n",
      "Training Epoch 1080: 100%|██████████| 373/373 [00:09<00:00, 37.47it/s]\n",
      "Training Epoch 1081: 100%|██████████| 373/373 [00:09<00:00, 37.43it/s]\n"
     ]
    },
    {
     "name": "stdout",
     "output_type": "stream",
     "text": [
      "Epoch 1080 - Train Loss: 0.5925, Train MSE: 0.5937, Train MAE: 0.5455\n",
      "Epoch 1080 - Validation Loss: 1.2291, Validation MSE: 1.2307, Validation MAE: 0.7781\n"
     ]
    },
    {
     "name": "stderr",
     "output_type": "stream",
     "text": [
      "Training Epoch 1082: 100%|██████████| 373/373 [00:10<00:00, 36.91it/s]\n",
      "Training Epoch 1083: 100%|██████████| 373/373 [00:10<00:00, 37.18it/s]\n",
      "Training Epoch 1084: 100%|██████████| 373/373 [00:10<00:00, 36.96it/s]\n",
      "Training Epoch 1085: 100%|██████████| 373/373 [00:10<00:00, 36.91it/s]\n",
      "Training Epoch 1086: 100%|██████████| 373/373 [00:10<00:00, 36.94it/s]\n",
      "Training Epoch 1087: 100%|██████████| 373/373 [00:10<00:00, 37.15it/s]\n",
      "Training Epoch 1088: 100%|██████████| 373/373 [00:10<00:00, 36.96it/s]\n",
      "Training Epoch 1089: 100%|██████████| 373/373 [00:10<00:00, 37.10it/s]\n",
      "Training Epoch 1090: 100%|██████████| 373/373 [00:10<00:00, 36.93it/s]\n",
      "Training Epoch 1091: 100%|██████████| 373/373 [00:10<00:00, 37.18it/s]\n"
     ]
    },
    {
     "name": "stdout",
     "output_type": "stream",
     "text": [
      "Epoch 1090 - Train Loss: 0.5716, Train MSE: 0.5718, Train MAE: 0.5369\n",
      "Epoch 1090 - Validation Loss: 1.2576, Validation MSE: 1.2593, Validation MAE: 0.7760\n"
     ]
    },
    {
     "name": "stderr",
     "output_type": "stream",
     "text": [
      "Training Epoch 1092: 100%|██████████| 373/373 [00:10<00:00, 37.10it/s]\n",
      "Training Epoch 1093: 100%|██████████| 373/373 [00:10<00:00, 36.91it/s]\n",
      "Training Epoch 1094: 100%|██████████| 373/373 [00:10<00:00, 37.02it/s]\n",
      "Training Epoch 1095: 100%|██████████| 373/373 [00:10<00:00, 37.00it/s]\n",
      "Training Epoch 1096: 100%|██████████| 373/373 [00:10<00:00, 37.09it/s]\n",
      "Training Epoch 1097: 100%|██████████| 373/373 [00:10<00:00, 37.03it/s]\n",
      "Training Epoch 1098: 100%|██████████| 373/373 [00:10<00:00, 36.90it/s]\n",
      "Training Epoch 1099: 100%|██████████| 373/373 [00:10<00:00, 36.89it/s]\n",
      "Training Epoch 1100: 100%|██████████| 373/373 [00:10<00:00, 37.09it/s]\n",
      "Training Epoch 1101: 100%|██████████| 373/373 [00:10<00:00, 37.07it/s]\n"
     ]
    },
    {
     "name": "stdout",
     "output_type": "stream",
     "text": [
      "Epoch 1100 - Train Loss: 0.5706, Train MSE: 0.5719, Train MAE: 0.5384\n",
      "Epoch 1100 - Validation Loss: 1.2877, Validation MSE: 1.2898, Validation MAE: 0.7808\n"
     ]
    },
    {
     "name": "stderr",
     "output_type": "stream",
     "text": [
      "Training Epoch 1102: 100%|██████████| 373/373 [00:10<00:00, 37.02it/s]\n",
      "Training Epoch 1103: 100%|██████████| 373/373 [00:10<00:00, 36.88it/s]\n",
      "Training Epoch 1104: 100%|██████████| 373/373 [00:10<00:00, 37.11it/s]\n",
      "Training Epoch 1105: 100%|██████████| 373/373 [00:10<00:00, 37.12it/s]\n",
      "Training Epoch 1106: 100%|██████████| 373/373 [00:10<00:00, 36.86it/s]\n",
      "Training Epoch 1107: 100%|██████████| 373/373 [00:10<00:00, 36.98it/s]\n",
      "Training Epoch 1108: 100%|██████████| 373/373 [00:10<00:00, 36.81it/s]\n",
      "Training Epoch 1109: 100%|██████████| 373/373 [00:10<00:00, 36.94it/s]\n",
      "Training Epoch 1110: 100%|██████████| 373/373 [00:10<00:00, 37.10it/s]\n",
      "Training Epoch 1111: 100%|██████████| 373/373 [00:10<00:00, 37.03it/s]\n"
     ]
    },
    {
     "name": "stdout",
     "output_type": "stream",
     "text": [
      "Epoch 1110 - Train Loss: 0.5767, Train MSE: 0.5776, Train MAE: 0.5398\n",
      "Epoch 1110 - Validation Loss: 1.2802, Validation MSE: 1.2817, Validation MAE: 0.8111\n"
     ]
    },
    {
     "name": "stderr",
     "output_type": "stream",
     "text": [
      "Training Epoch 1112: 100%|██████████| 373/373 [00:10<00:00, 37.04it/s]\n",
      "Training Epoch 1113: 100%|██████████| 373/373 [00:10<00:00, 36.79it/s]\n",
      "Training Epoch 1114: 100%|██████████| 373/373 [00:10<00:00, 37.12it/s]\n",
      "Training Epoch 1115: 100%|██████████| 373/373 [00:10<00:00, 37.28it/s]\n",
      "Training Epoch 1116: 100%|██████████| 373/373 [00:10<00:00, 36.84it/s]\n",
      "Training Epoch 1117: 100%|██████████| 373/373 [00:10<00:00, 37.00it/s]\n",
      "Training Epoch 1118: 100%|██████████| 373/373 [00:10<00:00, 37.12it/s]\n",
      "Training Epoch 1119: 100%|██████████| 373/373 [00:10<00:00, 37.12it/s]\n",
      "Training Epoch 1120: 100%|██████████| 373/373 [00:10<00:00, 36.87it/s]\n",
      "Training Epoch 1121: 100%|██████████| 373/373 [00:10<00:00, 36.89it/s]\n"
     ]
    },
    {
     "name": "stdout",
     "output_type": "stream",
     "text": [
      "Epoch 1120 - Train Loss: 0.5786, Train MSE: 0.5797, Train MAE: 0.5406\n",
      "Epoch 1120 - Validation Loss: 1.2296, Validation MSE: 1.2312, Validation MAE: 0.7834\n"
     ]
    },
    {
     "name": "stderr",
     "output_type": "stream",
     "text": [
      "Training Epoch 1122: 100%|██████████| 373/373 [00:10<00:00, 36.90it/s]\n",
      "Training Epoch 1123: 100%|██████████| 373/373 [00:10<00:00, 37.08it/s]\n",
      "Training Epoch 1124: 100%|██████████| 373/373 [00:10<00:00, 36.96it/s]\n",
      "Training Epoch 1125: 100%|██████████| 373/373 [00:10<00:00, 37.03it/s]\n",
      "Training Epoch 1126: 100%|██████████| 373/373 [00:10<00:00, 36.89it/s]\n",
      "Training Epoch 1127: 100%|██████████| 373/373 [00:09<00:00, 37.31it/s]\n",
      "Training Epoch 1128: 100%|██████████| 373/373 [00:10<00:00, 37.02it/s]\n",
      "Training Epoch 1129: 100%|██████████| 373/373 [00:10<00:00, 36.91it/s]\n",
      "Training Epoch 1130: 100%|██████████| 373/373 [00:10<00:00, 36.94it/s]\n",
      "Training Epoch 1131: 100%|██████████| 373/373 [00:10<00:00, 36.99it/s]\n"
     ]
    },
    {
     "name": "stdout",
     "output_type": "stream",
     "text": [
      "Epoch 1130 - Train Loss: 0.5838, Train MSE: 0.5772, Train MAE: 0.5409\n",
      "Epoch 1130 - Validation Loss: 1.2561, Validation MSE: 1.2578, Validation MAE: 0.7942\n"
     ]
    },
    {
     "name": "stderr",
     "output_type": "stream",
     "text": [
      "Training Epoch 1132: 100%|██████████| 373/373 [00:10<00:00, 37.20it/s]\n",
      "Training Epoch 1133: 100%|██████████| 373/373 [00:10<00:00, 36.98it/s]\n",
      "Training Epoch 1134: 100%|██████████| 373/373 [00:10<00:00, 37.05it/s]\n",
      "Training Epoch 1135: 100%|██████████| 373/373 [00:10<00:00, 37.12it/s]\n",
      "Training Epoch 1136: 100%|██████████| 373/373 [00:10<00:00, 37.05it/s]\n",
      "Training Epoch 1137: 100%|██████████| 373/373 [00:10<00:00, 36.63it/s]\n",
      "Training Epoch 1138: 100%|██████████| 373/373 [00:10<00:00, 37.23it/s]\n",
      "Training Epoch 1139: 100%|██████████| 373/373 [00:10<00:00, 37.04it/s]\n",
      "Training Epoch 1140: 100%|██████████| 373/373 [00:10<00:00, 37.18it/s]\n",
      "Training Epoch 1141: 100%|██████████| 373/373 [00:10<00:00, 37.20it/s]\n"
     ]
    },
    {
     "name": "stdout",
     "output_type": "stream",
     "text": [
      "Epoch 1140 - Train Loss: 0.5845, Train MSE: 0.5851, Train MAE: 0.5438\n",
      "Epoch 1140 - Validation Loss: 1.2424, Validation MSE: 1.2439, Validation MAE: 0.7810\n"
     ]
    },
    {
     "name": "stderr",
     "output_type": "stream",
     "text": [
      "Training Epoch 1142: 100%|██████████| 373/373 [00:10<00:00, 37.05it/s]\n",
      "Training Epoch 1143: 100%|██████████| 373/373 [00:10<00:00, 37.03it/s]\n",
      "Training Epoch 1144: 100%|██████████| 373/373 [00:10<00:00, 37.08it/s]\n",
      "Training Epoch 1145: 100%|██████████| 373/373 [00:10<00:00, 37.18it/s]\n",
      "Training Epoch 1146: 100%|██████████| 373/373 [00:10<00:00, 37.09it/s]\n",
      "Training Epoch 1147: 100%|██████████| 373/373 [00:10<00:00, 36.96it/s]\n",
      "Training Epoch 1148: 100%|██████████| 373/373 [00:10<00:00, 37.05it/s]\n",
      "Training Epoch 1149: 100%|██████████| 373/373 [00:10<00:00, 37.09it/s]\n",
      "Training Epoch 1150: 100%|██████████| 373/373 [00:10<00:00, 37.13it/s]\n",
      "Training Epoch 1151: 100%|██████████| 373/373 [00:10<00:00, 36.93it/s]\n"
     ]
    },
    {
     "name": "stdout",
     "output_type": "stream",
     "text": [
      "Epoch 1150 - Train Loss: 0.5699, Train MSE: 0.5702, Train MAE: 0.5400\n",
      "Epoch 1150 - Validation Loss: 1.2552, Validation MSE: 1.2567, Validation MAE: 0.7776\n"
     ]
    },
    {
     "name": "stderr",
     "output_type": "stream",
     "text": [
      "Training Epoch 1152: 100%|██████████| 373/373 [00:10<00:00, 37.03it/s]\n",
      "Training Epoch 1153: 100%|██████████| 373/373 [00:10<00:00, 37.05it/s]\n",
      "Training Epoch 1154: 100%|██████████| 373/373 [00:10<00:00, 36.96it/s]\n",
      "Training Epoch 1155: 100%|██████████| 373/373 [00:10<00:00, 36.82it/s]\n",
      "Training Epoch 1156: 100%|██████████| 373/373 [00:10<00:00, 36.61it/s]\n",
      "Training Epoch 1157: 100%|██████████| 373/373 [00:10<00:00, 37.09it/s]\n",
      "Training Epoch 1158: 100%|██████████| 373/373 [00:10<00:00, 37.19it/s]\n",
      "Training Epoch 1159: 100%|██████████| 373/373 [00:10<00:00, 37.16it/s]\n",
      "Training Epoch 1160: 100%|██████████| 373/373 [00:10<00:00, 37.27it/s]\n",
      "Training Epoch 1161: 100%|██████████| 373/373 [00:10<00:00, 36.86it/s]\n"
     ]
    },
    {
     "name": "stdout",
     "output_type": "stream",
     "text": [
      "Epoch 1160 - Train Loss: 0.5799, Train MSE: 0.5774, Train MAE: 0.5387\n",
      "Epoch 1160 - Validation Loss: 1.2481, Validation MSE: 1.2496, Validation MAE: 0.7873\n"
     ]
    },
    {
     "name": "stderr",
     "output_type": "stream",
     "text": [
      "Training Epoch 1162: 100%|██████████| 373/373 [00:10<00:00, 37.10it/s]\n",
      "Training Epoch 1163: 100%|██████████| 373/373 [00:10<00:00, 37.09it/s]\n",
      "Training Epoch 1164: 100%|██████████| 373/373 [00:10<00:00, 36.88it/s]\n",
      "Training Epoch 1165: 100%|██████████| 373/373 [00:10<00:00, 36.96it/s]\n",
      "Training Epoch 1166: 100%|██████████| 373/373 [00:10<00:00, 36.80it/s]\n",
      "Training Epoch 1167: 100%|██████████| 373/373 [00:10<00:00, 37.17it/s]\n",
      "Training Epoch 1168: 100%|██████████| 373/373 [00:10<00:00, 37.18it/s]\n",
      "Training Epoch 1169: 100%|██████████| 373/373 [00:10<00:00, 36.98it/s]\n",
      "Training Epoch 1170: 100%|██████████| 373/373 [00:10<00:00, 37.15it/s]\n",
      "Training Epoch 1171: 100%|██████████| 373/373 [00:10<00:00, 37.00it/s]\n"
     ]
    },
    {
     "name": "stdout",
     "output_type": "stream",
     "text": [
      "Epoch 1170 - Train Loss: 0.5782, Train MSE: 0.5787, Train MAE: 0.5393\n",
      "Epoch 1170 - Validation Loss: 1.2333, Validation MSE: 1.2351, Validation MAE: 0.7733\n"
     ]
    },
    {
     "name": "stderr",
     "output_type": "stream",
     "text": [
      "Training Epoch 1172: 100%|██████████| 373/373 [00:10<00:00, 37.03it/s]\n",
      "Training Epoch 1173: 100%|██████████| 373/373 [00:10<00:00, 36.94it/s]\n",
      "Training Epoch 1174: 100%|██████████| 373/373 [00:10<00:00, 36.91it/s]\n",
      "Training Epoch 1175: 100%|██████████| 373/373 [00:10<00:00, 36.82it/s]\n",
      "Training Epoch 1176: 100%|██████████| 373/373 [00:10<00:00, 37.20it/s]\n",
      "Training Epoch 1177: 100%|██████████| 373/373 [00:10<00:00, 37.16it/s]\n",
      "Training Epoch 1178: 100%|██████████| 373/373 [00:10<00:00, 37.15it/s]\n",
      "Training Epoch 1179: 100%|██████████| 373/373 [00:10<00:00, 36.99it/s]\n",
      "Training Epoch 1180: 100%|██████████| 373/373 [00:10<00:00, 37.21it/s]\n",
      "Training Epoch 1181: 100%|██████████| 373/373 [00:10<00:00, 37.09it/s]\n"
     ]
    },
    {
     "name": "stdout",
     "output_type": "stream",
     "text": [
      "Epoch 1180 - Train Loss: 0.5719, Train MSE: 0.5725, Train MAE: 0.5362\n",
      "Epoch 1180 - Validation Loss: 1.2820, Validation MSE: 1.2838, Validation MAE: 0.7907\n"
     ]
    },
    {
     "name": "stderr",
     "output_type": "stream",
     "text": [
      "Training Epoch 1182: 100%|██████████| 373/373 [00:10<00:00, 37.10it/s]\n",
      "Training Epoch 1183: 100%|██████████| 373/373 [00:10<00:00, 37.27it/s]\n",
      "Training Epoch 1184: 100%|██████████| 373/373 [00:10<00:00, 37.01it/s]\n",
      "Training Epoch 1185: 100%|██████████| 373/373 [00:10<00:00, 37.13it/s]\n",
      "Training Epoch 1186: 100%|██████████| 373/373 [00:10<00:00, 37.03it/s]\n",
      "Training Epoch 1187: 100%|██████████| 373/373 [00:10<00:00, 36.90it/s]\n",
      "Training Epoch 1188: 100%|██████████| 373/373 [00:10<00:00, 37.07it/s]\n",
      "Training Epoch 1189: 100%|██████████| 373/373 [00:10<00:00, 36.92it/s]\n",
      "Training Epoch 1190: 100%|██████████| 373/373 [00:10<00:00, 37.03it/s]\n",
      "Training Epoch 1191: 100%|██████████| 373/373 [00:10<00:00, 37.08it/s]\n"
     ]
    },
    {
     "name": "stdout",
     "output_type": "stream",
     "text": [
      "Epoch 1190 - Train Loss: 0.5706, Train MSE: 0.5702, Train MAE: 0.5375\n",
      "Epoch 1190 - Validation Loss: 1.2451, Validation MSE: 1.2466, Validation MAE: 0.7773\n"
     ]
    },
    {
     "name": "stderr",
     "output_type": "stream",
     "text": [
      "Training Epoch 1192: 100%|██████████| 373/373 [00:10<00:00, 36.87it/s]\n",
      "Training Epoch 1193: 100%|██████████| 373/373 [00:10<00:00, 37.01it/s]\n",
      "Training Epoch 1194: 100%|██████████| 373/373 [00:10<00:00, 37.11it/s]\n",
      "Training Epoch 1195: 100%|██████████| 373/373 [00:10<00:00, 36.98it/s]\n",
      "Training Epoch 1196: 100%|██████████| 373/373 [00:10<00:00, 37.04it/s]\n",
      "Training Epoch 1197: 100%|██████████| 373/373 [00:10<00:00, 37.03it/s]\n",
      "Training Epoch 1198: 100%|██████████| 373/373 [00:10<00:00, 37.23it/s]\n",
      "Training Epoch 1199: 100%|██████████| 373/373 [00:10<00:00, 37.06it/s]\n",
      "Training Epoch 1200: 100%|██████████| 373/373 [00:10<00:00, 36.99it/s]\n",
      "Training Epoch 1201: 100%|██████████| 373/373 [00:10<00:00, 36.91it/s]\n"
     ]
    },
    {
     "name": "stdout",
     "output_type": "stream",
     "text": [
      "Epoch 1200 - Train Loss: 0.5629, Train MSE: 0.5638, Train MAE: 0.5331\n",
      "Epoch 1200 - Validation Loss: 1.2489, Validation MSE: 1.2506, Validation MAE: 0.7736\n"
     ]
    },
    {
     "name": "stderr",
     "output_type": "stream",
     "text": [
      "Training Epoch 1202: 100%|██████████| 373/373 [00:10<00:00, 37.07it/s]\n",
      "Training Epoch 1203: 100%|██████████| 373/373 [00:10<00:00, 37.11it/s]\n",
      "Training Epoch 1204: 100%|██████████| 373/373 [00:10<00:00, 36.86it/s]\n",
      "Training Epoch 1205: 100%|██████████| 373/373 [00:10<00:00, 36.98it/s]\n",
      "Training Epoch 1206: 100%|██████████| 373/373 [00:10<00:00, 36.62it/s]\n",
      "Training Epoch 1207: 100%|██████████| 373/373 [00:10<00:00, 36.72it/s]\n",
      "Training Epoch 1208: 100%|██████████| 373/373 [00:10<00:00, 36.53it/s]\n",
      "Training Epoch 1209: 100%|██████████| 373/373 [00:10<00:00, 36.41it/s]\n",
      "Training Epoch 1210: 100%|██████████| 373/373 [00:10<00:00, 36.60it/s]\n",
      "Training Epoch 1211: 100%|██████████| 373/373 [00:10<00:00, 36.53it/s]\n"
     ]
    },
    {
     "name": "stdout",
     "output_type": "stream",
     "text": [
      "Epoch 1210 - Train Loss: 0.5761, Train MSE: 0.5764, Train MAE: 0.5372\n",
      "Epoch 1210 - Validation Loss: 1.2391, Validation MSE: 1.2409, Validation MAE: 0.7702\n"
     ]
    },
    {
     "name": "stderr",
     "output_type": "stream",
     "text": [
      "Training Epoch 1212: 100%|██████████| 373/373 [00:10<00:00, 36.65it/s]\n",
      "Training Epoch 1213: 100%|██████████| 373/373 [00:10<00:00, 36.71it/s]\n",
      "Training Epoch 1214: 100%|██████████| 373/373 [00:10<00:00, 36.40it/s]\n",
      "Training Epoch 1215: 100%|██████████| 373/373 [00:10<00:00, 36.48it/s]\n",
      "Training Epoch 1216: 100%|██████████| 373/373 [00:10<00:00, 36.50it/s]\n",
      "Training Epoch 1217: 100%|██████████| 373/373 [00:10<00:00, 36.58it/s]\n",
      "Training Epoch 1218: 100%|██████████| 373/373 [00:10<00:00, 36.55it/s]\n",
      "Training Epoch 1219: 100%|██████████| 373/373 [00:10<00:00, 36.58it/s]\n",
      "Training Epoch 1220: 100%|██████████| 373/373 [00:10<00:00, 36.66it/s]\n",
      "Training Epoch 1221: 100%|██████████| 373/373 [00:10<00:00, 36.70it/s]\n"
     ]
    },
    {
     "name": "stdout",
     "output_type": "stream",
     "text": [
      "Epoch 1220 - Train Loss: 0.5774, Train MSE: 0.5779, Train MAE: 0.5361\n",
      "Epoch 1220 - Validation Loss: 1.2818, Validation MSE: 1.2836, Validation MAE: 0.8168\n"
     ]
    },
    {
     "name": "stderr",
     "output_type": "stream",
     "text": [
      "Training Epoch 1222: 100%|██████████| 373/373 [00:10<00:00, 36.79it/s]\n",
      "Training Epoch 1223: 100%|██████████| 373/373 [00:10<00:00, 36.53it/s]\n",
      "Training Epoch 1224: 100%|██████████| 373/373 [00:10<00:00, 36.38it/s]\n",
      "Training Epoch 1225: 100%|██████████| 373/373 [00:10<00:00, 36.50it/s]\n",
      "Training Epoch 1226: 100%|██████████| 373/373 [00:10<00:00, 36.55it/s]\n",
      "Training Epoch 1227: 100%|██████████| 373/373 [00:10<00:00, 36.62it/s]\n",
      "Training Epoch 1228: 100%|██████████| 373/373 [00:10<00:00, 36.38it/s]\n",
      "Training Epoch 1229: 100%|██████████| 373/373 [00:10<00:00, 36.17it/s]\n",
      "Training Epoch 1230: 100%|██████████| 373/373 [00:10<00:00, 36.38it/s]\n",
      "Training Epoch 1231: 100%|██████████| 373/373 [00:10<00:00, 36.48it/s]\n"
     ]
    },
    {
     "name": "stdout",
     "output_type": "stream",
     "text": [
      "Epoch 1230 - Train Loss: 0.5752, Train MSE: 0.5763, Train MAE: 0.5405\n",
      "Epoch 1230 - Validation Loss: 1.2431, Validation MSE: 1.2446, Validation MAE: 0.7738\n"
     ]
    },
    {
     "name": "stderr",
     "output_type": "stream",
     "text": [
      "Training Epoch 1232: 100%|██████████| 373/373 [00:10<00:00, 36.49it/s]\n",
      "Training Epoch 1233: 100%|██████████| 373/373 [00:10<00:00, 36.48it/s]\n",
      "Training Epoch 1234: 100%|██████████| 373/373 [00:10<00:00, 36.34it/s]\n",
      "Training Epoch 1235: 100%|██████████| 373/373 [00:10<00:00, 36.58it/s]\n",
      "Training Epoch 1236: 100%|██████████| 373/373 [00:10<00:00, 36.71it/s]\n",
      "Training Epoch 1237: 100%|██████████| 373/373 [00:10<00:00, 36.56it/s]\n",
      "Training Epoch 1238: 100%|██████████| 373/373 [00:10<00:00, 36.86it/s]\n",
      "Training Epoch 1239: 100%|██████████| 373/373 [00:10<00:00, 36.51it/s]\n",
      "Training Epoch 1240: 100%|██████████| 373/373 [00:10<00:00, 36.63it/s]\n",
      "Training Epoch 1241: 100%|██████████| 373/373 [00:10<00:00, 36.61it/s]\n"
     ]
    },
    {
     "name": "stdout",
     "output_type": "stream",
     "text": [
      "Epoch 1240 - Train Loss: 0.5719, Train MSE: 0.5721, Train MAE: 0.5376\n",
      "Epoch 1240 - Validation Loss: 1.2570, Validation MSE: 1.2587, Validation MAE: 0.7791\n"
     ]
    },
    {
     "name": "stderr",
     "output_type": "stream",
     "text": [
      "Training Epoch 1242: 100%|██████████| 373/373 [00:10<00:00, 36.43it/s]\n",
      "Training Epoch 1243: 100%|██████████| 373/373 [00:10<00:00, 36.55it/s]\n",
      "Training Epoch 1244: 100%|██████████| 373/373 [00:10<00:00, 36.54it/s]\n",
      "Training Epoch 1245: 100%|██████████| 373/373 [00:10<00:00, 36.59it/s]\n",
      "Training Epoch 1246: 100%|██████████| 373/373 [00:10<00:00, 36.49it/s]\n",
      "Training Epoch 1247: 100%|██████████| 373/373 [00:10<00:00, 36.56it/s]\n",
      "Training Epoch 1248: 100%|██████████| 373/373 [00:10<00:00, 36.60it/s]\n",
      "Training Epoch 1249: 100%|██████████| 373/373 [00:10<00:00, 36.47it/s]\n",
      "Training Epoch 1250: 100%|██████████| 373/373 [00:10<00:00, 36.55it/s]\n",
      "Training Epoch 1251: 100%|██████████| 373/373 [00:10<00:00, 36.44it/s]\n"
     ]
    },
    {
     "name": "stdout",
     "output_type": "stream",
     "text": [
      "Epoch 1250 - Train Loss: 0.5649, Train MSE: 0.5645, Train MAE: 0.5344\n",
      "Epoch 1250 - Validation Loss: 1.2709, Validation MSE: 1.2726, Validation MAE: 0.7806\n"
     ]
    },
    {
     "name": "stderr",
     "output_type": "stream",
     "text": [
      "Training Epoch 1252: 100%|██████████| 373/373 [00:10<00:00, 36.51it/s]\n",
      "Training Epoch 1253: 100%|██████████| 373/373 [00:10<00:00, 36.36it/s]\n",
      "Training Epoch 1254: 100%|██████████| 373/373 [00:10<00:00, 36.59it/s]\n",
      "Training Epoch 1255: 100%|██████████| 373/373 [00:10<00:00, 36.51it/s]\n",
      "Training Epoch 1256: 100%|██████████| 373/373 [00:10<00:00, 36.56it/s]\n",
      "Training Epoch 1257: 100%|██████████| 373/373 [00:10<00:00, 36.45it/s]\n",
      "Training Epoch 1258: 100%|██████████| 373/373 [00:10<00:00, 36.52it/s]\n",
      "Training Epoch 1259: 100%|██████████| 373/373 [00:10<00:00, 36.63it/s]\n",
      "Training Epoch 1260: 100%|██████████| 373/373 [00:10<00:00, 36.34it/s]\n",
      "Training Epoch 1261: 100%|██████████| 373/373 [00:10<00:00, 36.45it/s]\n"
     ]
    },
    {
     "name": "stdout",
     "output_type": "stream",
     "text": [
      "Epoch 1260 - Train Loss: 0.5709, Train MSE: 0.5716, Train MAE: 0.5358\n",
      "Epoch 1260 - Validation Loss: 1.2454, Validation MSE: 1.2470, Validation MAE: 0.7907\n"
     ]
    },
    {
     "name": "stderr",
     "output_type": "stream",
     "text": [
      "Training Epoch 1262: 100%|██████████| 373/373 [00:10<00:00, 36.71it/s]\n",
      "Training Epoch 1263: 100%|██████████| 373/373 [00:10<00:00, 36.57it/s]\n",
      "Training Epoch 1264: 100%|██████████| 373/373 [00:10<00:00, 36.74it/s]\n",
      "Training Epoch 1265: 100%|██████████| 373/373 [00:10<00:00, 36.48it/s]\n",
      "Training Epoch 1266: 100%|██████████| 373/373 [00:10<00:00, 36.67it/s]\n",
      "Training Epoch 1267: 100%|██████████| 373/373 [00:10<00:00, 36.67it/s]\n",
      "Training Epoch 1268: 100%|██████████| 373/373 [00:10<00:00, 36.90it/s]\n",
      "Training Epoch 1269: 100%|██████████| 373/373 [00:10<00:00, 36.97it/s]\n",
      "Training Epoch 1270: 100%|██████████| 373/373 [00:10<00:00, 36.31it/s]\n",
      "Training Epoch 1271: 100%|██████████| 373/373 [00:10<00:00, 36.59it/s]\n"
     ]
    },
    {
     "name": "stdout",
     "output_type": "stream",
     "text": [
      "Epoch 1270 - Train Loss: 0.5629, Train MSE: 0.5634, Train MAE: 0.5362\n",
      "Epoch 1270 - Validation Loss: 1.2690, Validation MSE: 1.2708, Validation MAE: 0.7812\n"
     ]
    },
    {
     "name": "stderr",
     "output_type": "stream",
     "text": [
      "Training Epoch 1272: 100%|██████████| 373/373 [00:10<00:00, 36.72it/s]\n",
      "Training Epoch 1273: 100%|██████████| 373/373 [00:10<00:00, 37.07it/s]\n",
      "Training Epoch 1274: 100%|██████████| 373/373 [00:10<00:00, 36.71it/s]\n",
      "Training Epoch 1275: 100%|██████████| 373/373 [00:10<00:00, 36.79it/s]\n",
      "Training Epoch 1276: 100%|██████████| 373/373 [00:10<00:00, 36.44it/s]\n",
      "Training Epoch 1277: 100%|██████████| 373/373 [00:10<00:00, 36.45it/s]\n",
      "Training Epoch 1278: 100%|██████████| 373/373 [00:10<00:00, 36.44it/s]\n",
      "Training Epoch 1279: 100%|██████████| 373/373 [00:10<00:00, 36.31it/s]\n",
      "Training Epoch 1280: 100%|██████████| 373/373 [00:10<00:00, 36.42it/s]\n",
      "Training Epoch 1281: 100%|██████████| 373/373 [00:10<00:00, 36.25it/s]\n"
     ]
    },
    {
     "name": "stdout",
     "output_type": "stream",
     "text": [
      "Epoch 1280 - Train Loss: 0.5554, Train MSE: 0.5563, Train MAE: 0.5274\n",
      "Epoch 1280 - Validation Loss: 1.2460, Validation MSE: 1.2477, Validation MAE: 0.7797\n"
     ]
    },
    {
     "name": "stderr",
     "output_type": "stream",
     "text": [
      "Training Epoch 1282: 100%|██████████| 373/373 [00:10<00:00, 36.53it/s]\n",
      "Training Epoch 1283: 100%|██████████| 373/373 [00:10<00:00, 36.42it/s]\n",
      "Training Epoch 1284: 100%|██████████| 373/373 [00:10<00:00, 36.28it/s]\n",
      "Training Epoch 1285: 100%|██████████| 373/373 [00:10<00:00, 36.45it/s]\n",
      "Training Epoch 1286: 100%|██████████| 373/373 [00:10<00:00, 36.25it/s]\n",
      "Training Epoch 1287: 100%|██████████| 373/373 [00:10<00:00, 36.69it/s]\n",
      "Training Epoch 1288: 100%|██████████| 373/373 [00:10<00:00, 36.82it/s]\n",
      "Training Epoch 1289: 100%|██████████| 373/373 [00:10<00:00, 36.78it/s]\n",
      "Training Epoch 1290: 100%|██████████| 373/373 [00:10<00:00, 36.74it/s]\n",
      "Training Epoch 1291: 100%|██████████| 373/373 [00:10<00:00, 37.18it/s]\n"
     ]
    },
    {
     "name": "stdout",
     "output_type": "stream",
     "text": [
      "Epoch 1290 - Train Loss: 0.5656, Train MSE: 0.5667, Train MAE: 0.5323\n",
      "Epoch 1290 - Validation Loss: 1.2402, Validation MSE: 1.2420, Validation MAE: 0.7764\n"
     ]
    },
    {
     "name": "stderr",
     "output_type": "stream",
     "text": [
      "Training Epoch 1292: 100%|██████████| 373/373 [00:10<00:00, 36.93it/s]\n",
      "Training Epoch 1293: 100%|██████████| 373/373 [00:10<00:00, 36.83it/s]\n",
      "Training Epoch 1294: 100%|██████████| 373/373 [00:10<00:00, 36.73it/s]\n",
      "Training Epoch 1295: 100%|██████████| 373/373 [00:10<00:00, 36.67it/s]\n",
      "Training Epoch 1296: 100%|██████████| 373/373 [00:10<00:00, 36.88it/s]\n",
      "Training Epoch 1297: 100%|██████████| 373/373 [00:10<00:00, 36.77it/s]\n",
      "Training Epoch 1298: 100%|██████████| 373/373 [00:10<00:00, 36.68it/s]\n",
      "Training Epoch 1299: 100%|██████████| 373/373 [00:10<00:00, 36.70it/s]\n",
      "Training Epoch 1300: 100%|██████████| 373/373 [00:10<00:00, 36.79it/s]\n",
      "Training Epoch 1301: 100%|██████████| 373/373 [00:10<00:00, 36.66it/s]\n"
     ]
    },
    {
     "name": "stdout",
     "output_type": "stream",
     "text": [
      "Epoch 1300 - Train Loss: 0.5702, Train MSE: 0.5714, Train MAE: 0.5328\n",
      "Epoch 1300 - Validation Loss: 1.2710, Validation MSE: 1.2729, Validation MAE: 0.7754\n"
     ]
    },
    {
     "name": "stderr",
     "output_type": "stream",
     "text": [
      "Training Epoch 1302: 100%|██████████| 373/373 [00:10<00:00, 36.46it/s]\n",
      "Training Epoch 1303: 100%|██████████| 373/373 [00:10<00:00, 36.40it/s]\n",
      "Training Epoch 1304: 100%|██████████| 373/373 [00:10<00:00, 36.48it/s]\n",
      "Training Epoch 1305: 100%|██████████| 373/373 [00:10<00:00, 36.64it/s]\n",
      "Training Epoch 1306: 100%|██████████| 373/373 [00:10<00:00, 36.36it/s]\n",
      "Training Epoch 1307: 100%|██████████| 373/373 [00:10<00:00, 36.50it/s]\n",
      "Training Epoch 1308: 100%|██████████| 373/373 [00:10<00:00, 36.38it/s]\n",
      "Training Epoch 1309: 100%|██████████| 373/373 [00:10<00:00, 36.33it/s]\n",
      "Training Epoch 1310: 100%|██████████| 373/373 [00:10<00:00, 36.64it/s]\n",
      "Training Epoch 1311: 100%|██████████| 373/373 [00:10<00:00, 36.46it/s]\n"
     ]
    },
    {
     "name": "stdout",
     "output_type": "stream",
     "text": [
      "Epoch 1310 - Train Loss: 0.5528, Train MSE: 0.5541, Train MAE: 0.5267\n",
      "Epoch 1310 - Validation Loss: 1.2504, Validation MSE: 1.2520, Validation MAE: 0.7792\n"
     ]
    },
    {
     "name": "stderr",
     "output_type": "stream",
     "text": [
      "Training Epoch 1312: 100%|██████████| 373/373 [00:10<00:00, 36.38it/s]\n",
      "Training Epoch 1313: 100%|██████████| 373/373 [00:10<00:00, 36.57it/s]\n",
      "Training Epoch 1314: 100%|██████████| 373/373 [00:10<00:00, 36.73it/s]\n",
      "Training Epoch 1315: 100%|██████████| 373/373 [00:10<00:00, 36.61it/s]\n",
      "Training Epoch 1316: 100%|██████████| 373/373 [00:10<00:00, 36.39it/s]\n",
      "Training Epoch 1317: 100%|██████████| 373/373 [00:10<00:00, 36.38it/s]\n",
      "Training Epoch 1318: 100%|██████████| 373/373 [00:10<00:00, 36.42it/s]\n",
      "Training Epoch 1319: 100%|██████████| 373/373 [00:10<00:00, 36.72it/s]\n",
      "Training Epoch 1320: 100%|██████████| 373/373 [00:10<00:00, 36.19it/s]\n",
      "Training Epoch 1321: 100%|██████████| 373/373 [00:10<00:00, 36.53it/s]\n"
     ]
    },
    {
     "name": "stdout",
     "output_type": "stream",
     "text": [
      "Epoch 1320 - Train Loss: 0.5536, Train MSE: 0.5538, Train MAE: 0.5253\n",
      "Epoch 1320 - Validation Loss: 1.2638, Validation MSE: 1.2654, Validation MAE: 0.7934\n"
     ]
    },
    {
     "name": "stderr",
     "output_type": "stream",
     "text": [
      "Training Epoch 1322: 100%|██████████| 373/373 [00:10<00:00, 36.56it/s]\n",
      "Training Epoch 1323: 100%|██████████| 373/373 [00:10<00:00, 36.47it/s]\n",
      "Training Epoch 1324: 100%|██████████| 373/373 [00:10<00:00, 36.62it/s]\n",
      "Training Epoch 1325: 100%|██████████| 373/373 [00:10<00:00, 36.52it/s]\n",
      "Training Epoch 1326: 100%|██████████| 373/373 [00:10<00:00, 36.67it/s]\n",
      "Training Epoch 1327: 100%|██████████| 373/373 [00:10<00:00, 36.55it/s]\n",
      "Training Epoch 1328: 100%|██████████| 373/373 [00:10<00:00, 36.57it/s]\n",
      "Training Epoch 1329: 100%|██████████| 373/373 [00:10<00:00, 36.78it/s]\n",
      "Training Epoch 1330: 100%|██████████| 373/373 [00:10<00:00, 36.54it/s]\n",
      "Training Epoch 1331: 100%|██████████| 373/373 [00:10<00:00, 36.53it/s]\n"
     ]
    },
    {
     "name": "stdout",
     "output_type": "stream",
     "text": [
      "Epoch 1330 - Train Loss: 0.5694, Train MSE: 0.5690, Train MAE: 0.5344\n",
      "Epoch 1330 - Validation Loss: 1.2520, Validation MSE: 1.2536, Validation MAE: 0.7741\n"
     ]
    },
    {
     "name": "stderr",
     "output_type": "stream",
     "text": [
      "Training Epoch 1332: 100%|██████████| 373/373 [00:10<00:00, 36.58it/s]\n",
      "Training Epoch 1333: 100%|██████████| 373/373 [00:10<00:00, 36.70it/s]\n",
      "Training Epoch 1334: 100%|██████████| 373/373 [00:10<00:00, 36.59it/s]\n",
      "Training Epoch 1335: 100%|██████████| 373/373 [00:10<00:00, 36.58it/s]\n",
      "Training Epoch 1336: 100%|██████████| 373/373 [00:10<00:00, 36.41it/s]\n",
      "Training Epoch 1337: 100%|██████████| 373/373 [00:10<00:00, 36.57it/s]\n",
      "Training Epoch 1338: 100%|██████████| 373/373 [00:10<00:00, 36.46it/s]\n",
      "Training Epoch 1339: 100%|██████████| 373/373 [00:10<00:00, 36.53it/s]\n",
      "Training Epoch 1340: 100%|██████████| 373/373 [00:10<00:00, 36.41it/s]\n",
      "Training Epoch 1341: 100%|██████████| 373/373 [00:10<00:00, 36.53it/s]\n"
     ]
    },
    {
     "name": "stdout",
     "output_type": "stream",
     "text": [
      "Epoch 1340 - Train Loss: 0.5730, Train MSE: 0.5723, Train MAE: 0.5370\n",
      "Epoch 1340 - Validation Loss: 1.2734, Validation MSE: 1.2751, Validation MAE: 0.8017\n"
     ]
    },
    {
     "name": "stderr",
     "output_type": "stream",
     "text": [
      "Training Epoch 1342: 100%|██████████| 373/373 [00:10<00:00, 36.62it/s]\n",
      "Training Epoch 1343: 100%|██████████| 373/373 [00:10<00:00, 36.60it/s]\n",
      "Training Epoch 1344: 100%|██████████| 373/373 [00:10<00:00, 36.57it/s]\n",
      "Training Epoch 1345: 100%|██████████| 373/373 [00:10<00:00, 36.57it/s]\n",
      "Training Epoch 1346: 100%|██████████| 373/373 [00:10<00:00, 36.43it/s]\n",
      "Training Epoch 1347: 100%|██████████| 373/373 [00:10<00:00, 36.88it/s]\n",
      "Training Epoch 1348: 100%|██████████| 373/373 [00:10<00:00, 36.51it/s]\n",
      "Training Epoch 1349: 100%|██████████| 373/373 [00:10<00:00, 36.56it/s]\n",
      "Training Epoch 1350: 100%|██████████| 373/373 [00:10<00:00, 36.49it/s]\n",
      "Training Epoch 1351: 100%|██████████| 373/373 [00:10<00:00, 36.66it/s]\n"
     ]
    },
    {
     "name": "stdout",
     "output_type": "stream",
     "text": [
      "Epoch 1350 - Train Loss: 0.5626, Train MSE: 0.5628, Train MAE: 0.5303\n",
      "Epoch 1350 - Validation Loss: 1.2284, Validation MSE: 1.2303, Validation MAE: 0.7740\n"
     ]
    },
    {
     "name": "stderr",
     "output_type": "stream",
     "text": [
      "Training Epoch 1352: 100%|██████████| 373/373 [00:10<00:00, 36.68it/s]\n",
      "Training Epoch 1353: 100%|██████████| 373/373 [00:10<00:00, 36.41it/s]\n",
      "Training Epoch 1354: 100%|██████████| 373/373 [00:10<00:00, 36.61it/s]\n",
      "Training Epoch 1355: 100%|██████████| 373/373 [00:10<00:00, 36.64it/s]\n",
      "Training Epoch 1356: 100%|██████████| 373/373 [00:10<00:00, 36.73it/s]\n",
      "Training Epoch 1357: 100%|██████████| 373/373 [00:10<00:00, 36.85it/s]\n",
      "Training Epoch 1358: 100%|██████████| 373/373 [00:10<00:00, 36.39it/s]\n",
      "Training Epoch 1359: 100%|██████████| 373/373 [00:10<00:00, 36.51it/s]\n",
      "Training Epoch 1360: 100%|██████████| 373/373 [00:10<00:00, 36.55it/s]\n",
      "Training Epoch 1361: 100%|██████████| 373/373 [00:10<00:00, 36.76it/s]\n"
     ]
    },
    {
     "name": "stdout",
     "output_type": "stream",
     "text": [
      "Epoch 1360 - Train Loss: 0.5655, Train MSE: 0.5632, Train MAE: 0.5299\n",
      "Epoch 1360 - Validation Loss: 1.2556, Validation MSE: 1.2572, Validation MAE: 0.7775\n"
     ]
    },
    {
     "name": "stderr",
     "output_type": "stream",
     "text": [
      "Training Epoch 1362: 100%|██████████| 373/373 [00:10<00:00, 36.66it/s]\n",
      "Training Epoch 1363: 100%|██████████| 373/373 [00:10<00:00, 36.78it/s]\n",
      "Training Epoch 1364: 100%|██████████| 373/373 [00:10<00:00, 36.63it/s]\n",
      "Training Epoch 1365: 100%|██████████| 373/373 [00:10<00:00, 36.96it/s]\n",
      "Training Epoch 1366: 100%|██████████| 373/373 [00:10<00:00, 36.79it/s]\n",
      "Training Epoch 1367: 100%|██████████| 373/373 [00:10<00:00, 36.34it/s]\n",
      "Training Epoch 1368: 100%|██████████| 373/373 [00:10<00:00, 36.35it/s]\n",
      "Training Epoch 1369: 100%|██████████| 373/373 [00:10<00:00, 36.37it/s]\n",
      "Training Epoch 1370: 100%|██████████| 373/373 [00:10<00:00, 36.52it/s]\n",
      "Training Epoch 1371: 100%|██████████| 373/373 [00:10<00:00, 36.45it/s]\n"
     ]
    },
    {
     "name": "stdout",
     "output_type": "stream",
     "text": [
      "Epoch 1370 - Train Loss: 0.5601, Train MSE: 0.5601, Train MAE: 0.5298\n",
      "Epoch 1370 - Validation Loss: 1.2409, Validation MSE: 1.2427, Validation MAE: 0.7779\n"
     ]
    },
    {
     "name": "stderr",
     "output_type": "stream",
     "text": [
      "Training Epoch 1372: 100%|██████████| 373/373 [00:10<00:00, 36.16it/s]\n",
      "Training Epoch 1373: 100%|██████████| 373/373 [00:10<00:00, 36.37it/s]\n",
      "Training Epoch 1374: 100%|██████████| 373/373 [00:10<00:00, 36.29it/s]\n",
      "Training Epoch 1375: 100%|██████████| 373/373 [00:10<00:00, 36.34it/s]\n",
      "Training Epoch 1376: 100%|██████████| 373/373 [00:10<00:00, 36.28it/s]\n",
      "Training Epoch 1377: 100%|██████████| 373/373 [00:10<00:00, 36.23it/s]\n",
      "Training Epoch 1378: 100%|██████████| 373/373 [00:10<00:00, 36.14it/s]\n",
      "Training Epoch 1379: 100%|██████████| 373/373 [00:10<00:00, 36.39it/s]\n",
      "Training Epoch 1380: 100%|██████████| 373/373 [00:10<00:00, 36.32it/s]\n",
      "Training Epoch 1381: 100%|██████████| 373/373 [00:10<00:00, 36.11it/s]\n"
     ]
    },
    {
     "name": "stdout",
     "output_type": "stream",
     "text": [
      "Epoch 1380 - Train Loss: 0.5653, Train MSE: 0.5659, Train MAE: 0.5321\n",
      "Epoch 1380 - Validation Loss: 1.2470, Validation MSE: 1.2486, Validation MAE: 0.7737\n"
     ]
    },
    {
     "name": "stderr",
     "output_type": "stream",
     "text": [
      "Training Epoch 1382: 100%|██████████| 373/373 [00:10<00:00, 35.96it/s]\n",
      "Training Epoch 1383: 100%|██████████| 373/373 [00:10<00:00, 36.26it/s]\n",
      "Training Epoch 1384: 100%|██████████| 373/373 [00:10<00:00, 36.27it/s]\n",
      "Training Epoch 1385: 100%|██████████| 373/373 [00:10<00:00, 36.29it/s]\n",
      "Training Epoch 1386: 100%|██████████| 373/373 [00:10<00:00, 36.23it/s]\n",
      "Training Epoch 1387: 100%|██████████| 373/373 [00:10<00:00, 36.15it/s]\n",
      "Training Epoch 1388: 100%|██████████| 373/373 [00:10<00:00, 36.23it/s]\n",
      "Training Epoch 1389: 100%|██████████| 373/373 [00:10<00:00, 36.22it/s]\n",
      "Training Epoch 1390: 100%|██████████| 373/373 [00:10<00:00, 36.28it/s]\n",
      "Training Epoch 1391: 100%|██████████| 373/373 [00:10<00:00, 36.18it/s]\n"
     ]
    },
    {
     "name": "stdout",
     "output_type": "stream",
     "text": [
      "Epoch 1390 - Train Loss: 0.5626, Train MSE: 0.5620, Train MAE: 0.5334\n",
      "Epoch 1390 - Validation Loss: 1.2764, Validation MSE: 1.2782, Validation MAE: 0.8088\n"
     ]
    },
    {
     "name": "stderr",
     "output_type": "stream",
     "text": [
      "Training Epoch 1392: 100%|██████████| 373/373 [00:10<00:00, 36.55it/s]\n",
      "Training Epoch 1393: 100%|██████████| 373/373 [00:10<00:00, 36.24it/s]\n",
      "Training Epoch 1394: 100%|██████████| 373/373 [00:10<00:00, 36.44it/s]\n",
      "Training Epoch 1395: 100%|██████████| 373/373 [00:10<00:00, 36.18it/s]\n",
      "Training Epoch 1396: 100%|██████████| 373/373 [00:10<00:00, 36.29it/s]\n",
      "Training Epoch 1397: 100%|██████████| 373/373 [00:10<00:00, 36.30it/s]\n",
      "Training Epoch 1398: 100%|██████████| 373/373 [00:10<00:00, 36.27it/s]\n",
      "Training Epoch 1399: 100%|██████████| 373/373 [00:10<00:00, 36.39it/s]\n",
      "Training Epoch 1400: 100%|██████████| 373/373 [00:10<00:00, 36.28it/s]\n",
      "Training Epoch 1401: 100%|██████████| 373/373 [00:10<00:00, 36.21it/s]\n"
     ]
    },
    {
     "name": "stdout",
     "output_type": "stream",
     "text": [
      "Epoch 1400 - Train Loss: 0.5626, Train MSE: 0.5638, Train MAE: 0.5316\n",
      "Epoch 1400 - Validation Loss: 1.2831, Validation MSE: 1.2849, Validation MAE: 0.8043\n"
     ]
    },
    {
     "name": "stderr",
     "output_type": "stream",
     "text": [
      "Training Epoch 1402: 100%|██████████| 373/373 [00:10<00:00, 36.30it/s]\n",
      "Training Epoch 1403: 100%|██████████| 373/373 [00:10<00:00, 36.24it/s]\n",
      "Training Epoch 1404: 100%|██████████| 373/373 [00:10<00:00, 36.47it/s]\n",
      "Training Epoch 1405: 100%|██████████| 373/373 [00:10<00:00, 36.40it/s]\n",
      "Training Epoch 1406: 100%|██████████| 373/373 [00:10<00:00, 36.13it/s]\n",
      "Training Epoch 1407: 100%|██████████| 373/373 [00:10<00:00, 36.28it/s]\n",
      "Training Epoch 1408: 100%|██████████| 373/373 [00:10<00:00, 36.41it/s]\n",
      "Training Epoch 1409: 100%|██████████| 373/373 [00:10<00:00, 36.31it/s]\n",
      "Training Epoch 1410: 100%|██████████| 373/373 [00:10<00:00, 36.34it/s]\n",
      "Training Epoch 1411: 100%|██████████| 373/373 [00:10<00:00, 36.19it/s]\n"
     ]
    },
    {
     "name": "stdout",
     "output_type": "stream",
     "text": [
      "Epoch 1410 - Train Loss: 0.5512, Train MSE: 0.5517, Train MAE: 0.5245\n",
      "Epoch 1410 - Validation Loss: 1.2655, Validation MSE: 1.2673, Validation MAE: 0.7809\n"
     ]
    },
    {
     "name": "stderr",
     "output_type": "stream",
     "text": [
      "Training Epoch 1412: 100%|██████████| 373/373 [00:10<00:00, 36.40it/s]\n",
      "Training Epoch 1413: 100%|██████████| 373/373 [00:10<00:00, 36.46it/s]\n",
      "Training Epoch 1414: 100%|██████████| 373/373 [00:10<00:00, 36.20it/s]\n",
      "Training Epoch 1415: 100%|██████████| 373/373 [00:10<00:00, 36.25it/s]\n",
      "Training Epoch 1416: 100%|██████████| 373/373 [00:10<00:00, 36.24it/s]\n",
      "Training Epoch 1417: 100%|██████████| 373/373 [00:10<00:00, 36.25it/s]\n",
      "Training Epoch 1418: 100%|██████████| 373/373 [00:10<00:00, 36.43it/s]\n",
      "Training Epoch 1419: 100%|██████████| 373/373 [00:10<00:00, 36.32it/s]\n",
      "Training Epoch 1420: 100%|██████████| 373/373 [00:10<00:00, 34.92it/s]\n",
      "Training Epoch 1421: 100%|██████████| 373/373 [00:10<00:00, 36.27it/s]\n"
     ]
    },
    {
     "name": "stdout",
     "output_type": "stream",
     "text": [
      "Epoch 1420 - Train Loss: 0.5549, Train MSE: 0.5529, Train MAE: 0.5235\n",
      "Epoch 1420 - Validation Loss: 1.2665, Validation MSE: 1.2679, Validation MAE: 0.7717\n"
     ]
    },
    {
     "name": "stderr",
     "output_type": "stream",
     "text": [
      "Training Epoch 1422: 100%|██████████| 373/373 [00:10<00:00, 36.39it/s]\n",
      "Training Epoch 1423: 100%|██████████| 373/373 [00:10<00:00, 36.56it/s]\n",
      "Training Epoch 1424: 100%|██████████| 373/373 [00:10<00:00, 36.26it/s]\n",
      "Training Epoch 1425: 100%|██████████| 373/373 [00:10<00:00, 36.26it/s]\n",
      "Training Epoch 1426: 100%|██████████| 373/373 [00:10<00:00, 36.37it/s]\n",
      "Training Epoch 1427: 100%|██████████| 373/373 [00:10<00:00, 36.51it/s]\n",
      "Training Epoch 1428: 100%|██████████| 373/373 [00:10<00:00, 36.41it/s]\n",
      "Training Epoch 1429: 100%|██████████| 373/373 [00:10<00:00, 36.29it/s]\n",
      "Training Epoch 1430: 100%|██████████| 373/373 [00:10<00:00, 36.19it/s]\n",
      "Training Epoch 1431: 100%|██████████| 373/373 [00:10<00:00, 36.22it/s]\n"
     ]
    },
    {
     "name": "stdout",
     "output_type": "stream",
     "text": [
      "Epoch 1430 - Train Loss: 0.5447, Train MSE: 0.5455, Train MAE: 0.5214\n",
      "Epoch 1430 - Validation Loss: 1.2575, Validation MSE: 1.2592, Validation MAE: 0.7807\n"
     ]
    },
    {
     "name": "stderr",
     "output_type": "stream",
     "text": [
      "Training Epoch 1432: 100%|██████████| 373/373 [00:10<00:00, 36.33it/s]\n",
      "Training Epoch 1433: 100%|██████████| 373/373 [00:10<00:00, 36.39it/s]\n",
      "Training Epoch 1434: 100%|██████████| 373/373 [00:10<00:00, 36.27it/s]\n",
      "Training Epoch 1435: 100%|██████████| 373/373 [00:10<00:00, 36.11it/s]\n",
      "Training Epoch 1436: 100%|██████████| 373/373 [00:10<00:00, 36.17it/s]\n",
      "Training Epoch 1437: 100%|██████████| 373/373 [00:10<00:00, 36.27it/s]\n",
      "Training Epoch 1438: 100%|██████████| 373/373 [00:10<00:00, 36.20it/s]\n",
      "Training Epoch 1439: 100%|██████████| 373/373 [00:10<00:00, 36.24it/s]\n",
      "Training Epoch 1440: 100%|██████████| 373/373 [00:10<00:00, 36.18it/s]\n",
      "Training Epoch 1441: 100%|██████████| 373/373 [00:10<00:00, 36.17it/s]\n"
     ]
    },
    {
     "name": "stdout",
     "output_type": "stream",
     "text": [
      "Epoch 1440 - Train Loss: 0.5509, Train MSE: 0.5519, Train MAE: 0.5239\n",
      "Epoch 1440 - Validation Loss: 1.2609, Validation MSE: 1.2625, Validation MAE: 0.7807\n"
     ]
    },
    {
     "name": "stderr",
     "output_type": "stream",
     "text": [
      "Training Epoch 1442: 100%|██████████| 373/373 [00:10<00:00, 36.16it/s]\n",
      "Training Epoch 1443: 100%|██████████| 373/373 [00:10<00:00, 36.20it/s]\n",
      "Training Epoch 1444: 100%|██████████| 373/373 [00:10<00:00, 36.38it/s]\n",
      "Training Epoch 1445: 100%|██████████| 373/373 [00:10<00:00, 36.29it/s]\n",
      "Training Epoch 1446: 100%|██████████| 373/373 [00:10<00:00, 36.20it/s]\n",
      "Training Epoch 1447: 100%|██████████| 373/373 [00:10<00:00, 36.27it/s]\n",
      "Training Epoch 1448: 100%|██████████| 373/373 [00:10<00:00, 36.21it/s]\n",
      "Training Epoch 1449: 100%|██████████| 373/373 [00:10<00:00, 36.26it/s]\n",
      "Training Epoch 1450: 100%|██████████| 373/373 [00:10<00:00, 36.22it/s]\n",
      "Training Epoch 1451: 100%|██████████| 373/373 [00:10<00:00, 36.47it/s]\n"
     ]
    },
    {
     "name": "stdout",
     "output_type": "stream",
     "text": [
      "Epoch 1450 - Train Loss: 0.5497, Train MSE: 0.5489, Train MAE: 0.5229\n",
      "Epoch 1450 - Validation Loss: 1.2442, Validation MSE: 1.2458, Validation MAE: 0.7746\n"
     ]
    },
    {
     "name": "stderr",
     "output_type": "stream",
     "text": [
      "Training Epoch 1452: 100%|██████████| 373/373 [00:10<00:00, 36.45it/s]\n",
      "Training Epoch 1453: 100%|██████████| 373/373 [00:10<00:00, 36.17it/s]\n",
      "Training Epoch 1454: 100%|██████████| 373/373 [00:10<00:00, 36.27it/s]\n",
      "Training Epoch 1455: 100%|██████████| 373/373 [00:10<00:00, 36.32it/s]\n",
      "Training Epoch 1456: 100%|██████████| 373/373 [00:10<00:00, 36.55it/s]\n",
      "Training Epoch 1457: 100%|██████████| 373/373 [00:10<00:00, 36.22it/s]\n",
      "Training Epoch 1458: 100%|██████████| 373/373 [00:10<00:00, 36.18it/s]\n",
      "Training Epoch 1459: 100%|██████████| 373/373 [00:10<00:00, 36.31it/s]\n",
      "Training Epoch 1460: 100%|██████████| 373/373 [00:10<00:00, 36.20it/s]\n",
      "Training Epoch 1461: 100%|██████████| 373/373 [00:10<00:00, 36.43it/s]\n"
     ]
    },
    {
     "name": "stdout",
     "output_type": "stream",
     "text": [
      "Epoch 1460 - Train Loss: 0.5550, Train MSE: 0.5560, Train MAE: 0.5283\n",
      "Epoch 1460 - Validation Loss: 1.2606, Validation MSE: 1.2624, Validation MAE: 0.7719\n"
     ]
    },
    {
     "name": "stderr",
     "output_type": "stream",
     "text": [
      "Training Epoch 1462: 100%|██████████| 373/373 [00:10<00:00, 36.31it/s]\n",
      "Training Epoch 1463: 100%|██████████| 373/373 [00:10<00:00, 36.44it/s]\n",
      "Training Epoch 1464: 100%|██████████| 373/373 [00:10<00:00, 36.40it/s]\n",
      "Training Epoch 1465: 100%|██████████| 373/373 [00:10<00:00, 36.18it/s]\n",
      "Training Epoch 1466: 100%|██████████| 373/373 [00:10<00:00, 36.67it/s]\n",
      "Training Epoch 1467: 100%|██████████| 373/373 [00:10<00:00, 36.48it/s]\n",
      "Training Epoch 1468: 100%|██████████| 373/373 [00:10<00:00, 36.20it/s]\n",
      "Training Epoch 1469: 100%|██████████| 373/373 [00:10<00:00, 36.22it/s]\n",
      "Training Epoch 1470: 100%|██████████| 373/373 [00:10<00:00, 36.57it/s]\n",
      "Training Epoch 1471: 100%|██████████| 373/373 [00:10<00:00, 36.49it/s]\n"
     ]
    },
    {
     "name": "stdout",
     "output_type": "stream",
     "text": [
      "Epoch 1470 - Train Loss: 0.5586, Train MSE: 0.5593, Train MAE: 0.5277\n",
      "Epoch 1470 - Validation Loss: 1.2692, Validation MSE: 1.2710, Validation MAE: 0.7750\n"
     ]
    },
    {
     "name": "stderr",
     "output_type": "stream",
     "text": [
      "Training Epoch 1472: 100%|██████████| 373/373 [00:10<00:00, 36.34it/s]\n",
      "Training Epoch 1473: 100%|██████████| 373/373 [00:10<00:00, 36.30it/s]\n",
      "Training Epoch 1474: 100%|██████████| 373/373 [00:10<00:00, 36.45it/s]\n",
      "Training Epoch 1475: 100%|██████████| 373/373 [00:10<00:00, 36.45it/s]\n",
      "Training Epoch 1476: 100%|██████████| 373/373 [00:10<00:00, 36.32it/s]\n",
      "Training Epoch 1477: 100%|██████████| 373/373 [00:10<00:00, 36.35it/s]\n",
      "Training Epoch 1478: 100%|██████████| 373/373 [00:10<00:00, 36.16it/s]\n",
      "Training Epoch 1479: 100%|██████████| 373/373 [00:10<00:00, 36.45it/s]\n",
      "Training Epoch 1480: 100%|██████████| 373/373 [00:10<00:00, 36.65it/s]\n",
      "Training Epoch 1481: 100%|██████████| 373/373 [00:10<00:00, 36.49it/s]\n"
     ]
    },
    {
     "name": "stdout",
     "output_type": "stream",
     "text": [
      "Epoch 1480 - Train Loss: 0.5613, Train MSE: 0.5622, Train MAE: 0.5295\n",
      "Epoch 1480 - Validation Loss: 1.2414, Validation MSE: 1.2430, Validation MAE: 0.7745\n"
     ]
    },
    {
     "name": "stderr",
     "output_type": "stream",
     "text": [
      "Training Epoch 1482: 100%|██████████| 373/373 [00:10<00:00, 36.38it/s]\n",
      "Training Epoch 1483: 100%|██████████| 373/373 [00:10<00:00, 36.08it/s]\n",
      "Training Epoch 1484: 100%|██████████| 373/373 [00:10<00:00, 36.72it/s]\n",
      "Training Epoch 1485: 100%|██████████| 373/373 [00:10<00:00, 36.57it/s]\n",
      "Training Epoch 1486: 100%|██████████| 373/373 [00:10<00:00, 36.36it/s]\n",
      "Training Epoch 1487: 100%|██████████| 373/373 [00:10<00:00, 36.29it/s]\n",
      "Training Epoch 1488: 100%|██████████| 373/373 [00:10<00:00, 36.31it/s]\n",
      "Training Epoch 1489: 100%|██████████| 373/373 [00:10<00:00, 36.48it/s]\n",
      "Training Epoch 1490: 100%|██████████| 373/373 [00:10<00:00, 36.45it/s]\n",
      "Training Epoch 1491: 100%|██████████| 373/373 [00:10<00:00, 36.38it/s]\n"
     ]
    },
    {
     "name": "stdout",
     "output_type": "stream",
     "text": [
      "Epoch 1490 - Train Loss: 0.5632, Train MSE: 0.5636, Train MAE: 0.5318\n",
      "Epoch 1490 - Validation Loss: 1.2543, Validation MSE: 1.2560, Validation MAE: 0.7742\n"
     ]
    },
    {
     "name": "stderr",
     "output_type": "stream",
     "text": [
      "Training Epoch 1492: 100%|██████████| 373/373 [00:10<00:00, 36.18it/s]\n",
      "Training Epoch 1493: 100%|██████████| 373/373 [00:10<00:00, 36.35it/s]\n",
      "Training Epoch 1494: 100%|██████████| 373/373 [00:10<00:00, 36.54it/s]\n",
      "Training Epoch 1495: 100%|██████████| 373/373 [00:10<00:00, 36.41it/s]\n",
      "Training Epoch 1496: 100%|██████████| 373/373 [00:10<00:00, 36.25it/s]\n",
      "Training Epoch 1497: 100%|██████████| 373/373 [00:10<00:00, 36.42it/s]\n",
      "Training Epoch 1498: 100%|██████████| 373/373 [00:10<00:00, 36.40it/s]\n",
      "Training Epoch 1499: 100%|██████████| 373/373 [00:10<00:00, 36.31it/s]\n",
      "Training Epoch 1500: 100%|██████████| 373/373 [00:10<00:00, 36.30it/s]\n",
      "Training Epoch 1501: 100%|██████████| 373/373 [00:10<00:00, 36.16it/s]\n"
     ]
    },
    {
     "name": "stdout",
     "output_type": "stream",
     "text": [
      "Epoch 1500 - Train Loss: 0.5542, Train MSE: 0.5550, Train MAE: 0.5256\n",
      "Epoch 1500 - Validation Loss: 1.2721, Validation MSE: 1.2738, Validation MAE: 0.7722\n"
     ]
    },
    {
     "name": "stderr",
     "output_type": "stream",
     "text": [
      "Training Epoch 1502: 100%|██████████| 373/373 [00:10<00:00, 36.41it/s]\n",
      "Training Epoch 1503: 100%|██████████| 373/373 [00:10<00:00, 36.22it/s]\n",
      "Training Epoch 1504: 100%|██████████| 373/373 [00:10<00:00, 36.28it/s]\n",
      "Training Epoch 1505: 100%|██████████| 373/373 [00:10<00:00, 36.31it/s]\n",
      "Training Epoch 1506: 100%|██████████| 373/373 [00:10<00:00, 36.31it/s]\n",
      "Training Epoch 1507: 100%|██████████| 373/373 [00:10<00:00, 36.19it/s]\n",
      "Training Epoch 1508: 100%|██████████| 373/373 [00:10<00:00, 36.55it/s]\n",
      "Training Epoch 1509: 100%|██████████| 373/373 [00:10<00:00, 36.39it/s]\n",
      "Training Epoch 1510: 100%|██████████| 373/373 [00:10<00:00, 36.23it/s]\n",
      "Training Epoch 1511: 100%|██████████| 373/373 [00:10<00:00, 36.15it/s]\n"
     ]
    },
    {
     "name": "stdout",
     "output_type": "stream",
     "text": [
      "Epoch 1510 - Train Loss: 0.5468, Train MSE: 0.5456, Train MAE: 0.5215\n",
      "Epoch 1510 - Validation Loss: 1.2608, Validation MSE: 1.2626, Validation MAE: 0.7899\n"
     ]
    },
    {
     "name": "stderr",
     "output_type": "stream",
     "text": [
      "Training Epoch 1512: 100%|██████████| 373/373 [00:10<00:00, 36.30it/s]\n",
      "Training Epoch 1513: 100%|██████████| 373/373 [00:10<00:00, 36.43it/s]\n",
      "Training Epoch 1514: 100%|██████████| 373/373 [00:10<00:00, 36.22it/s]\n",
      "Training Epoch 1515: 100%|██████████| 373/373 [00:10<00:00, 35.67it/s]\n",
      "Training Epoch 1516: 100%|██████████| 373/373 [00:10<00:00, 36.22it/s]\n",
      "Training Epoch 1517: 100%|██████████| 373/373 [00:10<00:00, 36.76it/s]\n",
      "Training Epoch 1518: 100%|██████████| 373/373 [00:10<00:00, 36.53it/s]\n",
      "Training Epoch 1519: 100%|██████████| 373/373 [00:10<00:00, 36.53it/s]\n",
      "Training Epoch 1520: 100%|██████████| 373/373 [00:10<00:00, 36.47it/s]\n",
      "Training Epoch 1521: 100%|██████████| 373/373 [00:10<00:00, 36.60it/s]\n"
     ]
    },
    {
     "name": "stdout",
     "output_type": "stream",
     "text": [
      "Epoch 1520 - Train Loss: 0.5436, Train MSE: 0.5443, Train MAE: 0.5223\n",
      "Epoch 1520 - Validation Loss: 1.2594, Validation MSE: 1.2609, Validation MAE: 0.7740\n"
     ]
    },
    {
     "name": "stderr",
     "output_type": "stream",
     "text": [
      "Training Epoch 1522: 100%|██████████| 373/373 [00:10<00:00, 36.71it/s]\n",
      "Training Epoch 1523: 100%|██████████| 373/373 [00:10<00:00, 36.54it/s]\n",
      "Training Epoch 1524: 100%|██████████| 373/373 [00:10<00:00, 36.58it/s]\n",
      "Training Epoch 1525: 100%|██████████| 373/373 [00:10<00:00, 36.25it/s]\n",
      "Training Epoch 1526: 100%|██████████| 373/373 [00:10<00:00, 36.59it/s]\n",
      "Training Epoch 1527: 100%|██████████| 373/373 [00:10<00:00, 36.57it/s]\n",
      "Training Epoch 1528: 100%|██████████| 373/373 [00:10<00:00, 36.69it/s]\n",
      "Training Epoch 1529: 100%|██████████| 373/373 [00:10<00:00, 36.49it/s]\n",
      "Training Epoch 1530: 100%|██████████| 373/373 [00:10<00:00, 36.37it/s]\n",
      "Training Epoch 1531: 100%|██████████| 373/373 [00:10<00:00, 36.59it/s]\n"
     ]
    },
    {
     "name": "stdout",
     "output_type": "stream",
     "text": [
      "Epoch 1530 - Train Loss: 0.5432, Train MSE: 0.5435, Train MAE: 0.5225\n",
      "Epoch 1530 - Validation Loss: 1.2483, Validation MSE: 1.2501, Validation MAE: 0.7681\n"
     ]
    },
    {
     "name": "stderr",
     "output_type": "stream",
     "text": [
      "Training Epoch 1532: 100%|██████████| 373/373 [00:10<00:00, 36.76it/s]\n",
      "Training Epoch 1533: 100%|██████████| 373/373 [00:10<00:00, 36.55it/s]\n",
      "Training Epoch 1534: 100%|██████████| 373/373 [00:10<00:00, 36.48it/s]\n",
      "Training Epoch 1535: 100%|██████████| 373/373 [00:10<00:00, 36.65it/s]\n",
      "Training Epoch 1536: 100%|██████████| 373/373 [00:10<00:00, 36.64it/s]\n",
      "Training Epoch 1537: 100%|██████████| 373/373 [00:10<00:00, 36.60it/s]\n",
      "Training Epoch 1538: 100%|██████████| 373/373 [00:10<00:00, 36.57it/s]\n",
      "Training Epoch 1539: 100%|██████████| 373/373 [00:10<00:00, 36.45it/s]\n",
      "Training Epoch 1540: 100%|██████████| 373/373 [00:10<00:00, 36.44it/s]\n",
      "Training Epoch 1541: 100%|██████████| 373/373 [00:10<00:00, 36.62it/s]\n"
     ]
    },
    {
     "name": "stdout",
     "output_type": "stream",
     "text": [
      "Epoch 1540 - Train Loss: 0.5919, Train MSE: 0.5493, Train MAE: 0.5216\n",
      "Epoch 1540 - Validation Loss: 1.2956, Validation MSE: 1.2972, Validation MAE: 0.7950\n"
     ]
    },
    {
     "name": "stderr",
     "output_type": "stream",
     "text": [
      "Training Epoch 1542: 100%|██████████| 373/373 [00:10<00:00, 36.54it/s]\n",
      "Training Epoch 1543: 100%|██████████| 373/373 [00:10<00:00, 36.52it/s]\n",
      "Training Epoch 1544: 100%|██████████| 373/373 [00:10<00:00, 36.39it/s]\n",
      "Training Epoch 1545: 100%|██████████| 373/373 [00:10<00:00, 36.45it/s]\n",
      "Training Epoch 1546: 100%|██████████| 373/373 [00:10<00:00, 36.79it/s]\n",
      "Training Epoch 1547: 100%|██████████| 373/373 [00:10<00:00, 36.58it/s]\n",
      "Training Epoch 1548: 100%|██████████| 373/373 [00:10<00:00, 36.48it/s]\n",
      "Training Epoch 1549: 100%|██████████| 373/373 [00:10<00:00, 36.46it/s]\n",
      "Training Epoch 1550: 100%|██████████| 373/373 [00:10<00:00, 36.77it/s]\n",
      "Training Epoch 1551: 100%|██████████| 373/373 [00:10<00:00, 36.46it/s]\n"
     ]
    },
    {
     "name": "stdout",
     "output_type": "stream",
     "text": [
      "Epoch 1550 - Train Loss: 0.5342, Train MSE: 0.5333, Train MAE: 0.5168\n",
      "Epoch 1550 - Validation Loss: 1.2556, Validation MSE: 1.2572, Validation MAE: 0.7769\n"
     ]
    },
    {
     "name": "stderr",
     "output_type": "stream",
     "text": [
      "Training Epoch 1552: 100%|██████████| 373/373 [00:10<00:00, 36.52it/s]\n",
      "Training Epoch 1553: 100%|██████████| 373/373 [00:10<00:00, 36.47it/s]\n",
      "Training Epoch 1554: 100%|██████████| 373/373 [00:10<00:00, 36.51it/s]\n",
      "Training Epoch 1555: 100%|██████████| 373/373 [00:10<00:00, 36.60it/s]\n",
      "Training Epoch 1556: 100%|██████████| 373/373 [00:10<00:00, 36.49it/s]\n",
      "Training Epoch 1557: 100%|██████████| 373/373 [00:10<00:00, 36.56it/s]\n",
      "Training Epoch 1558: 100%|██████████| 373/373 [00:10<00:00, 36.47it/s]\n",
      "Training Epoch 1559: 100%|██████████| 373/373 [00:10<00:00, 36.47it/s]\n",
      "Training Epoch 1560: 100%|██████████| 373/373 [00:10<00:00, 36.70it/s]\n",
      "Training Epoch 1561: 100%|██████████| 373/373 [00:10<00:00, 36.37it/s]\n"
     ]
    },
    {
     "name": "stdout",
     "output_type": "stream",
     "text": [
      "Epoch 1560 - Train Loss: 0.5517, Train MSE: 0.5530, Train MAE: 0.5261\n",
      "Epoch 1560 - Validation Loss: 1.2479, Validation MSE: 1.2493, Validation MAE: 0.7814\n"
     ]
    },
    {
     "name": "stderr",
     "output_type": "stream",
     "text": [
      "Training Epoch 1562: 100%|██████████| 373/373 [00:10<00:00, 36.42it/s]\n",
      "Training Epoch 1563: 100%|██████████| 373/373 [00:10<00:00, 36.42it/s]\n",
      "Training Epoch 1564: 100%|██████████| 373/373 [00:10<00:00, 36.67it/s]\n",
      "Training Epoch 1565: 100%|██████████| 373/373 [00:10<00:00, 36.75it/s]\n",
      "Training Epoch 1566: 100%|██████████| 373/373 [00:10<00:00, 36.36it/s]\n",
      "Training Epoch 1567: 100%|██████████| 373/373 [00:10<00:00, 36.21it/s]\n",
      "Training Epoch 1568: 100%|██████████| 373/373 [00:10<00:00, 36.63it/s]\n",
      "Training Epoch 1569: 100%|██████████| 373/373 [00:10<00:00, 36.60it/s]\n",
      "Training Epoch 1570: 100%|██████████| 373/373 [00:10<00:00, 36.32it/s]\n",
      "Training Epoch 1571: 100%|██████████| 373/373 [00:10<00:00, 36.39it/s]\n"
     ]
    },
    {
     "name": "stdout",
     "output_type": "stream",
     "text": [
      "Epoch 1570 - Train Loss: 0.5433, Train MSE: 0.5445, Train MAE: 0.5218\n",
      "Epoch 1570 - Validation Loss: 1.2805, Validation MSE: 1.2821, Validation MAE: 0.7808\n"
     ]
    },
    {
     "name": "stderr",
     "output_type": "stream",
     "text": [
      "Training Epoch 1572: 100%|██████████| 373/373 [00:10<00:00, 36.35it/s]\n",
      "Training Epoch 1573: 100%|██████████| 373/373 [00:10<00:00, 36.57it/s]\n",
      "Training Epoch 1574: 100%|██████████| 373/373 [00:10<00:00, 36.80it/s]\n",
      "Training Epoch 1575: 100%|██████████| 373/373 [00:10<00:00, 36.39it/s]\n",
      "Training Epoch 1576: 100%|██████████| 373/373 [00:10<00:00, 36.42it/s]\n",
      "Training Epoch 1577: 100%|██████████| 373/373 [00:10<00:00, 36.26it/s]\n",
      "Training Epoch 1578: 100%|██████████| 373/373 [00:10<00:00, 36.62it/s]\n",
      "Training Epoch 1579: 100%|██████████| 373/373 [00:10<00:00, 36.56it/s]\n",
      "Training Epoch 1580: 100%|██████████| 373/373 [00:10<00:00, 36.32it/s]\n",
      "Training Epoch 1581: 100%|██████████| 373/373 [00:10<00:00, 36.44it/s]\n"
     ]
    },
    {
     "name": "stdout",
     "output_type": "stream",
     "text": [
      "Epoch 1580 - Train Loss: 0.5468, Train MSE: 0.5480, Train MAE: 0.5226\n",
      "Epoch 1580 - Validation Loss: 1.2692, Validation MSE: 1.2708, Validation MAE: 0.7756\n"
     ]
    },
    {
     "name": "stderr",
     "output_type": "stream",
     "text": [
      "Training Epoch 1582: 100%|██████████| 373/373 [00:10<00:00, 36.37it/s]\n",
      "Training Epoch 1583: 100%|██████████| 373/373 [00:10<00:00, 36.65it/s]\n",
      "Training Epoch 1584: 100%|██████████| 373/373 [00:10<00:00, 36.35it/s]\n",
      "Training Epoch 1585: 100%|██████████| 373/373 [00:10<00:00, 36.61it/s]\n",
      "Training Epoch 1586: 100%|██████████| 373/373 [00:10<00:00, 36.54it/s]\n",
      "Training Epoch 1587: 100%|██████████| 373/373 [00:10<00:00, 36.49it/s]\n",
      "Training Epoch 1588: 100%|██████████| 373/373 [00:10<00:00, 36.75it/s]\n",
      "Training Epoch 1589: 100%|██████████| 373/373 [00:10<00:00, 36.41it/s]\n",
      "Training Epoch 1590: 100%|██████████| 373/373 [00:10<00:00, 36.76it/s]\n",
      "Training Epoch 1591: 100%|██████████| 373/373 [00:10<00:00, 36.49it/s]\n"
     ]
    },
    {
     "name": "stdout",
     "output_type": "stream",
     "text": [
      "Epoch 1590 - Train Loss: 0.5484, Train MSE: 0.5485, Train MAE: 0.5225\n",
      "Epoch 1590 - Validation Loss: 1.2397, Validation MSE: 1.2410, Validation MAE: 0.7705\n"
     ]
    },
    {
     "name": "stderr",
     "output_type": "stream",
     "text": [
      "Training Epoch 1592: 100%|██████████| 373/373 [00:10<00:00, 36.69it/s]\n",
      "Training Epoch 1593: 100%|██████████| 373/373 [00:10<00:00, 36.67it/s]\n",
      "Training Epoch 1594: 100%|██████████| 373/373 [00:10<00:00, 36.32it/s]\n",
      "Training Epoch 1595: 100%|██████████| 373/373 [00:10<00:00, 36.83it/s]\n",
      "Training Epoch 1596: 100%|██████████| 373/373 [00:10<00:00, 36.52it/s]\n",
      "Training Epoch 1597: 100%|██████████| 373/373 [00:10<00:00, 36.80it/s]\n",
      "Training Epoch 1598: 100%|██████████| 373/373 [00:10<00:00, 36.39it/s]\n",
      "Training Epoch 1599: 100%|██████████| 373/373 [00:10<00:00, 36.59it/s]\n",
      "Training Epoch 1600: 100%|██████████| 373/373 [00:10<00:00, 36.76it/s]\n",
      "Training Epoch 1601: 100%|██████████| 373/373 [00:10<00:00, 36.44it/s]\n"
     ]
    },
    {
     "name": "stdout",
     "output_type": "stream",
     "text": [
      "Epoch 1600 - Train Loss: 0.5382, Train MSE: 0.5383, Train MAE: 0.5180\n",
      "Epoch 1600 - Validation Loss: 1.2605, Validation MSE: 1.2618, Validation MAE: 0.7829\n"
     ]
    },
    {
     "name": "stderr",
     "output_type": "stream",
     "text": [
      "Training Epoch 1602: 100%|██████████| 373/373 [00:10<00:00, 36.82it/s]\n",
      "Training Epoch 1603: 100%|██████████| 373/373 [00:10<00:00, 36.59it/s]\n",
      "Training Epoch 1604: 100%|██████████| 373/373 [00:10<00:00, 36.55it/s]\n",
      "Training Epoch 1605: 100%|██████████| 373/373 [00:10<00:00, 36.50it/s]\n",
      "Training Epoch 1606: 100%|██████████| 373/373 [00:10<00:00, 36.55it/s]\n",
      "Training Epoch 1607: 100%|██████████| 373/373 [00:10<00:00, 36.77it/s]\n",
      "Training Epoch 1608: 100%|██████████| 373/373 [00:10<00:00, 36.45it/s]\n",
      "Training Epoch 1609: 100%|██████████| 373/373 [00:10<00:00, 36.57it/s]\n",
      "Training Epoch 1610: 100%|██████████| 373/373 [00:10<00:00, 36.61it/s]\n",
      "Training Epoch 1611: 100%|██████████| 373/373 [00:10<00:00, 36.61it/s]\n"
     ]
    },
    {
     "name": "stdout",
     "output_type": "stream",
     "text": [
      "Epoch 1610 - Train Loss: 0.5452, Train MSE: 0.5462, Train MAE: 0.5219\n",
      "Epoch 1610 - Validation Loss: 1.2911, Validation MSE: 1.2927, Validation MAE: 0.7816\n"
     ]
    },
    {
     "name": "stderr",
     "output_type": "stream",
     "text": [
      "Training Epoch 1612: 100%|██████████| 373/373 [00:10<00:00, 36.45it/s]\n",
      "Training Epoch 1613: 100%|██████████| 373/373 [00:10<00:00, 36.39it/s]\n",
      "Training Epoch 1614: 100%|██████████| 373/373 [00:10<00:00, 36.47it/s]\n",
      "Training Epoch 1615: 100%|██████████| 373/373 [00:10<00:00, 36.58it/s]\n",
      "Training Epoch 1616: 100%|██████████| 373/373 [00:10<00:00, 36.60it/s]\n",
      "Training Epoch 1617: 100%|██████████| 373/373 [00:10<00:00, 36.41it/s]\n",
      "Training Epoch 1618: 100%|██████████| 373/373 [00:10<00:00, 36.66it/s]\n",
      "Training Epoch 1619: 100%|██████████| 373/373 [00:10<00:00, 36.59it/s]\n",
      "Training Epoch 1620: 100%|██████████| 373/373 [00:10<00:00, 36.58it/s]\n",
      "Training Epoch 1621: 100%|██████████| 373/373 [00:10<00:00, 36.65it/s]\n"
     ]
    },
    {
     "name": "stdout",
     "output_type": "stream",
     "text": [
      "Epoch 1620 - Train Loss: 0.5395, Train MSE: 0.5397, Train MAE: 0.5185\n",
      "Epoch 1620 - Validation Loss: 1.2577, Validation MSE: 1.2593, Validation MAE: 0.7810\n"
     ]
    },
    {
     "name": "stderr",
     "output_type": "stream",
     "text": [
      "Training Epoch 1622: 100%|██████████| 373/373 [00:10<00:00, 36.59it/s]\n",
      "Training Epoch 1623: 100%|██████████| 373/373 [00:10<00:00, 36.62it/s]\n",
      "Training Epoch 1624: 100%|██████████| 373/373 [00:10<00:00, 36.63it/s]\n",
      "Training Epoch 1625: 100%|██████████| 373/373 [00:10<00:00, 36.42it/s]\n",
      "Training Epoch 1626: 100%|██████████| 373/373 [00:10<00:00, 36.69it/s]\n",
      "Training Epoch 1627: 100%|██████████| 373/373 [00:10<00:00, 36.54it/s]\n",
      "Training Epoch 1628: 100%|██████████| 373/373 [00:10<00:00, 36.67it/s]\n",
      "Training Epoch 1629: 100%|██████████| 373/373 [00:10<00:00, 36.58it/s]\n",
      "Training Epoch 1630: 100%|██████████| 373/373 [00:10<00:00, 36.77it/s]\n",
      "Training Epoch 1631: 100%|██████████| 373/373 [00:10<00:00, 36.60it/s]\n"
     ]
    },
    {
     "name": "stdout",
     "output_type": "stream",
     "text": [
      "Epoch 1630 - Train Loss: 0.5505, Train MSE: 0.5508, Train MAE: 0.5219\n",
      "Epoch 1630 - Validation Loss: 1.2982, Validation MSE: 1.2999, Validation MAE: 0.7809\n"
     ]
    },
    {
     "name": "stderr",
     "output_type": "stream",
     "text": [
      "Training Epoch 1632: 100%|██████████| 373/373 [00:10<00:00, 36.56it/s]\n",
      "Training Epoch 1633: 100%|██████████| 373/373 [00:10<00:00, 36.68it/s]\n",
      "Training Epoch 1634: 100%|██████████| 373/373 [00:10<00:00, 36.57it/s]\n",
      "Training Epoch 1635: 100%|██████████| 373/373 [00:10<00:00, 36.55it/s]\n",
      "Training Epoch 1636: 100%|██████████| 373/373 [00:10<00:00, 36.56it/s]\n",
      "Training Epoch 1637: 100%|██████████| 373/373 [00:10<00:00, 36.55it/s]\n",
      "Training Epoch 1638: 100%|██████████| 373/373 [00:10<00:00, 36.91it/s]\n",
      "Training Epoch 1639: 100%|██████████| 373/373 [00:10<00:00, 36.46it/s]\n",
      "Training Epoch 1640: 100%|██████████| 373/373 [00:10<00:00, 36.56it/s]\n",
      "Training Epoch 1641: 100%|██████████| 373/373 [00:10<00:00, 36.52it/s]\n"
     ]
    },
    {
     "name": "stdout",
     "output_type": "stream",
     "text": [
      "Epoch 1640 - Train Loss: 0.5359, Train MSE: 0.5368, Train MAE: 0.5167\n",
      "Epoch 1640 - Validation Loss: 1.2823, Validation MSE: 1.2837, Validation MAE: 0.7851\n"
     ]
    },
    {
     "name": "stderr",
     "output_type": "stream",
     "text": [
      "Training Epoch 1642: 100%|██████████| 373/373 [00:10<00:00, 36.50it/s]\n",
      "Training Epoch 1643: 100%|██████████| 373/373 [00:10<00:00, 36.58it/s]\n",
      "Training Epoch 1644: 100%|██████████| 373/373 [00:10<00:00, 36.55it/s]\n",
      "Training Epoch 1645: 100%|██████████| 373/373 [00:10<00:00, 36.71it/s]\n",
      "Training Epoch 1646: 100%|██████████| 373/373 [00:10<00:00, 36.45it/s]\n",
      "Training Epoch 1647: 100%|██████████| 373/373 [00:10<00:00, 36.53it/s]\n",
      "Training Epoch 1648: 100%|██████████| 373/373 [00:10<00:00, 36.62it/s]\n",
      "Training Epoch 1649: 100%|██████████| 373/373 [00:10<00:00, 36.51it/s]\n",
      "Training Epoch 1650: 100%|██████████| 373/373 [00:10<00:00, 36.21it/s]\n",
      "Training Epoch 1651: 100%|██████████| 373/373 [00:10<00:00, 36.68it/s]\n"
     ]
    },
    {
     "name": "stdout",
     "output_type": "stream",
     "text": [
      "Epoch 1650 - Train Loss: 0.5489, Train MSE: 0.5496, Train MAE: 0.5236\n",
      "Epoch 1650 - Validation Loss: 1.2507, Validation MSE: 1.2524, Validation MAE: 0.7753\n"
     ]
    },
    {
     "name": "stderr",
     "output_type": "stream",
     "text": [
      "Training Epoch 1652: 100%|██████████| 373/373 [00:10<00:00, 36.62it/s]\n",
      "Training Epoch 1653: 100%|██████████| 373/373 [00:10<00:00, 36.75it/s]\n",
      "Training Epoch 1654: 100%|██████████| 373/373 [00:10<00:00, 36.41it/s]\n",
      "Training Epoch 1655: 100%|██████████| 373/373 [00:10<00:00, 36.38it/s]\n",
      "Training Epoch 1656: 100%|██████████| 373/373 [00:10<00:00, 36.64it/s]\n",
      "Training Epoch 1657: 100%|██████████| 373/373 [00:10<00:00, 36.81it/s]\n",
      "Training Epoch 1658: 100%|██████████| 373/373 [00:10<00:00, 36.17it/s]\n",
      "Training Epoch 1659: 100%|██████████| 373/373 [00:10<00:00, 36.44it/s]\n",
      "Training Epoch 1660: 100%|██████████| 373/373 [00:10<00:00, 36.49it/s]\n",
      "Training Epoch 1661: 100%|██████████| 373/373 [00:10<00:00, 36.60it/s]\n"
     ]
    },
    {
     "name": "stdout",
     "output_type": "stream",
     "text": [
      "Epoch 1660 - Train Loss: 0.5446, Train MSE: 0.5459, Train MAE: 0.5219\n",
      "Epoch 1660 - Validation Loss: 1.2604, Validation MSE: 1.2621, Validation MAE: 0.7721\n"
     ]
    },
    {
     "name": "stderr",
     "output_type": "stream",
     "text": [
      "Training Epoch 1662: 100%|██████████| 373/373 [00:10<00:00, 36.60it/s]\n",
      "Training Epoch 1663: 100%|██████████| 373/373 [00:10<00:00, 36.49it/s]\n",
      "Training Epoch 1664: 100%|██████████| 373/373 [00:10<00:00, 36.57it/s]\n",
      "Training Epoch 1665: 100%|██████████| 373/373 [00:10<00:00, 36.45it/s]\n",
      "Training Epoch 1666: 100%|██████████| 373/373 [00:10<00:00, 36.65it/s]\n",
      "Training Epoch 1667: 100%|██████████| 373/373 [00:10<00:00, 36.74it/s]\n",
      "Training Epoch 1668: 100%|██████████| 373/373 [00:10<00:00, 36.64it/s]\n",
      "Training Epoch 1669: 100%|██████████| 373/373 [00:10<00:00, 36.43it/s]\n",
      "Training Epoch 1670: 100%|██████████| 373/373 [00:10<00:00, 36.46it/s]\n",
      "Training Epoch 1671: 100%|██████████| 373/373 [00:10<00:00, 36.63it/s]\n"
     ]
    },
    {
     "name": "stdout",
     "output_type": "stream",
     "text": [
      "Epoch 1670 - Train Loss: 0.5486, Train MSE: 0.5444, Train MAE: 0.5180\n",
      "Epoch 1670 - Validation Loss: 1.2661, Validation MSE: 1.2684, Validation MAE: 0.7786\n"
     ]
    },
    {
     "name": "stderr",
     "output_type": "stream",
     "text": [
      "Training Epoch 1672: 100%|██████████| 373/373 [00:10<00:00, 36.51it/s]\n",
      "Training Epoch 1673: 100%|██████████| 373/373 [00:10<00:00, 36.53it/s]\n",
      "Training Epoch 1674: 100%|██████████| 373/373 [00:10<00:00, 36.37it/s]\n",
      "Training Epoch 1675: 100%|██████████| 373/373 [00:10<00:00, 36.39it/s]\n",
      "Training Epoch 1676: 100%|██████████| 373/373 [00:10<00:00, 36.52it/s]\n",
      "Training Epoch 1677: 100%|██████████| 373/373 [00:10<00:00, 36.33it/s]\n",
      "Training Epoch 1678: 100%|██████████| 373/373 [00:10<00:00, 36.41it/s]\n",
      "Training Epoch 1679: 100%|██████████| 373/373 [00:10<00:00, 36.39it/s]\n",
      "Training Epoch 1680: 100%|██████████| 373/373 [00:10<00:00, 36.53it/s]\n",
      "Training Epoch 1681: 100%|██████████| 373/373 [00:10<00:00, 36.49it/s]\n"
     ]
    },
    {
     "name": "stdout",
     "output_type": "stream",
     "text": [
      "Epoch 1680 - Train Loss: 0.5430, Train MSE: 0.5436, Train MAE: 0.5180\n",
      "Epoch 1680 - Validation Loss: 1.2639, Validation MSE: 1.2657, Validation MAE: 0.7689\n"
     ]
    },
    {
     "name": "stderr",
     "output_type": "stream",
     "text": [
      "Training Epoch 1682: 100%|██████████| 373/373 [00:10<00:00, 36.54it/s]\n",
      "Training Epoch 1683: 100%|██████████| 373/373 [00:10<00:00, 36.52it/s]\n",
      "Training Epoch 1684: 100%|██████████| 373/373 [00:10<00:00, 36.24it/s]\n",
      "Training Epoch 1685: 100%|██████████| 373/373 [00:10<00:00, 36.61it/s]\n",
      "Training Epoch 1686: 100%|██████████| 373/373 [00:10<00:00, 36.32it/s]\n",
      "Training Epoch 1687: 100%|██████████| 373/373 [00:10<00:00, 36.49it/s]\n",
      "Training Epoch 1688: 100%|██████████| 373/373 [00:10<00:00, 36.49it/s]\n",
      "Training Epoch 1689: 100%|██████████| 373/373 [00:10<00:00, 36.35it/s]\n",
      "Training Epoch 1690: 100%|██████████| 373/373 [00:10<00:00, 36.58it/s]\n",
      "Training Epoch 1691: 100%|██████████| 373/373 [00:10<00:00, 36.36it/s]\n"
     ]
    },
    {
     "name": "stdout",
     "output_type": "stream",
     "text": [
      "Epoch 1690 - Train Loss: 0.5499, Train MSE: 0.5505, Train MAE: 0.5236\n",
      "Epoch 1690 - Validation Loss: 1.2704, Validation MSE: 1.2721, Validation MAE: 0.7760\n"
     ]
    },
    {
     "name": "stderr",
     "output_type": "stream",
     "text": [
      "Training Epoch 1692: 100%|██████████| 373/373 [00:10<00:00, 36.52it/s]\n",
      "Training Epoch 1693: 100%|██████████| 373/373 [00:10<00:00, 36.35it/s]\n",
      "Training Epoch 1694: 100%|██████████| 373/373 [00:10<00:00, 36.57it/s]\n",
      "Training Epoch 1695: 100%|██████████| 373/373 [00:10<00:00, 36.51it/s]\n",
      "Training Epoch 1696: 100%|██████████| 373/373 [00:10<00:00, 36.41it/s]\n",
      "Training Epoch 1697: 100%|██████████| 373/373 [00:10<00:00, 36.59it/s]\n",
      "Training Epoch 1698: 100%|██████████| 373/373 [00:10<00:00, 36.44it/s]\n",
      "Training Epoch 1699: 100%|██████████| 373/373 [00:10<00:00, 36.47it/s]\n",
      "Training Epoch 1700: 100%|██████████| 373/373 [00:10<00:00, 36.49it/s]\n",
      "Training Epoch 1701: 100%|██████████| 373/373 [00:10<00:00, 36.39it/s]\n"
     ]
    },
    {
     "name": "stdout",
     "output_type": "stream",
     "text": [
      "Epoch 1700 - Train Loss: 0.5440, Train MSE: 0.5404, Train MAE: 0.5172\n",
      "Epoch 1700 - Validation Loss: 1.2773, Validation MSE: 1.2789, Validation MAE: 0.7797\n"
     ]
    },
    {
     "name": "stderr",
     "output_type": "stream",
     "text": [
      "Training Epoch 1702: 100%|██████████| 373/373 [00:10<00:00, 36.32it/s]\n",
      "Training Epoch 1703: 100%|██████████| 373/373 [00:10<00:00, 36.23it/s]\n",
      "Training Epoch 1704: 100%|██████████| 373/373 [00:10<00:00, 36.54it/s]\n",
      "Training Epoch 1705: 100%|██████████| 373/373 [00:10<00:00, 36.50it/s]\n",
      "Training Epoch 1706: 100%|██████████| 373/373 [00:10<00:00, 36.45it/s]\n",
      "Training Epoch 1707: 100%|██████████| 373/373 [00:10<00:00, 36.31it/s]\n",
      "Training Epoch 1708: 100%|██████████| 373/373 [00:10<00:00, 36.59it/s]\n",
      "Training Epoch 1709: 100%|██████████| 373/373 [00:10<00:00, 36.50it/s]\n",
      "Training Epoch 1710: 100%|██████████| 373/373 [00:10<00:00, 36.38it/s]\n",
      "Training Epoch 1711: 100%|██████████| 373/373 [00:10<00:00, 36.46it/s]\n"
     ]
    },
    {
     "name": "stdout",
     "output_type": "stream",
     "text": [
      "Epoch 1710 - Train Loss: 0.5329, Train MSE: 0.5333, Train MAE: 0.5144\n",
      "Epoch 1710 - Validation Loss: 1.2422, Validation MSE: 1.2440, Validation MAE: 0.7671\n"
     ]
    },
    {
     "name": "stderr",
     "output_type": "stream",
     "text": [
      "Training Epoch 1712: 100%|██████████| 373/373 [00:10<00:00, 36.31it/s]\n",
      "Training Epoch 1713: 100%|██████████| 373/373 [00:10<00:00, 36.51it/s]\n",
      "Training Epoch 1714: 100%|██████████| 373/373 [00:10<00:00, 36.59it/s]\n",
      "Training Epoch 1715: 100%|██████████| 373/373 [00:10<00:00, 36.48it/s]\n",
      "Training Epoch 1716: 100%|██████████| 373/373 [00:10<00:00, 36.42it/s]\n",
      "Training Epoch 1717: 100%|██████████| 373/373 [00:10<00:00, 36.46it/s]\n",
      "Training Epoch 1718: 100%|██████████| 373/373 [00:10<00:00, 36.56it/s]\n",
      "Training Epoch 1719: 100%|██████████| 373/373 [00:10<00:00, 36.37it/s]\n",
      "Training Epoch 1720: 100%|██████████| 373/373 [00:10<00:00, 36.38it/s]\n",
      "Training Epoch 1721: 100%|██████████| 373/373 [00:10<00:00, 36.45it/s]\n"
     ]
    },
    {
     "name": "stdout",
     "output_type": "stream",
     "text": [
      "Epoch 1720 - Train Loss: 0.5293, Train MSE: 0.5303, Train MAE: 0.5147\n",
      "Epoch 1720 - Validation Loss: 1.2432, Validation MSE: 1.2449, Validation MAE: 0.7693\n"
     ]
    },
    {
     "name": "stderr",
     "output_type": "stream",
     "text": [
      "Training Epoch 1722: 100%|██████████| 373/373 [00:10<00:00, 36.63it/s]\n",
      "Training Epoch 1723: 100%|██████████| 373/373 [00:10<00:00, 36.49it/s]\n",
      "Training Epoch 1724: 100%|██████████| 373/373 [00:10<00:00, 36.48it/s]\n",
      "Training Epoch 1725: 100%|██████████| 373/373 [00:10<00:00, 36.49it/s]\n",
      "Training Epoch 1726: 100%|██████████| 373/373 [00:10<00:00, 36.44it/s]\n",
      "Training Epoch 1727: 100%|██████████| 373/373 [00:10<00:00, 36.50it/s]\n",
      "Training Epoch 1728: 100%|██████████| 373/373 [00:10<00:00, 36.34it/s]\n",
      "Training Epoch 1729: 100%|██████████| 373/373 [00:10<00:00, 36.34it/s]\n",
      "Training Epoch 1730: 100%|██████████| 373/373 [00:10<00:00, 36.36it/s]\n",
      "Training Epoch 1731: 100%|██████████| 373/373 [00:10<00:00, 36.21it/s]\n"
     ]
    },
    {
     "name": "stdout",
     "output_type": "stream",
     "text": [
      "Epoch 1730 - Train Loss: 0.5384, Train MSE: 0.5382, Train MAE: 0.5176\n",
      "Epoch 1730 - Validation Loss: 1.2750, Validation MSE: 1.2769, Validation MAE: 0.7793\n"
     ]
    },
    {
     "name": "stderr",
     "output_type": "stream",
     "text": [
      "Training Epoch 1732: 100%|██████████| 373/373 [00:10<00:00, 36.43it/s]\n",
      "Training Epoch 1733: 100%|██████████| 373/373 [00:10<00:00, 36.31it/s]\n",
      "Training Epoch 1734: 100%|██████████| 373/373 [00:10<00:00, 36.38it/s]\n",
      "Training Epoch 1735: 100%|██████████| 373/373 [00:10<00:00, 36.52it/s]\n",
      "Training Epoch 1736: 100%|██████████| 373/373 [00:10<00:00, 36.39it/s]\n",
      "Training Epoch 1737: 100%|██████████| 373/373 [00:10<00:00, 36.29it/s]\n",
      "Training Epoch 1738: 100%|██████████| 373/373 [00:10<00:00, 36.26it/s]\n",
      "Training Epoch 1739: 100%|██████████| 373/373 [00:10<00:00, 36.49it/s]\n",
      "Training Epoch 1740: 100%|██████████| 373/373 [00:10<00:00, 36.43it/s]\n",
      "Training Epoch 1741: 100%|██████████| 373/373 [00:10<00:00, 36.53it/s]\n"
     ]
    },
    {
     "name": "stdout",
     "output_type": "stream",
     "text": [
      "Epoch 1740 - Train Loss: 0.5363, Train MSE: 0.5371, Train MAE: 0.5161\n",
      "Epoch 1740 - Validation Loss: 1.2999, Validation MSE: 1.3019, Validation MAE: 0.7821\n"
     ]
    },
    {
     "name": "stderr",
     "output_type": "stream",
     "text": [
      "Training Epoch 1742: 100%|██████████| 373/373 [00:10<00:00, 36.55it/s]\n",
      "Training Epoch 1743: 100%|██████████| 373/373 [00:10<00:00, 36.31it/s]\n",
      "Training Epoch 1744: 100%|██████████| 373/373 [00:10<00:00, 36.28it/s]\n",
      "Training Epoch 1745: 100%|██████████| 373/373 [00:10<00:00, 36.39it/s]\n",
      "Training Epoch 1746: 100%|██████████| 373/373 [00:10<00:00, 36.49it/s]\n",
      "Training Epoch 1747: 100%|██████████| 373/373 [00:10<00:00, 36.41it/s]\n",
      "Training Epoch 1748: 100%|██████████| 373/373 [00:10<00:00, 36.35it/s]\n",
      "Training Epoch 1749: 100%|██████████| 373/373 [00:10<00:00, 36.28it/s]\n",
      "Training Epoch 1750: 100%|██████████| 373/373 [00:10<00:00, 36.49it/s]\n",
      "Training Epoch 1751: 100%|██████████| 373/373 [00:10<00:00, 36.51it/s]\n"
     ]
    },
    {
     "name": "stdout",
     "output_type": "stream",
     "text": [
      "Epoch 1750 - Train Loss: 0.5346, Train MSE: 0.5357, Train MAE: 0.5169\n",
      "Epoch 1750 - Validation Loss: 1.2648, Validation MSE: 1.2662, Validation MAE: 0.7866\n"
     ]
    },
    {
     "name": "stderr",
     "output_type": "stream",
     "text": [
      "Training Epoch 1752: 100%|██████████| 373/373 [00:10<00:00, 36.51it/s]\n",
      "Training Epoch 1753: 100%|██████████| 373/373 [00:10<00:00, 36.26it/s]\n",
      "Training Epoch 1754: 100%|██████████| 373/373 [00:10<00:00, 36.25it/s]\n",
      "Training Epoch 1755: 100%|██████████| 373/373 [00:10<00:00, 36.49it/s]\n",
      "Training Epoch 1756: 100%|██████████| 373/373 [00:10<00:00, 36.52it/s]\n",
      "Training Epoch 1757: 100%|██████████| 373/373 [00:10<00:00, 36.46it/s]\n",
      "Training Epoch 1758: 100%|██████████| 373/373 [00:10<00:00, 36.26it/s]\n",
      "Training Epoch 1759: 100%|██████████| 373/373 [00:10<00:00, 36.32it/s]\n",
      "Training Epoch 1760: 100%|██████████| 373/373 [00:10<00:00, 36.48it/s]\n",
      "Training Epoch 1761: 100%|██████████| 373/373 [00:10<00:00, 36.58it/s]\n"
     ]
    },
    {
     "name": "stdout",
     "output_type": "stream",
     "text": [
      "Epoch 1760 - Train Loss: 0.5297, Train MSE: 0.5309, Train MAE: 0.5114\n",
      "Epoch 1760 - Validation Loss: 1.2728, Validation MSE: 1.2745, Validation MAE: 0.7765\n"
     ]
    },
    {
     "name": "stderr",
     "output_type": "stream",
     "text": [
      "Training Epoch 1762: 100%|██████████| 373/373 [00:10<00:00, 36.35it/s]\n",
      "Training Epoch 1763: 100%|██████████| 373/373 [00:10<00:00, 36.48it/s]\n",
      "Training Epoch 1764: 100%|██████████| 373/373 [00:10<00:00, 36.45it/s]\n",
      "Training Epoch 1765: 100%|██████████| 373/373 [00:10<00:00, 36.39it/s]\n",
      "Training Epoch 1766: 100%|██████████| 373/373 [00:10<00:00, 36.24it/s]\n",
      "Training Epoch 1767: 100%|██████████| 373/373 [00:10<00:00, 36.32it/s]\n",
      "Training Epoch 1768: 100%|██████████| 373/373 [00:10<00:00, 36.44it/s]\n",
      "Training Epoch 1769: 100%|██████████| 373/373 [00:10<00:00, 36.28it/s]\n",
      "Training Epoch 1770: 100%|██████████| 373/373 [00:10<00:00, 36.49it/s]\n",
      "Training Epoch 1771: 100%|██████████| 373/373 [00:10<00:00, 36.33it/s]\n"
     ]
    },
    {
     "name": "stdout",
     "output_type": "stream",
     "text": [
      "Epoch 1770 - Train Loss: 0.5303, Train MSE: 0.5312, Train MAE: 0.5128\n",
      "Epoch 1770 - Validation Loss: 1.2520, Validation MSE: 1.2536, Validation MAE: 0.7809\n"
     ]
    },
    {
     "name": "stderr",
     "output_type": "stream",
     "text": [
      "Training Epoch 1772: 100%|██████████| 373/373 [00:10<00:00, 36.48it/s]\n",
      "Training Epoch 1773: 100%|██████████| 373/373 [00:10<00:00, 36.34it/s]\n",
      "Training Epoch 1774: 100%|██████████| 373/373 [00:10<00:00, 36.45it/s]\n",
      "Training Epoch 1775: 100%|██████████| 373/373 [00:10<00:00, 36.58it/s]\n",
      "Training Epoch 1776: 100%|██████████| 373/373 [00:10<00:00, 36.40it/s]\n",
      "Training Epoch 1777: 100%|██████████| 373/373 [00:10<00:00, 36.38it/s]\n",
      "Training Epoch 1778: 100%|██████████| 373/373 [00:10<00:00, 36.48it/s]\n",
      "Training Epoch 1779: 100%|██████████| 373/373 [00:10<00:00, 36.56it/s]\n",
      "Training Epoch 1780: 100%|██████████| 373/373 [00:10<00:00, 36.50it/s]\n",
      "Training Epoch 1781: 100%|██████████| 373/373 [00:10<00:00, 36.46it/s]\n"
     ]
    },
    {
     "name": "stdout",
     "output_type": "stream",
     "text": [
      "Epoch 1780 - Train Loss: 0.5280, Train MSE: 0.5285, Train MAE: 0.5131\n",
      "Epoch 1780 - Validation Loss: 1.2665, Validation MSE: 1.2679, Validation MAE: 0.7727\n"
     ]
    },
    {
     "name": "stderr",
     "output_type": "stream",
     "text": [
      "Training Epoch 1782: 100%|██████████| 373/373 [00:10<00:00, 36.58it/s]\n",
      "Training Epoch 1783: 100%|██████████| 373/373 [00:10<00:00, 36.67it/s]\n",
      "Training Epoch 1784: 100%|██████████| 373/373 [00:10<00:00, 36.67it/s]\n",
      "Training Epoch 1785: 100%|██████████| 373/373 [00:10<00:00, 36.36it/s]\n",
      "Training Epoch 1786: 100%|██████████| 373/373 [00:10<00:00, 36.44it/s]\n",
      "Training Epoch 1787: 100%|██████████| 373/373 [00:10<00:00, 36.38it/s]\n",
      "Training Epoch 1788: 100%|██████████| 373/373 [00:10<00:00, 36.37it/s]\n",
      "Training Epoch 1789: 100%|██████████| 373/373 [00:10<00:00, 36.53it/s]\n",
      "Training Epoch 1790: 100%|██████████| 373/373 [00:10<00:00, 36.31it/s]\n",
      "Training Epoch 1791: 100%|██████████| 373/373 [00:10<00:00, 36.32it/s]\n"
     ]
    },
    {
     "name": "stdout",
     "output_type": "stream",
     "text": [
      "Epoch 1790 - Train Loss: 0.5399, Train MSE: 0.5404, Train MAE: 0.5171\n",
      "Epoch 1790 - Validation Loss: 1.2841, Validation MSE: 1.2858, Validation MAE: 0.7998\n"
     ]
    },
    {
     "name": "stderr",
     "output_type": "stream",
     "text": [
      "Training Epoch 1792: 100%|██████████| 373/373 [00:10<00:00, 36.33it/s]\n",
      "Training Epoch 1793: 100%|██████████| 373/373 [00:10<00:00, 36.51it/s]\n",
      "Training Epoch 1794: 100%|██████████| 373/373 [00:10<00:00, 36.56it/s]\n",
      "Training Epoch 1795: 100%|██████████| 373/373 [00:10<00:00, 36.20it/s]\n",
      "Training Epoch 1796: 100%|██████████| 373/373 [00:10<00:00, 36.28it/s]\n",
      "Training Epoch 1797: 100%|██████████| 373/373 [00:10<00:00, 36.36it/s]\n",
      "Training Epoch 1798: 100%|██████████| 373/373 [00:10<00:00, 36.44it/s]\n",
      "Training Epoch 1799: 100%|██████████| 373/373 [00:10<00:00, 36.20it/s]\n",
      "Training Epoch 1800: 100%|██████████| 373/373 [00:10<00:00, 36.26it/s]\n",
      "Training Epoch 1801: 100%|██████████| 373/373 [00:10<00:00, 36.24it/s]\n"
     ]
    },
    {
     "name": "stdout",
     "output_type": "stream",
     "text": [
      "Epoch 1800 - Train Loss: 0.5339, Train MSE: 0.5349, Train MAE: 0.5135\n",
      "Epoch 1800 - Validation Loss: 1.2655, Validation MSE: 1.2672, Validation MAE: 0.7804\n"
     ]
    },
    {
     "name": "stderr",
     "output_type": "stream",
     "text": [
      "Training Epoch 1802: 100%|██████████| 373/373 [00:10<00:00, 36.23it/s]\n",
      "Training Epoch 1803: 100%|██████████| 373/373 [00:10<00:00, 36.43it/s]\n",
      "Training Epoch 1804: 100%|██████████| 373/373 [00:10<00:00, 36.16it/s]\n",
      "Training Epoch 1805: 100%|██████████| 373/373 [00:10<00:00, 36.32it/s]\n",
      "Training Epoch 1806: 100%|██████████| 373/373 [00:10<00:00, 36.22it/s]\n",
      "Training Epoch 1807: 100%|██████████| 373/373 [00:10<00:00, 36.60it/s]\n",
      "Training Epoch 1808: 100%|██████████| 373/373 [00:10<00:00, 36.54it/s]\n",
      "Training Epoch 1809: 100%|██████████| 373/373 [00:10<00:00, 36.26it/s]\n",
      "Training Epoch 1810: 100%|██████████| 373/373 [00:10<00:00, 36.33it/s]\n",
      "Training Epoch 1811: 100%|██████████| 373/373 [00:10<00:00, 36.33it/s]\n"
     ]
    },
    {
     "name": "stdout",
     "output_type": "stream",
     "text": [
      "Epoch 1810 - Train Loss: 0.5322, Train MSE: 0.5312, Train MAE: 0.5138\n",
      "Epoch 1810 - Validation Loss: 1.2762, Validation MSE: 1.2780, Validation MAE: 0.7776\n"
     ]
    },
    {
     "name": "stderr",
     "output_type": "stream",
     "text": [
      "Training Epoch 1812: 100%|██████████| 373/373 [00:10<00:00, 36.71it/s]\n",
      "Training Epoch 1813: 100%|██████████| 373/373 [00:10<00:00, 36.55it/s]\n",
      "Training Epoch 1814: 100%|██████████| 373/373 [00:10<00:00, 36.49it/s]\n",
      "Training Epoch 1815: 100%|██████████| 373/373 [00:10<00:00, 36.34it/s]\n",
      "Training Epoch 1816: 100%|██████████| 373/373 [00:10<00:00, 36.34it/s]\n",
      "Training Epoch 1817: 100%|██████████| 373/373 [00:10<00:00, 36.62it/s]\n",
      "Training Epoch 1818: 100%|██████████| 373/373 [00:10<00:00, 36.34it/s]\n",
      "Training Epoch 1819: 100%|██████████| 373/373 [00:10<00:00, 36.48it/s]\n",
      "Training Epoch 1820: 100%|██████████| 373/373 [00:10<00:00, 36.35it/s]\n",
      "Training Epoch 1821: 100%|██████████| 373/373 [00:10<00:00, 36.27it/s]\n"
     ]
    },
    {
     "name": "stdout",
     "output_type": "stream",
     "text": [
      "Epoch 1820 - Train Loss: 0.5303, Train MSE: 0.5288, Train MAE: 0.5127\n",
      "Epoch 1820 - Validation Loss: 1.2687, Validation MSE: 1.2704, Validation MAE: 0.7775\n"
     ]
    },
    {
     "name": "stderr",
     "output_type": "stream",
     "text": [
      "Training Epoch 1822: 100%|██████████| 373/373 [00:10<00:00, 36.62it/s]\n",
      "Training Epoch 1823: 100%|██████████| 373/373 [00:10<00:00, 36.47it/s]\n",
      "Training Epoch 1824: 100%|██████████| 373/373 [00:10<00:00, 36.47it/s]\n",
      "Training Epoch 1825: 100%|██████████| 373/373 [00:10<00:00, 36.33it/s]\n",
      "Training Epoch 1826: 100%|██████████| 373/373 [00:10<00:00, 36.46it/s]\n",
      "Training Epoch 1827: 100%|██████████| 373/373 [00:10<00:00, 36.45it/s]\n",
      "Training Epoch 1828: 100%|██████████| 373/373 [00:10<00:00, 36.44it/s]\n",
      "Training Epoch 1829: 100%|██████████| 373/373 [00:10<00:00, 36.56it/s]\n",
      "Training Epoch 1830: 100%|██████████| 373/373 [00:10<00:00, 36.99it/s]\n",
      "Training Epoch 1831: 100%|██████████| 373/373 [00:10<00:00, 36.83it/s]\n"
     ]
    },
    {
     "name": "stdout",
     "output_type": "stream",
     "text": [
      "Epoch 1830 - Train Loss: 0.5324, Train MSE: 0.5335, Train MAE: 0.5141\n",
      "Epoch 1830 - Validation Loss: 1.2598, Validation MSE: 1.2614, Validation MAE: 0.7743\n"
     ]
    },
    {
     "name": "stderr",
     "output_type": "stream",
     "text": [
      "Training Epoch 1832: 100%|██████████| 373/373 [00:10<00:00, 36.53it/s]\n",
      "Training Epoch 1833: 100%|██████████| 373/373 [00:10<00:00, 36.59it/s]\n",
      "Training Epoch 1834: 100%|██████████| 373/373 [00:10<00:00, 36.56it/s]\n",
      "Training Epoch 1835: 100%|██████████| 373/373 [00:10<00:00, 36.66it/s]\n",
      "Training Epoch 1836: 100%|██████████| 373/373 [00:10<00:00, 36.73it/s]\n",
      "Training Epoch 1837: 100%|██████████| 373/373 [00:10<00:00, 36.40it/s]\n",
      "Training Epoch 1838: 100%|██████████| 373/373 [00:10<00:00, 36.50it/s]\n",
      "Training Epoch 1839: 100%|██████████| 373/373 [00:10<00:00, 36.52it/s]\n",
      "Training Epoch 1840: 100%|██████████| 373/373 [00:10<00:00, 37.03it/s]\n",
      "Training Epoch 1841: 100%|██████████| 373/373 [00:10<00:00, 36.69it/s]\n"
     ]
    },
    {
     "name": "stdout",
     "output_type": "stream",
     "text": [
      "Epoch 1840 - Train Loss: 0.5328, Train MSE: 0.5331, Train MAE: 0.5167\n",
      "Epoch 1840 - Validation Loss: 1.2704, Validation MSE: 1.2720, Validation MAE: 0.7761\n"
     ]
    },
    {
     "name": "stderr",
     "output_type": "stream",
     "text": [
      "Training Epoch 1842: 100%|██████████| 373/373 [00:10<00:00, 36.64it/s]\n",
      "Training Epoch 1843: 100%|██████████| 373/373 [00:10<00:00, 36.69it/s]\n",
      "Training Epoch 1844: 100%|██████████| 373/373 [00:10<00:00, 36.79it/s]\n",
      "Training Epoch 1845: 100%|██████████| 373/373 [00:10<00:00, 36.79it/s]\n",
      "Training Epoch 1846: 100%|██████████| 373/373 [00:10<00:00, 36.76it/s]\n",
      "Training Epoch 1847: 100%|██████████| 373/373 [00:10<00:00, 36.66it/s]\n",
      "Training Epoch 1848: 100%|██████████| 373/373 [00:10<00:00, 36.57it/s]\n",
      "Training Epoch 1849: 100%|██████████| 373/373 [00:10<00:00, 36.78it/s]\n",
      "Training Epoch 1850: 100%|██████████| 373/373 [00:10<00:00, 37.08it/s]\n",
      "Training Epoch 1851: 100%|██████████| 373/373 [00:10<00:00, 36.73it/s]\n"
     ]
    },
    {
     "name": "stdout",
     "output_type": "stream",
     "text": [
      "Epoch 1850 - Train Loss: 0.5207, Train MSE: 0.5215, Train MAE: 0.5100\n",
      "Epoch 1850 - Validation Loss: 1.2548, Validation MSE: 1.2565, Validation MAE: 0.7694\n"
     ]
    },
    {
     "name": "stderr",
     "output_type": "stream",
     "text": [
      "Training Epoch 1852: 100%|██████████| 373/373 [00:10<00:00, 36.54it/s]\n",
      "Training Epoch 1853: 100%|██████████| 373/373 [00:10<00:00, 36.61it/s]\n",
      "Training Epoch 1854: 100%|██████████| 373/373 [00:10<00:00, 36.74it/s]\n",
      "Training Epoch 1855: 100%|██████████| 373/373 [00:10<00:00, 36.47it/s]\n",
      "Training Epoch 1856: 100%|██████████| 373/373 [00:10<00:00, 36.58it/s]\n",
      "Training Epoch 1857: 100%|██████████| 373/373 [00:10<00:00, 36.45it/s]\n",
      "Training Epoch 1858: 100%|██████████| 373/373 [00:10<00:00, 36.65it/s]\n",
      "Training Epoch 1859: 100%|██████████| 373/373 [00:10<00:00, 36.86it/s]\n",
      "Training Epoch 1860: 100%|██████████| 373/373 [00:10<00:00, 36.65it/s]\n",
      "Training Epoch 1861: 100%|██████████| 373/373 [00:10<00:00, 36.58it/s]\n"
     ]
    },
    {
     "name": "stdout",
     "output_type": "stream",
     "text": [
      "Epoch 1860 - Train Loss: 0.5408, Train MSE: 0.5420, Train MAE: 0.5166\n",
      "Epoch 1860 - Validation Loss: 1.2546, Validation MSE: 1.2558, Validation MAE: 0.7701\n"
     ]
    },
    {
     "name": "stderr",
     "output_type": "stream",
     "text": [
      "Training Epoch 1862: 100%|██████████| 373/373 [00:10<00:00, 36.54it/s]\n",
      "Training Epoch 1863: 100%|██████████| 373/373 [00:10<00:00, 36.71it/s]\n",
      "Training Epoch 1864: 100%|██████████| 373/373 [00:10<00:00, 36.78it/s]\n",
      "Training Epoch 1865: 100%|██████████| 373/373 [00:10<00:00, 36.72it/s]\n",
      "Training Epoch 1866: 100%|██████████| 373/373 [00:10<00:00, 36.56it/s]\n",
      "Training Epoch 1867: 100%|██████████| 373/373 [00:10<00:00, 36.60it/s]\n",
      "Training Epoch 1868: 100%|██████████| 373/373 [00:10<00:00, 36.76it/s]\n",
      "Training Epoch 1869: 100%|██████████| 373/373 [00:10<00:00, 36.79it/s]\n",
      "Training Epoch 1870: 100%|██████████| 373/373 [00:10<00:00, 36.55it/s]\n",
      "Training Epoch 1871: 100%|██████████| 373/373 [00:10<00:00, 36.66it/s]\n"
     ]
    },
    {
     "name": "stdout",
     "output_type": "stream",
     "text": [
      "Epoch 1870 - Train Loss: 0.5288, Train MSE: 0.5292, Train MAE: 0.5121\n",
      "Epoch 1870 - Validation Loss: 1.3004, Validation MSE: 1.3021, Validation MAE: 0.7789\n"
     ]
    },
    {
     "name": "stderr",
     "output_type": "stream",
     "text": [
      "Training Epoch 1872: 100%|██████████| 373/373 [00:10<00:00, 37.17it/s]\n",
      "Training Epoch 1873: 100%|██████████| 373/373 [00:10<00:00, 36.61it/s]\n",
      "Training Epoch 1874: 100%|██████████| 373/373 [00:10<00:00, 36.56it/s]\n",
      "Training Epoch 1875: 100%|██████████| 373/373 [00:10<00:00, 36.51it/s]\n",
      "Training Epoch 1876: 100%|██████████| 373/373 [00:10<00:00, 36.46it/s]\n",
      "Training Epoch 1877: 100%|██████████| 373/373 [00:10<00:00, 36.53it/s]\n",
      "Training Epoch 1878: 100%|██████████| 373/373 [00:10<00:00, 36.44it/s]\n",
      "Training Epoch 1879: 100%|██████████| 373/373 [00:10<00:00, 36.65it/s]\n",
      "Training Epoch 1880: 100%|██████████| 373/373 [00:10<00:00, 36.48it/s]\n",
      "Training Epoch 1881: 100%|██████████| 373/373 [00:10<00:00, 36.49it/s]\n"
     ]
    },
    {
     "name": "stdout",
     "output_type": "stream",
     "text": [
      "Epoch 1880 - Train Loss: 0.5370, Train MSE: 0.5376, Train MAE: 0.5136\n",
      "Epoch 1880 - Validation Loss: 1.2549, Validation MSE: 1.2565, Validation MAE: 0.7711\n"
     ]
    },
    {
     "name": "stderr",
     "output_type": "stream",
     "text": [
      "Training Epoch 1882: 100%|██████████| 373/373 [00:10<00:00, 36.70it/s]\n",
      "Training Epoch 1883: 100%|██████████| 373/373 [00:10<00:00, 36.66it/s]\n",
      "Training Epoch 1884: 100%|██████████| 373/373 [00:10<00:00, 36.40it/s]\n",
      "Training Epoch 1885: 100%|██████████| 373/373 [00:10<00:00, 36.66it/s]\n",
      "Training Epoch 1886: 100%|██████████| 373/373 [00:10<00:00, 36.65it/s]\n",
      "Training Epoch 1887: 100%|██████████| 373/373 [00:10<00:00, 36.75it/s]\n",
      "Training Epoch 1888: 100%|██████████| 373/373 [00:10<00:00, 36.59it/s]\n",
      "Training Epoch 1889: 100%|██████████| 373/373 [00:10<00:00, 36.34it/s]\n",
      "Training Epoch 1890: 100%|██████████| 373/373 [00:10<00:00, 36.67it/s]\n",
      "Training Epoch 1891: 100%|██████████| 373/373 [00:10<00:00, 36.65it/s]\n"
     ]
    },
    {
     "name": "stdout",
     "output_type": "stream",
     "text": [
      "Epoch 1890 - Train Loss: 0.5192, Train MSE: 0.5202, Train MAE: 0.5114\n",
      "Epoch 1890 - Validation Loss: 1.2512, Validation MSE: 1.2528, Validation MAE: 0.7752\n"
     ]
    },
    {
     "name": "stderr",
     "output_type": "stream",
     "text": [
      "Training Epoch 1892: 100%|██████████| 373/373 [00:10<00:00, 36.49it/s]\n",
      "Training Epoch 1893: 100%|██████████| 373/373 [00:10<00:00, 36.66it/s]\n",
      "Training Epoch 1894: 100%|██████████| 373/373 [00:10<00:00, 36.55it/s]\n",
      "Training Epoch 1895: 100%|██████████| 373/373 [00:10<00:00, 36.64it/s]\n",
      "Training Epoch 1896: 100%|██████████| 373/373 [00:10<00:00, 36.73it/s]\n",
      "Training Epoch 1897: 100%|██████████| 373/373 [00:10<00:00, 36.58it/s]\n",
      "Training Epoch 1898: 100%|██████████| 373/373 [00:10<00:00, 36.57it/s]\n",
      "Training Epoch 1899: 100%|██████████| 373/373 [00:10<00:00, 36.42it/s]\n",
      "Training Epoch 1900: 100%|██████████| 373/373 [00:10<00:00, 36.63it/s]\n",
      "Training Epoch 1901: 100%|██████████| 373/373 [00:10<00:00, 36.72it/s]\n"
     ]
    },
    {
     "name": "stdout",
     "output_type": "stream",
     "text": [
      "Epoch 1900 - Train Loss: 0.5193, Train MSE: 0.5174, Train MAE: 0.5060\n",
      "Epoch 1900 - Validation Loss: 1.3123, Validation MSE: 1.3137, Validation MAE: 0.8096\n"
     ]
    },
    {
     "name": "stderr",
     "output_type": "stream",
     "text": [
      "Training Epoch 1902: 100%|██████████| 373/373 [00:10<00:00, 36.40it/s]\n",
      "Training Epoch 1903: 100%|██████████| 373/373 [00:10<00:00, 36.59it/s]\n",
      "Training Epoch 1904: 100%|██████████| 373/373 [00:10<00:00, 36.70it/s]\n",
      "Training Epoch 1905: 100%|██████████| 373/373 [00:10<00:00, 36.61it/s]\n",
      "Training Epoch 1906: 100%|██████████| 373/373 [00:10<00:00, 36.56it/s]\n",
      "Training Epoch 1907: 100%|██████████| 373/373 [00:10<00:00, 36.46it/s]\n",
      "Training Epoch 1908: 100%|██████████| 373/373 [00:10<00:00, 36.59it/s]\n",
      "Training Epoch 1909: 100%|██████████| 373/373 [00:10<00:00, 36.53it/s]\n",
      "Training Epoch 1910: 100%|██████████| 373/373 [00:10<00:00, 36.68it/s]\n",
      "Training Epoch 1911: 100%|██████████| 373/373 [00:10<00:00, 36.70it/s]\n"
     ]
    },
    {
     "name": "stdout",
     "output_type": "stream",
     "text": [
      "Epoch 1910 - Train Loss: 0.5295, Train MSE: 0.5307, Train MAE: 0.5149\n",
      "Epoch 1910 - Validation Loss: 1.2839, Validation MSE: 1.2858, Validation MAE: 0.7721\n"
     ]
    },
    {
     "name": "stderr",
     "output_type": "stream",
     "text": [
      "Training Epoch 1912: 100%|██████████| 373/373 [00:10<00:00, 36.61it/s]\n",
      "Training Epoch 1913: 100%|██████████| 373/373 [00:10<00:00, 36.59it/s]\n",
      "Training Epoch 1914: 100%|██████████| 373/373 [00:10<00:00, 37.13it/s]\n",
      "Training Epoch 1915: 100%|██████████| 373/373 [00:10<00:00, 36.53it/s]\n",
      "Training Epoch 1916: 100%|██████████| 373/373 [00:10<00:00, 36.53it/s]\n",
      "Training Epoch 1917: 100%|██████████| 373/373 [00:10<00:00, 36.59it/s]\n",
      "Training Epoch 1918: 100%|██████████| 373/373 [00:10<00:00, 36.60it/s]\n",
      "Training Epoch 1919: 100%|██████████| 373/373 [00:10<00:00, 36.82it/s]\n",
      "Training Epoch 1920: 100%|██████████| 373/373 [00:10<00:00, 36.59it/s]\n",
      "Training Epoch 1921: 100%|██████████| 373/373 [00:10<00:00, 36.53it/s]\n"
     ]
    },
    {
     "name": "stdout",
     "output_type": "stream",
     "text": [
      "Epoch 1920 - Train Loss: 0.5247, Train MSE: 0.5248, Train MAE: 0.5105\n",
      "Epoch 1920 - Validation Loss: 1.2592, Validation MSE: 1.2608, Validation MAE: 0.7699\n"
     ]
    },
    {
     "name": "stderr",
     "output_type": "stream",
     "text": [
      "Training Epoch 1922: 100%|██████████| 373/373 [00:10<00:00, 36.63it/s]\n",
      "Training Epoch 1923: 100%|██████████| 373/373 [00:10<00:00, 36.69it/s]\n",
      "Training Epoch 1924: 100%|██████████| 373/373 [00:10<00:00, 36.77it/s]\n",
      "Training Epoch 1925: 100%|██████████| 373/373 [00:10<00:00, 36.51it/s]\n",
      "Training Epoch 1926: 100%|██████████| 373/373 [00:10<00:00, 36.60it/s]\n",
      "Training Epoch 1927: 100%|██████████| 373/373 [00:10<00:00, 36.58it/s]\n",
      "Training Epoch 1928: 100%|██████████| 373/373 [00:10<00:00, 36.66it/s]\n",
      "Training Epoch 1929: 100%|██████████| 373/373 [00:10<00:00, 36.59it/s]\n",
      "Training Epoch 1930: 100%|██████████| 373/373 [00:10<00:00, 36.49it/s]\n",
      "Training Epoch 1931: 100%|██████████| 373/373 [00:10<00:00, 36.57it/s]\n"
     ]
    },
    {
     "name": "stdout",
     "output_type": "stream",
     "text": [
      "Epoch 1930 - Train Loss: 0.5329, Train MSE: 0.5302, Train MAE: 0.5171\n",
      "Epoch 1930 - Validation Loss: 1.2750, Validation MSE: 1.2767, Validation MAE: 0.7758\n"
     ]
    },
    {
     "name": "stderr",
     "output_type": "stream",
     "text": [
      "Training Epoch 1932: 100%|██████████| 373/373 [00:10<00:00, 36.51it/s]\n",
      "Training Epoch 1933: 100%|██████████| 373/373 [00:10<00:00, 36.72it/s]\n",
      "Training Epoch 1934: 100%|██████████| 373/373 [00:10<00:00, 36.79it/s]\n",
      "Training Epoch 1935: 100%|██████████| 373/373 [00:10<00:00, 36.55it/s]\n",
      "Training Epoch 1936: 100%|██████████| 373/373 [00:10<00:00, 36.62it/s]\n",
      "Training Epoch 1937: 100%|██████████| 373/373 [00:10<00:00, 36.89it/s]\n",
      "Training Epoch 1938: 100%|██████████| 373/373 [00:10<00:00, 36.87it/s]\n",
      "Training Epoch 1939: 100%|██████████| 373/373 [00:10<00:00, 36.74it/s]\n",
      "Training Epoch 1940: 100%|██████████| 373/373 [00:10<00:00, 35.63it/s]\n",
      "Training Epoch 1941: 100%|██████████| 373/373 [00:10<00:00, 36.64it/s]\n"
     ]
    },
    {
     "name": "stdout",
     "output_type": "stream",
     "text": [
      "Epoch 1940 - Train Loss: 0.5280, Train MSE: 0.5290, Train MAE: 0.5116\n",
      "Epoch 1940 - Validation Loss: 1.2763, Validation MSE: 1.2780, Validation MAE: 0.7753\n"
     ]
    },
    {
     "name": "stderr",
     "output_type": "stream",
     "text": [
      "Training Epoch 1942: 100%|██████████| 373/373 [00:10<00:00, 36.82it/s]\n",
      "Training Epoch 1943: 100%|██████████| 373/373 [00:10<00:00, 36.78it/s]\n",
      "Training Epoch 1944: 100%|██████████| 373/373 [00:10<00:00, 36.60it/s]\n",
      "Training Epoch 1945: 100%|██████████| 373/373 [00:10<00:00, 36.67it/s]\n",
      "Training Epoch 1946: 100%|██████████| 373/373 [00:10<00:00, 36.49it/s]\n",
      "Training Epoch 1947: 100%|██████████| 373/373 [00:10<00:00, 36.85it/s]\n",
      "Training Epoch 1948: 100%|██████████| 373/373 [00:10<00:00, 36.59it/s]\n",
      "Training Epoch 1949: 100%|██████████| 373/373 [00:10<00:00, 36.81it/s]\n",
      "Training Epoch 1950: 100%|██████████| 373/373 [00:10<00:00, 36.98it/s]\n",
      "Training Epoch 1951: 100%|██████████| 373/373 [00:10<00:00, 36.81it/s]\n"
     ]
    },
    {
     "name": "stdout",
     "output_type": "stream",
     "text": [
      "Epoch 1950 - Train Loss: 0.5241, Train MSE: 0.5249, Train MAE: 0.5092\n",
      "Epoch 1950 - Validation Loss: 1.2887, Validation MSE: 1.2906, Validation MAE: 0.7837\n"
     ]
    },
    {
     "name": "stderr",
     "output_type": "stream",
     "text": [
      "Training Epoch 1952: 100%|██████████| 373/373 [00:10<00:00, 36.78it/s]\n",
      "Training Epoch 1953: 100%|██████████| 373/373 [00:10<00:00, 36.61it/s]\n",
      "Training Epoch 1954: 100%|██████████| 373/373 [00:10<00:00, 36.58it/s]\n",
      "Training Epoch 1955: 100%|██████████| 373/373 [00:10<00:00, 36.58it/s]\n",
      "Training Epoch 1956: 100%|██████████| 373/373 [00:10<00:00, 36.65it/s]\n",
      "Training Epoch 1957: 100%|██████████| 373/373 [00:10<00:00, 36.51it/s]\n",
      "Training Epoch 1958: 100%|██████████| 373/373 [00:10<00:00, 36.56it/s]\n",
      "Training Epoch 1959: 100%|██████████| 373/373 [00:10<00:00, 36.54it/s]\n",
      "Training Epoch 1960: 100%|██████████| 373/373 [00:10<00:00, 36.62it/s]\n",
      "Training Epoch 1961: 100%|██████████| 373/373 [00:10<00:00, 36.68it/s]\n"
     ]
    },
    {
     "name": "stdout",
     "output_type": "stream",
     "text": [
      "Epoch 1960 - Train Loss: 0.5179, Train MSE: 0.5188, Train MAE: 0.5072\n",
      "Epoch 1960 - Validation Loss: 1.2963, Validation MSE: 1.2982, Validation MAE: 0.7904\n"
     ]
    },
    {
     "name": "stderr",
     "output_type": "stream",
     "text": [
      "Training Epoch 1962: 100%|██████████| 373/373 [00:10<00:00, 36.29it/s]\n",
      "Training Epoch 1963: 100%|██████████| 373/373 [00:10<00:00, 36.43it/s]\n",
      "Training Epoch 1964: 100%|██████████| 373/373 [00:10<00:00, 36.50it/s]\n",
      "Training Epoch 1965: 100%|██████████| 373/373 [00:10<00:00, 36.66it/s]\n",
      "Training Epoch 1966: 100%|██████████| 373/373 [00:10<00:00, 36.66it/s]\n",
      "Training Epoch 1967: 100%|██████████| 373/373 [00:10<00:00, 36.60it/s]\n",
      "Training Epoch 1968: 100%|██████████| 373/373 [00:10<00:00, 36.63it/s]\n",
      "Training Epoch 1969: 100%|██████████| 373/373 [00:10<00:00, 36.74it/s]\n",
      "Training Epoch 1970: 100%|██████████| 373/373 [00:10<00:00, 36.74it/s]\n",
      "Training Epoch 1971: 100%|██████████| 373/373 [00:10<00:00, 36.58it/s]\n"
     ]
    },
    {
     "name": "stdout",
     "output_type": "stream",
     "text": [
      "Epoch 1970 - Train Loss: 0.5310, Train MSE: 0.5322, Train MAE: 0.5172\n",
      "Epoch 1970 - Validation Loss: 1.2728, Validation MSE: 1.2742, Validation MAE: 0.7885\n"
     ]
    },
    {
     "name": "stderr",
     "output_type": "stream",
     "text": [
      "Training Epoch 1972: 100%|██████████| 373/373 [00:10<00:00, 36.52it/s]\n",
      "Training Epoch 1973: 100%|██████████| 373/373 [00:10<00:00, 36.59it/s]\n",
      "Training Epoch 1974: 100%|██████████| 373/373 [00:10<00:00, 36.81it/s]\n",
      "Training Epoch 1975: 100%|██████████| 373/373 [00:10<00:00, 36.90it/s]\n",
      "Training Epoch 1976: 100%|██████████| 373/373 [00:10<00:00, 36.66it/s]\n",
      "Training Epoch 1977: 100%|██████████| 373/373 [00:10<00:00, 36.59it/s]\n",
      "Training Epoch 1978: 100%|██████████| 373/373 [00:10<00:00, 36.60it/s]\n",
      "Training Epoch 1979: 100%|██████████| 373/373 [00:10<00:00, 37.13it/s]\n",
      "Training Epoch 1980: 100%|██████████| 373/373 [00:10<00:00, 36.82it/s]\n",
      "Training Epoch 1981: 100%|██████████| 373/373 [00:10<00:00, 36.35it/s]\n"
     ]
    },
    {
     "name": "stdout",
     "output_type": "stream",
     "text": [
      "Epoch 1980 - Train Loss: 0.5260, Train MSE: 0.5270, Train MAE: 0.5114\n",
      "Epoch 1980 - Validation Loss: 1.2651, Validation MSE: 1.2668, Validation MAE: 0.7725\n"
     ]
    },
    {
     "name": "stderr",
     "output_type": "stream",
     "text": [
      "Training Epoch 1982: 100%|██████████| 373/373 [00:10<00:00, 36.62it/s]\n",
      "Training Epoch 1983: 100%|██████████| 373/373 [00:10<00:00, 36.60it/s]\n",
      "Training Epoch 1984: 100%|██████████| 373/373 [00:10<00:00, 36.76it/s]\n",
      "Training Epoch 1985: 100%|██████████| 373/373 [00:10<00:00, 36.53it/s]\n",
      "Training Epoch 1986: 100%|██████████| 373/373 [00:10<00:00, 36.35it/s]\n",
      "Training Epoch 1987: 100%|██████████| 373/373 [00:10<00:00, 36.14it/s]\n",
      "Training Epoch 1988: 100%|██████████| 373/373 [00:10<00:00, 36.12it/s]\n",
      "Training Epoch 1989: 100%|██████████| 373/373 [00:10<00:00, 36.54it/s]\n",
      "Training Epoch 1990: 100%|██████████| 373/373 [00:10<00:00, 36.47it/s]\n",
      "Training Epoch 1991: 100%|██████████| 373/373 [00:10<00:00, 36.35it/s]\n"
     ]
    },
    {
     "name": "stdout",
     "output_type": "stream",
     "text": [
      "Epoch 1990 - Train Loss: 0.5208, Train MSE: 0.5217, Train MAE: 0.5064\n",
      "Epoch 1990 - Validation Loss: 1.3090, Validation MSE: 1.3103, Validation MAE: 0.7934\n"
     ]
    },
    {
     "name": "stderr",
     "output_type": "stream",
     "text": [
      "Training Epoch 1992: 100%|██████████| 373/373 [00:10<00:00, 36.53it/s]\n",
      "Training Epoch 1993: 100%|██████████| 373/373 [00:10<00:00, 36.57it/s]\n",
      "Training Epoch 1994: 100%|██████████| 373/373 [00:10<00:00, 36.31it/s]\n",
      "Training Epoch 1995: 100%|██████████| 373/373 [00:10<00:00, 36.44it/s]\n",
      "Training Epoch 1996: 100%|██████████| 373/373 [00:10<00:00, 36.35it/s]\n",
      "Training Epoch 1997: 100%|██████████| 373/373 [00:10<00:00, 36.38it/s]\n",
      "Training Epoch 1998: 100%|██████████| 373/373 [00:10<00:00, 36.50it/s]\n",
      "Training Epoch 1999: 100%|██████████| 373/373 [00:10<00:00, 36.32it/s]\n",
      "Training Epoch 2000: 100%|██████████| 373/373 [00:10<00:00, 36.31it/s]\n"
     ]
    },
    {
     "name": "stdout",
     "output_type": "stream",
     "text": [
      "Test MSE: 1.2889, Test MAE: 0.7873\n"
     ]
    }
   ],
   "source": [
    "\n",
    "\n",
    "# Training and Validation Loop\n",
    "for epoch in range(2000):\n",
    "    model.train()\n",
    "    total_loss = 0.0\n",
    "    val_total_loss = 0.0\n",
    "    train_predictions, train_labels = [], []\n",
    "\n",
    "    for batch in tqdm(train_loader, desc=f\"Training Epoch {epoch + 1}\"):\n",
    "        mol_features = batch['metabolite_features'].to(device)\n",
    "        protein_features = batch['protein_features'].to(device)\n",
    "        labels = batch['label'].to(device)\n",
    "\n",
    "        optimizer.zero_grad()\n",
    "        outputs = model(mol_features, protein_features)\n",
    "        loss = criterion(outputs, labels)\n",
    "        loss.backward()\n",
    "        optimizer.step()\n",
    "        total_loss += loss.item()\n",
    "\n",
    "        # Store predictions and labels for metrics\n",
    "        train_predictions.extend(outputs.detach().cpu().numpy())\n",
    "        train_labels.extend(labels.cpu().numpy())\n",
    "\n",
    "    # Calculate training metrics\n",
    "    train_mse = ((torch.tensor(train_predictions) - torch.tensor(train_labels))**2).mean().item()\n",
    "    train_mae = torch.abs(torch.tensor(train_predictions) - torch.tensor(train_labels)).mean().item()\n",
    "    train_rmse = torch.sqrt((torch.tensor(train_predictions) - torch.tensor(train_labels)) ** 2).mean().item()\n",
    "    train_r2 = r2_score(np.array(train_labels), np.array(train_predictions))\n",
    "    train_pearson_corr, _ = pearsonr(np.array(train_labels), np.array(train_predictions))\n",
    "    train_median_ae = median_absolute_error(np.array(train_labels), np.array(train_predictions))\n",
    "    train_explained_var = explained_variance_score(np.array(train_labels), np.array(train_predictions))\n",
    "\n",
    "\n",
    "\n",
    "    if epoch % 10 == 0:\n",
    "        print(f\"Epoch {epoch} - Train Loss: {total_loss / len(train_loader):.4f}, Train MSE: {train_mse:.4f}, Train MAE: {train_mae:.4f}\")\n",
    "\n",
    "    # Validation\n",
    "    model.eval()\n",
    "    val_predictions, val_labels = [], []\n",
    "    with torch.no_grad():\n",
    "        for batch in val_loader:\n",
    "            mol_features = batch['metabolite_features'].to(device)\n",
    "            protein_features = batch['protein_features'].to(device)\n",
    "            labels = batch['label'].to(device)\n",
    "\n",
    "            outputs = model(mol_features, protein_features)\n",
    "            val_predictions.extend(outputs.cpu().numpy())\n",
    "            val_labels.extend(labels.cpu().numpy())\n",
    "            val_loss = criterion(outputs, labels)\n",
    "            val_total_loss += val_loss.item()\n",
    "\n",
    "    val_mse = ((torch.tensor(val_predictions) - torch.tensor(val_labels))**2).mean().item()\n",
    "    val_mae = torch.abs(torch.tensor(val_predictions) - torch.tensor(val_labels)).mean().item()\n",
    "    val_rmse = torch.sqrt((torch.tensor(val_predictions) - torch.tensor(val_labels)) ** 2).mean().item()\n",
    "    val_r2 = r2_score(np.array(val_labels), np.array(val_predictions))\n",
    "    val_pearson_corr, _ = pearsonr(np.array(val_labels), np.array(val_predictions))\n",
    "    val_median_ae = median_absolute_error(np.array(val_labels), np.array(val_predictions))\n",
    "    val_explained_var = explained_variance_score(np.array(val_labels), np.array(val_predictions))\n",
    "\n",
    "    if epoch % 10 == 0:\n",
    "        print(f\"Epoch {epoch} - Validation Loss: {val_total_loss / len(val_loader):.4f}, Validation MSE: {val_mse:.4f}, Validation MAE: {val_mae:.4f}\")\n",
    "\n",
    "    # Save metrics to DataFrame\n",
    "    new_row = {'epoch': epoch + 1, 'Train Loss': total_loss / len(train_loader), 'Train MSE': train_mse, 'Train MAE': train_mae, 'Train RMSE': train_rmse, 'Train R2': train_r2, 'Train Pearson': train_pearson_corr, 'Train Median_AE': train_median_ae, 'Train Explained_VAR': train_explained_var, \n",
    "               'Val Loss': val_total_loss / len(val_loader), 'Val MSE': val_mse, 'Val MAE': val_mae, 'Val RMSE': val_rmse, 'Val R2': val_r2, 'Val Pearson': val_pearson_corr, 'Val Median_AE': val_median_ae, 'Val Explained_VAR': val_explained_var}\n",
    "    train_history = pd.concat([train_history, pd.DataFrame([new_row])], ignore_index=True)\n",
    "\n",
    "# Test Metrics\n",
    "model.eval()\n",
    "test_predictions, test_labels = [], []\n",
    "with torch.no_grad():\n",
    "    for batch in test_loader:\n",
    "        mol_features = batch['metabolite_features'].to(device)\n",
    "        protein_features = batch['protein_features'].to(device)\n",
    "        labels = batch['label'].to(device)\n",
    "\n",
    "        outputs = model(mol_features, protein_features)\n",
    "        test_predictions.extend(outputs.cpu().numpy())\n",
    "        test_labels.extend(labels.cpu().numpy())\n",
    "\n",
    "test_mse = ((torch.tensor(test_predictions) - torch.tensor(test_labels))**2).mean().item()\n",
    "test_mae = torch.abs(torch.tensor(test_predictions) - torch.tensor(test_labels)).mean().item()\n",
    "test_rmse = torch.sqrt((torch.tensor(test_predictions) - torch.tensor(test_labels)) ** 2).mean().item()\n",
    "test_r2 = r2_score(np.array(test_labels), np.array(test_predictions))\n",
    "test_pearson_corr, _ = pearsonr(np.array(test_labels), np.array(test_predictions))\n",
    "test_median_ae = median_absolute_error(np.array(test_labels), np.array(test_predictions))\n",
    "test_explained_var = explained_variance_score(np.array(test_labels), np.array(test_predictions))\n",
    "\n",
    "print(f\"Test MSE: {test_mse:.4f}, Test MAE: {test_mae:.4f}\")\n"
   ]
  },
  {
   "cell_type": "code",
   "execution_count": 17,
   "metadata": {},
   "outputs": [],
   "source": [
    "# append the performance to the csv file\n",
    "df = {\n",
    "    'Model':['CNN','CNN','CNN'],\n",
    "    'Dataset':['Train','Validation','Test'],\n",
    "    'MSE':[train_history['Train MSE'].mean(),train_history['Val MSE'].mean(),test_mse],\n",
    "    'RMSE':[train_history['Train RMSE'].mean(),train_history['Val RMSE'].mean(),test_rmse],\n",
    "    'MAE':[train_history['Train MAE'].mean(),train_history['Val MAE'].mean(),test_mae],\n",
    "    'R2':[train_history['Train R2'].mean(),train_history['Val R2'].mean(),test_r2],\n",
    "    'Pearson':[train_history['Train Pearson'].mean(),train_history['Val Pearson'].mean(),test_pearson_corr],\n",
    "    'Median_AE':[train_history['Train Median_AE'].mean(),train_history['Val Median_AE'].mean(),test_median_ae],\n",
    "    'Explained_VAR':[train_history['Train Explained_VAR'].mean(),train_history['Val Explained_VAR'].mean(),test_explained_var],\n",
    "    'Dataspliting Mode':['random','random','random']\n",
    "}\n",
    "df = pd.DataFrame(df)\n",
    "\n",
    "df.to_csv('/Users/pinchichen/2025S lab/AI drug project/code/model performance metrics.csv', mode='a', header=False)"
   ]
  },
  {
   "cell_type": "code",
   "execution_count": 18,
   "metadata": {},
   "outputs": [],
   "source": [
    "# Save the model and training history\n",
    "save_dir = './trained_model'\n",
    "# save model weights and optimizer state\n",
    "torch.save(model.state_dict(), os.path.join(save_dir, 'CNN model.pt'))\n",
    "torch.save(optimizer.state_dict(), os.path.join(save_dir, 'CNN optimizer.pt'))"
   ]
  },
  {
   "cell_type": "code",
   "execution_count": 19,
   "metadata": {},
   "outputs": [
    {
     "data": {
      "image/png": "[encoded data removed]",
      "text/plain": [
       "<Figure size 1000x600 with 1 Axes>"
      ]
     },
     "metadata": {},
     "output_type": "display_data"
    }
   ],
   "source": [
    "import matplotlib.pyplot as plt\n",
    "import seaborn as sns\n",
    "sns.set(style='ticks')\n",
    "# Load metrics\n",
    "\n",
    "metrics = train_history\n",
    "\n",
    "# Plot the training loss over epochs using seaborn\n",
    "plt.figure(figsize=(10, 6))\n",
    "# sns.lineplot(data=metrics, x='epoch', y='Train Loss', label='Train Loss')\n",
    "# sns.lineplot(data=metrics, x='epoch', y='Val Loss', label='Val Loss')\n",
    "sns.lineplot(data=metrics, x='epoch', y='Val MSE', label='Valid_RMSE')\n",
    "sns.lineplot(data=metrics, x='epoch', y='Train MSE', label='Train_RMSE')\n",
    "# sns.lineplot(data=metrics, x='Epoch', y='Valid_MAE', label='Valid_MAE')\n",
    "# Add titles and labels\n",
    "plt.title('Training and Validation Metrics Over Epochs', fontsize=14)\n",
    "# Define the range of tick positions\n",
    "plt.xlabel('Epoch', fontsize=12)\n",
    "plt.ylabel('Loss', fontsize=12)\n",
    "plt.grid(False)\n",
    "# Show the plot\n",
    "plt.show()\n"
   ]
  },
  {
   "cell_type": "code",
   "execution_count": 20,
   "metadata": {},
   "outputs": [
    {
     "data": {
      "text/html": [
       "<div>\n",
       "<style scoped>\n",
       "    .dataframe tbody tr th:only-of-type {\n",
       "        vertical-align: middle;\n",
       "    }\n",
       "\n",
       "    .dataframe tbody tr th {\n",
       "        vertical-align: top;\n",
       "    }\n",
       "\n",
       "    .dataframe thead th {\n",
       "        text-align: right;\n",
       "    }\n",
       "</style>\n",
       "<table border=\"1\" class=\"dataframe\">\n",
       "  <thead>\n",
       "    <tr style=\"text-align: right;\">\n",
       "      <th></th>\n",
       "      <th>epoch</th>\n",
       "      <th>Train Loss</th>\n",
       "      <th>Train MSE</th>\n",
       "      <th>Train MAE</th>\n",
       "      <th>Train RMSE</th>\n",
       "      <th>Train R2</th>\n",
       "      <th>Train Pearson</th>\n",
       "      <th>Train Median_AE</th>\n",
       "      <th>Train Explained_VARVal Loss</th>\n",
       "      <th>Val MSE</th>\n",
       "      <th>Val MAE</th>\n",
       "      <th>Val RMSE</th>\n",
       "      <th>Val R2</th>\n",
       "      <th>Val Pearson</th>\n",
       "      <th>Val Median_AE</th>\n",
       "      <th>Val Explained_VAR</th>\n",
       "      <th>Train Explained_VAR</th>\n",
       "      <th>Val Loss</th>\n",
       "    </tr>\n",
       "  </thead>\n",
       "  <tbody>\n",
       "    <tr>\n",
       "      <th>1995</th>\n",
       "      <td>1996</td>\n",
       "      <td>0.515938</td>\n",
       "      <td>0.514656</td>\n",
       "      <td>0.508607</td>\n",
       "      <td>0.508607</td>\n",
       "      <td>0.775433</td>\n",
       "      <td>0.880590</td>\n",
       "      <td>0.356924</td>\n",
       "      <td>NaN</td>\n",
       "      <td>1.294266</td>\n",
       "      <td>0.796548</td>\n",
       "      <td>0.796548</td>\n",
       "      <td>0.450000</td>\n",
       "      <td>0.685109</td>\n",
       "      <td>0.562877</td>\n",
       "      <td>0.454951</td>\n",
       "      <td>0.775437</td>\n",
       "      <td>1.292690</td>\n",
       "    </tr>\n",
       "    <tr>\n",
       "      <th>1996</th>\n",
       "      <td>1997</td>\n",
       "      <td>0.531152</td>\n",
       "      <td>0.524407</td>\n",
       "      <td>0.509303</td>\n",
       "      <td>0.509303</td>\n",
       "      <td>0.771178</td>\n",
       "      <td>0.878174</td>\n",
       "      <td>0.356428</td>\n",
       "      <td>NaN</td>\n",
       "      <td>1.275135</td>\n",
       "      <td>0.775339</td>\n",
       "      <td>0.775339</td>\n",
       "      <td>0.458130</td>\n",
       "      <td>0.689168</td>\n",
       "      <td>0.517742</td>\n",
       "      <td>0.458308</td>\n",
       "      <td>0.771190</td>\n",
       "      <td>1.273521</td>\n",
       "    </tr>\n",
       "    <tr>\n",
       "      <th>1997</th>\n",
       "      <td>1998</td>\n",
       "      <td>0.523882</td>\n",
       "      <td>0.524318</td>\n",
       "      <td>0.510871</td>\n",
       "      <td>0.510871</td>\n",
       "      <td>0.771217</td>\n",
       "      <td>0.878190</td>\n",
       "      <td>0.357281</td>\n",
       "      <td>NaN</td>\n",
       "      <td>1.289032</td>\n",
       "      <td>0.784035</td>\n",
       "      <td>0.784035</td>\n",
       "      <td>0.452225</td>\n",
       "      <td>0.685777</td>\n",
       "      <td>0.529418</td>\n",
       "      <td>0.452516</td>\n",
       "      <td>0.771217</td>\n",
       "      <td>1.287316</td>\n",
       "    </tr>\n",
       "    <tr>\n",
       "      <th>1998</th>\n",
       "      <td>1999</td>\n",
       "      <td>0.532872</td>\n",
       "      <td>0.526476</td>\n",
       "      <td>0.507461</td>\n",
       "      <td>0.507461</td>\n",
       "      <td>0.770275</td>\n",
       "      <td>0.877655</td>\n",
       "      <td>0.351162</td>\n",
       "      <td>NaN</td>\n",
       "      <td>1.283133</td>\n",
       "      <td>0.783863</td>\n",
       "      <td>0.783863</td>\n",
       "      <td>0.454731</td>\n",
       "      <td>0.686196</td>\n",
       "      <td>0.526254</td>\n",
       "      <td>0.455784</td>\n",
       "      <td>0.770278</td>\n",
       "      <td>1.281515</td>\n",
       "    </tr>\n",
       "    <tr>\n",
       "      <th>1999</th>\n",
       "      <td>2000</td>\n",
       "      <td>0.510731</td>\n",
       "      <td>0.511857</td>\n",
       "      <td>0.503622</td>\n",
       "      <td>0.503622</td>\n",
       "      <td>0.776654</td>\n",
       "      <td>0.881283</td>\n",
       "      <td>0.348260</td>\n",
       "      <td>NaN</td>\n",
       "      <td>1.263499</td>\n",
       "      <td>0.768750</td>\n",
       "      <td>0.768750</td>\n",
       "      <td>0.463075</td>\n",
       "      <td>0.690818</td>\n",
       "      <td>0.520474</td>\n",
       "      <td>0.463391</td>\n",
       "      <td>0.776655</td>\n",
       "      <td>1.261750</td>\n",
       "    </tr>\n",
       "  </tbody>\n",
       "</table>\n",
       "</div>"
      ],
      "text/plain": [
       "     epoch  Train Loss  Train MSE  Train MAE  Train RMSE  Train R2  \\\n",
       "1995  1996    0.515938   0.514656   0.508607    0.508607  0.775433   \n",
       "1996  1997    0.531152   0.524407   0.509303    0.509303  0.771178   \n",
       "1997  1998    0.523882   0.524318   0.510871    0.510871  0.771217   \n",
       "1998  1999    0.532872   0.526476   0.507461    0.507461  0.770275   \n",
       "1999  2000    0.510731   0.511857   0.503622    0.503622  0.776654   \n",
       "\n",
       "      Train Pearson  Train Median_AE Train Explained_VARVal Loss   Val MSE  \\\n",
       "1995       0.880590         0.356924                         NaN  1.294266   \n",
       "1996       0.878174         0.356428                         NaN  1.275135   \n",
       "1997       0.878190         0.357281                         NaN  1.289032   \n",
       "1998       0.877655         0.351162                         NaN  1.283133   \n",
       "1999       0.881283         0.348260                         NaN  1.263499   \n",
       "\n",
       "       Val MAE  Val RMSE    Val R2  Val Pearson  Val Median_AE  \\\n",
       "1995  0.796548  0.796548  0.450000     0.685109       0.562877   \n",
       "1996  0.775339  0.775339  0.458130     0.689168       0.517742   \n",
       "1997  0.784035  0.784035  0.452225     0.685777       0.529418   \n",
       "1998  0.783863  0.783863  0.454731     0.686196       0.526254   \n",
       "1999  0.768750  0.768750  0.463075     0.690818       0.520474   \n",
       "\n",
       "      Val Explained_VAR  Train Explained_VAR  Val Loss  \n",
       "1995           0.454951             0.775437  1.292690  \n",
       "1996           0.458308             0.771190  1.273521  \n",
       "1997           0.452516             0.771217  1.287316  \n",
       "1998           0.455784             0.770278  1.281515  \n",
       "1999           0.463391             0.776655  1.261750  "
      ]
     },
     "execution_count": 20,
     "metadata": {},
     "output_type": "execute_result"
    }
   ],
   "source": [
    "train_history.tail()"
   ]
  },
  {
   "cell_type": "code",
   "execution_count": 21,
   "metadata": {},
   "outputs": [
    {
     "data": {
      "image/png": "[encoded data removed]",
      "text/plain": [
       "<Figure size 640x480 with 1 Axes>"
      ]
     },
     "metadata": {},
     "output_type": "display_data"
    }
   ],
   "source": [
    "# Plot the performance\n",
    "import matplotlib.pyplot as plt\n",
    "\n",
    "plt.scatter(test_labels, test_predictions, alpha=0.5)\n",
    "plt.xlabel(\"True Reactivity\")\n",
    "plt.ylabel(\"Predicted Reactivity\")\n",
    "plt.title(\"CNN Predictions vs True Values\")\n",
    "plt.plot([min(test_labels), max(test_labels)], [min(test_labels), max(test_labels)], 'r--')\n",
    "plt.show()\n"
   ]
  },
  {
   "cell_type": "code",
   "execution_count": 13,
   "metadata": {},
   "outputs": [
    {
     "name": "stdout",
     "output_type": "stream",
     "text": [
      "Using device: cuda\n",
      "Predicted Kd: [-0.61922693 -0.75844526 -0.9747951  ... -0.70772016 -0.8542999\n",
      " -0.85294247]\n"
     ]
    }
   ],
   "source": [
    "# 載入模型\n",
    "device = torch.device(\"cuda\" if torch.cuda.is_available() else \"cpu\")\n",
    "print(f\"Using device: {device}\")\n",
    "save_dir = r'.\\pinchi_code\\original dataset\\trained_model\\cold_protein'\n",
    "\n",
    "# 需要知道訓練時的特徵維度\n",
    "mol_input_dim = data.loc[0,'metabolite_features'].shape[0]  # 請替換成你的實際維度\n",
    "protein_input_dim = data.loc[0,\"protein_features\"].shape[0]  # 請替換成你的實際維度\n",
    "\n",
    "# 初始化模型並載入權重\n",
    "model = CNNRegressor(mol_input_dim=mol_input_dim, protein_input_dim=protein_input_dim)\n",
    "model.load_state_dict(torch.load(r\"..\\..\\trained_model\\cold_protein\\CNN model_cold_protein.pt\", map_location=device))\n",
    "model = model.to(device)\n",
    "model.eval()  # 設定為評估模式\n",
    "\n",
    "# 進行預測\n",
    "def predict(model, mol_features, protein_features):\n",
    "    \"\"\"\n",
    "    mol_features: numpy array or tensor, shape (batch_size, mol_input_dim)\n",
    "    protein_features: numpy array or tensor, shape (batch_size, protein_input_dim)\n",
    "    \"\"\"\n",
    "    with torch.no_grad():\n",
    "        if isinstance(mol_features, np.ndarray):\n",
    "            mol_features = torch.tensor(mol_features, dtype=torch.float32)\n",
    "        if isinstance(protein_features, np.ndarray):\n",
    "            protein_features = torch.tensor(protein_features, dtype=torch.float32)\n",
    "        \n",
    "        mol_features = mol_features.to(device)\n",
    "        protein_features = protein_features.to(device)\n",
    "        \n",
    "        predictions = model(mol_features, protein_features)\n",
    "        return predictions.cpu().numpy()\n",
    "\n",
    "# 使用範例\n",
    "mol_features = np.stack(data[\"metabolite_features\"])\n",
    "protein_features = np.stack(data[\"protein_features\"])\n",
    "predictions = predict(model, mol_features, protein_features)\n",
    "print(f\"Predicted Kd: {predictions}\")\n"
   ]
  },
  {
   "cell_type": "code",
   "execution_count": 14,
   "metadata": {},
   "outputs": [
    {
     "data": {
      "text/plain": [
       "['data_cold_mols.joblib']"
      ]
     },
     "execution_count": 14,
     "metadata": {},
     "output_type": "execute_result"
    }
   ],
   "source": [
    "data_cold_protein = data.copy()\n",
    "data_cold_mols = data.copy()\n",
    "import os\n",
    "prefix=\"CNN\"\n",
    "'''\n",
    "if os.path.exists('data_cold_protein.joblib'):\n",
    "    data_cold_protein = joblib.load('data_cold_protein.joblib')\n",
    "    if prefix+\"_pred\" in data_cold_protein.columns:\n",
    "        raise ValueError(\"data_cold_protein already has a prediction column.\")\n",
    "    else:\n",
    "        data_cold_protein[prefix+\"_pred\"] = predictions\n",
    "else:\n",
    "    data_cold_protein[prefix+\"_pred\"] = predictions\n",
    "joblib.dump(data_cold_protein, 'data_cold_protein.joblib')'''\n",
    "\n",
    "if os.path.exists('data_cold_mols.joblib'):\n",
    "    data_cold_mols = joblib.load('data_cold_mols.joblib')\n",
    "    if prefix+\"_pred\" in data_cold_mols.columns:\n",
    "        raise ValueError(\"data_cold_mols already has a prediction column.\")\n",
    "    else:\n",
    "        data_cold_mols[prefix+\"_pred\"] = predictions\n",
    "else:\n",
    "    data_cold_mols[prefix+\"_pred\"] = predictions\n",
    "joblib.dump(data_cold_mols, 'data_cold_mols.joblib')"
   ]
  }
 ],
 "metadata": {
  "kernelspec": {
   "display_name": "conda_venv",
   "language": "python",
   "name": "python3"
  },
  "language_info": {
   "codemirror_mode": {
    "name": "ipython",
    "version": 3
   },
   "file_extension": ".py",
   "mimetype": "text/x-python",
   "name": "python",
   "nbconvert_exporter": "python",
   "pygments_lexer": "ipython3",
   "version": "3.9.21"
  }
 },
 "nbformat": 4,
 "nbformat_minor": 2
}
