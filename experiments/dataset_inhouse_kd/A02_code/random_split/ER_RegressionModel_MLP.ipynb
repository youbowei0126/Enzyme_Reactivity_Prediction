{
 "cells": [
  {
   "cell_type": "code",
   "execution_count": 5,
   "metadata": {},
   "outputs": [],
   "source": [
    "import pandas as pd\n",
    "import numpy as np\n",
    "from tqdm import tqdm\n",
    "import torch\n",
    "import torch.nn as nn\n",
    "import torch.optim as optim\n",
    "from torch.utils.data import DataLoader, Dataset\n",
    "from sklearn.metrics import roc_auc_score\n",
    "from sklearn.model_selection import train_test_split\n",
    "import os\n",
    "import joblib\n"
   ]
  },
  {
   "cell_type": "code",
   "execution_count": 6,
   "metadata": {},
   "outputs": [
    {
     "data": {
      "text/html": [
       "<div>\n",
       "<style scoped>\n",
       "    .dataframe tbody tr th:only-of-type {\n",
       "        vertical-align: middle;\n",
       "    }\n",
       "\n",
       "    .dataframe tbody tr th {\n",
       "        vertical-align: top;\n",
       "    }\n",
       "\n",
       "    .dataframe thead th {\n",
       "        text-align: right;\n",
       "    }\n",
       "</style>\n",
       "<table border=\"1\" class=\"dataframe\">\n",
       "  <thead>\n",
       "    <tr style=\"text-align: right;\">\n",
       "      <th></th>\n",
       "      <th>ECNumber</th>\n",
       "      <th>Organism</th>\n",
       "      <th>Smiles</th>\n",
       "      <th>Substrate</th>\n",
       "      <th>Sequence</th>\n",
       "      <th>Raw Kd</th>\n",
       "      <th>Unit</th>\n",
       "      <th>Log Kd</th>\n",
       "      <th>metabolite_features</th>\n",
       "      <th>protein_features</th>\n",
       "    </tr>\n",
       "  </thead>\n",
       "  <tbody>\n",
       "    <tr>\n",
       "      <th>0</th>\n",
       "      <td>4.2.3.4</td>\n",
       "      <td>Actinidia chinensis</td>\n",
       "      <td>C(C(C(C(COP(=O)(O)O)O)O)O)C(=O)C(=O)O</td>\n",
       "      <td>3-deoxy-D-arabino-heptulosonic acid 7-phosphate</td>\n",
       "      <td>MAAFSLSAKQILSPSTHRPSLSKTTTADSSLRFRNPHSLSLRCSSL...</td>\n",
       "      <td>20.1000</td>\n",
       "      <td>s^(-1)</td>\n",
       "      <td>1.303196</td>\n",
       "      <td>[0.09045384, -0.6035856, -0.5294743, 0.0703877...</td>\n",
       "      <td>[-0.12646541, -0.15512069, 0.0834027, 0.213126...</td>\n",
       "    </tr>\n",
       "    <tr>\n",
       "      <th>1</th>\n",
       "      <td>4.2.3.4</td>\n",
       "      <td>Aspergillus nidulans</td>\n",
       "      <td>C(C(C(C(COP(=O)([O-])[O-])O)O)O)C(=O)C(=O)[O-]</td>\n",
       "      <td>3-deoxy-D-arabino-heptulosonate 7-phosphate</td>\n",
       "      <td>MSNPTKISILGRESIIADFGLWRNYVAKDLISDCSSTTYVLVTDTN...</td>\n",
       "      <td>6.8000</td>\n",
       "      <td>s^(-1)</td>\n",
       "      <td>0.832509</td>\n",
       "      <td>[0.4610253, 0.039623156, -0.4662559, 0.4188257...</td>\n",
       "      <td>[-0.10084063, -0.099633686, -0.011382125, 0.10...</td>\n",
       "    </tr>\n",
       "    <tr>\n",
       "      <th>2</th>\n",
       "      <td>4.2.3.4</td>\n",
       "      <td>Neurospora crassa</td>\n",
       "      <td>C(C(C(C(COP(=O)(O)O)O)O)O)C(=O)C(=O)O</td>\n",
       "      <td>3-deoxy-D-arabino-heptulosonic acid 7-phosphate</td>\n",
       "      <td>MAEPISNPTRINILGKDNIIIDHGIWLNFVAQDLLQNIKSSTYILI...</td>\n",
       "      <td>19.0000</td>\n",
       "      <td>s^(-1)</td>\n",
       "      <td>1.278754</td>\n",
       "      <td>[0.09045384, -0.6035856, -0.5294743, 0.0703877...</td>\n",
       "      <td>[-0.12705962, -0.09898393, 0.0041820942, 0.096...</td>\n",
       "    </tr>\n",
       "    <tr>\n",
       "      <th>3</th>\n",
       "      <td>2.1.1.255</td>\n",
       "      <td>Streptomyces coelicolor</td>\n",
       "      <td>C[S+](CCC(C(=O)[O-])N)CC1C(C(C(O1)N2C=NC3=C(N=...</td>\n",
       "      <td>S-Adenosyl-L-methionine</td>\n",
       "      <td>MTTETTTATATAKIPAPATPYQEDIARYWNNEARPVNLRLGDVDGL...</td>\n",
       "      <td>0.0075</td>\n",
       "      <td>s^(-1)</td>\n",
       "      <td>-2.124939</td>\n",
       "      <td>[0.52348095, -0.18665986, -0.39555183, 0.11716...</td>\n",
       "      <td>[0.0015065962, -0.087554656, -0.014490904, -0....</td>\n",
       "    </tr>\n",
       "    <tr>\n",
       "      <th>4</th>\n",
       "      <td>2.1.1.255</td>\n",
       "      <td>Streptomyces coelicolor</td>\n",
       "      <td>CC(=CCCC(=C(C)COP(=O)(O)OP(=O)(O)O)C)C</td>\n",
       "      <td>(E)-2-Methylgeranyl diphosphate</td>\n",
       "      <td>MTTETTTATATAKIPAPATPYQEDIARYWNNEARPVNLRLGDVDGL...</td>\n",
       "      <td>0.0390</td>\n",
       "      <td>s^(-1)</td>\n",
       "      <td>-1.408935</td>\n",
       "      <td>[0.17630623, -0.4595529, -0.6368343, -0.136045...</td>\n",
       "      <td>[0.0015065962, -0.087554656, -0.014490904, -0....</td>\n",
       "    </tr>\n",
       "    <tr>\n",
       "      <th>...</th>\n",
       "      <td>...</td>\n",
       "      <td>...</td>\n",
       "      <td>...</td>\n",
       "      <td>...</td>\n",
       "      <td>...</td>\n",
       "      <td>...</td>\n",
       "      <td>...</td>\n",
       "      <td>...</td>\n",
       "      <td>...</td>\n",
       "      <td>...</td>\n",
       "    </tr>\n",
       "    <tr>\n",
       "      <th>17005</th>\n",
       "      <td>1.1.1.82</td>\n",
       "      <td>Zea mays</td>\n",
       "      <td>C1C=CN(C=C1C(=O)N)C2C(C(C(O2)COP(=O)(O)OP(=O)(...</td>\n",
       "      <td>NADPH</td>\n",
       "      <td>MGLSTVYSPAGPRLVPAPLGRCRSAQPRRPRRAPLATVRCSVDATK...</td>\n",
       "      <td>955.0000</td>\n",
       "      <td>s^(-1)</td>\n",
       "      <td>2.980003</td>\n",
       "      <td>[0.36284313, -0.21340896, -0.8913718, -0.23485...</td>\n",
       "      <td>[0.039386757, -0.04558141, 0.101506, 0.1012840...</td>\n",
       "    </tr>\n",
       "    <tr>\n",
       "      <th>17006</th>\n",
       "      <td>1.1.1.82</td>\n",
       "      <td>Zea mays</td>\n",
       "      <td>C(C(C(=O)O)O)C(=O)O</td>\n",
       "      <td>L-Malate</td>\n",
       "      <td>MGLSTVYSPAGPRLVPAPLGRCRSAQPRRPRRAPLATVRCSVDATK...</td>\n",
       "      <td>2.9000</td>\n",
       "      <td>s^(-1)</td>\n",
       "      <td>0.462398</td>\n",
       "      <td>[0.045168612, -0.31311044, -0.21087039, -0.292...</td>\n",
       "      <td>[0.039386757, -0.04558141, 0.101506, 0.1012840...</td>\n",
       "    </tr>\n",
       "    <tr>\n",
       "      <th>17007</th>\n",
       "      <td>1.1.1.82</td>\n",
       "      <td>Zea mays</td>\n",
       "      <td>C1=CC(=C[N+](=C1)C2C(C(C(O2)COP(=O)(O)OP(=O)(O...</td>\n",
       "      <td>NADP+</td>\n",
       "      <td>MGLSTVYSPAGPRLVPAPLGRCRSAQPRRPRRAPLATVRCSVDATK...</td>\n",
       "      <td>2.9000</td>\n",
       "      <td>s^(-1)</td>\n",
       "      <td>0.462398</td>\n",
       "      <td>[0.18913552, -0.06542938, -0.8761325, 0.133454...</td>\n",
       "      <td>[0.039386757, -0.04558141, 0.101506, 0.1012840...</td>\n",
       "    </tr>\n",
       "    <tr>\n",
       "      <th>17008</th>\n",
       "      <td>1.1.1.82</td>\n",
       "      <td>Spinacia oleracea</td>\n",
       "      <td>C(C(C(=O)O)O)C(=O)O</td>\n",
       "      <td>L-Malate</td>\n",
       "      <td>MAVAELSPCYQTQIVKPPHLSWLSNNHKLNLLGLPKASRITEICCS...</td>\n",
       "      <td>6.7000</td>\n",
       "      <td>s^(-1)</td>\n",
       "      <td>0.826075</td>\n",
       "      <td>[0.045168612, -0.31311044, -0.21087039, -0.292...</td>\n",
       "      <td>[0.029217303, -0.08372673, 0.0883128, 0.147737...</td>\n",
       "    </tr>\n",
       "    <tr>\n",
       "      <th>17009</th>\n",
       "      <td>1.1.1.82</td>\n",
       "      <td>Spinacia oleracea</td>\n",
       "      <td>C1=CC(=C[N+](=C1)C2C(C(C(O2)COP(=O)(O)OP(=O)(O...</td>\n",
       "      <td>NADP+</td>\n",
       "      <td>MAVAELSPCYQTQIVKPPHLSWLSNNHKLNLLGLPKASRITEICCS...</td>\n",
       "      <td>6.0000</td>\n",
       "      <td>s^(-1)</td>\n",
       "      <td>0.778151</td>\n",
       "      <td>[0.18913552, -0.06542938, -0.8761325, 0.133454...</td>\n",
       "      <td>[0.029217303, -0.08372673, 0.0883128, 0.147737...</td>\n",
       "    </tr>\n",
       "  </tbody>\n",
       "</table>\n",
       "<p>17010 rows × 10 columns</p>\n",
       "</div>"
      ],
      "text/plain": [
       "        ECNumber                 Organism  \\\n",
       "0        4.2.3.4      Actinidia chinensis   \n",
       "1        4.2.3.4     Aspergillus nidulans   \n",
       "2        4.2.3.4        Neurospora crassa   \n",
       "3      2.1.1.255  Streptomyces coelicolor   \n",
       "4      2.1.1.255  Streptomyces coelicolor   \n",
       "...          ...                      ...   \n",
       "17005   1.1.1.82                 Zea mays   \n",
       "17006   1.1.1.82                 Zea mays   \n",
       "17007   1.1.1.82                 Zea mays   \n",
       "17008   1.1.1.82        Spinacia oleracea   \n",
       "17009   1.1.1.82        Spinacia oleracea   \n",
       "\n",
       "                                                  Smiles  \\\n",
       "0                  C(C(C(C(COP(=O)(O)O)O)O)O)C(=O)C(=O)O   \n",
       "1         C(C(C(C(COP(=O)([O-])[O-])O)O)O)C(=O)C(=O)[O-]   \n",
       "2                  C(C(C(C(COP(=O)(O)O)O)O)O)C(=O)C(=O)O   \n",
       "3      C[S+](CCC(C(=O)[O-])N)CC1C(C(C(O1)N2C=NC3=C(N=...   \n",
       "4                 CC(=CCCC(=C(C)COP(=O)(O)OP(=O)(O)O)C)C   \n",
       "...                                                  ...   \n",
       "17005  C1C=CN(C=C1C(=O)N)C2C(C(C(O2)COP(=O)(O)OP(=O)(...   \n",
       "17006                                C(C(C(=O)O)O)C(=O)O   \n",
       "17007  C1=CC(=C[N+](=C1)C2C(C(C(O2)COP(=O)(O)OP(=O)(O...   \n",
       "17008                                C(C(C(=O)O)O)C(=O)O   \n",
       "17009  C1=CC(=C[N+](=C1)C2C(C(C(O2)COP(=O)(O)OP(=O)(O...   \n",
       "\n",
       "                                             Substrate  \\\n",
       "0      3-deoxy-D-arabino-heptulosonic acid 7-phosphate   \n",
       "1          3-deoxy-D-arabino-heptulosonate 7-phosphate   \n",
       "2      3-deoxy-D-arabino-heptulosonic acid 7-phosphate   \n",
       "3                              S-Adenosyl-L-methionine   \n",
       "4                      (E)-2-Methylgeranyl diphosphate   \n",
       "...                                                ...   \n",
       "17005                                            NADPH   \n",
       "17006                                         L-Malate   \n",
       "17007                                            NADP+   \n",
       "17008                                         L-Malate   \n",
       "17009                                            NADP+   \n",
       "\n",
       "                                                Sequence    Raw Kd    Unit  \\\n",
       "0      MAAFSLSAKQILSPSTHRPSLSKTTTADSSLRFRNPHSLSLRCSSL...   20.1000  s^(-1)   \n",
       "1      MSNPTKISILGRESIIADFGLWRNYVAKDLISDCSSTTYVLVTDTN...    6.8000  s^(-1)   \n",
       "2      MAEPISNPTRINILGKDNIIIDHGIWLNFVAQDLLQNIKSSTYILI...   19.0000  s^(-1)   \n",
       "3      MTTETTTATATAKIPAPATPYQEDIARYWNNEARPVNLRLGDVDGL...    0.0075  s^(-1)   \n",
       "4      MTTETTTATATAKIPAPATPYQEDIARYWNNEARPVNLRLGDVDGL...    0.0390  s^(-1)   \n",
       "...                                                  ...       ...     ...   \n",
       "17005  MGLSTVYSPAGPRLVPAPLGRCRSAQPRRPRRAPLATVRCSVDATK...  955.0000  s^(-1)   \n",
       "17006  MGLSTVYSPAGPRLVPAPLGRCRSAQPRRPRRAPLATVRCSVDATK...    2.9000  s^(-1)   \n",
       "17007  MGLSTVYSPAGPRLVPAPLGRCRSAQPRRPRRAPLATVRCSVDATK...    2.9000  s^(-1)   \n",
       "17008  MAVAELSPCYQTQIVKPPHLSWLSNNHKLNLLGLPKASRITEICCS...    6.7000  s^(-1)   \n",
       "17009  MAVAELSPCYQTQIVKPPHLSWLSNNHKLNLLGLPKASRITEICCS...    6.0000  s^(-1)   \n",
       "\n",
       "         Log Kd                                metabolite_features  \\\n",
       "0      1.303196  [0.09045384, -0.6035856, -0.5294743, 0.0703877...   \n",
       "1      0.832509  [0.4610253, 0.039623156, -0.4662559, 0.4188257...   \n",
       "2      1.278754  [0.09045384, -0.6035856, -0.5294743, 0.0703877...   \n",
       "3     -2.124939  [0.52348095, -0.18665986, -0.39555183, 0.11716...   \n",
       "4     -1.408935  [0.17630623, -0.4595529, -0.6368343, -0.136045...   \n",
       "...         ...                                                ...   \n",
       "17005  2.980003  [0.36284313, -0.21340896, -0.8913718, -0.23485...   \n",
       "17006  0.462398  [0.045168612, -0.31311044, -0.21087039, -0.292...   \n",
       "17007  0.462398  [0.18913552, -0.06542938, -0.8761325, 0.133454...   \n",
       "17008  0.826075  [0.045168612, -0.31311044, -0.21087039, -0.292...   \n",
       "17009  0.778151  [0.18913552, -0.06542938, -0.8761325, 0.133454...   \n",
       "\n",
       "                                        protein_features  \n",
       "0      [-0.12646541, -0.15512069, 0.0834027, 0.213126...  \n",
       "1      [-0.10084063, -0.099633686, -0.011382125, 0.10...  \n",
       "2      [-0.12705962, -0.09898393, 0.0041820942, 0.096...  \n",
       "3      [0.0015065962, -0.087554656, -0.014490904, -0....  \n",
       "4      [0.0015065962, -0.087554656, -0.014490904, -0....  \n",
       "...                                                  ...  \n",
       "17005  [0.039386757, -0.04558141, 0.101506, 0.1012840...  \n",
       "17006  [0.039386757, -0.04558141, 0.101506, 0.1012840...  \n",
       "17007  [0.039386757, -0.04558141, 0.101506, 0.1012840...  \n",
       "17008  [0.029217303, -0.08372673, 0.0883128, 0.147737...  \n",
       "17009  [0.029217303, -0.08372673, 0.0883128, 0.147737...  \n",
       "\n",
       "[17010 rows x 10 columns]"
      ]
     },
     "execution_count": 6,
     "metadata": {},
     "output_type": "execute_result"
    }
   ],
   "source": [
    "data = joblib.load('data_with_features.joblib')\n",
    "data"
   ]
  },
  {
   "cell_type": "code",
   "execution_count": 7,
   "metadata": {},
   "outputs": [],
   "source": [
    "# adding 1e-9 to prevent error when doing logarithm\n",
    "# ??????\n",
    "data['label'] = -np.log10(data['Raw Kd'] + 1e-9)"
   ]
  },
  {
   "cell_type": "code",
   "execution_count": 8,
   "metadata": {},
   "outputs": [],
   "source": [
    "# Define dataset\n",
    "class MPI_Dataset(Dataset):\n",
    "    def __init__(self, dataframe):\n",
    "        self.dataframe = dataframe\n",
    "\n",
    "    def __len__(self):\n",
    "        return len(self.dataframe)\n",
    "\n",
    "    def __getitem__(self, idx):\n",
    "        row = self.dataframe.iloc[idx]\n",
    "        return {\n",
    "            'metabolite_features': torch.tensor(np.asarray(row['metabolite_features'], dtype=np.float32)),\n",
    "            'protein_features': torch.tensor(np.asarray(row['protein_features'], dtype=np.float32)),\n",
    "            'label': torch.tensor(float(row['label']), dtype=torch.float32),\n",
    "        }"
   ]
  },
  {
   "cell_type": "code",
   "execution_count": 9,
   "metadata": {},
   "outputs": [],
   "source": [
    "# Load data\n",
    "# Assuming `combined_df` is a pandas DataFrame containing all necessary columns\n",
    "train_df, temp_df = train_test_split(data, test_size=0.3, shuffle=True, random_state=42)\n",
    "val_df, test_df = train_test_split(temp_df, test_size=0.5, shuffle=True, random_state=42)\n",
    "\n",
    "train_dataset = MPI_Dataset(train_df)\n",
    "val_dataset = MPI_Dataset(val_df)\n",
    "test_dataset = MPI_Dataset(test_df)\n",
    "total_dataset = MPI_Dataset(data)\n",
    "\n",
    "\n",
    "train_loader = DataLoader(train_dataset, batch_size=32, shuffle=True)\n",
    "val_loader = DataLoader(val_dataset, batch_size=32)\n",
    "test_loader = DataLoader(test_dataset, batch_size=32)\n",
    "total_loader = DataLoader(total_dataset, batch_size=32, shuffle=False)"
   ]
  },
  {
   "cell_type": "code",
   "execution_count": 10,
   "metadata": {},
   "outputs": [],
   "source": [
    "# cold splitting\n",
    "\n"
   ]
  },
  {
   "cell_type": "code",
   "execution_count": 11,
   "metadata": {},
   "outputs": [],
   "source": [
    "import torch.nn as nn\n",
    "import torch\n",
    "import torch.nn.functional as F\n",
    "\n",
    "# Define MLP Model for Regression\n",
    "class MLPRegressor(nn.Module):\n",
    "    def __init__(self, mol_input_dim, protein_input_dim, hidden_dim=1):\n",
    "        super(MLPRegressor, self).__init__()\n",
    "\n",
    "        self.mol_encoder = nn.Linear(mol_input_dim, hidden_dim)\n",
    "        self.protein_encoder = nn.Linear(protein_input_dim, hidden_dim)\n",
    "        \n",
    "        # norm layer + Dropout\n",
    "        self.layer_norm = nn.LayerNorm(hidden_dim * 2)\n",
    "        self.dropout = nn.Dropout(0.3)\n",
    "\n",
    "        # hidden layer + output layer\n",
    "        self.hidden = nn.Linear(hidden_dim * 2, hidden_dim)\n",
    "        self.regressor = nn.Linear(hidden_dim, 1)\n",
    "\n",
    "        self.activation = nn.ReLU()\n",
    "\n",
    "    def forward(self, mol_input, protein_input):\n",
    "        # Reshape to (B, 1, L) for Conv1d\n",
    "        mol_embedding = self.activation(self.mol_encoder(mol_input))\n",
    "        protein_embedding = self.activation(self.protein_encoder(protein_input))\n",
    "\n",
    "        # Concatenate + Normalize + Dropout\n",
    "        combined = torch.cat((mol_embedding, protein_embedding), dim=-1)\n",
    "        combined = self.layer_norm(combined)\n",
    "        combined = self.dropout(combined)\n",
    "\n",
    "        # Hidden → Regress\n",
    "        hidden_out = self.activation(self.hidden(combined))\n",
    "        output = self.regressor(hidden_out)\n",
    "\n",
    "        return output.squeeze(1)\n"
   ]
  },
  {
   "cell_type": "code",
   "execution_count": 12,
   "metadata": {},
   "outputs": [
    {
     "data": {
      "text/plain": [
       "device(type='cpu')"
      ]
     },
     "execution_count": 12,
     "metadata": {},
     "output_type": "execute_result"
    }
   ],
   "source": [
    "# Check CUDA availability\n",
    "device = torch.device(\"cuda\" if torch.cuda.is_available() else \"cpu\")\n",
    "device"
   ]
  },
  {
   "cell_type": "code",
   "execution_count": 17,
   "metadata": {},
   "outputs": [
    {
     "name": "stderr",
     "output_type": "stream",
     "text": [
      "Training Epoch 1: 100%|██████████| 373/373 [00:03<00:00, 110.09it/s]\n"
     ]
    },
    {
     "name": "stdout",
     "output_type": "stream",
     "text": [
      "Epoch 0 - Train Loss: 2.0199, Train MSE: 2.0225, Train MAE: 1.1063\n",
      "Epoch 0 - Validation Loss: 1.8891, Validation MSE: 1.8898, Validation MAE: 1.0530\n"
     ]
    },
    {
     "name": "stderr",
     "output_type": "stream",
     "text": [
      "/var/folders/yz/c1z6m9_d5d3f80sywjc3rqsc0000gn/T/ipykernel_47105/3478497585.py:92: FutureWarning: The behavior of DataFrame concatenation with empty or all-NA entries is deprecated. In a future version, this will no longer exclude empty or all-NA columns when determining the result dtypes. To retain the old behavior, exclude the relevant entries before the concat operation.\n",
      "  train_history = pd.concat([train_history, pd.DataFrame([new_row])], ignore_index=True)\n",
      "Training Epoch 2: 100%|██████████| 373/373 [00:03<00:00, 105.33it/s]\n",
      "Training Epoch 3: 100%|██████████| 373/373 [00:03<00:00, 113.02it/s]\n",
      "Training Epoch 4: 100%|██████████| 373/373 [00:03<00:00, 109.05it/s]\n",
      "Training Epoch 5: 100%|██████████| 373/373 [00:03<00:00, 105.73it/s]\n",
      "Training Epoch 6: 100%|██████████| 373/373 [00:03<00:00, 116.29it/s]\n",
      "Training Epoch 7: 100%|██████████| 373/373 [00:03<00:00, 108.74it/s]\n",
      "Training Epoch 8: 100%|██████████| 373/373 [00:03<00:00, 105.84it/s]\n",
      "Training Epoch 9: 100%|██████████| 373/373 [00:03<00:00, 105.96it/s]\n",
      "Training Epoch 10: 100%|██████████| 373/373 [00:03<00:00, 115.51it/s]\n",
      "Training Epoch 11: 100%|██████████| 373/373 [00:03<00:00, 113.48it/s]\n"
     ]
    },
    {
     "name": "stdout",
     "output_type": "stream",
     "text": [
      "Epoch 10 - Train Loss: 1.3453, Train MSE: 1.3434, Train MAE: 0.8844\n",
      "Epoch 10 - Validation Loss: 1.4517, Validation MSE: 1.4541, Validation MAE: 0.9004\n"
     ]
    },
    {
     "name": "stderr",
     "output_type": "stream",
     "text": [
      "Training Epoch 12: 100%|██████████| 373/373 [00:03<00:00, 114.67it/s]\n",
      "Training Epoch 13: 100%|██████████| 373/373 [00:03<00:00, 116.36it/s]\n",
      "Training Epoch 14: 100%|██████████| 373/373 [00:04<00:00, 87.78it/s] \n",
      "Training Epoch 15: 100%|██████████| 373/373 [00:03<00:00, 100.15it/s]\n",
      "Training Epoch 16: 100%|██████████| 373/373 [00:04<00:00, 84.65it/s] \n",
      "Training Epoch 17: 100%|██████████| 373/373 [00:03<00:00, 96.20it/s] \n",
      "Training Epoch 18: 100%|██████████| 373/373 [00:03<00:00, 110.54it/s]\n",
      "Training Epoch 19: 100%|██████████| 373/373 [00:03<00:00, 122.25it/s]\n",
      "Training Epoch 20: 100%|██████████| 373/373 [00:02<00:00, 130.99it/s]\n",
      "Training Epoch 21: 100%|██████████| 373/373 [00:02<00:00, 143.55it/s]\n"
     ]
    },
    {
     "name": "stdout",
     "output_type": "stream",
     "text": [
      "Epoch 20 - Train Loss: 1.0858, Train MSE: 1.0870, Train MAE: 0.7888\n",
      "Epoch 20 - Validation Loss: 1.3049, Validation MSE: 1.3076, Validation MAE: 0.8299\n"
     ]
    },
    {
     "name": "stderr",
     "output_type": "stream",
     "text": [
      "Training Epoch 22: 100%|██████████| 373/373 [00:02<00:00, 133.09it/s]\n",
      "Training Epoch 23: 100%|██████████| 373/373 [00:02<00:00, 137.97it/s]\n",
      "Training Epoch 24: 100%|██████████| 373/373 [00:02<00:00, 138.93it/s]\n",
      "Training Epoch 25: 100%|██████████| 373/373 [00:02<00:00, 129.05it/s]\n",
      "Training Epoch 26: 100%|██████████| 373/373 [00:02<00:00, 130.19it/s]\n",
      "Training Epoch 27: 100%|██████████| 373/373 [00:02<00:00, 128.14it/s]\n",
      "Training Epoch 28: 100%|██████████| 373/373 [00:02<00:00, 126.65it/s]\n",
      "Training Epoch 29: 100%|██████████| 373/373 [00:03<00:00, 107.65it/s]\n",
      "Training Epoch 30: 100%|██████████| 373/373 [00:02<00:00, 128.31it/s]\n",
      "Training Epoch 31: 100%|██████████| 373/373 [00:03<00:00, 112.45it/s]\n"
     ]
    },
    {
     "name": "stdout",
     "output_type": "stream",
     "text": [
      "Epoch 30 - Train Loss: 0.9688, Train MSE: 0.9686, Train MAE: 0.7402\n",
      "Epoch 30 - Validation Loss: 1.2380, Validation MSE: 1.2410, Validation MAE: 0.8003\n"
     ]
    },
    {
     "name": "stderr",
     "output_type": "stream",
     "text": [
      "Training Epoch 32: 100%|██████████| 373/373 [00:02<00:00, 134.71it/s]\n",
      "Training Epoch 33: 100%|██████████| 373/373 [00:02<00:00, 130.26it/s]\n",
      "Training Epoch 34: 100%|██████████| 373/373 [00:02<00:00, 140.50it/s]\n",
      "Training Epoch 35: 100%|██████████| 373/373 [00:02<00:00, 128.28it/s]\n",
      "Training Epoch 36: 100%|██████████| 373/373 [00:02<00:00, 142.67it/s]\n",
      "Training Epoch 37: 100%|██████████| 373/373 [00:02<00:00, 132.25it/s]\n",
      "Training Epoch 38: 100%|██████████| 373/373 [00:02<00:00, 132.40it/s]\n",
      "Training Epoch 39: 100%|██████████| 373/373 [00:02<00:00, 133.74it/s]\n",
      "Training Epoch 40: 100%|██████████| 373/373 [00:02<00:00, 130.26it/s]\n",
      "Training Epoch 41: 100%|██████████| 373/373 [00:02<00:00, 131.63it/s]\n"
     ]
    },
    {
     "name": "stdout",
     "output_type": "stream",
     "text": [
      "Epoch 40 - Train Loss: 0.8742, Train MSE: 0.8709, Train MAE: 0.6981\n",
      "Epoch 40 - Validation Loss: 1.2035, Validation MSE: 1.2062, Validation MAE: 0.7799\n"
     ]
    },
    {
     "name": "stderr",
     "output_type": "stream",
     "text": [
      "Training Epoch 42: 100%|██████████| 373/373 [00:02<00:00, 126.54it/s]\n",
      "Training Epoch 43: 100%|██████████| 373/373 [00:02<00:00, 127.66it/s]\n",
      "Training Epoch 44: 100%|██████████| 373/373 [00:02<00:00, 131.69it/s]\n",
      "Training Epoch 45: 100%|██████████| 373/373 [00:03<00:00, 114.57it/s]\n",
      "Training Epoch 46: 100%|██████████| 373/373 [00:03<00:00, 107.86it/s]\n",
      "Training Epoch 47: 100%|██████████| 373/373 [00:03<00:00, 99.90it/s] \n",
      "Training Epoch 48: 100%|██████████| 373/373 [00:04<00:00, 90.00it/s] \n",
      "Training Epoch 49: 100%|██████████| 373/373 [00:03<00:00, 104.45it/s]\n",
      "Training Epoch 50: 100%|██████████| 373/373 [00:03<00:00, 118.33it/s]\n",
      "Training Epoch 51: 100%|██████████| 373/373 [00:03<00:00, 122.43it/s]\n"
     ]
    },
    {
     "name": "stdout",
     "output_type": "stream",
     "text": [
      "Epoch 50 - Train Loss: 0.8197, Train MSE: 0.8193, Train MAE: 0.6701\n",
      "Epoch 50 - Validation Loss: 1.2110, Validation MSE: 1.2139, Validation MAE: 0.7851\n"
     ]
    },
    {
     "name": "stderr",
     "output_type": "stream",
     "text": [
      "Training Epoch 52: 100%|██████████| 373/373 [00:02<00:00, 129.48it/s]\n",
      "Training Epoch 53: 100%|██████████| 373/373 [00:03<00:00, 115.72it/s]\n",
      "Training Epoch 54: 100%|██████████| 373/373 [00:02<00:00, 132.35it/s]\n",
      "Training Epoch 55: 100%|██████████| 373/373 [00:02<00:00, 126.50it/s]\n",
      "Training Epoch 56: 100%|██████████| 373/373 [00:02<00:00, 141.59it/s]\n",
      "Training Epoch 57: 100%|██████████| 373/373 [00:02<00:00, 126.95it/s]\n",
      "Training Epoch 58: 100%|██████████| 373/373 [00:02<00:00, 138.01it/s]\n",
      "Training Epoch 59: 100%|██████████| 373/373 [00:02<00:00, 128.92it/s]\n",
      "Training Epoch 60: 100%|██████████| 373/373 [00:02<00:00, 139.51it/s]\n",
      "Training Epoch 61: 100%|██████████| 373/373 [00:02<00:00, 145.49it/s]\n"
     ]
    },
    {
     "name": "stdout",
     "output_type": "stream",
     "text": [
      "Epoch 60 - Train Loss: 0.7623, Train MSE: 0.7625, Train MAE: 0.6404\n",
      "Epoch 60 - Validation Loss: 1.1952, Validation MSE: 1.1977, Validation MAE: 0.7685\n"
     ]
    },
    {
     "name": "stderr",
     "output_type": "stream",
     "text": [
      "Training Epoch 62: 100%|██████████| 373/373 [00:02<00:00, 124.47it/s]\n",
      "Training Epoch 63: 100%|██████████| 373/373 [00:02<00:00, 136.47it/s]\n",
      "Training Epoch 64: 100%|██████████| 373/373 [00:02<00:00, 138.48it/s]\n",
      "Training Epoch 65: 100%|██████████| 373/373 [00:02<00:00, 130.25it/s]\n",
      "Training Epoch 66: 100%|██████████| 373/373 [00:02<00:00, 140.19it/s]\n",
      "Training Epoch 67: 100%|██████████| 373/373 [00:02<00:00, 130.25it/s]\n",
      "Training Epoch 68: 100%|██████████| 373/373 [00:02<00:00, 134.55it/s]\n",
      "Training Epoch 69: 100%|██████████| 373/373 [00:02<00:00, 135.91it/s]\n",
      "Training Epoch 70: 100%|██████████| 373/373 [00:02<00:00, 131.32it/s]\n",
      "Training Epoch 71: 100%|██████████| 373/373 [00:02<00:00, 129.30it/s]\n"
     ]
    },
    {
     "name": "stdout",
     "output_type": "stream",
     "text": [
      "Epoch 70 - Train Loss: 0.7363, Train MSE: 0.7331, Train MAE: 0.6255\n",
      "Epoch 70 - Validation Loss: 1.1908, Validation MSE: 1.1936, Validation MAE: 0.7741\n"
     ]
    },
    {
     "name": "stderr",
     "output_type": "stream",
     "text": [
      "Training Epoch 72: 100%|██████████| 373/373 [00:02<00:00, 133.31it/s]\n",
      "Training Epoch 73: 100%|██████████| 373/373 [00:03<00:00, 122.81it/s]\n",
      "Training Epoch 74: 100%|██████████| 373/373 [00:02<00:00, 140.69it/s]\n",
      "Training Epoch 75: 100%|██████████| 373/373 [00:02<00:00, 128.70it/s]\n",
      "Training Epoch 76: 100%|██████████| 373/373 [00:02<00:00, 126.38it/s]\n",
      "Training Epoch 77: 100%|██████████| 373/373 [00:02<00:00, 125.69it/s]\n",
      "Training Epoch 78: 100%|██████████| 373/373 [00:03<00:00, 121.81it/s]\n",
      "Training Epoch 79: 100%|██████████| 373/373 [00:02<00:00, 129.76it/s]\n",
      "Training Epoch 80: 100%|██████████| 373/373 [00:03<00:00, 123.87it/s]\n",
      "Training Epoch 81: 100%|██████████| 373/373 [00:02<00:00, 128.80it/s]\n"
     ]
    },
    {
     "name": "stdout",
     "output_type": "stream",
     "text": [
      "Epoch 80 - Train Loss: 0.7119, Train MSE: 0.7136, Train MAE: 0.6166\n",
      "Epoch 80 - Validation Loss: 1.1877, Validation MSE: 1.1904, Validation MAE: 0.7626\n"
     ]
    },
    {
     "name": "stderr",
     "output_type": "stream",
     "text": [
      "Training Epoch 82: 100%|██████████| 373/373 [00:02<00:00, 131.84it/s]\n",
      "Training Epoch 83: 100%|██████████| 373/373 [00:03<00:00, 124.22it/s]\n",
      "Training Epoch 84: 100%|██████████| 373/373 [00:03<00:00, 123.87it/s]\n",
      "Training Epoch 85: 100%|██████████| 373/373 [00:02<00:00, 130.04it/s]\n",
      "Training Epoch 86: 100%|██████████| 373/373 [00:02<00:00, 135.71it/s]\n",
      "Training Epoch 87: 100%|██████████| 373/373 [00:02<00:00, 129.25it/s]\n",
      "Training Epoch 88: 100%|██████████| 373/373 [00:03<00:00, 121.92it/s]\n",
      "Training Epoch 89: 100%|██████████| 373/373 [00:02<00:00, 135.01it/s]\n",
      "Training Epoch 90: 100%|██████████| 373/373 [00:02<00:00, 125.49it/s]\n",
      "Training Epoch 91: 100%|██████████| 373/373 [00:02<00:00, 130.12it/s]\n"
     ]
    },
    {
     "name": "stdout",
     "output_type": "stream",
     "text": [
      "Epoch 90 - Train Loss: 0.6748, Train MSE: 0.6749, Train MAE: 0.5959\n",
      "Epoch 90 - Validation Loss: 1.1936, Validation MSE: 1.1960, Validation MAE: 0.7641\n"
     ]
    },
    {
     "name": "stderr",
     "output_type": "stream",
     "text": [
      "Training Epoch 92: 100%|██████████| 373/373 [00:02<00:00, 140.38it/s]\n",
      "Training Epoch 93: 100%|██████████| 373/373 [00:02<00:00, 132.32it/s]\n",
      "Training Epoch 94: 100%|██████████| 373/373 [00:03<00:00, 118.50it/s]\n",
      "Training Epoch 95: 100%|██████████| 373/373 [00:02<00:00, 138.30it/s]\n",
      "Training Epoch 96: 100%|██████████| 373/373 [00:02<00:00, 135.71it/s]\n",
      "Training Epoch 97: 100%|██████████| 373/373 [00:02<00:00, 136.70it/s]\n",
      "Training Epoch 98: 100%|██████████| 373/373 [00:02<00:00, 132.49it/s]\n",
      "Training Epoch 99: 100%|██████████| 373/373 [00:02<00:00, 132.60it/s]\n",
      "Training Epoch 100: 100%|██████████| 373/373 [00:02<00:00, 138.48it/s]\n",
      "Training Epoch 101: 100%|██████████| 373/373 [00:02<00:00, 141.47it/s]\n"
     ]
    },
    {
     "name": "stdout",
     "output_type": "stream",
     "text": [
      "Epoch 100 - Train Loss: 0.6552, Train MSE: 0.6565, Train MAE: 0.5858\n",
      "Epoch 100 - Validation Loss: 1.1962, Validation MSE: 1.1988, Validation MAE: 0.7618\n"
     ]
    },
    {
     "name": "stderr",
     "output_type": "stream",
     "text": [
      "Training Epoch 102: 100%|██████████| 373/373 [00:02<00:00, 131.16it/s]\n",
      "Training Epoch 103: 100%|██████████| 373/373 [00:02<00:00, 130.84it/s]\n",
      "Training Epoch 104: 100%|██████████| 373/373 [00:03<00:00, 106.10it/s]\n",
      "Training Epoch 105: 100%|██████████| 373/373 [00:02<00:00, 137.25it/s]\n",
      "Training Epoch 106: 100%|██████████| 373/373 [00:02<00:00, 137.80it/s]\n",
      "Training Epoch 107: 100%|██████████| 373/373 [00:02<00:00, 126.75it/s]\n",
      "Training Epoch 108: 100%|██████████| 373/373 [00:03<00:00, 116.40it/s]\n",
      "Training Epoch 109: 100%|██████████| 373/373 [00:03<00:00, 93.62it/s] \n",
      "Training Epoch 110: 100%|██████████| 373/373 [00:02<00:00, 137.13it/s]\n",
      "Training Epoch 111: 100%|██████████| 373/373 [00:02<00:00, 129.09it/s]\n"
     ]
    },
    {
     "name": "stdout",
     "output_type": "stream",
     "text": [
      "Epoch 110 - Train Loss: 0.6441, Train MSE: 0.6431, Train MAE: 0.5788\n",
      "Epoch 110 - Validation Loss: 1.2142, Validation MSE: 1.2167, Validation MAE: 0.7821\n"
     ]
    },
    {
     "name": "stderr",
     "output_type": "stream",
     "text": [
      "Training Epoch 112: 100%|██████████| 373/373 [00:02<00:00, 130.92it/s]\n",
      "Training Epoch 113: 100%|██████████| 373/373 [00:03<00:00, 124.27it/s]\n",
      "Training Epoch 114: 100%|██████████| 373/373 [00:03<00:00, 107.20it/s]\n",
      "Training Epoch 115: 100%|██████████| 373/373 [00:02<00:00, 128.82it/s]\n",
      "Training Epoch 116: 100%|██████████| 373/373 [00:03<00:00, 122.47it/s]\n",
      "Training Epoch 117: 100%|██████████| 373/373 [00:02<00:00, 131.36it/s]\n",
      "Training Epoch 118: 100%|██████████| 373/373 [00:02<00:00, 130.53it/s]\n",
      "Training Epoch 119: 100%|██████████| 373/373 [00:02<00:00, 134.25it/s]\n",
      "Training Epoch 120: 100%|██████████| 373/373 [00:02<00:00, 136.76it/s]\n",
      "Training Epoch 121: 100%|██████████| 373/373 [00:02<00:00, 127.85it/s]\n"
     ]
    },
    {
     "name": "stdout",
     "output_type": "stream",
     "text": [
      "Epoch 120 - Train Loss: 0.6369, Train MSE: 0.6379, Train MAE: 0.5740\n",
      "Epoch 120 - Validation Loss: 1.1787, Validation MSE: 1.1812, Validation MAE: 0.7546\n"
     ]
    },
    {
     "name": "stderr",
     "output_type": "stream",
     "text": [
      "Training Epoch 122: 100%|██████████| 373/373 [00:02<00:00, 126.25it/s]\n",
      "Training Epoch 123: 100%|██████████| 373/373 [00:03<00:00, 119.51it/s]\n",
      "Training Epoch 124: 100%|██████████| 373/373 [00:03<00:00, 110.83it/s]\n",
      "Training Epoch 125: 100%|██████████| 373/373 [00:02<00:00, 135.79it/s]\n",
      "Training Epoch 126: 100%|██████████| 373/373 [00:02<00:00, 132.01it/s]\n",
      "Training Epoch 127: 100%|██████████| 373/373 [00:02<00:00, 130.61it/s]\n",
      "Training Epoch 128: 100%|██████████| 373/373 [00:02<00:00, 126.16it/s]\n",
      "Training Epoch 129: 100%|██████████| 373/373 [00:03<00:00, 108.93it/s]\n",
      "Training Epoch 130: 100%|██████████| 373/373 [00:03<00:00, 113.37it/s]\n",
      "Training Epoch 131: 100%|██████████| 373/373 [00:02<00:00, 134.68it/s]\n"
     ]
    },
    {
     "name": "stdout",
     "output_type": "stream",
     "text": [
      "Epoch 130 - Train Loss: 0.6164, Train MSE: 0.6176, Train MAE: 0.5616\n",
      "Epoch 130 - Validation Loss: 1.1909, Validation MSE: 1.1935, Validation MAE: 0.7569\n"
     ]
    },
    {
     "name": "stderr",
     "output_type": "stream",
     "text": [
      "Training Epoch 132: 100%|██████████| 373/373 [00:02<00:00, 135.09it/s]\n",
      "Training Epoch 133: 100%|██████████| 373/373 [00:02<00:00, 132.15it/s]\n",
      "Training Epoch 134: 100%|██████████| 373/373 [00:02<00:00, 135.54it/s]\n",
      "Training Epoch 135: 100%|██████████| 373/373 [00:02<00:00, 129.73it/s]\n",
      "Training Epoch 136: 100%|██████████| 373/373 [00:02<00:00, 126.32it/s]\n",
      "Training Epoch 137: 100%|██████████| 373/373 [00:03<00:00, 123.61it/s]\n",
      "Training Epoch 138: 100%|██████████| 373/373 [00:02<00:00, 133.77it/s]\n",
      "Training Epoch 139: 100%|██████████| 373/373 [00:02<00:00, 128.48it/s]\n",
      "Training Epoch 140: 100%|██████████| 373/373 [00:02<00:00, 135.77it/s]\n",
      "Training Epoch 141: 100%|██████████| 373/373 [00:02<00:00, 133.55it/s]\n"
     ]
    },
    {
     "name": "stdout",
     "output_type": "stream",
     "text": [
      "Epoch 140 - Train Loss: 0.6071, Train MSE: 0.6084, Train MAE: 0.5545\n",
      "Epoch 140 - Validation Loss: 1.2033, Validation MSE: 1.2053, Validation MAE: 0.7621\n"
     ]
    },
    {
     "name": "stderr",
     "output_type": "stream",
     "text": [
      "Training Epoch 142: 100%|██████████| 373/373 [00:02<00:00, 129.87it/s]\n",
      "Training Epoch 143: 100%|██████████| 373/373 [00:02<00:00, 128.28it/s]\n",
      "Training Epoch 144: 100%|██████████| 373/373 [00:02<00:00, 135.40it/s]\n",
      "Training Epoch 145: 100%|██████████| 373/373 [00:02<00:00, 133.76it/s]\n",
      "Training Epoch 146: 100%|██████████| 373/373 [00:02<00:00, 134.13it/s]\n",
      "Training Epoch 147: 100%|██████████| 373/373 [00:02<00:00, 128.19it/s]\n",
      "Training Epoch 148: 100%|██████████| 373/373 [00:03<00:00, 124.30it/s]\n",
      "Training Epoch 149: 100%|██████████| 373/373 [00:02<00:00, 128.07it/s]\n",
      "Training Epoch 150: 100%|██████████| 373/373 [00:02<00:00, 136.26it/s]\n",
      "Training Epoch 151: 100%|██████████| 373/373 [00:03<00:00, 123.43it/s]\n"
     ]
    },
    {
     "name": "stdout",
     "output_type": "stream",
     "text": [
      "Epoch 150 - Train Loss: 0.5948, Train MSE: 0.5930, Train MAE: 0.5481\n",
      "Epoch 150 - Validation Loss: 1.1954, Validation MSE: 1.1980, Validation MAE: 0.7541\n"
     ]
    },
    {
     "name": "stderr",
     "output_type": "stream",
     "text": [
      "Training Epoch 152: 100%|██████████| 373/373 [00:02<00:00, 132.59it/s]\n",
      "Training Epoch 153: 100%|██████████| 373/373 [00:02<00:00, 131.10it/s]\n",
      "Training Epoch 154: 100%|██████████| 373/373 [00:02<00:00, 129.58it/s]\n",
      "Training Epoch 155: 100%|██████████| 373/373 [00:02<00:00, 132.35it/s]\n",
      "Training Epoch 156: 100%|██████████| 373/373 [00:02<00:00, 135.73it/s]\n",
      "Training Epoch 157: 100%|██████████| 373/373 [00:02<00:00, 127.24it/s]\n",
      "Training Epoch 158: 100%|██████████| 373/373 [00:03<00:00, 114.38it/s]\n",
      "Training Epoch 159: 100%|██████████| 373/373 [00:02<00:00, 130.97it/s]\n",
      "Training Epoch 160: 100%|██████████| 373/373 [00:02<00:00, 126.12it/s]\n",
      "Training Epoch 161: 100%|██████████| 373/373 [00:02<00:00, 130.70it/s]\n"
     ]
    },
    {
     "name": "stdout",
     "output_type": "stream",
     "text": [
      "Epoch 160 - Train Loss: 0.5783, Train MSE: 0.5796, Train MAE: 0.5400\n",
      "Epoch 160 - Validation Loss: 1.2105, Validation MSE: 1.2130, Validation MAE: 0.7641\n"
     ]
    },
    {
     "name": "stderr",
     "output_type": "stream",
     "text": [
      "Training Epoch 162: 100%|██████████| 373/373 [00:02<00:00, 137.52it/s]\n",
      "Training Epoch 163: 100%|██████████| 373/373 [00:02<00:00, 130.19it/s]\n",
      "Training Epoch 164: 100%|██████████| 373/373 [00:02<00:00, 126.35it/s]\n",
      "Training Epoch 165: 100%|██████████| 373/373 [00:03<00:00, 122.93it/s]\n",
      "Training Epoch 166: 100%|██████████| 373/373 [00:02<00:00, 134.15it/s]\n",
      "Training Epoch 167: 100%|██████████| 373/373 [00:02<00:00, 125.99it/s]\n",
      "Training Epoch 168: 100%|██████████| 373/373 [00:02<00:00, 134.43it/s]\n",
      "Training Epoch 169: 100%|██████████| 373/373 [00:02<00:00, 144.91it/s]\n",
      "Training Epoch 170: 100%|██████████| 373/373 [00:02<00:00, 130.85it/s]\n",
      "Training Epoch 171: 100%|██████████| 373/373 [00:03<00:00, 117.17it/s]\n"
     ]
    },
    {
     "name": "stdout",
     "output_type": "stream",
     "text": [
      "Epoch 170 - Train Loss: 0.5732, Train MSE: 0.5733, Train MAE: 0.5353\n",
      "Epoch 170 - Validation Loss: 1.2073, Validation MSE: 1.2100, Validation MAE: 0.7620\n"
     ]
    },
    {
     "name": "stderr",
     "output_type": "stream",
     "text": [
      "Training Epoch 172: 100%|██████████| 373/373 [00:02<00:00, 125.84it/s]\n",
      "Training Epoch 173: 100%|██████████| 373/373 [00:02<00:00, 127.05it/s]\n",
      "Training Epoch 174: 100%|██████████| 373/373 [00:02<00:00, 128.07it/s]\n",
      "Training Epoch 175: 100%|██████████| 373/373 [00:02<00:00, 129.16it/s]\n",
      "Training Epoch 176: 100%|██████████| 373/373 [00:02<00:00, 135.62it/s]\n",
      "Training Epoch 177: 100%|██████████| 373/373 [00:02<00:00, 136.70it/s]\n",
      "Training Epoch 178: 100%|██████████| 373/373 [00:03<00:00, 119.06it/s]\n",
      "Training Epoch 179: 100%|██████████| 373/373 [00:02<00:00, 129.84it/s]\n",
      "Training Epoch 180: 100%|██████████| 373/373 [00:02<00:00, 130.25it/s]\n",
      "Training Epoch 181: 100%|██████████| 373/373 [00:02<00:00, 124.64it/s]\n"
     ]
    },
    {
     "name": "stdout",
     "output_type": "stream",
     "text": [
      "Epoch 180 - Train Loss: 0.5720, Train MSE: 0.5711, Train MAE: 0.5313\n",
      "Epoch 180 - Validation Loss: 1.2293, Validation MSE: 1.2320, Validation MAE: 0.7694\n"
     ]
    },
    {
     "name": "stderr",
     "output_type": "stream",
     "text": [
      "Training Epoch 182: 100%|██████████| 373/373 [00:02<00:00, 126.75it/s]\n",
      "Training Epoch 183: 100%|██████████| 373/373 [00:02<00:00, 125.82it/s]\n",
      "Training Epoch 184: 100%|██████████| 373/373 [00:02<00:00, 129.63it/s]\n",
      "Training Epoch 185: 100%|██████████| 373/373 [00:02<00:00, 133.38it/s]\n",
      "Training Epoch 186: 100%|██████████| 373/373 [00:02<00:00, 129.74it/s]\n",
      "Training Epoch 187: 100%|██████████| 373/373 [00:02<00:00, 126.65it/s]\n",
      "Training Epoch 188: 100%|██████████| 373/373 [00:02<00:00, 131.99it/s]\n",
      "Training Epoch 189: 100%|██████████| 373/373 [00:02<00:00, 135.21it/s]\n",
      "Training Epoch 190: 100%|██████████| 373/373 [00:02<00:00, 130.15it/s]\n",
      "Training Epoch 191: 100%|██████████| 373/373 [00:02<00:00, 130.78it/s]\n"
     ]
    },
    {
     "name": "stdout",
     "output_type": "stream",
     "text": [
      "Epoch 190 - Train Loss: 0.5590, Train MSE: 0.5586, Train MAE: 0.5282\n",
      "Epoch 190 - Validation Loss: 1.2024, Validation MSE: 1.2047, Validation MAE: 0.7544\n"
     ]
    },
    {
     "name": "stderr",
     "output_type": "stream",
     "text": [
      "Training Epoch 192: 100%|██████████| 373/373 [00:02<00:00, 132.29it/s]\n",
      "Training Epoch 193: 100%|██████████| 373/373 [00:02<00:00, 134.18it/s]\n",
      "Training Epoch 194: 100%|██████████| 373/373 [00:02<00:00, 127.47it/s]\n",
      "Training Epoch 195: 100%|██████████| 373/373 [00:03<00:00, 119.15it/s]\n",
      "Training Epoch 196: 100%|██████████| 373/373 [00:03<00:00, 121.95it/s]\n",
      "Training Epoch 197: 100%|██████████| 373/373 [00:03<00:00, 119.90it/s]\n",
      "Training Epoch 198: 100%|██████████| 373/373 [00:02<00:00, 126.69it/s]\n",
      "Training Epoch 199: 100%|██████████| 373/373 [00:03<00:00, 122.27it/s]\n",
      "Training Epoch 200: 100%|██████████| 373/373 [00:02<00:00, 143.51it/s]\n",
      "Training Epoch 201: 100%|██████████| 373/373 [00:02<00:00, 135.66it/s]\n"
     ]
    },
    {
     "name": "stdout",
     "output_type": "stream",
     "text": [
      "Epoch 200 - Train Loss: 0.5525, Train MSE: 0.5528, Train MAE: 0.5223\n",
      "Epoch 200 - Validation Loss: 1.2097, Validation MSE: 1.2121, Validation MAE: 0.7662\n"
     ]
    },
    {
     "name": "stderr",
     "output_type": "stream",
     "text": [
      "Training Epoch 202: 100%|██████████| 373/373 [00:03<00:00, 121.96it/s]\n",
      "Training Epoch 203: 100%|██████████| 373/373 [00:03<00:00, 120.01it/s]\n",
      "Training Epoch 204: 100%|██████████| 373/373 [00:02<00:00, 129.73it/s]\n",
      "Training Epoch 205: 100%|██████████| 373/373 [00:02<00:00, 129.92it/s]\n",
      "Training Epoch 206: 100%|██████████| 373/373 [00:02<00:00, 124.90it/s]\n",
      "Training Epoch 207: 100%|██████████| 373/373 [00:03<00:00, 123.13it/s]\n",
      "Training Epoch 208: 100%|██████████| 373/373 [00:02<00:00, 133.73it/s]\n",
      "Training Epoch 209: 100%|██████████| 373/373 [00:02<00:00, 133.98it/s]\n",
      "Training Epoch 210: 100%|██████████| 373/373 [00:02<00:00, 133.53it/s]\n",
      "Training Epoch 211: 100%|██████████| 373/373 [00:02<00:00, 128.34it/s]\n"
     ]
    },
    {
     "name": "stdout",
     "output_type": "stream",
     "text": [
      "Epoch 210 - Train Loss: 0.5454, Train MSE: 0.5448, Train MAE: 0.5171\n",
      "Epoch 210 - Validation Loss: 1.1977, Validation MSE: 1.2002, Validation MAE: 0.7571\n"
     ]
    },
    {
     "name": "stderr",
     "output_type": "stream",
     "text": [
      "Training Epoch 212: 100%|██████████| 373/373 [00:03<00:00, 122.25it/s]\n",
      "Training Epoch 213: 100%|██████████| 373/373 [00:02<00:00, 130.62it/s]\n",
      "Training Epoch 214: 100%|██████████| 373/373 [00:02<00:00, 133.92it/s]\n",
      "Training Epoch 215: 100%|██████████| 373/373 [00:02<00:00, 149.21it/s]\n",
      "Training Epoch 216: 100%|██████████| 373/373 [00:02<00:00, 142.78it/s]\n",
      "Training Epoch 217: 100%|██████████| 373/373 [00:03<00:00, 120.33it/s]\n",
      "Training Epoch 218: 100%|██████████| 373/373 [00:03<00:00, 113.01it/s]\n",
      "Training Epoch 219: 100%|██████████| 373/373 [00:03<00:00, 122.81it/s]\n",
      "Training Epoch 220: 100%|██████████| 373/373 [00:02<00:00, 124.81it/s]\n",
      "Training Epoch 221: 100%|██████████| 373/373 [00:02<00:00, 139.05it/s]\n"
     ]
    },
    {
     "name": "stdout",
     "output_type": "stream",
     "text": [
      "Epoch 220 - Train Loss: 0.5433, Train MSE: 0.5445, Train MAE: 0.5168\n",
      "Epoch 220 - Validation Loss: 1.1923, Validation MSE: 1.1948, Validation MAE: 0.7500\n"
     ]
    },
    {
     "name": "stderr",
     "output_type": "stream",
     "text": [
      "Training Epoch 222: 100%|██████████| 373/373 [00:02<00:00, 134.99it/s]\n",
      "Training Epoch 223: 100%|██████████| 373/373 [00:02<00:00, 127.90it/s]\n",
      "Training Epoch 224: 100%|██████████| 373/373 [00:02<00:00, 141.42it/s]\n",
      "Training Epoch 225: 100%|██████████| 373/373 [00:02<00:00, 144.94it/s]\n",
      "Training Epoch 226: 100%|██████████| 373/373 [00:02<00:00, 128.40it/s]\n",
      "Training Epoch 227: 100%|██████████| 373/373 [00:03<00:00, 122.82it/s]\n",
      "Training Epoch 228: 100%|██████████| 373/373 [00:02<00:00, 134.26it/s]\n",
      "Training Epoch 229: 100%|██████████| 373/373 [00:02<00:00, 134.57it/s]\n",
      "Training Epoch 230: 100%|██████████| 373/373 [00:02<00:00, 131.37it/s]\n",
      "Training Epoch 231: 100%|██████████| 373/373 [00:02<00:00, 131.20it/s]\n"
     ]
    },
    {
     "name": "stdout",
     "output_type": "stream",
     "text": [
      "Epoch 230 - Train Loss: 0.5451, Train MSE: 0.5427, Train MAE: 0.5162\n",
      "Epoch 230 - Validation Loss: 1.1887, Validation MSE: 1.1909, Validation MAE: 0.7473\n"
     ]
    },
    {
     "name": "stderr",
     "output_type": "stream",
     "text": [
      "Training Epoch 232: 100%|██████████| 373/373 [00:02<00:00, 128.23it/s]\n",
      "Training Epoch 233: 100%|██████████| 373/373 [00:02<00:00, 127.04it/s]\n",
      "Training Epoch 234: 100%|██████████| 373/373 [00:02<00:00, 137.78it/s]\n",
      "Training Epoch 235: 100%|██████████| 373/373 [00:02<00:00, 147.01it/s]\n",
      "Training Epoch 236: 100%|██████████| 373/373 [00:02<00:00, 137.53it/s]\n",
      "Training Epoch 237: 100%|██████████| 373/373 [00:04<00:00, 88.39it/s] \n",
      "Training Epoch 238: 100%|██████████| 373/373 [00:04<00:00, 89.02it/s] \n",
      "Training Epoch 239: 100%|██████████| 373/373 [00:03<00:00, 103.49it/s]\n",
      "Training Epoch 240: 100%|██████████| 373/373 [00:03<00:00, 113.98it/s]\n",
      "Training Epoch 241: 100%|██████████| 373/373 [00:04<00:00, 85.03it/s] \n"
     ]
    },
    {
     "name": "stdout",
     "output_type": "stream",
     "text": [
      "Epoch 240 - Train Loss: 0.5281, Train MSE: 0.5289, Train MAE: 0.5055\n",
      "Epoch 240 - Validation Loss: 1.2008, Validation MSE: 1.2026, Validation MAE: 0.7594\n"
     ]
    },
    {
     "name": "stderr",
     "output_type": "stream",
     "text": [
      "Training Epoch 242: 100%|██████████| 373/373 [00:05<00:00, 71.59it/s]\n",
      "Training Epoch 243: 100%|██████████| 373/373 [00:03<00:00, 108.25it/s]\n",
      "Training Epoch 244: 100%|██████████| 373/373 [00:03<00:00, 113.60it/s]\n",
      "Training Epoch 245: 100%|██████████| 373/373 [00:03<00:00, 114.30it/s]\n",
      "Training Epoch 246: 100%|██████████| 373/373 [00:03<00:00, 113.69it/s]\n",
      "Training Epoch 247: 100%|██████████| 373/373 [00:03<00:00, 110.59it/s]\n",
      "Training Epoch 248: 100%|██████████| 373/373 [00:03<00:00, 115.37it/s]\n",
      "Training Epoch 249: 100%|██████████| 373/373 [00:03<00:00, 107.28it/s]\n",
      "Training Epoch 250: 100%|██████████| 373/373 [00:03<00:00, 109.23it/s]\n",
      "Training Epoch 251: 100%|██████████| 373/373 [00:03<00:00, 106.41it/s]\n"
     ]
    },
    {
     "name": "stdout",
     "output_type": "stream",
     "text": [
      "Epoch 250 - Train Loss: 0.5285, Train MSE: 0.5294, Train MAE: 0.5058\n",
      "Epoch 250 - Validation Loss: 1.1899, Validation MSE: 1.1921, Validation MAE: 0.7503\n"
     ]
    },
    {
     "name": "stderr",
     "output_type": "stream",
     "text": [
      "Training Epoch 252: 100%|██████████| 373/373 [00:03<00:00, 118.04it/s]\n",
      "Training Epoch 253: 100%|██████████| 373/373 [00:03<00:00, 110.00it/s]\n",
      "Training Epoch 254: 100%|██████████| 373/373 [00:03<00:00, 110.50it/s]\n",
      "Training Epoch 255: 100%|██████████| 373/373 [00:03<00:00, 117.21it/s]\n",
      "Training Epoch 256: 100%|██████████| 373/373 [00:03<00:00, 103.56it/s]\n",
      "Training Epoch 257: 100%|██████████| 373/373 [00:03<00:00, 112.26it/s]\n",
      "Training Epoch 258: 100%|██████████| 373/373 [00:03<00:00, 117.34it/s]\n",
      "Training Epoch 259: 100%|██████████| 373/373 [00:03<00:00, 106.57it/s]\n",
      "Training Epoch 260: 100%|██████████| 373/373 [00:04<00:00, 89.67it/s] \n",
      "Training Epoch 261: 100%|██████████| 373/373 [00:03<00:00, 109.27it/s]\n"
     ]
    },
    {
     "name": "stdout",
     "output_type": "stream",
     "text": [
      "Epoch 260 - Train Loss: 0.5253, Train MSE: 0.5265, Train MAE: 0.5047\n",
      "Epoch 260 - Validation Loss: 1.2067, Validation MSE: 1.2094, Validation MAE: 0.7570\n"
     ]
    },
    {
     "name": "stderr",
     "output_type": "stream",
     "text": [
      "Training Epoch 262: 100%|██████████| 373/373 [00:03<00:00, 115.51it/s]\n",
      "Training Epoch 263: 100%|██████████| 373/373 [00:03<00:00, 115.44it/s]\n",
      "Training Epoch 264: 100%|██████████| 373/373 [00:03<00:00, 97.31it/s] \n",
      "Training Epoch 265: 100%|██████████| 373/373 [00:03<00:00, 97.43it/s] \n",
      "Training Epoch 266: 100%|██████████| 373/373 [00:03<00:00, 98.22it/s] \n",
      "Training Epoch 267: 100%|██████████| 373/373 [00:04<00:00, 86.33it/s] \n",
      "Training Epoch 268: 100%|██████████| 373/373 [00:04<00:00, 85.38it/s] \n",
      "Training Epoch 269: 100%|██████████| 373/373 [00:03<00:00, 99.50it/s] \n",
      "Training Epoch 270: 100%|██████████| 373/373 [00:04<00:00, 79.74it/s]\n",
      "Training Epoch 271: 100%|██████████| 373/373 [00:04<00:00, 78.89it/s]\n"
     ]
    },
    {
     "name": "stdout",
     "output_type": "stream",
     "text": [
      "Epoch 270 - Train Loss: 0.5207, Train MSE: 0.5216, Train MAE: 0.5015\n",
      "Epoch 270 - Validation Loss: 1.1955, Validation MSE: 1.1978, Validation MAE: 0.7611\n"
     ]
    },
    {
     "name": "stderr",
     "output_type": "stream",
     "text": [
      "Training Epoch 272: 100%|██████████| 373/373 [00:02<00:00, 124.73it/s]\n",
      "Training Epoch 273: 100%|██████████| 373/373 [00:03<00:00, 122.56it/s]\n",
      "Training Epoch 274: 100%|██████████| 373/373 [00:03<00:00, 120.99it/s]\n",
      "Training Epoch 275: 100%|██████████| 373/373 [00:03<00:00, 118.92it/s]\n",
      "Training Epoch 276: 100%|██████████| 373/373 [00:03<00:00, 111.96it/s]\n",
      "Training Epoch 277: 100%|██████████| 373/373 [00:03<00:00, 116.84it/s]\n",
      "Training Epoch 278: 100%|██████████| 373/373 [00:03<00:00, 107.69it/s]\n",
      "Training Epoch 279: 100%|██████████| 373/373 [00:02<00:00, 125.64it/s]\n",
      "Training Epoch 280: 100%|██████████| 373/373 [00:03<00:00, 112.67it/s]\n",
      "Training Epoch 281: 100%|██████████| 373/373 [00:03<00:00, 103.47it/s]\n"
     ]
    },
    {
     "name": "stdout",
     "output_type": "stream",
     "text": [
      "Epoch 280 - Train Loss: 0.5241, Train MSE: 0.5253, Train MAE: 0.4974\n",
      "Epoch 280 - Validation Loss: 1.2021, Validation MSE: 1.2045, Validation MAE: 0.7498\n"
     ]
    },
    {
     "name": "stderr",
     "output_type": "stream",
     "text": [
      "Training Epoch 282: 100%|██████████| 373/373 [00:03<00:00, 124.05it/s]\n",
      "Training Epoch 283: 100%|██████████| 373/373 [00:03<00:00, 124.23it/s]\n",
      "Training Epoch 284: 100%|██████████| 373/373 [00:02<00:00, 130.47it/s]\n",
      "Training Epoch 285: 100%|██████████| 373/373 [00:02<00:00, 130.18it/s]\n",
      "Training Epoch 286: 100%|██████████| 373/373 [00:02<00:00, 125.87it/s]\n",
      "Training Epoch 287: 100%|██████████| 373/373 [00:03<00:00, 119.50it/s]\n",
      "Training Epoch 288: 100%|██████████| 373/373 [00:02<00:00, 132.74it/s]\n",
      "Training Epoch 289: 100%|██████████| 373/373 [00:03<00:00, 111.54it/s]\n",
      "Training Epoch 290: 100%|██████████| 373/373 [00:03<00:00, 121.88it/s]\n",
      "Training Epoch 291: 100%|██████████| 373/373 [00:02<00:00, 134.52it/s]\n"
     ]
    },
    {
     "name": "stdout",
     "output_type": "stream",
     "text": [
      "Epoch 290 - Train Loss: 0.5175, Train MSE: 0.5157, Train MAE: 0.4944\n",
      "Epoch 290 - Validation Loss: 1.2010, Validation MSE: 1.2036, Validation MAE: 0.7541\n"
     ]
    },
    {
     "name": "stderr",
     "output_type": "stream",
     "text": [
      "Training Epoch 292: 100%|██████████| 373/373 [00:03<00:00, 115.30it/s]\n",
      "Training Epoch 293: 100%|██████████| 373/373 [00:03<00:00, 96.87it/s] \n",
      "Training Epoch 294: 100%|██████████| 373/373 [00:04<00:00, 91.11it/s] \n",
      "Training Epoch 295: 100%|██████████| 373/373 [00:03<00:00, 120.71it/s]\n",
      "Training Epoch 296: 100%|██████████| 373/373 [00:03<00:00, 100.40it/s]\n",
      "Training Epoch 297: 100%|██████████| 373/373 [00:04<00:00, 93.05it/s] \n",
      "Training Epoch 298: 100%|██████████| 373/373 [00:03<00:00, 97.21it/s] \n",
      "Training Epoch 299: 100%|██████████| 373/373 [00:02<00:00, 131.78it/s]\n",
      "Training Epoch 300: 100%|██████████| 373/373 [00:03<00:00, 115.72it/s]\n",
      "Training Epoch 301: 100%|██████████| 373/373 [00:03<00:00, 107.54it/s]\n"
     ]
    },
    {
     "name": "stdout",
     "output_type": "stream",
     "text": [
      "Epoch 300 - Train Loss: 0.5115, Train MSE: 0.5126, Train MAE: 0.4928\n",
      "Epoch 300 - Validation Loss: 1.2014, Validation MSE: 1.2033, Validation MAE: 0.7497\n"
     ]
    },
    {
     "name": "stderr",
     "output_type": "stream",
     "text": [
      "Training Epoch 302: 100%|██████████| 373/373 [00:02<00:00, 124.79it/s]\n",
      "Training Epoch 303: 100%|██████████| 373/373 [00:02<00:00, 127.49it/s]\n",
      "Training Epoch 304: 100%|██████████| 373/373 [00:02<00:00, 127.16it/s]\n",
      "Training Epoch 305: 100%|██████████| 373/373 [00:03<00:00, 121.09it/s]\n",
      "Training Epoch 306: 100%|██████████| 373/373 [00:02<00:00, 129.53it/s]\n",
      "Training Epoch 307: 100%|██████████| 373/373 [00:02<00:00, 132.07it/s]\n",
      "Training Epoch 308: 100%|██████████| 373/373 [00:03<00:00, 120.28it/s]\n",
      "Training Epoch 309: 100%|██████████| 373/373 [00:02<00:00, 124.41it/s]\n",
      "Training Epoch 310: 100%|██████████| 373/373 [00:02<00:00, 131.41it/s]\n",
      "Training Epoch 311: 100%|██████████| 373/373 [00:02<00:00, 129.33it/s]\n"
     ]
    },
    {
     "name": "stdout",
     "output_type": "stream",
     "text": [
      "Epoch 310 - Train Loss: 0.5074, Train MSE: 0.5084, Train MAE: 0.4922\n",
      "Epoch 310 - Validation Loss: 1.1991, Validation MSE: 1.2014, Validation MAE: 0.7519\n"
     ]
    },
    {
     "name": "stderr",
     "output_type": "stream",
     "text": [
      "Training Epoch 312: 100%|██████████| 373/373 [00:02<00:00, 149.64it/s]\n",
      "Training Epoch 313: 100%|██████████| 373/373 [00:02<00:00, 139.52it/s]\n",
      "Training Epoch 314: 100%|██████████| 373/373 [00:02<00:00, 143.70it/s]\n",
      "Training Epoch 315: 100%|██████████| 373/373 [00:02<00:00, 146.11it/s]\n",
      "Training Epoch 316: 100%|██████████| 373/373 [00:02<00:00, 141.52it/s]\n",
      "Training Epoch 317: 100%|██████████| 373/373 [00:02<00:00, 145.88it/s]\n",
      "Training Epoch 318: 100%|██████████| 373/373 [00:02<00:00, 136.93it/s]\n",
      "Training Epoch 319: 100%|██████████| 373/373 [00:02<00:00, 150.92it/s]\n",
      "Training Epoch 320: 100%|██████████| 373/373 [00:02<00:00, 140.21it/s]\n",
      "Training Epoch 321: 100%|██████████| 373/373 [00:02<00:00, 134.67it/s]\n"
     ]
    },
    {
     "name": "stdout",
     "output_type": "stream",
     "text": [
      "Epoch 320 - Train Loss: 0.5038, Train MSE: 0.5042, Train MAE: 0.4878\n",
      "Epoch 320 - Validation Loss: 1.1949, Validation MSE: 1.1972, Validation MAE: 0.7512\n"
     ]
    },
    {
     "name": "stderr",
     "output_type": "stream",
     "text": [
      "Training Epoch 322: 100%|██████████| 373/373 [00:02<00:00, 141.01it/s]\n",
      "Training Epoch 323: 100%|██████████| 373/373 [00:02<00:00, 140.13it/s]\n",
      "Training Epoch 324: 100%|██████████| 373/373 [00:02<00:00, 138.86it/s]\n",
      "Training Epoch 325: 100%|██████████| 373/373 [00:02<00:00, 143.98it/s]\n",
      "Training Epoch 326: 100%|██████████| 373/373 [00:02<00:00, 128.43it/s]\n",
      "Training Epoch 327: 100%|██████████| 373/373 [00:02<00:00, 155.53it/s]\n",
      "Training Epoch 328: 100%|██████████| 373/373 [00:03<00:00, 117.13it/s]\n",
      "Training Epoch 329: 100%|██████████| 373/373 [00:02<00:00, 136.67it/s]\n",
      "Training Epoch 330: 100%|██████████| 373/373 [00:02<00:00, 153.99it/s]\n",
      "Training Epoch 331: 100%|██████████| 373/373 [00:03<00:00, 118.26it/s]\n"
     ]
    },
    {
     "name": "stdout",
     "output_type": "stream",
     "text": [
      "Epoch 330 - Train Loss: 0.5023, Train MSE: 0.5029, Train MAE: 0.4872\n",
      "Epoch 330 - Validation Loss: 1.2057, Validation MSE: 1.2078, Validation MAE: 0.7603\n"
     ]
    },
    {
     "name": "stderr",
     "output_type": "stream",
     "text": [
      "Training Epoch 332: 100%|██████████| 373/373 [00:02<00:00, 152.05it/s]\n",
      "Training Epoch 333: 100%|██████████| 373/373 [00:02<00:00, 149.49it/s]\n",
      "Training Epoch 334: 100%|██████████| 373/373 [00:02<00:00, 134.53it/s]\n",
      "Training Epoch 335: 100%|██████████| 373/373 [00:02<00:00, 142.43it/s]\n",
      "Training Epoch 336: 100%|██████████| 373/373 [00:02<00:00, 146.28it/s]\n",
      "Training Epoch 337: 100%|██████████| 373/373 [00:02<00:00, 137.42it/s]\n",
      "Training Epoch 338: 100%|██████████| 373/373 [00:02<00:00, 144.53it/s]\n",
      "Training Epoch 339: 100%|██████████| 373/373 [00:02<00:00, 152.27it/s]\n",
      "Training Epoch 340: 100%|██████████| 373/373 [00:02<00:00, 142.20it/s]\n",
      "Training Epoch 341: 100%|██████████| 373/373 [00:02<00:00, 145.29it/s]\n"
     ]
    },
    {
     "name": "stdout",
     "output_type": "stream",
     "text": [
      "Epoch 340 - Train Loss: 0.4976, Train MSE: 0.4980, Train MAE: 0.4843\n",
      "Epoch 340 - Validation Loss: 1.2053, Validation MSE: 1.2074, Validation MAE: 0.7551\n"
     ]
    },
    {
     "name": "stderr",
     "output_type": "stream",
     "text": [
      "Training Epoch 342: 100%|██████████| 373/373 [00:02<00:00, 154.89it/s]\n",
      "Training Epoch 343: 100%|██████████| 373/373 [00:02<00:00, 149.82it/s]\n",
      "Training Epoch 344: 100%|██████████| 373/373 [00:02<00:00, 150.48it/s]\n",
      "Training Epoch 345: 100%|██████████| 373/373 [00:02<00:00, 143.03it/s]\n",
      "Training Epoch 346: 100%|██████████| 373/373 [00:02<00:00, 141.94it/s]\n",
      "Training Epoch 347: 100%|██████████| 373/373 [00:02<00:00, 129.72it/s]\n",
      "Training Epoch 348: 100%|██████████| 373/373 [00:02<00:00, 131.37it/s]\n",
      "Training Epoch 349: 100%|██████████| 373/373 [00:02<00:00, 148.14it/s]\n",
      "Training Epoch 350: 100%|██████████| 373/373 [00:03<00:00, 123.39it/s]\n",
      "Training Epoch 351: 100%|██████████| 373/373 [00:02<00:00, 136.89it/s]\n"
     ]
    },
    {
     "name": "stdout",
     "output_type": "stream",
     "text": [
      "Epoch 350 - Train Loss: 0.5028, Train MSE: 0.5039, Train MAE: 0.4853\n",
      "Epoch 350 - Validation Loss: 1.1900, Validation MSE: 1.1922, Validation MAE: 0.7461\n"
     ]
    },
    {
     "name": "stderr",
     "output_type": "stream",
     "text": [
      "Training Epoch 352: 100%|██████████| 373/373 [00:03<00:00, 122.68it/s]\n",
      "Training Epoch 353: 100%|██████████| 373/373 [00:02<00:00, 133.78it/s]\n",
      "Training Epoch 354: 100%|██████████| 373/373 [00:02<00:00, 131.24it/s]\n",
      "Training Epoch 355: 100%|██████████| 373/373 [00:03<00:00, 121.35it/s]\n",
      "Training Epoch 356: 100%|██████████| 373/373 [00:02<00:00, 145.87it/s]\n",
      "Training Epoch 357: 100%|██████████| 373/373 [00:02<00:00, 141.42it/s]\n",
      "Training Epoch 358: 100%|██████████| 373/373 [00:02<00:00, 141.53it/s]\n",
      "Training Epoch 359: 100%|██████████| 373/373 [00:02<00:00, 147.91it/s]\n",
      "Training Epoch 360: 100%|██████████| 373/373 [00:02<00:00, 148.59it/s]\n",
      "Training Epoch 361: 100%|██████████| 373/373 [00:02<00:00, 140.38it/s]\n"
     ]
    },
    {
     "name": "stdout",
     "output_type": "stream",
     "text": [
      "Epoch 360 - Train Loss: 0.4965, Train MSE: 0.4970, Train MAE: 0.4805\n",
      "Epoch 360 - Validation Loss: 1.1852, Validation MSE: 1.1874, Validation MAE: 0.7457\n"
     ]
    },
    {
     "name": "stderr",
     "output_type": "stream",
     "text": [
      "Training Epoch 362: 100%|██████████| 373/373 [00:02<00:00, 146.48it/s]\n",
      "Training Epoch 363: 100%|██████████| 373/373 [00:02<00:00, 144.62it/s]\n",
      "Training Epoch 364: 100%|██████████| 373/373 [00:02<00:00, 144.57it/s]\n",
      "Training Epoch 365: 100%|██████████| 373/373 [00:02<00:00, 146.49it/s]\n",
      "Training Epoch 366: 100%|██████████| 373/373 [00:02<00:00, 137.91it/s]\n",
      "Training Epoch 367: 100%|██████████| 373/373 [00:03<00:00, 117.57it/s]\n",
      "Training Epoch 368: 100%|██████████| 373/373 [00:02<00:00, 147.07it/s]\n",
      "Training Epoch 369: 100%|██████████| 373/373 [00:02<00:00, 124.52it/s]\n",
      "Training Epoch 370: 100%|██████████| 373/373 [00:02<00:00, 136.70it/s]\n",
      "Training Epoch 371: 100%|██████████| 373/373 [00:02<00:00, 149.45it/s]\n"
     ]
    },
    {
     "name": "stdout",
     "output_type": "stream",
     "text": [
      "Epoch 370 - Train Loss: 0.4844, Train MSE: 0.4849, Train MAE: 0.4740\n",
      "Epoch 370 - Validation Loss: 1.1941, Validation MSE: 1.1962, Validation MAE: 0.7509\n"
     ]
    },
    {
     "name": "stderr",
     "output_type": "stream",
     "text": [
      "Training Epoch 372: 100%|██████████| 373/373 [00:02<00:00, 150.68it/s]\n",
      "Training Epoch 373: 100%|██████████| 373/373 [00:02<00:00, 137.72it/s]\n",
      "Training Epoch 374: 100%|██████████| 373/373 [00:02<00:00, 136.84it/s]\n",
      "Training Epoch 375: 100%|██████████| 373/373 [00:02<00:00, 135.12it/s]\n",
      "Training Epoch 376: 100%|██████████| 373/373 [00:02<00:00, 143.19it/s]\n",
      "Training Epoch 377: 100%|██████████| 373/373 [00:02<00:00, 146.86it/s]\n",
      "Training Epoch 378: 100%|██████████| 373/373 [00:02<00:00, 151.97it/s]\n",
      "Training Epoch 379: 100%|██████████| 373/373 [00:02<00:00, 145.49it/s]\n",
      "Training Epoch 380: 100%|██████████| 373/373 [00:02<00:00, 142.39it/s]\n",
      "Training Epoch 381: 100%|██████████| 373/373 [00:02<00:00, 144.05it/s]\n"
     ]
    },
    {
     "name": "stdout",
     "output_type": "stream",
     "text": [
      "Epoch 380 - Train Loss: 0.4881, Train MSE: 0.4885, Train MAE: 0.4764\n",
      "Epoch 380 - Validation Loss: 1.2034, Validation MSE: 1.2055, Validation MAE: 0.7474\n"
     ]
    },
    {
     "name": "stderr",
     "output_type": "stream",
     "text": [
      "Training Epoch 382: 100%|██████████| 373/373 [00:02<00:00, 148.47it/s]\n",
      "Training Epoch 383: 100%|██████████| 373/373 [00:02<00:00, 148.63it/s]\n",
      "Training Epoch 384: 100%|██████████| 373/373 [00:02<00:00, 151.69it/s]\n",
      "Training Epoch 385: 100%|██████████| 373/373 [00:02<00:00, 139.62it/s]\n",
      "Training Epoch 386: 100%|██████████| 373/373 [00:02<00:00, 147.63it/s]\n",
      "Training Epoch 387: 100%|██████████| 373/373 [00:02<00:00, 145.34it/s]\n",
      "Training Epoch 388: 100%|██████████| 373/373 [00:02<00:00, 150.94it/s]\n",
      "Training Epoch 389: 100%|██████████| 373/373 [00:02<00:00, 142.70it/s]\n",
      "Training Epoch 390: 100%|██████████| 373/373 [00:02<00:00, 150.11it/s]\n",
      "Training Epoch 391: 100%|██████████| 373/373 [00:02<00:00, 139.17it/s]\n"
     ]
    },
    {
     "name": "stdout",
     "output_type": "stream",
     "text": [
      "Epoch 390 - Train Loss: 0.4846, Train MSE: 0.4852, Train MAE: 0.4748\n",
      "Epoch 390 - Validation Loss: 1.2021, Validation MSE: 1.2042, Validation MAE: 0.7568\n"
     ]
    },
    {
     "name": "stderr",
     "output_type": "stream",
     "text": [
      "Training Epoch 392: 100%|██████████| 373/373 [00:02<00:00, 151.72it/s]\n",
      "Training Epoch 393: 100%|██████████| 373/373 [00:02<00:00, 142.60it/s]\n",
      "Training Epoch 394: 100%|██████████| 373/373 [00:02<00:00, 145.77it/s]\n",
      "Training Epoch 395: 100%|██████████| 373/373 [00:02<00:00, 147.97it/s]\n",
      "Training Epoch 396: 100%|██████████| 373/373 [00:02<00:00, 132.76it/s]\n",
      "Training Epoch 397: 100%|██████████| 373/373 [00:02<00:00, 151.65it/s]\n",
      "Training Epoch 398: 100%|██████████| 373/373 [00:02<00:00, 143.86it/s]\n",
      "Training Epoch 399: 100%|██████████| 373/373 [00:02<00:00, 137.83it/s]\n",
      "Training Epoch 400: 100%|██████████| 373/373 [00:02<00:00, 135.23it/s]\n",
      "Training Epoch 401: 100%|██████████| 373/373 [00:02<00:00, 137.47it/s]\n"
     ]
    },
    {
     "name": "stdout",
     "output_type": "stream",
     "text": [
      "Epoch 400 - Train Loss: 0.4744, Train MSE: 0.4754, Train MAE: 0.4670\n",
      "Epoch 400 - Validation Loss: 1.1915, Validation MSE: 1.1936, Validation MAE: 0.7457\n"
     ]
    },
    {
     "name": "stderr",
     "output_type": "stream",
     "text": [
      "Training Epoch 402: 100%|██████████| 373/373 [00:02<00:00, 134.71it/s]\n",
      "Training Epoch 403: 100%|██████████| 373/373 [00:02<00:00, 143.59it/s]\n",
      "Training Epoch 404: 100%|██████████| 373/373 [00:02<00:00, 142.45it/s]\n",
      "Training Epoch 405: 100%|██████████| 373/373 [00:02<00:00, 145.69it/s]\n",
      "Training Epoch 406: 100%|██████████| 373/373 [00:02<00:00, 143.34it/s]\n",
      "Training Epoch 407: 100%|██████████| 373/373 [00:02<00:00, 141.75it/s]\n",
      "Training Epoch 408: 100%|██████████| 373/373 [00:02<00:00, 137.87it/s]\n",
      "Training Epoch 409: 100%|██████████| 373/373 [00:02<00:00, 145.96it/s]\n",
      "Training Epoch 410: 100%|██████████| 373/373 [00:02<00:00, 150.36it/s]\n",
      "Training Epoch 411: 100%|██████████| 373/373 [00:02<00:00, 142.09it/s]\n"
     ]
    },
    {
     "name": "stdout",
     "output_type": "stream",
     "text": [
      "Epoch 410 - Train Loss: 0.4776, Train MSE: 0.4785, Train MAE: 0.4723\n",
      "Epoch 410 - Validation Loss: 1.1992, Validation MSE: 1.2016, Validation MAE: 0.7485\n"
     ]
    },
    {
     "name": "stderr",
     "output_type": "stream",
     "text": [
      "Training Epoch 412: 100%|██████████| 373/373 [00:02<00:00, 143.41it/s]\n",
      "Training Epoch 413: 100%|██████████| 373/373 [00:02<00:00, 142.99it/s]\n",
      "Training Epoch 414: 100%|██████████| 373/373 [00:03<00:00, 123.15it/s]\n",
      "Training Epoch 415: 100%|██████████| 373/373 [00:02<00:00, 141.29it/s]\n",
      "Training Epoch 416: 100%|██████████| 373/373 [00:02<00:00, 132.95it/s]\n",
      "Training Epoch 417: 100%|██████████| 373/373 [00:02<00:00, 143.46it/s]\n",
      "Training Epoch 418: 100%|██████████| 373/373 [00:02<00:00, 142.88it/s]\n",
      "Training Epoch 419: 100%|██████████| 373/373 [00:02<00:00, 141.61it/s]\n",
      "Training Epoch 420: 100%|██████████| 373/373 [00:02<00:00, 146.57it/s]\n",
      "Training Epoch 421: 100%|██████████| 373/373 [00:02<00:00, 143.06it/s]\n"
     ]
    },
    {
     "name": "stdout",
     "output_type": "stream",
     "text": [
      "Epoch 420 - Train Loss: 0.4824, Train MSE: 0.4833, Train MAE: 0.4742\n",
      "Epoch 420 - Validation Loss: 1.2067, Validation MSE: 1.2087, Validation MAE: 0.7493\n"
     ]
    },
    {
     "name": "stderr",
     "output_type": "stream",
     "text": [
      "Training Epoch 422: 100%|██████████| 373/373 [00:02<00:00, 154.98it/s]\n",
      "Training Epoch 423: 100%|██████████| 373/373 [00:02<00:00, 149.74it/s]\n",
      "Training Epoch 424: 100%|██████████| 373/373 [00:02<00:00, 141.08it/s]\n",
      "Training Epoch 425: 100%|██████████| 373/373 [00:02<00:00, 139.87it/s]\n",
      "Training Epoch 426: 100%|██████████| 373/373 [00:02<00:00, 143.83it/s]\n",
      "Training Epoch 427: 100%|██████████| 373/373 [00:02<00:00, 149.67it/s]\n",
      "Training Epoch 428: 100%|██████████| 373/373 [00:02<00:00, 139.05it/s]\n",
      "Training Epoch 429: 100%|██████████| 373/373 [00:02<00:00, 137.65it/s]\n",
      "Training Epoch 430: 100%|██████████| 373/373 [00:02<00:00, 141.09it/s]\n",
      "Training Epoch 431: 100%|██████████| 373/373 [00:02<00:00, 141.51it/s]\n"
     ]
    },
    {
     "name": "stdout",
     "output_type": "stream",
     "text": [
      "Epoch 430 - Train Loss: 0.4696, Train MSE: 0.4706, Train MAE: 0.4646\n",
      "Epoch 430 - Validation Loss: 1.2013, Validation MSE: 1.2036, Validation MAE: 0.7537\n"
     ]
    },
    {
     "name": "stderr",
     "output_type": "stream",
     "text": [
      "Training Epoch 432: 100%|██████████| 373/373 [00:02<00:00, 147.61it/s]\n",
      "Training Epoch 433: 100%|██████████| 373/373 [00:02<00:00, 151.28it/s]\n",
      "Training Epoch 434: 100%|██████████| 373/373 [00:02<00:00, 145.53it/s]\n",
      "Training Epoch 435: 100%|██████████| 373/373 [00:02<00:00, 144.00it/s]\n",
      "Training Epoch 436: 100%|██████████| 373/373 [00:02<00:00, 140.49it/s]\n",
      "Training Epoch 437: 100%|██████████| 373/373 [00:02<00:00, 131.36it/s]\n",
      "Training Epoch 438: 100%|██████████| 373/373 [00:02<00:00, 138.08it/s]\n",
      "Training Epoch 439: 100%|██████████| 373/373 [00:02<00:00, 124.79it/s]\n",
      "Training Epoch 440: 100%|██████████| 373/373 [00:02<00:00, 138.61it/s]\n",
      "Training Epoch 441: 100%|██████████| 373/373 [00:02<00:00, 142.09it/s]\n"
     ]
    },
    {
     "name": "stdout",
     "output_type": "stream",
     "text": [
      "Epoch 440 - Train Loss: 0.4667, Train MSE: 0.4674, Train MAE: 0.4617\n",
      "Epoch 440 - Validation Loss: 1.2089, Validation MSE: 1.2114, Validation MAE: 0.7533\n"
     ]
    },
    {
     "name": "stderr",
     "output_type": "stream",
     "text": [
      "Training Epoch 442: 100%|██████████| 373/373 [00:02<00:00, 144.72it/s]\n",
      "Training Epoch 443: 100%|██████████| 373/373 [00:02<00:00, 141.51it/s]\n",
      "Training Epoch 444: 100%|██████████| 373/373 [00:02<00:00, 143.27it/s]\n",
      "Training Epoch 445: 100%|██████████| 373/373 [00:02<00:00, 142.98it/s]\n",
      "Training Epoch 446: 100%|██████████| 373/373 [00:02<00:00, 154.63it/s]\n",
      "Training Epoch 447: 100%|██████████| 373/373 [00:02<00:00, 151.26it/s]\n",
      "Training Epoch 448: 100%|██████████| 373/373 [00:02<00:00, 149.91it/s]\n",
      "Training Epoch 449: 100%|██████████| 373/373 [00:02<00:00, 147.74it/s]\n",
      "Training Epoch 450: 100%|██████████| 373/373 [00:02<00:00, 142.91it/s]\n",
      "Training Epoch 451: 100%|██████████| 373/373 [00:02<00:00, 148.34it/s]\n"
     ]
    },
    {
     "name": "stdout",
     "output_type": "stream",
     "text": [
      "Epoch 450 - Train Loss: 0.4752, Train MSE: 0.4751, Train MAE: 0.4663\n",
      "Epoch 450 - Validation Loss: 1.2006, Validation MSE: 1.2027, Validation MAE: 0.7515\n"
     ]
    },
    {
     "name": "stderr",
     "output_type": "stream",
     "text": [
      "Training Epoch 452: 100%|██████████| 373/373 [00:02<00:00, 149.11it/s]\n",
      "Training Epoch 453: 100%|██████████| 373/373 [00:02<00:00, 139.28it/s]\n",
      "Training Epoch 454: 100%|██████████| 373/373 [00:02<00:00, 147.39it/s]\n",
      "Training Epoch 455: 100%|██████████| 373/373 [00:02<00:00, 143.69it/s]\n",
      "Training Epoch 456: 100%|██████████| 373/373 [00:02<00:00, 151.68it/s]\n",
      "Training Epoch 457: 100%|██████████| 373/373 [00:02<00:00, 141.37it/s]\n",
      "Training Epoch 458: 100%|██████████| 373/373 [00:02<00:00, 143.00it/s]\n",
      "Training Epoch 459: 100%|██████████| 373/373 [00:02<00:00, 132.05it/s]\n",
      "Training Epoch 460: 100%|██████████| 373/373 [00:02<00:00, 140.54it/s]\n",
      "Training Epoch 461: 100%|██████████| 373/373 [00:02<00:00, 137.82it/s]\n"
     ]
    },
    {
     "name": "stdout",
     "output_type": "stream",
     "text": [
      "Epoch 460 - Train Loss: 0.4655, Train MSE: 0.4656, Train MAE: 0.4636\n",
      "Epoch 460 - Validation Loss: 1.2010, Validation MSE: 1.2030, Validation MAE: 0.7496\n"
     ]
    },
    {
     "name": "stderr",
     "output_type": "stream",
     "text": [
      "Training Epoch 462: 100%|██████████| 373/373 [00:02<00:00, 135.96it/s]\n",
      "Training Epoch 463: 100%|██████████| 373/373 [00:02<00:00, 138.92it/s]\n",
      "Training Epoch 464: 100%|██████████| 373/373 [00:02<00:00, 140.37it/s]\n",
      "Training Epoch 465: 100%|██████████| 373/373 [00:02<00:00, 131.23it/s]\n",
      "Training Epoch 466: 100%|██████████| 373/373 [00:02<00:00, 144.55it/s]\n",
      "Training Epoch 467: 100%|██████████| 373/373 [00:02<00:00, 138.85it/s]\n",
      "Training Epoch 468: 100%|██████████| 373/373 [00:02<00:00, 146.18it/s]\n",
      "Training Epoch 469: 100%|██████████| 373/373 [00:02<00:00, 148.35it/s]\n",
      "Training Epoch 470: 100%|██████████| 373/373 [00:02<00:00, 146.17it/s]\n",
      "Training Epoch 471: 100%|██████████| 373/373 [00:02<00:00, 144.81it/s]\n"
     ]
    },
    {
     "name": "stdout",
     "output_type": "stream",
     "text": [
      "Epoch 470 - Train Loss: 0.4660, Train MSE: 0.4650, Train MAE: 0.4628\n",
      "Epoch 470 - Validation Loss: 1.1973, Validation MSE: 1.1997, Validation MAE: 0.7487\n"
     ]
    },
    {
     "name": "stderr",
     "output_type": "stream",
     "text": [
      "Training Epoch 472: 100%|██████████| 373/373 [00:02<00:00, 150.31it/s]\n",
      "Training Epoch 473: 100%|██████████| 373/373 [00:02<00:00, 150.28it/s]\n",
      "Training Epoch 474: 100%|██████████| 373/373 [00:02<00:00, 149.94it/s]\n",
      "Training Epoch 475: 100%|██████████| 373/373 [00:02<00:00, 146.23it/s]\n",
      "Training Epoch 476: 100%|██████████| 373/373 [00:02<00:00, 145.92it/s]\n",
      "Training Epoch 477: 100%|██████████| 373/373 [00:02<00:00, 140.11it/s]\n",
      "Training Epoch 478: 100%|██████████| 373/373 [00:02<00:00, 138.92it/s]\n",
      "Training Epoch 479: 100%|██████████| 373/373 [00:02<00:00, 139.63it/s]\n",
      "Training Epoch 480: 100%|██████████| 373/373 [00:02<00:00, 137.28it/s]\n",
      "Training Epoch 481: 100%|██████████| 373/373 [00:02<00:00, 129.54it/s]\n"
     ]
    },
    {
     "name": "stdout",
     "output_type": "stream",
     "text": [
      "Epoch 480 - Train Loss: 0.4610, Train MSE: 0.4616, Train MAE: 0.4569\n",
      "Epoch 480 - Validation Loss: 1.1993, Validation MSE: 1.2015, Validation MAE: 0.7482\n"
     ]
    },
    {
     "name": "stderr",
     "output_type": "stream",
     "text": [
      "Training Epoch 482: 100%|██████████| 373/373 [00:02<00:00, 137.77it/s]\n",
      "Training Epoch 483: 100%|██████████| 373/373 [00:02<00:00, 150.35it/s]\n",
      "Training Epoch 484: 100%|██████████| 373/373 [00:02<00:00, 150.16it/s]\n",
      "Training Epoch 485: 100%|██████████| 373/373 [00:02<00:00, 154.62it/s]\n",
      "Training Epoch 486: 100%|██████████| 373/373 [00:02<00:00, 149.64it/s]\n",
      "Training Epoch 487: 100%|██████████| 373/373 [00:02<00:00, 144.01it/s]\n",
      "Training Epoch 488: 100%|██████████| 373/373 [00:02<00:00, 150.41it/s]\n",
      "Training Epoch 489: 100%|██████████| 373/373 [00:02<00:00, 140.06it/s]\n",
      "Training Epoch 490: 100%|██████████| 373/373 [00:02<00:00, 149.75it/s]\n",
      "Training Epoch 491: 100%|██████████| 373/373 [00:02<00:00, 149.41it/s]\n"
     ]
    },
    {
     "name": "stdout",
     "output_type": "stream",
     "text": [
      "Epoch 490 - Train Loss: 0.4591, Train MSE: 0.4585, Train MAE: 0.4569\n",
      "Epoch 490 - Validation Loss: 1.1892, Validation MSE: 1.1912, Validation MAE: 0.7439\n"
     ]
    },
    {
     "name": "stderr",
     "output_type": "stream",
     "text": [
      "Training Epoch 492: 100%|██████████| 373/373 [00:02<00:00, 150.08it/s]\n",
      "Training Epoch 493: 100%|██████████| 373/373 [00:02<00:00, 141.52it/s]\n",
      "Training Epoch 494: 100%|██████████| 373/373 [00:02<00:00, 128.68it/s]\n",
      "Training Epoch 495: 100%|██████████| 373/373 [00:02<00:00, 133.38it/s]\n",
      "Training Epoch 496: 100%|██████████| 373/373 [00:02<00:00, 136.86it/s]\n",
      "Training Epoch 497: 100%|██████████| 373/373 [00:02<00:00, 144.64it/s]\n",
      "Training Epoch 498: 100%|██████████| 373/373 [00:02<00:00, 142.74it/s]\n",
      "Training Epoch 499: 100%|██████████| 373/373 [00:02<00:00, 130.29it/s]\n",
      "Training Epoch 500: 100%|██████████| 373/373 [00:02<00:00, 140.12it/s]\n",
      "Training Epoch 501: 100%|██████████| 373/373 [00:02<00:00, 152.69it/s]\n"
     ]
    },
    {
     "name": "stdout",
     "output_type": "stream",
     "text": [
      "Epoch 500 - Train Loss: 0.4578, Train MSE: 0.4586, Train MAE: 0.4559\n",
      "Epoch 500 - Validation Loss: 1.2002, Validation MSE: 1.2021, Validation MAE: 0.7555\n"
     ]
    },
    {
     "name": "stderr",
     "output_type": "stream",
     "text": [
      "Training Epoch 502: 100%|██████████| 373/373 [00:02<00:00, 150.70it/s]\n",
      "Training Epoch 503: 100%|██████████| 373/373 [00:02<00:00, 153.28it/s]\n",
      "Training Epoch 504: 100%|██████████| 373/373 [00:02<00:00, 144.20it/s]\n",
      "Training Epoch 505: 100%|██████████| 373/373 [00:02<00:00, 142.51it/s]\n",
      "Training Epoch 506: 100%|██████████| 373/373 [00:02<00:00, 150.10it/s]\n",
      "Training Epoch 507: 100%|██████████| 373/373 [00:02<00:00, 139.60it/s]\n",
      "Training Epoch 508: 100%|██████████| 373/373 [00:02<00:00, 141.30it/s]\n",
      "Training Epoch 509: 100%|██████████| 373/373 [00:02<00:00, 140.20it/s]\n",
      "Training Epoch 510: 100%|██████████| 373/373 [00:06<00:00, 61.10it/s] \n",
      "Training Epoch 511: 100%|██████████| 373/373 [00:08<00:00, 42.07it/s]\n"
     ]
    },
    {
     "name": "stdout",
     "output_type": "stream",
     "text": [
      "Epoch 510 - Train Loss: 0.4644, Train MSE: 0.4651, Train MAE: 0.4590\n",
      "Epoch 510 - Validation Loss: 1.2141, Validation MSE: 1.2161, Validation MAE: 0.7541\n"
     ]
    },
    {
     "name": "stderr",
     "output_type": "stream",
     "text": [
      "Training Epoch 512: 100%|██████████| 373/373 [00:09<00:00, 38.01it/s]\n",
      "Training Epoch 513: 100%|██████████| 373/373 [00:02<00:00, 177.60it/s]\n",
      "Training Epoch 514: 100%|██████████| 373/373 [00:01<00:00, 203.66it/s]\n",
      "Training Epoch 515: 100%|██████████| 373/373 [00:01<00:00, 203.89it/s]\n",
      "Training Epoch 516: 100%|██████████| 373/373 [00:01<00:00, 196.13it/s]\n",
      "Training Epoch 517: 100%|██████████| 373/373 [00:01<00:00, 202.45it/s]\n",
      "Training Epoch 518: 100%|██████████| 373/373 [00:01<00:00, 200.23it/s]\n",
      "Training Epoch 519: 100%|██████████| 373/373 [00:01<00:00, 198.96it/s]\n",
      "Training Epoch 520: 100%|██████████| 373/373 [00:01<00:00, 201.67it/s]\n",
      "Training Epoch 521: 100%|██████████| 373/373 [00:01<00:00, 204.41it/s]\n"
     ]
    },
    {
     "name": "stdout",
     "output_type": "stream",
     "text": [
      "Epoch 520 - Train Loss: 0.4596, Train MSE: 0.4606, Train MAE: 0.4557\n",
      "Epoch 520 - Validation Loss: 1.1996, Validation MSE: 1.2018, Validation MAE: 0.7463\n"
     ]
    },
    {
     "name": "stderr",
     "output_type": "stream",
     "text": [
      "Training Epoch 522: 100%|██████████| 373/373 [00:01<00:00, 201.34it/s]\n",
      "Training Epoch 523: 100%|██████████| 373/373 [00:01<00:00, 203.96it/s]\n",
      "Training Epoch 524: 100%|██████████| 373/373 [00:01<00:00, 202.71it/s]\n",
      "Training Epoch 525: 100%|██████████| 373/373 [00:01<00:00, 199.18it/s]\n",
      "Training Epoch 526: 100%|██████████| 373/373 [00:01<00:00, 205.58it/s]\n",
      "Training Epoch 527: 100%|██████████| 373/373 [00:01<00:00, 200.85it/s]\n",
      "Training Epoch 528: 100%|██████████| 373/373 [00:01<00:00, 203.88it/s]\n",
      "Training Epoch 529: 100%|██████████| 373/373 [00:01<00:00, 203.03it/s]\n",
      "Training Epoch 530: 100%|██████████| 373/373 [00:01<00:00, 199.45it/s]\n",
      "Training Epoch 531: 100%|██████████| 373/373 [00:01<00:00, 200.18it/s]\n"
     ]
    },
    {
     "name": "stdout",
     "output_type": "stream",
     "text": [
      "Epoch 530 - Train Loss: 0.4528, Train MSE: 0.4534, Train MAE: 0.4512\n",
      "Epoch 530 - Validation Loss: 1.2040, Validation MSE: 1.2063, Validation MAE: 0.7470\n"
     ]
    },
    {
     "name": "stderr",
     "output_type": "stream",
     "text": [
      "Training Epoch 532: 100%|██████████| 373/373 [00:01<00:00, 198.73it/s]\n",
      "Training Epoch 533: 100%|██████████| 373/373 [00:01<00:00, 203.14it/s]\n",
      "Training Epoch 534: 100%|██████████| 373/373 [00:01<00:00, 198.79it/s]\n",
      "Training Epoch 535: 100%|██████████| 373/373 [00:01<00:00, 199.73it/s]\n",
      "Training Epoch 536: 100%|██████████| 373/373 [00:01<00:00, 205.95it/s]\n",
      "Training Epoch 537: 100%|██████████| 373/373 [00:01<00:00, 202.31it/s]\n",
      "Training Epoch 538: 100%|██████████| 373/373 [00:01<00:00, 198.96it/s]\n",
      "Training Epoch 539: 100%|██████████| 373/373 [00:01<00:00, 204.45it/s]\n",
      "Training Epoch 540: 100%|██████████| 373/373 [00:01<00:00, 195.43it/s]\n",
      "Training Epoch 541: 100%|██████████| 373/373 [00:01<00:00, 199.91it/s]\n"
     ]
    },
    {
     "name": "stdout",
     "output_type": "stream",
     "text": [
      "Epoch 540 - Train Loss: 0.4545, Train MSE: 0.4554, Train MAE: 0.4539\n",
      "Epoch 540 - Validation Loss: 1.1904, Validation MSE: 1.1924, Validation MAE: 0.7451\n"
     ]
    },
    {
     "name": "stderr",
     "output_type": "stream",
     "text": [
      "Training Epoch 542: 100%|██████████| 373/373 [00:01<00:00, 202.05it/s]\n",
      "Training Epoch 543: 100%|██████████| 373/373 [00:01<00:00, 203.82it/s]\n",
      "Training Epoch 544: 100%|██████████| 373/373 [00:01<00:00, 202.18it/s]\n",
      "Training Epoch 545: 100%|██████████| 373/373 [00:01<00:00, 205.07it/s]\n",
      "Training Epoch 546: 100%|██████████| 373/373 [00:01<00:00, 193.89it/s]\n",
      "Training Epoch 547: 100%|██████████| 373/373 [00:01<00:00, 201.71it/s]\n",
      "Training Epoch 548: 100%|██████████| 373/373 [00:01<00:00, 198.22it/s]\n",
      "Training Epoch 549: 100%|██████████| 373/373 [00:01<00:00, 196.37it/s]\n",
      "Training Epoch 550: 100%|██████████| 373/373 [00:01<00:00, 202.38it/s]\n",
      "Training Epoch 551: 100%|██████████| 373/373 [00:01<00:00, 196.79it/s]\n"
     ]
    },
    {
     "name": "stdout",
     "output_type": "stream",
     "text": [
      "Epoch 550 - Train Loss: 0.4467, Train MSE: 0.4478, Train MAE: 0.4492\n",
      "Epoch 550 - Validation Loss: 1.2137, Validation MSE: 1.2156, Validation MAE: 0.7540\n"
     ]
    },
    {
     "name": "stderr",
     "output_type": "stream",
     "text": [
      "Training Epoch 552: 100%|██████████| 373/373 [00:01<00:00, 205.21it/s]\n",
      "Training Epoch 553: 100%|██████████| 373/373 [00:01<00:00, 202.76it/s]\n",
      "Training Epoch 554: 100%|██████████| 373/373 [00:01<00:00, 204.78it/s]\n",
      "Training Epoch 555: 100%|██████████| 373/373 [00:01<00:00, 206.31it/s]\n",
      "Training Epoch 556: 100%|██████████| 373/373 [00:01<00:00, 199.40it/s]\n",
      "Training Epoch 557: 100%|██████████| 373/373 [00:01<00:00, 198.66it/s]\n",
      "Training Epoch 558: 100%|██████████| 373/373 [00:01<00:00, 198.36it/s]\n",
      "Training Epoch 559: 100%|██████████| 373/373 [00:01<00:00, 203.01it/s]\n",
      "Training Epoch 560: 100%|██████████| 373/373 [00:01<00:00, 201.87it/s]\n",
      "Training Epoch 561: 100%|██████████| 373/373 [00:01<00:00, 203.80it/s]\n"
     ]
    },
    {
     "name": "stdout",
     "output_type": "stream",
     "text": [
      "Epoch 560 - Train Loss: 0.4460, Train MSE: 0.4435, Train MAE: 0.4466\n",
      "Epoch 560 - Validation Loss: 1.1905, Validation MSE: 1.1926, Validation MAE: 0.7404\n"
     ]
    },
    {
     "name": "stderr",
     "output_type": "stream",
     "text": [
      "Training Epoch 562: 100%|██████████| 373/373 [00:01<00:00, 199.85it/s]\n",
      "Training Epoch 563: 100%|██████████| 373/373 [00:01<00:00, 204.72it/s]\n",
      "Training Epoch 564: 100%|██████████| 373/373 [00:01<00:00, 199.10it/s]\n",
      "Training Epoch 565: 100%|██████████| 373/373 [00:01<00:00, 203.29it/s]\n",
      "Training Epoch 566: 100%|██████████| 373/373 [00:01<00:00, 199.69it/s]\n",
      "Training Epoch 567: 100%|██████████| 373/373 [00:01<00:00, 202.69it/s]\n",
      "Training Epoch 568: 100%|██████████| 373/373 [00:01<00:00, 204.94it/s]\n",
      "Training Epoch 569: 100%|██████████| 373/373 [00:01<00:00, 205.00it/s]\n",
      "Training Epoch 570: 100%|██████████| 373/373 [00:01<00:00, 199.90it/s]\n",
      "Training Epoch 571: 100%|██████████| 373/373 [00:01<00:00, 203.63it/s]\n"
     ]
    },
    {
     "name": "stdout",
     "output_type": "stream",
     "text": [
      "Epoch 570 - Train Loss: 0.4505, Train MSE: 0.4503, Train MAE: 0.4508\n",
      "Epoch 570 - Validation Loss: 1.2142, Validation MSE: 1.2165, Validation MAE: 0.7497\n"
     ]
    },
    {
     "name": "stderr",
     "output_type": "stream",
     "text": [
      "Training Epoch 572: 100%|██████████| 373/373 [00:01<00:00, 200.75it/s]\n",
      "Training Epoch 573: 100%|██████████| 373/373 [00:01<00:00, 197.68it/s]\n",
      "Training Epoch 574: 100%|██████████| 373/373 [00:01<00:00, 205.55it/s]\n",
      "Training Epoch 575: 100%|██████████| 373/373 [00:01<00:00, 200.87it/s]\n",
      "Training Epoch 576: 100%|██████████| 373/373 [00:01<00:00, 198.12it/s]\n",
      "Training Epoch 577: 100%|██████████| 373/373 [00:01<00:00, 203.88it/s]\n",
      "Training Epoch 578: 100%|██████████| 373/373 [00:01<00:00, 197.30it/s]\n",
      "Training Epoch 579: 100%|██████████| 373/373 [00:01<00:00, 204.83it/s]\n",
      "Training Epoch 580: 100%|██████████| 373/373 [00:01<00:00, 204.13it/s]\n",
      "Training Epoch 581: 100%|██████████| 373/373 [00:01<00:00, 189.90it/s]\n"
     ]
    },
    {
     "name": "stdout",
     "output_type": "stream",
     "text": [
      "Epoch 580 - Train Loss: 0.4491, Train MSE: 0.4502, Train MAE: 0.4516\n",
      "Epoch 580 - Validation Loss: 1.2073, Validation MSE: 1.2091, Validation MAE: 0.7470\n"
     ]
    },
    {
     "name": "stderr",
     "output_type": "stream",
     "text": [
      "Training Epoch 582: 100%|██████████| 373/373 [00:01<00:00, 203.74it/s]\n",
      "Training Epoch 583: 100%|██████████| 373/373 [00:01<00:00, 203.08it/s]\n",
      "Training Epoch 584: 100%|██████████| 373/373 [00:01<00:00, 204.35it/s]\n",
      "Training Epoch 585: 100%|██████████| 373/373 [00:01<00:00, 207.42it/s]\n",
      "Training Epoch 586: 100%|██████████| 373/373 [00:01<00:00, 198.60it/s]\n",
      "Training Epoch 587: 100%|██████████| 373/373 [00:01<00:00, 204.16it/s]\n",
      "Training Epoch 588: 100%|██████████| 373/373 [00:01<00:00, 201.42it/s]\n",
      "Training Epoch 589: 100%|██████████| 373/373 [00:01<00:00, 198.67it/s]\n",
      "Training Epoch 590: 100%|██████████| 373/373 [00:01<00:00, 203.23it/s]\n",
      "Training Epoch 591: 100%|██████████| 373/373 [00:01<00:00, 198.85it/s]\n"
     ]
    },
    {
     "name": "stdout",
     "output_type": "stream",
     "text": [
      "Epoch 590 - Train Loss: 0.4450, Train MSE: 0.4457, Train MAE: 0.4473\n",
      "Epoch 590 - Validation Loss: 1.1910, Validation MSE: 1.1934, Validation MAE: 0.7435\n"
     ]
    },
    {
     "name": "stderr",
     "output_type": "stream",
     "text": [
      "Training Epoch 592: 100%|██████████| 373/373 [00:01<00:00, 196.78it/s]\n",
      "Training Epoch 593: 100%|██████████| 373/373 [00:01<00:00, 203.66it/s]\n",
      "Training Epoch 594: 100%|██████████| 373/373 [00:01<00:00, 207.74it/s]\n",
      "Training Epoch 595: 100%|██████████| 373/373 [00:01<00:00, 203.92it/s]\n",
      "Training Epoch 596: 100%|██████████| 373/373 [00:01<00:00, 212.54it/s]\n",
      "Training Epoch 597: 100%|██████████| 373/373 [00:01<00:00, 209.05it/s]\n",
      "Training Epoch 598: 100%|██████████| 373/373 [00:01<00:00, 206.52it/s]\n",
      "Training Epoch 599: 100%|██████████| 373/373 [00:01<00:00, 211.52it/s]\n",
      "Training Epoch 600: 100%|██████████| 373/373 [00:01<00:00, 211.80it/s]\n",
      "Training Epoch 601: 100%|██████████| 373/373 [00:01<00:00, 202.50it/s]\n"
     ]
    },
    {
     "name": "stdout",
     "output_type": "stream",
     "text": [
      "Epoch 600 - Train Loss: 0.4353, Train MSE: 0.4363, Train MAE: 0.4425\n",
      "Epoch 600 - Validation Loss: 1.1945, Validation MSE: 1.1965, Validation MAE: 0.7482\n"
     ]
    },
    {
     "name": "stderr",
     "output_type": "stream",
     "text": [
      "Training Epoch 602: 100%|██████████| 373/373 [00:01<00:00, 216.21it/s]\n",
      "Training Epoch 603: 100%|██████████| 373/373 [00:01<00:00, 206.41it/s]\n",
      "Training Epoch 604: 100%|██████████| 373/373 [00:01<00:00, 207.64it/s]\n",
      "Training Epoch 605: 100%|██████████| 373/373 [00:01<00:00, 210.58it/s]\n",
      "Training Epoch 606: 100%|██████████| 373/373 [00:01<00:00, 202.54it/s]\n",
      "Training Epoch 607: 100%|██████████| 373/373 [00:01<00:00, 205.13it/s]\n",
      "Training Epoch 608: 100%|██████████| 373/373 [00:01<00:00, 209.71it/s]\n",
      "Training Epoch 609: 100%|██████████| 373/373 [00:01<00:00, 201.69it/s]\n",
      "Training Epoch 610: 100%|██████████| 373/373 [00:01<00:00, 203.00it/s]\n",
      "Training Epoch 611: 100%|██████████| 373/373 [00:01<00:00, 203.12it/s]\n"
     ]
    },
    {
     "name": "stdout",
     "output_type": "stream",
     "text": [
      "Epoch 610 - Train Loss: 0.4455, Train MSE: 0.4463, Train MAE: 0.4462\n",
      "Epoch 610 - Validation Loss: 1.2089, Validation MSE: 1.2114, Validation MAE: 0.7484\n"
     ]
    },
    {
     "name": "stderr",
     "output_type": "stream",
     "text": [
      "Training Epoch 612: 100%|██████████| 373/373 [00:01<00:00, 205.86it/s]\n",
      "Training Epoch 613: 100%|██████████| 373/373 [00:01<00:00, 211.28it/s]\n",
      "Training Epoch 614: 100%|██████████| 373/373 [00:01<00:00, 207.61it/s]\n",
      "Training Epoch 615: 100%|██████████| 373/373 [00:01<00:00, 211.09it/s]\n",
      "Training Epoch 616: 100%|██████████| 373/373 [00:01<00:00, 206.20it/s]\n",
      "Training Epoch 617: 100%|██████████| 373/373 [00:01<00:00, 204.75it/s]\n",
      "Training Epoch 618: 100%|██████████| 373/373 [00:01<00:00, 212.99it/s]\n",
      "Training Epoch 619: 100%|██████████| 373/373 [00:01<00:00, 205.87it/s]\n",
      "Training Epoch 620: 100%|██████████| 373/373 [00:01<00:00, 200.37it/s]\n",
      "Training Epoch 621: 100%|██████████| 373/373 [00:01<00:00, 206.64it/s]\n"
     ]
    },
    {
     "name": "stdout",
     "output_type": "stream",
     "text": [
      "Epoch 620 - Train Loss: 0.4369, Train MSE: 0.4378, Train MAE: 0.4447\n",
      "Epoch 620 - Validation Loss: 1.1942, Validation MSE: 1.1960, Validation MAE: 0.7481\n"
     ]
    },
    {
     "name": "stderr",
     "output_type": "stream",
     "text": [
      "Training Epoch 622: 100%|██████████| 373/373 [00:01<00:00, 193.52it/s]\n",
      "Training Epoch 623: 100%|██████████| 373/373 [00:01<00:00, 194.72it/s]\n",
      "Training Epoch 624: 100%|██████████| 373/373 [00:01<00:00, 198.14it/s]\n",
      "Training Epoch 625: 100%|██████████| 373/373 [00:01<00:00, 195.24it/s]\n",
      "Training Epoch 626: 100%|██████████| 373/373 [00:01<00:00, 196.60it/s]\n",
      "Training Epoch 627: 100%|██████████| 373/373 [00:01<00:00, 197.58it/s]\n",
      "Training Epoch 628: 100%|██████████| 373/373 [00:01<00:00, 202.31it/s]\n",
      "Training Epoch 629: 100%|██████████| 373/373 [00:01<00:00, 196.33it/s]\n",
      "Training Epoch 630: 100%|██████████| 373/373 [00:01<00:00, 197.13it/s]\n",
      "Training Epoch 631: 100%|██████████| 373/373 [00:01<00:00, 197.24it/s]\n"
     ]
    },
    {
     "name": "stdout",
     "output_type": "stream",
     "text": [
      "Epoch 630 - Train Loss: 0.4367, Train MSE: 0.4376, Train MAE: 0.4436\n",
      "Epoch 630 - Validation Loss: 1.2078, Validation MSE: 1.2099, Validation MAE: 0.7509\n"
     ]
    },
    {
     "name": "stderr",
     "output_type": "stream",
     "text": [
      "Training Epoch 632: 100%|██████████| 373/373 [00:01<00:00, 200.07it/s]\n",
      "Training Epoch 633: 100%|██████████| 373/373 [00:01<00:00, 195.55it/s]\n",
      "Training Epoch 634: 100%|██████████| 373/373 [00:01<00:00, 198.49it/s]\n",
      "Training Epoch 635: 100%|██████████| 373/373 [00:01<00:00, 197.79it/s]\n",
      "Training Epoch 636: 100%|██████████| 373/373 [00:01<00:00, 192.29it/s]\n",
      "Training Epoch 637: 100%|██████████| 373/373 [00:01<00:00, 196.43it/s]\n",
      "Training Epoch 638: 100%|██████████| 373/373 [00:01<00:00, 193.37it/s]\n",
      "Training Epoch 639: 100%|██████████| 373/373 [00:01<00:00, 194.67it/s]\n",
      "Training Epoch 640: 100%|██████████| 373/373 [00:02<00:00, 183.25it/s]\n",
      "Training Epoch 641: 100%|██████████| 373/373 [00:02<00:00, 180.77it/s]\n"
     ]
    },
    {
     "name": "stdout",
     "output_type": "stream",
     "text": [
      "Epoch 640 - Train Loss: 0.4399, Train MSE: 0.4344, Train MAE: 0.4382\n",
      "Epoch 640 - Validation Loss: 1.2228, Validation MSE: 1.2249, Validation MAE: 0.7531\n"
     ]
    },
    {
     "name": "stderr",
     "output_type": "stream",
     "text": [
      "Training Epoch 642: 100%|██████████| 373/373 [00:01<00:00, 199.85it/s]\n",
      "Training Epoch 643: 100%|██████████| 373/373 [00:01<00:00, 199.94it/s]\n",
      "Training Epoch 644: 100%|██████████| 373/373 [00:01<00:00, 194.26it/s]\n",
      "Training Epoch 645: 100%|██████████| 373/373 [00:01<00:00, 194.07it/s]\n",
      "Training Epoch 646: 100%|██████████| 373/373 [00:01<00:00, 186.61it/s]\n",
      "Training Epoch 647: 100%|██████████| 373/373 [00:01<00:00, 196.76it/s]\n",
      "Training Epoch 648: 100%|██████████| 373/373 [00:01<00:00, 193.50it/s]\n",
      "Training Epoch 649: 100%|██████████| 373/373 [00:01<00:00, 198.45it/s]\n",
      "Training Epoch 650: 100%|██████████| 373/373 [00:01<00:00, 200.86it/s]\n",
      "Training Epoch 651: 100%|██████████| 373/373 [00:01<00:00, 195.84it/s]\n"
     ]
    },
    {
     "name": "stdout",
     "output_type": "stream",
     "text": [
      "Epoch 650 - Train Loss: 0.4330, Train MSE: 0.4334, Train MAE: 0.4378\n",
      "Epoch 650 - Validation Loss: 1.1923, Validation MSE: 1.1941, Validation MAE: 0.7469\n"
     ]
    },
    {
     "name": "stderr",
     "output_type": "stream",
     "text": [
      "Training Epoch 652: 100%|██████████| 373/373 [00:01<00:00, 199.43it/s]\n",
      "Training Epoch 653: 100%|██████████| 373/373 [00:01<00:00, 194.70it/s]\n",
      "Training Epoch 654: 100%|██████████| 373/373 [00:01<00:00, 194.80it/s]\n",
      "Training Epoch 655: 100%|██████████| 373/373 [00:01<00:00, 199.94it/s]\n",
      "Training Epoch 656: 100%|██████████| 373/373 [00:01<00:00, 196.29it/s]\n",
      "Training Epoch 657: 100%|██████████| 373/373 [00:01<00:00, 198.76it/s]\n",
      "Training Epoch 658: 100%|██████████| 373/373 [00:01<00:00, 195.71it/s]\n",
      "Training Epoch 659: 100%|██████████| 373/373 [00:01<00:00, 196.30it/s]\n",
      "Training Epoch 660: 100%|██████████| 373/373 [00:01<00:00, 199.11it/s]\n",
      "Training Epoch 661: 100%|██████████| 373/373 [00:01<00:00, 197.09it/s]\n"
     ]
    },
    {
     "name": "stdout",
     "output_type": "stream",
     "text": [
      "Epoch 660 - Train Loss: 0.4294, Train MSE: 0.4303, Train MAE: 0.4373\n",
      "Epoch 660 - Validation Loss: 1.2073, Validation MSE: 1.2091, Validation MAE: 0.7446\n"
     ]
    },
    {
     "name": "stderr",
     "output_type": "stream",
     "text": [
      "Training Epoch 662: 100%|██████████| 373/373 [00:01<00:00, 198.40it/s]\n",
      "Training Epoch 663: 100%|██████████| 373/373 [00:01<00:00, 200.50it/s]\n",
      "Training Epoch 664: 100%|██████████| 373/373 [00:01<00:00, 197.45it/s]\n",
      "Training Epoch 665: 100%|██████████| 373/373 [00:01<00:00, 197.63it/s]\n",
      "Training Epoch 666: 100%|██████████| 373/373 [00:01<00:00, 190.64it/s]\n",
      "Training Epoch 667: 100%|██████████| 373/373 [00:01<00:00, 197.31it/s]\n",
      "Training Epoch 668: 100%|██████████| 373/373 [00:01<00:00, 189.90it/s]\n",
      "Training Epoch 669: 100%|██████████| 373/373 [00:01<00:00, 187.60it/s]\n",
      "Training Epoch 670: 100%|██████████| 373/373 [00:01<00:00, 191.11it/s]\n",
      "Training Epoch 671: 100%|██████████| 373/373 [00:01<00:00, 191.76it/s]\n"
     ]
    },
    {
     "name": "stdout",
     "output_type": "stream",
     "text": [
      "Epoch 670 - Train Loss: 0.4393, Train MSE: 0.4398, Train MAE: 0.4424\n",
      "Epoch 670 - Validation Loss: 1.2200, Validation MSE: 1.2217, Validation MAE: 0.7525\n"
     ]
    },
    {
     "name": "stderr",
     "output_type": "stream",
     "text": [
      "Training Epoch 672: 100%|██████████| 373/373 [00:01<00:00, 189.29it/s]\n",
      "Training Epoch 673: 100%|██████████| 373/373 [00:01<00:00, 186.94it/s]\n",
      "Training Epoch 674: 100%|██████████| 373/373 [00:01<00:00, 187.83it/s]\n",
      "Training Epoch 675: 100%|██████████| 373/373 [00:02<00:00, 184.97it/s]\n",
      "Training Epoch 676: 100%|██████████| 373/373 [00:02<00:00, 182.85it/s]\n",
      "Training Epoch 677: 100%|██████████| 373/373 [00:01<00:00, 195.94it/s]\n",
      "Training Epoch 678: 100%|██████████| 373/373 [00:02<00:00, 177.46it/s]\n",
      "Training Epoch 679: 100%|██████████| 373/373 [00:01<00:00, 187.70it/s]\n",
      "Training Epoch 680: 100%|██████████| 373/373 [00:01<00:00, 193.63it/s]\n",
      "Training Epoch 681: 100%|██████████| 373/373 [00:01<00:00, 189.95it/s]\n"
     ]
    },
    {
     "name": "stdout",
     "output_type": "stream",
     "text": [
      "Epoch 680 - Train Loss: 0.4326, Train MSE: 0.4317, Train MAE: 0.4371\n",
      "Epoch 680 - Validation Loss: 1.2100, Validation MSE: 1.2123, Validation MAE: 0.7490\n"
     ]
    },
    {
     "name": "stderr",
     "output_type": "stream",
     "text": [
      "Training Epoch 682: 100%|██████████| 373/373 [00:01<00:00, 198.98it/s]\n",
      "Training Epoch 683: 100%|██████████| 373/373 [00:01<00:00, 190.65it/s]\n",
      "Training Epoch 684: 100%|██████████| 373/373 [00:02<00:00, 183.68it/s]\n",
      "Training Epoch 685: 100%|██████████| 373/373 [00:02<00:00, 182.25it/s]\n",
      "Training Epoch 686: 100%|██████████| 373/373 [00:02<00:00, 172.75it/s]\n",
      "Training Epoch 687: 100%|██████████| 373/373 [00:02<00:00, 177.02it/s]\n",
      "Training Epoch 688: 100%|██████████| 373/373 [00:02<00:00, 179.80it/s]\n",
      "Training Epoch 689: 100%|██████████| 373/373 [00:01<00:00, 188.51it/s]\n",
      "Training Epoch 690: 100%|██████████| 373/373 [00:02<00:00, 184.63it/s]\n",
      "Training Epoch 691: 100%|██████████| 373/373 [00:01<00:00, 187.08it/s]\n"
     ]
    },
    {
     "name": "stdout",
     "output_type": "stream",
     "text": [
      "Epoch 690 - Train Loss: 0.4309, Train MSE: 0.4309, Train MAE: 0.4371\n",
      "Epoch 690 - Validation Loss: 1.1882, Validation MSE: 1.1904, Validation MAE: 0.7427\n"
     ]
    },
    {
     "name": "stderr",
     "output_type": "stream",
     "text": [
      "Training Epoch 692: 100%|██████████| 373/373 [00:01<00:00, 188.94it/s]\n",
      "Training Epoch 693: 100%|██████████| 373/373 [00:01<00:00, 189.49it/s]\n",
      "Training Epoch 694: 100%|██████████| 373/373 [00:01<00:00, 188.62it/s]\n",
      "Training Epoch 695: 100%|██████████| 373/373 [00:01<00:00, 190.08it/s]\n",
      "Training Epoch 696: 100%|██████████| 373/373 [00:02<00:00, 183.75it/s]\n",
      "Training Epoch 697: 100%|██████████| 373/373 [00:02<00:00, 165.97it/s]\n",
      "Training Epoch 698: 100%|██████████| 373/373 [00:02<00:00, 178.68it/s]\n",
      "Training Epoch 699: 100%|██████████| 373/373 [00:01<00:00, 187.59it/s]\n",
      "Training Epoch 700: 100%|██████████| 373/373 [00:01<00:00, 190.36it/s]\n",
      "Training Epoch 701: 100%|██████████| 373/373 [00:01<00:00, 190.94it/s]\n"
     ]
    },
    {
     "name": "stdout",
     "output_type": "stream",
     "text": [
      "Epoch 700 - Train Loss: 0.4300, Train MSE: 0.4299, Train MAE: 0.4405\n",
      "Epoch 700 - Validation Loss: 1.1897, Validation MSE: 1.1921, Validation MAE: 0.7410\n"
     ]
    },
    {
     "name": "stderr",
     "output_type": "stream",
     "text": [
      "Training Epoch 702: 100%|██████████| 373/373 [00:02<00:00, 182.57it/s]\n",
      "Training Epoch 703: 100%|██████████| 373/373 [00:01<00:00, 188.93it/s]\n",
      "Training Epoch 704: 100%|██████████| 373/373 [00:01<00:00, 192.60it/s]\n",
      "Training Epoch 705: 100%|██████████| 373/373 [00:01<00:00, 188.49it/s]\n",
      "Training Epoch 706: 100%|██████████| 373/373 [00:02<00:00, 185.68it/s]\n",
      "Training Epoch 707: 100%|██████████| 373/373 [00:01<00:00, 188.30it/s]\n",
      "Training Epoch 708: 100%|██████████| 373/373 [00:02<00:00, 186.26it/s]\n",
      "Training Epoch 709: 100%|██████████| 373/373 [00:02<00:00, 183.12it/s]\n",
      "Training Epoch 710: 100%|██████████| 373/373 [00:01<00:00, 188.36it/s]\n",
      "Training Epoch 711: 100%|██████████| 373/373 [00:01<00:00, 191.36it/s]\n"
     ]
    },
    {
     "name": "stdout",
     "output_type": "stream",
     "text": [
      "Epoch 710 - Train Loss: 0.4207, Train MSE: 0.4206, Train MAE: 0.4307\n",
      "Epoch 710 - Validation Loss: 1.2330, Validation MSE: 1.2349, Validation MAE: 0.7569\n"
     ]
    },
    {
     "name": "stderr",
     "output_type": "stream",
     "text": [
      "Training Epoch 712: 100%|██████████| 373/373 [00:01<00:00, 188.03it/s]\n",
      "Training Epoch 713: 100%|██████████| 373/373 [00:02<00:00, 182.26it/s]\n",
      "Training Epoch 714: 100%|██████████| 373/373 [00:01<00:00, 191.03it/s]\n",
      "Training Epoch 715: 100%|██████████| 373/373 [00:01<00:00, 190.84it/s]\n",
      "Training Epoch 716: 100%|██████████| 373/373 [00:01<00:00, 195.02it/s]\n",
      "Training Epoch 717: 100%|██████████| 373/373 [00:01<00:00, 191.44it/s]\n",
      "Training Epoch 718: 100%|██████████| 373/373 [00:02<00:00, 183.78it/s]\n",
      "Training Epoch 719: 100%|██████████| 373/373 [00:01<00:00, 191.81it/s]\n",
      "Training Epoch 720: 100%|██████████| 373/373 [00:01<00:00, 189.54it/s]\n",
      "Training Epoch 721: 100%|██████████| 373/373 [00:02<00:00, 185.87it/s]\n"
     ]
    },
    {
     "name": "stdout",
     "output_type": "stream",
     "text": [
      "Epoch 720 - Train Loss: 0.4298, Train MSE: 0.4297, Train MAE: 0.4367\n",
      "Epoch 720 - Validation Loss: 1.1845, Validation MSE: 1.1865, Validation MAE: 0.7349\n"
     ]
    },
    {
     "name": "stderr",
     "output_type": "stream",
     "text": [
      "Training Epoch 722: 100%|██████████| 373/373 [00:01<00:00, 191.44it/s]\n",
      "Training Epoch 723: 100%|██████████| 373/373 [00:01<00:00, 190.21it/s]\n",
      "Training Epoch 724: 100%|██████████| 373/373 [00:02<00:00, 185.77it/s]\n",
      "Training Epoch 725: 100%|██████████| 373/373 [00:01<00:00, 187.43it/s]\n",
      "Training Epoch 726: 100%|██████████| 373/373 [00:01<00:00, 189.70it/s]\n",
      "Training Epoch 727: 100%|██████████| 373/373 [00:01<00:00, 190.02it/s]\n",
      "Training Epoch 728: 100%|██████████| 373/373 [00:01<00:00, 193.86it/s]\n",
      "Training Epoch 729: 100%|██████████| 373/373 [00:01<00:00, 192.51it/s]\n",
      "Training Epoch 730: 100%|██████████| 373/373 [00:01<00:00, 189.15it/s]\n",
      "Training Epoch 731: 100%|██████████| 373/373 [00:02<00:00, 185.60it/s]\n"
     ]
    },
    {
     "name": "stdout",
     "output_type": "stream",
     "text": [
      "Epoch 730 - Train Loss: 0.4215, Train MSE: 0.4224, Train MAE: 0.4342\n",
      "Epoch 730 - Validation Loss: 1.2070, Validation MSE: 1.2093, Validation MAE: 0.7485\n"
     ]
    },
    {
     "name": "stderr",
     "output_type": "stream",
     "text": [
      "Training Epoch 732: 100%|██████████| 373/373 [00:01<00:00, 195.20it/s]\n",
      "Training Epoch 733: 100%|██████████| 373/373 [00:02<00:00, 179.38it/s]\n",
      "Training Epoch 734: 100%|██████████| 373/373 [00:02<00:00, 163.64it/s]\n",
      "Training Epoch 735: 100%|██████████| 373/373 [00:01<00:00, 192.16it/s]\n",
      "Training Epoch 736: 100%|██████████| 373/373 [00:02<00:00, 173.76it/s]\n",
      "Training Epoch 737: 100%|██████████| 373/373 [00:02<00:00, 185.88it/s]\n",
      "Training Epoch 738: 100%|██████████| 373/373 [00:01<00:00, 188.67it/s]\n",
      "Training Epoch 739: 100%|██████████| 373/373 [00:01<00:00, 189.97it/s]\n",
      "Training Epoch 740: 100%|██████████| 373/373 [00:01<00:00, 194.21it/s]\n",
      "Training Epoch 741: 100%|██████████| 373/373 [00:01<00:00, 196.04it/s]\n"
     ]
    },
    {
     "name": "stdout",
     "output_type": "stream",
     "text": [
      "Epoch 740 - Train Loss: 0.4174, Train MSE: 0.4183, Train MAE: 0.4301\n",
      "Epoch 740 - Validation Loss: 1.2082, Validation MSE: 1.2102, Validation MAE: 0.7473\n"
     ]
    },
    {
     "name": "stderr",
     "output_type": "stream",
     "text": [
      "Training Epoch 742: 100%|██████████| 373/373 [00:02<00:00, 179.22it/s]\n",
      "Training Epoch 743: 100%|██████████| 373/373 [00:02<00:00, 165.15it/s]\n",
      "Training Epoch 744: 100%|██████████| 373/373 [00:01<00:00, 189.62it/s]\n",
      "Training Epoch 745: 100%|██████████| 373/373 [00:01<00:00, 193.20it/s]\n",
      "Training Epoch 746: 100%|██████████| 373/373 [00:01<00:00, 189.23it/s]\n",
      "Training Epoch 747: 100%|██████████| 373/373 [00:01<00:00, 194.24it/s]\n",
      "Training Epoch 748: 100%|██████████| 373/373 [00:02<00:00, 182.37it/s]\n",
      "Training Epoch 749: 100%|██████████| 373/373 [00:02<00:00, 182.41it/s]\n",
      "Training Epoch 750: 100%|██████████| 373/373 [00:02<00:00, 184.44it/s]\n",
      "Training Epoch 751: 100%|██████████| 373/373 [00:01<00:00, 192.46it/s]\n"
     ]
    },
    {
     "name": "stdout",
     "output_type": "stream",
     "text": [
      "Epoch 750 - Train Loss: 0.4240, Train MSE: 0.4239, Train MAE: 0.4326\n",
      "Epoch 750 - Validation Loss: 1.2083, Validation MSE: 1.2101, Validation MAE: 0.7464\n"
     ]
    },
    {
     "name": "stderr",
     "output_type": "stream",
     "text": [
      "Training Epoch 752: 100%|██████████| 373/373 [00:02<00:00, 180.90it/s]\n",
      "Training Epoch 753: 100%|██████████| 373/373 [00:02<00:00, 179.97it/s]\n",
      "Training Epoch 754: 100%|██████████| 373/373 [00:02<00:00, 185.00it/s]\n",
      "Training Epoch 755: 100%|██████████| 373/373 [00:02<00:00, 185.05it/s]\n",
      "Training Epoch 756: 100%|██████████| 373/373 [00:01<00:00, 189.71it/s]\n",
      "Training Epoch 757: 100%|██████████| 373/373 [00:02<00:00, 175.54it/s]\n",
      "Training Epoch 758: 100%|██████████| 373/373 [00:01<00:00, 187.99it/s]\n",
      "Training Epoch 759: 100%|██████████| 373/373 [00:01<00:00, 189.97it/s]\n",
      "Training Epoch 760: 100%|██████████| 373/373 [00:02<00:00, 184.15it/s]\n",
      "Training Epoch 761: 100%|██████████| 373/373 [00:02<00:00, 186.00it/s]\n"
     ]
    },
    {
     "name": "stdout",
     "output_type": "stream",
     "text": [
      "Epoch 760 - Train Loss: 0.4185, Train MSE: 0.4184, Train MAE: 0.4295\n",
      "Epoch 760 - Validation Loss: 1.2036, Validation MSE: 1.2059, Validation MAE: 0.7447\n"
     ]
    },
    {
     "name": "stderr",
     "output_type": "stream",
     "text": [
      "Training Epoch 762: 100%|██████████| 373/373 [00:01<00:00, 190.12it/s]\n",
      "Training Epoch 763: 100%|██████████| 373/373 [00:01<00:00, 187.43it/s]\n",
      "Training Epoch 764: 100%|██████████| 373/373 [00:02<00:00, 182.14it/s]\n",
      "Training Epoch 765: 100%|██████████| 373/373 [00:02<00:00, 183.02it/s]\n",
      "Training Epoch 766: 100%|██████████| 373/373 [00:02<00:00, 185.82it/s]\n",
      "Training Epoch 767: 100%|██████████| 373/373 [00:01<00:00, 192.67it/s]\n",
      "Training Epoch 768: 100%|██████████| 373/373 [00:02<00:00, 184.57it/s]\n",
      "Training Epoch 769: 100%|██████████| 373/373 [00:01<00:00, 197.80it/s]\n",
      "Training Epoch 770: 100%|██████████| 373/373 [00:01<00:00, 189.60it/s]\n",
      "Training Epoch 771: 100%|██████████| 373/373 [00:01<00:00, 189.91it/s]\n"
     ]
    },
    {
     "name": "stdout",
     "output_type": "stream",
     "text": [
      "Epoch 770 - Train Loss: 0.4177, Train MSE: 0.4180, Train MAE: 0.4311\n",
      "Epoch 770 - Validation Loss: 1.2394, Validation MSE: 1.2416, Validation MAE: 0.7593\n"
     ]
    },
    {
     "name": "stderr",
     "output_type": "stream",
     "text": [
      "Training Epoch 772: 100%|██████████| 373/373 [00:01<00:00, 190.36it/s]\n",
      "Training Epoch 773: 100%|██████████| 373/373 [00:01<00:00, 187.99it/s]\n",
      "Training Epoch 774: 100%|██████████| 373/373 [00:01<00:00, 197.60it/s]\n",
      "Training Epoch 775: 100%|██████████| 373/373 [00:01<00:00, 191.82it/s]\n",
      "Training Epoch 776: 100%|██████████| 373/373 [00:01<00:00, 196.71it/s]\n",
      "Training Epoch 777: 100%|██████████| 373/373 [00:02<00:00, 186.32it/s]\n",
      "Training Epoch 778: 100%|██████████| 373/373 [00:01<00:00, 187.61it/s]\n",
      "Training Epoch 779: 100%|██████████| 373/373 [00:02<00:00, 176.22it/s]\n",
      "Training Epoch 780: 100%|██████████| 373/373 [00:01<00:00, 192.04it/s]\n",
      "Training Epoch 781: 100%|██████████| 373/373 [00:02<00:00, 185.18it/s]\n"
     ]
    },
    {
     "name": "stdout",
     "output_type": "stream",
     "text": [
      "Epoch 780 - Train Loss: 0.4100, Train MSE: 0.4110, Train MAE: 0.4239\n",
      "Epoch 780 - Validation Loss: 1.1988, Validation MSE: 1.2008, Validation MAE: 0.7425\n"
     ]
    },
    {
     "name": "stderr",
     "output_type": "stream",
     "text": [
      "Training Epoch 782: 100%|██████████| 373/373 [00:01<00:00, 194.21it/s]\n",
      "Training Epoch 783: 100%|██████████| 373/373 [00:01<00:00, 186.76it/s]\n",
      "Training Epoch 784: 100%|██████████| 373/373 [00:01<00:00, 195.24it/s]\n",
      "Training Epoch 785: 100%|██████████| 373/373 [00:01<00:00, 192.97it/s]\n",
      "Training Epoch 786: 100%|██████████| 373/373 [00:01<00:00, 190.11it/s]\n",
      "Training Epoch 787: 100%|██████████| 373/373 [00:02<00:00, 185.48it/s]\n",
      "Training Epoch 788: 100%|██████████| 373/373 [00:02<00:00, 175.37it/s]\n",
      "Training Epoch 789: 100%|██████████| 373/373 [00:02<00:00, 182.98it/s]\n",
      "Training Epoch 790: 100%|██████████| 373/373 [00:02<00:00, 161.99it/s]\n",
      "Training Epoch 791: 100%|██████████| 373/373 [00:02<00:00, 179.19it/s]\n"
     ]
    },
    {
     "name": "stdout",
     "output_type": "stream",
     "text": [
      "Epoch 790 - Train Loss: 0.4193, Train MSE: 0.4199, Train MAE: 0.4292\n",
      "Epoch 790 - Validation Loss: 1.1940, Validation MSE: 1.1959, Validation MAE: 0.7377\n"
     ]
    },
    {
     "name": "stderr",
     "output_type": "stream",
     "text": [
      "Training Epoch 792: 100%|██████████| 373/373 [00:02<00:00, 179.22it/s]\n",
      "Training Epoch 793: 100%|██████████| 373/373 [00:02<00:00, 181.89it/s]\n",
      "Training Epoch 794: 100%|██████████| 373/373 [00:02<00:00, 180.25it/s]\n",
      "Training Epoch 795: 100%|██████████| 373/373 [00:01<00:00, 187.64it/s]\n",
      "Training Epoch 796: 100%|██████████| 373/373 [00:01<00:00, 194.17it/s]\n",
      "Training Epoch 797: 100%|██████████| 373/373 [00:01<00:00, 192.82it/s]\n",
      "Training Epoch 798: 100%|██████████| 373/373 [00:01<00:00, 187.86it/s]\n",
      "Training Epoch 799: 100%|██████████| 373/373 [00:01<00:00, 187.84it/s]\n",
      "Training Epoch 800: 100%|██████████| 373/373 [00:01<00:00, 191.78it/s]\n",
      "Training Epoch 801: 100%|██████████| 373/373 [00:01<00:00, 189.97it/s]\n"
     ]
    },
    {
     "name": "stdout",
     "output_type": "stream",
     "text": [
      "Epoch 800 - Train Loss: 0.4188, Train MSE: 0.4176, Train MAE: 0.4287\n",
      "Epoch 800 - Validation Loss: 1.2127, Validation MSE: 1.2145, Validation MAE: 0.7453\n"
     ]
    },
    {
     "name": "stderr",
     "output_type": "stream",
     "text": [
      "Training Epoch 802: 100%|██████████| 373/373 [00:02<00:00, 182.72it/s]\n",
      "Training Epoch 803: 100%|██████████| 373/373 [00:01<00:00, 192.17it/s]\n",
      "Training Epoch 804: 100%|██████████| 373/373 [00:02<00:00, 183.68it/s]\n",
      "Training Epoch 805: 100%|██████████| 373/373 [00:02<00:00, 176.58it/s]\n",
      "Training Epoch 806: 100%|██████████| 373/373 [00:01<00:00, 188.46it/s]\n",
      "Training Epoch 807: 100%|██████████| 373/373 [00:02<00:00, 170.08it/s]\n",
      "Training Epoch 808: 100%|██████████| 373/373 [00:02<00:00, 177.79it/s]\n",
      "Training Epoch 809: 100%|██████████| 373/373 [00:02<00:00, 171.92it/s]\n",
      "Training Epoch 810: 100%|██████████| 373/373 [00:02<00:00, 177.61it/s]\n",
      "Training Epoch 811: 100%|██████████| 373/373 [00:02<00:00, 182.06it/s]\n"
     ]
    },
    {
     "name": "stdout",
     "output_type": "stream",
     "text": [
      "Epoch 810 - Train Loss: 0.4148, Train MSE: 0.4150, Train MAE: 0.4258\n",
      "Epoch 810 - Validation Loss: 1.1943, Validation MSE: 1.1966, Validation MAE: 0.7343\n"
     ]
    },
    {
     "name": "stderr",
     "output_type": "stream",
     "text": [
      "Training Epoch 812: 100%|██████████| 373/373 [00:02<00:00, 181.56it/s]\n",
      "Training Epoch 813: 100%|██████████| 373/373 [00:01<00:00, 187.90it/s]\n",
      "Training Epoch 814: 100%|██████████| 373/373 [00:02<00:00, 184.66it/s]\n",
      "Training Epoch 815: 100%|██████████| 373/373 [00:02<00:00, 179.01it/s]\n",
      "Training Epoch 816: 100%|██████████| 373/373 [00:01<00:00, 186.82it/s]\n",
      "Training Epoch 817: 100%|██████████| 373/373 [00:02<00:00, 179.87it/s]\n",
      "Training Epoch 818: 100%|██████████| 373/373 [00:01<00:00, 190.47it/s]\n",
      "Training Epoch 819: 100%|██████████| 373/373 [00:02<00:00, 185.37it/s]\n",
      "Training Epoch 820: 100%|██████████| 373/373 [00:01<00:00, 189.26it/s]\n",
      "Training Epoch 821: 100%|██████████| 373/373 [00:01<00:00, 189.17it/s]\n"
     ]
    },
    {
     "name": "stdout",
     "output_type": "stream",
     "text": [
      "Epoch 820 - Train Loss: 0.4104, Train MSE: 0.4109, Train MAE: 0.4244\n",
      "Epoch 820 - Validation Loss: 1.1963, Validation MSE: 1.1984, Validation MAE: 0.7392\n"
     ]
    },
    {
     "name": "stderr",
     "output_type": "stream",
     "text": [
      "Training Epoch 822: 100%|██████████| 373/373 [00:01<00:00, 189.52it/s]\n",
      "Training Epoch 823: 100%|██████████| 373/373 [00:01<00:00, 190.93it/s]\n",
      "Training Epoch 824: 100%|██████████| 373/373 [00:02<00:00, 160.57it/s]\n",
      "Training Epoch 825: 100%|██████████| 373/373 [00:01<00:00, 186.99it/s]\n",
      "Training Epoch 826: 100%|██████████| 373/373 [00:02<00:00, 184.59it/s]\n",
      "Training Epoch 827: 100%|██████████| 373/373 [00:01<00:00, 189.95it/s]\n",
      "Training Epoch 828: 100%|██████████| 373/373 [00:01<00:00, 189.55it/s]\n",
      "Training Epoch 829: 100%|██████████| 373/373 [00:01<00:00, 186.66it/s]\n",
      "Training Epoch 830: 100%|██████████| 373/373 [00:01<00:00, 188.44it/s]\n",
      "Training Epoch 831: 100%|██████████| 373/373 [00:02<00:00, 183.78it/s]\n"
     ]
    },
    {
     "name": "stdout",
     "output_type": "stream",
     "text": [
      "Epoch 830 - Train Loss: 0.4103, Train MSE: 0.4110, Train MAE: 0.4235\n",
      "Epoch 830 - Validation Loss: 1.2114, Validation MSE: 1.2134, Validation MAE: 0.7513\n"
     ]
    },
    {
     "name": "stderr",
     "output_type": "stream",
     "text": [
      "Training Epoch 832: 100%|██████████| 373/373 [00:02<00:00, 179.66it/s]\n",
      "Training Epoch 833: 100%|██████████| 373/373 [00:01<00:00, 186.61it/s]\n",
      "Training Epoch 834: 100%|██████████| 373/373 [00:01<00:00, 188.67it/s]\n",
      "Training Epoch 835: 100%|██████████| 373/373 [00:02<00:00, 184.42it/s]\n",
      "Training Epoch 836: 100%|██████████| 373/373 [00:01<00:00, 186.77it/s]\n",
      "Training Epoch 837: 100%|██████████| 373/373 [00:01<00:00, 189.47it/s]\n",
      "Training Epoch 838: 100%|██████████| 373/373 [00:01<00:00, 192.72it/s]\n",
      "Training Epoch 839: 100%|██████████| 373/373 [00:01<00:00, 190.31it/s]\n",
      "Training Epoch 840: 100%|██████████| 373/373 [00:02<00:00, 185.53it/s]\n",
      "Training Epoch 841: 100%|██████████| 373/373 [00:01<00:00, 189.88it/s]\n"
     ]
    },
    {
     "name": "stdout",
     "output_type": "stream",
     "text": [
      "Epoch 840 - Train Loss: 0.4116, Train MSE: 0.4114, Train MAE: 0.4251\n",
      "Epoch 840 - Validation Loss: 1.1985, Validation MSE: 1.2005, Validation MAE: 0.7438\n"
     ]
    },
    {
     "name": "stderr",
     "output_type": "stream",
     "text": [
      "Training Epoch 842: 100%|██████████| 373/373 [00:02<00:00, 167.96it/s]\n",
      "Training Epoch 843: 100%|██████████| 373/373 [00:01<00:00, 187.72it/s]\n",
      "Training Epoch 844: 100%|██████████| 373/373 [00:02<00:00, 185.27it/s]\n",
      "Training Epoch 845: 100%|██████████| 373/373 [00:01<00:00, 196.21it/s]\n",
      "Training Epoch 846: 100%|██████████| 373/373 [00:01<00:00, 189.05it/s]\n",
      "Training Epoch 847: 100%|██████████| 373/373 [00:02<00:00, 186.35it/s]\n",
      "Training Epoch 848: 100%|██████████| 373/373 [00:02<00:00, 185.96it/s]\n",
      "Training Epoch 849: 100%|██████████| 373/373 [00:01<00:00, 187.78it/s]\n",
      "Training Epoch 850: 100%|██████████| 373/373 [00:01<00:00, 187.36it/s]\n",
      "Training Epoch 851: 100%|██████████| 373/373 [00:02<00:00, 184.33it/s]\n"
     ]
    },
    {
     "name": "stdout",
     "output_type": "stream",
     "text": [
      "Epoch 850 - Train Loss: 0.4096, Train MSE: 0.4102, Train MAE: 0.4251\n",
      "Epoch 850 - Validation Loss: 1.2125, Validation MSE: 1.2144, Validation MAE: 0.7435\n"
     ]
    },
    {
     "name": "stderr",
     "output_type": "stream",
     "text": [
      "Training Epoch 852: 100%|██████████| 373/373 [00:01<00:00, 187.01it/s]\n",
      "Training Epoch 853: 100%|██████████| 373/373 [00:02<00:00, 185.94it/s]\n",
      "Training Epoch 854: 100%|██████████| 373/373 [00:02<00:00, 186.49it/s]\n",
      "Training Epoch 855: 100%|██████████| 373/373 [00:01<00:00, 189.42it/s]\n",
      "Training Epoch 856: 100%|██████████| 373/373 [00:02<00:00, 176.21it/s]\n",
      "Training Epoch 857: 100%|██████████| 373/373 [00:01<00:00, 194.06it/s]\n",
      "Training Epoch 858: 100%|██████████| 373/373 [00:01<00:00, 192.35it/s]\n",
      "Training Epoch 859: 100%|██████████| 373/373 [00:01<00:00, 189.81it/s]\n",
      "Training Epoch 860: 100%|██████████| 373/373 [00:02<00:00, 179.06it/s]\n",
      "Training Epoch 861: 100%|██████████| 373/373 [00:01<00:00, 187.05it/s]\n"
     ]
    },
    {
     "name": "stdout",
     "output_type": "stream",
     "text": [
      "Epoch 860 - Train Loss: 0.4059, Train MSE: 0.4060, Train MAE: 0.4189\n",
      "Epoch 860 - Validation Loss: 1.1995, Validation MSE: 1.2010, Validation MAE: 0.7418\n"
     ]
    },
    {
     "name": "stderr",
     "output_type": "stream",
     "text": [
      "Training Epoch 862: 100%|██████████| 373/373 [00:02<00:00, 186.13it/s]\n",
      "Training Epoch 863: 100%|██████████| 373/373 [00:01<00:00, 187.71it/s]\n",
      "Training Epoch 864: 100%|██████████| 373/373 [00:01<00:00, 188.65it/s]\n",
      "Training Epoch 865: 100%|██████████| 373/373 [00:01<00:00, 186.50it/s]\n",
      "Training Epoch 866: 100%|██████████| 373/373 [00:01<00:00, 186.66it/s]\n",
      "Training Epoch 867: 100%|██████████| 373/373 [00:02<00:00, 183.32it/s]\n",
      "Training Epoch 868: 100%|██████████| 373/373 [00:02<00:00, 186.39it/s]\n",
      "Training Epoch 869: 100%|██████████| 373/373 [00:02<00:00, 186.22it/s]\n",
      "Training Epoch 870: 100%|██████████| 373/373 [00:02<00:00, 184.02it/s]\n",
      "Training Epoch 871: 100%|██████████| 373/373 [00:02<00:00, 185.74it/s]\n"
     ]
    },
    {
     "name": "stdout",
     "output_type": "stream",
     "text": [
      "Epoch 870 - Train Loss: 0.4086, Train MSE: 0.4088, Train MAE: 0.4226\n",
      "Epoch 870 - Validation Loss: 1.1927, Validation MSE: 1.1946, Validation MAE: 0.7396\n"
     ]
    },
    {
     "name": "stderr",
     "output_type": "stream",
     "text": [
      "Training Epoch 872: 100%|██████████| 373/373 [00:02<00:00, 183.95it/s]\n",
      "Training Epoch 873: 100%|██████████| 373/373 [00:01<00:00, 191.68it/s]\n",
      "Training Epoch 874: 100%|██████████| 373/373 [00:02<00:00, 186.26it/s]\n",
      "Training Epoch 875: 100%|██████████| 373/373 [00:01<00:00, 188.09it/s]\n",
      "Training Epoch 876: 100%|██████████| 373/373 [00:02<00:00, 185.61it/s]\n",
      "Training Epoch 877: 100%|██████████| 373/373 [00:02<00:00, 184.27it/s]\n",
      "Training Epoch 878: 100%|██████████| 373/373 [00:02<00:00, 183.35it/s]\n",
      "Training Epoch 879: 100%|██████████| 373/373 [00:01<00:00, 187.76it/s]\n",
      "Training Epoch 880: 100%|██████████| 373/373 [00:01<00:00, 188.44it/s]\n",
      "Training Epoch 881: 100%|██████████| 373/373 [00:01<00:00, 188.42it/s]\n"
     ]
    },
    {
     "name": "stdout",
     "output_type": "stream",
     "text": [
      "Epoch 880 - Train Loss: 0.4056, Train MSE: 0.4065, Train MAE: 0.4213\n",
      "Epoch 880 - Validation Loss: 1.2039, Validation MSE: 1.2058, Validation MAE: 0.7432\n"
     ]
    },
    {
     "name": "stderr",
     "output_type": "stream",
     "text": [
      "Training Epoch 882: 100%|██████████| 373/373 [00:02<00:00, 183.94it/s]\n",
      "Training Epoch 883: 100%|██████████| 373/373 [00:01<00:00, 188.50it/s]\n",
      "Training Epoch 884: 100%|██████████| 373/373 [00:02<00:00, 184.79it/s]\n",
      "Training Epoch 885: 100%|██████████| 373/373 [00:01<00:00, 188.56it/s]\n",
      "Training Epoch 886: 100%|██████████| 373/373 [00:01<00:00, 189.41it/s]\n",
      "Training Epoch 887: 100%|██████████| 373/373 [00:02<00:00, 184.97it/s]\n",
      "Training Epoch 888: 100%|██████████| 373/373 [00:02<00:00, 184.75it/s]\n",
      "Training Epoch 889: 100%|██████████| 373/373 [00:01<00:00, 187.61it/s]\n",
      "Training Epoch 890: 100%|██████████| 373/373 [00:01<00:00, 188.12it/s]\n",
      "Training Epoch 891: 100%|██████████| 373/373 [00:02<00:00, 179.14it/s]\n"
     ]
    },
    {
     "name": "stdout",
     "output_type": "stream",
     "text": [
      "Epoch 890 - Train Loss: 0.4066, Train MSE: 0.4076, Train MAE: 0.4234\n",
      "Epoch 890 - Validation Loss: 1.1976, Validation MSE: 1.1996, Validation MAE: 0.7373\n"
     ]
    },
    {
     "name": "stderr",
     "output_type": "stream",
     "text": [
      "Training Epoch 892: 100%|██████████| 373/373 [00:01<00:00, 187.57it/s]\n",
      "Training Epoch 893: 100%|██████████| 373/373 [00:01<00:00, 186.54it/s]\n",
      "Training Epoch 894: 100%|██████████| 373/373 [00:01<00:00, 188.00it/s]\n",
      "Training Epoch 895: 100%|██████████| 373/373 [00:01<00:00, 186.52it/s]\n",
      "Training Epoch 896: 100%|██████████| 373/373 [00:02<00:00, 186.12it/s]\n",
      "Training Epoch 897: 100%|██████████| 373/373 [00:02<00:00, 184.12it/s]\n",
      "Training Epoch 898: 100%|██████████| 373/373 [00:02<00:00, 184.60it/s]\n",
      "Training Epoch 899: 100%|██████████| 373/373 [00:02<00:00, 185.70it/s]\n",
      "Training Epoch 900: 100%|██████████| 373/373 [00:01<00:00, 187.45it/s]\n",
      "Training Epoch 901: 100%|██████████| 373/373 [00:01<00:00, 188.45it/s]\n"
     ]
    },
    {
     "name": "stdout",
     "output_type": "stream",
     "text": [
      "Epoch 900 - Train Loss: 0.3974, Train MSE: 0.3979, Train MAE: 0.4162\n",
      "Epoch 900 - Validation Loss: 1.2136, Validation MSE: 1.2156, Validation MAE: 0.7411\n"
     ]
    },
    {
     "name": "stderr",
     "output_type": "stream",
     "text": [
      "Training Epoch 902: 100%|██████████| 373/373 [00:01<00:00, 188.99it/s]\n",
      "Training Epoch 903: 100%|██████████| 373/373 [00:01<00:00, 191.43it/s]\n",
      "Training Epoch 904: 100%|██████████| 373/373 [00:02<00:00, 185.99it/s]\n",
      "Training Epoch 905: 100%|██████████| 373/373 [00:01<00:00, 187.43it/s]\n",
      "Training Epoch 906: 100%|██████████| 373/373 [00:02<00:00, 186.33it/s]\n",
      "Training Epoch 907: 100%|██████████| 373/373 [00:01<00:00, 188.13it/s]\n",
      "Training Epoch 908: 100%|██████████| 373/373 [00:01<00:00, 187.72it/s]\n",
      "Training Epoch 909: 100%|██████████| 373/373 [00:02<00:00, 182.31it/s]\n",
      "Training Epoch 910: 100%|██████████| 373/373 [00:01<00:00, 186.98it/s]\n",
      "Training Epoch 911: 100%|██████████| 373/373 [00:02<00:00, 185.57it/s]\n"
     ]
    },
    {
     "name": "stdout",
     "output_type": "stream",
     "text": [
      "Epoch 910 - Train Loss: 0.4023, Train MSE: 0.4024, Train MAE: 0.4167\n",
      "Epoch 910 - Validation Loss: 1.1964, Validation MSE: 1.1987, Validation MAE: 0.7342\n"
     ]
    },
    {
     "name": "stderr",
     "output_type": "stream",
     "text": [
      "Training Epoch 912: 100%|██████████| 373/373 [00:01<00:00, 187.89it/s]\n",
      "Training Epoch 913: 100%|██████████| 373/373 [00:02<00:00, 186.00it/s]\n",
      "Training Epoch 914: 100%|██████████| 373/373 [00:01<00:00, 189.63it/s]\n",
      "Training Epoch 915: 100%|██████████| 373/373 [00:02<00:00, 179.61it/s]\n",
      "Training Epoch 916: 100%|██████████| 373/373 [00:02<00:00, 184.75it/s]\n",
      "Training Epoch 917: 100%|██████████| 373/373 [00:01<00:00, 188.08it/s]\n",
      "Training Epoch 918: 100%|██████████| 373/373 [00:02<00:00, 183.87it/s]\n",
      "Training Epoch 919: 100%|██████████| 373/373 [00:01<00:00, 189.03it/s]\n",
      "Training Epoch 920: 100%|██████████| 373/373 [00:02<00:00, 184.98it/s]\n",
      "Training Epoch 921: 100%|██████████| 373/373 [00:02<00:00, 182.19it/s]\n"
     ]
    },
    {
     "name": "stdout",
     "output_type": "stream",
     "text": [
      "Epoch 920 - Train Loss: 0.4037, Train MSE: 0.4043, Train MAE: 0.4190\n",
      "Epoch 920 - Validation Loss: 1.2079, Validation MSE: 1.2099, Validation MAE: 0.7419\n"
     ]
    },
    {
     "name": "stderr",
     "output_type": "stream",
     "text": [
      "Training Epoch 922: 100%|██████████| 373/373 [00:01<00:00, 189.14it/s]\n",
      "Training Epoch 923: 100%|██████████| 373/373 [00:02<00:00, 185.43it/s]\n",
      "Training Epoch 924: 100%|██████████| 373/373 [00:01<00:00, 189.83it/s]\n",
      "Training Epoch 925: 100%|██████████| 373/373 [00:01<00:00, 190.98it/s]\n",
      "Training Epoch 926: 100%|██████████| 373/373 [00:02<00:00, 184.27it/s]\n",
      "Training Epoch 927: 100%|██████████| 373/373 [00:02<00:00, 180.94it/s]\n",
      "Training Epoch 928: 100%|██████████| 373/373 [00:01<00:00, 187.87it/s]\n",
      "Training Epoch 929: 100%|██████████| 373/373 [00:01<00:00, 186.96it/s]\n",
      "Training Epoch 930: 100%|██████████| 373/373 [00:01<00:00, 191.19it/s]\n",
      "Training Epoch 931: 100%|██████████| 373/373 [00:01<00:00, 190.61it/s]\n"
     ]
    },
    {
     "name": "stdout",
     "output_type": "stream",
     "text": [
      "Epoch 930 - Train Loss: 0.4043, Train MSE: 0.4031, Train MAE: 0.4196\n",
      "Epoch 930 - Validation Loss: 1.2100, Validation MSE: 1.2120, Validation MAE: 0.7480\n"
     ]
    },
    {
     "name": "stderr",
     "output_type": "stream",
     "text": [
      "Training Epoch 932: 100%|██████████| 373/373 [00:01<00:00, 187.16it/s]\n",
      "Training Epoch 933: 100%|██████████| 373/373 [00:02<00:00, 181.21it/s]\n",
      "Training Epoch 934: 100%|██████████| 373/373 [00:02<00:00, 184.43it/s]\n",
      "Training Epoch 935: 100%|██████████| 373/373 [00:02<00:00, 180.78it/s]\n",
      "Training Epoch 936: 100%|██████████| 373/373 [00:01<00:00, 188.16it/s]\n",
      "Training Epoch 937: 100%|██████████| 373/373 [00:01<00:00, 188.82it/s]\n",
      "Training Epoch 938: 100%|██████████| 373/373 [00:02<00:00, 186.23it/s]\n",
      "Training Epoch 939: 100%|██████████| 373/373 [00:02<00:00, 181.18it/s]\n",
      "Training Epoch 940: 100%|██████████| 373/373 [00:02<00:00, 185.44it/s]\n",
      "Training Epoch 941: 100%|██████████| 373/373 [00:01<00:00, 188.76it/s]\n"
     ]
    },
    {
     "name": "stdout",
     "output_type": "stream",
     "text": [
      "Epoch 940 - Train Loss: 0.3949, Train MSE: 0.3959, Train MAE: 0.4160\n",
      "Epoch 940 - Validation Loss: 1.2092, Validation MSE: 1.2110, Validation MAE: 0.7521\n"
     ]
    },
    {
     "name": "stderr",
     "output_type": "stream",
     "text": [
      "Training Epoch 942: 100%|██████████| 373/373 [00:02<00:00, 183.66it/s]\n",
      "Training Epoch 943: 100%|██████████| 373/373 [00:02<00:00, 181.15it/s]\n",
      "Training Epoch 944: 100%|██████████| 373/373 [00:01<00:00, 189.19it/s]\n",
      "Training Epoch 945: 100%|██████████| 373/373 [00:02<00:00, 180.27it/s]\n",
      "Training Epoch 946: 100%|██████████| 373/373 [00:01<00:00, 186.51it/s]\n",
      "Training Epoch 947: 100%|██████████| 373/373 [00:01<00:00, 188.71it/s]\n",
      "Training Epoch 948: 100%|██████████| 373/373 [00:02<00:00, 185.13it/s]\n",
      "Training Epoch 949: 100%|██████████| 373/373 [00:01<00:00, 190.88it/s]\n",
      "Training Epoch 950: 100%|██████████| 373/373 [00:02<00:00, 182.71it/s]\n",
      "Training Epoch 951: 100%|██████████| 373/373 [00:02<00:00, 183.40it/s]\n"
     ]
    },
    {
     "name": "stdout",
     "output_type": "stream",
     "text": [
      "Epoch 950 - Train Loss: 0.4002, Train MSE: 0.4010, Train MAE: 0.4166\n",
      "Epoch 950 - Validation Loss: 1.1966, Validation MSE: 1.1986, Validation MAE: 0.7383\n"
     ]
    },
    {
     "name": "stderr",
     "output_type": "stream",
     "text": [
      "Training Epoch 952: 100%|██████████| 373/373 [00:02<00:00, 185.29it/s]\n",
      "Training Epoch 953: 100%|██████████| 373/373 [00:02<00:00, 184.44it/s]\n",
      "Training Epoch 954: 100%|██████████| 373/373 [00:01<00:00, 187.45it/s]\n",
      "Training Epoch 955: 100%|██████████| 373/373 [00:02<00:00, 184.76it/s]\n",
      "Training Epoch 956: 100%|██████████| 373/373 [00:01<00:00, 191.90it/s]\n",
      "Training Epoch 957: 100%|██████████| 373/373 [00:02<00:00, 177.94it/s]\n",
      "Training Epoch 958: 100%|██████████| 373/373 [00:01<00:00, 188.85it/s]\n",
      "Training Epoch 959: 100%|██████████| 373/373 [00:01<00:00, 191.45it/s]\n",
      "Training Epoch 960: 100%|██████████| 373/373 [00:02<00:00, 184.12it/s]\n",
      "Training Epoch 961: 100%|██████████| 373/373 [00:01<00:00, 186.90it/s]\n"
     ]
    },
    {
     "name": "stdout",
     "output_type": "stream",
     "text": [
      "Epoch 960 - Train Loss: 0.3958, Train MSE: 0.3961, Train MAE: 0.4162\n",
      "Epoch 960 - Validation Loss: 1.1851, Validation MSE: 1.1875, Validation MAE: 0.7338\n"
     ]
    },
    {
     "name": "stderr",
     "output_type": "stream",
     "text": [
      "Training Epoch 962: 100%|██████████| 373/373 [00:02<00:00, 182.50it/s]\n",
      "Training Epoch 963: 100%|██████████| 373/373 [00:01<00:00, 189.21it/s]\n",
      "Training Epoch 964: 100%|██████████| 373/373 [00:02<00:00, 183.38it/s]\n",
      "Training Epoch 965: 100%|██████████| 373/373 [00:02<00:00, 185.76it/s]\n",
      "Training Epoch 966: 100%|██████████| 373/373 [00:01<00:00, 190.22it/s]\n",
      "Training Epoch 967: 100%|██████████| 373/373 [00:02<00:00, 183.41it/s]\n",
      "Training Epoch 968: 100%|██████████| 373/373 [00:01<00:00, 189.29it/s]\n",
      "Training Epoch 969: 100%|██████████| 373/373 [00:01<00:00, 189.66it/s]\n",
      "Training Epoch 970: 100%|██████████| 373/373 [00:02<00:00, 180.48it/s]\n",
      "Training Epoch 971: 100%|██████████| 373/373 [00:01<00:00, 186.57it/s]\n"
     ]
    },
    {
     "name": "stdout",
     "output_type": "stream",
     "text": [
      "Epoch 970 - Train Loss: 0.3982, Train MSE: 0.3984, Train MAE: 0.4163\n",
      "Epoch 970 - Validation Loss: 1.1991, Validation MSE: 1.2011, Validation MAE: 0.7415\n"
     ]
    },
    {
     "name": "stderr",
     "output_type": "stream",
     "text": [
      "Training Epoch 972: 100%|██████████| 373/373 [00:02<00:00, 177.11it/s]\n",
      "Training Epoch 973: 100%|██████████| 373/373 [00:01<00:00, 189.13it/s]\n",
      "Training Epoch 974: 100%|██████████| 373/373 [00:02<00:00, 182.02it/s]\n",
      "Training Epoch 975: 100%|██████████| 373/373 [00:01<00:00, 189.31it/s]\n",
      "Training Epoch 976: 100%|██████████| 373/373 [00:02<00:00, 184.76it/s]\n",
      "Training Epoch 977: 100%|██████████| 373/373 [00:02<00:00, 182.97it/s]\n",
      "Training Epoch 978: 100%|██████████| 373/373 [00:01<00:00, 190.47it/s]\n",
      "Training Epoch 979: 100%|██████████| 373/373 [00:02<00:00, 182.60it/s]\n",
      "Training Epoch 980: 100%|██████████| 373/373 [00:01<00:00, 187.55it/s]\n",
      "Training Epoch 981: 100%|██████████| 373/373 [00:01<00:00, 187.46it/s]\n"
     ]
    },
    {
     "name": "stdout",
     "output_type": "stream",
     "text": [
      "Epoch 980 - Train Loss: 0.4009, Train MSE: 0.4011, Train MAE: 0.4190\n",
      "Epoch 980 - Validation Loss: 1.1887, Validation MSE: 1.1905, Validation MAE: 0.7368\n"
     ]
    },
    {
     "name": "stderr",
     "output_type": "stream",
     "text": [
      "Training Epoch 982: 100%|██████████| 373/373 [00:02<00:00, 181.37it/s]\n",
      "Training Epoch 983: 100%|██████████| 373/373 [00:01<00:00, 187.14it/s]\n",
      "Training Epoch 984: 100%|██████████| 373/373 [00:02<00:00, 184.77it/s]\n",
      "Training Epoch 985: 100%|██████████| 373/373 [00:01<00:00, 187.68it/s]\n",
      "Training Epoch 986: 100%|██████████| 373/373 [00:01<00:00, 192.62it/s]\n",
      "Training Epoch 987: 100%|██████████| 373/373 [00:02<00:00, 184.30it/s]\n",
      "Training Epoch 988: 100%|██████████| 373/373 [00:02<00:00, 183.61it/s]\n",
      "Training Epoch 989: 100%|██████████| 373/373 [00:01<00:00, 188.50it/s]\n",
      "Training Epoch 990: 100%|██████████| 373/373 [00:01<00:00, 186.84it/s]\n",
      "Training Epoch 991: 100%|██████████| 373/373 [00:01<00:00, 186.93it/s]\n"
     ]
    },
    {
     "name": "stdout",
     "output_type": "stream",
     "text": [
      "Epoch 990 - Train Loss: 0.4005, Train MSE: 0.4001, Train MAE: 0.4149\n",
      "Epoch 990 - Validation Loss: 1.1922, Validation MSE: 1.1941, Validation MAE: 0.7405\n"
     ]
    },
    {
     "name": "stderr",
     "output_type": "stream",
     "text": [
      "Training Epoch 992: 100%|██████████| 373/373 [00:02<00:00, 184.24it/s]\n",
      "Training Epoch 993: 100%|██████████| 373/373 [00:01<00:00, 188.01it/s]\n",
      "Training Epoch 994: 100%|██████████| 373/373 [00:02<00:00, 176.75it/s]\n",
      "Training Epoch 995: 100%|██████████| 373/373 [00:01<00:00, 188.89it/s]\n",
      "Training Epoch 996: 100%|██████████| 373/373 [00:01<00:00, 190.47it/s]\n",
      "Training Epoch 997: 100%|██████████| 373/373 [00:01<00:00, 186.93it/s]\n",
      "Training Epoch 998: 100%|██████████| 373/373 [00:02<00:00, 184.87it/s]\n",
      "Training Epoch 999: 100%|██████████| 373/373 [00:02<00:00, 186.35it/s]\n",
      "Training Epoch 1000: 100%|██████████| 373/373 [00:02<00:00, 183.30it/s]\n",
      "Training Epoch 1001: 100%|██████████| 373/373 [00:02<00:00, 180.54it/s]\n"
     ]
    },
    {
     "name": "stdout",
     "output_type": "stream",
     "text": [
      "Epoch 1000 - Train Loss: 0.3889, Train MSE: 0.3896, Train MAE: 0.4083\n",
      "Epoch 1000 - Validation Loss: 1.1972, Validation MSE: 1.1989, Validation MAE: 0.7399\n"
     ]
    },
    {
     "name": "stderr",
     "output_type": "stream",
     "text": [
      "Training Epoch 1002: 100%|██████████| 373/373 [00:01<00:00, 190.63it/s]\n",
      "Training Epoch 1003: 100%|██████████| 373/373 [00:01<00:00, 189.95it/s]\n",
      "Training Epoch 1004: 100%|██████████| 373/373 [00:01<00:00, 187.63it/s]\n",
      "Training Epoch 1005: 100%|██████████| 373/373 [00:01<00:00, 187.46it/s]\n",
      "Training Epoch 1006: 100%|██████████| 373/373 [00:02<00:00, 184.15it/s]\n",
      "Training Epoch 1007: 100%|██████████| 373/373 [00:01<00:00, 188.26it/s]\n",
      "Training Epoch 1008: 100%|██████████| 373/373 [00:01<00:00, 190.72it/s]\n",
      "Training Epoch 1009: 100%|██████████| 373/373 [00:02<00:00, 185.68it/s]\n",
      "Training Epoch 1010: 100%|██████████| 373/373 [00:02<00:00, 184.83it/s]\n",
      "Training Epoch 1011: 100%|██████████| 373/373 [00:01<00:00, 191.68it/s]\n"
     ]
    },
    {
     "name": "stdout",
     "output_type": "stream",
     "text": [
      "Epoch 1010 - Train Loss: 0.3907, Train MSE: 0.3909, Train MAE: 0.4102\n",
      "Epoch 1010 - Validation Loss: 1.1921, Validation MSE: 1.1939, Validation MAE: 0.7400\n"
     ]
    },
    {
     "name": "stderr",
     "output_type": "stream",
     "text": [
      "Training Epoch 1012: 100%|██████████| 373/373 [00:02<00:00, 185.35it/s]\n",
      "Training Epoch 1013: 100%|██████████| 373/373 [00:01<00:00, 190.34it/s]\n",
      "Training Epoch 1014: 100%|██████████| 373/373 [00:02<00:00, 185.94it/s]\n",
      "Training Epoch 1015: 100%|██████████| 373/373 [00:01<00:00, 188.43it/s]\n",
      "Training Epoch 1016: 100%|██████████| 373/373 [00:01<00:00, 187.27it/s]\n",
      "Training Epoch 1017: 100%|██████████| 373/373 [00:01<00:00, 188.87it/s]\n",
      "Training Epoch 1018: 100%|██████████| 373/373 [00:01<00:00, 188.40it/s]\n",
      "Training Epoch 1019: 100%|██████████| 373/373 [00:02<00:00, 185.04it/s]\n",
      "Training Epoch 1020: 100%|██████████| 373/373 [00:01<00:00, 186.94it/s]\n",
      "Training Epoch 1021: 100%|██████████| 373/373 [00:02<00:00, 182.79it/s]\n"
     ]
    },
    {
     "name": "stdout",
     "output_type": "stream",
     "text": [
      "Epoch 1020 - Train Loss: 0.4004, Train MSE: 0.3954, Train MAE: 0.4144\n",
      "Epoch 1020 - Validation Loss: 1.1934, Validation MSE: 1.1954, Validation MAE: 0.7415\n"
     ]
    },
    {
     "name": "stderr",
     "output_type": "stream",
     "text": [
      "Training Epoch 1022: 100%|██████████| 373/373 [00:02<00:00, 184.45it/s]\n",
      "Training Epoch 1023: 100%|██████████| 373/373 [00:01<00:00, 188.98it/s]\n",
      "Training Epoch 1024: 100%|██████████| 373/373 [00:02<00:00, 181.75it/s]\n",
      "Training Epoch 1025: 100%|██████████| 373/373 [00:01<00:00, 188.41it/s]\n",
      "Training Epoch 1026: 100%|██████████| 373/373 [00:02<00:00, 184.53it/s]\n",
      "Training Epoch 1027: 100%|██████████| 373/373 [00:01<00:00, 187.81it/s]\n",
      "Training Epoch 1028: 100%|██████████| 373/373 [00:02<00:00, 184.85it/s]\n",
      "Training Epoch 1029: 100%|██████████| 373/373 [00:02<00:00, 182.43it/s]\n",
      "Training Epoch 1030: 100%|██████████| 373/373 [00:01<00:00, 188.73it/s]\n",
      "Training Epoch 1031: 100%|██████████| 373/373 [00:02<00:00, 179.22it/s]\n"
     ]
    },
    {
     "name": "stdout",
     "output_type": "stream",
     "text": [
      "Epoch 1030 - Train Loss: 0.3943, Train MSE: 0.3952, Train MAE: 0.4123\n",
      "Epoch 1030 - Validation Loss: 1.1997, Validation MSE: 1.2015, Validation MAE: 0.7380\n"
     ]
    },
    {
     "name": "stderr",
     "output_type": "stream",
     "text": [
      "Training Epoch 1032: 100%|██████████| 373/373 [00:02<00:00, 186.17it/s]\n",
      "Training Epoch 1033: 100%|██████████| 373/373 [00:01<00:00, 188.40it/s]\n",
      "Training Epoch 1034: 100%|██████████| 373/373 [00:01<00:00, 192.04it/s]\n",
      "Training Epoch 1035: 100%|██████████| 373/373 [00:01<00:00, 188.78it/s]\n",
      "Training Epoch 1036: 100%|██████████| 373/373 [00:02<00:00, 184.85it/s]\n",
      "Training Epoch 1037: 100%|██████████| 373/373 [00:02<00:00, 182.34it/s]\n",
      "Training Epoch 1038: 100%|██████████| 373/373 [00:02<00:00, 181.96it/s]\n",
      "Training Epoch 1039: 100%|██████████| 373/373 [00:01<00:00, 187.78it/s]\n",
      "Training Epoch 1040: 100%|██████████| 373/373 [00:02<00:00, 184.76it/s]\n",
      "Training Epoch 1041: 100%|██████████| 373/373 [00:01<00:00, 186.72it/s]\n"
     ]
    },
    {
     "name": "stdout",
     "output_type": "stream",
     "text": [
      "Epoch 1040 - Train Loss: 0.3886, Train MSE: 0.3884, Train MAE: 0.4092\n",
      "Epoch 1040 - Validation Loss: 1.1984, Validation MSE: 1.2005, Validation MAE: 0.7408\n"
     ]
    },
    {
     "name": "stderr",
     "output_type": "stream",
     "text": [
      "Training Epoch 1042: 100%|██████████| 373/373 [00:01<00:00, 188.68it/s]\n",
      "Training Epoch 1043: 100%|██████████| 373/373 [00:02<00:00, 177.74it/s]\n",
      "Training Epoch 1044: 100%|██████████| 373/373 [00:01<00:00, 189.63it/s]\n",
      "Training Epoch 1045: 100%|██████████| 373/373 [00:01<00:00, 189.36it/s]\n",
      "Training Epoch 1046: 100%|██████████| 373/373 [00:02<00:00, 185.09it/s]\n",
      "Training Epoch 1047: 100%|██████████| 373/373 [00:01<00:00, 188.17it/s]\n",
      "Training Epoch 1048: 100%|██████████| 373/373 [00:02<00:00, 184.00it/s]\n",
      "Training Epoch 1049: 100%|██████████| 373/373 [00:02<00:00, 186.32it/s]\n",
      "Training Epoch 1050: 100%|██████████| 373/373 [00:01<00:00, 189.49it/s]\n",
      "Training Epoch 1051: 100%|██████████| 373/373 [00:02<00:00, 183.86it/s]\n"
     ]
    },
    {
     "name": "stdout",
     "output_type": "stream",
     "text": [
      "Epoch 1050 - Train Loss: 0.3850, Train MSE: 0.3857, Train MAE: 0.4079\n",
      "Epoch 1050 - Validation Loss: 1.1895, Validation MSE: 1.1915, Validation MAE: 0.7386\n"
     ]
    },
    {
     "name": "stderr",
     "output_type": "stream",
     "text": [
      "Training Epoch 1052: 100%|██████████| 373/373 [00:02<00:00, 186.09it/s]\n",
      "Training Epoch 1053: 100%|██████████| 373/373 [00:02<00:00, 183.02it/s]\n",
      "Training Epoch 1054: 100%|██████████| 373/373 [00:01<00:00, 186.90it/s]\n",
      "Training Epoch 1055: 100%|██████████| 373/373 [00:02<00:00, 183.98it/s]\n",
      "Training Epoch 1056: 100%|██████████| 373/373 [00:01<00:00, 186.56it/s]\n",
      "Training Epoch 1057: 100%|██████████| 373/373 [00:02<00:00, 186.29it/s]\n",
      "Training Epoch 1058: 100%|██████████| 373/373 [00:02<00:00, 183.10it/s]\n",
      "Training Epoch 1059: 100%|██████████| 373/373 [00:02<00:00, 186.45it/s]\n",
      "Training Epoch 1060: 100%|██████████| 373/373 [00:01<00:00, 195.50it/s]\n",
      "Training Epoch 1061: 100%|██████████| 373/373 [00:02<00:00, 184.62it/s]\n"
     ]
    },
    {
     "name": "stdout",
     "output_type": "stream",
     "text": [
      "Epoch 1060 - Train Loss: 0.3853, Train MSE: 0.3859, Train MAE: 0.4054\n",
      "Epoch 1060 - Validation Loss: 1.2118, Validation MSE: 1.2139, Validation MAE: 0.7474\n"
     ]
    },
    {
     "name": "stderr",
     "output_type": "stream",
     "text": [
      "Training Epoch 1062: 100%|██████████| 373/373 [00:01<00:00, 186.81it/s]\n",
      "Training Epoch 1063: 100%|██████████| 373/373 [00:02<00:00, 184.77it/s]\n",
      "Training Epoch 1064: 100%|██████████| 373/373 [00:02<00:00, 185.04it/s]\n",
      "Training Epoch 1065: 100%|██████████| 373/373 [00:02<00:00, 183.17it/s]\n",
      "Training Epoch 1066: 100%|██████████| 373/373 [00:01<00:00, 189.23it/s]\n",
      "Training Epoch 1067: 100%|██████████| 373/373 [00:02<00:00, 180.73it/s]\n",
      "Training Epoch 1068: 100%|██████████| 373/373 [00:02<00:00, 185.90it/s]\n",
      "Training Epoch 1069: 100%|██████████| 373/373 [00:01<00:00, 187.56it/s]\n",
      "Training Epoch 1070: 100%|██████████| 373/373 [00:02<00:00, 185.40it/s]\n",
      "Training Epoch 1071: 100%|██████████| 373/373 [00:01<00:00, 187.36it/s]\n"
     ]
    },
    {
     "name": "stdout",
     "output_type": "stream",
     "text": [
      "Epoch 1070 - Train Loss: 0.3832, Train MSE: 0.3840, Train MAE: 0.4089\n",
      "Epoch 1070 - Validation Loss: 1.2026, Validation MSE: 1.2047, Validation MAE: 0.7394\n"
     ]
    },
    {
     "name": "stderr",
     "output_type": "stream",
     "text": [
      "Training Epoch 1072: 100%|██████████| 373/373 [00:02<00:00, 184.67it/s]\n",
      "Training Epoch 1073: 100%|██████████| 373/373 [00:02<00:00, 181.02it/s]\n",
      "Training Epoch 1074: 100%|██████████| 373/373 [00:01<00:00, 189.99it/s]\n",
      "Training Epoch 1075: 100%|██████████| 373/373 [00:02<00:00, 184.77it/s]\n",
      "Training Epoch 1076: 100%|██████████| 373/373 [00:01<00:00, 187.00it/s]\n",
      "Training Epoch 1077: 100%|██████████| 373/373 [00:01<00:00, 189.12it/s]\n",
      "Training Epoch 1078: 100%|██████████| 373/373 [00:02<00:00, 185.81it/s]\n",
      "Training Epoch 1079: 100%|██████████| 373/373 [00:02<00:00, 185.89it/s]\n",
      "Training Epoch 1080: 100%|██████████| 373/373 [00:02<00:00, 183.77it/s]\n",
      "Training Epoch 1081: 100%|██████████| 373/373 [00:01<00:00, 189.05it/s]\n"
     ]
    },
    {
     "name": "stdout",
     "output_type": "stream",
     "text": [
      "Epoch 1080 - Train Loss: 0.3850, Train MSE: 0.3858, Train MAE: 0.4049\n",
      "Epoch 1080 - Validation Loss: 1.1980, Validation MSE: 1.2001, Validation MAE: 0.7422\n"
     ]
    },
    {
     "name": "stderr",
     "output_type": "stream",
     "text": [
      "Training Epoch 1082: 100%|██████████| 373/373 [00:02<00:00, 185.44it/s]\n",
      "Training Epoch 1083: 100%|██████████| 373/373 [00:01<00:00, 188.04it/s]\n",
      "Training Epoch 1084: 100%|██████████| 373/373 [00:01<00:00, 189.85it/s]\n",
      "Training Epoch 1085: 100%|██████████| 373/373 [00:02<00:00, 176.02it/s]\n",
      "Training Epoch 1086: 100%|██████████| 373/373 [00:01<00:00, 187.05it/s]\n",
      "Training Epoch 1087: 100%|██████████| 373/373 [00:01<00:00, 189.93it/s]\n",
      "Training Epoch 1088: 100%|██████████| 373/373 [00:02<00:00, 183.49it/s]\n",
      "Training Epoch 1089: 100%|██████████| 373/373 [00:01<00:00, 187.82it/s]\n",
      "Training Epoch 1090: 100%|██████████| 373/373 [00:02<00:00, 183.24it/s]\n",
      "Training Epoch 1091: 100%|██████████| 373/373 [00:02<00:00, 183.18it/s]\n"
     ]
    },
    {
     "name": "stdout",
     "output_type": "stream",
     "text": [
      "Epoch 1090 - Train Loss: 0.3827, Train MSE: 0.3809, Train MAE: 0.4041\n",
      "Epoch 1090 - Validation Loss: 1.2111, Validation MSE: 1.2129, Validation MAE: 0.7392\n"
     ]
    },
    {
     "name": "stderr",
     "output_type": "stream",
     "text": [
      "Training Epoch 1092: 100%|██████████| 373/373 [00:02<00:00, 184.20it/s]\n",
      "Training Epoch 1093: 100%|██████████| 373/373 [00:01<00:00, 188.13it/s]\n",
      "Training Epoch 1094: 100%|██████████| 373/373 [00:01<00:00, 191.48it/s]\n",
      "Training Epoch 1095: 100%|██████████| 373/373 [00:02<00:00, 183.61it/s]\n",
      "Training Epoch 1096: 100%|██████████| 373/373 [00:01<00:00, 189.53it/s]\n",
      "Training Epoch 1097: 100%|██████████| 373/373 [00:02<00:00, 177.28it/s]\n",
      "Training Epoch 1098: 100%|██████████| 373/373 [00:01<00:00, 186.93it/s]\n",
      "Training Epoch 1099: 100%|██████████| 373/373 [00:01<00:00, 188.79it/s]\n",
      "Training Epoch 1100: 100%|██████████| 373/373 [00:02<00:00, 183.21it/s]\n",
      "Training Epoch 1101: 100%|██████████| 373/373 [00:02<00:00, 178.56it/s]\n"
     ]
    },
    {
     "name": "stdout",
     "output_type": "stream",
     "text": [
      "Epoch 1100 - Train Loss: 0.3895, Train MSE: 0.3904, Train MAE: 0.4127\n",
      "Epoch 1100 - Validation Loss: 1.2038, Validation MSE: 1.2058, Validation MAE: 0.7431\n"
     ]
    },
    {
     "name": "stderr",
     "output_type": "stream",
     "text": [
      "Training Epoch 1102: 100%|██████████| 373/373 [00:02<00:00, 183.76it/s]\n",
      "Training Epoch 1103: 100%|██████████| 373/373 [00:01<00:00, 188.43it/s]\n",
      "Training Epoch 1104: 100%|██████████| 373/373 [00:01<00:00, 188.84it/s]\n",
      "Training Epoch 1105: 100%|██████████| 373/373 [00:02<00:00, 182.32it/s]\n",
      "Training Epoch 1106: 100%|██████████| 373/373 [00:02<00:00, 186.33it/s]\n",
      "Training Epoch 1107: 100%|██████████| 373/373 [00:02<00:00, 185.27it/s]\n",
      "Training Epoch 1108: 100%|██████████| 373/373 [00:01<00:00, 187.74it/s]\n",
      "Training Epoch 1109: 100%|██████████| 373/373 [00:02<00:00, 178.49it/s]\n",
      "Training Epoch 1110: 100%|██████████| 373/373 [00:02<00:00, 184.23it/s]\n",
      "Training Epoch 1111: 100%|██████████| 373/373 [00:01<00:00, 187.87it/s]\n"
     ]
    },
    {
     "name": "stdout",
     "output_type": "stream",
     "text": [
      "Epoch 1110 - Train Loss: 0.3797, Train MSE: 0.3804, Train MAE: 0.4082\n",
      "Epoch 1110 - Validation Loss: 1.1890, Validation MSE: 1.1911, Validation MAE: 0.7409\n"
     ]
    },
    {
     "name": "stderr",
     "output_type": "stream",
     "text": [
      "Training Epoch 1112: 100%|██████████| 373/373 [00:02<00:00, 181.55it/s]\n",
      "Training Epoch 1113: 100%|██████████| 373/373 [00:01<00:00, 191.07it/s]\n",
      "Training Epoch 1114: 100%|██████████| 373/373 [00:01<00:00, 189.68it/s]\n",
      "Training Epoch 1115: 100%|██████████| 373/373 [00:01<00:00, 192.25it/s]\n",
      "Training Epoch 1116: 100%|██████████| 373/373 [00:02<00:00, 183.50it/s]\n",
      "Training Epoch 1117: 100%|██████████| 373/373 [00:01<00:00, 187.02it/s]\n",
      "Training Epoch 1118: 100%|██████████| 373/373 [00:02<00:00, 186.42it/s]\n",
      "Training Epoch 1119: 100%|██████████| 373/373 [00:02<00:00, 186.19it/s]\n",
      "Training Epoch 1120: 100%|██████████| 373/373 [00:02<00:00, 184.40it/s]\n",
      "Training Epoch 1121: 100%|██████████| 373/373 [00:01<00:00, 190.27it/s]\n"
     ]
    },
    {
     "name": "stdout",
     "output_type": "stream",
     "text": [
      "Epoch 1120 - Train Loss: 0.3870, Train MSE: 0.3802, Train MAE: 0.4052\n",
      "Epoch 1120 - Validation Loss: 1.1898, Validation MSE: 1.1921, Validation MAE: 0.7363\n"
     ]
    },
    {
     "name": "stderr",
     "output_type": "stream",
     "text": [
      "Training Epoch 1122: 100%|██████████| 373/373 [00:02<00:00, 177.87it/s]\n",
      "Training Epoch 1123: 100%|██████████| 373/373 [00:01<00:00, 187.32it/s]\n",
      "Training Epoch 1124: 100%|██████████| 373/373 [00:02<00:00, 181.59it/s]\n",
      "Training Epoch 1125: 100%|██████████| 373/373 [00:01<00:00, 188.82it/s]\n",
      "Training Epoch 1126: 100%|██████████| 373/373 [00:01<00:00, 189.50it/s]\n",
      "Training Epoch 1127: 100%|██████████| 373/373 [00:02<00:00, 183.28it/s]\n",
      "Training Epoch 1128: 100%|██████████| 373/373 [00:02<00:00, 186.24it/s]\n",
      "Training Epoch 1129: 100%|██████████| 373/373 [00:02<00:00, 184.31it/s]\n",
      "Training Epoch 1130: 100%|██████████| 373/373 [00:01<00:00, 195.84it/s]\n",
      "Training Epoch 1131: 100%|██████████| 373/373 [00:01<00:00, 188.23it/s]\n"
     ]
    },
    {
     "name": "stdout",
     "output_type": "stream",
     "text": [
      "Epoch 1130 - Train Loss: 0.3910, Train MSE: 0.3849, Train MAE: 0.4086\n",
      "Epoch 1130 - Validation Loss: 1.1972, Validation MSE: 1.1996, Validation MAE: 0.7314\n"
     ]
    },
    {
     "name": "stderr",
     "output_type": "stream",
     "text": [
      "Training Epoch 1132: 100%|██████████| 373/373 [00:02<00:00, 185.95it/s]\n",
      "Training Epoch 1133: 100%|██████████| 373/373 [00:01<00:00, 188.43it/s]\n",
      "Training Epoch 1134: 100%|██████████| 373/373 [00:02<00:00, 178.01it/s]\n",
      "Training Epoch 1135: 100%|██████████| 373/373 [00:01<00:00, 188.59it/s]\n",
      "Training Epoch 1136: 100%|██████████| 373/373 [00:01<00:00, 188.84it/s]\n",
      "Training Epoch 1137: 100%|██████████| 373/373 [00:02<00:00, 181.21it/s]\n",
      "Training Epoch 1138: 100%|██████████| 373/373 [00:01<00:00, 187.96it/s]\n",
      "Training Epoch 1139: 100%|██████████| 373/373 [00:01<00:00, 189.32it/s]\n",
      "Training Epoch 1140: 100%|██████████| 373/373 [00:02<00:00, 182.30it/s]\n",
      "Training Epoch 1141: 100%|██████████| 373/373 [00:01<00:00, 190.38it/s]\n"
     ]
    },
    {
     "name": "stdout",
     "output_type": "stream",
     "text": [
      "Epoch 1140 - Train Loss: 0.3894, Train MSE: 0.3887, Train MAE: 0.4110\n",
      "Epoch 1140 - Validation Loss: 1.1919, Validation MSE: 1.1941, Validation MAE: 0.7345\n"
     ]
    },
    {
     "name": "stderr",
     "output_type": "stream",
     "text": [
      "Training Epoch 1142: 100%|██████████| 373/373 [00:02<00:00, 179.19it/s]\n",
      "Training Epoch 1143: 100%|██████████| 373/373 [00:01<00:00, 187.42it/s]\n",
      "Training Epoch 1144: 100%|██████████| 373/373 [00:02<00:00, 185.68it/s]\n",
      "Training Epoch 1145: 100%|██████████| 373/373 [00:01<00:00, 187.05it/s]\n",
      "Training Epoch 1146: 100%|██████████| 373/373 [00:01<00:00, 188.32it/s]\n",
      "Training Epoch 1147: 100%|██████████| 373/373 [00:02<00:00, 181.31it/s]\n",
      "Training Epoch 1148: 100%|██████████| 373/373 [00:02<00:00, 186.17it/s]\n",
      "Training Epoch 1149: 100%|██████████| 373/373 [00:02<00:00, 184.33it/s]\n",
      "Training Epoch 1150: 100%|██████████| 373/373 [00:01<00:00, 194.02it/s]\n",
      "Training Epoch 1151: 100%|██████████| 373/373 [00:01<00:00, 186.92it/s]\n"
     ]
    },
    {
     "name": "stdout",
     "output_type": "stream",
     "text": [
      "Epoch 1150 - Train Loss: 0.3850, Train MSE: 0.3815, Train MAE: 0.4038\n",
      "Epoch 1150 - Validation Loss: 1.2010, Validation MSE: 1.2032, Validation MAE: 0.7385\n"
     ]
    },
    {
     "name": "stderr",
     "output_type": "stream",
     "text": [
      "Training Epoch 1152: 100%|██████████| 373/373 [00:02<00:00, 179.49it/s]\n",
      "Training Epoch 1153: 100%|██████████| 373/373 [00:01<00:00, 189.31it/s]\n",
      "Training Epoch 1154: 100%|██████████| 373/373 [00:01<00:00, 189.27it/s]\n",
      "Training Epoch 1155: 100%|██████████| 373/373 [00:01<00:00, 189.01it/s]\n",
      "Training Epoch 1156: 100%|██████████| 373/373 [00:01<00:00, 190.98it/s]\n",
      "Training Epoch 1157: 100%|██████████| 373/373 [00:02<00:00, 184.12it/s]\n",
      "Training Epoch 1158: 100%|██████████| 373/373 [00:02<00:00, 185.82it/s]\n",
      "Training Epoch 1159: 100%|██████████| 373/373 [00:02<00:00, 184.71it/s]\n",
      "Training Epoch 1160: 100%|██████████| 373/373 [00:01<00:00, 187.19it/s]\n",
      "Training Epoch 1161: 100%|██████████| 373/373 [00:01<00:00, 188.26it/s]\n"
     ]
    },
    {
     "name": "stdout",
     "output_type": "stream",
     "text": [
      "Epoch 1160 - Train Loss: 0.3786, Train MSE: 0.3794, Train MAE: 0.4033\n",
      "Epoch 1160 - Validation Loss: 1.2005, Validation MSE: 1.2029, Validation MAE: 0.7378\n"
     ]
    },
    {
     "name": "stderr",
     "output_type": "stream",
     "text": [
      "Training Epoch 1162: 100%|██████████| 373/373 [00:02<00:00, 184.55it/s]\n",
      "Training Epoch 1163: 100%|██████████| 373/373 [00:01<00:00, 191.91it/s]\n",
      "Training Epoch 1164: 100%|██████████| 373/373 [00:02<00:00, 183.30it/s]\n",
      "Training Epoch 1165: 100%|██████████| 373/373 [00:02<00:00, 182.70it/s]\n",
      "Training Epoch 1166: 100%|██████████| 373/373 [00:01<00:00, 188.12it/s]\n",
      "Training Epoch 1167: 100%|██████████| 373/373 [00:01<00:00, 188.76it/s]\n",
      "Training Epoch 1168: 100%|██████████| 373/373 [00:02<00:00, 185.39it/s]\n",
      "Training Epoch 1169: 100%|██████████| 373/373 [00:02<00:00, 185.67it/s]\n",
      "Training Epoch 1170: 100%|██████████| 373/373 [00:02<00:00, 184.71it/s]\n",
      "Training Epoch 1171: 100%|██████████| 373/373 [00:02<00:00, 182.23it/s]\n"
     ]
    },
    {
     "name": "stdout",
     "output_type": "stream",
     "text": [
      "Epoch 1170 - Train Loss: 0.3810, Train MSE: 0.3809, Train MAE: 0.4048\n",
      "Epoch 1170 - Validation Loss: 1.2041, Validation MSE: 1.2063, Validation MAE: 0.7396\n"
     ]
    },
    {
     "name": "stderr",
     "output_type": "stream",
     "text": [
      "Training Epoch 1172: 100%|██████████| 373/373 [00:01<00:00, 191.15it/s]\n",
      "Training Epoch 1173: 100%|██████████| 373/373 [00:01<00:00, 187.77it/s]\n",
      "Training Epoch 1174: 100%|██████████| 373/373 [00:02<00:00, 184.13it/s]\n",
      "Training Epoch 1175: 100%|██████████| 373/373 [00:01<00:00, 188.51it/s]\n",
      "Training Epoch 1176: 100%|██████████| 373/373 [00:01<00:00, 190.42it/s]\n",
      "Training Epoch 1177: 100%|██████████| 373/373 [00:02<00:00, 184.71it/s]\n",
      "Training Epoch 1178: 100%|██████████| 373/373 [00:01<00:00, 187.39it/s]\n",
      "Training Epoch 1179: 100%|██████████| 373/373 [00:02<00:00, 180.38it/s]\n",
      "Training Epoch 1180: 100%|██████████| 373/373 [00:01<00:00, 190.48it/s]\n",
      "Training Epoch 1181: 100%|██████████| 373/373 [00:01<00:00, 187.79it/s]\n"
     ]
    },
    {
     "name": "stdout",
     "output_type": "stream",
     "text": [
      "Epoch 1180 - Train Loss: 0.3774, Train MSE: 0.3780, Train MAE: 0.4022\n",
      "Epoch 1180 - Validation Loss: 1.2034, Validation MSE: 1.2057, Validation MAE: 0.7373\n"
     ]
    },
    {
     "name": "stderr",
     "output_type": "stream",
     "text": [
      "Training Epoch 1182: 100%|██████████| 373/373 [00:01<00:00, 187.35it/s]\n",
      "Training Epoch 1183: 100%|██████████| 373/373 [00:02<00:00, 183.62it/s]\n",
      "Training Epoch 1184: 100%|██████████| 373/373 [00:01<00:00, 187.25it/s]\n",
      "Training Epoch 1185: 100%|██████████| 373/373 [00:01<00:00, 191.26it/s]\n",
      "Training Epoch 1186: 100%|██████████| 373/373 [00:01<00:00, 186.55it/s]\n",
      "Training Epoch 1187: 100%|██████████| 373/373 [00:01<00:00, 190.13it/s]\n",
      "Training Epoch 1188: 100%|██████████| 373/373 [00:02<00:00, 185.35it/s]\n",
      "Training Epoch 1189: 100%|██████████| 373/373 [00:02<00:00, 180.68it/s]\n",
      "Training Epoch 1190: 100%|██████████| 373/373 [00:01<00:00, 187.84it/s]\n",
      "Training Epoch 1191: 100%|██████████| 373/373 [00:01<00:00, 187.42it/s]\n"
     ]
    },
    {
     "name": "stdout",
     "output_type": "stream",
     "text": [
      "Epoch 1190 - Train Loss: 0.3805, Train MSE: 0.3802, Train MAE: 0.4032\n",
      "Epoch 1190 - Validation Loss: 1.1943, Validation MSE: 1.1962, Validation MAE: 0.7373\n"
     ]
    },
    {
     "name": "stderr",
     "output_type": "stream",
     "text": [
      "Training Epoch 1192: 100%|██████████| 373/373 [00:02<00:00, 184.20it/s]\n",
      "Training Epoch 1193: 100%|██████████| 373/373 [00:01<00:00, 188.14it/s]\n",
      "Training Epoch 1194: 100%|██████████| 373/373 [00:01<00:00, 187.80it/s]\n",
      "Training Epoch 1195: 100%|██████████| 373/373 [00:02<00:00, 182.55it/s]\n",
      "Training Epoch 1196: 100%|██████████| 373/373 [00:01<00:00, 191.52it/s]\n",
      "Training Epoch 1197: 100%|██████████| 373/373 [00:02<00:00, 185.26it/s]\n",
      "Training Epoch 1198: 100%|██████████| 373/373 [00:01<00:00, 188.40it/s]\n",
      "Training Epoch 1199: 100%|██████████| 373/373 [00:02<00:00, 185.25it/s]\n",
      "Training Epoch 1200: 100%|██████████| 373/373 [00:01<00:00, 189.93it/s]\n",
      "Training Epoch 1201: 100%|██████████| 373/373 [00:02<00:00, 176.95it/s]\n"
     ]
    },
    {
     "name": "stdout",
     "output_type": "stream",
     "text": [
      "Epoch 1200 - Train Loss: 0.3767, Train MSE: 0.3757, Train MAE: 0.4015\n",
      "Epoch 1200 - Validation Loss: 1.2037, Validation MSE: 1.2059, Validation MAE: 0.7404\n"
     ]
    },
    {
     "name": "stderr",
     "output_type": "stream",
     "text": [
      "Training Epoch 1202: 100%|██████████| 373/373 [00:01<00:00, 191.09it/s]\n",
      "Training Epoch 1203: 100%|██████████| 373/373 [00:01<00:00, 194.79it/s]\n",
      "Training Epoch 1204: 100%|██████████| 373/373 [00:02<00:00, 186.11it/s]\n",
      "Training Epoch 1205: 100%|██████████| 373/373 [00:01<00:00, 189.23it/s]\n",
      "Training Epoch 1206: 100%|██████████| 373/373 [00:02<00:00, 183.03it/s]\n",
      "Training Epoch 1207: 100%|██████████| 373/373 [00:02<00:00, 185.10it/s]\n",
      "Training Epoch 1208: 100%|██████████| 373/373 [00:02<00:00, 183.43it/s]\n",
      "Training Epoch 1209: 100%|██████████| 373/373 [00:02<00:00, 185.05it/s]\n",
      "Training Epoch 1210: 100%|██████████| 373/373 [00:01<00:00, 191.31it/s]\n",
      "Training Epoch 1211: 100%|██████████| 373/373 [00:02<00:00, 184.70it/s]\n"
     ]
    },
    {
     "name": "stdout",
     "output_type": "stream",
     "text": [
      "Epoch 1210 - Train Loss: 0.3773, Train MSE: 0.3781, Train MAE: 0.4039\n",
      "Epoch 1210 - Validation Loss: 1.2070, Validation MSE: 1.2092, Validation MAE: 0.7442\n"
     ]
    },
    {
     "name": "stderr",
     "output_type": "stream",
     "text": [
      "Training Epoch 1212: 100%|██████████| 373/373 [00:02<00:00, 185.71it/s]\n",
      "Training Epoch 1213: 100%|██████████| 373/373 [00:01<00:00, 189.21it/s]\n",
      "Training Epoch 1214: 100%|██████████| 373/373 [00:02<00:00, 185.61it/s]\n",
      "Training Epoch 1215: 100%|██████████| 373/373 [00:01<00:00, 187.22it/s]\n",
      "Training Epoch 1216: 100%|██████████| 373/373 [00:02<00:00, 184.03it/s]\n",
      "Training Epoch 1217: 100%|██████████| 373/373 [00:01<00:00, 188.77it/s]\n",
      "Training Epoch 1218: 100%|██████████| 373/373 [00:01<00:00, 189.54it/s]\n",
      "Training Epoch 1219: 100%|██████████| 373/373 [00:02<00:00, 181.76it/s]\n",
      "Training Epoch 1220: 100%|██████████| 373/373 [00:01<00:00, 189.09it/s]\n",
      "Training Epoch 1221: 100%|██████████| 373/373 [00:01<00:00, 187.79it/s]\n"
     ]
    },
    {
     "name": "stdout",
     "output_type": "stream",
     "text": [
      "Epoch 1220 - Train Loss: 0.3711, Train MSE: 0.3720, Train MAE: 0.3962\n",
      "Epoch 1220 - Validation Loss: 1.2082, Validation MSE: 1.2100, Validation MAE: 0.7396\n"
     ]
    },
    {
     "name": "stderr",
     "output_type": "stream",
     "text": [
      "Training Epoch 1222: 100%|██████████| 373/373 [00:01<00:00, 192.14it/s]\n",
      "Training Epoch 1223: 100%|██████████| 373/373 [00:02<00:00, 182.03it/s]\n",
      "Training Epoch 1224: 100%|██████████| 373/373 [00:02<00:00, 185.41it/s]\n",
      "Training Epoch 1225: 100%|██████████| 373/373 [00:01<00:00, 188.56it/s]\n",
      "Training Epoch 1226: 100%|██████████| 373/373 [00:02<00:00, 183.66it/s]\n",
      "Training Epoch 1227: 100%|██████████| 373/373 [00:01<00:00, 188.50it/s]\n",
      "Training Epoch 1228: 100%|██████████| 373/373 [00:01<00:00, 190.29it/s]\n",
      "Training Epoch 1229: 100%|██████████| 373/373 [00:02<00:00, 186.00it/s]\n",
      "Training Epoch 1230: 100%|██████████| 373/373 [00:01<00:00, 190.84it/s]\n",
      "Training Epoch 1231: 100%|██████████| 373/373 [00:01<00:00, 192.97it/s]\n"
     ]
    },
    {
     "name": "stdout",
     "output_type": "stream",
     "text": [
      "Epoch 1230 - Train Loss: 0.3731, Train MSE: 0.3732, Train MAE: 0.4014\n",
      "Epoch 1230 - Validation Loss: 1.2021, Validation MSE: 1.2039, Validation MAE: 0.7383\n"
     ]
    },
    {
     "name": "stderr",
     "output_type": "stream",
     "text": [
      "Training Epoch 1232: 100%|██████████| 373/373 [00:02<00:00, 185.59it/s]\n",
      "Training Epoch 1233: 100%|██████████| 373/373 [00:02<00:00, 185.54it/s]\n",
      "Training Epoch 1234: 100%|██████████| 373/373 [00:02<00:00, 185.33it/s]\n",
      "Training Epoch 1235: 100%|██████████| 373/373 [00:01<00:00, 186.99it/s]\n",
      "Training Epoch 1236: 100%|██████████| 373/373 [00:02<00:00, 184.45it/s]\n",
      "Training Epoch 1237: 100%|██████████| 373/373 [00:02<00:00, 183.46it/s]\n",
      "Training Epoch 1238: 100%|██████████| 373/373 [00:02<00:00, 180.34it/s]\n",
      "Training Epoch 1239: 100%|██████████| 373/373 [00:01<00:00, 187.12it/s]\n",
      "Training Epoch 1240: 100%|██████████| 373/373 [00:01<00:00, 188.84it/s]\n",
      "Training Epoch 1241: 100%|██████████| 373/373 [00:02<00:00, 184.96it/s]\n"
     ]
    },
    {
     "name": "stdout",
     "output_type": "stream",
     "text": [
      "Epoch 1240 - Train Loss: 0.3730, Train MSE: 0.3734, Train MAE: 0.4000\n",
      "Epoch 1240 - Validation Loss: 1.2207, Validation MSE: 1.2225, Validation MAE: 0.7485\n"
     ]
    },
    {
     "name": "stderr",
     "output_type": "stream",
     "text": [
      "Training Epoch 1242: 100%|██████████| 373/373 [00:01<00:00, 187.85it/s]\n",
      "Training Epoch 1243: 100%|██████████| 373/373 [00:02<00:00, 184.99it/s]\n",
      "Training Epoch 1244: 100%|██████████| 373/373 [00:02<00:00, 184.13it/s]\n",
      "Training Epoch 1245: 100%|██████████| 373/373 [00:02<00:00, 184.84it/s]\n",
      "Training Epoch 1246: 100%|██████████| 373/373 [00:02<00:00, 183.97it/s]\n",
      "Training Epoch 1247: 100%|██████████| 373/373 [00:01<00:00, 189.29it/s]\n",
      "Training Epoch 1248: 100%|██████████| 373/373 [00:02<00:00, 178.22it/s]\n",
      "Training Epoch 1249: 100%|██████████| 373/373 [00:02<00:00, 186.26it/s]\n",
      "Training Epoch 1250: 100%|██████████| 373/373 [00:02<00:00, 183.56it/s]\n",
      "Training Epoch 1251: 100%|██████████| 373/373 [00:02<00:00, 183.27it/s]\n"
     ]
    },
    {
     "name": "stdout",
     "output_type": "stream",
     "text": [
      "Epoch 1250 - Train Loss: 0.3694, Train MSE: 0.3696, Train MAE: 0.3987\n",
      "Epoch 1250 - Validation Loss: 1.2119, Validation MSE: 1.2140, Validation MAE: 0.7386\n"
     ]
    },
    {
     "name": "stderr",
     "output_type": "stream",
     "text": [
      "Training Epoch 1252: 100%|██████████| 373/373 [00:01<00:00, 191.02it/s]\n",
      "Training Epoch 1253: 100%|██████████| 373/373 [00:02<00:00, 185.94it/s]\n",
      "Training Epoch 1254: 100%|██████████| 373/373 [00:01<00:00, 188.48it/s]\n",
      "Training Epoch 1255: 100%|██████████| 373/373 [00:01<00:00, 192.31it/s]\n",
      "Training Epoch 1256: 100%|██████████| 373/373 [00:02<00:00, 181.29it/s]\n",
      "Training Epoch 1257: 100%|██████████| 373/373 [00:02<00:00, 178.58it/s]\n",
      "Training Epoch 1258: 100%|██████████| 373/373 [00:02<00:00, 185.76it/s]\n",
      "Training Epoch 1259: 100%|██████████| 373/373 [00:01<00:00, 188.06it/s]\n",
      "Training Epoch 1260: 100%|██████████| 373/373 [00:01<00:00, 193.67it/s]\n",
      "Training Epoch 1261: 100%|██████████| 373/373 [00:01<00:00, 187.23it/s]\n"
     ]
    },
    {
     "name": "stdout",
     "output_type": "stream",
     "text": [
      "Epoch 1260 - Train Loss: 0.3655, Train MSE: 0.3660, Train MAE: 0.3979\n",
      "Epoch 1260 - Validation Loss: 1.1920, Validation MSE: 1.1940, Validation MAE: 0.7399\n"
     ]
    },
    {
     "name": "stderr",
     "output_type": "stream",
     "text": [
      "Training Epoch 1262: 100%|██████████| 373/373 [00:02<00:00, 186.25it/s]\n",
      "Training Epoch 1263: 100%|██████████| 373/373 [00:02<00:00, 185.66it/s]\n",
      "Training Epoch 1264: 100%|██████████| 373/373 [00:01<00:00, 187.85it/s]\n",
      "Training Epoch 1265: 100%|██████████| 373/373 [00:02<00:00, 182.90it/s]\n",
      "Training Epoch 1266: 100%|██████████| 373/373 [00:01<00:00, 191.40it/s]\n",
      "Training Epoch 1267: 100%|██████████| 373/373 [00:01<00:00, 187.79it/s]\n",
      "Training Epoch 1268: 100%|██████████| 373/373 [00:02<00:00, 179.21it/s]\n",
      "Training Epoch 1269: 100%|██████████| 373/373 [00:01<00:00, 195.63it/s]\n",
      "Training Epoch 1270: 100%|██████████| 373/373 [00:01<00:00, 187.30it/s]\n",
      "Training Epoch 1271: 100%|██████████| 373/373 [00:01<00:00, 188.11it/s]\n"
     ]
    },
    {
     "name": "stdout",
     "output_type": "stream",
     "text": [
      "Epoch 1270 - Train Loss: 0.3730, Train MSE: 0.3736, Train MAE: 0.3992\n",
      "Epoch 1270 - Validation Loss: 1.2082, Validation MSE: 1.2103, Validation MAE: 0.7414\n"
     ]
    },
    {
     "name": "stderr",
     "output_type": "stream",
     "text": [
      "Training Epoch 1272: 100%|██████████| 373/373 [00:02<00:00, 186.42it/s]\n",
      "Training Epoch 1273: 100%|██████████| 373/373 [00:01<00:00, 187.48it/s]\n",
      "Training Epoch 1274: 100%|██████████| 373/373 [00:02<00:00, 176.25it/s]\n",
      "Training Epoch 1275: 100%|██████████| 373/373 [00:02<00:00, 162.25it/s]\n",
      "Training Epoch 1276: 100%|██████████| 373/373 [00:01<00:00, 190.64it/s]\n",
      "Training Epoch 1277: 100%|██████████| 373/373 [00:01<00:00, 191.31it/s]\n",
      "Training Epoch 1278: 100%|██████████| 373/373 [00:01<00:00, 186.84it/s]\n",
      "Training Epoch 1279: 100%|██████████| 373/373 [00:02<00:00, 179.69it/s]\n",
      "Training Epoch 1280: 100%|██████████| 373/373 [00:02<00:00, 174.60it/s]\n",
      "Training Epoch 1281: 100%|██████████| 373/373 [00:01<00:00, 192.68it/s]\n"
     ]
    },
    {
     "name": "stdout",
     "output_type": "stream",
     "text": [
      "Epoch 1280 - Train Loss: 0.3726, Train MSE: 0.3730, Train MAE: 0.3988\n",
      "Epoch 1280 - Validation Loss: 1.2103, Validation MSE: 1.2123, Validation MAE: 0.7402\n"
     ]
    },
    {
     "name": "stderr",
     "output_type": "stream",
     "text": [
      "Training Epoch 1282: 100%|██████████| 373/373 [00:02<00:00, 180.68it/s]\n",
      "Training Epoch 1283: 100%|██████████| 373/373 [00:01<00:00, 193.44it/s]\n",
      "Training Epoch 1284: 100%|██████████| 373/373 [00:01<00:00, 190.45it/s]\n",
      "Training Epoch 1285: 100%|██████████| 373/373 [00:01<00:00, 192.16it/s]\n",
      "Training Epoch 1286: 100%|██████████| 373/373 [00:02<00:00, 179.75it/s]\n",
      "Training Epoch 1287: 100%|██████████| 373/373 [00:02<00:00, 176.89it/s]\n",
      "Training Epoch 1288: 100%|██████████| 373/373 [00:02<00:00, 181.45it/s]\n",
      "Training Epoch 1289: 100%|██████████| 373/373 [00:02<00:00, 178.23it/s]\n",
      "Training Epoch 1290: 100%|██████████| 373/373 [00:02<00:00, 182.13it/s]\n",
      "Training Epoch 1291: 100%|██████████| 373/373 [00:01<00:00, 189.83it/s]\n"
     ]
    },
    {
     "name": "stdout",
     "output_type": "stream",
     "text": [
      "Epoch 1290 - Train Loss: 0.3609, Train MSE: 0.3616, Train MAE: 0.3950\n",
      "Epoch 1290 - Validation Loss: 1.2125, Validation MSE: 1.2139, Validation MAE: 0.7401\n"
     ]
    },
    {
     "name": "stderr",
     "output_type": "stream",
     "text": [
      "Training Epoch 1292: 100%|██████████| 373/373 [00:02<00:00, 175.05it/s]\n",
      "Training Epoch 1293: 100%|██████████| 373/373 [00:02<00:00, 183.19it/s]\n",
      "Training Epoch 1294: 100%|██████████| 373/373 [00:02<00:00, 185.36it/s]\n",
      "Training Epoch 1295: 100%|██████████| 373/373 [00:02<00:00, 172.35it/s]\n",
      "Training Epoch 1296: 100%|██████████| 373/373 [00:02<00:00, 183.14it/s]\n",
      "Training Epoch 1297: 100%|██████████| 373/373 [00:02<00:00, 178.25it/s]\n",
      "Training Epoch 1298: 100%|██████████| 373/373 [00:02<00:00, 173.38it/s]\n",
      "Training Epoch 1299: 100%|██████████| 373/373 [00:01<00:00, 186.90it/s]\n",
      "Training Epoch 1300: 100%|██████████| 373/373 [00:01<00:00, 188.08it/s]\n",
      "Training Epoch 1301: 100%|██████████| 373/373 [00:02<00:00, 173.95it/s]\n"
     ]
    },
    {
     "name": "stdout",
     "output_type": "stream",
     "text": [
      "Epoch 1300 - Train Loss: 0.3714, Train MSE: 0.3718, Train MAE: 0.4006\n",
      "Epoch 1300 - Validation Loss: 1.1954, Validation MSE: 1.1973, Validation MAE: 0.7377\n"
     ]
    },
    {
     "name": "stderr",
     "output_type": "stream",
     "text": [
      "Training Epoch 1302: 100%|██████████| 373/373 [00:02<00:00, 181.42it/s]\n",
      "Training Epoch 1303: 100%|██████████| 373/373 [00:02<00:00, 166.53it/s]\n",
      "Training Epoch 1304: 100%|██████████| 373/373 [00:02<00:00, 178.07it/s]\n",
      "Training Epoch 1305: 100%|██████████| 373/373 [00:02<00:00, 176.99it/s]\n",
      "Training Epoch 1306: 100%|██████████| 373/373 [00:01<00:00, 188.29it/s]\n",
      "Training Epoch 1307: 100%|██████████| 373/373 [00:02<00:00, 184.67it/s]\n",
      "Training Epoch 1308: 100%|██████████| 373/373 [00:02<00:00, 185.43it/s]\n",
      "Training Epoch 1309: 100%|██████████| 373/373 [00:02<00:00, 181.49it/s]\n",
      "Training Epoch 1310: 100%|██████████| 373/373 [00:02<00:00, 166.89it/s]\n",
      "Training Epoch 1311: 100%|██████████| 373/373 [00:02<00:00, 174.18it/s]\n"
     ]
    },
    {
     "name": "stdout",
     "output_type": "stream",
     "text": [
      "Epoch 1310 - Train Loss: 0.3724, Train MSE: 0.3714, Train MAE: 0.3982\n",
      "Epoch 1310 - Validation Loss: 1.2088, Validation MSE: 1.2109, Validation MAE: 0.7395\n"
     ]
    },
    {
     "name": "stderr",
     "output_type": "stream",
     "text": [
      "Training Epoch 1312: 100%|██████████| 373/373 [00:01<00:00, 187.85it/s]\n",
      "Training Epoch 1313: 100%|██████████| 373/373 [00:02<00:00, 182.65it/s]\n",
      "Training Epoch 1314: 100%|██████████| 373/373 [00:01<00:00, 186.65it/s]\n",
      "Training Epoch 1315: 100%|██████████| 373/373 [00:02<00:00, 186.19it/s]\n",
      "Training Epoch 1316: 100%|██████████| 373/373 [00:01<00:00, 188.64it/s]\n",
      "Training Epoch 1317: 100%|██████████| 373/373 [00:01<00:00, 190.02it/s]\n",
      "Training Epoch 1318: 100%|██████████| 373/373 [00:02<00:00, 168.70it/s]\n",
      "Training Epoch 1319: 100%|██████████| 373/373 [00:02<00:00, 155.91it/s]\n",
      "Training Epoch 1320: 100%|██████████| 373/373 [00:02<00:00, 151.02it/s]\n",
      "Training Epoch 1321: 100%|██████████| 373/373 [00:02<00:00, 165.21it/s]\n"
     ]
    },
    {
     "name": "stdout",
     "output_type": "stream",
     "text": [
      "Epoch 1320 - Train Loss: 0.3668, Train MSE: 0.3676, Train MAE: 0.3958\n",
      "Epoch 1320 - Validation Loss: 1.2183, Validation MSE: 1.2206, Validation MAE: 0.7392\n"
     ]
    },
    {
     "name": "stderr",
     "output_type": "stream",
     "text": [
      "Training Epoch 1322: 100%|██████████| 373/373 [00:02<00:00, 164.76it/s]\n",
      "Training Epoch 1323: 100%|██████████| 373/373 [00:02<00:00, 161.09it/s]\n",
      "Training Epoch 1324: 100%|██████████| 373/373 [00:02<00:00, 181.10it/s]\n",
      "Training Epoch 1325: 100%|██████████| 373/373 [00:02<00:00, 181.58it/s]\n",
      "Training Epoch 1326: 100%|██████████| 373/373 [00:02<00:00, 184.02it/s]\n",
      "Training Epoch 1327: 100%|██████████| 373/373 [00:02<00:00, 181.21it/s]\n",
      "Training Epoch 1328: 100%|██████████| 373/373 [00:01<00:00, 188.39it/s]\n",
      "Training Epoch 1329: 100%|██████████| 373/373 [00:02<00:00, 182.66it/s]\n",
      "Training Epoch 1330: 100%|██████████| 373/373 [00:01<00:00, 189.59it/s]\n",
      "Training Epoch 1331: 100%|██████████| 373/373 [00:01<00:00, 189.10it/s]\n"
     ]
    },
    {
     "name": "stdout",
     "output_type": "stream",
     "text": [
      "Epoch 1330 - Train Loss: 0.3650, Train MSE: 0.3655, Train MAE: 0.3937\n",
      "Epoch 1330 - Validation Loss: 1.2093, Validation MSE: 1.2112, Validation MAE: 0.7414\n"
     ]
    },
    {
     "name": "stderr",
     "output_type": "stream",
     "text": [
      "Training Epoch 1332: 100%|██████████| 373/373 [00:02<00:00, 175.53it/s]\n",
      "Training Epoch 1333: 100%|██████████| 373/373 [00:02<00:00, 185.46it/s]\n",
      "Training Epoch 1334: 100%|██████████| 373/373 [00:01<00:00, 189.67it/s]\n",
      "Training Epoch 1335: 100%|██████████| 373/373 [00:01<00:00, 187.61it/s]\n",
      "Training Epoch 1336: 100%|██████████| 373/373 [00:02<00:00, 185.74it/s]\n",
      "Training Epoch 1337: 100%|██████████| 373/373 [00:02<00:00, 179.71it/s]\n",
      "Training Epoch 1338: 100%|██████████| 373/373 [00:01<00:00, 186.91it/s]\n",
      "Training Epoch 1339: 100%|██████████| 373/373 [00:02<00:00, 181.75it/s]\n",
      "Training Epoch 1340: 100%|██████████| 373/373 [00:02<00:00, 183.52it/s]\n",
      "Training Epoch 1341: 100%|██████████| 373/373 [00:02<00:00, 179.38it/s]\n"
     ]
    },
    {
     "name": "stdout",
     "output_type": "stream",
     "text": [
      "Epoch 1340 - Train Loss: 0.3669, Train MSE: 0.3669, Train MAE: 0.3950\n",
      "Epoch 1340 - Validation Loss: 1.2010, Validation MSE: 1.2032, Validation MAE: 0.7383\n"
     ]
    },
    {
     "name": "stderr",
     "output_type": "stream",
     "text": [
      "Training Epoch 1342: 100%|██████████| 373/373 [00:02<00:00, 185.21it/s]\n",
      "Training Epoch 1343: 100%|██████████| 373/373 [00:01<00:00, 186.82it/s]\n",
      "Training Epoch 1344: 100%|██████████| 373/373 [00:02<00:00, 185.82it/s]\n",
      "Training Epoch 1345: 100%|██████████| 373/373 [00:02<00:00, 176.79it/s]\n",
      "Training Epoch 1346: 100%|██████████| 373/373 [00:02<00:00, 185.54it/s]\n",
      "Training Epoch 1347: 100%|██████████| 373/373 [00:02<00:00, 184.91it/s]\n",
      "Training Epoch 1348: 100%|██████████| 373/373 [00:02<00:00, 182.51it/s]\n",
      "Training Epoch 1349: 100%|██████████| 373/373 [00:02<00:00, 180.56it/s]\n",
      "Training Epoch 1350: 100%|██████████| 373/373 [00:01<00:00, 189.96it/s]\n",
      "Training Epoch 1351: 100%|██████████| 373/373 [00:01<00:00, 189.63it/s]\n"
     ]
    },
    {
     "name": "stdout",
     "output_type": "stream",
     "text": [
      "Epoch 1350 - Train Loss: 0.3681, Train MSE: 0.3643, Train MAE: 0.3954\n",
      "Epoch 1350 - Validation Loss: 1.2113, Validation MSE: 1.2128, Validation MAE: 0.7419\n"
     ]
    },
    {
     "name": "stderr",
     "output_type": "stream",
     "text": [
      "Training Epoch 1352: 100%|██████████| 373/373 [00:01<00:00, 192.12it/s]\n",
      "Training Epoch 1353: 100%|██████████| 373/373 [00:01<00:00, 195.62it/s]\n",
      "Training Epoch 1354: 100%|██████████| 373/373 [00:01<00:00, 195.48it/s]\n",
      "Training Epoch 1355: 100%|██████████| 373/373 [00:01<00:00, 194.75it/s]\n",
      "Training Epoch 1356: 100%|██████████| 373/373 [00:01<00:00, 196.84it/s]\n",
      "Training Epoch 1357: 100%|██████████| 373/373 [00:01<00:00, 192.50it/s]\n",
      "Training Epoch 1358: 100%|██████████| 373/373 [00:01<00:00, 195.79it/s]\n",
      "Training Epoch 1359: 100%|██████████| 373/373 [00:01<00:00, 192.20it/s]\n",
      "Training Epoch 1360: 100%|██████████| 373/373 [00:01<00:00, 201.57it/s]\n",
      "Training Epoch 1361: 100%|██████████| 373/373 [00:01<00:00, 195.31it/s]\n"
     ]
    },
    {
     "name": "stdout",
     "output_type": "stream",
     "text": [
      "Epoch 1360 - Train Loss: 0.3657, Train MSE: 0.3666, Train MAE: 0.3951\n",
      "Epoch 1360 - Validation Loss: 1.2070, Validation MSE: 1.2089, Validation MAE: 0.7401\n"
     ]
    },
    {
     "name": "stderr",
     "output_type": "stream",
     "text": [
      "Training Epoch 1362: 100%|██████████| 373/373 [00:01<00:00, 194.48it/s]\n",
      "Training Epoch 1363: 100%|██████████| 373/373 [00:01<00:00, 205.11it/s]\n",
      "Training Epoch 1364: 100%|██████████| 373/373 [00:01<00:00, 197.95it/s]\n",
      "Training Epoch 1365: 100%|██████████| 373/373 [00:01<00:00, 199.68it/s]\n",
      "Training Epoch 1366: 100%|██████████| 373/373 [00:01<00:00, 199.69it/s]\n",
      "Training Epoch 1367: 100%|██████████| 373/373 [00:01<00:00, 196.03it/s]\n",
      "Training Epoch 1368: 100%|██████████| 373/373 [00:01<00:00, 203.69it/s]\n",
      "Training Epoch 1369: 100%|██████████| 373/373 [00:01<00:00, 200.43it/s]\n",
      "Training Epoch 1370: 100%|██████████| 373/373 [00:01<00:00, 192.16it/s]\n",
      "Training Epoch 1371: 100%|██████████| 373/373 [00:01<00:00, 200.96it/s]\n"
     ]
    },
    {
     "name": "stdout",
     "output_type": "stream",
     "text": [
      "Epoch 1370 - Train Loss: 0.3585, Train MSE: 0.3593, Train MAE: 0.3922\n",
      "Epoch 1370 - Validation Loss: 1.1978, Validation MSE: 1.2001, Validation MAE: 0.7367\n"
     ]
    },
    {
     "name": "stderr",
     "output_type": "stream",
     "text": [
      "Training Epoch 1372: 100%|██████████| 373/373 [00:01<00:00, 197.98it/s]\n",
      "Training Epoch 1373: 100%|██████████| 373/373 [00:01<00:00, 195.73it/s]\n",
      "Training Epoch 1374: 100%|██████████| 373/373 [00:01<00:00, 190.26it/s]\n",
      "Training Epoch 1375: 100%|██████████| 373/373 [00:01<00:00, 197.69it/s]\n",
      "Training Epoch 1376: 100%|██████████| 373/373 [00:01<00:00, 198.89it/s]\n",
      "Training Epoch 1377: 100%|██████████| 373/373 [00:01<00:00, 187.15it/s]\n",
      "Training Epoch 1378: 100%|██████████| 373/373 [00:02<00:00, 176.21it/s]\n",
      "Training Epoch 1379: 100%|██████████| 373/373 [00:01<00:00, 188.73it/s]\n",
      "Training Epoch 1380: 100%|██████████| 373/373 [00:01<00:00, 187.03it/s]\n",
      "Training Epoch 1381: 100%|██████████| 373/373 [00:01<00:00, 189.64it/s]\n"
     ]
    },
    {
     "name": "stdout",
     "output_type": "stream",
     "text": [
      "Epoch 1380 - Train Loss: 0.3561, Train MSE: 0.3567, Train MAE: 0.3910\n",
      "Epoch 1380 - Validation Loss: 1.2191, Validation MSE: 1.2213, Validation MAE: 0.7448\n"
     ]
    },
    {
     "name": "stderr",
     "output_type": "stream",
     "text": [
      "Training Epoch 1382: 100%|██████████| 373/373 [00:02<00:00, 183.80it/s]\n",
      "Training Epoch 1383: 100%|██████████| 373/373 [00:01<00:00, 187.37it/s]\n",
      "Training Epoch 1384: 100%|██████████| 373/373 [00:01<00:00, 187.72it/s]\n",
      "Training Epoch 1385: 100%|██████████| 373/373 [00:01<00:00, 190.54it/s]\n",
      "Training Epoch 1386: 100%|██████████| 373/373 [00:02<00:00, 186.40it/s]\n",
      "Training Epoch 1387: 100%|██████████| 373/373 [00:01<00:00, 188.73it/s]\n",
      "Training Epoch 1388: 100%|██████████| 373/373 [00:01<00:00, 191.77it/s]\n",
      "Training Epoch 1389: 100%|██████████| 373/373 [00:02<00:00, 182.17it/s]\n",
      "Training Epoch 1390: 100%|██████████| 373/373 [00:01<00:00, 190.06it/s]\n",
      "Training Epoch 1391: 100%|██████████| 373/373 [00:01<00:00, 186.54it/s]\n"
     ]
    },
    {
     "name": "stdout",
     "output_type": "stream",
     "text": [
      "Epoch 1390 - Train Loss: 0.3564, Train MSE: 0.3571, Train MAE: 0.3913\n",
      "Epoch 1390 - Validation Loss: 1.2165, Validation MSE: 1.2188, Validation MAE: 0.7427\n"
     ]
    },
    {
     "name": "stderr",
     "output_type": "stream",
     "text": [
      "Training Epoch 1392: 100%|██████████| 373/373 [00:02<00:00, 184.86it/s]\n",
      "Training Epoch 1393: 100%|██████████| 373/373 [00:02<00:00, 182.48it/s]\n",
      "Training Epoch 1394: 100%|██████████| 373/373 [00:01<00:00, 186.52it/s]\n",
      "Training Epoch 1395: 100%|██████████| 373/373 [00:01<00:00, 189.18it/s]\n",
      "Training Epoch 1396: 100%|██████████| 373/373 [00:02<00:00, 180.66it/s]\n",
      "Training Epoch 1397: 100%|██████████| 373/373 [00:01<00:00, 188.83it/s]\n",
      "Training Epoch 1398: 100%|██████████| 373/373 [00:02<00:00, 182.35it/s]\n",
      "Training Epoch 1399: 100%|██████████| 373/373 [00:01<00:00, 190.77it/s]\n",
      "Training Epoch 1400: 100%|██████████| 373/373 [00:02<00:00, 186.26it/s]\n",
      "Training Epoch 1401: 100%|██████████| 373/373 [00:02<00:00, 185.39it/s]\n"
     ]
    },
    {
     "name": "stdout",
     "output_type": "stream",
     "text": [
      "Epoch 1400 - Train Loss: 0.3628, Train MSE: 0.3630, Train MAE: 0.3957\n",
      "Epoch 1400 - Validation Loss: 1.1992, Validation MSE: 1.2011, Validation MAE: 0.7364\n"
     ]
    },
    {
     "name": "stderr",
     "output_type": "stream",
     "text": [
      "Training Epoch 1402: 100%|██████████| 373/373 [00:01<00:00, 189.58it/s]\n",
      "Training Epoch 1403: 100%|██████████| 373/373 [00:01<00:00, 186.91it/s]\n",
      "Training Epoch 1404: 100%|██████████| 373/373 [00:02<00:00, 186.31it/s]\n",
      "Training Epoch 1405: 100%|██████████| 373/373 [00:01<00:00, 186.93it/s]\n",
      "Training Epoch 1406: 100%|██████████| 373/373 [00:01<00:00, 190.42it/s]\n",
      "Training Epoch 1407: 100%|██████████| 373/373 [00:02<00:00, 182.38it/s]\n",
      "Training Epoch 1408: 100%|██████████| 373/373 [00:01<00:00, 186.60it/s]\n",
      "Training Epoch 1409: 100%|██████████| 373/373 [00:01<00:00, 189.58it/s]\n",
      "Training Epoch 1410: 100%|██████████| 373/373 [00:02<00:00, 185.37it/s]\n",
      "Training Epoch 1411: 100%|██████████| 373/373 [00:01<00:00, 186.71it/s]\n"
     ]
    },
    {
     "name": "stdout",
     "output_type": "stream",
     "text": [
      "Epoch 1410 - Train Loss: 0.3504, Train MSE: 0.3510, Train MAE: 0.3872\n",
      "Epoch 1410 - Validation Loss: 1.2224, Validation MSE: 1.2243, Validation MAE: 0.7405\n"
     ]
    },
    {
     "name": "stderr",
     "output_type": "stream",
     "text": [
      "Training Epoch 1412: 100%|██████████| 373/373 [00:02<00:00, 185.97it/s]\n",
      "Training Epoch 1413: 100%|██████████| 373/373 [00:02<00:00, 185.81it/s]\n",
      "Training Epoch 1414: 100%|██████████| 373/373 [00:02<00:00, 186.30it/s]\n",
      "Training Epoch 1415: 100%|██████████| 373/373 [00:02<00:00, 184.21it/s]\n",
      "Training Epoch 1416: 100%|██████████| 373/373 [00:01<00:00, 190.45it/s]\n",
      "Training Epoch 1417: 100%|██████████| 373/373 [00:02<00:00, 184.99it/s]\n",
      "Training Epoch 1418: 100%|██████████| 373/373 [00:01<00:00, 186.72it/s]\n",
      "Training Epoch 1419: 100%|██████████| 373/373 [00:01<00:00, 189.65it/s]\n",
      "Training Epoch 1420: 100%|██████████| 373/373 [00:02<00:00, 184.17it/s]\n",
      "Training Epoch 1421: 100%|██████████| 373/373 [00:02<00:00, 185.22it/s]\n"
     ]
    },
    {
     "name": "stdout",
     "output_type": "stream",
     "text": [
      "Epoch 1420 - Train Loss: 0.3577, Train MSE: 0.3583, Train MAE: 0.3922\n",
      "Epoch 1420 - Validation Loss: 1.2124, Validation MSE: 1.2144, Validation MAE: 0.7418\n"
     ]
    },
    {
     "name": "stderr",
     "output_type": "stream",
     "text": [
      "Training Epoch 1422: 100%|██████████| 373/373 [00:02<00:00, 183.87it/s]\n",
      "Training Epoch 1423: 100%|██████████| 373/373 [00:01<00:00, 188.20it/s]\n",
      "Training Epoch 1424: 100%|██████████| 373/373 [00:01<00:00, 187.87it/s]\n",
      "Training Epoch 1425: 100%|██████████| 373/373 [00:02<00:00, 186.35it/s]\n",
      "Training Epoch 1426: 100%|██████████| 373/373 [00:02<00:00, 184.85it/s]\n",
      "Training Epoch 1427: 100%|██████████| 373/373 [00:01<00:00, 186.97it/s]\n",
      "Training Epoch 1428: 100%|██████████| 373/373 [00:01<00:00, 189.34it/s]\n",
      "Training Epoch 1429: 100%|██████████| 373/373 [00:02<00:00, 186.14it/s]\n",
      "Training Epoch 1430: 100%|██████████| 373/373 [00:01<00:00, 186.67it/s]\n",
      "Training Epoch 1431: 100%|██████████| 373/373 [00:01<00:00, 191.19it/s]\n"
     ]
    },
    {
     "name": "stdout",
     "output_type": "stream",
     "text": [
      "Epoch 1430 - Train Loss: 0.3599, Train MSE: 0.3553, Train MAE: 0.3884\n",
      "Epoch 1430 - Validation Loss: 1.2007, Validation MSE: 1.2029, Validation MAE: 0.7336\n"
     ]
    },
    {
     "name": "stderr",
     "output_type": "stream",
     "text": [
      "Training Epoch 1432: 100%|██████████| 373/373 [00:02<00:00, 185.51it/s]\n",
      "Training Epoch 1433: 100%|██████████| 373/373 [00:02<00:00, 185.17it/s]\n",
      "Training Epoch 1434: 100%|██████████| 373/373 [00:01<00:00, 187.21it/s]\n",
      "Training Epoch 1435: 100%|██████████| 373/373 [00:01<00:00, 189.43it/s]\n",
      "Training Epoch 1436: 100%|██████████| 373/373 [00:01<00:00, 191.75it/s]\n",
      "Training Epoch 1437: 100%|██████████| 373/373 [00:02<00:00, 184.54it/s]\n",
      "Training Epoch 1438: 100%|██████████| 373/373 [00:01<00:00, 191.62it/s]\n",
      "Training Epoch 1439: 100%|██████████| 373/373 [00:01<00:00, 194.70it/s]\n",
      "Training Epoch 1440: 100%|██████████| 373/373 [00:02<00:00, 185.69it/s]\n",
      "Training Epoch 1441: 100%|██████████| 373/373 [00:01<00:00, 189.25it/s]\n"
     ]
    },
    {
     "name": "stdout",
     "output_type": "stream",
     "text": [
      "Epoch 1440 - Train Loss: 0.3550, Train MSE: 0.3556, Train MAE: 0.3894\n",
      "Epoch 1440 - Validation Loss: 1.2052, Validation MSE: 1.2069, Validation MAE: 0.7429\n"
     ]
    },
    {
     "name": "stderr",
     "output_type": "stream",
     "text": [
      "Training Epoch 1442: 100%|██████████| 373/373 [00:01<00:00, 186.57it/s]\n",
      "Training Epoch 1443: 100%|██████████| 373/373 [00:01<00:00, 191.49it/s]\n",
      "Training Epoch 1444: 100%|██████████| 373/373 [00:02<00:00, 181.19it/s]\n",
      "Training Epoch 1445: 100%|██████████| 373/373 [00:01<00:00, 189.69it/s]\n",
      "Training Epoch 1446: 100%|██████████| 373/373 [00:01<00:00, 190.84it/s]\n",
      "Training Epoch 1447: 100%|██████████| 373/373 [00:01<00:00, 187.25it/s]\n",
      "Training Epoch 1448: 100%|██████████| 373/373 [00:02<00:00, 185.64it/s]\n",
      "Training Epoch 1449: 100%|██████████| 373/373 [00:02<00:00, 185.32it/s]\n",
      "Training Epoch 1450: 100%|██████████| 373/373 [00:01<00:00, 189.40it/s]\n",
      "Training Epoch 1451: 100%|██████████| 373/373 [00:01<00:00, 191.79it/s]\n"
     ]
    },
    {
     "name": "stdout",
     "output_type": "stream",
     "text": [
      "Epoch 1450 - Train Loss: 0.3559, Train MSE: 0.3567, Train MAE: 0.3901\n",
      "Epoch 1450 - Validation Loss: 1.2042, Validation MSE: 1.2055, Validation MAE: 0.7402\n"
     ]
    },
    {
     "name": "stderr",
     "output_type": "stream",
     "text": [
      "Training Epoch 1452: 100%|██████████| 373/373 [00:01<00:00, 187.26it/s]\n",
      "Training Epoch 1453: 100%|██████████| 373/373 [00:01<00:00, 189.69it/s]\n",
      "Training Epoch 1454: 100%|██████████| 373/373 [00:02<00:00, 186.45it/s]\n",
      "Training Epoch 1455: 100%|██████████| 373/373 [00:01<00:00, 188.53it/s]\n",
      "Training Epoch 1456: 100%|██████████| 373/373 [00:01<00:00, 190.02it/s]\n",
      "Training Epoch 1457: 100%|██████████| 373/373 [00:01<00:00, 189.84it/s]\n",
      "Training Epoch 1458: 100%|██████████| 373/373 [00:01<00:00, 192.92it/s]\n",
      "Training Epoch 1459: 100%|██████████| 373/373 [00:01<00:00, 186.76it/s]\n",
      "Training Epoch 1460: 100%|██████████| 373/373 [00:01<00:00, 190.97it/s]\n",
      "Training Epoch 1461: 100%|██████████| 373/373 [00:01<00:00, 189.10it/s]\n"
     ]
    },
    {
     "name": "stdout",
     "output_type": "stream",
     "text": [
      "Epoch 1460 - Train Loss: 0.3627, Train MSE: 0.3622, Train MAE: 0.3940\n",
      "Epoch 1460 - Validation Loss: 1.2159, Validation MSE: 1.2180, Validation MAE: 0.7448\n"
     ]
    },
    {
     "name": "stderr",
     "output_type": "stream",
     "text": [
      "Training Epoch 1462: 100%|██████████| 373/373 [00:01<00:00, 190.90it/s]\n",
      "Training Epoch 1463: 100%|██████████| 373/373 [00:01<00:00, 192.79it/s]\n",
      "Training Epoch 1464: 100%|██████████| 373/373 [00:01<00:00, 186.77it/s]\n",
      "Training Epoch 1465: 100%|██████████| 373/373 [00:01<00:00, 194.90it/s]\n",
      "Training Epoch 1466: 100%|██████████| 373/373 [00:01<00:00, 188.34it/s]\n",
      "Training Epoch 1467: 100%|██████████| 373/373 [00:01<00:00, 189.64it/s]\n",
      "Training Epoch 1468: 100%|██████████| 373/373 [00:01<00:00, 192.55it/s]\n",
      "Training Epoch 1469: 100%|██████████| 373/373 [00:02<00:00, 185.10it/s]\n",
      "Training Epoch 1470: 100%|██████████| 373/373 [00:01<00:00, 187.88it/s]\n",
      "Training Epoch 1471: 100%|██████████| 373/373 [00:01<00:00, 188.52it/s]\n"
     ]
    },
    {
     "name": "stdout",
     "output_type": "stream",
     "text": [
      "Epoch 1470 - Train Loss: 0.3529, Train MSE: 0.3512, Train MAE: 0.3877\n",
      "Epoch 1470 - Validation Loss: 1.2119, Validation MSE: 1.2140, Validation MAE: 0.7419\n"
     ]
    },
    {
     "name": "stderr",
     "output_type": "stream",
     "text": [
      "Training Epoch 1472: 100%|██████████| 373/373 [00:01<00:00, 192.09it/s]\n",
      "Training Epoch 1473: 100%|██████████| 373/373 [00:01<00:00, 191.12it/s]\n",
      "Training Epoch 1474: 100%|██████████| 373/373 [00:02<00:00, 185.78it/s]\n",
      "Training Epoch 1475: 100%|██████████| 373/373 [00:01<00:00, 193.09it/s]\n",
      "Training Epoch 1476: 100%|██████████| 373/373 [00:01<00:00, 190.16it/s]\n",
      "Training Epoch 1477: 100%|██████████| 373/373 [00:01<00:00, 187.04it/s]\n",
      "Training Epoch 1478: 100%|██████████| 373/373 [00:01<00:00, 194.92it/s]\n",
      "Training Epoch 1479: 100%|██████████| 373/373 [00:01<00:00, 188.60it/s]\n",
      "Training Epoch 1480: 100%|██████████| 373/373 [00:01<00:00, 194.30it/s]\n",
      "Training Epoch 1481: 100%|██████████| 373/373 [00:01<00:00, 189.19it/s]\n"
     ]
    },
    {
     "name": "stdout",
     "output_type": "stream",
     "text": [
      "Epoch 1480 - Train Loss: 0.3490, Train MSE: 0.3498, Train MAE: 0.3867\n",
      "Epoch 1480 - Validation Loss: 1.2023, Validation MSE: 1.2039, Validation MAE: 0.7333\n"
     ]
    },
    {
     "name": "stderr",
     "output_type": "stream",
     "text": [
      "Training Epoch 1482: 100%|██████████| 373/373 [00:01<00:00, 192.39it/s]\n",
      "Training Epoch 1483: 100%|██████████| 373/373 [00:01<00:00, 191.19it/s]\n",
      "Training Epoch 1484: 100%|██████████| 373/373 [00:01<00:00, 189.95it/s]\n",
      "Training Epoch 1485: 100%|██████████| 373/373 [00:01<00:00, 186.85it/s]\n",
      "Training Epoch 1486: 100%|██████████| 373/373 [00:01<00:00, 190.03it/s]\n",
      "Training Epoch 1487: 100%|██████████| 373/373 [00:01<00:00, 191.39it/s]\n",
      "Training Epoch 1488: 100%|██████████| 373/373 [00:01<00:00, 191.00it/s]\n",
      "Training Epoch 1489: 100%|██████████| 373/373 [00:01<00:00, 188.31it/s]\n",
      "Training Epoch 1490: 100%|██████████| 373/373 [00:01<00:00, 191.15it/s]\n",
      "Training Epoch 1491: 100%|██████████| 373/373 [00:01<00:00, 189.17it/s]\n"
     ]
    },
    {
     "name": "stdout",
     "output_type": "stream",
     "text": [
      "Epoch 1490 - Train Loss: 0.3550, Train MSE: 0.3553, Train MAE: 0.3876\n",
      "Epoch 1490 - Validation Loss: 1.2164, Validation MSE: 1.2185, Validation MAE: 0.7406\n"
     ]
    },
    {
     "name": "stderr",
     "output_type": "stream",
     "text": [
      "Training Epoch 1492: 100%|██████████| 373/373 [00:01<00:00, 187.15it/s]\n",
      "Training Epoch 1493: 100%|██████████| 373/373 [00:01<00:00, 191.98it/s]\n",
      "Training Epoch 1494: 100%|██████████| 373/373 [00:01<00:00, 191.48it/s]\n",
      "Training Epoch 1495: 100%|██████████| 373/373 [00:01<00:00, 193.06it/s]\n",
      "Training Epoch 1496: 100%|██████████| 373/373 [00:01<00:00, 191.87it/s]\n",
      "Training Epoch 1497: 100%|██████████| 373/373 [00:01<00:00, 189.17it/s]\n",
      "Training Epoch 1498: 100%|██████████| 373/373 [00:01<00:00, 192.99it/s]\n",
      "Training Epoch 1499: 100%|██████████| 373/373 [00:01<00:00, 189.82it/s]\n",
      "Training Epoch 1500: 100%|██████████| 373/373 [00:02<00:00, 185.54it/s]\n",
      "Training Epoch 1501: 100%|██████████| 373/373 [00:01<00:00, 189.30it/s]\n"
     ]
    },
    {
     "name": "stdout",
     "output_type": "stream",
     "text": [
      "Epoch 1500 - Train Loss: 0.3534, Train MSE: 0.3542, Train MAE: 0.3924\n",
      "Epoch 1500 - Validation Loss: 1.1926, Validation MSE: 1.1947, Validation MAE: 0.7356\n"
     ]
    },
    {
     "name": "stderr",
     "output_type": "stream",
     "text": [
      "Training Epoch 1502: 100%|██████████| 373/373 [00:01<00:00, 189.85it/s]\n",
      "Training Epoch 1503: 100%|██████████| 373/373 [00:01<00:00, 191.99it/s]\n",
      "Training Epoch 1504: 100%|██████████| 373/373 [00:02<00:00, 185.84it/s]\n",
      "Training Epoch 1505: 100%|██████████| 373/373 [00:01<00:00, 190.29it/s]\n",
      "Training Epoch 1506: 100%|██████████| 373/373 [00:01<00:00, 188.54it/s]\n",
      "Training Epoch 1507: 100%|██████████| 373/373 [00:02<00:00, 185.12it/s]\n",
      "Training Epoch 1508: 100%|██████████| 373/373 [00:01<00:00, 193.23it/s]\n",
      "Training Epoch 1509: 100%|██████████| 373/373 [00:01<00:00, 190.67it/s]\n",
      "Training Epoch 1510: 100%|██████████| 373/373 [00:01<00:00, 195.69it/s]\n",
      "Training Epoch 1511: 100%|██████████| 373/373 [00:01<00:00, 189.31it/s]\n"
     ]
    },
    {
     "name": "stdout",
     "output_type": "stream",
     "text": [
      "Epoch 1510 - Train Loss: 0.3527, Train MSE: 0.3494, Train MAE: 0.3858\n",
      "Epoch 1510 - Validation Loss: 1.1961, Validation MSE: 1.1979, Validation MAE: 0.7330\n"
     ]
    },
    {
     "name": "stderr",
     "output_type": "stream",
     "text": [
      "Training Epoch 1512: 100%|██████████| 373/373 [00:01<00:00, 188.21it/s]\n",
      "Training Epoch 1513: 100%|██████████| 373/373 [00:01<00:00, 189.70it/s]\n",
      "Training Epoch 1514: 100%|██████████| 373/373 [00:01<00:00, 190.22it/s]\n",
      "Training Epoch 1515: 100%|██████████| 373/373 [00:01<00:00, 194.43it/s]\n",
      "Training Epoch 1516: 100%|██████████| 373/373 [00:01<00:00, 186.89it/s]\n",
      "Training Epoch 1517: 100%|██████████| 373/373 [00:01<00:00, 189.49it/s]\n",
      "Training Epoch 1518: 100%|██████████| 373/373 [00:01<00:00, 193.98it/s]\n",
      "Training Epoch 1519: 100%|██████████| 373/373 [00:01<00:00, 189.17it/s]\n",
      "Training Epoch 1520: 100%|██████████| 373/373 [00:02<00:00, 184.93it/s]\n",
      "Training Epoch 1521: 100%|██████████| 373/373 [00:02<00:00, 186.24it/s]\n"
     ]
    },
    {
     "name": "stdout",
     "output_type": "stream",
     "text": [
      "Epoch 1520 - Train Loss: 0.3522, Train MSE: 0.3522, Train MAE: 0.3889\n",
      "Epoch 1520 - Validation Loss: 1.2152, Validation MSE: 1.2174, Validation MAE: 0.7420\n"
     ]
    },
    {
     "name": "stderr",
     "output_type": "stream",
     "text": [
      "Training Epoch 1522: 100%|██████████| 373/373 [00:02<00:00, 185.93it/s]\n",
      "Training Epoch 1523: 100%|██████████| 373/373 [00:01<00:00, 190.99it/s]\n",
      "Training Epoch 1524: 100%|██████████| 373/373 [00:01<00:00, 191.93it/s]\n",
      "Training Epoch 1525: 100%|██████████| 373/373 [00:01<00:00, 192.77it/s]\n",
      "Training Epoch 1526: 100%|██████████| 373/373 [00:01<00:00, 186.56it/s]\n",
      "Training Epoch 1527: 100%|██████████| 373/373 [00:01<00:00, 190.55it/s]\n",
      "Training Epoch 1528: 100%|██████████| 373/373 [00:01<00:00, 190.67it/s]\n",
      "Training Epoch 1529: 100%|██████████| 373/373 [00:01<00:00, 187.11it/s]\n",
      "Training Epoch 1530: 100%|██████████| 373/373 [00:01<00:00, 192.34it/s]\n",
      "Training Epoch 1531: 100%|██████████| 373/373 [00:01<00:00, 189.08it/s]\n"
     ]
    },
    {
     "name": "stdout",
     "output_type": "stream",
     "text": [
      "Epoch 1530 - Train Loss: 0.3493, Train MSE: 0.3500, Train MAE: 0.3864\n",
      "Epoch 1530 - Validation Loss: 1.1969, Validation MSE: 1.1990, Validation MAE: 0.7344\n"
     ]
    },
    {
     "name": "stderr",
     "output_type": "stream",
     "text": [
      "Training Epoch 1532: 100%|██████████| 373/373 [00:01<00:00, 190.70it/s]\n",
      "Training Epoch 1533: 100%|██████████| 373/373 [00:01<00:00, 187.42it/s]\n",
      "Training Epoch 1534: 100%|██████████| 373/373 [00:01<00:00, 193.12it/s]\n",
      "Training Epoch 1535: 100%|██████████| 373/373 [00:01<00:00, 192.78it/s]\n",
      "Training Epoch 1536: 100%|██████████| 373/373 [00:01<00:00, 190.03it/s]\n",
      "Training Epoch 1537: 100%|██████████| 373/373 [00:01<00:00, 187.27it/s]\n",
      "Training Epoch 1538: 100%|██████████| 373/373 [00:01<00:00, 193.61it/s]\n",
      "Training Epoch 1539: 100%|██████████| 373/373 [00:01<00:00, 193.78it/s]\n",
      "Training Epoch 1540: 100%|██████████| 373/373 [00:01<00:00, 192.90it/s]\n",
      "Training Epoch 1541: 100%|██████████| 373/373 [00:01<00:00, 190.62it/s]\n"
     ]
    },
    {
     "name": "stdout",
     "output_type": "stream",
     "text": [
      "Epoch 1540 - Train Loss: 0.3531, Train MSE: 0.3499, Train MAE: 0.3862\n",
      "Epoch 1540 - Validation Loss: 1.2136, Validation MSE: 1.2155, Validation MAE: 0.7474\n"
     ]
    },
    {
     "name": "stderr",
     "output_type": "stream",
     "text": [
      "Training Epoch 1542: 100%|██████████| 373/373 [00:01<00:00, 190.51it/s]\n",
      "Training Epoch 1543: 100%|██████████| 373/373 [00:01<00:00, 189.60it/s]\n",
      "Training Epoch 1544: 100%|██████████| 373/373 [00:01<00:00, 188.82it/s]\n",
      "Training Epoch 1545: 100%|██████████| 373/373 [00:01<00:00, 192.23it/s]\n",
      "Training Epoch 1546: 100%|██████████| 373/373 [00:01<00:00, 189.78it/s]\n",
      "Training Epoch 1547: 100%|██████████| 373/373 [00:01<00:00, 194.09it/s]\n",
      "Training Epoch 1548: 100%|██████████| 373/373 [00:01<00:00, 194.21it/s]\n",
      "Training Epoch 1549: 100%|██████████| 373/373 [00:01<00:00, 191.89it/s]\n",
      "Training Epoch 1550: 100%|██████████| 373/373 [00:01<00:00, 190.99it/s]\n",
      "Training Epoch 1551: 100%|██████████| 373/373 [00:02<00:00, 185.25it/s]\n"
     ]
    },
    {
     "name": "stdout",
     "output_type": "stream",
     "text": [
      "Epoch 1550 - Train Loss: 0.3447, Train MSE: 0.3455, Train MAE: 0.3839\n",
      "Epoch 1550 - Validation Loss: 1.1961, Validation MSE: 1.1982, Validation MAE: 0.7378\n"
     ]
    },
    {
     "name": "stderr",
     "output_type": "stream",
     "text": [
      "Training Epoch 1552: 100%|██████████| 373/373 [00:01<00:00, 187.58it/s]\n",
      "Training Epoch 1553: 100%|██████████| 373/373 [00:01<00:00, 191.89it/s]\n",
      "Training Epoch 1554: 100%|██████████| 373/373 [00:01<00:00, 188.94it/s]\n",
      "Training Epoch 1555: 100%|██████████| 373/373 [00:01<00:00, 193.17it/s]\n",
      "Training Epoch 1556: 100%|██████████| 373/373 [00:01<00:00, 190.25it/s]\n",
      "Training Epoch 1557: 100%|██████████| 373/373 [00:01<00:00, 189.55it/s]\n",
      "Training Epoch 1558: 100%|██████████| 373/373 [00:01<00:00, 189.14it/s]\n",
      "Training Epoch 1559: 100%|██████████| 373/373 [00:01<00:00, 186.66it/s]\n",
      "Training Epoch 1560: 100%|██████████| 373/373 [00:01<00:00, 191.27it/s]\n",
      "Training Epoch 1561: 100%|██████████| 373/373 [00:01<00:00, 192.07it/s]\n"
     ]
    },
    {
     "name": "stdout",
     "output_type": "stream",
     "text": [
      "Epoch 1560 - Train Loss: 0.3430, Train MSE: 0.3434, Train MAE: 0.3843\n",
      "Epoch 1560 - Validation Loss: 1.1906, Validation MSE: 1.1930, Validation MAE: 0.7335\n"
     ]
    },
    {
     "name": "stderr",
     "output_type": "stream",
     "text": [
      "Training Epoch 1562: 100%|██████████| 373/373 [00:01<00:00, 190.65it/s]\n",
      "Training Epoch 1563: 100%|██████████| 373/373 [00:01<00:00, 190.84it/s]\n",
      "Training Epoch 1564: 100%|██████████| 373/373 [00:01<00:00, 190.29it/s]\n",
      "Training Epoch 1565: 100%|██████████| 373/373 [00:01<00:00, 189.21it/s]\n",
      "Training Epoch 1566: 100%|██████████| 373/373 [00:02<00:00, 183.83it/s]\n",
      "Training Epoch 1567: 100%|██████████| 373/373 [00:01<00:00, 193.03it/s]\n",
      "Training Epoch 1568: 100%|██████████| 373/373 [00:01<00:00, 194.55it/s]\n",
      "Training Epoch 1569: 100%|██████████| 373/373 [00:01<00:00, 189.12it/s]\n",
      "Training Epoch 1570: 100%|██████████| 373/373 [00:01<00:00, 192.68it/s]\n",
      "Training Epoch 1571: 100%|██████████| 373/373 [00:01<00:00, 192.53it/s]\n"
     ]
    },
    {
     "name": "stdout",
     "output_type": "stream",
     "text": [
      "Epoch 1570 - Train Loss: 0.3415, Train MSE: 0.3423, Train MAE: 0.3846\n",
      "Epoch 1570 - Validation Loss: 1.2084, Validation MSE: 1.2107, Validation MAE: 0.7375\n"
     ]
    },
    {
     "name": "stderr",
     "output_type": "stream",
     "text": [
      "Training Epoch 1572: 100%|██████████| 373/373 [00:01<00:00, 188.78it/s]\n",
      "Training Epoch 1573: 100%|██████████| 373/373 [00:01<00:00, 189.88it/s]\n",
      "Training Epoch 1574: 100%|██████████| 373/373 [00:02<00:00, 184.30it/s]\n",
      "Training Epoch 1575: 100%|██████████| 373/373 [00:01<00:00, 192.01it/s]\n",
      "Training Epoch 1576: 100%|██████████| 373/373 [00:01<00:00, 193.51it/s]\n",
      "Training Epoch 1577: 100%|██████████| 373/373 [00:01<00:00, 191.99it/s]\n",
      "Training Epoch 1578: 100%|██████████| 373/373 [00:01<00:00, 194.08it/s]\n",
      "Training Epoch 1579: 100%|██████████| 373/373 [00:01<00:00, 190.85it/s]\n",
      "Training Epoch 1580: 100%|██████████| 373/373 [00:01<00:00, 187.24it/s]\n",
      "Training Epoch 1581: 100%|██████████| 373/373 [00:01<00:00, 188.28it/s]\n"
     ]
    },
    {
     "name": "stdout",
     "output_type": "stream",
     "text": [
      "Epoch 1580 - Train Loss: 0.3385, Train MSE: 0.3391, Train MAE: 0.3807\n",
      "Epoch 1580 - Validation Loss: 1.2188, Validation MSE: 1.2207, Validation MAE: 0.7408\n"
     ]
    },
    {
     "name": "stderr",
     "output_type": "stream",
     "text": [
      "Training Epoch 1582: 100%|██████████| 373/373 [00:01<00:00, 187.70it/s]\n",
      "Training Epoch 1583: 100%|██████████| 373/373 [00:01<00:00, 188.39it/s]\n",
      "Training Epoch 1584: 100%|██████████| 373/373 [00:01<00:00, 187.97it/s]\n",
      "Training Epoch 1585: 100%|██████████| 373/373 [00:01<00:00, 192.89it/s]\n",
      "Training Epoch 1586: 100%|██████████| 373/373 [00:01<00:00, 192.90it/s]\n",
      "Training Epoch 1587: 100%|██████████| 373/373 [00:01<00:00, 192.54it/s]\n",
      "Training Epoch 1588: 100%|██████████| 373/373 [00:01<00:00, 191.29it/s]\n",
      "Training Epoch 1589: 100%|██████████| 373/373 [00:02<00:00, 186.02it/s]\n",
      "Training Epoch 1590: 100%|██████████| 373/373 [00:01<00:00, 192.08it/s]\n",
      "Training Epoch 1591: 100%|██████████| 373/373 [00:01<00:00, 196.16it/s]\n"
     ]
    },
    {
     "name": "stdout",
     "output_type": "stream",
     "text": [
      "Epoch 1590 - Train Loss: 0.3468, Train MSE: 0.3476, Train MAE: 0.3849\n",
      "Epoch 1590 - Validation Loss: 1.2051, Validation MSE: 1.2068, Validation MAE: 0.7405\n"
     ]
    },
    {
     "name": "stderr",
     "output_type": "stream",
     "text": [
      "Training Epoch 1592: 100%|██████████| 373/373 [00:01<00:00, 190.22it/s]\n",
      "Training Epoch 1593: 100%|██████████| 373/373 [00:01<00:00, 196.87it/s]\n",
      "Training Epoch 1594: 100%|██████████| 373/373 [00:01<00:00, 192.45it/s]\n",
      "Training Epoch 1595: 100%|██████████| 373/373 [00:01<00:00, 189.50it/s]\n",
      "Training Epoch 1596: 100%|██████████| 373/373 [00:01<00:00, 190.63it/s]\n",
      "Training Epoch 1597: 100%|██████████| 373/373 [00:01<00:00, 188.64it/s]\n",
      "Training Epoch 1598: 100%|██████████| 373/373 [00:01<00:00, 194.42it/s]\n",
      "Training Epoch 1599: 100%|██████████| 373/373 [00:01<00:00, 191.09it/s]\n",
      "Training Epoch 1600: 100%|██████████| 373/373 [00:01<00:00, 191.70it/s]\n",
      "Training Epoch 1601: 100%|██████████| 373/373 [00:01<00:00, 188.49it/s]\n"
     ]
    },
    {
     "name": "stdout",
     "output_type": "stream",
     "text": [
      "Epoch 1600 - Train Loss: 0.3429, Train MSE: 0.3434, Train MAE: 0.3823\n",
      "Epoch 1600 - Validation Loss: 1.1990, Validation MSE: 1.2010, Validation MAE: 0.7345\n"
     ]
    },
    {
     "name": "stderr",
     "output_type": "stream",
     "text": [
      "Training Epoch 1602: 100%|██████████| 373/373 [00:01<00:00, 188.76it/s]\n",
      "Training Epoch 1603: 100%|██████████| 373/373 [00:01<00:00, 192.15it/s]\n",
      "Training Epoch 1604: 100%|██████████| 373/373 [00:01<00:00, 187.24it/s]\n",
      "Training Epoch 1605: 100%|██████████| 373/373 [00:01<00:00, 193.42it/s]\n",
      "Training Epoch 1606: 100%|██████████| 373/373 [00:01<00:00, 193.81it/s]\n",
      "Training Epoch 1607: 100%|██████████| 373/373 [00:01<00:00, 191.80it/s]\n",
      "Training Epoch 1608: 100%|██████████| 373/373 [00:01<00:00, 192.76it/s]\n",
      "Training Epoch 1609: 100%|██████████| 373/373 [00:02<00:00, 184.12it/s]\n",
      "Training Epoch 1610: 100%|██████████| 373/373 [00:01<00:00, 193.05it/s]\n",
      "Training Epoch 1611: 100%|██████████| 373/373 [00:02<00:00, 185.81it/s]\n"
     ]
    },
    {
     "name": "stdout",
     "output_type": "stream",
     "text": [
      "Epoch 1610 - Train Loss: 0.3411, Train MSE: 0.3419, Train MAE: 0.3839\n",
      "Epoch 1610 - Validation Loss: 1.1887, Validation MSE: 1.1910, Validation MAE: 0.7324\n"
     ]
    },
    {
     "name": "stderr",
     "output_type": "stream",
     "text": [
      "Training Epoch 1612: 100%|██████████| 373/373 [00:01<00:00, 187.25it/s]\n",
      "Training Epoch 1613: 100%|██████████| 373/373 [00:01<00:00, 191.20it/s]\n",
      "Training Epoch 1614: 100%|██████████| 373/373 [00:02<00:00, 185.95it/s]\n",
      "Training Epoch 1615: 100%|██████████| 373/373 [00:01<00:00, 190.20it/s]\n",
      "Training Epoch 1616: 100%|██████████| 373/373 [00:01<00:00, 193.25it/s]\n",
      "Training Epoch 1617: 100%|██████████| 373/373 [00:02<00:00, 185.49it/s]\n",
      "Training Epoch 1618: 100%|██████████| 373/373 [00:01<00:00, 189.73it/s]\n",
      "Training Epoch 1619: 100%|██████████| 373/373 [00:01<00:00, 187.88it/s]\n",
      "Training Epoch 1620: 100%|██████████| 373/373 [00:01<00:00, 192.25it/s]\n",
      "Training Epoch 1621: 100%|██████████| 373/373 [00:01<00:00, 189.98it/s]\n"
     ]
    },
    {
     "name": "stdout",
     "output_type": "stream",
     "text": [
      "Epoch 1620 - Train Loss: 0.3482, Train MSE: 0.3480, Train MAE: 0.3846\n",
      "Epoch 1620 - Validation Loss: 1.1998, Validation MSE: 1.2021, Validation MAE: 0.7317\n"
     ]
    },
    {
     "name": "stderr",
     "output_type": "stream",
     "text": [
      "Training Epoch 1622: 100%|██████████| 373/373 [00:01<00:00, 189.04it/s]\n",
      "Training Epoch 1623: 100%|██████████| 373/373 [00:01<00:00, 191.78it/s]\n",
      "Training Epoch 1624: 100%|██████████| 373/373 [00:01<00:00, 186.68it/s]\n",
      "Training Epoch 1625: 100%|██████████| 373/373 [00:01<00:00, 190.66it/s]\n",
      "Training Epoch 1626: 100%|██████████| 373/373 [00:01<00:00, 187.25it/s]\n",
      "Training Epoch 1627: 100%|██████████| 373/373 [00:01<00:00, 192.75it/s]\n",
      "Training Epoch 1628: 100%|██████████| 373/373 [00:01<00:00, 190.40it/s]\n",
      "Training Epoch 1629: 100%|██████████| 373/373 [00:01<00:00, 189.77it/s]\n",
      "Training Epoch 1630: 100%|██████████| 373/373 [00:01<00:00, 191.58it/s]\n",
      "Training Epoch 1631: 100%|██████████| 373/373 [00:01<00:00, 189.85it/s]\n"
     ]
    },
    {
     "name": "stdout",
     "output_type": "stream",
     "text": [
      "Epoch 1630 - Train Loss: 0.3350, Train MSE: 0.3346, Train MAE: 0.3773\n",
      "Epoch 1630 - Validation Loss: 1.2012, Validation MSE: 1.2033, Validation MAE: 0.7361\n"
     ]
    },
    {
     "name": "stderr",
     "output_type": "stream",
     "text": [
      "Training Epoch 1632: 100%|██████████| 373/373 [00:01<00:00, 188.05it/s]\n",
      "Training Epoch 1633: 100%|██████████| 373/373 [00:02<00:00, 186.44it/s]\n",
      "Training Epoch 1634: 100%|██████████| 373/373 [00:01<00:00, 188.35it/s]\n",
      "Training Epoch 1635: 100%|██████████| 373/373 [00:01<00:00, 192.62it/s]\n",
      "Training Epoch 1636: 100%|██████████| 373/373 [00:01<00:00, 191.05it/s]\n",
      "Training Epoch 1637: 100%|██████████| 373/373 [00:01<00:00, 186.69it/s]\n",
      "Training Epoch 1638: 100%|██████████| 373/373 [00:01<00:00, 187.42it/s]\n",
      "Training Epoch 1639: 100%|██████████| 373/373 [00:01<00:00, 190.12it/s]\n",
      "Training Epoch 1640: 100%|██████████| 373/373 [00:01<00:00, 190.82it/s]\n",
      "Training Epoch 1641: 100%|██████████| 373/373 [00:02<00:00, 185.78it/s]\n"
     ]
    },
    {
     "name": "stdout",
     "output_type": "stream",
     "text": [
      "Epoch 1640 - Train Loss: 0.3410, Train MSE: 0.3418, Train MAE: 0.3822\n",
      "Epoch 1640 - Validation Loss: 1.2013, Validation MSE: 1.2033, Validation MAE: 0.7383\n"
     ]
    },
    {
     "name": "stderr",
     "output_type": "stream",
     "text": [
      "Training Epoch 1642: 100%|██████████| 373/373 [00:01<00:00, 190.32it/s]\n",
      "Training Epoch 1643: 100%|██████████| 373/373 [00:01<00:00, 191.74it/s]\n",
      "Training Epoch 1644: 100%|██████████| 373/373 [00:01<00:00, 189.41it/s]\n",
      "Training Epoch 1645: 100%|██████████| 373/373 [00:01<00:00, 193.53it/s]\n",
      "Training Epoch 1646: 100%|██████████| 373/373 [00:01<00:00, 190.61it/s]\n",
      "Training Epoch 1647: 100%|██████████| 373/373 [00:01<00:00, 191.80it/s]\n",
      "Training Epoch 1648: 100%|██████████| 373/373 [00:02<00:00, 186.00it/s]\n",
      "Training Epoch 1649: 100%|██████████| 373/373 [00:01<00:00, 188.56it/s]\n",
      "Training Epoch 1650: 100%|██████████| 373/373 [00:01<00:00, 197.86it/s]\n",
      "Training Epoch 1651: 100%|██████████| 373/373 [00:01<00:00, 193.75it/s]\n"
     ]
    },
    {
     "name": "stdout",
     "output_type": "stream",
     "text": [
      "Epoch 1650 - Train Loss: 0.3361, Train MSE: 0.3369, Train MAE: 0.3795\n",
      "Epoch 1650 - Validation Loss: 1.2002, Validation MSE: 1.2020, Validation MAE: 0.7384\n"
     ]
    },
    {
     "name": "stderr",
     "output_type": "stream",
     "text": [
      "Training Epoch 1652: 100%|██████████| 373/373 [00:01<00:00, 189.04it/s]\n",
      "Training Epoch 1653: 100%|██████████| 373/373 [00:01<00:00, 191.59it/s]\n",
      "Training Epoch 1654: 100%|██████████| 373/373 [00:01<00:00, 187.46it/s]\n",
      "Training Epoch 1655: 100%|██████████| 373/373 [00:01<00:00, 192.29it/s]\n",
      "Training Epoch 1656: 100%|██████████| 373/373 [00:02<00:00, 185.15it/s]\n",
      "Training Epoch 1657: 100%|██████████| 373/373 [00:01<00:00, 187.93it/s]\n",
      "Training Epoch 1658: 100%|██████████| 373/373 [00:01<00:00, 191.15it/s]\n",
      "Training Epoch 1659: 100%|██████████| 373/373 [00:01<00:00, 190.00it/s]\n",
      "Training Epoch 1660: 100%|██████████| 373/373 [00:01<00:00, 189.82it/s]\n",
      "Training Epoch 1661: 100%|██████████| 373/373 [00:01<00:00, 192.28it/s]\n"
     ]
    },
    {
     "name": "stdout",
     "output_type": "stream",
     "text": [
      "Epoch 1660 - Train Loss: 0.3376, Train MSE: 0.3384, Train MAE: 0.3814\n",
      "Epoch 1660 - Validation Loss: 1.1962, Validation MSE: 1.1985, Validation MAE: 0.7315\n"
     ]
    },
    {
     "name": "stderr",
     "output_type": "stream",
     "text": [
      "Training Epoch 1662: 100%|██████████| 373/373 [00:01<00:00, 188.53it/s]\n",
      "Training Epoch 1663: 100%|██████████| 373/373 [00:02<00:00, 186.25it/s]\n",
      "Training Epoch 1664: 100%|██████████| 373/373 [00:01<00:00, 190.51it/s]\n",
      "Training Epoch 1665: 100%|██████████| 373/373 [00:01<00:00, 193.66it/s]\n",
      "Training Epoch 1666: 100%|██████████| 373/373 [00:01<00:00, 192.03it/s]\n",
      "Training Epoch 1667: 100%|██████████| 373/373 [00:01<00:00, 187.69it/s]\n",
      "Training Epoch 1668: 100%|██████████| 373/373 [00:01<00:00, 189.50it/s]\n",
      "Training Epoch 1669: 100%|██████████| 373/373 [00:01<00:00, 189.39it/s]\n",
      "Training Epoch 1670: 100%|██████████| 373/373 [00:01<00:00, 187.37it/s]\n",
      "Training Epoch 1671: 100%|██████████| 373/373 [00:01<00:00, 189.64it/s]\n"
     ]
    },
    {
     "name": "stdout",
     "output_type": "stream",
     "text": [
      "Epoch 1670 - Train Loss: 0.3354, Train MSE: 0.3357, Train MAE: 0.3811\n",
      "Epoch 1670 - Validation Loss: 1.1947, Validation MSE: 1.1962, Validation MAE: 0.7340\n"
     ]
    },
    {
     "name": "stderr",
     "output_type": "stream",
     "text": [
      "Training Epoch 1672: 100%|██████████| 373/373 [00:01<00:00, 186.75it/s]\n",
      "Training Epoch 1673: 100%|██████████| 373/373 [00:01<00:00, 191.79it/s]\n",
      "Training Epoch 1674: 100%|██████████| 373/373 [00:01<00:00, 186.65it/s]\n",
      "Training Epoch 1675: 100%|██████████| 373/373 [00:01<00:00, 191.88it/s]\n",
      "Training Epoch 1676: 100%|██████████| 373/373 [00:01<00:00, 193.25it/s]\n",
      "Training Epoch 1677: 100%|██████████| 373/373 [00:01<00:00, 190.78it/s]\n",
      "Training Epoch 1678: 100%|██████████| 373/373 [00:02<00:00, 185.95it/s]\n",
      "Training Epoch 1679: 100%|██████████| 373/373 [00:01<00:00, 187.97it/s]\n",
      "Training Epoch 1680: 100%|██████████| 373/373 [00:01<00:00, 191.94it/s]\n",
      "Training Epoch 1681: 100%|██████████| 373/373 [00:01<00:00, 191.17it/s]\n"
     ]
    },
    {
     "name": "stdout",
     "output_type": "stream",
     "text": [
      "Epoch 1680 - Train Loss: 0.3385, Train MSE: 0.3392, Train MAE: 0.3804\n",
      "Epoch 1680 - Validation Loss: 1.2004, Validation MSE: 1.2025, Validation MAE: 0.7332\n"
     ]
    },
    {
     "name": "stderr",
     "output_type": "stream",
     "text": [
      "Training Epoch 1682: 100%|██████████| 373/373 [00:02<00:00, 185.93it/s]\n",
      "Training Epoch 1683: 100%|██████████| 373/373 [00:01<00:00, 191.24it/s]\n",
      "Training Epoch 1684: 100%|██████████| 373/373 [00:01<00:00, 189.25it/s]\n",
      "Training Epoch 1685: 100%|██████████| 373/373 [00:01<00:00, 186.52it/s]\n",
      "Training Epoch 1686: 100%|██████████| 373/373 [00:01<00:00, 189.55it/s]\n",
      "Training Epoch 1687: 100%|██████████| 373/373 [00:01<00:00, 191.79it/s]\n",
      "Training Epoch 1688: 100%|██████████| 373/373 [00:01<00:00, 191.95it/s]\n",
      "Training Epoch 1689: 100%|██████████| 373/373 [00:01<00:00, 193.72it/s]\n",
      "Training Epoch 1690: 100%|██████████| 373/373 [00:01<00:00, 190.84it/s]\n",
      "Training Epoch 1691: 100%|██████████| 373/373 [00:01<00:00, 191.14it/s]\n"
     ]
    },
    {
     "name": "stdout",
     "output_type": "stream",
     "text": [
      "Epoch 1690 - Train Loss: 0.3312, Train MSE: 0.3319, Train MAE: 0.3781\n",
      "Epoch 1690 - Validation Loss: 1.1855, Validation MSE: 1.1875, Validation MAE: 0.7313\n"
     ]
    },
    {
     "name": "stderr",
     "output_type": "stream",
     "text": [
      "Training Epoch 1692: 100%|██████████| 373/373 [00:01<00:00, 187.75it/s]\n",
      "Training Epoch 1693: 100%|██████████| 373/373 [00:02<00:00, 183.54it/s]\n",
      "Training Epoch 1694: 100%|██████████| 373/373 [00:01<00:00, 187.65it/s]\n",
      "Training Epoch 1695: 100%|██████████| 373/373 [00:01<00:00, 191.99it/s]\n",
      "Training Epoch 1696: 100%|██████████| 373/373 [00:01<00:00, 188.58it/s]\n",
      "Training Epoch 1697: 100%|██████████| 373/373 [00:01<00:00, 189.66it/s]\n",
      "Training Epoch 1698: 100%|██████████| 373/373 [00:01<00:00, 192.36it/s]\n",
      "Training Epoch 1699: 100%|██████████| 373/373 [00:01<00:00, 188.12it/s]\n",
      "Training Epoch 1700: 100%|██████████| 373/373 [00:02<00:00, 186.02it/s]\n",
      "Training Epoch 1701: 100%|██████████| 373/373 [00:01<00:00, 191.18it/s]\n"
     ]
    },
    {
     "name": "stdout",
     "output_type": "stream",
     "text": [
      "Epoch 1700 - Train Loss: 0.3337, Train MSE: 0.3295, Train MAE: 0.3747\n",
      "Epoch 1700 - Validation Loss: 1.1953, Validation MSE: 1.1977, Validation MAE: 0.7357\n"
     ]
    },
    {
     "name": "stderr",
     "output_type": "stream",
     "text": [
      "Training Epoch 1702: 100%|██████████| 373/373 [00:01<00:00, 189.03it/s]\n",
      "Training Epoch 1703: 100%|██████████| 373/373 [00:01<00:00, 192.66it/s]\n",
      "Training Epoch 1704: 100%|██████████| 373/373 [00:01<00:00, 187.01it/s]\n",
      "Training Epoch 1705: 100%|██████████| 373/373 [00:01<00:00, 190.57it/s]\n",
      "Training Epoch 1706: 100%|██████████| 373/373 [00:01<00:00, 191.66it/s]\n",
      "Training Epoch 1707: 100%|██████████| 373/373 [00:01<00:00, 189.57it/s]\n",
      "Training Epoch 1708: 100%|██████████| 373/373 [00:01<00:00, 192.71it/s]\n",
      "Training Epoch 1709: 100%|██████████| 373/373 [00:01<00:00, 190.40it/s]\n",
      "Training Epoch 1710: 100%|██████████| 373/373 [00:01<00:00, 188.24it/s]\n",
      "Training Epoch 1711: 100%|██████████| 373/373 [00:01<00:00, 188.37it/s]\n"
     ]
    },
    {
     "name": "stdout",
     "output_type": "stream",
     "text": [
      "Epoch 1710 - Train Loss: 0.3347, Train MSE: 0.3354, Train MAE: 0.3803\n",
      "Epoch 1710 - Validation Loss: 1.2001, Validation MSE: 1.2019, Validation MAE: 0.7365\n"
     ]
    },
    {
     "name": "stderr",
     "output_type": "stream",
     "text": [
      "Training Epoch 1712: 100%|██████████| 373/373 [00:01<00:00, 191.17it/s]\n",
      "Training Epoch 1713: 100%|██████████| 373/373 [00:01<00:00, 193.93it/s]\n",
      "Training Epoch 1714: 100%|██████████| 373/373 [00:01<00:00, 189.48it/s]\n",
      "Training Epoch 1715: 100%|██████████| 373/373 [00:01<00:00, 187.08it/s]\n",
      "Training Epoch 1716: 100%|██████████| 373/373 [00:01<00:00, 189.98it/s]\n",
      "Training Epoch 1717: 100%|██████████| 373/373 [00:01<00:00, 188.94it/s]\n",
      "Training Epoch 1718: 100%|██████████| 373/373 [00:01<00:00, 191.75it/s]\n",
      "Training Epoch 1719: 100%|██████████| 373/373 [00:01<00:00, 191.38it/s]\n",
      "Training Epoch 1720: 100%|██████████| 373/373 [00:01<00:00, 192.20it/s]\n",
      "Training Epoch 1721: 100%|██████████| 373/373 [00:01<00:00, 195.43it/s]\n"
     ]
    },
    {
     "name": "stdout",
     "output_type": "stream",
     "text": [
      "Epoch 1720 - Train Loss: 0.3329, Train MSE: 0.3298, Train MAE: 0.3753\n",
      "Epoch 1720 - Validation Loss: 1.2058, Validation MSE: 1.2077, Validation MAE: 0.7381\n"
     ]
    },
    {
     "name": "stderr",
     "output_type": "stream",
     "text": [
      "Training Epoch 1722: 100%|██████████| 373/373 [00:02<00:00, 184.32it/s]\n",
      "Training Epoch 1723: 100%|██████████| 373/373 [00:01<00:00, 192.92it/s]\n",
      "Training Epoch 1724: 100%|██████████| 373/373 [00:01<00:00, 196.61it/s]\n",
      "Training Epoch 1725: 100%|██████████| 373/373 [00:01<00:00, 192.11it/s]\n",
      "Training Epoch 1726: 100%|██████████| 373/373 [00:01<00:00, 191.67it/s]\n",
      "Training Epoch 1727: 100%|██████████| 373/373 [00:01<00:00, 189.32it/s]\n",
      "Training Epoch 1728: 100%|██████████| 373/373 [00:01<00:00, 192.46it/s]\n",
      "Training Epoch 1729: 100%|██████████| 373/373 [00:01<00:00, 192.63it/s]\n",
      "Training Epoch 1730: 100%|██████████| 373/373 [00:02<00:00, 184.26it/s]\n",
      "Training Epoch 1731: 100%|██████████| 373/373 [00:01<00:00, 190.40it/s]\n"
     ]
    },
    {
     "name": "stdout",
     "output_type": "stream",
     "text": [
      "Epoch 1730 - Train Loss: 0.3318, Train MSE: 0.3325, Train MAE: 0.3745\n",
      "Epoch 1730 - Validation Loss: 1.2033, Validation MSE: 1.2054, Validation MAE: 0.7463\n"
     ]
    },
    {
     "name": "stderr",
     "output_type": "stream",
     "text": [
      "Training Epoch 1732: 100%|██████████| 373/373 [00:02<00:00, 185.28it/s]\n",
      "Training Epoch 1733: 100%|██████████| 373/373 [00:01<00:00, 194.57it/s]\n",
      "Training Epoch 1734: 100%|██████████| 373/373 [00:01<00:00, 196.22it/s]\n",
      "Training Epoch 1735: 100%|██████████| 373/373 [00:01<00:00, 189.90it/s]\n",
      "Training Epoch 1736: 100%|██████████| 373/373 [00:01<00:00, 191.27it/s]\n",
      "Training Epoch 1737: 100%|██████████| 373/373 [00:02<00:00, 185.83it/s]\n",
      "Training Epoch 1738: 100%|██████████| 373/373 [00:01<00:00, 192.35it/s]\n",
      "Training Epoch 1739: 100%|██████████| 373/373 [00:01<00:00, 189.41it/s]\n",
      "Training Epoch 1740: 100%|██████████| 373/373 [00:01<00:00, 187.63it/s]\n",
      "Training Epoch 1741: 100%|██████████| 373/373 [00:01<00:00, 191.62it/s]\n"
     ]
    },
    {
     "name": "stdout",
     "output_type": "stream",
     "text": [
      "Epoch 1740 - Train Loss: 0.3312, Train MSE: 0.3318, Train MAE: 0.3789\n",
      "Epoch 1740 - Validation Loss: 1.1897, Validation MSE: 1.1917, Validation MAE: 0.7331\n"
     ]
    },
    {
     "name": "stderr",
     "output_type": "stream",
     "text": [
      "Training Epoch 1742: 100%|██████████| 373/373 [00:01<00:00, 190.94it/s]\n",
      "Training Epoch 1743: 100%|██████████| 373/373 [00:01<00:00, 191.23it/s]\n",
      "Training Epoch 1744: 100%|██████████| 373/373 [00:01<00:00, 191.84it/s]\n",
      "Training Epoch 1745: 100%|██████████| 373/373 [00:02<00:00, 181.67it/s]\n",
      "Training Epoch 1746: 100%|██████████| 373/373 [00:01<00:00, 189.94it/s]\n",
      "Training Epoch 1747: 100%|██████████| 373/373 [00:01<00:00, 187.37it/s]\n",
      "Training Epoch 1748: 100%|██████████| 373/373 [00:01<00:00, 192.18it/s]\n",
      "Training Epoch 1749: 100%|██████████| 373/373 [00:01<00:00, 190.47it/s]\n",
      "Training Epoch 1750: 100%|██████████| 373/373 [00:01<00:00, 189.05it/s]\n",
      "Training Epoch 1751: 100%|██████████| 373/373 [00:01<00:00, 191.68it/s]\n"
     ]
    },
    {
     "name": "stdout",
     "output_type": "stream",
     "text": [
      "Epoch 1750 - Train Loss: 0.3306, Train MSE: 0.3310, Train MAE: 0.3771\n",
      "Epoch 1750 - Validation Loss: 1.2141, Validation MSE: 1.2159, Validation MAE: 0.7367\n"
     ]
    },
    {
     "name": "stderr",
     "output_type": "stream",
     "text": [
      "Training Epoch 1752: 100%|██████████| 373/373 [00:02<00:00, 184.60it/s]\n",
      "Training Epoch 1753: 100%|██████████| 373/373 [00:01<00:00, 190.63it/s]\n",
      "Training Epoch 1754: 100%|██████████| 373/373 [00:01<00:00, 188.57it/s]\n",
      "Training Epoch 1755: 100%|██████████| 373/373 [00:01<00:00, 191.00it/s]\n",
      "Training Epoch 1756: 100%|██████████| 373/373 [00:01<00:00, 191.46it/s]\n",
      "Training Epoch 1757: 100%|██████████| 373/373 [00:01<00:00, 189.46it/s]\n",
      "Training Epoch 1758: 100%|██████████| 373/373 [00:01<00:00, 192.16it/s]\n",
      "Training Epoch 1759: 100%|██████████| 373/373 [00:01<00:00, 192.11it/s]\n",
      "Training Epoch 1760: 100%|██████████| 373/373 [00:01<00:00, 190.46it/s]\n",
      "Training Epoch 1761: 100%|██████████| 373/373 [00:01<00:00, 190.27it/s]\n"
     ]
    },
    {
     "name": "stdout",
     "output_type": "stream",
     "text": [
      "Epoch 1760 - Train Loss: 0.3302, Train MSE: 0.3309, Train MAE: 0.3763\n",
      "Epoch 1760 - Validation Loss: 1.1939, Validation MSE: 1.1959, Validation MAE: 0.7404\n"
     ]
    },
    {
     "name": "stderr",
     "output_type": "stream",
     "text": [
      "Training Epoch 1762: 100%|██████████| 373/373 [00:01<00:00, 190.66it/s]\n",
      "Training Epoch 1763: 100%|██████████| 373/373 [00:01<00:00, 197.03it/s]\n",
      "Training Epoch 1764: 100%|██████████| 373/373 [00:01<00:00, 194.33it/s]\n",
      "Training Epoch 1765: 100%|██████████| 373/373 [00:01<00:00, 190.68it/s]\n",
      "Training Epoch 1766: 100%|██████████| 373/373 [00:01<00:00, 193.22it/s]\n",
      "Training Epoch 1767: 100%|██████████| 373/373 [00:02<00:00, 184.12it/s]\n",
      "Training Epoch 1768: 100%|██████████| 373/373 [00:01<00:00, 192.17it/s]\n",
      "Training Epoch 1769: 100%|██████████| 373/373 [00:01<00:00, 188.31it/s]\n",
      "Training Epoch 1770: 100%|██████████| 373/373 [00:01<00:00, 189.29it/s]\n",
      "Training Epoch 1771: 100%|██████████| 373/373 [00:01<00:00, 189.96it/s]\n"
     ]
    },
    {
     "name": "stdout",
     "output_type": "stream",
     "text": [
      "Epoch 1770 - Train Loss: 0.3298, Train MSE: 0.3299, Train MAE: 0.3763\n",
      "Epoch 1770 - Validation Loss: 1.2029, Validation MSE: 1.2052, Validation MAE: 0.7345\n"
     ]
    },
    {
     "name": "stderr",
     "output_type": "stream",
     "text": [
      "Training Epoch 1772: 100%|██████████| 373/373 [00:01<00:00, 187.24it/s]\n",
      "Training Epoch 1773: 100%|██████████| 373/373 [00:01<00:00, 189.85it/s]\n",
      "Training Epoch 1774: 100%|██████████| 373/373 [00:01<00:00, 189.49it/s]\n",
      "Training Epoch 1775: 100%|██████████| 373/373 [00:01<00:00, 191.27it/s]\n",
      "Training Epoch 1776: 100%|██████████| 373/373 [00:01<00:00, 190.71it/s]\n",
      "Training Epoch 1777: 100%|██████████| 373/373 [00:01<00:00, 187.24it/s]\n",
      "Training Epoch 1778: 100%|██████████| 373/373 [00:01<00:00, 191.55it/s]\n",
      "Training Epoch 1779: 100%|██████████| 373/373 [00:01<00:00, 190.05it/s]\n",
      "Training Epoch 1780: 100%|██████████| 373/373 [00:01<00:00, 189.19it/s]\n",
      "Training Epoch 1781: 100%|██████████| 373/373 [00:01<00:00, 187.99it/s]\n"
     ]
    },
    {
     "name": "stdout",
     "output_type": "stream",
     "text": [
      "Epoch 1780 - Train Loss: 0.3294, Train MSE: 0.3301, Train MAE: 0.3765\n",
      "Epoch 1780 - Validation Loss: 1.1864, Validation MSE: 1.1881, Validation MAE: 0.7349\n"
     ]
    },
    {
     "name": "stderr",
     "output_type": "stream",
     "text": [
      "Training Epoch 1782: 100%|██████████| 373/373 [00:02<00:00, 183.98it/s]\n",
      "Training Epoch 1783: 100%|██████████| 373/373 [00:01<00:00, 189.40it/s]\n",
      "Training Epoch 1784: 100%|██████████| 373/373 [00:01<00:00, 187.68it/s]\n",
      "Training Epoch 1785: 100%|██████████| 373/373 [00:01<00:00, 187.48it/s]\n",
      "Training Epoch 1786: 100%|██████████| 373/373 [00:01<00:00, 193.24it/s]\n",
      "Training Epoch 1787: 100%|██████████| 373/373 [00:01<00:00, 190.30it/s]\n",
      "Training Epoch 1788: 100%|██████████| 373/373 [00:01<00:00, 189.98it/s]\n",
      "Training Epoch 1789: 100%|██████████| 373/373 [00:01<00:00, 191.07it/s]\n",
      "Training Epoch 1790: 100%|██████████| 373/373 [00:01<00:00, 190.47it/s]\n",
      "Training Epoch 1791: 100%|██████████| 373/373 [00:01<00:00, 191.31it/s]\n"
     ]
    },
    {
     "name": "stdout",
     "output_type": "stream",
     "text": [
      "Epoch 1790 - Train Loss: 0.3293, Train MSE: 0.3277, Train MAE: 0.3741\n",
      "Epoch 1790 - Validation Loss: 1.2044, Validation MSE: 1.2066, Validation MAE: 0.7334\n"
     ]
    },
    {
     "name": "stderr",
     "output_type": "stream",
     "text": [
      "Training Epoch 1792: 100%|██████████| 373/373 [00:02<00:00, 186.36it/s]\n",
      "Training Epoch 1793: 100%|██████████| 373/373 [00:01<00:00, 192.53it/s]\n",
      "Training Epoch 1794: 100%|██████████| 373/373 [00:01<00:00, 187.44it/s]\n",
      "Training Epoch 1795: 100%|██████████| 373/373 [00:01<00:00, 191.71it/s]\n",
      "Training Epoch 1796: 100%|██████████| 373/373 [00:01<00:00, 190.87it/s]\n",
      "Training Epoch 1797: 100%|██████████| 373/373 [00:02<00:00, 180.54it/s]\n",
      "Training Epoch 1798: 100%|██████████| 373/373 [00:01<00:00, 191.57it/s]\n",
      "Training Epoch 1799: 100%|██████████| 373/373 [00:01<00:00, 190.14it/s]\n",
      "Training Epoch 1800: 100%|██████████| 373/373 [00:01<00:00, 190.66it/s]\n",
      "Training Epoch 1801: 100%|██████████| 373/373 [00:01<00:00, 191.57it/s]\n"
     ]
    },
    {
     "name": "stdout",
     "output_type": "stream",
     "text": [
      "Epoch 1800 - Train Loss: 0.3224, Train MSE: 0.3231, Train MAE: 0.3706\n",
      "Epoch 1800 - Validation Loss: 1.1949, Validation MSE: 1.1969, Validation MAE: 0.7384\n"
     ]
    },
    {
     "name": "stderr",
     "output_type": "stream",
     "text": [
      "Training Epoch 1802: 100%|██████████| 373/373 [00:01<00:00, 187.43it/s]\n",
      "Training Epoch 1803: 100%|██████████| 373/373 [00:01<00:00, 191.25it/s]\n",
      "Training Epoch 1804: 100%|██████████| 373/373 [00:02<00:00, 181.16it/s]\n",
      "Training Epoch 1805: 100%|██████████| 373/373 [00:01<00:00, 191.85it/s]\n",
      "Training Epoch 1806: 100%|██████████| 373/373 [00:01<00:00, 191.97it/s]\n",
      "Training Epoch 1807: 100%|██████████| 373/373 [00:02<00:00, 184.90it/s]\n",
      "Training Epoch 1808: 100%|██████████| 373/373 [00:01<00:00, 191.92it/s]\n",
      "Training Epoch 1809: 100%|██████████| 373/373 [00:02<00:00, 184.82it/s]\n",
      "Training Epoch 1810: 100%|██████████| 373/373 [00:01<00:00, 191.89it/s]\n",
      "Training Epoch 1811: 100%|██████████| 373/373 [00:02<00:00, 181.84it/s]\n"
     ]
    },
    {
     "name": "stdout",
     "output_type": "stream",
     "text": [
      "Epoch 1810 - Train Loss: 0.3282, Train MSE: 0.3280, Train MAE: 0.3757\n",
      "Epoch 1810 - Validation Loss: 1.1917, Validation MSE: 1.1940, Validation MAE: 0.7344\n"
     ]
    },
    {
     "name": "stderr",
     "output_type": "stream",
     "text": [
      "Training Epoch 1812: 100%|██████████| 373/373 [00:02<00:00, 183.37it/s]\n",
      "Training Epoch 1813: 100%|██████████| 373/373 [00:01<00:00, 193.17it/s]\n",
      "Training Epoch 1814: 100%|██████████| 373/373 [00:02<00:00, 185.33it/s]\n",
      "Training Epoch 1815: 100%|██████████| 373/373 [00:01<00:00, 192.32it/s]\n",
      "Training Epoch 1816: 100%|██████████| 373/373 [00:01<00:00, 189.97it/s]\n",
      "Training Epoch 1817: 100%|██████████| 373/373 [00:02<00:00, 185.70it/s]\n",
      "Training Epoch 1818: 100%|██████████| 373/373 [00:01<00:00, 192.83it/s]\n",
      "Training Epoch 1819: 100%|██████████| 373/373 [00:02<00:00, 182.66it/s]\n",
      "Training Epoch 1820: 100%|██████████| 373/373 [00:01<00:00, 191.61it/s]\n",
      "Training Epoch 1821: 100%|██████████| 373/373 [00:01<00:00, 192.56it/s]\n"
     ]
    },
    {
     "name": "stdout",
     "output_type": "stream",
     "text": [
      "Epoch 1820 - Train Loss: 0.3282, Train MSE: 0.3264, Train MAE: 0.3736\n",
      "Epoch 1820 - Validation Loss: 1.2002, Validation MSE: 1.2021, Validation MAE: 0.7313\n"
     ]
    },
    {
     "name": "stderr",
     "output_type": "stream",
     "text": [
      "Training Epoch 1822: 100%|██████████| 373/373 [00:02<00:00, 186.05it/s]\n",
      "Training Epoch 1823: 100%|██████████| 373/373 [00:01<00:00, 194.41it/s]\n",
      "Training Epoch 1824: 100%|██████████| 373/373 [00:01<00:00, 187.48it/s]\n",
      "Training Epoch 1825: 100%|██████████| 373/373 [00:01<00:00, 193.93it/s]\n",
      "Training Epoch 1826: 100%|██████████| 373/373 [00:01<00:00, 186.81it/s]\n",
      "Training Epoch 1827: 100%|██████████| 373/373 [00:01<00:00, 187.19it/s]\n",
      "Training Epoch 1828: 100%|██████████| 373/373 [00:01<00:00, 192.07it/s]\n",
      "Training Epoch 1829: 100%|██████████| 373/373 [00:02<00:00, 184.19it/s]\n",
      "Training Epoch 1830: 100%|██████████| 373/373 [00:01<00:00, 190.66it/s]\n",
      "Training Epoch 1831: 100%|██████████| 373/373 [00:01<00:00, 190.58it/s]\n"
     ]
    },
    {
     "name": "stdout",
     "output_type": "stream",
     "text": [
      "Epoch 1830 - Train Loss: 0.3303, Train MSE: 0.3309, Train MAE: 0.3734\n",
      "Epoch 1830 - Validation Loss: 1.1912, Validation MSE: 1.1933, Validation MAE: 0.7319\n"
     ]
    },
    {
     "name": "stderr",
     "output_type": "stream",
     "text": [
      "Training Epoch 1832: 100%|██████████| 373/373 [00:02<00:00, 186.12it/s]\n",
      "Training Epoch 1833: 100%|██████████| 373/373 [00:01<00:00, 189.39it/s]\n",
      "Training Epoch 1834: 100%|██████████| 373/373 [00:02<00:00, 182.27it/s]\n",
      "Training Epoch 1835: 100%|██████████| 373/373 [00:01<00:00, 192.69it/s]\n",
      "Training Epoch 1836: 100%|██████████| 373/373 [00:01<00:00, 189.44it/s]\n",
      "Training Epoch 1837: 100%|██████████| 373/373 [00:01<00:00, 187.27it/s]\n",
      "Training Epoch 1838: 100%|██████████| 373/373 [00:01<00:00, 191.41it/s]\n",
      "Training Epoch 1839: 100%|██████████| 373/373 [00:01<00:00, 189.25it/s]\n",
      "Training Epoch 1840: 100%|██████████| 373/373 [00:01<00:00, 191.10it/s]\n",
      "Training Epoch 1841: 100%|██████████| 373/373 [00:01<00:00, 187.24it/s]\n"
     ]
    },
    {
     "name": "stdout",
     "output_type": "stream",
     "text": [
      "Epoch 1840 - Train Loss: 0.3326, Train MSE: 0.3333, Train MAE: 0.3773\n",
      "Epoch 1840 - Validation Loss: 1.2036, Validation MSE: 1.2053, Validation MAE: 0.7360\n"
     ]
    },
    {
     "name": "stderr",
     "output_type": "stream",
     "text": [
      "Training Epoch 1842: 100%|██████████| 373/373 [00:01<00:00, 188.11it/s]\n",
      "Training Epoch 1843: 100%|██████████| 373/373 [00:01<00:00, 191.64it/s]\n",
      "Training Epoch 1844: 100%|██████████| 373/373 [00:02<00:00, 184.15it/s]\n",
      "Training Epoch 1845: 100%|██████████| 373/373 [00:01<00:00, 187.60it/s]\n",
      "Training Epoch 1846: 100%|██████████| 373/373 [00:02<00:00, 185.63it/s]\n",
      "Training Epoch 1847: 100%|██████████| 373/373 [00:01<00:00, 189.02it/s]\n",
      "Training Epoch 1848: 100%|██████████| 373/373 [00:01<00:00, 187.81it/s]\n",
      "Training Epoch 1849: 100%|██████████| 373/373 [00:01<00:00, 187.33it/s]\n",
      "Training Epoch 1850: 100%|██████████| 373/373 [00:01<00:00, 191.39it/s]\n",
      "Training Epoch 1851: 100%|██████████| 373/373 [00:01<00:00, 188.57it/s]\n"
     ]
    },
    {
     "name": "stdout",
     "output_type": "stream",
     "text": [
      "Epoch 1850 - Train Loss: 0.3268, Train MSE: 0.3271, Train MAE: 0.3728\n",
      "Epoch 1850 - Validation Loss: 1.1880, Validation MSE: 1.1896, Validation MAE: 0.7343\n"
     ]
    },
    {
     "name": "stderr",
     "output_type": "stream",
     "text": [
      "Training Epoch 1852: 100%|██████████| 373/373 [00:01<00:00, 195.07it/s]\n",
      "Training Epoch 1853: 100%|██████████| 373/373 [00:01<00:00, 192.16it/s]\n",
      "Training Epoch 1854: 100%|██████████| 373/373 [00:01<00:00, 190.41it/s]\n",
      "Training Epoch 1855: 100%|██████████| 373/373 [00:01<00:00, 189.94it/s]\n",
      "Training Epoch 1856: 100%|██████████| 373/373 [00:01<00:00, 187.20it/s]\n",
      "Training Epoch 1857: 100%|██████████| 373/373 [00:01<00:00, 190.61it/s]\n",
      "Training Epoch 1858: 100%|██████████| 373/373 [00:01<00:00, 192.82it/s]\n",
      "Training Epoch 1859: 100%|██████████| 373/373 [00:02<00:00, 185.06it/s]\n",
      "Training Epoch 1860: 100%|██████████| 373/373 [00:01<00:00, 191.16it/s]\n",
      "Training Epoch 1861: 100%|██████████| 373/373 [00:01<00:00, 192.14it/s]\n"
     ]
    },
    {
     "name": "stdout",
     "output_type": "stream",
     "text": [
      "Epoch 1860 - Train Loss: 0.3236, Train MSE: 0.3234, Train MAE: 0.3731\n",
      "Epoch 1860 - Validation Loss: 1.2059, Validation MSE: 1.2083, Validation MAE: 0.7421\n"
     ]
    },
    {
     "name": "stderr",
     "output_type": "stream",
     "text": [
      "Training Epoch 1862: 100%|██████████| 373/373 [00:01<00:00, 190.04it/s]\n",
      "Training Epoch 1863: 100%|██████████| 373/373 [00:01<00:00, 188.64it/s]\n",
      "Training Epoch 1864: 100%|██████████| 373/373 [00:01<00:00, 186.73it/s]\n",
      "Training Epoch 1865: 100%|██████████| 373/373 [00:01<00:00, 192.64it/s]\n",
      "Training Epoch 1866: 100%|██████████| 373/373 [00:01<00:00, 192.15it/s]\n",
      "Training Epoch 1867: 100%|██████████| 373/373 [00:01<00:00, 186.52it/s]\n",
      "Training Epoch 1868: 100%|██████████| 373/373 [00:01<00:00, 193.05it/s]\n",
      "Training Epoch 1869: 100%|██████████| 373/373 [00:02<00:00, 185.24it/s]\n",
      "Training Epoch 1870: 100%|██████████| 373/373 [00:01<00:00, 189.36it/s]\n",
      "Training Epoch 1871: 100%|██████████| 373/373 [00:01<00:00, 190.16it/s]\n"
     ]
    },
    {
     "name": "stdout",
     "output_type": "stream",
     "text": [
      "Epoch 1870 - Train Loss: 0.3291, Train MSE: 0.3298, Train MAE: 0.3741\n",
      "Epoch 1870 - Validation Loss: 1.1965, Validation MSE: 1.1986, Validation MAE: 0.7357\n"
     ]
    },
    {
     "name": "stderr",
     "output_type": "stream",
     "text": [
      "Training Epoch 1872: 100%|██████████| 373/373 [00:01<00:00, 188.64it/s]\n",
      "Training Epoch 1873: 100%|██████████| 373/373 [00:01<00:00, 191.40it/s]\n",
      "Training Epoch 1874: 100%|██████████| 373/373 [00:02<00:00, 185.95it/s]\n",
      "Training Epoch 1875: 100%|██████████| 373/373 [00:01<00:00, 191.21it/s]\n",
      "Training Epoch 1876: 100%|██████████| 373/373 [00:01<00:00, 189.54it/s]\n",
      "Training Epoch 1877: 100%|██████████| 373/373 [00:01<00:00, 187.20it/s]\n",
      "Training Epoch 1878: 100%|██████████| 373/373 [00:01<00:00, 188.77it/s]\n",
      "Training Epoch 1879: 100%|██████████| 373/373 [00:01<00:00, 186.63it/s]\n",
      "Training Epoch 1880: 100%|██████████| 373/373 [00:01<00:00, 192.63it/s]\n",
      "Training Epoch 1881: 100%|██████████| 373/373 [00:01<00:00, 192.39it/s]\n"
     ]
    },
    {
     "name": "stdout",
     "output_type": "stream",
     "text": [
      "Epoch 1880 - Train Loss: 0.3211, Train MSE: 0.3216, Train MAE: 0.3689\n",
      "Epoch 1880 - Validation Loss: 1.1945, Validation MSE: 1.1963, Validation MAE: 0.7338\n"
     ]
    },
    {
     "name": "stderr",
     "output_type": "stream",
     "text": [
      "Training Epoch 1882: 100%|██████████| 373/373 [00:02<00:00, 185.19it/s]\n",
      "Training Epoch 1883: 100%|██████████| 373/373 [00:01<00:00, 190.44it/s]\n",
      "Training Epoch 1884: 100%|██████████| 373/373 [00:01<00:00, 188.52it/s]\n",
      "Training Epoch 1885: 100%|██████████| 373/373 [00:01<00:00, 189.95it/s]\n",
      "Training Epoch 1886: 100%|██████████| 373/373 [00:01<00:00, 190.76it/s]\n",
      "Training Epoch 1887: 100%|██████████| 373/373 [00:01<00:00, 189.20it/s]\n",
      "Training Epoch 1888: 100%|██████████| 373/373 [00:01<00:00, 192.71it/s]\n",
      "Training Epoch 1889: 100%|██████████| 373/373 [00:01<00:00, 186.86it/s]\n",
      "Training Epoch 1890: 100%|██████████| 373/373 [00:01<00:00, 191.59it/s]\n",
      "Training Epoch 1891: 100%|██████████| 373/373 [00:01<00:00, 191.90it/s]\n"
     ]
    },
    {
     "name": "stdout",
     "output_type": "stream",
     "text": [
      "Epoch 1890 - Train Loss: 0.3225, Train MSE: 0.3230, Train MAE: 0.3699\n",
      "Epoch 1890 - Validation Loss: 1.1830, Validation MSE: 1.1851, Validation MAE: 0.7332\n"
     ]
    },
    {
     "name": "stderr",
     "output_type": "stream",
     "text": [
      "Training Epoch 1892: 100%|██████████| 373/373 [00:01<00:00, 187.88it/s]\n",
      "Training Epoch 1893: 100%|██████████| 373/373 [00:01<00:00, 187.19it/s]\n",
      "Training Epoch 1894: 100%|██████████| 373/373 [00:02<00:00, 183.90it/s]\n",
      "Training Epoch 1895: 100%|██████████| 373/373 [00:01<00:00, 190.77it/s]\n",
      "Training Epoch 1896: 100%|██████████| 373/373 [00:01<00:00, 189.14it/s]\n",
      "Training Epoch 1897: 100%|██████████| 373/373 [00:02<00:00, 184.36it/s]\n",
      "Training Epoch 1898: 100%|██████████| 373/373 [00:01<00:00, 188.30it/s]\n",
      "Training Epoch 1899: 100%|██████████| 373/373 [00:02<00:00, 185.94it/s]\n",
      "Training Epoch 1900: 100%|██████████| 373/373 [00:01<00:00, 189.85it/s]\n",
      "Training Epoch 1901: 100%|██████████| 373/373 [00:02<00:00, 186.12it/s]\n"
     ]
    },
    {
     "name": "stdout",
     "output_type": "stream",
     "text": [
      "Epoch 1900 - Train Loss: 0.3217, Train MSE: 0.3218, Train MAE: 0.3702\n",
      "Epoch 1900 - Validation Loss: 1.2084, Validation MSE: 1.2102, Validation MAE: 0.7395\n"
     ]
    },
    {
     "name": "stderr",
     "output_type": "stream",
     "text": [
      "Training Epoch 1902: 100%|██████████| 373/373 [00:02<00:00, 186.15it/s]\n",
      "Training Epoch 1903: 100%|██████████| 373/373 [00:01<00:00, 191.74it/s]\n",
      "Training Epoch 1904: 100%|██████████| 373/373 [00:01<00:00, 186.76it/s]\n",
      "Training Epoch 1905: 100%|██████████| 373/373 [00:01<00:00, 188.68it/s]\n",
      "Training Epoch 1906: 100%|██████████| 373/373 [00:01<00:00, 191.98it/s]\n",
      "Training Epoch 1907: 100%|██████████| 373/373 [00:02<00:00, 183.68it/s]\n",
      "Training Epoch 1908: 100%|██████████| 373/373 [00:01<00:00, 191.63it/s]\n",
      "Training Epoch 1909: 100%|██████████| 373/373 [00:01<00:00, 187.22it/s]\n",
      "Training Epoch 1910: 100%|██████████| 373/373 [00:01<00:00, 189.58it/s]\n",
      "Training Epoch 1911: 100%|██████████| 373/373 [00:01<00:00, 190.52it/s]\n"
     ]
    },
    {
     "name": "stdout",
     "output_type": "stream",
     "text": [
      "Epoch 1910 - Train Loss: 0.3179, Train MSE: 0.3169, Train MAE: 0.3670\n",
      "Epoch 1910 - Validation Loss: 1.1976, Validation MSE: 1.1995, Validation MAE: 0.7391\n"
     ]
    },
    {
     "name": "stderr",
     "output_type": "stream",
     "text": [
      "Training Epoch 1912: 100%|██████████| 373/373 [00:02<00:00, 183.76it/s]\n",
      "Training Epoch 1913: 100%|██████████| 373/373 [00:01<00:00, 190.82it/s]\n",
      "Training Epoch 1914: 100%|██████████| 373/373 [00:02<00:00, 186.00it/s]\n",
      "Training Epoch 1915: 100%|██████████| 373/373 [00:01<00:00, 187.76it/s]\n",
      "Training Epoch 1916: 100%|██████████| 373/373 [00:01<00:00, 190.29it/s]\n",
      "Training Epoch 1917: 100%|██████████| 373/373 [00:01<00:00, 189.34it/s]\n",
      "Training Epoch 1918: 100%|██████████| 373/373 [00:01<00:00, 192.74it/s]\n",
      "Training Epoch 1919: 100%|██████████| 373/373 [00:02<00:00, 185.16it/s]\n",
      "Training Epoch 1920: 100%|██████████| 373/373 [00:01<00:00, 190.80it/s]\n",
      "Training Epoch 1921: 100%|██████████| 373/373 [00:01<00:00, 194.56it/s]\n"
     ]
    },
    {
     "name": "stdout",
     "output_type": "stream",
     "text": [
      "Epoch 1920 - Train Loss: 0.3211, Train MSE: 0.3210, Train MAE: 0.3707\n",
      "Epoch 1920 - Validation Loss: 1.2054, Validation MSE: 1.2081, Validation MAE: 0.7378\n"
     ]
    },
    {
     "name": "stderr",
     "output_type": "stream",
     "text": [
      "Training Epoch 1922: 100%|██████████| 373/373 [00:02<00:00, 180.73it/s]\n",
      "Training Epoch 1923: 100%|██████████| 373/373 [00:01<00:00, 190.53it/s]\n",
      "Training Epoch 1924: 100%|██████████| 373/373 [00:01<00:00, 187.09it/s]\n",
      "Training Epoch 1925: 100%|██████████| 373/373 [00:01<00:00, 190.89it/s]\n",
      "Training Epoch 1926: 100%|██████████| 373/373 [00:01<00:00, 190.78it/s]\n",
      "Training Epoch 1927: 100%|██████████| 373/373 [00:02<00:00, 183.04it/s]\n",
      "Training Epoch 1928: 100%|██████████| 373/373 [00:01<00:00, 190.03it/s]\n",
      "Training Epoch 1929: 100%|██████████| 373/373 [00:01<00:00, 188.29it/s]\n",
      "Training Epoch 1930: 100%|██████████| 373/373 [00:01<00:00, 189.73it/s]\n",
      "Training Epoch 1931: 100%|██████████| 373/373 [00:01<00:00, 190.98it/s]\n"
     ]
    },
    {
     "name": "stdout",
     "output_type": "stream",
     "text": [
      "Epoch 1930 - Train Loss: 0.3175, Train MSE: 0.3178, Train MAE: 0.3691\n",
      "Epoch 1930 - Validation Loss: 1.2002, Validation MSE: 1.2024, Validation MAE: 0.7349\n"
     ]
    },
    {
     "name": "stderr",
     "output_type": "stream",
     "text": [
      "Training Epoch 1932: 100%|██████████| 373/373 [00:01<00:00, 189.46it/s]\n",
      "Training Epoch 1933: 100%|██████████| 373/373 [00:01<00:00, 190.99it/s]\n",
      "Training Epoch 1934: 100%|██████████| 373/373 [00:02<00:00, 182.86it/s]\n",
      "Training Epoch 1935: 100%|██████████| 373/373 [00:01<00:00, 193.41it/s]\n",
      "Training Epoch 1936: 100%|██████████| 373/373 [00:01<00:00, 193.96it/s]\n",
      "Training Epoch 1937: 100%|██████████| 373/373 [00:02<00:00, 184.28it/s]\n",
      "Training Epoch 1938: 100%|██████████| 373/373 [00:01<00:00, 192.54it/s]\n",
      "Training Epoch 1939: 100%|██████████| 373/373 [00:01<00:00, 188.57it/s]\n",
      "Training Epoch 1940: 100%|██████████| 373/373 [00:01<00:00, 191.51it/s]\n",
      "Training Epoch 1941: 100%|██████████| 373/373 [00:01<00:00, 190.85it/s]\n"
     ]
    },
    {
     "name": "stdout",
     "output_type": "stream",
     "text": [
      "Epoch 1940 - Train Loss: 0.3229, Train MSE: 0.3235, Train MAE: 0.3700\n",
      "Epoch 1940 - Validation Loss: 1.2135, Validation MSE: 1.2161, Validation MAE: 0.7372\n"
     ]
    },
    {
     "name": "stderr",
     "output_type": "stream",
     "text": [
      "Training Epoch 1942: 100%|██████████| 373/373 [00:01<00:00, 187.86it/s]\n",
      "Training Epoch 1943: 100%|██████████| 373/373 [00:01<00:00, 192.31it/s]\n",
      "Training Epoch 1944: 100%|██████████| 373/373 [00:02<00:00, 182.64it/s]\n",
      "Training Epoch 1945: 100%|██████████| 373/373 [00:01<00:00, 192.90it/s]\n",
      "Training Epoch 1946: 100%|██████████| 373/373 [00:01<00:00, 192.28it/s]\n",
      "Training Epoch 1947: 100%|██████████| 373/373 [00:01<00:00, 189.74it/s]\n",
      "Training Epoch 1948: 100%|██████████| 373/373 [00:01<00:00, 187.08it/s]\n",
      "Training Epoch 1949: 100%|██████████| 373/373 [00:02<00:00, 184.08it/s]\n",
      "Training Epoch 1950: 100%|██████████| 373/373 [00:01<00:00, 186.98it/s]\n",
      "Training Epoch 1951: 100%|██████████| 373/373 [00:01<00:00, 191.37it/s]\n"
     ]
    },
    {
     "name": "stdout",
     "output_type": "stream",
     "text": [
      "Epoch 1950 - Train Loss: 0.3172, Train MSE: 0.3174, Train MAE: 0.3695\n",
      "Epoch 1950 - Validation Loss: 1.1886, Validation MSE: 1.1910, Validation MAE: 0.7294\n"
     ]
    },
    {
     "name": "stderr",
     "output_type": "stream",
     "text": [
      "Training Epoch 1952: 100%|██████████| 373/373 [00:02<00:00, 184.25it/s]\n",
      "Training Epoch 1953: 100%|██████████| 373/373 [00:01<00:00, 192.84it/s]\n",
      "Training Epoch 1954: 100%|██████████| 373/373 [00:01<00:00, 189.14it/s]\n",
      "Training Epoch 1955: 100%|██████████| 373/373 [00:01<00:00, 189.66it/s]\n",
      "Training Epoch 1956: 100%|██████████| 373/373 [00:01<00:00, 190.82it/s]\n",
      "Training Epoch 1957: 100%|██████████| 373/373 [00:02<00:00, 185.36it/s]\n",
      "Training Epoch 1958: 100%|██████████| 373/373 [00:01<00:00, 190.78it/s]\n",
      "Training Epoch 1959: 100%|██████████| 373/373 [00:02<00:00, 184.82it/s]\n",
      "Training Epoch 1960: 100%|██████████| 373/373 [00:01<00:00, 188.76it/s]\n",
      "Training Epoch 1961: 100%|██████████| 373/373 [00:01<00:00, 193.25it/s]\n"
     ]
    },
    {
     "name": "stdout",
     "output_type": "stream",
     "text": [
      "Epoch 1960 - Train Loss: 0.3136, Train MSE: 0.3144, Train MAE: 0.3646\n",
      "Epoch 1960 - Validation Loss: 1.1875, Validation MSE: 1.1892, Validation MAE: 0.7358\n"
     ]
    },
    {
     "name": "stderr",
     "output_type": "stream",
     "text": [
      "Training Epoch 1962: 100%|██████████| 373/373 [00:01<00:00, 189.01it/s]\n",
      "Training Epoch 1963: 100%|██████████| 373/373 [00:01<00:00, 191.38it/s]\n",
      "Training Epoch 1964: 100%|██████████| 373/373 [00:02<00:00, 186.28it/s]\n",
      "Training Epoch 1965: 100%|██████████| 373/373 [00:01<00:00, 191.64it/s]\n",
      "Training Epoch 1966: 100%|██████████| 373/373 [00:01<00:00, 197.80it/s]\n",
      "Training Epoch 1967: 100%|██████████| 373/373 [00:01<00:00, 189.84it/s]\n",
      "Training Epoch 1968: 100%|██████████| 373/373 [00:01<00:00, 189.38it/s]\n",
      "Training Epoch 1969: 100%|██████████| 373/373 [00:01<00:00, 187.12it/s]\n",
      "Training Epoch 1970: 100%|██████████| 373/373 [00:01<00:00, 190.47it/s]\n",
      "Training Epoch 1971: 100%|██████████| 373/373 [00:01<00:00, 190.53it/s]\n"
     ]
    },
    {
     "name": "stdout",
     "output_type": "stream",
     "text": [
      "Epoch 1970 - Train Loss: 0.3181, Train MSE: 0.3174, Train MAE: 0.3679\n",
      "Epoch 1970 - Validation Loss: 1.1969, Validation MSE: 1.1992, Validation MAE: 0.7275\n"
     ]
    },
    {
     "name": "stderr",
     "output_type": "stream",
     "text": [
      "Training Epoch 1972: 100%|██████████| 373/373 [00:02<00:00, 186.00it/s]\n",
      "Training Epoch 1973: 100%|██████████| 373/373 [00:01<00:00, 191.77it/s]\n",
      "Training Epoch 1974: 100%|██████████| 373/373 [00:02<00:00, 183.13it/s]\n",
      "Training Epoch 1975: 100%|██████████| 373/373 [00:01<00:00, 193.73it/s]\n",
      "Training Epoch 1976: 100%|██████████| 373/373 [00:01<00:00, 191.83it/s]\n",
      "Training Epoch 1977: 100%|██████████| 373/373 [00:01<00:00, 187.48it/s]\n",
      "Training Epoch 1978: 100%|██████████| 373/373 [00:01<00:00, 188.36it/s]\n",
      "Training Epoch 1979: 100%|██████████| 373/373 [00:02<00:00, 186.17it/s]\n",
      "Training Epoch 1980: 100%|██████████| 373/373 [00:01<00:00, 188.83it/s]\n",
      "Training Epoch 1981: 100%|██████████| 373/373 [00:02<00:00, 183.16it/s]\n"
     ]
    },
    {
     "name": "stdout",
     "output_type": "stream",
     "text": [
      "Epoch 1980 - Train Loss: 0.3157, Train MSE: 0.3163, Train MAE: 0.3677\n",
      "Epoch 1980 - Validation Loss: 1.2003, Validation MSE: 1.2024, Validation MAE: 0.7332\n"
     ]
    },
    {
     "name": "stderr",
     "output_type": "stream",
     "text": [
      "Training Epoch 1982: 100%|██████████| 373/373 [00:01<00:00, 191.40it/s]\n",
      "Training Epoch 1983: 100%|██████████| 373/373 [00:01<00:00, 192.00it/s]\n",
      "Training Epoch 1984: 100%|██████████| 373/373 [00:02<00:00, 185.67it/s]\n",
      "Training Epoch 1985: 100%|██████████| 373/373 [00:01<00:00, 191.93it/s]\n",
      "Training Epoch 1986: 100%|██████████| 373/373 [00:01<00:00, 190.21it/s]\n",
      "Training Epoch 1987: 100%|██████████| 373/373 [00:01<00:00, 189.44it/s]\n",
      "Training Epoch 1988: 100%|██████████| 373/373 [00:01<00:00, 190.92it/s]\n",
      "Training Epoch 1989: 100%|██████████| 373/373 [00:02<00:00, 184.84it/s]\n",
      "Training Epoch 1990: 100%|██████████| 373/373 [00:01<00:00, 189.46it/s]\n",
      "Training Epoch 1991: 100%|██████████| 373/373 [00:01<00:00, 188.51it/s]\n"
     ]
    },
    {
     "name": "stdout",
     "output_type": "stream",
     "text": [
      "Epoch 1990 - Train Loss: 0.3204, Train MSE: 0.3210, Train MAE: 0.3694\n",
      "Epoch 1990 - Validation Loss: 1.1968, Validation MSE: 1.1982, Validation MAE: 0.7376\n"
     ]
    },
    {
     "name": "stderr",
     "output_type": "stream",
     "text": [
      "Training Epoch 1992: 100%|██████████| 373/373 [00:01<00:00, 189.07it/s]\n",
      "Training Epoch 1993: 100%|██████████| 373/373 [00:01<00:00, 197.67it/s]\n",
      "Training Epoch 1994: 100%|██████████| 373/373 [00:01<00:00, 187.09it/s]\n",
      "Training Epoch 1995: 100%|██████████| 373/373 [00:01<00:00, 188.35it/s]\n",
      "Training Epoch 1996: 100%|██████████| 373/373 [00:02<00:00, 182.15it/s]\n",
      "Training Epoch 1997: 100%|██████████| 373/373 [00:01<00:00, 193.37it/s]\n",
      "Training Epoch 1998: 100%|██████████| 373/373 [00:01<00:00, 191.66it/s]\n",
      "Training Epoch 1999: 100%|██████████| 373/373 [00:01<00:00, 191.98it/s]\n",
      "Training Epoch 2000: 100%|██████████| 373/373 [00:01<00:00, 192.34it/s]\n"
     ]
    },
    {
     "name": "stdout",
     "output_type": "stream",
     "text": [
      "Test MSE: 1.2274, Test MAE: 0.7544\n"
     ]
    }
   ],
   "source": [
    "import torch\n",
    "import torch.nn as nn\n",
    "import torch.optim as optim\n",
    "from tqdm import tqdm\n",
    "import pandas as pd\n",
    "from sklearn.metrics import r2_score, median_absolute_error, explained_variance_score\n",
    "from scipy.stats import pearsonr\n",
    "\n",
    "\n",
    "train_history = pd.DataFrame(columns=[  'epoch',\n",
    "    'Train Loss', 'Train MSE', 'Train MAE', 'Train RMSE', 'Train R2', 'Train Pearson', 'Train Median_AE', 'Train Explained_VAR'\n",
    "    'Val Loss', 'Val MSE', 'Val MAE', 'Val RMSE', 'Val R2', 'Val Pearson', 'Val Median_AE', 'Val Explained_VAR'])\n",
    "# Verify feature dimensions\n",
    "for batch in train_loader:\n",
    "    mol_input_dim = batch['metabolite_features'].shape[1]  # Dynamically determine mol input dimension\n",
    "    protein_input_dim = batch['protein_features'].shape[1]  # Dynamically determine protein input dimension\n",
    "    break\n",
    "\n",
    "# Initialize model, optimizer, and loss function\n",
    "num_timesteps = 10\n",
    "model = MLPRegressor(mol_input_dim=mol_input_dim, protein_input_dim=protein_input_dim,hidden_dim=512)\n",
    "model = model.to(device)\n",
    "optimizer = optim.Adam(model.parameters(), lr=0.0001)\n",
    "criterion = nn.MSELoss()\n",
    "\n",
    "# Training and Validation Loop\n",
    "for epoch in range(2000):\n",
    "    model.train()\n",
    "    total_loss = 0.0\n",
    "    val_total_loss = 0.0\n",
    "    train_predictions, train_labels = [], []\n",
    "\n",
    "    for batch in tqdm(train_loader, desc=f\"Training Epoch {epoch + 1}\"):\n",
    "        mol_features = batch['metabolite_features'].to(device)\n",
    "        protein_features = batch['protein_features'].to(device)\n",
    "        labels = batch['label'].to(device)\n",
    "\n",
    "        optimizer.zero_grad()\n",
    "        outputs = model(mol_features, protein_features)\n",
    "        loss = criterion(outputs, labels)\n",
    "        loss.backward()\n",
    "        optimizer.step()\n",
    "        total_loss += loss.item()\n",
    "\n",
    "        # Store predictions and labels for metrics\n",
    "        train_predictions.extend(outputs.detach().cpu().numpy())\n",
    "        train_labels.extend(labels.cpu().numpy())\n",
    "\n",
    "    # Calculate training metrics\n",
    "    train_mse = ((torch.tensor(train_predictions) - torch.tensor(train_labels))**2).mean().item()\n",
    "    train_mae = torch.abs(torch.tensor(train_predictions) - torch.tensor(train_labels)).mean().item()\n",
    "    train_rmse = torch.sqrt((torch.tensor(train_predictions) - torch.tensor(train_labels)) ** 2).mean().item()\n",
    "    train_r2 = r2_score(np.array(train_labels), np.array(train_predictions))\n",
    "    train_pearson_corr, _ = pearsonr(np.array(train_labels), np.array(train_predictions))\n",
    "    train_median_ae = median_absolute_error(np.array(train_labels), np.array(train_predictions))\n",
    "    train_explained_var = explained_variance_score(np.array(train_labels), np.array(train_predictions))\n",
    "\n",
    "\n",
    "\n",
    "    if epoch % 10 == 0:\n",
    "        print(f\"Epoch {epoch} - Train Loss: {total_loss / len(train_loader):.4f}, Train MSE: {train_mse:.4f}, Train MAE: {train_mae:.4f}\")\n",
    "\n",
    "    # Validation\n",
    "    model.eval()\n",
    "    val_predictions, val_labels = [], []\n",
    "    with torch.no_grad():\n",
    "        for batch in val_loader:\n",
    "            mol_features = batch['metabolite_features'].to(device)\n",
    "            protein_features = batch['protein_features'].to(device)\n",
    "            labels = batch['label'].to(device)\n",
    "\n",
    "            outputs = model(mol_features, protein_features)\n",
    "            val_predictions.extend(outputs.cpu().numpy())\n",
    "            val_labels.extend(labels.cpu().numpy())\n",
    "            val_loss = criterion(outputs, labels)\n",
    "            val_total_loss += val_loss.item()\n",
    "\n",
    "    val_mse = ((torch.tensor(val_predictions) - torch.tensor(val_labels))**2).mean().item()\n",
    "    val_mae = torch.abs(torch.tensor(val_predictions) - torch.tensor(val_labels)).mean().item()\n",
    "    val_rmse = torch.sqrt((torch.tensor(val_predictions) - torch.tensor(val_labels)) ** 2).mean().item()\n",
    "    val_r2 = r2_score(np.array(val_labels), np.array(val_predictions))\n",
    "    val_pearson_corr, _ = pearsonr(np.array(val_labels), np.array(val_predictions))\n",
    "    val_median_ae = median_absolute_error(np.array(val_labels), np.array(val_predictions))\n",
    "    val_explained_var = explained_variance_score(np.array(val_labels), np.array(val_predictions))\n",
    "\n",
    "    if epoch % 10 == 0:\n",
    "        print(f\"Epoch {epoch} - Validation Loss: {val_total_loss / len(val_loader):.4f}, Validation MSE: {val_mse:.4f}, Validation MAE: {val_mae:.4f}\")\n",
    "\n",
    "    # Save metrics to DataFrame\n",
    "    new_row = {'epoch': epoch + 1, 'Train Loss': total_loss / len(train_loader), 'Train MSE': train_mse, 'Train MAE': train_mae, 'Train RMSE': train_rmse, 'Train R2': train_r2, 'Train Pearson': train_pearson_corr, 'Train Median_AE': train_median_ae, 'Train Explained_VAR': train_explained_var, \n",
    "               'Val Loss': val_total_loss / len(val_loader), 'Val MSE': val_mse, 'Val MAE': val_mae, 'Val RMSE': val_rmse, 'Val R2': val_r2, 'Val Pearson': val_pearson_corr, 'Val Median_AE': val_median_ae, 'Val Explained_VAR': val_explained_var}\n",
    "    train_history = pd.concat([train_history, pd.DataFrame([new_row])], ignore_index=True)\n",
    "\n",
    "# Test Metrics\n",
    "model.eval()\n",
    "test_predictions, test_labels = [], []\n",
    "with torch.no_grad():\n",
    "    for batch in test_loader:\n",
    "        mol_features = batch['metabolite_features'].to(device)\n",
    "        protein_features = batch['protein_features'].to(device)\n",
    "        labels = batch['label'].to(device)\n",
    "\n",
    "        outputs = model(mol_features, protein_features)\n",
    "        test_predictions.extend(outputs.cpu().numpy())\n",
    "        test_labels.extend(labels.cpu().numpy())\n",
    "\n",
    "test_mse = ((torch.tensor(test_predictions) - torch.tensor(test_labels))**2).mean().item()\n",
    "test_mae = torch.abs(torch.tensor(test_predictions) - torch.tensor(test_labels)).mean().item()\n",
    "test_rmse = torch.sqrt((torch.tensor(test_predictions) - torch.tensor(test_labels)) ** 2).mean().item()\n",
    "test_r2 = r2_score(np.array(test_labels), np.array(test_predictions))\n",
    "test_pearson_corr, _ = pearsonr(np.array(test_labels), np.array(test_predictions))\n",
    "test_median_ae = median_absolute_error(np.array(test_labels), np.array(test_predictions))\n",
    "test_explained_var = explained_variance_score(np.array(test_labels), np.array(test_predictions))\n",
    "\n",
    "print(f\"Test MSE: {test_mse:.4f}, Test MAE: {test_mae:.4f}\")\n"
   ]
  },
  {
   "cell_type": "code",
   "execution_count": 18,
   "metadata": {},
   "outputs": [],
   "source": [
    "# append the performance to the csv file\n",
    "df = {\n",
    "    'Model':['MLP','MLP','MLP'],\n",
    "    'Dataset':['Train','Validation','Test'],\n",
    "    'MSE':[train_history['Train MSE'].mean(),train_history['Val MSE'].mean(),test_mse],\n",
    "    'RMSE':[train_history['Train RMSE'].mean(),train_history['Val RMSE'].mean(),test_rmse],\n",
    "    'MAE':[train_history['Train MAE'].mean(),train_history['Val MAE'].mean(),test_mae],\n",
    "    'R2':[train_history['Train R2'].mean(),train_history['Val R2'].mean(),test_r2],\n",
    "    'Pearson':[train_history['Train Pearson'].mean(),train_history['Val Pearson'].mean(),test_pearson_corr],\n",
    "    'Median_AE':[train_history['Train Median_AE'].mean(),train_history['Val Median_AE'].mean(),test_median_ae],\n",
    "    'Explained_VAR':[train_history['Train Explained_VAR'].mean(),train_history['Val Explained_VAR'].mean(),test_explained_var],\n",
    "    'Dataspliting Mode':['random','random','random']\n",
    "}\n",
    "df = pd.DataFrame(df)\n",
    "\n",
    "df.to_csv('/Users/pinchichen/2025S lab/AI drug project/code/model performance metrics.csv', mode='a', header=False)"
   ]
  },
  {
   "cell_type": "code",
   "execution_count": 19,
   "metadata": {},
   "outputs": [],
   "source": [
    "# Save the model and training history\n",
    "save_dir = './trained_model'\n",
    "# save model weights and optimizer state\n",
    "torch.save(model.state_dict(), os.path.join(save_dir, 'MLP model.pt'))\n",
    "torch.save(optimizer.state_dict(), os.path.join(save_dir, 'MLP optimizer.pt'))"
   ]
  },
  {
   "cell_type": "code",
   "execution_count": 20,
   "metadata": {},
   "outputs": [
    {
     "data": {
      "image/png": "[encoded data removed]",
      "text/plain": [
       "<Figure size 1000x600 with 1 Axes>"
      ]
     },
     "metadata": {},
     "output_type": "display_data"
    }
   ],
   "source": [
    "import matplotlib.pyplot as plt\n",
    "import seaborn as sns\n",
    "sns.set(style='ticks')\n",
    "# Load metrics\n",
    "\n",
    "metrics = train_history\n",
    "\n",
    "# Plot the training loss over epochs using seaborn\n",
    "plt.figure(figsize=(10, 6))\n",
    "# sns.lineplot(data=metrics, x='epoch', y='Train Loss', label='Train Loss')\n",
    "# sns.lineplot(data=metrics, x='epoch', y='Val Loss', label='Val Loss')\n",
    "sns.lineplot(data=metrics, x='epoch', y='Val MSE', label='Valid_RMSE')\n",
    "sns.lineplot(data=metrics, x='epoch', y='Train MSE', label='Train_RMSE')\n",
    "# sns.lineplot(data=metrics, x='Epoch', y='Valid_MAE', label='Valid_MAE')\n",
    "# Add titles and labels\n",
    "plt.title('Training and Validation Metrics Over Epochs', fontsize=14)\n",
    "# Define the range of tick positions\n",
    "plt.xlabel('Epoch', fontsize=12)\n",
    "plt.ylabel('Loss', fontsize=12)\n",
    "plt.grid(False)\n",
    "# Show the plot\n",
    "plt.show()\n"
   ]
  },
  {
   "cell_type": "code",
   "execution_count": 21,
   "metadata": {},
   "outputs": [
    {
     "data": {
      "text/html": [
       "<div>\n",
       "<style scoped>\n",
       "    .dataframe tbody tr th:only-of-type {\n",
       "        vertical-align: middle;\n",
       "    }\n",
       "\n",
       "    .dataframe tbody tr th {\n",
       "        vertical-align: top;\n",
       "    }\n",
       "\n",
       "    .dataframe thead th {\n",
       "        text-align: right;\n",
       "    }\n",
       "</style>\n",
       "<table border=\"1\" class=\"dataframe\">\n",
       "  <thead>\n",
       "    <tr style=\"text-align: right;\">\n",
       "      <th></th>\n",
       "      <th>epoch</th>\n",
       "      <th>Train Loss</th>\n",
       "      <th>Train MSE</th>\n",
       "      <th>Train MAE</th>\n",
       "      <th>Train RMSE</th>\n",
       "      <th>Train R2</th>\n",
       "      <th>Train Pearson</th>\n",
       "      <th>Train Median_AE</th>\n",
       "      <th>Train Explained_VARVal Loss</th>\n",
       "      <th>Val MSE</th>\n",
       "      <th>Val MAE</th>\n",
       "      <th>Val RMSE</th>\n",
       "      <th>Val R2</th>\n",
       "      <th>Val Pearson</th>\n",
       "      <th>Val Median_AE</th>\n",
       "      <th>Val Explained_VAR</th>\n",
       "      <th>Train Explained_VAR</th>\n",
       "      <th>Val Loss</th>\n",
       "    </tr>\n",
       "  </thead>\n",
       "  <tbody>\n",
       "    <tr>\n",
       "      <th>1995</th>\n",
       "      <td>1996</td>\n",
       "      <td>0.322258</td>\n",
       "      <td>0.322756</td>\n",
       "      <td>0.370143</td>\n",
       "      <td>0.370143</td>\n",
       "      <td>0.859167</td>\n",
       "      <td>0.926914</td>\n",
       "      <td>0.232914</td>\n",
       "      <td>NaN</td>\n",
       "      <td>1.206740</td>\n",
       "      <td>0.740079</td>\n",
       "      <td>0.740079</td>\n",
       "      <td>0.487195</td>\n",
       "      <td>0.704606</td>\n",
       "      <td>0.489051</td>\n",
       "      <td>0.487319</td>\n",
       "      <td>0.859169</td>\n",
       "      <td>1.204804</td>\n",
       "    </tr>\n",
       "    <tr>\n",
       "      <th>1996</th>\n",
       "      <td>1997</td>\n",
       "      <td>0.312181</td>\n",
       "      <td>0.312939</td>\n",
       "      <td>0.366691</td>\n",
       "      <td>0.366691</td>\n",
       "      <td>0.863451</td>\n",
       "      <td>0.929222</td>\n",
       "      <td>0.232148</td>\n",
       "      <td>NaN</td>\n",
       "      <td>1.203071</td>\n",
       "      <td>0.738685</td>\n",
       "      <td>0.738685</td>\n",
       "      <td>0.488754</td>\n",
       "      <td>0.705725</td>\n",
       "      <td>0.476593</td>\n",
       "      <td>0.489075</td>\n",
       "      <td>0.863453</td>\n",
       "      <td>1.201218</td>\n",
       "    </tr>\n",
       "    <tr>\n",
       "      <th>1997</th>\n",
       "      <td>1998</td>\n",
       "      <td>0.313443</td>\n",
       "      <td>0.314016</td>\n",
       "      <td>0.367349</td>\n",
       "      <td>0.367349</td>\n",
       "      <td>0.862981</td>\n",
       "      <td>0.928969</td>\n",
       "      <td>0.232598</td>\n",
       "      <td>NaN</td>\n",
       "      <td>1.206089</td>\n",
       "      <td>0.734888</td>\n",
       "      <td>0.734888</td>\n",
       "      <td>0.487472</td>\n",
       "      <td>0.708100</td>\n",
       "      <td>0.477169</td>\n",
       "      <td>0.488021</td>\n",
       "      <td>0.862981</td>\n",
       "      <td>1.203726</td>\n",
       "    </tr>\n",
       "    <tr>\n",
       "      <th>1998</th>\n",
       "      <td>1999</td>\n",
       "      <td>0.308055</td>\n",
       "      <td>0.307093</td>\n",
       "      <td>0.361238</td>\n",
       "      <td>0.361238</td>\n",
       "      <td>0.866002</td>\n",
       "      <td>0.930595</td>\n",
       "      <td>0.227096</td>\n",
       "      <td>NaN</td>\n",
       "      <td>1.197719</td>\n",
       "      <td>0.728305</td>\n",
       "      <td>0.728305</td>\n",
       "      <td>0.491028</td>\n",
       "      <td>0.708315</td>\n",
       "      <td>0.467570</td>\n",
       "      <td>0.491041</td>\n",
       "      <td>0.866002</td>\n",
       "      <td>1.195408</td>\n",
       "    </tr>\n",
       "    <tr>\n",
       "      <th>1999</th>\n",
       "      <td>2000</td>\n",
       "      <td>0.318432</td>\n",
       "      <td>0.318991</td>\n",
       "      <td>0.369162</td>\n",
       "      <td>0.369162</td>\n",
       "      <td>0.860810</td>\n",
       "      <td>0.927799</td>\n",
       "      <td>0.233920</td>\n",
       "      <td>NaN</td>\n",
       "      <td>1.209919</td>\n",
       "      <td>0.733216</td>\n",
       "      <td>0.733216</td>\n",
       "      <td>0.485844</td>\n",
       "      <td>0.707006</td>\n",
       "      <td>0.473949</td>\n",
       "      <td>0.486031</td>\n",
       "      <td>0.860811</td>\n",
       "      <td>1.207733</td>\n",
       "    </tr>\n",
       "  </tbody>\n",
       "</table>\n",
       "</div>"
      ],
      "text/plain": [
       "     epoch  Train Loss  Train MSE  Train MAE  Train RMSE  Train R2  \\\n",
       "1995  1996    0.322258   0.322756   0.370143    0.370143  0.859167   \n",
       "1996  1997    0.312181   0.312939   0.366691    0.366691  0.863451   \n",
       "1997  1998    0.313443   0.314016   0.367349    0.367349  0.862981   \n",
       "1998  1999    0.308055   0.307093   0.361238    0.361238  0.866002   \n",
       "1999  2000    0.318432   0.318991   0.369162    0.369162  0.860810   \n",
       "\n",
       "      Train Pearson  Train Median_AE Train Explained_VARVal Loss   Val MSE  \\\n",
       "1995       0.926914         0.232914                         NaN  1.206740   \n",
       "1996       0.929222         0.232148                         NaN  1.203071   \n",
       "1997       0.928969         0.232598                         NaN  1.206089   \n",
       "1998       0.930595         0.227096                         NaN  1.197719   \n",
       "1999       0.927799         0.233920                         NaN  1.209919   \n",
       "\n",
       "       Val MAE  Val RMSE    Val R2  Val Pearson  Val Median_AE  \\\n",
       "1995  0.740079  0.740079  0.487195     0.704606       0.489051   \n",
       "1996  0.738685  0.738685  0.488754     0.705725       0.476593   \n",
       "1997  0.734888  0.734888  0.487472     0.708100       0.477169   \n",
       "1998  0.728305  0.728305  0.491028     0.708315       0.467570   \n",
       "1999  0.733216  0.733216  0.485844     0.707006       0.473949   \n",
       "\n",
       "      Val Explained_VAR  Train Explained_VAR  Val Loss  \n",
       "1995           0.487319             0.859169  1.204804  \n",
       "1996           0.489075             0.863453  1.201218  \n",
       "1997           0.488021             0.862981  1.203726  \n",
       "1998           0.491041             0.866002  1.195408  \n",
       "1999           0.486031             0.860811  1.207733  "
      ]
     },
     "execution_count": 21,
     "metadata": {},
     "output_type": "execute_result"
    }
   ],
   "source": [
    "train_history.tail()"
   ]
  },
  {
   "cell_type": "code",
   "execution_count": 22,
   "metadata": {},
   "outputs": [
    {
     "data": {
      "image/png": "[encoded data removed]",
      "text/plain": [
       "<Figure size 640x480 with 1 Axes>"
      ]
     },
     "metadata": {},
     "output_type": "display_data"
    }
   ],
   "source": [
    "# Plot the performance\n",
    "import matplotlib.pyplot as plt\n",
    "\n",
    "plt.scatter(test_labels, test_predictions, alpha=0.5)\n",
    "plt.xlabel(\"True Reactivity\")\n",
    "plt.ylabel(\"Predicted Reactivity\")\n",
    "plt.title(\"CNN Predictions vs True Values\")\n",
    "plt.plot([min(test_labels), max(test_labels)], [min(test_labels), max(test_labels)], 'r--')\n",
    "plt.show()\n"
   ]
  },
  {
   "cell_type": "code",
   "execution_count": 15,
   "metadata": {},
   "outputs": [
    {
     "data": {
      "text/plain": [
       "array([-0.03369749, -0.59516466, -0.9723102 , ..., -0.32113236,\n",
       "       -0.7212705 , -0.7429604 ], dtype=float32)"
      ]
     },
     "execution_count": 15,
     "metadata": {},
     "output_type": "execute_result"
    }
   ],
   "source": [
    "import random\n",
    "def predict_total_dataset(model_path, dataset_loader, device=None):\n",
    "    \"\"\"\n",
    "    Calculate predictions for a dataset using a trained MLP model\n",
    "    \n",
    "    Args:\n",
    "        model_path: Path to the saved model weights\n",
    "        dataset_loader: DataLoader containing the dataset to predict on\n",
    "        device: Torch device (will default to CUDA if available)\n",
    "        \n",
    "    Returns:\n",
    "        Tuple of (predictions, labels)\n",
    "    \"\"\"\n",
    "    # Set random seed for reproducibility\n",
    "    torch.manual_seed(42)\n",
    "    np.random.seed(42)\n",
    "    random.seed(42)\n",
    "    \n",
    "    # Determine device if not provided\n",
    "    if device is None:\n",
    "        device = torch.device(\"cuda\" if torch.cuda.is_available() else \"cpu\")\n",
    "    \n",
    "    # Get input dimensions from the first batch\n",
    "    for batch in dataset_loader:\n",
    "        mol_input_dim = batch['metabolite_features'].shape[1]\n",
    "        protein_input_dim = batch['protein_features'].shape[1]\n",
    "        break\n",
    "    \n",
    "    # Initialize the model\n",
    "    model = MLPRegressor(mol_input_dim=mol_input_dim, protein_input_dim=protein_input_dim, hidden_dim=512)\n",
    "    model.load_state_dict(torch.load(model_path, map_location=device))\n",
    "    model = model.to(device)\n",
    "    model.eval()\n",
    "    \n",
    "    # Generate predictions\n",
    "    predictions = []\n",
    "    labels = []\n",
    "    \n",
    "    with torch.no_grad():\n",
    "        for batch in dataset_loader:\n",
    "            mol_features = batch['metabolite_features'].to(device)\n",
    "            protein_features = batch['protein_features'].to(device)\n",
    "            batch_labels = batch['label'].cpu().numpy()\n",
    "            \n",
    "            outputs = model(mol_features, protein_features)\n",
    "            batch_preds = outputs.cpu().numpy()\n",
    "            \n",
    "            predictions.extend(batch_preds)\n",
    "            labels.extend(batch_labels)\n",
    "    \n",
    "    return np.array(predictions), np.array(labels)\n",
    "\n",
    "# Usage example:\n",
    "model_path = os.path.join(r'./../../trained_model/random_split', 'MLP model.pt')\n",
    "predictions, labels = predict_total_dataset(model_path, total_loader)\n",
    "# Add predictions to your DataFrame\n",
    "predictions"
   ]
  },
  {
   "cell_type": "code",
   "execution_count": 16,
   "metadata": {},
   "outputs": [
    {
     "data": {
      "text/html": [
       "<div>\n",
       "<style scoped>\n",
       "    .dataframe tbody tr th:only-of-type {\n",
       "        vertical-align: middle;\n",
       "    }\n",
       "\n",
       "    .dataframe tbody tr th {\n",
       "        vertical-align: top;\n",
       "    }\n",
       "\n",
       "    .dataframe thead th {\n",
       "        text-align: right;\n",
       "    }\n",
       "</style>\n",
       "<table border=\"1\" class=\"dataframe\">\n",
       "  <thead>\n",
       "    <tr style=\"text-align: right;\">\n",
       "      <th></th>\n",
       "      <th>ECNumber</th>\n",
       "      <th>Organism</th>\n",
       "      <th>Smiles</th>\n",
       "      <th>Substrate</th>\n",
       "      <th>Sequence</th>\n",
       "      <th>Raw Kd</th>\n",
       "      <th>Unit</th>\n",
       "      <th>Log Kd</th>\n",
       "      <th>metabolite_features</th>\n",
       "      <th>protein_features</th>\n",
       "      <th>label</th>\n",
       "      <th>CAT_pred</th>\n",
       "      <th>CNN_pred</th>\n",
       "      <th>GBM_pred</th>\n",
       "      <th>LR_pred</th>\n",
       "      <th>MLP_pred</th>\n",
       "    </tr>\n",
       "  </thead>\n",
       "  <tbody>\n",
       "    <tr>\n",
       "      <th>0</th>\n",
       "      <td>4.2.3.4</td>\n",
       "      <td>Actinidia chinensis</td>\n",
       "      <td>C(C(C(C(COP(=O)(O)O)O)O)O)C(=O)C(=O)O</td>\n",
       "      <td>3-deoxy-D-arabino-heptulosonic acid 7-phosphate</td>\n",
       "      <td>MAAFSLSAKQILSPSTHRPSLSKTTTADSSLRFRNPHSLSLRCSSL...</td>\n",
       "      <td>20.1000</td>\n",
       "      <td>s^(-1)</td>\n",
       "      <td>1.303196</td>\n",
       "      <td>[0.09045384, -0.6035856, -0.5294743, 0.0703877...</td>\n",
       "      <td>[-0.12646541, -0.15512069, 0.0834027, 0.213126...</td>\n",
       "      <td>-1.303196</td>\n",
       "      <td>-0.664597</td>\n",
       "      <td>-1.227315</td>\n",
       "      <td>-0.456274</td>\n",
       "      <td>0.046098</td>\n",
       "      <td>-0.033697</td>\n",
       "    </tr>\n",
       "    <tr>\n",
       "      <th>1</th>\n",
       "      <td>4.2.3.4</td>\n",
       "      <td>Aspergillus nidulans</td>\n",
       "      <td>C(C(C(C(COP(=O)([O-])[O-])O)O)O)C(=O)C(=O)[O-]</td>\n",
       "      <td>3-deoxy-D-arabino-heptulosonate 7-phosphate</td>\n",
       "      <td>MSNPTKISILGRESIIADFGLWRNYVAKDLISDCSSTTYVLVTDTN...</td>\n",
       "      <td>6.8000</td>\n",
       "      <td>s^(-1)</td>\n",
       "      <td>0.832509</td>\n",
       "      <td>[0.4610253, 0.039623156, -0.4662559, 0.4188257...</td>\n",
       "      <td>[-0.10084063, -0.099633686, -0.011382125, 0.10...</td>\n",
       "      <td>-0.832509</td>\n",
       "      <td>-0.298970</td>\n",
       "      <td>-0.735445</td>\n",
       "      <td>-0.562968</td>\n",
       "      <td>-0.532851</td>\n",
       "      <td>-0.595165</td>\n",
       "    </tr>\n",
       "    <tr>\n",
       "      <th>2</th>\n",
       "      <td>4.2.3.4</td>\n",
       "      <td>Neurospora crassa</td>\n",
       "      <td>C(C(C(C(COP(=O)(O)O)O)O)O)C(=O)C(=O)O</td>\n",
       "      <td>3-deoxy-D-arabino-heptulosonic acid 7-phosphate</td>\n",
       "      <td>MAEPISNPTRINILGKDNIIIDHGIWLNFVAQDLLQNIKSSTYILI...</td>\n",
       "      <td>19.0000</td>\n",
       "      <td>s^(-1)</td>\n",
       "      <td>1.278754</td>\n",
       "      <td>[0.09045384, -0.6035856, -0.5294743, 0.0703877...</td>\n",
       "      <td>[-0.12705962, -0.09898393, 0.0041820942, 0.096...</td>\n",
       "      <td>-1.278754</td>\n",
       "      <td>-0.836997</td>\n",
       "      <td>-1.242703</td>\n",
       "      <td>-0.699874</td>\n",
       "      <td>-0.381774</td>\n",
       "      <td>-0.972310</td>\n",
       "    </tr>\n",
       "    <tr>\n",
       "      <th>3</th>\n",
       "      <td>2.1.1.255</td>\n",
       "      <td>Streptomyces coelicolor</td>\n",
       "      <td>C[S+](CCC(C(=O)[O-])N)CC1C(C(C(O1)N2C=NC3=C(N=...</td>\n",
       "      <td>S-Adenosyl-L-methionine</td>\n",
       "      <td>MTTETTTATATAKIPAPATPYQEDIARYWNNEARPVNLRLGDVDGL...</td>\n",
       "      <td>0.0075</td>\n",
       "      <td>s^(-1)</td>\n",
       "      <td>-2.124939</td>\n",
       "      <td>[0.52348095, -0.18665986, -0.39555183, 0.11716...</td>\n",
       "      <td>[0.0015065962, -0.087554656, -0.014490904, -0....</td>\n",
       "      <td>2.124939</td>\n",
       "      <td>1.427049</td>\n",
       "      <td>0.659172</td>\n",
       "      <td>0.767883</td>\n",
       "      <td>0.932206</td>\n",
       "      <td>1.383574</td>\n",
       "    </tr>\n",
       "    <tr>\n",
       "      <th>4</th>\n",
       "      <td>2.1.1.255</td>\n",
       "      <td>Streptomyces coelicolor</td>\n",
       "      <td>CC(=CCCC(=C(C)COP(=O)(O)OP(=O)(O)O)C)C</td>\n",
       "      <td>(E)-2-Methylgeranyl diphosphate</td>\n",
       "      <td>MTTETTTATATAKIPAPATPYQEDIARYWNNEARPVNLRLGDVDGL...</td>\n",
       "      <td>0.0390</td>\n",
       "      <td>s^(-1)</td>\n",
       "      <td>-1.408935</td>\n",
       "      <td>[0.17630623, -0.4595529, -0.6368343, -0.136045...</td>\n",
       "      <td>[0.0015065962, -0.087554656, -0.014490904, -0....</td>\n",
       "      <td>1.408935</td>\n",
       "      <td>0.783579</td>\n",
       "      <td>1.170299</td>\n",
       "      <td>0.016693</td>\n",
       "      <td>0.681809</td>\n",
       "      <td>1.515772</td>\n",
       "    </tr>\n",
       "    <tr>\n",
       "      <th>...</th>\n",
       "      <td>...</td>\n",
       "      <td>...</td>\n",
       "      <td>...</td>\n",
       "      <td>...</td>\n",
       "      <td>...</td>\n",
       "      <td>...</td>\n",
       "      <td>...</td>\n",
       "      <td>...</td>\n",
       "      <td>...</td>\n",
       "      <td>...</td>\n",
       "      <td>...</td>\n",
       "      <td>...</td>\n",
       "      <td>...</td>\n",
       "      <td>...</td>\n",
       "      <td>...</td>\n",
       "      <td>...</td>\n",
       "    </tr>\n",
       "    <tr>\n",
       "      <th>17005</th>\n",
       "      <td>1.1.1.82</td>\n",
       "      <td>Zea mays</td>\n",
       "      <td>C1C=CN(C=C1C(=O)N)C2C(C(C(O2)COP(=O)(O)OP(=O)(...</td>\n",
       "      <td>NADPH</td>\n",
       "      <td>MGLSTVYSPAGPRLVPAPLGRCRSAQPRRPRRAPLATVRCSVDATK...</td>\n",
       "      <td>955.0000</td>\n",
       "      <td>s^(-1)</td>\n",
       "      <td>2.980003</td>\n",
       "      <td>[0.36284313, -0.21340896, -0.8913718, -0.23485...</td>\n",
       "      <td>[0.039386757, -0.04558141, 0.101506, 0.1012840...</td>\n",
       "      <td>-2.980003</td>\n",
       "      <td>-1.987372</td>\n",
       "      <td>-2.852437</td>\n",
       "      <td>-1.338873</td>\n",
       "      <td>-1.303237</td>\n",
       "      <td>-2.799196</td>\n",
       "    </tr>\n",
       "    <tr>\n",
       "      <th>17006</th>\n",
       "      <td>1.1.1.82</td>\n",
       "      <td>Zea mays</td>\n",
       "      <td>C(C(C(=O)O)O)C(=O)O</td>\n",
       "      <td>L-Malate</td>\n",
       "      <td>MGLSTVYSPAGPRLVPAPLGRCRSAQPRRPRRAPLATVRCSVDATK...</td>\n",
       "      <td>2.9000</td>\n",
       "      <td>s^(-1)</td>\n",
       "      <td>0.462398</td>\n",
       "      <td>[0.045168612, -0.31311044, -0.21087039, -0.292...</td>\n",
       "      <td>[0.039386757, -0.04558141, 0.101506, 0.1012840...</td>\n",
       "      <td>-0.462398</td>\n",
       "      <td>-1.656514</td>\n",
       "      <td>-1.883750</td>\n",
       "      <td>-1.248562</td>\n",
       "      <td>-1.116988</td>\n",
       "      <td>-2.273174</td>\n",
       "    </tr>\n",
       "    <tr>\n",
       "      <th>17007</th>\n",
       "      <td>1.1.1.82</td>\n",
       "      <td>Zea mays</td>\n",
       "      <td>C1=CC(=C[N+](=C1)C2C(C(C(O2)COP(=O)(O)OP(=O)(O...</td>\n",
       "      <td>NADP+</td>\n",
       "      <td>MGLSTVYSPAGPRLVPAPLGRCRSAQPRRPRRAPLATVRCSVDATK...</td>\n",
       "      <td>2.9000</td>\n",
       "      <td>s^(-1)</td>\n",
       "      <td>0.462398</td>\n",
       "      <td>[0.18913552, -0.06542938, -0.8761325, 0.133454...</td>\n",
       "      <td>[0.039386757, -0.04558141, 0.101506, 0.1012840...</td>\n",
       "      <td>-0.462398</td>\n",
       "      <td>-1.541640</td>\n",
       "      <td>-0.925752</td>\n",
       "      <td>-1.236483</td>\n",
       "      <td>-1.220809</td>\n",
       "      <td>-0.321132</td>\n",
       "    </tr>\n",
       "    <tr>\n",
       "      <th>17008</th>\n",
       "      <td>1.1.1.82</td>\n",
       "      <td>Spinacia oleracea</td>\n",
       "      <td>C(C(C(=O)O)O)C(=O)O</td>\n",
       "      <td>L-Malate</td>\n",
       "      <td>MAVAELSPCYQTQIVKPPHLSWLSNNHKLNLLGLPKASRITEICCS...</td>\n",
       "      <td>6.7000</td>\n",
       "      <td>s^(-1)</td>\n",
       "      <td>0.826075</td>\n",
       "      <td>[0.045168612, -0.31311044, -0.21087039, -0.292...</td>\n",
       "      <td>[0.029217303, -0.08372673, 0.0883128, 0.147737...</td>\n",
       "      <td>-0.826075</td>\n",
       "      <td>-0.926702</td>\n",
       "      <td>-1.843686</td>\n",
       "      <td>-1.031461</td>\n",
       "      <td>-0.986014</td>\n",
       "      <td>-0.721271</td>\n",
       "    </tr>\n",
       "    <tr>\n",
       "      <th>17009</th>\n",
       "      <td>1.1.1.82</td>\n",
       "      <td>Spinacia oleracea</td>\n",
       "      <td>C1=CC(=C[N+](=C1)C2C(C(C(O2)COP(=O)(O)OP(=O)(O...</td>\n",
       "      <td>NADP+</td>\n",
       "      <td>MAVAELSPCYQTQIVKPPHLSWLSNNHKLNLLGLPKASRITEICCS...</td>\n",
       "      <td>6.0000</td>\n",
       "      <td>s^(-1)</td>\n",
       "      <td>0.778151</td>\n",
       "      <td>[0.18913552, -0.06542938, -0.8761325, 0.133454...</td>\n",
       "      <td>[0.029217303, -0.08372673, 0.0883128, 0.147737...</td>\n",
       "      <td>-0.778151</td>\n",
       "      <td>-0.999913</td>\n",
       "      <td>-0.633673</td>\n",
       "      <td>-1.006355</td>\n",
       "      <td>-1.089828</td>\n",
       "      <td>-0.742960</td>\n",
       "    </tr>\n",
       "  </tbody>\n",
       "</table>\n",
       "<p>17010 rows × 16 columns</p>\n",
       "</div>"
      ],
      "text/plain": [
       "        ECNumber                 Organism  \\\n",
       "0        4.2.3.4      Actinidia chinensis   \n",
       "1        4.2.3.4     Aspergillus nidulans   \n",
       "2        4.2.3.4        Neurospora crassa   \n",
       "3      2.1.1.255  Streptomyces coelicolor   \n",
       "4      2.1.1.255  Streptomyces coelicolor   \n",
       "...          ...                      ...   \n",
       "17005   1.1.1.82                 Zea mays   \n",
       "17006   1.1.1.82                 Zea mays   \n",
       "17007   1.1.1.82                 Zea mays   \n",
       "17008   1.1.1.82        Spinacia oleracea   \n",
       "17009   1.1.1.82        Spinacia oleracea   \n",
       "\n",
       "                                                  Smiles  \\\n",
       "0                  C(C(C(C(COP(=O)(O)O)O)O)O)C(=O)C(=O)O   \n",
       "1         C(C(C(C(COP(=O)([O-])[O-])O)O)O)C(=O)C(=O)[O-]   \n",
       "2                  C(C(C(C(COP(=O)(O)O)O)O)O)C(=O)C(=O)O   \n",
       "3      C[S+](CCC(C(=O)[O-])N)CC1C(C(C(O1)N2C=NC3=C(N=...   \n",
       "4                 CC(=CCCC(=C(C)COP(=O)(O)OP(=O)(O)O)C)C   \n",
       "...                                                  ...   \n",
       "17005  C1C=CN(C=C1C(=O)N)C2C(C(C(O2)COP(=O)(O)OP(=O)(...   \n",
       "17006                                C(C(C(=O)O)O)C(=O)O   \n",
       "17007  C1=CC(=C[N+](=C1)C2C(C(C(O2)COP(=O)(O)OP(=O)(O...   \n",
       "17008                                C(C(C(=O)O)O)C(=O)O   \n",
       "17009  C1=CC(=C[N+](=C1)C2C(C(C(O2)COP(=O)(O)OP(=O)(O...   \n",
       "\n",
       "                                             Substrate  \\\n",
       "0      3-deoxy-D-arabino-heptulosonic acid 7-phosphate   \n",
       "1          3-deoxy-D-arabino-heptulosonate 7-phosphate   \n",
       "2      3-deoxy-D-arabino-heptulosonic acid 7-phosphate   \n",
       "3                              S-Adenosyl-L-methionine   \n",
       "4                      (E)-2-Methylgeranyl diphosphate   \n",
       "...                                                ...   \n",
       "17005                                            NADPH   \n",
       "17006                                         L-Malate   \n",
       "17007                                            NADP+   \n",
       "17008                                         L-Malate   \n",
       "17009                                            NADP+   \n",
       "\n",
       "                                                Sequence    Raw Kd    Unit  \\\n",
       "0      MAAFSLSAKQILSPSTHRPSLSKTTTADSSLRFRNPHSLSLRCSSL...   20.1000  s^(-1)   \n",
       "1      MSNPTKISILGRESIIADFGLWRNYVAKDLISDCSSTTYVLVTDTN...    6.8000  s^(-1)   \n",
       "2      MAEPISNPTRINILGKDNIIIDHGIWLNFVAQDLLQNIKSSTYILI...   19.0000  s^(-1)   \n",
       "3      MTTETTTATATAKIPAPATPYQEDIARYWNNEARPVNLRLGDVDGL...    0.0075  s^(-1)   \n",
       "4      MTTETTTATATAKIPAPATPYQEDIARYWNNEARPVNLRLGDVDGL...    0.0390  s^(-1)   \n",
       "...                                                  ...       ...     ...   \n",
       "17005  MGLSTVYSPAGPRLVPAPLGRCRSAQPRRPRRAPLATVRCSVDATK...  955.0000  s^(-1)   \n",
       "17006  MGLSTVYSPAGPRLVPAPLGRCRSAQPRRPRRAPLATVRCSVDATK...    2.9000  s^(-1)   \n",
       "17007  MGLSTVYSPAGPRLVPAPLGRCRSAQPRRPRRAPLATVRCSVDATK...    2.9000  s^(-1)   \n",
       "17008  MAVAELSPCYQTQIVKPPHLSWLSNNHKLNLLGLPKASRITEICCS...    6.7000  s^(-1)   \n",
       "17009  MAVAELSPCYQTQIVKPPHLSWLSNNHKLNLLGLPKASRITEICCS...    6.0000  s^(-1)   \n",
       "\n",
       "         Log Kd                                metabolite_features  \\\n",
       "0      1.303196  [0.09045384, -0.6035856, -0.5294743, 0.0703877...   \n",
       "1      0.832509  [0.4610253, 0.039623156, -0.4662559, 0.4188257...   \n",
       "2      1.278754  [0.09045384, -0.6035856, -0.5294743, 0.0703877...   \n",
       "3     -2.124939  [0.52348095, -0.18665986, -0.39555183, 0.11716...   \n",
       "4     -1.408935  [0.17630623, -0.4595529, -0.6368343, -0.136045...   \n",
       "...         ...                                                ...   \n",
       "17005  2.980003  [0.36284313, -0.21340896, -0.8913718, -0.23485...   \n",
       "17006  0.462398  [0.045168612, -0.31311044, -0.21087039, -0.292...   \n",
       "17007  0.462398  [0.18913552, -0.06542938, -0.8761325, 0.133454...   \n",
       "17008  0.826075  [0.045168612, -0.31311044, -0.21087039, -0.292...   \n",
       "17009  0.778151  [0.18913552, -0.06542938, -0.8761325, 0.133454...   \n",
       "\n",
       "                                        protein_features     label  CAT_pred  \\\n",
       "0      [-0.12646541, -0.15512069, 0.0834027, 0.213126... -1.303196 -0.664597   \n",
       "1      [-0.10084063, -0.099633686, -0.011382125, 0.10... -0.832509 -0.298970   \n",
       "2      [-0.12705962, -0.09898393, 0.0041820942, 0.096... -1.278754 -0.836997   \n",
       "3      [0.0015065962, -0.087554656, -0.014490904, -0....  2.124939  1.427049   \n",
       "4      [0.0015065962, -0.087554656, -0.014490904, -0....  1.408935  0.783579   \n",
       "...                                                  ...       ...       ...   \n",
       "17005  [0.039386757, -0.04558141, 0.101506, 0.1012840... -2.980003 -1.987372   \n",
       "17006  [0.039386757, -0.04558141, 0.101506, 0.1012840... -0.462398 -1.656514   \n",
       "17007  [0.039386757, -0.04558141, 0.101506, 0.1012840... -0.462398 -1.541640   \n",
       "17008  [0.029217303, -0.08372673, 0.0883128, 0.147737... -0.826075 -0.926702   \n",
       "17009  [0.029217303, -0.08372673, 0.0883128, 0.147737... -0.778151 -0.999913   \n",
       "\n",
       "       CNN_pred  GBM_pred   LR_pred  MLP_pred  \n",
       "0     -1.227315 -0.456274  0.046098 -0.033697  \n",
       "1     -0.735445 -0.562968 -0.532851 -0.595165  \n",
       "2     -1.242703 -0.699874 -0.381774 -0.972310  \n",
       "3      0.659172  0.767883  0.932206  1.383574  \n",
       "4      1.170299  0.016693  0.681809  1.515772  \n",
       "...         ...       ...       ...       ...  \n",
       "17005 -2.852437 -1.338873 -1.303237 -2.799196  \n",
       "17006 -1.883750 -1.248562 -1.116988 -2.273174  \n",
       "17007 -0.925752 -1.236483 -1.220809 -0.321132  \n",
       "17008 -1.843686 -1.031461 -0.986014 -0.721271  \n",
       "17009 -0.633673 -1.006355 -1.089828 -0.742960  \n",
       "\n",
       "[17010 rows x 16 columns]"
      ]
     },
     "execution_count": 16,
     "metadata": {},
     "output_type": "execute_result"
    }
   ],
   "source": [
    "import os\n",
    "if os.path.exists('data_with_pred.joblib'):\n",
    "    data_with_pred = joblib.load('data_with_pred.joblib')\n",
    "else:\n",
    "    data_with_pred = data.copy()\n",
    "\n",
    "data_with_pred[\"MLP_pred\"] = predictions\n",
    "joblib.dump(data_with_pred, 'data_with_pred.joblib')\n",
    "data_with_pred"
   ]
  }
 ],
 "metadata": {
  "kernelspec": {
   "display_name": "conda_venv_2",
   "language": "python",
   "name": "python3"
  },
  "language_info": {
   "codemirror_mode": {
    "name": "ipython",
    "version": 3
   },
   "file_extension": ".py",
   "mimetype": "text/x-python",
   "name": "python",
   "nbconvert_exporter": "python",
   "pygments_lexer": "ipython3",
   "version": "3.12.11"
  }
 },
 "nbformat": 4,
 "nbformat_minor": 2
}
