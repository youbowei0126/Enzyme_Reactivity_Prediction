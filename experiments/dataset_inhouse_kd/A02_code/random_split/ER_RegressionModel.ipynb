{
 "cells": [
  {
   "cell_type": "code",
   "execution_count": 3,
   "metadata": {},
   "outputs": [],
   "source": [
    "import pandas as pd\n",
    "import numpy as np\n",
    "from tqdm import tqdm\n",
    "import torch\n",
    "import torch.nn as nn\n",
    "import torch.optim as optim\n",
    "from torch.utils.data import DataLoader, Dataset\n",
    "from sklearn.metrics import roc_auc_score\n",
    "from sklearn.model_selection import train_test_split\n",
    "import os\n",
    "import joblib"
   ]
  },
  {
   "cell_type": "code",
   "execution_count": 4,
   "metadata": {},
   "outputs": [
    {
     "data": {
      "text/html": [
       "<div>\n",
       "<style scoped>\n",
       "    .dataframe tbody tr th:only-of-type {\n",
       "        vertical-align: middle;\n",
       "    }\n",
       "\n",
       "    .dataframe tbody tr th {\n",
       "        vertical-align: top;\n",
       "    }\n",
       "\n",
       "    .dataframe thead th {\n",
       "        text-align: right;\n",
       "    }\n",
       "</style>\n",
       "<table border=\"1\" class=\"dataframe\">\n",
       "  <thead>\n",
       "    <tr style=\"text-align: right;\">\n",
       "      <th></th>\n",
       "      <th>ECNumber</th>\n",
       "      <th>Organism</th>\n",
       "      <th>Smiles</th>\n",
       "      <th>Substrate</th>\n",
       "      <th>Sequence</th>\n",
       "      <th>Raw Kd</th>\n",
       "      <th>Unit</th>\n",
       "      <th>Log Kd</th>\n",
       "      <th>metabolite_features</th>\n",
       "      <th>protein_features</th>\n",
       "    </tr>\n",
       "  </thead>\n",
       "  <tbody>\n",
       "    <tr>\n",
       "      <th>0</th>\n",
       "      <td>4.2.3.4</td>\n",
       "      <td>Actinidia chinensis</td>\n",
       "      <td>C(C(C(C(COP(=O)(O)O)O)O)O)C(=O)C(=O)O</td>\n",
       "      <td>3-deoxy-D-arabino-heptulosonic acid 7-phosphate</td>\n",
       "      <td>MAAFSLSAKQILSPSTHRPSLSKTTTADSSLRFRNPHSLSLRCSSL...</td>\n",
       "      <td>20.1000</td>\n",
       "      <td>s^(-1)</td>\n",
       "      <td>1.303196</td>\n",
       "      <td>[0.09045384, -0.6035856, -0.5294743, 0.0703877...</td>\n",
       "      <td>[-0.12646541, -0.15512069, 0.0834027, 0.213126...</td>\n",
       "    </tr>\n",
       "    <tr>\n",
       "      <th>1</th>\n",
       "      <td>4.2.3.4</td>\n",
       "      <td>Aspergillus nidulans</td>\n",
       "      <td>C(C(C(C(COP(=O)([O-])[O-])O)O)O)C(=O)C(=O)[O-]</td>\n",
       "      <td>3-deoxy-D-arabino-heptulosonate 7-phosphate</td>\n",
       "      <td>MSNPTKISILGRESIIADFGLWRNYVAKDLISDCSSTTYVLVTDTN...</td>\n",
       "      <td>6.8000</td>\n",
       "      <td>s^(-1)</td>\n",
       "      <td>0.832509</td>\n",
       "      <td>[0.4610253, 0.039623156, -0.4662559, 0.4188257...</td>\n",
       "      <td>[-0.10084063, -0.099633686, -0.011382125, 0.10...</td>\n",
       "    </tr>\n",
       "    <tr>\n",
       "      <th>2</th>\n",
       "      <td>4.2.3.4</td>\n",
       "      <td>Neurospora crassa</td>\n",
       "      <td>C(C(C(C(COP(=O)(O)O)O)O)O)C(=O)C(=O)O</td>\n",
       "      <td>3-deoxy-D-arabino-heptulosonic acid 7-phosphate</td>\n",
       "      <td>MAEPISNPTRINILGKDNIIIDHGIWLNFVAQDLLQNIKSSTYILI...</td>\n",
       "      <td>19.0000</td>\n",
       "      <td>s^(-1)</td>\n",
       "      <td>1.278754</td>\n",
       "      <td>[0.09045384, -0.6035856, -0.5294743, 0.0703877...</td>\n",
       "      <td>[-0.12705962, -0.09898393, 0.0041820942, 0.096...</td>\n",
       "    </tr>\n",
       "    <tr>\n",
       "      <th>3</th>\n",
       "      <td>2.1.1.255</td>\n",
       "      <td>Streptomyces coelicolor</td>\n",
       "      <td>C[S+](CCC(C(=O)[O-])N)CC1C(C(C(O1)N2C=NC3=C(N=...</td>\n",
       "      <td>S-Adenosyl-L-methionine</td>\n",
       "      <td>MTTETTTATATAKIPAPATPYQEDIARYWNNEARPVNLRLGDVDGL...</td>\n",
       "      <td>0.0075</td>\n",
       "      <td>s^(-1)</td>\n",
       "      <td>-2.124939</td>\n",
       "      <td>[0.52348095, -0.18665986, -0.39555183, 0.11716...</td>\n",
       "      <td>[0.0015065962, -0.087554656, -0.014490904, -0....</td>\n",
       "    </tr>\n",
       "    <tr>\n",
       "      <th>4</th>\n",
       "      <td>2.1.1.255</td>\n",
       "      <td>Streptomyces coelicolor</td>\n",
       "      <td>CC(=CCCC(=C(C)COP(=O)(O)OP(=O)(O)O)C)C</td>\n",
       "      <td>(E)-2-Methylgeranyl diphosphate</td>\n",
       "      <td>MTTETTTATATAKIPAPATPYQEDIARYWNNEARPVNLRLGDVDGL...</td>\n",
       "      <td>0.0390</td>\n",
       "      <td>s^(-1)</td>\n",
       "      <td>-1.408935</td>\n",
       "      <td>[0.17630623, -0.4595529, -0.6368343, -0.136045...</td>\n",
       "      <td>[0.0015065962, -0.087554656, -0.014490904, -0....</td>\n",
       "    </tr>\n",
       "    <tr>\n",
       "      <th>...</th>\n",
       "      <td>...</td>\n",
       "      <td>...</td>\n",
       "      <td>...</td>\n",
       "      <td>...</td>\n",
       "      <td>...</td>\n",
       "      <td>...</td>\n",
       "      <td>...</td>\n",
       "      <td>...</td>\n",
       "      <td>...</td>\n",
       "      <td>...</td>\n",
       "    </tr>\n",
       "    <tr>\n",
       "      <th>17005</th>\n",
       "      <td>1.1.1.82</td>\n",
       "      <td>Zea mays</td>\n",
       "      <td>C1C=CN(C=C1C(=O)N)C2C(C(C(O2)COP(=O)(O)OP(=O)(...</td>\n",
       "      <td>NADPH</td>\n",
       "      <td>MGLSTVYSPAGPRLVPAPLGRCRSAQPRRPRRAPLATVRCSVDATK...</td>\n",
       "      <td>955.0000</td>\n",
       "      <td>s^(-1)</td>\n",
       "      <td>2.980003</td>\n",
       "      <td>[0.36284313, -0.21340896, -0.8913718, -0.23485...</td>\n",
       "      <td>[0.039386757, -0.04558141, 0.101506, 0.1012840...</td>\n",
       "    </tr>\n",
       "    <tr>\n",
       "      <th>17006</th>\n",
       "      <td>1.1.1.82</td>\n",
       "      <td>Zea mays</td>\n",
       "      <td>C(C(C(=O)O)O)C(=O)O</td>\n",
       "      <td>L-Malate</td>\n",
       "      <td>MGLSTVYSPAGPRLVPAPLGRCRSAQPRRPRRAPLATVRCSVDATK...</td>\n",
       "      <td>2.9000</td>\n",
       "      <td>s^(-1)</td>\n",
       "      <td>0.462398</td>\n",
       "      <td>[0.045168612, -0.31311044, -0.21087039, -0.292...</td>\n",
       "      <td>[0.039386757, -0.04558141, 0.101506, 0.1012840...</td>\n",
       "    </tr>\n",
       "    <tr>\n",
       "      <th>17007</th>\n",
       "      <td>1.1.1.82</td>\n",
       "      <td>Zea mays</td>\n",
       "      <td>C1=CC(=C[N+](=C1)C2C(C(C(O2)COP(=O)(O)OP(=O)(O...</td>\n",
       "      <td>NADP+</td>\n",
       "      <td>MGLSTVYSPAGPRLVPAPLGRCRSAQPRRPRRAPLATVRCSVDATK...</td>\n",
       "      <td>2.9000</td>\n",
       "      <td>s^(-1)</td>\n",
       "      <td>0.462398</td>\n",
       "      <td>[0.18913552, -0.06542938, -0.8761325, 0.133454...</td>\n",
       "      <td>[0.039386757, -0.04558141, 0.101506, 0.1012840...</td>\n",
       "    </tr>\n",
       "    <tr>\n",
       "      <th>17008</th>\n",
       "      <td>1.1.1.82</td>\n",
       "      <td>Spinacia oleracea</td>\n",
       "      <td>C(C(C(=O)O)O)C(=O)O</td>\n",
       "      <td>L-Malate</td>\n",
       "      <td>MAVAELSPCYQTQIVKPPHLSWLSNNHKLNLLGLPKASRITEICCS...</td>\n",
       "      <td>6.7000</td>\n",
       "      <td>s^(-1)</td>\n",
       "      <td>0.826075</td>\n",
       "      <td>[0.045168612, -0.31311044, -0.21087039, -0.292...</td>\n",
       "      <td>[0.029217303, -0.08372673, 0.0883128, 0.147737...</td>\n",
       "    </tr>\n",
       "    <tr>\n",
       "      <th>17009</th>\n",
       "      <td>1.1.1.82</td>\n",
       "      <td>Spinacia oleracea</td>\n",
       "      <td>C1=CC(=C[N+](=C1)C2C(C(C(O2)COP(=O)(O)OP(=O)(O...</td>\n",
       "      <td>NADP+</td>\n",
       "      <td>MAVAELSPCYQTQIVKPPHLSWLSNNHKLNLLGLPKASRITEICCS...</td>\n",
       "      <td>6.0000</td>\n",
       "      <td>s^(-1)</td>\n",
       "      <td>0.778151</td>\n",
       "      <td>[0.18913552, -0.06542938, -0.8761325, 0.133454...</td>\n",
       "      <td>[0.029217303, -0.08372673, 0.0883128, 0.147737...</td>\n",
       "    </tr>\n",
       "  </tbody>\n",
       "</table>\n",
       "<p>17010 rows × 10 columns</p>\n",
       "</div>"
      ],
      "text/plain": [
       "        ECNumber                 Organism  \\\n",
       "0        4.2.3.4      Actinidia chinensis   \n",
       "1        4.2.3.4     Aspergillus nidulans   \n",
       "2        4.2.3.4        Neurospora crassa   \n",
       "3      2.1.1.255  Streptomyces coelicolor   \n",
       "4      2.1.1.255  Streptomyces coelicolor   \n",
       "...          ...                      ...   \n",
       "17005   1.1.1.82                 Zea mays   \n",
       "17006   1.1.1.82                 Zea mays   \n",
       "17007   1.1.1.82                 Zea mays   \n",
       "17008   1.1.1.82        Spinacia oleracea   \n",
       "17009   1.1.1.82        Spinacia oleracea   \n",
       "\n",
       "                                                  Smiles  \\\n",
       "0                  C(C(C(C(COP(=O)(O)O)O)O)O)C(=O)C(=O)O   \n",
       "1         C(C(C(C(COP(=O)([O-])[O-])O)O)O)C(=O)C(=O)[O-]   \n",
       "2                  C(C(C(C(COP(=O)(O)O)O)O)O)C(=O)C(=O)O   \n",
       "3      C[S+](CCC(C(=O)[O-])N)CC1C(C(C(O1)N2C=NC3=C(N=...   \n",
       "4                 CC(=CCCC(=C(C)COP(=O)(O)OP(=O)(O)O)C)C   \n",
       "...                                                  ...   \n",
       "17005  C1C=CN(C=C1C(=O)N)C2C(C(C(O2)COP(=O)(O)OP(=O)(...   \n",
       "17006                                C(C(C(=O)O)O)C(=O)O   \n",
       "17007  C1=CC(=C[N+](=C1)C2C(C(C(O2)COP(=O)(O)OP(=O)(O...   \n",
       "17008                                C(C(C(=O)O)O)C(=O)O   \n",
       "17009  C1=CC(=C[N+](=C1)C2C(C(C(O2)COP(=O)(O)OP(=O)(O...   \n",
       "\n",
       "                                             Substrate  \\\n",
       "0      3-deoxy-D-arabino-heptulosonic acid 7-phosphate   \n",
       "1          3-deoxy-D-arabino-heptulosonate 7-phosphate   \n",
       "2      3-deoxy-D-arabino-heptulosonic acid 7-phosphate   \n",
       "3                              S-Adenosyl-L-methionine   \n",
       "4                      (E)-2-Methylgeranyl diphosphate   \n",
       "...                                                ...   \n",
       "17005                                            NADPH   \n",
       "17006                                         L-Malate   \n",
       "17007                                            NADP+   \n",
       "17008                                         L-Malate   \n",
       "17009                                            NADP+   \n",
       "\n",
       "                                                Sequence    Raw Kd    Unit  \\\n",
       "0      MAAFSLSAKQILSPSTHRPSLSKTTTADSSLRFRNPHSLSLRCSSL...   20.1000  s^(-1)   \n",
       "1      MSNPTKISILGRESIIADFGLWRNYVAKDLISDCSSTTYVLVTDTN...    6.8000  s^(-1)   \n",
       "2      MAEPISNPTRINILGKDNIIIDHGIWLNFVAQDLLQNIKSSTYILI...   19.0000  s^(-1)   \n",
       "3      MTTETTTATATAKIPAPATPYQEDIARYWNNEARPVNLRLGDVDGL...    0.0075  s^(-1)   \n",
       "4      MTTETTTATATAKIPAPATPYQEDIARYWNNEARPVNLRLGDVDGL...    0.0390  s^(-1)   \n",
       "...                                                  ...       ...     ...   \n",
       "17005  MGLSTVYSPAGPRLVPAPLGRCRSAQPRRPRRAPLATVRCSVDATK...  955.0000  s^(-1)   \n",
       "17006  MGLSTVYSPAGPRLVPAPLGRCRSAQPRRPRRAPLATVRCSVDATK...    2.9000  s^(-1)   \n",
       "17007  MGLSTVYSPAGPRLVPAPLGRCRSAQPRRPRRAPLATVRCSVDATK...    2.9000  s^(-1)   \n",
       "17008  MAVAELSPCYQTQIVKPPHLSWLSNNHKLNLLGLPKASRITEICCS...    6.7000  s^(-1)   \n",
       "17009  MAVAELSPCYQTQIVKPPHLSWLSNNHKLNLLGLPKASRITEICCS...    6.0000  s^(-1)   \n",
       "\n",
       "         Log Kd                                metabolite_features  \\\n",
       "0      1.303196  [0.09045384, -0.6035856, -0.5294743, 0.0703877...   \n",
       "1      0.832509  [0.4610253, 0.039623156, -0.4662559, 0.4188257...   \n",
       "2      1.278754  [0.09045384, -0.6035856, -0.5294743, 0.0703877...   \n",
       "3     -2.124939  [0.52348095, -0.18665986, -0.39555183, 0.11716...   \n",
       "4     -1.408935  [0.17630623, -0.4595529, -0.6368343, -0.136045...   \n",
       "...         ...                                                ...   \n",
       "17005  2.980003  [0.36284313, -0.21340896, -0.8913718, -0.23485...   \n",
       "17006  0.462398  [0.045168612, -0.31311044, -0.21087039, -0.292...   \n",
       "17007  0.462398  [0.18913552, -0.06542938, -0.8761325, 0.133454...   \n",
       "17008  0.826075  [0.045168612, -0.31311044, -0.21087039, -0.292...   \n",
       "17009  0.778151  [0.18913552, -0.06542938, -0.8761325, 0.133454...   \n",
       "\n",
       "                                        protein_features  \n",
       "0      [-0.12646541, -0.15512069, 0.0834027, 0.213126...  \n",
       "1      [-0.10084063, -0.099633686, -0.011382125, 0.10...  \n",
       "2      [-0.12705962, -0.09898393, 0.0041820942, 0.096...  \n",
       "3      [0.0015065962, -0.087554656, -0.014490904, -0....  \n",
       "4      [0.0015065962, -0.087554656, -0.014490904, -0....  \n",
       "...                                                  ...  \n",
       "17005  [0.039386757, -0.04558141, 0.101506, 0.1012840...  \n",
       "17006  [0.039386757, -0.04558141, 0.101506, 0.1012840...  \n",
       "17007  [0.039386757, -0.04558141, 0.101506, 0.1012840...  \n",
       "17008  [0.029217303, -0.08372673, 0.0883128, 0.147737...  \n",
       "17009  [0.029217303, -0.08372673, 0.0883128, 0.147737...  \n",
       "\n",
       "[17010 rows x 10 columns]"
      ]
     },
     "execution_count": 4,
     "metadata": {},
     "output_type": "execute_result"
    }
   ],
   "source": [
    "data = joblib.load(\"data_with_features.joblib\")\n",
    "data"
   ]
  },
  {
   "cell_type": "code",
   "execution_count": 5,
   "metadata": {},
   "outputs": [],
   "source": [
    "# adding 1e-9 to prevent error when doing logarithm\n",
    "# ??????\n",
    "data[\"label\"] = -np.log10(data[\"Raw Kd\"] + 1e-9)"
   ]
  },
  {
   "cell_type": "code",
   "execution_count": 6,
   "metadata": {},
   "outputs": [],
   "source": [
    "# Define dataset\n",
    "class MPI_Dataset(Dataset):\n",
    "    def __init__(self, dataframe):\n",
    "        self.dataframe = dataframe\n",
    "\n",
    "    def __len__(self):\n",
    "        return len(self.dataframe)\n",
    "\n",
    "    def __getitem__(self, idx):\n",
    "        row = self.dataframe.iloc[idx]\n",
    "        return {\n",
    "            \"metabolite_features\": torch.tensor(\n",
    "                np.asarray(row[\"metabolite_features\"], dtype=np.float32)\n",
    "            ),\n",
    "            \"protein_features\": torch.tensor(\n",
    "                np.asarray(row[\"protein_features\"], dtype=np.float32)\n",
    "            ),\n",
    "            \"label\": torch.tensor(float(row[\"label\"]), dtype=torch.float32),\n",
    "        }"
   ]
  },
  {
   "cell_type": "code",
   "execution_count": 7,
   "metadata": {},
   "outputs": [],
   "source": [
    "# Load data\n",
    "# Assuming `combined_df` is a pandas DataFrame containing all necessary columns\n",
    "train_df, temp_df = train_test_split(data, test_size=0.3, shuffle=True, random_state=42)\n",
    "val_df, test_df = train_test_split(temp_df, test_size=0.5, shuffle=True, random_state=42)\n",
    "\n",
    "train_dataset = MPI_Dataset(train_df)\n",
    "val_dataset = MPI_Dataset(val_df)\n",
    "test_dataset = MPI_Dataset(test_df)\n",
    "total_dataset = MPI_Dataset(data)\n",
    "\n",
    "train_loader = DataLoader(train_dataset, batch_size=32, shuffle=True)\n",
    "val_loader = DataLoader(val_dataset, batch_size=32)\n",
    "test_loader = DataLoader(test_dataset, batch_size=32)\n",
    "total_loader = DataLoader(total_dataset, batch_size=32, shuffle=False)\n"
   ]
  },
  {
   "cell_type": "code",
   "execution_count": 8,
   "metadata": {},
   "outputs": [],
   "source": [
    "import torch.nn as nn\n",
    "import torch\n",
    "\n",
    "\n",
    "# Define Diffusion Generative Model for Regression\n",
    "class DiffusionGenerativeModel(nn.Module):\n",
    "    def __init__(self, mol_input_dim, protein_input_dim, hidden_dim, num_timesteps):\n",
    "        super(DiffusionGenerativeModel, self).__init__()\n",
    "        self.num_timesteps = num_timesteps\n",
    "        self.mol_encoder = nn.Linear(mol_input_dim, hidden_dim)\n",
    "        self.protein_encoder = nn.Linear(protein_input_dim, hidden_dim)\n",
    "        self.layer_norm = nn.LayerNorm(hidden_dim * 2)\n",
    "        self.dropout = nn.Dropout(0.3)\n",
    "        self.denoise_model = nn.Linear(hidden_dim * 2, hidden_dim)\n",
    "        self.regressor = nn.Linear(hidden_dim, 1)  # Regression layer\n",
    "        self.activation = nn.ReLU()\n",
    "\n",
    "        # Embedding for timesteps\n",
    "        self.timestep_embedding = nn.Embedding(num_timesteps, hidden_dim * 2)\n",
    "\n",
    "    def forward(self, mol_features, protein_features, t):\n",
    "        # Encode mol and protein features\n",
    "        mol_embedding = self.activation(self.mol_encoder(mol_features))\n",
    "        protein_embedding = self.activation(self.protein_encoder(protein_features))\n",
    "\n",
    "        # Concatenate embeddings\n",
    "        combined = torch.cat((mol_embedding, protein_embedding), dim=-1)\n",
    "        combined = self.layer_norm(combined)\n",
    "        combined = self.dropout(combined)\n",
    "\n",
    "        # Add learnable timestep embedding\n",
    "        t_embedding = self.timestep_embedding(t.long())\n",
    "        combined += t_embedding\n",
    "\n",
    "        # Denoise process\n",
    "        denoised = self.activation(self.denoise_model(combined))\n",
    "\n",
    "        # Regression layer\n",
    "        output = self.regressor(denoised)  # Predict continuous values\n",
    "        return output\n",
    "\n",
    "    def add_noise(self, x, noise_level=0.1):\n",
    "        noise = noise_level * torch.randn_like(x)\n",
    "        return x + noise"
   ]
  },
  {
   "cell_type": "code",
   "execution_count": 9,
   "metadata": {},
   "outputs": [],
   "source": [
    "# Check CUDA availability\n",
    "device = torch.device(\"cuda\" if torch.cuda.is_available() else \"cpu\")"
   ]
  },
  {
   "cell_type": "code",
   "execution_count": null,
   "metadata": {},
   "outputs": [
    {
     "name": "stderr",
     "output_type": "stream",
     "text": [
      "Training Epoch 1: 100%|██████████| 373/373 [00:01<00:00, 208.59it/s]\n",
      "/var/folders/yz/c1z6m9_d5d3f80sywjc3rqsc0000gn/T/ipykernel_26180/374893312.py:97: FutureWarning: The behavior of DataFrame concatenation with empty or all-NA entries is deprecated. In a future version, this will no longer exclude empty or all-NA columns when determining the result dtypes. To retain the old behavior, exclude the relevant entries before the concat operation.\n",
      "  train_history = pd.concat([train_history, pd.DataFrame([new_row])], ignore_index=True)\n"
     ]
    },
    {
     "name": "stdout",
     "output_type": "stream",
     "text": [
      "Epoch 0 - Train Loss: 2.1217, Train MSE: 2.1254, Train MAE: 1.1319\n",
      "Epoch 0 - Validation Loss: 2.0660, Validation MSE: 2.0661, Validation MAE: 1.1228\n"
     ]
    },
    {
     "name": "stderr",
     "output_type": "stream",
     "text": [
      "Training Epoch 2: 100%|██████████| 373/373 [00:01<00:00, 222.35it/s]\n",
      "Training Epoch 3: 100%|██████████| 373/373 [00:01<00:00, 234.18it/s]\n",
      "Training Epoch 4: 100%|██████████| 373/373 [00:01<00:00, 234.13it/s]\n",
      "Training Epoch 5: 100%|██████████| 373/373 [00:01<00:00, 234.45it/s]\n",
      "Training Epoch 6: 100%|██████████| 373/373 [00:01<00:00, 235.34it/s]\n",
      "Training Epoch 7: 100%|██████████| 373/373 [00:01<00:00, 234.80it/s]\n",
      "Training Epoch 8: 100%|██████████| 373/373 [00:01<00:00, 246.83it/s]\n",
      "Training Epoch 9: 100%|██████████| 373/373 [00:01<00:00, 234.18it/s]\n",
      "Training Epoch 10: 100%|██████████| 373/373 [00:01<00:00, 214.95it/s]\n",
      "Training Epoch 11: 100%|██████████| 373/373 [00:01<00:00, 245.78it/s]\n"
     ]
    },
    {
     "name": "stdout",
     "output_type": "stream",
     "text": [
      "Epoch 10 - Train Loss: 1.6441, Train MSE: 1.6401, Train MAE: 0.9899\n",
      "Epoch 10 - Validation Loss: 1.7595, Validation MSE: 1.7607, Validation MAE: 1.0068\n"
     ]
    },
    {
     "name": "stderr",
     "output_type": "stream",
     "text": [
      "Training Epoch 12: 100%|██████████| 373/373 [00:01<00:00, 235.93it/s]\n",
      "Training Epoch 13: 100%|██████████| 373/373 [00:01<00:00, 236.09it/s]\n",
      "Training Epoch 14: 100%|██████████| 373/373 [00:01<00:00, 240.44it/s]\n",
      "Training Epoch 15: 100%|██████████| 373/373 [00:01<00:00, 238.17it/s]\n",
      "Training Epoch 16: 100%|██████████| 373/373 [00:01<00:00, 235.75it/s]\n",
      "Training Epoch 17: 100%|██████████| 373/373 [00:01<00:00, 236.88it/s]\n",
      "Training Epoch 18: 100%|██████████| 373/373 [00:01<00:00, 232.95it/s]\n",
      "Training Epoch 19: 100%|██████████| 373/373 [00:01<00:00, 218.62it/s]\n",
      "Training Epoch 20: 100%|██████████| 373/373 [00:01<00:00, 228.91it/s]\n",
      "Training Epoch 21: 100%|██████████| 373/373 [00:01<00:00, 244.17it/s]\n"
     ]
    },
    {
     "name": "stdout",
     "output_type": "stream",
     "text": [
      "Epoch 20 - Train Loss: 1.4628, Train MSE: 1.4638, Train MAE: 0.9290\n",
      "Epoch 20 - Validation Loss: 1.5949, Validation MSE: 1.5956, Validation MAE: 0.9595\n"
     ]
    },
    {
     "name": "stderr",
     "output_type": "stream",
     "text": [
      "Training Epoch 22: 100%|██████████| 373/373 [00:01<00:00, 238.92it/s]\n",
      "Training Epoch 23: 100%|██████████| 373/373 [00:01<00:00, 238.86it/s]\n",
      "Training Epoch 24: 100%|██████████| 373/373 [00:01<00:00, 239.05it/s]\n",
      "Training Epoch 25: 100%|██████████| 373/373 [00:01<00:00, 239.25it/s]\n",
      "Training Epoch 26: 100%|██████████| 373/373 [00:01<00:00, 239.09it/s]\n",
      "Training Epoch 27: 100%|██████████| 373/373 [00:01<00:00, 240.68it/s]\n",
      "Training Epoch 28: 100%|██████████| 373/373 [00:01<00:00, 223.52it/s]\n",
      "Training Epoch 29: 100%|██████████| 373/373 [00:01<00:00, 242.09it/s]\n",
      "Training Epoch 30: 100%|██████████| 373/373 [00:01<00:00, 247.85it/s]\n",
      "Training Epoch 31: 100%|██████████| 373/373 [00:01<00:00, 236.73it/s]\n"
     ]
    },
    {
     "name": "stdout",
     "output_type": "stream",
     "text": [
      "Epoch 30 - Train Loss: 1.3371, Train MSE: 1.3390, Train MAE: 0.8857\n",
      "Epoch 30 - Validation Loss: 1.5408, Validation MSE: 1.5418, Validation MAE: 0.9270\n"
     ]
    },
    {
     "name": "stderr",
     "output_type": "stream",
     "text": [
      "Training Epoch 32: 100%|██████████| 373/373 [00:01<00:00, 239.07it/s]\n",
      "Training Epoch 33: 100%|██████████| 373/373 [00:01<00:00, 255.27it/s]\n",
      "Training Epoch 34: 100%|██████████| 373/373 [00:01<00:00, 253.75it/s]\n",
      "Training Epoch 35: 100%|██████████| 373/373 [00:01<00:00, 244.75it/s]\n",
      "Training Epoch 36: 100%|██████████| 373/373 [00:01<00:00, 254.88it/s]\n",
      "Training Epoch 37: 100%|██████████| 373/373 [00:01<00:00, 243.02it/s]\n",
      "Training Epoch 38: 100%|██████████| 373/373 [00:01<00:00, 247.74it/s]\n",
      "Training Epoch 39: 100%|██████████| 373/373 [00:01<00:00, 241.94it/s]\n",
      "Training Epoch 40: 100%|██████████| 373/373 [00:01<00:00, 237.87it/s]\n",
      "Training Epoch 41: 100%|██████████| 373/373 [00:01<00:00, 242.15it/s]\n"
     ]
    },
    {
     "name": "stdout",
     "output_type": "stream",
     "text": [
      "Epoch 40 - Train Loss: 1.2660, Train MSE: 1.2602, Train MAE: 0.8584\n",
      "Epoch 40 - Validation Loss: 1.4863, Validation MSE: 1.4880, Validation MAE: 0.9060\n"
     ]
    },
    {
     "name": "stderr",
     "output_type": "stream",
     "text": [
      "Training Epoch 42: 100%|██████████| 373/373 [00:01<00:00, 242.66it/s]\n",
      "Training Epoch 43: 100%|██████████| 373/373 [00:01<00:00, 237.66it/s]\n",
      "Training Epoch 44: 100%|██████████| 373/373 [00:01<00:00, 239.90it/s]\n",
      "Training Epoch 45: 100%|██████████| 373/373 [00:01<00:00, 245.58it/s]\n",
      "Training Epoch 46: 100%|██████████| 373/373 [00:01<00:00, 241.99it/s]\n",
      "Training Epoch 47: 100%|██████████| 373/373 [00:01<00:00, 244.55it/s]\n",
      "Training Epoch 48: 100%|██████████| 373/373 [00:01<00:00, 248.63it/s]\n",
      "Training Epoch 49: 100%|██████████| 373/373 [00:01<00:00, 250.28it/s]\n",
      "Training Epoch 50: 100%|██████████| 373/373 [00:01<00:00, 225.39it/s]\n",
      "Training Epoch 51: 100%|██████████| 373/373 [00:01<00:00, 237.74it/s]\n"
     ]
    },
    {
     "name": "stdout",
     "output_type": "stream",
     "text": [
      "Epoch 50 - Train Loss: 1.1987, Train MSE: 1.2008, Train MAE: 0.8354\n",
      "Epoch 50 - Validation Loss: 1.4287, Validation MSE: 1.4319, Validation MAE: 0.8956\n"
     ]
    },
    {
     "name": "stderr",
     "output_type": "stream",
     "text": [
      "Training Epoch 52: 100%|██████████| 373/373 [00:01<00:00, 244.74it/s]\n",
      "Training Epoch 53: 100%|██████████| 373/373 [00:01<00:00, 246.55it/s]\n",
      "Training Epoch 54: 100%|██████████| 373/373 [00:01<00:00, 248.25it/s]\n",
      "Training Epoch 55: 100%|██████████| 373/373 [00:01<00:00, 228.38it/s]\n",
      "Training Epoch 56: 100%|██████████| 373/373 [00:01<00:00, 225.14it/s]\n",
      "Training Epoch 57: 100%|██████████| 373/373 [00:01<00:00, 225.51it/s]\n",
      "Training Epoch 58: 100%|██████████| 373/373 [00:01<00:00, 224.98it/s]\n",
      "Training Epoch 59: 100%|██████████| 373/373 [00:01<00:00, 230.34it/s]\n",
      "Training Epoch 60: 100%|██████████| 373/373 [00:01<00:00, 234.30it/s]\n",
      "Training Epoch 61: 100%|██████████| 373/373 [00:01<00:00, 242.59it/s]\n"
     ]
    },
    {
     "name": "stdout",
     "output_type": "stream",
     "text": [
      "Epoch 60 - Train Loss: 1.1176, Train MSE: 1.1174, Train MAE: 0.8052\n",
      "Epoch 60 - Validation Loss: 1.4025, Validation MSE: 1.4050, Validation MAE: 0.8901\n"
     ]
    },
    {
     "name": "stderr",
     "output_type": "stream",
     "text": [
      "Training Epoch 62: 100%|██████████| 373/373 [00:01<00:00, 235.22it/s]\n",
      "Training Epoch 63: 100%|██████████| 373/373 [00:01<00:00, 242.10it/s]\n",
      "Training Epoch 64: 100%|██████████| 373/373 [00:01<00:00, 241.24it/s]\n",
      "Training Epoch 65: 100%|██████████| 373/373 [00:01<00:00, 237.03it/s]\n",
      "Training Epoch 66: 100%|██████████| 373/373 [00:01<00:00, 238.24it/s]\n",
      "Training Epoch 67: 100%|██████████| 373/373 [00:01<00:00, 238.67it/s]\n",
      "Training Epoch 68: 100%|██████████| 373/373 [00:01<00:00, 242.21it/s]\n",
      "Training Epoch 69: 100%|██████████| 373/373 [00:01<00:00, 242.19it/s]\n",
      "Training Epoch 70: 100%|██████████| 373/373 [00:01<00:00, 229.53it/s]\n",
      "Training Epoch 71: 100%|██████████| 373/373 [00:01<00:00, 244.61it/s]\n"
     ]
    },
    {
     "name": "stdout",
     "output_type": "stream",
     "text": [
      "Epoch 70 - Train Loss: 1.0711, Train MSE: 1.0682, Train MAE: 0.7862\n",
      "Epoch 70 - Validation Loss: 1.4054, Validation MSE: 1.4081, Validation MAE: 0.8853\n"
     ]
    },
    {
     "name": "stderr",
     "output_type": "stream",
     "text": [
      "Training Epoch 72: 100%|██████████| 373/373 [00:01<00:00, 241.41it/s]\n",
      "Training Epoch 73: 100%|██████████| 373/373 [00:01<00:00, 232.04it/s]\n",
      "Training Epoch 74: 100%|██████████| 373/373 [00:01<00:00, 241.90it/s]\n",
      "Training Epoch 75: 100%|██████████| 373/373 [00:01<00:00, 226.30it/s]\n",
      "Training Epoch 76: 100%|██████████| 373/373 [00:01<00:00, 241.13it/s]\n",
      "Training Epoch 77: 100%|██████████| 373/373 [00:01<00:00, 252.49it/s]\n",
      "Training Epoch 78: 100%|██████████| 373/373 [00:01<00:00, 245.07it/s]\n",
      "Training Epoch 79: 100%|██████████| 373/373 [00:01<00:00, 242.17it/s]\n",
      "Training Epoch 80: 100%|██████████| 373/373 [00:01<00:00, 247.94it/s]\n",
      "Training Epoch 81: 100%|██████████| 373/373 [00:01<00:00, 244.51it/s]\n"
     ]
    },
    {
     "name": "stdout",
     "output_type": "stream",
     "text": [
      "Epoch 80 - Train Loss: 1.0476, Train MSE: 1.0486, Train MAE: 0.7786\n",
      "Epoch 80 - Validation Loss: 1.3181, Validation MSE: 1.3209, Validation MAE: 0.8493\n"
     ]
    },
    {
     "name": "stderr",
     "output_type": "stream",
     "text": [
      "Training Epoch 82: 100%|██████████| 373/373 [00:01<00:00, 242.20it/s]\n",
      "Training Epoch 83: 100%|██████████| 373/373 [00:01<00:00, 245.98it/s]\n",
      "Training Epoch 84: 100%|██████████| 373/373 [00:01<00:00, 247.17it/s]\n",
      "Training Epoch 85: 100%|██████████| 373/373 [00:01<00:00, 241.79it/s]\n",
      "Training Epoch 86: 100%|██████████| 373/373 [00:01<00:00, 245.93it/s]\n",
      "Training Epoch 87: 100%|██████████| 373/373 [00:01<00:00, 244.73it/s]\n",
      "Training Epoch 88: 100%|██████████| 373/373 [00:01<00:00, 247.24it/s]\n",
      "Training Epoch 89: 100%|██████████| 373/373 [00:01<00:00, 247.23it/s]\n",
      "Training Epoch 90: 100%|██████████| 373/373 [00:01<00:00, 251.47it/s]\n",
      "Training Epoch 91: 100%|██████████| 373/373 [00:01<00:00, 246.71it/s]\n"
     ]
    },
    {
     "name": "stdout",
     "output_type": "stream",
     "text": [
      "Epoch 90 - Train Loss: 1.0082, Train MSE: 1.0090, Train MAE: 0.7607\n",
      "Epoch 90 - Validation Loss: 1.3211, Validation MSE: 1.3226, Validation MAE: 0.8561\n"
     ]
    },
    {
     "name": "stderr",
     "output_type": "stream",
     "text": [
      "Training Epoch 92: 100%|██████████| 373/373 [00:01<00:00, 251.20it/s]\n",
      "Training Epoch 93: 100%|██████████| 373/373 [00:01<00:00, 247.68it/s]\n",
      "Training Epoch 94: 100%|██████████| 373/373 [00:01<00:00, 254.78it/s]\n",
      "Training Epoch 95: 100%|██████████| 373/373 [00:01<00:00, 239.21it/s]\n",
      "Training Epoch 96: 100%|██████████| 373/373 [00:01<00:00, 236.91it/s]\n",
      "Training Epoch 97: 100%|██████████| 373/373 [00:01<00:00, 246.27it/s]\n",
      "Training Epoch 98: 100%|██████████| 373/373 [00:01<00:00, 247.34it/s]\n",
      "Training Epoch 99: 100%|██████████| 373/373 [00:01<00:00, 241.96it/s]\n",
      "Training Epoch 100: 100%|██████████| 373/373 [00:01<00:00, 233.47it/s]\n",
      "Training Epoch 101: 100%|██████████| 373/373 [00:01<00:00, 244.54it/s]\n"
     ]
    },
    {
     "name": "stdout",
     "output_type": "stream",
     "text": [
      "Epoch 100 - Train Loss: 0.9608, Train MSE: 0.9625, Train MAE: 0.7435\n",
      "Epoch 100 - Validation Loss: 1.3243, Validation MSE: 1.3274, Validation MAE: 0.8391\n"
     ]
    },
    {
     "name": "stderr",
     "output_type": "stream",
     "text": [
      "Training Epoch 102: 100%|██████████| 373/373 [00:01<00:00, 239.11it/s]\n",
      "Training Epoch 103: 100%|██████████| 373/373 [00:01<00:00, 230.06it/s]\n",
      "Training Epoch 104: 100%|██████████| 373/373 [00:01<00:00, 223.79it/s]\n",
      "Training Epoch 105: 100%|██████████| 373/373 [00:01<00:00, 242.80it/s]\n",
      "Training Epoch 106: 100%|██████████| 373/373 [00:01<00:00, 241.53it/s]\n",
      "Training Epoch 107: 100%|██████████| 373/373 [00:01<00:00, 232.52it/s]\n",
      "Training Epoch 108: 100%|██████████| 373/373 [00:01<00:00, 240.02it/s]\n",
      "Training Epoch 109: 100%|██████████| 373/373 [00:01<00:00, 243.00it/s]\n",
      "Training Epoch 110: 100%|██████████| 373/373 [00:01<00:00, 248.26it/s]\n",
      "Training Epoch 111: 100%|██████████| 373/373 [00:01<00:00, 245.19it/s]\n"
     ]
    },
    {
     "name": "stdout",
     "output_type": "stream",
     "text": [
      "Epoch 110 - Train Loss: 0.9491, Train MSE: 0.9507, Train MAE: 0.7372\n",
      "Epoch 110 - Validation Loss: 1.3017, Validation MSE: 1.3045, Validation MAE: 0.8303\n"
     ]
    },
    {
     "name": "stderr",
     "output_type": "stream",
     "text": [
      "Training Epoch 112: 100%|██████████| 373/373 [00:01<00:00, 257.25it/s]\n",
      "Training Epoch 113: 100%|██████████| 373/373 [00:01<00:00, 242.82it/s]\n",
      "Training Epoch 114: 100%|██████████| 373/373 [00:01<00:00, 236.95it/s]\n",
      "Training Epoch 115: 100%|██████████| 373/373 [00:01<00:00, 238.49it/s]\n",
      "Training Epoch 116: 100%|██████████| 373/373 [00:01<00:00, 237.84it/s]\n",
      "Training Epoch 117: 100%|██████████| 373/373 [00:01<00:00, 240.94it/s]\n",
      "Training Epoch 118: 100%|██████████| 373/373 [00:01<00:00, 236.69it/s]\n",
      "Training Epoch 119: 100%|██████████| 373/373 [00:01<00:00, 244.43it/s]\n",
      "Training Epoch 120: 100%|██████████| 373/373 [00:01<00:00, 248.87it/s]\n",
      "Training Epoch 121: 100%|██████████| 373/373 [00:01<00:00, 246.66it/s]\n"
     ]
    },
    {
     "name": "stdout",
     "output_type": "stream",
     "text": [
      "Epoch 120 - Train Loss: 0.9285, Train MSE: 0.9287, Train MAE: 0.7256\n",
      "Epoch 120 - Validation Loss: 1.2780, Validation MSE: 1.2802, Validation MAE: 0.8262\n"
     ]
    },
    {
     "name": "stderr",
     "output_type": "stream",
     "text": [
      "Training Epoch 122: 100%|██████████| 373/373 [00:01<00:00, 246.62it/s]\n",
      "Training Epoch 123: 100%|██████████| 373/373 [00:01<00:00, 245.47it/s]\n",
      "Training Epoch 124: 100%|██████████| 373/373 [00:01<00:00, 247.78it/s]\n",
      "Training Epoch 125: 100%|██████████| 373/373 [00:01<00:00, 245.14it/s]\n",
      "Training Epoch 126: 100%|██████████| 373/373 [00:01<00:00, 239.59it/s]\n",
      "Training Epoch 127: 100%|██████████| 373/373 [00:01<00:00, 239.78it/s]\n",
      "Training Epoch 128: 100%|██████████| 373/373 [00:01<00:00, 244.11it/s]\n",
      "Training Epoch 129: 100%|██████████| 373/373 [00:01<00:00, 248.87it/s]\n",
      "Training Epoch 130: 100%|██████████| 373/373 [00:01<00:00, 247.22it/s]\n",
      "Training Epoch 131: 100%|██████████| 373/373 [00:01<00:00, 241.62it/s]\n"
     ]
    },
    {
     "name": "stdout",
     "output_type": "stream",
     "text": [
      "Epoch 130 - Train Loss: 0.9061, Train MSE: 0.9073, Train MAE: 0.7197\n",
      "Epoch 130 - Validation Loss: 1.2749, Validation MSE: 1.2775, Validation MAE: 0.8217\n"
     ]
    },
    {
     "name": "stderr",
     "output_type": "stream",
     "text": [
      "Training Epoch 132: 100%|██████████| 373/373 [00:01<00:00, 237.30it/s]\n",
      "Training Epoch 133: 100%|██████████| 373/373 [00:01<00:00, 231.73it/s]\n",
      "Training Epoch 134: 100%|██████████| 373/373 [00:01<00:00, 233.96it/s]\n",
      "Training Epoch 135: 100%|██████████| 373/373 [00:01<00:00, 250.22it/s]\n",
      "Training Epoch 136: 100%|██████████| 373/373 [00:01<00:00, 244.12it/s]\n",
      "Training Epoch 137: 100%|██████████| 373/373 [00:01<00:00, 248.01it/s]\n",
      "Training Epoch 138: 100%|██████████| 373/373 [00:01<00:00, 247.48it/s]\n",
      "Training Epoch 139: 100%|██████████| 373/373 [00:01<00:00, 252.44it/s]\n",
      "Training Epoch 140: 100%|██████████| 373/373 [00:01<00:00, 236.79it/s]\n",
      "Training Epoch 141: 100%|██████████| 373/373 [00:01<00:00, 249.12it/s]\n"
     ]
    },
    {
     "name": "stdout",
     "output_type": "stream",
     "text": [
      "Epoch 140 - Train Loss: 0.8900, Train MSE: 0.8844, Train MAE: 0.7058\n",
      "Epoch 140 - Validation Loss: 1.2847, Validation MSE: 1.2875, Validation MAE: 0.8229\n"
     ]
    },
    {
     "name": "stderr",
     "output_type": "stream",
     "text": [
      "Training Epoch 142: 100%|██████████| 373/373 [00:01<00:00, 236.04it/s]\n",
      "Training Epoch 143: 100%|██████████| 373/373 [00:01<00:00, 227.33it/s]\n",
      "Training Epoch 144: 100%|██████████| 373/373 [00:01<00:00, 236.52it/s]\n",
      "Training Epoch 145: 100%|██████████| 373/373 [00:01<00:00, 233.22it/s]\n",
      "Training Epoch 146: 100%|██████████| 373/373 [00:01<00:00, 240.12it/s]\n",
      "Training Epoch 147: 100%|██████████| 373/373 [00:01<00:00, 237.27it/s]\n",
      "Training Epoch 148: 100%|██████████| 373/373 [00:01<00:00, 240.48it/s]\n",
      "Training Epoch 149: 100%|██████████| 373/373 [00:01<00:00, 243.39it/s]\n",
      "Training Epoch 150: 100%|██████████| 373/373 [00:01<00:00, 245.43it/s]\n",
      "Training Epoch 151: 100%|██████████| 373/373 [00:01<00:00, 246.95it/s]\n"
     ]
    },
    {
     "name": "stdout",
     "output_type": "stream",
     "text": [
      "Epoch 150 - Train Loss: 0.8767, Train MSE: 0.8773, Train MAE: 0.7035\n",
      "Epoch 150 - Validation Loss: 1.3107, Validation MSE: 1.3132, Validation MAE: 0.8321\n"
     ]
    },
    {
     "name": "stderr",
     "output_type": "stream",
     "text": [
      "Training Epoch 152: 100%|██████████| 373/373 [00:01<00:00, 243.40it/s]\n",
      "Training Epoch 153: 100%|██████████| 373/373 [00:01<00:00, 248.46it/s]\n",
      "Training Epoch 154: 100%|██████████| 373/373 [00:01<00:00, 247.39it/s]\n",
      "Training Epoch 155: 100%|██████████| 373/373 [00:01<00:00, 245.07it/s]\n",
      "Training Epoch 156: 100%|██████████| 373/373 [00:01<00:00, 244.98it/s]\n",
      "Training Epoch 157: 100%|██████████| 373/373 [00:01<00:00, 234.58it/s]\n",
      "Training Epoch 158: 100%|██████████| 373/373 [00:01<00:00, 239.64it/s]\n",
      "Training Epoch 159: 100%|██████████| 373/373 [00:01<00:00, 240.47it/s]\n",
      "Training Epoch 160: 100%|██████████| 373/373 [00:01<00:00, 251.60it/s]\n",
      "Training Epoch 161: 100%|██████████| 373/373 [00:01<00:00, 241.40it/s]\n"
     ]
    },
    {
     "name": "stdout",
     "output_type": "stream",
     "text": [
      "Epoch 160 - Train Loss: 0.8584, Train MSE: 0.8535, Train MAE: 0.6900\n",
      "Epoch 160 - Validation Loss: 1.2945, Validation MSE: 1.2965, Validation MAE: 0.8294\n"
     ]
    },
    {
     "name": "stderr",
     "output_type": "stream",
     "text": [
      "Training Epoch 162: 100%|██████████| 373/373 [00:01<00:00, 250.09it/s]\n",
      "Training Epoch 163: 100%|██████████| 373/373 [00:01<00:00, 249.43it/s]\n",
      "Training Epoch 164: 100%|██████████| 373/373 [00:01<00:00, 243.63it/s]\n",
      "Training Epoch 165: 100%|██████████| 373/373 [00:01<00:00, 248.22it/s]\n",
      "Training Epoch 166: 100%|██████████| 373/373 [00:01<00:00, 245.05it/s]\n",
      "Training Epoch 167: 100%|██████████| 373/373 [00:01<00:00, 241.59it/s]\n",
      "Training Epoch 168: 100%|██████████| 373/373 [00:01<00:00, 235.42it/s]\n",
      "Training Epoch 169: 100%|██████████| 373/373 [00:01<00:00, 243.53it/s]\n",
      "Training Epoch 170: 100%|██████████| 373/373 [00:01<00:00, 234.75it/s]\n",
      "Training Epoch 171: 100%|██████████| 373/373 [00:01<00:00, 244.40it/s]\n"
     ]
    },
    {
     "name": "stdout",
     "output_type": "stream",
     "text": [
      "Epoch 170 - Train Loss: 0.8375, Train MSE: 0.8388, Train MAE: 0.6871\n",
      "Epoch 170 - Validation Loss: 1.2902, Validation MSE: 1.2925, Validation MAE: 0.8250\n"
     ]
    },
    {
     "name": "stderr",
     "output_type": "stream",
     "text": [
      "Training Epoch 172: 100%|██████████| 373/373 [00:01<00:00, 246.14it/s]\n",
      "Training Epoch 173: 100%|██████████| 373/373 [00:01<00:00, 243.26it/s]\n",
      "Training Epoch 174: 100%|██████████| 373/373 [00:01<00:00, 240.99it/s]\n",
      "Training Epoch 175: 100%|██████████| 373/373 [00:01<00:00, 233.14it/s]\n",
      "Training Epoch 176: 100%|██████████| 373/373 [00:01<00:00, 247.45it/s]\n",
      "Training Epoch 177: 100%|██████████| 373/373 [00:01<00:00, 248.95it/s]\n",
      "Training Epoch 178: 100%|██████████| 373/373 [00:01<00:00, 244.07it/s]\n",
      "Training Epoch 179: 100%|██████████| 373/373 [00:01<00:00, 240.02it/s]\n",
      "Training Epoch 180: 100%|██████████| 373/373 [00:01<00:00, 249.34it/s]\n",
      "Training Epoch 181: 100%|██████████| 373/373 [00:01<00:00, 237.69it/s]\n"
     ]
    },
    {
     "name": "stdout",
     "output_type": "stream",
     "text": [
      "Epoch 180 - Train Loss: 0.8244, Train MSE: 0.8261, Train MAE: 0.6797\n",
      "Epoch 180 - Validation Loss: 1.2610, Validation MSE: 1.2632, Validation MAE: 0.8132\n"
     ]
    },
    {
     "name": "stderr",
     "output_type": "stream",
     "text": [
      "Training Epoch 182: 100%|██████████| 373/373 [00:01<00:00, 245.41it/s]\n",
      "Training Epoch 183: 100%|██████████| 373/373 [00:01<00:00, 245.93it/s]\n",
      "Training Epoch 184: 100%|██████████| 373/373 [00:01<00:00, 247.58it/s]\n",
      "Training Epoch 185: 100%|██████████| 373/373 [00:01<00:00, 237.91it/s]\n",
      "Training Epoch 186: 100%|██████████| 373/373 [00:01<00:00, 242.44it/s]\n",
      "Training Epoch 187: 100%|██████████| 373/373 [00:01<00:00, 239.72it/s]\n",
      "Training Epoch 188: 100%|██████████| 373/373 [00:01<00:00, 242.57it/s]\n",
      "Training Epoch 189: 100%|██████████| 373/373 [00:01<00:00, 233.87it/s]\n",
      "Training Epoch 190: 100%|██████████| 373/373 [00:01<00:00, 239.17it/s]\n",
      "Training Epoch 191: 100%|██████████| 373/373 [00:01<00:00, 239.66it/s]\n"
     ]
    },
    {
     "name": "stdout",
     "output_type": "stream",
     "text": [
      "Epoch 190 - Train Loss: 0.8231, Train MSE: 0.8247, Train MAE: 0.6769\n",
      "Epoch 190 - Validation Loss: 1.2996, Validation MSE: 1.3021, Validation MAE: 0.8223\n"
     ]
    },
    {
     "name": "stderr",
     "output_type": "stream",
     "text": [
      "Training Epoch 192: 100%|██████████| 373/373 [00:01<00:00, 243.97it/s]\n",
      "Training Epoch 193: 100%|██████████| 373/373 [00:01<00:00, 244.25it/s]\n",
      "Training Epoch 194: 100%|██████████| 373/373 [00:01<00:00, 237.89it/s]\n",
      "Training Epoch 195: 100%|██████████| 373/373 [00:01<00:00, 238.18it/s]\n",
      "Training Epoch 196: 100%|██████████| 373/373 [00:01<00:00, 235.29it/s]\n",
      "Training Epoch 197: 100%|██████████| 373/373 [00:01<00:00, 237.11it/s]\n",
      "Training Epoch 198: 100%|██████████| 373/373 [00:01<00:00, 237.58it/s]\n",
      "Training Epoch 199: 100%|██████████| 373/373 [00:01<00:00, 245.10it/s]\n",
      "Training Epoch 200: 100%|██████████| 373/373 [00:01<00:00, 233.69it/s]\n",
      "Training Epoch 201: 100%|██████████| 373/373 [00:01<00:00, 238.29it/s]\n"
     ]
    },
    {
     "name": "stdout",
     "output_type": "stream",
     "text": [
      "Epoch 200 - Train Loss: 0.8066, Train MSE: 0.8067, Train MAE: 0.6708\n",
      "Epoch 200 - Validation Loss: 1.3002, Validation MSE: 1.3028, Validation MAE: 0.8227\n"
     ]
    },
    {
     "name": "stderr",
     "output_type": "stream",
     "text": [
      "Training Epoch 202: 100%|██████████| 373/373 [00:01<00:00, 242.86it/s]\n",
      "Training Epoch 203: 100%|██████████| 373/373 [00:01<00:00, 238.63it/s]\n",
      "Training Epoch 204: 100%|██████████| 373/373 [00:01<00:00, 245.94it/s]\n",
      "Training Epoch 205: 100%|██████████| 373/373 [00:01<00:00, 221.15it/s]\n",
      "Training Epoch 206: 100%|██████████| 373/373 [00:01<00:00, 220.37it/s]\n",
      "Training Epoch 207: 100%|██████████| 373/373 [00:01<00:00, 233.82it/s]\n",
      "Training Epoch 208: 100%|██████████| 373/373 [00:01<00:00, 245.48it/s]\n",
      "Training Epoch 209: 100%|██████████| 373/373 [00:01<00:00, 242.89it/s]\n",
      "Training Epoch 210: 100%|██████████| 373/373 [00:01<00:00, 241.11it/s]\n",
      "Training Epoch 211: 100%|██████████| 373/373 [00:01<00:00, 245.30it/s]\n"
     ]
    },
    {
     "name": "stdout",
     "output_type": "stream",
     "text": [
      "Epoch 210 - Train Loss: 0.7931, Train MSE: 0.7927, Train MAE: 0.6638\n",
      "Epoch 210 - Validation Loss: 1.2714, Validation MSE: 1.2737, Validation MAE: 0.8183\n"
     ]
    },
    {
     "name": "stderr",
     "output_type": "stream",
     "text": [
      "Training Epoch 212: 100%|██████████| 373/373 [00:01<00:00, 244.93it/s]\n",
      "Training Epoch 213: 100%|██████████| 373/373 [00:01<00:00, 246.96it/s]\n",
      "Training Epoch 214: 100%|██████████| 373/373 [00:01<00:00, 247.74it/s]\n",
      "Training Epoch 215: 100%|██████████| 373/373 [00:01<00:00, 249.48it/s]\n",
      "Training Epoch 216: 100%|██████████| 373/373 [00:01<00:00, 243.70it/s]\n",
      "Training Epoch 217: 100%|██████████| 373/373 [00:01<00:00, 249.56it/s]\n",
      "Training Epoch 218: 100%|██████████| 373/373 [00:01<00:00, 241.42it/s]\n",
      "Training Epoch 219: 100%|██████████| 373/373 [00:01<00:00, 248.45it/s]\n",
      "Training Epoch 220: 100%|██████████| 373/373 [00:01<00:00, 247.31it/s]\n",
      "Training Epoch 221: 100%|██████████| 373/373 [00:01<00:00, 247.51it/s]\n"
     ]
    },
    {
     "name": "stdout",
     "output_type": "stream",
     "text": [
      "Epoch 220 - Train Loss: 0.7945, Train MSE: 0.7952, Train MAE: 0.6610\n",
      "Epoch 220 - Validation Loss: 1.3063, Validation MSE: 1.3085, Validation MAE: 0.8290\n"
     ]
    },
    {
     "name": "stderr",
     "output_type": "stream",
     "text": [
      "Training Epoch 222: 100%|██████████| 373/373 [00:01<00:00, 244.57it/s]\n",
      "Training Epoch 223: 100%|██████████| 373/373 [00:01<00:00, 249.67it/s]\n",
      "Training Epoch 224: 100%|██████████| 373/373 [00:01<00:00, 246.25it/s]\n",
      "Training Epoch 225: 100%|██████████| 373/373 [00:01<00:00, 245.89it/s]\n",
      "Training Epoch 226: 100%|██████████| 373/373 [00:01<00:00, 243.66it/s]\n",
      "Training Epoch 227: 100%|██████████| 373/373 [00:01<00:00, 247.64it/s]\n",
      "Training Epoch 228: 100%|██████████| 373/373 [00:01<00:00, 245.52it/s]\n",
      "Training Epoch 229: 100%|██████████| 373/373 [00:01<00:00, 247.05it/s]\n",
      "Training Epoch 230: 100%|██████████| 373/373 [00:01<00:00, 248.81it/s]\n",
      "Training Epoch 231: 100%|██████████| 373/373 [00:01<00:00, 247.46it/s]\n"
     ]
    },
    {
     "name": "stdout",
     "output_type": "stream",
     "text": [
      "Epoch 230 - Train Loss: 0.7732, Train MSE: 0.7736, Train MAE: 0.6510\n",
      "Epoch 230 - Validation Loss: 1.2663, Validation MSE: 1.2682, Validation MAE: 0.8158\n"
     ]
    },
    {
     "name": "stderr",
     "output_type": "stream",
     "text": [
      "Training Epoch 232: 100%|██████████| 373/373 [00:01<00:00, 248.15it/s]\n",
      "Training Epoch 233: 100%|██████████| 373/373 [00:01<00:00, 244.89it/s]\n",
      "Training Epoch 234: 100%|██████████| 373/373 [00:01<00:00, 246.14it/s]\n",
      "Training Epoch 235: 100%|██████████| 373/373 [00:01<00:00, 248.81it/s]\n",
      "Training Epoch 236: 100%|██████████| 373/373 [00:01<00:00, 246.79it/s]\n",
      "Training Epoch 237: 100%|██████████| 373/373 [00:01<00:00, 246.73it/s]\n",
      "Training Epoch 238: 100%|██████████| 373/373 [00:01<00:00, 246.03it/s]\n",
      "Training Epoch 239: 100%|██████████| 373/373 [00:01<00:00, 245.99it/s]\n",
      "Training Epoch 240: 100%|██████████| 373/373 [00:01<00:00, 247.20it/s]\n",
      "Training Epoch 241: 100%|██████████| 373/373 [00:01<00:00, 246.69it/s]\n"
     ]
    },
    {
     "name": "stdout",
     "output_type": "stream",
     "text": [
      "Epoch 240 - Train Loss: 0.7695, Train MSE: 0.7704, Train MAE: 0.6521\n",
      "Epoch 240 - Validation Loss: 1.2742, Validation MSE: 1.2768, Validation MAE: 0.8135\n"
     ]
    },
    {
     "name": "stderr",
     "output_type": "stream",
     "text": [
      "Training Epoch 242: 100%|██████████| 373/373 [00:01<00:00, 243.85it/s]\n",
      "Training Epoch 243: 100%|██████████| 373/373 [00:01<00:00, 243.94it/s]\n",
      "Training Epoch 244: 100%|██████████| 373/373 [00:01<00:00, 247.38it/s]\n",
      "Training Epoch 245: 100%|██████████| 373/373 [00:01<00:00, 245.30it/s]\n",
      "Training Epoch 246: 100%|██████████| 373/373 [00:01<00:00, 247.31it/s]\n",
      "Training Epoch 247: 100%|██████████| 373/373 [00:01<00:00, 239.14it/s]\n",
      "Training Epoch 248: 100%|██████████| 373/373 [00:01<00:00, 245.46it/s]\n",
      "Training Epoch 249: 100%|██████████| 373/373 [00:01<00:00, 246.61it/s]\n",
      "Training Epoch 250: 100%|██████████| 373/373 [00:01<00:00, 249.78it/s]\n",
      "Training Epoch 251: 100%|██████████| 373/373 [00:01<00:00, 241.58it/s]\n"
     ]
    },
    {
     "name": "stdout",
     "output_type": "stream",
     "text": [
      "Epoch 250 - Train Loss: 0.7500, Train MSE: 0.7509, Train MAE: 0.6434\n",
      "Epoch 250 - Validation Loss: 1.2800, Validation MSE: 1.2822, Validation MAE: 0.8149\n"
     ]
    },
    {
     "name": "stderr",
     "output_type": "stream",
     "text": [
      "Training Epoch 252: 100%|██████████| 373/373 [00:01<00:00, 243.16it/s]\n",
      "Training Epoch 253: 100%|██████████| 373/373 [00:01<00:00, 242.14it/s]\n",
      "Training Epoch 254: 100%|██████████| 373/373 [00:01<00:00, 242.62it/s]\n",
      "Training Epoch 255: 100%|██████████| 373/373 [00:01<00:00, 242.20it/s]\n",
      "Training Epoch 256: 100%|██████████| 373/373 [00:01<00:00, 243.02it/s]\n",
      "Training Epoch 257: 100%|██████████| 373/373 [00:01<00:00, 242.02it/s]\n",
      "Training Epoch 258: 100%|██████████| 373/373 [00:01<00:00, 246.40it/s]\n",
      "Training Epoch 259: 100%|██████████| 373/373 [00:01<00:00, 244.80it/s]\n",
      "Training Epoch 260: 100%|██████████| 373/373 [00:01<00:00, 244.31it/s]\n",
      "Training Epoch 261: 100%|██████████| 373/373 [00:01<00:00, 250.11it/s]\n"
     ]
    },
    {
     "name": "stdout",
     "output_type": "stream",
     "text": [
      "Epoch 260 - Train Loss: 0.7464, Train MSE: 0.7465, Train MAE: 0.6379\n",
      "Epoch 260 - Validation Loss: 1.2952, Validation MSE: 1.2969, Validation MAE: 0.8199\n"
     ]
    },
    {
     "name": "stderr",
     "output_type": "stream",
     "text": [
      "Training Epoch 262: 100%|██████████| 373/373 [00:01<00:00, 249.64it/s]\n",
      "Training Epoch 263: 100%|██████████| 373/373 [00:01<00:00, 239.80it/s]\n",
      "Training Epoch 264: 100%|██████████| 373/373 [00:01<00:00, 247.73it/s]\n",
      "Training Epoch 265: 100%|██████████| 373/373 [00:01<00:00, 249.77it/s]\n",
      "Training Epoch 266: 100%|██████████| 373/373 [00:01<00:00, 244.84it/s]\n",
      "Training Epoch 267: 100%|██████████| 373/373 [00:01<00:00, 243.68it/s]\n",
      "Training Epoch 268: 100%|██████████| 373/373 [00:01<00:00, 246.93it/s]\n",
      "Training Epoch 269: 100%|██████████| 373/373 [00:01<00:00, 248.04it/s]\n",
      "Training Epoch 270: 100%|██████████| 373/373 [00:01<00:00, 247.87it/s]\n",
      "Training Epoch 271: 100%|██████████| 373/373 [00:01<00:00, 242.55it/s]\n"
     ]
    },
    {
     "name": "stdout",
     "output_type": "stream",
     "text": [
      "Epoch 270 - Train Loss: 0.7437, Train MSE: 0.7452, Train MAE: 0.6384\n",
      "Epoch 270 - Validation Loss: 1.2939, Validation MSE: 1.2960, Validation MAE: 0.8151\n"
     ]
    },
    {
     "name": "stderr",
     "output_type": "stream",
     "text": [
      "Training Epoch 272: 100%|██████████| 373/373 [00:01<00:00, 246.14it/s]\n",
      "Training Epoch 273: 100%|██████████| 373/373 [00:01<00:00, 244.40it/s]\n",
      "Training Epoch 274: 100%|██████████| 373/373 [00:01<00:00, 246.96it/s]\n",
      "Training Epoch 275: 100%|██████████| 373/373 [00:01<00:00, 245.92it/s]\n",
      "Training Epoch 276: 100%|██████████| 373/373 [00:01<00:00, 245.45it/s]\n",
      "Training Epoch 277: 100%|██████████| 373/373 [00:01<00:00, 244.92it/s]\n",
      "Training Epoch 278: 100%|██████████| 373/373 [00:01<00:00, 245.53it/s]\n",
      "Training Epoch 279: 100%|██████████| 373/373 [00:01<00:00, 244.29it/s]\n",
      "Training Epoch 280: 100%|██████████| 373/373 [00:01<00:00, 241.59it/s]\n",
      "Training Epoch 281: 100%|██████████| 373/373 [00:01<00:00, 247.47it/s]\n"
     ]
    },
    {
     "name": "stdout",
     "output_type": "stream",
     "text": [
      "Epoch 280 - Train Loss: 0.7271, Train MSE: 0.7275, Train MAE: 0.6294\n",
      "Epoch 280 - Validation Loss: 1.2912, Validation MSE: 1.2933, Validation MAE: 0.8146\n"
     ]
    },
    {
     "name": "stderr",
     "output_type": "stream",
     "text": [
      "Training Epoch 282: 100%|██████████| 373/373 [00:01<00:00, 248.45it/s]\n",
      "Training Epoch 283: 100%|██████████| 373/373 [00:01<00:00, 243.24it/s]\n",
      "Training Epoch 284: 100%|██████████| 373/373 [00:01<00:00, 247.00it/s]\n",
      "Training Epoch 285: 100%|██████████| 373/373 [00:01<00:00, 245.76it/s]\n",
      "Training Epoch 286: 100%|██████████| 373/373 [00:01<00:00, 240.66it/s]\n",
      "Training Epoch 287: 100%|██████████| 373/373 [00:01<00:00, 241.28it/s]\n",
      "Training Epoch 288: 100%|██████████| 373/373 [00:01<00:00, 247.77it/s]\n",
      "Training Epoch 289: 100%|██████████| 373/373 [00:01<00:00, 242.85it/s]\n",
      "Training Epoch 290: 100%|██████████| 373/373 [00:01<00:00, 248.53it/s]\n",
      "Training Epoch 291: 100%|██████████| 373/373 [00:01<00:00, 248.39it/s]\n"
     ]
    },
    {
     "name": "stdout",
     "output_type": "stream",
     "text": [
      "Epoch 290 - Train Loss: 0.7162, Train MSE: 0.7156, Train MAE: 0.6227\n",
      "Epoch 290 - Validation Loss: 1.2780, Validation MSE: 1.2798, Validation MAE: 0.8136\n"
     ]
    },
    {
     "name": "stderr",
     "output_type": "stream",
     "text": [
      "Training Epoch 292: 100%|██████████| 373/373 [00:01<00:00, 247.67it/s]\n",
      "Training Epoch 293: 100%|██████████| 373/373 [00:01<00:00, 248.67it/s]\n",
      "Training Epoch 294: 100%|██████████| 373/373 [00:01<00:00, 250.36it/s]\n",
      "Training Epoch 295: 100%|██████████| 373/373 [00:01<00:00, 238.93it/s]\n",
      "Training Epoch 296: 100%|██████████| 373/373 [00:01<00:00, 247.62it/s]\n",
      "Training Epoch 297: 100%|██████████| 373/373 [00:01<00:00, 245.82it/s]\n",
      "Training Epoch 298: 100%|██████████| 373/373 [00:01<00:00, 246.59it/s]\n",
      "Training Epoch 299: 100%|██████████| 373/373 [00:01<00:00, 196.33it/s]\n",
      "Training Epoch 300: 100%|██████████| 373/373 [00:01<00:00, 222.12it/s]\n",
      "Training Epoch 301: 100%|██████████| 373/373 [00:01<00:00, 230.65it/s]\n"
     ]
    },
    {
     "name": "stdout",
     "output_type": "stream",
     "text": [
      "Epoch 300 - Train Loss: 0.7195, Train MSE: 0.7202, Train MAE: 0.6269\n",
      "Epoch 300 - Validation Loss: 1.2803, Validation MSE: 1.2831, Validation MAE: 0.8142\n"
     ]
    },
    {
     "name": "stderr",
     "output_type": "stream",
     "text": [
      "Training Epoch 302: 100%|██████████| 373/373 [00:01<00:00, 219.44it/s]\n",
      "Training Epoch 303: 100%|██████████| 373/373 [00:01<00:00, 244.43it/s]\n",
      "Training Epoch 304: 100%|██████████| 373/373 [00:01<00:00, 240.42it/s]\n",
      "Training Epoch 305: 100%|██████████| 373/373 [00:01<00:00, 243.39it/s]\n",
      "Training Epoch 306: 100%|██████████| 373/373 [00:01<00:00, 239.29it/s]\n",
      "Training Epoch 307: 100%|██████████| 373/373 [00:01<00:00, 239.73it/s]\n",
      "Training Epoch 308: 100%|██████████| 373/373 [00:01<00:00, 246.75it/s]\n",
      "Training Epoch 309: 100%|██████████| 373/373 [00:01<00:00, 242.04it/s]\n",
      "Training Epoch 310: 100%|██████████| 373/373 [00:01<00:00, 215.49it/s]\n",
      "Training Epoch 311: 100%|██████████| 373/373 [00:01<00:00, 243.25it/s]\n"
     ]
    },
    {
     "name": "stdout",
     "output_type": "stream",
     "text": [
      "Epoch 310 - Train Loss: 0.7070, Train MSE: 0.7086, Train MAE: 0.6199\n",
      "Epoch 310 - Validation Loss: 1.2802, Validation MSE: 1.2827, Validation MAE: 0.8099\n"
     ]
    },
    {
     "name": "stderr",
     "output_type": "stream",
     "text": [
      "Training Epoch 312: 100%|██████████| 373/373 [00:01<00:00, 243.07it/s]\n",
      "Training Epoch 313: 100%|██████████| 373/373 [00:01<00:00, 238.91it/s]\n",
      "Training Epoch 314: 100%|██████████| 373/373 [00:01<00:00, 244.78it/s]\n",
      "Training Epoch 315: 100%|██████████| 373/373 [00:01<00:00, 247.49it/s]\n",
      "Training Epoch 316: 100%|██████████| 373/373 [00:01<00:00, 241.81it/s]\n",
      "Training Epoch 317: 100%|██████████| 373/373 [00:01<00:00, 232.56it/s]\n",
      "Training Epoch 318: 100%|██████████| 373/373 [00:01<00:00, 236.47it/s]\n",
      "Training Epoch 319: 100%|██████████| 373/373 [00:01<00:00, 236.23it/s]\n",
      "Training Epoch 320: 100%|██████████| 373/373 [00:01<00:00, 242.32it/s]\n",
      "Training Epoch 321: 100%|██████████| 373/373 [00:01<00:00, 213.82it/s]\n"
     ]
    },
    {
     "name": "stdout",
     "output_type": "stream",
     "text": [
      "Epoch 320 - Train Loss: 0.7061, Train MSE: 0.7074, Train MAE: 0.6172\n",
      "Epoch 320 - Validation Loss: 1.2549, Validation MSE: 1.2568, Validation MAE: 0.8043\n"
     ]
    },
    {
     "name": "stderr",
     "output_type": "stream",
     "text": [
      "Training Epoch 322: 100%|██████████| 373/373 [00:01<00:00, 242.63it/s]\n",
      "Training Epoch 323: 100%|██████████| 373/373 [00:01<00:00, 236.72it/s]\n",
      "Training Epoch 324: 100%|██████████| 373/373 [00:01<00:00, 250.94it/s]\n",
      "Training Epoch 325: 100%|██████████| 373/373 [00:01<00:00, 248.96it/s]\n",
      "Training Epoch 326: 100%|██████████| 373/373 [00:01<00:00, 244.50it/s]\n",
      "Training Epoch 327: 100%|██████████| 373/373 [00:01<00:00, 246.20it/s]\n",
      "Training Epoch 328: 100%|██████████| 373/373 [00:01<00:00, 235.31it/s]\n",
      "Training Epoch 329: 100%|██████████| 373/373 [00:01<00:00, 248.89it/s]\n",
      "Training Epoch 330: 100%|██████████| 373/373 [00:01<00:00, 242.43it/s]\n",
      "Training Epoch 331: 100%|██████████| 373/373 [00:01<00:00, 241.26it/s]\n"
     ]
    },
    {
     "name": "stdout",
     "output_type": "stream",
     "text": [
      "Epoch 330 - Train Loss: 0.7079, Train MSE: 0.7080, Train MAE: 0.6192\n",
      "Epoch 330 - Validation Loss: 1.2848, Validation MSE: 1.2874, Validation MAE: 0.8121\n"
     ]
    },
    {
     "name": "stderr",
     "output_type": "stream",
     "text": [
      "Training Epoch 332: 100%|██████████| 373/373 [00:01<00:00, 246.98it/s]\n",
      "Training Epoch 333: 100%|██████████| 373/373 [00:01<00:00, 238.63it/s]\n",
      "Training Epoch 334: 100%|██████████| 373/373 [00:01<00:00, 245.46it/s]\n",
      "Training Epoch 335: 100%|██████████| 373/373 [00:01<00:00, 238.90it/s]\n",
      "Training Epoch 336: 100%|██████████| 373/373 [00:01<00:00, 240.33it/s]\n",
      "Training Epoch 337: 100%|██████████| 373/373 [00:01<00:00, 246.30it/s]\n",
      "Training Epoch 338: 100%|██████████| 373/373 [00:01<00:00, 245.55it/s]\n",
      "Training Epoch 339: 100%|██████████| 373/373 [00:01<00:00, 212.44it/s]\n",
      "Training Epoch 340: 100%|██████████| 373/373 [00:01<00:00, 226.61it/s]\n",
      "Training Epoch 341: 100%|██████████| 373/373 [00:01<00:00, 212.99it/s]\n"
     ]
    },
    {
     "name": "stdout",
     "output_type": "stream",
     "text": [
      "Epoch 340 - Train Loss: 0.7034, Train MSE: 0.7034, Train MAE: 0.6151\n",
      "Epoch 340 - Validation Loss: 1.2832, Validation MSE: 1.2857, Validation MAE: 0.8155\n"
     ]
    },
    {
     "name": "stderr",
     "output_type": "stream",
     "text": [
      "Training Epoch 342: 100%|██████████| 373/373 [00:01<00:00, 210.23it/s]\n",
      "Training Epoch 343: 100%|██████████| 373/373 [00:01<00:00, 207.87it/s]\n",
      "Training Epoch 344: 100%|██████████| 373/373 [00:01<00:00, 205.57it/s]\n",
      "Training Epoch 345: 100%|██████████| 373/373 [00:01<00:00, 210.62it/s]\n",
      "Training Epoch 346: 100%|██████████| 373/373 [00:01<00:00, 209.33it/s]\n",
      "Training Epoch 347: 100%|██████████| 373/373 [00:01<00:00, 208.95it/s]\n",
      "Training Epoch 348: 100%|██████████| 373/373 [00:01<00:00, 228.65it/s]\n",
      "Training Epoch 349: 100%|██████████| 373/373 [00:01<00:00, 243.12it/s]\n",
      "Training Epoch 350: 100%|██████████| 373/373 [00:01<00:00, 248.06it/s]\n",
      "Training Epoch 351: 100%|██████████| 373/373 [00:01<00:00, 235.35it/s]\n"
     ]
    },
    {
     "name": "stdout",
     "output_type": "stream",
     "text": [
      "Epoch 350 - Train Loss: 0.6808, Train MSE: 0.6821, Train MAE: 0.6010\n",
      "Epoch 350 - Validation Loss: 1.2735, Validation MSE: 1.2751, Validation MAE: 0.8116\n"
     ]
    },
    {
     "name": "stderr",
     "output_type": "stream",
     "text": [
      "Training Epoch 352: 100%|██████████| 373/373 [00:01<00:00, 243.25it/s]\n",
      "Training Epoch 353: 100%|██████████| 373/373 [00:01<00:00, 244.32it/s]\n",
      "Training Epoch 354: 100%|██████████| 373/373 [00:01<00:00, 247.24it/s]\n",
      "Training Epoch 355: 100%|██████████| 373/373 [00:01<00:00, 245.26it/s]\n",
      "Training Epoch 356: 100%|██████████| 373/373 [00:01<00:00, 230.85it/s]\n",
      "Training Epoch 357: 100%|██████████| 373/373 [00:01<00:00, 249.85it/s]\n",
      "Training Epoch 358: 100%|██████████| 373/373 [00:01<00:00, 249.75it/s]\n",
      "Training Epoch 359: 100%|██████████| 373/373 [00:01<00:00, 242.98it/s]\n",
      "Training Epoch 360: 100%|██████████| 373/373 [00:01<00:00, 245.36it/s]\n",
      "Training Epoch 361: 100%|██████████| 373/373 [00:01<00:00, 232.58it/s]\n"
     ]
    },
    {
     "name": "stdout",
     "output_type": "stream",
     "text": [
      "Epoch 360 - Train Loss: 0.6919, Train MSE: 0.6932, Train MAE: 0.6104\n",
      "Epoch 360 - Validation Loss: 1.2587, Validation MSE: 1.2615, Validation MAE: 0.7938\n"
     ]
    },
    {
     "name": "stderr",
     "output_type": "stream",
     "text": [
      "Training Epoch 362: 100%|██████████| 373/373 [00:01<00:00, 244.50it/s]\n",
      "Training Epoch 363: 100%|██████████| 373/373 [00:01<00:00, 242.50it/s]\n",
      "Training Epoch 364: 100%|██████████| 373/373 [00:01<00:00, 242.94it/s]\n",
      "Training Epoch 365: 100%|██████████| 373/373 [00:01<00:00, 235.31it/s]\n",
      "Training Epoch 366: 100%|██████████| 373/373 [00:01<00:00, 240.12it/s]\n",
      "Training Epoch 367: 100%|██████████| 373/373 [00:01<00:00, 245.36it/s]\n",
      "Training Epoch 368: 100%|██████████| 373/373 [00:01<00:00, 239.92it/s]\n",
      "Training Epoch 369: 100%|██████████| 373/373 [00:01<00:00, 240.83it/s]\n",
      "Training Epoch 370: 100%|██████████| 373/373 [00:01<00:00, 245.17it/s]\n",
      "Training Epoch 371: 100%|██████████| 373/373 [00:01<00:00, 241.48it/s]\n"
     ]
    },
    {
     "name": "stdout",
     "output_type": "stream",
     "text": [
      "Epoch 370 - Train Loss: 0.6868, Train MSE: 0.6870, Train MAE: 0.6070\n",
      "Epoch 370 - Validation Loss: 1.2545, Validation MSE: 1.2570, Validation MAE: 0.7977\n"
     ]
    },
    {
     "name": "stderr",
     "output_type": "stream",
     "text": [
      "Training Epoch 372: 100%|██████████| 373/373 [00:01<00:00, 205.81it/s]\n",
      "Training Epoch 373: 100%|██████████| 373/373 [00:01<00:00, 210.49it/s]\n",
      "Training Epoch 374: 100%|██████████| 373/373 [00:01<00:00, 210.11it/s]\n",
      "Training Epoch 375: 100%|██████████| 373/373 [00:01<00:00, 204.11it/s]\n",
      "Training Epoch 376: 100%|██████████| 373/373 [00:01<00:00, 212.46it/s]\n",
      "Training Epoch 377: 100%|██████████| 373/373 [00:01<00:00, 207.30it/s]\n",
      "Training Epoch 378: 100%|██████████| 373/373 [00:01<00:00, 202.83it/s]\n",
      "Training Epoch 379: 100%|██████████| 373/373 [00:01<00:00, 190.85it/s]\n",
      "Training Epoch 380: 100%|██████████| 373/373 [00:01<00:00, 187.65it/s]\n",
      "Training Epoch 381: 100%|██████████| 373/373 [00:01<00:00, 193.33it/s]\n"
     ]
    },
    {
     "name": "stdout",
     "output_type": "stream",
     "text": [
      "Epoch 380 - Train Loss: 0.6795, Train MSE: 0.6811, Train MAE: 0.6023\n",
      "Epoch 380 - Validation Loss: 1.2802, Validation MSE: 1.2820, Validation MAE: 0.8125\n"
     ]
    },
    {
     "name": "stderr",
     "output_type": "stream",
     "text": [
      "Training Epoch 382: 100%|██████████| 373/373 [00:01<00:00, 197.58it/s]\n",
      "Training Epoch 383: 100%|██████████| 373/373 [00:01<00:00, 192.09it/s]\n",
      "Training Epoch 384: 100%|██████████| 373/373 [00:01<00:00, 193.07it/s]\n",
      "Training Epoch 385: 100%|██████████| 373/373 [00:01<00:00, 189.37it/s]\n",
      "Training Epoch 386: 100%|██████████| 373/373 [00:01<00:00, 194.51it/s]\n",
      "Training Epoch 387: 100%|██████████| 373/373 [00:01<00:00, 191.44it/s]\n",
      "Training Epoch 388: 100%|██████████| 373/373 [00:01<00:00, 190.32it/s]\n",
      "Training Epoch 389: 100%|██████████| 373/373 [00:01<00:00, 192.23it/s]\n",
      "Training Epoch 390: 100%|██████████| 373/373 [00:01<00:00, 208.50it/s]\n",
      "Training Epoch 391: 100%|██████████| 373/373 [00:01<00:00, 209.34it/s]\n"
     ]
    },
    {
     "name": "stdout",
     "output_type": "stream",
     "text": [
      "Epoch 390 - Train Loss: 0.6799, Train MSE: 0.6805, Train MAE: 0.6017\n",
      "Epoch 390 - Validation Loss: 1.3202, Validation MSE: 1.3219, Validation MAE: 0.8180\n"
     ]
    },
    {
     "name": "stderr",
     "output_type": "stream",
     "text": [
      "Training Epoch 392: 100%|██████████| 373/373 [00:01<00:00, 207.10it/s]\n",
      "Training Epoch 393: 100%|██████████| 373/373 [00:01<00:00, 203.18it/s]\n",
      "Training Epoch 394: 100%|██████████| 373/373 [00:01<00:00, 202.38it/s]\n",
      "Training Epoch 395: 100%|██████████| 373/373 [00:01<00:00, 200.51it/s]\n",
      "Training Epoch 396: 100%|██████████| 373/373 [00:01<00:00, 204.13it/s]\n",
      "Training Epoch 397: 100%|██████████| 373/373 [00:01<00:00, 204.33it/s]\n",
      "Training Epoch 398: 100%|██████████| 373/373 [00:01<00:00, 208.38it/s]\n",
      "Training Epoch 399: 100%|██████████| 373/373 [00:01<00:00, 204.92it/s]\n",
      "Training Epoch 400: 100%|██████████| 373/373 [00:01<00:00, 196.08it/s]\n",
      "Training Epoch 401: 100%|██████████| 373/373 [00:01<00:00, 204.45it/s]\n"
     ]
    },
    {
     "name": "stdout",
     "output_type": "stream",
     "text": [
      "Epoch 400 - Train Loss: 0.6768, Train MSE: 0.6780, Train MAE: 0.6023\n",
      "Epoch 400 - Validation Loss: 1.2580, Validation MSE: 1.2604, Validation MAE: 0.8060\n"
     ]
    },
    {
     "name": "stderr",
     "output_type": "stream",
     "text": [
      "Training Epoch 402: 100%|██████████| 373/373 [00:01<00:00, 207.30it/s]\n",
      "Training Epoch 403: 100%|██████████| 373/373 [00:01<00:00, 200.68it/s]\n",
      "Training Epoch 404: 100%|██████████| 373/373 [00:01<00:00, 207.03it/s]\n",
      "Training Epoch 405: 100%|██████████| 373/373 [00:01<00:00, 201.58it/s]\n",
      "Training Epoch 406: 100%|██████████| 373/373 [00:01<00:00, 199.00it/s]\n",
      "Training Epoch 407: 100%|██████████| 373/373 [00:01<00:00, 200.57it/s]\n",
      "Training Epoch 408: 100%|██████████| 373/373 [00:01<00:00, 204.49it/s]\n",
      "Training Epoch 409: 100%|██████████| 373/373 [00:01<00:00, 200.34it/s]\n",
      "Training Epoch 410: 100%|██████████| 373/373 [00:01<00:00, 216.25it/s]\n",
      "Training Epoch 411: 100%|██████████| 373/373 [00:01<00:00, 208.59it/s]\n"
     ]
    },
    {
     "name": "stdout",
     "output_type": "stream",
     "text": [
      "Epoch 410 - Train Loss: 0.6684, Train MSE: 0.6692, Train MAE: 0.5948\n",
      "Epoch 410 - Validation Loss: 1.2809, Validation MSE: 1.2831, Validation MAE: 0.8140\n"
     ]
    },
    {
     "name": "stderr",
     "output_type": "stream",
     "text": [
      "Training Epoch 412: 100%|██████████| 373/373 [00:01<00:00, 194.86it/s]\n",
      "Training Epoch 413: 100%|██████████| 373/373 [00:01<00:00, 193.77it/s]\n",
      "Training Epoch 414: 100%|██████████| 373/373 [00:01<00:00, 205.32it/s]\n",
      "Training Epoch 415: 100%|██████████| 373/373 [00:01<00:00, 205.01it/s]\n",
      "Training Epoch 416: 100%|██████████| 373/373 [00:01<00:00, 191.70it/s]\n",
      "Training Epoch 417: 100%|██████████| 373/373 [00:01<00:00, 207.68it/s]\n",
      "Training Epoch 418: 100%|██████████| 373/373 [00:01<00:00, 216.94it/s]\n",
      "Training Epoch 419: 100%|██████████| 373/373 [00:01<00:00, 204.71it/s]\n",
      "Training Epoch 420: 100%|██████████| 373/373 [00:01<00:00, 206.24it/s]\n",
      "Training Epoch 421: 100%|██████████| 373/373 [00:01<00:00, 209.82it/s]\n"
     ]
    },
    {
     "name": "stdout",
     "output_type": "stream",
     "text": [
      "Epoch 420 - Train Loss: 0.6672, Train MSE: 0.6681, Train MAE: 0.5961\n",
      "Epoch 420 - Validation Loss: 1.2718, Validation MSE: 1.2745, Validation MAE: 0.8025\n"
     ]
    },
    {
     "name": "stderr",
     "output_type": "stream",
     "text": [
      "Training Epoch 422: 100%|██████████| 373/373 [00:01<00:00, 203.80it/s]\n",
      "Training Epoch 423: 100%|██████████| 373/373 [00:01<00:00, 209.03it/s]\n",
      "Training Epoch 424: 100%|██████████| 373/373 [00:01<00:00, 209.37it/s]\n",
      "Training Epoch 425: 100%|██████████| 373/373 [00:01<00:00, 205.46it/s]\n",
      "Training Epoch 426: 100%|██████████| 373/373 [00:01<00:00, 208.32it/s]\n",
      "Training Epoch 427: 100%|██████████| 373/373 [00:01<00:00, 207.50it/s]\n",
      "Training Epoch 428: 100%|██████████| 373/373 [00:01<00:00, 203.74it/s]\n",
      "Training Epoch 429: 100%|██████████| 373/373 [00:01<00:00, 208.62it/s]\n",
      "Training Epoch 430: 100%|██████████| 373/373 [00:01<00:00, 205.42it/s]\n",
      "Training Epoch 431: 100%|██████████| 373/373 [00:01<00:00, 201.53it/s]\n"
     ]
    },
    {
     "name": "stdout",
     "output_type": "stream",
     "text": [
      "Epoch 430 - Train Loss: 0.6740, Train MSE: 0.6720, Train MAE: 0.5998\n",
      "Epoch 430 - Validation Loss: 1.2758, Validation MSE: 1.2777, Validation MAE: 0.8073\n"
     ]
    },
    {
     "name": "stderr",
     "output_type": "stream",
     "text": [
      "Training Epoch 432: 100%|██████████| 373/373 [00:01<00:00, 205.79it/s]\n",
      "Training Epoch 433: 100%|██████████| 373/373 [00:01<00:00, 203.37it/s]\n",
      "Training Epoch 434: 100%|██████████| 373/373 [00:01<00:00, 202.07it/s]\n",
      "Training Epoch 435: 100%|██████████| 373/373 [00:01<00:00, 197.47it/s]\n",
      "Training Epoch 436: 100%|██████████| 373/373 [00:01<00:00, 192.23it/s]\n",
      "Training Epoch 437: 100%|██████████| 373/373 [00:01<00:00, 197.53it/s]\n",
      "Training Epoch 438: 100%|██████████| 373/373 [00:01<00:00, 202.15it/s]\n",
      "Training Epoch 439: 100%|██████████| 373/373 [00:01<00:00, 209.33it/s]\n",
      "Training Epoch 440: 100%|██████████| 373/373 [00:01<00:00, 208.37it/s]\n",
      "Training Epoch 441: 100%|██████████| 373/373 [00:01<00:00, 204.74it/s]\n"
     ]
    },
    {
     "name": "stdout",
     "output_type": "stream",
     "text": [
      "Epoch 440 - Train Loss: 0.6604, Train MSE: 0.6597, Train MAE: 0.5887\n",
      "Epoch 440 - Validation Loss: 1.2793, Validation MSE: 1.2808, Validation MAE: 0.8108\n"
     ]
    },
    {
     "name": "stderr",
     "output_type": "stream",
     "text": [
      "Training Epoch 442: 100%|██████████| 373/373 [00:01<00:00, 201.13it/s]\n",
      "Training Epoch 443: 100%|██████████| 373/373 [00:01<00:00, 213.28it/s]\n",
      "Training Epoch 444: 100%|██████████| 373/373 [00:01<00:00, 207.61it/s]\n",
      "Training Epoch 445: 100%|██████████| 373/373 [00:01<00:00, 199.29it/s]\n",
      "Training Epoch 446: 100%|██████████| 373/373 [00:01<00:00, 199.95it/s]\n",
      "Training Epoch 447: 100%|██████████| 373/373 [00:01<00:00, 200.99it/s]\n",
      "Training Epoch 448: 100%|██████████| 373/373 [00:01<00:00, 198.26it/s]\n",
      "Training Epoch 449: 100%|██████████| 373/373 [00:01<00:00, 194.47it/s]\n",
      "Training Epoch 450: 100%|██████████| 373/373 [00:01<00:00, 195.30it/s]\n",
      "Training Epoch 451: 100%|██████████| 373/373 [00:01<00:00, 199.94it/s]\n"
     ]
    },
    {
     "name": "stdout",
     "output_type": "stream",
     "text": [
      "Epoch 450 - Train Loss: 0.6580, Train MSE: 0.6583, Train MAE: 0.5924\n",
      "Epoch 450 - Validation Loss: 1.2781, Validation MSE: 1.2807, Validation MAE: 0.8016\n"
     ]
    },
    {
     "name": "stderr",
     "output_type": "stream",
     "text": [
      "Training Epoch 452: 100%|██████████| 373/373 [00:01<00:00, 211.59it/s]\n",
      "Training Epoch 453: 100%|██████████| 373/373 [00:01<00:00, 208.16it/s]\n",
      "Training Epoch 454: 100%|██████████| 373/373 [00:02<00:00, 176.63it/s]\n",
      "Training Epoch 455: 100%|██████████| 373/373 [00:01<00:00, 200.07it/s]\n",
      "Training Epoch 456: 100%|██████████| 373/373 [00:01<00:00, 204.19it/s]\n",
      "Training Epoch 457: 100%|██████████| 373/373 [00:01<00:00, 207.50it/s]\n",
      "Training Epoch 458: 100%|██████████| 373/373 [00:01<00:00, 210.33it/s]\n",
      "Training Epoch 459: 100%|██████████| 373/373 [00:01<00:00, 213.07it/s]\n",
      "Training Epoch 460: 100%|██████████| 373/373 [00:01<00:00, 207.90it/s]\n",
      "Training Epoch 461: 100%|██████████| 373/373 [00:01<00:00, 210.40it/s]\n"
     ]
    },
    {
     "name": "stdout",
     "output_type": "stream",
     "text": [
      "Epoch 460 - Train Loss: 0.6597, Train MSE: 0.6593, Train MAE: 0.5910\n",
      "Epoch 460 - Validation Loss: 1.2883, Validation MSE: 1.2905, Validation MAE: 0.8089\n"
     ]
    },
    {
     "name": "stderr",
     "output_type": "stream",
     "text": [
      "Training Epoch 462: 100%|██████████| 373/373 [00:01<00:00, 212.39it/s]\n",
      "Training Epoch 463: 100%|██████████| 373/373 [00:01<00:00, 210.10it/s]\n",
      "Training Epoch 464: 100%|██████████| 373/373 [00:01<00:00, 210.04it/s]\n",
      "Training Epoch 465: 100%|██████████| 373/373 [00:01<00:00, 213.30it/s]\n",
      "Training Epoch 466: 100%|██████████| 373/373 [00:01<00:00, 212.63it/s]\n",
      "Training Epoch 467: 100%|██████████| 373/373 [00:01<00:00, 215.24it/s]\n",
      "Training Epoch 468: 100%|██████████| 373/373 [00:01<00:00, 210.60it/s]\n",
      "Training Epoch 469: 100%|██████████| 373/373 [00:01<00:00, 190.96it/s]\n",
      "Training Epoch 470: 100%|██████████| 373/373 [00:01<00:00, 203.19it/s]\n",
      "Training Epoch 471: 100%|██████████| 373/373 [00:01<00:00, 195.43it/s]\n"
     ]
    },
    {
     "name": "stdout",
     "output_type": "stream",
     "text": [
      "Epoch 470 - Train Loss: 0.6574, Train MSE: 0.6578, Train MAE: 0.5885\n",
      "Epoch 470 - Validation Loss: 1.2636, Validation MSE: 1.2664, Validation MAE: 0.7914\n"
     ]
    },
    {
     "name": "stderr",
     "output_type": "stream",
     "text": [
      "Training Epoch 472: 100%|██████████| 373/373 [00:01<00:00, 204.79it/s]\n",
      "Training Epoch 473: 100%|██████████| 373/373 [00:01<00:00, 211.71it/s]\n",
      "Training Epoch 474: 100%|██████████| 373/373 [00:01<00:00, 206.92it/s]\n",
      "Training Epoch 475: 100%|██████████| 373/373 [00:01<00:00, 210.96it/s]\n",
      "Training Epoch 476: 100%|██████████| 373/373 [00:01<00:00, 201.65it/s]\n",
      "Training Epoch 477: 100%|██████████| 373/373 [00:01<00:00, 195.65it/s]\n",
      "Training Epoch 478: 100%|██████████| 373/373 [00:01<00:00, 198.49it/s]\n",
      "Training Epoch 479: 100%|██████████| 373/373 [00:01<00:00, 205.25it/s]\n",
      "Training Epoch 480: 100%|██████████| 373/373 [00:01<00:00, 198.71it/s]\n",
      "Training Epoch 481: 100%|██████████| 373/373 [00:01<00:00, 201.65it/s]\n"
     ]
    },
    {
     "name": "stdout",
     "output_type": "stream",
     "text": [
      "Epoch 480 - Train Loss: 0.6472, Train MSE: 0.6473, Train MAE: 0.5819\n",
      "Epoch 480 - Validation Loss: 1.2738, Validation MSE: 1.2764, Validation MAE: 0.8016\n"
     ]
    },
    {
     "name": "stderr",
     "output_type": "stream",
     "text": [
      "Training Epoch 482: 100%|██████████| 373/373 [00:01<00:00, 191.93it/s]\n",
      "Training Epoch 483: 100%|██████████| 373/373 [00:01<00:00, 203.32it/s]\n",
      "Training Epoch 484: 100%|██████████| 373/373 [00:01<00:00, 204.77it/s]\n",
      "Training Epoch 485: 100%|██████████| 373/373 [00:01<00:00, 200.11it/s]\n",
      "Training Epoch 486: 100%|██████████| 373/373 [00:01<00:00, 199.39it/s]\n",
      "Training Epoch 487: 100%|██████████| 373/373 [00:01<00:00, 208.78it/s]\n",
      "Training Epoch 488: 100%|██████████| 373/373 [00:01<00:00, 205.03it/s]\n",
      "Training Epoch 489: 100%|██████████| 373/373 [00:01<00:00, 209.50it/s]\n",
      "Training Epoch 490: 100%|██████████| 373/373 [00:01<00:00, 214.38it/s]\n",
      "Training Epoch 491: 100%|██████████| 373/373 [00:01<00:00, 198.15it/s]\n"
     ]
    },
    {
     "name": "stdout",
     "output_type": "stream",
     "text": [
      "Epoch 490 - Train Loss: 0.6450, Train MSE: 0.6459, Train MAE: 0.5839\n",
      "Epoch 490 - Validation Loss: 1.2496, Validation MSE: 1.2520, Validation MAE: 0.7921\n"
     ]
    },
    {
     "name": "stderr",
     "output_type": "stream",
     "text": [
      "Training Epoch 492: 100%|██████████| 373/373 [00:01<00:00, 208.08it/s]\n",
      "Training Epoch 493: 100%|██████████| 373/373 [00:01<00:00, 204.95it/s]\n",
      "Training Epoch 494: 100%|██████████| 373/373 [00:01<00:00, 203.16it/s]\n",
      "Training Epoch 495: 100%|██████████| 373/373 [00:01<00:00, 203.27it/s]\n",
      "Training Epoch 496: 100%|██████████| 373/373 [00:01<00:00, 195.02it/s]\n",
      "Training Epoch 497: 100%|██████████| 373/373 [00:01<00:00, 202.51it/s]\n",
      "Training Epoch 498: 100%|██████████| 373/373 [00:01<00:00, 208.47it/s]\n",
      "Training Epoch 499: 100%|██████████| 373/373 [00:01<00:00, 206.77it/s]\n",
      "Training Epoch 500: 100%|██████████| 373/373 [00:01<00:00, 208.69it/s]\n",
      "Training Epoch 501: 100%|██████████| 373/373 [00:01<00:00, 203.76it/s]\n"
     ]
    },
    {
     "name": "stdout",
     "output_type": "stream",
     "text": [
      "Epoch 500 - Train Loss: 0.6441, Train MSE: 0.6448, Train MAE: 0.5782\n",
      "Epoch 500 - Validation Loss: 1.2756, Validation MSE: 1.2780, Validation MAE: 0.8031\n"
     ]
    },
    {
     "name": "stderr",
     "output_type": "stream",
     "text": [
      "Training Epoch 502: 100%|██████████| 373/373 [00:01<00:00, 200.63it/s]\n",
      "Training Epoch 503: 100%|██████████| 373/373 [00:01<00:00, 212.63it/s]\n",
      "Training Epoch 504: 100%|██████████| 373/373 [00:01<00:00, 197.50it/s]\n",
      "Training Epoch 505: 100%|██████████| 373/373 [00:01<00:00, 201.65it/s]\n",
      "Training Epoch 506: 100%|██████████| 373/373 [00:01<00:00, 204.11it/s]\n",
      "Training Epoch 507: 100%|██████████| 373/373 [00:01<00:00, 205.55it/s]\n",
      "Training Epoch 508: 100%|██████████| 373/373 [00:01<00:00, 198.17it/s]\n",
      "Training Epoch 509: 100%|██████████| 373/373 [00:01<00:00, 207.23it/s]\n",
      "Training Epoch 510: 100%|██████████| 373/373 [00:01<00:00, 198.61it/s]\n",
      "Training Epoch 511: 100%|██████████| 373/373 [00:01<00:00, 199.02it/s]\n"
     ]
    },
    {
     "name": "stdout",
     "output_type": "stream",
     "text": [
      "Epoch 510 - Train Loss: 0.6494, Train MSE: 0.6506, Train MAE: 0.5832\n",
      "Epoch 510 - Validation Loss: 1.2550, Validation MSE: 1.2573, Validation MAE: 0.7979\n"
     ]
    },
    {
     "name": "stderr",
     "output_type": "stream",
     "text": [
      "Training Epoch 512: 100%|██████████| 373/373 [00:01<00:00, 198.61it/s]\n",
      "Training Epoch 513: 100%|██████████| 373/373 [00:01<00:00, 204.02it/s]\n",
      "Training Epoch 514: 100%|██████████| 373/373 [00:01<00:00, 204.55it/s]\n",
      "Training Epoch 515: 100%|██████████| 373/373 [00:01<00:00, 201.88it/s]\n",
      "Training Epoch 516: 100%|██████████| 373/373 [00:01<00:00, 202.69it/s]\n",
      "Training Epoch 517: 100%|██████████| 373/373 [00:01<00:00, 208.77it/s]\n",
      "Training Epoch 518: 100%|██████████| 373/373 [00:01<00:00, 212.24it/s]\n",
      "Training Epoch 519: 100%|██████████| 373/373 [00:01<00:00, 199.81it/s]\n",
      "Training Epoch 520: 100%|██████████| 373/373 [00:01<00:00, 201.16it/s]\n",
      "Training Epoch 521: 100%|██████████| 373/373 [00:01<00:00, 208.77it/s]\n"
     ]
    },
    {
     "name": "stdout",
     "output_type": "stream",
     "text": [
      "Epoch 520 - Train Loss: 0.6427, Train MSE: 0.6440, Train MAE: 0.5803\n",
      "Epoch 520 - Validation Loss: 1.2534, Validation MSE: 1.2555, Validation MAE: 0.7995\n"
     ]
    },
    {
     "name": "stderr",
     "output_type": "stream",
     "text": [
      "Training Epoch 522: 100%|██████████| 373/373 [00:01<00:00, 204.92it/s]\n",
      "Training Epoch 523: 100%|██████████| 373/373 [00:01<00:00, 199.69it/s]\n",
      "Training Epoch 524: 100%|██████████| 373/373 [00:01<00:00, 203.89it/s]\n",
      "Training Epoch 525: 100%|██████████| 373/373 [00:01<00:00, 208.23it/s]\n",
      "Training Epoch 526: 100%|██████████| 373/373 [00:01<00:00, 206.33it/s]\n",
      "Training Epoch 527: 100%|██████████| 373/373 [00:01<00:00, 198.28it/s]\n",
      "Training Epoch 528: 100%|██████████| 373/373 [00:01<00:00, 203.41it/s]\n",
      "Training Epoch 529: 100%|██████████| 373/373 [00:01<00:00, 198.98it/s]\n",
      "Training Epoch 530: 100%|██████████| 373/373 [00:01<00:00, 201.56it/s]\n",
      "Training Epoch 531: 100%|██████████| 373/373 [00:01<00:00, 206.65it/s]\n"
     ]
    },
    {
     "name": "stdout",
     "output_type": "stream",
     "text": [
      "Epoch 530 - Train Loss: 0.6415, Train MSE: 0.6429, Train MAE: 0.5814\n",
      "Epoch 530 - Validation Loss: 1.2589, Validation MSE: 1.2612, Validation MAE: 0.7972\n"
     ]
    },
    {
     "name": "stderr",
     "output_type": "stream",
     "text": [
      "Training Epoch 532: 100%|██████████| 373/373 [00:01<00:00, 199.71it/s]\n",
      "Training Epoch 533: 100%|██████████| 373/373 [00:01<00:00, 202.42it/s]\n",
      "Training Epoch 534: 100%|██████████| 373/373 [00:01<00:00, 204.63it/s]\n",
      "Training Epoch 535: 100%|██████████| 373/373 [00:01<00:00, 196.46it/s]\n",
      "Training Epoch 536: 100%|██████████| 373/373 [00:01<00:00, 203.34it/s]\n",
      "Training Epoch 537: 100%|██████████| 373/373 [00:01<00:00, 199.91it/s]\n",
      "Training Epoch 538: 100%|██████████| 373/373 [00:01<00:00, 195.24it/s]\n",
      "Training Epoch 539: 100%|██████████| 373/373 [00:01<00:00, 194.91it/s]\n",
      "Training Epoch 540: 100%|██████████| 373/373 [00:01<00:00, 190.61it/s]\n",
      "Training Epoch 541: 100%|██████████| 373/373 [00:02<00:00, 177.83it/s]\n"
     ]
    },
    {
     "name": "stdout",
     "output_type": "stream",
     "text": [
      "Epoch 540 - Train Loss: 0.6382, Train MSE: 0.6360, Train MAE: 0.5752\n",
      "Epoch 540 - Validation Loss: 1.2571, Validation MSE: 1.2592, Validation MAE: 0.7936\n"
     ]
    },
    {
     "name": "stderr",
     "output_type": "stream",
     "text": [
      "Training Epoch 542: 100%|██████████| 373/373 [00:02<00:00, 181.81it/s]\n",
      "Training Epoch 543: 100%|██████████| 373/373 [00:01<00:00, 190.97it/s]\n",
      "Training Epoch 544: 100%|██████████| 373/373 [00:01<00:00, 197.81it/s]\n",
      "Training Epoch 545: 100%|██████████| 373/373 [00:01<00:00, 196.12it/s]\n",
      "Training Epoch 546: 100%|██████████| 373/373 [00:01<00:00, 191.10it/s]\n",
      "Training Epoch 547: 100%|██████████| 373/373 [00:01<00:00, 189.58it/s]\n",
      "Training Epoch 548: 100%|██████████| 373/373 [00:02<00:00, 183.48it/s]\n",
      "Training Epoch 549: 100%|██████████| 373/373 [00:01<00:00, 195.37it/s]\n",
      "Training Epoch 550: 100%|██████████| 373/373 [00:01<00:00, 202.44it/s]\n",
      "Training Epoch 551: 100%|██████████| 373/373 [00:01<00:00, 193.98it/s]\n"
     ]
    },
    {
     "name": "stdout",
     "output_type": "stream",
     "text": [
      "Epoch 550 - Train Loss: 0.6370, Train MSE: 0.6372, Train MAE: 0.5758\n",
      "Epoch 550 - Validation Loss: 1.2760, Validation MSE: 1.2789, Validation MAE: 0.8000\n"
     ]
    },
    {
     "name": "stderr",
     "output_type": "stream",
     "text": [
      "Training Epoch 552: 100%|██████████| 373/373 [00:01<00:00, 196.10it/s]\n",
      "Training Epoch 553: 100%|██████████| 373/373 [00:01<00:00, 192.97it/s]\n",
      "Training Epoch 554: 100%|██████████| 373/373 [00:02<00:00, 179.37it/s]\n",
      "Training Epoch 555: 100%|██████████| 373/373 [00:01<00:00, 197.57it/s]\n",
      "Training Epoch 556: 100%|██████████| 373/373 [00:01<00:00, 191.17it/s]\n",
      "Training Epoch 557: 100%|██████████| 373/373 [00:02<00:00, 178.18it/s]\n",
      "Training Epoch 558: 100%|██████████| 373/373 [00:01<00:00, 187.25it/s]\n",
      "Training Epoch 559: 100%|██████████| 373/373 [00:02<00:00, 177.96it/s]\n",
      "Training Epoch 560: 100%|██████████| 373/373 [00:01<00:00, 189.96it/s]\n",
      "Training Epoch 561: 100%|██████████| 373/373 [00:01<00:00, 193.35it/s]\n"
     ]
    },
    {
     "name": "stdout",
     "output_type": "stream",
     "text": [
      "Epoch 560 - Train Loss: 0.6278, Train MSE: 0.6292, Train MAE: 0.5725\n",
      "Epoch 560 - Validation Loss: 1.3046, Validation MSE: 1.3067, Validation MAE: 0.8151\n"
     ]
    },
    {
     "name": "stderr",
     "output_type": "stream",
     "text": [
      "Training Epoch 562: 100%|██████████| 373/373 [00:01<00:00, 195.25it/s]\n",
      "Training Epoch 563: 100%|██████████| 373/373 [00:01<00:00, 192.84it/s]\n",
      "Training Epoch 564: 100%|██████████| 373/373 [00:01<00:00, 190.43it/s]\n",
      "Training Epoch 565: 100%|██████████| 373/373 [00:02<00:00, 181.22it/s]\n",
      "Training Epoch 566: 100%|██████████| 373/373 [00:02<00:00, 185.82it/s]\n",
      "Training Epoch 567: 100%|██████████| 373/373 [00:02<00:00, 182.44it/s]\n",
      "Training Epoch 568: 100%|██████████| 373/373 [00:01<00:00, 186.73it/s]\n",
      "Training Epoch 569: 100%|██████████| 373/373 [00:02<00:00, 182.28it/s]\n",
      "Training Epoch 570: 100%|██████████| 373/373 [00:01<00:00, 198.27it/s]\n",
      "Training Epoch 571: 100%|██████████| 373/373 [00:01<00:00, 200.09it/s]\n"
     ]
    },
    {
     "name": "stdout",
     "output_type": "stream",
     "text": [
      "Epoch 570 - Train Loss: 0.6306, Train MSE: 0.6301, Train MAE: 0.5711\n",
      "Epoch 570 - Validation Loss: 1.2543, Validation MSE: 1.2564, Validation MAE: 0.7933\n"
     ]
    },
    {
     "name": "stderr",
     "output_type": "stream",
     "text": [
      "Training Epoch 572: 100%|██████████| 373/373 [00:01<00:00, 199.56it/s]\n",
      "Training Epoch 573: 100%|██████████| 373/373 [00:01<00:00, 194.71it/s]\n",
      "Training Epoch 574: 100%|██████████| 373/373 [00:01<00:00, 195.01it/s]\n",
      "Training Epoch 575: 100%|██████████| 373/373 [00:01<00:00, 200.49it/s]\n",
      "Training Epoch 576: 100%|██████████| 373/373 [00:01<00:00, 201.65it/s]\n",
      "Training Epoch 577: 100%|██████████| 373/373 [00:01<00:00, 193.61it/s]\n",
      "Training Epoch 578: 100%|██████████| 373/373 [00:01<00:00, 186.71it/s]\n",
      "Training Epoch 579: 100%|██████████| 373/373 [00:02<00:00, 186.16it/s]\n",
      "Training Epoch 580: 100%|██████████| 373/373 [00:02<00:00, 185.07it/s]\n",
      "Training Epoch 581: 100%|██████████| 373/373 [00:01<00:00, 187.74it/s]\n"
     ]
    },
    {
     "name": "stdout",
     "output_type": "stream",
     "text": [
      "Epoch 580 - Train Loss: 0.6258, Train MSE: 0.6258, Train MAE: 0.5717\n",
      "Epoch 580 - Validation Loss: 1.2627, Validation MSE: 1.2653, Validation MAE: 0.7946\n"
     ]
    },
    {
     "name": "stderr",
     "output_type": "stream",
     "text": [
      "Training Epoch 582: 100%|██████████| 373/373 [00:01<00:00, 189.78it/s]\n",
      "Training Epoch 583: 100%|██████████| 373/373 [00:01<00:00, 191.19it/s]\n",
      "Training Epoch 584: 100%|██████████| 373/373 [00:01<00:00, 196.78it/s]\n",
      "Training Epoch 585: 100%|██████████| 373/373 [00:01<00:00, 193.84it/s]\n",
      "Training Epoch 586: 100%|██████████| 373/373 [00:01<00:00, 198.72it/s]\n",
      "Training Epoch 587: 100%|██████████| 373/373 [00:01<00:00, 203.80it/s]\n",
      "Training Epoch 588: 100%|██████████| 373/373 [00:01<00:00, 196.29it/s]\n",
      "Training Epoch 589: 100%|██████████| 373/373 [00:01<00:00, 196.00it/s]\n",
      "Training Epoch 590: 100%|██████████| 373/373 [00:01<00:00, 200.28it/s]\n",
      "Training Epoch 591: 100%|██████████| 373/373 [00:01<00:00, 196.51it/s]\n"
     ]
    },
    {
     "name": "stdout",
     "output_type": "stream",
     "text": [
      "Epoch 590 - Train Loss: 0.6349, Train MSE: 0.6344, Train MAE: 0.5714\n",
      "Epoch 590 - Validation Loss: 1.2849, Validation MSE: 1.2873, Validation MAE: 0.8091\n"
     ]
    },
    {
     "name": "stderr",
     "output_type": "stream",
     "text": [
      "Training Epoch 592: 100%|██████████| 373/373 [00:01<00:00, 201.81it/s]\n",
      "Training Epoch 593: 100%|██████████| 373/373 [00:01<00:00, 198.67it/s]\n",
      "Training Epoch 594: 100%|██████████| 373/373 [00:01<00:00, 198.25it/s]\n",
      "Training Epoch 595: 100%|██████████| 373/373 [00:01<00:00, 198.76it/s]\n",
      "Training Epoch 596: 100%|██████████| 373/373 [00:01<00:00, 201.28it/s]\n",
      "Training Epoch 597: 100%|██████████| 373/373 [00:01<00:00, 201.94it/s]\n",
      "Training Epoch 598: 100%|██████████| 373/373 [00:01<00:00, 192.71it/s]\n",
      "Training Epoch 599: 100%|██████████| 373/373 [00:01<00:00, 196.27it/s]\n",
      "Training Epoch 600: 100%|██████████| 373/373 [00:02<00:00, 182.51it/s]\n",
      "Training Epoch 601: 100%|██████████| 373/373 [00:01<00:00, 193.97it/s]\n"
     ]
    },
    {
     "name": "stdout",
     "output_type": "stream",
     "text": [
      "Epoch 600 - Train Loss: 0.6257, Train MSE: 0.6271, Train MAE: 0.5700\n",
      "Epoch 600 - Validation Loss: 1.2882, Validation MSE: 1.2901, Validation MAE: 0.8067\n"
     ]
    },
    {
     "name": "stderr",
     "output_type": "stream",
     "text": [
      "Training Epoch 602: 100%|██████████| 373/373 [00:01<00:00, 201.44it/s]\n",
      "Training Epoch 603: 100%|██████████| 373/373 [00:01<00:00, 203.67it/s]\n",
      "Training Epoch 604: 100%|██████████| 373/373 [00:01<00:00, 203.63it/s]\n",
      "Training Epoch 605: 100%|██████████| 373/373 [00:01<00:00, 198.44it/s]\n",
      "Training Epoch 606: 100%|██████████| 373/373 [00:01<00:00, 199.57it/s]\n",
      "Training Epoch 607: 100%|██████████| 373/373 [00:01<00:00, 204.43it/s]\n",
      "Training Epoch 608: 100%|██████████| 373/373 [00:01<00:00, 203.73it/s]\n",
      "Training Epoch 609: 100%|██████████| 373/373 [00:01<00:00, 205.85it/s]\n",
      "Training Epoch 610: 100%|██████████| 373/373 [00:01<00:00, 189.53it/s]\n",
      "Training Epoch 611: 100%|██████████| 373/373 [00:01<00:00, 195.72it/s]\n"
     ]
    },
    {
     "name": "stdout",
     "output_type": "stream",
     "text": [
      "Epoch 610 - Train Loss: 0.6256, Train MSE: 0.6266, Train MAE: 0.5693\n",
      "Epoch 610 - Validation Loss: 1.2469, Validation MSE: 1.2496, Validation MAE: 0.7927\n"
     ]
    },
    {
     "name": "stderr",
     "output_type": "stream",
     "text": [
      "Training Epoch 612: 100%|██████████| 373/373 [00:01<00:00, 202.03it/s]\n",
      "Training Epoch 613: 100%|██████████| 373/373 [00:01<00:00, 204.50it/s]\n",
      "Training Epoch 614: 100%|██████████| 373/373 [00:01<00:00, 197.47it/s]\n",
      "Training Epoch 615: 100%|██████████| 373/373 [00:01<00:00, 197.18it/s]\n",
      "Training Epoch 616: 100%|██████████| 373/373 [00:01<00:00, 207.84it/s]\n",
      "Training Epoch 617: 100%|██████████| 373/373 [00:01<00:00, 194.71it/s]\n",
      "Training Epoch 618: 100%|██████████| 373/373 [00:01<00:00, 205.92it/s]\n",
      "Training Epoch 619: 100%|██████████| 373/373 [00:01<00:00, 189.53it/s]\n",
      "Training Epoch 620: 100%|██████████| 373/373 [00:01<00:00, 195.73it/s]\n",
      "Training Epoch 621: 100%|██████████| 373/373 [00:01<00:00, 204.58it/s]\n"
     ]
    },
    {
     "name": "stdout",
     "output_type": "stream",
     "text": [
      "Epoch 620 - Train Loss: 0.6167, Train MSE: 0.6179, Train MAE: 0.5671\n",
      "Epoch 620 - Validation Loss: 1.2956, Validation MSE: 1.2980, Validation MAE: 0.8134\n"
     ]
    },
    {
     "name": "stderr",
     "output_type": "stream",
     "text": [
      "Training Epoch 622: 100%|██████████| 373/373 [00:01<00:00, 203.62it/s]\n",
      "Training Epoch 623: 100%|██████████| 373/373 [00:01<00:00, 194.33it/s]\n",
      "Training Epoch 624: 100%|██████████| 373/373 [00:01<00:00, 199.15it/s]\n",
      "Training Epoch 625: 100%|██████████| 373/373 [00:01<00:00, 199.00it/s]\n",
      "Training Epoch 626: 100%|██████████| 373/373 [00:01<00:00, 202.04it/s]\n",
      "Training Epoch 627: 100%|██████████| 373/373 [00:01<00:00, 209.09it/s]\n",
      "Training Epoch 628: 100%|██████████| 373/373 [00:01<00:00, 200.55it/s]\n",
      "Training Epoch 629: 100%|██████████| 373/373 [00:01<00:00, 207.60it/s]\n",
      "Training Epoch 630: 100%|██████████| 373/373 [00:01<00:00, 204.23it/s]\n",
      "Training Epoch 631: 100%|██████████| 373/373 [00:01<00:00, 209.54it/s]\n"
     ]
    },
    {
     "name": "stdout",
     "output_type": "stream",
     "text": [
      "Epoch 630 - Train Loss: 0.6129, Train MSE: 0.6141, Train MAE: 0.5629\n",
      "Epoch 630 - Validation Loss: 1.2855, Validation MSE: 1.2877, Validation MAE: 0.8046\n"
     ]
    },
    {
     "name": "stderr",
     "output_type": "stream",
     "text": [
      "Training Epoch 632: 100%|██████████| 373/373 [00:01<00:00, 206.22it/s]\n",
      "Training Epoch 633: 100%|██████████| 373/373 [00:01<00:00, 201.18it/s]\n",
      "Training Epoch 634: 100%|██████████| 373/373 [00:01<00:00, 207.54it/s]\n",
      "Training Epoch 635: 100%|██████████| 373/373 [00:01<00:00, 202.03it/s]\n",
      "Training Epoch 636: 100%|██████████| 373/373 [00:01<00:00, 204.22it/s]\n",
      "Training Epoch 637: 100%|██████████| 373/373 [00:01<00:00, 211.82it/s]\n",
      "Training Epoch 638: 100%|██████████| 373/373 [00:01<00:00, 205.62it/s]\n",
      "Training Epoch 639: 100%|██████████| 373/373 [00:01<00:00, 204.58it/s]\n",
      "Training Epoch 640: 100%|██████████| 373/373 [00:01<00:00, 206.33it/s]\n",
      "Training Epoch 641: 100%|██████████| 373/373 [00:01<00:00, 205.97it/s]\n"
     ]
    },
    {
     "name": "stdout",
     "output_type": "stream",
     "text": [
      "Epoch 640 - Train Loss: 0.6225, Train MSE: 0.6210, Train MAE: 0.5681\n",
      "Epoch 640 - Validation Loss: 1.2558, Validation MSE: 1.2579, Validation MAE: 0.7975\n"
     ]
    },
    {
     "name": "stderr",
     "output_type": "stream",
     "text": [
      "Training Epoch 642: 100%|██████████| 373/373 [00:01<00:00, 205.74it/s]\n",
      "Training Epoch 643: 100%|██████████| 373/373 [00:01<00:00, 210.86it/s]\n",
      "Training Epoch 644: 100%|██████████| 373/373 [00:01<00:00, 208.30it/s]\n",
      "Training Epoch 645: 100%|██████████| 373/373 [00:01<00:00, 203.12it/s]\n",
      "Training Epoch 646: 100%|██████████| 373/373 [00:01<00:00, 205.09it/s]\n",
      "Training Epoch 647: 100%|██████████| 373/373 [00:01<00:00, 200.67it/s]\n",
      "Training Epoch 648: 100%|██████████| 373/373 [00:01<00:00, 203.04it/s]\n",
      "Training Epoch 649: 100%|██████████| 373/373 [00:01<00:00, 208.00it/s]\n",
      "Training Epoch 650: 100%|██████████| 373/373 [00:01<00:00, 210.44it/s]\n",
      "Training Epoch 651: 100%|██████████| 373/373 [00:01<00:00, 198.75it/s]\n"
     ]
    },
    {
     "name": "stdout",
     "output_type": "stream",
     "text": [
      "Epoch 650 - Train Loss: 0.6086, Train MSE: 0.6094, Train MAE: 0.5603\n",
      "Epoch 650 - Validation Loss: 1.2756, Validation MSE: 1.2773, Validation MAE: 0.8046\n"
     ]
    },
    {
     "name": "stderr",
     "output_type": "stream",
     "text": [
      "Training Epoch 652: 100%|██████████| 373/373 [00:01<00:00, 203.58it/s]\n",
      "Training Epoch 653: 100%|██████████| 373/373 [00:01<00:00, 206.93it/s]\n",
      "Training Epoch 654: 100%|██████████| 373/373 [00:01<00:00, 203.06it/s]\n",
      "Training Epoch 655: 100%|██████████| 373/373 [00:01<00:00, 204.72it/s]\n",
      "Training Epoch 656: 100%|██████████| 373/373 [00:01<00:00, 201.15it/s]\n",
      "Training Epoch 657: 100%|██████████| 373/373 [00:01<00:00, 207.77it/s]\n",
      "Training Epoch 658: 100%|██████████| 373/373 [00:01<00:00, 205.54it/s]\n",
      "Training Epoch 659: 100%|██████████| 373/373 [00:01<00:00, 203.05it/s]\n",
      "Training Epoch 660: 100%|██████████| 373/373 [00:01<00:00, 207.51it/s]\n",
      "Training Epoch 661: 100%|██████████| 373/373 [00:01<00:00, 203.60it/s]\n"
     ]
    },
    {
     "name": "stdout",
     "output_type": "stream",
     "text": [
      "Epoch 660 - Train Loss: 0.6157, Train MSE: 0.6145, Train MAE: 0.5611\n",
      "Epoch 660 - Validation Loss: 1.2559, Validation MSE: 1.2579, Validation MAE: 0.7929\n"
     ]
    },
    {
     "name": "stderr",
     "output_type": "stream",
     "text": [
      "Training Epoch 662: 100%|██████████| 373/373 [00:01<00:00, 199.44it/s]\n",
      "Training Epoch 663: 100%|██████████| 373/373 [00:02<00:00, 179.91it/s]\n",
      "Training Epoch 664: 100%|██████████| 373/373 [00:01<00:00, 202.19it/s]\n",
      "Training Epoch 665: 100%|██████████| 373/373 [00:01<00:00, 190.20it/s]\n",
      "Training Epoch 666: 100%|██████████| 373/373 [00:01<00:00, 206.21it/s]\n",
      "Training Epoch 667: 100%|██████████| 373/373 [00:01<00:00, 204.04it/s]\n",
      "Training Epoch 668: 100%|██████████| 373/373 [00:01<00:00, 208.81it/s]\n",
      "Training Epoch 669: 100%|██████████| 373/373 [00:01<00:00, 207.75it/s]\n",
      "Training Epoch 670: 100%|██████████| 373/373 [00:01<00:00, 209.14it/s]\n",
      "Training Epoch 671: 100%|██████████| 373/373 [00:01<00:00, 205.84it/s]\n"
     ]
    },
    {
     "name": "stdout",
     "output_type": "stream",
     "text": [
      "Epoch 670 - Train Loss: 0.6116, Train MSE: 0.6117, Train MAE: 0.5604\n",
      "Epoch 670 - Validation Loss: 1.2680, Validation MSE: 1.2701, Validation MAE: 0.8029\n"
     ]
    },
    {
     "name": "stderr",
     "output_type": "stream",
     "text": [
      "Training Epoch 672: 100%|██████████| 373/373 [00:01<00:00, 208.92it/s]\n",
      "Training Epoch 673: 100%|██████████| 373/373 [00:01<00:00, 208.67it/s]\n",
      "Training Epoch 674: 100%|██████████| 373/373 [00:01<00:00, 206.89it/s]\n",
      "Training Epoch 675: 100%|██████████| 373/373 [00:01<00:00, 206.29it/s]\n",
      "Training Epoch 676: 100%|██████████| 373/373 [00:01<00:00, 207.63it/s]\n",
      "Training Epoch 677: 100%|██████████| 373/373 [00:01<00:00, 205.70it/s]\n",
      "Training Epoch 678: 100%|██████████| 373/373 [00:01<00:00, 212.63it/s]\n",
      "Training Epoch 679: 100%|██████████| 373/373 [00:01<00:00, 202.72it/s]\n",
      "Training Epoch 680: 100%|██████████| 373/373 [00:01<00:00, 197.14it/s]\n",
      "Training Epoch 681: 100%|██████████| 373/373 [00:01<00:00, 205.73it/s]\n"
     ]
    },
    {
     "name": "stdout",
     "output_type": "stream",
     "text": [
      "Epoch 680 - Train Loss: 0.6177, Train MSE: 0.6170, Train MAE: 0.5655\n",
      "Epoch 680 - Validation Loss: 1.2616, Validation MSE: 1.2640, Validation MAE: 0.8006\n"
     ]
    },
    {
     "name": "stderr",
     "output_type": "stream",
     "text": [
      "Training Epoch 682: 100%|██████████| 373/373 [00:01<00:00, 212.93it/s]\n",
      "Training Epoch 683: 100%|██████████| 373/373 [00:01<00:00, 205.34it/s]\n",
      "Training Epoch 684: 100%|██████████| 373/373 [00:01<00:00, 207.16it/s]\n",
      "Training Epoch 685: 100%|██████████| 373/373 [00:01<00:00, 205.77it/s]\n",
      "Training Epoch 686: 100%|██████████| 373/373 [00:01<00:00, 202.29it/s]\n",
      "Training Epoch 687: 100%|██████████| 373/373 [00:01<00:00, 203.94it/s]\n",
      "Training Epoch 688: 100%|██████████| 373/373 [00:01<00:00, 203.70it/s]\n",
      "Training Epoch 689: 100%|██████████| 373/373 [00:01<00:00, 203.20it/s]\n",
      "Training Epoch 690: 100%|██████████| 373/373 [00:01<00:00, 200.95it/s]\n",
      "Training Epoch 691: 100%|██████████| 373/373 [00:01<00:00, 206.63it/s]\n"
     ]
    },
    {
     "name": "stdout",
     "output_type": "stream",
     "text": [
      "Epoch 690 - Train Loss: 0.6076, Train MSE: 0.6083, Train MAE: 0.5575\n",
      "Epoch 690 - Validation Loss: 1.2816, Validation MSE: 1.2837, Validation MAE: 0.8030\n"
     ]
    },
    {
     "name": "stderr",
     "output_type": "stream",
     "text": [
      "Training Epoch 692: 100%|██████████| 373/373 [00:01<00:00, 203.30it/s]\n",
      "Training Epoch 693: 100%|██████████| 373/373 [00:01<00:00, 206.58it/s]\n",
      "Training Epoch 694: 100%|██████████| 373/373 [00:01<00:00, 206.61it/s]\n",
      "Training Epoch 695: 100%|██████████| 373/373 [00:01<00:00, 204.78it/s]\n",
      "Training Epoch 696: 100%|██████████| 373/373 [00:01<00:00, 201.01it/s]\n",
      "Training Epoch 697: 100%|██████████| 373/373 [00:01<00:00, 208.36it/s]\n",
      "Training Epoch 698: 100%|██████████| 373/373 [00:01<00:00, 203.23it/s]\n",
      "Training Epoch 699: 100%|██████████| 373/373 [00:01<00:00, 202.51it/s]\n",
      "Training Epoch 700: 100%|██████████| 373/373 [00:01<00:00, 203.14it/s]\n",
      "Training Epoch 701: 100%|██████████| 373/373 [00:01<00:00, 191.42it/s]\n"
     ]
    },
    {
     "name": "stdout",
     "output_type": "stream",
     "text": [
      "Epoch 700 - Train Loss: 0.6050, Train MSE: 0.6039, Train MAE: 0.5552\n",
      "Epoch 700 - Validation Loss: 1.2580, Validation MSE: 1.2596, Validation MAE: 0.7943\n"
     ]
    },
    {
     "name": "stderr",
     "output_type": "stream",
     "text": [
      "Training Epoch 702: 100%|██████████| 373/373 [00:01<00:00, 197.95it/s]\n",
      "Training Epoch 703: 100%|██████████| 373/373 [00:01<00:00, 193.40it/s]\n",
      "Training Epoch 704: 100%|██████████| 373/373 [00:01<00:00, 195.75it/s]\n",
      "Training Epoch 705: 100%|██████████| 373/373 [00:02<00:00, 185.89it/s]\n",
      "Training Epoch 706: 100%|██████████| 373/373 [00:01<00:00, 186.50it/s]\n",
      "Training Epoch 707: 100%|██████████| 373/373 [00:02<00:00, 177.65it/s]\n",
      "Training Epoch 708: 100%|██████████| 373/373 [00:02<00:00, 183.23it/s]\n",
      "Training Epoch 709: 100%|██████████| 373/373 [00:01<00:00, 206.39it/s]\n",
      "Training Epoch 710: 100%|██████████| 373/373 [00:02<00:00, 180.73it/s]\n",
      "Training Epoch 711: 100%|██████████| 373/373 [00:02<00:00, 183.72it/s]\n"
     ]
    },
    {
     "name": "stdout",
     "output_type": "stream",
     "text": [
      "Epoch 710 - Train Loss: 0.6119, Train MSE: 0.6129, Train MAE: 0.5609\n",
      "Epoch 710 - Validation Loss: 1.2462, Validation MSE: 1.2482, Validation MAE: 0.7890\n"
     ]
    },
    {
     "name": "stderr",
     "output_type": "stream",
     "text": [
      "Training Epoch 712: 100%|██████████| 373/373 [00:01<00:00, 194.27it/s]\n",
      "Training Epoch 713: 100%|██████████| 373/373 [00:01<00:00, 199.16it/s]\n",
      "Training Epoch 714: 100%|██████████| 373/373 [00:01<00:00, 200.16it/s]\n",
      "Training Epoch 715: 100%|██████████| 373/373 [00:01<00:00, 202.39it/s]\n",
      "Training Epoch 716: 100%|██████████| 373/373 [00:01<00:00, 204.42it/s]\n",
      "Training Epoch 717: 100%|██████████| 373/373 [00:01<00:00, 200.74it/s]\n",
      "Training Epoch 718: 100%|██████████| 373/373 [00:01<00:00, 192.47it/s]\n",
      "Training Epoch 719: 100%|██████████| 373/373 [00:01<00:00, 199.89it/s]\n",
      "Training Epoch 720: 100%|██████████| 373/373 [00:01<00:00, 196.19it/s]\n",
      "Training Epoch 721: 100%|██████████| 373/373 [00:01<00:00, 192.71it/s]\n"
     ]
    },
    {
     "name": "stdout",
     "output_type": "stream",
     "text": [
      "Epoch 720 - Train Loss: 0.6107, Train MSE: 0.6118, Train MAE: 0.5597\n",
      "Epoch 720 - Validation Loss: 1.2683, Validation MSE: 1.2699, Validation MAE: 0.7982\n"
     ]
    },
    {
     "name": "stderr",
     "output_type": "stream",
     "text": [
      "Training Epoch 722: 100%|██████████| 373/373 [00:01<00:00, 198.79it/s]\n",
      "Training Epoch 723: 100%|██████████| 373/373 [00:01<00:00, 202.53it/s]\n",
      "Training Epoch 724: 100%|██████████| 373/373 [00:01<00:00, 199.57it/s]\n",
      "Training Epoch 725: 100%|██████████| 373/373 [00:01<00:00, 203.78it/s]\n",
      "Training Epoch 726: 100%|██████████| 373/373 [00:01<00:00, 199.72it/s]\n",
      "Training Epoch 727: 100%|██████████| 373/373 [00:01<00:00, 200.69it/s]\n",
      "Training Epoch 728: 100%|██████████| 373/373 [00:01<00:00, 200.36it/s]\n",
      "Training Epoch 729: 100%|██████████| 373/373 [00:01<00:00, 207.14it/s]\n",
      "Training Epoch 730: 100%|██████████| 373/373 [00:01<00:00, 197.32it/s]\n",
      "Training Epoch 731: 100%|██████████| 373/373 [00:01<00:00, 202.45it/s]\n"
     ]
    },
    {
     "name": "stdout",
     "output_type": "stream",
     "text": [
      "Epoch 730 - Train Loss: 0.6083, Train MSE: 0.6090, Train MAE: 0.5597\n",
      "Epoch 730 - Validation Loss: 1.2869, Validation MSE: 1.2893, Validation MAE: 0.8071\n"
     ]
    },
    {
     "name": "stderr",
     "output_type": "stream",
     "text": [
      "Training Epoch 732: 100%|██████████| 373/373 [00:01<00:00, 194.68it/s]\n",
      "Training Epoch 733: 100%|██████████| 373/373 [00:01<00:00, 206.47it/s]\n",
      "Training Epoch 734: 100%|██████████| 373/373 [00:01<00:00, 198.39it/s]\n",
      "Training Epoch 735: 100%|██████████| 373/373 [00:01<00:00, 197.45it/s]\n",
      "Training Epoch 736: 100%|██████████| 373/373 [00:01<00:00, 202.65it/s]\n",
      "Training Epoch 737: 100%|██████████| 373/373 [00:01<00:00, 202.99it/s]\n",
      "Training Epoch 738: 100%|██████████| 373/373 [00:01<00:00, 199.57it/s]\n",
      "Training Epoch 739: 100%|██████████| 373/373 [00:01<00:00, 202.16it/s]\n",
      "Training Epoch 740: 100%|██████████| 373/373 [00:01<00:00, 207.30it/s]\n",
      "Training Epoch 741: 100%|██████████| 373/373 [00:01<00:00, 199.31it/s]\n"
     ]
    },
    {
     "name": "stdout",
     "output_type": "stream",
     "text": [
      "Epoch 740 - Train Loss: 0.6122, Train MSE: 0.6049, Train MAE: 0.5549\n",
      "Epoch 740 - Validation Loss: 1.2802, Validation MSE: 1.2823, Validation MAE: 0.8029\n"
     ]
    },
    {
     "name": "stderr",
     "output_type": "stream",
     "text": [
      "Training Epoch 742: 100%|██████████| 373/373 [00:01<00:00, 200.07it/s]\n",
      "Training Epoch 743: 100%|██████████| 373/373 [00:01<00:00, 203.08it/s]\n",
      "Training Epoch 744: 100%|██████████| 373/373 [00:01<00:00, 202.89it/s]\n",
      "Training Epoch 745: 100%|██████████| 373/373 [00:01<00:00, 200.03it/s]\n",
      "Training Epoch 746: 100%|██████████| 373/373 [00:01<00:00, 199.43it/s]\n",
      "Training Epoch 747: 100%|██████████| 373/373 [00:01<00:00, 205.58it/s]\n",
      "Training Epoch 748: 100%|██████████| 373/373 [00:01<00:00, 200.84it/s]\n",
      "Training Epoch 749: 100%|██████████| 373/373 [00:01<00:00, 208.98it/s]\n",
      "Training Epoch 750: 100%|██████████| 373/373 [00:01<00:00, 201.56it/s]\n",
      "Training Epoch 751: 100%|██████████| 373/373 [00:01<00:00, 200.29it/s]\n"
     ]
    },
    {
     "name": "stdout",
     "output_type": "stream",
     "text": [
      "Epoch 750 - Train Loss: 0.6027, Train MSE: 0.6024, Train MAE: 0.5521\n",
      "Epoch 750 - Validation Loss: 1.2732, Validation MSE: 1.2753, Validation MAE: 0.8007\n"
     ]
    },
    {
     "name": "stderr",
     "output_type": "stream",
     "text": [
      "Training Epoch 752: 100%|██████████| 373/373 [00:01<00:00, 204.96it/s]\n",
      "Training Epoch 753: 100%|██████████| 373/373 [00:01<00:00, 189.11it/s]\n",
      "Training Epoch 754: 100%|██████████| 373/373 [00:01<00:00, 199.43it/s]\n",
      "Training Epoch 755: 100%|██████████| 373/373 [00:01<00:00, 205.92it/s]\n",
      "Training Epoch 756: 100%|██████████| 373/373 [00:01<00:00, 198.08it/s]\n",
      "Training Epoch 757: 100%|██████████| 373/373 [00:01<00:00, 211.40it/s]\n",
      "Training Epoch 758: 100%|██████████| 373/373 [00:01<00:00, 193.59it/s]\n",
      "Training Epoch 759: 100%|██████████| 373/373 [00:01<00:00, 207.05it/s]\n",
      "Training Epoch 760: 100%|██████████| 373/373 [00:01<00:00, 202.76it/s]\n",
      "Training Epoch 761: 100%|██████████| 373/373 [00:01<00:00, 197.56it/s]\n"
     ]
    },
    {
     "name": "stdout",
     "output_type": "stream",
     "text": [
      "Epoch 760 - Train Loss: 0.6030, Train MSE: 0.6037, Train MAE: 0.5552\n",
      "Epoch 760 - Validation Loss: 1.2806, Validation MSE: 1.2828, Validation MAE: 0.7963\n"
     ]
    },
    {
     "name": "stderr",
     "output_type": "stream",
     "text": [
      "Training Epoch 762: 100%|██████████| 373/373 [00:01<00:00, 203.91it/s]\n",
      "Training Epoch 763: 100%|██████████| 373/373 [00:01<00:00, 200.31it/s]\n",
      "Training Epoch 764: 100%|██████████| 373/373 [00:01<00:00, 204.52it/s]\n",
      "Training Epoch 765: 100%|██████████| 373/373 [00:01<00:00, 210.07it/s]\n",
      "Training Epoch 766: 100%|██████████| 373/373 [00:01<00:00, 195.47it/s]\n",
      "Training Epoch 767: 100%|██████████| 373/373 [00:01<00:00, 198.05it/s]\n",
      "Training Epoch 768: 100%|██████████| 373/373 [00:01<00:00, 201.21it/s]\n",
      "Training Epoch 769: 100%|██████████| 373/373 [00:01<00:00, 204.17it/s]\n",
      "Training Epoch 770: 100%|██████████| 373/373 [00:01<00:00, 201.47it/s]\n",
      "Training Epoch 771: 100%|██████████| 373/373 [00:01<00:00, 203.36it/s]\n"
     ]
    },
    {
     "name": "stdout",
     "output_type": "stream",
     "text": [
      "Epoch 770 - Train Loss: 0.6015, Train MSE: 0.6023, Train MAE: 0.5543\n",
      "Epoch 770 - Validation Loss: 1.2555, Validation MSE: 1.2572, Validation MAE: 0.7975\n"
     ]
    },
    {
     "name": "stderr",
     "output_type": "stream",
     "text": [
      "Training Epoch 772: 100%|██████████| 373/373 [00:01<00:00, 199.21it/s]\n",
      "Training Epoch 773: 100%|██████████| 373/373 [00:01<00:00, 188.99it/s]\n",
      "Training Epoch 774: 100%|██████████| 373/373 [00:01<00:00, 197.92it/s]\n",
      "Training Epoch 775: 100%|██████████| 373/373 [00:01<00:00, 203.32it/s]\n",
      "Training Epoch 776: 100%|██████████| 373/373 [00:01<00:00, 192.82it/s]\n",
      "Training Epoch 777: 100%|██████████| 373/373 [00:01<00:00, 191.34it/s]\n",
      "Training Epoch 778: 100%|██████████| 373/373 [00:01<00:00, 191.10it/s]\n",
      "Training Epoch 779: 100%|██████████| 373/373 [00:01<00:00, 198.00it/s]\n",
      "Training Epoch 780: 100%|██████████| 373/373 [00:01<00:00, 187.67it/s]\n",
      "Training Epoch 781: 100%|██████████| 373/373 [00:01<00:00, 189.14it/s]\n"
     ]
    },
    {
     "name": "stdout",
     "output_type": "stream",
     "text": [
      "Epoch 780 - Train Loss: 0.5933, Train MSE: 0.5943, Train MAE: 0.5513\n",
      "Epoch 780 - Validation Loss: 1.2542, Validation MSE: 1.2565, Validation MAE: 0.7982\n"
     ]
    },
    {
     "name": "stderr",
     "output_type": "stream",
     "text": [
      "Training Epoch 782: 100%|██████████| 373/373 [00:02<00:00, 179.60it/s]\n",
      "Training Epoch 783: 100%|██████████| 373/373 [00:01<00:00, 188.48it/s]\n",
      "Training Epoch 784: 100%|██████████| 373/373 [00:02<00:00, 182.55it/s]\n",
      "Training Epoch 785: 100%|██████████| 373/373 [00:01<00:00, 201.48it/s]\n",
      "Training Epoch 786: 100%|██████████| 373/373 [00:01<00:00, 198.17it/s]\n",
      "Training Epoch 787: 100%|██████████| 373/373 [00:01<00:00, 198.93it/s]\n",
      "Training Epoch 788: 100%|██████████| 373/373 [00:01<00:00, 194.60it/s]\n",
      "Training Epoch 789: 100%|██████████| 373/373 [00:01<00:00, 198.40it/s]\n",
      "Training Epoch 790: 100%|██████████| 373/373 [00:01<00:00, 197.03it/s]\n",
      "Training Epoch 791: 100%|██████████| 373/373 [00:01<00:00, 199.49it/s]\n"
     ]
    },
    {
     "name": "stdout",
     "output_type": "stream",
     "text": [
      "Epoch 790 - Train Loss: 0.6006, Train MSE: 0.6018, Train MAE: 0.5535\n",
      "Epoch 790 - Validation Loss: 1.2895, Validation MSE: 1.2918, Validation MAE: 0.8034\n"
     ]
    },
    {
     "name": "stderr",
     "output_type": "stream",
     "text": [
      "Training Epoch 792: 100%|██████████| 373/373 [00:01<00:00, 198.74it/s]\n",
      "Training Epoch 793: 100%|██████████| 373/373 [00:02<00:00, 184.28it/s]\n",
      "Training Epoch 794: 100%|██████████| 373/373 [00:02<00:00, 185.86it/s]\n",
      "Training Epoch 795: 100%|██████████| 373/373 [00:01<00:00, 186.81it/s]\n",
      "Training Epoch 796: 100%|██████████| 373/373 [00:01<00:00, 193.06it/s]\n",
      "Training Epoch 797: 100%|██████████| 373/373 [00:01<00:00, 190.18it/s]\n",
      "Training Epoch 798: 100%|██████████| 373/373 [00:01<00:00, 200.92it/s]\n",
      "Training Epoch 799: 100%|██████████| 373/373 [00:01<00:00, 192.64it/s]\n",
      "Training Epoch 800: 100%|██████████| 373/373 [00:01<00:00, 186.88it/s]\n",
      "Training Epoch 801: 100%|██████████| 373/373 [00:01<00:00, 189.99it/s]\n"
     ]
    },
    {
     "name": "stdout",
     "output_type": "stream",
     "text": [
      "Epoch 800 - Train Loss: 0.5952, Train MSE: 0.5965, Train MAE: 0.5538\n",
      "Epoch 800 - Validation Loss: 1.2767, Validation MSE: 1.2788, Validation MAE: 0.8027\n"
     ]
    },
    {
     "name": "stderr",
     "output_type": "stream",
     "text": [
      "Training Epoch 802: 100%|██████████| 373/373 [00:01<00:00, 197.06it/s]\n",
      "Training Epoch 803: 100%|██████████| 373/373 [00:01<00:00, 198.43it/s]\n",
      "Training Epoch 804: 100%|██████████| 373/373 [00:01<00:00, 188.19it/s]\n",
      "Training Epoch 805: 100%|██████████| 373/373 [00:02<00:00, 185.26it/s]\n",
      "Training Epoch 806: 100%|██████████| 373/373 [00:01<00:00, 191.83it/s]\n",
      "Training Epoch 807: 100%|██████████| 373/373 [00:01<00:00, 202.20it/s]\n",
      "Training Epoch 808: 100%|██████████| 373/373 [00:01<00:00, 188.99it/s]\n",
      "Training Epoch 809: 100%|██████████| 373/373 [00:01<00:00, 191.28it/s]\n",
      "Training Epoch 810: 100%|██████████| 373/373 [00:01<00:00, 194.42it/s]\n",
      "Training Epoch 811: 100%|██████████| 373/373 [00:01<00:00, 197.72it/s]\n"
     ]
    },
    {
     "name": "stdout",
     "output_type": "stream",
     "text": [
      "Epoch 810 - Train Loss: 0.5969, Train MSE: 0.5972, Train MAE: 0.5499\n",
      "Epoch 810 - Validation Loss: 1.2838, Validation MSE: 1.2857, Validation MAE: 0.8086\n"
     ]
    },
    {
     "name": "stderr",
     "output_type": "stream",
     "text": [
      "Training Epoch 812: 100%|██████████| 373/373 [00:01<00:00, 190.85it/s]\n",
      "Training Epoch 813: 100%|██████████| 373/373 [00:01<00:00, 198.36it/s]\n",
      "Training Epoch 814: 100%|██████████| 373/373 [00:01<00:00, 194.46it/s]\n",
      "Training Epoch 815: 100%|██████████| 373/373 [00:01<00:00, 195.47it/s]\n",
      "Training Epoch 816: 100%|██████████| 373/373 [00:02<00:00, 178.37it/s]\n",
      "Training Epoch 817: 100%|██████████| 373/373 [00:02<00:00, 183.40it/s]\n",
      "Training Epoch 818: 100%|██████████| 373/373 [00:01<00:00, 191.87it/s]\n",
      "Training Epoch 819: 100%|██████████| 373/373 [00:01<00:00, 193.74it/s]\n",
      "Training Epoch 820: 100%|██████████| 373/373 [00:01<00:00, 199.42it/s]\n",
      "Training Epoch 821: 100%|██████████| 373/373 [00:01<00:00, 192.53it/s]\n"
     ]
    },
    {
     "name": "stdout",
     "output_type": "stream",
     "text": [
      "Epoch 820 - Train Loss: 0.5910, Train MSE: 0.5920, Train MAE: 0.5464\n",
      "Epoch 820 - Validation Loss: 1.2659, Validation MSE: 1.2679, Validation MAE: 0.7990\n"
     ]
    },
    {
     "name": "stderr",
     "output_type": "stream",
     "text": [
      "Training Epoch 822: 100%|██████████| 373/373 [00:01<00:00, 199.85it/s]\n",
      "Training Epoch 823: 100%|██████████| 373/373 [00:01<00:00, 196.58it/s]\n",
      "Training Epoch 824: 100%|██████████| 373/373 [00:01<00:00, 195.90it/s]\n",
      "Training Epoch 825: 100%|██████████| 373/373 [00:01<00:00, 194.01it/s]\n",
      "Training Epoch 826: 100%|██████████| 373/373 [00:01<00:00, 189.60it/s]\n",
      "Training Epoch 827: 100%|██████████| 373/373 [00:01<00:00, 196.70it/s]\n",
      "Training Epoch 828: 100%|██████████| 373/373 [00:01<00:00, 198.98it/s]\n",
      "Training Epoch 829: 100%|██████████| 373/373 [00:01<00:00, 193.52it/s]\n",
      "Training Epoch 830: 100%|██████████| 373/373 [00:01<00:00, 200.59it/s]\n",
      "Training Epoch 831: 100%|██████████| 373/373 [00:01<00:00, 194.41it/s]\n"
     ]
    },
    {
     "name": "stdout",
     "output_type": "stream",
     "text": [
      "Epoch 830 - Train Loss: 0.5905, Train MSE: 0.5901, Train MAE: 0.5511\n",
      "Epoch 830 - Validation Loss: 1.2528, Validation MSE: 1.2548, Validation MAE: 0.7926\n"
     ]
    },
    {
     "name": "stderr",
     "output_type": "stream",
     "text": [
      "Training Epoch 832: 100%|██████████| 373/373 [00:01<00:00, 187.53it/s]\n",
      "Training Epoch 833: 100%|██████████| 373/373 [00:02<00:00, 179.28it/s]\n",
      "Training Epoch 834: 100%|██████████| 373/373 [00:02<00:00, 186.10it/s]\n",
      "Training Epoch 835: 100%|██████████| 373/373 [00:02<00:00, 185.42it/s]\n",
      "Training Epoch 836: 100%|██████████| 373/373 [00:02<00:00, 184.97it/s]\n",
      "Training Epoch 837: 100%|██████████| 373/373 [00:01<00:00, 191.38it/s]\n",
      "Training Epoch 838: 100%|██████████| 373/373 [00:01<00:00, 187.41it/s]\n",
      "Training Epoch 839: 100%|██████████| 373/373 [00:01<00:00, 190.95it/s]\n",
      "Training Epoch 840: 100%|██████████| 373/373 [00:01<00:00, 201.86it/s]\n",
      "Training Epoch 841: 100%|██████████| 373/373 [00:01<00:00, 193.95it/s]\n"
     ]
    },
    {
     "name": "stdout",
     "output_type": "stream",
     "text": [
      "Epoch 840 - Train Loss: 0.5839, Train MSE: 0.5830, Train MAE: 0.5427\n",
      "Epoch 840 - Validation Loss: 1.2564, Validation MSE: 1.2577, Validation MAE: 0.7955\n"
     ]
    },
    {
     "name": "stderr",
     "output_type": "stream",
     "text": [
      "Training Epoch 842: 100%|██████████| 373/373 [00:01<00:00, 204.54it/s]\n",
      "Training Epoch 843: 100%|██████████| 373/373 [00:01<00:00, 202.78it/s]\n",
      "Training Epoch 844: 100%|██████████| 373/373 [00:01<00:00, 187.92it/s]\n",
      "Training Epoch 845: 100%|██████████| 373/373 [00:02<00:00, 185.22it/s]\n",
      "Training Epoch 846: 100%|██████████| 373/373 [00:01<00:00, 188.02it/s]\n",
      "Training Epoch 847: 100%|██████████| 373/373 [00:01<00:00, 191.57it/s]\n",
      "Training Epoch 848: 100%|██████████| 373/373 [00:01<00:00, 186.68it/s]\n",
      "Training Epoch 849: 100%|██████████| 373/373 [00:02<00:00, 185.23it/s]\n",
      "Training Epoch 850: 100%|██████████| 373/373 [00:02<00:00, 182.32it/s]\n",
      "Training Epoch 851: 100%|██████████| 373/373 [00:01<00:00, 196.83it/s]\n"
     ]
    },
    {
     "name": "stdout",
     "output_type": "stream",
     "text": [
      "Epoch 850 - Train Loss: 0.5935, Train MSE: 0.5944, Train MAE: 0.5512\n",
      "Epoch 850 - Validation Loss: 1.2850, Validation MSE: 1.2871, Validation MAE: 0.8010\n"
     ]
    },
    {
     "name": "stderr",
     "output_type": "stream",
     "text": [
      "Training Epoch 852: 100%|██████████| 373/373 [00:01<00:00, 196.90it/s]\n",
      "Training Epoch 853: 100%|██████████| 373/373 [00:01<00:00, 191.91it/s]\n",
      "Training Epoch 854: 100%|██████████| 373/373 [00:01<00:00, 201.21it/s]\n",
      "Training Epoch 855: 100%|██████████| 373/373 [00:01<00:00, 193.39it/s]\n",
      "Training Epoch 856: 100%|██████████| 373/373 [00:01<00:00, 198.34it/s]\n",
      "Training Epoch 857: 100%|██████████| 373/373 [00:01<00:00, 193.79it/s]\n",
      "Training Epoch 858: 100%|██████████| 373/373 [00:01<00:00, 195.94it/s]\n",
      "Training Epoch 859: 100%|██████████| 373/373 [00:01<00:00, 203.41it/s]\n",
      "Training Epoch 860: 100%|██████████| 373/373 [00:01<00:00, 195.97it/s]\n",
      "Training Epoch 861: 100%|██████████| 373/373 [00:01<00:00, 190.74it/s]\n"
     ]
    },
    {
     "name": "stdout",
     "output_type": "stream",
     "text": [
      "Epoch 860 - Train Loss: 0.5908, Train MSE: 0.5912, Train MAE: 0.5476\n",
      "Epoch 860 - Validation Loss: 1.2677, Validation MSE: 1.2700, Validation MAE: 0.7990\n"
     ]
    },
    {
     "name": "stderr",
     "output_type": "stream",
     "text": [
      "Training Epoch 862: 100%|██████████| 373/373 [00:01<00:00, 198.72it/s]\n",
      "Training Epoch 863: 100%|██████████| 373/373 [00:01<00:00, 193.24it/s]\n",
      "Training Epoch 864: 100%|██████████| 373/373 [00:01<00:00, 196.96it/s]\n",
      "Training Epoch 865: 100%|██████████| 373/373 [00:01<00:00, 197.85it/s]\n",
      "Training Epoch 866: 100%|██████████| 373/373 [00:01<00:00, 203.07it/s]\n",
      "Training Epoch 867: 100%|██████████| 373/373 [00:01<00:00, 199.03it/s]\n",
      "Training Epoch 868: 100%|██████████| 373/373 [00:01<00:00, 203.92it/s]\n",
      "Training Epoch 869: 100%|██████████| 373/373 [00:02<00:00, 186.47it/s]\n",
      "Training Epoch 870: 100%|██████████| 373/373 [00:01<00:00, 188.71it/s]\n",
      "Training Epoch 871: 100%|██████████| 373/373 [00:02<00:00, 184.53it/s]\n"
     ]
    },
    {
     "name": "stdout",
     "output_type": "stream",
     "text": [
      "Epoch 870 - Train Loss: 0.5932, Train MSE: 0.5937, Train MAE: 0.5482\n",
      "Epoch 870 - Validation Loss: 1.2656, Validation MSE: 1.2675, Validation MAE: 0.7916\n"
     ]
    },
    {
     "name": "stderr",
     "output_type": "stream",
     "text": [
      "Training Epoch 872: 100%|██████████| 373/373 [00:02<00:00, 182.91it/s]\n",
      "Training Epoch 873: 100%|██████████| 373/373 [00:02<00:00, 184.49it/s]\n",
      "Training Epoch 874: 100%|██████████| 373/373 [00:01<00:00, 190.97it/s]\n",
      "Training Epoch 875: 100%|██████████| 373/373 [00:01<00:00, 203.82it/s]\n",
      "Training Epoch 876: 100%|██████████| 373/373 [00:01<00:00, 205.74it/s]\n",
      "Training Epoch 877: 100%|██████████| 373/373 [00:01<00:00, 199.37it/s]\n",
      "Training Epoch 878: 100%|██████████| 373/373 [00:01<00:00, 195.28it/s]\n",
      "Training Epoch 879: 100%|██████████| 373/373 [00:01<00:00, 203.32it/s]\n",
      "Training Epoch 880: 100%|██████████| 373/373 [00:01<00:00, 200.28it/s]\n",
      "Training Epoch 881: 100%|██████████| 373/373 [00:01<00:00, 189.03it/s]\n"
     ]
    },
    {
     "name": "stdout",
     "output_type": "stream",
     "text": [
      "Epoch 880 - Train Loss: 0.5915, Train MSE: 0.5925, Train MAE: 0.5499\n",
      "Epoch 880 - Validation Loss: 1.2720, Validation MSE: 1.2735, Validation MAE: 0.7996\n"
     ]
    },
    {
     "name": "stderr",
     "output_type": "stream",
     "text": [
      "Training Epoch 882: 100%|██████████| 373/373 [00:01<00:00, 195.11it/s]\n",
      "Training Epoch 883: 100%|██████████| 373/373 [00:01<00:00, 188.62it/s]\n",
      "Training Epoch 884: 100%|██████████| 373/373 [00:02<00:00, 185.97it/s]\n",
      "Training Epoch 885: 100%|██████████| 373/373 [00:02<00:00, 180.45it/s]\n",
      "Training Epoch 886: 100%|██████████| 373/373 [00:01<00:00, 190.01it/s]\n",
      "Training Epoch 887: 100%|██████████| 373/373 [00:02<00:00, 183.55it/s]\n",
      "Training Epoch 888: 100%|██████████| 373/373 [00:02<00:00, 184.42it/s]\n",
      "Training Epoch 889: 100%|██████████| 373/373 [00:01<00:00, 188.91it/s]\n",
      "Training Epoch 890: 100%|██████████| 373/373 [00:02<00:00, 184.71it/s]\n",
      "Training Epoch 891: 100%|██████████| 373/373 [00:01<00:00, 214.70it/s]\n"
     ]
    },
    {
     "name": "stdout",
     "output_type": "stream",
     "text": [
      "Epoch 890 - Train Loss: 0.5887, Train MSE: 0.5871, Train MAE: 0.5425\n",
      "Epoch 890 - Validation Loss: 1.2590, Validation MSE: 1.2612, Validation MAE: 0.7947\n"
     ]
    },
    {
     "name": "stderr",
     "output_type": "stream",
     "text": [
      "Training Epoch 892: 100%|██████████| 373/373 [00:01<00:00, 204.35it/s]\n",
      "Training Epoch 893: 100%|██████████| 373/373 [00:01<00:00, 204.35it/s]\n",
      "Training Epoch 894: 100%|██████████| 373/373 [00:01<00:00, 199.10it/s]\n",
      "Training Epoch 895: 100%|██████████| 373/373 [00:01<00:00, 205.66it/s]\n",
      "Training Epoch 896: 100%|██████████| 373/373 [00:01<00:00, 204.35it/s]\n",
      "Training Epoch 897: 100%|██████████| 373/373 [00:01<00:00, 204.52it/s]\n",
      "Training Epoch 898: 100%|██████████| 373/373 [00:01<00:00, 198.31it/s]\n",
      "Training Epoch 899: 100%|██████████| 373/373 [00:01<00:00, 202.02it/s]\n",
      "Training Epoch 900: 100%|██████████| 373/373 [00:01<00:00, 201.35it/s]\n",
      "Training Epoch 901: 100%|██████████| 373/373 [00:01<00:00, 197.66it/s]\n"
     ]
    },
    {
     "name": "stdout",
     "output_type": "stream",
     "text": [
      "Epoch 900 - Train Loss: 0.5829, Train MSE: 0.5832, Train MAE: 0.5417\n",
      "Epoch 900 - Validation Loss: 1.2636, Validation MSE: 1.2655, Validation MAE: 0.7992\n"
     ]
    },
    {
     "name": "stderr",
     "output_type": "stream",
     "text": [
      "Training Epoch 902: 100%|██████████| 373/373 [00:01<00:00, 204.67it/s]\n",
      "Training Epoch 903: 100%|██████████| 373/373 [00:01<00:00, 203.70it/s]\n",
      "Training Epoch 904: 100%|██████████| 373/373 [00:01<00:00, 211.42it/s]\n",
      "Training Epoch 905: 100%|██████████| 373/373 [00:01<00:00, 194.68it/s]\n",
      "Training Epoch 906: 100%|██████████| 373/373 [00:01<00:00, 197.94it/s]\n",
      "Training Epoch 907: 100%|██████████| 373/373 [00:01<00:00, 205.35it/s]\n",
      "Training Epoch 908: 100%|██████████| 373/373 [00:01<00:00, 196.03it/s]\n",
      "Training Epoch 909: 100%|██████████| 373/373 [00:01<00:00, 200.37it/s]\n",
      "Training Epoch 910: 100%|██████████| 373/373 [00:01<00:00, 194.24it/s]\n",
      "Training Epoch 911: 100%|██████████| 373/373 [00:01<00:00, 201.76it/s]\n"
     ]
    },
    {
     "name": "stdout",
     "output_type": "stream",
     "text": [
      "Epoch 910 - Train Loss: 0.5832, Train MSE: 0.5832, Train MAE: 0.5442\n",
      "Epoch 910 - Validation Loss: 1.2676, Validation MSE: 1.2694, Validation MAE: 0.7888\n"
     ]
    },
    {
     "name": "stderr",
     "output_type": "stream",
     "text": [
      "Training Epoch 912: 100%|██████████| 373/373 [00:01<00:00, 197.09it/s]\n",
      "Training Epoch 913: 100%|██████████| 373/373 [00:01<00:00, 195.92it/s]\n",
      "Training Epoch 914: 100%|██████████| 373/373 [00:01<00:00, 207.02it/s]\n",
      "Training Epoch 915: 100%|██████████| 373/373 [00:01<00:00, 201.93it/s]\n",
      "Training Epoch 916: 100%|██████████| 373/373 [00:01<00:00, 202.60it/s]\n",
      "Training Epoch 917: 100%|██████████| 373/373 [00:01<00:00, 210.75it/s]\n",
      "Training Epoch 918: 100%|██████████| 373/373 [00:01<00:00, 206.05it/s]\n",
      "Training Epoch 919: 100%|██████████| 373/373 [00:01<00:00, 201.24it/s]\n",
      "Training Epoch 920: 100%|██████████| 373/373 [00:01<00:00, 196.66it/s]\n",
      "Training Epoch 921: 100%|██████████| 373/373 [00:01<00:00, 204.10it/s]\n"
     ]
    },
    {
     "name": "stdout",
     "output_type": "stream",
     "text": [
      "Epoch 920 - Train Loss: 0.5786, Train MSE: 0.5793, Train MAE: 0.5417\n",
      "Epoch 920 - Validation Loss: 1.2634, Validation MSE: 1.2658, Validation MAE: 0.7870\n"
     ]
    },
    {
     "name": "stderr",
     "output_type": "stream",
     "text": [
      "Training Epoch 922: 100%|██████████| 373/373 [00:01<00:00, 201.07it/s]\n",
      "Training Epoch 923: 100%|██████████| 373/373 [00:01<00:00, 201.66it/s]\n",
      "Training Epoch 924: 100%|██████████| 373/373 [00:01<00:00, 202.55it/s]\n",
      "Training Epoch 925: 100%|██████████| 373/373 [00:01<00:00, 195.50it/s]\n",
      "Training Epoch 926: 100%|██████████| 373/373 [00:01<00:00, 201.69it/s]\n",
      "Training Epoch 927: 100%|██████████| 373/373 [00:01<00:00, 203.38it/s]\n",
      "Training Epoch 928: 100%|██████████| 373/373 [00:01<00:00, 200.97it/s]\n",
      "Training Epoch 929: 100%|██████████| 373/373 [00:01<00:00, 204.33it/s]\n",
      "Training Epoch 930: 100%|██████████| 373/373 [00:01<00:00, 193.09it/s]\n",
      "Training Epoch 931: 100%|██████████| 373/373 [00:01<00:00, 202.04it/s]\n"
     ]
    },
    {
     "name": "stdout",
     "output_type": "stream",
     "text": [
      "Epoch 930 - Train Loss: 0.5846, Train MSE: 0.5851, Train MAE: 0.5454\n",
      "Epoch 930 - Validation Loss: 1.2425, Validation MSE: 1.2450, Validation MAE: 0.7853\n"
     ]
    },
    {
     "name": "stderr",
     "output_type": "stream",
     "text": [
      "Training Epoch 932: 100%|██████████| 373/373 [00:01<00:00, 199.30it/s]\n",
      "Training Epoch 933: 100%|██████████| 373/373 [00:01<00:00, 207.82it/s]\n",
      "Training Epoch 934: 100%|██████████| 373/373 [00:01<00:00, 200.71it/s]\n",
      "Training Epoch 935: 100%|██████████| 373/373 [00:01<00:00, 203.03it/s]\n",
      "Training Epoch 936: 100%|██████████| 373/373 [00:01<00:00, 199.00it/s]\n",
      "Training Epoch 937: 100%|██████████| 373/373 [00:01<00:00, 201.95it/s]\n",
      "Training Epoch 938: 100%|██████████| 373/373 [00:01<00:00, 193.15it/s]\n",
      "Training Epoch 939: 100%|██████████| 373/373 [00:02<00:00, 185.27it/s]\n",
      "Training Epoch 940: 100%|██████████| 373/373 [00:01<00:00, 200.51it/s]\n",
      "Training Epoch 941: 100%|██████████| 373/373 [00:01<00:00, 190.26it/s]\n"
     ]
    },
    {
     "name": "stdout",
     "output_type": "stream",
     "text": [
      "Epoch 940 - Train Loss: 0.5775, Train MSE: 0.5788, Train MAE: 0.5377\n",
      "Epoch 940 - Validation Loss: 1.2431, Validation MSE: 1.2456, Validation MAE: 0.7887\n"
     ]
    },
    {
     "name": "stderr",
     "output_type": "stream",
     "text": [
      "Training Epoch 942: 100%|██████████| 373/373 [00:01<00:00, 191.49it/s]\n",
      "Training Epoch 943: 100%|██████████| 373/373 [00:01<00:00, 207.05it/s]\n",
      "Training Epoch 944: 100%|██████████| 373/373 [00:01<00:00, 202.50it/s]\n",
      "Training Epoch 945: 100%|██████████| 373/373 [00:01<00:00, 204.80it/s]\n",
      "Training Epoch 946: 100%|██████████| 373/373 [00:01<00:00, 204.23it/s]\n",
      "Training Epoch 947: 100%|██████████| 373/373 [00:01<00:00, 206.31it/s]\n",
      "Training Epoch 948: 100%|██████████| 373/373 [00:01<00:00, 198.70it/s]\n",
      "Training Epoch 949: 100%|██████████| 373/373 [00:01<00:00, 206.00it/s]\n",
      "Training Epoch 950: 100%|██████████| 373/373 [00:01<00:00, 200.23it/s]\n",
      "Training Epoch 951: 100%|██████████| 373/373 [00:01<00:00, 199.78it/s]\n"
     ]
    },
    {
     "name": "stdout",
     "output_type": "stream",
     "text": [
      "Epoch 950 - Train Loss: 0.5699, Train MSE: 0.5704, Train MAE: 0.5354\n",
      "Epoch 950 - Validation Loss: 1.2480, Validation MSE: 1.2499, Validation MAE: 0.7857\n"
     ]
    },
    {
     "name": "stderr",
     "output_type": "stream",
     "text": [
      "Training Epoch 952: 100%|██████████| 373/373 [00:01<00:00, 204.77it/s]\n",
      "Training Epoch 953: 100%|██████████| 373/373 [00:01<00:00, 205.31it/s]\n",
      "Training Epoch 954: 100%|██████████| 373/373 [00:01<00:00, 205.95it/s]\n",
      "Training Epoch 955: 100%|██████████| 373/373 [00:01<00:00, 205.46it/s]\n",
      "Training Epoch 956: 100%|██████████| 373/373 [00:01<00:00, 204.19it/s]\n",
      "Training Epoch 957: 100%|██████████| 373/373 [00:01<00:00, 198.64it/s]\n",
      "Training Epoch 958: 100%|██████████| 373/373 [00:01<00:00, 203.49it/s]\n",
      "Training Epoch 959: 100%|██████████| 373/373 [00:01<00:00, 204.14it/s]\n",
      "Training Epoch 960: 100%|██████████| 373/373 [00:01<00:00, 206.25it/s]\n",
      "Training Epoch 961: 100%|██████████| 373/373 [00:01<00:00, 190.62it/s]\n"
     ]
    },
    {
     "name": "stdout",
     "output_type": "stream",
     "text": [
      "Epoch 960 - Train Loss: 0.5737, Train MSE: 0.5745, Train MAE: 0.5368\n",
      "Epoch 960 - Validation Loss: 1.2646, Validation MSE: 1.2666, Validation MAE: 0.7918\n"
     ]
    },
    {
     "name": "stderr",
     "output_type": "stream",
     "text": [
      "Training Epoch 962: 100%|██████████| 373/373 [00:01<00:00, 205.30it/s]\n",
      "Training Epoch 963: 100%|██████████| 373/373 [00:01<00:00, 196.40it/s]\n",
      "Training Epoch 964: 100%|██████████| 373/373 [00:01<00:00, 190.76it/s]\n",
      "Training Epoch 965: 100%|██████████| 373/373 [00:01<00:00, 200.12it/s]\n",
      "Training Epoch 966: 100%|██████████| 373/373 [00:01<00:00, 199.97it/s]\n",
      "Training Epoch 967: 100%|██████████| 373/373 [00:01<00:00, 198.55it/s]\n",
      "Training Epoch 968: 100%|██████████| 373/373 [00:01<00:00, 205.79it/s]\n",
      "Training Epoch 969: 100%|██████████| 373/373 [00:01<00:00, 198.54it/s]\n",
      "Training Epoch 970: 100%|██████████| 373/373 [00:01<00:00, 202.98it/s]\n",
      "Training Epoch 971: 100%|██████████| 373/373 [00:01<00:00, 200.01it/s]\n"
     ]
    },
    {
     "name": "stdout",
     "output_type": "stream",
     "text": [
      "Epoch 970 - Train Loss: 0.5684, Train MSE: 0.5697, Train MAE: 0.5351\n",
      "Epoch 970 - Validation Loss: 1.2747, Validation MSE: 1.2765, Validation MAE: 0.7965\n"
     ]
    },
    {
     "name": "stderr",
     "output_type": "stream",
     "text": [
      "Training Epoch 972: 100%|██████████| 373/373 [00:01<00:00, 197.41it/s]\n",
      "Training Epoch 973: 100%|██████████| 373/373 [00:01<00:00, 204.10it/s]\n",
      "Training Epoch 974: 100%|██████████| 373/373 [00:01<00:00, 200.27it/s]\n",
      "Training Epoch 975: 100%|██████████| 373/373 [00:01<00:00, 208.77it/s]\n",
      "Training Epoch 976: 100%|██████████| 373/373 [00:01<00:00, 200.26it/s]\n",
      "Training Epoch 977: 100%|██████████| 373/373 [00:01<00:00, 196.53it/s]\n",
      "Training Epoch 978: 100%|██████████| 373/373 [00:01<00:00, 194.55it/s]\n",
      "Training Epoch 979: 100%|██████████| 373/373 [00:01<00:00, 202.44it/s]\n",
      "Training Epoch 980: 100%|██████████| 373/373 [00:01<00:00, 191.81it/s]\n",
      "Training Epoch 981: 100%|██████████| 373/373 [00:01<00:00, 200.32it/s]\n"
     ]
    },
    {
     "name": "stdout",
     "output_type": "stream",
     "text": [
      "Epoch 980 - Train Loss: 0.5707, Train MSE: 0.5718, Train MAE: 0.5399\n",
      "Epoch 980 - Validation Loss: 1.2666, Validation MSE: 1.2685, Validation MAE: 0.8004\n"
     ]
    },
    {
     "name": "stderr",
     "output_type": "stream",
     "text": [
      "Training Epoch 982: 100%|██████████| 373/373 [00:01<00:00, 202.70it/s]\n",
      "Training Epoch 983: 100%|██████████| 373/373 [00:01<00:00, 204.29it/s]\n",
      "Training Epoch 984: 100%|██████████| 373/373 [00:01<00:00, 197.01it/s]\n",
      "Training Epoch 985: 100%|██████████| 373/373 [00:01<00:00, 198.88it/s]\n",
      "Training Epoch 986: 100%|██████████| 373/373 [00:01<00:00, 202.53it/s]\n",
      "Training Epoch 987: 100%|██████████| 373/373 [00:01<00:00, 202.49it/s]\n",
      "Training Epoch 988: 100%|██████████| 373/373 [00:01<00:00, 198.47it/s]\n",
      "Training Epoch 989: 100%|██████████| 373/373 [00:01<00:00, 202.07it/s]\n",
      "Training Epoch 990: 100%|██████████| 373/373 [00:01<00:00, 200.68it/s]\n",
      "Training Epoch 991: 100%|██████████| 373/373 [00:01<00:00, 201.54it/s]\n"
     ]
    },
    {
     "name": "stdout",
     "output_type": "stream",
     "text": [
      "Epoch 990 - Train Loss: 0.5832, Train MSE: 0.5837, Train MAE: 0.5394\n",
      "Epoch 990 - Validation Loss: 1.2699, Validation MSE: 1.2720, Validation MAE: 0.8024\n"
     ]
    },
    {
     "name": "stderr",
     "output_type": "stream",
     "text": [
      "Training Epoch 992: 100%|██████████| 373/373 [00:01<00:00, 199.70it/s]\n",
      "Training Epoch 993: 100%|██████████| 373/373 [00:01<00:00, 205.23it/s]\n",
      "Training Epoch 994: 100%|██████████| 373/373 [00:01<00:00, 194.39it/s]\n",
      "Training Epoch 995: 100%|██████████| 373/373 [00:01<00:00, 197.77it/s]\n",
      "Training Epoch 996: 100%|██████████| 373/373 [00:01<00:00, 206.04it/s]\n",
      "Training Epoch 997: 100%|██████████| 373/373 [00:01<00:00, 206.03it/s]\n",
      "Training Epoch 998: 100%|██████████| 373/373 [00:01<00:00, 201.40it/s]\n",
      "Training Epoch 999: 100%|██████████| 373/373 [00:01<00:00, 192.33it/s]\n",
      "Training Epoch 1000: 100%|██████████| 373/373 [00:01<00:00, 201.41it/s]\n",
      "Training Epoch 1001: 100%|██████████| 373/373 [00:01<00:00, 208.08it/s]\n"
     ]
    },
    {
     "name": "stdout",
     "output_type": "stream",
     "text": [
      "Epoch 1000 - Train Loss: 0.5671, Train MSE: 0.5681, Train MAE: 0.5342\n",
      "Epoch 1000 - Validation Loss: 1.2549, Validation MSE: 1.2569, Validation MAE: 0.7881\n"
     ]
    },
    {
     "name": "stderr",
     "output_type": "stream",
     "text": [
      "Training Epoch 1002: 100%|██████████| 373/373 [00:01<00:00, 205.34it/s]\n",
      "Training Epoch 1003: 100%|██████████| 373/373 [00:01<00:00, 206.24it/s]\n",
      "Training Epoch 1004: 100%|██████████| 373/373 [00:01<00:00, 200.19it/s]\n",
      "Training Epoch 1005: 100%|██████████| 373/373 [00:01<00:00, 209.03it/s]\n",
      "Training Epoch 1006: 100%|██████████| 373/373 [00:01<00:00, 208.83it/s]\n",
      "Training Epoch 1007: 100%|██████████| 373/373 [00:01<00:00, 201.80it/s]\n",
      "Training Epoch 1008: 100%|██████████| 373/373 [00:01<00:00, 206.75it/s]\n",
      "Training Epoch 1009: 100%|██████████| 373/373 [00:01<00:00, 199.89it/s]\n",
      "Training Epoch 1010: 100%|██████████| 373/373 [00:01<00:00, 204.03it/s]\n",
      "Training Epoch 1011: 100%|██████████| 373/373 [00:01<00:00, 201.68it/s]\n"
     ]
    },
    {
     "name": "stdout",
     "output_type": "stream",
     "text": [
      "Epoch 1010 - Train Loss: 0.5762, Train MSE: 0.5747, Train MAE: 0.5346\n",
      "Epoch 1010 - Validation Loss: 1.2569, Validation MSE: 1.2588, Validation MAE: 0.7874\n"
     ]
    },
    {
     "name": "stderr",
     "output_type": "stream",
     "text": [
      "Training Epoch 1012: 100%|██████████| 373/373 [00:01<00:00, 204.26it/s]\n",
      "Training Epoch 1013: 100%|██████████| 373/373 [00:01<00:00, 203.70it/s]\n",
      "Training Epoch 1014: 100%|██████████| 373/373 [00:01<00:00, 205.70it/s]\n",
      "Training Epoch 1015: 100%|██████████| 373/373 [00:01<00:00, 201.32it/s]\n",
      "Training Epoch 1016: 100%|██████████| 373/373 [00:01<00:00, 202.59it/s]\n",
      "Training Epoch 1017: 100%|██████████| 373/373 [00:01<00:00, 197.65it/s]\n",
      "Training Epoch 1018: 100%|██████████| 373/373 [00:01<00:00, 201.12it/s]\n",
      "Training Epoch 1019: 100%|██████████| 373/373 [00:01<00:00, 204.39it/s]\n",
      "Training Epoch 1020: 100%|██████████| 373/373 [00:01<00:00, 196.76it/s]\n",
      "Training Epoch 1021: 100%|██████████| 373/373 [00:01<00:00, 198.14it/s]\n"
     ]
    },
    {
     "name": "stdout",
     "output_type": "stream",
     "text": [
      "Epoch 1020 - Train Loss: 0.5827, Train MSE: 0.5804, Train MAE: 0.5415\n",
      "Epoch 1020 - Validation Loss: 1.2472, Validation MSE: 1.2496, Validation MAE: 0.7918\n"
     ]
    },
    {
     "name": "stderr",
     "output_type": "stream",
     "text": [
      "Training Epoch 1022: 100%|██████████| 373/373 [00:01<00:00, 203.73it/s]\n",
      "Training Epoch 1023: 100%|██████████| 373/373 [00:01<00:00, 207.98it/s]\n",
      "Training Epoch 1024: 100%|██████████| 373/373 [00:01<00:00, 208.18it/s]\n",
      "Training Epoch 1025: 100%|██████████| 373/373 [00:01<00:00, 200.91it/s]\n",
      "Training Epoch 1026: 100%|██████████| 373/373 [00:01<00:00, 197.81it/s]\n",
      "Training Epoch 1027: 100%|██████████| 373/373 [00:01<00:00, 205.90it/s]\n",
      "Training Epoch 1028: 100%|██████████| 373/373 [00:01<00:00, 198.72it/s]\n",
      "Training Epoch 1029: 100%|██████████| 373/373 [00:01<00:00, 206.91it/s]\n",
      "Training Epoch 1030: 100%|██████████| 373/373 [00:01<00:00, 204.93it/s]\n",
      "Training Epoch 1031: 100%|██████████| 373/373 [00:01<00:00, 197.36it/s]\n"
     ]
    },
    {
     "name": "stdout",
     "output_type": "stream",
     "text": [
      "Epoch 1030 - Train Loss: 0.5785, Train MSE: 0.5798, Train MAE: 0.5394\n",
      "Epoch 1030 - Validation Loss: 1.2527, Validation MSE: 1.2550, Validation MAE: 0.7867\n"
     ]
    },
    {
     "name": "stderr",
     "output_type": "stream",
     "text": [
      "Training Epoch 1032: 100%|██████████| 373/373 [00:01<00:00, 199.80it/s]\n",
      "Training Epoch 1033: 100%|██████████| 373/373 [00:01<00:00, 199.96it/s]\n",
      "Training Epoch 1034: 100%|██████████| 373/373 [00:01<00:00, 199.89it/s]\n",
      "Training Epoch 1035: 100%|██████████| 373/373 [00:01<00:00, 201.77it/s]\n",
      "Training Epoch 1036: 100%|██████████| 373/373 [00:01<00:00, 205.05it/s]\n",
      "Training Epoch 1037: 100%|██████████| 373/373 [00:01<00:00, 204.27it/s]\n",
      "Training Epoch 1038: 100%|██████████| 373/373 [00:01<00:00, 197.55it/s]\n",
      "Training Epoch 1039: 100%|██████████| 373/373 [00:01<00:00, 207.76it/s]\n",
      "Training Epoch 1040: 100%|██████████| 373/373 [00:01<00:00, 207.55it/s]\n",
      "Training Epoch 1041: 100%|██████████| 373/373 [00:01<00:00, 202.26it/s]\n"
     ]
    },
    {
     "name": "stdout",
     "output_type": "stream",
     "text": [
      "Epoch 1040 - Train Loss: 0.5798, Train MSE: 0.5812, Train MAE: 0.5410\n",
      "Epoch 1040 - Validation Loss: 1.2654, Validation MSE: 1.2675, Validation MAE: 0.7989\n"
     ]
    },
    {
     "name": "stderr",
     "output_type": "stream",
     "text": [
      "Training Epoch 1042: 100%|██████████| 373/373 [00:01<00:00, 199.44it/s]\n",
      "Training Epoch 1043: 100%|██████████| 373/373 [00:01<00:00, 202.49it/s]\n",
      "Training Epoch 1044: 100%|██████████| 373/373 [00:01<00:00, 204.47it/s]\n",
      "Training Epoch 1045: 100%|██████████| 373/373 [00:01<00:00, 202.26it/s]\n",
      "Training Epoch 1046: 100%|██████████| 373/373 [00:01<00:00, 198.05it/s]\n",
      "Training Epoch 1047: 100%|██████████| 373/373 [00:01<00:00, 207.60it/s]\n",
      "Training Epoch 1048: 100%|██████████| 373/373 [00:01<00:00, 207.66it/s]\n",
      "Training Epoch 1049: 100%|██████████| 373/373 [00:01<00:00, 200.70it/s]\n",
      "Training Epoch 1050: 100%|██████████| 373/373 [00:01<00:00, 189.80it/s]\n",
      "Training Epoch 1051: 100%|██████████| 373/373 [00:01<00:00, 192.19it/s]\n"
     ]
    },
    {
     "name": "stdout",
     "output_type": "stream",
     "text": [
      "Epoch 1050 - Train Loss: 0.5751, Train MSE: 0.5754, Train MAE: 0.5362\n",
      "Epoch 1050 - Validation Loss: 1.2492, Validation MSE: 1.2512, Validation MAE: 0.7877\n"
     ]
    },
    {
     "name": "stderr",
     "output_type": "stream",
     "text": [
      "Training Epoch 1052: 100%|██████████| 373/373 [00:01<00:00, 207.08it/s]\n",
      "Training Epoch 1053: 100%|██████████| 373/373 [00:01<00:00, 206.50it/s]\n",
      "Training Epoch 1054: 100%|██████████| 373/373 [00:01<00:00, 202.46it/s]\n",
      "Training Epoch 1055: 100%|██████████| 373/373 [00:01<00:00, 205.38it/s]\n",
      "Training Epoch 1056: 100%|██████████| 373/373 [00:01<00:00, 210.61it/s]\n",
      "Training Epoch 1057: 100%|██████████| 373/373 [00:01<00:00, 198.41it/s]\n",
      "Training Epoch 1058: 100%|██████████| 373/373 [00:01<00:00, 201.74it/s]\n",
      "Training Epoch 1059: 100%|██████████| 373/373 [00:01<00:00, 205.34it/s]\n",
      "Training Epoch 1060: 100%|██████████| 373/373 [00:01<00:00, 199.07it/s]\n",
      "Training Epoch 1061: 100%|██████████| 373/373 [00:01<00:00, 202.67it/s]\n"
     ]
    },
    {
     "name": "stdout",
     "output_type": "stream",
     "text": [
      "Epoch 1060 - Train Loss: 0.5770, Train MSE: 0.5759, Train MAE: 0.5416\n",
      "Epoch 1060 - Validation Loss: 1.2587, Validation MSE: 1.2606, Validation MAE: 0.7911\n"
     ]
    },
    {
     "name": "stderr",
     "output_type": "stream",
     "text": [
      "Training Epoch 1062: 100%|██████████| 373/373 [00:01<00:00, 195.82it/s]\n",
      "Training Epoch 1063: 100%|██████████| 373/373 [00:01<00:00, 204.86it/s]\n",
      "Training Epoch 1064: 100%|██████████| 373/373 [00:01<00:00, 205.91it/s]\n",
      "Training Epoch 1065: 100%|██████████| 373/373 [00:01<00:00, 207.43it/s]\n",
      "Training Epoch 1066: 100%|██████████| 373/373 [00:01<00:00, 211.01it/s]\n",
      "Training Epoch 1067: 100%|██████████| 373/373 [00:01<00:00, 203.55it/s]\n",
      "Training Epoch 1068: 100%|██████████| 373/373 [00:01<00:00, 203.69it/s]\n",
      "Training Epoch 1069: 100%|██████████| 373/373 [00:01<00:00, 197.85it/s]\n",
      "Training Epoch 1070: 100%|██████████| 373/373 [00:01<00:00, 198.30it/s]\n",
      "Training Epoch 1071: 100%|██████████| 373/373 [00:01<00:00, 203.69it/s]\n"
     ]
    },
    {
     "name": "stdout",
     "output_type": "stream",
     "text": [
      "Epoch 1070 - Train Loss: 0.5700, Train MSE: 0.5690, Train MAE: 0.5348\n",
      "Epoch 1070 - Validation Loss: 1.2368, Validation MSE: 1.2384, Validation MAE: 0.7864\n"
     ]
    },
    {
     "name": "stderr",
     "output_type": "stream",
     "text": [
      "Training Epoch 1072: 100%|██████████| 373/373 [00:01<00:00, 209.65it/s]\n",
      "Training Epoch 1073: 100%|██████████| 373/373 [00:01<00:00, 201.91it/s]\n",
      "Training Epoch 1074: 100%|██████████| 373/373 [00:01<00:00, 198.38it/s]\n",
      "Training Epoch 1075: 100%|██████████| 373/373 [00:01<00:00, 210.17it/s]\n",
      "Training Epoch 1076: 100%|██████████| 373/373 [00:01<00:00, 202.13it/s]\n",
      "Training Epoch 1077: 100%|██████████| 373/373 [00:01<00:00, 200.71it/s]\n",
      "Training Epoch 1078: 100%|██████████| 373/373 [00:01<00:00, 198.20it/s]\n",
      "Training Epoch 1079: 100%|██████████| 373/373 [00:01<00:00, 199.17it/s]\n",
      "Training Epoch 1080: 100%|██████████| 373/373 [00:01<00:00, 205.69it/s]\n",
      "Training Epoch 1081: 100%|██████████| 373/373 [00:01<00:00, 203.35it/s]\n"
     ]
    },
    {
     "name": "stdout",
     "output_type": "stream",
     "text": [
      "Epoch 1080 - Train Loss: 0.5679, Train MSE: 0.5672, Train MAE: 0.5341\n",
      "Epoch 1080 - Validation Loss: 1.2692, Validation MSE: 1.2713, Validation MAE: 0.7958\n"
     ]
    },
    {
     "name": "stderr",
     "output_type": "stream",
     "text": [
      "Training Epoch 1082: 100%|██████████| 373/373 [00:01<00:00, 204.26it/s]\n",
      "Training Epoch 1083: 100%|██████████| 373/373 [00:01<00:00, 201.57it/s]\n",
      "Training Epoch 1084: 100%|██████████| 373/373 [00:01<00:00, 202.52it/s]\n",
      "Training Epoch 1085: 100%|██████████| 373/373 [00:01<00:00, 208.57it/s]\n",
      "Training Epoch 1086: 100%|██████████| 373/373 [00:01<00:00, 206.95it/s]\n",
      "Training Epoch 1087: 100%|██████████| 373/373 [00:01<00:00, 203.15it/s]\n",
      "Training Epoch 1088: 100%|██████████| 373/373 [00:01<00:00, 205.62it/s]\n",
      "Training Epoch 1089: 100%|██████████| 373/373 [00:01<00:00, 205.14it/s]\n",
      "Training Epoch 1090: 100%|██████████| 373/373 [00:01<00:00, 204.59it/s]\n",
      "Training Epoch 1091: 100%|██████████| 373/373 [00:01<00:00, 204.90it/s]\n"
     ]
    },
    {
     "name": "stdout",
     "output_type": "stream",
     "text": [
      "Epoch 1090 - Train Loss: 0.5660, Train MSE: 0.5661, Train MAE: 0.5314\n",
      "Epoch 1090 - Validation Loss: 1.2934, Validation MSE: 1.2960, Validation MAE: 0.8021\n"
     ]
    },
    {
     "name": "stderr",
     "output_type": "stream",
     "text": [
      "Training Epoch 1092: 100%|██████████| 373/373 [00:01<00:00, 209.76it/s]\n",
      "Training Epoch 1093: 100%|██████████| 373/373 [00:01<00:00, 207.03it/s]\n",
      "Training Epoch 1094: 100%|██████████| 373/373 [00:01<00:00, 199.52it/s]\n",
      "Training Epoch 1095: 100%|██████████| 373/373 [00:01<00:00, 200.59it/s]\n",
      "Training Epoch 1096: 100%|██████████| 373/373 [00:01<00:00, 205.41it/s]\n",
      "Training Epoch 1097: 100%|██████████| 373/373 [00:01<00:00, 202.76it/s]\n",
      "Training Epoch 1098: 100%|██████████| 373/373 [00:01<00:00, 194.86it/s]\n",
      "Training Epoch 1099: 100%|██████████| 373/373 [00:01<00:00, 203.93it/s]\n",
      "Training Epoch 1100: 100%|██████████| 373/373 [00:01<00:00, 194.57it/s]\n",
      "Training Epoch 1101: 100%|██████████| 373/373 [00:01<00:00, 208.84it/s]\n"
     ]
    },
    {
     "name": "stdout",
     "output_type": "stream",
     "text": [
      "Epoch 1100 - Train Loss: 0.5656, Train MSE: 0.5660, Train MAE: 0.5335\n",
      "Epoch 1100 - Validation Loss: 1.2647, Validation MSE: 1.2666, Validation MAE: 0.7969\n"
     ]
    },
    {
     "name": "stderr",
     "output_type": "stream",
     "text": [
      "Training Epoch 1102: 100%|██████████| 373/373 [00:01<00:00, 210.68it/s]\n",
      "Training Epoch 1103: 100%|██████████| 373/373 [00:01<00:00, 190.77it/s]\n",
      "Training Epoch 1104: 100%|██████████| 373/373 [00:01<00:00, 199.09it/s]\n",
      "Training Epoch 1105: 100%|██████████| 373/373 [00:01<00:00, 194.09it/s]\n",
      "Training Epoch 1106: 100%|██████████| 373/373 [00:01<00:00, 194.62it/s]\n",
      "Training Epoch 1107: 100%|██████████| 373/373 [00:01<00:00, 194.58it/s]\n",
      "Training Epoch 1108: 100%|██████████| 373/373 [00:01<00:00, 195.10it/s]\n",
      "Training Epoch 1109: 100%|██████████| 373/373 [00:01<00:00, 194.49it/s]\n",
      "Training Epoch 1110: 100%|██████████| 373/373 [00:01<00:00, 200.62it/s]\n",
      "Training Epoch 1111: 100%|██████████| 373/373 [00:01<00:00, 196.20it/s]\n"
     ]
    },
    {
     "name": "stdout",
     "output_type": "stream",
     "text": [
      "Epoch 1110 - Train Loss: 0.5698, Train MSE: 0.5710, Train MAE: 0.5329\n",
      "Epoch 1110 - Validation Loss: 1.2751, Validation MSE: 1.2768, Validation MAE: 0.7954\n"
     ]
    },
    {
     "name": "stderr",
     "output_type": "stream",
     "text": [
      "Training Epoch 1112: 100%|██████████| 373/373 [00:01<00:00, 199.17it/s]\n",
      "Training Epoch 1113: 100%|██████████| 373/373 [00:01<00:00, 198.67it/s]\n",
      "Training Epoch 1114: 100%|██████████| 373/373 [00:01<00:00, 193.92it/s]\n",
      "Training Epoch 1115: 100%|██████████| 373/373 [00:01<00:00, 193.84it/s]\n",
      "Training Epoch 1116: 100%|██████████| 373/373 [00:01<00:00, 193.94it/s]\n",
      "Training Epoch 1117: 100%|██████████| 373/373 [00:01<00:00, 201.78it/s]\n",
      "Training Epoch 1118: 100%|██████████| 373/373 [00:01<00:00, 195.14it/s]\n",
      "Training Epoch 1119: 100%|██████████| 373/373 [00:01<00:00, 191.15it/s]\n",
      "Training Epoch 1120: 100%|██████████| 373/373 [00:01<00:00, 191.46it/s]\n",
      "Training Epoch 1121: 100%|██████████| 373/373 [00:01<00:00, 192.12it/s]\n"
     ]
    },
    {
     "name": "stdout",
     "output_type": "stream",
     "text": [
      "Epoch 1120 - Train Loss: 0.5650, Train MSE: 0.5637, Train MAE: 0.5302\n",
      "Epoch 1120 - Validation Loss: 1.2663, Validation MSE: 1.2680, Validation MAE: 0.7973\n"
     ]
    },
    {
     "name": "stderr",
     "output_type": "stream",
     "text": [
      "Training Epoch 1122: 100%|██████████| 373/373 [00:01<00:00, 195.29it/s]\n",
      "Training Epoch 1123: 100%|██████████| 373/373 [00:01<00:00, 208.09it/s]\n",
      "Training Epoch 1124: 100%|██████████| 373/373 [00:01<00:00, 203.43it/s]\n",
      "Training Epoch 1125: 100%|██████████| 373/373 [00:01<00:00, 204.87it/s]\n",
      "Training Epoch 1126: 100%|██████████| 373/373 [00:01<00:00, 206.70it/s]\n",
      "Training Epoch 1127: 100%|██████████| 373/373 [00:01<00:00, 190.52it/s]\n",
      "Training Epoch 1128: 100%|██████████| 373/373 [00:01<00:00, 207.70it/s]\n",
      "Training Epoch 1129: 100%|██████████| 373/373 [00:01<00:00, 195.00it/s]\n",
      "Training Epoch 1130: 100%|██████████| 373/373 [00:01<00:00, 201.79it/s]\n",
      "Training Epoch 1131: 100%|██████████| 373/373 [00:01<00:00, 201.04it/s]\n"
     ]
    },
    {
     "name": "stdout",
     "output_type": "stream",
     "text": [
      "Epoch 1130 - Train Loss: 0.5666, Train MSE: 0.5676, Train MAE: 0.5309\n",
      "Epoch 1130 - Validation Loss: 1.2557, Validation MSE: 1.2575, Validation MAE: 0.7990\n"
     ]
    },
    {
     "name": "stderr",
     "output_type": "stream",
     "text": [
      "Training Epoch 1132: 100%|██████████| 373/373 [00:01<00:00, 201.42it/s]\n",
      "Training Epoch 1133: 100%|██████████| 373/373 [00:01<00:00, 198.33it/s]\n",
      "Training Epoch 1134: 100%|██████████| 373/373 [00:01<00:00, 201.28it/s]\n",
      "Training Epoch 1135: 100%|██████████| 373/373 [00:01<00:00, 206.42it/s]\n",
      "Training Epoch 1136: 100%|██████████| 373/373 [00:01<00:00, 197.56it/s]\n",
      "Training Epoch 1137: 100%|██████████| 373/373 [00:01<00:00, 194.85it/s]\n",
      "Training Epoch 1138: 100%|██████████| 373/373 [00:01<00:00, 191.65it/s]\n",
      "Training Epoch 1139: 100%|██████████| 373/373 [00:01<00:00, 195.41it/s]\n",
      "Training Epoch 1140: 100%|██████████| 373/373 [00:01<00:00, 198.67it/s]\n",
      "Training Epoch 1141: 100%|██████████| 373/373 [00:01<00:00, 199.83it/s]\n"
     ]
    },
    {
     "name": "stdout",
     "output_type": "stream",
     "text": [
      "Epoch 1140 - Train Loss: 0.5657, Train MSE: 0.5668, Train MAE: 0.5325\n",
      "Epoch 1140 - Validation Loss: 1.2806, Validation MSE: 1.2825, Validation MAE: 0.7964\n"
     ]
    },
    {
     "name": "stderr",
     "output_type": "stream",
     "text": [
      "Training Epoch 1142: 100%|██████████| 373/373 [00:01<00:00, 197.82it/s]\n",
      "Training Epoch 1143: 100%|██████████| 373/373 [00:01<00:00, 197.76it/s]\n",
      "Training Epoch 1144: 100%|██████████| 373/373 [00:01<00:00, 201.24it/s]\n",
      "Training Epoch 1145: 100%|██████████| 373/373 [00:01<00:00, 194.40it/s]\n",
      "Training Epoch 1146: 100%|██████████| 373/373 [00:01<00:00, 190.23it/s]\n",
      "Training Epoch 1147: 100%|██████████| 373/373 [00:01<00:00, 196.43it/s]\n",
      "Training Epoch 1148: 100%|██████████| 373/373 [00:01<00:00, 195.07it/s]\n",
      "Training Epoch 1149: 100%|██████████| 373/373 [00:01<00:00, 191.09it/s]\n",
      "Training Epoch 1150: 100%|██████████| 373/373 [00:01<00:00, 190.74it/s]\n",
      "Training Epoch 1151: 100%|██████████| 373/373 [00:01<00:00, 194.23it/s]\n"
     ]
    },
    {
     "name": "stdout",
     "output_type": "stream",
     "text": [
      "Epoch 1150 - Train Loss: 0.5638, Train MSE: 0.5636, Train MAE: 0.5300\n",
      "Epoch 1150 - Validation Loss: 1.2688, Validation MSE: 1.2702, Validation MAE: 0.7975\n"
     ]
    },
    {
     "name": "stderr",
     "output_type": "stream",
     "text": [
      "Training Epoch 1152: 100%|██████████| 373/373 [00:01<00:00, 193.32it/s]\n",
      "Training Epoch 1153: 100%|██████████| 373/373 [00:01<00:00, 197.19it/s]\n",
      "Training Epoch 1154: 100%|██████████| 373/373 [00:01<00:00, 199.93it/s]\n",
      "Training Epoch 1155: 100%|██████████| 373/373 [00:01<00:00, 198.95it/s]\n",
      "Training Epoch 1156: 100%|██████████| 373/373 [00:01<00:00, 199.88it/s]\n",
      "Training Epoch 1157: 100%|██████████| 373/373 [00:01<00:00, 205.25it/s]\n",
      "Training Epoch 1158: 100%|██████████| 373/373 [00:01<00:00, 197.02it/s]\n",
      "Training Epoch 1159: 100%|██████████| 373/373 [00:01<00:00, 195.87it/s]\n",
      "Training Epoch 1160: 100%|██████████| 373/373 [00:01<00:00, 199.78it/s]\n",
      "Training Epoch 1161: 100%|██████████| 373/373 [00:01<00:00, 207.54it/s]\n"
     ]
    },
    {
     "name": "stdout",
     "output_type": "stream",
     "text": [
      "Epoch 1160 - Train Loss: 0.5673, Train MSE: 0.5685, Train MAE: 0.5305\n",
      "Epoch 1160 - Validation Loss: 1.2839, Validation MSE: 1.2867, Validation MAE: 0.8050\n"
     ]
    },
    {
     "name": "stderr",
     "output_type": "stream",
     "text": [
      "Training Epoch 1162: 100%|██████████| 373/373 [00:01<00:00, 192.16it/s]\n",
      "Training Epoch 1163: 100%|██████████| 373/373 [00:01<00:00, 187.89it/s]\n",
      "Training Epoch 1164: 100%|██████████| 373/373 [00:02<00:00, 183.79it/s]\n",
      "Training Epoch 1165: 100%|██████████| 373/373 [00:01<00:00, 193.92it/s]\n",
      "Training Epoch 1166: 100%|██████████| 373/373 [00:02<00:00, 185.71it/s]\n",
      "Training Epoch 1167: 100%|██████████| 373/373 [00:01<00:00, 198.73it/s]\n",
      "Training Epoch 1168: 100%|██████████| 373/373 [00:01<00:00, 187.72it/s]\n",
      "Training Epoch 1169: 100%|██████████| 373/373 [00:01<00:00, 212.40it/s]\n",
      "Training Epoch 1170: 100%|██████████| 373/373 [00:01<00:00, 202.09it/s]\n",
      "Training Epoch 1171: 100%|██████████| 373/373 [00:01<00:00, 199.95it/s]\n"
     ]
    },
    {
     "name": "stdout",
     "output_type": "stream",
     "text": [
      "Epoch 1170 - Train Loss: 0.5616, Train MSE: 0.5622, Train MAE: 0.5298\n",
      "Epoch 1170 - Validation Loss: 1.2670, Validation MSE: 1.2687, Validation MAE: 0.7956\n"
     ]
    },
    {
     "name": "stderr",
     "output_type": "stream",
     "text": [
      "Training Epoch 1172: 100%|██████████| 373/373 [00:01<00:00, 199.99it/s]\n",
      "Training Epoch 1173: 100%|██████████| 373/373 [00:01<00:00, 202.84it/s]\n",
      "Training Epoch 1174: 100%|██████████| 373/373 [00:01<00:00, 212.43it/s]\n",
      "Training Epoch 1175: 100%|██████████| 373/373 [00:01<00:00, 202.88it/s]\n",
      "Training Epoch 1176: 100%|██████████| 373/373 [00:01<00:00, 200.45it/s]\n",
      "Training Epoch 1177: 100%|██████████| 373/373 [00:01<00:00, 193.54it/s]\n",
      "Training Epoch 1178: 100%|██████████| 373/373 [00:01<00:00, 189.54it/s]\n",
      "Training Epoch 1179: 100%|██████████| 373/373 [00:01<00:00, 190.29it/s]\n",
      "Training Epoch 1180: 100%|██████████| 373/373 [00:01<00:00, 198.91it/s]\n",
      "Training Epoch 1181: 100%|██████████| 373/373 [00:01<00:00, 205.31it/s]\n"
     ]
    },
    {
     "name": "stdout",
     "output_type": "stream",
     "text": [
      "Epoch 1180 - Train Loss: 0.5460, Train MSE: 0.5470, Train MAE: 0.5229\n",
      "Epoch 1180 - Validation Loss: 1.2940, Validation MSE: 1.2957, Validation MAE: 0.7976\n"
     ]
    },
    {
     "name": "stderr",
     "output_type": "stream",
     "text": [
      "Training Epoch 1182: 100%|██████████| 373/373 [00:01<00:00, 198.70it/s]\n",
      "Training Epoch 1183: 100%|██████████| 373/373 [00:01<00:00, 201.14it/s]\n",
      "Training Epoch 1184: 100%|██████████| 373/373 [00:01<00:00, 198.52it/s]\n",
      "Training Epoch 1185: 100%|██████████| 373/373 [00:01<00:00, 212.00it/s]\n",
      "Training Epoch 1186: 100%|██████████| 373/373 [00:01<00:00, 209.58it/s]\n",
      "Training Epoch 1187: 100%|██████████| 373/373 [00:01<00:00, 198.73it/s]\n",
      "Training Epoch 1188: 100%|██████████| 373/373 [00:01<00:00, 199.56it/s]\n",
      "Training Epoch 1189: 100%|██████████| 373/373 [00:01<00:00, 204.45it/s]\n",
      "Training Epoch 1190: 100%|██████████| 373/373 [00:01<00:00, 190.02it/s]\n",
      "Training Epoch 1191: 100%|██████████| 373/373 [00:01<00:00, 198.89it/s]\n"
     ]
    },
    {
     "name": "stdout",
     "output_type": "stream",
     "text": [
      "Epoch 1190 - Train Loss: 0.5709, Train MSE: 0.5676, Train MAE: 0.5278\n",
      "Epoch 1190 - Validation Loss: 1.2743, Validation MSE: 1.2765, Validation MAE: 0.7983\n"
     ]
    },
    {
     "name": "stderr",
     "output_type": "stream",
     "text": [
      "Training Epoch 1192: 100%|██████████| 373/373 [00:01<00:00, 210.78it/s]\n",
      "Training Epoch 1193: 100%|██████████| 373/373 [00:01<00:00, 200.32it/s]\n",
      "Training Epoch 1194: 100%|██████████| 373/373 [00:01<00:00, 200.78it/s]\n",
      "Training Epoch 1195: 100%|██████████| 373/373 [00:01<00:00, 188.66it/s]\n",
      "Training Epoch 1196: 100%|██████████| 373/373 [00:01<00:00, 201.77it/s]\n",
      "Training Epoch 1197: 100%|██████████| 373/373 [00:01<00:00, 197.58it/s]\n",
      "Training Epoch 1198: 100%|██████████| 373/373 [00:01<00:00, 194.75it/s]\n",
      "Training Epoch 1199: 100%|██████████| 373/373 [00:01<00:00, 194.31it/s]\n",
      "Training Epoch 1200: 100%|██████████| 373/373 [00:01<00:00, 193.18it/s]\n",
      "Training Epoch 1201: 100%|██████████| 373/373 [00:01<00:00, 190.24it/s]\n"
     ]
    },
    {
     "name": "stdout",
     "output_type": "stream",
     "text": [
      "Epoch 1200 - Train Loss: 0.5548, Train MSE: 0.5558, Train MAE: 0.5229\n",
      "Epoch 1200 - Validation Loss: 1.2745, Validation MSE: 1.2766, Validation MAE: 0.8002\n"
     ]
    },
    {
     "name": "stderr",
     "output_type": "stream",
     "text": [
      "Training Epoch 1202: 100%|██████████| 373/373 [00:01<00:00, 192.07it/s]\n",
      "Training Epoch 1203: 100%|██████████| 373/373 [00:01<00:00, 199.12it/s]\n",
      "Training Epoch 1204: 100%|██████████| 373/373 [00:01<00:00, 208.17it/s]\n",
      "Training Epoch 1205: 100%|██████████| 373/373 [00:01<00:00, 191.74it/s]\n",
      "Training Epoch 1206: 100%|██████████| 373/373 [00:01<00:00, 213.23it/s]\n",
      "Training Epoch 1207: 100%|██████████| 373/373 [00:01<00:00, 210.02it/s]\n",
      "Training Epoch 1208: 100%|██████████| 373/373 [00:01<00:00, 206.29it/s]\n",
      "Training Epoch 1209: 100%|██████████| 373/373 [00:01<00:00, 209.58it/s]\n",
      "Training Epoch 1210: 100%|██████████| 373/373 [00:01<00:00, 209.76it/s]\n",
      "Training Epoch 1211: 100%|██████████| 373/373 [00:01<00:00, 203.39it/s]\n"
     ]
    },
    {
     "name": "stdout",
     "output_type": "stream",
     "text": [
      "Epoch 1210 - Train Loss: 0.5649, Train MSE: 0.5640, Train MAE: 0.5300\n",
      "Epoch 1210 - Validation Loss: 1.2665, Validation MSE: 1.2689, Validation MAE: 0.7994\n"
     ]
    },
    {
     "name": "stderr",
     "output_type": "stream",
     "text": [
      "Training Epoch 1212: 100%|██████████| 373/373 [00:01<00:00, 207.09it/s]\n",
      "Training Epoch 1213: 100%|██████████| 373/373 [00:01<00:00, 205.30it/s]\n",
      "Training Epoch 1214: 100%|██████████| 373/373 [00:01<00:00, 212.95it/s]\n",
      "Training Epoch 1215: 100%|██████████| 373/373 [00:01<00:00, 204.99it/s]\n",
      "Training Epoch 1216: 100%|██████████| 373/373 [00:01<00:00, 200.62it/s]\n",
      "Training Epoch 1217: 100%|██████████| 373/373 [00:01<00:00, 206.98it/s]\n",
      "Training Epoch 1218: 100%|██████████| 373/373 [00:01<00:00, 214.66it/s]\n",
      "Training Epoch 1219: 100%|██████████| 373/373 [00:01<00:00, 207.11it/s]\n",
      "Training Epoch 1220: 100%|██████████| 373/373 [00:01<00:00, 201.33it/s]\n",
      "Training Epoch 1221: 100%|██████████| 373/373 [00:01<00:00, 205.35it/s]\n"
     ]
    },
    {
     "name": "stdout",
     "output_type": "stream",
     "text": [
      "Epoch 1220 - Train Loss: 0.5501, Train MSE: 0.5508, Train MAE: 0.5224\n",
      "Epoch 1220 - Validation Loss: 1.2485, Validation MSE: 1.2503, Validation MAE: 0.7899\n"
     ]
    },
    {
     "name": "stderr",
     "output_type": "stream",
     "text": [
      "Training Epoch 1222: 100%|██████████| 373/373 [00:01<00:00, 202.36it/s]\n",
      "Training Epoch 1223: 100%|██████████| 373/373 [00:01<00:00, 210.55it/s]\n",
      "Training Epoch 1224: 100%|██████████| 373/373 [00:01<00:00, 210.48it/s]\n",
      "Training Epoch 1225: 100%|██████████| 373/373 [00:01<00:00, 208.72it/s]\n",
      "Training Epoch 1226: 100%|██████████| 373/373 [00:01<00:00, 212.52it/s]\n",
      "Training Epoch 1227: 100%|██████████| 373/373 [00:01<00:00, 202.42it/s]\n",
      "Training Epoch 1228: 100%|██████████| 373/373 [00:01<00:00, 207.08it/s]\n",
      "Training Epoch 1229: 100%|██████████| 373/373 [00:01<00:00, 204.03it/s]\n",
      "Training Epoch 1230: 100%|██████████| 373/373 [00:01<00:00, 219.08it/s]\n",
      "Training Epoch 1231: 100%|██████████| 373/373 [00:01<00:00, 205.11it/s]\n"
     ]
    },
    {
     "name": "stdout",
     "output_type": "stream",
     "text": [
      "Epoch 1230 - Train Loss: 0.5561, Train MSE: 0.5567, Train MAE: 0.5263\n",
      "Epoch 1230 - Validation Loss: 1.2845, Validation MSE: 1.2868, Validation MAE: 0.8020\n"
     ]
    },
    {
     "name": "stderr",
     "output_type": "stream",
     "text": [
      "Training Epoch 1232: 100%|██████████| 373/373 [00:01<00:00, 209.20it/s]\n",
      "Training Epoch 1233: 100%|██████████| 373/373 [00:01<00:00, 207.24it/s]\n",
      "Training Epoch 1234: 100%|██████████| 373/373 [00:01<00:00, 209.70it/s]\n",
      "Training Epoch 1235: 100%|██████████| 373/373 [00:01<00:00, 208.83it/s]\n",
      "Training Epoch 1236: 100%|██████████| 373/373 [00:01<00:00, 212.16it/s]\n",
      "Training Epoch 1237: 100%|██████████| 373/373 [00:01<00:00, 203.22it/s]\n",
      "Training Epoch 1238: 100%|██████████| 373/373 [00:01<00:00, 206.04it/s]\n",
      "Training Epoch 1239: 100%|██████████| 373/373 [00:01<00:00, 208.97it/s]\n",
      "Training Epoch 1240: 100%|██████████| 373/373 [00:01<00:00, 211.19it/s]\n",
      "Training Epoch 1241: 100%|██████████| 373/373 [00:01<00:00, 200.39it/s]\n"
     ]
    },
    {
     "name": "stdout",
     "output_type": "stream",
     "text": [
      "Epoch 1240 - Train Loss: 0.5496, Train MSE: 0.5505, Train MAE: 0.5212\n",
      "Epoch 1240 - Validation Loss: 1.2723, Validation MSE: 1.2745, Validation MAE: 0.8001\n"
     ]
    },
    {
     "name": "stderr",
     "output_type": "stream",
     "text": [
      "Training Epoch 1242: 100%|██████████| 373/373 [00:01<00:00, 204.36it/s]\n",
      "Training Epoch 1243: 100%|██████████| 373/373 [00:01<00:00, 206.71it/s]\n",
      "Training Epoch 1244: 100%|██████████| 373/373 [00:01<00:00, 201.41it/s]\n",
      "Training Epoch 1245: 100%|██████████| 373/373 [00:01<00:00, 197.26it/s]\n",
      "Training Epoch 1246: 100%|██████████| 373/373 [00:01<00:00, 199.54it/s]\n",
      "Training Epoch 1247: 100%|██████████| 373/373 [00:01<00:00, 201.12it/s]\n",
      "Training Epoch 1248: 100%|██████████| 373/373 [00:01<00:00, 209.08it/s]\n",
      "Training Epoch 1249: 100%|██████████| 373/373 [00:01<00:00, 193.52it/s]\n",
      "Training Epoch 1250: 100%|██████████| 373/373 [00:01<00:00, 209.81it/s]\n",
      "Training Epoch 1251: 100%|██████████| 373/373 [00:01<00:00, 198.82it/s]\n"
     ]
    },
    {
     "name": "stdout",
     "output_type": "stream",
     "text": [
      "Epoch 1250 - Train Loss: 0.5543, Train MSE: 0.5545, Train MAE: 0.5244\n",
      "Epoch 1250 - Validation Loss: 1.2676, Validation MSE: 1.2692, Validation MAE: 0.7945\n"
     ]
    },
    {
     "name": "stderr",
     "output_type": "stream",
     "text": [
      "Training Epoch 1252: 100%|██████████| 373/373 [00:01<00:00, 205.56it/s]\n",
      "Training Epoch 1253: 100%|██████████| 373/373 [00:01<00:00, 197.14it/s]\n",
      "Training Epoch 1254: 100%|██████████| 373/373 [00:01<00:00, 193.95it/s]\n",
      "Training Epoch 1255: 100%|██████████| 373/373 [00:02<00:00, 182.53it/s]\n",
      "Training Epoch 1256: 100%|██████████| 373/373 [00:02<00:00, 151.23it/s]\n",
      "Training Epoch 1257: 100%|██████████| 373/373 [00:02<00:00, 159.44it/s]\n",
      "Training Epoch 1258: 100%|██████████| 373/373 [00:01<00:00, 200.96it/s]\n",
      "Training Epoch 1259: 100%|██████████| 373/373 [00:01<00:00, 205.13it/s]\n",
      "Training Epoch 1260: 100%|██████████| 373/373 [00:01<00:00, 216.69it/s]\n",
      "Training Epoch 1261: 100%|██████████| 373/373 [00:01<00:00, 218.55it/s]\n"
     ]
    },
    {
     "name": "stdout",
     "output_type": "stream",
     "text": [
      "Epoch 1260 - Train Loss: 0.5590, Train MSE: 0.5600, Train MAE: 0.5257\n",
      "Epoch 1260 - Validation Loss: 1.2992, Validation MSE: 1.3014, Validation MAE: 0.8101\n"
     ]
    },
    {
     "name": "stderr",
     "output_type": "stream",
     "text": [
      "Training Epoch 1262: 100%|██████████| 373/373 [00:01<00:00, 206.80it/s]\n",
      "Training Epoch 1263: 100%|██████████| 373/373 [00:01<00:00, 206.77it/s]\n",
      "Training Epoch 1264: 100%|██████████| 373/373 [00:01<00:00, 210.02it/s]\n",
      "Training Epoch 1265: 100%|██████████| 373/373 [00:01<00:00, 220.99it/s]\n",
      "Training Epoch 1266: 100%|██████████| 373/373 [00:01<00:00, 217.60it/s]\n",
      "Training Epoch 1267: 100%|██████████| 373/373 [00:01<00:00, 208.58it/s]\n",
      "Training Epoch 1268: 100%|██████████| 373/373 [00:01<00:00, 206.72it/s]\n",
      "Training Epoch 1269: 100%|██████████| 373/373 [00:01<00:00, 197.20it/s]\n",
      "Training Epoch 1270: 100%|██████████| 373/373 [00:01<00:00, 212.09it/s]\n",
      "Training Epoch 1271: 100%|██████████| 373/373 [00:01<00:00, 216.73it/s]\n"
     ]
    },
    {
     "name": "stdout",
     "output_type": "stream",
     "text": [
      "Epoch 1270 - Train Loss: 0.5518, Train MSE: 0.5512, Train MAE: 0.5242\n",
      "Epoch 1270 - Validation Loss: 1.2878, Validation MSE: 1.2896, Validation MAE: 0.8026\n"
     ]
    },
    {
     "name": "stderr",
     "output_type": "stream",
     "text": [
      "Training Epoch 1272: 100%|██████████| 373/373 [00:01<00:00, 213.11it/s]\n",
      "Training Epoch 1273: 100%|██████████| 373/373 [00:01<00:00, 197.58it/s]\n",
      "Training Epoch 1274: 100%|██████████| 373/373 [00:01<00:00, 207.21it/s]\n",
      "Training Epoch 1275: 100%|██████████| 373/373 [00:01<00:00, 204.84it/s]\n",
      "Training Epoch 1276: 100%|██████████| 373/373 [00:01<00:00, 207.77it/s]\n",
      "Training Epoch 1277: 100%|██████████| 373/373 [00:01<00:00, 215.38it/s]\n",
      "Training Epoch 1278: 100%|██████████| 373/373 [00:01<00:00, 214.06it/s]\n",
      "Training Epoch 1279: 100%|██████████| 373/373 [00:01<00:00, 211.23it/s]\n",
      "Training Epoch 1280: 100%|██████████| 373/373 [00:01<00:00, 214.82it/s]\n",
      "Training Epoch 1281: 100%|██████████| 373/373 [00:01<00:00, 207.51it/s]\n"
     ]
    },
    {
     "name": "stdout",
     "output_type": "stream",
     "text": [
      "Epoch 1280 - Train Loss: 0.5538, Train MSE: 0.5526, Train MAE: 0.5229\n",
      "Epoch 1280 - Validation Loss: 1.2793, Validation MSE: 1.2806, Validation MAE: 0.7949\n"
     ]
    },
    {
     "name": "stderr",
     "output_type": "stream",
     "text": [
      "Training Epoch 1282: 100%|██████████| 373/373 [00:01<00:00, 214.43it/s]\n",
      "Training Epoch 1283: 100%|██████████| 373/373 [00:01<00:00, 214.19it/s]\n",
      "Training Epoch 1284: 100%|██████████| 373/373 [00:01<00:00, 217.44it/s]\n",
      "Training Epoch 1285: 100%|██████████| 373/373 [00:01<00:00, 219.83it/s]\n",
      "Training Epoch 1286: 100%|██████████| 373/373 [00:01<00:00, 213.91it/s]\n",
      "Training Epoch 1287: 100%|██████████| 373/373 [00:01<00:00, 214.65it/s]\n",
      "Training Epoch 1288: 100%|██████████| 373/373 [00:01<00:00, 218.93it/s]\n",
      "Training Epoch 1289: 100%|██████████| 373/373 [00:01<00:00, 209.29it/s]\n",
      "Training Epoch 1290: 100%|██████████| 373/373 [00:01<00:00, 220.25it/s]\n",
      "Training Epoch 1291: 100%|██████████| 373/373 [00:01<00:00, 218.22it/s]\n"
     ]
    },
    {
     "name": "stdout",
     "output_type": "stream",
     "text": [
      "Epoch 1290 - Train Loss: 0.5511, Train MSE: 0.5510, Train MAE: 0.5223\n",
      "Epoch 1290 - Validation Loss: 1.2560, Validation MSE: 1.2578, Validation MAE: 0.7931\n"
     ]
    },
    {
     "name": "stderr",
     "output_type": "stream",
     "text": [
      "Training Epoch 1292: 100%|██████████| 373/373 [00:01<00:00, 203.39it/s]\n",
      "Training Epoch 1293: 100%|██████████| 373/373 [00:01<00:00, 213.02it/s]\n",
      "Training Epoch 1294: 100%|██████████| 373/373 [00:01<00:00, 208.72it/s]\n",
      "Training Epoch 1295: 100%|██████████| 373/373 [00:01<00:00, 207.55it/s]\n",
      "Training Epoch 1296: 100%|██████████| 373/373 [00:01<00:00, 208.67it/s]\n",
      "Training Epoch 1297: 100%|██████████| 373/373 [00:01<00:00, 207.10it/s]\n",
      "Training Epoch 1298: 100%|██████████| 373/373 [00:01<00:00, 209.26it/s]\n",
      "Training Epoch 1299: 100%|██████████| 373/373 [00:01<00:00, 201.53it/s]\n",
      "Training Epoch 1300: 100%|██████████| 373/373 [00:01<00:00, 212.71it/s]\n",
      "Training Epoch 1301: 100%|██████████| 373/373 [00:01<00:00, 193.99it/s]\n"
     ]
    },
    {
     "name": "stdout",
     "output_type": "stream",
     "text": [
      "Epoch 1300 - Train Loss: 0.5507, Train MSE: 0.5519, Train MAE: 0.5209\n",
      "Epoch 1300 - Validation Loss: 1.2651, Validation MSE: 1.2671, Validation MAE: 0.7991\n"
     ]
    },
    {
     "name": "stderr",
     "output_type": "stream",
     "text": [
      "Training Epoch 1302: 100%|██████████| 373/373 [00:01<00:00, 210.13it/s]\n",
      "Training Epoch 1303: 100%|██████████| 373/373 [00:01<00:00, 195.44it/s]\n",
      "Training Epoch 1304: 100%|██████████| 373/373 [00:01<00:00, 210.48it/s]\n",
      "Training Epoch 1305: 100%|██████████| 373/373 [00:01<00:00, 216.66it/s]\n",
      "Training Epoch 1306: 100%|██████████| 373/373 [00:01<00:00, 214.03it/s]\n",
      "Training Epoch 1307: 100%|██████████| 373/373 [00:01<00:00, 216.95it/s]\n",
      "Training Epoch 1308: 100%|██████████| 373/373 [00:01<00:00, 214.53it/s]\n",
      "Training Epoch 1309: 100%|██████████| 373/373 [00:01<00:00, 217.43it/s]\n",
      "Training Epoch 1310: 100%|██████████| 373/373 [00:01<00:00, 218.87it/s]\n",
      "Training Epoch 1311: 100%|██████████| 373/373 [00:01<00:00, 206.04it/s]\n"
     ]
    },
    {
     "name": "stdout",
     "output_type": "stream",
     "text": [
      "Epoch 1310 - Train Loss: 0.5502, Train MSE: 0.5514, Train MAE: 0.5231\n",
      "Epoch 1310 - Validation Loss: 1.2660, Validation MSE: 1.2681, Validation MAE: 0.7926\n"
     ]
    },
    {
     "name": "stderr",
     "output_type": "stream",
     "text": [
      "Training Epoch 1312: 100%|██████████| 373/373 [00:01<00:00, 210.10it/s]\n",
      "Training Epoch 1313: 100%|██████████| 373/373 [00:01<00:00, 202.70it/s]\n",
      "Training Epoch 1314: 100%|██████████| 373/373 [00:01<00:00, 214.39it/s]\n",
      "Training Epoch 1315: 100%|██████████| 373/373 [00:01<00:00, 211.22it/s]\n",
      "Training Epoch 1316: 100%|██████████| 373/373 [00:01<00:00, 206.68it/s]\n",
      "Training Epoch 1317: 100%|██████████| 373/373 [00:01<00:00, 213.16it/s]\n",
      "Training Epoch 1318: 100%|██████████| 373/373 [00:01<00:00, 207.49it/s]\n",
      "Training Epoch 1319: 100%|██████████| 373/373 [00:01<00:00, 215.80it/s]\n",
      "Training Epoch 1320: 100%|██████████| 373/373 [00:01<00:00, 217.81it/s]\n",
      "Training Epoch 1321: 100%|██████████| 373/373 [00:01<00:00, 205.10it/s]\n"
     ]
    },
    {
     "name": "stdout",
     "output_type": "stream",
     "text": [
      "Epoch 1320 - Train Loss: 0.5497, Train MSE: 0.5508, Train MAE: 0.5206\n",
      "Epoch 1320 - Validation Loss: 1.2566, Validation MSE: 1.2582, Validation MAE: 0.7945\n"
     ]
    },
    {
     "name": "stderr",
     "output_type": "stream",
     "text": [
      "Training Epoch 1322: 100%|██████████| 373/373 [00:01<00:00, 220.56it/s]\n",
      "Training Epoch 1323: 100%|██████████| 373/373 [00:01<00:00, 216.84it/s]\n",
      "Training Epoch 1324: 100%|██████████| 373/373 [00:01<00:00, 211.40it/s]\n",
      "Training Epoch 1325: 100%|██████████| 373/373 [00:01<00:00, 218.81it/s]\n",
      "Training Epoch 1326: 100%|██████████| 373/373 [00:01<00:00, 201.53it/s]\n",
      "Training Epoch 1327: 100%|██████████| 373/373 [00:01<00:00, 193.35it/s]\n",
      "Training Epoch 1328: 100%|██████████| 373/373 [00:01<00:00, 202.47it/s]\n",
      "Training Epoch 1329: 100%|██████████| 373/373 [00:01<00:00, 201.20it/s]\n",
      "Training Epoch 1330: 100%|██████████| 373/373 [00:01<00:00, 205.02it/s]\n",
      "Training Epoch 1331: 100%|██████████| 373/373 [00:01<00:00, 202.46it/s]\n"
     ]
    },
    {
     "name": "stdout",
     "output_type": "stream",
     "text": [
      "Epoch 1330 - Train Loss: 0.5463, Train MSE: 0.5474, Train MAE: 0.5210\n",
      "Epoch 1330 - Validation Loss: 1.2547, Validation MSE: 1.2564, Validation MAE: 0.7903\n"
     ]
    },
    {
     "name": "stderr",
     "output_type": "stream",
     "text": [
      "Training Epoch 1332: 100%|██████████| 373/373 [00:01<00:00, 218.25it/s]\n",
      "Training Epoch 1333: 100%|██████████| 373/373 [00:01<00:00, 220.82it/s]\n",
      "Training Epoch 1334: 100%|██████████| 373/373 [00:01<00:00, 203.48it/s]\n",
      "Training Epoch 1335: 100%|██████████| 373/373 [00:01<00:00, 211.77it/s]\n",
      "Training Epoch 1336: 100%|██████████| 373/373 [00:01<00:00, 218.56it/s]\n",
      "Training Epoch 1337: 100%|██████████| 373/373 [00:01<00:00, 208.40it/s]\n",
      "Training Epoch 1338: 100%|██████████| 373/373 [00:01<00:00, 211.68it/s]\n",
      "Training Epoch 1339: 100%|██████████| 373/373 [00:01<00:00, 219.16it/s]\n",
      "Training Epoch 1340: 100%|██████████| 373/373 [00:01<00:00, 211.40it/s]\n",
      "Training Epoch 1341: 100%|██████████| 373/373 [00:01<00:00, 198.55it/s]\n"
     ]
    },
    {
     "name": "stdout",
     "output_type": "stream",
     "text": [
      "Epoch 1340 - Train Loss: 0.5550, Train MSE: 0.5557, Train MAE: 0.5263\n",
      "Epoch 1340 - Validation Loss: 1.2829, Validation MSE: 1.2858, Validation MAE: 0.7976\n"
     ]
    },
    {
     "name": "stderr",
     "output_type": "stream",
     "text": [
      "Training Epoch 1342: 100%|██████████| 373/373 [00:01<00:00, 198.19it/s]\n",
      "Training Epoch 1343: 100%|██████████| 373/373 [00:01<00:00, 199.98it/s]\n",
      "Training Epoch 1344: 100%|██████████| 373/373 [00:01<00:00, 207.82it/s]\n",
      "Training Epoch 1345: 100%|██████████| 373/373 [00:01<00:00, 202.48it/s]\n",
      "Training Epoch 1346: 100%|██████████| 373/373 [00:01<00:00, 204.67it/s]\n",
      "Training Epoch 1347: 100%|██████████| 373/373 [00:01<00:00, 197.14it/s]\n",
      "Training Epoch 1348: 100%|██████████| 373/373 [00:01<00:00, 197.38it/s]\n",
      "Training Epoch 1349: 100%|██████████| 373/373 [00:01<00:00, 208.36it/s]\n",
      "Training Epoch 1350: 100%|██████████| 373/373 [00:01<00:00, 204.02it/s]\n",
      "Training Epoch 1351: 100%|██████████| 373/373 [00:01<00:00, 216.89it/s]\n"
     ]
    },
    {
     "name": "stdout",
     "output_type": "stream",
     "text": [
      "Epoch 1350 - Train Loss: 0.5542, Train MSE: 0.5552, Train MAE: 0.5209\n",
      "Epoch 1350 - Validation Loss: 1.2729, Validation MSE: 1.2753, Validation MAE: 0.7983\n"
     ]
    },
    {
     "name": "stderr",
     "output_type": "stream",
     "text": [
      "Training Epoch 1352: 100%|██████████| 373/373 [00:01<00:00, 215.34it/s]\n",
      "Training Epoch 1353: 100%|██████████| 373/373 [00:01<00:00, 203.80it/s]\n",
      "Training Epoch 1354: 100%|██████████| 373/373 [00:01<00:00, 220.35it/s]\n",
      "Training Epoch 1355: 100%|██████████| 373/373 [00:01<00:00, 202.58it/s]\n",
      "Training Epoch 1356: 100%|██████████| 373/373 [00:01<00:00, 205.99it/s]\n",
      "Training Epoch 1357: 100%|██████████| 373/373 [00:01<00:00, 202.52it/s]\n",
      "Training Epoch 1358: 100%|██████████| 373/373 [00:01<00:00, 203.19it/s]\n",
      "Training Epoch 1359: 100%|██████████| 373/373 [00:01<00:00, 195.83it/s]\n",
      "Training Epoch 1360: 100%|██████████| 373/373 [00:01<00:00, 205.49it/s]\n",
      "Training Epoch 1361: 100%|██████████| 373/373 [00:01<00:00, 214.75it/s]\n"
     ]
    },
    {
     "name": "stdout",
     "output_type": "stream",
     "text": [
      "Epoch 1360 - Train Loss: 0.5486, Train MSE: 0.5480, Train MAE: 0.5214\n",
      "Epoch 1360 - Validation Loss: 1.2749, Validation MSE: 1.2771, Validation MAE: 0.7987\n"
     ]
    },
    {
     "name": "stderr",
     "output_type": "stream",
     "text": [
      "Training Epoch 1362: 100%|██████████| 373/373 [00:01<00:00, 214.99it/s]\n",
      "Training Epoch 1363: 100%|██████████| 373/373 [00:01<00:00, 212.77it/s]\n",
      "Training Epoch 1364: 100%|██████████| 373/373 [00:01<00:00, 220.59it/s]\n",
      "Training Epoch 1365: 100%|██████████| 373/373 [00:01<00:00, 220.75it/s]\n",
      "Training Epoch 1366: 100%|██████████| 373/373 [00:01<00:00, 209.84it/s]\n",
      "Training Epoch 1367: 100%|██████████| 373/373 [00:01<00:00, 218.02it/s]\n",
      "Training Epoch 1368: 100%|██████████| 373/373 [00:01<00:00, 203.53it/s]\n",
      "Training Epoch 1369: 100%|██████████| 373/373 [00:01<00:00, 207.12it/s]\n",
      "Training Epoch 1370: 100%|██████████| 373/373 [00:01<00:00, 211.20it/s]\n",
      "Training Epoch 1371: 100%|██████████| 373/373 [00:01<00:00, 201.78it/s]\n"
     ]
    },
    {
     "name": "stdout",
     "output_type": "stream",
     "text": [
      "Epoch 1370 - Train Loss: 0.5524, Train MSE: 0.5530, Train MAE: 0.5209\n",
      "Epoch 1370 - Validation Loss: 1.2568, Validation MSE: 1.2589, Validation MAE: 0.7887\n"
     ]
    },
    {
     "name": "stderr",
     "output_type": "stream",
     "text": [
      "Training Epoch 1372: 100%|██████████| 373/373 [00:01<00:00, 197.87it/s]\n",
      "Training Epoch 1373: 100%|██████████| 373/373 [00:01<00:00, 204.93it/s]\n",
      "Training Epoch 1374: 100%|██████████| 373/373 [00:01<00:00, 215.14it/s]\n",
      "Training Epoch 1375: 100%|██████████| 373/373 [00:01<00:00, 202.42it/s]\n",
      "Training Epoch 1376: 100%|██████████| 373/373 [00:01<00:00, 198.53it/s]\n",
      "Training Epoch 1377: 100%|██████████| 373/373 [00:01<00:00, 203.82it/s]\n",
      "Training Epoch 1378: 100%|██████████| 373/373 [00:01<00:00, 207.53it/s]\n",
      "Training Epoch 1379: 100%|██████████| 373/373 [00:01<00:00, 218.88it/s]\n",
      "Training Epoch 1380: 100%|██████████| 373/373 [00:01<00:00, 210.10it/s]\n",
      "Training Epoch 1381: 100%|██████████| 373/373 [00:01<00:00, 202.96it/s]\n"
     ]
    },
    {
     "name": "stdout",
     "output_type": "stream",
     "text": [
      "Epoch 1380 - Train Loss: 0.5541, Train MSE: 0.5541, Train MAE: 0.5215\n",
      "Epoch 1380 - Validation Loss: 1.2692, Validation MSE: 1.2714, Validation MAE: 0.7943\n"
     ]
    },
    {
     "name": "stderr",
     "output_type": "stream",
     "text": [
      "Training Epoch 1382: 100%|██████████| 373/373 [00:01<00:00, 208.77it/s]\n",
      "Training Epoch 1383: 100%|██████████| 373/373 [00:01<00:00, 201.63it/s]\n",
      "Training Epoch 1384: 100%|██████████| 373/373 [00:01<00:00, 202.42it/s]\n",
      "Training Epoch 1385: 100%|██████████| 373/373 [00:01<00:00, 196.53it/s]\n",
      "Training Epoch 1386: 100%|██████████| 373/373 [00:01<00:00, 204.49it/s]\n",
      "Training Epoch 1387: 100%|██████████| 373/373 [00:01<00:00, 198.45it/s]\n",
      "Training Epoch 1388: 100%|██████████| 373/373 [00:01<00:00, 202.77it/s]\n",
      "Training Epoch 1389: 100%|██████████| 373/373 [00:01<00:00, 207.33it/s]\n",
      "Training Epoch 1390: 100%|██████████| 373/373 [00:01<00:00, 199.28it/s]\n",
      "Training Epoch 1391: 100%|██████████| 373/373 [00:01<00:00, 212.31it/s]\n"
     ]
    },
    {
     "name": "stdout",
     "output_type": "stream",
     "text": [
      "Epoch 1390 - Train Loss: 0.5483, Train MSE: 0.5489, Train MAE: 0.5185\n",
      "Epoch 1390 - Validation Loss: 1.2640, Validation MSE: 1.2661, Validation MAE: 0.7862\n"
     ]
    },
    {
     "name": "stderr",
     "output_type": "stream",
     "text": [
      "Training Epoch 1392: 100%|██████████| 373/373 [00:01<00:00, 207.52it/s]\n",
      "Training Epoch 1393: 100%|██████████| 373/373 [00:01<00:00, 212.89it/s]\n",
      "Training Epoch 1394: 100%|██████████| 373/373 [00:01<00:00, 212.74it/s]\n",
      "Training Epoch 1395: 100%|██████████| 373/373 [00:01<00:00, 207.88it/s]\n",
      "Training Epoch 1396: 100%|██████████| 373/373 [00:01<00:00, 208.93it/s]\n",
      "Training Epoch 1397: 100%|██████████| 373/373 [00:01<00:00, 220.99it/s]\n",
      "Training Epoch 1398: 100%|██████████| 373/373 [00:01<00:00, 201.63it/s]\n",
      "Training Epoch 1399: 100%|██████████| 373/373 [00:01<00:00, 211.86it/s]\n",
      "Training Epoch 1400: 100%|██████████| 373/373 [00:01<00:00, 205.14it/s]\n",
      "Training Epoch 1401: 100%|██████████| 373/373 [00:01<00:00, 203.10it/s]\n"
     ]
    },
    {
     "name": "stdout",
     "output_type": "stream",
     "text": [
      "Epoch 1400 - Train Loss: 0.5503, Train MSE: 0.5509, Train MAE: 0.5206\n",
      "Epoch 1400 - Validation Loss: 1.2923, Validation MSE: 1.2944, Validation MAE: 0.8023\n"
     ]
    },
    {
     "name": "stderr",
     "output_type": "stream",
     "text": [
      "Training Epoch 1402: 100%|██████████| 373/373 [00:01<00:00, 207.32it/s]\n",
      "Training Epoch 1403: 100%|██████████| 373/373 [00:01<00:00, 207.72it/s]\n",
      "Training Epoch 1404: 100%|██████████| 373/373 [00:01<00:00, 206.39it/s]\n",
      "Training Epoch 1405: 100%|██████████| 373/373 [00:01<00:00, 209.08it/s]\n",
      "Training Epoch 1406: 100%|██████████| 373/373 [00:01<00:00, 211.70it/s]\n",
      "Training Epoch 1407: 100%|██████████| 373/373 [00:01<00:00, 202.40it/s]\n",
      "Training Epoch 1408: 100%|██████████| 373/373 [00:01<00:00, 203.51it/s]\n",
      "Training Epoch 1409: 100%|██████████| 373/373 [00:01<00:00, 211.63it/s]\n",
      "Training Epoch 1410: 100%|██████████| 373/373 [00:01<00:00, 210.10it/s]\n",
      "Training Epoch 1411: 100%|██████████| 373/373 [00:01<00:00, 203.88it/s]\n"
     ]
    },
    {
     "name": "stdout",
     "output_type": "stream",
     "text": [
      "Epoch 1410 - Train Loss: 0.5471, Train MSE: 0.5481, Train MAE: 0.5186\n",
      "Epoch 1410 - Validation Loss: 1.3003, Validation MSE: 1.3021, Validation MAE: 0.8024\n"
     ]
    },
    {
     "name": "stderr",
     "output_type": "stream",
     "text": [
      "Training Epoch 1412: 100%|██████████| 373/373 [00:01<00:00, 201.01it/s]\n",
      "Training Epoch 1413: 100%|██████████| 373/373 [00:01<00:00, 214.45it/s]\n",
      "Training Epoch 1414: 100%|██████████| 373/373 [00:01<00:00, 206.73it/s]\n",
      "Training Epoch 1415: 100%|██████████| 373/373 [00:01<00:00, 209.67it/s]\n",
      "Training Epoch 1416: 100%|██████████| 373/373 [00:01<00:00, 206.40it/s]\n",
      "Training Epoch 1417: 100%|██████████| 373/373 [00:01<00:00, 215.62it/s]\n",
      "Training Epoch 1418: 100%|██████████| 373/373 [00:01<00:00, 204.85it/s]\n",
      "Training Epoch 1419: 100%|██████████| 373/373 [00:01<00:00, 206.96it/s]\n",
      "Training Epoch 1420: 100%|██████████| 373/373 [00:01<00:00, 208.13it/s]\n",
      "Training Epoch 1421: 100%|██████████| 373/373 [00:01<00:00, 204.60it/s]\n"
     ]
    },
    {
     "name": "stdout",
     "output_type": "stream",
     "text": [
      "Epoch 1420 - Train Loss: 0.5468, Train MSE: 0.5479, Train MAE: 0.5179\n",
      "Epoch 1420 - Validation Loss: 1.2798, Validation MSE: 1.2819, Validation MAE: 0.7937\n"
     ]
    },
    {
     "name": "stderr",
     "output_type": "stream",
     "text": [
      "Training Epoch 1422: 100%|██████████| 373/373 [00:01<00:00, 212.89it/s]\n",
      "Training Epoch 1423: 100%|██████████| 373/373 [00:01<00:00, 219.47it/s]\n",
      "Training Epoch 1424: 100%|██████████| 373/373 [00:01<00:00, 207.96it/s]\n",
      "Training Epoch 1425: 100%|██████████| 373/373 [00:01<00:00, 207.67it/s]\n",
      "Training Epoch 1426: 100%|██████████| 373/373 [00:01<00:00, 211.35it/s]\n",
      "Training Epoch 1427: 100%|██████████| 373/373 [00:01<00:00, 210.41it/s]\n",
      "Training Epoch 1428: 100%|██████████| 373/373 [00:01<00:00, 212.07it/s]\n",
      "Training Epoch 1429: 100%|██████████| 373/373 [00:01<00:00, 212.34it/s]\n",
      "Training Epoch 1430: 100%|██████████| 373/373 [00:01<00:00, 200.36it/s]\n",
      "Training Epoch 1431: 100%|██████████| 373/373 [00:01<00:00, 197.60it/s]\n"
     ]
    },
    {
     "name": "stdout",
     "output_type": "stream",
     "text": [
      "Epoch 1430 - Train Loss: 0.5448, Train MSE: 0.5440, Train MAE: 0.5169\n",
      "Epoch 1430 - Validation Loss: 1.2544, Validation MSE: 1.2561, Validation MAE: 0.7856\n"
     ]
    },
    {
     "name": "stderr",
     "output_type": "stream",
     "text": [
      "Training Epoch 1432: 100%|██████████| 373/373 [00:01<00:00, 202.55it/s]\n",
      "Training Epoch 1433: 100%|██████████| 373/373 [00:01<00:00, 210.28it/s]\n",
      "Training Epoch 1434: 100%|██████████| 373/373 [00:01<00:00, 215.89it/s]\n",
      "Training Epoch 1435: 100%|██████████| 373/373 [00:01<00:00, 204.57it/s]\n",
      "Training Epoch 1436: 100%|██████████| 373/373 [00:01<00:00, 212.76it/s]\n",
      "Training Epoch 1437: 100%|██████████| 373/373 [00:01<00:00, 214.97it/s]\n",
      "Training Epoch 1438: 100%|██████████| 373/373 [00:01<00:00, 208.46it/s]\n",
      "Training Epoch 1439: 100%|██████████| 373/373 [00:01<00:00, 207.25it/s]\n",
      "Training Epoch 1440: 100%|██████████| 373/373 [00:01<00:00, 214.86it/s]\n",
      "Training Epoch 1441: 100%|██████████| 373/373 [00:01<00:00, 206.78it/s]\n"
     ]
    },
    {
     "name": "stdout",
     "output_type": "stream",
     "text": [
      "Epoch 1440 - Train Loss: 0.5490, Train MSE: 0.5482, Train MAE: 0.5175\n",
      "Epoch 1440 - Validation Loss: 1.2921, Validation MSE: 1.2939, Validation MAE: 0.7960\n"
     ]
    },
    {
     "name": "stderr",
     "output_type": "stream",
     "text": [
      "Training Epoch 1442: 100%|██████████| 373/373 [00:01<00:00, 214.21it/s]\n",
      "Training Epoch 1443: 100%|██████████| 373/373 [00:01<00:00, 218.25it/s]\n",
      "Training Epoch 1444: 100%|██████████| 373/373 [00:01<00:00, 203.31it/s]\n",
      "Training Epoch 1445: 100%|██████████| 373/373 [00:01<00:00, 204.16it/s]\n",
      "Training Epoch 1446: 100%|██████████| 373/373 [00:01<00:00, 218.82it/s]\n",
      "Training Epoch 1447: 100%|██████████| 373/373 [00:01<00:00, 210.23it/s]\n",
      "Training Epoch 1448: 100%|██████████| 373/373 [00:01<00:00, 203.38it/s]\n",
      "Training Epoch 1449: 100%|██████████| 373/373 [00:01<00:00, 217.78it/s]\n",
      "Training Epoch 1450: 100%|██████████| 373/373 [00:01<00:00, 211.24it/s]\n",
      "Training Epoch 1451: 100%|██████████| 373/373 [00:01<00:00, 208.77it/s]\n"
     ]
    },
    {
     "name": "stdout",
     "output_type": "stream",
     "text": [
      "Epoch 1450 - Train Loss: 0.5462, Train MSE: 0.5472, Train MAE: 0.5201\n",
      "Epoch 1450 - Validation Loss: 1.2991, Validation MSE: 1.3014, Validation MAE: 0.7998\n"
     ]
    },
    {
     "name": "stderr",
     "output_type": "stream",
     "text": [
      "Training Epoch 1452: 100%|██████████| 373/373 [00:01<00:00, 217.66it/s]\n",
      "Training Epoch 1453: 100%|██████████| 373/373 [00:01<00:00, 208.70it/s]\n",
      "Training Epoch 1454: 100%|██████████| 373/373 [00:01<00:00, 207.78it/s]\n",
      "Training Epoch 1455: 100%|██████████| 373/373 [00:01<00:00, 211.77it/s]\n",
      "Training Epoch 1456: 100%|██████████| 373/373 [00:01<00:00, 204.49it/s]\n",
      "Training Epoch 1457: 100%|██████████| 373/373 [00:01<00:00, 214.00it/s]\n",
      "Training Epoch 1458: 100%|██████████| 373/373 [00:01<00:00, 215.94it/s]\n",
      "Training Epoch 1459: 100%|██████████| 373/373 [00:01<00:00, 198.20it/s]\n",
      "Training Epoch 1460: 100%|██████████| 373/373 [00:01<00:00, 214.17it/s]\n",
      "Training Epoch 1461: 100%|██████████| 373/373 [00:01<00:00, 216.69it/s]\n"
     ]
    },
    {
     "name": "stdout",
     "output_type": "stream",
     "text": [
      "Epoch 1460 - Train Loss: 0.5438, Train MSE: 0.5442, Train MAE: 0.5158\n",
      "Epoch 1460 - Validation Loss: 1.2724, Validation MSE: 1.2744, Validation MAE: 0.7956\n"
     ]
    },
    {
     "name": "stderr",
     "output_type": "stream",
     "text": [
      "Training Epoch 1462: 100%|██████████| 373/373 [00:01<00:00, 210.16it/s]\n",
      "Training Epoch 1463: 100%|██████████| 373/373 [00:01<00:00, 215.59it/s]\n",
      "Training Epoch 1464: 100%|██████████| 373/373 [00:01<00:00, 217.56it/s]\n",
      "Training Epoch 1465: 100%|██████████| 373/373 [00:01<00:00, 206.67it/s]\n",
      "Training Epoch 1466: 100%|██████████| 373/373 [00:01<00:00, 221.53it/s]\n",
      "Training Epoch 1467: 100%|██████████| 373/373 [00:01<00:00, 210.20it/s]\n",
      "Training Epoch 1468: 100%|██████████| 373/373 [00:01<00:00, 203.92it/s]\n",
      "Training Epoch 1469: 100%|██████████| 373/373 [00:01<00:00, 212.94it/s]\n",
      "Training Epoch 1470: 100%|██████████| 373/373 [00:01<00:00, 209.25it/s]\n",
      "Training Epoch 1471: 100%|██████████| 373/373 [00:01<00:00, 202.54it/s]\n"
     ]
    },
    {
     "name": "stdout",
     "output_type": "stream",
     "text": [
      "Epoch 1470 - Train Loss: 0.5431, Train MSE: 0.5442, Train MAE: 0.5157\n",
      "Epoch 1470 - Validation Loss: 1.2447, Validation MSE: 1.2465, Validation MAE: 0.7885\n"
     ]
    },
    {
     "name": "stderr",
     "output_type": "stream",
     "text": [
      "Training Epoch 1472: 100%|██████████| 373/373 [00:01<00:00, 216.48it/s]\n",
      "Training Epoch 1473: 100%|██████████| 373/373 [00:01<00:00, 217.08it/s]\n",
      "Training Epoch 1474: 100%|██████████| 373/373 [00:01<00:00, 215.63it/s]\n",
      "Training Epoch 1475: 100%|██████████| 373/373 [00:01<00:00, 208.44it/s]\n",
      "Training Epoch 1476: 100%|██████████| 373/373 [00:01<00:00, 211.11it/s]\n",
      "Training Epoch 1477: 100%|██████████| 373/373 [00:01<00:00, 205.13it/s]\n",
      "Training Epoch 1478: 100%|██████████| 373/373 [00:01<00:00, 215.26it/s]\n",
      "Training Epoch 1479: 100%|██████████| 373/373 [00:01<00:00, 208.05it/s]\n",
      "Training Epoch 1480: 100%|██████████| 373/373 [00:01<00:00, 210.55it/s]\n",
      "Training Epoch 1481: 100%|██████████| 373/373 [00:01<00:00, 215.99it/s]\n"
     ]
    },
    {
     "name": "stdout",
     "output_type": "stream",
     "text": [
      "Epoch 1480 - Train Loss: 0.5512, Train MSE: 0.5523, Train MAE: 0.5214\n",
      "Epoch 1480 - Validation Loss: 1.2351, Validation MSE: 1.2375, Validation MAE: 0.7845\n"
     ]
    },
    {
     "name": "stderr",
     "output_type": "stream",
     "text": [
      "Training Epoch 1482: 100%|██████████| 373/373 [00:01<00:00, 206.26it/s]\n",
      "Training Epoch 1483: 100%|██████████| 373/373 [00:01<00:00, 199.46it/s]\n",
      "Training Epoch 1484: 100%|██████████| 373/373 [00:01<00:00, 211.85it/s]\n",
      "Training Epoch 1485: 100%|██████████| 373/373 [00:01<00:00, 203.63it/s]\n",
      "Training Epoch 1486: 100%|██████████| 373/373 [00:01<00:00, 204.59it/s]\n",
      "Training Epoch 1487: 100%|██████████| 373/373 [00:01<00:00, 210.06it/s]\n",
      "Training Epoch 1488: 100%|██████████| 373/373 [00:01<00:00, 212.98it/s]\n",
      "Training Epoch 1489: 100%|██████████| 373/373 [00:01<00:00, 208.02it/s]\n",
      "Training Epoch 1490: 100%|██████████| 373/373 [00:01<00:00, 209.07it/s]\n",
      "Training Epoch 1491: 100%|██████████| 373/373 [00:01<00:00, 208.88it/s]\n"
     ]
    },
    {
     "name": "stdout",
     "output_type": "stream",
     "text": [
      "Epoch 1490 - Train Loss: 0.5373, Train MSE: 0.5381, Train MAE: 0.5145\n",
      "Epoch 1490 - Validation Loss: 1.2751, Validation MSE: 1.2769, Validation MAE: 0.7895\n"
     ]
    },
    {
     "name": "stderr",
     "output_type": "stream",
     "text": [
      "Training Epoch 1492: 100%|██████████| 373/373 [00:01<00:00, 204.48it/s]\n",
      "Training Epoch 1493: 100%|██████████| 373/373 [00:01<00:00, 205.64it/s]\n",
      "Training Epoch 1494: 100%|██████████| 373/373 [00:01<00:00, 208.34it/s]\n",
      "Training Epoch 1495: 100%|██████████| 373/373 [00:01<00:00, 211.25it/s]\n",
      "Training Epoch 1496: 100%|██████████| 373/373 [00:01<00:00, 215.36it/s]\n",
      "Training Epoch 1497: 100%|██████████| 373/373 [00:01<00:00, 215.83it/s]\n",
      "Training Epoch 1498: 100%|██████████| 373/373 [00:01<00:00, 208.51it/s]\n",
      "Training Epoch 1499: 100%|██████████| 373/373 [00:01<00:00, 214.04it/s]\n",
      "Training Epoch 1500: 100%|██████████| 373/373 [00:01<00:00, 210.00it/s]\n",
      "Training Epoch 1501: 100%|██████████| 373/373 [00:01<00:00, 201.41it/s]\n"
     ]
    },
    {
     "name": "stdout",
     "output_type": "stream",
     "text": [
      "Epoch 1500 - Train Loss: 0.5406, Train MSE: 0.5413, Train MAE: 0.5159\n",
      "Epoch 1500 - Validation Loss: 1.2640, Validation MSE: 1.2662, Validation MAE: 0.7903\n"
     ]
    },
    {
     "name": "stderr",
     "output_type": "stream",
     "text": [
      "Training Epoch 1502: 100%|██████████| 373/373 [00:01<00:00, 213.31it/s]\n",
      "Training Epoch 1503: 100%|██████████| 373/373 [00:01<00:00, 216.10it/s]\n",
      "Training Epoch 1504: 100%|██████████| 373/373 [00:01<00:00, 213.06it/s]\n",
      "Training Epoch 1505: 100%|██████████| 373/373 [00:01<00:00, 216.00it/s]\n",
      "Training Epoch 1506: 100%|██████████| 373/373 [00:01<00:00, 213.25it/s]\n",
      "Training Epoch 1507: 100%|██████████| 373/373 [00:01<00:00, 213.00it/s]\n",
      "Training Epoch 1508: 100%|██████████| 373/373 [00:01<00:00, 212.47it/s]\n",
      "Training Epoch 1509: 100%|██████████| 373/373 [00:01<00:00, 220.12it/s]\n",
      "Training Epoch 1510: 100%|██████████| 373/373 [00:01<00:00, 206.73it/s]\n",
      "Training Epoch 1511: 100%|██████████| 373/373 [00:01<00:00, 216.63it/s]\n"
     ]
    },
    {
     "name": "stdout",
     "output_type": "stream",
     "text": [
      "Epoch 1510 - Train Loss: 0.5471, Train MSE: 0.5472, Train MAE: 0.5177\n",
      "Epoch 1510 - Validation Loss: 1.2615, Validation MSE: 1.2638, Validation MAE: 0.7885\n"
     ]
    },
    {
     "name": "stderr",
     "output_type": "stream",
     "text": [
      "Training Epoch 1512: 100%|██████████| 373/373 [00:01<00:00, 210.54it/s]\n",
      "Training Epoch 1513: 100%|██████████| 373/373 [00:01<00:00, 204.58it/s]\n",
      "Training Epoch 1514: 100%|██████████| 373/373 [00:01<00:00, 210.26it/s]\n",
      "Training Epoch 1515: 100%|██████████| 373/373 [00:01<00:00, 213.37it/s]\n",
      "Training Epoch 1516: 100%|██████████| 373/373 [00:01<00:00, 201.64it/s]\n",
      "Training Epoch 1517: 100%|██████████| 373/373 [00:01<00:00, 211.82it/s]\n",
      "Training Epoch 1518: 100%|██████████| 373/373 [00:01<00:00, 209.16it/s]\n",
      "Training Epoch 1519: 100%|██████████| 373/373 [00:01<00:00, 204.78it/s]\n",
      "Training Epoch 1520: 100%|██████████| 373/373 [00:01<00:00, 214.11it/s]\n",
      "Training Epoch 1521: 100%|██████████| 373/373 [00:01<00:00, 213.76it/s]\n"
     ]
    },
    {
     "name": "stdout",
     "output_type": "stream",
     "text": [
      "Epoch 1520 - Train Loss: 0.5473, Train MSE: 0.5477, Train MAE: 0.5187\n",
      "Epoch 1520 - Validation Loss: 1.2661, Validation MSE: 1.2677, Validation MAE: 0.7861\n"
     ]
    },
    {
     "name": "stderr",
     "output_type": "stream",
     "text": [
      "Training Epoch 1522: 100%|██████████| 373/373 [00:01<00:00, 206.96it/s]\n",
      "Training Epoch 1523: 100%|██████████| 373/373 [00:01<00:00, 213.60it/s]\n",
      "Training Epoch 1524: 100%|██████████| 373/373 [00:01<00:00, 206.20it/s]\n",
      "Training Epoch 1525: 100%|██████████| 373/373 [00:01<00:00, 213.28it/s]\n",
      "Training Epoch 1526: 100%|██████████| 373/373 [00:01<00:00, 208.86it/s]\n",
      "Training Epoch 1527: 100%|██████████| 373/373 [00:01<00:00, 209.60it/s]\n",
      "Training Epoch 1528: 100%|██████████| 373/373 [00:01<00:00, 209.17it/s]\n",
      "Training Epoch 1529: 100%|██████████| 373/373 [00:01<00:00, 211.96it/s]\n",
      "Training Epoch 1530: 100%|██████████| 373/373 [00:01<00:00, 210.47it/s]\n",
      "Training Epoch 1531: 100%|██████████| 373/373 [00:01<00:00, 209.10it/s]\n"
     ]
    },
    {
     "name": "stdout",
     "output_type": "stream",
     "text": [
      "Epoch 1530 - Train Loss: 0.5419, Train MSE: 0.5426, Train MAE: 0.5170\n",
      "Epoch 1530 - Validation Loss: 1.2496, Validation MSE: 1.2516, Validation MAE: 0.7874\n"
     ]
    },
    {
     "name": "stderr",
     "output_type": "stream",
     "text": [
      "Training Epoch 1532: 100%|██████████| 373/373 [00:01<00:00, 208.17it/s]\n",
      "Training Epoch 1533: 100%|██████████| 373/373 [00:01<00:00, 215.40it/s]\n",
      "Training Epoch 1534: 100%|██████████| 373/373 [00:01<00:00, 204.37it/s]\n",
      "Training Epoch 1535: 100%|██████████| 373/373 [00:01<00:00, 218.50it/s]\n",
      "Training Epoch 1536: 100%|██████████| 373/373 [00:01<00:00, 204.76it/s]\n",
      "Training Epoch 1537: 100%|██████████| 373/373 [00:01<00:00, 207.31it/s]\n",
      "Training Epoch 1538: 100%|██████████| 373/373 [00:01<00:00, 214.71it/s]\n",
      "Training Epoch 1539: 100%|██████████| 373/373 [00:01<00:00, 207.80it/s]\n",
      "Training Epoch 1540: 100%|██████████| 373/373 [00:01<00:00, 206.72it/s]\n",
      "Training Epoch 1541: 100%|██████████| 373/373 [00:01<00:00, 204.51it/s]\n"
     ]
    },
    {
     "name": "stdout",
     "output_type": "stream",
     "text": [
      "Epoch 1540 - Train Loss: 0.5390, Train MSE: 0.5401, Train MAE: 0.5116\n",
      "Epoch 1540 - Validation Loss: 1.2970, Validation MSE: 1.2992, Validation MAE: 0.7982\n"
     ]
    },
    {
     "name": "stderr",
     "output_type": "stream",
     "text": [
      "Training Epoch 1542: 100%|██████████| 373/373 [00:01<00:00, 208.41it/s]\n",
      "Training Epoch 1543: 100%|██████████| 373/373 [00:01<00:00, 214.81it/s]\n",
      "Training Epoch 1544: 100%|██████████| 373/373 [00:01<00:00, 214.24it/s]\n",
      "Training Epoch 1545: 100%|██████████| 373/373 [00:01<00:00, 210.80it/s]\n",
      "Training Epoch 1546: 100%|██████████| 373/373 [00:01<00:00, 210.84it/s]\n",
      "Training Epoch 1547: 100%|██████████| 373/373 [00:01<00:00, 207.48it/s]\n",
      "Training Epoch 1548: 100%|██████████| 373/373 [00:01<00:00, 206.46it/s]\n",
      "Training Epoch 1549: 100%|██████████| 373/373 [00:01<00:00, 211.84it/s]\n",
      "Training Epoch 1550: 100%|██████████| 373/373 [00:01<00:00, 208.35it/s]\n",
      "Training Epoch 1551: 100%|██████████| 373/373 [00:01<00:00, 213.04it/s]\n"
     ]
    },
    {
     "name": "stdout",
     "output_type": "stream",
     "text": [
      "Epoch 1550 - Train Loss: 0.5462, Train MSE: 0.5474, Train MAE: 0.5160\n",
      "Epoch 1550 - Validation Loss: 1.2562, Validation MSE: 1.2584, Validation MAE: 0.7888\n"
     ]
    },
    {
     "name": "stderr",
     "output_type": "stream",
     "text": [
      "Training Epoch 1552: 100%|██████████| 373/373 [00:01<00:00, 208.39it/s]\n",
      "Training Epoch 1553: 100%|██████████| 373/373 [00:01<00:00, 210.41it/s]\n",
      "Training Epoch 1554: 100%|██████████| 373/373 [00:01<00:00, 216.18it/s]\n",
      "Training Epoch 1555: 100%|██████████| 373/373 [00:01<00:00, 206.67it/s]\n",
      "Training Epoch 1556: 100%|██████████| 373/373 [00:01<00:00, 204.44it/s]\n",
      "Training Epoch 1557: 100%|██████████| 373/373 [00:01<00:00, 213.27it/s]\n",
      "Training Epoch 1558: 100%|██████████| 373/373 [00:01<00:00, 213.76it/s]\n",
      "Training Epoch 1559: 100%|██████████| 373/373 [00:01<00:00, 215.06it/s]\n",
      "Training Epoch 1560: 100%|██████████| 373/373 [00:01<00:00, 211.17it/s]\n",
      "Training Epoch 1561: 100%|██████████| 373/373 [00:01<00:00, 203.55it/s]\n"
     ]
    },
    {
     "name": "stdout",
     "output_type": "stream",
     "text": [
      "Epoch 1560 - Train Loss: 0.5293, Train MSE: 0.5304, Train MAE: 0.5112\n",
      "Epoch 1560 - Validation Loss: 1.2609, Validation MSE: 1.2626, Validation MAE: 0.7914\n"
     ]
    },
    {
     "name": "stderr",
     "output_type": "stream",
     "text": [
      "Training Epoch 1562: 100%|██████████| 373/373 [00:01<00:00, 214.89it/s]\n",
      "Training Epoch 1563: 100%|██████████| 373/373 [00:01<00:00, 209.43it/s]\n",
      "Training Epoch 1564: 100%|██████████| 373/373 [00:01<00:00, 206.15it/s]\n",
      "Training Epoch 1565: 100%|██████████| 373/373 [00:01<00:00, 209.56it/s]\n",
      "Training Epoch 1566: 100%|██████████| 373/373 [00:01<00:00, 213.92it/s]\n",
      "Training Epoch 1567: 100%|██████████| 373/373 [00:01<00:00, 206.12it/s]\n",
      "Training Epoch 1568: 100%|██████████| 373/373 [00:01<00:00, 225.88it/s]\n",
      "Training Epoch 1569: 100%|██████████| 373/373 [00:01<00:00, 207.06it/s]\n",
      "Training Epoch 1570: 100%|██████████| 373/373 [00:01<00:00, 209.22it/s]\n",
      "Training Epoch 1571: 100%|██████████| 373/373 [00:01<00:00, 211.86it/s]\n"
     ]
    },
    {
     "name": "stdout",
     "output_type": "stream",
     "text": [
      "Epoch 1570 - Train Loss: 0.5453, Train MSE: 0.5440, Train MAE: 0.5135\n",
      "Epoch 1570 - Validation Loss: 1.2797, Validation MSE: 1.2823, Validation MAE: 0.7962\n"
     ]
    },
    {
     "name": "stderr",
     "output_type": "stream",
     "text": [
      "Training Epoch 1572: 100%|██████████| 373/373 [00:01<00:00, 204.12it/s]\n",
      "Training Epoch 1573: 100%|██████████| 373/373 [00:01<00:00, 212.91it/s]\n",
      "Training Epoch 1574: 100%|██████████| 373/373 [00:01<00:00, 221.63it/s]\n",
      "Training Epoch 1575: 100%|██████████| 373/373 [00:01<00:00, 207.96it/s]\n",
      "Training Epoch 1576: 100%|██████████| 373/373 [00:01<00:00, 213.78it/s]\n",
      "Training Epoch 1577: 100%|██████████| 373/373 [00:01<00:00, 220.14it/s]\n",
      "Training Epoch 1578: 100%|██████████| 373/373 [00:01<00:00, 209.31it/s]\n",
      "Training Epoch 1579: 100%|██████████| 373/373 [00:01<00:00, 208.71it/s]\n",
      "Training Epoch 1580: 100%|██████████| 373/373 [00:01<00:00, 219.21it/s]\n",
      "Training Epoch 1581: 100%|██████████| 373/373 [00:01<00:00, 207.13it/s]\n"
     ]
    },
    {
     "name": "stdout",
     "output_type": "stream",
     "text": [
      "Epoch 1580 - Train Loss: 0.5379, Train MSE: 0.5362, Train MAE: 0.5154\n",
      "Epoch 1580 - Validation Loss: 1.2835, Validation MSE: 1.2851, Validation MAE: 0.7970\n"
     ]
    },
    {
     "name": "stderr",
     "output_type": "stream",
     "text": [
      "Training Epoch 1582: 100%|██████████| 373/373 [00:01<00:00, 198.23it/s]\n",
      "Training Epoch 1583: 100%|██████████| 373/373 [00:01<00:00, 198.59it/s]\n",
      "Training Epoch 1584: 100%|██████████| 373/373 [00:01<00:00, 207.98it/s]\n",
      "Training Epoch 1585: 100%|██████████| 373/373 [00:01<00:00, 223.76it/s]\n",
      "Training Epoch 1586: 100%|██████████| 373/373 [00:01<00:00, 210.56it/s]\n",
      "Training Epoch 1587: 100%|██████████| 373/373 [00:01<00:00, 203.62it/s]\n",
      "Training Epoch 1588: 100%|██████████| 373/373 [00:01<00:00, 217.18it/s]\n",
      "Training Epoch 1589: 100%|██████████| 373/373 [00:01<00:00, 211.44it/s]\n",
      "Training Epoch 1590: 100%|██████████| 373/373 [00:01<00:00, 208.09it/s]\n",
      "Training Epoch 1591: 100%|██████████| 373/373 [00:01<00:00, 210.71it/s]\n"
     ]
    },
    {
     "name": "stdout",
     "output_type": "stream",
     "text": [
      "Epoch 1590 - Train Loss: 0.5426, Train MSE: 0.5438, Train MAE: 0.5135\n",
      "Epoch 1590 - Validation Loss: 1.2784, Validation MSE: 1.2798, Validation MAE: 0.7937\n"
     ]
    },
    {
     "name": "stderr",
     "output_type": "stream",
     "text": [
      "Training Epoch 1592: 100%|██████████| 373/373 [00:01<00:00, 209.72it/s]\n",
      "Training Epoch 1593: 100%|██████████| 373/373 [00:01<00:00, 210.77it/s]\n",
      "Training Epoch 1594: 100%|██████████| 373/373 [00:01<00:00, 199.83it/s]\n",
      "Training Epoch 1595: 100%|██████████| 373/373 [00:01<00:00, 209.07it/s]\n",
      "Training Epoch 1596: 100%|██████████| 373/373 [00:01<00:00, 211.98it/s]\n",
      "Training Epoch 1597: 100%|██████████| 373/373 [00:01<00:00, 190.49it/s]\n",
      "Training Epoch 1598: 100%|██████████| 373/373 [00:01<00:00, 199.31it/s]\n",
      "Training Epoch 1599: 100%|██████████| 373/373 [00:01<00:00, 203.36it/s]\n",
      "Training Epoch 1600: 100%|██████████| 373/373 [00:01<00:00, 208.11it/s]\n",
      "Training Epoch 1601: 100%|██████████| 373/373 [00:01<00:00, 200.91it/s]\n"
     ]
    },
    {
     "name": "stdout",
     "output_type": "stream",
     "text": [
      "Epoch 1600 - Train Loss: 0.5391, Train MSE: 0.5397, Train MAE: 0.5134\n",
      "Epoch 1600 - Validation Loss: 1.2533, Validation MSE: 1.2554, Validation MAE: 0.7881\n"
     ]
    },
    {
     "name": "stderr",
     "output_type": "stream",
     "text": [
      "Training Epoch 1602: 100%|██████████| 373/373 [00:01<00:00, 194.90it/s]\n",
      "Training Epoch 1603: 100%|██████████| 373/373 [00:01<00:00, 202.77it/s]\n",
      "Training Epoch 1604: 100%|██████████| 373/373 [00:01<00:00, 204.57it/s]\n",
      "Training Epoch 1605: 100%|██████████| 373/373 [00:01<00:00, 203.23it/s]\n",
      "Training Epoch 1606: 100%|██████████| 373/373 [00:01<00:00, 203.06it/s]\n",
      "Training Epoch 1607: 100%|██████████| 373/373 [00:01<00:00, 197.09it/s]\n",
      "Training Epoch 1608: 100%|██████████| 373/373 [00:01<00:00, 203.40it/s]\n",
      "Training Epoch 1609: 100%|██████████| 373/373 [00:01<00:00, 203.40it/s]\n",
      "Training Epoch 1610: 100%|██████████| 373/373 [00:01<00:00, 196.51it/s]\n",
      "Training Epoch 1611: 100%|██████████| 373/373 [00:01<00:00, 205.02it/s]\n"
     ]
    },
    {
     "name": "stdout",
     "output_type": "stream",
     "text": [
      "Epoch 1610 - Train Loss: 0.5424, Train MSE: 0.5435, Train MAE: 0.5141\n",
      "Epoch 1610 - Validation Loss: 1.2696, Validation MSE: 1.2718, Validation MAE: 0.7855\n"
     ]
    },
    {
     "name": "stderr",
     "output_type": "stream",
     "text": [
      "Training Epoch 1612: 100%|██████████| 373/373 [00:01<00:00, 207.99it/s]\n",
      "Training Epoch 1613: 100%|██████████| 373/373 [00:01<00:00, 205.47it/s]\n",
      "Training Epoch 1614: 100%|██████████| 373/373 [00:01<00:00, 210.52it/s]\n",
      "Training Epoch 1615: 100%|██████████| 373/373 [00:01<00:00, 198.12it/s]\n",
      "Training Epoch 1616: 100%|██████████| 373/373 [00:01<00:00, 204.63it/s]\n",
      "Training Epoch 1617: 100%|██████████| 373/373 [00:01<00:00, 204.49it/s]\n",
      "Training Epoch 1618: 100%|██████████| 373/373 [00:01<00:00, 204.38it/s]\n",
      "Training Epoch 1619: 100%|██████████| 373/373 [00:01<00:00, 202.57it/s]\n",
      "Training Epoch 1620: 100%|██████████| 373/373 [00:01<00:00, 206.62it/s]\n",
      "Training Epoch 1621: 100%|██████████| 373/373 [00:01<00:00, 202.69it/s]\n"
     ]
    },
    {
     "name": "stdout",
     "output_type": "stream",
     "text": [
      "Epoch 1620 - Train Loss: 0.5422, Train MSE: 0.5420, Train MAE: 0.5151\n",
      "Epoch 1620 - Validation Loss: 1.2571, Validation MSE: 1.2590, Validation MAE: 0.7930\n"
     ]
    },
    {
     "name": "stderr",
     "output_type": "stream",
     "text": [
      "Training Epoch 1622: 100%|██████████| 373/373 [00:01<00:00, 203.03it/s]\n",
      "Training Epoch 1623: 100%|██████████| 373/373 [00:01<00:00, 203.64it/s]\n",
      "Training Epoch 1624: 100%|██████████| 373/373 [00:01<00:00, 199.08it/s]\n",
      "Training Epoch 1625: 100%|██████████| 373/373 [00:01<00:00, 206.62it/s]\n",
      "Training Epoch 1626: 100%|██████████| 373/373 [00:01<00:00, 194.03it/s]\n",
      "Training Epoch 1627: 100%|██████████| 373/373 [00:01<00:00, 204.25it/s]\n",
      "Training Epoch 1628: 100%|██████████| 373/373 [00:01<00:00, 203.31it/s]\n",
      "Training Epoch 1629: 100%|██████████| 373/373 [00:01<00:00, 202.53it/s]\n",
      "Training Epoch 1630: 100%|██████████| 373/373 [00:01<00:00, 200.97it/s]\n",
      "Training Epoch 1631: 100%|██████████| 373/373 [00:01<00:00, 200.45it/s]\n"
     ]
    },
    {
     "name": "stdout",
     "output_type": "stream",
     "text": [
      "Epoch 1630 - Train Loss: 0.5412, Train MSE: 0.5415, Train MAE: 0.5143\n",
      "Epoch 1630 - Validation Loss: 1.2732, Validation MSE: 1.2749, Validation MAE: 0.7919\n"
     ]
    },
    {
     "name": "stderr",
     "output_type": "stream",
     "text": [
      "Training Epoch 1632: 100%|██████████| 373/373 [00:01<00:00, 207.75it/s]\n",
      "Training Epoch 1633: 100%|██████████| 373/373 [00:01<00:00, 201.53it/s]\n",
      "Training Epoch 1634: 100%|██████████| 373/373 [00:01<00:00, 202.31it/s]\n",
      "Training Epoch 1635: 100%|██████████| 373/373 [00:01<00:00, 208.87it/s]\n",
      "Training Epoch 1636: 100%|██████████| 373/373 [00:01<00:00, 207.11it/s]\n",
      "Training Epoch 1637: 100%|██████████| 373/373 [00:01<00:00, 207.56it/s]\n",
      "Training Epoch 1638: 100%|██████████| 373/373 [00:01<00:00, 202.95it/s]\n",
      "Training Epoch 1639: 100%|██████████| 373/373 [00:01<00:00, 204.53it/s]\n",
      "Training Epoch 1640: 100%|██████████| 373/373 [00:01<00:00, 206.81it/s]\n",
      "Training Epoch 1641: 100%|██████████| 373/373 [00:01<00:00, 198.35it/s]\n"
     ]
    },
    {
     "name": "stdout",
     "output_type": "stream",
     "text": [
      "Epoch 1640 - Train Loss: 0.5365, Train MSE: 0.5376, Train MAE: 0.5098\n",
      "Epoch 1640 - Validation Loss: 1.2657, Validation MSE: 1.2675, Validation MAE: 0.7882\n"
     ]
    },
    {
     "name": "stderr",
     "output_type": "stream",
     "text": [
      "Training Epoch 1642: 100%|██████████| 373/373 [00:01<00:00, 207.09it/s]\n",
      "Training Epoch 1643: 100%|██████████| 373/373 [00:01<00:00, 201.14it/s]\n",
      "Training Epoch 1644: 100%|██████████| 373/373 [00:01<00:00, 209.57it/s]\n",
      "Training Epoch 1645: 100%|██████████| 373/373 [00:01<00:00, 207.18it/s]\n",
      "Training Epoch 1646: 100%|██████████| 373/373 [00:01<00:00, 205.27it/s]\n",
      "Training Epoch 1647: 100%|██████████| 373/373 [00:01<00:00, 210.51it/s]\n",
      "Training Epoch 1648: 100%|██████████| 373/373 [00:01<00:00, 206.21it/s]\n",
      "Training Epoch 1649: 100%|██████████| 373/373 [00:01<00:00, 198.48it/s]\n",
      "Training Epoch 1650: 100%|██████████| 373/373 [00:01<00:00, 203.17it/s]\n",
      "Training Epoch 1651: 100%|██████████| 373/373 [00:01<00:00, 196.85it/s]\n"
     ]
    },
    {
     "name": "stdout",
     "output_type": "stream",
     "text": [
      "Epoch 1650 - Train Loss: 0.5424, Train MSE: 0.5427, Train MAE: 0.5147\n",
      "Epoch 1650 - Validation Loss: 1.2715, Validation MSE: 1.2735, Validation MAE: 0.7980\n"
     ]
    },
    {
     "name": "stderr",
     "output_type": "stream",
     "text": [
      "Training Epoch 1652: 100%|██████████| 373/373 [00:01<00:00, 198.03it/s]\n",
      "Training Epoch 1653: 100%|██████████| 373/373 [00:01<00:00, 196.84it/s]\n",
      "Training Epoch 1654: 100%|██████████| 373/373 [00:01<00:00, 202.03it/s]\n",
      "Training Epoch 1655: 100%|██████████| 373/373 [00:01<00:00, 194.42it/s]\n",
      "Training Epoch 1656: 100%|██████████| 373/373 [00:01<00:00, 195.21it/s]\n",
      "Training Epoch 1657: 100%|██████████| 373/373 [00:01<00:00, 195.55it/s]\n",
      "Training Epoch 1658: 100%|██████████| 373/373 [00:01<00:00, 210.79it/s]\n",
      "Training Epoch 1659: 100%|██████████| 373/373 [00:01<00:00, 213.48it/s]\n",
      "Training Epoch 1660: 100%|██████████| 373/373 [00:01<00:00, 206.41it/s]\n",
      "Training Epoch 1661: 100%|██████████| 373/373 [00:01<00:00, 212.15it/s]\n"
     ]
    },
    {
     "name": "stdout",
     "output_type": "stream",
     "text": [
      "Epoch 1660 - Train Loss: 0.5403, Train MSE: 0.5382, Train MAE: 0.5106\n",
      "Epoch 1660 - Validation Loss: 1.2720, Validation MSE: 1.2736, Validation MAE: 0.7951\n"
     ]
    },
    {
     "name": "stderr",
     "output_type": "stream",
     "text": [
      "Training Epoch 1662: 100%|██████████| 373/373 [00:01<00:00, 211.15it/s]\n",
      "Training Epoch 1663: 100%|██████████| 373/373 [00:01<00:00, 201.73it/s]\n",
      "Training Epoch 1664: 100%|██████████| 373/373 [00:01<00:00, 201.04it/s]\n",
      "Training Epoch 1665: 100%|██████████| 373/373 [00:01<00:00, 195.83it/s]\n",
      "Training Epoch 1666: 100%|██████████| 373/373 [00:01<00:00, 207.34it/s]\n",
      "Training Epoch 1667: 100%|██████████| 373/373 [00:01<00:00, 194.16it/s]\n",
      "Training Epoch 1668: 100%|██████████| 373/373 [00:01<00:00, 209.14it/s]\n",
      "Training Epoch 1669: 100%|██████████| 373/373 [00:01<00:00, 197.08it/s]\n",
      "Training Epoch 1670: 100%|██████████| 373/373 [00:01<00:00, 205.87it/s]\n",
      "Training Epoch 1671: 100%|██████████| 373/373 [00:01<00:00, 213.00it/s]\n"
     ]
    },
    {
     "name": "stdout",
     "output_type": "stream",
     "text": [
      "Epoch 1670 - Train Loss: 0.5425, Train MSE: 0.5422, Train MAE: 0.5132\n",
      "Epoch 1670 - Validation Loss: 1.2817, Validation MSE: 1.2839, Validation MAE: 0.7971\n"
     ]
    },
    {
     "name": "stderr",
     "output_type": "stream",
     "text": [
      "Training Epoch 1672: 100%|██████████| 373/373 [00:01<00:00, 203.59it/s]\n",
      "Training Epoch 1673: 100%|██████████| 373/373 [00:01<00:00, 210.65it/s]\n",
      "Training Epoch 1674: 100%|██████████| 373/373 [00:01<00:00, 213.49it/s]\n",
      "Training Epoch 1675: 100%|██████████| 373/373 [00:01<00:00, 200.67it/s]\n",
      "Training Epoch 1676: 100%|██████████| 373/373 [00:01<00:00, 209.77it/s]\n",
      "Training Epoch 1677: 100%|██████████| 373/373 [00:01<00:00, 213.28it/s]\n",
      "Training Epoch 1678: 100%|██████████| 373/373 [00:01<00:00, 206.23it/s]\n",
      "Training Epoch 1679: 100%|██████████| 373/373 [00:01<00:00, 211.35it/s]\n",
      "Training Epoch 1680: 100%|██████████| 373/373 [00:01<00:00, 196.37it/s]\n",
      "Training Epoch 1681: 100%|██████████| 373/373 [00:01<00:00, 212.09it/s]\n"
     ]
    },
    {
     "name": "stdout",
     "output_type": "stream",
     "text": [
      "Epoch 1680 - Train Loss: 0.5448, Train MSE: 0.5461, Train MAE: 0.5142\n",
      "Epoch 1680 - Validation Loss: 1.2828, Validation MSE: 1.2842, Validation MAE: 0.7963\n"
     ]
    },
    {
     "name": "stderr",
     "output_type": "stream",
     "text": [
      "Training Epoch 1682: 100%|██████████| 373/373 [00:01<00:00, 200.35it/s]\n",
      "Training Epoch 1683: 100%|██████████| 373/373 [00:01<00:00, 201.35it/s]\n",
      "Training Epoch 1684: 100%|██████████| 373/373 [00:01<00:00, 209.13it/s]\n",
      "Training Epoch 1685: 100%|██████████| 373/373 [00:01<00:00, 212.00it/s]\n",
      "Training Epoch 1686: 100%|██████████| 373/373 [00:01<00:00, 211.94it/s]\n",
      "Training Epoch 1687: 100%|██████████| 373/373 [00:01<00:00, 213.81it/s]\n",
      "Training Epoch 1688: 100%|██████████| 373/373 [00:01<00:00, 202.94it/s]\n",
      "Training Epoch 1689: 100%|██████████| 373/373 [00:01<00:00, 219.21it/s]\n",
      "Training Epoch 1690: 100%|██████████| 373/373 [00:01<00:00, 206.59it/s]\n",
      "Training Epoch 1691: 100%|██████████| 373/373 [00:01<00:00, 199.37it/s]\n"
     ]
    },
    {
     "name": "stdout",
     "output_type": "stream",
     "text": [
      "Epoch 1690 - Train Loss: 0.5363, Train MSE: 0.5373, Train MAE: 0.5100\n",
      "Epoch 1690 - Validation Loss: 1.2850, Validation MSE: 1.2864, Validation MAE: 0.7934\n"
     ]
    },
    {
     "name": "stderr",
     "output_type": "stream",
     "text": [
      "Training Epoch 1692: 100%|██████████| 373/373 [00:01<00:00, 209.93it/s]\n",
      "Training Epoch 1693: 100%|██████████| 373/373 [00:01<00:00, 207.52it/s]\n",
      "Training Epoch 1694: 100%|██████████| 373/373 [00:01<00:00, 195.98it/s]\n",
      "Training Epoch 1695: 100%|██████████| 373/373 [00:01<00:00, 199.77it/s]\n",
      "Training Epoch 1696: 100%|██████████| 373/373 [00:01<00:00, 211.45it/s]\n",
      "Training Epoch 1697: 100%|██████████| 373/373 [00:01<00:00, 210.42it/s]\n",
      "Training Epoch 1698: 100%|██████████| 373/373 [00:01<00:00, 210.16it/s]\n",
      "Training Epoch 1699: 100%|██████████| 373/373 [00:01<00:00, 207.44it/s]\n",
      "Training Epoch 1700: 100%|██████████| 373/373 [00:01<00:00, 211.78it/s]\n",
      "Training Epoch 1701: 100%|██████████| 373/373 [00:01<00:00, 209.78it/s]\n"
     ]
    },
    {
     "name": "stdout",
     "output_type": "stream",
     "text": [
      "Epoch 1700 - Train Loss: 0.5359, Train MSE: 0.5371, Train MAE: 0.5111\n",
      "Epoch 1700 - Validation Loss: 1.2600, Validation MSE: 1.2621, Validation MAE: 0.7858\n"
     ]
    },
    {
     "name": "stderr",
     "output_type": "stream",
     "text": [
      "Training Epoch 1702: 100%|██████████| 373/373 [00:01<00:00, 218.12it/s]\n",
      "Training Epoch 1703: 100%|██████████| 373/373 [00:01<00:00, 214.01it/s]\n",
      "Training Epoch 1704: 100%|██████████| 373/373 [00:01<00:00, 210.61it/s]\n",
      "Training Epoch 1705: 100%|██████████| 373/373 [00:01<00:00, 214.30it/s]\n",
      "Training Epoch 1706: 100%|██████████| 373/373 [00:01<00:00, 211.63it/s]\n",
      "Training Epoch 1707: 100%|██████████| 373/373 [00:01<00:00, 207.43it/s]\n",
      "Training Epoch 1708: 100%|██████████| 373/373 [00:01<00:00, 214.21it/s]\n",
      "Training Epoch 1709: 100%|██████████| 373/373 [00:01<00:00, 217.82it/s]\n",
      "Training Epoch 1710: 100%|██████████| 373/373 [00:01<00:00, 210.21it/s]\n",
      "Training Epoch 1711: 100%|██████████| 373/373 [00:01<00:00, 218.16it/s]\n"
     ]
    },
    {
     "name": "stdout",
     "output_type": "stream",
     "text": [
      "Epoch 1710 - Train Loss: 0.5356, Train MSE: 0.5363, Train MAE: 0.5111\n",
      "Epoch 1710 - Validation Loss: 1.2618, Validation MSE: 1.2636, Validation MAE: 0.7869\n"
     ]
    },
    {
     "name": "stderr",
     "output_type": "stream",
     "text": [
      "Training Epoch 1712: 100%|██████████| 373/373 [00:01<00:00, 212.85it/s]\n",
      "Training Epoch 1713: 100%|██████████| 373/373 [00:01<00:00, 211.42it/s]\n",
      "Training Epoch 1714: 100%|██████████| 373/373 [00:01<00:00, 216.09it/s]\n",
      "Training Epoch 1715: 100%|██████████| 373/373 [00:01<00:00, 215.79it/s]\n",
      "Training Epoch 1716: 100%|██████████| 373/373 [00:01<00:00, 210.23it/s]\n",
      "Training Epoch 1717: 100%|██████████| 373/373 [00:01<00:00, 221.36it/s]\n",
      "Training Epoch 1718: 100%|██████████| 373/373 [00:01<00:00, 212.12it/s]\n",
      "Training Epoch 1719: 100%|██████████| 373/373 [00:01<00:00, 211.14it/s]\n",
      "Training Epoch 1720: 100%|██████████| 373/373 [00:01<00:00, 225.46it/s]\n",
      "Training Epoch 1721: 100%|██████████| 373/373 [00:01<00:00, 219.66it/s]\n"
     ]
    },
    {
     "name": "stdout",
     "output_type": "stream",
     "text": [
      "Epoch 1720 - Train Loss: 0.5313, Train MSE: 0.5324, Train MAE: 0.5119\n",
      "Epoch 1720 - Validation Loss: 1.2742, Validation MSE: 1.2762, Validation MAE: 0.7898\n"
     ]
    },
    {
     "name": "stderr",
     "output_type": "stream",
     "text": [
      "Training Epoch 1722: 100%|██████████| 373/373 [00:01<00:00, 210.35it/s]\n",
      "Training Epoch 1723: 100%|██████████| 373/373 [00:01<00:00, 219.89it/s]\n",
      "Training Epoch 1724: 100%|██████████| 373/373 [00:01<00:00, 218.32it/s]\n",
      "Training Epoch 1725: 100%|██████████| 373/373 [00:01<00:00, 214.10it/s]\n",
      "Training Epoch 1726: 100%|██████████| 373/373 [00:01<00:00, 219.44it/s]\n",
      "Training Epoch 1727: 100%|██████████| 373/373 [00:01<00:00, 217.51it/s]\n",
      "Training Epoch 1728: 100%|██████████| 373/373 [00:01<00:00, 211.92it/s]\n",
      "Training Epoch 1729: 100%|██████████| 373/373 [00:01<00:00, 207.76it/s]\n",
      "Training Epoch 1730: 100%|██████████| 373/373 [00:01<00:00, 204.37it/s]\n",
      "Training Epoch 1731: 100%|██████████| 373/373 [00:01<00:00, 202.84it/s]\n"
     ]
    },
    {
     "name": "stdout",
     "output_type": "stream",
     "text": [
      "Epoch 1730 - Train Loss: 0.5300, Train MSE: 0.5313, Train MAE: 0.5126\n",
      "Epoch 1730 - Validation Loss: 1.2705, Validation MSE: 1.2727, Validation MAE: 0.8004\n"
     ]
    },
    {
     "name": "stderr",
     "output_type": "stream",
     "text": [
      "Training Epoch 1732: 100%|██████████| 373/373 [00:01<00:00, 219.69it/s]\n",
      "Training Epoch 1733: 100%|██████████| 373/373 [00:01<00:00, 202.77it/s]\n",
      "Training Epoch 1734: 100%|██████████| 373/373 [00:01<00:00, 213.93it/s]\n",
      "Training Epoch 1735: 100%|██████████| 373/373 [00:01<00:00, 214.13it/s]\n",
      "Training Epoch 1736: 100%|██████████| 373/373 [00:01<00:00, 205.61it/s]\n",
      "Training Epoch 1737: 100%|██████████| 373/373 [00:01<00:00, 194.08it/s]\n",
      "Training Epoch 1738: 100%|██████████| 373/373 [00:01<00:00, 190.30it/s]\n",
      "Training Epoch 1739: 100%|██████████| 373/373 [00:01<00:00, 213.16it/s]\n",
      "Training Epoch 1740: 100%|██████████| 373/373 [00:01<00:00, 223.15it/s]\n",
      "Training Epoch 1741: 100%|██████████| 373/373 [00:01<00:00, 210.14it/s]\n"
     ]
    },
    {
     "name": "stdout",
     "output_type": "stream",
     "text": [
      "Epoch 1740 - Train Loss: 0.5362, Train MSE: 0.5364, Train MAE: 0.5104\n",
      "Epoch 1740 - Validation Loss: 1.2810, Validation MSE: 1.2830, Validation MAE: 0.7916\n"
     ]
    },
    {
     "name": "stderr",
     "output_type": "stream",
     "text": [
      "Training Epoch 1742: 100%|██████████| 373/373 [00:01<00:00, 211.21it/s]\n",
      "Training Epoch 1743: 100%|██████████| 373/373 [00:01<00:00, 214.64it/s]\n",
      "Training Epoch 1744: 100%|██████████| 373/373 [00:01<00:00, 208.27it/s]\n",
      "Training Epoch 1745: 100%|██████████| 373/373 [00:01<00:00, 203.50it/s]\n",
      "Training Epoch 1746: 100%|██████████| 373/373 [00:01<00:00, 205.97it/s]\n",
      "Training Epoch 1747: 100%|██████████| 373/373 [00:01<00:00, 201.75it/s]\n",
      "Training Epoch 1748: 100%|██████████| 373/373 [00:01<00:00, 206.73it/s]\n",
      "Training Epoch 1749: 100%|██████████| 373/373 [00:01<00:00, 207.81it/s]\n",
      "Training Epoch 1750: 100%|██████████| 373/373 [00:01<00:00, 200.80it/s]\n",
      "Training Epoch 1751: 100%|██████████| 373/373 [00:01<00:00, 207.89it/s]\n"
     ]
    },
    {
     "name": "stdout",
     "output_type": "stream",
     "text": [
      "Epoch 1750 - Train Loss: 0.5311, Train MSE: 0.5322, Train MAE: 0.5083\n",
      "Epoch 1750 - Validation Loss: 1.2782, Validation MSE: 1.2806, Validation MAE: 0.7947\n"
     ]
    },
    {
     "name": "stderr",
     "output_type": "stream",
     "text": [
      "Training Epoch 1752: 100%|██████████| 373/373 [00:01<00:00, 212.04it/s]\n",
      "Training Epoch 1753: 100%|██████████| 373/373 [00:01<00:00, 212.22it/s]\n",
      "Training Epoch 1754: 100%|██████████| 373/373 [00:01<00:00, 201.08it/s]\n",
      "Training Epoch 1755: 100%|██████████| 373/373 [00:01<00:00, 203.61it/s]\n",
      "Training Epoch 1756: 100%|██████████| 373/373 [00:01<00:00, 214.37it/s]\n",
      "Training Epoch 1757: 100%|██████████| 373/373 [00:01<00:00, 200.09it/s]\n",
      "Training Epoch 1758: 100%|██████████| 373/373 [00:01<00:00, 202.12it/s]\n",
      "Training Epoch 1759: 100%|██████████| 373/373 [00:01<00:00, 208.04it/s]\n",
      "Training Epoch 1760: 100%|██████████| 373/373 [00:01<00:00, 206.16it/s]\n",
      "Training Epoch 1761: 100%|██████████| 373/373 [00:01<00:00, 217.54it/s]\n"
     ]
    },
    {
     "name": "stdout",
     "output_type": "stream",
     "text": [
      "Epoch 1760 - Train Loss: 0.5320, Train MSE: 0.5315, Train MAE: 0.5084\n",
      "Epoch 1760 - Validation Loss: 1.2678, Validation MSE: 1.2698, Validation MAE: 0.7962\n"
     ]
    },
    {
     "name": "stderr",
     "output_type": "stream",
     "text": [
      "Training Epoch 1762: 100%|██████████| 373/373 [00:01<00:00, 212.92it/s]\n",
      "Training Epoch 1763: 100%|██████████| 373/373 [00:01<00:00, 204.01it/s]\n",
      "Training Epoch 1764: 100%|██████████| 373/373 [00:01<00:00, 210.32it/s]\n",
      "Training Epoch 1765: 100%|██████████| 373/373 [00:01<00:00, 197.49it/s]\n",
      "Training Epoch 1766: 100%|██████████| 373/373 [00:01<00:00, 201.31it/s]\n",
      "Training Epoch 1767: 100%|██████████| 373/373 [00:01<00:00, 206.78it/s]\n",
      "Training Epoch 1768: 100%|██████████| 373/373 [00:01<00:00, 214.01it/s]\n",
      "Training Epoch 1769: 100%|██████████| 373/373 [00:01<00:00, 192.01it/s]\n",
      "Training Epoch 1770: 100%|██████████| 373/373 [00:01<00:00, 212.63it/s]\n",
      "Training Epoch 1771: 100%|██████████| 373/373 [00:01<00:00, 215.64it/s]\n"
     ]
    },
    {
     "name": "stdout",
     "output_type": "stream",
     "text": [
      "Epoch 1770 - Train Loss: 0.5350, Train MSE: 0.5349, Train MAE: 0.5113\n",
      "Epoch 1770 - Validation Loss: 1.2562, Validation MSE: 1.2585, Validation MAE: 0.7874\n"
     ]
    },
    {
     "name": "stderr",
     "output_type": "stream",
     "text": [
      "Training Epoch 1772: 100%|██████████| 373/373 [00:01<00:00, 211.26it/s]\n",
      "Training Epoch 1773: 100%|██████████| 373/373 [00:01<00:00, 219.61it/s]\n",
      "Training Epoch 1774: 100%|██████████| 373/373 [00:01<00:00, 207.20it/s]\n",
      "Training Epoch 1775: 100%|██████████| 373/373 [00:01<00:00, 203.40it/s]\n",
      "Training Epoch 1776: 100%|██████████| 373/373 [00:01<00:00, 215.10it/s]\n",
      "Training Epoch 1777: 100%|██████████| 373/373 [00:01<00:00, 212.95it/s]\n",
      "Training Epoch 1778: 100%|██████████| 373/373 [00:01<00:00, 204.88it/s]\n",
      "Training Epoch 1779: 100%|██████████| 373/373 [00:01<00:00, 218.04it/s]\n",
      "Training Epoch 1780: 100%|██████████| 373/373 [00:01<00:00, 231.87it/s]\n",
      "Training Epoch 1781: 100%|██████████| 373/373 [00:01<00:00, 193.33it/s]\n"
     ]
    },
    {
     "name": "stdout",
     "output_type": "stream",
     "text": [
      "Epoch 1780 - Train Loss: 0.5373, Train MSE: 0.5371, Train MAE: 0.5088\n",
      "Epoch 1780 - Validation Loss: 1.2633, Validation MSE: 1.2652, Validation MAE: 0.7928\n"
     ]
    },
    {
     "name": "stderr",
     "output_type": "stream",
     "text": [
      "Training Epoch 1782: 100%|██████████| 373/373 [00:01<00:00, 209.55it/s]\n",
      "Training Epoch 1783: 100%|██████████| 373/373 [00:01<00:00, 209.54it/s]\n",
      "Training Epoch 1784: 100%|██████████| 373/373 [00:01<00:00, 208.81it/s]\n",
      "Training Epoch 1785: 100%|██████████| 373/373 [00:01<00:00, 222.89it/s]\n",
      "Training Epoch 1786: 100%|██████████| 373/373 [00:01<00:00, 206.98it/s]\n",
      "Training Epoch 1787: 100%|██████████| 373/373 [00:01<00:00, 210.01it/s]\n",
      "Training Epoch 1788: 100%|██████████| 373/373 [00:01<00:00, 213.19it/s]\n",
      "Training Epoch 1789: 100%|██████████| 373/373 [00:01<00:00, 207.13it/s]\n",
      "Training Epoch 1790: 100%|██████████| 373/373 [00:01<00:00, 207.83it/s]\n",
      "Training Epoch 1791: 100%|██████████| 373/373 [00:01<00:00, 211.33it/s]\n"
     ]
    },
    {
     "name": "stdout",
     "output_type": "stream",
     "text": [
      "Epoch 1790 - Train Loss: 0.5357, Train MSE: 0.5335, Train MAE: 0.5099\n",
      "Epoch 1790 - Validation Loss: 1.2688, Validation MSE: 1.2709, Validation MAE: 0.7910\n"
     ]
    },
    {
     "name": "stderr",
     "output_type": "stream",
     "text": [
      "Training Epoch 1792: 100%|██████████| 373/373 [00:01<00:00, 198.55it/s]\n",
      "Training Epoch 1793: 100%|██████████| 373/373 [00:01<00:00, 207.67it/s]\n",
      "Training Epoch 1794: 100%|██████████| 373/373 [00:01<00:00, 214.89it/s]\n",
      "Training Epoch 1795: 100%|██████████| 373/373 [00:01<00:00, 208.79it/s]\n",
      "Training Epoch 1796: 100%|██████████| 373/373 [00:01<00:00, 212.99it/s]\n",
      "Training Epoch 1797: 100%|██████████| 373/373 [00:01<00:00, 215.09it/s]\n",
      "Training Epoch 1798: 100%|██████████| 373/373 [00:01<00:00, 211.66it/s]\n",
      "Training Epoch 1799: 100%|██████████| 373/373 [00:01<00:00, 214.19it/s]\n",
      "Training Epoch 1800: 100%|██████████| 373/373 [00:01<00:00, 209.75it/s]\n",
      "Training Epoch 1801: 100%|██████████| 373/373 [00:01<00:00, 199.88it/s]\n"
     ]
    },
    {
     "name": "stdout",
     "output_type": "stream",
     "text": [
      "Epoch 1800 - Train Loss: 0.5414, Train MSE: 0.5426, Train MAE: 0.5116\n",
      "Epoch 1800 - Validation Loss: 1.2624, Validation MSE: 1.2646, Validation MAE: 0.7913\n"
     ]
    },
    {
     "name": "stderr",
     "output_type": "stream",
     "text": [
      "Training Epoch 1802: 100%|██████████| 373/373 [00:01<00:00, 206.90it/s]\n",
      "Training Epoch 1803: 100%|██████████| 373/373 [00:01<00:00, 203.80it/s]\n",
      "Training Epoch 1804: 100%|██████████| 373/373 [00:01<00:00, 211.76it/s]\n",
      "Training Epoch 1805: 100%|██████████| 373/373 [00:01<00:00, 220.89it/s]\n",
      "Training Epoch 1806: 100%|██████████| 373/373 [00:01<00:00, 214.95it/s]\n",
      "Training Epoch 1807: 100%|██████████| 373/373 [00:01<00:00, 215.47it/s]\n",
      "Training Epoch 1808: 100%|██████████| 373/373 [00:01<00:00, 215.75it/s]\n",
      "Training Epoch 1809: 100%|██████████| 373/373 [00:01<00:00, 208.04it/s]\n",
      "Training Epoch 1810: 100%|██████████| 373/373 [00:01<00:00, 213.97it/s]\n",
      "Training Epoch 1811: 100%|██████████| 373/373 [00:01<00:00, 216.70it/s]\n"
     ]
    },
    {
     "name": "stdout",
     "output_type": "stream",
     "text": [
      "Epoch 1810 - Train Loss: 0.5391, Train MSE: 0.5383, Train MAE: 0.5137\n",
      "Epoch 1810 - Validation Loss: 1.2645, Validation MSE: 1.2659, Validation MAE: 0.7896\n"
     ]
    },
    {
     "name": "stderr",
     "output_type": "stream",
     "text": [
      "Training Epoch 1812: 100%|██████████| 373/373 [00:01<00:00, 210.81it/s]\n",
      "Training Epoch 1813: 100%|██████████| 373/373 [00:01<00:00, 207.19it/s]\n",
      "Training Epoch 1814: 100%|██████████| 373/373 [00:01<00:00, 214.45it/s]\n",
      "Training Epoch 1815: 100%|██████████| 373/373 [00:01<00:00, 213.50it/s]\n",
      "Training Epoch 1816: 100%|██████████| 373/373 [00:01<00:00, 213.75it/s]\n",
      "Training Epoch 1817: 100%|██████████| 373/373 [00:01<00:00, 221.02it/s]\n",
      "Training Epoch 1818: 100%|██████████| 373/373 [00:01<00:00, 212.82it/s]\n",
      "Training Epoch 1819: 100%|██████████| 373/373 [00:01<00:00, 208.59it/s]\n",
      "Training Epoch 1820: 100%|██████████| 373/373 [00:01<00:00, 220.94it/s]\n",
      "Training Epoch 1821: 100%|██████████| 373/373 [00:01<00:00, 211.70it/s]\n"
     ]
    },
    {
     "name": "stdout",
     "output_type": "stream",
     "text": [
      "Epoch 1820 - Train Loss: 0.5275, Train MSE: 0.5269, Train MAE: 0.5063\n",
      "Epoch 1820 - Validation Loss: 1.2715, Validation MSE: 1.2737, Validation MAE: 0.7950\n"
     ]
    },
    {
     "name": "stderr",
     "output_type": "stream",
     "text": [
      "Training Epoch 1822: 100%|██████████| 373/373 [00:01<00:00, 208.40it/s]\n",
      "Training Epoch 1823: 100%|██████████| 373/373 [00:01<00:00, 215.50it/s]\n",
      "Training Epoch 1824: 100%|██████████| 373/373 [00:01<00:00, 214.90it/s]\n",
      "Training Epoch 1825: 100%|██████████| 373/373 [00:01<00:00, 209.30it/s]\n",
      "Training Epoch 1826: 100%|██████████| 373/373 [00:01<00:00, 207.88it/s]\n",
      "Training Epoch 1827: 100%|██████████| 373/373 [00:01<00:00, 209.04it/s]\n",
      "Training Epoch 1828: 100%|██████████| 373/373 [00:01<00:00, 208.78it/s]\n",
      "Training Epoch 1829: 100%|██████████| 373/373 [00:01<00:00, 213.43it/s]\n",
      "Training Epoch 1830: 100%|██████████| 373/373 [00:01<00:00, 209.04it/s]\n",
      "Training Epoch 1831: 100%|██████████| 373/373 [00:01<00:00, 208.12it/s]\n"
     ]
    },
    {
     "name": "stdout",
     "output_type": "stream",
     "text": [
      "Epoch 1830 - Train Loss: 0.5314, Train MSE: 0.5320, Train MAE: 0.5064\n",
      "Epoch 1830 - Validation Loss: 1.2670, Validation MSE: 1.2690, Validation MAE: 0.7868\n"
     ]
    },
    {
     "name": "stderr",
     "output_type": "stream",
     "text": [
      "Training Epoch 1832: 100%|██████████| 373/373 [00:01<00:00, 210.06it/s]\n",
      "Training Epoch 1833: 100%|██████████| 373/373 [00:01<00:00, 205.64it/s]\n",
      "Training Epoch 1834: 100%|██████████| 373/373 [00:01<00:00, 203.65it/s]\n",
      "Training Epoch 1835: 100%|██████████| 373/373 [00:01<00:00, 210.35it/s]\n",
      "Training Epoch 1836: 100%|██████████| 373/373 [00:01<00:00, 208.54it/s]\n",
      "Training Epoch 1837: 100%|██████████| 373/373 [00:01<00:00, 203.85it/s]\n",
      "Training Epoch 1838: 100%|██████████| 373/373 [00:01<00:00, 206.61it/s]\n",
      "Training Epoch 1839: 100%|██████████| 373/373 [00:01<00:00, 204.32it/s]\n",
      "Training Epoch 1840: 100%|██████████| 373/373 [00:01<00:00, 201.81it/s]\n",
      "Training Epoch 1841: 100%|██████████| 373/373 [00:01<00:00, 210.00it/s]\n"
     ]
    },
    {
     "name": "stdout",
     "output_type": "stream",
     "text": [
      "Epoch 1840 - Train Loss: 0.5330, Train MSE: 0.5342, Train MAE: 0.5104\n",
      "Epoch 1840 - Validation Loss: 1.2637, Validation MSE: 1.2650, Validation MAE: 0.7876\n"
     ]
    },
    {
     "name": "stderr",
     "output_type": "stream",
     "text": [
      "Training Epoch 1842: 100%|██████████| 373/373 [00:01<00:00, 205.64it/s]\n",
      "Training Epoch 1843: 100%|██████████| 373/373 [00:01<00:00, 206.37it/s]\n",
      "Training Epoch 1844: 100%|██████████| 373/373 [00:01<00:00, 215.11it/s]\n",
      "Training Epoch 1845: 100%|██████████| 373/373 [00:01<00:00, 206.76it/s]\n",
      "Training Epoch 1846: 100%|██████████| 373/373 [00:01<00:00, 207.82it/s]\n",
      "Training Epoch 1847: 100%|██████████| 373/373 [00:01<00:00, 215.83it/s]\n",
      "Training Epoch 1848: 100%|██████████| 373/373 [00:01<00:00, 198.95it/s]\n",
      "Training Epoch 1849: 100%|██████████| 373/373 [00:01<00:00, 201.73it/s]\n",
      "Training Epoch 1850: 100%|██████████| 373/373 [00:01<00:00, 205.96it/s]\n",
      "Training Epoch 1851: 100%|██████████| 373/373 [00:01<00:00, 201.91it/s]\n"
     ]
    },
    {
     "name": "stdout",
     "output_type": "stream",
     "text": [
      "Epoch 1850 - Train Loss: 0.5316, Train MSE: 0.5312, Train MAE: 0.5088\n",
      "Epoch 1850 - Validation Loss: 1.2578, Validation MSE: 1.2595, Validation MAE: 0.7844\n"
     ]
    },
    {
     "name": "stderr",
     "output_type": "stream",
     "text": [
      "Training Epoch 1852: 100%|██████████| 373/373 [00:01<00:00, 206.79it/s]\n",
      "Training Epoch 1853: 100%|██████████| 373/373 [00:01<00:00, 205.74it/s]\n",
      "Training Epoch 1854: 100%|██████████| 373/373 [00:01<00:00, 202.11it/s]\n",
      "Training Epoch 1855: 100%|██████████| 373/373 [00:01<00:00, 218.93it/s]\n",
      "Training Epoch 1856: 100%|██████████| 373/373 [00:01<00:00, 210.74it/s]\n",
      "Training Epoch 1857: 100%|██████████| 373/373 [00:01<00:00, 209.71it/s]\n",
      "Training Epoch 1858: 100%|██████████| 373/373 [00:01<00:00, 209.54it/s]\n",
      "Training Epoch 1859: 100%|██████████| 373/373 [00:01<00:00, 210.18it/s]\n",
      "Training Epoch 1860: 100%|██████████| 373/373 [00:01<00:00, 205.35it/s]\n",
      "Training Epoch 1861: 100%|██████████| 373/373 [00:01<00:00, 207.85it/s]\n"
     ]
    },
    {
     "name": "stdout",
     "output_type": "stream",
     "text": [
      "Epoch 1860 - Train Loss: 0.5276, Train MSE: 0.5282, Train MAE: 0.5062\n",
      "Epoch 1860 - Validation Loss: 1.2530, Validation MSE: 1.2552, Validation MAE: 0.7863\n"
     ]
    },
    {
     "name": "stderr",
     "output_type": "stream",
     "text": [
      "Training Epoch 1862: 100%|██████████| 373/373 [00:01<00:00, 204.57it/s]\n",
      "Training Epoch 1863: 100%|██████████| 373/373 [00:01<00:00, 209.81it/s]\n",
      "Training Epoch 1864: 100%|██████████| 373/373 [00:01<00:00, 212.44it/s]\n",
      "Training Epoch 1865: 100%|██████████| 373/373 [00:01<00:00, 202.83it/s]\n",
      "Training Epoch 1866: 100%|██████████| 373/373 [00:01<00:00, 205.96it/s]\n",
      "Training Epoch 1867: 100%|██████████| 373/373 [00:01<00:00, 208.55it/s]\n",
      "Training Epoch 1868: 100%|██████████| 373/373 [00:01<00:00, 207.95it/s]\n",
      "Training Epoch 1869: 100%|██████████| 373/373 [00:01<00:00, 210.82it/s]\n",
      "Training Epoch 1870: 100%|██████████| 373/373 [00:01<00:00, 200.02it/s]\n",
      "Training Epoch 1871: 100%|██████████| 373/373 [00:01<00:00, 206.99it/s]\n"
     ]
    },
    {
     "name": "stdout",
     "output_type": "stream",
     "text": [
      "Epoch 1870 - Train Loss: 0.5336, Train MSE: 0.5282, Train MAE: 0.5037\n",
      "Epoch 1870 - Validation Loss: 1.2808, Validation MSE: 1.2830, Validation MAE: 0.7942\n"
     ]
    },
    {
     "name": "stderr",
     "output_type": "stream",
     "text": [
      "Training Epoch 1872: 100%|██████████| 373/373 [00:01<00:00, 212.52it/s]\n",
      "Training Epoch 1873: 100%|██████████| 373/373 [00:01<00:00, 218.32it/s]\n",
      "Training Epoch 1874: 100%|██████████| 373/373 [00:01<00:00, 205.98it/s]\n",
      "Training Epoch 1875: 100%|██████████| 373/373 [00:01<00:00, 218.42it/s]\n",
      "Training Epoch 1876: 100%|██████████| 373/373 [00:01<00:00, 219.14it/s]\n",
      "Training Epoch 1877: 100%|██████████| 373/373 [00:01<00:00, 208.11it/s]\n",
      "Training Epoch 1878: 100%|██████████| 373/373 [00:01<00:00, 206.19it/s]\n",
      "Training Epoch 1879: 100%|██████████| 373/373 [00:01<00:00, 202.65it/s]\n",
      "Training Epoch 1880: 100%|██████████| 373/373 [00:01<00:00, 202.49it/s]\n",
      "Training Epoch 1881: 100%|██████████| 373/373 [00:01<00:00, 212.02it/s]\n"
     ]
    },
    {
     "name": "stdout",
     "output_type": "stream",
     "text": [
      "Epoch 1880 - Train Loss: 0.5324, Train MSE: 0.5321, Train MAE: 0.5032\n",
      "Epoch 1880 - Validation Loss: 1.2493, Validation MSE: 1.2516, Validation MAE: 0.7900\n"
     ]
    },
    {
     "name": "stderr",
     "output_type": "stream",
     "text": [
      "Training Epoch 1882: 100%|██████████| 373/373 [00:01<00:00, 202.80it/s]\n",
      "Training Epoch 1883: 100%|██████████| 373/373 [00:01<00:00, 206.36it/s]\n",
      "Training Epoch 1884: 100%|██████████| 373/373 [00:01<00:00, 208.30it/s]\n",
      "Training Epoch 1885: 100%|██████████| 373/373 [00:01<00:00, 192.25it/s]\n",
      "Training Epoch 1886: 100%|██████████| 373/373 [00:01<00:00, 198.05it/s]\n",
      "Training Epoch 1887: 100%|██████████| 373/373 [00:01<00:00, 220.46it/s]\n",
      "Training Epoch 1888: 100%|██████████| 373/373 [00:01<00:00, 210.13it/s]\n",
      "Training Epoch 1889: 100%|██████████| 373/373 [00:01<00:00, 210.76it/s]\n",
      "Training Epoch 1890: 100%|██████████| 373/373 [00:01<00:00, 212.14it/s]\n",
      "Training Epoch 1891: 100%|██████████| 373/373 [00:01<00:00, 204.79it/s]\n"
     ]
    },
    {
     "name": "stdout",
     "output_type": "stream",
     "text": [
      "Epoch 1890 - Train Loss: 0.5273, Train MSE: 0.5284, Train MAE: 0.5024\n",
      "Epoch 1890 - Validation Loss: 1.2439, Validation MSE: 1.2455, Validation MAE: 0.7855\n"
     ]
    },
    {
     "name": "stderr",
     "output_type": "stream",
     "text": [
      "Training Epoch 1892: 100%|██████████| 373/373 [00:01<00:00, 212.40it/s]\n",
      "Training Epoch 1893: 100%|██████████| 373/373 [00:01<00:00, 208.16it/s]\n",
      "Training Epoch 1894: 100%|██████████| 373/373 [00:01<00:00, 209.53it/s]\n",
      "Training Epoch 1895: 100%|██████████| 373/373 [00:01<00:00, 208.51it/s]\n",
      "Training Epoch 1896: 100%|██████████| 373/373 [00:01<00:00, 203.77it/s]\n",
      "Training Epoch 1897: 100%|██████████| 373/373 [00:01<00:00, 219.27it/s]\n",
      "Training Epoch 1898: 100%|██████████| 373/373 [00:01<00:00, 214.00it/s]\n",
      "Training Epoch 1899: 100%|██████████| 373/373 [00:01<00:00, 208.54it/s]\n",
      "Training Epoch 1900: 100%|██████████| 373/373 [00:01<00:00, 194.73it/s]\n",
      "Training Epoch 1901: 100%|██████████| 373/373 [00:01<00:00, 213.21it/s]\n"
     ]
    },
    {
     "name": "stdout",
     "output_type": "stream",
     "text": [
      "Epoch 1900 - Train Loss: 0.5210, Train MSE: 0.5214, Train MAE: 0.5026\n",
      "Epoch 1900 - Validation Loss: 1.2829, Validation MSE: 1.2847, Validation MAE: 0.7887\n"
     ]
    },
    {
     "name": "stderr",
     "output_type": "stream",
     "text": [
      "Training Epoch 1902: 100%|██████████| 373/373 [00:01<00:00, 218.19it/s]\n",
      "Training Epoch 1903: 100%|██████████| 373/373 [00:01<00:00, 199.44it/s]\n",
      "Training Epoch 1904: 100%|██████████| 373/373 [00:01<00:00, 191.58it/s]\n",
      "Training Epoch 1905: 100%|██████████| 373/373 [00:01<00:00, 217.11it/s]\n",
      "Training Epoch 1906: 100%|██████████| 373/373 [00:01<00:00, 206.68it/s]\n",
      "Training Epoch 1907: 100%|██████████| 373/373 [00:01<00:00, 194.70it/s]\n",
      "Training Epoch 1908: 100%|██████████| 373/373 [00:01<00:00, 214.21it/s]\n",
      "Training Epoch 1909: 100%|██████████| 373/373 [00:01<00:00, 208.41it/s]\n",
      "Training Epoch 1910: 100%|██████████| 373/373 [00:01<00:00, 221.01it/s]\n",
      "Training Epoch 1911: 100%|██████████| 373/373 [00:01<00:00, 215.58it/s]\n"
     ]
    },
    {
     "name": "stdout",
     "output_type": "stream",
     "text": [
      "Epoch 1910 - Train Loss: 0.5307, Train MSE: 0.5319, Train MAE: 0.5071\n",
      "Epoch 1910 - Validation Loss: 1.2761, Validation MSE: 1.2780, Validation MAE: 0.7950\n"
     ]
    },
    {
     "name": "stderr",
     "output_type": "stream",
     "text": [
      "Training Epoch 1912: 100%|██████████| 373/373 [00:01<00:00, 207.70it/s]\n",
      "Training Epoch 1913: 100%|██████████| 373/373 [00:01<00:00, 221.37it/s]\n",
      "Training Epoch 1914: 100%|██████████| 373/373 [00:01<00:00, 206.70it/s]\n",
      "Training Epoch 1915: 100%|██████████| 373/373 [00:01<00:00, 209.55it/s]\n",
      "Training Epoch 1916: 100%|██████████| 373/373 [00:01<00:00, 211.27it/s]\n",
      "Training Epoch 1917: 100%|██████████| 373/373 [00:01<00:00, 208.51it/s]\n",
      "Training Epoch 1918: 100%|██████████| 373/373 [00:01<00:00, 209.25it/s]\n",
      "Training Epoch 1919: 100%|██████████| 373/373 [00:01<00:00, 201.73it/s]\n",
      "Training Epoch 1920: 100%|██████████| 373/373 [00:01<00:00, 205.18it/s]\n",
      "Training Epoch 1921: 100%|██████████| 373/373 [00:01<00:00, 210.14it/s]\n"
     ]
    },
    {
     "name": "stdout",
     "output_type": "stream",
     "text": [
      "Epoch 1920 - Train Loss: 0.5255, Train MSE: 0.5265, Train MAE: 0.5030\n",
      "Epoch 1920 - Validation Loss: 1.2690, Validation MSE: 1.2710, Validation MAE: 0.7884\n"
     ]
    },
    {
     "name": "stderr",
     "output_type": "stream",
     "text": [
      "Training Epoch 1922: 100%|██████████| 373/373 [00:01<00:00, 208.61it/s]\n",
      "Training Epoch 1923: 100%|██████████| 373/373 [00:01<00:00, 216.46it/s]\n",
      "Training Epoch 1924: 100%|██████████| 373/373 [00:01<00:00, 209.93it/s]\n",
      "Training Epoch 1925: 100%|██████████| 373/373 [00:01<00:00, 212.77it/s]\n",
      "Training Epoch 1926: 100%|██████████| 373/373 [00:01<00:00, 210.86it/s]\n",
      "Training Epoch 1927: 100%|██████████| 373/373 [00:01<00:00, 216.40it/s]\n",
      "Training Epoch 1928: 100%|██████████| 373/373 [00:01<00:00, 202.94it/s]\n",
      "Training Epoch 1929: 100%|██████████| 373/373 [00:01<00:00, 194.42it/s]\n",
      "Training Epoch 1930: 100%|██████████| 373/373 [00:01<00:00, 200.69it/s]\n",
      "Training Epoch 1931: 100%|██████████| 373/373 [00:01<00:00, 197.06it/s]\n"
     ]
    },
    {
     "name": "stdout",
     "output_type": "stream",
     "text": [
      "Epoch 1930 - Train Loss: 0.5284, Train MSE: 0.5296, Train MAE: 0.5067\n",
      "Epoch 1930 - Validation Loss: 1.2704, Validation MSE: 1.2721, Validation MAE: 0.7960\n"
     ]
    },
    {
     "name": "stderr",
     "output_type": "stream",
     "text": [
      "Training Epoch 1932: 100%|██████████| 373/373 [00:01<00:00, 199.32it/s]\n",
      "Training Epoch 1933: 100%|██████████| 373/373 [00:01<00:00, 198.24it/s]\n",
      "Training Epoch 1934: 100%|██████████| 373/373 [00:01<00:00, 198.93it/s]\n",
      "Training Epoch 1935: 100%|██████████| 373/373 [00:01<00:00, 193.63it/s]\n",
      "Training Epoch 1936: 100%|██████████| 373/373 [00:01<00:00, 199.94it/s]\n",
      "Training Epoch 1937: 100%|██████████| 373/373 [00:01<00:00, 198.14it/s]\n",
      "Training Epoch 1938: 100%|██████████| 373/373 [00:01<00:00, 198.83it/s]\n",
      "Training Epoch 1939: 100%|██████████| 373/373 [00:01<00:00, 194.29it/s]\n",
      "Training Epoch 1940: 100%|██████████| 373/373 [00:01<00:00, 200.78it/s]\n",
      "Training Epoch 1941: 100%|██████████| 373/373 [00:01<00:00, 211.53it/s]\n"
     ]
    },
    {
     "name": "stdout",
     "output_type": "stream",
     "text": [
      "Epoch 1940 - Train Loss: 0.5304, Train MSE: 0.5277, Train MAE: 0.5023\n",
      "Epoch 1940 - Validation Loss: 1.2743, Validation MSE: 1.2762, Validation MAE: 0.7915\n"
     ]
    },
    {
     "name": "stderr",
     "output_type": "stream",
     "text": [
      "Training Epoch 1942: 100%|██████████| 373/373 [00:01<00:00, 197.39it/s]\n",
      "Training Epoch 1943: 100%|██████████| 373/373 [00:01<00:00, 200.55it/s]\n",
      "Training Epoch 1944: 100%|██████████| 373/373 [00:01<00:00, 200.65it/s]\n",
      "Training Epoch 1945: 100%|██████████| 373/373 [00:01<00:00, 208.93it/s]\n",
      "Training Epoch 1946: 100%|██████████| 373/373 [00:01<00:00, 195.85it/s]\n",
      "Training Epoch 1947: 100%|██████████| 373/373 [00:01<00:00, 196.93it/s]\n",
      "Training Epoch 1948: 100%|██████████| 373/373 [00:01<00:00, 205.79it/s]\n",
      "Training Epoch 1949: 100%|██████████| 373/373 [00:01<00:00, 199.38it/s]\n",
      "Training Epoch 1950: 100%|██████████| 373/373 [00:01<00:00, 202.01it/s]\n",
      "Training Epoch 1951: 100%|██████████| 373/373 [00:01<00:00, 192.12it/s]\n"
     ]
    },
    {
     "name": "stdout",
     "output_type": "stream",
     "text": [
      "Epoch 1950 - Train Loss: 0.5247, Train MSE: 0.5258, Train MAE: 0.5018\n",
      "Epoch 1950 - Validation Loss: 1.2878, Validation MSE: 1.2897, Validation MAE: 0.7989\n"
     ]
    },
    {
     "name": "stderr",
     "output_type": "stream",
     "text": [
      "Training Epoch 1952: 100%|██████████| 373/373 [00:01<00:00, 202.31it/s]\n",
      "Training Epoch 1953: 100%|██████████| 373/373 [00:01<00:00, 186.52it/s]\n",
      "Training Epoch 1954: 100%|██████████| 373/373 [00:01<00:00, 190.15it/s]\n",
      "Training Epoch 1955: 100%|██████████| 373/373 [00:01<00:00, 205.26it/s]\n",
      "Training Epoch 1956: 100%|██████████| 373/373 [00:01<00:00, 207.30it/s]\n",
      "Training Epoch 1957: 100%|██████████| 373/373 [00:01<00:00, 211.50it/s]\n",
      "Training Epoch 1958: 100%|██████████| 373/373 [00:01<00:00, 205.61it/s]\n",
      "Training Epoch 1959: 100%|██████████| 373/373 [00:01<00:00, 205.87it/s]\n",
      "Training Epoch 1960: 100%|██████████| 373/373 [00:01<00:00, 214.83it/s]\n",
      "Training Epoch 1961: 100%|██████████| 373/373 [00:01<00:00, 204.18it/s]\n"
     ]
    },
    {
     "name": "stdout",
     "output_type": "stream",
     "text": [
      "Epoch 1960 - Train Loss: 0.5224, Train MSE: 0.5234, Train MAE: 0.5035\n",
      "Epoch 1960 - Validation Loss: 1.2853, Validation MSE: 1.2870, Validation MAE: 0.7908\n"
     ]
    },
    {
     "name": "stderr",
     "output_type": "stream",
     "text": [
      "Training Epoch 1962: 100%|██████████| 373/373 [00:01<00:00, 213.59it/s]\n",
      "Training Epoch 1963: 100%|██████████| 373/373 [00:01<00:00, 209.87it/s]\n",
      "Training Epoch 1964: 100%|██████████| 373/373 [00:01<00:00, 208.73it/s]\n",
      "Training Epoch 1965: 100%|██████████| 373/373 [00:01<00:00, 202.12it/s]\n",
      "Training Epoch 1966: 100%|██████████| 373/373 [00:01<00:00, 201.08it/s]\n",
      "Training Epoch 1967: 100%|██████████| 373/373 [00:01<00:00, 204.88it/s]\n",
      "Training Epoch 1968: 100%|██████████| 373/373 [00:01<00:00, 207.28it/s]\n",
      "Training Epoch 1969: 100%|██████████| 373/373 [00:01<00:00, 211.21it/s]\n",
      "Training Epoch 1970: 100%|██████████| 373/373 [00:01<00:00, 211.73it/s]\n",
      "Training Epoch 1971: 100%|██████████| 373/373 [00:01<00:00, 215.65it/s]\n"
     ]
    },
    {
     "name": "stdout",
     "output_type": "stream",
     "text": [
      "Epoch 1970 - Train Loss: 0.5290, Train MSE: 0.5289, Train MAE: 0.5061\n",
      "Epoch 1970 - Validation Loss: 1.2653, Validation MSE: 1.2675, Validation MAE: 0.7960\n"
     ]
    },
    {
     "name": "stderr",
     "output_type": "stream",
     "text": [
      "Training Epoch 1972: 100%|██████████| 373/373 [00:01<00:00, 220.85it/s]\n",
      "Training Epoch 1973: 100%|██████████| 373/373 [00:01<00:00, 214.21it/s]\n",
      "Training Epoch 1974: 100%|██████████| 373/373 [00:01<00:00, 214.29it/s]\n",
      "Training Epoch 1975: 100%|██████████| 373/373 [00:01<00:00, 216.53it/s]\n",
      "Training Epoch 1976: 100%|██████████| 373/373 [00:01<00:00, 215.56it/s]\n",
      "Training Epoch 1977: 100%|██████████| 373/373 [00:01<00:00, 213.92it/s]\n",
      "Training Epoch 1978: 100%|██████████| 373/373 [00:01<00:00, 216.13it/s]\n",
      "Training Epoch 1979: 100%|██████████| 373/373 [00:01<00:00, 208.97it/s]\n",
      "Training Epoch 1980: 100%|██████████| 373/373 [00:01<00:00, 218.65it/s]\n",
      "Training Epoch 1981: 100%|██████████| 373/373 [00:01<00:00, 216.18it/s]\n"
     ]
    },
    {
     "name": "stdout",
     "output_type": "stream",
     "text": [
      "Epoch 1980 - Train Loss: 0.5349, Train MSE: 0.5361, Train MAE: 0.5049\n",
      "Epoch 1980 - Validation Loss: 1.2795, Validation MSE: 1.2817, Validation MAE: 0.8008\n"
     ]
    },
    {
     "name": "stderr",
     "output_type": "stream",
     "text": [
      "Training Epoch 1982: 100%|██████████| 373/373 [00:01<00:00, 214.92it/s]\n",
      "Training Epoch 1983: 100%|██████████| 373/373 [00:01<00:00, 200.83it/s]\n",
      "Training Epoch 1984: 100%|██████████| 373/373 [00:01<00:00, 204.62it/s]\n",
      "Training Epoch 1985: 100%|██████████| 373/373 [00:01<00:00, 202.76it/s]\n",
      "Training Epoch 1986: 100%|██████████| 373/373 [00:01<00:00, 201.31it/s]\n",
      "Training Epoch 1987: 100%|██████████| 373/373 [00:01<00:00, 199.21it/s]\n",
      "Training Epoch 1988: 100%|██████████| 373/373 [00:01<00:00, 210.24it/s]\n",
      "Training Epoch 1989: 100%|██████████| 373/373 [00:01<00:00, 201.85it/s]\n",
      "Training Epoch 1990: 100%|██████████| 373/373 [00:01<00:00, 201.79it/s]\n",
      "Training Epoch 1991: 100%|██████████| 373/373 [00:01<00:00, 198.26it/s]\n"
     ]
    },
    {
     "name": "stdout",
     "output_type": "stream",
     "text": [
      "Epoch 1990 - Train Loss: 0.5336, Train MSE: 0.5340, Train MAE: 0.5074\n",
      "Epoch 1990 - Validation Loss: 1.2726, Validation MSE: 1.2742, Validation MAE: 0.7921\n"
     ]
    },
    {
     "name": "stderr",
     "output_type": "stream",
     "text": [
      "Training Epoch 1992: 100%|██████████| 373/373 [00:01<00:00, 193.14it/s]\n",
      "Training Epoch 1993: 100%|██████████| 373/373 [00:01<00:00, 206.75it/s]\n",
      "Training Epoch 1994: 100%|██████████| 373/373 [00:01<00:00, 205.57it/s]\n",
      "Training Epoch 1995: 100%|██████████| 373/373 [00:01<00:00, 205.15it/s]\n",
      "Training Epoch 1996: 100%|██████████| 373/373 [00:01<00:00, 202.06it/s]\n",
      "Training Epoch 1997: 100%|██████████| 373/373 [00:01<00:00, 204.53it/s]\n",
      "Training Epoch 1998: 100%|██████████| 373/373 [00:01<00:00, 208.24it/s]\n",
      "Training Epoch 1999: 100%|██████████| 373/373 [00:01<00:00, 213.40it/s]\n",
      "Training Epoch 2000: 100%|██████████| 373/373 [00:01<00:00, 206.46it/s]\n"
     ]
    },
    {
     "name": "stdout",
     "output_type": "stream",
     "text": [
      "Test MSE: 1.3125, Test MAE: 0.8080\n"
     ]
    }
   ],
   "source": [
    "import torch\n",
    "import torch.nn as nn\n",
    "import torch.optim as optim\n",
    "from tqdm import tqdm\n",
    "import pandas as pd\n",
    "from sklearn.metrics import r2_score, median_absolute_error, explained_variance_score\n",
    "from scipy.stats import pearsonr\n",
    "\n",
    "train_history = pd.DataFrame(\n",
    "    columns=[\n",
    "        \"epoch\",\n",
    "        \"Train Loss\",\n",
    "        \"Train MSE\",\n",
    "        \"Train MAE\",\n",
    "        \"Train RMSE\",\n",
    "        \"Train R2\",\n",
    "        \"Train Pearson\",\n",
    "        \"Train Median_AE\",\n",
    "        \"Train Explained_VAR\" \"Val Loss\",\n",
    "        \"Val MSE\",\n",
    "        \"Val MAE\",\n",
    "        \"Val RMSE\",\n",
    "        \"Val R2\",\n",
    "        \"Val Pearson\",\n",
    "        \"Val Median_AE\",\n",
    "        \"Val Explained_VAR\",\n",
    "    ]\n",
    ")\n",
    "# Verify feature dimensions\n",
    "for batch in train_loader:\n",
    "    mol_input_dim = batch[\"metabolite_features\"].shape[\n",
    "        1\n",
    "    ]  # Dynamically determine mol input dimension\n",
    "    protein_input_dim = batch[\"protein_features\"].shape[\n",
    "        1\n",
    "    ]  # Dynamically determine protein input dimension\n",
    "    break\n",
    "\n",
    "# Initialize model, optimizer, and loss function\n",
    "num_timesteps = 10\n",
    "model = DiffusionGenerativeModel(\n",
    "    mol_input_dim=mol_input_dim,\n",
    "    protein_input_dim=protein_input_dim,\n",
    "    hidden_dim=512,\n",
    "    num_timesteps=num_timesteps,\n",
    ")\n",
    "model = model.to(device)\n",
    "optimizer = optim.Adam(model.parameters(), lr=0.0001)\n",
    "criterion = nn.MSELoss()\n",
    "\n",
    "# Training and Validation Loop\n",
    "for epoch in range(2000):\n",
    "    model.train()\n",
    "    total_loss = 0.0\n",
    "    val_total_loss = 0.0\n",
    "    train_predictions, train_labels = [], []\n",
    "\n",
    "    for batch in tqdm(train_loader, desc=f\"Training Epoch {epoch + 1}\"):\n",
    "        mol_features = batch[\"metabolite_features\"].to(device)\n",
    "        protein_features = batch[\"protein_features\"].to(device)\n",
    "        labels = batch[\"label\"].to(device)\n",
    "\n",
    "        # Add noise to the features\n",
    "        noisy_mol_features = model.add_noise(mol_features, noise_level=0.1)\n",
    "        noisy_protein_features = model.add_noise(protein_features, noise_level=0.1)\n",
    "\n",
    "        optimizer.zero_grad()\n",
    "        outputs = model(\n",
    "            noisy_mol_features,\n",
    "            noisy_protein_features,\n",
    "            torch.randint(0, num_timesteps, (mol_features.size(0),)).to(device),\n",
    "        ).squeeze()\n",
    "        loss = criterion(outputs, labels)\n",
    "        loss.backward()\n",
    "        optimizer.step()\n",
    "        total_loss += loss.item()\n",
    "\n",
    "        # Store predictions and labels for metrics\n",
    "        train_predictions.extend(outputs.detach().cpu().numpy())\n",
    "        train_labels.extend(labels.cpu().numpy())\n",
    "\n",
    "    # Calculate training metrics\n",
    "    train_mse = (\n",
    "        ((torch.tensor(train_predictions) - torch.tensor(train_labels)) ** 2)\n",
    "        .mean()\n",
    "        .item()\n",
    "    )\n",
    "    train_mae = (\n",
    "        torch.abs(torch.tensor(train_predictions) - torch.tensor(train_labels))\n",
    "        .mean()\n",
    "        .item()\n",
    "    )\n",
    "    train_rmse = (\n",
    "        torch.sqrt((torch.tensor(train_predictions) - torch.tensor(train_labels)) ** 2)\n",
    "        .mean()\n",
    "        .item()\n",
    "    )\n",
    "    train_r2 = r2_score(np.array(train_labels), np.array(train_predictions))\n",
    "    train_pearson_corr, _ = pearsonr(\n",
    "        np.array(train_labels), np.array(train_predictions)\n",
    "    )\n",
    "    train_median_ae = median_absolute_error(\n",
    "        np.array(train_labels), np.array(train_predictions)\n",
    "    )\n",
    "    train_explained_var = explained_variance_score(\n",
    "        np.array(train_labels), np.array(train_predictions)\n",
    "    )\n",
    "\n",
    "    if epoch % 10 == 0:\n",
    "        print(\n",
    "            f\"Epoch {epoch} - Train Loss: {total_loss / len(train_loader):.4f}, Train MSE: {train_mse:.4f}, Train MAE: {train_mae:.4f}\"\n",
    "        )\n",
    "\n",
    "    # Validation\n",
    "    model.eval()\n",
    "    val_predictions, val_labels = [], []\n",
    "    with torch.no_grad():\n",
    "        for batch in val_loader:\n",
    "            mol_features = batch[\"metabolite_features\"].to(device)\n",
    "            protein_features = batch[\"protein_features\"].to(device)\n",
    "            labels = batch[\"label\"].to(device)\n",
    "\n",
    "            # Add noise to the features\n",
    "            noisy_mol_features = model.add_noise(mol_features, noise_level=0.1)\n",
    "            noisy_protein_features = model.add_noise(protein_features, noise_level=0.1)\n",
    "\n",
    "            outputs = model(\n",
    "                noisy_mol_features,\n",
    "                noisy_protein_features,\n",
    "                torch.randint(0, num_timesteps, (mol_features.size(0),)).to(device),\n",
    "            ).squeeze()\n",
    "            val_predictions.extend(outputs.cpu().numpy())\n",
    "            val_labels.extend(labels.cpu().numpy())\n",
    "            val_loss = criterion(outputs, labels)\n",
    "            val_total_loss += val_loss.item()\n",
    "\n",
    "    val_mse = (\n",
    "        ((torch.tensor(val_predictions) - torch.tensor(val_labels)) ** 2).mean().item()\n",
    "    )\n",
    "    val_mae = (\n",
    "        torch.abs(torch.tensor(val_predictions) - torch.tensor(val_labels))\n",
    "        .mean()\n",
    "        .item()\n",
    "    )\n",
    "    val_rmse = (\n",
    "        torch.sqrt((torch.tensor(val_predictions) - torch.tensor(val_labels)) ** 2)\n",
    "        .mean()\n",
    "        .item()\n",
    "    )\n",
    "    val_r2 = r2_score(np.array(val_labels), np.array(val_predictions))\n",
    "    val_pearson_corr, _ = pearsonr(np.array(val_labels), np.array(val_predictions))\n",
    "    val_median_ae = median_absolute_error(\n",
    "        np.array(val_labels), np.array(val_predictions)\n",
    "    )\n",
    "    val_explained_var = explained_variance_score(\n",
    "        np.array(val_labels), np.array(val_predictions)\n",
    "    )\n",
    "\n",
    "    if epoch % 10 == 0:\n",
    "        print(\n",
    "            f\"Epoch {epoch} - Validation Loss: {val_total_loss / len(val_loader):.4f}, Validation MSE: {val_mse:.4f}, Validation MAE: {val_mae:.4f}\"\n",
    "        )\n",
    "\n",
    "    # Save metrics to DataFrame\n",
    "    new_row = {\n",
    "        \"epoch\": epoch + 1,\n",
    "        \"Train Loss\": total_loss / len(train_loader),\n",
    "        \"Train MSE\": train_mse,\n",
    "        \"Train MAE\": train_mae,\n",
    "        \"Train RMSE\": train_rmse,\n",
    "        \"Train R2\": train_r2,\n",
    "        \"Train Pearson\": train_pearson_corr,\n",
    "        \"Train Median_AE\": train_median_ae,\n",
    "        \"Train Explained_VAR\": train_explained_var,\n",
    "        \"Val Loss\": val_total_loss / len(val_loader),\n",
    "        \"Val MSE\": val_mse,\n",
    "        \"Val MAE\": val_mae,\n",
    "        \"Val RMSE\": val_rmse,\n",
    "        \"Val R2\": val_r2,\n",
    "        \"Val Pearson\": val_pearson_corr,\n",
    "        \"Val Median_AE\": val_median_ae,\n",
    "        \"Val Explained_VAR\": val_explained_var,\n",
    "    }\n",
    "    train_history = pd.concat(\n",
    "        [train_history, pd.DataFrame([new_row])], ignore_index=True\n",
    "    )\n",
    "\n",
    "# Test Metrics\n",
    "model.eval()\n",
    "test_predictions, test_labels = [], []\n",
    "with torch.no_grad():\n",
    "    for batch in test_loader:\n",
    "        mol_features = batch[\"metabolite_features\"].to(device)\n",
    "        protein_features = batch[\"protein_features\"].to(device)\n",
    "        labels = batch[\"label\"].to(device)\n",
    "\n",
    "        # Add noise to the features\n",
    "        noisy_mol_features = model.add_noise(mol_features, noise_level=0.1)\n",
    "        noisy_protein_features = model.add_noise(protein_features, noise_level=0.1)\n",
    "\n",
    "        outputs = model(\n",
    "            noisy_mol_features,\n",
    "            noisy_protein_features,\n",
    "            torch.randint(0, num_timesteps, (mol_features.size(0),)).to(device),\n",
    "        ).squeeze()\n",
    "        test_predictions.extend(outputs.cpu().numpy())\n",
    "        test_labels.extend(labels.cpu().numpy())\n",
    "\n",
    "test_mse = (\n",
    "    ((torch.tensor(test_predictions) - torch.tensor(test_labels)) ** 2).mean().item()\n",
    ")\n",
    "test_mae = (\n",
    "    torch.abs(torch.tensor(test_predictions) - torch.tensor(test_labels)).mean().item()\n",
    ")\n",
    "test_rmse = (\n",
    "    torch.sqrt((torch.tensor(test_predictions) - torch.tensor(test_labels)) ** 2)\n",
    "    .mean()\n",
    "    .item()\n",
    ")\n",
    "test_r2 = r2_score(np.array(test_labels), np.array(test_predictions))\n",
    "test_pearson_corr, _ = pearsonr(np.array(test_labels), np.array(test_predictions))\n",
    "test_median_ae = median_absolute_error(\n",
    "    np.array(test_labels), np.array(test_predictions)\n",
    ")\n",
    "test_explained_var = explained_variance_score(\n",
    "    np.array(test_labels), np.array(test_predictions)\n",
    ")\n",
    "print(f\"Test MSE: {test_mse:.4f}, Test MAE: {test_mae:.4f}\")"
   ]
  },
  {
   "cell_type": "code",
   "execution_count": null,
   "metadata": {},
   "outputs": [],
   "source": [
    "# append the performance to the csv file\n",
    "df = {\n",
    "    \"Model\": [\"Diffusion Model\", \"Diffusion Model\", \"Diffusion Model\"],\n",
    "    \"Dataset\": [\"Train\", \"Validation\", \"Test\"],\n",
    "    \"MSE\": [\n",
    "        train_history[\"Train MSE\"].mean(),\n",
    "        train_history[\"Val MSE\"].mean(),\n",
    "        test_mse,\n",
    "    ],\n",
    "    \"RMSE\": [\n",
    "        train_history[\"Train RMSE\"].mean(),\n",
    "        train_history[\"Val RMSE\"].mean(),\n",
    "        test_rmse,\n",
    "    ],\n",
    "    \"MAE\": [\n",
    "        train_history[\"Train MAE\"].mean(),\n",
    "        train_history[\"Val MAE\"].mean(),\n",
    "        test_mae,\n",
    "    ],\n",
    "    \"R2\": [train_history[\"Train R2\"].mean(), train_history[\"Val R2\"].mean(), test_r2],\n",
    "    \"Pearson\": [\n",
    "        train_history[\"Train Pearson\"].mean(),\n",
    "        train_history[\"Val Pearson\"].mean(),\n",
    "        test_pearson_corr,\n",
    "    ],\n",
    "    \"Median_AE\": [\n",
    "        train_history[\"Train Median_AE\"].mean(),\n",
    "        train_history[\"Val Median_AE\"].mean(),\n",
    "        test_median_ae,\n",
    "    ],\n",
    "    \"Explained_VAR\": [\n",
    "        train_history[\"Train Explained_VAR\"].mean(),\n",
    "        train_history[\"Val Explained_VAR\"].mean(),\n",
    "        test_explained_var,\n",
    "    ],\n",
    "    \"Dataspliting Mode\": [\"random\", \"random\", \"random\"],\n",
    "}\n",
    "df = pd.DataFrame(df)\n",
    "\n",
    "df.to_csv(\n",
    "    \"/Users/pinchichen/2025S lab/AI drug project/code/model performance metrics.csv\",\n",
    "    mode=\"a\",\n",
    "    header=False,\n",
    ")"
   ]
  },
  {
   "cell_type": "code",
   "execution_count": null,
   "metadata": {},
   "outputs": [],
   "source": [
    "# Save the model and training history\n",
    "save_dir = \"./trained_model\"\n",
    "# save model weights and optimizer state\n",
    "torch.save(model.state_dict(), os.path.join(save_dir, \"Diffusion model.pt\"))\n",
    "torch.save(\n",
    "    optimizer.state_dict(), os.path.join(save_dir, \"Diffusion model optimizer.pt\")\n",
    ")"
   ]
  },
  {
   "cell_type": "code",
   "execution_count": null,
   "metadata": {},
   "outputs": [
    {
     "data": {
      "image/png": "[encoded data removed]",
      "text/plain": [
       "<Figure size 1000x600 with 1 Axes>"
      ]
     },
     "metadata": {},
     "output_type": "display_data"
    }
   ],
   "source": [
    "import matplotlib.pyplot as plt\n",
    "import seaborn as sns\n",
    "\n",
    "sns.set(style=\"ticks\")\n",
    "# Load metrics\n",
    "\n",
    "metrics = train_history\n",
    "\n",
    "# Plot the training loss over epochs using seaborn\n",
    "plt.figure(figsize=(10, 6))\n",
    "# sns.lineplot(data=metrics, x='epoch', y='Train Loss', label='Train Loss')\n",
    "# sns.lineplot(data=metrics, x='epoch', y='Val Loss', label='Val Loss')\n",
    "sns.lineplot(data=metrics, x=\"epoch\", y=\"Val MSE\", label=\"Valid_RMSE\")\n",
    "sns.lineplot(data=metrics, x=\"epoch\", y=\"Train MSE\", label=\"Train_RMSE\")\n",
    "# sns.lineplot(data=metrics, x='Epoch', y='Valid_MAE', label='Valid_MAE')\n",
    "# Add titles and labels\n",
    "plt.title(\"Training and Validation Metrics Over Epochs\", fontsize=14)\n",
    "# Define the range of tick positions\n",
    "plt.xlabel(\"Epoch\", fontsize=12)\n",
    "plt.ylabel(\"Loss\", fontsize=12)\n",
    "plt.grid(False)\n",
    "# Show the plot\n",
    "plt.show()"
   ]
  },
  {
   "cell_type": "code",
   "execution_count": 20,
   "metadata": {},
   "outputs": [
    {
     "data": {
      "text/html": [
       "<div>\n",
       "<style scoped>\n",
       "    .dataframe tbody tr th:only-of-type {\n",
       "        vertical-align: middle;\n",
       "    }\n",
       "\n",
       "    .dataframe tbody tr th {\n",
       "        vertical-align: top;\n",
       "    }\n",
       "\n",
       "    .dataframe thead th {\n",
       "        text-align: right;\n",
       "    }\n",
       "</style>\n",
       "<table border=\"1\" class=\"dataframe\">\n",
       "  <thead>\n",
       "    <tr style=\"text-align: right;\">\n",
       "      <th></th>\n",
       "      <th>epoch</th>\n",
       "      <th>Train Loss</th>\n",
       "      <th>Train MSE</th>\n",
       "      <th>Train MAE</th>\n",
       "      <th>Train RMSE</th>\n",
       "      <th>Train R2</th>\n",
       "      <th>Train Pearson</th>\n",
       "      <th>Train Median_AE</th>\n",
       "      <th>Train Explained_VARVal Loss</th>\n",
       "      <th>Val MSE</th>\n",
       "      <th>Val MAE</th>\n",
       "      <th>Val RMSE</th>\n",
       "      <th>Val R2</th>\n",
       "      <th>Val Pearson</th>\n",
       "      <th>Val Median_AE</th>\n",
       "      <th>Val Explained_VAR</th>\n",
       "      <th>Train Explained_VAR</th>\n",
       "      <th>Val Loss</th>\n",
       "    </tr>\n",
       "  </thead>\n",
       "  <tbody>\n",
       "    <tr>\n",
       "      <th>1995</th>\n",
       "      <td>1996</td>\n",
       "      <td>0.532239</td>\n",
       "      <td>0.530403</td>\n",
       "      <td>0.504255</td>\n",
       "      <td>0.504255</td>\n",
       "      <td>0.768562</td>\n",
       "      <td>0.876681</td>\n",
       "      <td>0.340715</td>\n",
       "      <td>NaN</td>\n",
       "      <td>1.268337</td>\n",
       "      <td>0.789665</td>\n",
       "      <td>0.789665</td>\n",
       "      <td>0.461019</td>\n",
       "      <td>0.687493</td>\n",
       "      <td>0.551833</td>\n",
       "      <td>0.461424</td>\n",
       "      <td>0.768566</td>\n",
       "      <td>1.266832</td>\n",
       "    </tr>\n",
       "    <tr>\n",
       "      <th>1996</th>\n",
       "      <td>1997</td>\n",
       "      <td>0.531269</td>\n",
       "      <td>0.531876</td>\n",
       "      <td>0.505274</td>\n",
       "      <td>0.505274</td>\n",
       "      <td>0.767919</td>\n",
       "      <td>0.876321</td>\n",
       "      <td>0.343892</td>\n",
       "      <td>NaN</td>\n",
       "      <td>1.244448</td>\n",
       "      <td>0.780277</td>\n",
       "      <td>0.780277</td>\n",
       "      <td>0.471171</td>\n",
       "      <td>0.693046</td>\n",
       "      <td>0.539996</td>\n",
       "      <td>0.471394</td>\n",
       "      <td>0.767921</td>\n",
       "      <td>1.242618</td>\n",
       "    </tr>\n",
       "    <tr>\n",
       "      <th>1997</th>\n",
       "      <td>1998</td>\n",
       "      <td>0.526952</td>\n",
       "      <td>0.528187</td>\n",
       "      <td>0.503978</td>\n",
       "      <td>0.503978</td>\n",
       "      <td>0.769529</td>\n",
       "      <td>0.877230</td>\n",
       "      <td>0.342519</td>\n",
       "      <td>NaN</td>\n",
       "      <td>1.287136</td>\n",
       "      <td>0.796212</td>\n",
       "      <td>0.796212</td>\n",
       "      <td>0.453030</td>\n",
       "      <td>0.685265</td>\n",
       "      <td>0.552001</td>\n",
       "      <td>0.454375</td>\n",
       "      <td>0.769533</td>\n",
       "      <td>1.285202</td>\n",
       "    </tr>\n",
       "    <tr>\n",
       "      <th>1998</th>\n",
       "      <td>1999</td>\n",
       "      <td>0.522988</td>\n",
       "      <td>0.522478</td>\n",
       "      <td>0.502933</td>\n",
       "      <td>0.502933</td>\n",
       "      <td>0.772020</td>\n",
       "      <td>0.878648</td>\n",
       "      <td>0.342291</td>\n",
       "      <td>NaN</td>\n",
       "      <td>1.286750</td>\n",
       "      <td>0.796023</td>\n",
       "      <td>0.796023</td>\n",
       "      <td>0.453194</td>\n",
       "      <td>0.684276</td>\n",
       "      <td>0.561874</td>\n",
       "      <td>0.453452</td>\n",
       "      <td>0.772022</td>\n",
       "      <td>1.284602</td>\n",
       "    </tr>\n",
       "    <tr>\n",
       "      <th>1999</th>\n",
       "      <td>2000</td>\n",
       "      <td>0.534263</td>\n",
       "      <td>0.535272</td>\n",
       "      <td>0.507996</td>\n",
       "      <td>0.507996</td>\n",
       "      <td>0.766437</td>\n",
       "      <td>0.875466</td>\n",
       "      <td>0.347388</td>\n",
       "      <td>NaN</td>\n",
       "      <td>1.278370</td>\n",
       "      <td>0.797291</td>\n",
       "      <td>0.797291</td>\n",
       "      <td>0.456755</td>\n",
       "      <td>0.686443</td>\n",
       "      <td>0.562590</td>\n",
       "      <td>0.457824</td>\n",
       "      <td>0.766438</td>\n",
       "      <td>1.277037</td>\n",
       "    </tr>\n",
       "  </tbody>\n",
       "</table>\n",
       "</div>"
      ],
      "text/plain": [
       "     epoch  Train Loss  Train MSE  Train MAE  Train RMSE  Train R2  \\\n",
       "1995  1996    0.532239   0.530403   0.504255    0.504255  0.768562   \n",
       "1996  1997    0.531269   0.531876   0.505274    0.505274  0.767919   \n",
       "1997  1998    0.526952   0.528187   0.503978    0.503978  0.769529   \n",
       "1998  1999    0.522988   0.522478   0.502933    0.502933  0.772020   \n",
       "1999  2000    0.534263   0.535272   0.507996    0.507996  0.766437   \n",
       "\n",
       "      Train Pearson  Train Median_AE Train Explained_VARVal Loss   Val MSE  \\\n",
       "1995       0.876681         0.340715                         NaN  1.268337   \n",
       "1996       0.876321         0.343892                         NaN  1.244448   \n",
       "1997       0.877230         0.342519                         NaN  1.287136   \n",
       "1998       0.878648         0.342291                         NaN  1.286750   \n",
       "1999       0.875466         0.347388                         NaN  1.278370   \n",
       "\n",
       "       Val MAE  Val RMSE    Val R2  Val Pearson  Val Median_AE  \\\n",
       "1995  0.789665  0.789665  0.461019     0.687493       0.551833   \n",
       "1996  0.780277  0.780277  0.471171     0.693046       0.539996   \n",
       "1997  0.796212  0.796212  0.453030     0.685265       0.552001   \n",
       "1998  0.796023  0.796023  0.453194     0.684276       0.561874   \n",
       "1999  0.797291  0.797291  0.456755     0.686443       0.562590   \n",
       "\n",
       "      Val Explained_VAR  Train Explained_VAR  Val Loss  \n",
       "1995           0.461424             0.768566  1.266832  \n",
       "1996           0.471394             0.767921  1.242618  \n",
       "1997           0.454375             0.769533  1.285202  \n",
       "1998           0.453452             0.772022  1.284602  \n",
       "1999           0.457824             0.766438  1.277037  "
      ]
     },
     "execution_count": 20,
     "metadata": {},
     "output_type": "execute_result"
    }
   ],
   "source": [
    "train_history.tail()"
   ]
  },
  {
   "cell_type": "code",
   "execution_count": null,
   "metadata": {},
   "outputs": [
    {
     "name": "stderr",
     "output_type": "stream",
     "text": [
      "C:\\Users\\youbowei0126\\AppData\\Local\\Temp\\ipykernel_8128\\522745196.py:69: FutureWarning: You are using `torch.load` with `weights_only=False` (the current default value), which uses the default pickle module implicitly. It is possible to construct malicious pickle data which will execute arbitrary code during unpickling (See https://github.com/pytorch/pytorch/blob/main/SECURITY.md#untrusted-models for more details). In a future release, the default value for `weights_only` will be flipped to `True`. This limits the functions that could be executed during unpickling. Arbitrary objects will no longer be allowed to be loaded via this mode unless they are explicitly allowlisted by the user via `torch.serialization.add_safe_globals`. We recommend you start setting `weights_only=True` for any use case where you don't have full control of the loaded file. Please open an issue on GitHub for any issues related to this experimental feature.\n",
      "  model.load_state_dict(torch.load(model_path, map_location=device))\n"
     ]
    },
    {
     "name": "stdout",
     "output_type": "stream",
     "text": [
      "Total dataset predictions completed. Shape: (17010,)\n",
      "Sample predictions: [-0.5923373 -0.4118797 -0.9479051  1.100133   1.5082369]\n"
     ]
    },
    {
     "data": {
      "text/html": [
       "<div>\n",
       "<style scoped>\n",
       "    .dataframe tbody tr th:only-of-type {\n",
       "        vertical-align: middle;\n",
       "    }\n",
       "\n",
       "    .dataframe tbody tr th {\n",
       "        vertical-align: top;\n",
       "    }\n",
       "\n",
       "    .dataframe thead th {\n",
       "        text-align: right;\n",
       "    }\n",
       "</style>\n",
       "<table border=\"1\" class=\"dataframe\">\n",
       "  <thead>\n",
       "    <tr style=\"text-align: right;\">\n",
       "      <th></th>\n",
       "      <th>ECNumber</th>\n",
       "      <th>Organism</th>\n",
       "      <th>Smiles</th>\n",
       "      <th>Substrate</th>\n",
       "      <th>Sequence</th>\n",
       "      <th>Raw Kd</th>\n",
       "      <th>Unit</th>\n",
       "      <th>Log Kd</th>\n",
       "      <th>metabolite_features</th>\n",
       "      <th>protein_features</th>\n",
       "      <th>...</th>\n",
       "      <th>CAT_pred</th>\n",
       "      <th>CNN_pred</th>\n",
       "      <th>GBM_pred</th>\n",
       "      <th>LR_pred</th>\n",
       "      <th>MLP_pred</th>\n",
       "      <th>RF_pred</th>\n",
       "      <th>SVR_pred</th>\n",
       "      <th>TRANS_pred</th>\n",
       "      <th>XBG_pred</th>\n",
       "      <th>Diffusion_pred</th>\n",
       "    </tr>\n",
       "  </thead>\n",
       "  <tbody>\n",
       "    <tr>\n",
       "      <th>0</th>\n",
       "      <td>4.2.3.4</td>\n",
       "      <td>Actinidia chinensis</td>\n",
       "      <td>C(C(C(C(COP(=O)(O)O)O)O)O)C(=O)C(=O)O</td>\n",
       "      <td>3-deoxy-D-arabino-heptulosonic acid 7-phosphate</td>\n",
       "      <td>MAAFSLSAKQILSPSTHRPSLSKTTTADSSLRFRNPHSLSLRCSSL...</td>\n",
       "      <td>20.1000</td>\n",
       "      <td>s^(-1)</td>\n",
       "      <td>1.303196</td>\n",
       "      <td>[0.09045384, -0.6035856, -0.5294743, 0.0703877...</td>\n",
       "      <td>[-0.12646541, -0.15512069, 0.0834027, 0.213126...</td>\n",
       "      <td>...</td>\n",
       "      <td>-0.664597</td>\n",
       "      <td>-1.227315</td>\n",
       "      <td>-0.456274</td>\n",
       "      <td>0.046098</td>\n",
       "      <td>-0.033697</td>\n",
       "      <td>-0.663813</td>\n",
       "      <td>-0.673010</td>\n",
       "      <td>-0.179763</td>\n",
       "      <td>-0.825415</td>\n",
       "      <td>-0.592337</td>\n",
       "    </tr>\n",
       "    <tr>\n",
       "      <th>1</th>\n",
       "      <td>4.2.3.4</td>\n",
       "      <td>Aspergillus nidulans</td>\n",
       "      <td>C(C(C(C(COP(=O)([O-])[O-])O)O)O)C(=O)C(=O)[O-]</td>\n",
       "      <td>3-deoxy-D-arabino-heptulosonate 7-phosphate</td>\n",
       "      <td>MSNPTKISILGRESIIADFGLWRNYVAKDLISDCSSTTYVLVTDTN...</td>\n",
       "      <td>6.8000</td>\n",
       "      <td>s^(-1)</td>\n",
       "      <td>0.832509</td>\n",
       "      <td>[0.4610253, 0.039623156, -0.4662559, 0.4188257...</td>\n",
       "      <td>[-0.10084063, -0.099633686, -0.011382125, 0.10...</td>\n",
       "      <td>...</td>\n",
       "      <td>-0.298970</td>\n",
       "      <td>-0.735445</td>\n",
       "      <td>-0.562968</td>\n",
       "      <td>-0.532851</td>\n",
       "      <td>-0.595165</td>\n",
       "      <td>-0.703961</td>\n",
       "      <td>-0.580186</td>\n",
       "      <td>-0.836762</td>\n",
       "      <td>-0.633082</td>\n",
       "      <td>-0.411880</td>\n",
       "    </tr>\n",
       "    <tr>\n",
       "      <th>2</th>\n",
       "      <td>4.2.3.4</td>\n",
       "      <td>Neurospora crassa</td>\n",
       "      <td>C(C(C(C(COP(=O)(O)O)O)O)O)C(=O)C(=O)O</td>\n",
       "      <td>3-deoxy-D-arabino-heptulosonic acid 7-phosphate</td>\n",
       "      <td>MAEPISNPTRINILGKDNIIIDHGIWLNFVAQDLLQNIKSSTYILI...</td>\n",
       "      <td>19.0000</td>\n",
       "      <td>s^(-1)</td>\n",
       "      <td>1.278754</td>\n",
       "      <td>[0.09045384, -0.6035856, -0.5294743, 0.0703877...</td>\n",
       "      <td>[-0.12705962, -0.09898393, 0.0041820942, 0.096...</td>\n",
       "      <td>...</td>\n",
       "      <td>-0.836997</td>\n",
       "      <td>-1.242703</td>\n",
       "      <td>-0.699874</td>\n",
       "      <td>-0.381774</td>\n",
       "      <td>-0.972310</td>\n",
       "      <td>-1.196758</td>\n",
       "      <td>-0.705667</td>\n",
       "      <td>-1.218392</td>\n",
       "      <td>-0.867747</td>\n",
       "      <td>-0.947905</td>\n",
       "    </tr>\n",
       "    <tr>\n",
       "      <th>3</th>\n",
       "      <td>2.1.1.255</td>\n",
       "      <td>Streptomyces coelicolor</td>\n",
       "      <td>C[S+](CCC(C(=O)[O-])N)CC1C(C(C(O1)N2C=NC3=C(N=...</td>\n",
       "      <td>S-Adenosyl-L-methionine</td>\n",
       "      <td>MTTETTTATATAKIPAPATPYQEDIARYWNNEARPVNLRLGDVDGL...</td>\n",
       "      <td>0.0075</td>\n",
       "      <td>s^(-1)</td>\n",
       "      <td>-2.124939</td>\n",
       "      <td>[0.52348095, -0.18665986, -0.39555183, 0.11716...</td>\n",
       "      <td>[0.0015065962, -0.087554656, -0.014490904, -0....</td>\n",
       "      <td>...</td>\n",
       "      <td>1.427049</td>\n",
       "      <td>0.659172</td>\n",
       "      <td>0.767883</td>\n",
       "      <td>0.932206</td>\n",
       "      <td>1.383574</td>\n",
       "      <td>0.971980</td>\n",
       "      <td>0.942095</td>\n",
       "      <td>1.131406</td>\n",
       "      <td>1.205323</td>\n",
       "      <td>1.100133</td>\n",
       "    </tr>\n",
       "    <tr>\n",
       "      <th>4</th>\n",
       "      <td>2.1.1.255</td>\n",
       "      <td>Streptomyces coelicolor</td>\n",
       "      <td>CC(=CCCC(=C(C)COP(=O)(O)OP(=O)(O)O)C)C</td>\n",
       "      <td>(E)-2-Methylgeranyl diphosphate</td>\n",
       "      <td>MTTETTTATATAKIPAPATPYQEDIARYWNNEARPVNLRLGDVDGL...</td>\n",
       "      <td>0.0390</td>\n",
       "      <td>s^(-1)</td>\n",
       "      <td>-1.408935</td>\n",
       "      <td>[0.17630623, -0.4595529, -0.6368343, -0.136045...</td>\n",
       "      <td>[0.0015065962, -0.087554656, -0.014490904, -0....</td>\n",
       "      <td>...</td>\n",
       "      <td>0.783579</td>\n",
       "      <td>1.170299</td>\n",
       "      <td>0.016693</td>\n",
       "      <td>0.681809</td>\n",
       "      <td>1.515772</td>\n",
       "      <td>1.115315</td>\n",
       "      <td>0.677234</td>\n",
       "      <td>1.417521</td>\n",
       "      <td>1.013881</td>\n",
       "      <td>1.508237</td>\n",
       "    </tr>\n",
       "    <tr>\n",
       "      <th>...</th>\n",
       "      <td>...</td>\n",
       "      <td>...</td>\n",
       "      <td>...</td>\n",
       "      <td>...</td>\n",
       "      <td>...</td>\n",
       "      <td>...</td>\n",
       "      <td>...</td>\n",
       "      <td>...</td>\n",
       "      <td>...</td>\n",
       "      <td>...</td>\n",
       "      <td>...</td>\n",
       "      <td>...</td>\n",
       "      <td>...</td>\n",
       "      <td>...</td>\n",
       "      <td>...</td>\n",
       "      <td>...</td>\n",
       "      <td>...</td>\n",
       "      <td>...</td>\n",
       "      <td>...</td>\n",
       "      <td>...</td>\n",
       "      <td>...</td>\n",
       "    </tr>\n",
       "    <tr>\n",
       "      <th>17005</th>\n",
       "      <td>1.1.1.82</td>\n",
       "      <td>Zea mays</td>\n",
       "      <td>C1C=CN(C=C1C(=O)N)C2C(C(C(O2)COP(=O)(O)OP(=O)(...</td>\n",
       "      <td>NADPH</td>\n",
       "      <td>MGLSTVYSPAGPRLVPAPLGRCRSAQPRRPRRAPLATVRCSVDATK...</td>\n",
       "      <td>955.0000</td>\n",
       "      <td>s^(-1)</td>\n",
       "      <td>2.980003</td>\n",
       "      <td>[0.36284313, -0.21340896, -0.8913718, -0.23485...</td>\n",
       "      <td>[0.039386757, -0.04558141, 0.101506, 0.1012840...</td>\n",
       "      <td>...</td>\n",
       "      <td>-1.987372</td>\n",
       "      <td>-2.852437</td>\n",
       "      <td>-1.338873</td>\n",
       "      <td>-1.303237</td>\n",
       "      <td>-2.799196</td>\n",
       "      <td>-2.386986</td>\n",
       "      <td>-1.271998</td>\n",
       "      <td>-3.045460</td>\n",
       "      <td>-1.665534</td>\n",
       "      <td>-2.681252</td>\n",
       "    </tr>\n",
       "    <tr>\n",
       "      <th>17006</th>\n",
       "      <td>1.1.1.82</td>\n",
       "      <td>Zea mays</td>\n",
       "      <td>C(C(C(=O)O)O)C(=O)O</td>\n",
       "      <td>L-Malate</td>\n",
       "      <td>MGLSTVYSPAGPRLVPAPLGRCRSAQPRRPRRAPLATVRCSVDATK...</td>\n",
       "      <td>2.9000</td>\n",
       "      <td>s^(-1)</td>\n",
       "      <td>0.462398</td>\n",
       "      <td>[0.045168612, -0.31311044, -0.21087039, -0.292...</td>\n",
       "      <td>[0.039386757, -0.04558141, 0.101506, 0.1012840...</td>\n",
       "      <td>...</td>\n",
       "      <td>-1.656514</td>\n",
       "      <td>-1.883750</td>\n",
       "      <td>-1.248562</td>\n",
       "      <td>-1.116988</td>\n",
       "      <td>-2.273174</td>\n",
       "      <td>-1.641825</td>\n",
       "      <td>-1.042858</td>\n",
       "      <td>-0.846384</td>\n",
       "      <td>-1.593849</td>\n",
       "      <td>-0.649600</td>\n",
       "    </tr>\n",
       "    <tr>\n",
       "      <th>17007</th>\n",
       "      <td>1.1.1.82</td>\n",
       "      <td>Zea mays</td>\n",
       "      <td>C1=CC(=C[N+](=C1)C2C(C(C(O2)COP(=O)(O)OP(=O)(O...</td>\n",
       "      <td>NADP+</td>\n",
       "      <td>MGLSTVYSPAGPRLVPAPLGRCRSAQPRRPRRAPLATVRCSVDATK...</td>\n",
       "      <td>2.9000</td>\n",
       "      <td>s^(-1)</td>\n",
       "      <td>0.462398</td>\n",
       "      <td>[0.18913552, -0.06542938, -0.8761325, 0.133454...</td>\n",
       "      <td>[0.039386757, -0.04558141, 0.101506, 0.1012840...</td>\n",
       "      <td>...</td>\n",
       "      <td>-1.541640</td>\n",
       "      <td>-0.925752</td>\n",
       "      <td>-1.236483</td>\n",
       "      <td>-1.220809</td>\n",
       "      <td>-0.321132</td>\n",
       "      <td>-0.831630</td>\n",
       "      <td>-1.006784</td>\n",
       "      <td>-0.464352</td>\n",
       "      <td>-1.597621</td>\n",
       "      <td>-0.617474</td>\n",
       "    </tr>\n",
       "    <tr>\n",
       "      <th>17008</th>\n",
       "      <td>1.1.1.82</td>\n",
       "      <td>Spinacia oleracea</td>\n",
       "      <td>C(C(C(=O)O)O)C(=O)O</td>\n",
       "      <td>L-Malate</td>\n",
       "      <td>MAVAELSPCYQTQIVKPPHLSWLSNNHKLNLLGLPKASRITEICCS...</td>\n",
       "      <td>6.7000</td>\n",
       "      <td>s^(-1)</td>\n",
       "      <td>0.826075</td>\n",
       "      <td>[0.045168612, -0.31311044, -0.21087039, -0.292...</td>\n",
       "      <td>[0.029217303, -0.08372673, 0.0883128, 0.147737...</td>\n",
       "      <td>...</td>\n",
       "      <td>-0.926702</td>\n",
       "      <td>-1.843686</td>\n",
       "      <td>-1.031461</td>\n",
       "      <td>-0.986014</td>\n",
       "      <td>-0.721271</td>\n",
       "      <td>-1.044259</td>\n",
       "      <td>-1.028191</td>\n",
       "      <td>-0.905862</td>\n",
       "      <td>-1.314823</td>\n",
       "      <td>-0.990068</td>\n",
       "    </tr>\n",
       "    <tr>\n",
       "      <th>17009</th>\n",
       "      <td>1.1.1.82</td>\n",
       "      <td>Spinacia oleracea</td>\n",
       "      <td>C1=CC(=C[N+](=C1)C2C(C(C(O2)COP(=O)(O)OP(=O)(O...</td>\n",
       "      <td>NADP+</td>\n",
       "      <td>MAVAELSPCYQTQIVKPPHLSWLSNNHKLNLLGLPKASRITEICCS...</td>\n",
       "      <td>6.0000</td>\n",
       "      <td>s^(-1)</td>\n",
       "      <td>0.778151</td>\n",
       "      <td>[0.18913552, -0.06542938, -0.8761325, 0.133454...</td>\n",
       "      <td>[0.029217303, -0.08372673, 0.0883128, 0.147737...</td>\n",
       "      <td>...</td>\n",
       "      <td>-0.999913</td>\n",
       "      <td>-0.633673</td>\n",
       "      <td>-1.006355</td>\n",
       "      <td>-1.089828</td>\n",
       "      <td>-0.742960</td>\n",
       "      <td>-0.765904</td>\n",
       "      <td>-1.063951</td>\n",
       "      <td>-0.702323</td>\n",
       "      <td>-1.048869</td>\n",
       "      <td>-0.625361</td>\n",
       "    </tr>\n",
       "  </tbody>\n",
       "</table>\n",
       "<p>17010 rows × 21 columns</p>\n",
       "</div>"
      ],
      "text/plain": [
       "        ECNumber                 Organism  \\\n",
       "0        4.2.3.4      Actinidia chinensis   \n",
       "1        4.2.3.4     Aspergillus nidulans   \n",
       "2        4.2.3.4        Neurospora crassa   \n",
       "3      2.1.1.255  Streptomyces coelicolor   \n",
       "4      2.1.1.255  Streptomyces coelicolor   \n",
       "...          ...                      ...   \n",
       "17005   1.1.1.82                 Zea mays   \n",
       "17006   1.1.1.82                 Zea mays   \n",
       "17007   1.1.1.82                 Zea mays   \n",
       "17008   1.1.1.82        Spinacia oleracea   \n",
       "17009   1.1.1.82        Spinacia oleracea   \n",
       "\n",
       "                                                  Smiles  \\\n",
       "0                  C(C(C(C(COP(=O)(O)O)O)O)O)C(=O)C(=O)O   \n",
       "1         C(C(C(C(COP(=O)([O-])[O-])O)O)O)C(=O)C(=O)[O-]   \n",
       "2                  C(C(C(C(COP(=O)(O)O)O)O)O)C(=O)C(=O)O   \n",
       "3      C[S+](CCC(C(=O)[O-])N)CC1C(C(C(O1)N2C=NC3=C(N=...   \n",
       "4                 CC(=CCCC(=C(C)COP(=O)(O)OP(=O)(O)O)C)C   \n",
       "...                                                  ...   \n",
       "17005  C1C=CN(C=C1C(=O)N)C2C(C(C(O2)COP(=O)(O)OP(=O)(...   \n",
       "17006                                C(C(C(=O)O)O)C(=O)O   \n",
       "17007  C1=CC(=C[N+](=C1)C2C(C(C(O2)COP(=O)(O)OP(=O)(O...   \n",
       "17008                                C(C(C(=O)O)O)C(=O)O   \n",
       "17009  C1=CC(=C[N+](=C1)C2C(C(C(O2)COP(=O)(O)OP(=O)(O...   \n",
       "\n",
       "                                             Substrate  \\\n",
       "0      3-deoxy-D-arabino-heptulosonic acid 7-phosphate   \n",
       "1          3-deoxy-D-arabino-heptulosonate 7-phosphate   \n",
       "2      3-deoxy-D-arabino-heptulosonic acid 7-phosphate   \n",
       "3                              S-Adenosyl-L-methionine   \n",
       "4                      (E)-2-Methylgeranyl diphosphate   \n",
       "...                                                ...   \n",
       "17005                                            NADPH   \n",
       "17006                                         L-Malate   \n",
       "17007                                            NADP+   \n",
       "17008                                         L-Malate   \n",
       "17009                                            NADP+   \n",
       "\n",
       "                                                Sequence    Raw Kd    Unit  \\\n",
       "0      MAAFSLSAKQILSPSTHRPSLSKTTTADSSLRFRNPHSLSLRCSSL...   20.1000  s^(-1)   \n",
       "1      MSNPTKISILGRESIIADFGLWRNYVAKDLISDCSSTTYVLVTDTN...    6.8000  s^(-1)   \n",
       "2      MAEPISNPTRINILGKDNIIIDHGIWLNFVAQDLLQNIKSSTYILI...   19.0000  s^(-1)   \n",
       "3      MTTETTTATATAKIPAPATPYQEDIARYWNNEARPVNLRLGDVDGL...    0.0075  s^(-1)   \n",
       "4      MTTETTTATATAKIPAPATPYQEDIARYWNNEARPVNLRLGDVDGL...    0.0390  s^(-1)   \n",
       "...                                                  ...       ...     ...   \n",
       "17005  MGLSTVYSPAGPRLVPAPLGRCRSAQPRRPRRAPLATVRCSVDATK...  955.0000  s^(-1)   \n",
       "17006  MGLSTVYSPAGPRLVPAPLGRCRSAQPRRPRRAPLATVRCSVDATK...    2.9000  s^(-1)   \n",
       "17007  MGLSTVYSPAGPRLVPAPLGRCRSAQPRRPRRAPLATVRCSVDATK...    2.9000  s^(-1)   \n",
       "17008  MAVAELSPCYQTQIVKPPHLSWLSNNHKLNLLGLPKASRITEICCS...    6.7000  s^(-1)   \n",
       "17009  MAVAELSPCYQTQIVKPPHLSWLSNNHKLNLLGLPKASRITEICCS...    6.0000  s^(-1)   \n",
       "\n",
       "         Log Kd                                metabolite_features  \\\n",
       "0      1.303196  [0.09045384, -0.6035856, -0.5294743, 0.0703877...   \n",
       "1      0.832509  [0.4610253, 0.039623156, -0.4662559, 0.4188257...   \n",
       "2      1.278754  [0.09045384, -0.6035856, -0.5294743, 0.0703877...   \n",
       "3     -2.124939  [0.52348095, -0.18665986, -0.39555183, 0.11716...   \n",
       "4     -1.408935  [0.17630623, -0.4595529, -0.6368343, -0.136045...   \n",
       "...         ...                                                ...   \n",
       "17005  2.980003  [0.36284313, -0.21340896, -0.8913718, -0.23485...   \n",
       "17006  0.462398  [0.045168612, -0.31311044, -0.21087039, -0.292...   \n",
       "17007  0.462398  [0.18913552, -0.06542938, -0.8761325, 0.133454...   \n",
       "17008  0.826075  [0.045168612, -0.31311044, -0.21087039, -0.292...   \n",
       "17009  0.778151  [0.18913552, -0.06542938, -0.8761325, 0.133454...   \n",
       "\n",
       "                                        protein_features  ...  CAT_pred  \\\n",
       "0      [-0.12646541, -0.15512069, 0.0834027, 0.213126...  ... -0.664597   \n",
       "1      [-0.10084063, -0.099633686, -0.011382125, 0.10...  ... -0.298970   \n",
       "2      [-0.12705962, -0.09898393, 0.0041820942, 0.096...  ... -0.836997   \n",
       "3      [0.0015065962, -0.087554656, -0.014490904, -0....  ...  1.427049   \n",
       "4      [0.0015065962, -0.087554656, -0.014490904, -0....  ...  0.783579   \n",
       "...                                                  ...  ...       ...   \n",
       "17005  [0.039386757, -0.04558141, 0.101506, 0.1012840...  ... -1.987372   \n",
       "17006  [0.039386757, -0.04558141, 0.101506, 0.1012840...  ... -1.656514   \n",
       "17007  [0.039386757, -0.04558141, 0.101506, 0.1012840...  ... -1.541640   \n",
       "17008  [0.029217303, -0.08372673, 0.0883128, 0.147737...  ... -0.926702   \n",
       "17009  [0.029217303, -0.08372673, 0.0883128, 0.147737...  ... -0.999913   \n",
       "\n",
       "       CNN_pred  GBM_pred   LR_pred  MLP_pred   RF_pred  SVR_pred  TRANS_pred  \\\n",
       "0     -1.227315 -0.456274  0.046098 -0.033697 -0.663813 -0.673010   -0.179763   \n",
       "1     -0.735445 -0.562968 -0.532851 -0.595165 -0.703961 -0.580186   -0.836762   \n",
       "2     -1.242703 -0.699874 -0.381774 -0.972310 -1.196758 -0.705667   -1.218392   \n",
       "3      0.659172  0.767883  0.932206  1.383574  0.971980  0.942095    1.131406   \n",
       "4      1.170299  0.016693  0.681809  1.515772  1.115315  0.677234    1.417521   \n",
       "...         ...       ...       ...       ...       ...       ...         ...   \n",
       "17005 -2.852437 -1.338873 -1.303237 -2.799196 -2.386986 -1.271998   -3.045460   \n",
       "17006 -1.883750 -1.248562 -1.116988 -2.273174 -1.641825 -1.042858   -0.846384   \n",
       "17007 -0.925752 -1.236483 -1.220809 -0.321132 -0.831630 -1.006784   -0.464352   \n",
       "17008 -1.843686 -1.031461 -0.986014 -0.721271 -1.044259 -1.028191   -0.905862   \n",
       "17009 -0.633673 -1.006355 -1.089828 -0.742960 -0.765904 -1.063951   -0.702323   \n",
       "\n",
       "       XBG_pred  Diffusion_pred  \n",
       "0     -0.825415       -0.592337  \n",
       "1     -0.633082       -0.411880  \n",
       "2     -0.867747       -0.947905  \n",
       "3      1.205323        1.100133  \n",
       "4      1.013881        1.508237  \n",
       "...         ...             ...  \n",
       "17005 -1.665534       -2.681252  \n",
       "17006 -1.593849       -0.649600  \n",
       "17007 -1.597621       -0.617474  \n",
       "17008 -1.314823       -0.990068  \n",
       "17009 -1.048869       -0.625361  \n",
       "\n",
       "[17010 rows x 21 columns]"
      ]
     },
     "execution_count": 21,
     "metadata": {},
     "output_type": "execute_result"
    },
    {
     "ename": "",
     "evalue": "",
     "output_type": "error",
     "traceback": [
      "\u001b[1;31mThe Kernel crashed while executing code in the current cell or a previous cell. \n",
      "\u001b[1;31mPlease review the code in the cell(s) to identify a possible cause of the failure. \n",
      "\u001b[1;31mClick <a href='https://aka.ms/vscodeJupyterKernelCrash'>here</a> for more info. \n",
      "\u001b[1;31mView Jupyter <a href='command:jupyter.viewOutput'>log</a> for further details."
     ]
    }
   ],
   "source": [
    "import torch\n",
    "import numpy as np\n",
    "import random\n",
    "import os\n",
    "import joblib\n",
    "\n",
    "# Set random seed for reproducibility\n",
    "def set_random_seed(seed=42):\n",
    "    torch.manual_seed(seed)\n",
    "    np.random.seed(seed)\n",
    "    random.seed(seed)\n",
    "\n",
    "def get_predictions(model, loader, config, device):\n",
    "    \"\"\"\n",
    "    Get predictions from the diffusion model\n",
    "    \"\"\"\n",
    "    all_predictions = []\n",
    "    all_labels = []\n",
    "    \n",
    "    with torch.no_grad():\n",
    "        for batch in loader:\n",
    "            mol_features = batch[\"metabolite_features\"].to(device)\n",
    "            protein_features = batch[\"protein_features\"].to(device)\n",
    "            labels = batch[\"label\"].cpu().numpy()\n",
    "\n",
    "            # Add noise to the features (same as training)\n",
    "            noisy_mol_features = model.add_noise(mol_features, noise_level=config[\"noise_level\"])\n",
    "            noisy_protein_features = model.add_noise(protein_features, noise_level=config[\"noise_level\"])\n",
    "\n",
    "            # Generate predictions\n",
    "            predictions = model(\n",
    "                noisy_mol_features,\n",
    "                noisy_protein_features,\n",
    "                torch.randint(0, config[\"num_timesteps\"], (mol_features.size(0),)).to(device),\n",
    "            )\n",
    "            \n",
    "            all_predictions.extend(predictions.cpu().numpy().flatten())\n",
    "            all_labels.extend(labels)\n",
    "    \n",
    "    return np.array(all_predictions), np.array(all_labels)\n",
    "\n",
    "# Set random seed\n",
    "set_random_seed(42)\n",
    "\n",
    "# Define model configuration (same as training)\n",
    "config = {\n",
    "    \"noise_level\": 0.1,\n",
    "    \"num_timesteps\": 10,  # Same as training (num_timesteps = 10)\n",
    "    \"hidden_dim\": 512,\n",
    "    \"mol_input_dim\": mol_input_dim,\n",
    "    \"protein_input_dim\": protein_input_dim\n",
    "}\n",
    "\n",
    "# Load the trained model\n",
    "device = torch.device(\"cuda\" if torch.cuda.is_available() else \"cpu\")\n",
    "model_path = \"./../../trained_model/random_split/Diffusion model.pt\"\n",
    "\n",
    "# Initialize model with same parameters as training\n",
    "set_random_seed(42)\n",
    "\n",
    "model = DiffusionGenerativeModel(\n",
    "    mol_input_dim=mol_input_dim,\n",
    "    protein_input_dim=protein_input_dim,\n",
    "    hidden_dim=512,\n",
    "    num_timesteps=10,  # Same as training\n",
    ")\n",
    "\n",
    "# Load model weights\n",
    "model.load_state_dict(torch.load(model_path, map_location=device))\n",
    "model = model.to(device)\n",
    "model.eval()\n",
    "\n",
    "# Get predictions for total dataset\n",
    "predictions, labels = get_predictions(model, total_loader, config, device)\n",
    "\n",
    "# Add predictions to your DataFrame\n",
    "if os.path.exists('data_with_pred.joblib'):\n",
    "    data_with_pred = joblib.load('data_with_pred.joblib')\n",
    "else:\n",
    "    data_with_pred = data.copy()\n",
    "\n",
    "data_with_pred['Diffusion_pred'] = predictions\n",
    "joblib.dump(data_with_pred, 'data_with_pred.joblib')\n",
    "\n",
    "print(f\"Total dataset predictions completed. Shape: {predictions.shape}\")\n",
    "print(f\"Sample predictions: {predictions[:5]}\")\n",
    "data_with_pred"
   ]
  },
  {
   "cell_type": "code",
   "execution_count": null,
   "metadata": {},
   "outputs": [],
   "source": []
  }
 ],
 "metadata": {
  "kernelspec": {
   "display_name": "conda_venv_2",
   "language": "python",
   "name": "python3"
  },
  "language_info": {
   "codemirror_mode": {
    "name": "ipython",
    "version": 3
   },
   "file_extension": ".py",
   "mimetype": "text/x-python",
   "name": "python",
   "nbconvert_exporter": "python",
   "pygments_lexer": "ipython3",
   "version": "3.12.11"
  }
 },
 "nbformat": 4,
 "nbformat_minor": 2
}
